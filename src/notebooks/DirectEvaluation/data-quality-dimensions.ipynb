{
 "cells": [
  {
   "cell_type": "code",
   "execution_count": 1,
   "id": "215cc0a2",
   "metadata": {
    "execution": {
     "iopub.execute_input": "2025-07-07T09:25:56.280746Z",
     "iopub.status.busy": "2025-07-07T09:25:56.280421Z",
     "iopub.status.idle": "2025-07-07T09:25:56.287932Z",
     "shell.execute_reply": "2025-07-07T09:25:56.287073Z"
    },
    "papermill": {
     "duration": 0.020933,
     "end_time": "2025-07-07T09:25:56.289489",
     "exception": false,
     "start_time": "2025-07-07T09:25:56.268556",
     "status": "completed"
    },
    "tags": []
   },
   "outputs": [],
   "source": [
    "import os\n",
    "os.environ[\"PYDEVD_DISABLE_FILE_VALIDATION\"] = \"1\""
   ]
  },
  {
   "cell_type": "code",
   "execution_count": 2,
   "id": "019350e0",
   "metadata": {
    "_cell_guid": "b1076dfc-b9ad-4769-8c92-a6c4dae69d19",
    "_uuid": "8f2839f25d086af736a60e9eeb907d3b93b6e0e5",
    "execution": {
     "iopub.execute_input": "2025-07-07T09:25:56.310123Z",
     "iopub.status.busy": "2025-07-07T09:25:56.309752Z",
     "iopub.status.idle": "2025-07-07T09:25:58.280401Z",
     "shell.execute_reply": "2025-07-07T09:25:58.279444Z"
    },
    "papermill": {
     "duration": 1.98295,
     "end_time": "2025-07-07T09:25:58.281994",
     "exception": false,
     "start_time": "2025-07-07T09:25:56.299044",
     "status": "completed"
    },
    "tags": []
   },
   "outputs": [
    {
     "name": "stdout",
     "output_type": "stream",
     "text": [
      "/kaggle/input/dataver2/__results__.html\n",
      "/kaggle/input/dataver2/data_ver2.h5\n",
      "/kaggle/input/dataver2/__notebook__.ipynb\n",
      "/kaggle/input/dataver2/__output__.json\n",
      "/kaggle/input/dataver2/custom.css\n",
      "/kaggle/input/dataver3/dataver3.h5\n",
      "/kaggle/input/dataver3/__results__.html\n",
      "/kaggle/input/dataver3/__notebook__.ipynb\n",
      "/kaggle/input/dataver3/__output__.json\n",
      "/kaggle/input/dataver3/custom.css\n",
      "/kaggle/input/combine-data/combine_data.h5\n"
     ]
    }
   ],
   "source": [
    "# This Python 3 environment comes with many helpful analytics libraries installed\n",
    "# It is defined by the kaggle/python Docker image: https://github.com/kaggle/docker-python\n",
    "# For example, here's several helpful packages to load\n",
    "\n",
    "import numpy as np # linear algebra\n",
    "import pandas as pd # data processing, CSV file I/O (e.g. pd.read_csv)\n",
    "\n",
    "# Input data files are available in the read-only \"../input/\" directory\n",
    "# For example, running this (by clicking run or pressing Shift+Enter) will list all files under the input directory\n",
    "\n",
    "import os\n",
    "for dirname, _, filenames in os.walk('/kaggle/input'):\n",
    "    for filename in filenames:\n",
    "        print(os.path.join(dirname, filename))\n",
    "\n",
    "# You can write up to 20GB to the current directory (/kaggle/working/) that gets preserved as output when you create a version using \"Save & Run All\" \n",
    "# You can also write temporary files to /kaggle/temp/, but they won't be saved outside of the current session"
   ]
  },
  {
   "cell_type": "code",
   "execution_count": 3,
   "id": "2dd58e3e",
   "metadata": {
    "execution": {
     "iopub.execute_input": "2025-07-07T09:25:58.301705Z",
     "iopub.status.busy": "2025-07-07T09:25:58.301259Z",
     "iopub.status.idle": "2025-07-07T09:25:58.306001Z",
     "shell.execute_reply": "2025-07-07T09:25:58.304949Z"
    },
    "papermill": {
     "duration": 0.016344,
     "end_time": "2025-07-07T09:25:58.307585",
     "exception": false,
     "start_time": "2025-07-07T09:25:58.291241",
     "status": "completed"
    },
    "tags": []
   },
   "outputs": [],
   "source": [
    "# Thiết lập để hiển thị tối đa số cột (None có nghĩa là không giới hạn)\n",
    "pd.set_option('display.max_columns', None)\n",
    "\n",
    "# Thiết lập để hiển thị toàn bộ chiều rộng cột (tùy chọn)\n",
    "pd.set_option('display.width', None)"
   ]
  },
  {
   "cell_type": "markdown",
   "id": "0b2c5d2f",
   "metadata": {
    "papermill": {
     "duration": 0.008887,
     "end_time": "2025-07-07T09:25:58.325696",
     "exception": false,
     "start_time": "2025-07-07T09:25:58.316809",
     "status": "completed"
    },
    "tags": []
   },
   "source": [
    "# Direct Evalutation"
   ]
  },
  {
   "cell_type": "markdown",
   "id": "f73a6cd1",
   "metadata": {
    "papermill": {
     "duration": 0.009246,
     "end_time": "2025-07-07T09:25:58.343983",
     "exception": false,
     "start_time": "2025-07-07T09:25:58.334737",
     "status": "completed"
    },
    "tags": []
   },
   "source": [
    "## Completeness"
   ]
  },
  {
   "cell_type": "markdown",
   "id": "dafab0fb",
   "metadata": {
    "papermill": {
     "duration": 0.008873,
     "end_time": "2025-07-07T09:25:58.361934",
     "exception": false,
     "start_time": "2025-07-07T09:25:58.353061",
     "status": "completed"
    },
    "tags": []
   },
   "source": [
    "* Độ đầy đủ: Dữ liệu phải chứa tất cả các thông tin cần thiết, không được thiếu các yếu tố quan trọng.\n",
    "   \n",
    "* Ý tưởng đo lường: Được tính bằng tỷ lệ giữa số lượng giá trị hợp lệ (không bị thiếu) và tổng số giá \n",
    "trị kỳ vọng."
   ]
  },
  {
   "cell_type": "markdown",
   "id": "09a5bfe4",
   "metadata": {
    "papermill": {
     "duration": 0.008744,
     "end_time": "2025-07-07T09:25:58.379613",
     "exception": false,
     "start_time": "2025-07-07T09:25:58.370869",
     "status": "completed"
    },
    "tags": []
   },
   "source": [
    "### Completeness theo object"
   ]
  },
  {
   "cell_type": "code",
   "execution_count": 4,
   "id": "fd4f1da1",
   "metadata": {
    "execution": {
     "iopub.execute_input": "2025-07-07T09:25:58.402172Z",
     "iopub.status.busy": "2025-07-07T09:25:58.401837Z",
     "iopub.status.idle": "2025-07-07T09:25:58.406258Z",
     "shell.execute_reply": "2025-07-07T09:25:58.405270Z"
    },
    "papermill": {
     "duration": 0.018318,
     "end_time": "2025-07-07T09:25:58.407861",
     "exception": false,
     "start_time": "2025-07-07T09:25:58.389543",
     "status": "completed"
    },
    "tags": []
   },
   "outputs": [],
   "source": [
    "# combine_data.drop(columns=['row_completeness'], inplace=True)"
   ]
  },
  {
   "cell_type": "code",
   "execution_count": 5,
   "id": "6d4c8cd1",
   "metadata": {
    "execution": {
     "iopub.execute_input": "2025-07-07T09:25:58.428305Z",
     "iopub.status.busy": "2025-07-07T09:25:58.427971Z",
     "iopub.status.idle": "2025-07-07T09:25:58.469225Z",
     "shell.execute_reply": "2025-07-07T09:25:58.468346Z"
    },
    "papermill": {
     "duration": 0.053605,
     "end_time": "2025-07-07T09:25:58.470987",
     "exception": false,
     "start_time": "2025-07-07T09:25:58.417382",
     "status": "completed"
    },
    "tags": []
   },
   "outputs": [],
   "source": [
    "import pandas as pd\n",
    "import numpy as np\n",
    "from tqdm import tqdm\n",
    "\n",
    "tqdm.pandas()\n",
    "\n",
    "# Hàm kiểm tra giá trị thiếu (cho cả scalar và list)\n",
    "def is_missing_value(x):\n",
    "    missing_vals = [None, \"\", \" \", \"NULL\", \"null\", \"N/A\", np.nan, \"none\", \"nan\"]\n",
    "    if isinstance(x, list):\n",
    "        return len(x) == 0 or any(item in missing_vals or pd.isna(item) for item in x)\n",
    "    return x in missing_vals or pd.isna(x)\n",
    "\n",
    "# Tính completeness cho một hàng\n",
    "def compute_row_completeness(row):\n",
    "    total = len(row)\n",
    "    non_missing = sum(not is_missing_value(val) for val in row)\n",
    "    return (non_missing / total) * 100 if total > 0 else 0\n",
    "\n",
    "# Hàm chính để thêm cột completeness + in ra trung bình toàn bộ\n",
    "def calc_completeness(df, new_col_name=\"row_completeness\", round_ndigits=2, verbose=True):\n",
    "    df = df.copy()  # tránh thay đổi gốc\n",
    "    df[new_col_name] = df.progress_apply(\n",
    "        lambda row: round(compute_row_completeness(row), round_ndigits), axis=1\n",
    "    )\n",
    "\n",
    "    if verbose:\n",
    "        completeness_overall = df[new_col_name].mean()\n",
    "        print(f\"✅ Giá trị completeness trung bình của dataset là: {completeness_overall:.2f}%\")\n",
    "    \n",
    "    return df"
   ]
  },
  {
   "cell_type": "markdown",
   "id": "c5257011",
   "metadata": {
    "papermill": {
     "duration": 0.009193,
     "end_time": "2025-07-07T09:25:58.489893",
     "exception": false,
     "start_time": "2025-07-07T09:25:58.480700",
     "status": "completed"
    },
    "tags": []
   },
   "source": [
    "### Completeness toàn bộ dataset"
   ]
  },
  {
   "cell_type": "code",
   "execution_count": 6,
   "id": "f13a3834",
   "metadata": {
    "execution": {
     "iopub.execute_input": "2025-07-07T09:25:58.508866Z",
     "iopub.status.busy": "2025-07-07T09:25:58.508579Z",
     "iopub.status.idle": "2025-07-07T09:25:58.512777Z",
     "shell.execute_reply": "2025-07-07T09:25:58.511961Z"
    },
    "papermill": {
     "duration": 0.015362,
     "end_time": "2025-07-07T09:25:58.514193",
     "exception": false,
     "start_time": "2025-07-07T09:25:58.498831",
     "status": "completed"
    },
    "tags": []
   },
   "outputs": [],
   "source": [
    "# dataset_ver1 = calc_completeness(combine_data)"
   ]
  },
  {
   "cell_type": "markdown",
   "id": "021975f2",
   "metadata": {
    "papermill": {
     "duration": 0.008694,
     "end_time": "2025-07-07T09:25:58.531940",
     "exception": false,
     "start_time": "2025-07-07T09:25:58.523246",
     "status": "completed"
    },
    "tags": []
   },
   "source": [
    "## Consistency"
   ]
  },
  {
   "cell_type": "markdown",
   "id": "7bbce447",
   "metadata": {
    "papermill": {
     "duration": 0.008619,
     "end_time": "2025-07-07T09:25:58.549462",
     "exception": false,
     "start_time": "2025-07-07T09:25:58.540843",
     "status": "completed"
    },
    "tags": []
   },
   "source": [
    "* Tính nhất quán: Dữ liệu phải đồng nhất giữa các nguồn và hệ thống khác nhau, không có xung đột \n",
    "hoặc trùng lặp. \n",
    "* Ý tưởng đo lường: Được tính bằng tỷ lệ giữa số lượng điều kiện hợp lệ và tổng số điều kiện cần kiểm tra. \n",
    "\n",
    "Consistency theo Object: Là tỷ lệ giữa số lượng điều kiện hợp lệ trong object và tổng số điều kiện cần kiểm tra. \n",
    "\n",
    "Các loại kiểm tra tính hợp lệ cơ bản:\n",
    "* Miền giá trị (Domain Range): Giá trị nằm trong một khoảng nhất định\n",
    "* Dữ liệu không rỗng (Non-null): Không được để trống\n",
    "* Loại dữ liệu (Data Type): Phải thuộc kiểu dữ liệu nhất định\n",
    "* Ràng buộc logic (Logical Constraints): Giá trị phải thỏa mãn một điều kiện logic\n",
    "* Tính duy nhất (Uniqueness): Giá trị không trùng lặp trong tập dữ liệu\n",
    "* Tính khóa ngoại (Foreign Key Integrity): Giá trị phải tồn tại trong một danh sách hợp lệ. "
   ]
  },
  {
   "cell_type": "markdown",
   "id": "2eb7c89b",
   "metadata": {
    "papermill": {
     "duration": 0.008606,
     "end_time": "2025-07-07T09:25:58.567046",
     "exception": false,
     "start_time": "2025-07-07T09:25:58.558440",
     "status": "completed"
    },
    "tags": []
   },
   "source": [
    "#### Miền giá trị (Domain Range): \n",
    "* Các giá trị trong cột user_gender phải thuộc tập {0, 1, 2}.\n",
    "* user_id và course_id phải đúng định dạng string, user_id bắt đầu bằng \"U_\", course_id bắt đầu bằng \"C_\".\n",
    "* enroll_time của user với course phải nằm trong khoảng thời gian thu thập dữ liệu [2019; 2021].\n",
    "* total_course_comments, user_course_num_comment, user_course_num_replies là giá trị kiểu số nguyên int không được là số âm tức >= 0.\n",
    "* num_problem, num_correct_problem, video_duration, actual_watch_time và total_watch_time là giá trị kiểu list, mỗi phần tử trong list phải >= 0: tức không được là số âm."
   ]
  },
  {
   "cell_type": "markdown",
   "id": "3c96709e",
   "metadata": {
    "papermill": {
     "duration": 0.008631,
     "end_time": "2025-07-07T09:25:58.584576",
     "exception": false,
     "start_time": "2025-07-07T09:25:58.575945",
     "status": "completed"
    },
    "tags": []
   },
   "source": [
    "#### Dữ liệu không rỗng (Non-null): \n",
    "* Các cột quan trọng: user_id, course_id, school_id, teacher_id, course_filed không được null\n",
    "  "
   ]
  },
  {
   "cell_type": "markdown",
   "id": "fa3e6be8",
   "metadata": {
    "papermill": {
     "duration": 0.008717,
     "end_time": "2025-07-07T09:25:58.601981",
     "exception": false,
     "start_time": "2025-07-07T09:25:58.593264",
     "status": "completed"
    },
    "tags": []
   },
   "source": [
    "#### Loại dữ liệu (Data Type): \n",
    "* Cột enroll_time thuộc kiểu Unix time stamp để thuận tiện trong việc xử lí và sử dụng sau này, kiểu Unix time stamp được biểu diễn trong python dưới dạng int.\n",
    "* Các cột: user_gender, total_course_comments, user_course_num_comment, user_course_num_replies thuộc kiểu int.\n",
    "* Các cột:  user_id, course_id, course_name, course_prerequisites, course_about thuộc kiểu string.\n",
    "* Các cột: school_id, teacher_id, video_id, ccid, watch_id, exercise_id, doing_exercise_id, concept_id, course_field, school_name, school_about, school_motto,teacher_name, teacher_about, teacher_job_title, teacher_org_name, video_duration, total_watch_time, actual_watch_time, num_correct_problem, concept_ccid, concept_name, concept_field, concept_prerequisite thuộc kiểu dữ liệu object thuộc kiểu list string."
   ]
  },
  {
   "cell_type": "markdown",
   "id": "9f6671a7",
   "metadata": {
    "papermill": {
     "duration": 0.008742,
     "end_time": "2025-07-07T09:25:58.619659",
     "exception": false,
     "start_time": "2025-07-07T09:25:58.610917",
     "status": "completed"
    },
    "tags": []
   },
   "source": [
    "#### Ràng buộc logic (Logical Constraints):\n",
    "* actual_watch_time <= total_watch_time: Không thể xem nhiều hơn tổng thời gian đã xem.\n",
    "* actual_watch_time <= video_duration: Không thể xem nhiều hơn thời lượng video.\n",
    "* user_course_num_comment + user_course_num_replies <= total_course_comments: Tổng số bình luận và phản hồi của người dùng cho khóa học <= Tổng số tương tác của khóa học đó.\n",
    "* Mỗi concept_id không được là phần tử trong chính concept_prerequisite: Một khái niệm không thể là tiên quyết của chính nó.\n",
    "* num_correct_problem <= num_problem: Không thể làm đúng nhiều hơn tổng số lượng câu hỏi của bài tập."
   ]
  },
  {
   "cell_type": "markdown",
   "id": "a8bb99fd",
   "metadata": {
    "papermill": {
     "duration": 0.008814,
     "end_time": "2025-07-07T09:25:58.701795",
     "exception": false,
     "start_time": "2025-07-07T09:25:58.692981",
     "status": "completed"
    },
    "tags": []
   },
   "source": [
    "#### Tính duy nhất (Uniqueness):\n",
    "* user_id + course_id phải là duy nhất: Mỗi người dùng chỉ học một khóa học một lần, Một user không thể đăng ký 2 lần cùng một khóa học nếu mỗi dòng là một phiên học\n",
    "* Đồng thời kiểm tra 1 object có bị trùng lặp với các object khác hay không (xét trường hợp đầy đủ thuộc tính và trường hợp bỏ thuộc tính chính: user_id và course_id)?"
   ]
  },
  {
   "cell_type": "markdown",
   "id": "caff9cc3",
   "metadata": {
    "papermill": {
     "duration": 0.009145,
     "end_time": "2025-07-07T09:25:58.720029",
     "exception": false,
     "start_time": "2025-07-07T09:25:58.710884",
     "status": "completed"
    },
    "tags": []
   },
   "source": [
    "#### Tính khóa ngoại (Foreign Key Integrity): Giá trị trong các cột id phải tồn tại trong các file của MOOCCubeX entities.\n",
    "\n",
    "| Cột trong dataset chính       | Phải tồn tại trong file          | Ghi chú                                                             |\n",
    "|-------------------------------|----------------------------------|----------------------------------------------------------------------|\n",
    "| `user_id`                     | `user.json`                      | Mỗi dòng là một người học                                           |\n",
    "| `course_id`                   | `course.json`                    | Mỗi dòng là một khóa học                                            |\n",
    "|                                 |\n",
    "| `school_id`                   | `school.json`                    | Trường cung cấp khóa học                                            |\n",
    "| `teacher_id`                  | `teacher.json`                   | Giảng viên dạy khóa học                                             |\n",
    "| `concept_id`                  | `concept.json`                   | Concept được gán cho khóa học                                       |\n",
    "| `exercise_id`                 | `exercise-problem.json`          | Tập hợp bài tập trong khóa học                                      |\n",
    "| `ccid`        | `video_id-ccid.txt`              | Map giữa video và ccid                                  |"
   ]
  },
  {
   "cell_type": "code",
   "execution_count": 7,
   "id": "5f8e3e1d",
   "metadata": {
    "execution": {
     "iopub.execute_input": "2025-07-07T09:25:58.739661Z",
     "iopub.status.busy": "2025-07-07T09:25:58.739330Z",
     "iopub.status.idle": "2025-07-07T09:25:59.417844Z",
     "shell.execute_reply": "2025-07-07T09:25:59.416975Z"
    },
    "papermill": {
     "duration": 0.690828,
     "end_time": "2025-07-07T09:25:59.419905",
     "exception": false,
     "start_time": "2025-07-07T09:25:58.729077",
     "status": "completed"
    },
    "tags": []
   },
   "outputs": [],
   "source": [
    "import time\n",
    "import polars as pl\n",
    "\n",
    "def pl_read_file(file_path):\n",
    "    file_extension = os.path.splitext(file_path)[1]\n",
    "    if file_extension == '.json':\n",
    "        return pl.read_ndjson(file_path)\n",
    "    elif file_extension == '.csv':\n",
    "        return pl.read_csv(file_path)\n",
    "    elif file_extension == '.txt':\n",
    "        return pl.read_csv(file_path,separator='\\t',has_header=False)\n",
    "    else:\n",
    "        raise ValueError(f\"Unsupported file extension: {file_extension}\")"
   ]
  },
  {
   "cell_type": "code",
   "execution_count": 8,
   "id": "6706f91d",
   "metadata": {
    "execution": {
     "iopub.execute_input": "2025-07-07T09:25:59.446294Z",
     "iopub.status.busy": "2025-07-07T09:25:59.445386Z",
     "iopub.status.idle": "2025-07-07T09:25:59.450343Z",
     "shell.execute_reply": "2025-07-07T09:25:59.449479Z"
    },
    "papermill": {
     "duration": 0.016888,
     "end_time": "2025-07-07T09:25:59.451868",
     "exception": false,
     "start_time": "2025-07-07T09:25:59.434980",
     "status": "completed"
    },
    "tags": []
   },
   "outputs": [],
   "source": [
    "# user = pl_read_file(\"/kaggle/input/mooccubex-entities/user.json\")\n",
    "# course = pl_read_file(\"/kaggle/input/mooccubex-entities/course.json\")\n",
    "# school = pl_read_file(\"/kaggle/input/mooccubex-entities/school.json\")\n",
    "# teacher = pl_read_file(\"/kaggle/input/mooccubex-entities/teacher.json\")\n",
    "# concept = pl_read_file(\"/kaggle/input/mooccubex-entities/concept.json\")\n",
    "# exercise_problem = pl_read_file(\"/kaggle/input/mooccubex-relations/exercise-problem.txt\")\n",
    "# video_ccid = pl_read_file(\"/kaggle/input/mooccubex-relations/video_id-ccid.txt\")"
   ]
  },
  {
   "cell_type": "code",
   "execution_count": 9,
   "id": "e5285811",
   "metadata": {
    "execution": {
     "iopub.execute_input": "2025-07-07T09:25:59.479666Z",
     "iopub.status.busy": "2025-07-07T09:25:59.479286Z",
     "iopub.status.idle": "2025-07-07T09:25:59.484101Z",
     "shell.execute_reply": "2025-07-07T09:25:59.482881Z"
    },
    "papermill": {
     "duration": 0.022216,
     "end_time": "2025-07-07T09:25:59.485944",
     "exception": false,
     "start_time": "2025-07-07T09:25:59.463728",
     "status": "completed"
    },
    "tags": []
   },
   "outputs": [],
   "source": [
    "# # Process video_ccid: drop column_1 and rename column_2 to ccid\n",
    "# video_ccid = video_ccid.drop(\"column_1\").rename({\"column_2\": \"ccid\"})\n",
    "\n",
    "# # Process exercise_problem: drop column_2 and rename column_1 to exercise_id\n",
    "# exercise_problem = exercise_problem.drop(\"column_2\").rename({\"column_1\": \"id\"})\n",
    "\n",
    "# # Chỉ giữ lại cột 'id' cho từng DataFrame\n",
    "# user = user[['id']]\n",
    "# teacher = teacher[['id']]\n",
    "# course = course[['id']]\n",
    "# school = school[['id']]\n",
    "# concept = concept[['id']]"
   ]
  },
  {
   "cell_type": "code",
   "execution_count": 10,
   "id": "cd252861",
   "metadata": {
    "execution": {
     "iopub.execute_input": "2025-07-07T09:25:59.506693Z",
     "iopub.status.busy": "2025-07-07T09:25:59.506308Z",
     "iopub.status.idle": "2025-07-07T09:25:59.511090Z",
     "shell.execute_reply": "2025-07-07T09:25:59.510102Z"
    },
    "papermill": {
     "duration": 0.017306,
     "end_time": "2025-07-07T09:25:59.512704",
     "exception": false,
     "start_time": "2025-07-07T09:25:59.495398",
     "status": "completed"
    },
    "tags": []
   },
   "outputs": [],
   "source": [
    "# # chuyển sang pandas\n",
    "# user = user.to_pandas()\n",
    "# teacher = teacher.to_pandas()\n",
    "# course = course.to_pandas()\n",
    "# school = school.to_pandas()\n",
    "# concept = concept.to_pandas()\n",
    "# exercise_problem = exercise_problem.to_pandas()\n",
    "# video_ccid = video_ccid.to_pandas()"
   ]
  },
  {
   "cell_type": "code",
   "execution_count": 11,
   "id": "741ee3c2",
   "metadata": {
    "execution": {
     "iopub.execute_input": "2025-07-07T09:25:59.533022Z",
     "iopub.status.busy": "2025-07-07T09:25:59.532608Z",
     "iopub.status.idle": "2025-07-07T09:25:59.537169Z",
     "shell.execute_reply": "2025-07-07T09:25:59.536260Z"
    },
    "papermill": {
     "duration": 0.016516,
     "end_time": "2025-07-07T09:25:59.538883",
     "exception": false,
     "start_time": "2025-07-07T09:25:59.522367",
     "status": "completed"
    },
    "tags": []
   },
   "outputs": [],
   "source": [
    "# combine_data.drop(columns=['row_completeness'], inplace=True)"
   ]
  },
  {
   "cell_type": "code",
   "execution_count": 12,
   "id": "83a9adc5",
   "metadata": {
    "execution": {
     "iopub.execute_input": "2025-07-07T09:25:59.560430Z",
     "iopub.status.busy": "2025-07-07T09:25:59.560126Z",
     "iopub.status.idle": "2025-07-07T09:25:59.675097Z",
     "shell.execute_reply": "2025-07-07T09:25:59.674034Z"
    },
    "papermill": {
     "duration": 0.128198,
     "end_time": "2025-07-07T09:25:59.676988",
     "exception": false,
     "start_time": "2025-07-07T09:25:59.548790",
     "status": "completed"
    },
    "tags": []
   },
   "outputs": [],
   "source": [
    "import pandas as pd\n",
    "import numpy as np\n",
    "from tqdm import tqdm\n",
    "import multiprocessing\n",
    "from joblib import Parallel, delayed\n",
    "import ast\n",
    "\n",
    "# ======================\n",
    "# UTILITY FUNCTIONS\n",
    "# ======================\n",
    "\n",
    "def is_missing_value(value):\n",
    "    \"\"\"Kiểm tra giá trị thiếu cho cả scalar và danh sách.\n",
    "    \n",
    "    Args:\n",
    "        value: Giá trị cần kiểm tra (có thể là scalar, danh sách, hoặc bất kỳ kiểu dữ liệu nào).\n",
    "    \n",
    "    Returns:\n",
    "        bool: True nếu giá trị được coi là thiếu, False nếu không.\n",
    "    \"\"\"\n",
    "    \n",
    "    # Danh sách các giá trị được coi là thiếu\n",
    "    missing_vals = {None, \"\", \" \", \"NULL\", \"null\", \"N/A\", \"none\", \"nan\"}\n",
    "    \n",
    "    # Trường hợp giá trị là danh sách hoặc tuple\n",
    "    if isinstance(value, (list, tuple)):\n",
    "        if len(value) == 0:  # Danh sách rỗng được coi là thiếu\n",
    "            return True\n",
    "        # Chỉ coi là thiếu nếu tất cả phần tử đều thiếu\n",
    "        return all(is_missing_value(item) for item in value)\n",
    "    \n",
    "    # Trường hợp giá trị là chuỗi\n",
    "    if isinstance(value, str):\n",
    "        # Loại bỏ khoảng trắng ở hai đầu và kiểm tra\n",
    "        cleaned_value = value.strip()\n",
    "        return cleaned_value in missing_vals or cleaned_value == \"\"\n",
    "    \n",
    "    # Trường hợp giá trị là số hoặc các kiểu khác\n",
    "    return value in missing_vals or pd.isna(value)\n",
    "\n",
    "# ======================\n",
    "# NON-NULL CHECK\n",
    "# ======================\n",
    "\n",
    "def check_non_null_vectorized(df):\n",
    "    \"\"\"Kiểm tra non-null cho các cột quan trọng: user_id, course_id, school_id, teacher_id, course_filed.\n",
    "    Nếu có bất kỳ 1 cột nào bị null thì object đó sẽ không đạt.\"\"\"\n",
    "    results = pd.Series(np.ones(len(df)), index=df.index)\n",
    "    errors = pd.Series([None] * len(df), index=df.index)\n",
    "    \n",
    "    # Các cột quan trọng cần kiểm tra non-null\n",
    "    required_columns = ['user_id', 'course_id', 'school_id', 'teacher_id', 'course_field']\n",
    "    \n",
    "    # Tìm các cột tồn tại trong DataFrame\n",
    "    existing_columns = [col for col in required_columns if col in df.columns]\n",
    "    \n",
    "    if not existing_columns:\n",
    "        print(\"Cảnh báo: Không tìm thấy cột nào cần kiểm tra non-null trong DataFrame\")\n",
    "        return results, errors\n",
    "    \n",
    "    # Khởi tạo danh sách để lưu các cột bị thiếu cho từng dòng\n",
    "    missing_columns_per_row = []\n",
    "    \n",
    "    for idx in df.index:\n",
    "        missing_cols = []\n",
    "        has_missing = False\n",
    "        \n",
    "        for col in existing_columns:\n",
    "            if is_missing_value(df.loc[idx, col]):\n",
    "                missing_cols.append(col)\n",
    "                has_missing = True\n",
    "        \n",
    "        if has_missing:\n",
    "            results[idx] = 0\n",
    "            errors[idx] = f\"Các cột bị thiếu: {', '.join(missing_cols)}\"\n",
    "        \n",
    "        missing_columns_per_row.append(missing_cols)\n",
    "    \n",
    "    return results, errors\n",
    "\n",
    "def process_batch(batch_df):\n",
    "    \"\"\"Process a batch of records for non-null check only.\"\"\"\n",
    "    # Initialize result and error series\n",
    "    batch_results = {\n",
    "        'non_null': pd.Series(np.ones(len(batch_df)), index=batch_df.index)\n",
    "    }\n",
    "    \n",
    "    batch_errors = {\n",
    "        'non_null': pd.Series([None] * len(batch_df), index=batch_df.index)\n",
    "    }\n",
    "    \n",
    "    # Run non-null check\n",
    "    nn_results, nn_errors = check_non_null_vectorized(batch_df)\n",
    "    \n",
    "    # Update batch results and errors\n",
    "    batch_results['non_null'] = nn_results\n",
    "    batch_errors['non_null'] = nn_errors\n",
    "    \n",
    "    return batch_results, batch_errors\n",
    "\n",
    "# ======================\n",
    "# MAIN FUNCTION\n",
    "# ======================\n",
    "\n",
    "def evaluate_consistency_improved(df, user=None, teacher=None, course=None, school=None, concept=None, exercise_problem=None, video_ccid=None, sample_size=None):\n",
    "    \"\"\"Đánh giá non-null consistency với phương pháp cải tiến.\"\"\"\n",
    "    print(\"Bắt đầu kiểm tra non-null consistency...\")\n",
    "    \n",
    "    # Lấy mẫu nếu cần\n",
    "    if sample_size and len(df) > sample_size:\n",
    "        print(f\"Lấy mẫu ngẫu nhiên {sample_size} dòng từ {len(df)} dòng...\")\n",
    "        df_sample = df.sample(sample_size, random_state=42)\n",
    "    else:\n",
    "        df_sample = df\n",
    "    \n",
    "    print(f\"Số lượng dòng cần kiểm tra: {len(df_sample)}\")\n",
    "    \n",
    "    # Xác định kích thước batch phù hợp\n",
    "    cpu_count = multiprocessing.cpu_count()\n",
    "    batch_size = max(100, min(1000, len(df_sample) // (cpu_count * 2)))\n",
    "    \n",
    "    # Chia thành các batch\n",
    "    batches = [df_sample.iloc[i:i+batch_size] for i in range(0, len(df_sample), batch_size)]\n",
    "    print(f\"Chia dữ liệu thành {len(batches)} batch, mỗi batch khoảng {batch_size} dòng\")\n",
    "    \n",
    "    # Khởi tạo kết quả chung\n",
    "    results = {\n",
    "        'non_null': pd.Series(np.ones(len(df_sample)), index=df_sample.index)\n",
    "    }\n",
    "    \n",
    "    errors = {\n",
    "        'non_null': pd.Series([None] * len(df_sample), index=df_sample.index)\n",
    "    }\n",
    "    \n",
    "    # Xử lý từng batch\n",
    "    print(f\"Bắt đầu xử lý {len(batches)} batch...\")\n",
    "    \n",
    "    for i, batch in enumerate(tqdm(batches, desc=\"Xử lý các batch\")):\n",
    "        batch_results, batch_errors = process_batch(batch)\n",
    "        \n",
    "        # Cập nhật kết quả\n",
    "        for check_type in results.keys():\n",
    "            results[check_type].loc[batch.index] = batch_results[check_type]\n",
    "            errors[check_type].loc[batch.index] = batch_errors[check_type]\n",
    "    \n",
    "    # Tính điểm consistency (chỉ dựa trên non_null)\n",
    "    consistency_scores = results['non_null'] * 100\n",
    "    \n",
    "    # Tạo DataFrame kết quả\n",
    "    results_df = pd.DataFrame({\n",
    "        'user_id': df_sample['user_id'] if 'user_id' in df_sample.columns else None,\n",
    "        'course_id': df_sample['course_id'] if 'course_id' in df_sample.columns else None,\n",
    "    })\n",
    "    \n",
    "    # Thêm kết quả kiểm tra non_null\n",
    "    results_df['non_null'] = results['non_null']\n",
    "    \n",
    "    # Thêm điểm consistency\n",
    "    results_df['consistency_score'] = consistency_scores\n",
    "    \n",
    "    # Chuyển đổi errors thành DataFrame\n",
    "    error_df = pd.DataFrame(errors)\n",
    "    \n",
    "    return results_df, error_df\n",
    "\n",
    "def show_missing_rate_by_column(df):\n",
    "    \"\"\"Hiển thị tỉ lệ missing của từng cột được yêu cầu kiểm tra.\"\"\"\n",
    "    print(\"\\nTỈ LỆ MISSING CỦA TỪNG CỘT:\")\n",
    "    print(\"-\" * 40)\n",
    "    \n",
    "    # Các cột quan trọng cần kiểm tra\n",
    "    required_columns = ['user_id', 'course_id', 'school_id', 'teacher_id', 'course_filed']\n",
    "    \n",
    "    # Tìm các cột tồn tại trong DataFrame\n",
    "    existing_columns = [col for col in required_columns if col in df.columns]\n",
    "    \n",
    "    if not existing_columns:\n",
    "        print(\"Không tìm thấy cột nào cần kiểm tra trong DataFrame\")\n",
    "        return\n",
    "    \n",
    "    missing_stats = {}\n",
    "    \n",
    "    for col in existing_columns:\n",
    "        # Đếm số lượng missing values\n",
    "        missing_count = df[col].apply(is_missing_value).sum()\n",
    "        total_count = len(df)\n",
    "        missing_rate = (missing_count / total_count) * 100\n",
    "        \n",
    "        missing_stats[col] = {\n",
    "            'missing_count': missing_count,\n",
    "            'total_count': total_count,\n",
    "            'missing_rate': missing_rate\n",
    "        }\n",
    "        \n",
    "        print(f\"{col:<15}: {missing_count:>6}/{total_count:<6} ({missing_rate:>6.2f}%)\")\n",
    "    \n",
    "    # Hiển thị tổng quan\n",
    "    print(\"-\" * 40)\n",
    "    total_missing = sum(stats['missing_count'] for stats in missing_stats.values())\n",
    "    total_cells = sum(stats['total_count'] for stats in missing_stats.values())\n",
    "    overall_missing_rate = (total_missing / total_cells) * 100\n",
    "    \n",
    "    print(f\"{'Tổng cộng':<15}: {total_missing:>6}/{total_cells:<6} ({overall_missing_rate:>6.2f}%)\")\n",
    "    \n",
    "    return missing_stats\n",
    "\n",
    "def summarize_consistency(results_df, original_df=None):\n",
    "    \"\"\"Tóm tắt kết quả kiểm tra non-null consistency.\"\"\"\n",
    "    print(\"\\nTÓM TẮT KẾT QUẢ NON-NULL CONSISTENCY:\")\n",
    "    print(f\"Tổng số dòng đã kiểm tra: {len(results_df)}\")\n",
    "    print(f\"Consistency trung bình: {results_df['consistency_score'].mean():.2f}%\")\n",
    "    \n",
    "    # Thống kê theo loại kiểm tra\n",
    "    pass_rate = results_df['non_null'].mean() * 100\n",
    "    print(f\"Tỷ lệ đạt non_null: {pass_rate:.2f}%\")\n",
    "    \n",
    "    # Thống kê điểm consistency\n",
    "    score_ranges = [(0, 50), (50, 80), (80, 100), (100, 100)]\n",
    "    for low, high in score_ranges:\n",
    "        if low == high:\n",
    "            count = (results_df['consistency_score'] == low).sum()\n",
    "            percent = count / len(results_df) * 100\n",
    "            print(f\"Số dòng đạt điểm {low}: {count} ({percent:.2f}%)\")\n",
    "        else:\n",
    "            count = ((results_df['consistency_score'] >= low) & (results_df['consistency_score'] < high)).sum()\n",
    "            percent = count / len(results_df) * 100\n",
    "            print(f\"Số dòng đạt điểm {low}-{high}: {count} ({percent:.2f}%)\")\n",
    "    \n",
    "    # Hiển thị tỉ lệ missing của từng cột nếu có dữ liệu gốc\n",
    "    if original_df is not None:\n",
    "        show_missing_rate_by_column(original_df)\n",
    "\n",
    "def run_consistency_check(df, user=None, teacher=None, course=None, school=None, concept=None, exercise_problem=None, video_ccid=None, completeness_overall=None, sample_size=None):\n",
    "    \"\"\"Hàm chính để chạy kiểm tra non-null consistency.\"\"\"\n",
    "    import time\n",
    "    \n",
    "    start_time = time.time()\n",
    "    \n",
    "    # Hiển thị tỉ lệ missing của từng cột trước khi kiểm tra\n",
    "    print(\"PHÂN TÍCH DỮ LIỆU TRƯỚC KHI KIỂM TRA:\")\n",
    "    original_df = df.sample(sample_size, random_state=42) if sample_size and len(df) > sample_size else df\n",
    "    show_missing_rate_by_column(original_df)\n",
    "    \n",
    "    # Chạy đánh giá consistency\n",
    "    results_df, error_df = evaluate_consistency_improved(\n",
    "        df, user, teacher, course, school, concept, exercise_problem, video_ccid, sample_size\n",
    "    )\n",
    "    \n",
    "    # Tóm tắt kết quả (không cần truyền original_df vì đã hiển thị ở trên)\n",
    "    summarize_consistency(results_df)\n",
    "    \n",
    "    # Báo cáo thời gian\n",
    "    execution_time = time.time() - start_time\n",
    "    print(f\"\\nThời gian thực thi: {execution_time:.2f} giây\")\n",
    "    \n",
    "    if sample_size and len(df) > sample_size:\n",
    "        # Ước tính thời gian cho toàn bộ dataset\n",
    "        estimated_full_time = execution_time * (len(df) / sample_size)\n",
    "        hours = estimated_full_time // 3600\n",
    "        minutes = (estimated_full_time % 3600) // 60\n",
    "        seconds = estimated_full_time % 60\n",
    "        \n",
    "        print(f\"Ước tính thời gian cho toàn bộ dataset ({len(df)} dòng): \"\n",
    "              f\"{int(hours)} giờ {int(minutes)} phút {int(seconds)} giây\")\n",
    "    \n",
    "    return results_df, error_df\n",
    "\n",
    "# ======================"
   ]
  },
  {
   "cell_type": "code",
   "execution_count": 13,
   "id": "a94eee5b",
   "metadata": {
    "execution": {
     "iopub.execute_input": "2025-07-07T09:25:59.697371Z",
     "iopub.status.busy": "2025-07-07T09:25:59.696945Z",
     "iopub.status.idle": "2025-07-07T09:25:59.701839Z",
     "shell.execute_reply": "2025-07-07T09:25:59.700880Z"
    },
    "papermill": {
     "duration": 0.016927,
     "end_time": "2025-07-07T09:25:59.703392",
     "exception": false,
     "start_time": "2025-07-07T09:25:59.686465",
     "status": "completed"
    },
    "tags": []
   },
   "outputs": [],
   "source": [
    "# results_df, error_df = run_consistency_check(combine_data, user, teacher, course, school, concept, exercise_problem, video_ccid, sample_size=10000)"
   ]
  },
  {
   "cell_type": "code",
   "execution_count": 14,
   "id": "d276abae",
   "metadata": {
    "execution": {
     "iopub.execute_input": "2025-07-07T09:25:59.724012Z",
     "iopub.status.busy": "2025-07-07T09:25:59.723598Z",
     "iopub.status.idle": "2025-07-07T09:25:59.728409Z",
     "shell.execute_reply": "2025-07-07T09:25:59.727300Z"
    },
    "papermill": {
     "duration": 0.016915,
     "end_time": "2025-07-07T09:25:59.730056",
     "exception": false,
     "start_time": "2025-07-07T09:25:59.713141",
     "status": "completed"
    },
    "tags": []
   },
   "outputs": [],
   "source": [
    "# results_df, error_df = run_consistency_check(combine_data, user, teacher, course, school, concept, exercise_problem, video_ccid)"
   ]
  },
  {
   "cell_type": "code",
   "execution_count": 15,
   "id": "34fc6246",
   "metadata": {
    "execution": {
     "iopub.execute_input": "2025-07-07T09:25:59.751765Z",
     "iopub.status.busy": "2025-07-07T09:25:59.751342Z",
     "iopub.status.idle": "2025-07-07T09:25:59.755837Z",
     "shell.execute_reply": "2025-07-07T09:25:59.754944Z"
    },
    "papermill": {
     "duration": 0.017393,
     "end_time": "2025-07-07T09:25:59.757475",
     "exception": false,
     "start_time": "2025-07-07T09:25:59.740082",
     "status": "completed"
    },
    "tags": []
   },
   "outputs": [],
   "source": [
    "# print(error_df['non_null'].head(10))"
   ]
  },
  {
   "cell_type": "markdown",
   "id": "20173215",
   "metadata": {
    "papermill": {
     "duration": 0.00953,
     "end_time": "2025-07-07T09:25:59.781408",
     "exception": false,
     "start_time": "2025-07-07T09:25:59.771878",
     "status": "completed"
    },
    "tags": []
   },
   "source": [
    "# Dataset version 1: Raw dataset"
   ]
  },
  {
   "cell_type": "code",
   "execution_count": 16,
   "id": "0ee03751",
   "metadata": {
    "execution": {
     "iopub.execute_input": "2025-07-07T09:25:59.801293Z",
     "iopub.status.busy": "2025-07-07T09:25:59.800901Z",
     "iopub.status.idle": "2025-07-07T09:26:50.806551Z",
     "shell.execute_reply": "2025-07-07T09:26:50.805593Z"
    },
    "papermill": {
     "duration": 51.017593,
     "end_time": "2025-07-07T09:26:50.808216",
     "exception": false,
     "start_time": "2025-07-07T09:25:59.790623",
     "status": "completed"
    },
    "tags": []
   },
   "outputs": [],
   "source": [
    "combine_data = pd.read_hdf('/kaggle/input/combine-data/combine_data.h5', key='df')"
   ]
  },
  {
   "cell_type": "markdown",
   "id": "eca1d3db",
   "metadata": {
    "papermill": {
     "duration": 0.008717,
     "end_time": "2025-07-07T09:26:50.826184",
     "exception": false,
     "start_time": "2025-07-07T09:26:50.817467",
     "status": "completed"
    },
    "tags": []
   },
   "source": [
    "## Completeness"
   ]
  },
  {
   "cell_type": "code",
   "execution_count": 17,
   "id": "1d7e3227",
   "metadata": {
    "execution": {
     "iopub.execute_input": "2025-07-07T09:26:50.845474Z",
     "iopub.status.busy": "2025-07-07T09:26:50.845177Z",
     "iopub.status.idle": "2025-07-07T09:26:50.849127Z",
     "shell.execute_reply": "2025-07-07T09:26:50.848205Z"
    },
    "papermill": {
     "duration": 0.015662,
     "end_time": "2025-07-07T09:26:50.850801",
     "exception": false,
     "start_time": "2025-07-07T09:26:50.835139",
     "status": "completed"
    },
    "tags": []
   },
   "outputs": [],
   "source": [
    "# v1 = calc_completeness(combine_data)"
   ]
  },
  {
   "cell_type": "markdown",
   "id": "9330fe8e",
   "metadata": {
    "papermill": {
     "duration": 0.008697,
     "end_time": "2025-07-07T09:26:50.868722",
     "exception": false,
     "start_time": "2025-07-07T09:26:50.860025",
     "status": "completed"
    },
    "tags": []
   },
   "source": [
    "## Consistency"
   ]
  },
  {
   "cell_type": "code",
   "execution_count": 18,
   "id": "f33ce621",
   "metadata": {
    "execution": {
     "iopub.execute_input": "2025-07-07T09:26:50.888059Z",
     "iopub.status.busy": "2025-07-07T09:26:50.887736Z",
     "iopub.status.idle": "2025-07-07T09:35:29.255716Z",
     "shell.execute_reply": "2025-07-07T09:35:29.254589Z"
    },
    "papermill": {
     "duration": 518.379569,
     "end_time": "2025-07-07T09:35:29.257299",
     "exception": false,
     "start_time": "2025-07-07T09:26:50.877730",
     "status": "completed"
    },
    "tags": []
   },
   "outputs": [
    {
     "name": "stdout",
     "output_type": "stream",
     "text": [
      "PHÂN TÍCH DỮ LIỆU TRƯỚC KHI KIỂM TRA:\n",
      "\n",
      "TỈ LỆ MISSING CỦA TỪNG CỘT:\n",
      "----------------------------------------\n",
      "user_id        :      0/7284500 (  0.00%)\n",
      "course_id      :      0/7284500 (  0.00%)\n",
      "school_id      :  26541/7284500 (  0.36%)\n",
      "teacher_id     :   9960/7284500 (  0.14%)\n",
      "----------------------------------------\n",
      "Tổng cộng      :  36501/29138000 (  0.13%)\n",
      "Bắt đầu kiểm tra non-null consistency...\n",
      "Số lượng dòng cần kiểm tra: 7284500\n",
      "Chia dữ liệu thành 7285 batch, mỗi batch khoảng 1000 dòng\n",
      "Bắt đầu xử lý 7285 batch...\n"
     ]
    },
    {
     "name": "stderr",
     "output_type": "stream",
     "text": [
      "Xử lý các batch: 100%|██████████| 7285/7285 [08:05<00:00, 14.99it/s]\n"
     ]
    },
    {
     "name": "stdout",
     "output_type": "stream",
     "text": [
      "\n",
      "TÓM TẮT KẾT QUẢ NON-NULL CONSISTENCY:\n",
      "Tổng số dòng đã kiểm tra: 7284500\n",
      "Consistency trung bình: 26.68%\n",
      "Tỷ lệ đạt non_null: 26.68%\n",
      "Số dòng đạt điểm 0-50: 5340654 (73.32%)\n",
      "Số dòng đạt điểm 50-80: 0 (0.00%)\n",
      "Số dòng đạt điểm 80-100: 0 (0.00%)\n",
      "Số dòng đạt điểm 100: 1943846 (26.68%)\n",
      "\n",
      "Thời gian thực thi: 518.36 giây\n"
     ]
    }
   ],
   "source": [
    "results_df, error_df = run_consistency_check(\n",
    "    combine_data, \n",
    "    sample_size=None  # hoặc None để chạy toàn bộ\n",
    ")"
   ]
  },
  {
   "cell_type": "code",
   "execution_count": 19,
   "id": "5ef05131",
   "metadata": {
    "execution": {
     "iopub.execute_input": "2025-07-07T09:35:29.621550Z",
     "iopub.status.busy": "2025-07-07T09:35:29.621198Z",
     "iopub.status.idle": "2025-07-07T09:35:42.988570Z",
     "shell.execute_reply": "2025-07-07T09:35:42.987590Z"
    },
    "papermill": {
     "duration": 13.552159,
     "end_time": "2025-07-07T09:35:42.990274",
     "exception": false,
     "start_time": "2025-07-07T09:35:29.438115",
     "status": "completed"
    },
    "tags": []
   },
   "outputs": [
    {
     "data": {
      "text/plain": [
       "user_id                    0.000000\n",
       "course_id                  0.000000\n",
       "enroll_time                0.000000\n",
       "course_name                0.000000\n",
       "course_prerequisites       0.000000\n",
       "course_about               0.000000\n",
       "course_field               0.731191\n",
       "school_id                  0.003643\n",
       "school_name                0.003643\n",
       "school_about               0.003643\n",
       "school_motto               0.003643\n",
       "teacher_id                 0.001367\n",
       "teacher_name               0.001367\n",
       "teacher_about              0.001367\n",
       "teacher_job_title          0.001367\n",
       "teacher_org_name           0.001367\n",
       "video_id                   0.379174\n",
       "video_ccid                 0.379174\n",
       "video_duration             0.379174\n",
       "user_gender                0.000000\n",
       "watch_id                   0.999437\n",
       "total_watch_time           0.999437\n",
       "actual_watch_time          0.999437\n",
       "exercise_id                0.019379\n",
       "exercise_num_problem       0.019379\n",
       "doing_exercise_id          0.996887\n",
       "doing_num_correct          0.996887\n",
       "concept_id                 0.589986\n",
       "concept_prerequisite       0.589986\n",
       "concept_name               0.589986\n",
       "concept_field              0.589986\n",
       "course_total_comments      0.000000\n",
       "user_course_num_comment    0.000000\n",
       "user_course_num_replies    0.000000\n",
       "dtype: float64"
      ]
     },
     "execution_count": 19,
     "metadata": {},
     "output_type": "execute_result"
    }
   ],
   "source": [
    "combine_data.isnull().mean()"
   ]
  },
  {
   "cell_type": "markdown",
   "id": "80bc390b",
   "metadata": {
    "papermill": {
     "duration": 0.17925,
     "end_time": "2025-07-07T09:35:43.346372",
     "exception": false,
     "start_time": "2025-07-07T09:35:43.167122",
     "status": "completed"
    },
    "tags": []
   },
   "source": [
    "# Dataset version 2: Loại bỏ các cột null trên ngưỡng threshold kết hợp listwises deletion"
   ]
  },
  {
   "cell_type": "code",
   "execution_count": 20,
   "id": "ba4989b4",
   "metadata": {
    "execution": {
     "iopub.execute_input": "2025-07-07T09:35:43.704614Z",
     "iopub.status.busy": "2025-07-07T09:35:43.704275Z",
     "iopub.status.idle": "2025-07-07T09:35:43.708570Z",
     "shell.execute_reply": "2025-07-07T09:35:43.707599Z"
    },
    "papermill": {
     "duration": 0.185107,
     "end_time": "2025-07-07T09:35:43.710188",
     "exception": false,
     "start_time": "2025-07-07T09:35:43.525081",
     "status": "completed"
    },
    "tags": []
   },
   "outputs": [],
   "source": [
    "# v2 = pd.read_hdf('/kaggle/input/dataver2/data_ver2.h5', key='df')"
   ]
  },
  {
   "cell_type": "code",
   "execution_count": 21,
   "id": "6cacc2c8",
   "metadata": {
    "execution": {
     "iopub.execute_input": "2025-07-07T09:35:44.076958Z",
     "iopub.status.busy": "2025-07-07T09:35:44.076655Z",
     "iopub.status.idle": "2025-07-07T09:35:44.080784Z",
     "shell.execute_reply": "2025-07-07T09:35:44.079750Z"
    },
    "papermill": {
     "duration": 0.190407,
     "end_time": "2025-07-07T09:35:44.082359",
     "exception": false,
     "start_time": "2025-07-07T09:35:43.891952",
     "status": "completed"
    },
    "tags": []
   },
   "outputs": [],
   "source": [
    "# display(v2)"
   ]
  },
  {
   "cell_type": "markdown",
   "id": "dab93591",
   "metadata": {
    "papermill": {
     "duration": 0.182073,
     "end_time": "2025-07-07T09:35:44.512322",
     "exception": false,
     "start_time": "2025-07-07T09:35:44.330249",
     "status": "completed"
    },
    "tags": []
   },
   "source": [
    "## Completeness"
   ]
  },
  {
   "cell_type": "code",
   "execution_count": 22,
   "id": "5abcec43",
   "metadata": {
    "execution": {
     "iopub.execute_input": "2025-07-07T09:35:44.872966Z",
     "iopub.status.busy": "2025-07-07T09:35:44.872630Z",
     "iopub.status.idle": "2025-07-07T09:35:44.876845Z",
     "shell.execute_reply": "2025-07-07T09:35:44.876023Z"
    },
    "papermill": {
     "duration": 0.188039,
     "end_time": "2025-07-07T09:35:44.878434",
     "exception": false,
     "start_time": "2025-07-07T09:35:44.690395",
     "status": "completed"
    },
    "tags": []
   },
   "outputs": [],
   "source": [
    "# v2 = calc_completeness(v2)"
   ]
  },
  {
   "cell_type": "markdown",
   "id": "9467a510",
   "metadata": {
    "papermill": {
     "duration": 0.180725,
     "end_time": "2025-07-07T09:35:45.239265",
     "exception": false,
     "start_time": "2025-07-07T09:35:45.058540",
     "status": "completed"
    },
    "tags": []
   },
   "source": [
    "## Consistency"
   ]
  },
  {
   "cell_type": "code",
   "execution_count": 23,
   "id": "886b1f59",
   "metadata": {
    "execution": {
     "iopub.execute_input": "2025-07-07T09:35:45.631184Z",
     "iopub.status.busy": "2025-07-07T09:35:45.630885Z",
     "iopub.status.idle": "2025-07-07T09:35:45.635303Z",
     "shell.execute_reply": "2025-07-07T09:35:45.634322Z"
    },
    "papermill": {
     "duration": 0.214999,
     "end_time": "2025-07-07T09:35:45.636978",
     "exception": false,
     "start_time": "2025-07-07T09:35:45.421979",
     "status": "completed"
    },
    "tags": []
   },
   "outputs": [],
   "source": [
    "# results_df, error_df = run_consistency_check(v2, user, teacher, course, school, concept, exercise_problem, video_ccid)"
   ]
  },
  {
   "cell_type": "code",
   "execution_count": 24,
   "id": "3caba632",
   "metadata": {
    "execution": {
     "iopub.execute_input": "2025-07-07T09:35:46.078371Z",
     "iopub.status.busy": "2025-07-07T09:35:46.078064Z",
     "iopub.status.idle": "2025-07-07T09:35:46.082350Z",
     "shell.execute_reply": "2025-07-07T09:35:46.081466Z"
    },
    "papermill": {
     "duration": 0.259441,
     "end_time": "2025-07-07T09:35:46.083850",
     "exception": false,
     "start_time": "2025-07-07T09:35:45.824409",
     "status": "completed"
    },
    "tags": []
   },
   "outputs": [],
   "source": [
    "# error_df['non_null'].unique()"
   ]
  },
  {
   "cell_type": "code",
   "execution_count": 25,
   "id": "4b6c0c3d",
   "metadata": {
    "execution": {
     "iopub.execute_input": "2025-07-07T09:35:46.457665Z",
     "iopub.status.busy": "2025-07-07T09:35:46.457328Z",
     "iopub.status.idle": "2025-07-07T09:35:46.461514Z",
     "shell.execute_reply": "2025-07-07T09:35:46.460783Z"
    },
    "papermill": {
     "duration": 0.192767,
     "end_time": "2025-07-07T09:35:46.462896",
     "exception": false,
     "start_time": "2025-07-07T09:35:46.270129",
     "status": "completed"
    },
    "tags": []
   },
   "outputs": [],
   "source": [
    "# # Bung toàn bộ phần tử trong các list thành từng dòng\n",
    "# exploded_items = v2['teacher_name'].explode()\n",
    "\n",
    "# # Tổng số phần tử sau khi explode\n",
    "# total_count = len(exploded_items)\n",
    "\n",
    "# # Số phần tử bị thiếu\n",
    "# null_count = exploded_items.isna().sum()\n",
    "\n",
    "# # Tính tỷ lệ phần trăm\n",
    "# null_percent = (null_count / total_count) * 100 if total_count > 0 else 0\n",
    "\n",
    "# # In kết quả\n",
    "# print(f\"Tổng số phần tử: {total_count}\")\n",
    "# print(f\"Số phần tử thiếu (NaN): {null_count}\")\n",
    "# print(f\"Tỷ lệ thiếu: {null_percent:.2f}%\")"
   ]
  },
  {
   "cell_type": "code",
   "execution_count": 26,
   "id": "a81dcc7c",
   "metadata": {
    "execution": {
     "iopub.execute_input": "2025-07-07T09:35:46.841911Z",
     "iopub.status.busy": "2025-07-07T09:35:46.841577Z",
     "iopub.status.idle": "2025-07-07T09:35:46.846032Z",
     "shell.execute_reply": "2025-07-07T09:35:46.845228Z"
    },
    "papermill": {
     "duration": 0.19426,
     "end_time": "2025-07-07T09:35:46.847711",
     "exception": false,
     "start_time": "2025-07-07T09:35:46.653451",
     "status": "completed"
    },
    "tags": []
   },
   "outputs": [],
   "source": [
    "# # Tập hợp tất cả các phần tử từ các danh sách trong cột\n",
    "# all_items = v2['teacher_name'].explode()\n",
    "\n",
    "# # Lấy các giá trị duy nhất và in ra\n",
    "# unique_items = all_items.unique()\n",
    "\n",
    "# # In từng giá trị\n",
    "# for item in unique_items:\n",
    "#     print(item)"
   ]
  },
  {
   "cell_type": "markdown",
   "id": "c6025f6d",
   "metadata": {
    "papermill": {
     "duration": 0.181689,
     "end_time": "2025-07-07T09:35:47.213959",
     "exception": false,
     "start_time": "2025-07-07T09:35:47.032270",
     "status": "completed"
    },
    "tags": []
   },
   "source": [
    "# Dataset version 3: Điền khuyết bằng giá trị mode"
   ]
  },
  {
   "cell_type": "code",
   "execution_count": 27,
   "id": "cdcf82bc",
   "metadata": {
    "execution": {
     "iopub.execute_input": "2025-07-07T09:35:47.648000Z",
     "iopub.status.busy": "2025-07-07T09:35:47.647683Z",
     "iopub.status.idle": "2025-07-07T09:35:47.651905Z",
     "shell.execute_reply": "2025-07-07T09:35:47.651003Z"
    },
    "papermill": {
     "duration": 0.256811,
     "end_time": "2025-07-07T09:35:47.653740",
     "exception": false,
     "start_time": "2025-07-07T09:35:47.396929",
     "status": "completed"
    },
    "tags": []
   },
   "outputs": [],
   "source": [
    "# v3 = pd.read_hdf('/kaggle/input/dataver3/dataver3.h5', key='df')"
   ]
  },
  {
   "cell_type": "code",
   "execution_count": 28,
   "id": "c0c1c9bb",
   "metadata": {
    "execution": {
     "iopub.execute_input": "2025-07-07T09:35:48.024733Z",
     "iopub.status.busy": "2025-07-07T09:35:48.024396Z",
     "iopub.status.idle": "2025-07-07T09:35:48.028516Z",
     "shell.execute_reply": "2025-07-07T09:35:48.027648Z"
    },
    "papermill": {
     "duration": 0.18891,
     "end_time": "2025-07-07T09:35:48.029911",
     "exception": false,
     "start_time": "2025-07-07T09:35:47.841001",
     "status": "completed"
    },
    "tags": []
   },
   "outputs": [],
   "source": [
    "# display(v3)"
   ]
  },
  {
   "cell_type": "code",
   "execution_count": 29,
   "id": "878ca9e7",
   "metadata": {
    "execution": {
     "iopub.execute_input": "2025-07-07T09:35:48.402014Z",
     "iopub.status.busy": "2025-07-07T09:35:48.401673Z",
     "iopub.status.idle": "2025-07-07T09:35:48.405836Z",
     "shell.execute_reply": "2025-07-07T09:35:48.404755Z"
    },
    "papermill": {
     "duration": 0.195451,
     "end_time": "2025-07-07T09:35:48.407588",
     "exception": false,
     "start_time": "2025-07-07T09:35:48.212137",
     "status": "completed"
    },
    "tags": []
   },
   "outputs": [],
   "source": [
    "# v3.info()"
   ]
  },
  {
   "cell_type": "markdown",
   "id": "94c4e051",
   "metadata": {
    "papermill": {
     "duration": 0.178602,
     "end_time": "2025-07-07T09:35:48.768236",
     "exception": false,
     "start_time": "2025-07-07T09:35:48.589634",
     "status": "completed"
    },
    "tags": []
   },
   "source": [
    "## Completeness"
   ]
  },
  {
   "cell_type": "code",
   "execution_count": 30,
   "id": "cea1e0d0",
   "metadata": {
    "execution": {
     "iopub.execute_input": "2025-07-07T09:35:49.199769Z",
     "iopub.status.busy": "2025-07-07T09:35:49.199408Z",
     "iopub.status.idle": "2025-07-07T09:35:49.203540Z",
     "shell.execute_reply": "2025-07-07T09:35:49.202490Z"
    },
    "papermill": {
     "duration": 0.18724,
     "end_time": "2025-07-07T09:35:49.205670",
     "exception": false,
     "start_time": "2025-07-07T09:35:49.018430",
     "status": "completed"
    },
    "tags": []
   },
   "outputs": [],
   "source": [
    "# v3 = calc_completeness(v3)"
   ]
  },
  {
   "cell_type": "code",
   "execution_count": 31,
   "id": "aa8f6db6",
   "metadata": {
    "execution": {
     "iopub.execute_input": "2025-07-07T09:35:49.561853Z",
     "iopub.status.busy": "2025-07-07T09:35:49.561545Z",
     "iopub.status.idle": "2025-07-07T09:35:49.565754Z",
     "shell.execute_reply": "2025-07-07T09:35:49.564751Z"
    },
    "papermill": {
     "duration": 0.184455,
     "end_time": "2025-07-07T09:35:49.567406",
     "exception": false,
     "start_time": "2025-07-07T09:35:49.382951",
     "status": "completed"
    },
    "tags": []
   },
   "outputs": [],
   "source": [
    "# completeness_overall = v3['row_completeness'].mean()"
   ]
  },
  {
   "cell_type": "code",
   "execution_count": 32,
   "id": "166187a9",
   "metadata": {
    "execution": {
     "iopub.execute_input": "2025-07-07T09:35:49.932964Z",
     "iopub.status.busy": "2025-07-07T09:35:49.932667Z",
     "iopub.status.idle": "2025-07-07T09:35:49.936588Z",
     "shell.execute_reply": "2025-07-07T09:35:49.935705Z"
    },
    "papermill": {
     "duration": 0.187215,
     "end_time": "2025-07-07T09:35:49.938079",
     "exception": false,
     "start_time": "2025-07-07T09:35:49.750864",
     "status": "completed"
    },
    "tags": []
   },
   "outputs": [],
   "source": [
    "# v3['row_completeness']"
   ]
  },
  {
   "cell_type": "markdown",
   "id": "da8ae9cc",
   "metadata": {
    "papermill": {
     "duration": 0.248705,
     "end_time": "2025-07-07T09:35:50.366068",
     "exception": false,
     "start_time": "2025-07-07T09:35:50.117363",
     "status": "completed"
    },
    "tags": []
   },
   "source": [
    "## Consistency"
   ]
  },
  {
   "cell_type": "code",
   "execution_count": 33,
   "id": "de120639",
   "metadata": {
    "execution": {
     "iopub.execute_input": "2025-07-07T09:35:50.726391Z",
     "iopub.status.busy": "2025-07-07T09:35:50.726049Z",
     "iopub.status.idle": "2025-07-07T09:35:50.730669Z",
     "shell.execute_reply": "2025-07-07T09:35:50.729475Z"
    },
    "papermill": {
     "duration": 0.187638,
     "end_time": "2025-07-07T09:35:50.732248",
     "exception": false,
     "start_time": "2025-07-07T09:35:50.544610",
     "status": "completed"
    },
    "tags": []
   },
   "outputs": [],
   "source": [
    "# results_df, error_df = run_consistency_check(v3, user, teacher, course, school, concept, exercise_problem, video_ccid, completeness_overall, sample_size=1000)"
   ]
  },
  {
   "cell_type": "code",
   "execution_count": 34,
   "id": "de5718b5",
   "metadata": {
    "execution": {
     "iopub.execute_input": "2025-07-07T09:35:51.095474Z",
     "iopub.status.busy": "2025-07-07T09:35:51.094608Z",
     "iopub.status.idle": "2025-07-07T09:35:51.098599Z",
     "shell.execute_reply": "2025-07-07T09:35:51.097850Z"
    },
    "papermill": {
     "duration": 0.186228,
     "end_time": "2025-07-07T09:35:51.100088",
     "exception": false,
     "start_time": "2025-07-07T09:35:50.913860",
     "status": "completed"
    },
    "tags": []
   },
   "outputs": [],
   "source": [
    "# error_df['logic'].unique()"
   ]
  },
  {
   "cell_type": "code",
   "execution_count": 35,
   "id": "aefcc745",
   "metadata": {
    "execution": {
     "iopub.execute_input": "2025-07-07T09:35:51.461357Z",
     "iopub.status.busy": "2025-07-07T09:35:51.461055Z",
     "iopub.status.idle": "2025-07-07T09:35:51.464666Z",
     "shell.execute_reply": "2025-07-07T09:35:51.463939Z"
    },
    "papermill": {
     "duration": 0.186963,
     "end_time": "2025-07-07T09:35:51.466095",
     "exception": false,
     "start_time": "2025-07-07T09:35:51.279132",
     "status": "completed"
    },
    "tags": []
   },
   "outputs": [],
   "source": [
    "# for val in v3['course_about'].unique():\n",
    "#     if isinstance(val, str) and len(val) < 5:\n",
    "#         print(val)\n"
   ]
  },
  {
   "cell_type": "markdown",
   "id": "13bb2a39",
   "metadata": {
    "papermill": {
     "duration": 0.184181,
     "end_time": "2025-07-07T09:35:51.898231",
     "exception": false,
     "start_time": "2025-07-07T09:35:51.714050",
     "status": "completed"
    },
    "tags": []
   },
   "source": [
    "# Dataset version 4: Điền khuyết bằng phương pháp GNN"
   ]
  },
  {
   "cell_type": "code",
   "execution_count": 36,
   "id": "7f82c4dd",
   "metadata": {
    "execution": {
     "iopub.execute_input": "2025-07-07T09:35:52.266705Z",
     "iopub.status.busy": "2025-07-07T09:35:52.266375Z",
     "iopub.status.idle": "2025-07-07T09:35:52.270420Z",
     "shell.execute_reply": "2025-07-07T09:35:52.269665Z"
    },
    "papermill": {
     "duration": 0.189821,
     "end_time": "2025-07-07T09:35:52.271946",
     "exception": false,
     "start_time": "2025-07-07T09:35:52.082125",
     "status": "completed"
    },
    "tags": []
   },
   "outputs": [],
   "source": [
    "# v4 = pd.read_hdf('', key='df')"
   ]
  },
  {
   "cell_type": "code",
   "execution_count": 37,
   "id": "aad16f1e",
   "metadata": {
    "execution": {
     "iopub.execute_input": "2025-07-07T09:35:52.632417Z",
     "iopub.status.busy": "2025-07-07T09:35:52.631381Z",
     "iopub.status.idle": "2025-07-07T09:35:52.635484Z",
     "shell.execute_reply": "2025-07-07T09:35:52.634667Z"
    },
    "papermill": {
     "duration": 0.186489,
     "end_time": "2025-07-07T09:35:52.637068",
     "exception": false,
     "start_time": "2025-07-07T09:35:52.450579",
     "status": "completed"
    },
    "tags": []
   },
   "outputs": [],
   "source": [
    "# display(v4)"
   ]
  },
  {
   "cell_type": "markdown",
   "id": "51ea8374",
   "metadata": {
    "papermill": {
     "duration": 0.246999,
     "end_time": "2025-07-07T09:35:53.061603",
     "exception": false,
     "start_time": "2025-07-07T09:35:52.814604",
     "status": "completed"
    },
    "tags": []
   },
   "source": [
    "## Completeness"
   ]
  },
  {
   "cell_type": "code",
   "execution_count": 38,
   "id": "a5c76731",
   "metadata": {
    "execution": {
     "iopub.execute_input": "2025-07-07T09:35:53.431852Z",
     "iopub.status.busy": "2025-07-07T09:35:53.431526Z",
     "iopub.status.idle": "2025-07-07T09:35:53.435663Z",
     "shell.execute_reply": "2025-07-07T09:35:53.434776Z"
    },
    "papermill": {
     "duration": 0.194413,
     "end_time": "2025-07-07T09:35:53.437167",
     "exception": false,
     "start_time": "2025-07-07T09:35:53.242754",
     "status": "completed"
    },
    "tags": []
   },
   "outputs": [],
   "source": [
    "# v4 = calc_completeness(v4)"
   ]
  },
  {
   "cell_type": "markdown",
   "id": "eaf71e5b",
   "metadata": {
    "papermill": {
     "duration": 0.183658,
     "end_time": "2025-07-07T09:35:53.805716",
     "exception": false,
     "start_time": "2025-07-07T09:35:53.622058",
     "status": "completed"
    },
    "tags": []
   },
   "source": [
    "## Consistency"
   ]
  },
  {
   "cell_type": "code",
   "execution_count": 39,
   "id": "2d58e4a7",
   "metadata": {
    "execution": {
     "iopub.execute_input": "2025-07-07T09:35:54.176398Z",
     "iopub.status.busy": "2025-07-07T09:35:54.176086Z",
     "iopub.status.idle": "2025-07-07T09:35:54.180246Z",
     "shell.execute_reply": "2025-07-07T09:35:54.179328Z"
    },
    "papermill": {
     "duration": 0.190254,
     "end_time": "2025-07-07T09:35:54.181767",
     "exception": false,
     "start_time": "2025-07-07T09:35:53.991513",
     "status": "completed"
    },
    "tags": []
   },
   "outputs": [],
   "source": [
    "# results_df, error_df = run_consistency_check(v4, user, teacher, course, school, concept, exercise_problem, video_ccid)"
   ]
  },
  {
   "cell_type": "code",
   "execution_count": 40,
   "id": "062e15d5",
   "metadata": {
    "execution": {
     "iopub.execute_input": "2025-07-07T09:35:54.615472Z",
     "iopub.status.busy": "2025-07-07T09:35:54.615163Z",
     "iopub.status.idle": "2025-07-07T09:35:54.619540Z",
     "shell.execute_reply": "2025-07-07T09:35:54.618580Z"
    },
    "papermill": {
     "duration": 0.187272,
     "end_time": "2025-07-07T09:35:54.621123",
     "exception": false,
     "start_time": "2025-07-07T09:35:54.433851",
     "status": "completed"
    },
    "tags": []
   },
   "outputs": [],
   "source": [
    "# %whos"
   ]
  }
 ],
 "metadata": {
  "kaggle": {
   "accelerator": "none",
   "dataSources": [
    {
     "datasetId": 7119592,
     "sourceId": 12116584,
     "sourceType": "datasetVersion"
    },
    {
     "sourceId": 240478674,
     "sourceType": "kernelVersion"
    },
    {
     "sourceId": 244677575,
     "sourceType": "kernelVersion"
    }
   ],
   "dockerImageVersionId": 31012,
   "isGpuEnabled": false,
   "isInternetEnabled": true,
   "language": "python",
   "sourceType": "notebook"
  },
  "kernelspec": {
   "display_name": "Python 3",
   "language": "python",
   "name": "python3"
  },
  "language_info": {
   "codemirror_mode": {
    "name": "ipython",
    "version": 3
   },
   "file_extension": ".py",
   "mimetype": "text/x-python",
   "name": "python",
   "nbconvert_exporter": "python",
   "pygments_lexer": "ipython3",
   "version": "3.11.11"
  },
  "papermill": {
   "default_parameters": {},
   "duration": 607.171278,
   "end_time": "2025-07-07T09:35:57.824921",
   "environment_variables": {},
   "exception": null,
   "input_path": "__notebook__.ipynb",
   "output_path": "__notebook__.ipynb",
   "parameters": {},
   "start_time": "2025-07-07T09:25:50.653643",
   "version": "2.6.0"
  }
 },
 "nbformat": 4,
 "nbformat_minor": 5
}
