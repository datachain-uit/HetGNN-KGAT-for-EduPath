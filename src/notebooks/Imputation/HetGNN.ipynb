{
 "cells": [
  {
   "cell_type": "code",
   "execution_count": 1,
   "id": "884b6a3f",
   "metadata": {
    "_cell_guid": "b1076dfc-b9ad-4769-8c92-a6c4dae69d19",
    "_uuid": "8f2839f25d086af736a60e9eeb907d3b93b6e0e5",
    "execution": {
     "iopub.execute_input": "2025-06-14T14:56:23.780686Z",
     "iopub.status.busy": "2025-06-14T14:56:23.780395Z",
     "iopub.status.idle": "2025-06-14T14:56:25.691158Z",
     "shell.execute_reply": "2025-06-14T14:56:25.690158Z"
    },
    "papermill": {
     "duration": 1.921199,
     "end_time": "2025-06-14T14:56:25.692591",
     "exception": false,
     "start_time": "2025-06-14T14:56:23.771392",
     "status": "completed"
    },
    "tags": []
   },
   "outputs": [
    {
     "name": "stdout",
     "output_type": "stream",
     "text": [
      "/kaggle/input/combine-dataset/__results__.html\n",
      "/kaggle/input/combine-dataset/combine_data.h5\n",
      "/kaggle/input/combine-dataset/__notebook__.ipynb\n",
      "/kaggle/input/combine-dataset/__output__.json\n",
      "/kaggle/input/combine-dataset/custom.css\n"
     ]
    }
   ],
   "source": [
    "# This Python 3 environment comes with many helpful analytics libraries installed\n",
    "# It is defined by the kaggle/python Docker image: https://github.com/kaggle/docker-python\n",
    "# For example, here's several helpful packages to load\n",
    "from tqdm import tqdm\n",
    "import numpy as np # linear algebra\n",
    "import pandas as pd # data processing, CSV file I/O (e.g. pd.read_csv)\n",
    "import polars as pl\n",
    "import networkx as nx\n",
    "from tqdm import tqdm\n",
    "# Input data files are available in the read-only \"../input/\" directory\n",
    "# For example, running this (by clicking run or pressing Shift+Enter) will list all files under the input directory\n",
    "\n",
    "import os\n",
    "for dirname, _, filenames in os.walk('/kaggle/input'):\n",
    "    for filename in filenames:\n",
    "        print(os.path.join(dirname, filename))\n",
    "\n",
    "# You can write up to 20GB to the current directory (/kaggle/working/) that gets preserved as output when you create a version using \"Save & Run All\" \n",
    "# You can also write temporary files to /kaggle/temp/, but they won't be saved outside of the current session"
   ]
  },
  {
   "cell_type": "code",
   "execution_count": 2,
   "id": "300ef9b0",
   "metadata": {
    "execution": {
     "iopub.execute_input": "2025-06-14T14:56:25.707984Z",
     "iopub.status.busy": "2025-06-14T14:56:25.707585Z",
     "iopub.status.idle": "2025-06-14T14:56:31.097683Z",
     "shell.execute_reply": "2025-06-14T14:56:31.096399Z"
    },
    "papermill": {
     "duration": 5.399457,
     "end_time": "2025-06-14T14:56:31.099624",
     "exception": false,
     "start_time": "2025-06-14T14:56:25.700167",
     "status": "completed"
    },
    "tags": []
   },
   "outputs": [],
   "source": [
    "%%capture\n",
    "!pip install torch-geometric"
   ]
  },
  {
   "cell_type": "markdown",
   "id": "077feb0b",
   "metadata": {
    "papermill": {
     "duration": 0.007258,
     "end_time": "2025-06-14T14:56:31.114858",
     "exception": false,
     "start_time": "2025-06-14T14:56:31.107600",
     "status": "completed"
    },
    "tags": []
   },
   "source": [
    "# Read data"
   ]
  },
  {
   "cell_type": "code",
   "execution_count": 3,
   "id": "41f6e8c6",
   "metadata": {
    "execution": {
     "iopub.execute_input": "2025-06-14T14:56:31.130449Z",
     "iopub.status.busy": "2025-06-14T14:56:31.130164Z",
     "iopub.status.idle": "2025-06-14T14:57:11.066990Z",
     "shell.execute_reply": "2025-06-14T14:57:11.066123Z"
    },
    "papermill": {
     "duration": 39.946607,
     "end_time": "2025-06-14T14:57:11.068696",
     "exception": false,
     "start_time": "2025-06-14T14:56:31.122089",
     "status": "completed"
    },
    "tags": []
   },
   "outputs": [],
   "source": [
    "combine_data=pd.read_hdf(\"/kaggle/input/combine-dataset/combine_data.h5\",key='df')"
   ]
  },
  {
   "cell_type": "code",
   "execution_count": 4,
   "id": "6a7da997",
   "metadata": {
    "execution": {
     "iopub.execute_input": "2025-06-14T14:57:11.084143Z",
     "iopub.status.busy": "2025-06-14T14:57:11.083649Z",
     "iopub.status.idle": "2025-06-14T14:57:11.087421Z",
     "shell.execute_reply": "2025-06-14T14:57:11.086568Z"
    },
    "papermill": {
     "duration": 0.012429,
     "end_time": "2025-06-14T14:57:11.088633",
     "exception": false,
     "start_time": "2025-06-14T14:57:11.076204",
     "status": "completed"
    },
    "tags": []
   },
   "outputs": [],
   "source": [
    "def display_df(df):\n",
    "    display(df.shape,df.head())"
   ]
  },
  {
   "cell_type": "code",
   "execution_count": 5,
   "id": "c3b6a162",
   "metadata": {
    "execution": {
     "iopub.execute_input": "2025-06-14T14:57:11.103547Z",
     "iopub.status.busy": "2025-06-14T14:57:11.103312Z",
     "iopub.status.idle": "2025-06-14T14:57:11.107603Z",
     "shell.execute_reply": "2025-06-14T14:57:11.106785Z"
    },
    "papermill": {
     "duration": 0.013244,
     "end_time": "2025-06-14T14:57:11.108860",
     "exception": false,
     "start_time": "2025-06-14T14:57:11.095616",
     "status": "completed"
    },
    "tags": []
   },
   "outputs": [],
   "source": [
    "def get_data(df,entity):\n",
    "    cols=df.filter(regex=f'^({entity})').columns.to_list()\n",
    "    data_df=df[cols].explode(cols).drop_duplicates().reset_index(drop=True)\n",
    "    return data_df\n",
    "def get_rel(df,col_name):\n",
    "    rel_df=df[[\"course_id\",col_name]].dropna().explode(col_name).drop_duplicates().reset_index(drop=True)\n",
    "    return rel_df\n",
    "    "
   ]
  },
  {
   "cell_type": "code",
   "execution_count": 6,
   "id": "62107121",
   "metadata": {
    "execution": {
     "iopub.execute_input": "2025-06-14T14:57:11.123258Z",
     "iopub.status.busy": "2025-06-14T14:57:11.122989Z",
     "iopub.status.idle": "2025-06-14T14:57:11.161929Z",
     "shell.execute_reply": "2025-06-14T14:57:11.161110Z"
    },
    "papermill": {
     "duration": 0.047484,
     "end_time": "2025-06-14T14:57:11.163280",
     "exception": false,
     "start_time": "2025-06-14T14:57:11.115796",
     "status": "completed"
    },
    "tags": []
   },
   "outputs": [
    {
     "data": {
      "text/html": [
       "<div>\n",
       "<style scoped>\n",
       "    .dataframe tbody tr th:only-of-type {\n",
       "        vertical-align: middle;\n",
       "    }\n",
       "\n",
       "    .dataframe tbody tr th {\n",
       "        vertical-align: top;\n",
       "    }\n",
       "\n",
       "    .dataframe thead th {\n",
       "        text-align: right;\n",
       "    }\n",
       "</style>\n",
       "<table border=\"1\" class=\"dataframe\">\n",
       "  <thead>\n",
       "    <tr style=\"text-align: right;\">\n",
       "      <th></th>\n",
       "      <th>user_id</th>\n",
       "      <th>course_id</th>\n",
       "      <th>enroll_time</th>\n",
       "      <th>course_name</th>\n",
       "      <th>course_prerequisites</th>\n",
       "      <th>course_about</th>\n",
       "      <th>course_field</th>\n",
       "      <th>school_id</th>\n",
       "      <th>school_name</th>\n",
       "      <th>school_about</th>\n",
       "      <th>...</th>\n",
       "      <th>exercise_num_problem</th>\n",
       "      <th>doing_exercise_id</th>\n",
       "      <th>doing_num_correct</th>\n",
       "      <th>concept_id</th>\n",
       "      <th>concept_prerequisite</th>\n",
       "      <th>concept_name</th>\n",
       "      <th>concept_field</th>\n",
       "      <th>course_total_comments</th>\n",
       "      <th>user_course_num_comment</th>\n",
       "      <th>user_course_num_replies</th>\n",
       "    </tr>\n",
       "  </thead>\n",
       "  <tbody>\n",
       "    <tr>\n",
       "      <th>0</th>\n",
       "      <td>U_24</td>\n",
       "      <td>C_597314</td>\n",
       "      <td>1560360127</td>\n",
       "      <td>university chinese—analysis of northern song d...</td>\n",
       "      <td></td>\n",
       "      <td>at present, the talent gap in data science and...</td>\n",
       "      <td>[chinese language and literature]</td>\n",
       "      <td>[S_1, S_14]</td>\n",
       "      <td>[tsinghua university, southeast university]</td>\n",
       "      <td>[referred tsinghua short directly ministry edu...</td>\n",
       "      <td>...</td>\n",
       "      <td>[1, 6, 4, 2, 4, 3, 2, 6, 3, 4, 5, 6, 4, 2, 2, ...</td>\n",
       "      <td>NaN</td>\n",
       "      <td>NaN</td>\n",
       "      <td>[K_D_中国语言文学, K_爱国豪情_中国语言文学, K_爱国将领_中国语言文学, K_爱...</td>\n",
       "      <td>[nan, nan, nan, nan, nan, nan, nan, nan, nan, ...</td>\n",
       "      <td>[d, patriotic pride, patriotic general, patrio...</td>\n",
       "      <td>[chinese language and literature, chinese lang...</td>\n",
       "      <td>0</td>\n",
       "      <td>0</td>\n",
       "      <td>0</td>\n",
       "    </tr>\n",
       "    <tr>\n",
       "      <th>1</th>\n",
       "      <td>U_24</td>\n",
       "      <td>C_597208</td>\n",
       "      <td>1560784961</td>\n",
       "      <td>data mining: theory and algorithm</td>\n",
       "      <td></td>\n",
       "      <td>the most interesting theory + the most useful ...</td>\n",
       "      <td>[computer science and technology]</td>\n",
       "      <td>[S_1]</td>\n",
       "      <td>[tsinghua university]</td>\n",
       "      <td>[referred tsinghua short directly ministry edu...</td>\n",
       "      <td>...</td>\n",
       "      <td>[5, 3, 5, 3, 5, 6, 3, 3, 5, 5, 4, 5, 5, 2, 5, ...</td>\n",
       "      <td>NaN</td>\n",
       "      <td>NaN</td>\n",
       "      <td>[K_0 part_计算机科学与技术, K_2 cities_计算机科学与技术, K_2d ...</td>\n",
       "      <td>[nan, nan, nan, nan, nan, nan, nan, nan, nan, ...</td>\n",
       "      <td>[part, cities, 2d space, matrix, + 2, 3d infor...</td>\n",
       "      <td>[computer science and technology, computer sci...</td>\n",
       "      <td>0</td>\n",
       "      <td>0</td>\n",
       "      <td>0</td>\n",
       "    </tr>\n",
       "    <tr>\n",
       "      <th>2</th>\n",
       "      <td>U_24</td>\n",
       "      <td>C_682129</td>\n",
       "      <td>1570379031</td>\n",
       "      <td>software theory basics</td>\n",
       "      <td></td>\n",
       "      <td>this course introduces formal language, automa...</td>\n",
       "      <td>NaN</td>\n",
       "      <td>[S_1]</td>\n",
       "      <td>[tsinghua university]</td>\n",
       "      <td>[referred tsinghua short directly ministry edu...</td>\n",
       "      <td>...</td>\n",
       "      <td>[4, 5, 5, 6, 6, 6, 7, 7, 6, 6, 6, 5, 7, 7, 6, 5]</td>\n",
       "      <td>NaN</td>\n",
       "      <td>NaN</td>\n",
       "      <td>[K_ASCII_计算机科学与技术, K_cfl的判定性质_计算机科学与技术, K_CYK算...</td>\n",
       "      <td>[nan, nan, nan, nan, nan, nan, nan, nan, nan, ...</td>\n",
       "      <td>[ascii, determination of the nature of cfl, cy...</td>\n",
       "      <td>[computer science and technology, computer sci...</td>\n",
       "      <td>13</td>\n",
       "      <td>0</td>\n",
       "      <td>0</td>\n",
       "    </tr>\n",
       "    <tr>\n",
       "      <th>3</th>\n",
       "      <td>U_24</td>\n",
       "      <td>C_674910</td>\n",
       "      <td>1570557064</td>\n",
       "      <td>pattern aesthetics and creation</td>\n",
       "      <td></td>\n",
       "      <td>[national premium course] this course provides...</td>\n",
       "      <td>NaN</td>\n",
       "      <td>[S_1]</td>\n",
       "      <td>[tsinghua university]</td>\n",
       "      <td>[referred tsinghua short directly ministry edu...</td>\n",
       "      <td>...</td>\n",
       "      <td>[1, 1, 2, 3, 1, 1, 3, 2, 2, 2, 3]</td>\n",
       "      <td>NaN</td>\n",
       "      <td>NaN</td>\n",
       "      <td>NaN</td>\n",
       "      <td>NaN</td>\n",
       "      <td>NaN</td>\n",
       "      <td>NaN</td>\n",
       "      <td>386</td>\n",
       "      <td>0</td>\n",
       "      <td>0</td>\n",
       "    </tr>\n",
       "    <tr>\n",
       "      <th>4</th>\n",
       "      <td>U_24</td>\n",
       "      <td>C_707038</td>\n",
       "      <td>1570971985</td>\n",
       "      <td>organic chemistry</td>\n",
       "      <td></td>\n",
       "      <td>the world's organic compounds are rich and col...</td>\n",
       "      <td>[chemical engineering and technology, chemical]</td>\n",
       "      <td>[S_1]</td>\n",
       "      <td>[tsinghua university]</td>\n",
       "      <td>[referred tsinghua short directly ministry edu...</td>\n",
       "      <td>...</td>\n",
       "      <td>[1, 6, 8, 1, 19, 8, 11, 7, 8, 9, 9, 1, 16, 5, ...</td>\n",
       "      <td>NaN</td>\n",
       "      <td>NaN</td>\n",
       "      <td>[K_1,4-加成_化学, K_1-溴戊烷_化学, K_1-丁醇_化学, K_1-丁烯_化学...</td>\n",
       "      <td>[nan, nan, nan, nan, nan, nan, nan, nan, nan, ...</td>\n",
       "      <td>[1,4-addition, 1-bromopentane, 1-butanol, 1-bu...</td>\n",
       "      <td>[chemical, chemical, chemical, chemical, chemi...</td>\n",
       "      <td>1876</td>\n",
       "      <td>0</td>\n",
       "      <td>0</td>\n",
       "    </tr>\n",
       "  </tbody>\n",
       "</table>\n",
       "<p>5 rows × 34 columns</p>\n",
       "</div>"
      ],
      "text/plain": [
       "  user_id course_id  enroll_time  \\\n",
       "0    U_24  C_597314   1560360127   \n",
       "1    U_24  C_597208   1560784961   \n",
       "2    U_24  C_682129   1570379031   \n",
       "3    U_24  C_674910   1570557064   \n",
       "4    U_24  C_707038   1570971985   \n",
       "\n",
       "                                         course_name course_prerequisites  \\\n",
       "0  university chinese—analysis of northern song d...                        \n",
       "1                  data mining: theory and algorithm                        \n",
       "2                             software theory basics                        \n",
       "3                    pattern aesthetics and creation                        \n",
       "4                                  organic chemistry                        \n",
       "\n",
       "                                        course_about  \\\n",
       "0  at present, the talent gap in data science and...   \n",
       "1  the most interesting theory + the most useful ...   \n",
       "2  this course introduces formal language, automa...   \n",
       "3  [national premium course] this course provides...   \n",
       "4  the world's organic compounds are rich and col...   \n",
       "\n",
       "                                      course_field    school_id  \\\n",
       "0                [chinese language and literature]  [S_1, S_14]   \n",
       "1                [computer science and technology]        [S_1]   \n",
       "2                                              NaN        [S_1]   \n",
       "3                                              NaN        [S_1]   \n",
       "4  [chemical engineering and technology, chemical]        [S_1]   \n",
       "\n",
       "                                   school_name  \\\n",
       "0  [tsinghua university, southeast university]   \n",
       "1                        [tsinghua university]   \n",
       "2                        [tsinghua university]   \n",
       "3                        [tsinghua university]   \n",
       "4                        [tsinghua university]   \n",
       "\n",
       "                                        school_about  ...  \\\n",
       "0  [referred tsinghua short directly ministry edu...  ...   \n",
       "1  [referred tsinghua short directly ministry edu...  ...   \n",
       "2  [referred tsinghua short directly ministry edu...  ...   \n",
       "3  [referred tsinghua short directly ministry edu...  ...   \n",
       "4  [referred tsinghua short directly ministry edu...  ...   \n",
       "\n",
       "                                exercise_num_problem doing_exercise_id  \\\n",
       "0  [1, 6, 4, 2, 4, 3, 2, 6, 3, 4, 5, 6, 4, 2, 2, ...               NaN   \n",
       "1  [5, 3, 5, 3, 5, 6, 3, 3, 5, 5, 4, 5, 5, 2, 5, ...               NaN   \n",
       "2   [4, 5, 5, 6, 6, 6, 7, 7, 6, 6, 6, 5, 7, 7, 6, 5]               NaN   \n",
       "3                  [1, 1, 2, 3, 1, 1, 3, 2, 2, 2, 3]               NaN   \n",
       "4  [1, 6, 8, 1, 19, 8, 11, 7, 8, 9, 9, 1, 16, 5, ...               NaN   \n",
       "\n",
       "  doing_num_correct                                         concept_id  \\\n",
       "0               NaN  [K_D_中国语言文学, K_爱国豪情_中国语言文学, K_爱国将领_中国语言文学, K_爱...   \n",
       "1               NaN  [K_0 part_计算机科学与技术, K_2 cities_计算机科学与技术, K_2d ...   \n",
       "2               NaN  [K_ASCII_计算机科学与技术, K_cfl的判定性质_计算机科学与技术, K_CYK算...   \n",
       "3               NaN                                                NaN   \n",
       "4               NaN  [K_1,4-加成_化学, K_1-溴戊烷_化学, K_1-丁醇_化学, K_1-丁烯_化学...   \n",
       "\n",
       "                                concept_prerequisite  \\\n",
       "0  [nan, nan, nan, nan, nan, nan, nan, nan, nan, ...   \n",
       "1  [nan, nan, nan, nan, nan, nan, nan, nan, nan, ...   \n",
       "2  [nan, nan, nan, nan, nan, nan, nan, nan, nan, ...   \n",
       "3                                                NaN   \n",
       "4  [nan, nan, nan, nan, nan, nan, nan, nan, nan, ...   \n",
       "\n",
       "                                        concept_name  \\\n",
       "0  [d, patriotic pride, patriotic general, patrio...   \n",
       "1  [part, cities, 2d space, matrix, + 2, 3d infor...   \n",
       "2  [ascii, determination of the nature of cfl, cy...   \n",
       "3                                                NaN   \n",
       "4  [1,4-addition, 1-bromopentane, 1-butanol, 1-bu...   \n",
       "\n",
       "                                       concept_field course_total_comments  \\\n",
       "0  [chinese language and literature, chinese lang...                     0   \n",
       "1  [computer science and technology, computer sci...                     0   \n",
       "2  [computer science and technology, computer sci...                    13   \n",
       "3                                                NaN                   386   \n",
       "4  [chemical, chemical, chemical, chemical, chemi...                  1876   \n",
       "\n",
       "  user_course_num_comment  user_course_num_replies  \n",
       "0                       0                        0  \n",
       "1                       0                        0  \n",
       "2                       0                        0  \n",
       "3                       0                        0  \n",
       "4                       0                        0  \n",
       "\n",
       "[5 rows x 34 columns]"
      ]
     },
     "execution_count": 6,
     "metadata": {},
     "output_type": "execute_result"
    }
   ],
   "source": [
    "combine_data.head()"
   ]
  },
  {
   "cell_type": "code",
   "execution_count": 7,
   "id": "49b31623",
   "metadata": {
    "execution": {
     "iopub.execute_input": "2025-06-14T14:57:11.178463Z",
     "iopub.status.busy": "2025-06-14T14:57:11.178232Z",
     "iopub.status.idle": "2025-06-14T14:57:25.166187Z",
     "shell.execute_reply": "2025-06-14T14:57:25.165334Z"
    },
    "papermill": {
     "duration": 13.997114,
     "end_time": "2025-06-14T14:57:25.167712",
     "exception": false,
     "start_time": "2025-06-14T14:57:11.170598",
     "status": "completed"
    },
    "tags": []
   },
   "outputs": [],
   "source": [
    "course_df=combine_data.filter(regex='^(course|teacher|school|video|exercise|concept)').groupby('course_id').first().reset_index()"
   ]
  },
  {
   "cell_type": "markdown",
   "id": "d1059930",
   "metadata": {
    "papermill": {
     "duration": 0.007222,
     "end_time": "2025-06-14T14:57:25.182809",
     "exception": false,
     "start_time": "2025-06-14T14:57:25.175587",
     "status": "completed"
    },
    "tags": []
   },
   "source": [
    "# User"
   ]
  },
  {
   "cell_type": "code",
   "execution_count": 8,
   "id": "828ac4d9",
   "metadata": {
    "execution": {
     "iopub.execute_input": "2025-06-14T14:57:25.198201Z",
     "iopub.status.busy": "2025-06-14T14:57:25.197938Z",
     "iopub.status.idle": "2025-06-14T14:57:26.070301Z",
     "shell.execute_reply": "2025-06-14T14:57:26.069491Z"
    },
    "papermill": {
     "duration": 0.881501,
     "end_time": "2025-06-14T14:57:26.071496",
     "exception": false,
     "start_time": "2025-06-14T14:57:25.189995",
     "status": "completed"
    },
    "tags": []
   },
   "outputs": [
    {
     "data": {
      "text/plain": [
       "(367103, 2)"
      ]
     },
     "metadata": {},
     "output_type": "display_data"
    },
    {
     "data": {
      "text/html": [
       "<div>\n",
       "<style scoped>\n",
       "    .dataframe tbody tr th:only-of-type {\n",
       "        vertical-align: middle;\n",
       "    }\n",
       "\n",
       "    .dataframe tbody tr th {\n",
       "        vertical-align: top;\n",
       "    }\n",
       "\n",
       "    .dataframe thead th {\n",
       "        text-align: right;\n",
       "    }\n",
       "</style>\n",
       "<table border=\"1\" class=\"dataframe\">\n",
       "  <thead>\n",
       "    <tr style=\"text-align: right;\">\n",
       "      <th></th>\n",
       "      <th>user_id</th>\n",
       "      <th>user_gender</th>\n",
       "    </tr>\n",
       "  </thead>\n",
       "  <tbody>\n",
       "    <tr>\n",
       "      <th>0</th>\n",
       "      <td>U_24</td>\n",
       "      <td>1</td>\n",
       "    </tr>\n",
       "    <tr>\n",
       "      <th>1</th>\n",
       "      <td>U_54</td>\n",
       "      <td>2</td>\n",
       "    </tr>\n",
       "    <tr>\n",
       "      <th>2</th>\n",
       "      <td>U_69</td>\n",
       "      <td>1</td>\n",
       "    </tr>\n",
       "    <tr>\n",
       "      <th>3</th>\n",
       "      <td>U_105</td>\n",
       "      <td>1</td>\n",
       "    </tr>\n",
       "    <tr>\n",
       "      <th>4</th>\n",
       "      <td>U_112</td>\n",
       "      <td>1</td>\n",
       "    </tr>\n",
       "  </tbody>\n",
       "</table>\n",
       "</div>"
      ],
      "text/plain": [
       "  user_id  user_gender\n",
       "0    U_24            1\n",
       "1    U_54            2\n",
       "2    U_69            1\n",
       "3   U_105            1\n",
       "4   U_112            1"
      ]
     },
     "metadata": {},
     "output_type": "display_data"
    }
   ],
   "source": [
    "user_data = combine_data[['user_id','user_gender']].drop_duplicates().reset_index(drop=True)\n",
    "display_df(user_data)"
   ]
  },
  {
   "cell_type": "code",
   "execution_count": 9,
   "id": "025a2a8f",
   "metadata": {
    "execution": {
     "iopub.execute_input": "2025-06-14T14:57:26.087492Z",
     "iopub.status.busy": "2025-06-14T14:57:26.087262Z",
     "iopub.status.idle": "2025-06-14T14:57:26.104651Z",
     "shell.execute_reply": "2025-06-14T14:57:26.103985Z"
    },
    "papermill": {
     "duration": 0.026588,
     "end_time": "2025-06-14T14:57:26.105897",
     "exception": false,
     "start_time": "2025-06-14T14:57:26.079309",
     "status": "completed"
    },
    "tags": []
   },
   "outputs": [
    {
     "data": {
      "text/plain": [
       "(2766, 6)"
      ]
     },
     "metadata": {},
     "output_type": "display_data"
    },
    {
     "data": {
      "text/html": [
       "<div>\n",
       "<style scoped>\n",
       "    .dataframe tbody tr th:only-of-type {\n",
       "        vertical-align: middle;\n",
       "    }\n",
       "\n",
       "    .dataframe tbody tr th {\n",
       "        vertical-align: top;\n",
       "    }\n",
       "\n",
       "    .dataframe thead th {\n",
       "        text-align: right;\n",
       "    }\n",
       "</style>\n",
       "<table border=\"1\" class=\"dataframe\">\n",
       "  <thead>\n",
       "    <tr style=\"text-align: right;\">\n",
       "      <th></th>\n",
       "      <th>course_id</th>\n",
       "      <th>course_name</th>\n",
       "      <th>course_prerequisites</th>\n",
       "      <th>course_about</th>\n",
       "      <th>course_field</th>\n",
       "      <th>course_total_comments</th>\n",
       "    </tr>\n",
       "  </thead>\n",
       "  <tbody>\n",
       "    <tr>\n",
       "      <th>0</th>\n",
       "      <td>C_1017355</td>\n",
       "      <td>introduction to traditional chinese medicine e...</td>\n",
       "      <td>the main subjects are college students who hav...</td>\n",
       "      <td>traditional chinese medicine culture - the tre...</td>\n",
       "      <td>None</td>\n",
       "      <td>39624</td>\n",
       "    </tr>\n",
       "    <tr>\n",
       "      <th>1</th>\n",
       "      <td>C_1017419</td>\n",
       "      <td>smart government talk</td>\n",
       "      <td></td>\n",
       "      <td>this course combines specific cases of traffic...</td>\n",
       "      <td>None</td>\n",
       "      <td>609</td>\n",
       "    </tr>\n",
       "    <tr>\n",
       "      <th>2</th>\n",
       "      <td>C_1025064</td>\n",
       "      <td>principles of ideological and political education</td>\n",
       "      <td></td>\n",
       "      <td>hello, dear classmate! do you want to know how...</td>\n",
       "      <td>None</td>\n",
       "      <td>696</td>\n",
       "    </tr>\n",
       "    <tr>\n",
       "      <th>3</th>\n",
       "      <td>C_1025076</td>\n",
       "      <td>advanced roller skating tutorial</td>\n",
       "      <td></td>\n",
       "      <td>the true meaning of experiencing roller skatin...</td>\n",
       "      <td>None</td>\n",
       "      <td>2</td>\n",
       "    </tr>\n",
       "    <tr>\n",
       "      <th>4</th>\n",
       "      <td>C_1025079</td>\n",
       "      <td>scientific fitness method-silk-winding fitness...</td>\n",
       "      <td>none</td>\n",
       "      <td>silk wrapping skills are the chinese solution ...</td>\n",
       "      <td>None</td>\n",
       "      <td>125</td>\n",
       "    </tr>\n",
       "  </tbody>\n",
       "</table>\n",
       "</div>"
      ],
      "text/plain": [
       "   course_id                                        course_name  \\\n",
       "0  C_1017355  introduction to traditional chinese medicine e...   \n",
       "1  C_1017419                              smart government talk   \n",
       "2  C_1025064  principles of ideological and political education   \n",
       "3  C_1025076                   advanced roller skating tutorial   \n",
       "4  C_1025079  scientific fitness method-silk-winding fitness...   \n",
       "\n",
       "                                course_prerequisites  \\\n",
       "0  the main subjects are college students who hav...   \n",
       "1                                                      \n",
       "2                                                      \n",
       "3                                                      \n",
       "4                                               none   \n",
       "\n",
       "                                        course_about course_field  \\\n",
       "0  traditional chinese medicine culture - the tre...         None   \n",
       "1  this course combines specific cases of traffic...         None   \n",
       "2  hello, dear classmate! do you want to know how...         None   \n",
       "3  the true meaning of experiencing roller skatin...         None   \n",
       "4  silk wrapping skills are the chinese solution ...         None   \n",
       "\n",
       "   course_total_comments  \n",
       "0                  39624  \n",
       "1                    609  \n",
       "2                    696  \n",
       "3                      2  \n",
       "4                    125  "
      ]
     },
     "metadata": {},
     "output_type": "display_data"
    }
   ],
   "source": [
    "course_data = course_df.filter(regex='^(course)').groupby('course_id').first().reset_index()\n",
    "display_df(course_data)"
   ]
  },
  {
   "cell_type": "code",
   "execution_count": 10,
   "id": "a3480f4f",
   "metadata": {
    "execution": {
     "iopub.execute_input": "2025-06-14T14:57:26.121726Z",
     "iopub.status.busy": "2025-06-14T14:57:26.121517Z",
     "iopub.status.idle": "2025-06-14T14:57:26.528275Z",
     "shell.execute_reply": "2025-06-14T14:57:26.527526Z"
    },
    "papermill": {
     "duration": 0.41628,
     "end_time": "2025-06-14T14:57:26.529817",
     "exception": false,
     "start_time": "2025-06-14T14:57:26.113537",
     "status": "completed"
    },
    "tags": []
   },
   "outputs": [],
   "source": [
    "school_data = get_data(course_df,\"school\")\n",
    "teacher_data = get_data(course_df,\"teacher\")\n",
    "video_data = get_data(course_df,\"video\")\n",
    "exercise_data = get_data(course_df,\"exercise\")\n",
    "concept_data = get_data(course_df,\"concept\")"
   ]
  },
  {
   "cell_type": "code",
   "execution_count": 11,
   "id": "2b9201c5",
   "metadata": {
    "execution": {
     "iopub.execute_input": "2025-06-14T14:57:26.546649Z",
     "iopub.status.busy": "2025-06-14T14:57:26.546413Z",
     "iopub.status.idle": "2025-06-14T14:57:35.749957Z",
     "shell.execute_reply": "2025-06-14T14:57:35.749029Z"
    },
    "papermill": {
     "duration": 9.213309,
     "end_time": "2025-06-14T14:57:35.751369",
     "exception": false,
     "start_time": "2025-06-14T14:57:26.538060",
     "status": "completed"
    },
    "tags": []
   },
   "outputs": [
    {
     "name": "stdout",
     "output_type": "stream",
     "text": [
      "Số lượng train: 6917397, Số lượng test: 367103\n"
     ]
    }
   ],
   "source": [
    "user_course=combine_data[['user_id','course_id','enroll_time']]\n",
    "import pandas as pd\n",
    "\n",
    "# Giả sử user_course đã được tạo:\n",
    "# user_course = combine_data[['user_id', 'course_id', 'enroll_time']]\n",
    "\n",
    "# Sắp xếp theo user và enroll_time\n",
    "user_course = user_course.sort_values(['user_id', 'enroll_time'])\n",
    "\n",
    "# Đánh số thứ tự các khóa học của mỗi user\n",
    "user_course['rank'] = user_course.groupby('user_id').cumcount(ascending=True)\n",
    "\n",
    "# Tìm khóa học cuối cùng (có rank lớn nhất) của mỗi user\n",
    "max_rank = user_course.groupby('user_id')['rank'].max().reset_index().rename(columns={'rank': 'max_rank'})\n",
    "\n",
    "# Merge để gán max_rank vào bảng user_course\n",
    "user_course = user_course.merge(max_rank, on='user_id')\n",
    "\n",
    "# Chia dữ liệu\n",
    "test_set = user_course[user_course['rank'] == user_course['max_rank']].drop(['rank', 'max_rank'], axis=1)\n",
    "train_set = user_course[user_course['rank'] < user_course['max_rank']].drop(['rank', 'max_rank'], axis=1)\n",
    "\n",
    "print(f\"Số lượng train: {len(train_set)}, Số lượng test: {len(test_set)}\")\n"
   ]
  },
  {
   "cell_type": "code",
   "execution_count": 12,
   "id": "0ad722f2",
   "metadata": {
    "execution": {
     "iopub.execute_input": "2025-06-14T14:57:35.768285Z",
     "iopub.status.busy": "2025-06-14T14:57:35.768010Z",
     "iopub.status.idle": "2025-06-14T14:57:35.777289Z",
     "shell.execute_reply": "2025-06-14T14:57:35.776475Z"
    },
    "papermill": {
     "duration": 0.019,
     "end_time": "2025-06-14T14:57:35.778596",
     "exception": false,
     "start_time": "2025-06-14T14:57:35.759596",
     "status": "completed"
    },
    "tags": []
   },
   "outputs": [
    {
     "data": {
      "text/html": [
       "<div>\n",
       "<style scoped>\n",
       "    .dataframe tbody tr th:only-of-type {\n",
       "        vertical-align: middle;\n",
       "    }\n",
       "\n",
       "    .dataframe tbody tr th {\n",
       "        vertical-align: top;\n",
       "    }\n",
       "\n",
       "    .dataframe thead th {\n",
       "        text-align: right;\n",
       "    }\n",
       "</style>\n",
       "<table border=\"1\" class=\"dataframe\">\n",
       "  <thead>\n",
       "    <tr style=\"text-align: right;\">\n",
       "      <th></th>\n",
       "      <th>user_id</th>\n",
       "      <th>course_id</th>\n",
       "      <th>enroll_time</th>\n",
       "    </tr>\n",
       "  </thead>\n",
       "  <tbody>\n",
       "    <tr>\n",
       "      <th>0</th>\n",
       "      <td>U_1000129</td>\n",
       "      <td>C_735210</td>\n",
       "      <td>1599328511</td>\n",
       "    </tr>\n",
       "    <tr>\n",
       "      <th>1</th>\n",
       "      <td>U_1000129</td>\n",
       "      <td>C_799796</td>\n",
       "      <td>1599328642</td>\n",
       "    </tr>\n",
       "    <tr>\n",
       "      <th>2</th>\n",
       "      <td>U_1000129</td>\n",
       "      <td>C_1925903</td>\n",
       "      <td>1599403037</td>\n",
       "    </tr>\n",
       "    <tr>\n",
       "      <th>3</th>\n",
       "      <td>U_1000129</td>\n",
       "      <td>C_1992970</td>\n",
       "      <td>1599403537</td>\n",
       "    </tr>\n",
       "    <tr>\n",
       "      <th>4</th>\n",
       "      <td>U_1000129</td>\n",
       "      <td>C_680884</td>\n",
       "      <td>1602844869</td>\n",
       "    </tr>\n",
       "    <tr>\n",
       "      <th>...</th>\n",
       "      <td>...</td>\n",
       "      <td>...</td>\n",
       "      <td>...</td>\n",
       "    </tr>\n",
       "    <tr>\n",
       "      <th>7284494</th>\n",
       "      <td>U_99996</td>\n",
       "      <td>C_922850</td>\n",
       "      <td>1578691240</td>\n",
       "    </tr>\n",
       "    <tr>\n",
       "      <th>7284495</th>\n",
       "      <td>U_99996</td>\n",
       "      <td>C_936990</td>\n",
       "      <td>1578691372</td>\n",
       "    </tr>\n",
       "    <tr>\n",
       "      <th>7284496</th>\n",
       "      <td>U_99996</td>\n",
       "      <td>C_697407</td>\n",
       "      <td>1578691681</td>\n",
       "    </tr>\n",
       "    <tr>\n",
       "      <th>7284497</th>\n",
       "      <td>U_99996</td>\n",
       "      <td>C_696679</td>\n",
       "      <td>1578692110</td>\n",
       "    </tr>\n",
       "    <tr>\n",
       "      <th>7284498</th>\n",
       "      <td>U_99996</td>\n",
       "      <td>C_943250</td>\n",
       "      <td>1578692262</td>\n",
       "    </tr>\n",
       "  </tbody>\n",
       "</table>\n",
       "<p>6917397 rows × 3 columns</p>\n",
       "</div>"
      ],
      "text/plain": [
       "           user_id  course_id  enroll_time\n",
       "0        U_1000129   C_735210   1599328511\n",
       "1        U_1000129   C_799796   1599328642\n",
       "2        U_1000129  C_1925903   1599403037\n",
       "3        U_1000129  C_1992970   1599403537\n",
       "4        U_1000129   C_680884   1602844869\n",
       "...            ...        ...          ...\n",
       "7284494    U_99996   C_922850   1578691240\n",
       "7284495    U_99996   C_936990   1578691372\n",
       "7284496    U_99996   C_697407   1578691681\n",
       "7284497    U_99996   C_696679   1578692110\n",
       "7284498    U_99996   C_943250   1578692262\n",
       "\n",
       "[6917397 rows x 3 columns]"
      ]
     },
     "execution_count": 12,
     "metadata": {},
     "output_type": "execute_result"
    }
   ],
   "source": [
    "train_set"
   ]
  },
  {
   "cell_type": "code",
   "execution_count": 13,
   "id": "d0d33ea3",
   "metadata": {
    "execution": {
     "iopub.execute_input": "2025-06-14T14:57:35.795411Z",
     "iopub.status.busy": "2025-06-14T14:57:35.795197Z",
     "iopub.status.idle": "2025-06-14T14:57:36.211593Z",
     "shell.execute_reply": "2025-06-14T14:57:36.210628Z"
    },
    "papermill": {
     "duration": 0.426586,
     "end_time": "2025-06-14T14:57:36.213249",
     "exception": false,
     "start_time": "2025-06-14T14:57:35.786663",
     "status": "completed"
    },
    "tags": []
   },
   "outputs": [],
   "source": [
    "user_course=train_set[['user_id','course_id']]\n",
    "course_school=get_rel(course_df,\"school_id\")\n",
    "course_teacher=get_rel(course_df,\"teacher_id\")\n",
    "course_video=get_rel(course_df,\"video_ccid\")\n",
    "course_exercise=get_rel(course_df,\"exercise_id\")\n",
    "course_concept=get_rel(course_df,\"concept_id\")\n",
    "course_field=get_rel(course_df,\"course_field\")"
   ]
  },
  {
   "cell_type": "code",
   "execution_count": null,
   "id": "0e80b352",
   "metadata": {
    "papermill": {
     "duration": 0.008079,
     "end_time": "2025-06-14T14:57:36.229797",
     "exception": false,
     "start_time": "2025-06-14T14:57:36.221718",
     "status": "completed"
    },
    "tags": []
   },
   "outputs": [],
   "source": []
  },
  {
   "cell_type": "code",
   "execution_count": 14,
   "id": "28d18352",
   "metadata": {
    "execution": {
     "iopub.execute_input": "2025-06-14T14:57:36.246324Z",
     "iopub.status.busy": "2025-06-14T14:57:36.246022Z",
     "iopub.status.idle": "2025-06-14T14:57:36.675454Z",
     "shell.execute_reply": "2025-06-14T14:57:36.674379Z"
    },
    "papermill": {
     "duration": 0.439407,
     "end_time": "2025-06-14T14:57:36.676963",
     "exception": false,
     "start_time": "2025-06-14T14:57:36.237556",
     "status": "completed"
    },
    "tags": []
   },
   "outputs": [
    {
     "name": "stdout",
     "output_type": "stream",
     "text": [
      "Số user:  367103\n",
      "Số khóa học:  2766\n",
      "Số trường học:  410\n",
      "Số giảng viên:  8909\n",
      "Số video:  55831\n",
      "Số exercise:  57303\n",
      "Số lĩnh vực:  78\n",
      "Số liên kết User_Course 6917397\n",
      "Số liên kết Course_School:  2747\n",
      "Số liên kết Course_Teacher:  10655\n",
      "Số liên kết Course_Field:  564\n",
      "Số liên kết Course_Video:  67880\n",
      "Số liên kết Course_Exercise:  57303\n"
     ]
    }
   ],
   "source": [
    "print(\"Số user: \", user_course.user_id.nunique())\n",
    "print(\"Số khóa học: \", course_data.course_id.nunique())\n",
    "print(\"Số trường học: \", school_data.school_id.nunique())\n",
    "print(\"Số giảng viên: \", teacher_data.teacher_id.nunique())\n",
    "print(\"Số video: \", video_data.video_ccid.nunique())\n",
    "print(\"Số exercise: \", exercise_data.exercise_id.nunique())\n",
    "print(\"Số lĩnh vực: \", course_field.course_field.nunique())\n",
    "print(\"Số liên kết User_Course\", user_course.shape[0])\n",
    "print(\"Số liên kết Course_School: \", len(course_school))\n",
    "print(\"Số liên kết Course_Teacher: \", len(course_teacher))\n",
    "print(\"Số liên kết Course_Field: \", len(course_field))\n",
    "print(\"Số liên kết Course_Video: \", len(course_video))\n",
    "print(\"Số liên kết Course_Exercise: \", len(course_exercise))"
   ]
  },
  {
   "cell_type": "code",
   "execution_count": 15,
   "id": "040e9792",
   "metadata": {
    "execution": {
     "iopub.execute_input": "2025-06-14T14:57:36.694189Z",
     "iopub.status.busy": "2025-06-14T14:57:36.693922Z",
     "iopub.status.idle": "2025-06-14T14:57:36.699865Z",
     "shell.execute_reply": "2025-06-14T14:57:36.698992Z"
    },
    "papermill": {
     "duration": 0.015818,
     "end_time": "2025-06-14T14:57:36.701122",
     "exception": false,
     "start_time": "2025-06-14T14:57:36.685304",
     "status": "completed"
    },
    "tags": []
   },
   "outputs": [
    {
     "name": "stdout",
     "output_type": "stream",
     "text": [
      "Course_id:  ['course_id', 'course_name', 'course_prerequisites', 'course_about', 'course_field', 'course_total_comments']\n",
      "School_id:  ['school_id', 'school_name', 'school_about', 'school_motto']\n",
      "Teacher_id:  ['teacher_id', 'teacher_name', 'teacher_about', 'teacher_job_title', 'teacher_org_name']\n",
      "Video_id:  ['video_id', 'video_ccid', 'video_duration']\n",
      "Exercise_id:  ['exercise_id', 'exercise_num_problem']\n"
     ]
    }
   ],
   "source": [
    "print(\"Course_id: \",course_data.columns.to_list())\n",
    "print(\"School_id: \",school_data.columns.to_list())\n",
    "print(\"Teacher_id: \",teacher_data.columns.to_list())\n",
    "print(\"Video_id: \",video_data.columns.to_list())\n",
    "print(\"Exercise_id: \",exercise_data.columns.to_list())"
   ]
  },
  {
   "cell_type": "code",
   "execution_count": 16,
   "id": "f7748d7e",
   "metadata": {
    "execution": {
     "iopub.execute_input": "2025-06-14T14:57:36.717809Z",
     "iopub.status.busy": "2025-06-14T14:57:36.717578Z",
     "iopub.status.idle": "2025-06-14T14:57:37.752983Z",
     "shell.execute_reply": "2025-06-14T14:57:37.752325Z"
    },
    "papermill": {
     "duration": 1.045424,
     "end_time": "2025-06-14T14:57:37.754543",
     "exception": false,
     "start_time": "2025-06-14T14:57:36.709119",
     "status": "completed"
    },
    "tags": []
   },
   "outputs": [],
   "source": [
    "from sklearn.preprocessing import LabelEncoder\n",
    "\n",
    "def create_node_mapping(df, id_col):\n",
    "    \"\"\"\n",
    "    Tạo mapping từ node ID gốc sang chỉ số index.\n",
    "    \n",
    "    Args:\n",
    "        df (pd.DataFrame): DataFrame chứa các ID.\n",
    "        id_col (str): Tên cột ID cần encode.\n",
    "        \n",
    "    Returns:\n",
    "        dict: Mapping từ ID gốc sang index.\n",
    "        LabelEncoder: Encoder đã fit để encode/transform sau này nếu cần.\n",
    "    \"\"\"\n",
    "    encoder = LabelEncoder()\n",
    "    node_ids = encoder.fit_transform(df[id_col].unique())\n",
    "    node_id_map = dict(zip(encoder.classes_, node_ids))\n",
    "    return node_id_map, encoder"
   ]
  },
  {
   "cell_type": "code",
   "execution_count": 17,
   "id": "1e4713f1",
   "metadata": {
    "execution": {
     "iopub.execute_input": "2025-06-14T14:57:37.772921Z",
     "iopub.status.busy": "2025-06-14T14:57:37.772226Z",
     "iopub.status.idle": "2025-06-14T14:57:40.284813Z",
     "shell.execute_reply": "2025-06-14T14:57:40.284031Z"
    },
    "papermill": {
     "duration": 2.522945,
     "end_time": "2025-06-14T14:57:40.286473",
     "exception": false,
     "start_time": "2025-06-14T14:57:37.763528",
     "status": "completed"
    },
    "tags": []
   },
   "outputs": [],
   "source": [
    "# Tạo mapping\n",
    "user_id_map, user_encoder = create_node_mapping(user_course, 'user_id')\n",
    "course_id_map, course_encoder = create_node_mapping(user_course, 'course_id')\n",
    "teacher_id_map, teacher_encoder = create_node_mapping(course_teacher, 'teacher_id')\n",
    "school_id_map, school_encoder = create_node_mapping(course_school, 'school_id')\n",
    "video_id_map, video_encoder = create_node_mapping(course_video, 'video_ccid')\n",
    "exercise_id_map, exercise_encoder = create_node_mapping(course_exercise, 'exercise_id')\n",
    "field_id_map, field_encoder = create_node_mapping(course_field, 'course_field')\n",
    "concept_id_map, concept_encoder = create_node_mapping(course_concept, 'concept_id')"
   ]
  },
  {
   "cell_type": "code",
   "execution_count": 18,
   "id": "1b7210a0",
   "metadata": {
    "execution": {
     "iopub.execute_input": "2025-06-14T14:57:40.303770Z",
     "iopub.status.busy": "2025-06-14T14:57:40.303518Z",
     "iopub.status.idle": "2025-06-14T14:57:48.840728Z",
     "shell.execute_reply": "2025-06-14T14:57:48.839971Z"
    },
    "papermill": {
     "duration": 8.547411,
     "end_time": "2025-06-14T14:57:48.842288",
     "exception": false,
     "start_time": "2025-06-14T14:57:40.294877",
     "status": "completed"
    },
    "tags": []
   },
   "outputs": [
    {
     "name": "stderr",
     "output_type": "stream",
     "text": [
      "<ipython-input-18-a5b1d3c65adb>:20: UserWarning: Creating a tensor from a list of numpy.ndarrays is extremely slow. Please consider converting the list to a single numpy.ndarray with numpy.array() before converting to a tensor. (Triggered internally at ../torch/csrc/utils/tensor_new.cpp:278.)\n",
      "  edge_index = torch.tensor([edges['src_idx'].values, edges['dst_idx'].values], dtype=torch.long)\n"
     ]
    }
   ],
   "source": [
    "import torch\n",
    "\n",
    "def create_edge_index(df, src_col, dst_col, src_map, dst_map):\n",
    "    \"\"\"\n",
    "    Tạo edge_index từ dataframe và mapping.\n",
    "    \n",
    "    Args:\n",
    "        df (pd.DataFrame): Bảng chứa các edge.\n",
    "        src_col (str): Cột ID source node.\n",
    "        dst_col (str): Cột ID destination node.\n",
    "        src_map (dict): Mapping ID → index cho source node.\n",
    "        dst_map (dict): Mapping ID → index cho destination node.\n",
    "        \n",
    "    Returns:\n",
    "        torch.LongTensor: edge_index dạng (2, num_edges)\n",
    "    \"\"\"\n",
    "    edges = df.copy()\n",
    "    edges['src_idx'] = edges[src_col].map(src_map)\n",
    "    edges['dst_idx'] = edges[dst_col].map(dst_map)\n",
    "    edge_index = torch.tensor([edges['src_idx'].values, edges['dst_idx'].values], dtype=torch.long)\n",
    "    return edge_index\n",
    "\n",
    "# Tạo từng edge_index\n",
    "user_course_edge_index = create_edge_index(user_course, 'user_id', 'course_id', user_id_map, course_id_map)\n",
    "course_teacher_edge_index = create_edge_index(course_teacher, 'course_id', 'teacher_id', course_id_map, teacher_id_map)\n",
    "course_school_edge_index = create_edge_index(course_school, 'course_id', 'school_id', course_id_map, school_id_map)\n",
    "course_video_edge_index = create_edge_index(course_video, 'course_id', 'video_ccid', course_id_map, video_id_map)\n",
    "course_exercise_edge_index = create_edge_index(course_exercise, 'course_id', 'exercise_id', course_id_map, exercise_id_map)\n",
    "course_field_edge_index = create_edge_index(course_field, 'course_id', 'course_field', course_id_map, field_id_map)\n",
    "course_concept_edge_index = create_edge_index(course_concept, 'course_id', 'concept_id', course_id_map, concept_id_map)\n"
   ]
  },
  {
   "cell_type": "code",
   "execution_count": 19,
   "id": "47f368e4",
   "metadata": {
    "execution": {
     "iopub.execute_input": "2025-06-14T14:57:48.859933Z",
     "iopub.status.busy": "2025-06-14T14:57:48.859369Z",
     "iopub.status.idle": "2025-06-14T14:57:54.706287Z",
     "shell.execute_reply": "2025-06-14T14:57:54.704911Z"
    },
    "papermill": {
     "duration": 5.857337,
     "end_time": "2025-06-14T14:57:54.708038",
     "exception": false,
     "start_time": "2025-06-14T14:57:48.850701",
     "status": "completed"
    },
    "tags": []
   },
   "outputs": [],
   "source": [
    "from torch_geometric.data import HeteroData\n",
    "\n",
    "data = HeteroData()\n",
    "\n",
    "# Khởi tạo node (số lượng node là bắt buộc)\n",
    "data['user'].num_nodes = len(user_id_map)\n",
    "data['course'].num_nodes = len(course_id_map)\n",
    "data['teacher'].num_nodes = len(teacher_id_map)\n",
    "data['school'].num_nodes = len(school_id_map)\n",
    "data['video'].num_nodes = len(video_id_map)\n",
    "data['exercise'].num_nodes = len(exercise_id_map)\n",
    "data['field'].num_nodes = len(field_id_map)\n",
    "data['concept'].num_nodes = len(concept_id_map)\n",
    "\n",
    "# Ví dụ: Khởi tạo random feature 16 chiều cho mỗi node type\n",
    "node_dim = 16\n",
    "data['user'].x = torch.randn(data['user'].num_nodes, node_dim)\n",
    "data['course'].x = torch.randn(data['course'].num_nodes, node_dim)\n",
    "data['teacher'].x = torch.randn(data['teacher'].num_nodes, node_dim)\n",
    "data['school'].x = torch.randn(data['school'].num_nodes, node_dim)\n",
    "data['video'].x = torch.randn(data['video'].num_nodes, node_dim)\n",
    "data['exercise'].x = torch.randn(data['exercise'].num_nodes, node_dim)\n",
    "data['field'].x = torch.randn(data['field'].num_nodes, node_dim)\n",
    "data['concept'].x = torch.randn(data['concept'].num_nodes, node_dim)\n",
    "\n",
    "# Thêm edge cho từng loại\n",
    "data['user', 'enrolls', 'course'].edge_index = user_course_edge_index\n",
    "data['course', 'taught_by', 'teacher'].edge_index = course_teacher_edge_index\n",
    "data['course', 'belongs_to', 'school'].edge_index = course_school_edge_index\n",
    "data['course', 'has_video', 'video'].edge_index = course_video_edge_index\n",
    "data['course', 'has_exercise', 'exercise'].edge_index = course_exercise_edge_index\n",
    "data['course', 'has_field', 'field'].edge_index = course_field_edge_index\n",
    "data['course', 'has_concept', 'concept'].edge_index = course_concept_edge_index\n"
   ]
  },
  {
   "cell_type": "code",
   "execution_count": 20,
   "id": "7b11e01d",
   "metadata": {
    "execution": {
     "iopub.execute_input": "2025-06-14T14:57:54.726085Z",
     "iopub.status.busy": "2025-06-14T14:57:54.725542Z",
     "iopub.status.idle": "2025-06-14T14:57:54.729346Z",
     "shell.execute_reply": "2025-06-14T14:57:54.728668Z"
    },
    "papermill": {
     "duration": 0.013716,
     "end_time": "2025-06-14T14:57:54.730474",
     "exception": false,
     "start_time": "2025-06-14T14:57:54.716758",
     "status": "completed"
    },
    "tags": []
   },
   "outputs": [],
   "source": [
    "# Đảm bảo tất cả node types đều có feature\n",
    "for node_type in data.node_types:\n",
    "    if 'x' not in data[node_type]:\n",
    "        num_nodes = data[node_type].num_nodes\n",
    "        data[node_type].x = torch.randn(num_nodes, node_dim)\n"
   ]
  },
  {
   "cell_type": "code",
   "execution_count": 21,
   "id": "7044fc13",
   "metadata": {
    "execution": {
     "iopub.execute_input": "2025-06-14T14:57:54.747307Z",
     "iopub.status.busy": "2025-06-14T14:57:54.747060Z",
     "iopub.status.idle": "2025-06-14T14:57:54.752645Z",
     "shell.execute_reply": "2025-06-14T14:57:54.752066Z"
    },
    "papermill": {
     "duration": 0.015399,
     "end_time": "2025-06-14T14:57:54.753830",
     "exception": false,
     "start_time": "2025-06-14T14:57:54.738431",
     "status": "completed"
    },
    "tags": []
   },
   "outputs": [],
   "source": [
    "import torch\n",
    "from torch_geometric.data import HeteroData\n",
    "from torch_geometric.nn import SAGEConv, HeteroConv\n",
    "from torch.nn import Module\n",
    "from torch.nn.functional import binary_cross_entropy_with_logits\n",
    "from torch_geometric.transforms import ToUndirected\n",
    "# 1. Build HeteroGNN model\n",
    "class HeteroGNN(Module):\n",
    "    def __init__(self, metadata, hidden_channels=32):\n",
    "        super().__init__()\n",
    "        self.conv1 = HeteroConv({\n",
    "            edge_type: SAGEConv((-1, -1), hidden_channels)\n",
    "            for edge_type in metadata[1]\n",
    "        }, aggr='sum')\n",
    "\n",
    "        self.conv2 = HeteroConv({\n",
    "            edge_type: SAGEConv((-1, -1), hidden_channels)\n",
    "            for edge_type in metadata[1]\n",
    "        }, aggr='sum')\n",
    "\n",
    "    def forward(self, x_dict, edge_index_dict):\n",
    "        x_dict = self.conv1(x_dict, edge_index_dict)\n",
    "        x_dict = {key: x.relu() if x is not None else x_dict[key] for key, x in x_dict.items()}\n",
    "        x_dict = self.conv2(x_dict, edge_index_dict)\n",
    "        x_dict = {key: x if x is not None else x_dict[key] for key, x in x_dict.items()}\n",
    "        return x_dict"
   ]
  },
  {
   "cell_type": "code",
   "execution_count": 22,
   "id": "b917019e",
   "metadata": {
    "execution": {
     "iopub.execute_input": "2025-06-14T14:57:54.770990Z",
     "iopub.status.busy": "2025-06-14T14:57:54.770777Z",
     "iopub.status.idle": "2025-06-14T14:57:54.775347Z",
     "shell.execute_reply": "2025-06-14T14:57:54.774740Z"
    },
    "papermill": {
     "duration": 0.014135,
     "end_time": "2025-06-14T14:57:54.776546",
     "exception": false,
     "start_time": "2025-06-14T14:57:54.762411",
     "status": "completed"
    },
    "tags": []
   },
   "outputs": [],
   "source": [
    "# 2. Link prediction decoder\n",
    "def decode(source_node, target_node):\n",
    "    return (source_node * target_node).sum(dim=-1)\n",
    "\n",
    "# 3. Loss computation\n",
    "def compute_loss(out, edge_index_dict, target_edge_type, device):\n",
    "    src, dst = edge_index_dict[target_edge_type]\n",
    "    pos_out = decode(out[target_edge_type[0]][src], out[target_edge_type[2]][dst])\n",
    "\n",
    "    # Negative sampling\n",
    "    num_nodes = out[target_edge_type[2]].size(0)\n",
    "    neg_dst = torch.randint(0, num_nodes, (src.size(0),), device=device)\n",
    "    neg_out = decode(out[target_edge_type[0]][src], out[target_edge_type[2]][neg_dst])\n",
    "\n",
    "    pos_loss = binary_cross_entropy_with_logits(pos_out, torch.ones_like(pos_out))\n",
    "    neg_loss = binary_cross_entropy_with_logits(neg_out, torch.zeros_like(neg_out))\n",
    "\n",
    "    return pos_loss + neg_loss"
   ]
  },
  {
   "cell_type": "code",
   "execution_count": 23,
   "id": "6d106c76",
   "metadata": {
    "execution": {
     "iopub.execute_input": "2025-06-14T14:57:54.793311Z",
     "iopub.status.busy": "2025-06-14T14:57:54.793099Z",
     "iopub.status.idle": "2025-06-14T14:57:54.797770Z",
     "shell.execute_reply": "2025-06-14T14:57:54.797209Z"
    },
    "papermill": {
     "duration": 0.014377,
     "end_time": "2025-06-14T14:57:54.799014",
     "exception": false,
     "start_time": "2025-06-14T14:57:54.784637",
     "status": "completed"
    },
    "tags": []
   },
   "outputs": [],
   "source": [
    "# 4. Training function\n",
    "def train(model, data, optimizer, target_edge_type, epochs=10, device='cpu'):\n",
    "    model.train()\n",
    "    for epoch in tqdm(range(1, epochs + 1), desc=f\"Training Progress\"):\n",
    "        optimizer.zero_grad()\n",
    "        out = model(data.x_dict, data.edge_index_dict)\n",
    "        loss = compute_loss(out, data.edge_index_dict, target_edge_type, device)\n",
    "        loss.backward()\n",
    "        optimizer.step()\n",
    "\n",
    "        print(f\"Epoch {epoch}, Loss: {loss.item():.4f}\")\n",
    "\n",
    "# 5. Inference (predict score for all edges)\n",
    "def predict_links(model, data, target_edge_type):\n",
    "    model.eval()\n",
    "    with torch.no_grad():\n",
    "        out = model(data.x_dict, data.edge_index_dict)\n",
    "        src, dst = data[target_edge_type].edge_index\n",
    "        scores = torch.sigmoid(decode(out[target_edge_type[0]][src], out[target_edge_type[2]][dst]))\n",
    "        return scores"
   ]
  },
  {
   "cell_type": "code",
   "execution_count": 24,
   "id": "c51915b8",
   "metadata": {
    "execution": {
     "iopub.execute_input": "2025-06-14T14:57:54.815386Z",
     "iopub.status.busy": "2025-06-14T14:57:54.815164Z",
     "iopub.status.idle": "2025-06-14T14:57:54.819909Z",
     "shell.execute_reply": "2025-06-14T14:57:54.819315Z"
    },
    "papermill": {
     "duration": 0.014219,
     "end_time": "2025-06-14T14:57:54.821130",
     "exception": false,
     "start_time": "2025-06-14T14:57:54.806911",
     "status": "completed"
    },
    "tags": []
   },
   "outputs": [
    {
     "name": "stdout",
     "output_type": "stream",
     "text": [
      "('user', 'enrolls', 'course')\n",
      "('course', 'taught_by', 'teacher')\n",
      "('course', 'belongs_to', 'school')\n",
      "('course', 'has_video', 'video')\n",
      "('course', 'has_exercise', 'exercise')\n",
      "('course', 'has_field', 'field')\n",
      "('course', 'has_concept', 'concept')\n"
     ]
    }
   ],
   "source": [
    "for edge in data.metadata()[1]: \n",
    "    print(edge)"
   ]
  },
  {
   "cell_type": "code",
   "execution_count": 25,
   "id": "a12e54ae",
   "metadata": {
    "execution": {
     "iopub.execute_input": "2025-06-14T14:57:54.837820Z",
     "iopub.status.busy": "2025-06-14T14:57:54.837616Z",
     "iopub.status.idle": "2025-06-14T15:00:08.249313Z",
     "shell.execute_reply": "2025-06-14T15:00:08.248281Z"
    },
    "papermill": {
     "duration": 133.421454,
     "end_time": "2025-06-14T15:00:08.250765",
     "exception": false,
     "start_time": "2025-06-14T14:57:54.829311",
     "status": "completed"
    },
    "tags": []
   },
   "outputs": [
    {
     "name": "stderr",
     "output_type": "stream",
     "text": [
      "Training Progress:   0%|          | 1/500 [00:00<07:18,  1.14it/s]"
     ]
    },
    {
     "name": "stdout",
     "output_type": "stream",
     "text": [
      "Epoch 1, Loss: 3.7177\n"
     ]
    },
    {
     "name": "stderr",
     "output_type": "stream",
     "text": [
      "Training Progress:   0%|          | 2/500 [00:01<04:17,  1.93it/s]"
     ]
    },
    {
     "name": "stdout",
     "output_type": "stream",
     "text": [
      "Epoch 2, Loss: 3.6329\n"
     ]
    },
    {
     "name": "stderr",
     "output_type": "stream",
     "text": [
      "Training Progress:   1%|          | 3/500 [00:01<03:19,  2.49it/s]"
     ]
    },
    {
     "name": "stdout",
     "output_type": "stream",
     "text": [
      "Epoch 3, Loss: 3.5584\n"
     ]
    },
    {
     "name": "stderr",
     "output_type": "stream",
     "text": [
      "Training Progress:   1%|          | 4/500 [00:01<02:52,  2.88it/s]"
     ]
    },
    {
     "name": "stdout",
     "output_type": "stream",
     "text": [
      "Epoch 4, Loss: 3.4872\n"
     ]
    },
    {
     "name": "stderr",
     "output_type": "stream",
     "text": [
      "Training Progress:   1%|          | 5/500 [00:01<02:37,  3.15it/s]"
     ]
    },
    {
     "name": "stdout",
     "output_type": "stream",
     "text": [
      "Epoch 5, Loss: 3.4219\n"
     ]
    },
    {
     "name": "stderr",
     "output_type": "stream",
     "text": [
      "Training Progress:   1%|          | 6/500 [00:02<02:28,  3.33it/s]"
     ]
    },
    {
     "name": "stdout",
     "output_type": "stream",
     "text": [
      "Epoch 6, Loss: 3.3621\n"
     ]
    },
    {
     "name": "stderr",
     "output_type": "stream",
     "text": [
      "Training Progress:   1%|▏         | 7/500 [00:02<02:21,  3.47it/s]"
     ]
    },
    {
     "name": "stdout",
     "output_type": "stream",
     "text": [
      "Epoch 7, Loss: 3.3023\n"
     ]
    },
    {
     "name": "stderr",
     "output_type": "stream",
     "text": [
      "Training Progress:   2%|▏         | 8/500 [00:02<02:17,  3.58it/s]"
     ]
    },
    {
     "name": "stdout",
     "output_type": "stream",
     "text": [
      "Epoch 8, Loss: 3.2464\n"
     ]
    },
    {
     "name": "stderr",
     "output_type": "stream",
     "text": [
      "Training Progress:   2%|▏         | 9/500 [00:02<02:14,  3.64it/s]"
     ]
    },
    {
     "name": "stdout",
     "output_type": "stream",
     "text": [
      "Epoch 9, Loss: 3.1938\n"
     ]
    },
    {
     "name": "stderr",
     "output_type": "stream",
     "text": [
      "Training Progress:   2%|▏         | 10/500 [00:03<02:13,  3.68it/s]"
     ]
    },
    {
     "name": "stdout",
     "output_type": "stream",
     "text": [
      "Epoch 10, Loss: 3.1438\n"
     ]
    },
    {
     "name": "stderr",
     "output_type": "stream",
     "text": [
      "Training Progress:   2%|▏         | 11/500 [00:03<02:11,  3.71it/s]"
     ]
    },
    {
     "name": "stdout",
     "output_type": "stream",
     "text": [
      "Epoch 11, Loss: 3.0935\n"
     ]
    },
    {
     "name": "stderr",
     "output_type": "stream",
     "text": [
      "Training Progress:   2%|▏         | 12/500 [00:03<02:10,  3.73it/s]"
     ]
    },
    {
     "name": "stdout",
     "output_type": "stream",
     "text": [
      "Epoch 12, Loss: 3.0456\n"
     ]
    },
    {
     "name": "stderr",
     "output_type": "stream",
     "text": [
      "Training Progress:   3%|▎         | 13/500 [00:04<02:09,  3.76it/s]"
     ]
    },
    {
     "name": "stdout",
     "output_type": "stream",
     "text": [
      "Epoch 13, Loss: 2.9979\n"
     ]
    },
    {
     "name": "stderr",
     "output_type": "stream",
     "text": [
      "Training Progress:   3%|▎         | 14/500 [00:04<02:08,  3.77it/s]"
     ]
    },
    {
     "name": "stdout",
     "output_type": "stream",
     "text": [
      "Epoch 14, Loss: 2.9520\n"
     ]
    },
    {
     "name": "stderr",
     "output_type": "stream",
     "text": [
      "Training Progress:   3%|▎         | 15/500 [00:04<02:08,  3.78it/s]"
     ]
    },
    {
     "name": "stdout",
     "output_type": "stream",
     "text": [
      "Epoch 15, Loss: 2.9078\n"
     ]
    },
    {
     "name": "stderr",
     "output_type": "stream",
     "text": [
      "Training Progress:   3%|▎         | 16/500 [00:04<02:08,  3.78it/s]"
     ]
    },
    {
     "name": "stdout",
     "output_type": "stream",
     "text": [
      "Epoch 16, Loss: 2.8650\n"
     ]
    },
    {
     "name": "stderr",
     "output_type": "stream",
     "text": [
      "Training Progress:   3%|▎         | 17/500 [00:05<02:08,  3.77it/s]"
     ]
    },
    {
     "name": "stdout",
     "output_type": "stream",
     "text": [
      "Epoch 17, Loss: 2.8230\n"
     ]
    },
    {
     "name": "stderr",
     "output_type": "stream",
     "text": [
      "Training Progress:   4%|▎         | 18/500 [00:05<02:07,  3.78it/s]"
     ]
    },
    {
     "name": "stdout",
     "output_type": "stream",
     "text": [
      "Epoch 18, Loss: 2.7834\n"
     ]
    },
    {
     "name": "stderr",
     "output_type": "stream",
     "text": [
      "Training Progress:   4%|▍         | 19/500 [00:05<02:07,  3.78it/s]"
     ]
    },
    {
     "name": "stdout",
     "output_type": "stream",
     "text": [
      "Epoch 19, Loss: 2.7446\n"
     ]
    },
    {
     "name": "stderr",
     "output_type": "stream",
     "text": [
      "Training Progress:   4%|▍         | 20/500 [00:05<02:07,  3.77it/s]"
     ]
    },
    {
     "name": "stdout",
     "output_type": "stream",
     "text": [
      "Epoch 20, Loss: 2.7087\n"
     ]
    },
    {
     "name": "stderr",
     "output_type": "stream",
     "text": [
      "Training Progress:   4%|▍         | 21/500 [00:06<02:07,  3.75it/s]"
     ]
    },
    {
     "name": "stdout",
     "output_type": "stream",
     "text": [
      "Epoch 21, Loss: 2.6731\n"
     ]
    },
    {
     "name": "stderr",
     "output_type": "stream",
     "text": [
      "Training Progress:   4%|▍         | 22/500 [00:06<02:06,  3.77it/s]"
     ]
    },
    {
     "name": "stdout",
     "output_type": "stream",
     "text": [
      "Epoch 22, Loss: 2.6392\n"
     ]
    },
    {
     "name": "stderr",
     "output_type": "stream",
     "text": [
      "Training Progress:   5%|▍         | 23/500 [00:06<02:06,  3.77it/s]"
     ]
    },
    {
     "name": "stdout",
     "output_type": "stream",
     "text": [
      "Epoch 23, Loss: 2.6070\n"
     ]
    },
    {
     "name": "stderr",
     "output_type": "stream",
     "text": [
      "Training Progress:   5%|▍         | 24/500 [00:06<02:06,  3.77it/s]"
     ]
    },
    {
     "name": "stdout",
     "output_type": "stream",
     "text": [
      "Epoch 24, Loss: 2.5771\n"
     ]
    },
    {
     "name": "stderr",
     "output_type": "stream",
     "text": [
      "Training Progress:   5%|▌         | 25/500 [00:07<02:06,  3.77it/s]"
     ]
    },
    {
     "name": "stdout",
     "output_type": "stream",
     "text": [
      "Epoch 25, Loss: 2.5478\n"
     ]
    },
    {
     "name": "stderr",
     "output_type": "stream",
     "text": [
      "Training Progress:   5%|▌         | 26/500 [00:07<02:05,  3.78it/s]"
     ]
    },
    {
     "name": "stdout",
     "output_type": "stream",
     "text": [
      "Epoch 26, Loss: 2.5190\n"
     ]
    },
    {
     "name": "stderr",
     "output_type": "stream",
     "text": [
      "Training Progress:   5%|▌         | 27/500 [00:07<02:04,  3.79it/s]"
     ]
    },
    {
     "name": "stdout",
     "output_type": "stream",
     "text": [
      "Epoch 27, Loss: 2.4927\n"
     ]
    },
    {
     "name": "stderr",
     "output_type": "stream",
     "text": [
      "Training Progress:   6%|▌         | 28/500 [00:08<02:04,  3.80it/s]"
     ]
    },
    {
     "name": "stdout",
     "output_type": "stream",
     "text": [
      "Epoch 28, Loss: 2.4657\n"
     ]
    },
    {
     "name": "stderr",
     "output_type": "stream",
     "text": [
      "Training Progress:   6%|▌         | 29/500 [00:08<02:04,  3.79it/s]"
     ]
    },
    {
     "name": "stdout",
     "output_type": "stream",
     "text": [
      "Epoch 29, Loss: 2.4419\n"
     ]
    },
    {
     "name": "stderr",
     "output_type": "stream",
     "text": [
      "Training Progress:   6%|▌         | 30/500 [00:08<02:04,  3.78it/s]"
     ]
    },
    {
     "name": "stdout",
     "output_type": "stream",
     "text": [
      "Epoch 30, Loss: 2.4159\n"
     ]
    },
    {
     "name": "stderr",
     "output_type": "stream",
     "text": [
      "Training Progress:   6%|▌         | 31/500 [00:08<02:04,  3.76it/s]"
     ]
    },
    {
     "name": "stdout",
     "output_type": "stream",
     "text": [
      "Epoch 31, Loss: 2.3933\n"
     ]
    },
    {
     "name": "stderr",
     "output_type": "stream",
     "text": [
      "Training Progress:   6%|▋         | 32/500 [00:09<02:04,  3.75it/s]"
     ]
    },
    {
     "name": "stdout",
     "output_type": "stream",
     "text": [
      "Epoch 32, Loss: 2.3714\n"
     ]
    },
    {
     "name": "stderr",
     "output_type": "stream",
     "text": [
      "Training Progress:   7%|▋         | 33/500 [00:09<02:04,  3.75it/s]"
     ]
    },
    {
     "name": "stdout",
     "output_type": "stream",
     "text": [
      "Epoch 33, Loss: 2.3502\n"
     ]
    },
    {
     "name": "stderr",
     "output_type": "stream",
     "text": [
      "Training Progress:   7%|▋         | 34/500 [00:09<02:03,  3.77it/s]"
     ]
    },
    {
     "name": "stdout",
     "output_type": "stream",
     "text": [
      "Epoch 34, Loss: 2.3294\n"
     ]
    },
    {
     "name": "stderr",
     "output_type": "stream",
     "text": [
      "Training Progress:   7%|▋         | 35/500 [00:09<02:03,  3.78it/s]"
     ]
    },
    {
     "name": "stdout",
     "output_type": "stream",
     "text": [
      "Epoch 35, Loss: 2.3109\n"
     ]
    },
    {
     "name": "stderr",
     "output_type": "stream",
     "text": [
      "Training Progress:   7%|▋         | 36/500 [00:10<02:02,  3.78it/s]"
     ]
    },
    {
     "name": "stdout",
     "output_type": "stream",
     "text": [
      "Epoch 36, Loss: 2.2921\n"
     ]
    },
    {
     "name": "stderr",
     "output_type": "stream",
     "text": [
      "Training Progress:   7%|▋         | 37/500 [00:10<02:02,  3.77it/s]"
     ]
    },
    {
     "name": "stdout",
     "output_type": "stream",
     "text": [
      "Epoch 37, Loss: 2.2743\n"
     ]
    },
    {
     "name": "stderr",
     "output_type": "stream",
     "text": [
      "Training Progress:   8%|▊         | 38/500 [00:10<02:02,  3.78it/s]"
     ]
    },
    {
     "name": "stdout",
     "output_type": "stream",
     "text": [
      "Epoch 38, Loss: 2.2573\n"
     ]
    },
    {
     "name": "stderr",
     "output_type": "stream",
     "text": [
      "Training Progress:   8%|▊         | 39/500 [00:10<02:01,  3.78it/s]"
     ]
    },
    {
     "name": "stdout",
     "output_type": "stream",
     "text": [
      "Epoch 39, Loss: 2.2390\n"
     ]
    },
    {
     "name": "stderr",
     "output_type": "stream",
     "text": [
      "Training Progress:   8%|▊         | 40/500 [00:11<02:01,  3.78it/s]"
     ]
    },
    {
     "name": "stdout",
     "output_type": "stream",
     "text": [
      "Epoch 40, Loss: 2.2240\n"
     ]
    },
    {
     "name": "stderr",
     "output_type": "stream",
     "text": [
      "Training Progress:   8%|▊         | 41/500 [00:11<02:01,  3.76it/s]"
     ]
    },
    {
     "name": "stdout",
     "output_type": "stream",
     "text": [
      "Epoch 41, Loss: 2.2087\n"
     ]
    },
    {
     "name": "stderr",
     "output_type": "stream",
     "text": [
      "Training Progress:   8%|▊         | 42/500 [00:11<02:01,  3.77it/s]"
     ]
    },
    {
     "name": "stdout",
     "output_type": "stream",
     "text": [
      "Epoch 42, Loss: 2.1929\n"
     ]
    },
    {
     "name": "stderr",
     "output_type": "stream",
     "text": [
      "Training Progress:   9%|▊         | 43/500 [00:11<02:00,  3.78it/s]"
     ]
    },
    {
     "name": "stdout",
     "output_type": "stream",
     "text": [
      "Epoch 43, Loss: 2.1783\n"
     ]
    },
    {
     "name": "stderr",
     "output_type": "stream",
     "text": [
      "Training Progress:   9%|▉         | 44/500 [00:12<02:00,  3.78it/s]"
     ]
    },
    {
     "name": "stdout",
     "output_type": "stream",
     "text": [
      "Epoch 44, Loss: 2.1650\n"
     ]
    },
    {
     "name": "stderr",
     "output_type": "stream",
     "text": [
      "Training Progress:   9%|▉         | 45/500 [00:12<02:00,  3.79it/s]"
     ]
    },
    {
     "name": "stdout",
     "output_type": "stream",
     "text": [
      "Epoch 45, Loss: 2.1508\n"
     ]
    },
    {
     "name": "stderr",
     "output_type": "stream",
     "text": [
      "Training Progress:   9%|▉         | 46/500 [00:12<01:59,  3.78it/s]"
     ]
    },
    {
     "name": "stdout",
     "output_type": "stream",
     "text": [
      "Epoch 46, Loss: 2.1377\n"
     ]
    },
    {
     "name": "stderr",
     "output_type": "stream",
     "text": [
      "Training Progress:   9%|▉         | 47/500 [00:13<01:59,  3.79it/s]"
     ]
    },
    {
     "name": "stdout",
     "output_type": "stream",
     "text": [
      "Epoch 47, Loss: 2.1246\n"
     ]
    },
    {
     "name": "stderr",
     "output_type": "stream",
     "text": [
      "Training Progress:  10%|▉         | 48/500 [00:13<01:59,  3.79it/s]"
     ]
    },
    {
     "name": "stdout",
     "output_type": "stream",
     "text": [
      "Epoch 48, Loss: 2.1125\n"
     ]
    },
    {
     "name": "stderr",
     "output_type": "stream",
     "text": [
      "Training Progress:  10%|▉         | 49/500 [00:13<01:58,  3.80it/s]"
     ]
    },
    {
     "name": "stdout",
     "output_type": "stream",
     "text": [
      "Epoch 49, Loss: 2.1009\n"
     ]
    },
    {
     "name": "stderr",
     "output_type": "stream",
     "text": [
      "Training Progress:  10%|█         | 50/500 [00:13<01:58,  3.80it/s]"
     ]
    },
    {
     "name": "stdout",
     "output_type": "stream",
     "text": [
      "Epoch 50, Loss: 2.0886\n"
     ]
    },
    {
     "name": "stderr",
     "output_type": "stream",
     "text": [
      "Training Progress:  10%|█         | 51/500 [00:14<01:58,  3.79it/s]"
     ]
    },
    {
     "name": "stdout",
     "output_type": "stream",
     "text": [
      "Epoch 51, Loss: 2.0765\n"
     ]
    },
    {
     "name": "stderr",
     "output_type": "stream",
     "text": [
      "Training Progress:  10%|█         | 52/500 [00:14<01:58,  3.77it/s]"
     ]
    },
    {
     "name": "stdout",
     "output_type": "stream",
     "text": [
      "Epoch 52, Loss: 2.0656\n"
     ]
    },
    {
     "name": "stderr",
     "output_type": "stream",
     "text": [
      "Training Progress:  11%|█         | 53/500 [00:14<01:57,  3.79it/s]"
     ]
    },
    {
     "name": "stdout",
     "output_type": "stream",
     "text": [
      "Epoch 53, Loss: 2.0545\n"
     ]
    },
    {
     "name": "stderr",
     "output_type": "stream",
     "text": [
      "Training Progress:  11%|█         | 54/500 [00:14<01:57,  3.79it/s]"
     ]
    },
    {
     "name": "stdout",
     "output_type": "stream",
     "text": [
      "Epoch 54, Loss: 2.0435\n"
     ]
    },
    {
     "name": "stderr",
     "output_type": "stream",
     "text": [
      "Training Progress:  11%|█         | 55/500 [00:15<01:57,  3.78it/s]"
     ]
    },
    {
     "name": "stdout",
     "output_type": "stream",
     "text": [
      "Epoch 55, Loss: 2.0332\n"
     ]
    },
    {
     "name": "stderr",
     "output_type": "stream",
     "text": [
      "Training Progress:  11%|█         | 56/500 [00:15<01:57,  3.79it/s]"
     ]
    },
    {
     "name": "stdout",
     "output_type": "stream",
     "text": [
      "Epoch 56, Loss: 2.0228\n"
     ]
    },
    {
     "name": "stderr",
     "output_type": "stream",
     "text": [
      "Training Progress:  11%|█▏        | 57/500 [00:15<01:57,  3.78it/s]"
     ]
    },
    {
     "name": "stdout",
     "output_type": "stream",
     "text": [
      "Epoch 57, Loss: 2.0129\n"
     ]
    },
    {
     "name": "stderr",
     "output_type": "stream",
     "text": [
      "Training Progress:  12%|█▏        | 58/500 [00:15<01:56,  3.80it/s]"
     ]
    },
    {
     "name": "stdout",
     "output_type": "stream",
     "text": [
      "Epoch 58, Loss: 2.0034\n"
     ]
    },
    {
     "name": "stderr",
     "output_type": "stream",
     "text": [
      "Training Progress:  12%|█▏        | 59/500 [00:16<01:55,  3.80it/s]"
     ]
    },
    {
     "name": "stdout",
     "output_type": "stream",
     "text": [
      "Epoch 59, Loss: 1.9944\n"
     ]
    },
    {
     "name": "stderr",
     "output_type": "stream",
     "text": [
      "Training Progress:  12%|█▏        | 60/500 [00:16<01:55,  3.80it/s]"
     ]
    },
    {
     "name": "stdout",
     "output_type": "stream",
     "text": [
      "Epoch 60, Loss: 1.9847\n"
     ]
    },
    {
     "name": "stderr",
     "output_type": "stream",
     "text": [
      "Training Progress:  12%|█▏        | 61/500 [00:16<01:55,  3.79it/s]"
     ]
    },
    {
     "name": "stdout",
     "output_type": "stream",
     "text": [
      "Epoch 61, Loss: 1.9750\n"
     ]
    },
    {
     "name": "stderr",
     "output_type": "stream",
     "text": [
      "Training Progress:  12%|█▏        | 62/500 [00:17<01:55,  3.78it/s]"
     ]
    },
    {
     "name": "stdout",
     "output_type": "stream",
     "text": [
      "Epoch 62, Loss: 1.9665\n"
     ]
    },
    {
     "name": "stderr",
     "output_type": "stream",
     "text": [
      "Training Progress:  13%|█▎        | 63/500 [00:17<01:55,  3.78it/s]"
     ]
    },
    {
     "name": "stdout",
     "output_type": "stream",
     "text": [
      "Epoch 63, Loss: 1.9584\n"
     ]
    },
    {
     "name": "stderr",
     "output_type": "stream",
     "text": [
      "Training Progress:  13%|█▎        | 64/500 [00:17<01:55,  3.77it/s]"
     ]
    },
    {
     "name": "stdout",
     "output_type": "stream",
     "text": [
      "Epoch 64, Loss: 1.9494\n"
     ]
    },
    {
     "name": "stderr",
     "output_type": "stream",
     "text": [
      "Training Progress:  13%|█▎        | 65/500 [00:17<01:55,  3.78it/s]"
     ]
    },
    {
     "name": "stdout",
     "output_type": "stream",
     "text": [
      "Epoch 65, Loss: 1.9410\n"
     ]
    },
    {
     "name": "stderr",
     "output_type": "stream",
     "text": [
      "Training Progress:  13%|█▎        | 66/500 [00:18<01:54,  3.78it/s]"
     ]
    },
    {
     "name": "stdout",
     "output_type": "stream",
     "text": [
      "Epoch 66, Loss: 1.9327\n"
     ]
    },
    {
     "name": "stderr",
     "output_type": "stream",
     "text": [
      "Training Progress:  13%|█▎        | 67/500 [00:18<01:54,  3.79it/s]"
     ]
    },
    {
     "name": "stdout",
     "output_type": "stream",
     "text": [
      "Epoch 67, Loss: 1.9246\n"
     ]
    },
    {
     "name": "stderr",
     "output_type": "stream",
     "text": [
      "Training Progress:  14%|█▎        | 68/500 [00:18<01:54,  3.78it/s]"
     ]
    },
    {
     "name": "stdout",
     "output_type": "stream",
     "text": [
      "Epoch 68, Loss: 1.9172\n"
     ]
    },
    {
     "name": "stderr",
     "output_type": "stream",
     "text": [
      "Training Progress:  14%|█▍        | 69/500 [00:18<01:54,  3.78it/s]"
     ]
    },
    {
     "name": "stdout",
     "output_type": "stream",
     "text": [
      "Epoch 69, Loss: 1.9094\n"
     ]
    },
    {
     "name": "stderr",
     "output_type": "stream",
     "text": [
      "Training Progress:  14%|█▍        | 70/500 [00:19<01:53,  3.78it/s]"
     ]
    },
    {
     "name": "stdout",
     "output_type": "stream",
     "text": [
      "Epoch 70, Loss: 1.9014\n"
     ]
    },
    {
     "name": "stderr",
     "output_type": "stream",
     "text": [
      "Training Progress:  14%|█▍        | 71/500 [00:19<01:53,  3.78it/s]"
     ]
    },
    {
     "name": "stdout",
     "output_type": "stream",
     "text": [
      "Epoch 71, Loss: 1.8937\n"
     ]
    },
    {
     "name": "stderr",
     "output_type": "stream",
     "text": [
      "Training Progress:  14%|█▍        | 72/500 [00:19<01:52,  3.79it/s]"
     ]
    },
    {
     "name": "stdout",
     "output_type": "stream",
     "text": [
      "Epoch 72, Loss: 1.8869\n"
     ]
    },
    {
     "name": "stderr",
     "output_type": "stream",
     "text": [
      "Training Progress:  15%|█▍        | 73/500 [00:19<01:52,  3.78it/s]"
     ]
    },
    {
     "name": "stdout",
     "output_type": "stream",
     "text": [
      "Epoch 73, Loss: 1.8794\n"
     ]
    },
    {
     "name": "stderr",
     "output_type": "stream",
     "text": [
      "Training Progress:  15%|█▍        | 74/500 [00:20<01:52,  3.79it/s]"
     ]
    },
    {
     "name": "stdout",
     "output_type": "stream",
     "text": [
      "Epoch 74, Loss: 1.8725\n"
     ]
    },
    {
     "name": "stderr",
     "output_type": "stream",
     "text": [
      "Training Progress:  15%|█▌        | 75/500 [00:20<01:52,  3.79it/s]"
     ]
    },
    {
     "name": "stdout",
     "output_type": "stream",
     "text": [
      "Epoch 75, Loss: 1.8659\n"
     ]
    },
    {
     "name": "stderr",
     "output_type": "stream",
     "text": [
      "Training Progress:  15%|█▌        | 76/500 [00:20<01:51,  3.80it/s]"
     ]
    },
    {
     "name": "stdout",
     "output_type": "stream",
     "text": [
      "Epoch 76, Loss: 1.8588\n"
     ]
    },
    {
     "name": "stderr",
     "output_type": "stream",
     "text": [
      "Training Progress:  15%|█▌        | 77/500 [00:20<01:50,  3.81it/s]"
     ]
    },
    {
     "name": "stdout",
     "output_type": "stream",
     "text": [
      "Epoch 77, Loss: 1.8517\n"
     ]
    },
    {
     "name": "stderr",
     "output_type": "stream",
     "text": [
      "Training Progress:  16%|█▌        | 78/500 [00:21<01:50,  3.81it/s]"
     ]
    },
    {
     "name": "stdout",
     "output_type": "stream",
     "text": [
      "Epoch 78, Loss: 1.8450\n"
     ]
    },
    {
     "name": "stderr",
     "output_type": "stream",
     "text": [
      "Training Progress:  16%|█▌        | 79/500 [00:21<01:50,  3.82it/s]"
     ]
    },
    {
     "name": "stdout",
     "output_type": "stream",
     "text": [
      "Epoch 79, Loss: 1.8392\n"
     ]
    },
    {
     "name": "stderr",
     "output_type": "stream",
     "text": [
      "Training Progress:  16%|█▌        | 80/500 [00:21<01:50,  3.79it/s]"
     ]
    },
    {
     "name": "stdout",
     "output_type": "stream",
     "text": [
      "Epoch 80, Loss: 1.8318\n"
     ]
    },
    {
     "name": "stderr",
     "output_type": "stream",
     "text": [
      "Training Progress:  16%|█▌        | 81/500 [00:22<01:50,  3.78it/s]"
     ]
    },
    {
     "name": "stdout",
     "output_type": "stream",
     "text": [
      "Epoch 81, Loss: 1.8267\n"
     ]
    },
    {
     "name": "stderr",
     "output_type": "stream",
     "text": [
      "Training Progress:  16%|█▋        | 82/500 [00:22<01:50,  3.79it/s]"
     ]
    },
    {
     "name": "stdout",
     "output_type": "stream",
     "text": [
      "Epoch 82, Loss: 1.8200\n"
     ]
    },
    {
     "name": "stderr",
     "output_type": "stream",
     "text": [
      "Training Progress:  17%|█▋        | 83/500 [00:22<01:50,  3.79it/s]"
     ]
    },
    {
     "name": "stdout",
     "output_type": "stream",
     "text": [
      "Epoch 83, Loss: 1.8133\n"
     ]
    },
    {
     "name": "stderr",
     "output_type": "stream",
     "text": [
      "Training Progress:  17%|█▋        | 84/500 [00:22<01:50,  3.77it/s]"
     ]
    },
    {
     "name": "stdout",
     "output_type": "stream",
     "text": [
      "Epoch 84, Loss: 1.8079\n"
     ]
    },
    {
     "name": "stderr",
     "output_type": "stream",
     "text": [
      "Training Progress:  17%|█▋        | 85/500 [00:23<01:49,  3.77it/s]"
     ]
    },
    {
     "name": "stdout",
     "output_type": "stream",
     "text": [
      "Epoch 85, Loss: 1.8018\n"
     ]
    },
    {
     "name": "stderr",
     "output_type": "stream",
     "text": [
      "Training Progress:  17%|█▋        | 86/500 [00:23<01:49,  3.78it/s]"
     ]
    },
    {
     "name": "stdout",
     "output_type": "stream",
     "text": [
      "Epoch 86, Loss: 1.7969\n"
     ]
    },
    {
     "name": "stderr",
     "output_type": "stream",
     "text": [
      "Training Progress:  17%|█▋        | 87/500 [00:23<01:49,  3.78it/s]"
     ]
    },
    {
     "name": "stdout",
     "output_type": "stream",
     "text": [
      "Epoch 87, Loss: 1.7915\n"
     ]
    },
    {
     "name": "stderr",
     "output_type": "stream",
     "text": [
      "Training Progress:  18%|█▊        | 88/500 [00:23<01:49,  3.77it/s]"
     ]
    },
    {
     "name": "stdout",
     "output_type": "stream",
     "text": [
      "Epoch 88, Loss: 1.7843\n"
     ]
    },
    {
     "name": "stderr",
     "output_type": "stream",
     "text": [
      "Training Progress:  18%|█▊        | 89/500 [00:24<01:49,  3.75it/s]"
     ]
    },
    {
     "name": "stdout",
     "output_type": "stream",
     "text": [
      "Epoch 89, Loss: 1.7787\n"
     ]
    },
    {
     "name": "stderr",
     "output_type": "stream",
     "text": [
      "Training Progress:  18%|█▊        | 90/500 [00:24<01:49,  3.74it/s]"
     ]
    },
    {
     "name": "stdout",
     "output_type": "stream",
     "text": [
      "Epoch 90, Loss: 1.7738\n"
     ]
    },
    {
     "name": "stderr",
     "output_type": "stream",
     "text": [
      "Training Progress:  18%|█▊        | 91/500 [00:24<01:48,  3.77it/s]"
     ]
    },
    {
     "name": "stdout",
     "output_type": "stream",
     "text": [
      "Epoch 91, Loss: 1.7686\n"
     ]
    },
    {
     "name": "stderr",
     "output_type": "stream",
     "text": [
      "Training Progress:  18%|█▊        | 92/500 [00:24<01:48,  3.77it/s]"
     ]
    },
    {
     "name": "stdout",
     "output_type": "stream",
     "text": [
      "Epoch 92, Loss: 1.7631\n"
     ]
    },
    {
     "name": "stderr",
     "output_type": "stream",
     "text": [
      "Training Progress:  19%|█▊        | 93/500 [00:25<01:47,  3.78it/s]"
     ]
    },
    {
     "name": "stdout",
     "output_type": "stream",
     "text": [
      "Epoch 93, Loss: 1.7578\n"
     ]
    },
    {
     "name": "stderr",
     "output_type": "stream",
     "text": [
      "Training Progress:  19%|█▉        | 94/500 [00:25<01:47,  3.77it/s]"
     ]
    },
    {
     "name": "stdout",
     "output_type": "stream",
     "text": [
      "Epoch 94, Loss: 1.7531\n"
     ]
    },
    {
     "name": "stderr",
     "output_type": "stream",
     "text": [
      "Training Progress:  19%|█▉        | 95/500 [00:25<01:47,  3.77it/s]"
     ]
    },
    {
     "name": "stdout",
     "output_type": "stream",
     "text": [
      "Epoch 95, Loss: 1.7474\n"
     ]
    },
    {
     "name": "stderr",
     "output_type": "stream",
     "text": [
      "Training Progress:  19%|█▉        | 96/500 [00:25<01:47,  3.77it/s]"
     ]
    },
    {
     "name": "stdout",
     "output_type": "stream",
     "text": [
      "Epoch 96, Loss: 1.7428\n"
     ]
    },
    {
     "name": "stderr",
     "output_type": "stream",
     "text": [
      "Training Progress:  19%|█▉        | 97/500 [00:26<01:46,  3.77it/s]"
     ]
    },
    {
     "name": "stdout",
     "output_type": "stream",
     "text": [
      "Epoch 97, Loss: 1.7380\n"
     ]
    },
    {
     "name": "stderr",
     "output_type": "stream",
     "text": [
      "Training Progress:  20%|█▉        | 98/500 [00:26<01:46,  3.77it/s]"
     ]
    },
    {
     "name": "stdout",
     "output_type": "stream",
     "text": [
      "Epoch 98, Loss: 1.7330\n"
     ]
    },
    {
     "name": "stderr",
     "output_type": "stream",
     "text": [
      "Training Progress:  20%|█▉        | 99/500 [00:26<01:46,  3.77it/s]"
     ]
    },
    {
     "name": "stdout",
     "output_type": "stream",
     "text": [
      "Epoch 99, Loss: 1.7282\n"
     ]
    },
    {
     "name": "stderr",
     "output_type": "stream",
     "text": [
      "Training Progress:  20%|██        | 100/500 [00:27<01:46,  3.76it/s]"
     ]
    },
    {
     "name": "stdout",
     "output_type": "stream",
     "text": [
      "Epoch 100, Loss: 1.7234\n"
     ]
    },
    {
     "name": "stderr",
     "output_type": "stream",
     "text": [
      "Training Progress:  20%|██        | 101/500 [00:27<01:45,  3.78it/s]"
     ]
    },
    {
     "name": "stdout",
     "output_type": "stream",
     "text": [
      "Epoch 101, Loss: 1.7191\n"
     ]
    },
    {
     "name": "stderr",
     "output_type": "stream",
     "text": [
      "Training Progress:  20%|██        | 102/500 [00:27<01:45,  3.79it/s]"
     ]
    },
    {
     "name": "stdout",
     "output_type": "stream",
     "text": [
      "Epoch 102, Loss: 1.7138\n"
     ]
    },
    {
     "name": "stderr",
     "output_type": "stream",
     "text": [
      "Training Progress:  21%|██        | 103/500 [00:27<01:44,  3.78it/s]"
     ]
    },
    {
     "name": "stdout",
     "output_type": "stream",
     "text": [
      "Epoch 103, Loss: 1.7095\n"
     ]
    },
    {
     "name": "stderr",
     "output_type": "stream",
     "text": [
      "Training Progress:  21%|██        | 104/500 [00:28<01:45,  3.77it/s]"
     ]
    },
    {
     "name": "stdout",
     "output_type": "stream",
     "text": [
      "Epoch 104, Loss: 1.7048\n"
     ]
    },
    {
     "name": "stderr",
     "output_type": "stream",
     "text": [
      "Training Progress:  21%|██        | 105/500 [00:28<01:44,  3.78it/s]"
     ]
    },
    {
     "name": "stdout",
     "output_type": "stream",
     "text": [
      "Epoch 105, Loss: 1.7003\n"
     ]
    },
    {
     "name": "stderr",
     "output_type": "stream",
     "text": [
      "Training Progress:  21%|██        | 106/500 [00:28<01:43,  3.79it/s]"
     ]
    },
    {
     "name": "stdout",
     "output_type": "stream",
     "text": [
      "Epoch 106, Loss: 1.6965\n"
     ]
    },
    {
     "name": "stderr",
     "output_type": "stream",
     "text": [
      "Training Progress:  21%|██▏       | 107/500 [00:28<01:43,  3.80it/s]"
     ]
    },
    {
     "name": "stdout",
     "output_type": "stream",
     "text": [
      "Epoch 107, Loss: 1.6921\n"
     ]
    },
    {
     "name": "stderr",
     "output_type": "stream",
     "text": [
      "Training Progress:  22%|██▏       | 108/500 [00:29<01:43,  3.80it/s]"
     ]
    },
    {
     "name": "stdout",
     "output_type": "stream",
     "text": [
      "Epoch 108, Loss: 1.6880\n"
     ]
    },
    {
     "name": "stderr",
     "output_type": "stream",
     "text": [
      "Training Progress:  22%|██▏       | 109/500 [00:29<01:42,  3.81it/s]"
     ]
    },
    {
     "name": "stdout",
     "output_type": "stream",
     "text": [
      "Epoch 109, Loss: 1.6833\n"
     ]
    },
    {
     "name": "stderr",
     "output_type": "stream",
     "text": [
      "Training Progress:  22%|██▏       | 110/500 [00:29<01:42,  3.79it/s]"
     ]
    },
    {
     "name": "stdout",
     "output_type": "stream",
     "text": [
      "Epoch 110, Loss: 1.6793\n"
     ]
    },
    {
     "name": "stderr",
     "output_type": "stream",
     "text": [
      "Training Progress:  22%|██▏       | 111/500 [00:29<01:42,  3.79it/s]"
     ]
    },
    {
     "name": "stdout",
     "output_type": "stream",
     "text": [
      "Epoch 111, Loss: 1.6753\n"
     ]
    },
    {
     "name": "stderr",
     "output_type": "stream",
     "text": [
      "Training Progress:  22%|██▏       | 112/500 [00:30<01:42,  3.78it/s]"
     ]
    },
    {
     "name": "stdout",
     "output_type": "stream",
     "text": [
      "Epoch 112, Loss: 1.6714\n"
     ]
    },
    {
     "name": "stderr",
     "output_type": "stream",
     "text": [
      "Training Progress:  23%|██▎       | 113/500 [00:30<01:42,  3.78it/s]"
     ]
    },
    {
     "name": "stdout",
     "output_type": "stream",
     "text": [
      "Epoch 113, Loss: 1.6672\n"
     ]
    },
    {
     "name": "stderr",
     "output_type": "stream",
     "text": [
      "Training Progress:  23%|██▎       | 114/500 [00:30<01:42,  3.78it/s]"
     ]
    },
    {
     "name": "stdout",
     "output_type": "stream",
     "text": [
      "Epoch 114, Loss: 1.6639\n"
     ]
    },
    {
     "name": "stderr",
     "output_type": "stream",
     "text": [
      "Training Progress:  23%|██▎       | 115/500 [00:31<01:41,  3.78it/s]"
     ]
    },
    {
     "name": "stdout",
     "output_type": "stream",
     "text": [
      "Epoch 115, Loss: 1.6594\n"
     ]
    },
    {
     "name": "stderr",
     "output_type": "stream",
     "text": [
      "Training Progress:  23%|██▎       | 116/500 [00:31<01:41,  3.77it/s]"
     ]
    },
    {
     "name": "stdout",
     "output_type": "stream",
     "text": [
      "Epoch 116, Loss: 1.6554\n"
     ]
    },
    {
     "name": "stderr",
     "output_type": "stream",
     "text": [
      "Training Progress:  23%|██▎       | 117/500 [00:31<01:41,  3.78it/s]"
     ]
    },
    {
     "name": "stdout",
     "output_type": "stream",
     "text": [
      "Epoch 117, Loss: 1.6518\n"
     ]
    },
    {
     "name": "stderr",
     "output_type": "stream",
     "text": [
      "Training Progress:  24%|██▎       | 118/500 [00:31<01:41,  3.78it/s]"
     ]
    },
    {
     "name": "stdout",
     "output_type": "stream",
     "text": [
      "Epoch 118, Loss: 1.6482\n"
     ]
    },
    {
     "name": "stderr",
     "output_type": "stream",
     "text": [
      "Training Progress:  24%|██▍       | 119/500 [00:32<01:40,  3.78it/s]"
     ]
    },
    {
     "name": "stdout",
     "output_type": "stream",
     "text": [
      "Epoch 119, Loss: 1.6446\n"
     ]
    },
    {
     "name": "stderr",
     "output_type": "stream",
     "text": [
      "Training Progress:  24%|██▍       | 120/500 [00:32<01:40,  3.79it/s]"
     ]
    },
    {
     "name": "stdout",
     "output_type": "stream",
     "text": [
      "Epoch 120, Loss: 1.6409\n"
     ]
    },
    {
     "name": "stderr",
     "output_type": "stream",
     "text": [
      "Training Progress:  24%|██▍       | 121/500 [00:32<01:40,  3.78it/s]"
     ]
    },
    {
     "name": "stdout",
     "output_type": "stream",
     "text": [
      "Epoch 121, Loss: 1.6373\n"
     ]
    },
    {
     "name": "stderr",
     "output_type": "stream",
     "text": [
      "Training Progress:  24%|██▍       | 122/500 [00:32<01:39,  3.78it/s]"
     ]
    },
    {
     "name": "stdout",
     "output_type": "stream",
     "text": [
      "Epoch 122, Loss: 1.6340\n"
     ]
    },
    {
     "name": "stderr",
     "output_type": "stream",
     "text": [
      "Training Progress:  25%|██▍       | 123/500 [00:33<01:39,  3.79it/s]"
     ]
    },
    {
     "name": "stdout",
     "output_type": "stream",
     "text": [
      "Epoch 123, Loss: 1.6302\n"
     ]
    },
    {
     "name": "stderr",
     "output_type": "stream",
     "text": [
      "Training Progress:  25%|██▍       | 124/500 [00:33<01:39,  3.79it/s]"
     ]
    },
    {
     "name": "stdout",
     "output_type": "stream",
     "text": [
      "Epoch 124, Loss: 1.6258\n"
     ]
    },
    {
     "name": "stderr",
     "output_type": "stream",
     "text": [
      "Training Progress:  25%|██▌       | 125/500 [00:33<01:38,  3.81it/s]"
     ]
    },
    {
     "name": "stdout",
     "output_type": "stream",
     "text": [
      "Epoch 125, Loss: 1.6232\n"
     ]
    },
    {
     "name": "stderr",
     "output_type": "stream",
     "text": [
      "Training Progress:  25%|██▌       | 126/500 [00:33<01:38,  3.78it/s]"
     ]
    },
    {
     "name": "stdout",
     "output_type": "stream",
     "text": [
      "Epoch 126, Loss: 1.6198\n"
     ]
    },
    {
     "name": "stderr",
     "output_type": "stream",
     "text": [
      "Training Progress:  25%|██▌       | 127/500 [00:34<01:38,  3.79it/s]"
     ]
    },
    {
     "name": "stdout",
     "output_type": "stream",
     "text": [
      "Epoch 127, Loss: 1.6162\n"
     ]
    },
    {
     "name": "stderr",
     "output_type": "stream",
     "text": [
      "Training Progress:  26%|██▌       | 128/500 [00:34<01:38,  3.78it/s]"
     ]
    },
    {
     "name": "stdout",
     "output_type": "stream",
     "text": [
      "Epoch 128, Loss: 1.6129\n"
     ]
    },
    {
     "name": "stderr",
     "output_type": "stream",
     "text": [
      "Training Progress:  26%|██▌       | 129/500 [00:34<01:38,  3.78it/s]"
     ]
    },
    {
     "name": "stdout",
     "output_type": "stream",
     "text": [
      "Epoch 129, Loss: 1.6097\n"
     ]
    },
    {
     "name": "stderr",
     "output_type": "stream",
     "text": [
      "Training Progress:  26%|██▌       | 130/500 [00:34<01:37,  3.78it/s]"
     ]
    },
    {
     "name": "stdout",
     "output_type": "stream",
     "text": [
      "Epoch 130, Loss: 1.6066\n"
     ]
    },
    {
     "name": "stderr",
     "output_type": "stream",
     "text": [
      "Training Progress:  26%|██▌       | 131/500 [00:35<01:37,  3.77it/s]"
     ]
    },
    {
     "name": "stdout",
     "output_type": "stream",
     "text": [
      "Epoch 131, Loss: 1.6032\n"
     ]
    },
    {
     "name": "stderr",
     "output_type": "stream",
     "text": [
      "Training Progress:  26%|██▋       | 132/500 [00:35<01:37,  3.78it/s]"
     ]
    },
    {
     "name": "stdout",
     "output_type": "stream",
     "text": [
      "Epoch 132, Loss: 1.6005\n"
     ]
    },
    {
     "name": "stderr",
     "output_type": "stream",
     "text": [
      "Training Progress:  27%|██▋       | 133/500 [00:35<01:37,  3.78it/s]"
     ]
    },
    {
     "name": "stdout",
     "output_type": "stream",
     "text": [
      "Epoch 133, Loss: 1.5971\n"
     ]
    },
    {
     "name": "stderr",
     "output_type": "stream",
     "text": [
      "Training Progress:  27%|██▋       | 134/500 [00:36<01:36,  3.78it/s]"
     ]
    },
    {
     "name": "stdout",
     "output_type": "stream",
     "text": [
      "Epoch 134, Loss: 1.5937\n"
     ]
    },
    {
     "name": "stderr",
     "output_type": "stream",
     "text": [
      "Training Progress:  27%|██▋       | 135/500 [00:36<01:36,  3.79it/s]"
     ]
    },
    {
     "name": "stdout",
     "output_type": "stream",
     "text": [
      "Epoch 135, Loss: 1.5903\n"
     ]
    },
    {
     "name": "stderr",
     "output_type": "stream",
     "text": [
      "Training Progress:  27%|██▋       | 136/500 [00:36<01:36,  3.77it/s]"
     ]
    },
    {
     "name": "stdout",
     "output_type": "stream",
     "text": [
      "Epoch 136, Loss: 1.5882\n"
     ]
    },
    {
     "name": "stderr",
     "output_type": "stream",
     "text": [
      "Training Progress:  27%|██▋       | 137/500 [00:36<01:36,  3.78it/s]"
     ]
    },
    {
     "name": "stdout",
     "output_type": "stream",
     "text": [
      "Epoch 137, Loss: 1.5847\n"
     ]
    },
    {
     "name": "stderr",
     "output_type": "stream",
     "text": [
      "Training Progress:  28%|██▊       | 138/500 [00:37<01:35,  3.78it/s]"
     ]
    },
    {
     "name": "stdout",
     "output_type": "stream",
     "text": [
      "Epoch 138, Loss: 1.5817\n"
     ]
    },
    {
     "name": "stderr",
     "output_type": "stream",
     "text": [
      "Training Progress:  28%|██▊       | 139/500 [00:37<01:35,  3.77it/s]"
     ]
    },
    {
     "name": "stdout",
     "output_type": "stream",
     "text": [
      "Epoch 139, Loss: 1.5787\n"
     ]
    },
    {
     "name": "stderr",
     "output_type": "stream",
     "text": [
      "Training Progress:  28%|██▊       | 140/500 [00:37<01:35,  3.77it/s]"
     ]
    },
    {
     "name": "stdout",
     "output_type": "stream",
     "text": [
      "Epoch 140, Loss: 1.5761\n"
     ]
    },
    {
     "name": "stderr",
     "output_type": "stream",
     "text": [
      "Training Progress:  28%|██▊       | 141/500 [00:37<01:35,  3.76it/s]"
     ]
    },
    {
     "name": "stdout",
     "output_type": "stream",
     "text": [
      "Epoch 141, Loss: 1.5725\n"
     ]
    },
    {
     "name": "stderr",
     "output_type": "stream",
     "text": [
      "Training Progress:  28%|██▊       | 142/500 [00:38<01:34,  3.78it/s]"
     ]
    },
    {
     "name": "stdout",
     "output_type": "stream",
     "text": [
      "Epoch 142, Loss: 1.5701\n"
     ]
    },
    {
     "name": "stderr",
     "output_type": "stream",
     "text": [
      "Training Progress:  29%|██▊       | 143/500 [00:38<01:34,  3.78it/s]"
     ]
    },
    {
     "name": "stdout",
     "output_type": "stream",
     "text": [
      "Epoch 143, Loss: 1.5664\n"
     ]
    },
    {
     "name": "stderr",
     "output_type": "stream",
     "text": [
      "Training Progress:  29%|██▉       | 144/500 [00:38<01:34,  3.78it/s]"
     ]
    },
    {
     "name": "stdout",
     "output_type": "stream",
     "text": [
      "Epoch 144, Loss: 1.5642\n"
     ]
    },
    {
     "name": "stderr",
     "output_type": "stream",
     "text": [
      "Training Progress:  29%|██▉       | 145/500 [00:38<01:33,  3.80it/s]"
     ]
    },
    {
     "name": "stdout",
     "output_type": "stream",
     "text": [
      "Epoch 145, Loss: 1.5618\n"
     ]
    },
    {
     "name": "stderr",
     "output_type": "stream",
     "text": [
      "Training Progress:  29%|██▉       | 146/500 [00:39<01:33,  3.80it/s]"
     ]
    },
    {
     "name": "stdout",
     "output_type": "stream",
     "text": [
      "Epoch 146, Loss: 1.5590\n"
     ]
    },
    {
     "name": "stderr",
     "output_type": "stream",
     "text": [
      "Training Progress:  29%|██▉       | 147/500 [00:39<01:32,  3.81it/s]"
     ]
    },
    {
     "name": "stdout",
     "output_type": "stream",
     "text": [
      "Epoch 147, Loss: 1.5556\n"
     ]
    },
    {
     "name": "stderr",
     "output_type": "stream",
     "text": [
      "Training Progress:  30%|██▉       | 148/500 [00:39<01:32,  3.80it/s]"
     ]
    },
    {
     "name": "stdout",
     "output_type": "stream",
     "text": [
      "Epoch 148, Loss: 1.5539\n"
     ]
    },
    {
     "name": "stderr",
     "output_type": "stream",
     "text": [
      "Training Progress:  30%|██▉       | 149/500 [00:40<01:32,  3.80it/s]"
     ]
    },
    {
     "name": "stdout",
     "output_type": "stream",
     "text": [
      "Epoch 149, Loss: 1.5511\n"
     ]
    },
    {
     "name": "stderr",
     "output_type": "stream",
     "text": [
      "Training Progress:  30%|███       | 150/500 [00:40<01:32,  3.79it/s]"
     ]
    },
    {
     "name": "stdout",
     "output_type": "stream",
     "text": [
      "Epoch 150, Loss: 1.5489\n"
     ]
    },
    {
     "name": "stderr",
     "output_type": "stream",
     "text": [
      "Training Progress:  30%|███       | 151/500 [00:40<01:32,  3.79it/s]"
     ]
    },
    {
     "name": "stdout",
     "output_type": "stream",
     "text": [
      "Epoch 151, Loss: 1.5459\n"
     ]
    },
    {
     "name": "stderr",
     "output_type": "stream",
     "text": [
      "Training Progress:  30%|███       | 152/500 [00:40<01:31,  3.80it/s]"
     ]
    },
    {
     "name": "stdout",
     "output_type": "stream",
     "text": [
      "Epoch 152, Loss: 1.5433\n"
     ]
    },
    {
     "name": "stderr",
     "output_type": "stream",
     "text": [
      "Training Progress:  31%|███       | 153/500 [00:41<01:31,  3.81it/s]"
     ]
    },
    {
     "name": "stdout",
     "output_type": "stream",
     "text": [
      "Epoch 153, Loss: 1.5406\n"
     ]
    },
    {
     "name": "stderr",
     "output_type": "stream",
     "text": [
      "Training Progress:  31%|███       | 154/500 [00:41<01:30,  3.82it/s]"
     ]
    },
    {
     "name": "stdout",
     "output_type": "stream",
     "text": [
      "Epoch 154, Loss: 1.5382\n"
     ]
    },
    {
     "name": "stderr",
     "output_type": "stream",
     "text": [
      "Training Progress:  31%|███       | 155/500 [00:41<01:30,  3.80it/s]"
     ]
    },
    {
     "name": "stdout",
     "output_type": "stream",
     "text": [
      "Epoch 155, Loss: 1.5355\n"
     ]
    },
    {
     "name": "stderr",
     "output_type": "stream",
     "text": [
      "Training Progress:  31%|███       | 156/500 [00:41<01:30,  3.80it/s]"
     ]
    },
    {
     "name": "stdout",
     "output_type": "stream",
     "text": [
      "Epoch 156, Loss: 1.5333\n"
     ]
    },
    {
     "name": "stderr",
     "output_type": "stream",
     "text": [
      "Training Progress:  31%|███▏      | 157/500 [00:42<01:30,  3.80it/s]"
     ]
    },
    {
     "name": "stdout",
     "output_type": "stream",
     "text": [
      "Epoch 157, Loss: 1.5305\n"
     ]
    },
    {
     "name": "stderr",
     "output_type": "stream",
     "text": [
      "Training Progress:  32%|███▏      | 158/500 [00:42<01:30,  3.80it/s]"
     ]
    },
    {
     "name": "stdout",
     "output_type": "stream",
     "text": [
      "Epoch 158, Loss: 1.5279\n"
     ]
    },
    {
     "name": "stderr",
     "output_type": "stream",
     "text": [
      "Training Progress:  32%|███▏      | 159/500 [00:42<01:29,  3.80it/s]"
     ]
    },
    {
     "name": "stdout",
     "output_type": "stream",
     "text": [
      "Epoch 159, Loss: 1.5256\n"
     ]
    },
    {
     "name": "stderr",
     "output_type": "stream",
     "text": [
      "Training Progress:  32%|███▏      | 160/500 [00:42<01:29,  3.79it/s]"
     ]
    },
    {
     "name": "stdout",
     "output_type": "stream",
     "text": [
      "Epoch 160, Loss: 1.5232\n"
     ]
    },
    {
     "name": "stderr",
     "output_type": "stream",
     "text": [
      "Training Progress:  32%|███▏      | 161/500 [00:43<01:29,  3.79it/s]"
     ]
    },
    {
     "name": "stdout",
     "output_type": "stream",
     "text": [
      "Epoch 161, Loss: 1.5217\n"
     ]
    },
    {
     "name": "stderr",
     "output_type": "stream",
     "text": [
      "Training Progress:  32%|███▏      | 162/500 [00:43<01:29,  3.78it/s]"
     ]
    },
    {
     "name": "stdout",
     "output_type": "stream",
     "text": [
      "Epoch 162, Loss: 1.5188\n"
     ]
    },
    {
     "name": "stderr",
     "output_type": "stream",
     "text": [
      "Training Progress:  33%|███▎      | 163/500 [00:43<01:28,  3.80it/s]"
     ]
    },
    {
     "name": "stdout",
     "output_type": "stream",
     "text": [
      "Epoch 163, Loss: 1.5168\n"
     ]
    },
    {
     "name": "stderr",
     "output_type": "stream",
     "text": [
      "Training Progress:  33%|███▎      | 164/500 [00:43<01:28,  3.79it/s]"
     ]
    },
    {
     "name": "stdout",
     "output_type": "stream",
     "text": [
      "Epoch 164, Loss: 1.5143\n"
     ]
    },
    {
     "name": "stderr",
     "output_type": "stream",
     "text": [
      "Training Progress:  33%|███▎      | 165/500 [00:44<01:28,  3.79it/s]"
     ]
    },
    {
     "name": "stdout",
     "output_type": "stream",
     "text": [
      "Epoch 165, Loss: 1.5116\n"
     ]
    },
    {
     "name": "stderr",
     "output_type": "stream",
     "text": [
      "Training Progress:  33%|███▎      | 166/500 [00:44<01:28,  3.78it/s]"
     ]
    },
    {
     "name": "stdout",
     "output_type": "stream",
     "text": [
      "Epoch 166, Loss: 1.5096\n"
     ]
    },
    {
     "name": "stderr",
     "output_type": "stream",
     "text": [
      "Training Progress:  33%|███▎      | 167/500 [00:44<01:27,  3.79it/s]"
     ]
    },
    {
     "name": "stdout",
     "output_type": "stream",
     "text": [
      "Epoch 167, Loss: 1.5079\n"
     ]
    },
    {
     "name": "stderr",
     "output_type": "stream",
     "text": [
      "Training Progress:  34%|███▎      | 168/500 [00:45<01:27,  3.79it/s]"
     ]
    },
    {
     "name": "stdout",
     "output_type": "stream",
     "text": [
      "Epoch 168, Loss: 1.5053\n"
     ]
    },
    {
     "name": "stderr",
     "output_type": "stream",
     "text": [
      "Training Progress:  34%|███▍      | 169/500 [00:45<01:27,  3.76it/s]"
     ]
    },
    {
     "name": "stdout",
     "output_type": "stream",
     "text": [
      "Epoch 169, Loss: 1.5029\n"
     ]
    },
    {
     "name": "stderr",
     "output_type": "stream",
     "text": [
      "Training Progress:  34%|███▍      | 170/500 [00:45<01:27,  3.75it/s]"
     ]
    },
    {
     "name": "stdout",
     "output_type": "stream",
     "text": [
      "Epoch 170, Loss: 1.5004\n"
     ]
    },
    {
     "name": "stderr",
     "output_type": "stream",
     "text": [
      "Training Progress:  34%|███▍      | 171/500 [00:45<01:27,  3.76it/s]"
     ]
    },
    {
     "name": "stdout",
     "output_type": "stream",
     "text": [
      "Epoch 171, Loss: 1.4982\n"
     ]
    },
    {
     "name": "stderr",
     "output_type": "stream",
     "text": [
      "Training Progress:  34%|███▍      | 172/500 [00:46<01:26,  3.77it/s]"
     ]
    },
    {
     "name": "stdout",
     "output_type": "stream",
     "text": [
      "Epoch 172, Loss: 1.4963\n"
     ]
    },
    {
     "name": "stderr",
     "output_type": "stream",
     "text": [
      "Training Progress:  35%|███▍      | 173/500 [00:46<01:26,  3.77it/s]"
     ]
    },
    {
     "name": "stdout",
     "output_type": "stream",
     "text": [
      "Epoch 173, Loss: 1.4943\n"
     ]
    },
    {
     "name": "stderr",
     "output_type": "stream",
     "text": [
      "Training Progress:  35%|███▍      | 174/500 [00:46<01:26,  3.77it/s]"
     ]
    },
    {
     "name": "stdout",
     "output_type": "stream",
     "text": [
      "Epoch 174, Loss: 1.4920\n"
     ]
    },
    {
     "name": "stderr",
     "output_type": "stream",
     "text": [
      "Training Progress:  35%|███▌      | 175/500 [00:46<01:26,  3.76it/s]"
     ]
    },
    {
     "name": "stdout",
     "output_type": "stream",
     "text": [
      "Epoch 175, Loss: 1.4902\n"
     ]
    },
    {
     "name": "stderr",
     "output_type": "stream",
     "text": [
      "Training Progress:  35%|███▌      | 176/500 [00:47<01:25,  3.77it/s]"
     ]
    },
    {
     "name": "stdout",
     "output_type": "stream",
     "text": [
      "Epoch 176, Loss: 1.4877\n"
     ]
    },
    {
     "name": "stderr",
     "output_type": "stream",
     "text": [
      "Training Progress:  35%|███▌      | 177/500 [00:47<01:25,  3.78it/s]"
     ]
    },
    {
     "name": "stdout",
     "output_type": "stream",
     "text": [
      "Epoch 177, Loss: 1.4855\n"
     ]
    },
    {
     "name": "stderr",
     "output_type": "stream",
     "text": [
      "Training Progress:  36%|███▌      | 178/500 [00:47<01:25,  3.78it/s]"
     ]
    },
    {
     "name": "stdout",
     "output_type": "stream",
     "text": [
      "Epoch 178, Loss: 1.4837\n"
     ]
    },
    {
     "name": "stderr",
     "output_type": "stream",
     "text": [
      "Training Progress:  36%|███▌      | 179/500 [00:47<01:25,  3.78it/s]"
     ]
    },
    {
     "name": "stdout",
     "output_type": "stream",
     "text": [
      "Epoch 179, Loss: 1.4819\n"
     ]
    },
    {
     "name": "stderr",
     "output_type": "stream",
     "text": [
      "Training Progress:  36%|███▌      | 180/500 [00:48<01:24,  3.78it/s]"
     ]
    },
    {
     "name": "stdout",
     "output_type": "stream",
     "text": [
      "Epoch 180, Loss: 1.4794\n"
     ]
    },
    {
     "name": "stderr",
     "output_type": "stream",
     "text": [
      "Training Progress:  36%|███▌      | 181/500 [00:48<01:24,  3.78it/s]"
     ]
    },
    {
     "name": "stdout",
     "output_type": "stream",
     "text": [
      "Epoch 181, Loss: 1.4776\n"
     ]
    },
    {
     "name": "stderr",
     "output_type": "stream",
     "text": [
      "Training Progress:  36%|███▋      | 182/500 [00:48<01:23,  3.79it/s]"
     ]
    },
    {
     "name": "stdout",
     "output_type": "stream",
     "text": [
      "Epoch 182, Loss: 1.4757\n"
     ]
    },
    {
     "name": "stderr",
     "output_type": "stream",
     "text": [
      "Training Progress:  37%|███▋      | 183/500 [00:48<01:24,  3.77it/s]"
     ]
    },
    {
     "name": "stdout",
     "output_type": "stream",
     "text": [
      "Epoch 183, Loss: 1.4742\n"
     ]
    },
    {
     "name": "stderr",
     "output_type": "stream",
     "text": [
      "Training Progress:  37%|███▋      | 184/500 [00:49<01:23,  3.77it/s]"
     ]
    },
    {
     "name": "stdout",
     "output_type": "stream",
     "text": [
      "Epoch 184, Loss: 1.4718\n"
     ]
    },
    {
     "name": "stderr",
     "output_type": "stream",
     "text": [
      "Training Progress:  37%|███▋      | 185/500 [00:49<01:23,  3.77it/s]"
     ]
    },
    {
     "name": "stdout",
     "output_type": "stream",
     "text": [
      "Epoch 185, Loss: 1.4700\n"
     ]
    },
    {
     "name": "stderr",
     "output_type": "stream",
     "text": [
      "Training Progress:  37%|███▋      | 186/500 [00:49<01:23,  3.77it/s]"
     ]
    },
    {
     "name": "stdout",
     "output_type": "stream",
     "text": [
      "Epoch 186, Loss: 1.4683\n"
     ]
    },
    {
     "name": "stderr",
     "output_type": "stream",
     "text": [
      "Training Progress:  37%|███▋      | 187/500 [00:50<01:22,  3.77it/s]"
     ]
    },
    {
     "name": "stdout",
     "output_type": "stream",
     "text": [
      "Epoch 187, Loss: 1.4662\n"
     ]
    },
    {
     "name": "stderr",
     "output_type": "stream",
     "text": [
      "Training Progress:  38%|███▊      | 188/500 [00:50<01:22,  3.77it/s]"
     ]
    },
    {
     "name": "stdout",
     "output_type": "stream",
     "text": [
      "Epoch 188, Loss: 1.4642\n"
     ]
    },
    {
     "name": "stderr",
     "output_type": "stream",
     "text": [
      "Training Progress:  38%|███▊      | 189/500 [00:50<01:22,  3.77it/s]"
     ]
    },
    {
     "name": "stdout",
     "output_type": "stream",
     "text": [
      "Epoch 189, Loss: 1.4625\n"
     ]
    },
    {
     "name": "stderr",
     "output_type": "stream",
     "text": [
      "Training Progress:  38%|███▊      | 190/500 [00:50<01:22,  3.76it/s]"
     ]
    },
    {
     "name": "stdout",
     "output_type": "stream",
     "text": [
      "Epoch 190, Loss: 1.4609\n"
     ]
    },
    {
     "name": "stderr",
     "output_type": "stream",
     "text": [
      "Training Progress:  38%|███▊      | 191/500 [00:51<01:22,  3.76it/s]"
     ]
    },
    {
     "name": "stdout",
     "output_type": "stream",
     "text": [
      "Epoch 191, Loss: 1.4586\n"
     ]
    },
    {
     "name": "stderr",
     "output_type": "stream",
     "text": [
      "Training Progress:  38%|███▊      | 192/500 [00:51<01:22,  3.75it/s]"
     ]
    },
    {
     "name": "stdout",
     "output_type": "stream",
     "text": [
      "Epoch 192, Loss: 1.4572\n"
     ]
    },
    {
     "name": "stderr",
     "output_type": "stream",
     "text": [
      "Training Progress:  39%|███▊      | 193/500 [00:51<01:21,  3.77it/s]"
     ]
    },
    {
     "name": "stdout",
     "output_type": "stream",
     "text": [
      "Epoch 193, Loss: 1.4553\n"
     ]
    },
    {
     "name": "stderr",
     "output_type": "stream",
     "text": [
      "Training Progress:  39%|███▉      | 194/500 [00:51<01:21,  3.77it/s]"
     ]
    },
    {
     "name": "stdout",
     "output_type": "stream",
     "text": [
      "Epoch 194, Loss: 1.4534\n"
     ]
    },
    {
     "name": "stderr",
     "output_type": "stream",
     "text": [
      "Training Progress:  39%|███▉      | 195/500 [00:52<01:20,  3.78it/s]"
     ]
    },
    {
     "name": "stdout",
     "output_type": "stream",
     "text": [
      "Epoch 195, Loss: 1.4517\n"
     ]
    },
    {
     "name": "stderr",
     "output_type": "stream",
     "text": [
      "Training Progress:  39%|███▉      | 196/500 [00:52<01:20,  3.79it/s]"
     ]
    },
    {
     "name": "stdout",
     "output_type": "stream",
     "text": [
      "Epoch 196, Loss: 1.4496\n"
     ]
    },
    {
     "name": "stderr",
     "output_type": "stream",
     "text": [
      "Training Progress:  39%|███▉      | 197/500 [00:52<01:19,  3.80it/s]"
     ]
    },
    {
     "name": "stdout",
     "output_type": "stream",
     "text": [
      "Epoch 197, Loss: 1.4485\n"
     ]
    },
    {
     "name": "stderr",
     "output_type": "stream",
     "text": [
      "Training Progress:  40%|███▉      | 198/500 [00:52<01:19,  3.78it/s]"
     ]
    },
    {
     "name": "stdout",
     "output_type": "stream",
     "text": [
      "Epoch 198, Loss: 1.4469\n"
     ]
    },
    {
     "name": "stderr",
     "output_type": "stream",
     "text": [
      "Training Progress:  40%|███▉      | 199/500 [00:53<01:19,  3.77it/s]"
     ]
    },
    {
     "name": "stdout",
     "output_type": "stream",
     "text": [
      "Epoch 199, Loss: 1.4449\n"
     ]
    },
    {
     "name": "stderr",
     "output_type": "stream",
     "text": [
      "Training Progress:  40%|████      | 200/500 [00:53<01:19,  3.77it/s]"
     ]
    },
    {
     "name": "stdout",
     "output_type": "stream",
     "text": [
      "Epoch 200, Loss: 1.4435\n"
     ]
    },
    {
     "name": "stderr",
     "output_type": "stream",
     "text": [
      "Training Progress:  40%|████      | 201/500 [00:53<01:19,  3.78it/s]"
     ]
    },
    {
     "name": "stdout",
     "output_type": "stream",
     "text": [
      "Epoch 201, Loss: 1.4412\n"
     ]
    },
    {
     "name": "stderr",
     "output_type": "stream",
     "text": [
      "Training Progress:  40%|████      | 202/500 [00:54<01:18,  3.78it/s]"
     ]
    },
    {
     "name": "stdout",
     "output_type": "stream",
     "text": [
      "Epoch 202, Loss: 1.4395\n"
     ]
    },
    {
     "name": "stderr",
     "output_type": "stream",
     "text": [
      "Training Progress:  41%|████      | 203/500 [00:54<01:18,  3.78it/s]"
     ]
    },
    {
     "name": "stdout",
     "output_type": "stream",
     "text": [
      "Epoch 203, Loss: 1.4382\n"
     ]
    },
    {
     "name": "stderr",
     "output_type": "stream",
     "text": [
      "Training Progress:  41%|████      | 204/500 [00:54<01:18,  3.79it/s]"
     ]
    },
    {
     "name": "stdout",
     "output_type": "stream",
     "text": [
      "Epoch 204, Loss: 1.4364\n"
     ]
    },
    {
     "name": "stderr",
     "output_type": "stream",
     "text": [
      "Training Progress:  41%|████      | 205/500 [00:54<01:18,  3.78it/s]"
     ]
    },
    {
     "name": "stdout",
     "output_type": "stream",
     "text": [
      "Epoch 205, Loss: 1.4345\n"
     ]
    },
    {
     "name": "stderr",
     "output_type": "stream",
     "text": [
      "Training Progress:  41%|████      | 206/500 [00:55<01:18,  3.77it/s]"
     ]
    },
    {
     "name": "stdout",
     "output_type": "stream",
     "text": [
      "Epoch 206, Loss: 1.4329\n"
     ]
    },
    {
     "name": "stderr",
     "output_type": "stream",
     "text": [
      "Training Progress:  41%|████▏     | 207/500 [00:55<01:17,  3.78it/s]"
     ]
    },
    {
     "name": "stdout",
     "output_type": "stream",
     "text": [
      "Epoch 207, Loss: 1.4315\n"
     ]
    },
    {
     "name": "stderr",
     "output_type": "stream",
     "text": [
      "Training Progress:  42%|████▏     | 208/500 [00:55<01:17,  3.78it/s]"
     ]
    },
    {
     "name": "stdout",
     "output_type": "stream",
     "text": [
      "Epoch 208, Loss: 1.4298\n"
     ]
    },
    {
     "name": "stderr",
     "output_type": "stream",
     "text": [
      "Training Progress:  42%|████▏     | 209/500 [00:55<01:16,  3.79it/s]"
     ]
    },
    {
     "name": "stdout",
     "output_type": "stream",
     "text": [
      "Epoch 209, Loss: 1.4281\n"
     ]
    },
    {
     "name": "stderr",
     "output_type": "stream",
     "text": [
      "Training Progress:  42%|████▏     | 210/500 [00:56<01:16,  3.79it/s]"
     ]
    },
    {
     "name": "stdout",
     "output_type": "stream",
     "text": [
      "Epoch 210, Loss: 1.4265\n"
     ]
    },
    {
     "name": "stderr",
     "output_type": "stream",
     "text": [
      "Training Progress:  42%|████▏     | 211/500 [00:56<01:16,  3.79it/s]"
     ]
    },
    {
     "name": "stdout",
     "output_type": "stream",
     "text": [
      "Epoch 211, Loss: 1.4250\n"
     ]
    },
    {
     "name": "stderr",
     "output_type": "stream",
     "text": [
      "Training Progress:  42%|████▏     | 212/500 [00:56<01:15,  3.80it/s]"
     ]
    },
    {
     "name": "stdout",
     "output_type": "stream",
     "text": [
      "Epoch 212, Loss: 1.4235\n"
     ]
    },
    {
     "name": "stderr",
     "output_type": "stream",
     "text": [
      "Training Progress:  43%|████▎     | 213/500 [00:56<01:15,  3.78it/s]"
     ]
    },
    {
     "name": "stdout",
     "output_type": "stream",
     "text": [
      "Epoch 213, Loss: 1.4221\n"
     ]
    },
    {
     "name": "stderr",
     "output_type": "stream",
     "text": [
      "Training Progress:  43%|████▎     | 214/500 [00:57<01:15,  3.78it/s]"
     ]
    },
    {
     "name": "stdout",
     "output_type": "stream",
     "text": [
      "Epoch 214, Loss: 1.4201\n"
     ]
    },
    {
     "name": "stderr",
     "output_type": "stream",
     "text": [
      "Training Progress:  43%|████▎     | 215/500 [00:57<01:15,  3.76it/s]"
     ]
    },
    {
     "name": "stdout",
     "output_type": "stream",
     "text": [
      "Epoch 215, Loss: 1.4188\n"
     ]
    },
    {
     "name": "stderr",
     "output_type": "stream",
     "text": [
      "Training Progress:  43%|████▎     | 216/500 [00:57<01:15,  3.75it/s]"
     ]
    },
    {
     "name": "stdout",
     "output_type": "stream",
     "text": [
      "Epoch 216, Loss: 1.4173\n"
     ]
    },
    {
     "name": "stderr",
     "output_type": "stream",
     "text": [
      "Training Progress:  43%|████▎     | 217/500 [00:57<01:15,  3.76it/s]"
     ]
    },
    {
     "name": "stdout",
     "output_type": "stream",
     "text": [
      "Epoch 217, Loss: 1.4159\n"
     ]
    },
    {
     "name": "stderr",
     "output_type": "stream",
     "text": [
      "Training Progress:  44%|████▎     | 218/500 [00:58<01:14,  3.77it/s]"
     ]
    },
    {
     "name": "stdout",
     "output_type": "stream",
     "text": [
      "Epoch 218, Loss: 1.4142\n"
     ]
    },
    {
     "name": "stderr",
     "output_type": "stream",
     "text": [
      "Training Progress:  44%|████▍     | 219/500 [00:58<01:14,  3.78it/s]"
     ]
    },
    {
     "name": "stdout",
     "output_type": "stream",
     "text": [
      "Epoch 219, Loss: 1.4126\n"
     ]
    },
    {
     "name": "stderr",
     "output_type": "stream",
     "text": [
      "Training Progress:  44%|████▍     | 220/500 [00:58<01:14,  3.76it/s]"
     ]
    },
    {
     "name": "stdout",
     "output_type": "stream",
     "text": [
      "Epoch 220, Loss: 1.4109\n"
     ]
    },
    {
     "name": "stderr",
     "output_type": "stream",
     "text": [
      "Training Progress:  44%|████▍     | 221/500 [00:59<01:14,  3.76it/s]"
     ]
    },
    {
     "name": "stdout",
     "output_type": "stream",
     "text": [
      "Epoch 221, Loss: 1.4096\n"
     ]
    },
    {
     "name": "stderr",
     "output_type": "stream",
     "text": [
      "Training Progress:  44%|████▍     | 222/500 [00:59<01:13,  3.78it/s]"
     ]
    },
    {
     "name": "stdout",
     "output_type": "stream",
     "text": [
      "Epoch 222, Loss: 1.4086\n"
     ]
    },
    {
     "name": "stderr",
     "output_type": "stream",
     "text": [
      "Training Progress:  45%|████▍     | 223/500 [00:59<01:13,  3.78it/s]"
     ]
    },
    {
     "name": "stdout",
     "output_type": "stream",
     "text": [
      "Epoch 223, Loss: 1.4068\n"
     ]
    },
    {
     "name": "stderr",
     "output_type": "stream",
     "text": [
      "Training Progress:  45%|████▍     | 224/500 [00:59<01:13,  3.76it/s]"
     ]
    },
    {
     "name": "stdout",
     "output_type": "stream",
     "text": [
      "Epoch 224, Loss: 1.4051\n"
     ]
    },
    {
     "name": "stderr",
     "output_type": "stream",
     "text": [
      "Training Progress:  45%|████▌     | 225/500 [01:00<01:12,  3.78it/s]"
     ]
    },
    {
     "name": "stdout",
     "output_type": "stream",
     "text": [
      "Epoch 225, Loss: 1.4038\n"
     ]
    },
    {
     "name": "stderr",
     "output_type": "stream",
     "text": [
      "Training Progress:  45%|████▌     | 226/500 [01:00<01:12,  3.80it/s]"
     ]
    },
    {
     "name": "stdout",
     "output_type": "stream",
     "text": [
      "Epoch 226, Loss: 1.4024\n"
     ]
    },
    {
     "name": "stderr",
     "output_type": "stream",
     "text": [
      "Training Progress:  45%|████▌     | 227/500 [01:00<01:11,  3.80it/s]"
     ]
    },
    {
     "name": "stdout",
     "output_type": "stream",
     "text": [
      "Epoch 227, Loss: 1.4010\n"
     ]
    },
    {
     "name": "stderr",
     "output_type": "stream",
     "text": [
      "Training Progress:  46%|████▌     | 228/500 [01:00<01:12,  3.78it/s]"
     ]
    },
    {
     "name": "stdout",
     "output_type": "stream",
     "text": [
      "Epoch 228, Loss: 1.3999\n"
     ]
    },
    {
     "name": "stderr",
     "output_type": "stream",
     "text": [
      "Training Progress:  46%|████▌     | 229/500 [01:01<01:12,  3.75it/s]"
     ]
    },
    {
     "name": "stdout",
     "output_type": "stream",
     "text": [
      "Epoch 229, Loss: 1.3983\n"
     ]
    },
    {
     "name": "stderr",
     "output_type": "stream",
     "text": [
      "Training Progress:  46%|████▌     | 230/500 [01:01<01:12,  3.74it/s]"
     ]
    },
    {
     "name": "stdout",
     "output_type": "stream",
     "text": [
      "Epoch 230, Loss: 1.3970\n"
     ]
    },
    {
     "name": "stderr",
     "output_type": "stream",
     "text": [
      "Training Progress:  46%|████▌     | 231/500 [01:01<01:11,  3.75it/s]"
     ]
    },
    {
     "name": "stdout",
     "output_type": "stream",
     "text": [
      "Epoch 231, Loss: 1.3954\n"
     ]
    },
    {
     "name": "stderr",
     "output_type": "stream",
     "text": [
      "Training Progress:  46%|████▋     | 232/500 [01:01<01:11,  3.76it/s]"
     ]
    },
    {
     "name": "stdout",
     "output_type": "stream",
     "text": [
      "Epoch 232, Loss: 1.3942\n"
     ]
    },
    {
     "name": "stderr",
     "output_type": "stream",
     "text": [
      "Training Progress:  47%|████▋     | 233/500 [01:02<01:10,  3.77it/s]"
     ]
    },
    {
     "name": "stdout",
     "output_type": "stream",
     "text": [
      "Epoch 233, Loss: 1.3925\n"
     ]
    },
    {
     "name": "stderr",
     "output_type": "stream",
     "text": [
      "Training Progress:  47%|████▋     | 234/500 [01:02<01:10,  3.78it/s]"
     ]
    },
    {
     "name": "stdout",
     "output_type": "stream",
     "text": [
      "Epoch 234, Loss: 1.3911\n"
     ]
    },
    {
     "name": "stderr",
     "output_type": "stream",
     "text": [
      "Training Progress:  47%|████▋     | 235/500 [01:02<01:10,  3.78it/s]"
     ]
    },
    {
     "name": "stdout",
     "output_type": "stream",
     "text": [
      "Epoch 235, Loss: 1.3902\n"
     ]
    },
    {
     "name": "stderr",
     "output_type": "stream",
     "text": [
      "Training Progress:  47%|████▋     | 236/500 [01:03<01:09,  3.78it/s]"
     ]
    },
    {
     "name": "stdout",
     "output_type": "stream",
     "text": [
      "Epoch 236, Loss: 1.3886\n"
     ]
    },
    {
     "name": "stderr",
     "output_type": "stream",
     "text": [
      "Training Progress:  47%|████▋     | 237/500 [01:03<01:09,  3.76it/s]"
     ]
    },
    {
     "name": "stdout",
     "output_type": "stream",
     "text": [
      "Epoch 237, Loss: 1.3870\n"
     ]
    },
    {
     "name": "stderr",
     "output_type": "stream",
     "text": [
      "Training Progress:  48%|████▊     | 238/500 [01:03<01:09,  3.77it/s]"
     ]
    },
    {
     "name": "stdout",
     "output_type": "stream",
     "text": [
      "Epoch 238, Loss: 1.3859\n"
     ]
    },
    {
     "name": "stderr",
     "output_type": "stream",
     "text": [
      "Training Progress:  48%|████▊     | 239/500 [01:03<01:09,  3.77it/s]"
     ]
    },
    {
     "name": "stdout",
     "output_type": "stream",
     "text": [
      "Epoch 239, Loss: 1.3848\n"
     ]
    },
    {
     "name": "stderr",
     "output_type": "stream",
     "text": [
      "Training Progress:  48%|████▊     | 240/500 [01:04<01:09,  3.76it/s]"
     ]
    },
    {
     "name": "stdout",
     "output_type": "stream",
     "text": [
      "Epoch 240, Loss: 1.3835\n"
     ]
    },
    {
     "name": "stderr",
     "output_type": "stream",
     "text": [
      "Training Progress:  48%|████▊     | 241/500 [01:04<01:08,  3.77it/s]"
     ]
    },
    {
     "name": "stdout",
     "output_type": "stream",
     "text": [
      "Epoch 241, Loss: 1.3822\n"
     ]
    },
    {
     "name": "stderr",
     "output_type": "stream",
     "text": [
      "Training Progress:  48%|████▊     | 242/500 [01:04<01:08,  3.77it/s]"
     ]
    },
    {
     "name": "stdout",
     "output_type": "stream",
     "text": [
      "Epoch 242, Loss: 1.3806\n"
     ]
    },
    {
     "name": "stderr",
     "output_type": "stream",
     "text": [
      "Training Progress:  49%|████▊     | 243/500 [01:04<01:08,  3.77it/s]"
     ]
    },
    {
     "name": "stdout",
     "output_type": "stream",
     "text": [
      "Epoch 243, Loss: 1.3790\n"
     ]
    },
    {
     "name": "stderr",
     "output_type": "stream",
     "text": [
      "Training Progress:  49%|████▉     | 244/500 [01:05<01:07,  3.77it/s]"
     ]
    },
    {
     "name": "stdout",
     "output_type": "stream",
     "text": [
      "Epoch 244, Loss: 1.3779\n"
     ]
    },
    {
     "name": "stderr",
     "output_type": "stream",
     "text": [
      "Training Progress:  49%|████▉     | 245/500 [01:05<01:07,  3.75it/s]"
     ]
    },
    {
     "name": "stdout",
     "output_type": "stream",
     "text": [
      "Epoch 245, Loss: 1.3767\n"
     ]
    },
    {
     "name": "stderr",
     "output_type": "stream",
     "text": [
      "Training Progress:  49%|████▉     | 246/500 [01:05<01:07,  3.76it/s]"
     ]
    },
    {
     "name": "stdout",
     "output_type": "stream",
     "text": [
      "Epoch 246, Loss: 1.3758\n"
     ]
    },
    {
     "name": "stderr",
     "output_type": "stream",
     "text": [
      "Training Progress:  49%|████▉     | 247/500 [01:05<01:07,  3.77it/s]"
     ]
    },
    {
     "name": "stdout",
     "output_type": "stream",
     "text": [
      "Epoch 247, Loss: 1.3743\n"
     ]
    },
    {
     "name": "stderr",
     "output_type": "stream",
     "text": [
      "Training Progress:  50%|████▉     | 248/500 [01:06<01:06,  3.79it/s]"
     ]
    },
    {
     "name": "stdout",
     "output_type": "stream",
     "text": [
      "Epoch 248, Loss: 1.3729\n"
     ]
    },
    {
     "name": "stderr",
     "output_type": "stream",
     "text": [
      "Training Progress:  50%|████▉     | 249/500 [01:06<01:06,  3.79it/s]"
     ]
    },
    {
     "name": "stdout",
     "output_type": "stream",
     "text": [
      "Epoch 249, Loss: 1.3716\n"
     ]
    },
    {
     "name": "stderr",
     "output_type": "stream",
     "text": [
      "Training Progress:  50%|█████     | 250/500 [01:06<01:06,  3.79it/s]"
     ]
    },
    {
     "name": "stdout",
     "output_type": "stream",
     "text": [
      "Epoch 250, Loss: 1.3703\n"
     ]
    },
    {
     "name": "stderr",
     "output_type": "stream",
     "text": [
      "Training Progress:  50%|█████     | 251/500 [01:07<01:05,  3.78it/s]"
     ]
    },
    {
     "name": "stdout",
     "output_type": "stream",
     "text": [
      "Epoch 251, Loss: 1.3692\n"
     ]
    },
    {
     "name": "stderr",
     "output_type": "stream",
     "text": [
      "Training Progress:  50%|█████     | 252/500 [01:07<01:05,  3.78it/s]"
     ]
    },
    {
     "name": "stdout",
     "output_type": "stream",
     "text": [
      "Epoch 252, Loss: 1.3678\n"
     ]
    },
    {
     "name": "stderr",
     "output_type": "stream",
     "text": [
      "Training Progress:  51%|█████     | 253/500 [01:07<01:05,  3.77it/s]"
     ]
    },
    {
     "name": "stdout",
     "output_type": "stream",
     "text": [
      "Epoch 253, Loss: 1.3666\n"
     ]
    },
    {
     "name": "stderr",
     "output_type": "stream",
     "text": [
      "Training Progress:  51%|█████     | 254/500 [01:07<01:05,  3.77it/s]"
     ]
    },
    {
     "name": "stdout",
     "output_type": "stream",
     "text": [
      "Epoch 254, Loss: 1.3658\n"
     ]
    },
    {
     "name": "stderr",
     "output_type": "stream",
     "text": [
      "Training Progress:  51%|█████     | 255/500 [01:08<01:04,  3.78it/s]"
     ]
    },
    {
     "name": "stdout",
     "output_type": "stream",
     "text": [
      "Epoch 255, Loss: 1.3641\n"
     ]
    },
    {
     "name": "stderr",
     "output_type": "stream",
     "text": [
      "Training Progress:  51%|█████     | 256/500 [01:08<01:04,  3.79it/s]"
     ]
    },
    {
     "name": "stdout",
     "output_type": "stream",
     "text": [
      "Epoch 256, Loss: 1.3631\n"
     ]
    },
    {
     "name": "stderr",
     "output_type": "stream",
     "text": [
      "Training Progress:  51%|█████▏    | 257/500 [01:08<01:04,  3.78it/s]"
     ]
    },
    {
     "name": "stdout",
     "output_type": "stream",
     "text": [
      "Epoch 257, Loss: 1.3619\n"
     ]
    },
    {
     "name": "stderr",
     "output_type": "stream",
     "text": [
      "Training Progress:  52%|█████▏    | 258/500 [01:08<01:04,  3.76it/s]"
     ]
    },
    {
     "name": "stdout",
     "output_type": "stream",
     "text": [
      "Epoch 258, Loss: 1.3610\n"
     ]
    },
    {
     "name": "stderr",
     "output_type": "stream",
     "text": [
      "Training Progress:  52%|█████▏    | 259/500 [01:09<01:03,  3.77it/s]"
     ]
    },
    {
     "name": "stdout",
     "output_type": "stream",
     "text": [
      "Epoch 259, Loss: 1.3595\n"
     ]
    },
    {
     "name": "stderr",
     "output_type": "stream",
     "text": [
      "Training Progress:  52%|█████▏    | 260/500 [01:09<01:03,  3.78it/s]"
     ]
    },
    {
     "name": "stdout",
     "output_type": "stream",
     "text": [
      "Epoch 260, Loss: 1.3585\n"
     ]
    },
    {
     "name": "stderr",
     "output_type": "stream",
     "text": [
      "Training Progress:  52%|█████▏    | 261/500 [01:09<01:03,  3.78it/s]"
     ]
    },
    {
     "name": "stdout",
     "output_type": "stream",
     "text": [
      "Epoch 261, Loss: 1.3573\n"
     ]
    },
    {
     "name": "stderr",
     "output_type": "stream",
     "text": [
      "Training Progress:  52%|█████▏    | 262/500 [01:09<01:02,  3.78it/s]"
     ]
    },
    {
     "name": "stdout",
     "output_type": "stream",
     "text": [
      "Epoch 262, Loss: 1.3563\n"
     ]
    },
    {
     "name": "stderr",
     "output_type": "stream",
     "text": [
      "Training Progress:  53%|█████▎    | 263/500 [01:10<01:02,  3.79it/s]"
     ]
    },
    {
     "name": "stdout",
     "output_type": "stream",
     "text": [
      "Epoch 263, Loss: 1.3547\n"
     ]
    },
    {
     "name": "stderr",
     "output_type": "stream",
     "text": [
      "Training Progress:  53%|█████▎    | 264/500 [01:10<01:02,  3.79it/s]"
     ]
    },
    {
     "name": "stdout",
     "output_type": "stream",
     "text": [
      "Epoch 264, Loss: 1.3540\n"
     ]
    },
    {
     "name": "stderr",
     "output_type": "stream",
     "text": [
      "Training Progress:  53%|█████▎    | 265/500 [01:10<01:01,  3.79it/s]"
     ]
    },
    {
     "name": "stdout",
     "output_type": "stream",
     "text": [
      "Epoch 265, Loss: 1.3528\n"
     ]
    },
    {
     "name": "stderr",
     "output_type": "stream",
     "text": [
      "Training Progress:  53%|█████▎    | 266/500 [01:10<01:01,  3.78it/s]"
     ]
    },
    {
     "name": "stdout",
     "output_type": "stream",
     "text": [
      "Epoch 266, Loss: 1.3515\n"
     ]
    },
    {
     "name": "stderr",
     "output_type": "stream",
     "text": [
      "Training Progress:  53%|█████▎    | 267/500 [01:11<01:01,  3.79it/s]"
     ]
    },
    {
     "name": "stdout",
     "output_type": "stream",
     "text": [
      "Epoch 267, Loss: 1.3503\n"
     ]
    },
    {
     "name": "stderr",
     "output_type": "stream",
     "text": [
      "Training Progress:  54%|█████▎    | 268/500 [01:11<01:01,  3.77it/s]"
     ]
    },
    {
     "name": "stdout",
     "output_type": "stream",
     "text": [
      "Epoch 268, Loss: 1.3493\n"
     ]
    },
    {
     "name": "stderr",
     "output_type": "stream",
     "text": [
      "Training Progress:  54%|█████▍    | 269/500 [01:11<01:01,  3.78it/s]"
     ]
    },
    {
     "name": "stdout",
     "output_type": "stream",
     "text": [
      "Epoch 269, Loss: 1.3478\n"
     ]
    },
    {
     "name": "stderr",
     "output_type": "stream",
     "text": [
      "Training Progress:  54%|█████▍    | 270/500 [01:12<01:00,  3.78it/s]"
     ]
    },
    {
     "name": "stdout",
     "output_type": "stream",
     "text": [
      "Epoch 270, Loss: 1.3467\n"
     ]
    },
    {
     "name": "stderr",
     "output_type": "stream",
     "text": [
      "Training Progress:  54%|█████▍    | 271/500 [01:12<01:00,  3.79it/s]"
     ]
    },
    {
     "name": "stdout",
     "output_type": "stream",
     "text": [
      "Epoch 271, Loss: 1.3460\n"
     ]
    },
    {
     "name": "stderr",
     "output_type": "stream",
     "text": [
      "Training Progress:  54%|█████▍    | 272/500 [01:12<01:00,  3.78it/s]"
     ]
    },
    {
     "name": "stdout",
     "output_type": "stream",
     "text": [
      "Epoch 272, Loss: 1.3446\n"
     ]
    },
    {
     "name": "stderr",
     "output_type": "stream",
     "text": [
      "Training Progress:  55%|█████▍    | 273/500 [01:12<01:00,  3.78it/s]"
     ]
    },
    {
     "name": "stdout",
     "output_type": "stream",
     "text": [
      "Epoch 273, Loss: 1.3435\n"
     ]
    },
    {
     "name": "stderr",
     "output_type": "stream",
     "text": [
      "Training Progress:  55%|█████▍    | 274/500 [01:13<00:59,  3.79it/s]"
     ]
    },
    {
     "name": "stdout",
     "output_type": "stream",
     "text": [
      "Epoch 274, Loss: 1.3424\n"
     ]
    },
    {
     "name": "stderr",
     "output_type": "stream",
     "text": [
      "Training Progress:  55%|█████▌    | 275/500 [01:13<00:59,  3.78it/s]"
     ]
    },
    {
     "name": "stdout",
     "output_type": "stream",
     "text": [
      "Epoch 275, Loss: 1.3412\n"
     ]
    },
    {
     "name": "stderr",
     "output_type": "stream",
     "text": [
      "Training Progress:  55%|█████▌    | 276/500 [01:13<00:59,  3.76it/s]"
     ]
    },
    {
     "name": "stdout",
     "output_type": "stream",
     "text": [
      "Epoch 276, Loss: 1.3404\n"
     ]
    },
    {
     "name": "stderr",
     "output_type": "stream",
     "text": [
      "Training Progress:  55%|█████▌    | 277/500 [01:13<00:59,  3.78it/s]"
     ]
    },
    {
     "name": "stdout",
     "output_type": "stream",
     "text": [
      "Epoch 277, Loss: 1.3397\n"
     ]
    },
    {
     "name": "stderr",
     "output_type": "stream",
     "text": [
      "Training Progress:  56%|█████▌    | 278/500 [01:14<00:58,  3.79it/s]"
     ]
    },
    {
     "name": "stdout",
     "output_type": "stream",
     "text": [
      "Epoch 278, Loss: 1.3382\n"
     ]
    },
    {
     "name": "stderr",
     "output_type": "stream",
     "text": [
      "Training Progress:  56%|█████▌    | 279/500 [01:14<00:58,  3.76it/s]"
     ]
    },
    {
     "name": "stdout",
     "output_type": "stream",
     "text": [
      "Epoch 279, Loss: 1.3369\n"
     ]
    },
    {
     "name": "stderr",
     "output_type": "stream",
     "text": [
      "Training Progress:  56%|█████▌    | 280/500 [01:14<00:58,  3.75it/s]"
     ]
    },
    {
     "name": "stdout",
     "output_type": "stream",
     "text": [
      "Epoch 280, Loss: 1.3359\n"
     ]
    },
    {
     "name": "stderr",
     "output_type": "stream",
     "text": [
      "Training Progress:  56%|█████▌    | 281/500 [01:14<00:58,  3.77it/s]"
     ]
    },
    {
     "name": "stdout",
     "output_type": "stream",
     "text": [
      "Epoch 281, Loss: 1.3349\n"
     ]
    },
    {
     "name": "stderr",
     "output_type": "stream",
     "text": [
      "Training Progress:  56%|█████▋    | 282/500 [01:15<00:57,  3.76it/s]"
     ]
    },
    {
     "name": "stdout",
     "output_type": "stream",
     "text": [
      "Epoch 282, Loss: 1.3338\n"
     ]
    },
    {
     "name": "stderr",
     "output_type": "stream",
     "text": [
      "Training Progress:  57%|█████▋    | 283/500 [01:15<00:57,  3.77it/s]"
     ]
    },
    {
     "name": "stdout",
     "output_type": "stream",
     "text": [
      "Epoch 283, Loss: 1.3329\n"
     ]
    },
    {
     "name": "stderr",
     "output_type": "stream",
     "text": [
      "Training Progress:  57%|█████▋    | 284/500 [01:15<00:57,  3.77it/s]"
     ]
    },
    {
     "name": "stdout",
     "output_type": "stream",
     "text": [
      "Epoch 284, Loss: 1.3318\n"
     ]
    },
    {
     "name": "stderr",
     "output_type": "stream",
     "text": [
      "Training Progress:  57%|█████▋    | 285/500 [01:16<00:57,  3.77it/s]"
     ]
    },
    {
     "name": "stdout",
     "output_type": "stream",
     "text": [
      "Epoch 285, Loss: 1.3307\n"
     ]
    },
    {
     "name": "stderr",
     "output_type": "stream",
     "text": [
      "Training Progress:  57%|█████▋    | 286/500 [01:16<00:56,  3.76it/s]"
     ]
    },
    {
     "name": "stdout",
     "output_type": "stream",
     "text": [
      "Epoch 286, Loss: 1.3296\n"
     ]
    },
    {
     "name": "stderr",
     "output_type": "stream",
     "text": [
      "Training Progress:  57%|█████▋    | 287/500 [01:16<00:56,  3.76it/s]"
     ]
    },
    {
     "name": "stdout",
     "output_type": "stream",
     "text": [
      "Epoch 287, Loss: 1.3286\n"
     ]
    },
    {
     "name": "stderr",
     "output_type": "stream",
     "text": [
      "Training Progress:  58%|█████▊    | 288/500 [01:16<00:56,  3.77it/s]"
     ]
    },
    {
     "name": "stdout",
     "output_type": "stream",
     "text": [
      "Epoch 288, Loss: 1.3280\n"
     ]
    },
    {
     "name": "stderr",
     "output_type": "stream",
     "text": [
      "Training Progress:  58%|█████▊    | 289/500 [01:17<00:55,  3.79it/s]"
     ]
    },
    {
     "name": "stdout",
     "output_type": "stream",
     "text": [
      "Epoch 289, Loss: 1.3265\n"
     ]
    },
    {
     "name": "stderr",
     "output_type": "stream",
     "text": [
      "Training Progress:  58%|█████▊    | 290/500 [01:17<00:55,  3.80it/s]"
     ]
    },
    {
     "name": "stdout",
     "output_type": "stream",
     "text": [
      "Epoch 290, Loss: 1.3257\n"
     ]
    },
    {
     "name": "stderr",
     "output_type": "stream",
     "text": [
      "Training Progress:  58%|█████▊    | 291/500 [01:17<00:54,  3.80it/s]"
     ]
    },
    {
     "name": "stdout",
     "output_type": "stream",
     "text": [
      "Epoch 291, Loss: 1.3243\n"
     ]
    },
    {
     "name": "stderr",
     "output_type": "stream",
     "text": [
      "Training Progress:  58%|█████▊    | 292/500 [01:17<00:54,  3.80it/s]"
     ]
    },
    {
     "name": "stdout",
     "output_type": "stream",
     "text": [
      "Epoch 292, Loss: 1.3237\n"
     ]
    },
    {
     "name": "stderr",
     "output_type": "stream",
     "text": [
      "Training Progress:  59%|█████▊    | 293/500 [01:18<00:54,  3.80it/s]"
     ]
    },
    {
     "name": "stdout",
     "output_type": "stream",
     "text": [
      "Epoch 293, Loss: 1.3229\n"
     ]
    },
    {
     "name": "stderr",
     "output_type": "stream",
     "text": [
      "Training Progress:  59%|█████▉    | 294/500 [01:18<00:54,  3.79it/s]"
     ]
    },
    {
     "name": "stdout",
     "output_type": "stream",
     "text": [
      "Epoch 294, Loss: 1.3213\n"
     ]
    },
    {
     "name": "stderr",
     "output_type": "stream",
     "text": [
      "Training Progress:  59%|█████▉    | 295/500 [01:18<00:54,  3.77it/s]"
     ]
    },
    {
     "name": "stdout",
     "output_type": "stream",
     "text": [
      "Epoch 295, Loss: 1.3205\n"
     ]
    },
    {
     "name": "stderr",
     "output_type": "stream",
     "text": [
      "Training Progress:  59%|█████▉    | 296/500 [01:18<00:53,  3.78it/s]"
     ]
    },
    {
     "name": "stdout",
     "output_type": "stream",
     "text": [
      "Epoch 296, Loss: 1.3193\n"
     ]
    },
    {
     "name": "stderr",
     "output_type": "stream",
     "text": [
      "Training Progress:  59%|█████▉    | 297/500 [01:19<00:53,  3.79it/s]"
     ]
    },
    {
     "name": "stdout",
     "output_type": "stream",
     "text": [
      "Epoch 297, Loss: 1.3188\n"
     ]
    },
    {
     "name": "stderr",
     "output_type": "stream",
     "text": [
      "Training Progress:  60%|█████▉    | 298/500 [01:19<00:53,  3.78it/s]"
     ]
    },
    {
     "name": "stdout",
     "output_type": "stream",
     "text": [
      "Epoch 298, Loss: 1.3176\n"
     ]
    },
    {
     "name": "stderr",
     "output_type": "stream",
     "text": [
      "Training Progress:  60%|█████▉    | 299/500 [01:19<00:53,  3.79it/s]"
     ]
    },
    {
     "name": "stdout",
     "output_type": "stream",
     "text": [
      "Epoch 299, Loss: 1.3170\n"
     ]
    },
    {
     "name": "stderr",
     "output_type": "stream",
     "text": [
      "Training Progress:  60%|██████    | 300/500 [01:19<00:52,  3.77it/s]"
     ]
    },
    {
     "name": "stdout",
     "output_type": "stream",
     "text": [
      "Epoch 300, Loss: 1.3154\n"
     ]
    },
    {
     "name": "stderr",
     "output_type": "stream",
     "text": [
      "Training Progress:  60%|██████    | 301/500 [01:20<00:52,  3.76it/s]"
     ]
    },
    {
     "name": "stdout",
     "output_type": "stream",
     "text": [
      "Epoch 301, Loss: 1.3148\n"
     ]
    },
    {
     "name": "stderr",
     "output_type": "stream",
     "text": [
      "Training Progress:  60%|██████    | 302/500 [01:20<00:52,  3.77it/s]"
     ]
    },
    {
     "name": "stdout",
     "output_type": "stream",
     "text": [
      "Epoch 302, Loss: 1.3135\n"
     ]
    },
    {
     "name": "stderr",
     "output_type": "stream",
     "text": [
      "Training Progress:  61%|██████    | 303/500 [01:20<00:52,  3.76it/s]"
     ]
    },
    {
     "name": "stdout",
     "output_type": "stream",
     "text": [
      "Epoch 303, Loss: 1.3128\n"
     ]
    },
    {
     "name": "stderr",
     "output_type": "stream",
     "text": [
      "Training Progress:  61%|██████    | 304/500 [01:21<00:52,  3.75it/s]"
     ]
    },
    {
     "name": "stdout",
     "output_type": "stream",
     "text": [
      "Epoch 304, Loss: 1.3114\n"
     ]
    },
    {
     "name": "stderr",
     "output_type": "stream",
     "text": [
      "Training Progress:  61%|██████    | 305/500 [01:21<00:51,  3.77it/s]"
     ]
    },
    {
     "name": "stdout",
     "output_type": "stream",
     "text": [
      "Epoch 305, Loss: 1.3106\n"
     ]
    },
    {
     "name": "stderr",
     "output_type": "stream",
     "text": [
      "Training Progress:  61%|██████    | 306/500 [01:21<00:51,  3.76it/s]"
     ]
    },
    {
     "name": "stdout",
     "output_type": "stream",
     "text": [
      "Epoch 306, Loss: 1.3094\n"
     ]
    },
    {
     "name": "stderr",
     "output_type": "stream",
     "text": [
      "Training Progress:  61%|██████▏   | 307/500 [01:21<00:51,  3.75it/s]"
     ]
    },
    {
     "name": "stdout",
     "output_type": "stream",
     "text": [
      "Epoch 307, Loss: 1.3088\n"
     ]
    },
    {
     "name": "stderr",
     "output_type": "stream",
     "text": [
      "Training Progress:  62%|██████▏   | 308/500 [01:22<00:51,  3.75it/s]"
     ]
    },
    {
     "name": "stdout",
     "output_type": "stream",
     "text": [
      "Epoch 308, Loss: 1.3081\n"
     ]
    },
    {
     "name": "stderr",
     "output_type": "stream",
     "text": [
      "Training Progress:  62%|██████▏   | 309/500 [01:22<00:50,  3.76it/s]"
     ]
    },
    {
     "name": "stdout",
     "output_type": "stream",
     "text": [
      "Epoch 309, Loss: 1.3066\n"
     ]
    },
    {
     "name": "stderr",
     "output_type": "stream",
     "text": [
      "Training Progress:  62%|██████▏   | 310/500 [01:22<00:50,  3.77it/s]"
     ]
    },
    {
     "name": "stdout",
     "output_type": "stream",
     "text": [
      "Epoch 310, Loss: 1.3060\n"
     ]
    },
    {
     "name": "stderr",
     "output_type": "stream",
     "text": [
      "Training Progress:  62%|██████▏   | 311/500 [01:22<00:50,  3.77it/s]"
     ]
    },
    {
     "name": "stdout",
     "output_type": "stream",
     "text": [
      "Epoch 311, Loss: 1.3050\n"
     ]
    },
    {
     "name": "stderr",
     "output_type": "stream",
     "text": [
      "Training Progress:  62%|██████▏   | 312/500 [01:23<00:49,  3.77it/s]"
     ]
    },
    {
     "name": "stdout",
     "output_type": "stream",
     "text": [
      "Epoch 312, Loss: 1.3041\n"
     ]
    },
    {
     "name": "stderr",
     "output_type": "stream",
     "text": [
      "Training Progress:  63%|██████▎   | 313/500 [01:23<00:49,  3.76it/s]"
     ]
    },
    {
     "name": "stdout",
     "output_type": "stream",
     "text": [
      "Epoch 313, Loss: 1.3030\n"
     ]
    },
    {
     "name": "stderr",
     "output_type": "stream",
     "text": [
      "Training Progress:  63%|██████▎   | 314/500 [01:23<00:49,  3.78it/s]"
     ]
    },
    {
     "name": "stdout",
     "output_type": "stream",
     "text": [
      "Epoch 314, Loss: 1.3026\n"
     ]
    },
    {
     "name": "stderr",
     "output_type": "stream",
     "text": [
      "Training Progress:  63%|██████▎   | 315/500 [01:23<00:48,  3.78it/s]"
     ]
    },
    {
     "name": "stdout",
     "output_type": "stream",
     "text": [
      "Epoch 315, Loss: 1.3014\n"
     ]
    },
    {
     "name": "stderr",
     "output_type": "stream",
     "text": [
      "Training Progress:  63%|██████▎   | 316/500 [01:24<00:48,  3.76it/s]"
     ]
    },
    {
     "name": "stdout",
     "output_type": "stream",
     "text": [
      "Epoch 316, Loss: 1.3005\n"
     ]
    },
    {
     "name": "stderr",
     "output_type": "stream",
     "text": [
      "Training Progress:  63%|██████▎   | 317/500 [01:24<00:48,  3.76it/s]"
     ]
    },
    {
     "name": "stdout",
     "output_type": "stream",
     "text": [
      "Epoch 317, Loss: 1.2995\n"
     ]
    },
    {
     "name": "stderr",
     "output_type": "stream",
     "text": [
      "Training Progress:  64%|██████▎   | 318/500 [01:24<00:48,  3.74it/s]"
     ]
    },
    {
     "name": "stdout",
     "output_type": "stream",
     "text": [
      "Epoch 318, Loss: 1.2984\n"
     ]
    },
    {
     "name": "stderr",
     "output_type": "stream",
     "text": [
      "Training Progress:  64%|██████▍   | 319/500 [01:25<00:48,  3.76it/s]"
     ]
    },
    {
     "name": "stdout",
     "output_type": "stream",
     "text": [
      "Epoch 319, Loss: 1.2977\n"
     ]
    },
    {
     "name": "stderr",
     "output_type": "stream",
     "text": [
      "Training Progress:  64%|██████▍   | 320/500 [01:25<00:47,  3.76it/s]"
     ]
    },
    {
     "name": "stdout",
     "output_type": "stream",
     "text": [
      "Epoch 320, Loss: 1.2967\n"
     ]
    },
    {
     "name": "stderr",
     "output_type": "stream",
     "text": [
      "Training Progress:  64%|██████▍   | 321/500 [01:25<00:47,  3.76it/s]"
     ]
    },
    {
     "name": "stdout",
     "output_type": "stream",
     "text": [
      "Epoch 321, Loss: 1.2956\n"
     ]
    },
    {
     "name": "stderr",
     "output_type": "stream",
     "text": [
      "Training Progress:  64%|██████▍   | 322/500 [01:25<00:47,  3.77it/s]"
     ]
    },
    {
     "name": "stdout",
     "output_type": "stream",
     "text": [
      "Epoch 322, Loss: 1.2949\n"
     ]
    },
    {
     "name": "stderr",
     "output_type": "stream",
     "text": [
      "Training Progress:  65%|██████▍   | 323/500 [01:26<00:47,  3.75it/s]"
     ]
    },
    {
     "name": "stdout",
     "output_type": "stream",
     "text": [
      "Epoch 323, Loss: 1.2943\n"
     ]
    },
    {
     "name": "stderr",
     "output_type": "stream",
     "text": [
      "Training Progress:  65%|██████▍   | 324/500 [01:26<00:46,  3.76it/s]"
     ]
    },
    {
     "name": "stdout",
     "output_type": "stream",
     "text": [
      "Epoch 324, Loss: 1.2933\n"
     ]
    },
    {
     "name": "stderr",
     "output_type": "stream",
     "text": [
      "Training Progress:  65%|██████▌   | 325/500 [01:26<00:46,  3.78it/s]"
     ]
    },
    {
     "name": "stdout",
     "output_type": "stream",
     "text": [
      "Epoch 325, Loss: 1.2920\n"
     ]
    },
    {
     "name": "stderr",
     "output_type": "stream",
     "text": [
      "Training Progress:  65%|██████▌   | 326/500 [01:26<00:45,  3.80it/s]"
     ]
    },
    {
     "name": "stdout",
     "output_type": "stream",
     "text": [
      "Epoch 326, Loss: 1.2918\n"
     ]
    },
    {
     "name": "stderr",
     "output_type": "stream",
     "text": [
      "Training Progress:  65%|██████▌   | 327/500 [01:27<00:45,  3.80it/s]"
     ]
    },
    {
     "name": "stdout",
     "output_type": "stream",
     "text": [
      "Epoch 327, Loss: 1.2906\n"
     ]
    },
    {
     "name": "stderr",
     "output_type": "stream",
     "text": [
      "Training Progress:  66%|██████▌   | 328/500 [01:27<00:45,  3.78it/s]"
     ]
    },
    {
     "name": "stdout",
     "output_type": "stream",
     "text": [
      "Epoch 328, Loss: 1.2895\n"
     ]
    },
    {
     "name": "stderr",
     "output_type": "stream",
     "text": [
      "Training Progress:  66%|██████▌   | 329/500 [01:27<00:45,  3.79it/s]"
     ]
    },
    {
     "name": "stdout",
     "output_type": "stream",
     "text": [
      "Epoch 329, Loss: 1.2890\n"
     ]
    },
    {
     "name": "stderr",
     "output_type": "stream",
     "text": [
      "Training Progress:  66%|██████▌   | 330/500 [01:27<00:44,  3.78it/s]"
     ]
    },
    {
     "name": "stdout",
     "output_type": "stream",
     "text": [
      "Epoch 330, Loss: 1.2878\n"
     ]
    },
    {
     "name": "stderr",
     "output_type": "stream",
     "text": [
      "Training Progress:  66%|██████▌   | 331/500 [01:28<00:44,  3.78it/s]"
     ]
    },
    {
     "name": "stdout",
     "output_type": "stream",
     "text": [
      "Epoch 331, Loss: 1.2871\n"
     ]
    },
    {
     "name": "stderr",
     "output_type": "stream",
     "text": [
      "Training Progress:  66%|██████▋   | 332/500 [01:28<00:44,  3.77it/s]"
     ]
    },
    {
     "name": "stdout",
     "output_type": "stream",
     "text": [
      "Epoch 332, Loss: 1.2860\n"
     ]
    },
    {
     "name": "stderr",
     "output_type": "stream",
     "text": [
      "Training Progress:  67%|██████▋   | 333/500 [01:28<00:44,  3.77it/s]"
     ]
    },
    {
     "name": "stdout",
     "output_type": "stream",
     "text": [
      "Epoch 333, Loss: 1.2852\n"
     ]
    },
    {
     "name": "stderr",
     "output_type": "stream",
     "text": [
      "Training Progress:  67%|██████▋   | 334/500 [01:29<00:43,  3.78it/s]"
     ]
    },
    {
     "name": "stdout",
     "output_type": "stream",
     "text": [
      "Epoch 334, Loss: 1.2839\n"
     ]
    },
    {
     "name": "stderr",
     "output_type": "stream",
     "text": [
      "Training Progress:  67%|██████▋   | 335/500 [01:29<00:43,  3.77it/s]"
     ]
    },
    {
     "name": "stdout",
     "output_type": "stream",
     "text": [
      "Epoch 335, Loss: 1.2835\n"
     ]
    },
    {
     "name": "stderr",
     "output_type": "stream",
     "text": [
      "Training Progress:  67%|██████▋   | 336/500 [01:29<00:43,  3.77it/s]"
     ]
    },
    {
     "name": "stdout",
     "output_type": "stream",
     "text": [
      "Epoch 336, Loss: 1.2827\n"
     ]
    },
    {
     "name": "stderr",
     "output_type": "stream",
     "text": [
      "Training Progress:  67%|██████▋   | 337/500 [01:29<00:42,  3.80it/s]"
     ]
    },
    {
     "name": "stdout",
     "output_type": "stream",
     "text": [
      "Epoch 337, Loss: 1.2817\n"
     ]
    },
    {
     "name": "stderr",
     "output_type": "stream",
     "text": [
      "Training Progress:  68%|██████▊   | 338/500 [01:30<00:42,  3.79it/s]"
     ]
    },
    {
     "name": "stdout",
     "output_type": "stream",
     "text": [
      "Epoch 338, Loss: 1.2811\n"
     ]
    },
    {
     "name": "stderr",
     "output_type": "stream",
     "text": [
      "Training Progress:  68%|██████▊   | 339/500 [01:30<00:42,  3.79it/s]"
     ]
    },
    {
     "name": "stdout",
     "output_type": "stream",
     "text": [
      "Epoch 339, Loss: 1.2798\n"
     ]
    },
    {
     "name": "stderr",
     "output_type": "stream",
     "text": [
      "Training Progress:  68%|██████▊   | 340/500 [01:30<00:42,  3.78it/s]"
     ]
    },
    {
     "name": "stdout",
     "output_type": "stream",
     "text": [
      "Epoch 340, Loss: 1.2795\n"
     ]
    },
    {
     "name": "stderr",
     "output_type": "stream",
     "text": [
      "Training Progress:  68%|██████▊   | 341/500 [01:30<00:42,  3.78it/s]"
     ]
    },
    {
     "name": "stdout",
     "output_type": "stream",
     "text": [
      "Epoch 341, Loss: 1.2786\n"
     ]
    },
    {
     "name": "stderr",
     "output_type": "stream",
     "text": [
      "Training Progress:  68%|██████▊   | 342/500 [01:31<00:41,  3.78it/s]"
     ]
    },
    {
     "name": "stdout",
     "output_type": "stream",
     "text": [
      "Epoch 342, Loss: 1.2779\n"
     ]
    },
    {
     "name": "stderr",
     "output_type": "stream",
     "text": [
      "Training Progress:  69%|██████▊   | 343/500 [01:31<00:41,  3.78it/s]"
     ]
    },
    {
     "name": "stdout",
     "output_type": "stream",
     "text": [
      "Epoch 343, Loss: 1.2768\n"
     ]
    },
    {
     "name": "stderr",
     "output_type": "stream",
     "text": [
      "Training Progress:  69%|██████▉   | 344/500 [01:31<00:41,  3.78it/s]"
     ]
    },
    {
     "name": "stdout",
     "output_type": "stream",
     "text": [
      "Epoch 344, Loss: 1.2759\n"
     ]
    },
    {
     "name": "stderr",
     "output_type": "stream",
     "text": [
      "Training Progress:  69%|██████▉   | 345/500 [01:31<00:41,  3.78it/s]"
     ]
    },
    {
     "name": "stdout",
     "output_type": "stream",
     "text": [
      "Epoch 345, Loss: 1.2751\n"
     ]
    },
    {
     "name": "stderr",
     "output_type": "stream",
     "text": [
      "Training Progress:  69%|██████▉   | 346/500 [01:32<00:40,  3.79it/s]"
     ]
    },
    {
     "name": "stdout",
     "output_type": "stream",
     "text": [
      "Epoch 346, Loss: 1.2746\n"
     ]
    },
    {
     "name": "stderr",
     "output_type": "stream",
     "text": [
      "Training Progress:  69%|██████▉   | 347/500 [01:32<00:40,  3.78it/s]"
     ]
    },
    {
     "name": "stdout",
     "output_type": "stream",
     "text": [
      "Epoch 347, Loss: 1.2733\n"
     ]
    },
    {
     "name": "stderr",
     "output_type": "stream",
     "text": [
      "Training Progress:  70%|██████▉   | 348/500 [01:32<00:40,  3.78it/s]"
     ]
    },
    {
     "name": "stdout",
     "output_type": "stream",
     "text": [
      "Epoch 348, Loss: 1.2728\n"
     ]
    },
    {
     "name": "stderr",
     "output_type": "stream",
     "text": [
      "Training Progress:  70%|██████▉   | 349/500 [01:32<00:39,  3.78it/s]"
     ]
    },
    {
     "name": "stdout",
     "output_type": "stream",
     "text": [
      "Epoch 349, Loss: 1.2717\n"
     ]
    },
    {
     "name": "stderr",
     "output_type": "stream",
     "text": [
      "Training Progress:  70%|███████   | 350/500 [01:33<00:39,  3.77it/s]"
     ]
    },
    {
     "name": "stdout",
     "output_type": "stream",
     "text": [
      "Epoch 350, Loss: 1.2711\n"
     ]
    },
    {
     "name": "stderr",
     "output_type": "stream",
     "text": [
      "Training Progress:  70%|███████   | 351/500 [01:33<00:39,  3.77it/s]"
     ]
    },
    {
     "name": "stdout",
     "output_type": "stream",
     "text": [
      "Epoch 351, Loss: 1.2700\n"
     ]
    },
    {
     "name": "stderr",
     "output_type": "stream",
     "text": [
      "Training Progress:  70%|███████   | 352/500 [01:33<00:39,  3.77it/s]"
     ]
    },
    {
     "name": "stdout",
     "output_type": "stream",
     "text": [
      "Epoch 352, Loss: 1.2694\n"
     ]
    },
    {
     "name": "stderr",
     "output_type": "stream",
     "text": [
      "Training Progress:  71%|███████   | 353/500 [01:34<00:39,  3.77it/s]"
     ]
    },
    {
     "name": "stdout",
     "output_type": "stream",
     "text": [
      "Epoch 353, Loss: 1.2681\n"
     ]
    },
    {
     "name": "stderr",
     "output_type": "stream",
     "text": [
      "Training Progress:  71%|███████   | 354/500 [01:34<00:38,  3.76it/s]"
     ]
    },
    {
     "name": "stdout",
     "output_type": "stream",
     "text": [
      "Epoch 354, Loss: 1.2675\n"
     ]
    },
    {
     "name": "stderr",
     "output_type": "stream",
     "text": [
      "Training Progress:  71%|███████   | 355/500 [01:34<00:38,  3.77it/s]"
     ]
    },
    {
     "name": "stdout",
     "output_type": "stream",
     "text": [
      "Epoch 355, Loss: 1.2668\n"
     ]
    },
    {
     "name": "stderr",
     "output_type": "stream",
     "text": [
      "Training Progress:  71%|███████   | 356/500 [01:34<00:38,  3.78it/s]"
     ]
    },
    {
     "name": "stdout",
     "output_type": "stream",
     "text": [
      "Epoch 356, Loss: 1.2662\n"
     ]
    },
    {
     "name": "stderr",
     "output_type": "stream",
     "text": [
      "Training Progress:  71%|███████▏  | 357/500 [01:35<00:37,  3.78it/s]"
     ]
    },
    {
     "name": "stdout",
     "output_type": "stream",
     "text": [
      "Epoch 357, Loss: 1.2652\n"
     ]
    },
    {
     "name": "stderr",
     "output_type": "stream",
     "text": [
      "Training Progress:  72%|███████▏  | 358/500 [01:35<00:37,  3.77it/s]"
     ]
    },
    {
     "name": "stdout",
     "output_type": "stream",
     "text": [
      "Epoch 358, Loss: 1.2646\n"
     ]
    },
    {
     "name": "stderr",
     "output_type": "stream",
     "text": [
      "Training Progress:  72%|███████▏  | 359/500 [01:35<00:37,  3.77it/s]"
     ]
    },
    {
     "name": "stdout",
     "output_type": "stream",
     "text": [
      "Epoch 359, Loss: 1.2640\n"
     ]
    },
    {
     "name": "stderr",
     "output_type": "stream",
     "text": [
      "Training Progress:  72%|███████▏  | 360/500 [01:35<00:37,  3.76it/s]"
     ]
    },
    {
     "name": "stdout",
     "output_type": "stream",
     "text": [
      "Epoch 360, Loss: 1.2626\n"
     ]
    },
    {
     "name": "stderr",
     "output_type": "stream",
     "text": [
      "Training Progress:  72%|███████▏  | 361/500 [01:36<00:37,  3.75it/s]"
     ]
    },
    {
     "name": "stdout",
     "output_type": "stream",
     "text": [
      "Epoch 361, Loss: 1.2623\n"
     ]
    },
    {
     "name": "stderr",
     "output_type": "stream",
     "text": [
      "Training Progress:  72%|███████▏  | 362/500 [01:36<00:36,  3.76it/s]"
     ]
    },
    {
     "name": "stdout",
     "output_type": "stream",
     "text": [
      "Epoch 362, Loss: 1.2615\n"
     ]
    },
    {
     "name": "stderr",
     "output_type": "stream",
     "text": [
      "Training Progress:  73%|███████▎  | 363/500 [01:36<00:36,  3.77it/s]"
     ]
    },
    {
     "name": "stdout",
     "output_type": "stream",
     "text": [
      "Epoch 363, Loss: 1.2610\n"
     ]
    },
    {
     "name": "stderr",
     "output_type": "stream",
     "text": [
      "Training Progress:  73%|███████▎  | 364/500 [01:36<00:36,  3.78it/s]"
     ]
    },
    {
     "name": "stdout",
     "output_type": "stream",
     "text": [
      "Epoch 364, Loss: 1.2597\n"
     ]
    },
    {
     "name": "stderr",
     "output_type": "stream",
     "text": [
      "Training Progress:  73%|███████▎  | 365/500 [01:37<00:35,  3.78it/s]"
     ]
    },
    {
     "name": "stdout",
     "output_type": "stream",
     "text": [
      "Epoch 365, Loss: 1.2590\n"
     ]
    },
    {
     "name": "stderr",
     "output_type": "stream",
     "text": [
      "Training Progress:  73%|███████▎  | 366/500 [01:37<00:35,  3.77it/s]"
     ]
    },
    {
     "name": "stdout",
     "output_type": "stream",
     "text": [
      "Epoch 366, Loss: 1.2582\n"
     ]
    },
    {
     "name": "stderr",
     "output_type": "stream",
     "text": [
      "Training Progress:  73%|███████▎  | 367/500 [01:37<00:35,  3.77it/s]"
     ]
    },
    {
     "name": "stdout",
     "output_type": "stream",
     "text": [
      "Epoch 367, Loss: 1.2576\n"
     ]
    },
    {
     "name": "stderr",
     "output_type": "stream",
     "text": [
      "Training Progress:  74%|███████▎  | 368/500 [01:38<00:34,  3.77it/s]"
     ]
    },
    {
     "name": "stdout",
     "output_type": "stream",
     "text": [
      "Epoch 368, Loss: 1.2566\n"
     ]
    },
    {
     "name": "stderr",
     "output_type": "stream",
     "text": [
      "Training Progress:  74%|███████▍  | 369/500 [01:38<00:34,  3.77it/s]"
     ]
    },
    {
     "name": "stdout",
     "output_type": "stream",
     "text": [
      "Epoch 369, Loss: 1.2560\n"
     ]
    },
    {
     "name": "stderr",
     "output_type": "stream",
     "text": [
      "Training Progress:  74%|███████▍  | 370/500 [01:38<00:34,  3.77it/s]"
     ]
    },
    {
     "name": "stdout",
     "output_type": "stream",
     "text": [
      "Epoch 370, Loss: 1.2552\n"
     ]
    },
    {
     "name": "stderr",
     "output_type": "stream",
     "text": [
      "Training Progress:  74%|███████▍  | 371/500 [01:38<00:34,  3.78it/s]"
     ]
    },
    {
     "name": "stdout",
     "output_type": "stream",
     "text": [
      "Epoch 371, Loss: 1.2542\n"
     ]
    },
    {
     "name": "stderr",
     "output_type": "stream",
     "text": [
      "Training Progress:  74%|███████▍  | 372/500 [01:39<00:33,  3.78it/s]"
     ]
    },
    {
     "name": "stdout",
     "output_type": "stream",
     "text": [
      "Epoch 372, Loss: 1.2536\n"
     ]
    },
    {
     "name": "stderr",
     "output_type": "stream",
     "text": [
      "Training Progress:  75%|███████▍  | 373/500 [01:39<00:33,  3.76it/s]"
     ]
    },
    {
     "name": "stdout",
     "output_type": "stream",
     "text": [
      "Epoch 373, Loss: 1.2524\n"
     ]
    },
    {
     "name": "stderr",
     "output_type": "stream",
     "text": [
      "Training Progress:  75%|███████▍  | 374/500 [01:39<00:33,  3.76it/s]"
     ]
    },
    {
     "name": "stdout",
     "output_type": "stream",
     "text": [
      "Epoch 374, Loss: 1.2516\n"
     ]
    },
    {
     "name": "stderr",
     "output_type": "stream",
     "text": [
      "Training Progress:  75%|███████▌  | 375/500 [01:39<00:33,  3.74it/s]"
     ]
    },
    {
     "name": "stdout",
     "output_type": "stream",
     "text": [
      "Epoch 375, Loss: 1.2512\n"
     ]
    },
    {
     "name": "stderr",
     "output_type": "stream",
     "text": [
      "Training Progress:  75%|███████▌  | 376/500 [01:40<00:32,  3.76it/s]"
     ]
    },
    {
     "name": "stdout",
     "output_type": "stream",
     "text": [
      "Epoch 376, Loss: 1.2505\n"
     ]
    },
    {
     "name": "stderr",
     "output_type": "stream",
     "text": [
      "Training Progress:  75%|███████▌  | 377/500 [01:40<00:32,  3.78it/s]"
     ]
    },
    {
     "name": "stdout",
     "output_type": "stream",
     "text": [
      "Epoch 377, Loss: 1.2499\n"
     ]
    },
    {
     "name": "stderr",
     "output_type": "stream",
     "text": [
      "Training Progress:  76%|███████▌  | 378/500 [01:40<00:32,  3.79it/s]"
     ]
    },
    {
     "name": "stdout",
     "output_type": "stream",
     "text": [
      "Epoch 378, Loss: 1.2489\n"
     ]
    },
    {
     "name": "stderr",
     "output_type": "stream",
     "text": [
      "Training Progress:  76%|███████▌  | 379/500 [01:40<00:31,  3.79it/s]"
     ]
    },
    {
     "name": "stdout",
     "output_type": "stream",
     "text": [
      "Epoch 379, Loss: 1.2485\n"
     ]
    },
    {
     "name": "stderr",
     "output_type": "stream",
     "text": [
      "Training Progress:  76%|███████▌  | 380/500 [01:41<00:31,  3.79it/s]"
     ]
    },
    {
     "name": "stdout",
     "output_type": "stream",
     "text": [
      "Epoch 380, Loss: 1.2474\n"
     ]
    },
    {
     "name": "stderr",
     "output_type": "stream",
     "text": [
      "Training Progress:  76%|███████▌  | 381/500 [01:41<00:31,  3.79it/s]"
     ]
    },
    {
     "name": "stdout",
     "output_type": "stream",
     "text": [
      "Epoch 381, Loss: 1.2468\n"
     ]
    },
    {
     "name": "stderr",
     "output_type": "stream",
     "text": [
      "Training Progress:  76%|███████▋  | 382/500 [01:41<00:31,  3.79it/s]"
     ]
    },
    {
     "name": "stdout",
     "output_type": "stream",
     "text": [
      "Epoch 382, Loss: 1.2462\n"
     ]
    },
    {
     "name": "stderr",
     "output_type": "stream",
     "text": [
      "Training Progress:  77%|███████▋  | 383/500 [01:41<00:30,  3.79it/s]"
     ]
    },
    {
     "name": "stdout",
     "output_type": "stream",
     "text": [
      "Epoch 383, Loss: 1.2452\n"
     ]
    },
    {
     "name": "stderr",
     "output_type": "stream",
     "text": [
      "Training Progress:  77%|███████▋  | 384/500 [01:42<00:30,  3.79it/s]"
     ]
    },
    {
     "name": "stdout",
     "output_type": "stream",
     "text": [
      "Epoch 384, Loss: 1.2445\n"
     ]
    },
    {
     "name": "stderr",
     "output_type": "stream",
     "text": [
      "Training Progress:  77%|███████▋  | 385/500 [01:42<00:30,  3.79it/s]"
     ]
    },
    {
     "name": "stdout",
     "output_type": "stream",
     "text": [
      "Epoch 385, Loss: 1.2440\n"
     ]
    },
    {
     "name": "stderr",
     "output_type": "stream",
     "text": [
      "Training Progress:  77%|███████▋  | 386/500 [01:42<00:30,  3.79it/s]"
     ]
    },
    {
     "name": "stdout",
     "output_type": "stream",
     "text": [
      "Epoch 386, Loss: 1.2428\n"
     ]
    },
    {
     "name": "stderr",
     "output_type": "stream",
     "text": [
      "Training Progress:  77%|███████▋  | 387/500 [01:43<00:29,  3.78it/s]"
     ]
    },
    {
     "name": "stdout",
     "output_type": "stream",
     "text": [
      "Epoch 387, Loss: 1.2425\n"
     ]
    },
    {
     "name": "stderr",
     "output_type": "stream",
     "text": [
      "Training Progress:  78%|███████▊  | 388/500 [01:43<00:29,  3.77it/s]"
     ]
    },
    {
     "name": "stdout",
     "output_type": "stream",
     "text": [
      "Epoch 388, Loss: 1.2415\n"
     ]
    },
    {
     "name": "stderr",
     "output_type": "stream",
     "text": [
      "Training Progress:  78%|███████▊  | 389/500 [01:43<00:29,  3.76it/s]"
     ]
    },
    {
     "name": "stdout",
     "output_type": "stream",
     "text": [
      "Epoch 389, Loss: 1.2408\n"
     ]
    },
    {
     "name": "stderr",
     "output_type": "stream",
     "text": [
      "Training Progress:  78%|███████▊  | 390/500 [01:43<00:29,  3.78it/s]"
     ]
    },
    {
     "name": "stdout",
     "output_type": "stream",
     "text": [
      "Epoch 390, Loss: 1.2399\n"
     ]
    },
    {
     "name": "stderr",
     "output_type": "stream",
     "text": [
      "Training Progress:  78%|███████▊  | 391/500 [01:44<00:28,  3.78it/s]"
     ]
    },
    {
     "name": "stdout",
     "output_type": "stream",
     "text": [
      "Epoch 391, Loss: 1.2395\n"
     ]
    },
    {
     "name": "stderr",
     "output_type": "stream",
     "text": [
      "Training Progress:  78%|███████▊  | 392/500 [01:44<00:28,  3.77it/s]"
     ]
    },
    {
     "name": "stdout",
     "output_type": "stream",
     "text": [
      "Epoch 392, Loss: 1.2387\n"
     ]
    },
    {
     "name": "stderr",
     "output_type": "stream",
     "text": [
      "Training Progress:  79%|███████▊  | 393/500 [01:44<00:28,  3.78it/s]"
     ]
    },
    {
     "name": "stdout",
     "output_type": "stream",
     "text": [
      "Epoch 393, Loss: 1.2376\n"
     ]
    },
    {
     "name": "stderr",
     "output_type": "stream",
     "text": [
      "Training Progress:  79%|███████▉  | 394/500 [01:44<00:27,  3.80it/s]"
     ]
    },
    {
     "name": "stdout",
     "output_type": "stream",
     "text": [
      "Epoch 394, Loss: 1.2369\n"
     ]
    },
    {
     "name": "stderr",
     "output_type": "stream",
     "text": [
      "Training Progress:  79%|███████▉  | 395/500 [01:45<00:27,  3.80it/s]"
     ]
    },
    {
     "name": "stdout",
     "output_type": "stream",
     "text": [
      "Epoch 395, Loss: 1.2366\n"
     ]
    },
    {
     "name": "stderr",
     "output_type": "stream",
     "text": [
      "Training Progress:  79%|███████▉  | 396/500 [01:45<00:27,  3.77it/s]"
     ]
    },
    {
     "name": "stdout",
     "output_type": "stream",
     "text": [
      "Epoch 396, Loss: 1.2353\n"
     ]
    },
    {
     "name": "stderr",
     "output_type": "stream",
     "text": [
      "Training Progress:  79%|███████▉  | 397/500 [01:45<00:27,  3.77it/s]"
     ]
    },
    {
     "name": "stdout",
     "output_type": "stream",
     "text": [
      "Epoch 397, Loss: 1.2349\n"
     ]
    },
    {
     "name": "stderr",
     "output_type": "stream",
     "text": [
      "Training Progress:  80%|███████▉  | 398/500 [01:45<00:26,  3.78it/s]"
     ]
    },
    {
     "name": "stdout",
     "output_type": "stream",
     "text": [
      "Epoch 398, Loss: 1.2343\n"
     ]
    },
    {
     "name": "stderr",
     "output_type": "stream",
     "text": [
      "Training Progress:  80%|███████▉  | 399/500 [01:46<00:26,  3.79it/s]"
     ]
    },
    {
     "name": "stdout",
     "output_type": "stream",
     "text": [
      "Epoch 399, Loss: 1.2334\n"
     ]
    },
    {
     "name": "stderr",
     "output_type": "stream",
     "text": [
      "Training Progress:  80%|████████  | 400/500 [01:46<00:26,  3.78it/s]"
     ]
    },
    {
     "name": "stdout",
     "output_type": "stream",
     "text": [
      "Epoch 400, Loss: 1.2326\n"
     ]
    },
    {
     "name": "stderr",
     "output_type": "stream",
     "text": [
      "Training Progress:  80%|████████  | 401/500 [01:46<00:26,  3.77it/s]"
     ]
    },
    {
     "name": "stdout",
     "output_type": "stream",
     "text": [
      "Epoch 401, Loss: 1.2317\n"
     ]
    },
    {
     "name": "stderr",
     "output_type": "stream",
     "text": [
      "Training Progress:  80%|████████  | 402/500 [01:47<00:26,  3.76it/s]"
     ]
    },
    {
     "name": "stdout",
     "output_type": "stream",
     "text": [
      "Epoch 402, Loss: 1.2312\n"
     ]
    },
    {
     "name": "stderr",
     "output_type": "stream",
     "text": [
      "Training Progress:  81%|████████  | 403/500 [01:47<00:25,  3.74it/s]"
     ]
    },
    {
     "name": "stdout",
     "output_type": "stream",
     "text": [
      "Epoch 403, Loss: 1.2306\n"
     ]
    },
    {
     "name": "stderr",
     "output_type": "stream",
     "text": [
      "Training Progress:  81%|████████  | 404/500 [01:47<00:25,  3.73it/s]"
     ]
    },
    {
     "name": "stdout",
     "output_type": "stream",
     "text": [
      "Epoch 404, Loss: 1.2302\n"
     ]
    },
    {
     "name": "stderr",
     "output_type": "stream",
     "text": [
      "Training Progress:  81%|████████  | 405/500 [01:47<00:25,  3.73it/s]"
     ]
    },
    {
     "name": "stdout",
     "output_type": "stream",
     "text": [
      "Epoch 405, Loss: 1.2291\n"
     ]
    },
    {
     "name": "stderr",
     "output_type": "stream",
     "text": [
      "Training Progress:  81%|████████  | 406/500 [01:48<00:25,  3.72it/s]"
     ]
    },
    {
     "name": "stdout",
     "output_type": "stream",
     "text": [
      "Epoch 406, Loss: 1.2283\n"
     ]
    },
    {
     "name": "stderr",
     "output_type": "stream",
     "text": [
      "Training Progress:  81%|████████▏ | 407/500 [01:48<00:24,  3.74it/s]"
     ]
    },
    {
     "name": "stdout",
     "output_type": "stream",
     "text": [
      "Epoch 407, Loss: 1.2275\n"
     ]
    },
    {
     "name": "stderr",
     "output_type": "stream",
     "text": [
      "Training Progress:  82%|████████▏ | 408/500 [01:48<00:24,  3.73it/s]"
     ]
    },
    {
     "name": "stdout",
     "output_type": "stream",
     "text": [
      "Epoch 408, Loss: 1.2268\n"
     ]
    },
    {
     "name": "stderr",
     "output_type": "stream",
     "text": [
      "Training Progress:  82%|████████▏ | 409/500 [01:48<00:24,  3.74it/s]"
     ]
    },
    {
     "name": "stdout",
     "output_type": "stream",
     "text": [
      "Epoch 409, Loss: 1.2263\n"
     ]
    },
    {
     "name": "stderr",
     "output_type": "stream",
     "text": [
      "Training Progress:  82%|████████▏ | 410/500 [01:49<00:24,  3.74it/s]"
     ]
    },
    {
     "name": "stdout",
     "output_type": "stream",
     "text": [
      "Epoch 410, Loss: 1.2256\n"
     ]
    },
    {
     "name": "stderr",
     "output_type": "stream",
     "text": [
      "Training Progress:  82%|████████▏ | 411/500 [01:49<00:23,  3.74it/s]"
     ]
    },
    {
     "name": "stdout",
     "output_type": "stream",
     "text": [
      "Epoch 411, Loss: 1.2248\n"
     ]
    },
    {
     "name": "stderr",
     "output_type": "stream",
     "text": [
      "Training Progress:  82%|████████▏ | 412/500 [01:49<00:23,  3.76it/s]"
     ]
    },
    {
     "name": "stdout",
     "output_type": "stream",
     "text": [
      "Epoch 412, Loss: 1.2244\n"
     ]
    },
    {
     "name": "stderr",
     "output_type": "stream",
     "text": [
      "Training Progress:  83%|████████▎ | 413/500 [01:49<00:23,  3.78it/s]"
     ]
    },
    {
     "name": "stdout",
     "output_type": "stream",
     "text": [
      "Epoch 413, Loss: 1.2235\n"
     ]
    },
    {
     "name": "stderr",
     "output_type": "stream",
     "text": [
      "Training Progress:  83%|████████▎ | 414/500 [01:50<00:22,  3.79it/s]"
     ]
    },
    {
     "name": "stdout",
     "output_type": "stream",
     "text": [
      "Epoch 414, Loss: 1.2228\n"
     ]
    },
    {
     "name": "stderr",
     "output_type": "stream",
     "text": [
      "Training Progress:  83%|████████▎ | 415/500 [01:50<00:22,  3.78it/s]"
     ]
    },
    {
     "name": "stdout",
     "output_type": "stream",
     "text": [
      "Epoch 415, Loss: 1.2223\n"
     ]
    },
    {
     "name": "stderr",
     "output_type": "stream",
     "text": [
      "Training Progress:  83%|████████▎ | 416/500 [01:50<00:22,  3.79it/s]"
     ]
    },
    {
     "name": "stdout",
     "output_type": "stream",
     "text": [
      "Epoch 416, Loss: 1.2217\n"
     ]
    },
    {
     "name": "stderr",
     "output_type": "stream",
     "text": [
      "Training Progress:  83%|████████▎ | 417/500 [01:51<00:21,  3.78it/s]"
     ]
    },
    {
     "name": "stdout",
     "output_type": "stream",
     "text": [
      "Epoch 417, Loss: 1.2212\n"
     ]
    },
    {
     "name": "stderr",
     "output_type": "stream",
     "text": [
      "Training Progress:  84%|████████▎ | 418/500 [01:51<00:21,  3.77it/s]"
     ]
    },
    {
     "name": "stdout",
     "output_type": "stream",
     "text": [
      "Epoch 418, Loss: 1.2202\n"
     ]
    },
    {
     "name": "stderr",
     "output_type": "stream",
     "text": [
      "Training Progress:  84%|████████▍ | 419/500 [01:51<00:21,  3.78it/s]"
     ]
    },
    {
     "name": "stdout",
     "output_type": "stream",
     "text": [
      "Epoch 419, Loss: 1.2192\n"
     ]
    },
    {
     "name": "stderr",
     "output_type": "stream",
     "text": [
      "Training Progress:  84%|████████▍ | 420/500 [01:51<00:21,  3.79it/s]"
     ]
    },
    {
     "name": "stdout",
     "output_type": "stream",
     "text": [
      "Epoch 420, Loss: 1.2185\n"
     ]
    },
    {
     "name": "stderr",
     "output_type": "stream",
     "text": [
      "Training Progress:  84%|████████▍ | 421/500 [01:52<00:20,  3.78it/s]"
     ]
    },
    {
     "name": "stdout",
     "output_type": "stream",
     "text": [
      "Epoch 421, Loss: 1.2177\n"
     ]
    },
    {
     "name": "stderr",
     "output_type": "stream",
     "text": [
      "Training Progress:  84%|████████▍ | 422/500 [01:52<00:20,  3.78it/s]"
     ]
    },
    {
     "name": "stdout",
     "output_type": "stream",
     "text": [
      "Epoch 422, Loss: 1.2176\n"
     ]
    },
    {
     "name": "stderr",
     "output_type": "stream",
     "text": [
      "Training Progress:  85%|████████▍ | 423/500 [01:52<00:20,  3.78it/s]"
     ]
    },
    {
     "name": "stdout",
     "output_type": "stream",
     "text": [
      "Epoch 423, Loss: 1.2168\n"
     ]
    },
    {
     "name": "stderr",
     "output_type": "stream",
     "text": [
      "Training Progress:  85%|████████▍ | 424/500 [01:52<00:20,  3.79it/s]"
     ]
    },
    {
     "name": "stdout",
     "output_type": "stream",
     "text": [
      "Epoch 424, Loss: 1.2157\n"
     ]
    },
    {
     "name": "stderr",
     "output_type": "stream",
     "text": [
      "Training Progress:  85%|████████▌ | 425/500 [01:53<00:19,  3.79it/s]"
     ]
    },
    {
     "name": "stdout",
     "output_type": "stream",
     "text": [
      "Epoch 425, Loss: 1.2155\n"
     ]
    },
    {
     "name": "stderr",
     "output_type": "stream",
     "text": [
      "Training Progress:  85%|████████▌ | 426/500 [01:53<00:19,  3.78it/s]"
     ]
    },
    {
     "name": "stdout",
     "output_type": "stream",
     "text": [
      "Epoch 426, Loss: 1.2145\n"
     ]
    },
    {
     "name": "stderr",
     "output_type": "stream",
     "text": [
      "Training Progress:  85%|████████▌ | 427/500 [01:53<00:19,  3.77it/s]"
     ]
    },
    {
     "name": "stdout",
     "output_type": "stream",
     "text": [
      "Epoch 427, Loss: 1.2136\n"
     ]
    },
    {
     "name": "stderr",
     "output_type": "stream",
     "text": [
      "Training Progress:  86%|████████▌ | 428/500 [01:53<00:19,  3.78it/s]"
     ]
    },
    {
     "name": "stdout",
     "output_type": "stream",
     "text": [
      "Epoch 428, Loss: 1.2132\n"
     ]
    },
    {
     "name": "stderr",
     "output_type": "stream",
     "text": [
      "Training Progress:  86%|████████▌ | 429/500 [01:54<00:18,  3.79it/s]"
     ]
    },
    {
     "name": "stdout",
     "output_type": "stream",
     "text": [
      "Epoch 429, Loss: 1.2124\n"
     ]
    },
    {
     "name": "stderr",
     "output_type": "stream",
     "text": [
      "Training Progress:  86%|████████▌ | 430/500 [01:54<00:18,  3.79it/s]"
     ]
    },
    {
     "name": "stdout",
     "output_type": "stream",
     "text": [
      "Epoch 430, Loss: 1.2120\n"
     ]
    },
    {
     "name": "stderr",
     "output_type": "stream",
     "text": [
      "Training Progress:  86%|████████▌ | 431/500 [01:54<00:18,  3.78it/s]"
     ]
    },
    {
     "name": "stdout",
     "output_type": "stream",
     "text": [
      "Epoch 431, Loss: 1.2110\n"
     ]
    },
    {
     "name": "stderr",
     "output_type": "stream",
     "text": [
      "Training Progress:  86%|████████▋ | 432/500 [01:54<00:17,  3.80it/s]"
     ]
    },
    {
     "name": "stdout",
     "output_type": "stream",
     "text": [
      "Epoch 432, Loss: 1.2105\n"
     ]
    },
    {
     "name": "stderr",
     "output_type": "stream",
     "text": [
      "Training Progress:  87%|████████▋ | 433/500 [01:55<00:17,  3.79it/s]"
     ]
    },
    {
     "name": "stdout",
     "output_type": "stream",
     "text": [
      "Epoch 433, Loss: 1.2100\n"
     ]
    },
    {
     "name": "stderr",
     "output_type": "stream",
     "text": [
      "Training Progress:  87%|████████▋ | 434/500 [01:55<00:17,  3.80it/s]"
     ]
    },
    {
     "name": "stdout",
     "output_type": "stream",
     "text": [
      "Epoch 434, Loss: 1.2093\n"
     ]
    },
    {
     "name": "stderr",
     "output_type": "stream",
     "text": [
      "Training Progress:  87%|████████▋ | 435/500 [01:55<00:17,  3.79it/s]"
     ]
    },
    {
     "name": "stdout",
     "output_type": "stream",
     "text": [
      "Epoch 435, Loss: 1.2086\n"
     ]
    },
    {
     "name": "stderr",
     "output_type": "stream",
     "text": [
      "Training Progress:  87%|████████▋ | 436/500 [01:56<00:16,  3.80it/s]"
     ]
    },
    {
     "name": "stdout",
     "output_type": "stream",
     "text": [
      "Epoch 436, Loss: 1.2076\n"
     ]
    },
    {
     "name": "stderr",
     "output_type": "stream",
     "text": [
      "Training Progress:  87%|████████▋ | 437/500 [01:56<00:16,  3.79it/s]"
     ]
    },
    {
     "name": "stdout",
     "output_type": "stream",
     "text": [
      "Epoch 437, Loss: 1.2070\n"
     ]
    },
    {
     "name": "stderr",
     "output_type": "stream",
     "text": [
      "Training Progress:  88%|████████▊ | 438/500 [01:56<00:16,  3.78it/s]"
     ]
    },
    {
     "name": "stdout",
     "output_type": "stream",
     "text": [
      "Epoch 438, Loss: 1.2066\n"
     ]
    },
    {
     "name": "stderr",
     "output_type": "stream",
     "text": [
      "Training Progress:  88%|████████▊ | 439/500 [01:56<00:16,  3.79it/s]"
     ]
    },
    {
     "name": "stdout",
     "output_type": "stream",
     "text": [
      "Epoch 439, Loss: 1.2059\n"
     ]
    },
    {
     "name": "stderr",
     "output_type": "stream",
     "text": [
      "Training Progress:  88%|████████▊ | 440/500 [01:57<00:15,  3.79it/s]"
     ]
    },
    {
     "name": "stdout",
     "output_type": "stream",
     "text": [
      "Epoch 440, Loss: 1.2054\n"
     ]
    },
    {
     "name": "stderr",
     "output_type": "stream",
     "text": [
      "Training Progress:  88%|████████▊ | 441/500 [01:57<00:15,  3.79it/s]"
     ]
    },
    {
     "name": "stdout",
     "output_type": "stream",
     "text": [
      "Epoch 441, Loss: 1.2042\n"
     ]
    },
    {
     "name": "stderr",
     "output_type": "stream",
     "text": [
      "Training Progress:  88%|████████▊ | 442/500 [01:57<00:15,  3.80it/s]"
     ]
    },
    {
     "name": "stdout",
     "output_type": "stream",
     "text": [
      "Epoch 442, Loss: 1.2041\n"
     ]
    },
    {
     "name": "stderr",
     "output_type": "stream",
     "text": [
      "Training Progress:  89%|████████▊ | 443/500 [01:57<00:15,  3.77it/s]"
     ]
    },
    {
     "name": "stdout",
     "output_type": "stream",
     "text": [
      "Epoch 443, Loss: 1.2033\n"
     ]
    },
    {
     "name": "stderr",
     "output_type": "stream",
     "text": [
      "Training Progress:  89%|████████▉ | 444/500 [01:58<00:14,  3.76it/s]"
     ]
    },
    {
     "name": "stdout",
     "output_type": "stream",
     "text": [
      "Epoch 444, Loss: 1.2026\n"
     ]
    },
    {
     "name": "stderr",
     "output_type": "stream",
     "text": [
      "Training Progress:  89%|████████▉ | 445/500 [01:58<00:14,  3.76it/s]"
     ]
    },
    {
     "name": "stdout",
     "output_type": "stream",
     "text": [
      "Epoch 445, Loss: 1.2019\n"
     ]
    },
    {
     "name": "stderr",
     "output_type": "stream",
     "text": [
      "Training Progress:  89%|████████▉ | 446/500 [01:58<00:14,  3.78it/s]"
     ]
    },
    {
     "name": "stdout",
     "output_type": "stream",
     "text": [
      "Epoch 446, Loss: 1.2014\n"
     ]
    },
    {
     "name": "stderr",
     "output_type": "stream",
     "text": [
      "Training Progress:  89%|████████▉ | 447/500 [01:58<00:14,  3.77it/s]"
     ]
    },
    {
     "name": "stdout",
     "output_type": "stream",
     "text": [
      "Epoch 447, Loss: 1.2005\n"
     ]
    },
    {
     "name": "stderr",
     "output_type": "stream",
     "text": [
      "Training Progress:  90%|████████▉ | 448/500 [01:59<00:13,  3.77it/s]"
     ]
    },
    {
     "name": "stdout",
     "output_type": "stream",
     "text": [
      "Epoch 448, Loss: 1.2003\n"
     ]
    },
    {
     "name": "stderr",
     "output_type": "stream",
     "text": [
      "Training Progress:  90%|████████▉ | 449/500 [01:59<00:13,  3.76it/s]"
     ]
    },
    {
     "name": "stdout",
     "output_type": "stream",
     "text": [
      "Epoch 449, Loss: 1.1991\n"
     ]
    },
    {
     "name": "stderr",
     "output_type": "stream",
     "text": [
      "Training Progress:  90%|█████████ | 450/500 [01:59<00:13,  3.74it/s]"
     ]
    },
    {
     "name": "stdout",
     "output_type": "stream",
     "text": [
      "Epoch 450, Loss: 1.1987\n"
     ]
    },
    {
     "name": "stderr",
     "output_type": "stream",
     "text": [
      "Training Progress:  90%|█████████ | 451/500 [02:00<00:13,  3.74it/s]"
     ]
    },
    {
     "name": "stdout",
     "output_type": "stream",
     "text": [
      "Epoch 451, Loss: 1.1980\n"
     ]
    },
    {
     "name": "stderr",
     "output_type": "stream",
     "text": [
      "Training Progress:  90%|█████████ | 452/500 [02:00<00:12,  3.75it/s]"
     ]
    },
    {
     "name": "stdout",
     "output_type": "stream",
     "text": [
      "Epoch 452, Loss: 1.1971\n"
     ]
    },
    {
     "name": "stderr",
     "output_type": "stream",
     "text": [
      "Training Progress:  91%|█████████ | 453/500 [02:00<00:12,  3.75it/s]"
     ]
    },
    {
     "name": "stdout",
     "output_type": "stream",
     "text": [
      "Epoch 453, Loss: 1.1967\n"
     ]
    },
    {
     "name": "stderr",
     "output_type": "stream",
     "text": [
      "Training Progress:  91%|█████████ | 454/500 [02:00<00:12,  3.76it/s]"
     ]
    },
    {
     "name": "stdout",
     "output_type": "stream",
     "text": [
      "Epoch 454, Loss: 1.1960\n"
     ]
    },
    {
     "name": "stderr",
     "output_type": "stream",
     "text": [
      "Training Progress:  91%|█████████ | 455/500 [02:01<00:11,  3.78it/s]"
     ]
    },
    {
     "name": "stdout",
     "output_type": "stream",
     "text": [
      "Epoch 455, Loss: 1.1951\n"
     ]
    },
    {
     "name": "stderr",
     "output_type": "stream",
     "text": [
      "Training Progress:  91%|█████████ | 456/500 [02:01<00:11,  3.77it/s]"
     ]
    },
    {
     "name": "stdout",
     "output_type": "stream",
     "text": [
      "Epoch 456, Loss: 1.1945\n"
     ]
    },
    {
     "name": "stderr",
     "output_type": "stream",
     "text": [
      "Training Progress:  91%|█████████▏| 457/500 [02:01<00:11,  3.79it/s]"
     ]
    },
    {
     "name": "stdout",
     "output_type": "stream",
     "text": [
      "Epoch 457, Loss: 1.1939\n"
     ]
    },
    {
     "name": "stderr",
     "output_type": "stream",
     "text": [
      "Training Progress:  92%|█████████▏| 458/500 [02:01<00:11,  3.79it/s]"
     ]
    },
    {
     "name": "stdout",
     "output_type": "stream",
     "text": [
      "Epoch 458, Loss: 1.1933\n"
     ]
    },
    {
     "name": "stderr",
     "output_type": "stream",
     "text": [
      "Training Progress:  92%|█████████▏| 459/500 [02:02<00:10,  3.77it/s]"
     ]
    },
    {
     "name": "stdout",
     "output_type": "stream",
     "text": [
      "Epoch 459, Loss: 1.1929\n"
     ]
    },
    {
     "name": "stderr",
     "output_type": "stream",
     "text": [
      "Training Progress:  92%|█████████▏| 460/500 [02:02<00:10,  3.78it/s]"
     ]
    },
    {
     "name": "stdout",
     "output_type": "stream",
     "text": [
      "Epoch 460, Loss: 1.1923\n"
     ]
    },
    {
     "name": "stderr",
     "output_type": "stream",
     "text": [
      "Training Progress:  92%|█████████▏| 461/500 [02:02<00:10,  3.78it/s]"
     ]
    },
    {
     "name": "stdout",
     "output_type": "stream",
     "text": [
      "Epoch 461, Loss: 1.1912\n"
     ]
    },
    {
     "name": "stderr",
     "output_type": "stream",
     "text": [
      "Training Progress:  92%|█████████▏| 462/500 [02:02<00:10,  3.78it/s]"
     ]
    },
    {
     "name": "stdout",
     "output_type": "stream",
     "text": [
      "Epoch 462, Loss: 1.1909\n"
     ]
    },
    {
     "name": "stderr",
     "output_type": "stream",
     "text": [
      "Training Progress:  93%|█████████▎| 463/500 [02:03<00:09,  3.76it/s]"
     ]
    },
    {
     "name": "stdout",
     "output_type": "stream",
     "text": [
      "Epoch 463, Loss: 1.1903\n"
     ]
    },
    {
     "name": "stderr",
     "output_type": "stream",
     "text": [
      "Training Progress:  93%|█████████▎| 464/500 [02:03<00:09,  3.75it/s]"
     ]
    },
    {
     "name": "stdout",
     "output_type": "stream",
     "text": [
      "Epoch 464, Loss: 1.1895\n"
     ]
    },
    {
     "name": "stderr",
     "output_type": "stream",
     "text": [
      "Training Progress:  93%|█████████▎| 465/500 [02:03<00:09,  3.75it/s]"
     ]
    },
    {
     "name": "stdout",
     "output_type": "stream",
     "text": [
      "Epoch 465, Loss: 1.1888\n"
     ]
    },
    {
     "name": "stderr",
     "output_type": "stream",
     "text": [
      "Training Progress:  93%|█████████▎| 466/500 [02:03<00:09,  3.76it/s]"
     ]
    },
    {
     "name": "stdout",
     "output_type": "stream",
     "text": [
      "Epoch 466, Loss: 1.1886\n"
     ]
    },
    {
     "name": "stderr",
     "output_type": "stream",
     "text": [
      "Training Progress:  93%|█████████▎| 467/500 [02:04<00:08,  3.76it/s]"
     ]
    },
    {
     "name": "stdout",
     "output_type": "stream",
     "text": [
      "Epoch 467, Loss: 1.1876\n"
     ]
    },
    {
     "name": "stderr",
     "output_type": "stream",
     "text": [
      "Training Progress:  94%|█████████▎| 468/500 [02:04<00:08,  3.75it/s]"
     ]
    },
    {
     "name": "stdout",
     "output_type": "stream",
     "text": [
      "Epoch 468, Loss: 1.1870\n"
     ]
    },
    {
     "name": "stderr",
     "output_type": "stream",
     "text": [
      "Training Progress:  94%|█████████▍| 469/500 [02:04<00:08,  3.75it/s]"
     ]
    },
    {
     "name": "stdout",
     "output_type": "stream",
     "text": [
      "Epoch 469, Loss: 1.1861\n"
     ]
    },
    {
     "name": "stderr",
     "output_type": "stream",
     "text": [
      "Training Progress:  94%|█████████▍| 470/500 [02:05<00:07,  3.76it/s]"
     ]
    },
    {
     "name": "stdout",
     "output_type": "stream",
     "text": [
      "Epoch 470, Loss: 1.1856\n"
     ]
    },
    {
     "name": "stderr",
     "output_type": "stream",
     "text": [
      "Training Progress:  94%|█████████▍| 471/500 [02:05<00:07,  3.76it/s]"
     ]
    },
    {
     "name": "stdout",
     "output_type": "stream",
     "text": [
      "Epoch 471, Loss: 1.1848\n"
     ]
    },
    {
     "name": "stderr",
     "output_type": "stream",
     "text": [
      "Training Progress:  94%|█████████▍| 472/500 [02:05<00:07,  3.76it/s]"
     ]
    },
    {
     "name": "stdout",
     "output_type": "stream",
     "text": [
      "Epoch 472, Loss: 1.1843\n"
     ]
    },
    {
     "name": "stderr",
     "output_type": "stream",
     "text": [
      "Training Progress:  95%|█████████▍| 473/500 [02:05<00:07,  3.76it/s]"
     ]
    },
    {
     "name": "stdout",
     "output_type": "stream",
     "text": [
      "Epoch 473, Loss: 1.1840\n"
     ]
    },
    {
     "name": "stderr",
     "output_type": "stream",
     "text": [
      "Training Progress:  95%|█████████▍| 474/500 [02:06<00:06,  3.76it/s]"
     ]
    },
    {
     "name": "stdout",
     "output_type": "stream",
     "text": [
      "Epoch 474, Loss: 1.1832\n"
     ]
    },
    {
     "name": "stderr",
     "output_type": "stream",
     "text": [
      "Training Progress:  95%|█████████▌| 475/500 [02:06<00:06,  3.76it/s]"
     ]
    },
    {
     "name": "stdout",
     "output_type": "stream",
     "text": [
      "Epoch 475, Loss: 1.1826\n"
     ]
    },
    {
     "name": "stderr",
     "output_type": "stream",
     "text": [
      "Training Progress:  95%|█████████▌| 476/500 [02:06<00:06,  3.78it/s]"
     ]
    },
    {
     "name": "stdout",
     "output_type": "stream",
     "text": [
      "Epoch 476, Loss: 1.1820\n"
     ]
    },
    {
     "name": "stderr",
     "output_type": "stream",
     "text": [
      "Training Progress:  95%|█████████▌| 477/500 [02:06<00:06,  3.78it/s]"
     ]
    },
    {
     "name": "stdout",
     "output_type": "stream",
     "text": [
      "Epoch 477, Loss: 1.1813\n"
     ]
    },
    {
     "name": "stderr",
     "output_type": "stream",
     "text": [
      "Training Progress:  96%|█████████▌| 478/500 [02:07<00:05,  3.79it/s]"
     ]
    },
    {
     "name": "stdout",
     "output_type": "stream",
     "text": [
      "Epoch 478, Loss: 1.1809\n"
     ]
    },
    {
     "name": "stderr",
     "output_type": "stream",
     "text": [
      "Training Progress:  96%|█████████▌| 479/500 [02:07<00:05,  3.79it/s]"
     ]
    },
    {
     "name": "stdout",
     "output_type": "stream",
     "text": [
      "Epoch 479, Loss: 1.1806\n"
     ]
    },
    {
     "name": "stderr",
     "output_type": "stream",
     "text": [
      "Training Progress:  96%|█████████▌| 480/500 [02:07<00:05,  3.79it/s]"
     ]
    },
    {
     "name": "stdout",
     "output_type": "stream",
     "text": [
      "Epoch 480, Loss: 1.1794\n"
     ]
    },
    {
     "name": "stderr",
     "output_type": "stream",
     "text": [
      "Training Progress:  96%|█████████▌| 481/500 [02:07<00:05,  3.79it/s]"
     ]
    },
    {
     "name": "stdout",
     "output_type": "stream",
     "text": [
      "Epoch 481, Loss: 1.1788\n"
     ]
    },
    {
     "name": "stderr",
     "output_type": "stream",
     "text": [
      "Training Progress:  96%|█████████▋| 482/500 [02:08<00:04,  3.76it/s]"
     ]
    },
    {
     "name": "stdout",
     "output_type": "stream",
     "text": [
      "Epoch 482, Loss: 1.1781\n"
     ]
    },
    {
     "name": "stderr",
     "output_type": "stream",
     "text": [
      "Training Progress:  97%|█████████▋| 483/500 [02:08<00:04,  3.76it/s]"
     ]
    },
    {
     "name": "stdout",
     "output_type": "stream",
     "text": [
      "Epoch 483, Loss: 1.1777\n"
     ]
    },
    {
     "name": "stderr",
     "output_type": "stream",
     "text": [
      "Training Progress:  97%|█████████▋| 484/500 [02:08<00:04,  3.78it/s]"
     ]
    },
    {
     "name": "stdout",
     "output_type": "stream",
     "text": [
      "Epoch 484, Loss: 1.1772\n"
     ]
    },
    {
     "name": "stderr",
     "output_type": "stream",
     "text": [
      "Training Progress:  97%|█████████▋| 485/500 [02:09<00:03,  3.75it/s]"
     ]
    },
    {
     "name": "stdout",
     "output_type": "stream",
     "text": [
      "Epoch 485, Loss: 1.1765\n"
     ]
    },
    {
     "name": "stderr",
     "output_type": "stream",
     "text": [
      "Training Progress:  97%|█████████▋| 486/500 [02:09<00:03,  3.75it/s]"
     ]
    },
    {
     "name": "stdout",
     "output_type": "stream",
     "text": [
      "Epoch 486, Loss: 1.1756\n"
     ]
    },
    {
     "name": "stderr",
     "output_type": "stream",
     "text": [
      "Training Progress:  97%|█████████▋| 487/500 [02:09<00:03,  3.75it/s]"
     ]
    },
    {
     "name": "stdout",
     "output_type": "stream",
     "text": [
      "Epoch 487, Loss: 1.1752\n"
     ]
    },
    {
     "name": "stderr",
     "output_type": "stream",
     "text": [
      "Training Progress:  98%|█████████▊| 488/500 [02:09<00:03,  3.75it/s]"
     ]
    },
    {
     "name": "stdout",
     "output_type": "stream",
     "text": [
      "Epoch 488, Loss: 1.1746\n"
     ]
    },
    {
     "name": "stderr",
     "output_type": "stream",
     "text": [
      "Training Progress:  98%|█████████▊| 489/500 [02:10<00:02,  3.76it/s]"
     ]
    },
    {
     "name": "stdout",
     "output_type": "stream",
     "text": [
      "Epoch 489, Loss: 1.1738\n"
     ]
    },
    {
     "name": "stderr",
     "output_type": "stream",
     "text": [
      "Training Progress:  98%|█████████▊| 490/500 [02:10<00:02,  3.77it/s]"
     ]
    },
    {
     "name": "stdout",
     "output_type": "stream",
     "text": [
      "Epoch 490, Loss: 1.1732\n"
     ]
    },
    {
     "name": "stderr",
     "output_type": "stream",
     "text": [
      "Training Progress:  98%|█████████▊| 491/500 [02:10<00:02,  3.78it/s]"
     ]
    },
    {
     "name": "stdout",
     "output_type": "stream",
     "text": [
      "Epoch 491, Loss: 1.1727\n"
     ]
    },
    {
     "name": "stderr",
     "output_type": "stream",
     "text": [
      "Training Progress:  98%|█████████▊| 492/500 [02:10<00:02,  3.76it/s]"
     ]
    },
    {
     "name": "stdout",
     "output_type": "stream",
     "text": [
      "Epoch 492, Loss: 1.1720\n"
     ]
    },
    {
     "name": "stderr",
     "output_type": "stream",
     "text": [
      "Training Progress:  99%|█████████▊| 493/500 [02:11<00:01,  3.77it/s]"
     ]
    },
    {
     "name": "stdout",
     "output_type": "stream",
     "text": [
      "Epoch 493, Loss: 1.1716\n"
     ]
    },
    {
     "name": "stderr",
     "output_type": "stream",
     "text": [
      "Training Progress:  99%|█████████▉| 494/500 [02:11<00:01,  3.78it/s]"
     ]
    },
    {
     "name": "stdout",
     "output_type": "stream",
     "text": [
      "Epoch 494, Loss: 1.1710\n"
     ]
    },
    {
     "name": "stderr",
     "output_type": "stream",
     "text": [
      "Training Progress:  99%|█████████▉| 495/500 [02:11<00:01,  3.76it/s]"
     ]
    },
    {
     "name": "stdout",
     "output_type": "stream",
     "text": [
      "Epoch 495, Loss: 1.1701\n"
     ]
    },
    {
     "name": "stderr",
     "output_type": "stream",
     "text": [
      "Training Progress:  99%|█████████▉| 496/500 [02:11<00:01,  3.75it/s]"
     ]
    },
    {
     "name": "stdout",
     "output_type": "stream",
     "text": [
      "Epoch 496, Loss: 1.1694\n"
     ]
    },
    {
     "name": "stderr",
     "output_type": "stream",
     "text": [
      "Training Progress:  99%|█████████▉| 497/500 [02:12<00:00,  3.77it/s]"
     ]
    },
    {
     "name": "stdout",
     "output_type": "stream",
     "text": [
      "Epoch 497, Loss: 1.1689\n"
     ]
    },
    {
     "name": "stderr",
     "output_type": "stream",
     "text": [
      "Training Progress: 100%|█████████▉| 498/500 [02:12<00:00,  3.77it/s]"
     ]
    },
    {
     "name": "stdout",
     "output_type": "stream",
     "text": [
      "Epoch 498, Loss: 1.1684\n"
     ]
    },
    {
     "name": "stderr",
     "output_type": "stream",
     "text": [
      "Training Progress: 100%|█████████▉| 499/500 [02:12<00:00,  3.77it/s]"
     ]
    },
    {
     "name": "stdout",
     "output_type": "stream",
     "text": [
      "Epoch 499, Loss: 1.1684\n"
     ]
    },
    {
     "name": "stderr",
     "output_type": "stream",
     "text": [
      "Training Progress: 100%|██████████| 500/500 [02:13<00:00,  3.76it/s]"
     ]
    },
    {
     "name": "stdout",
     "output_type": "stream",
     "text": [
      "Epoch 500, Loss: 1.1672\n"
     ]
    },
    {
     "name": "stderr",
     "output_type": "stream",
     "text": [
      "\n"
     ]
    }
   ],
   "source": [
    "\n",
    "data = ToUndirected()(data)\n",
    "device = torch.device('cuda' if torch.cuda.is_available() else 'cpu')\n",
    "model = HeteroGNN(data.metadata()).to(device)\n",
    "data = data.to(device)\n",
    "\n",
    "optimizer = torch.optim.Adam(model.parameters(), lr=0.0001)\n",
    "train(model, data, optimizer, target_edge_type=('user', 'enrolls', 'course'), epochs=500, device=device)\n"
   ]
  },
  {
   "cell_type": "code",
   "execution_count": 26,
   "id": "c6c6683b",
   "metadata": {
    "execution": {
     "iopub.execute_input": "2025-06-14T15:00:08.353760Z",
     "iopub.status.busy": "2025-06-14T15:00:08.353435Z",
     "iopub.status.idle": "2025-06-14T15:00:08.363920Z",
     "shell.execute_reply": "2025-06-14T15:00:08.363108Z"
    },
    "papermill": {
     "duration": 0.0629,
     "end_time": "2025-06-14T15:00:08.365153",
     "exception": false,
     "start_time": "2025-06-14T15:00:08.302253",
     "status": "completed"
    },
    "tags": []
   },
   "outputs": [],
   "source": [
    "def predict_topk_links_per_src(model, data, target_edge_type, src_list, top_k=5, score_threshold=0.9):\n",
    "    \"\"\"\n",
    "    Predict top-k negative links cho mỗi node src trong src_list.\n",
    "    Lọc các link có score >= threshold và đảm bảo mỗi src có ít nhất 1 link.\n",
    "\n",
    "    Args:\n",
    "        model: Trained HeteroGNN model.\n",
    "        data: HeteroData object.\n",
    "        target_edge_type: Tuple, e.g., ('user', 'enrolls', 'course')\n",
    "        src_list: Danh sách node src cần predict.\n",
    "        top_k: Số lượng link có score cao nhất muốn lấy cho mỗi src.\n",
    "        score_threshold: Ngưỡng score cần giữ.\n",
    "\n",
    "    Returns:\n",
    "        pandas.DataFrame với 3 cột: [source_name, target_name, score] với src và dst là kiểu int.\n",
    "    \"\"\"\n",
    "    import pandas as pd\n",
    "    import torch\n",
    "    from tqdm import tqdm\n",
    "\n",
    "    model.eval()\n",
    "    with torch.no_grad():\n",
    "        out = model(data.x_dict, data.edge_index_dict)\n",
    "\n",
    "        num_dst_nodes = data[target_edge_type[2]].num_nodes\n",
    "        existing_edges = set(zip(\n",
    "            data[target_edge_type].edge_index[0].tolist(),\n",
    "            data[target_edge_type].edge_index[1].tolist()\n",
    "        ))\n",
    "\n",
    "        results = []\n",
    "\n",
    "        for src in tqdm(src_list, desc=\"Predicting for each source node\"):\n",
    "            existing_dst = {dst for s, dst in existing_edges if s == src}\n",
    "            candidate_dst = [dst for dst in range(num_dst_nodes) if dst not in existing_dst]\n",
    "\n",
    "            if len(candidate_dst) == 0:\n",
    "                continue\n",
    "\n",
    "            dst_indices = torch.tensor(candidate_dst, device=next(model.parameters()).device)\n",
    "            src_indices = torch.full_like(dst_indices, src)\n",
    "\n",
    "            scores = torch.sigmoid(decode(out[target_edge_type[0]][src_indices], out[target_edge_type[2]][dst_indices]))\n",
    "\n",
    "            topk_scores, topk_indices = torch.topk(scores, min(top_k, len(scores)))\n",
    "            topk_dst = dst_indices[topk_indices]\n",
    "\n",
    "            for s, d, sc in zip(src_indices[topk_indices].cpu().numpy(), topk_dst.cpu().numpy(), topk_scores.cpu().numpy()):\n",
    "                results.append((s, d, sc))\n",
    "\n",
    "        # Tạo DataFrame kết quả\n",
    "        df = pd.DataFrame(results, columns=[target_edge_type[0], target_edge_type[2], 'score'])\n",
    "\n",
    "        # Lọc theo score_threshold\n",
    "        filtered_df = df[df['score'] >= score_threshold].copy()\n",
    "\n",
    "        # Đảm bảo mỗi src còn ít nhất 1 dòng\n",
    "        all_src = df[target_edge_type[0]].unique()\n",
    "        remaining_src = filtered_df[target_edge_type[0]].unique()\n",
    "        missing_src = set(all_src) - set(remaining_src)\n",
    "\n",
    "        for src in missing_src:\n",
    "            best_row = df[df[target_edge_type[0]] == src].sort_values(by='score', ascending=False).iloc[0]\n",
    "            filtered_df = pd.concat([filtered_df, pd.DataFrame([best_row])], ignore_index=True)\n",
    "\n",
    "        # Ép kiểu src và dst về int\n",
    "        filtered_df[target_edge_type[0]] = filtered_df[target_edge_type[0]].astype(int)\n",
    "        filtered_df[target_edge_type[2]] = filtered_df[target_edge_type[2]].astype(int)\n",
    "\n",
    "        return filtered_df.reset_index(drop=True)\n",
    "\n",
    "\n",
    "def map_course_ids_to_indices(course_ids, course_id_mapping):\n",
    "    \"\"\"\n",
    "    Chuyển danh sách course_id sang index dựa trên mapping.\n",
    "\n",
    "    Args:\n",
    "        course_ids: List các course_id (tên gốc).\n",
    "        course_id_mapping: Dictionary ánh xạ course_id -> index.\n",
    "\n",
    "    Returns:\n",
    "        List các index của course_ids.\n",
    "    \"\"\"\n",
    "    indices = []\n",
    "    for course_id in course_ids:\n",
    "        if course_id in course_id_mapping:\n",
    "            indices.append(course_id_mapping[course_id])\n",
    "        else:\n",
    "            print(f\"Warning: course_id {course_id} không có trong mapping.\")\n",
    "    return indices\n"
   ]
  },
  {
   "cell_type": "code",
   "execution_count": 27,
   "id": "25e4b77a",
   "metadata": {
    "execution": {
     "iopub.execute_input": "2025-06-14T15:00:08.467264Z",
     "iopub.status.busy": "2025-06-14T15:00:08.466953Z",
     "iopub.status.idle": "2025-06-14T15:00:08.472281Z",
     "shell.execute_reply": "2025-06-14T15:00:08.471469Z"
    },
    "papermill": {
     "duration": 0.057908,
     "end_time": "2025-06-14T15:00:08.473514",
     "exception": false,
     "start_time": "2025-06-14T15:00:08.415606",
     "status": "completed"
    },
    "tags": []
   },
   "outputs": [
    {
     "data": {
      "text/plain": [
       "[('user', 'enrolls', 'course'),\n",
       " ('course', 'taught_by', 'teacher'),\n",
       " ('course', 'belongs_to', 'school'),\n",
       " ('course', 'has_video', 'video'),\n",
       " ('course', 'has_exercise', 'exercise'),\n",
       " ('course', 'has_field', 'field'),\n",
       " ('course', 'has_concept', 'concept'),\n",
       " ('course', 'rev_enrolls', 'user'),\n",
       " ('teacher', 'rev_taught_by', 'course'),\n",
       " ('school', 'rev_belongs_to', 'course'),\n",
       " ('video', 'rev_has_video', 'course'),\n",
       " ('exercise', 'rev_has_exercise', 'course'),\n",
       " ('field', 'rev_has_field', 'course'),\n",
       " ('concept', 'rev_has_concept', 'course')]"
      ]
     },
     "execution_count": 27,
     "metadata": {},
     "output_type": "execute_result"
    }
   ],
   "source": [
    "e_types = data.metadata()[1]\n",
    "e_types"
   ]
  },
  {
   "cell_type": "code",
   "execution_count": 28,
   "id": "cfcd46c2",
   "metadata": {
    "execution": {
     "iopub.execute_input": "2025-06-14T15:00:08.575572Z",
     "iopub.status.busy": "2025-06-14T15:00:08.575307Z",
     "iopub.status.idle": "2025-06-14T15:00:08.580704Z",
     "shell.execute_reply": "2025-06-14T15:00:08.579881Z"
    },
    "papermill": {
     "duration": 0.057305,
     "end_time": "2025-06-14T15:00:08.582174",
     "exception": false,
     "start_time": "2025-06-14T15:00:08.524869",
     "status": "completed"
    },
    "tags": []
   },
   "outputs": [],
   "source": [
    "missing_school_course=course_df[course_df[\"school_id\"].isnull()].course_id.to_list()\n",
    "missing_school_ids=map_course_ids_to_indices(missing_school_course,course_id_map)"
   ]
  },
  {
   "cell_type": "code",
   "execution_count": 29,
   "id": "86a91f0e",
   "metadata": {
    "execution": {
     "iopub.execute_input": "2025-06-14T15:00:08.689693Z",
     "iopub.status.busy": "2025-06-14T15:00:08.689433Z",
     "iopub.status.idle": "2025-06-14T15:00:08.694584Z",
     "shell.execute_reply": "2025-06-14T15:00:08.693821Z"
    },
    "papermill": {
     "duration": 0.061735,
     "end_time": "2025-06-14T15:00:08.695968",
     "exception": false,
     "start_time": "2025-06-14T15:00:08.634233",
     "status": "completed"
    },
    "tags": []
   },
   "outputs": [],
   "source": [
    "missing_teacher_course=course_df[course_df[\"teacher_id\"].isnull()].course_id.to_list()\n",
    "missing_teacher_ids=map_course_ids_to_indices(missing_teacher_course,course_id_map)"
   ]
  },
  {
   "cell_type": "code",
   "execution_count": 30,
   "id": "1ef83375",
   "metadata": {
    "execution": {
     "iopub.execute_input": "2025-06-14T15:00:08.804974Z",
     "iopub.status.busy": "2025-06-14T15:00:08.804680Z",
     "iopub.status.idle": "2025-06-14T15:00:08.812707Z",
     "shell.execute_reply": "2025-06-14T15:00:08.811962Z"
    },
    "papermill": {
     "duration": 0.062896,
     "end_time": "2025-06-14T15:00:08.814119",
     "exception": false,
     "start_time": "2025-06-14T15:00:08.751223",
     "status": "completed"
    },
    "tags": []
   },
   "outputs": [],
   "source": [
    "missing_field_course=course_df[course_df[\"course_field\"].isnull()].course_id.to_list()\n",
    "missing_field_ids=map_course_ids_to_indices(missing_field_course,course_id_map)"
   ]
  },
  {
   "cell_type": "code",
   "execution_count": 31,
   "id": "287505ba",
   "metadata": {
    "execution": {
     "iopub.execute_input": "2025-06-14T15:00:08.917322Z",
     "iopub.status.busy": "2025-06-14T15:00:08.917006Z",
     "iopub.status.idle": "2025-06-14T15:00:09.108446Z",
     "shell.execute_reply": "2025-06-14T15:00:09.107546Z"
    },
    "papermill": {
     "duration": 0.243614,
     "end_time": "2025-06-14T15:00:09.109753",
     "exception": false,
     "start_time": "2025-06-14T15:00:08.866139",
     "status": "completed"
    },
    "tags": []
   },
   "outputs": [
    {
     "name": "stderr",
     "output_type": "stream",
     "text": [
      "Predicting for each source node: 100%|██████████| 40/40 [00:00<00:00, 352.38it/s]\n"
     ]
    },
    {
     "data": {
      "text/html": [
       "<div>\n",
       "<style scoped>\n",
       "    .dataframe tbody tr th:only-of-type {\n",
       "        vertical-align: middle;\n",
       "    }\n",
       "\n",
       "    .dataframe tbody tr th {\n",
       "        vertical-align: top;\n",
       "    }\n",
       "\n",
       "    .dataframe thead th {\n",
       "        text-align: right;\n",
       "    }\n",
       "</style>\n",
       "<table border=\"1\" class=\"dataframe\">\n",
       "  <thead>\n",
       "    <tr style=\"text-align: right;\">\n",
       "      <th></th>\n",
       "      <th>course</th>\n",
       "      <th>school</th>\n",
       "      <th>score</th>\n",
       "    </tr>\n",
       "  </thead>\n",
       "  <tbody>\n",
       "    <tr>\n",
       "      <th>0</th>\n",
       "      <td>1908</td>\n",
       "      <td>98</td>\n",
       "      <td>0.999976</td>\n",
       "    </tr>\n",
       "    <tr>\n",
       "      <th>1</th>\n",
       "      <td>1908</td>\n",
       "      <td>400</td>\n",
       "      <td>0.999953</td>\n",
       "    </tr>\n",
       "    <tr>\n",
       "      <th>2</th>\n",
       "      <td>1688</td>\n",
       "      <td>251</td>\n",
       "      <td>0.993452</td>\n",
       "    </tr>\n",
       "    <tr>\n",
       "      <th>3</th>\n",
       "      <td>1688</td>\n",
       "      <td>296</td>\n",
       "      <td>0.988654</td>\n",
       "    </tr>\n",
       "    <tr>\n",
       "      <th>4</th>\n",
       "      <td>2602</td>\n",
       "      <td>231</td>\n",
       "      <td>0.997051</td>\n",
       "    </tr>\n",
       "  </tbody>\n",
       "</table>\n",
       "</div>"
      ],
      "text/plain": [
       "   course  school     score\n",
       "0    1908      98  0.999976\n",
       "1    1908     400  0.999953\n",
       "2    1688     251  0.993452\n",
       "3    1688     296  0.988654\n",
       "4    2602     231  0.997051"
      ]
     },
     "execution_count": 31,
     "metadata": {},
     "output_type": "execute_result"
    }
   ],
   "source": [
    "topk_school = predict_topk_links_per_src(model, \n",
    "                                     data, \n",
    "                                     e_types[2], \n",
    "                                     src_list=missing_school_ids, \n",
    "                                     top_k=2,\n",
    "                                     score_threshold=0.97\n",
    "                                        )\n",
    "topk_school.head()\n"
   ]
  },
  {
   "cell_type": "code",
   "execution_count": 32,
   "id": "d9d08543",
   "metadata": {
    "execution": {
     "iopub.execute_input": "2025-06-14T15:00:09.214588Z",
     "iopub.status.busy": "2025-06-14T15:00:09.214324Z",
     "iopub.status.idle": "2025-06-14T15:00:09.352006Z",
     "shell.execute_reply": "2025-06-14T15:00:09.351129Z"
    },
    "papermill": {
     "duration": 0.191772,
     "end_time": "2025-06-14T15:00:09.353475",
     "exception": false,
     "start_time": "2025-06-14T15:00:09.161703",
     "status": "completed"
    },
    "tags": []
   },
   "outputs": [
    {
     "name": "stderr",
     "output_type": "stream",
     "text": [
      "Predicting for each source node: 100%|██████████| 16/16 [00:00<00:00, 287.27it/s]\n"
     ]
    },
    {
     "data": {
      "text/html": [
       "<div>\n",
       "<style scoped>\n",
       "    .dataframe tbody tr th:only-of-type {\n",
       "        vertical-align: middle;\n",
       "    }\n",
       "\n",
       "    .dataframe tbody tr th {\n",
       "        vertical-align: top;\n",
       "    }\n",
       "\n",
       "    .dataframe thead th {\n",
       "        text-align: right;\n",
       "    }\n",
       "</style>\n",
       "<table border=\"1\" class=\"dataframe\">\n",
       "  <thead>\n",
       "    <tr style=\"text-align: right;\">\n",
       "      <th></th>\n",
       "      <th>course</th>\n",
       "      <th>teacher</th>\n",
       "      <th>score</th>\n",
       "    </tr>\n",
       "  </thead>\n",
       "  <tbody>\n",
       "    <tr>\n",
       "      <th>0</th>\n",
       "      <td>1593</td>\n",
       "      <td>4959</td>\n",
       "      <td>1.0</td>\n",
       "    </tr>\n",
       "    <tr>\n",
       "      <th>1</th>\n",
       "      <td>1593</td>\n",
       "      <td>3403</td>\n",
       "      <td>1.0</td>\n",
       "    </tr>\n",
       "    <tr>\n",
       "      <th>2</th>\n",
       "      <td>1593</td>\n",
       "      <td>6954</td>\n",
       "      <td>1.0</td>\n",
       "    </tr>\n",
       "    <tr>\n",
       "      <th>3</th>\n",
       "      <td>1593</td>\n",
       "      <td>6971</td>\n",
       "      <td>1.0</td>\n",
       "    </tr>\n",
       "    <tr>\n",
       "      <th>4</th>\n",
       "      <td>1593</td>\n",
       "      <td>677</td>\n",
       "      <td>1.0</td>\n",
       "    </tr>\n",
       "  </tbody>\n",
       "</table>\n",
       "</div>"
      ],
      "text/plain": [
       "   course  teacher  score\n",
       "0    1593     4959    1.0\n",
       "1    1593     3403    1.0\n",
       "2    1593     6954    1.0\n",
       "3    1593     6971    1.0\n",
       "4    1593      677    1.0"
      ]
     },
     "execution_count": 32,
     "metadata": {},
     "output_type": "execute_result"
    }
   ],
   "source": [
    "topk_teacher = predict_topk_links_per_src(model, \n",
    "                                     data, \n",
    "                                     e_types[1], \n",
    "                                     src_list=missing_teacher_ids, \n",
    "                                     top_k=5,\n",
    "                                     score_threshold=0.999\n",
    "                                         )\n",
    "topk_teacher.head()\n"
   ]
  },
  {
   "cell_type": "code",
   "execution_count": 33,
   "id": "73e72d9d",
   "metadata": {
    "execution": {
     "iopub.execute_input": "2025-06-14T15:00:09.457405Z",
     "iopub.status.busy": "2025-06-14T15:00:09.457063Z",
     "iopub.status.idle": "2025-06-14T15:00:11.207779Z",
     "shell.execute_reply": "2025-06-14T15:00:11.206938Z"
    },
    "papermill": {
     "duration": 1.803272,
     "end_time": "2025-06-14T15:00:11.209100",
     "exception": false,
     "start_time": "2025-06-14T15:00:09.405828",
     "status": "completed"
    },
    "tags": []
   },
   "outputs": [
    {
     "name": "stderr",
     "output_type": "stream",
     "text": [
      "Predicting for each source node: 100%|██████████| 2317/2317 [00:00<00:00, 2485.67it/s]\n"
     ]
    },
    {
     "data": {
      "text/html": [
       "<div>\n",
       "<style scoped>\n",
       "    .dataframe tbody tr th:only-of-type {\n",
       "        vertical-align: middle;\n",
       "    }\n",
       "\n",
       "    .dataframe tbody tr th {\n",
       "        vertical-align: top;\n",
       "    }\n",
       "\n",
       "    .dataframe thead th {\n",
       "        text-align: right;\n",
       "    }\n",
       "</style>\n",
       "<table border=\"1\" class=\"dataframe\">\n",
       "  <thead>\n",
       "    <tr style=\"text-align: right;\">\n",
       "      <th></th>\n",
       "      <th>course</th>\n",
       "      <th>field</th>\n",
       "      <th>score</th>\n",
       "    </tr>\n",
       "  </thead>\n",
       "  <tbody>\n",
       "    <tr>\n",
       "      <th>0</th>\n",
       "      <td>2112</td>\n",
       "      <td>29</td>\n",
       "      <td>0.999994</td>\n",
       "    </tr>\n",
       "    <tr>\n",
       "      <th>1</th>\n",
       "      <td>2112</td>\n",
       "      <td>0</td>\n",
       "      <td>0.999956</td>\n",
       "    </tr>\n",
       "    <tr>\n",
       "      <th>2</th>\n",
       "      <td>2112</td>\n",
       "      <td>31</td>\n",
       "      <td>0.999702</td>\n",
       "    </tr>\n",
       "    <tr>\n",
       "      <th>3</th>\n",
       "      <td>2112</td>\n",
       "      <td>23</td>\n",
       "      <td>0.999629</td>\n",
       "    </tr>\n",
       "    <tr>\n",
       "      <th>4</th>\n",
       "      <td>2112</td>\n",
       "      <td>28</td>\n",
       "      <td>0.999436</td>\n",
       "    </tr>\n",
       "  </tbody>\n",
       "</table>\n",
       "</div>"
      ],
      "text/plain": [
       "   course  field     score\n",
       "0    2112     29  0.999994\n",
       "1    2112      0  0.999956\n",
       "2    2112     31  0.999702\n",
       "3    2112     23  0.999629\n",
       "4    2112     28  0.999436"
      ]
     },
     "execution_count": 33,
     "metadata": {},
     "output_type": "execute_result"
    }
   ],
   "source": [
    "topk_field = predict_topk_links_per_src(model, \n",
    "                                     data, \n",
    "                                     e_types[5], \n",
    "                                     src_list=missing_field_ids, \n",
    "                                     top_k=5,\n",
    "                                     score_threshold=0.97\n",
    "                                       )\n",
    "\n",
    "topk_field.head()\n"
   ]
  },
  {
   "cell_type": "code",
   "execution_count": 34,
   "id": "d577e1a7",
   "metadata": {
    "execution": {
     "iopub.execute_input": "2025-06-14T15:00:11.318028Z",
     "iopub.status.busy": "2025-06-14T15:00:11.317690Z",
     "iopub.status.idle": "2025-06-14T15:00:11.322931Z",
     "shell.execute_reply": "2025-06-14T15:00:11.322268Z"
    },
    "papermill": {
     "duration": 0.059313,
     "end_time": "2025-06-14T15:00:11.324124",
     "exception": false,
     "start_time": "2025-06-14T15:00:11.264811",
     "status": "completed"
    },
    "tags": []
   },
   "outputs": [],
   "source": [
    "def reverse_dataframe_ids(df, id_mappings,rename_col):\n",
    "    \"\"\"\n",
    "    Chuyển các cột index trong DataFrame về ID gốc dựa trên mapping.\n",
    "\n",
    "    Args:\n",
    "        df: DataFrame chứa các cột index.\n",
    "        id_mappings: Dictionary với key là tên cột, value là mapping ID -> index.\n",
    "\n",
    "    Returns:\n",
    "        DataFrame với các cột ID gốc.\n",
    "    \"\"\"\n",
    "    df_converted = df.copy()\n",
    "    \n",
    "    for col, mapping in id_mappings.items():\n",
    "        reverse_mapping = {v: k for k, v in mapping.items()}\n",
    "        if col in df_converted.columns:\n",
    "            df_converted[col] = df_converted[col].map(reverse_mapping)\n",
    "    df_converted.rename(columns={'course': 'course_id', rename_col[0]: rename_col[1]}, inplace=True)\n",
    "    return df_converted\n",
    "import pandas as pd\n",
    "\n",
    "# Ánh xạ ngược\n",
    "id_mappings = {'user': user_id_map,\n",
    "               'course': course_id_map,\n",
    "               'school': school_id_map,\n",
    "               'teacher':teacher_id_map,\n",
    "               'field': field_id_map\n",
    "              }\n",
    "\n",
    "# Chuyển index về ID gốc\n",
    "\n"
   ]
  },
  {
   "cell_type": "code",
   "execution_count": 35,
   "id": "a8966f09",
   "metadata": {
    "execution": {
     "iopub.execute_input": "2025-06-14T15:00:11.429160Z",
     "iopub.status.busy": "2025-06-14T15:00:11.428870Z",
     "iopub.status.idle": "2025-06-14T15:00:11.625080Z",
     "shell.execute_reply": "2025-06-14T15:00:11.624324Z"
    },
    "papermill": {
     "duration": 0.250618,
     "end_time": "2025-06-14T15:00:11.626752",
     "exception": false,
     "start_time": "2025-06-14T15:00:11.376134",
     "status": "completed"
    },
    "tags": []
   },
   "outputs": [],
   "source": [
    "fill_school = reverse_dataframe_ids(topk_school, id_mappings, [\"school\",\"school_id\"])\n",
    "fill_teacher = reverse_dataframe_ids(topk_teacher, id_mappings, [\"teacher\",\"teacher_id\"])\n",
    "fill_field = reverse_dataframe_ids(topk_field, id_mappings, [\"field\",\"course_field\"])"
   ]
  },
  {
   "cell_type": "code",
   "execution_count": 36,
   "id": "570f8299",
   "metadata": {
    "execution": {
     "iopub.execute_input": "2025-06-14T15:00:11.732258Z",
     "iopub.status.busy": "2025-06-14T15:00:11.731936Z",
     "iopub.status.idle": "2025-06-14T15:00:11.742944Z",
     "shell.execute_reply": "2025-06-14T15:00:11.742212Z"
    },
    "papermill": {
     "duration": 0.064588,
     "end_time": "2025-06-14T15:00:11.744134",
     "exception": false,
     "start_time": "2025-06-14T15:00:11.679546",
     "status": "completed"
    },
    "tags": []
   },
   "outputs": [
    {
     "data": {
      "text/plain": [
       "count    449.000000\n",
       "mean       1.256125\n",
       "std        0.569981\n",
       "min        1.000000\n",
       "25%        1.000000\n",
       "50%        1.000000\n",
       "75%        1.000000\n",
       "max        7.000000\n",
       "Name: count, dtype: float64"
      ]
     },
     "execution_count": 36,
     "metadata": {},
     "output_type": "execute_result"
    }
   ],
   "source": [
    "course_field.value_counts(\"course_id\").describe()"
   ]
  },
  {
   "cell_type": "code",
   "execution_count": 37,
   "id": "9c2f5c75",
   "metadata": {
    "execution": {
     "iopub.execute_input": "2025-06-14T15:00:11.855485Z",
     "iopub.status.busy": "2025-06-14T15:00:11.855192Z",
     "iopub.status.idle": "2025-06-14T15:00:11.866625Z",
     "shell.execute_reply": "2025-06-14T15:00:11.865848Z"
    },
    "papermill": {
     "duration": 0.069188,
     "end_time": "2025-06-14T15:00:11.867882",
     "exception": false,
     "start_time": "2025-06-14T15:00:11.798694",
     "status": "completed"
    },
    "tags": []
   },
   "outputs": [
    {
     "data": {
      "text/plain": [
       "count    2750.000000\n",
       "mean        3.874545\n",
       "std         3.604881\n",
       "min         1.000000\n",
       "25%         1.000000\n",
       "50%         3.000000\n",
       "75%         5.000000\n",
       "max        49.000000\n",
       "Name: count, dtype: float64"
      ]
     },
     "execution_count": 37,
     "metadata": {},
     "output_type": "execute_result"
    }
   ],
   "source": [
    "course_teacher.value_counts(\"course_id\").describe()"
   ]
  },
  {
   "cell_type": "code",
   "execution_count": 38,
   "id": "a71a67cb",
   "metadata": {
    "execution": {
     "iopub.execute_input": "2025-06-14T15:00:11.974023Z",
     "iopub.status.busy": "2025-06-14T15:00:11.973602Z",
     "iopub.status.idle": "2025-06-14T15:00:11.978423Z",
     "shell.execute_reply": "2025-06-14T15:00:11.977722Z"
    },
    "papermill": {
     "duration": 0.058842,
     "end_time": "2025-06-14T15:00:11.979653",
     "exception": false,
     "start_time": "2025-06-14T15:00:11.920811",
     "status": "completed"
    },
    "tags": []
   },
   "outputs": [],
   "source": [
    "import pandas as pd\n",
    "import numpy as np\n",
    "\n",
    "def replace_list_column(df_target, df_fill, key_col, value_col):\n",
    "    \"\"\"\n",
    "    Thay thế giá trị của cột chứa list trong df_target bằng giá trị từ df_fill nếu có.\n",
    "\n",
    "    Args:\n",
    "        df_target (pd.DataFrame): DataFrame gốc.\n",
    "        df_fill (pd.DataFrame): DataFrame chứa dữ liệu mới để thay thế.\n",
    "        key_col (str): Tên cột khóa.\n",
    "        value_col (str): Tên cột chứa list cần thay thế.\n",
    "\n",
    "    Returns:\n",
    "        pd.DataFrame: DataFrame đã thay thế.\n",
    "    \"\"\"\n",
    "    # Tạo mapping\n",
    "    mapping = dict(zip(df_fill[key_col], df_fill[value_col]))\n",
    "\n",
    "    # Hàm thay thế từng dòng\n",
    "    def replace_row(row):\n",
    "        if not row[value_col]:\n",
    "            return mapping[row[key_col]]\n",
    "        return row[value_col]   # Giữ nguyên nếu không có trong mapping\n",
    "\n",
    "    # Thay thế\n",
    "    df_target[value_col] = df_target.apply(replace_row, axis=1)\n",
    "\n",
    "    return df_target\n"
   ]
  },
  {
   "cell_type": "code",
   "execution_count": 39,
   "id": "57a464db",
   "metadata": {
    "execution": {
     "iopub.execute_input": "2025-06-14T15:00:12.084361Z",
     "iopub.status.busy": "2025-06-14T15:00:12.084081Z",
     "iopub.status.idle": "2025-06-14T15:00:12.398938Z",
     "shell.execute_reply": "2025-06-14T15:00:12.398256Z"
    },
    "papermill": {
     "duration": 0.369108,
     "end_time": "2025-06-14T15:00:12.400593",
     "exception": false,
     "start_time": "2025-06-14T15:00:12.031485",
     "status": "completed"
    },
    "tags": []
   },
   "outputs": [],
   "source": [
    "gr_field=fill_field[['course_id','course_field']].groupby('course_id').agg(list).reset_index()\n",
    "gr_school=fill_school[['course_id','school_id']].groupby('course_id').agg(list).reset_index()\n",
    "gr_teacher=fill_teacher[['course_id','teacher_id']].groupby('course_id').agg(list).reset_index()"
   ]
  },
  {
   "cell_type": "code",
   "execution_count": null,
   "id": "6682f94e",
   "metadata": {
    "papermill": {
     "duration": 0.051352,
     "end_time": "2025-06-14T15:00:12.505305",
     "exception": false,
     "start_time": "2025-06-14T15:00:12.453953",
     "status": "completed"
    },
    "tags": []
   },
   "outputs": [],
   "source": []
  },
  {
   "cell_type": "code",
   "execution_count": 40,
   "id": "601b13a7",
   "metadata": {
    "execution": {
     "iopub.execute_input": "2025-06-14T15:00:12.610372Z",
     "iopub.status.busy": "2025-06-14T15:00:12.610064Z",
     "iopub.status.idle": "2025-06-14T15:00:12.682548Z",
     "shell.execute_reply": "2025-06-14T15:00:12.681881Z"
    },
    "papermill": {
     "duration": 0.126078,
     "end_time": "2025-06-14T15:00:12.683803",
     "exception": false,
     "start_time": "2025-06-14T15:00:12.557725",
     "status": "completed"
    },
    "tags": []
   },
   "outputs": [],
   "source": [
    "new_df=replace_list_column(course_df,gr_field,\"course_id\",\"course_field\")\n",
    "new_df=replace_list_column(new_df,gr_school,\"course_id\",\"school_id\")\n",
    "new_df=replace_list_column(new_df,gr_teacher,\"course_id\",\"teacher_id\")"
   ]
  },
  {
   "cell_type": "code",
   "execution_count": 41,
   "id": "c4c299e8",
   "metadata": {
    "execution": {
     "iopub.execute_input": "2025-06-14T15:00:12.790659Z",
     "iopub.status.busy": "2025-06-14T15:00:12.790375Z",
     "iopub.status.idle": "2025-06-14T15:00:13.225350Z",
     "shell.execute_reply": "2025-06-14T15:00:13.224606Z"
    },
    "papermill": {
     "duration": 0.489929,
     "end_time": "2025-06-14T15:00:13.226930",
     "exception": false,
     "start_time": "2025-06-14T15:00:12.737001",
     "status": "completed"
    },
    "tags": []
   },
   "outputs": [],
   "source": [
    "def fill_attributes_by_id(course_df, id_col, attr_cols):\n",
    "    # Merge\n",
    "    df = course_df[[id_col]+attr_cols].dropna().explode([id_col]+attr_cols)\n",
    "    df = df.drop_duplicates()\n",
    "    rel_df = course_df[['course_id',id_col]].explode(id_col)\n",
    "    df = pd.merge(rel_df,df,on=id_col,how='left')\n",
    "    df = df.groupby('course_id').agg(list).reset_index()\n",
    "    course_df = course_df.drop([id_col]+attr_cols,axis=1)\n",
    "    course_df = pd.merge(course_df,df,on='course_id',how='left')\n",
    "    return course_df\n",
    "# Bổ sung thông tin trường học\n",
    "def fill(course_df,entities):\n",
    "    for ent in entities:\n",
    "        cols = course_df.columns[course_df.columns.str.startswith(ent)].tolist()\n",
    "        attr_cols = [item for item in cols if not (isinstance(item, str) and item.endswith('_id'))]\n",
    "        id_col = ent+'_id'\n",
    "        course_df = fill_attributes_by_id(course_df,id_col,attr_cols)\n",
    "    return course_df\n",
    "entities=['school','teacher']\n",
    "new_df = fill(new_df,entities)"
   ]
  },
  {
   "cell_type": "code",
   "execution_count": 42,
   "id": "266de32b",
   "metadata": {
    "execution": {
     "iopub.execute_input": "2025-06-14T15:00:13.334604Z",
     "iopub.status.busy": "2025-06-14T15:00:13.334297Z",
     "iopub.status.idle": "2025-06-14T15:00:13.345257Z",
     "shell.execute_reply": "2025-06-14T15:00:13.344472Z"
    },
    "papermill": {
     "duration": 0.065709,
     "end_time": "2025-06-14T15:00:13.346638",
     "exception": false,
     "start_time": "2025-06-14T15:00:13.280929",
     "status": "completed"
    },
    "tags": []
   },
   "outputs": [
    {
     "data": {
      "text/plain": [
       "course_id                0.000000\n",
       "course_name              0.000000\n",
       "course_prerequisites     0.000000\n",
       "course_about             0.000000\n",
       "course_field             0.000000\n",
       "video_id                 0.532538\n",
       "video_ccid               0.532538\n",
       "video_duration           0.532538\n",
       "exercise_id              0.022054\n",
       "exercise_num_problem     0.022054\n",
       "concept_id               0.732104\n",
       "concept_prerequisite     0.732104\n",
       "concept_name             0.732104\n",
       "concept_field            0.732104\n",
       "course_total_comments    0.000000\n",
       "school_id                0.000000\n",
       "school_name              0.000000\n",
       "school_about             0.000000\n",
       "school_motto             0.000000\n",
       "teacher_id               0.000000\n",
       "teacher_name             0.000000\n",
       "teacher_about            0.000000\n",
       "teacher_job_title        0.000000\n",
       "teacher_org_name         0.000000\n",
       "dtype: float64"
      ]
     },
     "execution_count": 42,
     "metadata": {},
     "output_type": "execute_result"
    }
   ],
   "source": [
    "new_df.isna().mean()"
   ]
  },
  {
   "cell_type": "code",
   "execution_count": 43,
   "id": "10d74af0",
   "metadata": {
    "execution": {
     "iopub.execute_input": "2025-06-14T15:00:13.452402Z",
     "iopub.status.busy": "2025-06-14T15:00:13.452132Z",
     "iopub.status.idle": "2025-06-14T15:00:14.535933Z",
     "shell.execute_reply": "2025-06-14T15:00:14.535236Z"
    },
    "papermill": {
     "duration": 1.138833,
     "end_time": "2025-06-14T15:00:14.537592",
     "exception": false,
     "start_time": "2025-06-14T15:00:13.398759",
     "status": "completed"
    },
    "tags": []
   },
   "outputs": [],
   "source": [
    "course_info_cols = new_df.drop(['course_id'],axis=1).columns.tolist()\n",
    "user_interact = combine_data.drop(course_info_cols,axis=1)"
   ]
  },
  {
   "cell_type": "code",
   "execution_count": 44,
   "id": "5f642579",
   "metadata": {
    "execution": {
     "iopub.execute_input": "2025-06-14T15:00:14.644493Z",
     "iopub.status.busy": "2025-06-14T15:00:14.644203Z",
     "iopub.status.idle": "2025-06-14T15:00:38.575096Z",
     "shell.execute_reply": "2025-06-14T15:00:38.574315Z"
    },
    "papermill": {
     "duration": 23.986013,
     "end_time": "2025-06-14T15:00:38.576706",
     "exception": false,
     "start_time": "2025-06-14T15:00:14.590693",
     "status": "completed"
    },
    "tags": []
   },
   "outputs": [],
   "source": [
    "user_course = combine_data[['user_id','course_id']]\n",
    "del combine_data\n",
    "combine_data = pd.merge(user_course,new_df,on='course_id',how='left')\n",
    "combine_data = pd.merge(combine_data,user_interact,on=['user_id','course_id'],how='left')"
   ]
  },
  {
   "cell_type": "code",
   "execution_count": null,
   "id": "c702e9b7",
   "metadata": {
    "papermill": {
     "duration": 0.052144,
     "end_time": "2025-06-14T15:00:38.682064",
     "exception": false,
     "start_time": "2025-06-14T15:00:38.629920",
     "status": "completed"
    },
    "tags": []
   },
   "outputs": [],
   "source": []
  },
  {
   "cell_type": "code",
   "execution_count": 45,
   "id": "390473e0",
   "metadata": {
    "execution": {
     "iopub.execute_input": "2025-06-14T15:00:38.787591Z",
     "iopub.status.busy": "2025-06-14T15:00:38.787285Z",
     "iopub.status.idle": "2025-06-14T15:00:47.445905Z",
     "shell.execute_reply": "2025-06-14T15:00:47.445103Z"
    },
    "papermill": {
     "duration": 8.713668,
     "end_time": "2025-06-14T15:00:47.447465",
     "exception": false,
     "start_time": "2025-06-14T15:00:38.733797",
     "status": "completed"
    },
    "tags": []
   },
   "outputs": [
    {
     "data": {
      "text/plain": [
       "user_id                    0.000000\n",
       "course_id                  0.000000\n",
       "course_name                0.000000\n",
       "course_prerequisites       0.000000\n",
       "course_about               0.000000\n",
       "course_field               0.000000\n",
       "video_id                   0.379174\n",
       "video_ccid                 0.379174\n",
       "video_duration             0.379174\n",
       "exercise_id                0.019379\n",
       "exercise_num_problem       0.019379\n",
       "concept_id                 0.589986\n",
       "concept_prerequisite       0.589986\n",
       "concept_name               0.589986\n",
       "concept_field              0.589986\n",
       "course_total_comments      0.000000\n",
       "school_id                  0.000000\n",
       "school_name                0.000000\n",
       "school_about               0.000000\n",
       "school_motto               0.000000\n",
       "teacher_id                 0.000000\n",
       "teacher_name               0.000000\n",
       "teacher_about              0.000000\n",
       "teacher_job_title          0.000000\n",
       "teacher_org_name           0.000000\n",
       "enroll_time                0.000000\n",
       "user_gender                0.000000\n",
       "watch_id                   0.999437\n",
       "total_watch_time           0.999437\n",
       "actual_watch_time          0.999437\n",
       "doing_exercise_id          0.996887\n",
       "doing_num_correct          0.996887\n",
       "user_course_num_comment    0.000000\n",
       "user_course_num_replies    0.000000\n",
       "dtype: float64"
      ]
     },
     "execution_count": 45,
     "metadata": {},
     "output_type": "execute_result"
    }
   ],
   "source": [
    "combine_data.isnull().mean()"
   ]
  },
  {
   "cell_type": "code",
   "execution_count": 46,
   "id": "57764c7b",
   "metadata": {
    "execution": {
     "iopub.execute_input": "2025-06-14T15:00:47.557124Z",
     "iopub.status.busy": "2025-06-14T15:00:47.556752Z",
     "iopub.status.idle": "2025-06-14T15:01:19.809183Z",
     "shell.execute_reply": "2025-06-14T15:01:19.808420Z"
    },
    "papermill": {
     "duration": 32.309184,
     "end_time": "2025-06-14T15:01:19.811118",
     "exception": false,
     "start_time": "2025-06-14T15:00:47.501934",
     "status": "completed"
    },
    "tags": []
   },
   "outputs": [
    {
     "name": "stderr",
     "output_type": "stream",
     "text": [
      "<ipython-input-46-b69a6c86904d>:1: PerformanceWarning: \n",
      "your performance may suffer as PyTables will pickle object types that it cannot\n",
      "map directly to c-types [inferred_type->mixed,key->block1_values] [items->Index(['user_id', 'course_id', 'course_name', 'course_prerequisites',\n",
      "       'course_about', 'course_field', 'video_id', 'video_ccid',\n",
      "       'video_duration', 'exercise_id', 'exercise_num_problem', 'concept_id',\n",
      "       'concept_prerequisite', 'concept_name', 'concept_field', 'school_id',\n",
      "       'school_name', 'school_about', 'school_motto', 'teacher_id',\n",
      "       'teacher_name', 'teacher_about', 'teacher_job_title',\n",
      "       'teacher_org_name', 'watch_id', 'total_watch_time', 'actual_watch_time',\n",
      "       'doing_exercise_id', 'doing_num_correct'],\n",
      "      dtype='object')]\n",
      "\n",
      "  combine_data.to_hdf(\"data_ver5.h5\",key='df')\n"
     ]
    }
   ],
   "source": [
    "combine_data.to_hdf(\"data_ver5.h5\",key='df')"
   ]
  }
 ],
 "metadata": {
  "kaggle": {
   "accelerator": "gpu",
   "dataSources": [
    {
     "sourceId": 244640082,
     "sourceType": "kernelVersion"
    }
   ],
   "dockerImageVersionId": 30886,
   "isGpuEnabled": true,
   "isInternetEnabled": true,
   "language": "python",
   "sourceType": "notebook"
  },
  "kernelspec": {
   "display_name": "Python 3",
   "language": "python",
   "name": "python3"
  },
  "language_info": {
   "codemirror_mode": {
    "name": "ipython",
    "version": 3
   },
   "file_extension": ".py",
   "mimetype": "text/x-python",
   "name": "python",
   "nbconvert_exporter": "python",
   "pygments_lexer": "ipython3",
   "version": "3.10.12"
  },
  "papermill": {
   "default_parameters": {},
   "duration": 301.832648,
   "end_time": "2025-06-14T15:01:22.986458",
   "environment_variables": {},
   "exception": null,
   "input_path": "__notebook__.ipynb",
   "output_path": "__notebook__.ipynb",
   "parameters": {},
   "start_time": "2025-06-14T14:56:21.153810",
   "version": "2.6.0"
  }
 },
 "nbformat": 4,
 "nbformat_minor": 5
}
