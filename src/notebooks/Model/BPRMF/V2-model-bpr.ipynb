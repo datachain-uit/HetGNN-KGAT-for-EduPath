{
 "cells": [
  {
   "cell_type": "code",
   "execution_count": 1,
   "id": "1f43de5f",
   "metadata": {
    "_cell_guid": "b1076dfc-b9ad-4769-8c92-a6c4dae69d19",
    "_uuid": "8f2839f25d086af736a60e9eeb907d3b93b6e0e5",
    "execution": {
     "iopub.execute_input": "2025-07-26T00:13:49.370278Z",
     "iopub.status.busy": "2025-07-26T00:13:49.369771Z",
     "iopub.status.idle": "2025-07-26T00:13:50.529824Z",
     "shell.execute_reply": "2025-07-26T00:13:50.528221Z"
    },
    "papermill": {
     "duration": 1.173451,
     "end_time": "2025-07-26T00:13:50.531982",
     "exception": false,
     "start_time": "2025-07-26T00:13:49.358531",
     "status": "completed"
    },
    "tags": []
   },
   "outputs": [
    {
     "name": "stdout",
     "output_type": "stream",
     "text": [
      "/kaggle/input/dataver2-train-test/__results__.html\n",
      "/kaggle/input/dataver2-train-test/data_ver2.h5\n",
      "/kaggle/input/dataver2-train-test/__notebook__.ipynb\n",
      "/kaggle/input/dataver2-train-test/__output__.json\n",
      "/kaggle/input/dataver2-train-test/custom.css\n",
      "/kaggle/input/dataver3/dataver3.h5\n",
      "/kaggle/input/dataver3/__results__.html\n",
      "/kaggle/input/dataver3/__notebook__.ipynb\n",
      "/kaggle/input/dataver3/__output__.json\n",
      "/kaggle/input/dataver3/custom.css\n",
      "/kaggle/input/dataver5/__results__.html\n",
      "/kaggle/input/dataver5/__huggingface_repos__.json\n",
      "/kaggle/input/dataver5/__notebook__.ipynb\n",
      "/kaggle/input/dataver5/data_ver5.h5\n",
      "/kaggle/input/dataver5/__output__.json\n",
      "/kaggle/input/dataver5/custom.css\n",
      "/kaggle/input/dataset-version-3/dataver3.h5\n",
      "/kaggle/input/random-user/sample_user.csv\n",
      "/kaggle/input/random-user/__results__.html\n",
      "/kaggle/input/random-user/__notebook__.ipynb\n",
      "/kaggle/input/random-user/__output__.json\n",
      "/kaggle/input/random-user/custom.css\n",
      "/kaggle/input/dataver2/__results__.html\n",
      "/kaggle/input/dataver2/data_ver2.h5\n",
      "/kaggle/input/dataver2/__notebook__.ipynb\n",
      "/kaggle/input/dataver2/__output__.json\n",
      "/kaggle/input/dataver2/custom.css\n",
      "/kaggle/input/combine-dataset/__results__.html\n",
      "/kaggle/input/combine-dataset/combine_data.h5\n",
      "/kaggle/input/combine-dataset/__notebook__.ipynb\n",
      "/kaggle/input/combine-dataset/__output__.json\n",
      "/kaggle/input/combine-dataset/custom.css\n",
      "/kaggle/input/preprocessing-user-json/user.csv\n",
      "/kaggle/input/preprocessing-user-json/__results__.html\n",
      "/kaggle/input/preprocessing-user-json/user-5-100.csv\n",
      "/kaggle/input/preprocessing-user-json/__notebook__.ipynb\n",
      "/kaggle/input/preprocessing-user-json/__output__.json\n",
      "/kaggle/input/preprocessing-user-json/user-course.csv\n",
      "/kaggle/input/preprocessing-user-json/custom.css\n",
      "/kaggle/input/dataver4/__results__.html\n",
      "/kaggle/input/dataver4/__huggingface_repos__.json\n",
      "/kaggle/input/dataver4/dataver4.h5\n",
      "/kaggle/input/dataver4/__notebook__.ipynb\n",
      "/kaggle/input/dataver4/__output__.json\n",
      "/kaggle/input/dataver4/custom.css\n",
      "/kaggle/input/preprocessing-course-json/course.json\n",
      "/kaggle/input/preprocessing-course-json/__results__.html\n",
      "/kaggle/input/preprocessing-course-json/__notebook__.ipynb\n",
      "/kaggle/input/preprocessing-course-json/__output__.json\n",
      "/kaggle/input/preprocessing-course-json/custom.css\n"
     ]
    }
   ],
   "source": [
    "# This Python 3 environment comes with many helpful analytics libraries installed\n",
    "# It is defined by the kaggle/python Docker image: https://github.com/kaggle/docker-python\n",
    "# For example, here's several helpful packages to load\n",
    "\n",
    "import numpy as np # linear algebra\n",
    "import pandas as pd # data processing, CSV file I/O (e.g. pd.read_csv)\n",
    "import time\n",
    "from tqdm import tqdm\n",
    "# Input data files are available in the read-only \"../input/\" directory\n",
    "# For example, running this (by clicking run or pressing Shift+Enter) will list all files under the input directory\n",
    "\n",
    "import os\n",
    "for dirname, _, filenames in os.walk('/kaggle/input'):\n",
    "    for filename in filenames:\n",
    "        print(os.path.join(dirname, filename))\n",
    "\n",
    "# You can write up to 20GB to the current directory (/kaggle/working/) that gets preserved as output when you create a version using \"Save & Run All\" \n",
    "# You can also write temporary files to /kaggle/temp/, but they won't be saved outside of the current session"
   ]
  },
  {
   "cell_type": "code",
   "execution_count": 2,
   "id": "94d43fc8",
   "metadata": {
    "execution": {
     "iopub.execute_input": "2025-07-26T00:13:50.553032Z",
     "iopub.status.busy": "2025-07-26T00:13:50.552492Z",
     "iopub.status.idle": "2025-07-26T00:13:50.557143Z",
     "shell.execute_reply": "2025-07-26T00:13:50.555994Z"
    },
    "papermill": {
     "duration": 0.017412,
     "end_time": "2025-07-26T00:13:50.558837",
     "exception": false,
     "start_time": "2025-07-26T00:13:50.541425",
     "status": "completed"
    },
    "tags": []
   },
   "outputs": [],
   "source": [
    "i=1\n",
    "path=[\n",
    "    \"/kaggle/input/combine-dataset/combine_data.h5\",\n",
    "    \"/kaggle/input/dataver2-train-test/data_ver2.h5\",\n",
    "    \"/kaggle/input/dataver3/dataver3.h5\",\n",
    "    \"/kaggle/input/dataver4/dataver4.h5\",\n",
    "    \"/kaggle/input/dataver5/data_ver5.h5\"\n",
    "     ]"
   ]
  },
  {
   "cell_type": "code",
   "execution_count": 3,
   "id": "b45521a3",
   "metadata": {
    "execution": {
     "iopub.execute_input": "2025-07-26T00:13:50.578217Z",
     "iopub.status.busy": "2025-07-26T00:13:50.577870Z",
     "iopub.status.idle": "2025-07-26T00:15:50.885021Z",
     "shell.execute_reply": "2025-07-26T00:15:50.882674Z"
    },
    "papermill": {
     "duration": 120.321362,
     "end_time": "2025-07-26T00:15:50.889290",
     "exception": false,
     "start_time": "2025-07-26T00:13:50.567928",
     "status": "completed"
    },
    "tags": []
   },
   "outputs": [],
   "source": [
    "%%capture\n",
    "! pip install tensorflow==2.12.0\n",
    "! pip install -U LibRecommender"
   ]
  },
  {
   "cell_type": "code",
   "execution_count": 4,
   "id": "b2829bbf",
   "metadata": {
    "execution": {
     "iopub.execute_input": "2025-07-26T00:15:50.913697Z",
     "iopub.status.busy": "2025-07-26T00:15:50.913291Z",
     "iopub.status.idle": "2025-07-26T00:16:02.469145Z",
     "shell.execute_reply": "2025-07-26T00:16:02.467916Z"
    },
    "papermill": {
     "duration": 11.569211,
     "end_time": "2025-07-26T00:16:02.471433",
     "exception": false,
     "start_time": "2025-07-26T00:15:50.902222",
     "status": "completed"
    },
    "tags": []
   },
   "outputs": [],
   "source": [
    "import numpy as np\n",
    "import pandas as pd\n",
    "from libreco.data import split_by_num_chrono, DatasetFeat\n",
    "\n",
    "\n",
    "item_data = pd.read_json(\"/kaggle/input/preprocessing-course-json/course.json\", lines=True)\n",
    "user_item_data = pd.read_csv(\"/kaggle/input/preprocessing-user-json/user-course.csv\")\n",
    "user_data = pd.read_csv(\"/kaggle/input/preprocessing-user-json/user-5-100.csv\")"
   ]
  },
  {
   "cell_type": "code",
   "execution_count": 5,
   "id": "3ddf1891",
   "metadata": {
    "execution": {
     "iopub.execute_input": "2025-07-26T00:16:02.491660Z",
     "iopub.status.busy": "2025-07-26T00:16:02.491234Z",
     "iopub.status.idle": "2025-07-26T00:18:08.817695Z",
     "shell.execute_reply": "2025-07-26T00:18:08.816340Z"
    },
    "papermill": {
     "duration": 126.350826,
     "end_time": "2025-07-26T00:18:08.831802",
     "exception": false,
     "start_time": "2025-07-26T00:16:02.480976",
     "status": "completed"
    },
    "tags": []
   },
   "outputs": [
    {
     "data": {
      "text/html": [
       "<div>\n",
       "<style scoped>\n",
       "    .dataframe tbody tr th:only-of-type {\n",
       "        vertical-align: middle;\n",
       "    }\n",
       "\n",
       "    .dataframe tbody tr th {\n",
       "        vertical-align: top;\n",
       "    }\n",
       "\n",
       "    .dataframe thead th {\n",
       "        text-align: right;\n",
       "    }\n",
       "</style>\n",
       "<table border=\"1\" class=\"dataframe\">\n",
       "  <thead>\n",
       "    <tr style=\"text-align: right;\">\n",
       "      <th></th>\n",
       "      <th>user_id</th>\n",
       "      <th>course_id</th>\n",
       "      <th>enroll_time</th>\n",
       "      <th>course_name</th>\n",
       "      <th>course_prerequisites</th>\n",
       "      <th>course_about</th>\n",
       "      <th>school_id</th>\n",
       "      <th>school_name</th>\n",
       "      <th>school_about</th>\n",
       "      <th>school_motto</th>\n",
       "      <th>...</th>\n",
       "      <th>teacher_org_name</th>\n",
       "      <th>user_gender</th>\n",
       "      <th>exercise_id</th>\n",
       "      <th>exercise_num_problem</th>\n",
       "      <th>course_total_comments</th>\n",
       "      <th>user_course_num_comment</th>\n",
       "      <th>user_course_num_replies</th>\n",
       "      <th>video_id</th>\n",
       "      <th>video_ccid</th>\n",
       "      <th>video_duration</th>\n",
       "    </tr>\n",
       "  </thead>\n",
       "  <tbody>\n",
       "    <tr>\n",
       "      <th>0</th>\n",
       "      <td>U_1000129</td>\n",
       "      <td>C_735210</td>\n",
       "      <td>1599328511</td>\n",
       "      <td>university physics-electromagnetism (teaching ...</td>\n",
       "      <td>calculus newtonian mechanics</td>\n",
       "      <td>physics, explore the laws of nature, and pursu...</td>\n",
       "      <td>[S_148]</td>\n",
       "      <td>[yunnan university]</td>\n",
       "      <td>[yunnan university abbreviated yunnan universi...</td>\n",
       "      <td>[unknown]</td>\n",
       "      <td>...</td>\n",
       "      <td>[yunnan university]</td>\n",
       "      <td>0</td>\n",
       "      <td>[Ex_635488, Ex_635480, Ex_635544, Ex_635491, E...</td>\n",
       "      <td>[5, 4, 2, 4, 7, 5, 5, 1, 6, 2, 5, 2, 1, 7, 3, ...</td>\n",
       "      <td>461</td>\n",
       "      <td>0</td>\n",
       "      <td>0</td>\n",
       "      <td>[V_635512, V_635472, V_635516, V_635495, V_635...</td>\n",
       "      <td>[196B00DFA5515EB09C33DC5901307461, 1974570A080...</td>\n",
       "      <td>[889.363, 578.897, 404.653, 686.529, 429.572, ...</td>\n",
       "    </tr>\n",
       "    <tr>\n",
       "      <th>1</th>\n",
       "      <td>U_1000129</td>\n",
       "      <td>C_799796</td>\n",
       "      <td>1599328642</td>\n",
       "      <td>university physics 1 (mechanics, thermal)</td>\n",
       "      <td>no prerequisite</td>\n",
       "      <td>university physics is a basic physics course f...</td>\n",
       "      <td>[S_1]</td>\n",
       "      <td>[tsinghua university]</td>\n",
       "      <td>[referred tsinghua short directly ministry edu...</td>\n",
       "      <td>[selfimprovement virtue carry thing]</td>\n",
       "      <td>...</td>\n",
       "      <td>[tsinghua university, tsinghua university, tsi...</td>\n",
       "      <td>0</td>\n",
       "      <td>[Ex_822309, Ex_822340, Ex_822311, Ex_822327, E...</td>\n",
       "      <td>[4, 23, 7, 4, 5, 6, 10, 1, 8, 3, 5, 4, 4, 4, 1...</td>\n",
       "      <td>448</td>\n",
       "      <td>0</td>\n",
       "      <td>0</td>\n",
       "      <td>[V_822227, V_822159, V_822282, V_822255, V_822...</td>\n",
       "      <td>[009035DB2BED87229C33DC5901307461, 015AC6C3159...</td>\n",
       "      <td>[237.67, 582.588, 405.612, 157.22, 392.304, 45...</td>\n",
       "    </tr>\n",
       "    <tr>\n",
       "      <th>2</th>\n",
       "      <td>U_1000129</td>\n",
       "      <td>C_1925903</td>\n",
       "      <td>1599403037</td>\n",
       "      <td>mathematical analysis ii</td>\n",
       "      <td>mathematical analysis i</td>\n",
       "      <td>the mooc course in mathematical analysis ii ma...</td>\n",
       "      <td>[S_76]</td>\n",
       "      <td>[beijing jiaotong university]</td>\n",
       "      <td>[beijing jiaotong university national key univ...</td>\n",
       "      <td>[unknown]</td>\n",
       "      <td>...</td>\n",
       "      <td>[beijing jiaotong university]</td>\n",
       "      <td>0</td>\n",
       "      <td>[Ex_6731684, Ex_6729452, Ex_6729437, Ex_672939...</td>\n",
       "      <td>[4, 1, 10, 5, 3, 7, 5, 1, 1, 7, 7, 7, 1, 6, 2,...</td>\n",
       "      <td>1</td>\n",
       "      <td>0</td>\n",
       "      <td>0</td>\n",
       "      <td>NaN</td>\n",
       "      <td>NaN</td>\n",
       "      <td>NaN</td>\n",
       "    </tr>\n",
       "    <tr>\n",
       "      <th>3</th>\n",
       "      <td>U_1000129</td>\n",
       "      <td>C_1992970</td>\n",
       "      <td>1599403537</td>\n",
       "      <td>mathematical analysis iii</td>\n",
       "      <td>no prerequisite</td>\n",
       "      <td>the mooc course of mathematical analysis iii c...</td>\n",
       "      <td>[S_76]</td>\n",
       "      <td>[beijing jiaotong university]</td>\n",
       "      <td>[beijing jiaotong university national key univ...</td>\n",
       "      <td>[unknown]</td>\n",
       "      <td>...</td>\n",
       "      <td>[beijing jiaotong university]</td>\n",
       "      <td>0</td>\n",
       "      <td>[Ex_6882416, Ex_6882349, Ex_6882375, Ex_688239...</td>\n",
       "      <td>[8, 4, 6, 4, 6, 5, 6, 5, 5, 5, 6, 6, 6, 6, 6, ...</td>\n",
       "      <td>4</td>\n",
       "      <td>0</td>\n",
       "      <td>0</td>\n",
       "      <td>NaN</td>\n",
       "      <td>NaN</td>\n",
       "      <td>NaN</td>\n",
       "    </tr>\n",
       "    <tr>\n",
       "      <th>4</th>\n",
       "      <td>U_1000129</td>\n",
       "      <td>C_680884</td>\n",
       "      <td>1602844869</td>\n",
       "      <td>complex function</td>\n",
       "      <td>no prerequisite</td>\n",
       "      <td>let students master the mathematical theoretic...</td>\n",
       "      <td>[S_31]</td>\n",
       "      <td>[xian jiaotong university]</td>\n",
       "      <td>[xian jiaotong university referred xian jiaoto...</td>\n",
       "      <td>[diligent study righteous inspiring perseveran...</td>\n",
       "      <td>...</td>\n",
       "      <td>[xian jiaotong university, xian jiaotong unive...</td>\n",
       "      <td>0</td>\n",
       "      <td>[Ex_136594, Ex_136559, Ex_136574, Ex_136545, E...</td>\n",
       "      <td>[13, 15, 14, 15, 14, 16]</td>\n",
       "      <td>42</td>\n",
       "      <td>0</td>\n",
       "      <td>0</td>\n",
       "      <td>NaN</td>\n",
       "      <td>NaN</td>\n",
       "      <td>NaN</td>\n",
       "    </tr>\n",
       "    <tr>\n",
       "      <th>...</th>\n",
       "      <td>...</td>\n",
       "      <td>...</td>\n",
       "      <td>...</td>\n",
       "      <td>...</td>\n",
       "      <td>...</td>\n",
       "      <td>...</td>\n",
       "      <td>...</td>\n",
       "      <td>...</td>\n",
       "      <td>...</td>\n",
       "      <td>...</td>\n",
       "      <td>...</td>\n",
       "      <td>...</td>\n",
       "      <td>...</td>\n",
       "      <td>...</td>\n",
       "      <td>...</td>\n",
       "      <td>...</td>\n",
       "      <td>...</td>\n",
       "      <td>...</td>\n",
       "      <td>...</td>\n",
       "      <td>...</td>\n",
       "      <td>...</td>\n",
       "    </tr>\n",
       "    <tr>\n",
       "      <th>7267285</th>\n",
       "      <td>U_999500</td>\n",
       "      <td>C_680931</td>\n",
       "      <td>1586572793</td>\n",
       "      <td>social statistics analysis based on r language</td>\n",
       "      <td>no prerequisite</td>\n",
       "      <td>suffering from mathematical phobia? feeling at...</td>\n",
       "      <td>[S_1]</td>\n",
       "      <td>[tsinghua university]</td>\n",
       "      <td>[referred tsinghua short directly ministry edu...</td>\n",
       "      <td>[selfimprovement virtue carry thing]</td>\n",
       "      <td>...</td>\n",
       "      <td>[tsinghua university]</td>\n",
       "      <td>2</td>\n",
       "      <td>[Ex_141819, Ex_141825, Ex_141814, Ex_141831, E...</td>\n",
       "      <td>[5, 5, 4, 5, 5, 5, 5, 5, 5, 5]</td>\n",
       "      <td>29</td>\n",
       "      <td>0</td>\n",
       "      <td>0</td>\n",
       "      <td>[V_141823, V_141811, V_141833, V_141815, V_141...</td>\n",
       "      <td>[026313D8EC07E23D9C33DC5901307461, 05C92A6D2B8...</td>\n",
       "      <td>[824.16, 530.24, 1343.9, 275.76, 883.82, 593.6...</td>\n",
       "    </tr>\n",
       "    <tr>\n",
       "      <th>7267286</th>\n",
       "      <td>U_999821</td>\n",
       "      <td>C_1774965</td>\n",
       "      <td>1588442049</td>\n",
       "      <td>financial english</td>\n",
       "      <td>no prerequisite</td>\n",
       "      <td>the  course is aimed to help senior or graduat...</td>\n",
       "      <td>[S_144]</td>\n",
       "      <td>[shandong university]</td>\n",
       "      <td>[shandong university directly ministry educati...</td>\n",
       "      <td>[unknown]</td>\n",
       "      <td>...</td>\n",
       "      <td>[shandong university]</td>\n",
       "      <td>0</td>\n",
       "      <td>[Ex_4884886, Ex_4884913, Ex_4884876, Ex_4884922]</td>\n",
       "      <td>[15, 15, 15, 10]</td>\n",
       "      <td>4</td>\n",
       "      <td>0</td>\n",
       "      <td>0</td>\n",
       "      <td>NaN</td>\n",
       "      <td>NaN</td>\n",
       "      <td>NaN</td>\n",
       "    </tr>\n",
       "    <tr>\n",
       "      <th>7267287</th>\n",
       "      <td>U_999845</td>\n",
       "      <td>C_682759</td>\n",
       "      <td>1573404727</td>\n",
       "      <td>advanced java programming</td>\n",
       "      <td>this course requires a basic java programming</td>\n",
       "      <td>the content of this course mainly includes jav...</td>\n",
       "      <td>[S_1]</td>\n",
       "      <td>[tsinghua university]</td>\n",
       "      <td>[referred tsinghua short directly ministry edu...</td>\n",
       "      <td>[selfimprovement virtue carry thing]</td>\n",
       "      <td>...</td>\n",
       "      <td>[tsinghua university]</td>\n",
       "      <td>1</td>\n",
       "      <td>[Ex_394597, Ex_394599, Ex_394598, Ex_394600]</td>\n",
       "      <td>[5, 1, 3, 1]</td>\n",
       "      <td>41</td>\n",
       "      <td>0</td>\n",
       "      <td>0</td>\n",
       "      <td>[V_394606, V_394594, V_394641, V_394613, V_394...</td>\n",
       "      <td>[05308C819BD8DF5B9C33DC5901307461, 085ED554A55...</td>\n",
       "      <td>[976.653, 293.433, 1624.946, 524.186, 55.034, ...</td>\n",
       "    </tr>\n",
       "    <tr>\n",
       "      <th>7267288</th>\n",
       "      <td>U_999856</td>\n",
       "      <td>C_948468</td>\n",
       "      <td>1583083695</td>\n",
       "      <td>python big data analysis</td>\n",
       "      <td>no prerequisite</td>\n",
       "      <td>python is a basic language that computer major...</td>\n",
       "      <td>[S_144]</td>\n",
       "      <td>[shandong university]</td>\n",
       "      <td>[shandong university directly ministry educati...</td>\n",
       "      <td>[unknown]</td>\n",
       "      <td>...</td>\n",
       "      <td>[shandong university, shandong university, sha...</td>\n",
       "      <td>0</td>\n",
       "      <td>[Ex_3881163, Ex_3881157, Ex_3498339, Ex_388116...</td>\n",
       "      <td>[6, 9, 5, 4, 10, 6, 26, 19, 13, 9, 14, 15]</td>\n",
       "      <td>879</td>\n",
       "      <td>0</td>\n",
       "      <td>0</td>\n",
       "      <td>NaN</td>\n",
       "      <td>NaN</td>\n",
       "      <td>NaN</td>\n",
       "    </tr>\n",
       "    <tr>\n",
       "      <th>7267289</th>\n",
       "      <td>U_99996</td>\n",
       "      <td>C_948432</td>\n",
       "      <td>1578692384</td>\n",
       "      <td>advanced power system analysis</td>\n",
       "      <td>no prerequisite</td>\n",
       "      <td>this course explains in detail network equatio...</td>\n",
       "      <td>[S_117]</td>\n",
       "      <td>[north china electric power university]</td>\n",
       "      <td>[north china electric power university nationa...</td>\n",
       "      <td>[unity diligence practicality innovation]</td>\n",
       "      <td>...</td>\n",
       "      <td>[north china electric power university]</td>\n",
       "      <td>1</td>\n",
       "      <td>[Ex_1484783, Ex_1484777, Ex_1484756, Ex_148479...</td>\n",
       "      <td>[19, 21, 25, 14, 18, 16, 16, 26, 18, 14, 48]</td>\n",
       "      <td>29</td>\n",
       "      <td>0</td>\n",
       "      <td>0</td>\n",
       "      <td>NaN</td>\n",
       "      <td>NaN</td>\n",
       "      <td>NaN</td>\n",
       "    </tr>\n",
       "  </tbody>\n",
       "</table>\n",
       "<p>7267290 rows × 24 columns</p>\n",
       "</div>"
      ],
      "text/plain": [
       "           user_id  course_id  enroll_time  \\\n",
       "0        U_1000129   C_735210   1599328511   \n",
       "1        U_1000129   C_799796   1599328642   \n",
       "2        U_1000129  C_1925903   1599403037   \n",
       "3        U_1000129  C_1992970   1599403537   \n",
       "4        U_1000129   C_680884   1602844869   \n",
       "...            ...        ...          ...   \n",
       "7267285   U_999500   C_680931   1586572793   \n",
       "7267286   U_999821  C_1774965   1588442049   \n",
       "7267287   U_999845   C_682759   1573404727   \n",
       "7267288   U_999856   C_948468   1583083695   \n",
       "7267289    U_99996   C_948432   1578692384   \n",
       "\n",
       "                                               course_name  \\\n",
       "0        university physics-electromagnetism (teaching ...   \n",
       "1                university physics 1 (mechanics, thermal)   \n",
       "2                                 mathematical analysis ii   \n",
       "3                                mathematical analysis iii   \n",
       "4                                         complex function   \n",
       "...                                                    ...   \n",
       "7267285     social statistics analysis based on r language   \n",
       "7267286                                  financial english   \n",
       "7267287                          advanced java programming   \n",
       "7267288                           python big data analysis   \n",
       "7267289                     advanced power system analysis   \n",
       "\n",
       "                                  course_prerequisites  \\\n",
       "0                         calculus newtonian mechanics   \n",
       "1                                      no prerequisite   \n",
       "2                              mathematical analysis i   \n",
       "3                                      no prerequisite   \n",
       "4                                      no prerequisite   \n",
       "...                                                ...   \n",
       "7267285                                no prerequisite   \n",
       "7267286                                no prerequisite   \n",
       "7267287  this course requires a basic java programming   \n",
       "7267288                                no prerequisite   \n",
       "7267289                                no prerequisite   \n",
       "\n",
       "                                              course_about school_id  \\\n",
       "0        physics, explore the laws of nature, and pursu...   [S_148]   \n",
       "1        university physics is a basic physics course f...     [S_1]   \n",
       "2        the mooc course in mathematical analysis ii ma...    [S_76]   \n",
       "3        the mooc course of mathematical analysis iii c...    [S_76]   \n",
       "4        let students master the mathematical theoretic...    [S_31]   \n",
       "...                                                    ...       ...   \n",
       "7267285  suffering from mathematical phobia? feeling at...     [S_1]   \n",
       "7267286  the  course is aimed to help senior or graduat...   [S_144]   \n",
       "7267287  the content of this course mainly includes jav...     [S_1]   \n",
       "7267288  python is a basic language that computer major...   [S_144]   \n",
       "7267289  this course explains in detail network equatio...   [S_117]   \n",
       "\n",
       "                                     school_name  \\\n",
       "0                            [yunnan university]   \n",
       "1                          [tsinghua university]   \n",
       "2                  [beijing jiaotong university]   \n",
       "3                  [beijing jiaotong university]   \n",
       "4                     [xian jiaotong university]   \n",
       "...                                          ...   \n",
       "7267285                    [tsinghua university]   \n",
       "7267286                    [shandong university]   \n",
       "7267287                    [tsinghua university]   \n",
       "7267288                    [shandong university]   \n",
       "7267289  [north china electric power university]   \n",
       "\n",
       "                                              school_about  \\\n",
       "0        [yunnan university abbreviated yunnan universi...   \n",
       "1        [referred tsinghua short directly ministry edu...   \n",
       "2        [beijing jiaotong university national key univ...   \n",
       "3        [beijing jiaotong university national key univ...   \n",
       "4        [xian jiaotong university referred xian jiaoto...   \n",
       "...                                                    ...   \n",
       "7267285  [referred tsinghua short directly ministry edu...   \n",
       "7267286  [shandong university directly ministry educati...   \n",
       "7267287  [referred tsinghua short directly ministry edu...   \n",
       "7267288  [shandong university directly ministry educati...   \n",
       "7267289  [north china electric power university nationa...   \n",
       "\n",
       "                                              school_motto  ...  \\\n",
       "0                                                [unknown]  ...   \n",
       "1                     [selfimprovement virtue carry thing]  ...   \n",
       "2                                                [unknown]  ...   \n",
       "3                                                [unknown]  ...   \n",
       "4        [diligent study righteous inspiring perseveran...  ...   \n",
       "...                                                    ...  ...   \n",
       "7267285               [selfimprovement virtue carry thing]  ...   \n",
       "7267286                                          [unknown]  ...   \n",
       "7267287               [selfimprovement virtue carry thing]  ...   \n",
       "7267288                                          [unknown]  ...   \n",
       "7267289          [unity diligence practicality innovation]  ...   \n",
       "\n",
       "                                          teacher_org_name user_gender  \\\n",
       "0                                      [yunnan university]           0   \n",
       "1        [tsinghua university, tsinghua university, tsi...           0   \n",
       "2                            [beijing jiaotong university]           0   \n",
       "3                            [beijing jiaotong university]           0   \n",
       "4        [xian jiaotong university, xian jiaotong unive...           0   \n",
       "...                                                    ...         ...   \n",
       "7267285                              [tsinghua university]           2   \n",
       "7267286                              [shandong university]           0   \n",
       "7267287                              [tsinghua university]           1   \n",
       "7267288  [shandong university, shandong university, sha...           0   \n",
       "7267289            [north china electric power university]           1   \n",
       "\n",
       "                                               exercise_id  \\\n",
       "0        [Ex_635488, Ex_635480, Ex_635544, Ex_635491, E...   \n",
       "1        [Ex_822309, Ex_822340, Ex_822311, Ex_822327, E...   \n",
       "2        [Ex_6731684, Ex_6729452, Ex_6729437, Ex_672939...   \n",
       "3        [Ex_6882416, Ex_6882349, Ex_6882375, Ex_688239...   \n",
       "4        [Ex_136594, Ex_136559, Ex_136574, Ex_136545, E...   \n",
       "...                                                    ...   \n",
       "7267285  [Ex_141819, Ex_141825, Ex_141814, Ex_141831, E...   \n",
       "7267286   [Ex_4884886, Ex_4884913, Ex_4884876, Ex_4884922]   \n",
       "7267287       [Ex_394597, Ex_394599, Ex_394598, Ex_394600]   \n",
       "7267288  [Ex_3881163, Ex_3881157, Ex_3498339, Ex_388116...   \n",
       "7267289  [Ex_1484783, Ex_1484777, Ex_1484756, Ex_148479...   \n",
       "\n",
       "                                      exercise_num_problem  \\\n",
       "0        [5, 4, 2, 4, 7, 5, 5, 1, 6, 2, 5, 2, 1, 7, 3, ...   \n",
       "1        [4, 23, 7, 4, 5, 6, 10, 1, 8, 3, 5, 4, 4, 4, 1...   \n",
       "2        [4, 1, 10, 5, 3, 7, 5, 1, 1, 7, 7, 7, 1, 6, 2,...   \n",
       "3        [8, 4, 6, 4, 6, 5, 6, 5, 5, 5, 6, 6, 6, 6, 6, ...   \n",
       "4                                 [13, 15, 14, 15, 14, 16]   \n",
       "...                                                    ...   \n",
       "7267285                     [5, 5, 4, 5, 5, 5, 5, 5, 5, 5]   \n",
       "7267286                                   [15, 15, 15, 10]   \n",
       "7267287                                       [5, 1, 3, 1]   \n",
       "7267288         [6, 9, 5, 4, 10, 6, 26, 19, 13, 9, 14, 15]   \n",
       "7267289       [19, 21, 25, 14, 18, 16, 16, 26, 18, 14, 48]   \n",
       "\n",
       "        course_total_comments  user_course_num_comment  \\\n",
       "0                         461                        0   \n",
       "1                         448                        0   \n",
       "2                           1                        0   \n",
       "3                           4                        0   \n",
       "4                          42                        0   \n",
       "...                       ...                      ...   \n",
       "7267285                    29                        0   \n",
       "7267286                     4                        0   \n",
       "7267287                    41                        0   \n",
       "7267288                   879                        0   \n",
       "7267289                    29                        0   \n",
       "\n",
       "        user_course_num_replies  \\\n",
       "0                             0   \n",
       "1                             0   \n",
       "2                             0   \n",
       "3                             0   \n",
       "4                             0   \n",
       "...                         ...   \n",
       "7267285                       0   \n",
       "7267286                       0   \n",
       "7267287                       0   \n",
       "7267288                       0   \n",
       "7267289                       0   \n",
       "\n",
       "                                                  video_id  \\\n",
       "0        [V_635512, V_635472, V_635516, V_635495, V_635...   \n",
       "1        [V_822227, V_822159, V_822282, V_822255, V_822...   \n",
       "2                                                      NaN   \n",
       "3                                                      NaN   \n",
       "4                                                      NaN   \n",
       "...                                                    ...   \n",
       "7267285  [V_141823, V_141811, V_141833, V_141815, V_141...   \n",
       "7267286                                                NaN   \n",
       "7267287  [V_394606, V_394594, V_394641, V_394613, V_394...   \n",
       "7267288                                                NaN   \n",
       "7267289                                                NaN   \n",
       "\n",
       "                                                video_ccid  \\\n",
       "0        [196B00DFA5515EB09C33DC5901307461, 1974570A080...   \n",
       "1        [009035DB2BED87229C33DC5901307461, 015AC6C3159...   \n",
       "2                                                      NaN   \n",
       "3                                                      NaN   \n",
       "4                                                      NaN   \n",
       "...                                                    ...   \n",
       "7267285  [026313D8EC07E23D9C33DC5901307461, 05C92A6D2B8...   \n",
       "7267286                                                NaN   \n",
       "7267287  [05308C819BD8DF5B9C33DC5901307461, 085ED554A55...   \n",
       "7267288                                                NaN   \n",
       "7267289                                                NaN   \n",
       "\n",
       "                                            video_duration  \n",
       "0        [889.363, 578.897, 404.653, 686.529, 429.572, ...  \n",
       "1        [237.67, 582.588, 405.612, 157.22, 392.304, 45...  \n",
       "2                                                      NaN  \n",
       "3                                                      NaN  \n",
       "4                                                      NaN  \n",
       "...                                                    ...  \n",
       "7267285  [824.16, 530.24, 1343.9, 275.76, 883.82, 593.6...  \n",
       "7267286                                                NaN  \n",
       "7267287  [976.653, 293.433, 1624.946, 524.186, 55.034, ...  \n",
       "7267288                                                NaN  \n",
       "7267289                                                NaN  \n",
       "\n",
       "[7267290 rows x 24 columns]"
      ]
     },
     "execution_count": 5,
     "metadata": {},
     "output_type": "execute_result"
    }
   ],
   "source": [
    "combine_data = pd.read_hdf(path[i], key='df')\n",
    "combine_data"
   ]
  },
  {
   "cell_type": "code",
   "execution_count": 6,
   "id": "dbb4e503",
   "metadata": {
    "execution": {
     "iopub.execute_input": "2025-07-26T00:18:08.853874Z",
     "iopub.status.busy": "2025-07-26T00:18:08.853311Z",
     "iopub.status.idle": "2025-07-26T00:18:08.860683Z",
     "shell.execute_reply": "2025-07-26T00:18:08.859493Z"
    },
    "papermill": {
     "duration": 0.020765,
     "end_time": "2025-07-26T00:18:08.862648",
     "exception": false,
     "start_time": "2025-07-26T00:18:08.841883",
     "status": "completed"
    },
    "tags": []
   },
   "outputs": [
    {
     "data": {
      "text/plain": [
       "Index(['user_id', 'course_id', 'enroll_time', 'course_name',\n",
       "       'course_prerequisites', 'course_about', 'school_id', 'school_name',\n",
       "       'school_about', 'school_motto', 'teacher_id', 'teacher_name',\n",
       "       'teacher_about', 'teacher_job_title', 'teacher_org_name', 'user_gender',\n",
       "       'exercise_id', 'exercise_num_problem', 'course_total_comments',\n",
       "       'user_course_num_comment', 'user_course_num_replies', 'video_id',\n",
       "       'video_ccid', 'video_duration'],\n",
       "      dtype='object')"
      ]
     },
     "execution_count": 6,
     "metadata": {},
     "output_type": "execute_result"
    }
   ],
   "source": [
    "combine_data.columns"
   ]
  },
  {
   "cell_type": "code",
   "execution_count": 7,
   "id": "38d1fbbe",
   "metadata": {
    "execution": {
     "iopub.execute_input": "2025-07-26T00:18:08.884122Z",
     "iopub.status.busy": "2025-07-26T00:18:08.883778Z",
     "iopub.status.idle": "2025-07-26T00:18:08.890933Z",
     "shell.execute_reply": "2025-07-26T00:18:08.889886Z"
    },
    "papermill": {
     "duration": 0.019968,
     "end_time": "2025-07-26T00:18:08.892957",
     "exception": false,
     "start_time": "2025-07-26T00:18:08.872989",
     "status": "completed"
    },
    "tags": []
   },
   "outputs": [],
   "source": [
    "import pandas as pd\n",
    "\n",
    "def filter_user_item_by_interactions(df, user_col='user_id', item_col='course_id', min_interactions=5):\n",
    "    \"\"\"\n",
    "    Lọc user và item có ít hơn `min_interactions` tương tác.\n",
    "    \n",
    "    Parameters:\n",
    "        df (pd.DataFrame): DataFrame đầu vào, chứa cột user và item.\n",
    "        user_col (str): Tên cột đại diện cho user.\n",
    "        item_col (str): Tên cột đại diện cho item (ví dụ: course).\n",
    "        min_interactions (int): Số tương tác tối thiểu.\n",
    "    \n",
    "    Returns:\n",
    "        pd.DataFrame: DataFrame đã được lọc.\n",
    "    \"\"\"\n",
    "    df_filtered = df.copy()\n",
    "    \n",
    "    while True:\n",
    "        user_counts = df_filtered[user_col].value_counts()\n",
    "        valid_users = user_counts[user_counts >= min_interactions].index\n",
    "        df_filtered = df_filtered[df_filtered[user_col].isin(valid_users)]\n",
    "\n",
    "        item_counts = df_filtered[item_col].value_counts()\n",
    "        valid_items = item_counts[item_counts >= min_interactions].index\n",
    "        df_filtered = df_filtered[df_filtered[item_col].isin(valid_items)]\n",
    "\n",
    "        if (len(valid_users) == df_filtered[user_col].nunique() and\n",
    "            len(valid_items) == df_filtered[item_col].nunique()):\n",
    "            break\n",
    "    \n",
    "    return df_filtered\n"
   ]
  },
  {
   "cell_type": "code",
   "execution_count": 8,
   "id": "663ca5c7",
   "metadata": {
    "execution": {
     "iopub.execute_input": "2025-07-26T00:18:08.924290Z",
     "iopub.status.busy": "2025-07-26T00:18:08.923773Z",
     "iopub.status.idle": "2025-07-26T00:18:10.089672Z",
     "shell.execute_reply": "2025-07-26T00:18:10.088486Z"
    },
    "papermill": {
     "duration": 1.183398,
     "end_time": "2025-07-26T00:18:10.091995",
     "exception": false,
     "start_time": "2025-07-26T00:18:08.908597",
     "status": "completed"
    },
    "tags": []
   },
   "outputs": [],
   "source": [
    "sp_user = pd.read_csv(\"/kaggle/input/random-user/sample_user.csv\")\n",
    "combine_data = combine_data[combine_data['user_id'].isin(sp_user['user_id'])]\n",
    "# combine_data = filter_user_item_by_interactions(combine_data)"
   ]
  },
  {
   "cell_type": "code",
   "execution_count": 9,
   "id": "e567d545",
   "metadata": {
    "execution": {
     "iopub.execute_input": "2025-07-26T00:18:10.113159Z",
     "iopub.status.busy": "2025-07-26T00:18:10.112762Z",
     "iopub.status.idle": "2025-07-26T00:18:10.119206Z",
     "shell.execute_reply": "2025-07-26T00:18:10.118046Z"
    },
    "papermill": {
     "duration": 0.019378,
     "end_time": "2025-07-26T00:18:10.121364",
     "exception": false,
     "start_time": "2025-07-26T00:18:10.101986",
     "status": "completed"
    },
    "tags": []
   },
   "outputs": [],
   "source": [
    "def filter_user_item_interactions(df, user_col='user_id', item_col='course_id', min_interactions=5):\n",
    "    \"\"\"\n",
    "    Lọc bỏ các user và item có ít hơn `min_interactions` tương tác.\n",
    "\n",
    "    Args:\n",
    "        df (pd.DataFrame): DataFrame chứa tương tác user-item.\n",
    "        user_col (str): Tên cột user.\n",
    "        item_col (str): Tên cột item (course).\n",
    "        min_interactions (int): Số tương tác tối thiểu để giữ lại.\n",
    "\n",
    "    Returns:\n",
    "        pd.DataFrame: DataFrame đã được lọc.\n",
    "    \"\"\"\n",
    "    import pandas as pd\n",
    "\n",
    "    while True:\n",
    "        original_len = len(df)\n",
    "        \n",
    "        # Lọc user\n",
    "        user_counts = df[user_col].value_counts()\n",
    "        valid_users = user_counts[user_counts >= min_interactions].index\n",
    "        df = df[df[user_col].isin(valid_users)]\n",
    "\n",
    "        # Lọc item\n",
    "        item_counts = df[item_col].value_counts()\n",
    "        valid_items = item_counts[item_counts >= min_interactions].index\n",
    "        df = df[df[item_col].isin(valid_items)]\n",
    "\n",
    "        if len(df) == original_len:\n",
    "            break  # không còn gì để lọc nữa\n",
    "\n",
    "    return df.reset_index(drop=True)\n",
    "# combine_data=filter_user_item_interactions(combine_data)"
   ]
  },
  {
   "cell_type": "code",
   "execution_count": 10,
   "id": "61fb9982",
   "metadata": {
    "execution": {
     "iopub.execute_input": "2025-07-26T00:18:10.142906Z",
     "iopub.status.busy": "2025-07-26T00:18:10.142518Z",
     "iopub.status.idle": "2025-07-26T00:18:10.546502Z",
     "shell.execute_reply": "2025-07-26T00:18:10.545208Z"
    },
    "papermill": {
     "duration": 0.417246,
     "end_time": "2025-07-26T00:18:10.548615",
     "exception": false,
     "start_time": "2025-07-26T00:18:10.131369",
     "status": "completed"
    },
    "tags": []
   },
   "outputs": [],
   "source": [
    "item_data = combine_data[[\n",
    "    'course_id','course_name','course_prerequisites', 'course_about', \n",
    "    'school_id','teacher_id','video_duration','exercise_num_problem','course_total_comments']]\n",
    "item_data=item_data.groupby('course_id').first().reset_index()"
   ]
  },
  {
   "cell_type": "code",
   "execution_count": 11,
   "id": "83f02f08",
   "metadata": {
    "execution": {
     "iopub.execute_input": "2025-07-26T00:18:10.569963Z",
     "iopub.status.busy": "2025-07-26T00:18:10.569591Z",
     "iopub.status.idle": "2025-07-26T00:18:10.595358Z",
     "shell.execute_reply": "2025-07-26T00:18:10.594144Z"
    },
    "papermill": {
     "duration": 0.038317,
     "end_time": "2025-07-26T00:18:10.597129",
     "exception": false,
     "start_time": "2025-07-26T00:18:10.558812",
     "status": "completed"
    },
    "tags": []
   },
   "outputs": [
    {
     "data": {
      "text/html": [
       "<div>\n",
       "<style scoped>\n",
       "    .dataframe tbody tr th:only-of-type {\n",
       "        vertical-align: middle;\n",
       "    }\n",
       "\n",
       "    .dataframe tbody tr th {\n",
       "        vertical-align: top;\n",
       "    }\n",
       "\n",
       "    .dataframe thead th {\n",
       "        text-align: right;\n",
       "    }\n",
       "</style>\n",
       "<table border=\"1\" class=\"dataframe\">\n",
       "  <thead>\n",
       "    <tr style=\"text-align: right;\">\n",
       "      <th></th>\n",
       "      <th>course_id</th>\n",
       "      <th>course_name</th>\n",
       "      <th>course_prerequisites</th>\n",
       "      <th>course_about</th>\n",
       "      <th>school_id</th>\n",
       "      <th>teacher_id</th>\n",
       "      <th>video_duration</th>\n",
       "      <th>exercise_num_problem</th>\n",
       "      <th>course_total_comments</th>\n",
       "    </tr>\n",
       "  </thead>\n",
       "  <tbody>\n",
       "    <tr>\n",
       "      <th>0</th>\n",
       "      <td>C_1017355</td>\n",
       "      <td>introduction to traditional chinese medicine e...</td>\n",
       "      <td>the main subjects are college students who hav...</td>\n",
       "      <td>traditional chinese medicine culture - the tre...</td>\n",
       "      <td>[S_33]</td>\n",
       "      <td>[T_7970, T_7971, T_5826, T_7978, T_7979]</td>\n",
       "      <td>None</td>\n",
       "      <td>[5, 5, 5, 5, 5, 5, 5, 5, 5, 5, 5, 5, 5, 5, 5, ...</td>\n",
       "      <td>39624</td>\n",
       "    </tr>\n",
       "    <tr>\n",
       "      <th>1</th>\n",
       "      <td>C_1017419</td>\n",
       "      <td>smart government talk</td>\n",
       "      <td>no prerequisite</td>\n",
       "      <td>this course combines specific cases of traffic...</td>\n",
       "      <td>[S_52]</td>\n",
       "      <td>[T_7849, T_16199, T_16200, T_16201, T_16202, T...</td>\n",
       "      <td>None</td>\n",
       "      <td>[15, 15, 20, 15, 15, 15, 15, 16, 15]</td>\n",
       "      <td>609</td>\n",
       "    </tr>\n",
       "    <tr>\n",
       "      <th>2</th>\n",
       "      <td>C_1025064</td>\n",
       "      <td>principles of ideological and political education</td>\n",
       "      <td>no prerequisite</td>\n",
       "      <td>hello, dear classmate! do you want to know how...</td>\n",
       "      <td>[S_13]</td>\n",
       "      <td>[T_3915, T_3911, T_5426, T_5427, T_5429]</td>\n",
       "      <td>[466.575, 402.325, 476.65, 1025.9, 755.075, 42...</td>\n",
       "      <td>[10, 10, 10, 10, 10, 10, 10, 10, 10, 10, 10, 1...</td>\n",
       "      <td>696</td>\n",
       "    </tr>\n",
       "    <tr>\n",
       "      <th>3</th>\n",
       "      <td>C_1025076</td>\n",
       "      <td>advanced roller skating tutorial</td>\n",
       "      <td>no prerequisite</td>\n",
       "      <td>the true meaning of experiencing roller skatin...</td>\n",
       "      <td>[S_72]</td>\n",
       "      <td>[T_5394]</td>\n",
       "      <td>None</td>\n",
       "      <td>[1, 1, 15, 1]</td>\n",
       "      <td>2</td>\n",
       "    </tr>\n",
       "    <tr>\n",
       "      <th>4</th>\n",
       "      <td>C_1025079</td>\n",
       "      <td>scientific fitness method-silk-winding fitness...</td>\n",
       "      <td>no prerequisite</td>\n",
       "      <td>silk wrapping skills are the chinese solution ...</td>\n",
       "      <td>[S_97]</td>\n",
       "      <td>[T_7939]</td>\n",
       "      <td>[671.97, 925.17, 748.11, 644.25, 543.93, 546.3...</td>\n",
       "      <td>[5, 5, 5, 5, 5]</td>\n",
       "      <td>125</td>\n",
       "    </tr>\n",
       "    <tr>\n",
       "      <th>...</th>\n",
       "      <td>...</td>\n",
       "      <td>...</td>\n",
       "      <td>...</td>\n",
       "      <td>...</td>\n",
       "      <td>...</td>\n",
       "      <td>...</td>\n",
       "      <td>...</td>\n",
       "      <td>...</td>\n",
       "      <td>...</td>\n",
       "    </tr>\n",
       "    <tr>\n",
       "      <th>2695</th>\n",
       "      <td>C_949542</td>\n",
       "      <td>thinking innovation and creativity development</td>\n",
       "      <td>no prerequisite</td>\n",
       "      <td>if appearance is a letter of recommendation fo...</td>\n",
       "      <td>[S_749]</td>\n",
       "      <td>[T_7389, T_7390, T_10280, T_10281, T_7392, T_7...</td>\n",
       "      <td>[784.77, 713.7, 578.07, 689.01, 624.45, 658.17...</td>\n",
       "      <td>[7, 8, 6, 7, 8, 10, 7, 8, 8, 11, 10, 6, 6, 5, ...</td>\n",
       "      <td>839</td>\n",
       "    </tr>\n",
       "    <tr>\n",
       "      <th>2696</th>\n",
       "      <td>C_955163</td>\n",
       "      <td>learn to make mini programs - practical chapte...</td>\n",
       "      <td>computer basics, html, css, javascript, progra...</td>\n",
       "      <td>this course is a wechat mini program learning ...</td>\n",
       "      <td>[S_1]</td>\n",
       "      <td>[T_172, T_14907, T_14933, T_1286]</td>\n",
       "      <td>[515.893, 134.584, 2084.548, 1546.264, 38.356,...</td>\n",
       "      <td>[5, 1, 10, 10, 1, 30, 4]</td>\n",
       "      <td>305</td>\n",
       "    </tr>\n",
       "    <tr>\n",
       "      <th>2697</th>\n",
       "      <td>C_956128</td>\n",
       "      <td>interpretation of hot issues of portal hyperte...</td>\n",
       "      <td>no prerequisite</td>\n",
       "      <td>interpretation of hot issues of portal hyperte...</td>\n",
       "      <td>[S_144]</td>\n",
       "      <td>[T_7005, T_7006, T_7007]</td>\n",
       "      <td>None</td>\n",
       "      <td>[15, 15, 15, 15, 15, 15, 15]</td>\n",
       "      <td>0</td>\n",
       "    </tr>\n",
       "    <tr>\n",
       "      <th>2698</th>\n",
       "      <td>C_956129</td>\n",
       "      <td>introduction to games and esports</td>\n",
       "      <td>no prerequisite</td>\n",
       "      <td>the game industry has become a popular profess...</td>\n",
       "      <td>[S_492]</td>\n",
       "      <td>[T_4850, T_4852, T_4851, T_4854]</td>\n",
       "      <td>[463.65, 598.375, 354.68, 547.18, 289.23, 349....</td>\n",
       "      <td>[2, 3, 3, 8, 7, 6, 10, 9, 9, 6, 4, 1, 6, 7, 8,...</td>\n",
       "      <td>1597</td>\n",
       "    </tr>\n",
       "    <tr>\n",
       "      <th>2699</th>\n",
       "      <td>C_956130</td>\n",
       "      <td>multimedia technology and application</td>\n",
       "      <td>no prerequisite</td>\n",
       "      <td>this course mainly learns the basic concepts o...</td>\n",
       "      <td>[S_11]</td>\n",
       "      <td>[T_7457, T_8331, T_8417]</td>\n",
       "      <td>None</td>\n",
       "      <td>[1, 5, 27, 8, 6, 19, 28, 6, 14, 16, 21, 6, 15,...</td>\n",
       "      <td>3</td>\n",
       "    </tr>\n",
       "  </tbody>\n",
       "</table>\n",
       "<p>2700 rows × 9 columns</p>\n",
       "</div>"
      ],
      "text/plain": [
       "      course_id                                        course_name  \\\n",
       "0     C_1017355  introduction to traditional chinese medicine e...   \n",
       "1     C_1017419                              smart government talk   \n",
       "2     C_1025064  principles of ideological and political education   \n",
       "3     C_1025076                   advanced roller skating tutorial   \n",
       "4     C_1025079  scientific fitness method-silk-winding fitness...   \n",
       "...         ...                                                ...   \n",
       "2695   C_949542     thinking innovation and creativity development   \n",
       "2696   C_955163  learn to make mini programs - practical chapte...   \n",
       "2697   C_956128  interpretation of hot issues of portal hyperte...   \n",
       "2698   C_956129                  introduction to games and esports   \n",
       "2699   C_956130              multimedia technology and application   \n",
       "\n",
       "                                   course_prerequisites  \\\n",
       "0     the main subjects are college students who hav...   \n",
       "1                                       no prerequisite   \n",
       "2                                       no prerequisite   \n",
       "3                                       no prerequisite   \n",
       "4                                       no prerequisite   \n",
       "...                                                 ...   \n",
       "2695                                    no prerequisite   \n",
       "2696  computer basics, html, css, javascript, progra...   \n",
       "2697                                    no prerequisite   \n",
       "2698                                    no prerequisite   \n",
       "2699                                    no prerequisite   \n",
       "\n",
       "                                           course_about school_id  \\\n",
       "0     traditional chinese medicine culture - the tre...    [S_33]   \n",
       "1     this course combines specific cases of traffic...    [S_52]   \n",
       "2     hello, dear classmate! do you want to know how...    [S_13]   \n",
       "3     the true meaning of experiencing roller skatin...    [S_72]   \n",
       "4     silk wrapping skills are the chinese solution ...    [S_97]   \n",
       "...                                                 ...       ...   \n",
       "2695  if appearance is a letter of recommendation fo...   [S_749]   \n",
       "2696  this course is a wechat mini program learning ...     [S_1]   \n",
       "2697  interpretation of hot issues of portal hyperte...   [S_144]   \n",
       "2698  the game industry has become a popular profess...   [S_492]   \n",
       "2699  this course mainly learns the basic concepts o...    [S_11]   \n",
       "\n",
       "                                             teacher_id  \\\n",
       "0              [T_7970, T_7971, T_5826, T_7978, T_7979]   \n",
       "1     [T_7849, T_16199, T_16200, T_16201, T_16202, T...   \n",
       "2              [T_3915, T_3911, T_5426, T_5427, T_5429]   \n",
       "3                                              [T_5394]   \n",
       "4                                              [T_7939]   \n",
       "...                                                 ...   \n",
       "2695  [T_7389, T_7390, T_10280, T_10281, T_7392, T_7...   \n",
       "2696                  [T_172, T_14907, T_14933, T_1286]   \n",
       "2697                           [T_7005, T_7006, T_7007]   \n",
       "2698                   [T_4850, T_4852, T_4851, T_4854]   \n",
       "2699                           [T_7457, T_8331, T_8417]   \n",
       "\n",
       "                                         video_duration  \\\n",
       "0                                                  None   \n",
       "1                                                  None   \n",
       "2     [466.575, 402.325, 476.65, 1025.9, 755.075, 42...   \n",
       "3                                                  None   \n",
       "4     [671.97, 925.17, 748.11, 644.25, 543.93, 546.3...   \n",
       "...                                                 ...   \n",
       "2695  [784.77, 713.7, 578.07, 689.01, 624.45, 658.17...   \n",
       "2696  [515.893, 134.584, 2084.548, 1546.264, 38.356,...   \n",
       "2697                                               None   \n",
       "2698  [463.65, 598.375, 354.68, 547.18, 289.23, 349....   \n",
       "2699                                               None   \n",
       "\n",
       "                                   exercise_num_problem  course_total_comments  \n",
       "0     [5, 5, 5, 5, 5, 5, 5, 5, 5, 5, 5, 5, 5, 5, 5, ...                  39624  \n",
       "1                  [15, 15, 20, 15, 15, 15, 15, 16, 15]                    609  \n",
       "2     [10, 10, 10, 10, 10, 10, 10, 10, 10, 10, 10, 1...                    696  \n",
       "3                                         [1, 1, 15, 1]                      2  \n",
       "4                                       [5, 5, 5, 5, 5]                    125  \n",
       "...                                                 ...                    ...  \n",
       "2695  [7, 8, 6, 7, 8, 10, 7, 8, 8, 11, 10, 6, 6, 5, ...                    839  \n",
       "2696                           [5, 1, 10, 10, 1, 30, 4]                    305  \n",
       "2697                       [15, 15, 15, 15, 15, 15, 15]                      0  \n",
       "2698  [2, 3, 3, 8, 7, 6, 10, 9, 9, 6, 4, 1, 6, 7, 8,...                   1597  \n",
       "2699  [1, 5, 27, 8, 6, 19, 28, 6, 14, 16, 21, 6, 15,...                      3  \n",
       "\n",
       "[2700 rows x 9 columns]"
      ]
     },
     "execution_count": 11,
     "metadata": {},
     "output_type": "execute_result"
    }
   ],
   "source": [
    "item_data"
   ]
  },
  {
   "cell_type": "code",
   "execution_count": 12,
   "id": "b69233e6",
   "metadata": {
    "execution": {
     "iopub.execute_input": "2025-07-26T00:18:10.619980Z",
     "iopub.status.busy": "2025-07-26T00:18:10.619628Z",
     "iopub.status.idle": "2025-07-26T00:18:10.632474Z",
     "shell.execute_reply": "2025-07-26T00:18:10.631264Z"
    },
    "papermill": {
     "duration": 0.026622,
     "end_time": "2025-07-26T00:18:10.634257",
     "exception": false,
     "start_time": "2025-07-26T00:18:10.607635",
     "status": "completed"
    },
    "tags": []
   },
   "outputs": [],
   "source": [
    "def prepare_course_features(course_df):\n",
    "    course_df = course_df.copy()\n",
    "\n",
    "    # Đảm bảo các cột danh sách là thực sự danh sách\n",
    "    list_columns = ['school_id', 'teacher_id', 'video_duration', 'exercise_num_problem']\n",
    "    for col in list_columns:\n",
    "        course_df[col] = course_df[col].apply(lambda x: x if isinstance(x, list) else [])\n",
    "\n",
    "    # ===== Tính toán đặc trưng =====\n",
    "    course_df['total_video_duration'] = course_df['video_duration'].apply(\n",
    "        lambda x: np.nansum(x) if len(x) > 0 else 0\n",
    "    )\n",
    "    course_df['total_num_problem'] = course_df['exercise_num_problem'].apply(\n",
    "        lambda x: np.nansum(x) if len(x) > 0 else 0\n",
    "    )\n",
    "    course_df['num_videos'] = course_df['video_duration'].apply(len)\n",
    "    course_df['num_exercises'] = course_df['exercise_num_problem'].apply(len)\n",
    "    course_df['num_teachers'] = course_df['teacher_id'].apply(len)\n",
    "    course_df['num_schools'] = course_df['school_id'].apply(len)\n",
    "\n",
    "    # ===== Tách school_id_1 và school_id_2 =====\n",
    "    course_df['school_id_1'] = course_df['school_id'].apply(lambda x: x[0] if len(x) > 0 else None)\n",
    "    course_df['school_id_2'] = course_df['school_id'].apply(lambda x: x[1] if len(x) > 1 else None)\n",
    "    course_df['school_id_1'] = course_df['school_id_1'].fillna('missing')\n",
    "    course_df['school_id_2'] = course_df['school_id_2'].fillna('missing')\n",
    "    # ===== Embed teacher_id list (tạm: dùng chỉ số trung bình để đại diện) =====\n",
    "    # Nếu muốn dùng embedding sau này thì giữ lại list hoặc dùng nhiều cột teacher_id_1, _2,...\n",
    "    course_df['teacher_id_embed'] = course_df['teacher_id'].apply(\n",
    "        lambda x: np.mean([int(t.replace(\"T_\", \"\")) for t in x]) if len(x) > 0 else 0\n",
    "    )\n",
    "\n",
    "    # ===== Textual input =====\n",
    "    course_df['course_text'] = course_df[\n",
    "        ['course_name', 'course_prerequisites', 'course_about']\n",
    "    ].fillna('').apply(lambda x: ' '.join(x), axis=1)\n",
    "\n",
    "    # ===== Output =====\n",
    "    course_features = course_df[[\n",
    "        'course_id',\n",
    "        'course_text',\n",
    "        'total_video_duration',\n",
    "        'total_num_problem',\n",
    "        'num_videos',\n",
    "        'num_exercises',\n",
    "        'num_teachers',\n",
    "        'num_schools',\n",
    "        'school_id_1',\n",
    "        'school_id_2',\n",
    "        'course_total_comments'\n",
    "    ]]\n",
    "\n",
    "    return course_features\n"
   ]
  },
  {
   "cell_type": "code",
   "execution_count": 13,
   "id": "0a9eeeb0",
   "metadata": {
    "execution": {
     "iopub.execute_input": "2025-07-26T00:18:10.656142Z",
     "iopub.status.busy": "2025-07-26T00:18:10.655779Z",
     "iopub.status.idle": "2025-07-26T00:18:10.787932Z",
     "shell.execute_reply": "2025-07-26T00:18:10.786792Z"
    },
    "papermill": {
     "duration": 0.145556,
     "end_time": "2025-07-26T00:18:10.790082",
     "exception": false,
     "start_time": "2025-07-26T00:18:10.644526",
     "status": "completed"
    },
    "tags": []
   },
   "outputs": [],
   "source": [
    "item_data = prepare_course_features(item_data)"
   ]
  },
  {
   "cell_type": "code",
   "execution_count": 14,
   "id": "7b88ce22",
   "metadata": {
    "execution": {
     "iopub.execute_input": "2025-07-26T00:18:10.812242Z",
     "iopub.status.busy": "2025-07-26T00:18:10.811867Z",
     "iopub.status.idle": "2025-07-26T00:18:10.822457Z",
     "shell.execute_reply": "2025-07-26T00:18:10.821113Z"
    },
    "papermill": {
     "duration": 0.024112,
     "end_time": "2025-07-26T00:18:10.824411",
     "exception": false,
     "start_time": "2025-07-26T00:18:10.800299",
     "status": "completed"
    },
    "tags": []
   },
   "outputs": [
    {
     "data": {
      "text/plain": [
       "course_id                0\n",
       "course_text              0\n",
       "total_video_duration     0\n",
       "total_num_problem        0\n",
       "num_videos               0\n",
       "num_exercises            0\n",
       "num_teachers             0\n",
       "num_schools              0\n",
       "school_id_1              0\n",
       "school_id_2              0\n",
       "course_total_comments    0\n",
       "dtype: int64"
      ]
     },
     "execution_count": 14,
     "metadata": {},
     "output_type": "execute_result"
    }
   ],
   "source": [
    "item_data.isnull().sum()"
   ]
  },
  {
   "cell_type": "code",
   "execution_count": 15,
   "id": "79fdf0ac",
   "metadata": {
    "execution": {
     "iopub.execute_input": "2025-07-26T00:18:10.847070Z",
     "iopub.status.busy": "2025-07-26T00:18:10.846730Z",
     "iopub.status.idle": "2025-07-26T00:18:10.957703Z",
     "shell.execute_reply": "2025-07-26T00:18:10.956622Z"
    },
    "papermill": {
     "duration": 0.124658,
     "end_time": "2025-07-26T00:18:10.960058",
     "exception": false,
     "start_time": "2025-07-26T00:18:10.835400",
     "status": "completed"
    },
    "tags": []
   },
   "outputs": [],
   "source": [
    "user_data = combine_data[['user_id','user_gender']].drop_duplicates().reset_index()"
   ]
  },
  {
   "cell_type": "code",
   "execution_count": 16,
   "id": "b30b3ffc",
   "metadata": {
    "execution": {
     "iopub.execute_input": "2025-07-26T00:18:10.982229Z",
     "iopub.status.busy": "2025-07-26T00:18:10.981854Z",
     "iopub.status.idle": "2025-07-26T00:18:11.084694Z",
     "shell.execute_reply": "2025-07-26T00:18:11.083490Z"
    },
    "papermill": {
     "duration": 0.116265,
     "end_time": "2025-07-26T00:18:11.086977",
     "exception": false,
     "start_time": "2025-07-26T00:18:10.970712",
     "status": "completed"
    },
    "tags": []
   },
   "outputs": [],
   "source": [
    "user_item_data=combine_data[['user_id','course_id','enroll_time']]"
   ]
  },
  {
   "cell_type": "code",
   "execution_count": 17,
   "id": "e4e991f0",
   "metadata": {
    "execution": {
     "iopub.execute_input": "2025-07-26T00:18:11.109226Z",
     "iopub.status.busy": "2025-07-26T00:18:11.108875Z",
     "iopub.status.idle": "2025-07-26T00:18:11.113272Z",
     "shell.execute_reply": "2025-07-26T00:18:11.111919Z"
    },
    "papermill": {
     "duration": 0.017551,
     "end_time": "2025-07-26T00:18:11.115318",
     "exception": false,
     "start_time": "2025-07-26T00:18:11.097767",
     "status": "completed"
    },
    "tags": []
   },
   "outputs": [],
   "source": [
    "# sp_user = pd.read_csv(\"/kaggle/input/random-user/sample_user.csv\")\n",
    "# user_data = user_data[user_data['user_id'].isin(sp_user['user_id'])]"
   ]
  },
  {
   "cell_type": "code",
   "execution_count": 18,
   "id": "f1a1a49a",
   "metadata": {
    "execution": {
     "iopub.execute_input": "2025-07-26T00:18:11.140153Z",
     "iopub.status.busy": "2025-07-26T00:18:11.139733Z",
     "iopub.status.idle": "2025-07-26T00:18:11.144031Z",
     "shell.execute_reply": "2025-07-26T00:18:11.142887Z"
    },
    "papermill": {
     "duration": 0.019265,
     "end_time": "2025-07-26T00:18:11.145818",
     "exception": false,
     "start_time": "2025-07-26T00:18:11.126553",
     "status": "completed"
    },
    "tags": []
   },
   "outputs": [],
   "source": [
    "# user_data = user_data.sample(n=10000, random_state=42)"
   ]
  },
  {
   "cell_type": "code",
   "execution_count": 19,
   "id": "31868c31",
   "metadata": {
    "execution": {
     "iopub.execute_input": "2025-07-26T00:18:11.167763Z",
     "iopub.status.busy": "2025-07-26T00:18:11.167343Z",
     "iopub.status.idle": "2025-07-26T00:18:11.310859Z",
     "shell.execute_reply": "2025-07-26T00:18:11.309494Z"
    },
    "papermill": {
     "duration": 0.156724,
     "end_time": "2025-07-26T00:18:11.312957",
     "exception": false,
     "start_time": "2025-07-26T00:18:11.156233",
     "status": "completed"
    },
    "tags": []
   },
   "outputs": [
    {
     "data": {
      "text/html": [
       "<div>\n",
       "<style scoped>\n",
       "    .dataframe tbody tr th:only-of-type {\n",
       "        vertical-align: middle;\n",
       "    }\n",
       "\n",
       "    .dataframe tbody tr th {\n",
       "        vertical-align: top;\n",
       "    }\n",
       "\n",
       "    .dataframe thead th {\n",
       "        text-align: right;\n",
       "    }\n",
       "</style>\n",
       "<table border=\"1\" class=\"dataframe\">\n",
       "  <thead>\n",
       "    <tr style=\"text-align: right;\">\n",
       "      <th></th>\n",
       "      <th>user_id</th>\n",
       "      <th>course_id</th>\n",
       "      <th>enroll_time</th>\n",
       "    </tr>\n",
       "  </thead>\n",
       "  <tbody>\n",
       "    <tr>\n",
       "      <th>19</th>\n",
       "      <td>U_100090</td>\n",
       "      <td>C_707022</td>\n",
       "      <td>1583235350</td>\n",
       "    </tr>\n",
       "    <tr>\n",
       "      <th>20</th>\n",
       "      <td>U_100090</td>\n",
       "      <td>C_676687</td>\n",
       "      <td>1583752556</td>\n",
       "    </tr>\n",
       "    <tr>\n",
       "      <th>21</th>\n",
       "      <td>U_100090</td>\n",
       "      <td>C_697073</td>\n",
       "      <td>1584917895</td>\n",
       "    </tr>\n",
       "    <tr>\n",
       "      <th>22</th>\n",
       "      <td>U_100090</td>\n",
       "      <td>C_948038</td>\n",
       "      <td>1584918145</td>\n",
       "    </tr>\n",
       "    <tr>\n",
       "      <th>23</th>\n",
       "      <td>U_100090</td>\n",
       "      <td>C_680716</td>\n",
       "      <td>1584918197</td>\n",
       "    </tr>\n",
       "    <tr>\n",
       "      <th>...</th>\n",
       "      <td>...</td>\n",
       "      <td>...</td>\n",
       "      <td>...</td>\n",
       "    </tr>\n",
       "    <tr>\n",
       "      <th>7267248</th>\n",
       "      <td>U_9968019</td>\n",
       "      <td>C_677097</td>\n",
       "      <td>1600788653</td>\n",
       "    </tr>\n",
       "    <tr>\n",
       "      <th>7267257</th>\n",
       "      <td>U_9969645</td>\n",
       "      <td>C_677010</td>\n",
       "      <td>1589927593</td>\n",
       "    </tr>\n",
       "    <tr>\n",
       "      <th>7267267</th>\n",
       "      <td>U_99722</td>\n",
       "      <td>C_1944971</td>\n",
       "      <td>1600715669</td>\n",
       "    </tr>\n",
       "    <tr>\n",
       "      <th>7267275</th>\n",
       "      <td>U_99746</td>\n",
       "      <td>C_735143</td>\n",
       "      <td>1602198978</td>\n",
       "    </tr>\n",
       "    <tr>\n",
       "      <th>7267277</th>\n",
       "      <td>U_997506</td>\n",
       "      <td>C_680747</td>\n",
       "      <td>1606727332</td>\n",
       "    </tr>\n",
       "  </tbody>\n",
       "</table>\n",
       "<p>334857 rows × 3 columns</p>\n",
       "</div>"
      ],
      "text/plain": [
       "           user_id  course_id  enroll_time\n",
       "19        U_100090   C_707022   1583235350\n",
       "20        U_100090   C_676687   1583752556\n",
       "21        U_100090   C_697073   1584917895\n",
       "22        U_100090   C_948038   1584918145\n",
       "23        U_100090   C_680716   1584918197\n",
       "...            ...        ...          ...\n",
       "7267248  U_9968019   C_677097   1600788653\n",
       "7267257  U_9969645   C_677010   1589927593\n",
       "7267267    U_99722  C_1944971   1600715669\n",
       "7267275    U_99746   C_735143   1602198978\n",
       "7267277   U_997506   C_680747   1606727332\n",
       "\n",
       "[334857 rows x 3 columns]"
      ]
     },
     "execution_count": 19,
     "metadata": {},
     "output_type": "execute_result"
    }
   ],
   "source": [
    "user_course_filtered = user_item_data[user_item_data[\"user_id\"].isin(user_data[\"user_id\"])]\n",
    "user_course_filtered = user_course_filtered[user_course_filtered[\"course_id\"].isin(item_data[\"course_id\"])]\n",
    "user_course_filtered"
   ]
  },
  {
   "cell_type": "code",
   "execution_count": 20,
   "id": "8e46d2c6",
   "metadata": {
    "execution": {
     "iopub.execute_input": "2025-07-26T00:18:11.335881Z",
     "iopub.status.busy": "2025-07-26T00:18:11.335529Z",
     "iopub.status.idle": "2025-07-26T00:18:11.340776Z",
     "shell.execute_reply": "2025-07-26T00:18:11.339498Z"
    },
    "papermill": {
     "duration": 0.018772,
     "end_time": "2025-07-26T00:18:11.342526",
     "exception": false,
     "start_time": "2025-07-26T00:18:11.323754",
     "status": "completed"
    },
    "tags": []
   },
   "outputs": [],
   "source": [
    "def split_data(data):\n",
    "    data.rename(columns={\"course_id\": \"item\",\"user_id\":\"user\",\"enroll_time\":\"time\"}, inplace=True)\n",
    "    train_data, test_data = split_by_num_chrono(data, test_size=1)\n",
    "    return train_data,test_data"
   ]
  },
  {
   "cell_type": "code",
   "execution_count": 21,
   "id": "494ea44a",
   "metadata": {
    "execution": {
     "iopub.execute_input": "2025-07-26T00:18:11.364937Z",
     "iopub.status.busy": "2025-07-26T00:18:11.364544Z",
     "iopub.status.idle": "2025-07-26T00:18:11.500159Z",
     "shell.execute_reply": "2025-07-26T00:18:11.498844Z"
    },
    "papermill": {
     "duration": 0.14921,
     "end_time": "2025-07-26T00:18:11.502321",
     "exception": false,
     "start_time": "2025-07-26T00:18:11.353111",
     "status": "completed"
    },
    "tags": []
   },
   "outputs": [],
   "source": [
    "data = user_course_filtered.merge(user_data.rename(columns={\"id\":\"user_id\"}), on='user_id', how='inner')\n",
    "data['label'] = 1"
   ]
  },
  {
   "cell_type": "code",
   "execution_count": 22,
   "id": "89f2fd83",
   "metadata": {
    "execution": {
     "iopub.execute_input": "2025-07-26T00:18:11.525138Z",
     "iopub.status.busy": "2025-07-26T00:18:11.524743Z",
     "iopub.status.idle": "2025-07-26T00:18:11.560763Z",
     "shell.execute_reply": "2025-07-26T00:18:11.559502Z"
    },
    "papermill": {
     "duration": 0.050054,
     "end_time": "2025-07-26T00:18:11.563019",
     "exception": false,
     "start_time": "2025-07-26T00:18:11.512965",
     "status": "completed"
    },
    "tags": []
   },
   "outputs": [
    {
     "data": {
      "text/html": [
       "<div>\n",
       "<style scoped>\n",
       "    .dataframe tbody tr th:only-of-type {\n",
       "        vertical-align: middle;\n",
       "    }\n",
       "\n",
       "    .dataframe tbody tr th {\n",
       "        vertical-align: top;\n",
       "    }\n",
       "\n",
       "    .dataframe thead th {\n",
       "        text-align: right;\n",
       "    }\n",
       "</style>\n",
       "<table border=\"1\" class=\"dataframe\">\n",
       "  <thead>\n",
       "    <tr style=\"text-align: right;\">\n",
       "      <th></th>\n",
       "      <th>user_id</th>\n",
       "      <th>course_id</th>\n",
       "      <th>enroll_time</th>\n",
       "      <th>user_gender</th>\n",
       "      <th>label</th>\n",
       "    </tr>\n",
       "  </thead>\n",
       "  <tbody>\n",
       "    <tr>\n",
       "      <th>0</th>\n",
       "      <td>U_100090</td>\n",
       "      <td>C_707022</td>\n",
       "      <td>1583235350</td>\n",
       "      <td>0</td>\n",
       "      <td>1</td>\n",
       "    </tr>\n",
       "    <tr>\n",
       "      <th>1</th>\n",
       "      <td>U_100090</td>\n",
       "      <td>C_676687</td>\n",
       "      <td>1583752556</td>\n",
       "      <td>0</td>\n",
       "      <td>1</td>\n",
       "    </tr>\n",
       "    <tr>\n",
       "      <th>2</th>\n",
       "      <td>U_100090</td>\n",
       "      <td>C_697073</td>\n",
       "      <td>1584917895</td>\n",
       "      <td>0</td>\n",
       "      <td>1</td>\n",
       "    </tr>\n",
       "    <tr>\n",
       "      <th>3</th>\n",
       "      <td>U_100090</td>\n",
       "      <td>C_948038</td>\n",
       "      <td>1584918145</td>\n",
       "      <td>0</td>\n",
       "      <td>1</td>\n",
       "    </tr>\n",
       "    <tr>\n",
       "      <th>4</th>\n",
       "      <td>U_100090</td>\n",
       "      <td>C_680716</td>\n",
       "      <td>1584918197</td>\n",
       "      <td>0</td>\n",
       "      <td>1</td>\n",
       "    </tr>\n",
       "    <tr>\n",
       "      <th>...</th>\n",
       "      <td>...</td>\n",
       "      <td>...</td>\n",
       "      <td>...</td>\n",
       "      <td>...</td>\n",
       "      <td>...</td>\n",
       "    </tr>\n",
       "    <tr>\n",
       "      <th>334852</th>\n",
       "      <td>U_9968019</td>\n",
       "      <td>C_677097</td>\n",
       "      <td>1600788653</td>\n",
       "      <td>0</td>\n",
       "      <td>1</td>\n",
       "    </tr>\n",
       "    <tr>\n",
       "      <th>334853</th>\n",
       "      <td>U_9969645</td>\n",
       "      <td>C_677010</td>\n",
       "      <td>1589927593</td>\n",
       "      <td>1</td>\n",
       "      <td>1</td>\n",
       "    </tr>\n",
       "    <tr>\n",
       "      <th>334854</th>\n",
       "      <td>U_99722</td>\n",
       "      <td>C_1944971</td>\n",
       "      <td>1600715669</td>\n",
       "      <td>0</td>\n",
       "      <td>1</td>\n",
       "    </tr>\n",
       "    <tr>\n",
       "      <th>334855</th>\n",
       "      <td>U_99746</td>\n",
       "      <td>C_735143</td>\n",
       "      <td>1602198978</td>\n",
       "      <td>0</td>\n",
       "      <td>1</td>\n",
       "    </tr>\n",
       "    <tr>\n",
       "      <th>334856</th>\n",
       "      <td>U_997506</td>\n",
       "      <td>C_680747</td>\n",
       "      <td>1606727332</td>\n",
       "      <td>1</td>\n",
       "      <td>1</td>\n",
       "    </tr>\n",
       "  </tbody>\n",
       "</table>\n",
       "<p>334857 rows × 5 columns</p>\n",
       "</div>"
      ],
      "text/plain": [
       "          user_id  course_id  enroll_time  user_gender  label\n",
       "0        U_100090   C_707022   1583235350            0      1\n",
       "1        U_100090   C_676687   1583752556            0      1\n",
       "2        U_100090   C_697073   1584917895            0      1\n",
       "3        U_100090   C_948038   1584918145            0      1\n",
       "4        U_100090   C_680716   1584918197            0      1\n",
       "...           ...        ...          ...          ...    ...\n",
       "334852  U_9968019   C_677097   1600788653            0      1\n",
       "334853  U_9969645   C_677010   1589927593            1      1\n",
       "334854    U_99722  C_1944971   1600715669            0      1\n",
       "334855    U_99746   C_735143   1602198978            0      1\n",
       "334856   U_997506   C_680747   1606727332            1      1\n",
       "\n",
       "[334857 rows x 5 columns]"
      ]
     },
     "execution_count": 22,
     "metadata": {},
     "output_type": "execute_result"
    }
   ],
   "source": [
    "data=data.drop('index',axis=1)\n",
    "data"
   ]
  },
  {
   "cell_type": "code",
   "execution_count": 23,
   "id": "4ce9c596",
   "metadata": {
    "execution": {
     "iopub.execute_input": "2025-07-26T00:18:11.585894Z",
     "iopub.status.busy": "2025-07-26T00:18:11.585549Z",
     "iopub.status.idle": "2025-07-26T00:18:11.602841Z",
     "shell.execute_reply": "2025-07-26T00:18:11.601610Z"
    },
    "papermill": {
     "duration": 0.030601,
     "end_time": "2025-07-26T00:18:11.604601",
     "exception": false,
     "start_time": "2025-07-26T00:18:11.574000",
     "status": "completed"
    },
    "tags": []
   },
   "outputs": [
    {
     "data": {
      "text/html": [
       "<div>\n",
       "<style scoped>\n",
       "    .dataframe tbody tr th:only-of-type {\n",
       "        vertical-align: middle;\n",
       "    }\n",
       "\n",
       "    .dataframe tbody tr th {\n",
       "        vertical-align: top;\n",
       "    }\n",
       "\n",
       "    .dataframe thead th {\n",
       "        text-align: right;\n",
       "    }\n",
       "</style>\n",
       "<table border=\"1\" class=\"dataframe\">\n",
       "  <thead>\n",
       "    <tr style=\"text-align: right;\">\n",
       "      <th></th>\n",
       "      <th>course_id</th>\n",
       "      <th>course_text</th>\n",
       "      <th>total_video_duration</th>\n",
       "      <th>total_num_problem</th>\n",
       "      <th>num_videos</th>\n",
       "      <th>num_exercises</th>\n",
       "      <th>num_teachers</th>\n",
       "      <th>num_schools</th>\n",
       "      <th>school_id_1</th>\n",
       "      <th>school_id_2</th>\n",
       "      <th>course_total_comments</th>\n",
       "    </tr>\n",
       "  </thead>\n",
       "  <tbody>\n",
       "    <tr>\n",
       "      <th>0</th>\n",
       "      <td>C_1017355</td>\n",
       "      <td>introduction to traditional chinese medicine e...</td>\n",
       "      <td>0.000</td>\n",
       "      <td>109</td>\n",
       "      <td>0</td>\n",
       "      <td>19</td>\n",
       "      <td>5</td>\n",
       "      <td>1</td>\n",
       "      <td>S_33</td>\n",
       "      <td>missing</td>\n",
       "      <td>39624</td>\n",
       "    </tr>\n",
       "    <tr>\n",
       "      <th>1</th>\n",
       "      <td>C_1017419</td>\n",
       "      <td>smart government talk no prerequisite this cou...</td>\n",
       "      <td>0.000</td>\n",
       "      <td>141</td>\n",
       "      <td>0</td>\n",
       "      <td>9</td>\n",
       "      <td>8</td>\n",
       "      <td>1</td>\n",
       "      <td>S_52</td>\n",
       "      <td>missing</td>\n",
       "      <td>609</td>\n",
       "    </tr>\n",
       "    <tr>\n",
       "      <th>2</th>\n",
       "      <td>C_1025064</td>\n",
       "      <td>principles of ideological and political educat...</td>\n",
       "      <td>55868.953</td>\n",
       "      <td>140</td>\n",
       "      <td>88</td>\n",
       "      <td>14</td>\n",
       "      <td>5</td>\n",
       "      <td>1</td>\n",
       "      <td>S_13</td>\n",
       "      <td>missing</td>\n",
       "      <td>696</td>\n",
       "    </tr>\n",
       "    <tr>\n",
       "      <th>3</th>\n",
       "      <td>C_1025076</td>\n",
       "      <td>advanced roller skating tutorial no prerequisi...</td>\n",
       "      <td>0.000</td>\n",
       "      <td>18</td>\n",
       "      <td>0</td>\n",
       "      <td>4</td>\n",
       "      <td>1</td>\n",
       "      <td>1</td>\n",
       "      <td>S_72</td>\n",
       "      <td>missing</td>\n",
       "      <td>2</td>\n",
       "    </tr>\n",
       "    <tr>\n",
       "      <th>4</th>\n",
       "      <td>C_1025079</td>\n",
       "      <td>scientific fitness method-silk-winding fitness...</td>\n",
       "      <td>20714.190</td>\n",
       "      <td>25</td>\n",
       "      <td>28</td>\n",
       "      <td>5</td>\n",
       "      <td>1</td>\n",
       "      <td>1</td>\n",
       "      <td>S_97</td>\n",
       "      <td>missing</td>\n",
       "      <td>125</td>\n",
       "    </tr>\n",
       "    <tr>\n",
       "      <th>...</th>\n",
       "      <td>...</td>\n",
       "      <td>...</td>\n",
       "      <td>...</td>\n",
       "      <td>...</td>\n",
       "      <td>...</td>\n",
       "      <td>...</td>\n",
       "      <td>...</td>\n",
       "      <td>...</td>\n",
       "      <td>...</td>\n",
       "      <td>...</td>\n",
       "      <td>...</td>\n",
       "    </tr>\n",
       "    <tr>\n",
       "      <th>2695</th>\n",
       "      <td>C_949542</td>\n",
       "      <td>thinking innovation and creativity development...</td>\n",
       "      <td>22184.031</td>\n",
       "      <td>247</td>\n",
       "      <td>33</td>\n",
       "      <td>31</td>\n",
       "      <td>10</td>\n",
       "      <td>1</td>\n",
       "      <td>S_749</td>\n",
       "      <td>missing</td>\n",
       "      <td>839</td>\n",
       "    </tr>\n",
       "    <tr>\n",
       "      <th>2696</th>\n",
       "      <td>C_955163</td>\n",
       "      <td>learn to make mini programs - practical chapte...</td>\n",
       "      <td>56372.024</td>\n",
       "      <td>61</td>\n",
       "      <td>100</td>\n",
       "      <td>7</td>\n",
       "      <td>4</td>\n",
       "      <td>1</td>\n",
       "      <td>S_1</td>\n",
       "      <td>missing</td>\n",
       "      <td>305</td>\n",
       "    </tr>\n",
       "    <tr>\n",
       "      <th>2697</th>\n",
       "      <td>C_956128</td>\n",
       "      <td>interpretation of hot issues of portal hyperte...</td>\n",
       "      <td>0.000</td>\n",
       "      <td>105</td>\n",
       "      <td>0</td>\n",
       "      <td>7</td>\n",
       "      <td>3</td>\n",
       "      <td>1</td>\n",
       "      <td>S_144</td>\n",
       "      <td>missing</td>\n",
       "      <td>0</td>\n",
       "    </tr>\n",
       "    <tr>\n",
       "      <th>2698</th>\n",
       "      <td>C_956129</td>\n",
       "      <td>introduction to games and esports no prerequis...</td>\n",
       "      <td>34165.387</td>\n",
       "      <td>145</td>\n",
       "      <td>70</td>\n",
       "      <td>23</td>\n",
       "      <td>4</td>\n",
       "      <td>1</td>\n",
       "      <td>S_492</td>\n",
       "      <td>missing</td>\n",
       "      <td>1597</td>\n",
       "    </tr>\n",
       "    <tr>\n",
       "      <th>2699</th>\n",
       "      <td>C_956130</td>\n",
       "      <td>multimedia technology and application no prere...</td>\n",
       "      <td>0.000</td>\n",
       "      <td>174</td>\n",
       "      <td>0</td>\n",
       "      <td>15</td>\n",
       "      <td>3</td>\n",
       "      <td>1</td>\n",
       "      <td>S_11</td>\n",
       "      <td>missing</td>\n",
       "      <td>3</td>\n",
       "    </tr>\n",
       "  </tbody>\n",
       "</table>\n",
       "<p>2700 rows × 11 columns</p>\n",
       "</div>"
      ],
      "text/plain": [
       "      course_id                                        course_text  \\\n",
       "0     C_1017355  introduction to traditional chinese medicine e...   \n",
       "1     C_1017419  smart government talk no prerequisite this cou...   \n",
       "2     C_1025064  principles of ideological and political educat...   \n",
       "3     C_1025076  advanced roller skating tutorial no prerequisi...   \n",
       "4     C_1025079  scientific fitness method-silk-winding fitness...   \n",
       "...         ...                                                ...   \n",
       "2695   C_949542  thinking innovation and creativity development...   \n",
       "2696   C_955163  learn to make mini programs - practical chapte...   \n",
       "2697   C_956128  interpretation of hot issues of portal hyperte...   \n",
       "2698   C_956129  introduction to games and esports no prerequis...   \n",
       "2699   C_956130  multimedia technology and application no prere...   \n",
       "\n",
       "      total_video_duration  total_num_problem  num_videos  num_exercises  \\\n",
       "0                    0.000                109           0             19   \n",
       "1                    0.000                141           0              9   \n",
       "2                55868.953                140          88             14   \n",
       "3                    0.000                 18           0              4   \n",
       "4                20714.190                 25          28              5   \n",
       "...                    ...                ...         ...            ...   \n",
       "2695             22184.031                247          33             31   \n",
       "2696             56372.024                 61         100              7   \n",
       "2697                 0.000                105           0              7   \n",
       "2698             34165.387                145          70             23   \n",
       "2699                 0.000                174           0             15   \n",
       "\n",
       "      num_teachers  num_schools school_id_1 school_id_2  course_total_comments  \n",
       "0                5            1        S_33     missing                  39624  \n",
       "1                8            1        S_52     missing                    609  \n",
       "2                5            1        S_13     missing                    696  \n",
       "3                1            1        S_72     missing                      2  \n",
       "4                1            1        S_97     missing                    125  \n",
       "...            ...          ...         ...         ...                    ...  \n",
       "2695            10            1       S_749     missing                    839  \n",
       "2696             4            1         S_1     missing                    305  \n",
       "2697             3            1       S_144     missing                      0  \n",
       "2698             4            1       S_492     missing                   1597  \n",
       "2699             3            1        S_11     missing                      3  \n",
       "\n",
       "[2700 rows x 11 columns]"
      ]
     },
     "execution_count": 23,
     "metadata": {},
     "output_type": "execute_result"
    }
   ],
   "source": [
    "item_data"
   ]
  },
  {
   "cell_type": "code",
   "execution_count": 24,
   "id": "396cec1e",
   "metadata": {
    "execution": {
     "iopub.execute_input": "2025-07-26T00:18:11.628645Z",
     "iopub.status.busy": "2025-07-26T00:18:11.628203Z",
     "iopub.status.idle": "2025-07-26T00:18:12.248355Z",
     "shell.execute_reply": "2025-07-26T00:18:12.246887Z"
    },
    "papermill": {
     "duration": 0.635028,
     "end_time": "2025-07-26T00:18:12.251042",
     "exception": false,
     "start_time": "2025-07-26T00:18:11.616014",
     "status": "completed"
    },
    "tags": []
   },
   "outputs": [
    {
     "data": {
      "text/plain": [
       "Index(['course_id', 'course_text', 'total_video_duration', 'total_num_problem',\n",
       "       'num_videos', 'num_exercises', 'num_teachers', 'num_schools',\n",
       "       'school_id_1', 'school_id_2', 'course_total_comments', 'course_text_1',\n",
       "       'course_text_2', 'course_text_3', 'course_text_4', 'course_text_5',\n",
       "       'course_text_6', 'course_text_7', 'course_text_8', 'course_text_9',\n",
       "       'course_text_10', 'course_text_11', 'course_text_12', 'course_text_13',\n",
       "       'course_text_14', 'course_text_15', 'course_text_16', 'course_text_17',\n",
       "       'course_text_18', 'course_text_19', 'course_text_20', 'course_text_21',\n",
       "       'course_text_22', 'course_text_23', 'course_text_24', 'course_text_25',\n",
       "       'course_text_26', 'course_text_27', 'course_text_28', 'course_text_29',\n",
       "       'course_text_30', 'course_text_31', 'course_text_32', 'course_text_33',\n",
       "       'course_text_34', 'course_text_35', 'course_text_36', 'course_text_37',\n",
       "       'course_text_38', 'course_text_39', 'course_text_40', 'course_text_41',\n",
       "       'course_text_42', 'course_text_43', 'course_text_44', 'course_text_45',\n",
       "       'course_text_46', 'course_text_47', 'course_text_48', 'course_text_49',\n",
       "       'course_text_50'],\n",
       "      dtype='object')"
      ]
     },
     "execution_count": 24,
     "metadata": {},
     "output_type": "execute_result"
    }
   ],
   "source": [
    "from sklearn.feature_extraction.text import TfidfVectorizer\n",
    "import pandas as pd\n",
    "\n",
    "\n",
    "# Vectorizer\n",
    "vectorizer = TfidfVectorizer(            \n",
    "            max_features=50,\n",
    "            stop_words='english',\n",
    "            ngram_range=(1, 2))\n",
    "vectorized_data = vectorizer.fit_transform(item_data['course_text'])\n",
    "feature_names = [f'course_text_{i+1}' for i in range(len(vectorizer.get_feature_names_out()))]\n",
    "\n",
    "# Chuyển thành DataFrame\n",
    "tfidf_df = pd.DataFrame(vectorized_data.toarray(), columns=feature_names)\n",
    "\n",
    "# Gộp vào DataFrame gốc\n",
    "item_vec = item_data.join(tfidf_df)\n",
    "item_vec.columns"
   ]
  },
  {
   "cell_type": "code",
   "execution_count": 25,
   "id": "f2688a58",
   "metadata": {
    "execution": {
     "iopub.execute_input": "2025-07-26T00:18:12.281541Z",
     "iopub.status.busy": "2025-07-26T00:18:12.281089Z",
     "iopub.status.idle": "2025-07-26T00:18:12.286952Z",
     "shell.execute_reply": "2025-07-26T00:18:12.285532Z"
    },
    "papermill": {
     "duration": 0.025188,
     "end_time": "2025-07-26T00:18:12.289138",
     "exception": false,
     "start_time": "2025-07-26T00:18:12.263950",
     "status": "completed"
    },
    "tags": []
   },
   "outputs": [],
   "source": [
    "item_cols = list(item_vec.columns.drop(['course_id', 'course_text']))"
   ]
  },
  {
   "cell_type": "code",
   "execution_count": 26,
   "id": "4f79703c",
   "metadata": {
    "execution": {
     "iopub.execute_input": "2025-07-26T00:18:12.313696Z",
     "iopub.status.busy": "2025-07-26T00:18:12.313232Z",
     "iopub.status.idle": "2025-07-26T00:18:13.431453Z",
     "shell.execute_reply": "2025-07-26T00:18:13.429511Z"
    },
    "papermill": {
     "duration": 1.135396,
     "end_time": "2025-07-26T00:18:13.435810",
     "exception": false,
     "start_time": "2025-07-26T00:18:12.300414",
     "status": "completed"
    },
    "tags": []
   },
   "outputs": [],
   "source": [
    "train, test = split_data(data)"
   ]
  },
  {
   "cell_type": "code",
   "execution_count": 27,
   "id": "5d37e550",
   "metadata": {
    "execution": {
     "iopub.execute_input": "2025-07-26T00:18:13.461116Z",
     "iopub.status.busy": "2025-07-26T00:18:13.460659Z",
     "iopub.status.idle": "2025-07-26T00:18:13.476336Z",
     "shell.execute_reply": "2025-07-26T00:18:13.474191Z"
    },
    "papermill": {
     "duration": 0.030583,
     "end_time": "2025-07-26T00:18:13.478837",
     "exception": false,
     "start_time": "2025-07-26T00:18:13.448254",
     "status": "completed"
    },
    "tags": []
   },
   "outputs": [
    {
     "data": {
      "text/html": [
       "<div>\n",
       "<style scoped>\n",
       "    .dataframe tbody tr th:only-of-type {\n",
       "        vertical-align: middle;\n",
       "    }\n",
       "\n",
       "    .dataframe tbody tr th {\n",
       "        vertical-align: top;\n",
       "    }\n",
       "\n",
       "    .dataframe thead th {\n",
       "        text-align: right;\n",
       "    }\n",
       "</style>\n",
       "<table border=\"1\" class=\"dataframe\">\n",
       "  <thead>\n",
       "    <tr style=\"text-align: right;\">\n",
       "      <th></th>\n",
       "      <th>user</th>\n",
       "      <th>item</th>\n",
       "      <th>time</th>\n",
       "      <th>user_gender</th>\n",
       "      <th>label</th>\n",
       "    </tr>\n",
       "  </thead>\n",
       "  <tbody>\n",
       "    <tr>\n",
       "      <th>78598</th>\n",
       "      <td>U_100090</td>\n",
       "      <td>C_707022</td>\n",
       "      <td>1583235350</td>\n",
       "      <td>0</td>\n",
       "      <td>1</td>\n",
       "    </tr>\n",
       "    <tr>\n",
       "      <th>85071</th>\n",
       "      <td>U_100090</td>\n",
       "      <td>C_676687</td>\n",
       "      <td>1583752556</td>\n",
       "      <td>0</td>\n",
       "      <td>1</td>\n",
       "    </tr>\n",
       "    <tr>\n",
       "      <th>97032</th>\n",
       "      <td>U_100090</td>\n",
       "      <td>C_697073</td>\n",
       "      <td>1584917895</td>\n",
       "      <td>0</td>\n",
       "      <td>1</td>\n",
       "    </tr>\n",
       "    <tr>\n",
       "      <th>97037</th>\n",
       "      <td>U_100090</td>\n",
       "      <td>C_948038</td>\n",
       "      <td>1584918145</td>\n",
       "      <td>0</td>\n",
       "      <td>1</td>\n",
       "    </tr>\n",
       "    <tr>\n",
       "      <th>97041</th>\n",
       "      <td>U_100090</td>\n",
       "      <td>C_680716</td>\n",
       "      <td>1584918197</td>\n",
       "      <td>0</td>\n",
       "      <td>1</td>\n",
       "    </tr>\n",
       "    <tr>\n",
       "      <th>...</th>\n",
       "      <td>...</td>\n",
       "      <td>...</td>\n",
       "      <td>...</td>\n",
       "      <td>...</td>\n",
       "      <td>...</td>\n",
       "    </tr>\n",
       "    <tr>\n",
       "      <th>304842</th>\n",
       "      <td>U_997506</td>\n",
       "      <td>C_735239</td>\n",
       "      <td>1603116374</td>\n",
       "      <td>1</td>\n",
       "      <td>1</td>\n",
       "    </tr>\n",
       "    <tr>\n",
       "      <th>321970</th>\n",
       "      <td>U_997506</td>\n",
       "      <td>C_2095102</td>\n",
       "      <td>1605299197</td>\n",
       "      <td>1</td>\n",
       "      <td>1</td>\n",
       "    </tr>\n",
       "    <tr>\n",
       "      <th>330633</th>\n",
       "      <td>U_997506</td>\n",
       "      <td>C_682379</td>\n",
       "      <td>1606690104</td>\n",
       "      <td>1</td>\n",
       "      <td>1</td>\n",
       "    </tr>\n",
       "    <tr>\n",
       "      <th>330634</th>\n",
       "      <td>U_997506</td>\n",
       "      <td>C_696554</td>\n",
       "      <td>1606690121</td>\n",
       "      <td>1</td>\n",
       "      <td>1</td>\n",
       "    </tr>\n",
       "    <tr>\n",
       "      <th>330769</th>\n",
       "      <td>U_997506</td>\n",
       "      <td>C_696673</td>\n",
       "      <td>1606727242</td>\n",
       "      <td>1</td>\n",
       "      <td>1</td>\n",
       "    </tr>\n",
       "  </tbody>\n",
       "</table>\n",
       "<p>310799 rows × 5 columns</p>\n",
       "</div>"
      ],
      "text/plain": [
       "            user       item        time  user_gender  label\n",
       "78598   U_100090   C_707022  1583235350            0      1\n",
       "85071   U_100090   C_676687  1583752556            0      1\n",
       "97032   U_100090   C_697073  1584917895            0      1\n",
       "97037   U_100090   C_948038  1584918145            0      1\n",
       "97041   U_100090   C_680716  1584918197            0      1\n",
       "...          ...        ...         ...          ...    ...\n",
       "304842  U_997506   C_735239  1603116374            1      1\n",
       "321970  U_997506  C_2095102  1605299197            1      1\n",
       "330633  U_997506   C_682379  1606690104            1      1\n",
       "330634  U_997506   C_696554  1606690121            1      1\n",
       "330769  U_997506   C_696673  1606727242            1      1\n",
       "\n",
       "[310799 rows x 5 columns]"
      ]
     },
     "execution_count": 27,
     "metadata": {},
     "output_type": "execute_result"
    }
   ],
   "source": [
    "train"
   ]
  },
  {
   "cell_type": "code",
   "execution_count": 28,
   "id": "3cdd7210",
   "metadata": {
    "execution": {
     "iopub.execute_input": "2025-07-26T00:18:13.512278Z",
     "iopub.status.busy": "2025-07-26T00:18:13.511885Z",
     "iopub.status.idle": "2025-07-26T00:18:13.529327Z",
     "shell.execute_reply": "2025-07-26T00:18:13.527196Z"
    },
    "papermill": {
     "duration": 0.038701,
     "end_time": "2025-07-26T00:18:13.531421",
     "exception": false,
     "start_time": "2025-07-26T00:18:13.492720",
     "status": "completed"
    },
    "tags": []
   },
   "outputs": [
    {
     "data": {
      "text/html": [
       "<div>\n",
       "<style scoped>\n",
       "    .dataframe tbody tr th:only-of-type {\n",
       "        vertical-align: middle;\n",
       "    }\n",
       "\n",
       "    .dataframe tbody tr th {\n",
       "        vertical-align: top;\n",
       "    }\n",
       "\n",
       "    .dataframe thead th {\n",
       "        text-align: right;\n",
       "    }\n",
       "</style>\n",
       "<table border=\"1\" class=\"dataframe\">\n",
       "  <thead>\n",
       "    <tr style=\"text-align: right;\">\n",
       "      <th></th>\n",
       "      <th>user</th>\n",
       "      <th>item</th>\n",
       "      <th>time</th>\n",
       "      <th>user_gender</th>\n",
       "      <th>label</th>\n",
       "    </tr>\n",
       "  </thead>\n",
       "  <tbody>\n",
       "    <tr>\n",
       "      <th>276984</th>\n",
       "      <td>U_100090</td>\n",
       "      <td>C_1755921</td>\n",
       "      <td>1600725730</td>\n",
       "      <td>0</td>\n",
       "      <td>1</td>\n",
       "    </tr>\n",
       "    <tr>\n",
       "      <th>318051</th>\n",
       "      <td>U_1002476</td>\n",
       "      <td>C_682463</td>\n",
       "      <td>1604703719</td>\n",
       "      <td>1</td>\n",
       "      <td>1</td>\n",
       "    </tr>\n",
       "    <tr>\n",
       "      <th>313485</th>\n",
       "      <td>U_100281</td>\n",
       "      <td>C_948078</td>\n",
       "      <td>1604091834</td>\n",
       "      <td>0</td>\n",
       "      <td>1</td>\n",
       "    </tr>\n",
       "    <tr>\n",
       "      <th>242541</th>\n",
       "      <td>U_10033817</td>\n",
       "      <td>C_677049</td>\n",
       "      <td>1598352038</td>\n",
       "      <td>0</td>\n",
       "      <td>1</td>\n",
       "    </tr>\n",
       "    <tr>\n",
       "      <th>203437</th>\n",
       "      <td>U_10033948</td>\n",
       "      <td>C_1822804</td>\n",
       "      <td>1595283089</td>\n",
       "      <td>2</td>\n",
       "      <td>1</td>\n",
       "    </tr>\n",
       "    <tr>\n",
       "      <th>...</th>\n",
       "      <td>...</td>\n",
       "      <td>...</td>\n",
       "      <td>...</td>\n",
       "      <td>...</td>\n",
       "      <td>...</td>\n",
       "    </tr>\n",
       "    <tr>\n",
       "      <th>183062</th>\n",
       "      <td>U_99567</td>\n",
       "      <td>C_696911</td>\n",
       "      <td>1593298758</td>\n",
       "      <td>1</td>\n",
       "      <td>1</td>\n",
       "    </tr>\n",
       "    <tr>\n",
       "      <th>277860</th>\n",
       "      <td>U_9968019</td>\n",
       "      <td>C_677097</td>\n",
       "      <td>1600788653</td>\n",
       "      <td>0</td>\n",
       "      <td>1</td>\n",
       "    </tr>\n",
       "    <tr>\n",
       "      <th>148098</th>\n",
       "      <td>U_9969645</td>\n",
       "      <td>C_677010</td>\n",
       "      <td>1589927593</td>\n",
       "      <td>1</td>\n",
       "      <td>1</td>\n",
       "    </tr>\n",
       "    <tr>\n",
       "      <th>295372</th>\n",
       "      <td>U_99746</td>\n",
       "      <td>C_735143</td>\n",
       "      <td>1602198978</td>\n",
       "      <td>0</td>\n",
       "      <td>1</td>\n",
       "    </tr>\n",
       "    <tr>\n",
       "      <th>330770</th>\n",
       "      <td>U_997506</td>\n",
       "      <td>C_680747</td>\n",
       "      <td>1606727332</td>\n",
       "      <td>1</td>\n",
       "      <td>1</td>\n",
       "    </tr>\n",
       "  </tbody>\n",
       "</table>\n",
       "<p>23905 rows × 5 columns</p>\n",
       "</div>"
      ],
      "text/plain": [
       "              user       item        time  user_gender  label\n",
       "276984    U_100090  C_1755921  1600725730            0      1\n",
       "318051   U_1002476   C_682463  1604703719            1      1\n",
       "313485    U_100281   C_948078  1604091834            0      1\n",
       "242541  U_10033817   C_677049  1598352038            0      1\n",
       "203437  U_10033948  C_1822804  1595283089            2      1\n",
       "...            ...        ...         ...          ...    ...\n",
       "183062     U_99567   C_696911  1593298758            1      1\n",
       "277860   U_9968019   C_677097  1600788653            0      1\n",
       "148098   U_9969645   C_677010  1589927593            1      1\n",
       "295372     U_99746   C_735143  1602198978            0      1\n",
       "330770    U_997506   C_680747  1606727332            1      1\n",
       "\n",
       "[23905 rows x 5 columns]"
      ]
     },
     "execution_count": 28,
     "metadata": {},
     "output_type": "execute_result"
    }
   ],
   "source": [
    "test"
   ]
  },
  {
   "cell_type": "code",
   "execution_count": 29,
   "id": "bcd126c2",
   "metadata": {
    "execution": {
     "iopub.execute_input": "2025-07-26T00:18:13.558083Z",
     "iopub.status.busy": "2025-07-26T00:18:13.557727Z",
     "iopub.status.idle": "2025-07-26T00:18:13.831433Z",
     "shell.execute_reply": "2025-07-26T00:18:13.829869Z"
    },
    "papermill": {
     "duration": 0.289546,
     "end_time": "2025-07-26T00:18:13.833812",
     "exception": false,
     "start_time": "2025-07-26T00:18:13.544266",
     "status": "completed"
    },
    "tags": []
   },
   "outputs": [],
   "source": [
    "train = train.merge(item_vec.rename(columns={\"course_id\":\"item\"}), on='item', how='inner')\n",
    "test = test.merge(item_vec.rename(columns={\"course_id\":\"item\"}), on='item', how='inner')"
   ]
  },
  {
   "cell_type": "code",
   "execution_count": 30,
   "id": "8a6631f1",
   "metadata": {
    "execution": {
     "iopub.execute_input": "2025-07-26T00:18:13.862272Z",
     "iopub.status.busy": "2025-07-26T00:18:13.861916Z",
     "iopub.status.idle": "2025-07-26T00:18:13.866723Z",
     "shell.execute_reply": "2025-07-26T00:18:13.865535Z"
    },
    "papermill": {
     "duration": 0.02195,
     "end_time": "2025-07-26T00:18:13.868579",
     "exception": false,
     "start_time": "2025-07-26T00:18:13.846629",
     "status": "completed"
    },
    "tags": []
   },
   "outputs": [],
   "source": [
    "item_cols = [x for x in item_cols if x not in ['school_id_2','course_total_comments','total_video_duration','total_num_problem']]"
   ]
  },
  {
   "cell_type": "code",
   "execution_count": 31,
   "id": "638eee61",
   "metadata": {
    "execution": {
     "iopub.execute_input": "2025-07-26T00:18:13.894639Z",
     "iopub.status.busy": "2025-07-26T00:18:13.894257Z",
     "iopub.status.idle": "2025-07-26T00:18:15.420296Z",
     "shell.execute_reply": "2025-07-26T00:18:15.418969Z"
    },
    "papermill": {
     "duration": 1.541098,
     "end_time": "2025-07-26T00:18:15.422330",
     "exception": false,
     "start_time": "2025-07-26T00:18:13.881232",
     "status": "completed"
    },
    "tags": []
   },
   "outputs": [],
   "source": [
    "# specify complete columns information\n",
    "sparse_col = [\"user_gender\",\"school_id_1\"]\n",
    "dense_col = [f for f in item_cols if f not in ['school_id_1']]\n",
    "user_col = [\"user_gender\"]\n",
    "item_col = item_cols\n",
    "\n",
    "train_data, data_info = DatasetFeat.build_trainset(train, user_col, item_col, sparse_col, dense_col,shuffle=False)\n",
    "test_data = DatasetFeat.build_testset(test,shuffle=False)"
   ]
  },
  {
   "cell_type": "code",
   "execution_count": 32,
   "id": "3cdb31b8",
   "metadata": {
    "execution": {
     "iopub.execute_input": "2025-07-26T00:18:15.448339Z",
     "iopub.status.busy": "2025-07-26T00:18:15.447919Z",
     "iopub.status.idle": "2025-07-26T00:18:15.454044Z",
     "shell.execute_reply": "2025-07-26T00:18:15.452349Z"
    },
    "papermill": {
     "duration": 0.021055,
     "end_time": "2025-07-26T00:18:15.455878",
     "exception": false,
     "start_time": "2025-07-26T00:18:15.434823",
     "status": "completed"
    },
    "tags": []
   },
   "outputs": [
    {
     "name": "stdout",
     "output_type": "stream",
     "text": [
      "n_users: 24088, n_items: 2672, data density: 0.4829 %\n"
     ]
    }
   ],
   "source": [
    "print(data_info)"
   ]
  },
  {
   "cell_type": "code",
   "execution_count": 33,
   "id": "9d7b9008",
   "metadata": {
    "execution": {
     "iopub.execute_input": "2025-07-26T00:18:15.481653Z",
     "iopub.status.busy": "2025-07-26T00:18:15.481210Z",
     "iopub.status.idle": "2025-07-26T00:18:21.454471Z",
     "shell.execute_reply": "2025-07-26T00:18:21.453246Z"
    },
    "papermill": {
     "duration": 5.988439,
     "end_time": "2025-07-26T00:18:21.456690",
     "exception": false,
     "start_time": "2025-07-26T00:18:15.468251",
     "status": "completed"
    },
    "tags": []
   },
   "outputs": [],
   "source": [
    "import tensorflow as tf\n",
    "tf.compat.v1.reset_default_graph() "
   ]
  },
  {
   "cell_type": "code",
   "execution_count": 34,
   "id": "fe7877c1",
   "metadata": {
    "_kg_hide-input": true,
    "execution": {
     "iopub.execute_input": "2025-07-26T00:18:21.482301Z",
     "iopub.status.busy": "2025-07-26T00:18:21.481546Z",
     "iopub.status.idle": "2025-07-26T00:27:21.886781Z",
     "shell.execute_reply": "2025-07-26T00:27:21.885331Z"
    },
    "papermill": {
     "duration": 540.420006,
     "end_time": "2025-07-26T00:27:21.888715",
     "exception": false,
     "start_time": "2025-07-26T00:18:21.468709",
     "status": "completed"
    },
    "tags": []
   },
   "outputs": [
    {
     "name": "stdout",
     "output_type": "stream",
     "text": [
      "Training start time: \u001b[35m2025-07-26 00:19:14\u001b[0m\n"
     ]
    },
    {
     "name": "stderr",
     "output_type": "stream",
     "text": [
      "train: 100%|██████████| 304/304 [00:01<00:00, 181.50it/s]\n"
     ]
    },
    {
     "name": "stdout",
     "output_type": "stream",
     "text": [
      "Epoch 1 elapsed: 1.679s\n",
      "\t \u001b[32mtrain_loss: 0.6895\u001b[0m\n"
     ]
    },
    {
     "name": "stderr",
     "output_type": "stream",
     "text": [
      "eval_listwise: 100%|██████████| 3334/3334 [00:02<00:00, 1584.80it/s]\n"
     ]
    },
    {
     "name": "stdout",
     "output_type": "stream",
     "text": [
      "\t eval recall@10: 0.0270\n",
      "\t eval precision@10: 0.0027\n",
      "\t eval ndcg@10: 0.0124\n",
      "\t eval map@10: 0.0080\n",
      "==============================\n"
     ]
    },
    {
     "name": "stderr",
     "output_type": "stream",
     "text": [
      "train: 100%|██████████| 304/304 [00:01<00:00, 187.75it/s]\n"
     ]
    },
    {
     "name": "stdout",
     "output_type": "stream",
     "text": [
      "Epoch 2 elapsed: 1.622s\n",
      "\t \u001b[32mtrain_loss: 0.6814\u001b[0m\n"
     ]
    },
    {
     "name": "stderr",
     "output_type": "stream",
     "text": [
      "eval_listwise: 100%|██████████| 3334/3334 [00:01<00:00, 1680.31it/s]\n"
     ]
    },
    {
     "name": "stdout",
     "output_type": "stream",
     "text": [
      "\t eval recall@10: 0.0357\n",
      "\t eval precision@10: 0.0036\n",
      "\t eval ndcg@10: 0.0163\n",
      "\t eval map@10: 0.0104\n",
      "==============================\n"
     ]
    },
    {
     "name": "stderr",
     "output_type": "stream",
     "text": [
      "train: 100%|██████████| 304/304 [00:01<00:00, 184.95it/s]\n"
     ]
    },
    {
     "name": "stdout",
     "output_type": "stream",
     "text": [
      "Epoch 3 elapsed: 1.648s\n",
      "\t \u001b[32mtrain_loss: 0.6734\u001b[0m\n"
     ]
    },
    {
     "name": "stderr",
     "output_type": "stream",
     "text": [
      "eval_listwise: 100%|██████████| 3334/3334 [00:01<00:00, 1702.68it/s]\n"
     ]
    },
    {
     "name": "stdout",
     "output_type": "stream",
     "text": [
      "\t eval recall@10: 0.0405\n",
      "\t eval precision@10: 0.0041\n",
      "\t eval ndcg@10: 0.0187\n",
      "\t eval map@10: 0.0122\n",
      "==============================\n"
     ]
    },
    {
     "name": "stderr",
     "output_type": "stream",
     "text": [
      "train: 100%|██████████| 304/304 [00:01<00:00, 212.60it/s]\n"
     ]
    },
    {
     "name": "stdout",
     "output_type": "stream",
     "text": [
      "Epoch 4 elapsed: 1.434s\n",
      "\t \u001b[32mtrain_loss: 0.6656\u001b[0m\n"
     ]
    },
    {
     "name": "stderr",
     "output_type": "stream",
     "text": [
      "eval_listwise: 100%|██████████| 3334/3334 [00:02<00:00, 1653.57it/s]\n"
     ]
    },
    {
     "name": "stdout",
     "output_type": "stream",
     "text": [
      "\t eval recall@10: 0.0414\n",
      "\t eval precision@10: 0.0041\n",
      "\t eval ndcg@10: 0.0193\n",
      "\t eval map@10: 0.0127\n",
      "==============================\n"
     ]
    },
    {
     "name": "stderr",
     "output_type": "stream",
     "text": [
      "train: 100%|██████████| 304/304 [00:01<00:00, 205.04it/s]\n"
     ]
    },
    {
     "name": "stdout",
     "output_type": "stream",
     "text": [
      "Epoch 5 elapsed: 1.487s\n",
      "\t \u001b[32mtrain_loss: 0.658\u001b[0m\n"
     ]
    },
    {
     "name": "stderr",
     "output_type": "stream",
     "text": [
      "eval_listwise: 100%|██████████| 3334/3334 [00:02<00:00, 1657.26it/s]\n"
     ]
    },
    {
     "name": "stdout",
     "output_type": "stream",
     "text": [
      "\t eval recall@10: 0.0430\n",
      "\t eval precision@10: 0.0043\n",
      "\t eval ndcg@10: 0.0199\n",
      "\t eval map@10: 0.0130\n",
      "==============================\n"
     ]
    },
    {
     "name": "stderr",
     "output_type": "stream",
     "text": [
      "train: 100%|██████████| 304/304 [00:01<00:00, 200.45it/s]\n"
     ]
    },
    {
     "name": "stdout",
     "output_type": "stream",
     "text": [
      "Epoch 6 elapsed: 1.521s\n",
      "\t \u001b[32mtrain_loss: 0.6507\u001b[0m\n"
     ]
    },
    {
     "name": "stderr",
     "output_type": "stream",
     "text": [
      "eval_listwise: 100%|██████████| 3334/3334 [00:02<00:00, 1608.11it/s]\n"
     ]
    },
    {
     "name": "stdout",
     "output_type": "stream",
     "text": [
      "\t eval recall@10: 0.0439\n",
      "\t eval precision@10: 0.0044\n",
      "\t eval ndcg@10: 0.0203\n",
      "\t eval map@10: 0.0132\n",
      "==============================\n"
     ]
    },
    {
     "name": "stderr",
     "output_type": "stream",
     "text": [
      "train: 100%|██████████| 304/304 [00:01<00:00, 198.50it/s]\n"
     ]
    },
    {
     "name": "stdout",
     "output_type": "stream",
     "text": [
      "Epoch 7 elapsed: 1.535s\n",
      "\t \u001b[32mtrain_loss: 0.6435\u001b[0m\n"
     ]
    },
    {
     "name": "stderr",
     "output_type": "stream",
     "text": [
      "eval_listwise: 100%|██████████| 3334/3334 [00:02<00:00, 1469.29it/s]\n"
     ]
    },
    {
     "name": "stdout",
     "output_type": "stream",
     "text": [
      "\t eval recall@10: 0.0433\n",
      "\t eval precision@10: 0.0043\n",
      "\t eval ndcg@10: 0.0201\n",
      "\t eval map@10: 0.0132\n",
      "==============================\n"
     ]
    },
    {
     "name": "stderr",
     "output_type": "stream",
     "text": [
      "train: 100%|██████████| 304/304 [00:01<00:00, 208.57it/s]\n"
     ]
    },
    {
     "name": "stdout",
     "output_type": "stream",
     "text": [
      "Epoch 8 elapsed: 1.461s\n",
      "\t \u001b[32mtrain_loss: 0.6364\u001b[0m\n"
     ]
    },
    {
     "name": "stderr",
     "output_type": "stream",
     "text": [
      "eval_listwise: 100%|██████████| 3334/3334 [00:01<00:00, 1701.70it/s]\n"
     ]
    },
    {
     "name": "stdout",
     "output_type": "stream",
     "text": [
      "\t eval recall@10: 0.0435\n",
      "\t eval precision@10: 0.0043\n",
      "\t eval ndcg@10: 0.0202\n",
      "\t eval map@10: 0.0133\n",
      "==============================\n"
     ]
    },
    {
     "name": "stderr",
     "output_type": "stream",
     "text": [
      "train: 100%|██████████| 304/304 [00:01<00:00, 219.25it/s]\n"
     ]
    },
    {
     "name": "stdout",
     "output_type": "stream",
     "text": [
      "Epoch 9 elapsed: 1.390s\n",
      "\t \u001b[32mtrain_loss: 0.6295\u001b[0m\n"
     ]
    },
    {
     "name": "stderr",
     "output_type": "stream",
     "text": [
      "eval_listwise: 100%|██████████| 3334/3334 [00:01<00:00, 1711.88it/s]\n"
     ]
    },
    {
     "name": "stdout",
     "output_type": "stream",
     "text": [
      "\t eval recall@10: 0.0443\n",
      "\t eval precision@10: 0.0044\n",
      "\t eval ndcg@10: 0.0203\n",
      "\t eval map@10: 0.0132\n",
      "==============================\n"
     ]
    },
    {
     "name": "stderr",
     "output_type": "stream",
     "text": [
      "train: 100%|██████████| 304/304 [00:01<00:00, 224.56it/s]\n"
     ]
    },
    {
     "name": "stdout",
     "output_type": "stream",
     "text": [
      "Epoch 10 elapsed: 1.358s\n",
      "\t \u001b[32mtrain_loss: 0.6228\u001b[0m\n"
     ]
    },
    {
     "name": "stderr",
     "output_type": "stream",
     "text": [
      "eval_listwise: 100%|██████████| 3334/3334 [00:01<00:00, 1701.43it/s]\n"
     ]
    },
    {
     "name": "stdout",
     "output_type": "stream",
     "text": [
      "\t eval recall@10: 0.0443\n",
      "\t eval precision@10: 0.0044\n",
      "\t eval ndcg@10: 0.0203\n",
      "\t eval map@10: 0.0132\n",
      "==============================\n"
     ]
    },
    {
     "name": "stderr",
     "output_type": "stream",
     "text": [
      "train: 100%|██████████| 304/304 [00:01<00:00, 215.62it/s]\n"
     ]
    },
    {
     "name": "stdout",
     "output_type": "stream",
     "text": [
      "Epoch 11 elapsed: 1.413s\n",
      "\t \u001b[32mtrain_loss: 0.6163\u001b[0m\n"
     ]
    },
    {
     "name": "stderr",
     "output_type": "stream",
     "text": [
      "eval_listwise: 100%|██████████| 3334/3334 [00:01<00:00, 1759.23it/s]\n"
     ]
    },
    {
     "name": "stdout",
     "output_type": "stream",
     "text": [
      "\t eval recall@10: 0.0447\n",
      "\t eval precision@10: 0.0045\n",
      "\t eval ndcg@10: 0.0203\n",
      "\t eval map@10: 0.0130\n",
      "==============================\n"
     ]
    },
    {
     "name": "stderr",
     "output_type": "stream",
     "text": [
      "train: 100%|██████████| 304/304 [00:01<00:00, 216.14it/s]\n"
     ]
    },
    {
     "name": "stdout",
     "output_type": "stream",
     "text": [
      "Epoch 12 elapsed: 1.411s\n",
      "\t \u001b[32mtrain_loss: 0.6101\u001b[0m\n"
     ]
    },
    {
     "name": "stderr",
     "output_type": "stream",
     "text": [
      "eval_listwise: 100%|██████████| 3334/3334 [00:02<00:00, 1543.90it/s]\n"
     ]
    },
    {
     "name": "stdout",
     "output_type": "stream",
     "text": [
      "\t eval recall@10: 0.0445\n",
      "\t eval precision@10: 0.0044\n",
      "\t eval ndcg@10: 0.0202\n",
      "\t eval map@10: 0.0130\n",
      "==============================\n"
     ]
    },
    {
     "name": "stderr",
     "output_type": "stream",
     "text": [
      "train: 100%|██████████| 304/304 [00:01<00:00, 179.10it/s]\n"
     ]
    },
    {
     "name": "stdout",
     "output_type": "stream",
     "text": [
      "Epoch 13 elapsed: 1.702s\n",
      "\t \u001b[32mtrain_loss: 0.6037\u001b[0m\n"
     ]
    },
    {
     "name": "stderr",
     "output_type": "stream",
     "text": [
      "eval_listwise: 100%|██████████| 3334/3334 [00:01<00:00, 1701.38it/s]\n"
     ]
    },
    {
     "name": "stdout",
     "output_type": "stream",
     "text": [
      "\t eval recall@10: 0.0448\n",
      "\t eval precision@10: 0.0045\n",
      "\t eval ndcg@10: 0.0204\n",
      "\t eval map@10: 0.0131\n",
      "==============================\n"
     ]
    },
    {
     "name": "stderr",
     "output_type": "stream",
     "text": [
      "train: 100%|██████████| 304/304 [00:01<00:00, 211.81it/s]\n"
     ]
    },
    {
     "name": "stdout",
     "output_type": "stream",
     "text": [
      "Epoch 14 elapsed: 1.439s\n",
      "\t \u001b[32mtrain_loss: 0.5975\u001b[0m\n"
     ]
    },
    {
     "name": "stderr",
     "output_type": "stream",
     "text": [
      "eval_listwise: 100%|██████████| 3334/3334 [00:01<00:00, 1687.70it/s]\n"
     ]
    },
    {
     "name": "stdout",
     "output_type": "stream",
     "text": [
      "\t eval recall@10: 0.0454\n",
      "\t eval precision@10: 0.0045\n",
      "\t eval ndcg@10: 0.0206\n",
      "\t eval map@10: 0.0132\n",
      "==============================\n"
     ]
    },
    {
     "name": "stderr",
     "output_type": "stream",
     "text": [
      "train: 100%|██████████| 304/304 [00:01<00:00, 215.86it/s]\n"
     ]
    },
    {
     "name": "stdout",
     "output_type": "stream",
     "text": [
      "Epoch 15 elapsed: 1.412s\n",
      "\t \u001b[32mtrain_loss: 0.5917\u001b[0m\n"
     ]
    },
    {
     "name": "stderr",
     "output_type": "stream",
     "text": [
      "eval_listwise: 100%|██████████| 3334/3334 [00:01<00:00, 1671.72it/s]\n"
     ]
    },
    {
     "name": "stdout",
     "output_type": "stream",
     "text": [
      "\t eval recall@10: 0.0457\n",
      "\t eval precision@10: 0.0046\n",
      "\t eval ndcg@10: 0.0207\n",
      "\t eval map@10: 0.0133\n",
      "==============================\n"
     ]
    },
    {
     "name": "stderr",
     "output_type": "stream",
     "text": [
      "train: 100%|██████████| 304/304 [00:01<00:00, 177.54it/s]\n"
     ]
    },
    {
     "name": "stdout",
     "output_type": "stream",
     "text": [
      "Epoch 16 elapsed: 1.717s\n",
      "\t \u001b[32mtrain_loss: 0.5858\u001b[0m\n"
     ]
    },
    {
     "name": "stderr",
     "output_type": "stream",
     "text": [
      "eval_listwise: 100%|██████████| 3334/3334 [00:01<00:00, 1674.81it/s]\n"
     ]
    },
    {
     "name": "stdout",
     "output_type": "stream",
     "text": [
      "\t eval recall@10: 0.0477\n",
      "\t eval precision@10: 0.0048\n",
      "\t eval ndcg@10: 0.0214\n",
      "\t eval map@10: 0.0136\n",
      "==============================\n"
     ]
    },
    {
     "name": "stderr",
     "output_type": "stream",
     "text": [
      "train: 100%|██████████| 304/304 [00:01<00:00, 212.56it/s]\n"
     ]
    },
    {
     "name": "stdout",
     "output_type": "stream",
     "text": [
      "Epoch 17 elapsed: 1.436s\n",
      "\t \u001b[32mtrain_loss: 0.58\u001b[0m\n"
     ]
    },
    {
     "name": "stderr",
     "output_type": "stream",
     "text": [
      "eval_listwise: 100%|██████████| 3334/3334 [00:01<00:00, 1685.62it/s]\n"
     ]
    },
    {
     "name": "stdout",
     "output_type": "stream",
     "text": [
      "\t eval recall@10: 0.0482\n",
      "\t eval precision@10: 0.0048\n",
      "\t eval ndcg@10: 0.0216\n",
      "\t eval map@10: 0.0137\n",
      "==============================\n"
     ]
    },
    {
     "name": "stderr",
     "output_type": "stream",
     "text": [
      "train: 100%|██████████| 304/304 [00:01<00:00, 217.82it/s]\n"
     ]
    },
    {
     "name": "stdout",
     "output_type": "stream",
     "text": [
      "Epoch 18 elapsed: 1.399s\n",
      "\t \u001b[32mtrain_loss: 0.5739\u001b[0m\n"
     ]
    },
    {
     "name": "stderr",
     "output_type": "stream",
     "text": [
      "eval_listwise: 100%|██████████| 3334/3334 [00:02<00:00, 1617.47it/s]\n"
     ]
    },
    {
     "name": "stdout",
     "output_type": "stream",
     "text": [
      "\t eval recall@10: 0.0484\n",
      "\t eval precision@10: 0.0048\n",
      "\t eval ndcg@10: 0.0216\n",
      "\t eval map@10: 0.0137\n",
      "==============================\n"
     ]
    },
    {
     "name": "stderr",
     "output_type": "stream",
     "text": [
      "train: 100%|██████████| 304/304 [00:01<00:00, 215.21it/s]\n"
     ]
    },
    {
     "name": "stdout",
     "output_type": "stream",
     "text": [
      "Epoch 19 elapsed: 1.417s\n",
      "\t \u001b[32mtrain_loss: 0.5683\u001b[0m\n"
     ]
    },
    {
     "name": "stderr",
     "output_type": "stream",
     "text": [
      "eval_listwise: 100%|██████████| 3334/3334 [00:01<00:00, 1746.04it/s]\n"
     ]
    },
    {
     "name": "stdout",
     "output_type": "stream",
     "text": [
      "\t eval recall@10: 0.0498\n",
      "\t eval precision@10: 0.0050\n",
      "\t eval ndcg@10: 0.0221\n",
      "\t eval map@10: 0.0140\n",
      "==============================\n"
     ]
    },
    {
     "name": "stderr",
     "output_type": "stream",
     "text": [
      "train: 100%|██████████| 304/304 [00:01<00:00, 208.66it/s]\n"
     ]
    },
    {
     "name": "stdout",
     "output_type": "stream",
     "text": [
      "Epoch 20 elapsed: 1.460s\n",
      "\t \u001b[32mtrain_loss: 0.5624\u001b[0m\n"
     ]
    },
    {
     "name": "stderr",
     "output_type": "stream",
     "text": [
      "eval_listwise: 100%|██████████| 3334/3334 [00:01<00:00, 1684.40it/s]\n"
     ]
    },
    {
     "name": "stdout",
     "output_type": "stream",
     "text": [
      "\t eval recall@10: 0.0509\n",
      "\t eval precision@10: 0.0051\n",
      "\t eval ndcg@10: 0.0225\n",
      "\t eval map@10: 0.0142\n",
      "==============================\n"
     ]
    },
    {
     "name": "stderr",
     "output_type": "stream",
     "text": [
      "train: 100%|██████████| 304/304 [00:01<00:00, 211.48it/s]\n"
     ]
    },
    {
     "name": "stdout",
     "output_type": "stream",
     "text": [
      "Epoch 21 elapsed: 1.442s\n",
      "\t \u001b[32mtrain_loss: 0.5568\u001b[0m\n"
     ]
    },
    {
     "name": "stderr",
     "output_type": "stream",
     "text": [
      "eval_listwise: 100%|██████████| 3334/3334 [00:01<00:00, 1725.41it/s]\n"
     ]
    },
    {
     "name": "stdout",
     "output_type": "stream",
     "text": [
      "\t eval recall@10: 0.0511\n",
      "\t eval precision@10: 0.0051\n",
      "\t eval ndcg@10: 0.0225\n",
      "\t eval map@10: 0.0142\n",
      "==============================\n"
     ]
    },
    {
     "name": "stderr",
     "output_type": "stream",
     "text": [
      "train: 100%|██████████| 304/304 [00:01<00:00, 220.60it/s]\n"
     ]
    },
    {
     "name": "stdout",
     "output_type": "stream",
     "text": [
      "Epoch 22 elapsed: 1.382s\n",
      "\t \u001b[32mtrain_loss: 0.5508\u001b[0m\n"
     ]
    },
    {
     "name": "stderr",
     "output_type": "stream",
     "text": [
      "eval_listwise: 100%|██████████| 3334/3334 [00:01<00:00, 1687.22it/s]\n"
     ]
    },
    {
     "name": "stdout",
     "output_type": "stream",
     "text": [
      "\t eval recall@10: 0.0505\n",
      "\t eval precision@10: 0.0050\n",
      "\t eval ndcg@10: 0.0223\n",
      "\t eval map@10: 0.0141\n",
      "==============================\n"
     ]
    },
    {
     "name": "stderr",
     "output_type": "stream",
     "text": [
      "train: 100%|██████████| 304/304 [00:01<00:00, 224.01it/s]\n"
     ]
    },
    {
     "name": "stdout",
     "output_type": "stream",
     "text": [
      "Epoch 23 elapsed: 1.360s\n",
      "\t \u001b[32mtrain_loss: 0.5449\u001b[0m\n"
     ]
    },
    {
     "name": "stderr",
     "output_type": "stream",
     "text": [
      "eval_listwise: 100%|██████████| 3334/3334 [00:01<00:00, 1701.72it/s]\n"
     ]
    },
    {
     "name": "stdout",
     "output_type": "stream",
     "text": [
      "\t eval recall@10: 0.0498\n",
      "\t eval precision@10: 0.0050\n",
      "\t eval ndcg@10: 0.0222\n",
      "\t eval map@10: 0.0141\n",
      "==============================\n"
     ]
    },
    {
     "name": "stderr",
     "output_type": "stream",
     "text": [
      "train: 100%|██████████| 304/304 [00:01<00:00, 210.22it/s]\n"
     ]
    },
    {
     "name": "stdout",
     "output_type": "stream",
     "text": [
      "Epoch 24 elapsed: 1.450s\n",
      "\t \u001b[32mtrain_loss: 0.5391\u001b[0m\n"
     ]
    },
    {
     "name": "stderr",
     "output_type": "stream",
     "text": [
      "eval_listwise: 100%|██████████| 3334/3334 [00:02<00:00, 1222.51it/s]\n"
     ]
    },
    {
     "name": "stdout",
     "output_type": "stream",
     "text": [
      "\t eval recall@10: 0.0501\n",
      "\t eval precision@10: 0.0050\n",
      "\t eval ndcg@10: 0.0222\n",
      "\t eval map@10: 0.0140\n",
      "==============================\n"
     ]
    },
    {
     "name": "stderr",
     "output_type": "stream",
     "text": [
      "train: 100%|██████████| 304/304 [00:01<00:00, 214.28it/s]\n"
     ]
    },
    {
     "name": "stdout",
     "output_type": "stream",
     "text": [
      "Epoch 25 elapsed: 1.423s\n",
      "\t \u001b[32mtrain_loss: 0.5329\u001b[0m\n"
     ]
    },
    {
     "name": "stderr",
     "output_type": "stream",
     "text": [
      "eval_listwise: 100%|██████████| 3334/3334 [00:01<00:00, 1725.66it/s]\n"
     ]
    },
    {
     "name": "stdout",
     "output_type": "stream",
     "text": [
      "\t eval recall@10: 0.0500\n",
      "\t eval precision@10: 0.0050\n",
      "\t eval ndcg@10: 0.0224\n",
      "\t eval map@10: 0.0143\n",
      "==============================\n"
     ]
    },
    {
     "name": "stderr",
     "output_type": "stream",
     "text": [
      "train: 100%|██████████| 304/304 [00:01<00:00, 217.57it/s]\n"
     ]
    },
    {
     "name": "stdout",
     "output_type": "stream",
     "text": [
      "Epoch 26 elapsed: 1.401s\n",
      "\t \u001b[32mtrain_loss: 0.5275\u001b[0m\n"
     ]
    },
    {
     "name": "stderr",
     "output_type": "stream",
     "text": [
      "eval_listwise: 100%|██████████| 3334/3334 [00:01<00:00, 1717.78it/s]\n"
     ]
    },
    {
     "name": "stdout",
     "output_type": "stream",
     "text": [
      "\t eval recall@10: 0.0496\n",
      "\t eval precision@10: 0.0050\n",
      "\t eval ndcg@10: 0.0228\n",
      "\t eval map@10: 0.0149\n",
      "==============================\n"
     ]
    },
    {
     "name": "stderr",
     "output_type": "stream",
     "text": [
      "train: 100%|██████████| 304/304 [00:01<00:00, 219.18it/s]\n"
     ]
    },
    {
     "name": "stdout",
     "output_type": "stream",
     "text": [
      "Epoch 27 elapsed: 1.392s\n",
      "\t \u001b[32mtrain_loss: 0.5213\u001b[0m\n"
     ]
    },
    {
     "name": "stderr",
     "output_type": "stream",
     "text": [
      "eval_listwise: 100%|██████████| 3334/3334 [00:02<00:00, 1645.40it/s]\n"
     ]
    },
    {
     "name": "stdout",
     "output_type": "stream",
     "text": [
      "\t eval recall@10: 0.0495\n",
      "\t eval precision@10: 0.0050\n",
      "\t eval ndcg@10: 0.0225\n",
      "\t eval map@10: 0.0146\n",
      "==============================\n"
     ]
    },
    {
     "name": "stderr",
     "output_type": "stream",
     "text": [
      "train: 100%|██████████| 304/304 [00:01<00:00, 200.59it/s]\n"
     ]
    },
    {
     "name": "stdout",
     "output_type": "stream",
     "text": [
      "Epoch 28 elapsed: 1.519s\n",
      "\t \u001b[32mtrain_loss: 0.5157\u001b[0m\n"
     ]
    },
    {
     "name": "stderr",
     "output_type": "stream",
     "text": [
      "eval_listwise: 100%|██████████| 3334/3334 [00:02<00:00, 1610.07it/s]\n"
     ]
    },
    {
     "name": "stdout",
     "output_type": "stream",
     "text": [
      "\t eval recall@10: 0.0505\n",
      "\t eval precision@10: 0.0050\n",
      "\t eval ndcg@10: 0.0229\n",
      "\t eval map@10: 0.0148\n",
      "==============================\n"
     ]
    },
    {
     "name": "stderr",
     "output_type": "stream",
     "text": [
      "train: 100%|██████████| 304/304 [00:01<00:00, 210.30it/s]\n"
     ]
    },
    {
     "name": "stdout",
     "output_type": "stream",
     "text": [
      "Epoch 29 elapsed: 1.451s\n",
      "\t \u001b[32mtrain_loss: 0.5101\u001b[0m\n"
     ]
    },
    {
     "name": "stderr",
     "output_type": "stream",
     "text": [
      "eval_listwise: 100%|██████████| 3334/3334 [00:01<00:00, 1712.80it/s]\n"
     ]
    },
    {
     "name": "stdout",
     "output_type": "stream",
     "text": [
      "\t eval recall@10: 0.0510\n",
      "\t eval precision@10: 0.0051\n",
      "\t eval ndcg@10: 0.0234\n",
      "\t eval map@10: 0.0152\n",
      "==============================\n"
     ]
    },
    {
     "name": "stderr",
     "output_type": "stream",
     "text": [
      "train: 100%|██████████| 304/304 [00:01<00:00, 195.58it/s]\n"
     ]
    },
    {
     "name": "stdout",
     "output_type": "stream",
     "text": [
      "Epoch 30 elapsed: 1.560s\n",
      "\t \u001b[32mtrain_loss: 0.5042\u001b[0m\n"
     ]
    },
    {
     "name": "stderr",
     "output_type": "stream",
     "text": [
      "eval_listwise: 100%|██████████| 3334/3334 [00:02<00:00, 1576.95it/s]\n"
     ]
    },
    {
     "name": "stdout",
     "output_type": "stream",
     "text": [
      "\t eval recall@10: 0.0513\n",
      "\t eval precision@10: 0.0051\n",
      "\t eval ndcg@10: 0.0236\n",
      "\t eval map@10: 0.0154\n",
      "==============================\n"
     ]
    },
    {
     "name": "stderr",
     "output_type": "stream",
     "text": [
      "train: 100%|██████████| 304/304 [00:01<00:00, 219.71it/s]\n"
     ]
    },
    {
     "name": "stdout",
     "output_type": "stream",
     "text": [
      "Epoch 31 elapsed: 1.387s\n",
      "\t \u001b[32mtrain_loss: 0.4986\u001b[0m\n"
     ]
    },
    {
     "name": "stderr",
     "output_type": "stream",
     "text": [
      "eval_listwise: 100%|██████████| 3334/3334 [00:02<00:00, 1593.32it/s]\n"
     ]
    },
    {
     "name": "stdout",
     "output_type": "stream",
     "text": [
      "\t eval recall@10: 0.0513\n",
      "\t eval precision@10: 0.0051\n",
      "\t eval ndcg@10: 0.0238\n",
      "\t eval map@10: 0.0157\n",
      "==============================\n"
     ]
    },
    {
     "name": "stderr",
     "output_type": "stream",
     "text": [
      "train: 100%|██████████| 304/304 [00:01<00:00, 196.40it/s]\n"
     ]
    },
    {
     "name": "stdout",
     "output_type": "stream",
     "text": [
      "Epoch 32 elapsed: 1.552s\n",
      "\t \u001b[32mtrain_loss: 0.4934\u001b[0m\n"
     ]
    },
    {
     "name": "stderr",
     "output_type": "stream",
     "text": [
      "eval_listwise: 100%|██████████| 3334/3334 [00:02<00:00, 1441.48it/s]\n"
     ]
    },
    {
     "name": "stdout",
     "output_type": "stream",
     "text": [
      "\t eval recall@10: 0.0516\n",
      "\t eval precision@10: 0.0052\n",
      "\t eval ndcg@10: 0.0242\n",
      "\t eval map@10: 0.0160\n",
      "==============================\n"
     ]
    },
    {
     "name": "stderr",
     "output_type": "stream",
     "text": [
      "train: 100%|██████████| 304/304 [00:01<00:00, 196.47it/s]\n"
     ]
    },
    {
     "name": "stdout",
     "output_type": "stream",
     "text": [
      "Epoch 33 elapsed: 1.551s\n",
      "\t \u001b[32mtrain_loss: 0.4878\u001b[0m\n"
     ]
    },
    {
     "name": "stderr",
     "output_type": "stream",
     "text": [
      "eval_listwise: 100%|██████████| 3334/3334 [00:02<00:00, 1637.62it/s]\n"
     ]
    },
    {
     "name": "stdout",
     "output_type": "stream",
     "text": [
      "\t eval recall@10: 0.0520\n",
      "\t eval precision@10: 0.0052\n",
      "\t eval ndcg@10: 0.0245\n",
      "\t eval map@10: 0.0164\n",
      "==============================\n"
     ]
    },
    {
     "name": "stderr",
     "output_type": "stream",
     "text": [
      "train: 100%|██████████| 304/304 [00:01<00:00, 175.86it/s]\n"
     ]
    },
    {
     "name": "stdout",
     "output_type": "stream",
     "text": [
      "Epoch 34 elapsed: 1.733s\n",
      "\t \u001b[32mtrain_loss: 0.483\u001b[0m\n"
     ]
    },
    {
     "name": "stderr",
     "output_type": "stream",
     "text": [
      "eval_listwise: 100%|██████████| 3334/3334 [00:02<00:00, 1650.12it/s]\n"
     ]
    },
    {
     "name": "stdout",
     "output_type": "stream",
     "text": [
      "\t eval recall@10: 0.0523\n",
      "\t eval precision@10: 0.0052\n",
      "\t eval ndcg@10: 0.0248\n",
      "\t eval map@10: 0.0167\n",
      "==============================\n"
     ]
    },
    {
     "name": "stderr",
     "output_type": "stream",
     "text": [
      "train: 100%|██████████| 304/304 [00:01<00:00, 205.29it/s]\n"
     ]
    },
    {
     "name": "stdout",
     "output_type": "stream",
     "text": [
      "Epoch 35 elapsed: 1.485s\n",
      "\t \u001b[32mtrain_loss: 0.478\u001b[0m\n"
     ]
    },
    {
     "name": "stderr",
     "output_type": "stream",
     "text": [
      "eval_listwise: 100%|██████████| 3334/3334 [00:02<00:00, 1526.28it/s]\n"
     ]
    },
    {
     "name": "stdout",
     "output_type": "stream",
     "text": [
      "\t eval recall@10: 0.0525\n",
      "\t eval precision@10: 0.0053\n",
      "\t eval ndcg@10: 0.0253\n",
      "\t eval map@10: 0.0172\n",
      "==============================\n"
     ]
    },
    {
     "name": "stderr",
     "output_type": "stream",
     "text": [
      "train: 100%|██████████| 304/304 [00:01<00:00, 201.94it/s]\n"
     ]
    },
    {
     "name": "stdout",
     "output_type": "stream",
     "text": [
      "Epoch 36 elapsed: 1.511s\n",
      "\t \u001b[32mtrain_loss: 0.4731\u001b[0m\n"
     ]
    },
    {
     "name": "stderr",
     "output_type": "stream",
     "text": [
      "eval_listwise: 100%|██████████| 3334/3334 [00:02<00:00, 1478.34it/s]\n"
     ]
    },
    {
     "name": "stdout",
     "output_type": "stream",
     "text": [
      "\t eval recall@10: 0.0526\n",
      "\t eval precision@10: 0.0053\n",
      "\t eval ndcg@10: 0.0259\n",
      "\t eval map@10: 0.0180\n",
      "==============================\n"
     ]
    },
    {
     "name": "stderr",
     "output_type": "stream",
     "text": [
      "train: 100%|██████████| 304/304 [00:01<00:00, 189.07it/s]\n"
     ]
    },
    {
     "name": "stdout",
     "output_type": "stream",
     "text": [
      "Epoch 37 elapsed: 1.613s\n",
      "\t \u001b[32mtrain_loss: 0.4688\u001b[0m\n"
     ]
    },
    {
     "name": "stderr",
     "output_type": "stream",
     "text": [
      "eval_listwise: 100%|██████████| 3334/3334 [00:02<00:00, 1540.55it/s]\n"
     ]
    },
    {
     "name": "stdout",
     "output_type": "stream",
     "text": [
      "\t eval recall@10: 0.0532\n",
      "\t eval precision@10: 0.0053\n",
      "\t eval ndcg@10: 0.0262\n",
      "\t eval map@10: 0.0182\n",
      "==============================\n"
     ]
    },
    {
     "name": "stderr",
     "output_type": "stream",
     "text": [
      "train: 100%|██████████| 304/304 [00:01<00:00, 211.62it/s]\n"
     ]
    },
    {
     "name": "stdout",
     "output_type": "stream",
     "text": [
      "Epoch 38 elapsed: 1.441s\n",
      "\t \u001b[32mtrain_loss: 0.464\u001b[0m\n"
     ]
    },
    {
     "name": "stderr",
     "output_type": "stream",
     "text": [
      "eval_listwise: 100%|██████████| 3334/3334 [00:02<00:00, 1597.54it/s]\n"
     ]
    },
    {
     "name": "stdout",
     "output_type": "stream",
     "text": [
      "\t eval recall@10: 0.0533\n",
      "\t eval precision@10: 0.0053\n",
      "\t eval ndcg@10: 0.0265\n",
      "\t eval map@10: 0.0185\n",
      "==============================\n"
     ]
    },
    {
     "name": "stderr",
     "output_type": "stream",
     "text": [
      "train: 100%|██████████| 304/304 [00:01<00:00, 192.42it/s]\n"
     ]
    },
    {
     "name": "stdout",
     "output_type": "stream",
     "text": [
      "Epoch 39 elapsed: 1.585s\n",
      "\t \u001b[32mtrain_loss: 0.4599\u001b[0m\n"
     ]
    },
    {
     "name": "stderr",
     "output_type": "stream",
     "text": [
      "eval_listwise: 100%|██████████| 3334/3334 [00:02<00:00, 1528.06it/s]\n"
     ]
    },
    {
     "name": "stdout",
     "output_type": "stream",
     "text": [
      "\t eval recall@10: 0.0538\n",
      "\t eval precision@10: 0.0054\n",
      "\t eval ndcg@10: 0.0267\n",
      "\t eval map@10: 0.0186\n",
      "==============================\n"
     ]
    },
    {
     "name": "stderr",
     "output_type": "stream",
     "text": [
      "train: 100%|██████████| 304/304 [00:01<00:00, 211.28it/s]\n"
     ]
    },
    {
     "name": "stdout",
     "output_type": "stream",
     "text": [
      "Epoch 40 elapsed: 1.444s\n",
      "\t \u001b[32mtrain_loss: 0.4562\u001b[0m\n"
     ]
    },
    {
     "name": "stderr",
     "output_type": "stream",
     "text": [
      "eval_listwise: 100%|██████████| 3334/3334 [00:02<00:00, 1436.36it/s]\n"
     ]
    },
    {
     "name": "stdout",
     "output_type": "stream",
     "text": [
      "\t eval recall@10: 0.0534\n",
      "\t eval precision@10: 0.0053\n",
      "\t eval ndcg@10: 0.0265\n",
      "\t eval map@10: 0.0186\n",
      "==============================\n"
     ]
    },
    {
     "name": "stderr",
     "output_type": "stream",
     "text": [
      "train: 100%|██████████| 304/304 [00:01<00:00, 200.56it/s]\n"
     ]
    },
    {
     "name": "stdout",
     "output_type": "stream",
     "text": [
      "Epoch 41 elapsed: 1.519s\n",
      "\t \u001b[32mtrain_loss: 0.4525\u001b[0m\n"
     ]
    },
    {
     "name": "stderr",
     "output_type": "stream",
     "text": [
      "eval_listwise: 100%|██████████| 3334/3334 [00:02<00:00, 1619.75it/s]\n"
     ]
    },
    {
     "name": "stdout",
     "output_type": "stream",
     "text": [
      "\t eval recall@10: 0.0540\n",
      "\t eval precision@10: 0.0054\n",
      "\t eval ndcg@10: 0.0268\n",
      "\t eval map@10: 0.0187\n",
      "==============================\n"
     ]
    },
    {
     "name": "stderr",
     "output_type": "stream",
     "text": [
      "train: 100%|██████████| 304/304 [00:01<00:00, 207.42it/s]\n"
     ]
    },
    {
     "name": "stdout",
     "output_type": "stream",
     "text": [
      "Epoch 42 elapsed: 1.470s\n",
      "\t \u001b[32mtrain_loss: 0.4485\u001b[0m\n"
     ]
    },
    {
     "name": "stderr",
     "output_type": "stream",
     "text": [
      "eval_listwise: 100%|██████████| 3334/3334 [00:02<00:00, 1666.86it/s]\n"
     ]
    },
    {
     "name": "stdout",
     "output_type": "stream",
     "text": [
      "\t eval recall@10: 0.0542\n",
      "\t eval precision@10: 0.0054\n",
      "\t eval ndcg@10: 0.0268\n",
      "\t eval map@10: 0.0187\n",
      "==============================\n"
     ]
    },
    {
     "name": "stderr",
     "output_type": "stream",
     "text": [
      "train: 100%|██████████| 304/304 [00:01<00:00, 197.24it/s]\n"
     ]
    },
    {
     "name": "stdout",
     "output_type": "stream",
     "text": [
      "Epoch 43 elapsed: 1.545s\n",
      "\t \u001b[32mtrain_loss: 0.4453\u001b[0m\n"
     ]
    },
    {
     "name": "stderr",
     "output_type": "stream",
     "text": [
      "eval_listwise: 100%|██████████| 3334/3334 [00:02<00:00, 1572.25it/s]\n"
     ]
    },
    {
     "name": "stdout",
     "output_type": "stream",
     "text": [
      "\t eval recall@10: 0.0546\n",
      "\t eval precision@10: 0.0055\n",
      "\t eval ndcg@10: 0.0270\n",
      "\t eval map@10: 0.0188\n",
      "==============================\n"
     ]
    },
    {
     "name": "stderr",
     "output_type": "stream",
     "text": [
      "train: 100%|██████████| 304/304 [00:01<00:00, 199.24it/s]\n"
     ]
    },
    {
     "name": "stdout",
     "output_type": "stream",
     "text": [
      "Epoch 44 elapsed: 1.531s\n",
      "\t \u001b[32mtrain_loss: 0.4418\u001b[0m\n"
     ]
    },
    {
     "name": "stderr",
     "output_type": "stream",
     "text": [
      "eval_listwise: 100%|██████████| 3334/3334 [00:02<00:00, 1556.02it/s]\n"
     ]
    },
    {
     "name": "stdout",
     "output_type": "stream",
     "text": [
      "\t eval recall@10: 0.0550\n",
      "\t eval precision@10: 0.0055\n",
      "\t eval ndcg@10: 0.0272\n",
      "\t eval map@10: 0.0189\n",
      "==============================\n"
     ]
    },
    {
     "name": "stderr",
     "output_type": "stream",
     "text": [
      "train: 100%|██████████| 304/304 [00:01<00:00, 173.33it/s]\n"
     ]
    },
    {
     "name": "stdout",
     "output_type": "stream",
     "text": [
      "Epoch 45 elapsed: 1.761s\n",
      "\t \u001b[32mtrain_loss: 0.4387\u001b[0m\n"
     ]
    },
    {
     "name": "stderr",
     "output_type": "stream",
     "text": [
      "eval_listwise: 100%|██████████| 3334/3334 [00:02<00:00, 1615.79it/s]\n"
     ]
    },
    {
     "name": "stdout",
     "output_type": "stream",
     "text": [
      "\t eval recall@10: 0.0557\n",
      "\t eval precision@10: 0.0056\n",
      "\t eval ndcg@10: 0.0274\n",
      "\t eval map@10: 0.0191\n",
      "==============================\n"
     ]
    },
    {
     "name": "stderr",
     "output_type": "stream",
     "text": [
      "train: 100%|██████████| 304/304 [00:01<00:00, 195.54it/s]\n"
     ]
    },
    {
     "name": "stdout",
     "output_type": "stream",
     "text": [
      "Epoch 46 elapsed: 1.560s\n",
      "\t \u001b[32mtrain_loss: 0.4359\u001b[0m\n"
     ]
    },
    {
     "name": "stderr",
     "output_type": "stream",
     "text": [
      "eval_listwise: 100%|██████████| 3334/3334 [00:02<00:00, 1454.66it/s]\n"
     ]
    },
    {
     "name": "stdout",
     "output_type": "stream",
     "text": [
      "\t eval recall@10: 0.0559\n",
      "\t eval precision@10: 0.0056\n",
      "\t eval ndcg@10: 0.0276\n",
      "\t eval map@10: 0.0192\n",
      "==============================\n"
     ]
    },
    {
     "name": "stderr",
     "output_type": "stream",
     "text": [
      "train: 100%|██████████| 304/304 [00:01<00:00, 175.19it/s]\n"
     ]
    },
    {
     "name": "stdout",
     "output_type": "stream",
     "text": [
      "Epoch 47 elapsed: 1.741s\n",
      "\t \u001b[32mtrain_loss: 0.4325\u001b[0m\n"
     ]
    },
    {
     "name": "stderr",
     "output_type": "stream",
     "text": [
      "eval_listwise: 100%|██████████| 3334/3334 [00:02<00:00, 1547.08it/s]\n"
     ]
    },
    {
     "name": "stdout",
     "output_type": "stream",
     "text": [
      "\t eval recall@10: 0.0569\n",
      "\t eval precision@10: 0.0057\n",
      "\t eval ndcg@10: 0.0279\n",
      "\t eval map@10: 0.0194\n",
      "==============================\n"
     ]
    },
    {
     "name": "stderr",
     "output_type": "stream",
     "text": [
      "train: 100%|██████████| 304/304 [00:01<00:00, 196.96it/s]\n"
     ]
    },
    {
     "name": "stdout",
     "output_type": "stream",
     "text": [
      "Epoch 48 elapsed: 1.548s\n",
      "\t \u001b[32mtrain_loss: 0.4293\u001b[0m\n"
     ]
    },
    {
     "name": "stderr",
     "output_type": "stream",
     "text": [
      "eval_listwise: 100%|██████████| 3334/3334 [00:03<00:00, 1077.75it/s]\n"
     ]
    },
    {
     "name": "stdout",
     "output_type": "stream",
     "text": [
      "\t eval recall@10: 0.0568\n",
      "\t eval precision@10: 0.0057\n",
      "\t eval ndcg@10: 0.0279\n",
      "\t eval map@10: 0.0194\n",
      "==============================\n"
     ]
    },
    {
     "name": "stderr",
     "output_type": "stream",
     "text": [
      "train: 100%|██████████| 304/304 [00:01<00:00, 198.13it/s]\n"
     ]
    },
    {
     "name": "stdout",
     "output_type": "stream",
     "text": [
      "Epoch 49 elapsed: 1.539s\n",
      "\t \u001b[32mtrain_loss: 0.4275\u001b[0m\n"
     ]
    },
    {
     "name": "stderr",
     "output_type": "stream",
     "text": [
      "eval_listwise: 100%|██████████| 3334/3334 [00:02<00:00, 1635.64it/s]\n"
     ]
    },
    {
     "name": "stdout",
     "output_type": "stream",
     "text": [
      "\t eval recall@10: 0.0583\n",
      "\t eval precision@10: 0.0058\n",
      "\t eval ndcg@10: 0.0284\n",
      "\t eval map@10: 0.0197\n",
      "==============================\n"
     ]
    },
    {
     "name": "stderr",
     "output_type": "stream",
     "text": [
      "train: 100%|██████████| 304/304 [00:01<00:00, 200.74it/s]\n"
     ]
    },
    {
     "name": "stdout",
     "output_type": "stream",
     "text": [
      "Epoch 50 elapsed: 1.519s\n",
      "\t \u001b[32mtrain_loss: 0.4245\u001b[0m\n"
     ]
    },
    {
     "name": "stderr",
     "output_type": "stream",
     "text": [
      "eval_listwise: 100%|██████████| 3334/3334 [00:02<00:00, 1607.97it/s]\n"
     ]
    },
    {
     "name": "stdout",
     "output_type": "stream",
     "text": [
      "\t eval recall@10: 0.0591\n",
      "\t eval precision@10: 0.0059\n",
      "\t eval ndcg@10: 0.0288\n",
      "\t eval map@10: 0.0199\n",
      "==============================\n"
     ]
    },
    {
     "name": "stderr",
     "output_type": "stream",
     "text": [
      "train: 100%|██████████| 304/304 [00:01<00:00, 214.11it/s]\n"
     ]
    },
    {
     "name": "stdout",
     "output_type": "stream",
     "text": [
      "Epoch 51 elapsed: 1.424s\n",
      "\t \u001b[32mtrain_loss: 0.422\u001b[0m\n"
     ]
    },
    {
     "name": "stderr",
     "output_type": "stream",
     "text": [
      "eval_listwise: 100%|██████████| 3334/3334 [00:01<00:00, 1692.35it/s]\n"
     ]
    },
    {
     "name": "stdout",
     "output_type": "stream",
     "text": [
      "\t eval recall@10: 0.0598\n",
      "\t eval precision@10: 0.0060\n",
      "\t eval ndcg@10: 0.0289\n",
      "\t eval map@10: 0.0199\n",
      "==============================\n"
     ]
    },
    {
     "name": "stderr",
     "output_type": "stream",
     "text": [
      "train: 100%|██████████| 304/304 [00:01<00:00, 206.10it/s]\n"
     ]
    },
    {
     "name": "stdout",
     "output_type": "stream",
     "text": [
      "Epoch 52 elapsed: 1.479s\n",
      "\t \u001b[32mtrain_loss: 0.4201\u001b[0m\n"
     ]
    },
    {
     "name": "stderr",
     "output_type": "stream",
     "text": [
      "eval_listwise: 100%|██████████| 3334/3334 [00:02<00:00, 1612.85it/s]\n"
     ]
    },
    {
     "name": "stdout",
     "output_type": "stream",
     "text": [
      "\t eval recall@10: 0.0606\n",
      "\t eval precision@10: 0.0061\n",
      "\t eval ndcg@10: 0.0291\n",
      "\t eval map@10: 0.0199\n",
      "==============================\n"
     ]
    },
    {
     "name": "stderr",
     "output_type": "stream",
     "text": [
      "train: 100%|██████████| 304/304 [00:01<00:00, 216.96it/s]\n"
     ]
    },
    {
     "name": "stdout",
     "output_type": "stream",
     "text": [
      "Epoch 53 elapsed: 1.406s\n",
      "\t \u001b[32mtrain_loss: 0.4178\u001b[0m\n"
     ]
    },
    {
     "name": "stderr",
     "output_type": "stream",
     "text": [
      "eval_listwise: 100%|██████████| 3334/3334 [00:02<00:00, 1611.38it/s]\n"
     ]
    },
    {
     "name": "stdout",
     "output_type": "stream",
     "text": [
      "\t eval recall@10: 0.0606\n",
      "\t eval precision@10: 0.0061\n",
      "\t eval ndcg@10: 0.0292\n",
      "\t eval map@10: 0.0200\n",
      "==============================\n"
     ]
    },
    {
     "name": "stderr",
     "output_type": "stream",
     "text": [
      "train: 100%|██████████| 304/304 [00:01<00:00, 207.97it/s]\n"
     ]
    },
    {
     "name": "stdout",
     "output_type": "stream",
     "text": [
      "Epoch 54 elapsed: 1.466s\n",
      "\t \u001b[32mtrain_loss: 0.4154\u001b[0m\n"
     ]
    },
    {
     "name": "stderr",
     "output_type": "stream",
     "text": [
      "eval_listwise: 100%|██████████| 3334/3334 [00:01<00:00, 1716.69it/s]\n"
     ]
    },
    {
     "name": "stdout",
     "output_type": "stream",
     "text": [
      "\t eval recall@10: 0.0613\n",
      "\t eval precision@10: 0.0061\n",
      "\t eval ndcg@10: 0.0296\n",
      "\t eval map@10: 0.0203\n",
      "==============================\n"
     ]
    },
    {
     "name": "stderr",
     "output_type": "stream",
     "text": [
      "train: 100%|██████████| 304/304 [00:01<00:00, 204.29it/s]\n"
     ]
    },
    {
     "name": "stdout",
     "output_type": "stream",
     "text": [
      "Epoch 55 elapsed: 1.492s\n",
      "\t \u001b[32mtrain_loss: 0.4127\u001b[0m\n"
     ]
    },
    {
     "name": "stderr",
     "output_type": "stream",
     "text": [
      "eval_listwise: 100%|██████████| 3334/3334 [00:01<00:00, 1685.63it/s]\n"
     ]
    },
    {
     "name": "stdout",
     "output_type": "stream",
     "text": [
      "\t eval recall@10: 0.0617\n",
      "\t eval precision@10: 0.0062\n",
      "\t eval ndcg@10: 0.0299\n",
      "\t eval map@10: 0.0206\n",
      "==============================\n"
     ]
    },
    {
     "name": "stderr",
     "output_type": "stream",
     "text": [
      "train: 100%|██████████| 304/304 [00:01<00:00, 194.03it/s]\n"
     ]
    },
    {
     "name": "stdout",
     "output_type": "stream",
     "text": [
      "Epoch 56 elapsed: 1.571s\n",
      "\t \u001b[32mtrain_loss: 0.4112\u001b[0m\n"
     ]
    },
    {
     "name": "stderr",
     "output_type": "stream",
     "text": [
      "eval_listwise: 100%|██████████| 3334/3334 [00:02<00:00, 1293.18it/s]\n"
     ]
    },
    {
     "name": "stdout",
     "output_type": "stream",
     "text": [
      "\t eval recall@10: 0.0619\n",
      "\t eval precision@10: 0.0062\n",
      "\t eval ndcg@10: 0.0301\n",
      "\t eval map@10: 0.0207\n",
      "==============================\n"
     ]
    },
    {
     "name": "stderr",
     "output_type": "stream",
     "text": [
      "train: 100%|██████████| 304/304 [00:01<00:00, 207.92it/s]\n"
     ]
    },
    {
     "name": "stdout",
     "output_type": "stream",
     "text": [
      "Epoch 57 elapsed: 1.466s\n",
      "\t \u001b[32mtrain_loss: 0.4094\u001b[0m\n"
     ]
    },
    {
     "name": "stderr",
     "output_type": "stream",
     "text": [
      "eval_listwise: 100%|██████████| 3334/3334 [00:02<00:00, 1586.01it/s]\n"
     ]
    },
    {
     "name": "stdout",
     "output_type": "stream",
     "text": [
      "\t eval recall@10: 0.0627\n",
      "\t eval precision@10: 0.0063\n",
      "\t eval ndcg@10: 0.0303\n",
      "\t eval map@10: 0.0208\n",
      "==============================\n"
     ]
    },
    {
     "name": "stderr",
     "output_type": "stream",
     "text": [
      "train: 100%|██████████| 304/304 [00:01<00:00, 209.26it/s]\n"
     ]
    },
    {
     "name": "stdout",
     "output_type": "stream",
     "text": [
      "Epoch 58 elapsed: 1.457s\n",
      "\t \u001b[32mtrain_loss: 0.4079\u001b[0m\n"
     ]
    },
    {
     "name": "stderr",
     "output_type": "stream",
     "text": [
      "eval_listwise: 100%|██████████| 3334/3334 [00:02<00:00, 1596.32it/s]\n"
     ]
    },
    {
     "name": "stdout",
     "output_type": "stream",
     "text": [
      "\t eval recall@10: 0.0626\n",
      "\t eval precision@10: 0.0063\n",
      "\t eval ndcg@10: 0.0304\n",
      "\t eval map@10: 0.0209\n",
      "==============================\n"
     ]
    },
    {
     "name": "stderr",
     "output_type": "stream",
     "text": [
      "train: 100%|██████████| 304/304 [00:01<00:00, 213.67it/s]\n"
     ]
    },
    {
     "name": "stdout",
     "output_type": "stream",
     "text": [
      "Epoch 59 elapsed: 1.427s\n",
      "\t \u001b[32mtrain_loss: 0.4062\u001b[0m\n"
     ]
    },
    {
     "name": "stderr",
     "output_type": "stream",
     "text": [
      "eval_listwise: 100%|██████████| 3334/3334 [00:02<00:00, 1603.28it/s]\n"
     ]
    },
    {
     "name": "stdout",
     "output_type": "stream",
     "text": [
      "\t eval recall@10: 0.0626\n",
      "\t eval precision@10: 0.0063\n",
      "\t eval ndcg@10: 0.0304\n",
      "\t eval map@10: 0.0209\n",
      "==============================\n"
     ]
    },
    {
     "name": "stderr",
     "output_type": "stream",
     "text": [
      "train: 100%|██████████| 304/304 [00:01<00:00, 191.18it/s]\n"
     ]
    },
    {
     "name": "stdout",
     "output_type": "stream",
     "text": [
      "Epoch 60 elapsed: 1.595s\n",
      "\t \u001b[32mtrain_loss: 0.4046\u001b[0m\n"
     ]
    },
    {
     "name": "stderr",
     "output_type": "stream",
     "text": [
      "eval_listwise: 100%|██████████| 3334/3334 [00:02<00:00, 1659.98it/s]\n"
     ]
    },
    {
     "name": "stdout",
     "output_type": "stream",
     "text": [
      "\t eval recall@10: 0.0627\n",
      "\t eval precision@10: 0.0063\n",
      "\t eval ndcg@10: 0.0306\n",
      "\t eval map@10: 0.0212\n",
      "==============================\n"
     ]
    },
    {
     "name": "stderr",
     "output_type": "stream",
     "text": [
      "train: 100%|██████████| 304/304 [00:01<00:00, 189.56it/s]\n"
     ]
    },
    {
     "name": "stdout",
     "output_type": "stream",
     "text": [
      "Epoch 61 elapsed: 1.608s\n",
      "\t \u001b[32mtrain_loss: 0.4021\u001b[0m\n"
     ]
    },
    {
     "name": "stderr",
     "output_type": "stream",
     "text": [
      "eval_listwise: 100%|██████████| 3334/3334 [00:02<00:00, 1530.16it/s]\n"
     ]
    },
    {
     "name": "stdout",
     "output_type": "stream",
     "text": [
      "\t eval recall@10: 0.0633\n",
      "\t eval precision@10: 0.0063\n",
      "\t eval ndcg@10: 0.0309\n",
      "\t eval map@10: 0.0214\n",
      "==============================\n"
     ]
    },
    {
     "name": "stderr",
     "output_type": "stream",
     "text": [
      "train: 100%|██████████| 304/304 [00:01<00:00, 210.88it/s]\n"
     ]
    },
    {
     "name": "stdout",
     "output_type": "stream",
     "text": [
      "Epoch 62 elapsed: 1.446s\n",
      "\t \u001b[32mtrain_loss: 0.4011\u001b[0m\n"
     ]
    },
    {
     "name": "stderr",
     "output_type": "stream",
     "text": [
      "eval_listwise: 100%|██████████| 3334/3334 [00:02<00:00, 1629.32it/s]\n"
     ]
    },
    {
     "name": "stdout",
     "output_type": "stream",
     "text": [
      "\t eval recall@10: 0.0634\n",
      "\t eval precision@10: 0.0063\n",
      "\t eval ndcg@10: 0.0309\n",
      "\t eval map@10: 0.0213\n",
      "==============================\n"
     ]
    },
    {
     "name": "stderr",
     "output_type": "stream",
     "text": [
      "train: 100%|██████████| 304/304 [00:01<00:00, 193.24it/s]\n"
     ]
    },
    {
     "name": "stdout",
     "output_type": "stream",
     "text": [
      "Epoch 63 elapsed: 1.578s\n",
      "\t \u001b[32mtrain_loss: 0.3999\u001b[0m\n"
     ]
    },
    {
     "name": "stderr",
     "output_type": "stream",
     "text": [
      "eval_listwise: 100%|██████████| 3334/3334 [00:02<00:00, 1204.92it/s]\n"
     ]
    },
    {
     "name": "stdout",
     "output_type": "stream",
     "text": [
      "\t eval recall@10: 0.0635\n",
      "\t eval precision@10: 0.0063\n",
      "\t eval ndcg@10: 0.0310\n",
      "\t eval map@10: 0.0214\n",
      "==============================\n"
     ]
    },
    {
     "name": "stderr",
     "output_type": "stream",
     "text": [
      "train: 100%|██████████| 304/304 [00:01<00:00, 181.78it/s]\n"
     ]
    },
    {
     "name": "stdout",
     "output_type": "stream",
     "text": [
      "Epoch 64 elapsed: 1.677s\n",
      "\t \u001b[32mtrain_loss: 0.3974\u001b[0m\n"
     ]
    },
    {
     "name": "stderr",
     "output_type": "stream",
     "text": [
      "eval_listwise: 100%|██████████| 3334/3334 [00:02<00:00, 1374.45it/s]\n"
     ]
    },
    {
     "name": "stdout",
     "output_type": "stream",
     "text": [
      "\t eval recall@10: 0.0640\n",
      "\t eval precision@10: 0.0064\n",
      "\t eval ndcg@10: 0.0311\n",
      "\t eval map@10: 0.0215\n",
      "==============================\n"
     ]
    },
    {
     "name": "stderr",
     "output_type": "stream",
     "text": [
      "train: 100%|██████████| 304/304 [00:01<00:00, 195.69it/s]\n"
     ]
    },
    {
     "name": "stdout",
     "output_type": "stream",
     "text": [
      "Epoch 65 elapsed: 1.558s\n",
      "\t \u001b[32mtrain_loss: 0.3962\u001b[0m\n"
     ]
    },
    {
     "name": "stderr",
     "output_type": "stream",
     "text": [
      "eval_listwise: 100%|██████████| 3334/3334 [00:02<00:00, 1584.70it/s]\n"
     ]
    },
    {
     "name": "stdout",
     "output_type": "stream",
     "text": [
      "\t eval recall@10: 0.0652\n",
      "\t eval precision@10: 0.0065\n",
      "\t eval ndcg@10: 0.0315\n",
      "\t eval map@10: 0.0216\n",
      "==============================\n"
     ]
    },
    {
     "name": "stderr",
     "output_type": "stream",
     "text": [
      "train: 100%|██████████| 304/304 [00:01<00:00, 205.54it/s]\n"
     ]
    },
    {
     "name": "stdout",
     "output_type": "stream",
     "text": [
      "Epoch 66 elapsed: 1.483s\n",
      "\t \u001b[32mtrain_loss: 0.3953\u001b[0m\n"
     ]
    },
    {
     "name": "stderr",
     "output_type": "stream",
     "text": [
      "eval_listwise: 100%|██████████| 3334/3334 [00:02<00:00, 1599.75it/s]\n"
     ]
    },
    {
     "name": "stdout",
     "output_type": "stream",
     "text": [
      "\t eval recall@10: 0.0652\n",
      "\t eval precision@10: 0.0065\n",
      "\t eval ndcg@10: 0.0317\n",
      "\t eval map@10: 0.0218\n",
      "==============================\n"
     ]
    },
    {
     "name": "stderr",
     "output_type": "stream",
     "text": [
      "train: 100%|██████████| 304/304 [00:01<00:00, 198.49it/s]\n"
     ]
    },
    {
     "name": "stdout",
     "output_type": "stream",
     "text": [
      "Epoch 67 elapsed: 1.535s\n",
      "\t \u001b[32mtrain_loss: 0.3939\u001b[0m\n"
     ]
    },
    {
     "name": "stderr",
     "output_type": "stream",
     "text": [
      "eval_listwise: 100%|██████████| 3334/3334 [00:02<00:00, 1637.30it/s]\n"
     ]
    },
    {
     "name": "stdout",
     "output_type": "stream",
     "text": [
      "\t eval recall@10: 0.0659\n",
      "\t eval precision@10: 0.0066\n",
      "\t eval ndcg@10: 0.0319\n",
      "\t eval map@10: 0.0219\n",
      "==============================\n"
     ]
    },
    {
     "name": "stderr",
     "output_type": "stream",
     "text": [
      "train: 100%|██████████| 304/304 [00:01<00:00, 199.33it/s]\n"
     ]
    },
    {
     "name": "stdout",
     "output_type": "stream",
     "text": [
      "Epoch 68 elapsed: 1.529s\n",
      "\t \u001b[32mtrain_loss: 0.3915\u001b[0m\n"
     ]
    },
    {
     "name": "stderr",
     "output_type": "stream",
     "text": [
      "eval_listwise: 100%|██████████| 3334/3334 [00:02<00:00, 1523.14it/s]\n"
     ]
    },
    {
     "name": "stdout",
     "output_type": "stream",
     "text": [
      "\t eval recall@10: 0.0658\n",
      "\t eval precision@10: 0.0066\n",
      "\t eval ndcg@10: 0.0320\n",
      "\t eval map@10: 0.0221\n",
      "==============================\n"
     ]
    },
    {
     "name": "stderr",
     "output_type": "stream",
     "text": [
      "train: 100%|██████████| 304/304 [00:01<00:00, 194.24it/s]\n"
     ]
    },
    {
     "name": "stdout",
     "output_type": "stream",
     "text": [
      "Epoch 69 elapsed: 1.569s\n",
      "\t \u001b[32mtrain_loss: 0.3909\u001b[0m\n"
     ]
    },
    {
     "name": "stderr",
     "output_type": "stream",
     "text": [
      "eval_listwise: 100%|██████████| 3334/3334 [00:02<00:00, 1611.83it/s]\n"
     ]
    },
    {
     "name": "stdout",
     "output_type": "stream",
     "text": [
      "\t eval recall@10: 0.0661\n",
      "\t eval precision@10: 0.0066\n",
      "\t eval ndcg@10: 0.0322\n",
      "\t eval map@10: 0.0222\n",
      "==============================\n"
     ]
    },
    {
     "name": "stderr",
     "output_type": "stream",
     "text": [
      "train: 100%|██████████| 304/304 [00:01<00:00, 216.79it/s]\n"
     ]
    },
    {
     "name": "stdout",
     "output_type": "stream",
     "text": [
      "Epoch 70 elapsed: 1.406s\n",
      "\t \u001b[32mtrain_loss: 0.3903\u001b[0m\n"
     ]
    },
    {
     "name": "stderr",
     "output_type": "stream",
     "text": [
      "eval_listwise: 100%|██████████| 3334/3334 [00:02<00:00, 1592.61it/s]\n"
     ]
    },
    {
     "name": "stdout",
     "output_type": "stream",
     "text": [
      "\t eval recall@10: 0.0664\n",
      "\t eval precision@10: 0.0066\n",
      "\t eval ndcg@10: 0.0323\n",
      "\t eval map@10: 0.0222\n",
      "==============================\n"
     ]
    },
    {
     "name": "stderr",
     "output_type": "stream",
     "text": [
      "train: 100%|██████████| 304/304 [00:01<00:00, 197.16it/s]\n"
     ]
    },
    {
     "name": "stdout",
     "output_type": "stream",
     "text": [
      "Epoch 71 elapsed: 1.546s\n",
      "\t \u001b[32mtrain_loss: 0.3884\u001b[0m\n"
     ]
    },
    {
     "name": "stderr",
     "output_type": "stream",
     "text": [
      "eval_listwise: 100%|██████████| 3334/3334 [00:02<00:00, 1651.50it/s]\n"
     ]
    },
    {
     "name": "stdout",
     "output_type": "stream",
     "text": [
      "\t eval recall@10: 0.0664\n",
      "\t eval precision@10: 0.0066\n",
      "\t eval ndcg@10: 0.0325\n",
      "\t eval map@10: 0.0224\n",
      "==============================\n"
     ]
    },
    {
     "name": "stderr",
     "output_type": "stream",
     "text": [
      "train: 100%|██████████| 304/304 [00:01<00:00, 193.33it/s]\n"
     ]
    },
    {
     "name": "stdout",
     "output_type": "stream",
     "text": [
      "Epoch 72 elapsed: 1.577s\n",
      "\t \u001b[32mtrain_loss: 0.3873\u001b[0m\n"
     ]
    },
    {
     "name": "stderr",
     "output_type": "stream",
     "text": [
      "eval_listwise: 100%|██████████| 3334/3334 [00:02<00:00, 1280.55it/s]\n"
     ]
    },
    {
     "name": "stdout",
     "output_type": "stream",
     "text": [
      "\t eval recall@10: 0.0663\n",
      "\t eval precision@10: 0.0066\n",
      "\t eval ndcg@10: 0.0324\n",
      "\t eval map@10: 0.0224\n",
      "==============================\n"
     ]
    },
    {
     "name": "stderr",
     "output_type": "stream",
     "text": [
      "train: 100%|██████████| 304/304 [00:01<00:00, 208.91it/s]\n"
     ]
    },
    {
     "name": "stdout",
     "output_type": "stream",
     "text": [
      "Epoch 73 elapsed: 1.460s\n",
      "\t \u001b[32mtrain_loss: 0.3854\u001b[0m\n"
     ]
    },
    {
     "name": "stderr",
     "output_type": "stream",
     "text": [
      "eval_listwise: 100%|██████████| 3334/3334 [00:01<00:00, 1703.97it/s]\n"
     ]
    },
    {
     "name": "stdout",
     "output_type": "stream",
     "text": [
      "\t eval recall@10: 0.0667\n",
      "\t eval precision@10: 0.0067\n",
      "\t eval ndcg@10: 0.0326\n",
      "\t eval map@10: 0.0225\n",
      "==============================\n"
     ]
    },
    {
     "name": "stderr",
     "output_type": "stream",
     "text": [
      "train: 100%|██████████| 304/304 [00:01<00:00, 201.32it/s]\n"
     ]
    },
    {
     "name": "stdout",
     "output_type": "stream",
     "text": [
      "Epoch 74 elapsed: 1.515s\n",
      "\t \u001b[32mtrain_loss: 0.3843\u001b[0m\n"
     ]
    },
    {
     "name": "stderr",
     "output_type": "stream",
     "text": [
      "eval_listwise: 100%|██████████| 3334/3334 [00:02<00:00, 1599.68it/s]\n"
     ]
    },
    {
     "name": "stdout",
     "output_type": "stream",
     "text": [
      "\t eval recall@10: 0.0674\n",
      "\t eval precision@10: 0.0067\n",
      "\t eval ndcg@10: 0.0329\n",
      "\t eval map@10: 0.0227\n",
      "==============================\n"
     ]
    },
    {
     "name": "stderr",
     "output_type": "stream",
     "text": [
      "train: 100%|██████████| 304/304 [00:01<00:00, 216.75it/s]\n"
     ]
    },
    {
     "name": "stdout",
     "output_type": "stream",
     "text": [
      "Epoch 75 elapsed: 1.408s\n",
      "\t \u001b[32mtrain_loss: 0.3832\u001b[0m\n"
     ]
    },
    {
     "name": "stderr",
     "output_type": "stream",
     "text": [
      "eval_listwise: 100%|██████████| 3334/3334 [00:01<00:00, 1671.90it/s]\n"
     ]
    },
    {
     "name": "stdout",
     "output_type": "stream",
     "text": [
      "\t eval recall@10: 0.0680\n",
      "\t eval precision@10: 0.0068\n",
      "\t eval ndcg@10: 0.0331\n",
      "\t eval map@10: 0.0228\n",
      "==============================\n"
     ]
    },
    {
     "name": "stderr",
     "output_type": "stream",
     "text": [
      "train: 100%|██████████| 304/304 [00:01<00:00, 201.91it/s]\n"
     ]
    },
    {
     "name": "stdout",
     "output_type": "stream",
     "text": [
      "Epoch 76 elapsed: 1.510s\n",
      "\t \u001b[32mtrain_loss: 0.3826\u001b[0m\n"
     ]
    },
    {
     "name": "stderr",
     "output_type": "stream",
     "text": [
      "eval_listwise: 100%|██████████| 3334/3334 [00:02<00:00, 1659.60it/s]\n"
     ]
    },
    {
     "name": "stdout",
     "output_type": "stream",
     "text": [
      "\t eval recall@10: 0.0684\n",
      "\t eval precision@10: 0.0068\n",
      "\t eval ndcg@10: 0.0333\n",
      "\t eval map@10: 0.0229\n",
      "==============================\n"
     ]
    },
    {
     "name": "stderr",
     "output_type": "stream",
     "text": [
      "train: 100%|██████████| 304/304 [00:01<00:00, 209.95it/s]\n"
     ]
    },
    {
     "name": "stdout",
     "output_type": "stream",
     "text": [
      "Epoch 77 elapsed: 1.452s\n",
      "\t \u001b[32mtrain_loss: 0.3819\u001b[0m\n"
     ]
    },
    {
     "name": "stderr",
     "output_type": "stream",
     "text": [
      "eval_listwise: 100%|██████████| 3334/3334 [00:02<00:00, 1661.05it/s]\n"
     ]
    },
    {
     "name": "stdout",
     "output_type": "stream",
     "text": [
      "\t eval recall@10: 0.0684\n",
      "\t eval precision@10: 0.0068\n",
      "\t eval ndcg@10: 0.0334\n",
      "\t eval map@10: 0.0231\n",
      "==============================\n"
     ]
    },
    {
     "name": "stderr",
     "output_type": "stream",
     "text": [
      "train: 100%|██████████| 304/304 [00:01<00:00, 195.90it/s]\n"
     ]
    },
    {
     "name": "stdout",
     "output_type": "stream",
     "text": [
      "Epoch 78 elapsed: 1.556s\n",
      "\t \u001b[32mtrain_loss: 0.3797\u001b[0m\n"
     ]
    },
    {
     "name": "stderr",
     "output_type": "stream",
     "text": [
      "eval_listwise: 100%|██████████| 3334/3334 [00:02<00:00, 1606.47it/s]\n"
     ]
    },
    {
     "name": "stdout",
     "output_type": "stream",
     "text": [
      "\t eval recall@10: 0.0691\n",
      "\t eval precision@10: 0.0069\n",
      "\t eval ndcg@10: 0.0336\n",
      "\t eval map@10: 0.0232\n",
      "==============================\n"
     ]
    },
    {
     "name": "stderr",
     "output_type": "stream",
     "text": [
      "train: 100%|██████████| 304/304 [00:01<00:00, 208.79it/s]\n"
     ]
    },
    {
     "name": "stdout",
     "output_type": "stream",
     "text": [
      "Epoch 79 elapsed: 1.461s\n",
      "\t \u001b[32mtrain_loss: 0.3786\u001b[0m\n"
     ]
    },
    {
     "name": "stderr",
     "output_type": "stream",
     "text": [
      "eval_listwise: 100%|██████████| 3334/3334 [00:02<00:00, 1631.16it/s]\n"
     ]
    },
    {
     "name": "stdout",
     "output_type": "stream",
     "text": [
      "\t eval recall@10: 0.0697\n",
      "\t eval precision@10: 0.0070\n",
      "\t eval ndcg@10: 0.0338\n",
      "\t eval map@10: 0.0232\n",
      "==============================\n"
     ]
    },
    {
     "name": "stderr",
     "output_type": "stream",
     "text": [
      "train: 100%|██████████| 304/304 [00:01<00:00, 203.66it/s]\n"
     ]
    },
    {
     "name": "stdout",
     "output_type": "stream",
     "text": [
      "Epoch 80 elapsed: 1.496s\n",
      "\t \u001b[32mtrain_loss: 0.3776\u001b[0m\n"
     ]
    },
    {
     "name": "stderr",
     "output_type": "stream",
     "text": [
      "eval_listwise: 100%|██████████| 3334/3334 [00:02<00:00, 1489.57it/s]\n"
     ]
    },
    {
     "name": "stdout",
     "output_type": "stream",
     "text": [
      "\t eval recall@10: 0.0701\n",
      "\t eval precision@10: 0.0070\n",
      "\t eval ndcg@10: 0.0340\n",
      "\t eval map@10: 0.0234\n",
      "==============================\n"
     ]
    },
    {
     "name": "stderr",
     "output_type": "stream",
     "text": [
      "train: 100%|██████████| 304/304 [00:01<00:00, 210.38it/s]\n"
     ]
    },
    {
     "name": "stdout",
     "output_type": "stream",
     "text": [
      "Epoch 81 elapsed: 1.451s\n",
      "\t \u001b[32mtrain_loss: 0.3771\u001b[0m\n"
     ]
    },
    {
     "name": "stderr",
     "output_type": "stream",
     "text": [
      "eval_listwise: 100%|██████████| 3334/3334 [00:01<00:00, 1673.80it/s]\n"
     ]
    },
    {
     "name": "stdout",
     "output_type": "stream",
     "text": [
      "\t eval recall@10: 0.0703\n",
      "\t eval precision@10: 0.0070\n",
      "\t eval ndcg@10: 0.0341\n",
      "\t eval map@10: 0.0234\n",
      "==============================\n"
     ]
    },
    {
     "name": "stderr",
     "output_type": "stream",
     "text": [
      "train: 100%|██████████| 304/304 [00:01<00:00, 214.92it/s]\n"
     ]
    },
    {
     "name": "stdout",
     "output_type": "stream",
     "text": [
      "Epoch 82 elapsed: 1.419s\n",
      "\t \u001b[32mtrain_loss: 0.3759\u001b[0m\n"
     ]
    },
    {
     "name": "stderr",
     "output_type": "stream",
     "text": [
      "eval_listwise: 100%|██████████| 3334/3334 [00:02<00:00, 1633.15it/s]\n"
     ]
    },
    {
     "name": "stdout",
     "output_type": "stream",
     "text": [
      "\t eval recall@10: 0.0708\n",
      "\t eval precision@10: 0.0071\n",
      "\t eval ndcg@10: 0.0344\n",
      "\t eval map@10: 0.0236\n",
      "==============================\n"
     ]
    },
    {
     "name": "stderr",
     "output_type": "stream",
     "text": [
      "train: 100%|██████████| 304/304 [00:01<00:00, 217.28it/s]\n"
     ]
    },
    {
     "name": "stdout",
     "output_type": "stream",
     "text": [
      "Epoch 83 elapsed: 1.404s\n",
      "\t \u001b[32mtrain_loss: 0.3753\u001b[0m\n"
     ]
    },
    {
     "name": "stderr",
     "output_type": "stream",
     "text": [
      "eval_listwise: 100%|██████████| 3334/3334 [00:01<00:00, 1682.64it/s]\n"
     ]
    },
    {
     "name": "stdout",
     "output_type": "stream",
     "text": [
      "\t eval recall@10: 0.0712\n",
      "\t eval precision@10: 0.0071\n",
      "\t eval ndcg@10: 0.0345\n",
      "\t eval map@10: 0.0237\n",
      "==============================\n"
     ]
    },
    {
     "name": "stderr",
     "output_type": "stream",
     "text": [
      "train: 100%|██████████| 304/304 [00:01<00:00, 213.59it/s]\n"
     ]
    },
    {
     "name": "stdout",
     "output_type": "stream",
     "text": [
      "Epoch 84 elapsed: 1.427s\n",
      "\t \u001b[32mtrain_loss: 0.3737\u001b[0m\n"
     ]
    },
    {
     "name": "stderr",
     "output_type": "stream",
     "text": [
      "eval_listwise: 100%|██████████| 3334/3334 [00:02<00:00, 1573.47it/s]\n"
     ]
    },
    {
     "name": "stdout",
     "output_type": "stream",
     "text": [
      "\t eval recall@10: 0.0715\n",
      "\t eval precision@10: 0.0072\n",
      "\t eval ndcg@10: 0.0348\n",
      "\t eval map@10: 0.0239\n",
      "==============================\n"
     ]
    },
    {
     "name": "stderr",
     "output_type": "stream",
     "text": [
      "train: 100%|██████████| 304/304 [00:01<00:00, 219.09it/s]\n"
     ]
    },
    {
     "name": "stdout",
     "output_type": "stream",
     "text": [
      "Epoch 85 elapsed: 1.391s\n",
      "\t \u001b[32mtrain_loss: 0.3731\u001b[0m\n"
     ]
    },
    {
     "name": "stderr",
     "output_type": "stream",
     "text": [
      "eval_listwise: 100%|██████████| 3334/3334 [00:01<00:00, 1710.90it/s]\n"
     ]
    },
    {
     "name": "stdout",
     "output_type": "stream",
     "text": [
      "\t eval recall@10: 0.0723\n",
      "\t eval precision@10: 0.0072\n",
      "\t eval ndcg@10: 0.0350\n",
      "\t eval map@10: 0.0240\n",
      "==============================\n"
     ]
    },
    {
     "name": "stderr",
     "output_type": "stream",
     "text": [
      "train: 100%|██████████| 304/304 [00:01<00:00, 200.06it/s]\n"
     ]
    },
    {
     "name": "stdout",
     "output_type": "stream",
     "text": [
      "Epoch 86 elapsed: 1.524s\n",
      "\t \u001b[32mtrain_loss: 0.372\u001b[0m\n"
     ]
    },
    {
     "name": "stderr",
     "output_type": "stream",
     "text": [
      "eval_listwise: 100%|██████████| 3334/3334 [00:01<00:00, 1690.18it/s]\n"
     ]
    },
    {
     "name": "stdout",
     "output_type": "stream",
     "text": [
      "\t eval recall@10: 0.0731\n",
      "\t eval precision@10: 0.0073\n",
      "\t eval ndcg@10: 0.0354\n",
      "\t eval map@10: 0.0243\n",
      "==============================\n"
     ]
    },
    {
     "name": "stderr",
     "output_type": "stream",
     "text": [
      "train: 100%|██████████| 304/304 [00:01<00:00, 216.22it/s]\n"
     ]
    },
    {
     "name": "stdout",
     "output_type": "stream",
     "text": [
      "Epoch 87 elapsed: 1.410s\n",
      "\t \u001b[32mtrain_loss: 0.3707\u001b[0m\n"
     ]
    },
    {
     "name": "stderr",
     "output_type": "stream",
     "text": [
      "eval_listwise: 100%|██████████| 3334/3334 [00:02<00:00, 1596.97it/s]\n"
     ]
    },
    {
     "name": "stdout",
     "output_type": "stream",
     "text": [
      "\t eval recall@10: 0.0724\n",
      "\t eval precision@10: 0.0072\n",
      "\t eval ndcg@10: 0.0352\n",
      "\t eval map@10: 0.0242\n",
      "==============================\n"
     ]
    },
    {
     "name": "stderr",
     "output_type": "stream",
     "text": [
      "train: 100%|██████████| 304/304 [00:01<00:00, 202.70it/s]\n"
     ]
    },
    {
     "name": "stdout",
     "output_type": "stream",
     "text": [
      "Epoch 88 elapsed: 1.504s\n",
      "\t \u001b[32mtrain_loss: 0.3695\u001b[0m\n"
     ]
    },
    {
     "name": "stderr",
     "output_type": "stream",
     "text": [
      "eval_listwise: 100%|██████████| 3334/3334 [00:02<00:00, 1311.59it/s]\n"
     ]
    },
    {
     "name": "stdout",
     "output_type": "stream",
     "text": [
      "\t eval recall@10: 0.0730\n",
      "\t eval precision@10: 0.0073\n",
      "\t eval ndcg@10: 0.0355\n",
      "\t eval map@10: 0.0244\n",
      "==============================\n"
     ]
    },
    {
     "name": "stderr",
     "output_type": "stream",
     "text": [
      "train: 100%|██████████| 304/304 [00:01<00:00, 202.13it/s]\n"
     ]
    },
    {
     "name": "stdout",
     "output_type": "stream",
     "text": [
      "Epoch 89 elapsed: 1.509s\n",
      "\t \u001b[32mtrain_loss: 0.3696\u001b[0m\n"
     ]
    },
    {
     "name": "stderr",
     "output_type": "stream",
     "text": [
      "eval_listwise: 100%|██████████| 3334/3334 [00:02<00:00, 1481.99it/s]\n"
     ]
    },
    {
     "name": "stdout",
     "output_type": "stream",
     "text": [
      "\t eval recall@10: 0.0728\n",
      "\t eval precision@10: 0.0073\n",
      "\t eval ndcg@10: 0.0354\n",
      "\t eval map@10: 0.0244\n",
      "==============================\n"
     ]
    },
    {
     "name": "stderr",
     "output_type": "stream",
     "text": [
      "train: 100%|██████████| 304/304 [00:01<00:00, 206.64it/s]\n"
     ]
    },
    {
     "name": "stdout",
     "output_type": "stream",
     "text": [
      "Epoch 90 elapsed: 1.476s\n",
      "\t \u001b[32mtrain_loss: 0.3689\u001b[0m\n"
     ]
    },
    {
     "name": "stderr",
     "output_type": "stream",
     "text": [
      "eval_listwise: 100%|██████████| 3334/3334 [00:02<00:00, 1644.84it/s]\n"
     ]
    },
    {
     "name": "stdout",
     "output_type": "stream",
     "text": [
      "\t eval recall@10: 0.0733\n",
      "\t eval precision@10: 0.0073\n",
      "\t eval ndcg@10: 0.0357\n",
      "\t eval map@10: 0.0245\n",
      "==============================\n"
     ]
    },
    {
     "name": "stderr",
     "output_type": "stream",
     "text": [
      "train: 100%|██████████| 304/304 [00:01<00:00, 198.55it/s]\n"
     ]
    },
    {
     "name": "stdout",
     "output_type": "stream",
     "text": [
      "Epoch 91 elapsed: 1.536s\n",
      "\t \u001b[32mtrain_loss: 0.3674\u001b[0m\n"
     ]
    },
    {
     "name": "stderr",
     "output_type": "stream",
     "text": [
      "eval_listwise: 100%|██████████| 3334/3334 [00:02<00:00, 1597.57it/s]\n"
     ]
    },
    {
     "name": "stdout",
     "output_type": "stream",
     "text": [
      "\t eval recall@10: 0.0731\n",
      "\t eval precision@10: 0.0073\n",
      "\t eval ndcg@10: 0.0356\n",
      "\t eval map@10: 0.0246\n",
      "==============================\n"
     ]
    },
    {
     "name": "stderr",
     "output_type": "stream",
     "text": [
      "train: 100%|██████████| 304/304 [00:01<00:00, 205.46it/s]\n"
     ]
    },
    {
     "name": "stdout",
     "output_type": "stream",
     "text": [
      "Epoch 92 elapsed: 1.483s\n",
      "\t \u001b[32mtrain_loss: 0.3664\u001b[0m\n"
     ]
    },
    {
     "name": "stderr",
     "output_type": "stream",
     "text": [
      "eval_listwise: 100%|██████████| 3334/3334 [00:02<00:00, 1645.18it/s]\n"
     ]
    },
    {
     "name": "stdout",
     "output_type": "stream",
     "text": [
      "\t eval recall@10: 0.0733\n",
      "\t eval precision@10: 0.0073\n",
      "\t eval ndcg@10: 0.0357\n",
      "\t eval map@10: 0.0245\n",
      "==============================\n"
     ]
    },
    {
     "name": "stderr",
     "output_type": "stream",
     "text": [
      "train: 100%|██████████| 304/304 [00:01<00:00, 218.14it/s]\n"
     ]
    },
    {
     "name": "stdout",
     "output_type": "stream",
     "text": [
      "Epoch 93 elapsed: 1.397s\n",
      "\t \u001b[32mtrain_loss: 0.3653\u001b[0m\n"
     ]
    },
    {
     "name": "stderr",
     "output_type": "stream",
     "text": [
      "eval_listwise: 100%|██████████| 3334/3334 [00:02<00:00, 1555.01it/s]\n"
     ]
    },
    {
     "name": "stdout",
     "output_type": "stream",
     "text": [
      "\t eval recall@10: 0.0737\n",
      "\t eval precision@10: 0.0074\n",
      "\t eval ndcg@10: 0.0358\n",
      "\t eval map@10: 0.0246\n",
      "==============================\n"
     ]
    },
    {
     "name": "stderr",
     "output_type": "stream",
     "text": [
      "train: 100%|██████████| 304/304 [00:01<00:00, 210.55it/s]\n"
     ]
    },
    {
     "name": "stdout",
     "output_type": "stream",
     "text": [
      "Epoch 94 elapsed: 1.448s\n",
      "\t \u001b[32mtrain_loss: 0.3645\u001b[0m\n"
     ]
    },
    {
     "name": "stderr",
     "output_type": "stream",
     "text": [
      "eval_listwise: 100%|██████████| 3334/3334 [00:01<00:00, 1696.17it/s]\n"
     ]
    },
    {
     "name": "stdout",
     "output_type": "stream",
     "text": [
      "\t eval recall@10: 0.0738\n",
      "\t eval precision@10: 0.0074\n",
      "\t eval ndcg@10: 0.0360\n",
      "\t eval map@10: 0.0248\n",
      "==============================\n"
     ]
    },
    {
     "name": "stderr",
     "output_type": "stream",
     "text": [
      "train: 100%|██████████| 304/304 [00:01<00:00, 203.25it/s]\n"
     ]
    },
    {
     "name": "stdout",
     "output_type": "stream",
     "text": [
      "Epoch 95 elapsed: 1.500s\n",
      "\t \u001b[32mtrain_loss: 0.3645\u001b[0m\n"
     ]
    },
    {
     "name": "stderr",
     "output_type": "stream",
     "text": [
      "eval_listwise: 100%|██████████| 3334/3334 [00:01<00:00, 1733.56it/s]\n"
     ]
    },
    {
     "name": "stdout",
     "output_type": "stream",
     "text": [
      "\t eval recall@10: 0.0737\n",
      "\t eval precision@10: 0.0074\n",
      "\t eval ndcg@10: 0.0360\n",
      "\t eval map@10: 0.0249\n",
      "==============================\n"
     ]
    },
    {
     "name": "stderr",
     "output_type": "stream",
     "text": [
      "train: 100%|██████████| 304/304 [00:01<00:00, 214.39it/s]\n"
     ]
    },
    {
     "name": "stdout",
     "output_type": "stream",
     "text": [
      "Epoch 96 elapsed: 1.421s\n",
      "\t \u001b[32mtrain_loss: 0.3624\u001b[0m\n"
     ]
    },
    {
     "name": "stderr",
     "output_type": "stream",
     "text": [
      "eval_listwise: 100%|██████████| 3334/3334 [00:01<00:00, 1706.54it/s]\n"
     ]
    },
    {
     "name": "stdout",
     "output_type": "stream",
     "text": [
      "\t eval recall@10: 0.0739\n",
      "\t eval precision@10: 0.0074\n",
      "\t eval ndcg@10: 0.0360\n",
      "\t eval map@10: 0.0248\n",
      "==============================\n"
     ]
    },
    {
     "name": "stderr",
     "output_type": "stream",
     "text": [
      "train: 100%|██████████| 304/304 [00:01<00:00, 195.62it/s]\n"
     ]
    },
    {
     "name": "stdout",
     "output_type": "stream",
     "text": [
      "Epoch 97 elapsed: 1.559s\n",
      "\t \u001b[32mtrain_loss: 0.3624\u001b[0m\n"
     ]
    },
    {
     "name": "stderr",
     "output_type": "stream",
     "text": [
      "eval_listwise: 100%|██████████| 3334/3334 [00:02<00:00, 1602.17it/s]\n"
     ]
    },
    {
     "name": "stdout",
     "output_type": "stream",
     "text": [
      "\t eval recall@10: 0.0741\n",
      "\t eval precision@10: 0.0074\n",
      "\t eval ndcg@10: 0.0362\n",
      "\t eval map@10: 0.0250\n",
      "==============================\n"
     ]
    },
    {
     "name": "stderr",
     "output_type": "stream",
     "text": [
      "train: 100%|██████████| 304/304 [00:03<00:00, 100.37it/s]\n"
     ]
    },
    {
     "name": "stdout",
     "output_type": "stream",
     "text": [
      "Epoch 98 elapsed: 3.033s\n",
      "\t \u001b[32mtrain_loss: 0.3617\u001b[0m\n"
     ]
    },
    {
     "name": "stderr",
     "output_type": "stream",
     "text": [
      "eval_listwise: 100%|██████████| 3334/3334 [00:08<00:00, 393.91it/s]\n"
     ]
    },
    {
     "name": "stdout",
     "output_type": "stream",
     "text": [
      "\t eval recall@10: 0.0751\n",
      "\t eval precision@10: 0.0075\n",
      "\t eval ndcg@10: 0.0366\n",
      "\t eval map@10: 0.0252\n",
      "==============================\n"
     ]
    },
    {
     "name": "stderr",
     "output_type": "stream",
     "text": [
      "train: 100%|██████████| 304/304 [00:03<00:00, 78.74it/s]\n"
     ]
    },
    {
     "name": "stdout",
     "output_type": "stream",
     "text": [
      "Epoch 99 elapsed: 3.878s\n",
      "\t \u001b[32mtrain_loss: 0.3612\u001b[0m\n"
     ]
    },
    {
     "name": "stderr",
     "output_type": "stream",
     "text": [
      "eval_listwise: 100%|██████████| 3334/3334 [00:02<00:00, 1314.53it/s]\n"
     ]
    },
    {
     "name": "stdout",
     "output_type": "stream",
     "text": [
      "\t eval recall@10: 0.0751\n",
      "\t eval precision@10: 0.0075\n",
      "\t eval ndcg@10: 0.0366\n",
      "\t eval map@10: 0.0252\n",
      "==============================\n"
     ]
    },
    {
     "name": "stderr",
     "output_type": "stream",
     "text": [
      "train: 100%|██████████| 304/304 [00:01<00:00, 190.59it/s]\n"
     ]
    },
    {
     "name": "stdout",
     "output_type": "stream",
     "text": [
      "Epoch 100 elapsed: 1.601s\n",
      "\t \u001b[32mtrain_loss: 0.3594\u001b[0m\n"
     ]
    },
    {
     "name": "stderr",
     "output_type": "stream",
     "text": [
      "eval_listwise: 100%|██████████| 3334/3334 [00:03<00:00, 1003.33it/s]\n"
     ]
    },
    {
     "name": "stdout",
     "output_type": "stream",
     "text": [
      "\t eval recall@10: 0.0749\n",
      "\t eval precision@10: 0.0075\n",
      "\t eval ndcg@10: 0.0365\n",
      "\t eval map@10: 0.0251\n",
      "==============================\n"
     ]
    },
    {
     "name": "stderr",
     "output_type": "stream",
     "text": [
      "train: 100%|██████████| 304/304 [00:01<00:00, 182.03it/s]\n"
     ]
    },
    {
     "name": "stdout",
     "output_type": "stream",
     "text": [
      "Epoch 101 elapsed: 1.674s\n",
      "\t \u001b[32mtrain_loss: 0.3592\u001b[0m\n"
     ]
    },
    {
     "name": "stderr",
     "output_type": "stream",
     "text": [
      "eval_listwise: 100%|██████████| 3334/3334 [00:02<00:00, 1331.53it/s]\n"
     ]
    },
    {
     "name": "stdout",
     "output_type": "stream",
     "text": [
      "\t eval recall@10: 0.0752\n",
      "\t eval precision@10: 0.0075\n",
      "\t eval ndcg@10: 0.0365\n",
      "\t eval map@10: 0.0251\n",
      "==============================\n"
     ]
    },
    {
     "name": "stderr",
     "output_type": "stream",
     "text": [
      "train: 100%|██████████| 304/304 [00:01<00:00, 204.51it/s]\n"
     ]
    },
    {
     "name": "stdout",
     "output_type": "stream",
     "text": [
      "Epoch 102 elapsed: 1.493s\n",
      "\t \u001b[32mtrain_loss: 0.3588\u001b[0m\n"
     ]
    },
    {
     "name": "stderr",
     "output_type": "stream",
     "text": [
      "eval_listwise: 100%|██████████| 3334/3334 [00:01<00:00, 1703.34it/s]\n"
     ]
    },
    {
     "name": "stdout",
     "output_type": "stream",
     "text": [
      "\t eval recall@10: 0.0747\n",
      "\t eval precision@10: 0.0075\n",
      "\t eval ndcg@10: 0.0364\n",
      "\t eval map@10: 0.0251\n",
      "==============================\n"
     ]
    },
    {
     "name": "stderr",
     "output_type": "stream",
     "text": [
      "train: 100%|██████████| 304/304 [00:01<00:00, 218.66it/s]\n"
     ]
    },
    {
     "name": "stdout",
     "output_type": "stream",
     "text": [
      "Epoch 103 elapsed: 1.394s\n",
      "\t \u001b[32mtrain_loss: 0.3573\u001b[0m\n"
     ]
    },
    {
     "name": "stderr",
     "output_type": "stream",
     "text": [
      "eval_listwise: 100%|██████████| 3334/3334 [00:01<00:00, 1720.59it/s]\n"
     ]
    },
    {
     "name": "stdout",
     "output_type": "stream",
     "text": [
      "\t eval recall@10: 0.0753\n",
      "\t eval precision@10: 0.0075\n",
      "\t eval ndcg@10: 0.0367\n",
      "\t eval map@10: 0.0253\n",
      "==============================\n"
     ]
    },
    {
     "name": "stderr",
     "output_type": "stream",
     "text": [
      "train: 100%|██████████| 304/304 [00:01<00:00, 216.06it/s]\n"
     ]
    },
    {
     "name": "stdout",
     "output_type": "stream",
     "text": [
      "Epoch 104 elapsed: 1.410s\n",
      "\t \u001b[32mtrain_loss: 0.3569\u001b[0m\n"
     ]
    },
    {
     "name": "stderr",
     "output_type": "stream",
     "text": [
      "eval_listwise: 100%|██████████| 3334/3334 [00:02<00:00, 1569.08it/s]\n"
     ]
    },
    {
     "name": "stdout",
     "output_type": "stream",
     "text": [
      "\t eval recall@10: 0.0755\n",
      "\t eval precision@10: 0.0076\n",
      "\t eval ndcg@10: 0.0368\n",
      "\t eval map@10: 0.0253\n",
      "==============================\n"
     ]
    },
    {
     "name": "stderr",
     "output_type": "stream",
     "text": [
      "train: 100%|██████████| 304/304 [00:01<00:00, 221.93it/s]\n"
     ]
    },
    {
     "name": "stdout",
     "output_type": "stream",
     "text": [
      "Epoch 105 elapsed: 1.374s\n",
      "\t \u001b[32mtrain_loss: 0.356\u001b[0m\n"
     ]
    },
    {
     "name": "stderr",
     "output_type": "stream",
     "text": [
      "eval_listwise: 100%|██████████| 3334/3334 [00:01<00:00, 1750.55it/s]\n"
     ]
    },
    {
     "name": "stdout",
     "output_type": "stream",
     "text": [
      "\t eval recall@10: 0.0759\n",
      "\t eval precision@10: 0.0076\n",
      "\t eval ndcg@10: 0.0369\n",
      "\t eval map@10: 0.0253\n",
      "==============================\n"
     ]
    },
    {
     "name": "stderr",
     "output_type": "stream",
     "text": [
      "train: 100%|██████████| 304/304 [00:01<00:00, 220.95it/s]\n"
     ]
    },
    {
     "name": "stdout",
     "output_type": "stream",
     "text": [
      "Epoch 106 elapsed: 1.380s\n",
      "\t \u001b[32mtrain_loss: 0.3557\u001b[0m\n"
     ]
    },
    {
     "name": "stderr",
     "output_type": "stream",
     "text": [
      "eval_listwise: 100%|██████████| 3334/3334 [00:01<00:00, 1775.91it/s]\n"
     ]
    },
    {
     "name": "stdout",
     "output_type": "stream",
     "text": [
      "\t eval recall@10: 0.0758\n",
      "\t eval precision@10: 0.0076\n",
      "\t eval ndcg@10: 0.0369\n",
      "\t eval map@10: 0.0254\n",
      "==============================\n"
     ]
    },
    {
     "name": "stderr",
     "output_type": "stream",
     "text": [
      "train: 100%|██████████| 304/304 [00:01<00:00, 213.78it/s]\n"
     ]
    },
    {
     "name": "stdout",
     "output_type": "stream",
     "text": [
      "Epoch 107 elapsed: 1.426s\n",
      "\t \u001b[32mtrain_loss: 0.3543\u001b[0m\n"
     ]
    },
    {
     "name": "stderr",
     "output_type": "stream",
     "text": [
      "eval_listwise: 100%|██████████| 3334/3334 [00:01<00:00, 1716.50it/s]\n"
     ]
    },
    {
     "name": "stdout",
     "output_type": "stream",
     "text": [
      "\t eval recall@10: 0.0755\n",
      "\t eval precision@10: 0.0076\n",
      "\t eval ndcg@10: 0.0367\n",
      "\t eval map@10: 0.0252\n",
      "==============================\n"
     ]
    },
    {
     "name": "stderr",
     "output_type": "stream",
     "text": [
      "train: 100%|██████████| 304/304 [00:01<00:00, 218.62it/s]\n"
     ]
    },
    {
     "name": "stdout",
     "output_type": "stream",
     "text": [
      "Epoch 108 elapsed: 1.395s\n",
      "\t \u001b[32mtrain_loss: 0.354\u001b[0m\n"
     ]
    },
    {
     "name": "stderr",
     "output_type": "stream",
     "text": [
      "eval_listwise: 100%|██████████| 3334/3334 [00:01<00:00, 1755.51it/s]\n"
     ]
    },
    {
     "name": "stdout",
     "output_type": "stream",
     "text": [
      "\t eval recall@10: 0.0756\n",
      "\t eval precision@10: 0.0076\n",
      "\t eval ndcg@10: 0.0368\n",
      "\t eval map@10: 0.0252\n",
      "==============================\n"
     ]
    },
    {
     "name": "stderr",
     "output_type": "stream",
     "text": [
      "train: 100%|██████████| 304/304 [00:01<00:00, 227.76it/s]\n"
     ]
    },
    {
     "name": "stdout",
     "output_type": "stream",
     "text": [
      "Epoch 109 elapsed: 1.339s\n",
      "\t \u001b[32mtrain_loss: 0.3524\u001b[0m\n"
     ]
    },
    {
     "name": "stderr",
     "output_type": "stream",
     "text": [
      "eval_listwise: 100%|██████████| 3334/3334 [00:01<00:00, 1692.16it/s]\n"
     ]
    },
    {
     "name": "stdout",
     "output_type": "stream",
     "text": [
      "\t eval recall@10: 0.0756\n",
      "\t eval precision@10: 0.0076\n",
      "\t eval ndcg@10: 0.0368\n",
      "\t eval map@10: 0.0253\n",
      "==============================\n"
     ]
    },
    {
     "name": "stderr",
     "output_type": "stream",
     "text": [
      "train: 100%|██████████| 304/304 [00:01<00:00, 220.01it/s]\n"
     ]
    },
    {
     "name": "stdout",
     "output_type": "stream",
     "text": [
      "Epoch 110 elapsed: 1.386s\n",
      "\t \u001b[32mtrain_loss: 0.3525\u001b[0m\n"
     ]
    },
    {
     "name": "stderr",
     "output_type": "stream",
     "text": [
      "eval_listwise: 100%|██████████| 3334/3334 [00:02<00:00, 1268.90it/s]\n"
     ]
    },
    {
     "name": "stdout",
     "output_type": "stream",
     "text": [
      "\t eval recall@10: 0.0755\n",
      "\t eval precision@10: 0.0076\n",
      "\t eval ndcg@10: 0.0368\n",
      "\t eval map@10: 0.0253\n",
      "==============================\n"
     ]
    },
    {
     "name": "stderr",
     "output_type": "stream",
     "text": [
      "train: 100%|██████████| 304/304 [00:01<00:00, 217.81it/s]\n"
     ]
    },
    {
     "name": "stdout",
     "output_type": "stream",
     "text": [
      "Epoch 111 elapsed: 1.399s\n",
      "\t \u001b[32mtrain_loss: 0.3525\u001b[0m\n"
     ]
    },
    {
     "name": "stderr",
     "output_type": "stream",
     "text": [
      "eval_listwise: 100%|██████████| 3334/3334 [00:01<00:00, 1754.26it/s]\n"
     ]
    },
    {
     "name": "stdout",
     "output_type": "stream",
     "text": [
      "\t eval recall@10: 0.0755\n",
      "\t eval precision@10: 0.0076\n",
      "\t eval ndcg@10: 0.0368\n",
      "\t eval map@10: 0.0253\n",
      "==============================\n"
     ]
    },
    {
     "name": "stderr",
     "output_type": "stream",
     "text": [
      "train: 100%|██████████| 304/304 [00:01<00:00, 221.03it/s]\n"
     ]
    },
    {
     "name": "stdout",
     "output_type": "stream",
     "text": [
      "Epoch 112 elapsed: 1.379s\n",
      "\t \u001b[32mtrain_loss: 0.3515\u001b[0m\n"
     ]
    },
    {
     "name": "stderr",
     "output_type": "stream",
     "text": [
      "eval_listwise: 100%|██████████| 3334/3334 [00:01<00:00, 1780.27it/s]\n"
     ]
    },
    {
     "name": "stdout",
     "output_type": "stream",
     "text": [
      "\t eval recall@10: 0.0755\n",
      "\t eval precision@10: 0.0076\n",
      "\t eval ndcg@10: 0.0368\n",
      "\t eval map@10: 0.0253\n",
      "==============================\n"
     ]
    },
    {
     "name": "stderr",
     "output_type": "stream",
     "text": [
      "train: 100%|██████████| 304/304 [00:01<00:00, 223.28it/s]\n"
     ]
    },
    {
     "name": "stdout",
     "output_type": "stream",
     "text": [
      "Epoch 113 elapsed: 1.366s\n",
      "\t \u001b[32mtrain_loss: 0.3514\u001b[0m\n"
     ]
    },
    {
     "name": "stderr",
     "output_type": "stream",
     "text": [
      "eval_listwise: 100%|██████████| 3334/3334 [00:02<00:00, 1662.54it/s]\n"
     ]
    },
    {
     "name": "stdout",
     "output_type": "stream",
     "text": [
      "\t eval recall@10: 0.0756\n",
      "\t eval precision@10: 0.0076\n",
      "\t eval ndcg@10: 0.0369\n",
      "\t eval map@10: 0.0254\n",
      "==============================\n"
     ]
    },
    {
     "name": "stderr",
     "output_type": "stream",
     "text": [
      "train: 100%|██████████| 304/304 [00:01<00:00, 225.22it/s]\n"
     ]
    },
    {
     "name": "stdout",
     "output_type": "stream",
     "text": [
      "Epoch 114 elapsed: 1.354s\n",
      "\t \u001b[32mtrain_loss: 0.3505\u001b[0m\n"
     ]
    },
    {
     "name": "stderr",
     "output_type": "stream",
     "text": [
      "eval_listwise: 100%|██████████| 3334/3334 [00:01<00:00, 1763.74it/s]\n"
     ]
    },
    {
     "name": "stdout",
     "output_type": "stream",
     "text": [
      "\t eval recall@10: 0.0758\n",
      "\t eval precision@10: 0.0076\n",
      "\t eval ndcg@10: 0.0369\n",
      "\t eval map@10: 0.0254\n",
      "==============================\n"
     ]
    },
    {
     "name": "stderr",
     "output_type": "stream",
     "text": [
      "train: 100%|██████████| 304/304 [00:01<00:00, 217.39it/s]\n"
     ]
    },
    {
     "name": "stdout",
     "output_type": "stream",
     "text": [
      "Epoch 115 elapsed: 1.405s\n",
      "\t \u001b[32mtrain_loss: 0.3498\u001b[0m\n"
     ]
    },
    {
     "name": "stderr",
     "output_type": "stream",
     "text": [
      "eval_listwise: 100%|██████████| 3334/3334 [00:01<00:00, 1728.48it/s]\n"
     ]
    },
    {
     "name": "stdout",
     "output_type": "stream",
     "text": [
      "\t eval recall@10: 0.0759\n",
      "\t eval precision@10: 0.0076\n",
      "\t eval ndcg@10: 0.0371\n",
      "\t eval map@10: 0.0255\n",
      "==============================\n"
     ]
    },
    {
     "name": "stderr",
     "output_type": "stream",
     "text": [
      "train: 100%|██████████| 304/304 [00:01<00:00, 224.09it/s]\n"
     ]
    },
    {
     "name": "stdout",
     "output_type": "stream",
     "text": [
      "Epoch 116 elapsed: 1.362s\n",
      "\t \u001b[32mtrain_loss: 0.3489\u001b[0m\n"
     ]
    },
    {
     "name": "stderr",
     "output_type": "stream",
     "text": [
      "eval_listwise: 100%|██████████| 3334/3334 [00:01<00:00, 1730.98it/s]\n"
     ]
    },
    {
     "name": "stdout",
     "output_type": "stream",
     "text": [
      "\t eval recall@10: 0.0764\n",
      "\t eval precision@10: 0.0076\n",
      "\t eval ndcg@10: 0.0372\n",
      "\t eval map@10: 0.0256\n",
      "==============================\n"
     ]
    },
    {
     "name": "stderr",
     "output_type": "stream",
     "text": [
      "train: 100%|██████████| 304/304 [00:01<00:00, 219.14it/s]\n"
     ]
    },
    {
     "name": "stdout",
     "output_type": "stream",
     "text": [
      "Epoch 117 elapsed: 1.391s\n",
      "\t \u001b[32mtrain_loss: 0.3476\u001b[0m\n"
     ]
    },
    {
     "name": "stderr",
     "output_type": "stream",
     "text": [
      "eval_listwise: 100%|██████████| 3334/3334 [00:02<00:00, 1652.07it/s]\n"
     ]
    },
    {
     "name": "stdout",
     "output_type": "stream",
     "text": [
      "\t eval recall@10: 0.0766\n",
      "\t eval precision@10: 0.0077\n",
      "\t eval ndcg@10: 0.0373\n",
      "\t eval map@10: 0.0257\n",
      "==============================\n"
     ]
    },
    {
     "name": "stderr",
     "output_type": "stream",
     "text": [
      "train: 100%|██████████| 304/304 [00:01<00:00, 217.89it/s]\n"
     ]
    },
    {
     "name": "stdout",
     "output_type": "stream",
     "text": [
      "Epoch 118 elapsed: 1.399s\n",
      "\t \u001b[32mtrain_loss: 0.348\u001b[0m\n"
     ]
    },
    {
     "name": "stderr",
     "output_type": "stream",
     "text": [
      "eval_listwise: 100%|██████████| 3334/3334 [00:01<00:00, 1706.41it/s]\n"
     ]
    },
    {
     "name": "stdout",
     "output_type": "stream",
     "text": [
      "\t eval recall@10: 0.0759\n",
      "\t eval precision@10: 0.0076\n",
      "\t eval ndcg@10: 0.0371\n",
      "\t eval map@10: 0.0255\n",
      "==============================\n"
     ]
    },
    {
     "name": "stderr",
     "output_type": "stream",
     "text": [
      "train: 100%|██████████| 304/304 [00:01<00:00, 192.78it/s]\n"
     ]
    },
    {
     "name": "stdout",
     "output_type": "stream",
     "text": [
      "Epoch 119 elapsed: 1.582s\n",
      "\t \u001b[32mtrain_loss: 0.3468\u001b[0m\n"
     ]
    },
    {
     "name": "stderr",
     "output_type": "stream",
     "text": [
      "eval_listwise: 100%|██████████| 3334/3334 [00:02<00:00, 1587.88it/s]\n"
     ]
    },
    {
     "name": "stdout",
     "output_type": "stream",
     "text": [
      "\t eval recall@10: 0.0768\n",
      "\t eval precision@10: 0.0077\n",
      "\t eval ndcg@10: 0.0374\n",
      "\t eval map@10: 0.0257\n",
      "==============================\n"
     ]
    },
    {
     "name": "stderr",
     "output_type": "stream",
     "text": [
      "train: 100%|██████████| 304/304 [00:01<00:00, 213.64it/s]\n"
     ]
    },
    {
     "name": "stdout",
     "output_type": "stream",
     "text": [
      "Epoch 120 elapsed: 1.427s\n",
      "\t \u001b[32mtrain_loss: 0.3469\u001b[0m\n"
     ]
    },
    {
     "name": "stderr",
     "output_type": "stream",
     "text": [
      "eval_listwise: 100%|██████████| 3334/3334 [00:02<00:00, 1574.73it/s]\n"
     ]
    },
    {
     "name": "stdout",
     "output_type": "stream",
     "text": [
      "\t eval recall@10: 0.0762\n",
      "\t eval precision@10: 0.0076\n",
      "\t eval ndcg@10: 0.0373\n",
      "\t eval map@10: 0.0257\n",
      "==============================\n",
      "Thời gian thực hiện: 487.772615 giây\n"
     ]
    }
   ],
   "source": [
    "from libreco.algorithms import BPR\n",
    "model = BPR(\n",
    "        \"ranking\",\n",
    "        data_info,\n",
    "        embed_size=32,\n",
    "        n_epochs=120,\n",
    "        lr=1e-4,\n",
    "        lr_decay=False,\n",
    "        reg=1e-5,\n",
    "        batch_size=1024,\n",
    "        num_neg=1,\n",
    "        sampler=\"random\"\n",
    ")\n",
    "start_time = time.time()\n",
    "model.fit(\n",
    "    train_data,\n",
    "    neg_sampling=True,\n",
    "    verbose=2,\n",
    "    shuffle=True,\n",
    "    eval_data=test_data,\n",
    "    metrics=[\"recall\",\"precision\",\"ndcg\",\"map\"],\n",
    "    eval_batch_size=10000,\n",
    "    k=10,\n",
    "    eval_user_num=10000,\n",
    ")\n",
    "end_time = time.time()  # Kết thúc đo thời gian\n",
    "\n",
    "print(f\"Thời gian thực hiện: {end_time - start_time:.6f} giây\")"
   ]
  },
  {
   "cell_type": "code",
   "execution_count": 35,
   "id": "c1ae4bb0",
   "metadata": {
    "execution": {
     "iopub.execute_input": "2025-07-26T00:27:22.548739Z",
     "iopub.status.busy": "2025-07-26T00:27:22.547473Z",
     "iopub.status.idle": "2025-07-26T00:27:22.555638Z",
     "shell.execute_reply": "2025-07-26T00:27:22.554203Z"
    },
    "papermill": {
     "duration": 0.380496,
     "end_time": "2025-07-26T00:27:22.557868",
     "exception": false,
     "start_time": "2025-07-26T00:27:22.177372",
     "status": "completed"
    },
    "tags": []
   },
   "outputs": [],
   "source": [
    "def recommend_courses(model, user_course , num_recommendations=5):\n",
    "    recommendations = {}\n",
    "\n",
    "    # Dự đoán cho tất cả người dùng trong test_user với thanh tiến trình\n",
    "    for user_id in tqdm(user_course['user'].unique(), desc=\"Khuyến nghị cho người dùng\", unit=\"user\"):\n",
    "        # Lấy danh sách khóa học mà người dùng đã thíc\n",
    "        # Dự đoán cho tất cả các khóa học của người dùng (tắt chi tiết trong dự đoán)\n",
    "        recommended_courses = model.recommend_user(user=user_id,n_rec = num_recommendations)\n",
    "        recommended_courses = {key: value.tolist() if isinstance(value, np.ndarray) else value for key, value in recommended_courses.items()}\n",
    "        # Lấy top k khóa học dựa trên dự đoán\n",
    "        recommendations = recommendations | recommended_courses\n",
    "    return recommendations"
   ]
  },
  {
   "cell_type": "code",
   "execution_count": 36,
   "id": "cdea4118",
   "metadata": {
    "execution": {
     "iopub.execute_input": "2025-07-26T00:27:23.151253Z",
     "iopub.status.busy": "2025-07-26T00:27:23.150885Z",
     "iopub.status.idle": "2025-07-26T00:27:23.160569Z",
     "shell.execute_reply": "2025-07-26T00:27:23.159208Z"
    },
    "papermill": {
     "duration": 0.314935,
     "end_time": "2025-07-26T00:27:23.162665",
     "exception": false,
     "start_time": "2025-07-26T00:27:22.847730",
     "status": "completed"
    },
    "tags": []
   },
   "outputs": [],
   "source": [
    "def recommend_courses_with_negative_sampling(model, \n",
    "                                             user_course_train_df, \n",
    "                                             user_course_test_df, \n",
    "                                             all_course_ids, \n",
    "                                             num_negatives=100):\n",
    "    \"\"\"\n",
    "    Trả về recommendations dạng {user_id: [item_ids]} gồm 1 positive + N negative, sắp xếp theo điểm dự đoán.\n",
    "    \n",
    "    Params:\n",
    "        model: object có hàm predict(user_id, item_id)\n",
    "        user_course_train_df: DataFrame với cột ['user_id', 'course_id']\n",
    "        user_course_test_df: DataFrame với cột ['user_id', 'course_id'], mỗi user chỉ 1 dòng\n",
    "        all_course_ids: list hoặc Series chứa toàn bộ course_id\n",
    "        num_negatives: số lượng mẫu âm\n",
    "    \n",
    "    Returns:\n",
    "        recommendations: dict {user_id: list[item_id]}, sắp xếp theo điểm dự đoán\n",
    "    \"\"\"\n",
    "    from tqdm import tqdm\n",
    "    import numpy as np\n",
    "\n",
    "    # Tiền xử lý: gom user -> list[course_id]\n",
    "    user_train_dict = user_course_train_df.groupby(\"user\")[\"item\"].apply(set).to_dict()\n",
    "    user_test_dict = user_course_test_df.set_index(\"user\")[\"item\"].to_dict()\n",
    "    \n",
    "    recommendations = {}\n",
    "    \n",
    "    for i, (user_id, true_item) in enumerate(tqdm(user_test_dict.items(), \n",
    "                                                   desc=\"Khuyến nghị với negative sampling\", unit=\"user\")):\n",
    "        if i == 0:\n",
    "            print(\"Ví dụ user:\", user_id)\n",
    "\n",
    "        train_items = user_train_dict.get(user_id, set())\n",
    "        excluded_items = train_items.union({true_item})\n",
    "\n",
    "        # Lấy negative items chưa tương tác\n",
    "        negative_candidates = [item for item in all_course_ids if item not in excluded_items]\n",
    "\n",
    "        if len(negative_candidates) < num_negatives:\n",
    "            continue  # Bỏ qua user nếu không đủ negative samples\n",
    "\n",
    "        negative_samples = np.random.choice(negative_candidates, num_negatives, replace=False).tolist()\n",
    "        candidate_items = [true_item] + negative_samples\n",
    "\n",
    "        # Dự đoán điểm\n",
    "        user_ids = [user_id] * len(candidate_items)\n",
    "        scores = model.predict(user_ids, candidate_items)\n",
    "        ranked_items = [item for _, item in sorted(zip(scores, candidate_items), reverse=True)]\n",
    "\n",
    "        recommendations[user_id] = ranked_items\n",
    "\n",
    "    return recommendations"
   ]
  },
  {
   "cell_type": "code",
   "execution_count": 37,
   "id": "5544243e",
   "metadata": {
    "execution": {
     "iopub.execute_input": "2025-07-26T00:27:23.748939Z",
     "iopub.status.busy": "2025-07-26T00:27:23.748554Z",
     "iopub.status.idle": "2025-07-26T00:27:23.769239Z",
     "shell.execute_reply": "2025-07-26T00:27:23.767934Z"
    },
    "papermill": {
     "duration": 0.319001,
     "end_time": "2025-07-26T00:27:23.771578",
     "exception": false,
     "start_time": "2025-07-26T00:27:23.452577",
     "status": "completed"
    },
    "tags": []
   },
   "outputs": [],
   "source": [
    "import numpy as np\n",
    "\n",
    "# Precision@5\n",
    "def precision_at_k(y_true, recommendations, k=5):\n",
    "    precision_scores = []\n",
    "    for user, recommended_courses in recommendations.items():\n",
    "        true_courses = y_true.get(user, [])\n",
    "        if not true_courses:\n",
    "            continue\n",
    "        top_k_pred = recommended_courses[:k]\n",
    "        relevant = sum(1 for course in top_k_pred if course in true_courses)\n",
    "        precision_scores.append(relevant / k)\n",
    "    return np.mean(precision_scores) if precision_scores else 0.0\n",
    "\n",
    "# Recall@5\n",
    "def recall_at_k(y_true, recommendations, k=5):\n",
    "    recall_scores = []\n",
    "    for user, recommended_courses in recommendations.items():\n",
    "        true_courses = y_true.get(user, [])\n",
    "        if not true_courses:\n",
    "            continue\n",
    "        top_k_pred = recommended_courses[:k]\n",
    "        relevant = sum(1 for course in top_k_pred if course in true_courses)\n",
    "        recall_scores.append(relevant / len(true_courses))\n",
    "    return np.mean(recall_scores) if recall_scores else 0.0\n",
    "\n",
    "# Hit Rate@5\n",
    "def hit_rate_at_k(y_true, recommendations, k=5):\n",
    "    hit_rate_scores = []\n",
    "    for user, recommended_courses in recommendations.items():\n",
    "        true_courses = y_true.get(user, [])\n",
    "        if not true_courses:\n",
    "            continue\n",
    "        top_k_pred = recommended_courses[:k]\n",
    "        relevant = any(course in true_courses for course in top_k_pred)\n",
    "        hit_rate_scores.append(int(relevant))\n",
    "    return np.mean(hit_rate_scores) if hit_rate_scores else 0.0\n",
    "\n",
    "# NDCG@5\n",
    "def ndcg_at_k(y_true, recommendations, k=5):\n",
    "    dcg_scores = []\n",
    "    for user, recommended_courses in recommendations.items():\n",
    "        true_courses = y_true.get(user, [])\n",
    "        if not true_courses:\n",
    "            continue\n",
    "        top_k_pred = recommended_courses[:k]\n",
    "        dcg_score = sum(1 / np.log2(i + 2) for i, course in enumerate(top_k_pred) if course in true_courses)\n",
    "        idcg_score = sum(1 / np.log2(i + 2) for i in range(min(k, len(true_courses))))\n",
    "        dcg_scores.append(dcg_score / idcg_score if idcg_score > 0 else 0.0)\n",
    "    return np.mean(dcg_scores) if dcg_scores else 0.0\n",
    "\n",
    "# MAP@5\n",
    "def map_at_k(y_true, recommendations, k=5):\n",
    "    ap_scores = []\n",
    "    for user, recommended_courses in recommendations.items():\n",
    "        true_courses = y_true.get(user, [])\n",
    "        if not true_courses:\n",
    "            continue\n",
    "        top_k_pred = recommended_courses[:k]\n",
    "        relevant = [1 if course in true_courses else 0 for course in top_k_pred]\n",
    "        if sum(relevant) == 0:\n",
    "            ap_scores.append(0.0)\n",
    "            continue\n",
    "        precision_at_i = []\n",
    "        for i in range(min(k, len(top_k_pred))):\n",
    "            if relevant[i]:\n",
    "                precision_at_i.append(sum(relevant[:i+1]) / (i+1))\n",
    "        ap = sum(precision_at_i) / min(len(true_courses), k)\n",
    "        ap_scores.append(ap)\n",
    "    return np.mean(ap_scores) if ap_scores else 0.0\n",
    "\n",
    "# F1 Score@5\n",
    "def f1_at_k(y_true, recommendations, k=5):\n",
    "    f1_scores = []\n",
    "    for user, recommended_courses in recommendations.items():\n",
    "        true_courses = y_true.get(user, [])\n",
    "        if not true_courses:\n",
    "            continue\n",
    "        top_k_pred = recommended_courses[:k]\n",
    "        relevant = sum(1 for course in top_k_pred if course in true_courses)\n",
    "        precision = relevant / k\n",
    "        recall = relevant / len(true_courses)\n",
    "        if precision + recall > 0:\n",
    "            f1 = 2 * (precision * recall) / (precision + recall)\n",
    "        else:\n",
    "            f1 = 0.0\n",
    "        f1_scores.append(f1)\n",
    "    return np.mean(f1_scores) if f1_scores else 0.0\n",
    "\n",
    "# Hàm đánh giá mô hình\n",
    "def evaluate_model(y_true, recommendations, k=5):\n",
    "    \"\"\"\n",
    "    Đánh giá mô hình với Precision@5, Recall@5, Hit Rate@5, NDCG@5, MAP@5, F1 Score@5.\n",
    "\n",
    "    Parameters:\n",
    "    y_true: DataFrame hoặc dict chứa các khóa học thực tế trong tập TEST.\n",
    "    recommendations: dict chứa các khóa học khuyến nghị.\n",
    "    k: Số khóa học top cần xét (default là 5).\n",
    "\n",
    "    Returns:\n",
    "    dict: Các độ đo Precision@5, Recall@5, Hit Rate@5, NDCG@5, MAP@5, F1 Score@5.\n",
    "    \"\"\"\n",
    "    # Chuyển y_true thành dict\n",
    "    if hasattr(y_true, 'set_index'):\n",
    "        y_true_dict = {}\n",
    "        for user, item in y_true.set_index('user')['item'].items():\n",
    "            y_true_dict[user] = [item] if not isinstance(item, (list, set)) else list(item)\n",
    "        y_true = y_true_dict\n",
    "    else:\n",
    "        y_true = {k: [v] if not isinstance(v, (list, set)) else list(v) for k, v in y_true.items()}\n",
    "\n",
    "    precision = precision_at_k(y_true, recommendations, k)\n",
    "    recall = recall_at_k(y_true, recommendations, k)\n",
    "    hit_rate = hit_rate_at_k(y_true, recommendations, k)\n",
    "    ndcg = ndcg_at_k(y_true, recommendations, k)\n",
    "    map_k = map_at_k(y_true, recommendations, k)\n",
    "    f1 = f1_at_k(y_true, recommendations, k)\n",
    "\n",
    "    return {\n",
    "        f\"Baseline\": f\"V{i+1}-BPRMF@{k}\",\n",
    "        f\"Precision\": round(precision,4),\n",
    "        f\"Recall\": round(recall,4),\n",
    "        f\"HitRate\": round(hit_rate,4),\n",
    "        f\"NDCG\": round(ndcg,4),\n",
    "        f\"MAP\": round(map_k,4),\n",
    "        f\"F1-score\": round(f1,4)\n",
    "    }"
   ]
  },
  {
   "cell_type": "code",
   "execution_count": 38,
   "id": "35611d75",
   "metadata": {
    "execution": {
     "iopub.execute_input": "2025-07-26T00:27:24.410562Z",
     "iopub.status.busy": "2025-07-26T00:27:24.410117Z",
     "iopub.status.idle": "2025-07-26T00:28:05.234818Z",
     "shell.execute_reply": "2025-07-26T00:28:05.233519Z"
    },
    "papermill": {
     "duration": 41.182881,
     "end_time": "2025-07-26T00:28:05.236697",
     "exception": false,
     "start_time": "2025-07-26T00:27:24.053816",
     "status": "completed"
    },
    "tags": []
   },
   "outputs": [
    {
     "name": "stderr",
     "output_type": "stream",
     "text": [
      "Khuyến nghị cho người dùng: 100%|██████████| 23905/23905 [00:40<00:00, 586.55user/s]"
     ]
    },
    {
     "name": "stdout",
     "output_type": "stream",
     "text": [
      "Thời gian thực hiện: 40.818954 giây\n"
     ]
    },
    {
     "name": "stderr",
     "output_type": "stream",
     "text": [
      "\n"
     ]
    }
   ],
   "source": [
    "start_time = time.time()\n",
    "results1 = recommend_courses(model,test,10)\n",
    "end_time = time.time()  # Kết thúc đo thời gian\n",
    "\n",
    "print(f\"Thời gian thực hiện: {end_time - start_time:.6f} giây\")"
   ]
  },
  {
   "cell_type": "code",
   "execution_count": 39,
   "id": "73687f84",
   "metadata": {
    "execution": {
     "iopub.execute_input": "2025-07-26T00:28:05.855962Z",
     "iopub.status.busy": "2025-07-26T00:28:05.855582Z",
     "iopub.status.idle": "2025-07-26T00:28:06.119646Z",
     "shell.execute_reply": "2025-07-26T00:28:06.118351Z"
    },
    "papermill": {
     "duration": 0.575597,
     "end_time": "2025-07-26T00:28:06.121755",
     "exception": false,
     "start_time": "2025-07-26T00:28:05.546158",
     "status": "completed"
    },
    "tags": []
   },
   "outputs": [],
   "source": [
    "user_course_train=train[['user','item']]\n",
    "user_course_test = test[['user','item']]\n",
    "all_course_ids = pd.concat([train,test],axis=0)['item'].drop_duplicates()"
   ]
  },
  {
   "cell_type": "code",
   "execution_count": 40,
   "id": "cec36171",
   "metadata": {
    "execution": {
     "iopub.execute_input": "2025-07-26T00:28:06.819724Z",
     "iopub.status.busy": "2025-07-26T00:28:06.819300Z",
     "iopub.status.idle": "2025-07-26T00:28:46.298110Z",
     "shell.execute_reply": "2025-07-26T00:28:46.296715Z"
    },
    "papermill": {
     "duration": 39.79314,
     "end_time": "2025-07-26T00:28:46.300181",
     "exception": false,
     "start_time": "2025-07-26T00:28:06.507041",
     "status": "completed"
    },
    "tags": []
   },
   "outputs": [
    {
     "name": "stderr",
     "output_type": "stream",
     "text": [
      "Khuyến nghị với negative sampling:   1%|          | 122/23905 [00:00<00:38, 611.73user/s]"
     ]
    },
    {
     "name": "stdout",
     "output_type": "stream",
     "text": [
      "Ví dụ user: U_100090\n"
     ]
    },
    {
     "name": "stderr",
     "output_type": "stream",
     "text": [
      "Khuyến nghị với negative sampling: 100%|██████████| 23905/23905 [00:38<00:00, 618.88user/s]"
     ]
    },
    {
     "name": "stdout",
     "output_type": "stream",
     "text": [
      "Thời gian thực hiện: 39.472531 giây\n"
     ]
    },
    {
     "name": "stderr",
     "output_type": "stream",
     "text": [
      "\n"
     ]
    }
   ],
   "source": [
    "start_time = time.time()\n",
    "results2 = recommend_courses_with_negative_sampling(model, user_course_train, user_course_test, all_course_ids, num_negatives=100)\n",
    "end_time = time.time()  # Kết thúc đo thời gian\n",
    "\n",
    "print(f\"Thời gian thực hiện: {end_time - start_time:.6f} giây\")\n",
    "# print(results)"
   ]
  },
  {
   "cell_type": "code",
   "execution_count": 41,
   "id": "41de0185",
   "metadata": {
    "execution": {
     "iopub.execute_input": "2025-07-26T00:28:46.977079Z",
     "iopub.status.busy": "2025-07-26T00:28:46.976690Z",
     "iopub.status.idle": "2025-07-26T00:28:47.871047Z",
     "shell.execute_reply": "2025-07-26T00:28:47.869558Z"
    },
    "papermill": {
     "duration": 1.229625,
     "end_time": "2025-07-26T00:28:47.873131",
     "exception": false,
     "start_time": "2025-07-26T00:28:46.643506",
     "status": "completed"
    },
    "tags": []
   },
   "outputs": [],
   "source": [
    "eval_5 = evaluate_model(test[[\"user\",\"item\"]], results1,5)\n",
    "eval_10 = evaluate_model(test[[\"user\",\"item\"]], results1,10)"
   ]
  },
  {
   "cell_type": "code",
   "execution_count": 42,
   "id": "ccffdde1",
   "metadata": {
    "execution": {
     "iopub.execute_input": "2025-07-26T00:28:48.595182Z",
     "iopub.status.busy": "2025-07-26T00:28:48.594796Z",
     "iopub.status.idle": "2025-07-26T00:28:48.601929Z",
     "shell.execute_reply": "2025-07-26T00:28:48.600825Z"
    },
    "papermill": {
     "duration": 0.339103,
     "end_time": "2025-07-26T00:28:48.603852",
     "exception": false,
     "start_time": "2025-07-26T00:28:48.264749",
     "status": "completed"
    },
    "tags": []
   },
   "outputs": [
    {
     "data": {
      "text/plain": [
       "{'Baseline': ['V2-BPRMF@5', 'V2-BPRMF@10'],\n",
       " 'Precision': [0.0084, 0.0074],\n",
       " 'Recall': [0.0419, 0.0739],\n",
       " 'HitRate': [0.0419, 0.0739],\n",
       " 'NDCG': [0.0262, 0.0364],\n",
       " 'MAP': [0.0211, 0.0253],\n",
       " 'F1-score': [0.014, 0.0134]}"
      ]
     },
     "execution_count": 42,
     "metadata": {},
     "output_type": "execute_result"
    }
   ],
   "source": [
    "{k: [eval_5[k], eval_10[k]] for k in eval_5}"
   ]
  },
  {
   "cell_type": "code",
   "execution_count": 43,
   "id": "08b0faa4",
   "metadata": {
    "execution": {
     "iopub.execute_input": "2025-07-26T00:28:49.307744Z",
     "iopub.status.busy": "2025-07-26T00:28:49.307309Z",
     "iopub.status.idle": "2025-07-26T00:28:50.454749Z",
     "shell.execute_reply": "2025-07-26T00:28:50.453540Z"
    },
    "papermill": {
     "duration": 1.488281,
     "end_time": "2025-07-26T00:28:50.456623",
     "exception": false,
     "start_time": "2025-07-26T00:28:48.968342",
     "status": "completed"
    },
    "tags": []
   },
   "outputs": [
    {
     "data": {
      "text/plain": [
       "{'Baseline': ['V2-BPRMF@5', 'V2-BPRMF@10'],\n",
       " 'Precision': [0.072, 0.0503],\n",
       " 'Recall': [0.36, 0.5035],\n",
       " 'HitRate': [0.36, 0.5035],\n",
       " 'NDCG': [0.2462, 0.2926],\n",
       " 'MAP': [0.2089, 0.228],\n",
       " 'F1-score': [0.12, 0.0915]}"
      ]
     },
     "execution_count": 43,
     "metadata": {},
     "output_type": "execute_result"
    }
   ],
   "source": [
    "eval_5 = evaluate_model(test[[\"user\",\"item\"]], results2,5)\n",
    "eval_10 = evaluate_model(test[[\"user\",\"item\"]], results2,10)\n",
    "{k: [eval_5[k], eval_10[k]] for k in eval_5}"
   ]
  }
 ],
 "metadata": {
  "kaggle": {
   "accelerator": "none",
   "dataSources": [
    {
     "datasetId": 7259858,
     "sourceId": 11578790,
     "sourceType": "datasetVersion"
    },
    {
     "sourceId": 226720178,
     "sourceType": "kernelVersion"
    },
    {
     "sourceId": 240478674,
     "sourceType": "kernelVersion"
    },
    {
     "sourceId": 244142845,
     "sourceType": "kernelVersion"
    },
    {
     "sourceId": 244308495,
     "sourceType": "kernelVersion"
    },
    {
     "sourceId": 244640082,
     "sourceType": "kernelVersion"
    },
    {
     "sourceId": 244677575,
     "sourceType": "kernelVersion"
    },
    {
     "sourceId": 244681510,
     "sourceType": "kernelVersion"
    },
    {
     "sourceId": 244703534,
     "sourceType": "kernelVersion"
    },
    {
     "sourceId": 245444354,
     "sourceType": "kernelVersion"
    }
   ],
   "dockerImageVersionId": 30919,
   "isGpuEnabled": false,
   "isInternetEnabled": true,
   "language": "python",
   "sourceType": "notebook"
  },
  "kernelspec": {
   "display_name": "Python 3",
   "language": "python",
   "name": "python3"
  },
  "language_info": {
   "codemirror_mode": {
    "name": "ipython",
    "version": 3
   },
   "file_extension": ".py",
   "mimetype": "text/x-python",
   "name": "python",
   "nbconvert_exporter": "python",
   "pygments_lexer": "ipython3",
   "version": "3.10.12"
  },
  "papermill": {
   "default_parameters": {},
   "duration": 909.054567,
   "end_time": "2025-07-26T00:28:54.397890",
   "environment_variables": {},
   "exception": null,
   "input_path": "__notebook__.ipynb",
   "output_path": "__notebook__.ipynb",
   "parameters": {},
   "start_time": "2025-07-26T00:13:45.343323",
   "version": "2.6.0"
  }
 },
 "nbformat": 4,
 "nbformat_minor": 5
}
