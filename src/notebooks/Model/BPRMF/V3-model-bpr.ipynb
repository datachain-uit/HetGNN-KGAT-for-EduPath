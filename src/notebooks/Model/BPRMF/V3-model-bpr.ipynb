{
 "cells": [
  {
   "cell_type": "code",
   "execution_count": 1,
   "id": "397ba896",
   "metadata": {
    "_cell_guid": "b1076dfc-b9ad-4769-8c92-a6c4dae69d19",
    "_uuid": "8f2839f25d086af736a60e9eeb907d3b93b6e0e5",
    "execution": {
     "iopub.execute_input": "2025-07-26T00:13:49.369495Z",
     "iopub.status.busy": "2025-07-26T00:13:49.368925Z",
     "iopub.status.idle": "2025-07-26T00:13:50.580570Z",
     "shell.execute_reply": "2025-07-26T00:13:50.578596Z"
    },
    "papermill": {
     "duration": 1.226695,
     "end_time": "2025-07-26T00:13:50.583024",
     "exception": false,
     "start_time": "2025-07-26T00:13:49.356329",
     "status": "completed"
    },
    "tags": []
   },
   "outputs": [
    {
     "name": "stdout",
     "output_type": "stream",
     "text": [
      "/kaggle/input/dataver3/dataver3.h5\n",
      "/kaggle/input/dataver3/__results__.html\n",
      "/kaggle/input/dataver3/__notebook__.ipynb\n",
      "/kaggle/input/dataver3/__output__.json\n",
      "/kaggle/input/dataver3/custom.css\n",
      "/kaggle/input/preprocessing-course-json/course.json\n",
      "/kaggle/input/preprocessing-course-json/__results__.html\n",
      "/kaggle/input/preprocessing-course-json/__notebook__.ipynb\n",
      "/kaggle/input/preprocessing-course-json/__output__.json\n",
      "/kaggle/input/preprocessing-course-json/custom.css\n",
      "/kaggle/input/dataver4/__results__.html\n",
      "/kaggle/input/dataver4/__huggingface_repos__.json\n",
      "/kaggle/input/dataver4/dataver4.h5\n",
      "/kaggle/input/dataver4/__notebook__.ipynb\n",
      "/kaggle/input/dataver4/__output__.json\n",
      "/kaggle/input/dataver4/custom.css\n",
      "/kaggle/input/preprocessing-user-json/user.csv\n",
      "/kaggle/input/preprocessing-user-json/__results__.html\n",
      "/kaggle/input/preprocessing-user-json/user-5-100.csv\n",
      "/kaggle/input/preprocessing-user-json/__notebook__.ipynb\n",
      "/kaggle/input/preprocessing-user-json/__output__.json\n",
      "/kaggle/input/preprocessing-user-json/user-course.csv\n",
      "/kaggle/input/preprocessing-user-json/custom.css\n",
      "/kaggle/input/dataver2/__results__.html\n",
      "/kaggle/input/dataver2/data_ver2.h5\n",
      "/kaggle/input/dataver2/__notebook__.ipynb\n",
      "/kaggle/input/dataver2/__output__.json\n",
      "/kaggle/input/dataver2/custom.css\n",
      "/kaggle/input/dataset-version-3/dataver3.h5\n",
      "/kaggle/input/dataver5/__results__.html\n",
      "/kaggle/input/dataver5/__huggingface_repos__.json\n",
      "/kaggle/input/dataver5/__notebook__.ipynb\n",
      "/kaggle/input/dataver5/data_ver5.h5\n",
      "/kaggle/input/dataver5/__output__.json\n",
      "/kaggle/input/dataver5/custom.css\n",
      "/kaggle/input/dataver2-train-test/__results__.html\n",
      "/kaggle/input/dataver2-train-test/data_ver2.h5\n",
      "/kaggle/input/dataver2-train-test/__notebook__.ipynb\n",
      "/kaggle/input/dataver2-train-test/__output__.json\n",
      "/kaggle/input/dataver2-train-test/custom.css\n",
      "/kaggle/input/random-user/sample_user.csv\n",
      "/kaggle/input/random-user/__results__.html\n",
      "/kaggle/input/random-user/__notebook__.ipynb\n",
      "/kaggle/input/random-user/__output__.json\n",
      "/kaggle/input/random-user/custom.css\n",
      "/kaggle/input/combine-dataset/__results__.html\n",
      "/kaggle/input/combine-dataset/combine_data.h5\n",
      "/kaggle/input/combine-dataset/__notebook__.ipynb\n",
      "/kaggle/input/combine-dataset/__output__.json\n",
      "/kaggle/input/combine-dataset/custom.css\n"
     ]
    }
   ],
   "source": [
    "# This Python 3 environment comes with many helpful analytics libraries installed\n",
    "# It is defined by the kaggle/python Docker image: https://github.com/kaggle/docker-python\n",
    "# For example, here's several helpful packages to load\n",
    "\n",
    "import numpy as np # linear algebra\n",
    "import pandas as pd # data processing, CSV file I/O (e.g. pd.read_csv)\n",
    "import time\n",
    "from tqdm import tqdm\n",
    "# Input data files are available in the read-only \"../input/\" directory\n",
    "# For example, running this (by clicking run or pressing Shift+Enter) will list all files under the input directory\n",
    "\n",
    "import os\n",
    "for dirname, _, filenames in os.walk('/kaggle/input'):\n",
    "    for filename in filenames:\n",
    "        print(os.path.join(dirname, filename))\n",
    "\n",
    "# You can write up to 20GB to the current directory (/kaggle/working/) that gets preserved as output when you create a version using \"Save & Run All\" \n",
    "# You can also write temporary files to /kaggle/temp/, but they won't be saved outside of the current session"
   ]
  },
  {
   "cell_type": "code",
   "execution_count": 2,
   "id": "23b9b3fb",
   "metadata": {
    "execution": {
     "iopub.execute_input": "2025-07-26T00:13:50.603657Z",
     "iopub.status.busy": "2025-07-26T00:13:50.603034Z",
     "iopub.status.idle": "2025-07-26T00:13:50.608391Z",
     "shell.execute_reply": "2025-07-26T00:13:50.606832Z"
    },
    "papermill": {
     "duration": 0.017802,
     "end_time": "2025-07-26T00:13:50.610577",
     "exception": false,
     "start_time": "2025-07-26T00:13:50.592775",
     "status": "completed"
    },
    "tags": []
   },
   "outputs": [],
   "source": [
    "i=2\n",
    "path=[\n",
    "    \"/kaggle/input/combine-dataset/combine_data.h5\",\n",
    "    \"/kaggle/input/dataver2-train-test/data_ver2.h5\",\n",
    "    \"/kaggle/input/dataver3/dataver3.h5\",\n",
    "    \"/kaggle/input/dataver4/dataver4.h5\",\n",
    "    \"/kaggle/input/dataver5/data_ver5.h5\"\n",
    "     ]"
   ]
  },
  {
   "cell_type": "code",
   "execution_count": 3,
   "id": "b0f5c62b",
   "metadata": {
    "execution": {
     "iopub.execute_input": "2025-07-26T00:13:50.631967Z",
     "iopub.status.busy": "2025-07-26T00:13:50.631478Z",
     "iopub.status.idle": "2025-07-26T00:15:37.149926Z",
     "shell.execute_reply": "2025-07-26T00:15:37.147799Z"
    },
    "papermill": {
     "duration": 106.532749,
     "end_time": "2025-07-26T00:15:37.153039",
     "exception": false,
     "start_time": "2025-07-26T00:13:50.620290",
     "status": "completed"
    },
    "tags": []
   },
   "outputs": [],
   "source": [
    "%%capture\n",
    "! pip install tensorflow==2.12.0\n",
    "! pip install -U LibRecommender"
   ]
  },
  {
   "cell_type": "code",
   "execution_count": 4,
   "id": "35ac7b4d",
   "metadata": {
    "execution": {
     "iopub.execute_input": "2025-07-26T00:15:37.173904Z",
     "iopub.status.busy": "2025-07-26T00:15:37.173455Z",
     "iopub.status.idle": "2025-07-26T00:15:47.554530Z",
     "shell.execute_reply": "2025-07-26T00:15:47.552691Z"
    },
    "papermill": {
     "duration": 10.394069,
     "end_time": "2025-07-26T00:15:47.556856",
     "exception": false,
     "start_time": "2025-07-26T00:15:37.162787",
     "status": "completed"
    },
    "tags": []
   },
   "outputs": [],
   "source": [
    "import numpy as np\n",
    "import pandas as pd\n",
    "from libreco.data import split_by_num_chrono, DatasetFeat\n",
    "\n",
    "\n",
    "item_data = pd.read_json(\"/kaggle/input/preprocessing-course-json/course.json\", lines=True)\n",
    "user_item_data = pd.read_csv(\"/kaggle/input/preprocessing-user-json/user-course.csv\")\n",
    "user_data = pd.read_csv(\"/kaggle/input/preprocessing-user-json/user-5-100.csv\")"
   ]
  },
  {
   "cell_type": "code",
   "execution_count": 5,
   "id": "349711d5",
   "metadata": {
    "execution": {
     "iopub.execute_input": "2025-07-26T00:15:47.576822Z",
     "iopub.status.busy": "2025-07-26T00:15:47.576418Z",
     "iopub.status.idle": "2025-07-26T00:17:23.177292Z",
     "shell.execute_reply": "2025-07-26T00:17:23.172696Z"
    },
    "papermill": {
     "duration": 95.672485,
     "end_time": "2025-07-26T00:17:23.238526",
     "exception": false,
     "start_time": "2025-07-26T00:15:47.566041",
     "status": "completed"
    },
    "tags": []
   },
   "outputs": [
    {
     "data": {
      "text/html": [
       "<div>\n",
       "<style scoped>\n",
       "    .dataframe tbody tr th:only-of-type {\n",
       "        vertical-align: middle;\n",
       "    }\n",
       "\n",
       "    .dataframe tbody tr th {\n",
       "        vertical-align: top;\n",
       "    }\n",
       "\n",
       "    .dataframe thead th {\n",
       "        text-align: right;\n",
       "    }\n",
       "</style>\n",
       "<table border=\"1\" class=\"dataframe\">\n",
       "  <thead>\n",
       "    <tr style=\"text-align: right;\">\n",
       "      <th></th>\n",
       "      <th>user_id</th>\n",
       "      <th>course_id</th>\n",
       "      <th>course_name</th>\n",
       "      <th>course_prerequisites</th>\n",
       "      <th>course_about</th>\n",
       "      <th>course_field</th>\n",
       "      <th>video_id</th>\n",
       "      <th>video_ccid</th>\n",
       "      <th>video_duration</th>\n",
       "      <th>exercise_id</th>\n",
       "      <th>...</th>\n",
       "      <th>teacher_org_name</th>\n",
       "      <th>enroll_time</th>\n",
       "      <th>user_gender</th>\n",
       "      <th>watch_id</th>\n",
       "      <th>total_watch_time</th>\n",
       "      <th>actual_watch_time</th>\n",
       "      <th>doing_exercise_id</th>\n",
       "      <th>doing_num_correct</th>\n",
       "      <th>user_course_num_comment</th>\n",
       "      <th>user_course_num_replies</th>\n",
       "    </tr>\n",
       "  </thead>\n",
       "  <tbody>\n",
       "    <tr>\n",
       "      <th>0</th>\n",
       "      <td>U_24</td>\n",
       "      <td>C_597314</td>\n",
       "      <td>university chinese—analysis of northern song d...</td>\n",
       "      <td>no prerequisite</td>\n",
       "      <td>at present, the talent gap in data science and...</td>\n",
       "      <td>[chinese language and literature]</td>\n",
       "      <td>[V_10741, V_10729, V_10669, V_10636, V_10583, ...</td>\n",
       "      <td>[059F9E3D0C61EC3A9C33DC5901307461, 05BA5BEC636...</td>\n",
       "      <td>[678.88, 1861.28, 280.63, 1488.369, 1192.15, 6...</td>\n",
       "      <td>[Ex_10607, Ex_10647, Ex_10628, Ex_10711, Ex_10...</td>\n",
       "      <td>...</td>\n",
       "      <td>[tsinghua university]</td>\n",
       "      <td>1560360127</td>\n",
       "      <td>1</td>\n",
       "      <td>[]</td>\n",
       "      <td>[]</td>\n",
       "      <td>[]</td>\n",
       "      <td>[]</td>\n",
       "      <td>[]</td>\n",
       "      <td>0</td>\n",
       "      <td>0</td>\n",
       "    </tr>\n",
       "    <tr>\n",
       "      <th>1</th>\n",
       "      <td>U_24</td>\n",
       "      <td>C_597208</td>\n",
       "      <td>data mining: theory and algorithm</td>\n",
       "      <td>no prerequisite</td>\n",
       "      <td>the most interesting theory + the most useful ...</td>\n",
       "      <td>[computer science and technology]</td>\n",
       "      <td>[V_3025, V_2985, V_2964, V_3074, V_3082, V_306...</td>\n",
       "      <td>[03D205A6AEB0B16F9C33DC5901307461, 03F5AF209FA...</td>\n",
       "      <td>[1003.9, 773.66, 886.35, 505.57, 889.61, 930.6...</td>\n",
       "      <td>[Ex_2994, Ex_3099, Ex_3066, Ex_3021, Ex_3006, ...</td>\n",
       "      <td>...</td>\n",
       "      <td>[tsinghua university]</td>\n",
       "      <td>1560784961</td>\n",
       "      <td>1</td>\n",
       "      <td>[]</td>\n",
       "      <td>[]</td>\n",
       "      <td>[]</td>\n",
       "      <td>[]</td>\n",
       "      <td>[]</td>\n",
       "      <td>0</td>\n",
       "      <td>0</td>\n",
       "    </tr>\n",
       "    <tr>\n",
       "      <th>2</th>\n",
       "      <td>U_24</td>\n",
       "      <td>C_682129</td>\n",
       "      <td>software theory basics</td>\n",
       "      <td>no prerequisite</td>\n",
       "      <td>this course introduces formal language, automa...</td>\n",
       "      <td>[computer science and technology]</td>\n",
       "      <td>[V_265396, V_265411, V_265404, V_265442, V_265...</td>\n",
       "      <td>[00784179599D8C659C33DC5901307461, 036F26D5314...</td>\n",
       "      <td>[1236.79, 1212.67, 1584.55, 1574.35, 376.79, 5...</td>\n",
       "      <td>[Ex_265490, Ex_265468, Ex_265398, Ex_265475, E...</td>\n",
       "      <td>...</td>\n",
       "      <td>[tsinghua university]</td>\n",
       "      <td>1570379031</td>\n",
       "      <td>1</td>\n",
       "      <td>[]</td>\n",
       "      <td>[]</td>\n",
       "      <td>[]</td>\n",
       "      <td>[]</td>\n",
       "      <td>[]</td>\n",
       "      <td>0</td>\n",
       "      <td>0</td>\n",
       "    </tr>\n",
       "    <tr>\n",
       "      <th>3</th>\n",
       "      <td>U_24</td>\n",
       "      <td>C_674910</td>\n",
       "      <td>pattern aesthetics and creation</td>\n",
       "      <td>no prerequisite</td>\n",
       "      <td>[national premium course] this course provides...</td>\n",
       "      <td>[computer science and technology]</td>\n",
       "      <td>None</td>\n",
       "      <td>None</td>\n",
       "      <td>None</td>\n",
       "      <td>[Ex_35603, Ex_35595, Ex_35599, Ex_35583, Ex_35...</td>\n",
       "      <td>...</td>\n",
       "      <td>[tsinghua university]</td>\n",
       "      <td>1570557064</td>\n",
       "      <td>1</td>\n",
       "      <td>[]</td>\n",
       "      <td>[]</td>\n",
       "      <td>[]</td>\n",
       "      <td>[]</td>\n",
       "      <td>[]</td>\n",
       "      <td>0</td>\n",
       "      <td>0</td>\n",
       "    </tr>\n",
       "    <tr>\n",
       "      <th>4</th>\n",
       "      <td>U_24</td>\n",
       "      <td>C_707038</td>\n",
       "      <td>organic chemistry</td>\n",
       "      <td>no prerequisite</td>\n",
       "      <td>the world's organic compounds are rich and col...</td>\n",
       "      <td>[chemical engineering and technology, chemical]</td>\n",
       "      <td>[V_566855, V_567087, V_566826, V_567004, V_566...</td>\n",
       "      <td>[001EF0F9EA519E1B9C33DC5901307461, 003EB4E2CD2...</td>\n",
       "      <td>[194.2, 295.6, 423.465, 270.269, 529.6, 183.69...</td>\n",
       "      <td>[Ex_567007, Ex_566841, Ex_566866, Ex_567006, E...</td>\n",
       "      <td>...</td>\n",
       "      <td>[tsinghua university, tsinghua university, tsi...</td>\n",
       "      <td>1570971985</td>\n",
       "      <td>1</td>\n",
       "      <td>[]</td>\n",
       "      <td>[]</td>\n",
       "      <td>[]</td>\n",
       "      <td>[]</td>\n",
       "      <td>[]</td>\n",
       "      <td>0</td>\n",
       "      <td>0</td>\n",
       "    </tr>\n",
       "    <tr>\n",
       "      <th>...</th>\n",
       "      <td>...</td>\n",
       "      <td>...</td>\n",
       "      <td>...</td>\n",
       "      <td>...</td>\n",
       "      <td>...</td>\n",
       "      <td>...</td>\n",
       "      <td>...</td>\n",
       "      <td>...</td>\n",
       "      <td>...</td>\n",
       "      <td>...</td>\n",
       "      <td>...</td>\n",
       "      <td>...</td>\n",
       "      <td>...</td>\n",
       "      <td>...</td>\n",
       "      <td>...</td>\n",
       "      <td>...</td>\n",
       "      <td>...</td>\n",
       "      <td>...</td>\n",
       "      <td>...</td>\n",
       "      <td>...</td>\n",
       "      <td>...</td>\n",
       "    </tr>\n",
       "    <tr>\n",
       "      <th>7284495</th>\n",
       "      <td>U_34712115</td>\n",
       "      <td>C_770738</td>\n",
       "      <td>data structure (part 2)</td>\n",
       "      <td>no prerequisite</td>\n",
       "      <td>breeze plan 2021 [first term recruitment] is i...</td>\n",
       "      <td>[computer science and technology]</td>\n",
       "      <td>[V_784218, V_784314, V_784095, V_784020, V_784...</td>\n",
       "      <td>[00CE59849A6B87B29C33DC5901307461, 00DDC85FD9E...</td>\n",
       "      <td>[173.09, 312.0, 333.86, 446.9, 93.46, 142.56, ...</td>\n",
       "      <td>[Ex_1004448, Ex_1011216, Ex_1004394, Ex_784166...</td>\n",
       "      <td>...</td>\n",
       "      <td>[tsinghua university]</td>\n",
       "      <td>1602487061</td>\n",
       "      <td>1</td>\n",
       "      <td>[]</td>\n",
       "      <td>[]</td>\n",
       "      <td>[]</td>\n",
       "      <td>[]</td>\n",
       "      <td>[]</td>\n",
       "      <td>0</td>\n",
       "      <td>0</td>\n",
       "    </tr>\n",
       "    <tr>\n",
       "      <th>7284496</th>\n",
       "      <td>U_34712115</td>\n",
       "      <td>C_676937</td>\n",
       "      <td>advanced c++ language programming</td>\n",
       "      <td>no prerequisite</td>\n",
       "      <td>breeze plan 2021 [first term recruitment] is i...</td>\n",
       "      <td>[computer science and technology]</td>\n",
       "      <td>[V_69237, V_69353, V_69285, V_69228, V_69217, ...</td>\n",
       "      <td>[0086579E5E48FC179C33DC5901307461, 0814FA18F28...</td>\n",
       "      <td>[649.72, 193.64, 493.92, 372.2, 468.04, 230.24...</td>\n",
       "      <td>[Ex_69254, Ex_69224, Ex_69293, Ex_69253, Ex_69...</td>\n",
       "      <td>...</td>\n",
       "      <td>[tsinghua university, tsinghua university, tsi...</td>\n",
       "      <td>1603225930</td>\n",
       "      <td>1</td>\n",
       "      <td>[]</td>\n",
       "      <td>[]</td>\n",
       "      <td>[]</td>\n",
       "      <td>[]</td>\n",
       "      <td>[]</td>\n",
       "      <td>0</td>\n",
       "      <td>0</td>\n",
       "    </tr>\n",
       "    <tr>\n",
       "      <th>7284497</th>\n",
       "      <td>U_34712115</td>\n",
       "      <td>C_694136</td>\n",
       "      <td>data mining: theory and algorithm</td>\n",
       "      <td>no prerequisite</td>\n",
       "      <td>the most interesting theory + the most useful ...</td>\n",
       "      <td>[computer science and technology]</td>\n",
       "      <td>[V_434820, V_434780, V_434759, V_434869, V_434...</td>\n",
       "      <td>[03D205A6AEB0B16F9C33DC5901307461, 03F5AF209FA...</td>\n",
       "      <td>[1003.9, 773.66, 886.35, 505.57, 889.61, 930.6...</td>\n",
       "      <td>[Ex_434826, Ex_743296, Ex_434785, Ex_434853, E...</td>\n",
       "      <td>...</td>\n",
       "      <td>[tsinghua university]</td>\n",
       "      <td>1603226018</td>\n",
       "      <td>1</td>\n",
       "      <td>[]</td>\n",
       "      <td>[]</td>\n",
       "      <td>[]</td>\n",
       "      <td>[]</td>\n",
       "      <td>[]</td>\n",
       "      <td>0</td>\n",
       "      <td>0</td>\n",
       "    </tr>\n",
       "    <tr>\n",
       "      <th>7284498</th>\n",
       "      <td>U_34712115</td>\n",
       "      <td>C_1738993</td>\n",
       "      <td>game programming</td>\n",
       "      <td>no prerequisite</td>\n",
       "      <td>this course is jointly produced by tsinghua un...</td>\n",
       "      <td>[computer science and technology]</td>\n",
       "      <td>[V_4067820, V_4067793, V_4067819, V_4067861, V...</td>\n",
       "      <td>[01F30259BD4076869C33DC5901307461, 043477B78DF...</td>\n",
       "      <td>[267.21, 216.3, 951.63, 492.66, 1171.085, 381....</td>\n",
       "      <td>[Ex_4067784, Ex_4067718, Ex_4067824, Ex_406780...</td>\n",
       "      <td>...</td>\n",
       "      <td>[tencent game academy, tencent game academy, t...</td>\n",
       "      <td>1603226118</td>\n",
       "      <td>1</td>\n",
       "      <td>[]</td>\n",
       "      <td>[]</td>\n",
       "      <td>[]</td>\n",
       "      <td>[]</td>\n",
       "      <td>[]</td>\n",
       "      <td>0</td>\n",
       "      <td>0</td>\n",
       "    </tr>\n",
       "    <tr>\n",
       "      <th>7284499</th>\n",
       "      <td>U_34712115</td>\n",
       "      <td>C_697092</td>\n",
       "      <td>3d game engine architecture design basics</td>\n",
       "      <td>c++ programming, computer graphics. it is best...</td>\n",
       "      <td>game engines are independent and complex compo...</td>\n",
       "      <td>[computer science and technology]</td>\n",
       "      <td>None</td>\n",
       "      <td>None</td>\n",
       "      <td>None</td>\n",
       "      <td>[Ex_510835, Ex_510808, Ex_510829, Ex_510843, E...</td>\n",
       "      <td>...</td>\n",
       "      <td>[south china university technology]</td>\n",
       "      <td>1603226187</td>\n",
       "      <td>1</td>\n",
       "      <td>[]</td>\n",
       "      <td>[]</td>\n",
       "      <td>[]</td>\n",
       "      <td>[]</td>\n",
       "      <td>[]</td>\n",
       "      <td>0</td>\n",
       "      <td>0</td>\n",
       "    </tr>\n",
       "  </tbody>\n",
       "</table>\n",
       "<p>7284500 rows × 35 columns</p>\n",
       "</div>"
      ],
      "text/plain": [
       "            user_id  course_id  \\\n",
       "0              U_24   C_597314   \n",
       "1              U_24   C_597208   \n",
       "2              U_24   C_682129   \n",
       "3              U_24   C_674910   \n",
       "4              U_24   C_707038   \n",
       "...             ...        ...   \n",
       "7284495  U_34712115   C_770738   \n",
       "7284496  U_34712115   C_676937   \n",
       "7284497  U_34712115   C_694136   \n",
       "7284498  U_34712115  C_1738993   \n",
       "7284499  U_34712115   C_697092   \n",
       "\n",
       "                                               course_name  \\\n",
       "0        university chinese—analysis of northern song d...   \n",
       "1                        data mining: theory and algorithm   \n",
       "2                                   software theory basics   \n",
       "3                          pattern aesthetics and creation   \n",
       "4                                        organic chemistry   \n",
       "...                                                    ...   \n",
       "7284495                            data structure (part 2)   \n",
       "7284496                  advanced c++ language programming   \n",
       "7284497                  data mining: theory and algorithm   \n",
       "7284498                                   game programming   \n",
       "7284499          3d game engine architecture design basics   \n",
       "\n",
       "                                      course_prerequisites  \\\n",
       "0                                          no prerequisite   \n",
       "1                                          no prerequisite   \n",
       "2                                          no prerequisite   \n",
       "3                                          no prerequisite   \n",
       "4                                          no prerequisite   \n",
       "...                                                    ...   \n",
       "7284495                                    no prerequisite   \n",
       "7284496                                    no prerequisite   \n",
       "7284497                                    no prerequisite   \n",
       "7284498                                    no prerequisite   \n",
       "7284499  c++ programming, computer graphics. it is best...   \n",
       "\n",
       "                                              course_about  \\\n",
       "0        at present, the talent gap in data science and...   \n",
       "1        the most interesting theory + the most useful ...   \n",
       "2        this course introduces formal language, automa...   \n",
       "3        [national premium course] this course provides...   \n",
       "4        the world's organic compounds are rich and col...   \n",
       "...                                                    ...   \n",
       "7284495  breeze plan 2021 [first term recruitment] is i...   \n",
       "7284496  breeze plan 2021 [first term recruitment] is i...   \n",
       "7284497  the most interesting theory + the most useful ...   \n",
       "7284498  this course is jointly produced by tsinghua un...   \n",
       "7284499  game engines are independent and complex compo...   \n",
       "\n",
       "                                            course_field  \\\n",
       "0                      [chinese language and literature]   \n",
       "1                      [computer science and technology]   \n",
       "2                      [computer science and technology]   \n",
       "3                      [computer science and technology]   \n",
       "4        [chemical engineering and technology, chemical]   \n",
       "...                                                  ...   \n",
       "7284495                [computer science and technology]   \n",
       "7284496                [computer science and technology]   \n",
       "7284497                [computer science and technology]   \n",
       "7284498                [computer science and technology]   \n",
       "7284499                [computer science and technology]   \n",
       "\n",
       "                                                  video_id  \\\n",
       "0        [V_10741, V_10729, V_10669, V_10636, V_10583, ...   \n",
       "1        [V_3025, V_2985, V_2964, V_3074, V_3082, V_306...   \n",
       "2        [V_265396, V_265411, V_265404, V_265442, V_265...   \n",
       "3                                                     None   \n",
       "4        [V_566855, V_567087, V_566826, V_567004, V_566...   \n",
       "...                                                    ...   \n",
       "7284495  [V_784218, V_784314, V_784095, V_784020, V_784...   \n",
       "7284496  [V_69237, V_69353, V_69285, V_69228, V_69217, ...   \n",
       "7284497  [V_434820, V_434780, V_434759, V_434869, V_434...   \n",
       "7284498  [V_4067820, V_4067793, V_4067819, V_4067861, V...   \n",
       "7284499                                               None   \n",
       "\n",
       "                                                video_ccid  \\\n",
       "0        [059F9E3D0C61EC3A9C33DC5901307461, 05BA5BEC636...   \n",
       "1        [03D205A6AEB0B16F9C33DC5901307461, 03F5AF209FA...   \n",
       "2        [00784179599D8C659C33DC5901307461, 036F26D5314...   \n",
       "3                                                     None   \n",
       "4        [001EF0F9EA519E1B9C33DC5901307461, 003EB4E2CD2...   \n",
       "...                                                    ...   \n",
       "7284495  [00CE59849A6B87B29C33DC5901307461, 00DDC85FD9E...   \n",
       "7284496  [0086579E5E48FC179C33DC5901307461, 0814FA18F28...   \n",
       "7284497  [03D205A6AEB0B16F9C33DC5901307461, 03F5AF209FA...   \n",
       "7284498  [01F30259BD4076869C33DC5901307461, 043477B78DF...   \n",
       "7284499                                               None   \n",
       "\n",
       "                                            video_duration  \\\n",
       "0        [678.88, 1861.28, 280.63, 1488.369, 1192.15, 6...   \n",
       "1        [1003.9, 773.66, 886.35, 505.57, 889.61, 930.6...   \n",
       "2        [1236.79, 1212.67, 1584.55, 1574.35, 376.79, 5...   \n",
       "3                                                     None   \n",
       "4        [194.2, 295.6, 423.465, 270.269, 529.6, 183.69...   \n",
       "...                                                    ...   \n",
       "7284495  [173.09, 312.0, 333.86, 446.9, 93.46, 142.56, ...   \n",
       "7284496  [649.72, 193.64, 493.92, 372.2, 468.04, 230.24...   \n",
       "7284497  [1003.9, 773.66, 886.35, 505.57, 889.61, 930.6...   \n",
       "7284498  [267.21, 216.3, 951.63, 492.66, 1171.085, 381....   \n",
       "7284499                                               None   \n",
       "\n",
       "                                               exercise_id  ...  \\\n",
       "0        [Ex_10607, Ex_10647, Ex_10628, Ex_10711, Ex_10...  ...   \n",
       "1        [Ex_2994, Ex_3099, Ex_3066, Ex_3021, Ex_3006, ...  ...   \n",
       "2        [Ex_265490, Ex_265468, Ex_265398, Ex_265475, E...  ...   \n",
       "3        [Ex_35603, Ex_35595, Ex_35599, Ex_35583, Ex_35...  ...   \n",
       "4        [Ex_567007, Ex_566841, Ex_566866, Ex_567006, E...  ...   \n",
       "...                                                    ...  ...   \n",
       "7284495  [Ex_1004448, Ex_1011216, Ex_1004394, Ex_784166...  ...   \n",
       "7284496  [Ex_69254, Ex_69224, Ex_69293, Ex_69253, Ex_69...  ...   \n",
       "7284497  [Ex_434826, Ex_743296, Ex_434785, Ex_434853, E...  ...   \n",
       "7284498  [Ex_4067784, Ex_4067718, Ex_4067824, Ex_406780...  ...   \n",
       "7284499  [Ex_510835, Ex_510808, Ex_510829, Ex_510843, E...  ...   \n",
       "\n",
       "                                          teacher_org_name enroll_time  \\\n",
       "0                                    [tsinghua university]  1560360127   \n",
       "1                                    [tsinghua university]  1560784961   \n",
       "2                                    [tsinghua university]  1570379031   \n",
       "3                                    [tsinghua university]  1570557064   \n",
       "4        [tsinghua university, tsinghua university, tsi...  1570971985   \n",
       "...                                                    ...         ...   \n",
       "7284495                              [tsinghua university]  1602487061   \n",
       "7284496  [tsinghua university, tsinghua university, tsi...  1603225930   \n",
       "7284497                              [tsinghua university]  1603226018   \n",
       "7284498  [tencent game academy, tencent game academy, t...  1603226118   \n",
       "7284499                [south china university technology]  1603226187   \n",
       "\n",
       "        user_gender watch_id total_watch_time  actual_watch_time  \\\n",
       "0                 1       []               []                 []   \n",
       "1                 1       []               []                 []   \n",
       "2                 1       []               []                 []   \n",
       "3                 1       []               []                 []   \n",
       "4                 1       []               []                 []   \n",
       "...             ...      ...              ...                ...   \n",
       "7284495           1       []               []                 []   \n",
       "7284496           1       []               []                 []   \n",
       "7284497           1       []               []                 []   \n",
       "7284498           1       []               []                 []   \n",
       "7284499           1       []               []                 []   \n",
       "\n",
       "         doing_exercise_id doing_num_correct user_course_num_comment  \\\n",
       "0                       []                []                       0   \n",
       "1                       []                []                       0   \n",
       "2                       []                []                       0   \n",
       "3                       []                []                       0   \n",
       "4                       []                []                       0   \n",
       "...                    ...               ...                     ...   \n",
       "7284495                 []                []                       0   \n",
       "7284496                 []                []                       0   \n",
       "7284497                 []                []                       0   \n",
       "7284498                 []                []                       0   \n",
       "7284499                 []                []                       0   \n",
       "\n",
       "        user_course_num_replies  \n",
       "0                             0  \n",
       "1                             0  \n",
       "2                             0  \n",
       "3                             0  \n",
       "4                             0  \n",
       "...                         ...  \n",
       "7284495                       0  \n",
       "7284496                       0  \n",
       "7284497                       0  \n",
       "7284498                       0  \n",
       "7284499                       0  \n",
       "\n",
       "[7284500 rows x 35 columns]"
      ]
     },
     "execution_count": 5,
     "metadata": {},
     "output_type": "execute_result"
    }
   ],
   "source": [
    "combine_data = pd.read_hdf(path[i], key='df')\n",
    "combine_data"
   ]
  },
  {
   "cell_type": "code",
   "execution_count": 6,
   "id": "fc97dde1",
   "metadata": {
    "execution": {
     "iopub.execute_input": "2025-07-26T00:17:23.323561Z",
     "iopub.status.busy": "2025-07-26T00:17:23.319687Z",
     "iopub.status.idle": "2025-07-26T00:17:23.342289Z",
     "shell.execute_reply": "2025-07-26T00:17:23.338351Z"
    },
    "papermill": {
     "duration": 0.070302,
     "end_time": "2025-07-26T00:17:23.349084",
     "exception": false,
     "start_time": "2025-07-26T00:17:23.278782",
     "status": "completed"
    },
    "tags": []
   },
   "outputs": [
    {
     "data": {
      "text/plain": [
       "Index(['user_id', 'course_id', 'course_name', 'course_prerequisites',\n",
       "       'course_about', 'course_field', 'video_id', 'video_ccid',\n",
       "       'video_duration', 'exercise_id', 'exercise_num_problem', 'concept_id',\n",
       "       'concept_prerequisite', 'concept_name', 'concept_field',\n",
       "       'course_total_comments', 'count_course', 'school_id', 'school_name',\n",
       "       'school_about', 'school_motto', 'teacher_id', 'teacher_name',\n",
       "       'teacher_about', 'teacher_job_title', 'teacher_org_name', 'enroll_time',\n",
       "       'user_gender', 'watch_id', 'total_watch_time', 'actual_watch_time',\n",
       "       'doing_exercise_id', 'doing_num_correct', 'user_course_num_comment',\n",
       "       'user_course_num_replies'],\n",
       "      dtype='object')"
      ]
     },
     "execution_count": 6,
     "metadata": {},
     "output_type": "execute_result"
    }
   ],
   "source": [
    "combine_data.columns"
   ]
  },
  {
   "cell_type": "code",
   "execution_count": 7,
   "id": "fa4334fc",
   "metadata": {
    "execution": {
     "iopub.execute_input": "2025-07-26T00:17:23.418357Z",
     "iopub.status.busy": "2025-07-26T00:17:23.416739Z",
     "iopub.status.idle": "2025-07-26T00:17:23.442280Z",
     "shell.execute_reply": "2025-07-26T00:17:23.437912Z"
    },
    "papermill": {
     "duration": 0.076048,
     "end_time": "2025-07-26T00:17:23.451837",
     "exception": false,
     "start_time": "2025-07-26T00:17:23.375789",
     "status": "completed"
    },
    "tags": []
   },
   "outputs": [],
   "source": [
    "import pandas as pd\n",
    "\n",
    "def filter_user_item_by_interactions(df, user_col='user_id', item_col='course_id', min_interactions=5):\n",
    "    \"\"\"\n",
    "    Lọc user và item có ít hơn `min_interactions` tương tác.\n",
    "    \n",
    "    Parameters:\n",
    "        df (pd.DataFrame): DataFrame đầu vào, chứa cột user và item.\n",
    "        user_col (str): Tên cột đại diện cho user.\n",
    "        item_col (str): Tên cột đại diện cho item (ví dụ: course).\n",
    "        min_interactions (int): Số tương tác tối thiểu.\n",
    "    \n",
    "    Returns:\n",
    "        pd.DataFrame: DataFrame đã được lọc.\n",
    "    \"\"\"\n",
    "    df_filtered = df.copy()\n",
    "    \n",
    "    while True:\n",
    "        user_counts = df_filtered[user_col].value_counts()\n",
    "        valid_users = user_counts[user_counts >= min_interactions].index\n",
    "        df_filtered = df_filtered[df_filtered[user_col].isin(valid_users)]\n",
    "\n",
    "        item_counts = df_filtered[item_col].value_counts()\n",
    "        valid_items = item_counts[item_counts >= min_interactions].index\n",
    "        df_filtered = df_filtered[df_filtered[item_col].isin(valid_items)]\n",
    "\n",
    "        if (len(valid_users) == df_filtered[user_col].nunique() and\n",
    "            len(valid_items) == df_filtered[item_col].nunique()):\n",
    "            break\n",
    "    \n",
    "    return df_filtered\n"
   ]
  },
  {
   "cell_type": "code",
   "execution_count": 8,
   "id": "9fd004eb",
   "metadata": {
    "execution": {
     "iopub.execute_input": "2025-07-26T00:17:23.553177Z",
     "iopub.status.busy": "2025-07-26T00:17:23.551469Z",
     "iopub.status.idle": "2025-07-26T00:17:25.968073Z",
     "shell.execute_reply": "2025-07-26T00:17:25.966458Z"
    },
    "papermill": {
     "duration": 2.468121,
     "end_time": "2025-07-26T00:17:25.970676",
     "exception": false,
     "start_time": "2025-07-26T00:17:23.502555",
     "status": "completed"
    },
    "tags": []
   },
   "outputs": [],
   "source": [
    "sp_user = pd.read_csv(\"/kaggle/input/random-user/sample_user.csv\")\n",
    "combine_data = combine_data[combine_data['user_id'].isin(sp_user['user_id'])]\n",
    "# combine_data = filter_user_item_by_interactions(combine_data)"
   ]
  },
  {
   "cell_type": "code",
   "execution_count": 9,
   "id": "3e83469d",
   "metadata": {
    "execution": {
     "iopub.execute_input": "2025-07-26T00:17:26.006238Z",
     "iopub.status.busy": "2025-07-26T00:17:26.005833Z",
     "iopub.status.idle": "2025-07-26T00:17:26.012438Z",
     "shell.execute_reply": "2025-07-26T00:17:26.011278Z"
    },
    "papermill": {
     "duration": 0.026539,
     "end_time": "2025-07-26T00:17:26.014430",
     "exception": false,
     "start_time": "2025-07-26T00:17:25.987891",
     "status": "completed"
    },
    "tags": []
   },
   "outputs": [],
   "source": [
    "def filter_user_item_interactions(df, user_col='user_id', item_col='course_id', min_interactions=5):\n",
    "    \"\"\"\n",
    "    Lọc bỏ các user và item có ít hơn `min_interactions` tương tác.\n",
    "\n",
    "    Args:\n",
    "        df (pd.DataFrame): DataFrame chứa tương tác user-item.\n",
    "        user_col (str): Tên cột user.\n",
    "        item_col (str): Tên cột item (course).\n",
    "        min_interactions (int): Số tương tác tối thiểu để giữ lại.\n",
    "\n",
    "    Returns:\n",
    "        pd.DataFrame: DataFrame đã được lọc.\n",
    "    \"\"\"\n",
    "    import pandas as pd\n",
    "\n",
    "    while True:\n",
    "        original_len = len(df)\n",
    "        \n",
    "        # Lọc user\n",
    "        user_counts = df[user_col].value_counts()\n",
    "        valid_users = user_counts[user_counts >= min_interactions].index\n",
    "        df = df[df[user_col].isin(valid_users)]\n",
    "\n",
    "        # Lọc item\n",
    "        item_counts = df[item_col].value_counts()\n",
    "        valid_items = item_counts[item_counts >= min_interactions].index\n",
    "        df = df[df[item_col].isin(valid_items)]\n",
    "\n",
    "        if len(df) == original_len:\n",
    "            break  # không còn gì để lọc nữa\n",
    "\n",
    "    return df.reset_index(drop=True)\n",
    "# combine_data=filter_user_item_interactions(combine_data)"
   ]
  },
  {
   "cell_type": "code",
   "execution_count": 10,
   "id": "a40c9348",
   "metadata": {
    "execution": {
     "iopub.execute_input": "2025-07-26T00:17:26.037032Z",
     "iopub.status.busy": "2025-07-26T00:17:26.036667Z",
     "iopub.status.idle": "2025-07-26T00:17:26.604244Z",
     "shell.execute_reply": "2025-07-26T00:17:26.602927Z"
    },
    "papermill": {
     "duration": 0.581602,
     "end_time": "2025-07-26T00:17:26.606287",
     "exception": false,
     "start_time": "2025-07-26T00:17:26.024685",
     "status": "completed"
    },
    "tags": []
   },
   "outputs": [],
   "source": [
    "item_data = combine_data[[\n",
    "    'course_id','course_name','course_prerequisites', 'course_about', \n",
    "    'school_id','teacher_id','video_duration','exercise_num_problem','course_total_comments']]\n",
    "item_data=item_data.groupby('course_id').first().reset_index()"
   ]
  },
  {
   "cell_type": "code",
   "execution_count": 11,
   "id": "5d89545b",
   "metadata": {
    "execution": {
     "iopub.execute_input": "2025-07-26T00:17:26.627552Z",
     "iopub.status.busy": "2025-07-26T00:17:26.627182Z",
     "iopub.status.idle": "2025-07-26T00:17:26.655075Z",
     "shell.execute_reply": "2025-07-26T00:17:26.653811Z"
    },
    "papermill": {
     "duration": 0.040585,
     "end_time": "2025-07-26T00:17:26.656961",
     "exception": false,
     "start_time": "2025-07-26T00:17:26.616376",
     "status": "completed"
    },
    "tags": []
   },
   "outputs": [
    {
     "data": {
      "text/html": [
       "<div>\n",
       "<style scoped>\n",
       "    .dataframe tbody tr th:only-of-type {\n",
       "        vertical-align: middle;\n",
       "    }\n",
       "\n",
       "    .dataframe tbody tr th {\n",
       "        vertical-align: top;\n",
       "    }\n",
       "\n",
       "    .dataframe thead th {\n",
       "        text-align: right;\n",
       "    }\n",
       "</style>\n",
       "<table border=\"1\" class=\"dataframe\">\n",
       "  <thead>\n",
       "    <tr style=\"text-align: right;\">\n",
       "      <th></th>\n",
       "      <th>course_id</th>\n",
       "      <th>course_name</th>\n",
       "      <th>course_prerequisites</th>\n",
       "      <th>course_about</th>\n",
       "      <th>school_id</th>\n",
       "      <th>teacher_id</th>\n",
       "      <th>video_duration</th>\n",
       "      <th>exercise_num_problem</th>\n",
       "      <th>course_total_comments</th>\n",
       "    </tr>\n",
       "  </thead>\n",
       "  <tbody>\n",
       "    <tr>\n",
       "      <th>0</th>\n",
       "      <td>C_1017355</td>\n",
       "      <td>introduction to traditional chinese medicine e...</td>\n",
       "      <td>the main subjects are college students who hav...</td>\n",
       "      <td>traditional chinese medicine culture - the tre...</td>\n",
       "      <td>[S_33]</td>\n",
       "      <td>[T_7970, T_7971, T_5826, T_7978, T_7979]</td>\n",
       "      <td>None</td>\n",
       "      <td>[5, 5, 5, 5, 5, 5, 5, 5, 5, 5, 5, 5, 5, 5, 5, ...</td>\n",
       "      <td>39624</td>\n",
       "    </tr>\n",
       "    <tr>\n",
       "      <th>1</th>\n",
       "      <td>C_1017419</td>\n",
       "      <td>smart government talk</td>\n",
       "      <td>no prerequisite</td>\n",
       "      <td>this course combines specific cases of traffic...</td>\n",
       "      <td>[S_52]</td>\n",
       "      <td>[T_7849, T_16199, T_16200, T_16201, T_16202, T...</td>\n",
       "      <td>None</td>\n",
       "      <td>[15, 15, 20, 15, 15, 15, 15, 16, 15]</td>\n",
       "      <td>609</td>\n",
       "    </tr>\n",
       "    <tr>\n",
       "      <th>2</th>\n",
       "      <td>C_1025064</td>\n",
       "      <td>principles of ideological and political education</td>\n",
       "      <td>no prerequisite</td>\n",
       "      <td>hello, dear classmate! do you want to know how...</td>\n",
       "      <td>[S_13]</td>\n",
       "      <td>[T_3915, T_3911, T_5426, T_5427, T_5429]</td>\n",
       "      <td>[466.575, 402.325, 476.65, 1025.9, 755.075, 42...</td>\n",
       "      <td>[10, 10, 10, 10, 10, 10, 10, 10, 10, 10, 10, 1...</td>\n",
       "      <td>696</td>\n",
       "    </tr>\n",
       "    <tr>\n",
       "      <th>3</th>\n",
       "      <td>C_1025076</td>\n",
       "      <td>advanced roller skating tutorial</td>\n",
       "      <td>no prerequisite</td>\n",
       "      <td>the true meaning of experiencing roller skatin...</td>\n",
       "      <td>[S_72]</td>\n",
       "      <td>[T_5394]</td>\n",
       "      <td>None</td>\n",
       "      <td>[1, 1, 15, 1]</td>\n",
       "      <td>2</td>\n",
       "    </tr>\n",
       "    <tr>\n",
       "      <th>4</th>\n",
       "      <td>C_1025079</td>\n",
       "      <td>scientific fitness method-silk-winding fitness...</td>\n",
       "      <td>no prerequisite</td>\n",
       "      <td>silk wrapping skills are the chinese solution ...</td>\n",
       "      <td>[S_97]</td>\n",
       "      <td>[T_7939]</td>\n",
       "      <td>[671.97, 925.17, 748.11, 644.25, 543.93, 546.3...</td>\n",
       "      <td>[5, 5, 5, 5, 5]</td>\n",
       "      <td>125</td>\n",
       "    </tr>\n",
       "    <tr>\n",
       "      <th>...</th>\n",
       "      <td>...</td>\n",
       "      <td>...</td>\n",
       "      <td>...</td>\n",
       "      <td>...</td>\n",
       "      <td>...</td>\n",
       "      <td>...</td>\n",
       "      <td>...</td>\n",
       "      <td>...</td>\n",
       "      <td>...</td>\n",
       "    </tr>\n",
       "    <tr>\n",
       "      <th>2707</th>\n",
       "      <td>C_949542</td>\n",
       "      <td>thinking innovation and creativity development</td>\n",
       "      <td>no prerequisite</td>\n",
       "      <td>if appearance is a letter of recommendation fo...</td>\n",
       "      <td>[S_749]</td>\n",
       "      <td>[T_7389, T_7390, T_10280, T_10281, T_7392, T_7...</td>\n",
       "      <td>[784.77, 713.7, 578.07, 689.01, 624.45, 658.17...</td>\n",
       "      <td>[7, 8, 6, 7, 8, 10, 7, 8, 8, 11, 10, 6, 6, 5, ...</td>\n",
       "      <td>839</td>\n",
       "    </tr>\n",
       "    <tr>\n",
       "      <th>2708</th>\n",
       "      <td>C_955163</td>\n",
       "      <td>learn to make mini programs - practical chapte...</td>\n",
       "      <td>computer basics, html, css, javascript, progra...</td>\n",
       "      <td>this course is a wechat mini program learning ...</td>\n",
       "      <td>[S_1]</td>\n",
       "      <td>[T_172, T_14907, T_14933, T_1286]</td>\n",
       "      <td>[515.893, 134.584, 2084.548, 1546.264, 38.356,...</td>\n",
       "      <td>[5, 1, 10, 10, 1, 30, 4]</td>\n",
       "      <td>305</td>\n",
       "    </tr>\n",
       "    <tr>\n",
       "      <th>2709</th>\n",
       "      <td>C_956128</td>\n",
       "      <td>interpretation of hot issues of portal hyperte...</td>\n",
       "      <td>no prerequisite</td>\n",
       "      <td>interpretation of hot issues of portal hyperte...</td>\n",
       "      <td>[S_144]</td>\n",
       "      <td>[T_7005, T_7006, T_7007]</td>\n",
       "      <td>None</td>\n",
       "      <td>[15, 15, 15, 15, 15, 15, 15]</td>\n",
       "      <td>0</td>\n",
       "    </tr>\n",
       "    <tr>\n",
       "      <th>2710</th>\n",
       "      <td>C_956129</td>\n",
       "      <td>introduction to games and esports</td>\n",
       "      <td>no prerequisite</td>\n",
       "      <td>the game industry has become a popular profess...</td>\n",
       "      <td>[S_492]</td>\n",
       "      <td>[T_4850, T_4852, T_4851, T_4854]</td>\n",
       "      <td>[463.65, 598.375, 354.68, 547.18, 289.23, 349....</td>\n",
       "      <td>[2, 3, 3, 8, 7, 6, 10, 9, 9, 6, 4, 1, 6, 7, 8,...</td>\n",
       "      <td>1597</td>\n",
       "    </tr>\n",
       "    <tr>\n",
       "      <th>2711</th>\n",
       "      <td>C_956130</td>\n",
       "      <td>multimedia technology and application</td>\n",
       "      <td>no prerequisite</td>\n",
       "      <td>this course mainly learns the basic concepts o...</td>\n",
       "      <td>[S_11]</td>\n",
       "      <td>[T_7457, T_8331, T_8417]</td>\n",
       "      <td>None</td>\n",
       "      <td>[1, 5, 27, 8, 6, 19, 28, 6, 14, 16, 21, 6, 15,...</td>\n",
       "      <td>3</td>\n",
       "    </tr>\n",
       "  </tbody>\n",
       "</table>\n",
       "<p>2712 rows × 9 columns</p>\n",
       "</div>"
      ],
      "text/plain": [
       "      course_id                                        course_name  \\\n",
       "0     C_1017355  introduction to traditional chinese medicine e...   \n",
       "1     C_1017419                              smart government talk   \n",
       "2     C_1025064  principles of ideological and political education   \n",
       "3     C_1025076                   advanced roller skating tutorial   \n",
       "4     C_1025079  scientific fitness method-silk-winding fitness...   \n",
       "...         ...                                                ...   \n",
       "2707   C_949542     thinking innovation and creativity development   \n",
       "2708   C_955163  learn to make mini programs - practical chapte...   \n",
       "2709   C_956128  interpretation of hot issues of portal hyperte...   \n",
       "2710   C_956129                  introduction to games and esports   \n",
       "2711   C_956130              multimedia technology and application   \n",
       "\n",
       "                                   course_prerequisites  \\\n",
       "0     the main subjects are college students who hav...   \n",
       "1                                       no prerequisite   \n",
       "2                                       no prerequisite   \n",
       "3                                       no prerequisite   \n",
       "4                                       no prerequisite   \n",
       "...                                                 ...   \n",
       "2707                                    no prerequisite   \n",
       "2708  computer basics, html, css, javascript, progra...   \n",
       "2709                                    no prerequisite   \n",
       "2710                                    no prerequisite   \n",
       "2711                                    no prerequisite   \n",
       "\n",
       "                                           course_about school_id  \\\n",
       "0     traditional chinese medicine culture - the tre...    [S_33]   \n",
       "1     this course combines specific cases of traffic...    [S_52]   \n",
       "2     hello, dear classmate! do you want to know how...    [S_13]   \n",
       "3     the true meaning of experiencing roller skatin...    [S_72]   \n",
       "4     silk wrapping skills are the chinese solution ...    [S_97]   \n",
       "...                                                 ...       ...   \n",
       "2707  if appearance is a letter of recommendation fo...   [S_749]   \n",
       "2708  this course is a wechat mini program learning ...     [S_1]   \n",
       "2709  interpretation of hot issues of portal hyperte...   [S_144]   \n",
       "2710  the game industry has become a popular profess...   [S_492]   \n",
       "2711  this course mainly learns the basic concepts o...    [S_11]   \n",
       "\n",
       "                                             teacher_id  \\\n",
       "0              [T_7970, T_7971, T_5826, T_7978, T_7979]   \n",
       "1     [T_7849, T_16199, T_16200, T_16201, T_16202, T...   \n",
       "2              [T_3915, T_3911, T_5426, T_5427, T_5429]   \n",
       "3                                              [T_5394]   \n",
       "4                                              [T_7939]   \n",
       "...                                                 ...   \n",
       "2707  [T_7389, T_7390, T_10280, T_10281, T_7392, T_7...   \n",
       "2708                  [T_172, T_14907, T_14933, T_1286]   \n",
       "2709                           [T_7005, T_7006, T_7007]   \n",
       "2710                   [T_4850, T_4852, T_4851, T_4854]   \n",
       "2711                           [T_7457, T_8331, T_8417]   \n",
       "\n",
       "                                         video_duration  \\\n",
       "0                                                  None   \n",
       "1                                                  None   \n",
       "2     [466.575, 402.325, 476.65, 1025.9, 755.075, 42...   \n",
       "3                                                  None   \n",
       "4     [671.97, 925.17, 748.11, 644.25, 543.93, 546.3...   \n",
       "...                                                 ...   \n",
       "2707  [784.77, 713.7, 578.07, 689.01, 624.45, 658.17...   \n",
       "2708  [515.893, 134.584, 2084.548, 1546.264, 38.356,...   \n",
       "2709                                               None   \n",
       "2710  [463.65, 598.375, 354.68, 547.18, 289.23, 349....   \n",
       "2711                                               None   \n",
       "\n",
       "                                   exercise_num_problem  course_total_comments  \n",
       "0     [5, 5, 5, 5, 5, 5, 5, 5, 5, 5, 5, 5, 5, 5, 5, ...                  39624  \n",
       "1                  [15, 15, 20, 15, 15, 15, 15, 16, 15]                    609  \n",
       "2     [10, 10, 10, 10, 10, 10, 10, 10, 10, 10, 10, 1...                    696  \n",
       "3                                         [1, 1, 15, 1]                      2  \n",
       "4                                       [5, 5, 5, 5, 5]                    125  \n",
       "...                                                 ...                    ...  \n",
       "2707  [7, 8, 6, 7, 8, 10, 7, 8, 8, 11, 10, 6, 6, 5, ...                    839  \n",
       "2708                           [5, 1, 10, 10, 1, 30, 4]                    305  \n",
       "2709                       [15, 15, 15, 15, 15, 15, 15]                      0  \n",
       "2710  [2, 3, 3, 8, 7, 6, 10, 9, 9, 6, 4, 1, 6, 7, 8,...                   1597  \n",
       "2711  [1, 5, 27, 8, 6, 19, 28, 6, 14, 16, 21, 6, 15,...                      3  \n",
       "\n",
       "[2712 rows x 9 columns]"
      ]
     },
     "execution_count": 11,
     "metadata": {},
     "output_type": "execute_result"
    }
   ],
   "source": [
    "item_data"
   ]
  },
  {
   "cell_type": "code",
   "execution_count": 12,
   "id": "5fab419d",
   "metadata": {
    "execution": {
     "iopub.execute_input": "2025-07-26T00:17:26.679731Z",
     "iopub.status.busy": "2025-07-26T00:17:26.679361Z",
     "iopub.status.idle": "2025-07-26T00:17:26.694243Z",
     "shell.execute_reply": "2025-07-26T00:17:26.693098Z"
    },
    "papermill": {
     "duration": 0.028228,
     "end_time": "2025-07-26T00:17:26.696150",
     "exception": false,
     "start_time": "2025-07-26T00:17:26.667922",
     "status": "completed"
    },
    "tags": []
   },
   "outputs": [],
   "source": [
    "def prepare_course_features(course_df):\n",
    "    course_df = course_df.copy()\n",
    "\n",
    "    # Đảm bảo các cột danh sách là thực sự danh sách\n",
    "    list_columns = ['school_id', 'teacher_id', 'video_duration', 'exercise_num_problem']\n",
    "    for col in list_columns:\n",
    "        course_df[col] = course_df[col].apply(lambda x: x if isinstance(x, list) else [])\n",
    "\n",
    "    # ===== Tính toán đặc trưng =====\n",
    "    course_df['total_video_duration'] = course_df['video_duration'].apply(\n",
    "        lambda x: np.nansum(x) if len(x) > 0 else 0\n",
    "    )\n",
    "    course_df['total_num_problem'] = course_df['exercise_num_problem'].apply(\n",
    "        lambda x: np.nansum(x) if len(x) > 0 else 0\n",
    "    )\n",
    "    course_df['num_videos'] = course_df['video_duration'].apply(len)\n",
    "    course_df['num_exercises'] = course_df['exercise_num_problem'].apply(len)\n",
    "    course_df['num_teachers'] = course_df['teacher_id'].apply(len)\n",
    "    course_df['num_schools'] = course_df['school_id'].apply(len)\n",
    "\n",
    "    # ===== Tách school_id_1 và school_id_2 =====\n",
    "    course_df['school_id_1'] = course_df['school_id'].apply(lambda x: x[0] if len(x) > 0 else None)\n",
    "    course_df['school_id_2'] = course_df['school_id'].apply(lambda x: x[1] if len(x) > 1 else None)\n",
    "    course_df['school_id_1'] = course_df['school_id_1'].fillna('missing')\n",
    "    course_df['school_id_2'] = course_df['school_id_2'].fillna('missing')\n",
    "    # ===== Embed teacher_id list (tạm: dùng chỉ số trung bình để đại diện) =====\n",
    "    # Nếu muốn dùng embedding sau này thì giữ lại list hoặc dùng nhiều cột teacher_id_1, _2,...\n",
    "    course_df['teacher_id_embed'] = course_df['teacher_id'].apply(\n",
    "        lambda x: np.mean([int(t.replace(\"T_\", \"\")) for t in x]) if len(x) > 0 else 0\n",
    "    )\n",
    "\n",
    "    # ===== Textual input =====\n",
    "    course_df['course_text'] = course_df[\n",
    "        ['course_name', 'course_prerequisites', 'course_about']\n",
    "    ].fillna('').apply(lambda x: ' '.join(x), axis=1)\n",
    "\n",
    "    # ===== Output =====\n",
    "    course_features = course_df[[\n",
    "        'course_id',\n",
    "        'course_text',\n",
    "        'total_video_duration',\n",
    "        'total_num_problem',\n",
    "        'num_videos',\n",
    "        'num_exercises',\n",
    "        'num_teachers',\n",
    "        'num_schools',\n",
    "        'school_id_1',\n",
    "        'school_id_2',\n",
    "        'course_total_comments'\n",
    "    ]]\n",
    "\n",
    "    return course_features\n"
   ]
  },
  {
   "cell_type": "code",
   "execution_count": 13,
   "id": "b563ad1b",
   "metadata": {
    "execution": {
     "iopub.execute_input": "2025-07-26T00:17:26.718342Z",
     "iopub.status.busy": "2025-07-26T00:17:26.717954Z",
     "iopub.status.idle": "2025-07-26T00:17:26.859150Z",
     "shell.execute_reply": "2025-07-26T00:17:26.857433Z"
    },
    "papermill": {
     "duration": 0.154495,
     "end_time": "2025-07-26T00:17:26.861234",
     "exception": false,
     "start_time": "2025-07-26T00:17:26.706739",
     "status": "completed"
    },
    "tags": []
   },
   "outputs": [],
   "source": [
    "item_data = prepare_course_features(item_data)"
   ]
  },
  {
   "cell_type": "code",
   "execution_count": 14,
   "id": "a87a0bdb",
   "metadata": {
    "execution": {
     "iopub.execute_input": "2025-07-26T00:17:26.883616Z",
     "iopub.status.busy": "2025-07-26T00:17:26.883184Z",
     "iopub.status.idle": "2025-07-26T00:17:26.894435Z",
     "shell.execute_reply": "2025-07-26T00:17:26.893243Z"
    },
    "papermill": {
     "duration": 0.024375,
     "end_time": "2025-07-26T00:17:26.896165",
     "exception": false,
     "start_time": "2025-07-26T00:17:26.871790",
     "status": "completed"
    },
    "tags": []
   },
   "outputs": [
    {
     "data": {
      "text/plain": [
       "course_id                0\n",
       "course_text              0\n",
       "total_video_duration     0\n",
       "total_num_problem        0\n",
       "num_videos               0\n",
       "num_exercises            0\n",
       "num_teachers             0\n",
       "num_schools              0\n",
       "school_id_1              0\n",
       "school_id_2              0\n",
       "course_total_comments    0\n",
       "dtype: int64"
      ]
     },
     "execution_count": 14,
     "metadata": {},
     "output_type": "execute_result"
    }
   ],
   "source": [
    "item_data.isnull().sum()"
   ]
  },
  {
   "cell_type": "code",
   "execution_count": 15,
   "id": "d19a07f3",
   "metadata": {
    "execution": {
     "iopub.execute_input": "2025-07-26T00:17:26.919347Z",
     "iopub.status.busy": "2025-07-26T00:17:26.918687Z",
     "iopub.status.idle": "2025-07-26T00:17:27.029980Z",
     "shell.execute_reply": "2025-07-26T00:17:27.028637Z"
    },
    "papermill": {
     "duration": 0.125367,
     "end_time": "2025-07-26T00:17:27.032285",
     "exception": false,
     "start_time": "2025-07-26T00:17:26.906918",
     "status": "completed"
    },
    "tags": []
   },
   "outputs": [],
   "source": [
    "user_data = combine_data[['user_id','user_gender']].drop_duplicates().reset_index()"
   ]
  },
  {
   "cell_type": "code",
   "execution_count": 16,
   "id": "90174874",
   "metadata": {
    "execution": {
     "iopub.execute_input": "2025-07-26T00:17:27.055952Z",
     "iopub.status.busy": "2025-07-26T00:17:27.055592Z",
     "iopub.status.idle": "2025-07-26T00:17:27.219384Z",
     "shell.execute_reply": "2025-07-26T00:17:27.217859Z"
    },
    "papermill": {
     "duration": 0.178093,
     "end_time": "2025-07-26T00:17:27.221672",
     "exception": false,
     "start_time": "2025-07-26T00:17:27.043579",
     "status": "completed"
    },
    "tags": []
   },
   "outputs": [],
   "source": [
    "user_item_data=combine_data[['user_id','course_id','enroll_time']]"
   ]
  },
  {
   "cell_type": "code",
   "execution_count": 17,
   "id": "d47277c4",
   "metadata": {
    "execution": {
     "iopub.execute_input": "2025-07-26T00:17:27.247649Z",
     "iopub.status.busy": "2025-07-26T00:17:27.247078Z",
     "iopub.status.idle": "2025-07-26T00:17:27.252800Z",
     "shell.execute_reply": "2025-07-26T00:17:27.250935Z"
    },
    "papermill": {
     "duration": 0.022242,
     "end_time": "2025-07-26T00:17:27.255256",
     "exception": false,
     "start_time": "2025-07-26T00:17:27.233014",
     "status": "completed"
    },
    "tags": []
   },
   "outputs": [],
   "source": [
    "# sp_user = pd.read_csv(\"/kaggle/input/random-user/sample_user.csv\")\n",
    "# user_data = user_data[user_data['user_id'].isin(sp_user['user_id'])]"
   ]
  },
  {
   "cell_type": "code",
   "execution_count": 18,
   "id": "f2847758",
   "metadata": {
    "execution": {
     "iopub.execute_input": "2025-07-26T00:17:27.297005Z",
     "iopub.status.busy": "2025-07-26T00:17:27.296548Z",
     "iopub.status.idle": "2025-07-26T00:17:27.302417Z",
     "shell.execute_reply": "2025-07-26T00:17:27.300991Z"
    },
    "papermill": {
     "duration": 0.028732,
     "end_time": "2025-07-26T00:17:27.304905",
     "exception": false,
     "start_time": "2025-07-26T00:17:27.276173",
     "status": "completed"
    },
    "tags": []
   },
   "outputs": [],
   "source": [
    "# user_data = user_data.sample(n=10000, random_state=42)"
   ]
  },
  {
   "cell_type": "code",
   "execution_count": 19,
   "id": "1af640ba",
   "metadata": {
    "execution": {
     "iopub.execute_input": "2025-07-26T00:17:27.344119Z",
     "iopub.status.busy": "2025-07-26T00:17:27.343761Z",
     "iopub.status.idle": "2025-07-26T00:17:27.451828Z",
     "shell.execute_reply": "2025-07-26T00:17:27.450537Z"
    },
    "papermill": {
     "duration": 0.129767,
     "end_time": "2025-07-26T00:17:27.453745",
     "exception": false,
     "start_time": "2025-07-26T00:17:27.323978",
     "status": "completed"
    },
    "tags": []
   },
   "outputs": [
    {
     "data": {
      "text/html": [
       "<div>\n",
       "<style scoped>\n",
       "    .dataframe tbody tr th:only-of-type {\n",
       "        vertical-align: middle;\n",
       "    }\n",
       "\n",
       "    .dataframe tbody tr th {\n",
       "        vertical-align: top;\n",
       "    }\n",
       "\n",
       "    .dataframe thead th {\n",
       "        text-align: right;\n",
       "    }\n",
       "</style>\n",
       "<table border=\"1\" class=\"dataframe\">\n",
       "  <thead>\n",
       "    <tr style=\"text-align: right;\">\n",
       "      <th></th>\n",
       "      <th>user_id</th>\n",
       "      <th>course_id</th>\n",
       "      <th>enroll_time</th>\n",
       "    </tr>\n",
       "  </thead>\n",
       "  <tbody>\n",
       "    <tr>\n",
       "      <th>37</th>\n",
       "      <td>U_54</td>\n",
       "      <td>C_682442</td>\n",
       "      <td>1570587469</td>\n",
       "    </tr>\n",
       "    <tr>\n",
       "      <th>38</th>\n",
       "      <td>U_54</td>\n",
       "      <td>C_1748240</td>\n",
       "      <td>1586941976</td>\n",
       "    </tr>\n",
       "    <tr>\n",
       "      <th>39</th>\n",
       "      <td>U_54</td>\n",
       "      <td>C_1794464</td>\n",
       "      <td>1591966731</td>\n",
       "    </tr>\n",
       "    <tr>\n",
       "      <th>40</th>\n",
       "      <td>U_54</td>\n",
       "      <td>C_697791</td>\n",
       "      <td>1592061292</td>\n",
       "    </tr>\n",
       "    <tr>\n",
       "      <th>41</th>\n",
       "      <td>U_54</td>\n",
       "      <td>C_1793742</td>\n",
       "      <td>1592062158</td>\n",
       "    </tr>\n",
       "    <tr>\n",
       "      <th>...</th>\n",
       "      <td>...</td>\n",
       "      <td>...</td>\n",
       "      <td>...</td>\n",
       "    </tr>\n",
       "    <tr>\n",
       "      <th>7284489</th>\n",
       "      <td>U_34712103</td>\n",
       "      <td>C_680991</td>\n",
       "      <td>1602473442</td>\n",
       "    </tr>\n",
       "    <tr>\n",
       "      <th>7284490</th>\n",
       "      <td>U_34712103</td>\n",
       "      <td>C_735296</td>\n",
       "      <td>1602590307</td>\n",
       "    </tr>\n",
       "    <tr>\n",
       "      <th>7284491</th>\n",
       "      <td>U_34712103</td>\n",
       "      <td>C_677093</td>\n",
       "      <td>1602594530</td>\n",
       "    </tr>\n",
       "    <tr>\n",
       "      <th>7284492</th>\n",
       "      <td>U_34712103</td>\n",
       "      <td>C_854843</td>\n",
       "      <td>1602709450</td>\n",
       "    </tr>\n",
       "    <tr>\n",
       "      <th>7284493</th>\n",
       "      <td>U_34712103</td>\n",
       "      <td>C_866769</td>\n",
       "      <td>1602805225</td>\n",
       "    </tr>\n",
       "  </tbody>\n",
       "</table>\n",
       "<p>335586 rows × 3 columns</p>\n",
       "</div>"
      ],
      "text/plain": [
       "            user_id  course_id  enroll_time\n",
       "37             U_54   C_682442   1570587469\n",
       "38             U_54  C_1748240   1586941976\n",
       "39             U_54  C_1794464   1591966731\n",
       "40             U_54   C_697791   1592061292\n",
       "41             U_54  C_1793742   1592062158\n",
       "...             ...        ...          ...\n",
       "7284489  U_34712103   C_680991   1602473442\n",
       "7284490  U_34712103   C_735296   1602590307\n",
       "7284491  U_34712103   C_677093   1602594530\n",
       "7284492  U_34712103   C_854843   1602709450\n",
       "7284493  U_34712103   C_866769   1602805225\n",
       "\n",
       "[335586 rows x 3 columns]"
      ]
     },
     "execution_count": 19,
     "metadata": {},
     "output_type": "execute_result"
    }
   ],
   "source": [
    "user_course_filtered = user_item_data[user_item_data[\"user_id\"].isin(user_data[\"user_id\"])]\n",
    "user_course_filtered = user_course_filtered[user_course_filtered[\"course_id\"].isin(item_data[\"course_id\"])]\n",
    "user_course_filtered"
   ]
  },
  {
   "cell_type": "code",
   "execution_count": 20,
   "id": "41a9384d",
   "metadata": {
    "execution": {
     "iopub.execute_input": "2025-07-26T00:17:27.476297Z",
     "iopub.status.busy": "2025-07-26T00:17:27.475856Z",
     "iopub.status.idle": "2025-07-26T00:17:27.480623Z",
     "shell.execute_reply": "2025-07-26T00:17:27.479581Z"
    },
    "papermill": {
     "duration": 0.01818,
     "end_time": "2025-07-26T00:17:27.482450",
     "exception": false,
     "start_time": "2025-07-26T00:17:27.464270",
     "status": "completed"
    },
    "tags": []
   },
   "outputs": [],
   "source": [
    "def split_data(data):\n",
    "    data.rename(columns={\"course_id\": \"item\",\"user_id\":\"user\",\"enroll_time\":\"time\"}, inplace=True)\n",
    "    train_data, test_data = split_by_num_chrono(data, test_size=1)\n",
    "    return train_data,test_data"
   ]
  },
  {
   "cell_type": "code",
   "execution_count": 21,
   "id": "0675502e",
   "metadata": {
    "execution": {
     "iopub.execute_input": "2025-07-26T00:17:27.506014Z",
     "iopub.status.busy": "2025-07-26T00:17:27.505609Z",
     "iopub.status.idle": "2025-07-26T00:17:27.635547Z",
     "shell.execute_reply": "2025-07-26T00:17:27.634302Z"
    },
    "papermill": {
     "duration": 0.144478,
     "end_time": "2025-07-26T00:17:27.637582",
     "exception": false,
     "start_time": "2025-07-26T00:17:27.493104",
     "status": "completed"
    },
    "tags": []
   },
   "outputs": [],
   "source": [
    "data = user_course_filtered.merge(user_data.rename(columns={\"id\":\"user_id\"}), on='user_id', how='inner')\n",
    "data['label'] = 1"
   ]
  },
  {
   "cell_type": "code",
   "execution_count": 22,
   "id": "0f5c6a81",
   "metadata": {
    "execution": {
     "iopub.execute_input": "2025-07-26T00:17:27.660079Z",
     "iopub.status.busy": "2025-07-26T00:17:27.659724Z",
     "iopub.status.idle": "2025-07-26T00:17:27.690471Z",
     "shell.execute_reply": "2025-07-26T00:17:27.689415Z"
    },
    "papermill": {
     "duration": 0.044002,
     "end_time": "2025-07-26T00:17:27.692311",
     "exception": false,
     "start_time": "2025-07-26T00:17:27.648309",
     "status": "completed"
    },
    "tags": []
   },
   "outputs": [
    {
     "data": {
      "text/html": [
       "<div>\n",
       "<style scoped>\n",
       "    .dataframe tbody tr th:only-of-type {\n",
       "        vertical-align: middle;\n",
       "    }\n",
       "\n",
       "    .dataframe tbody tr th {\n",
       "        vertical-align: top;\n",
       "    }\n",
       "\n",
       "    .dataframe thead th {\n",
       "        text-align: right;\n",
       "    }\n",
       "</style>\n",
       "<table border=\"1\" class=\"dataframe\">\n",
       "  <thead>\n",
       "    <tr style=\"text-align: right;\">\n",
       "      <th></th>\n",
       "      <th>user_id</th>\n",
       "      <th>course_id</th>\n",
       "      <th>enroll_time</th>\n",
       "      <th>user_gender</th>\n",
       "      <th>label</th>\n",
       "    </tr>\n",
       "  </thead>\n",
       "  <tbody>\n",
       "    <tr>\n",
       "      <th>0</th>\n",
       "      <td>U_54</td>\n",
       "      <td>C_682442</td>\n",
       "      <td>1570587469</td>\n",
       "      <td>2</td>\n",
       "      <td>1</td>\n",
       "    </tr>\n",
       "    <tr>\n",
       "      <th>1</th>\n",
       "      <td>U_54</td>\n",
       "      <td>C_1748240</td>\n",
       "      <td>1586941976</td>\n",
       "      <td>2</td>\n",
       "      <td>1</td>\n",
       "    </tr>\n",
       "    <tr>\n",
       "      <th>2</th>\n",
       "      <td>U_54</td>\n",
       "      <td>C_1794464</td>\n",
       "      <td>1591966731</td>\n",
       "      <td>2</td>\n",
       "      <td>1</td>\n",
       "    </tr>\n",
       "    <tr>\n",
       "      <th>3</th>\n",
       "      <td>U_54</td>\n",
       "      <td>C_697791</td>\n",
       "      <td>1592061292</td>\n",
       "      <td>2</td>\n",
       "      <td>1</td>\n",
       "    </tr>\n",
       "    <tr>\n",
       "      <th>4</th>\n",
       "      <td>U_54</td>\n",
       "      <td>C_1793742</td>\n",
       "      <td>1592062158</td>\n",
       "      <td>2</td>\n",
       "      <td>1</td>\n",
       "    </tr>\n",
       "    <tr>\n",
       "      <th>...</th>\n",
       "      <td>...</td>\n",
       "      <td>...</td>\n",
       "      <td>...</td>\n",
       "      <td>...</td>\n",
       "      <td>...</td>\n",
       "    </tr>\n",
       "    <tr>\n",
       "      <th>335581</th>\n",
       "      <td>U_34712103</td>\n",
       "      <td>C_680991</td>\n",
       "      <td>1602473442</td>\n",
       "      <td>1</td>\n",
       "      <td>1</td>\n",
       "    </tr>\n",
       "    <tr>\n",
       "      <th>335582</th>\n",
       "      <td>U_34712103</td>\n",
       "      <td>C_735296</td>\n",
       "      <td>1602590307</td>\n",
       "      <td>1</td>\n",
       "      <td>1</td>\n",
       "    </tr>\n",
       "    <tr>\n",
       "      <th>335583</th>\n",
       "      <td>U_34712103</td>\n",
       "      <td>C_677093</td>\n",
       "      <td>1602594530</td>\n",
       "      <td>1</td>\n",
       "      <td>1</td>\n",
       "    </tr>\n",
       "    <tr>\n",
       "      <th>335584</th>\n",
       "      <td>U_34712103</td>\n",
       "      <td>C_854843</td>\n",
       "      <td>1602709450</td>\n",
       "      <td>1</td>\n",
       "      <td>1</td>\n",
       "    </tr>\n",
       "    <tr>\n",
       "      <th>335585</th>\n",
       "      <td>U_34712103</td>\n",
       "      <td>C_866769</td>\n",
       "      <td>1602805225</td>\n",
       "      <td>1</td>\n",
       "      <td>1</td>\n",
       "    </tr>\n",
       "  </tbody>\n",
       "</table>\n",
       "<p>335586 rows × 5 columns</p>\n",
       "</div>"
      ],
      "text/plain": [
       "           user_id  course_id  enroll_time  user_gender  label\n",
       "0             U_54   C_682442   1570587469            2      1\n",
       "1             U_54  C_1748240   1586941976            2      1\n",
       "2             U_54  C_1794464   1591966731            2      1\n",
       "3             U_54   C_697791   1592061292            2      1\n",
       "4             U_54  C_1793742   1592062158            2      1\n",
       "...            ...        ...          ...          ...    ...\n",
       "335581  U_34712103   C_680991   1602473442            1      1\n",
       "335582  U_34712103   C_735296   1602590307            1      1\n",
       "335583  U_34712103   C_677093   1602594530            1      1\n",
       "335584  U_34712103   C_854843   1602709450            1      1\n",
       "335585  U_34712103   C_866769   1602805225            1      1\n",
       "\n",
       "[335586 rows x 5 columns]"
      ]
     },
     "execution_count": 22,
     "metadata": {},
     "output_type": "execute_result"
    }
   ],
   "source": [
    "data=data.drop('index',axis=1)\n",
    "data"
   ]
  },
  {
   "cell_type": "code",
   "execution_count": 23,
   "id": "c93cb8f4",
   "metadata": {
    "execution": {
     "iopub.execute_input": "2025-07-26T00:17:27.716593Z",
     "iopub.status.busy": "2025-07-26T00:17:27.716166Z",
     "iopub.status.idle": "2025-07-26T00:17:27.732550Z",
     "shell.execute_reply": "2025-07-26T00:17:27.731465Z"
    },
    "papermill": {
     "duration": 0.030429,
     "end_time": "2025-07-26T00:17:27.734449",
     "exception": false,
     "start_time": "2025-07-26T00:17:27.704020",
     "status": "completed"
    },
    "tags": []
   },
   "outputs": [
    {
     "data": {
      "text/html": [
       "<div>\n",
       "<style scoped>\n",
       "    .dataframe tbody tr th:only-of-type {\n",
       "        vertical-align: middle;\n",
       "    }\n",
       "\n",
       "    .dataframe tbody tr th {\n",
       "        vertical-align: top;\n",
       "    }\n",
       "\n",
       "    .dataframe thead th {\n",
       "        text-align: right;\n",
       "    }\n",
       "</style>\n",
       "<table border=\"1\" class=\"dataframe\">\n",
       "  <thead>\n",
       "    <tr style=\"text-align: right;\">\n",
       "      <th></th>\n",
       "      <th>course_id</th>\n",
       "      <th>course_text</th>\n",
       "      <th>total_video_duration</th>\n",
       "      <th>total_num_problem</th>\n",
       "      <th>num_videos</th>\n",
       "      <th>num_exercises</th>\n",
       "      <th>num_teachers</th>\n",
       "      <th>num_schools</th>\n",
       "      <th>school_id_1</th>\n",
       "      <th>school_id_2</th>\n",
       "      <th>course_total_comments</th>\n",
       "    </tr>\n",
       "  </thead>\n",
       "  <tbody>\n",
       "    <tr>\n",
       "      <th>0</th>\n",
       "      <td>C_1017355</td>\n",
       "      <td>introduction to traditional chinese medicine e...</td>\n",
       "      <td>0.000</td>\n",
       "      <td>109</td>\n",
       "      <td>0</td>\n",
       "      <td>19</td>\n",
       "      <td>5</td>\n",
       "      <td>1</td>\n",
       "      <td>S_33</td>\n",
       "      <td>missing</td>\n",
       "      <td>39624</td>\n",
       "    </tr>\n",
       "    <tr>\n",
       "      <th>1</th>\n",
       "      <td>C_1017419</td>\n",
       "      <td>smart government talk no prerequisite this cou...</td>\n",
       "      <td>0.000</td>\n",
       "      <td>141</td>\n",
       "      <td>0</td>\n",
       "      <td>9</td>\n",
       "      <td>8</td>\n",
       "      <td>1</td>\n",
       "      <td>S_52</td>\n",
       "      <td>missing</td>\n",
       "      <td>609</td>\n",
       "    </tr>\n",
       "    <tr>\n",
       "      <th>2</th>\n",
       "      <td>C_1025064</td>\n",
       "      <td>principles of ideological and political educat...</td>\n",
       "      <td>55868.953</td>\n",
       "      <td>140</td>\n",
       "      <td>88</td>\n",
       "      <td>14</td>\n",
       "      <td>5</td>\n",
       "      <td>1</td>\n",
       "      <td>S_13</td>\n",
       "      <td>missing</td>\n",
       "      <td>696</td>\n",
       "    </tr>\n",
       "    <tr>\n",
       "      <th>3</th>\n",
       "      <td>C_1025076</td>\n",
       "      <td>advanced roller skating tutorial no prerequisi...</td>\n",
       "      <td>0.000</td>\n",
       "      <td>18</td>\n",
       "      <td>0</td>\n",
       "      <td>4</td>\n",
       "      <td>1</td>\n",
       "      <td>1</td>\n",
       "      <td>S_72</td>\n",
       "      <td>missing</td>\n",
       "      <td>2</td>\n",
       "    </tr>\n",
       "    <tr>\n",
       "      <th>4</th>\n",
       "      <td>C_1025079</td>\n",
       "      <td>scientific fitness method-silk-winding fitness...</td>\n",
       "      <td>20714.190</td>\n",
       "      <td>25</td>\n",
       "      <td>28</td>\n",
       "      <td>5</td>\n",
       "      <td>1</td>\n",
       "      <td>1</td>\n",
       "      <td>S_97</td>\n",
       "      <td>missing</td>\n",
       "      <td>125</td>\n",
       "    </tr>\n",
       "    <tr>\n",
       "      <th>...</th>\n",
       "      <td>...</td>\n",
       "      <td>...</td>\n",
       "      <td>...</td>\n",
       "      <td>...</td>\n",
       "      <td>...</td>\n",
       "      <td>...</td>\n",
       "      <td>...</td>\n",
       "      <td>...</td>\n",
       "      <td>...</td>\n",
       "      <td>...</td>\n",
       "      <td>...</td>\n",
       "    </tr>\n",
       "    <tr>\n",
       "      <th>2707</th>\n",
       "      <td>C_949542</td>\n",
       "      <td>thinking innovation and creativity development...</td>\n",
       "      <td>22184.031</td>\n",
       "      <td>247</td>\n",
       "      <td>33</td>\n",
       "      <td>31</td>\n",
       "      <td>10</td>\n",
       "      <td>1</td>\n",
       "      <td>S_749</td>\n",
       "      <td>missing</td>\n",
       "      <td>839</td>\n",
       "    </tr>\n",
       "    <tr>\n",
       "      <th>2708</th>\n",
       "      <td>C_955163</td>\n",
       "      <td>learn to make mini programs - practical chapte...</td>\n",
       "      <td>56372.024</td>\n",
       "      <td>61</td>\n",
       "      <td>100</td>\n",
       "      <td>7</td>\n",
       "      <td>4</td>\n",
       "      <td>1</td>\n",
       "      <td>S_1</td>\n",
       "      <td>missing</td>\n",
       "      <td>305</td>\n",
       "    </tr>\n",
       "    <tr>\n",
       "      <th>2709</th>\n",
       "      <td>C_956128</td>\n",
       "      <td>interpretation of hot issues of portal hyperte...</td>\n",
       "      <td>0.000</td>\n",
       "      <td>105</td>\n",
       "      <td>0</td>\n",
       "      <td>7</td>\n",
       "      <td>3</td>\n",
       "      <td>1</td>\n",
       "      <td>S_144</td>\n",
       "      <td>missing</td>\n",
       "      <td>0</td>\n",
       "    </tr>\n",
       "    <tr>\n",
       "      <th>2710</th>\n",
       "      <td>C_956129</td>\n",
       "      <td>introduction to games and esports no prerequis...</td>\n",
       "      <td>34165.387</td>\n",
       "      <td>145</td>\n",
       "      <td>70</td>\n",
       "      <td>23</td>\n",
       "      <td>4</td>\n",
       "      <td>1</td>\n",
       "      <td>S_492</td>\n",
       "      <td>missing</td>\n",
       "      <td>1597</td>\n",
       "    </tr>\n",
       "    <tr>\n",
       "      <th>2711</th>\n",
       "      <td>C_956130</td>\n",
       "      <td>multimedia technology and application no prere...</td>\n",
       "      <td>0.000</td>\n",
       "      <td>174</td>\n",
       "      <td>0</td>\n",
       "      <td>15</td>\n",
       "      <td>3</td>\n",
       "      <td>1</td>\n",
       "      <td>S_11</td>\n",
       "      <td>missing</td>\n",
       "      <td>3</td>\n",
       "    </tr>\n",
       "  </tbody>\n",
       "</table>\n",
       "<p>2712 rows × 11 columns</p>\n",
       "</div>"
      ],
      "text/plain": [
       "      course_id                                        course_text  \\\n",
       "0     C_1017355  introduction to traditional chinese medicine e...   \n",
       "1     C_1017419  smart government talk no prerequisite this cou...   \n",
       "2     C_1025064  principles of ideological and political educat...   \n",
       "3     C_1025076  advanced roller skating tutorial no prerequisi...   \n",
       "4     C_1025079  scientific fitness method-silk-winding fitness...   \n",
       "...         ...                                                ...   \n",
       "2707   C_949542  thinking innovation and creativity development...   \n",
       "2708   C_955163  learn to make mini programs - practical chapte...   \n",
       "2709   C_956128  interpretation of hot issues of portal hyperte...   \n",
       "2710   C_956129  introduction to games and esports no prerequis...   \n",
       "2711   C_956130  multimedia technology and application no prere...   \n",
       "\n",
       "      total_video_duration  total_num_problem  num_videos  num_exercises  \\\n",
       "0                    0.000                109           0             19   \n",
       "1                    0.000                141           0              9   \n",
       "2                55868.953                140          88             14   \n",
       "3                    0.000                 18           0              4   \n",
       "4                20714.190                 25          28              5   \n",
       "...                    ...                ...         ...            ...   \n",
       "2707             22184.031                247          33             31   \n",
       "2708             56372.024                 61         100              7   \n",
       "2709                 0.000                105           0              7   \n",
       "2710             34165.387                145          70             23   \n",
       "2711                 0.000                174           0             15   \n",
       "\n",
       "      num_teachers  num_schools school_id_1 school_id_2  course_total_comments  \n",
       "0                5            1        S_33     missing                  39624  \n",
       "1                8            1        S_52     missing                    609  \n",
       "2                5            1        S_13     missing                    696  \n",
       "3                1            1        S_72     missing                      2  \n",
       "4                1            1        S_97     missing                    125  \n",
       "...            ...          ...         ...         ...                    ...  \n",
       "2707            10            1       S_749     missing                    839  \n",
       "2708             4            1         S_1     missing                    305  \n",
       "2709             3            1       S_144     missing                      0  \n",
       "2710             4            1       S_492     missing                   1597  \n",
       "2711             3            1        S_11     missing                      3  \n",
       "\n",
       "[2712 rows x 11 columns]"
      ]
     },
     "execution_count": 23,
     "metadata": {},
     "output_type": "execute_result"
    }
   ],
   "source": [
    "item_data"
   ]
  },
  {
   "cell_type": "code",
   "execution_count": 24,
   "id": "b69bec82",
   "metadata": {
    "execution": {
     "iopub.execute_input": "2025-07-26T00:17:27.758972Z",
     "iopub.status.busy": "2025-07-26T00:17:27.758606Z",
     "iopub.status.idle": "2025-07-26T00:17:28.338445Z",
     "shell.execute_reply": "2025-07-26T00:17:28.337322Z"
    },
    "papermill": {
     "duration": 0.594623,
     "end_time": "2025-07-26T00:17:28.340880",
     "exception": false,
     "start_time": "2025-07-26T00:17:27.746257",
     "status": "completed"
    },
    "tags": []
   },
   "outputs": [
    {
     "data": {
      "text/plain": [
       "Index(['course_id', 'course_text', 'total_video_duration', 'total_num_problem',\n",
       "       'num_videos', 'num_exercises', 'num_teachers', 'num_schools',\n",
       "       'school_id_1', 'school_id_2', 'course_total_comments', 'course_text_1',\n",
       "       'course_text_2', 'course_text_3', 'course_text_4', 'course_text_5',\n",
       "       'course_text_6', 'course_text_7', 'course_text_8', 'course_text_9',\n",
       "       'course_text_10', 'course_text_11', 'course_text_12', 'course_text_13',\n",
       "       'course_text_14', 'course_text_15', 'course_text_16', 'course_text_17',\n",
       "       'course_text_18', 'course_text_19', 'course_text_20', 'course_text_21',\n",
       "       'course_text_22', 'course_text_23', 'course_text_24', 'course_text_25',\n",
       "       'course_text_26', 'course_text_27', 'course_text_28', 'course_text_29',\n",
       "       'course_text_30', 'course_text_31', 'course_text_32', 'course_text_33',\n",
       "       'course_text_34', 'course_text_35', 'course_text_36', 'course_text_37',\n",
       "       'course_text_38', 'course_text_39', 'course_text_40', 'course_text_41',\n",
       "       'course_text_42', 'course_text_43', 'course_text_44', 'course_text_45',\n",
       "       'course_text_46', 'course_text_47', 'course_text_48', 'course_text_49',\n",
       "       'course_text_50'],\n",
       "      dtype='object')"
      ]
     },
     "execution_count": 24,
     "metadata": {},
     "output_type": "execute_result"
    }
   ],
   "source": [
    "from sklearn.feature_extraction.text import TfidfVectorizer\n",
    "import pandas as pd\n",
    "\n",
    "\n",
    "# Vectorizer\n",
    "vectorizer = TfidfVectorizer(            \n",
    "            max_features=50,\n",
    "            stop_words='english',\n",
    "            ngram_range=(1, 2))\n",
    "vectorized_data = vectorizer.fit_transform(item_data['course_text'])\n",
    "feature_names = [f'course_text_{i+1}' for i in range(len(vectorizer.get_feature_names_out()))]\n",
    "\n",
    "# Chuyển thành DataFrame\n",
    "tfidf_df = pd.DataFrame(vectorized_data.toarray(), columns=feature_names)\n",
    "\n",
    "# Gộp vào DataFrame gốc\n",
    "item_vec = item_data.join(tfidf_df)\n",
    "item_vec.columns"
   ]
  },
  {
   "cell_type": "code",
   "execution_count": 25,
   "id": "5aa20b58",
   "metadata": {
    "execution": {
     "iopub.execute_input": "2025-07-26T00:17:28.366959Z",
     "iopub.status.busy": "2025-07-26T00:17:28.366559Z",
     "iopub.status.idle": "2025-07-26T00:17:28.372427Z",
     "shell.execute_reply": "2025-07-26T00:17:28.371001Z"
    },
    "papermill": {
     "duration": 0.020644,
     "end_time": "2025-07-26T00:17:28.374394",
     "exception": false,
     "start_time": "2025-07-26T00:17:28.353750",
     "status": "completed"
    },
    "tags": []
   },
   "outputs": [],
   "source": [
    "item_cols = list(item_vec.columns.drop(['course_id', 'course_text']))"
   ]
  },
  {
   "cell_type": "code",
   "execution_count": 26,
   "id": "3ea5e67e",
   "metadata": {
    "execution": {
     "iopub.execute_input": "2025-07-26T00:17:28.398889Z",
     "iopub.status.busy": "2025-07-26T00:17:28.398544Z",
     "iopub.status.idle": "2025-07-26T00:17:29.419751Z",
     "shell.execute_reply": "2025-07-26T00:17:29.418372Z"
    },
    "papermill": {
     "duration": 1.035557,
     "end_time": "2025-07-26T00:17:29.421803",
     "exception": false,
     "start_time": "2025-07-26T00:17:28.386246",
     "status": "completed"
    },
    "tags": []
   },
   "outputs": [],
   "source": [
    "train, test = split_data(data)"
   ]
  },
  {
   "cell_type": "code",
   "execution_count": 27,
   "id": "06de5a8f",
   "metadata": {
    "execution": {
     "iopub.execute_input": "2025-07-26T00:17:29.447797Z",
     "iopub.status.busy": "2025-07-26T00:17:29.447414Z",
     "iopub.status.idle": "2025-07-26T00:17:29.460253Z",
     "shell.execute_reply": "2025-07-26T00:17:29.458864Z"
    },
    "papermill": {
     "duration": 0.027898,
     "end_time": "2025-07-26T00:17:29.462156",
     "exception": false,
     "start_time": "2025-07-26T00:17:29.434258",
     "status": "completed"
    },
    "tags": []
   },
   "outputs": [
    {
     "data": {
      "text/html": [
       "<div>\n",
       "<style scoped>\n",
       "    .dataframe tbody tr th:only-of-type {\n",
       "        vertical-align: middle;\n",
       "    }\n",
       "\n",
       "    .dataframe tbody tr th {\n",
       "        vertical-align: top;\n",
       "    }\n",
       "\n",
       "    .dataframe thead th {\n",
       "        text-align: right;\n",
       "    }\n",
       "</style>\n",
       "<table border=\"1\" class=\"dataframe\">\n",
       "  <thead>\n",
       "    <tr style=\"text-align: right;\">\n",
       "      <th></th>\n",
       "      <th>user</th>\n",
       "      <th>item</th>\n",
       "      <th>time</th>\n",
       "      <th>user_gender</th>\n",
       "      <th>label</th>\n",
       "    </tr>\n",
       "  </thead>\n",
       "  <tbody>\n",
       "    <tr>\n",
       "      <th>78810</th>\n",
       "      <td>U_100090</td>\n",
       "      <td>C_707022</td>\n",
       "      <td>1583235350</td>\n",
       "      <td>0</td>\n",
       "      <td>1</td>\n",
       "    </tr>\n",
       "    <tr>\n",
       "      <th>85316</th>\n",
       "      <td>U_100090</td>\n",
       "      <td>C_676687</td>\n",
       "      <td>1583752556</td>\n",
       "      <td>0</td>\n",
       "      <td>1</td>\n",
       "    </tr>\n",
       "    <tr>\n",
       "      <th>97314</th>\n",
       "      <td>U_100090</td>\n",
       "      <td>C_697073</td>\n",
       "      <td>1584917895</td>\n",
       "      <td>0</td>\n",
       "      <td>1</td>\n",
       "    </tr>\n",
       "    <tr>\n",
       "      <th>97319</th>\n",
       "      <td>U_100090</td>\n",
       "      <td>C_948038</td>\n",
       "      <td>1584918145</td>\n",
       "      <td>0</td>\n",
       "      <td>1</td>\n",
       "    </tr>\n",
       "    <tr>\n",
       "      <th>97323</th>\n",
       "      <td>U_100090</td>\n",
       "      <td>C_680716</td>\n",
       "      <td>1584918197</td>\n",
       "      <td>0</td>\n",
       "      <td>1</td>\n",
       "    </tr>\n",
       "    <tr>\n",
       "      <th>...</th>\n",
       "      <td>...</td>\n",
       "      <td>...</td>\n",
       "      <td>...</td>\n",
       "      <td>...</td>\n",
       "      <td>...</td>\n",
       "    </tr>\n",
       "    <tr>\n",
       "      <th>305487</th>\n",
       "      <td>U_997506</td>\n",
       "      <td>C_735239</td>\n",
       "      <td>1603116374</td>\n",
       "      <td>1</td>\n",
       "      <td>1</td>\n",
       "    </tr>\n",
       "    <tr>\n",
       "      <th>322637</th>\n",
       "      <td>U_997506</td>\n",
       "      <td>C_2095102</td>\n",
       "      <td>1605299197</td>\n",
       "      <td>1</td>\n",
       "      <td>1</td>\n",
       "    </tr>\n",
       "    <tr>\n",
       "      <th>331301</th>\n",
       "      <td>U_997506</td>\n",
       "      <td>C_682379</td>\n",
       "      <td>1606690104</td>\n",
       "      <td>1</td>\n",
       "      <td>1</td>\n",
       "    </tr>\n",
       "    <tr>\n",
       "      <th>331302</th>\n",
       "      <td>U_997506</td>\n",
       "      <td>C_696554</td>\n",
       "      <td>1606690121</td>\n",
       "      <td>1</td>\n",
       "      <td>1</td>\n",
       "    </tr>\n",
       "    <tr>\n",
       "      <th>331437</th>\n",
       "      <td>U_997506</td>\n",
       "      <td>C_696673</td>\n",
       "      <td>1606727242</td>\n",
       "      <td>1</td>\n",
       "      <td>1</td>\n",
       "    </tr>\n",
       "  </tbody>\n",
       "</table>\n",
       "<p>311496 rows × 5 columns</p>\n",
       "</div>"
      ],
      "text/plain": [
       "            user       item        time  user_gender  label\n",
       "78810   U_100090   C_707022  1583235350            0      1\n",
       "85316   U_100090   C_676687  1583752556            0      1\n",
       "97314   U_100090   C_697073  1584917895            0      1\n",
       "97319   U_100090   C_948038  1584918145            0      1\n",
       "97323   U_100090   C_680716  1584918197            0      1\n",
       "...          ...        ...         ...          ...    ...\n",
       "305487  U_997506   C_735239  1603116374            1      1\n",
       "322637  U_997506  C_2095102  1605299197            1      1\n",
       "331301  U_997506   C_682379  1606690104            1      1\n",
       "331302  U_997506   C_696554  1606690121            1      1\n",
       "331437  U_997506   C_696673  1606727242            1      1\n",
       "\n",
       "[311496 rows x 5 columns]"
      ]
     },
     "execution_count": 27,
     "metadata": {},
     "output_type": "execute_result"
    }
   ],
   "source": [
    "train"
   ]
  },
  {
   "cell_type": "code",
   "execution_count": 28,
   "id": "b054a3c3",
   "metadata": {
    "execution": {
     "iopub.execute_input": "2025-07-26T00:17:29.486560Z",
     "iopub.status.busy": "2025-07-26T00:17:29.486155Z",
     "iopub.status.idle": "2025-07-26T00:17:29.497792Z",
     "shell.execute_reply": "2025-07-26T00:17:29.496743Z"
    },
    "papermill": {
     "duration": 0.025781,
     "end_time": "2025-07-26T00:17:29.499597",
     "exception": false,
     "start_time": "2025-07-26T00:17:29.473816",
     "status": "completed"
    },
    "tags": []
   },
   "outputs": [
    {
     "data": {
      "text/html": [
       "<div>\n",
       "<style scoped>\n",
       "    .dataframe tbody tr th:only-of-type {\n",
       "        vertical-align: middle;\n",
       "    }\n",
       "\n",
       "    .dataframe tbody tr th {\n",
       "        vertical-align: top;\n",
       "    }\n",
       "\n",
       "    .dataframe thead th {\n",
       "        text-align: right;\n",
       "    }\n",
       "</style>\n",
       "<table border=\"1\" class=\"dataframe\">\n",
       "  <thead>\n",
       "    <tr style=\"text-align: right;\">\n",
       "      <th></th>\n",
       "      <th>user</th>\n",
       "      <th>item</th>\n",
       "      <th>time</th>\n",
       "      <th>user_gender</th>\n",
       "      <th>label</th>\n",
       "    </tr>\n",
       "  </thead>\n",
       "  <tbody>\n",
       "    <tr>\n",
       "      <th>277567</th>\n",
       "      <td>U_100090</td>\n",
       "      <td>C_1755921</td>\n",
       "      <td>1600725730</td>\n",
       "      <td>0</td>\n",
       "      <td>1</td>\n",
       "    </tr>\n",
       "    <tr>\n",
       "      <th>318717</th>\n",
       "      <td>U_1002476</td>\n",
       "      <td>C_682463</td>\n",
       "      <td>1604703719</td>\n",
       "      <td>1</td>\n",
       "      <td>1</td>\n",
       "    </tr>\n",
       "    <tr>\n",
       "      <th>314147</th>\n",
       "      <td>U_100281</td>\n",
       "      <td>C_948078</td>\n",
       "      <td>1604091834</td>\n",
       "      <td>0</td>\n",
       "      <td>1</td>\n",
       "    </tr>\n",
       "    <tr>\n",
       "      <th>243074</th>\n",
       "      <td>U_10033817</td>\n",
       "      <td>C_677049</td>\n",
       "      <td>1598352038</td>\n",
       "      <td>0</td>\n",
       "      <td>1</td>\n",
       "    </tr>\n",
       "    <tr>\n",
       "      <th>203928</th>\n",
       "      <td>U_10033948</td>\n",
       "      <td>C_1822804</td>\n",
       "      <td>1595283089</td>\n",
       "      <td>2</td>\n",
       "      <td>1</td>\n",
       "    </tr>\n",
       "    <tr>\n",
       "      <th>...</th>\n",
       "      <td>...</td>\n",
       "      <td>...</td>\n",
       "      <td>...</td>\n",
       "      <td>...</td>\n",
       "      <td>...</td>\n",
       "    </tr>\n",
       "    <tr>\n",
       "      <th>278445</th>\n",
       "      <td>U_9968019</td>\n",
       "      <td>C_677097</td>\n",
       "      <td>1600788653</td>\n",
       "      <td>0</td>\n",
       "      <td>1</td>\n",
       "    </tr>\n",
       "    <tr>\n",
       "      <th>148469</th>\n",
       "      <td>U_9969645</td>\n",
       "      <td>C_677010</td>\n",
       "      <td>1589927593</td>\n",
       "      <td>1</td>\n",
       "      <td>1</td>\n",
       "    </tr>\n",
       "    <tr>\n",
       "      <th>277343</th>\n",
       "      <td>U_99722</td>\n",
       "      <td>C_1944971</td>\n",
       "      <td>1600715669</td>\n",
       "      <td>0</td>\n",
       "      <td>1</td>\n",
       "    </tr>\n",
       "    <tr>\n",
       "      <th>295989</th>\n",
       "      <td>U_99746</td>\n",
       "      <td>C_735143</td>\n",
       "      <td>1602198978</td>\n",
       "      <td>0</td>\n",
       "      <td>1</td>\n",
       "    </tr>\n",
       "    <tr>\n",
       "      <th>331438</th>\n",
       "      <td>U_997506</td>\n",
       "      <td>C_680747</td>\n",
       "      <td>1606727332</td>\n",
       "      <td>1</td>\n",
       "      <td>1</td>\n",
       "    </tr>\n",
       "  </tbody>\n",
       "</table>\n",
       "<p>24052 rows × 5 columns</p>\n",
       "</div>"
      ],
      "text/plain": [
       "              user       item        time  user_gender  label\n",
       "277567    U_100090  C_1755921  1600725730            0      1\n",
       "318717   U_1002476   C_682463  1604703719            1      1\n",
       "314147    U_100281   C_948078  1604091834            0      1\n",
       "243074  U_10033817   C_677049  1598352038            0      1\n",
       "203928  U_10033948  C_1822804  1595283089            2      1\n",
       "...            ...        ...         ...          ...    ...\n",
       "278445   U_9968019   C_677097  1600788653            0      1\n",
       "148469   U_9969645   C_677010  1589927593            1      1\n",
       "277343     U_99722  C_1944971  1600715669            0      1\n",
       "295989     U_99746   C_735143  1602198978            0      1\n",
       "331438    U_997506   C_680747  1606727332            1      1\n",
       "\n",
       "[24052 rows x 5 columns]"
      ]
     },
     "execution_count": 28,
     "metadata": {},
     "output_type": "execute_result"
    }
   ],
   "source": [
    "test"
   ]
  },
  {
   "cell_type": "code",
   "execution_count": 29,
   "id": "37540cec",
   "metadata": {
    "execution": {
     "iopub.execute_input": "2025-07-26T00:17:29.527380Z",
     "iopub.status.busy": "2025-07-26T00:17:29.526971Z",
     "iopub.status.idle": "2025-07-26T00:17:29.853774Z",
     "shell.execute_reply": "2025-07-26T00:17:29.852336Z"
    },
    "papermill": {
     "duration": 0.342832,
     "end_time": "2025-07-26T00:17:29.856002",
     "exception": false,
     "start_time": "2025-07-26T00:17:29.513170",
     "status": "completed"
    },
    "tags": []
   },
   "outputs": [],
   "source": [
    "train = train.merge(item_vec.rename(columns={\"course_id\":\"item\"}), on='item', how='inner')\n",
    "test = test.merge(item_vec.rename(columns={\"course_id\":\"item\"}), on='item', how='inner')"
   ]
  },
  {
   "cell_type": "code",
   "execution_count": 30,
   "id": "7f64b334",
   "metadata": {
    "execution": {
     "iopub.execute_input": "2025-07-26T00:17:29.882319Z",
     "iopub.status.busy": "2025-07-26T00:17:29.881893Z",
     "iopub.status.idle": "2025-07-26T00:17:29.887225Z",
     "shell.execute_reply": "2025-07-26T00:17:29.886010Z"
    },
    "papermill": {
     "duration": 0.020739,
     "end_time": "2025-07-26T00:17:29.889328",
     "exception": false,
     "start_time": "2025-07-26T00:17:29.868589",
     "status": "completed"
    },
    "tags": []
   },
   "outputs": [],
   "source": [
    "item_cols = [x for x in item_cols if x not in ['school_id_2','course_total_comments','total_video_duration','total_num_problem']]"
   ]
  },
  {
   "cell_type": "code",
   "execution_count": 31,
   "id": "d55da268",
   "metadata": {
    "execution": {
     "iopub.execute_input": "2025-07-26T00:17:29.915643Z",
     "iopub.status.busy": "2025-07-26T00:17:29.915149Z",
     "iopub.status.idle": "2025-07-26T00:17:31.562762Z",
     "shell.execute_reply": "2025-07-26T00:17:31.561338Z"
    },
    "papermill": {
     "duration": 1.663009,
     "end_time": "2025-07-26T00:17:31.564882",
     "exception": false,
     "start_time": "2025-07-26T00:17:29.901873",
     "status": "completed"
    },
    "tags": []
   },
   "outputs": [],
   "source": [
    "# specify complete columns information\n",
    "sparse_col = [\"user_gender\",\"school_id_1\"]\n",
    "dense_col = [f for f in item_cols if f not in ['school_id_1']]\n",
    "user_col = [\"user_gender\"]\n",
    "item_col = item_cols\n",
    "\n",
    "train_data, data_info = DatasetFeat.build_trainset(train, user_col, item_col, sparse_col, dense_col,shuffle=False)\n",
    "test_data = DatasetFeat.build_testset(test,shuffle=False)"
   ]
  },
  {
   "cell_type": "code",
   "execution_count": 32,
   "id": "4bc78e1e",
   "metadata": {
    "execution": {
     "iopub.execute_input": "2025-07-26T00:17:31.590895Z",
     "iopub.status.busy": "2025-07-26T00:17:31.590420Z",
     "iopub.status.idle": "2025-07-26T00:17:31.597686Z",
     "shell.execute_reply": "2025-07-26T00:17:31.595981Z"
    },
    "papermill": {
     "duration": 0.022824,
     "end_time": "2025-07-26T00:17:31.599744",
     "exception": false,
     "start_time": "2025-07-26T00:17:31.576920",
     "status": "completed"
    },
    "tags": []
   },
   "outputs": [
    {
     "name": "stdout",
     "output_type": "stream",
     "text": [
      "n_users: 24090, n_items: 2698, data density: 0.4793 %\n"
     ]
    }
   ],
   "source": [
    "print(data_info)"
   ]
  },
  {
   "cell_type": "code",
   "execution_count": 33,
   "id": "85e66a57",
   "metadata": {
    "execution": {
     "iopub.execute_input": "2025-07-26T00:17:31.624583Z",
     "iopub.status.busy": "2025-07-26T00:17:31.624161Z",
     "iopub.status.idle": "2025-07-26T00:17:37.029751Z",
     "shell.execute_reply": "2025-07-26T00:17:37.028511Z"
    },
    "papermill": {
     "duration": 5.420385,
     "end_time": "2025-07-26T00:17:37.031957",
     "exception": false,
     "start_time": "2025-07-26T00:17:31.611572",
     "status": "completed"
    },
    "tags": []
   },
   "outputs": [],
   "source": [
    "import tensorflow as tf\n",
    "tf.compat.v1.reset_default_graph() "
   ]
  },
  {
   "cell_type": "code",
   "execution_count": 34,
   "id": "694b2d29",
   "metadata": {
    "_kg_hide-input": true,
    "execution": {
     "iopub.execute_input": "2025-07-26T00:17:37.058565Z",
     "iopub.status.busy": "2025-07-26T00:17:37.057817Z",
     "iopub.status.idle": "2025-07-26T00:25:30.820191Z",
     "shell.execute_reply": "2025-07-26T00:25:30.818685Z"
    },
    "papermill": {
     "duration": 473.777518,
     "end_time": "2025-07-26T00:25:30.822312",
     "exception": false,
     "start_time": "2025-07-26T00:17:37.044794",
     "status": "completed"
    },
    "tags": []
   },
   "outputs": [
    {
     "name": "stdout",
     "output_type": "stream",
     "text": [
      "Training start time: \u001b[35m2025-07-26 00:18:33\u001b[0m\n"
     ]
    },
    {
     "name": "stderr",
     "output_type": "stream",
     "text": [
      "train: 100%|██████████| 305/305 [00:01<00:00, 191.80it/s]\n"
     ]
    },
    {
     "name": "stdout",
     "output_type": "stream",
     "text": [
      "Epoch 1 elapsed: 1.594s\n",
      "\t \u001b[32mtrain_loss: 0.6897\u001b[0m\n"
     ]
    },
    {
     "name": "stderr",
     "output_type": "stream",
     "text": [
      "eval_listwise: 100%|██████████| 3334/3334 [00:01<00:00, 1881.18it/s]\n"
     ]
    },
    {
     "name": "stdout",
     "output_type": "stream",
     "text": [
      "\t eval recall@10: 0.0231\n",
      "\t eval precision@10: 0.0023\n",
      "\t eval ndcg@10: 0.0121\n",
      "\t eval map@10: 0.0088\n",
      "==============================\n"
     ]
    },
    {
     "name": "stderr",
     "output_type": "stream",
     "text": [
      "train: 100%|██████████| 305/305 [00:01<00:00, 191.85it/s]\n"
     ]
    },
    {
     "name": "stdout",
     "output_type": "stream",
     "text": [
      "Epoch 2 elapsed: 1.595s\n",
      "\t \u001b[32mtrain_loss: 0.6815\u001b[0m\n"
     ]
    },
    {
     "name": "stderr",
     "output_type": "stream",
     "text": [
      "eval_listwise: 100%|██████████| 3334/3334 [00:01<00:00, 1933.15it/s]\n"
     ]
    },
    {
     "name": "stdout",
     "output_type": "stream",
     "text": [
      "\t eval recall@10: 0.0251\n",
      "\t eval precision@10: 0.0025\n",
      "\t eval ndcg@10: 0.0135\n",
      "\t eval map@10: 0.0100\n",
      "==============================\n"
     ]
    },
    {
     "name": "stderr",
     "output_type": "stream",
     "text": [
      "train: 100%|██████████| 305/305 [00:01<00:00, 225.49it/s]\n"
     ]
    },
    {
     "name": "stdout",
     "output_type": "stream",
     "text": [
      "Epoch 3 elapsed: 1.357s\n",
      "\t \u001b[32mtrain_loss: 0.6735\u001b[0m\n"
     ]
    },
    {
     "name": "stderr",
     "output_type": "stream",
     "text": [
      "eval_listwise: 100%|██████████| 3334/3334 [00:01<00:00, 1943.54it/s]\n"
     ]
    },
    {
     "name": "stdout",
     "output_type": "stream",
     "text": [
      "\t eval recall@10: 0.0275\n",
      "\t eval precision@10: 0.0027\n",
      "\t eval ndcg@10: 0.0146\n",
      "\t eval map@10: 0.0106\n",
      "==============================\n"
     ]
    },
    {
     "name": "stderr",
     "output_type": "stream",
     "text": [
      "train: 100%|██████████| 305/305 [00:01<00:00, 193.32it/s]\n"
     ]
    },
    {
     "name": "stdout",
     "output_type": "stream",
     "text": [
      "Epoch 4 elapsed: 1.581s\n",
      "\t \u001b[32mtrain_loss: 0.6657\u001b[0m\n"
     ]
    },
    {
     "name": "stderr",
     "output_type": "stream",
     "text": [
      "eval_listwise: 100%|██████████| 3334/3334 [00:01<00:00, 1862.47it/s]\n"
     ]
    },
    {
     "name": "stdout",
     "output_type": "stream",
     "text": [
      "\t eval recall@10: 0.0328\n",
      "\t eval precision@10: 0.0033\n",
      "\t eval ndcg@10: 0.0168\n",
      "\t eval map@10: 0.0119\n",
      "==============================\n"
     ]
    },
    {
     "name": "stderr",
     "output_type": "stream",
     "text": [
      "train: 100%|██████████| 305/305 [00:01<00:00, 218.42it/s]\n"
     ]
    },
    {
     "name": "stdout",
     "output_type": "stream",
     "text": [
      "Epoch 5 elapsed: 1.401s\n",
      "\t \u001b[32mtrain_loss: 0.6582\u001b[0m\n"
     ]
    },
    {
     "name": "stderr",
     "output_type": "stream",
     "text": [
      "eval_listwise: 100%|██████████| 3334/3334 [00:01<00:00, 1913.16it/s]\n"
     ]
    },
    {
     "name": "stdout",
     "output_type": "stream",
     "text": [
      "\t eval recall@10: 0.0334\n",
      "\t eval precision@10: 0.0033\n",
      "\t eval ndcg@10: 0.0173\n",
      "\t eval map@10: 0.0123\n",
      "==============================\n"
     ]
    },
    {
     "name": "stderr",
     "output_type": "stream",
     "text": [
      "train: 100%|██████████| 305/305 [00:01<00:00, 204.58it/s]\n"
     ]
    },
    {
     "name": "stdout",
     "output_type": "stream",
     "text": [
      "Epoch 6 elapsed: 1.495s\n",
      "\t \u001b[32mtrain_loss: 0.6509\u001b[0m\n"
     ]
    },
    {
     "name": "stderr",
     "output_type": "stream",
     "text": [
      "eval_listwise: 100%|██████████| 3334/3334 [00:01<00:00, 1701.93it/s]\n"
     ]
    },
    {
     "name": "stdout",
     "output_type": "stream",
     "text": [
      "\t eval recall@10: 0.0336\n",
      "\t eval precision@10: 0.0034\n",
      "\t eval ndcg@10: 0.0174\n",
      "\t eval map@10: 0.0124\n",
      "==============================\n"
     ]
    },
    {
     "name": "stderr",
     "output_type": "stream",
     "text": [
      "train: 100%|██████████| 305/305 [00:01<00:00, 230.69it/s]\n"
     ]
    },
    {
     "name": "stdout",
     "output_type": "stream",
     "text": [
      "Epoch 7 elapsed: 1.327s\n",
      "\t \u001b[32mtrain_loss: 0.6437\u001b[0m\n"
     ]
    },
    {
     "name": "stderr",
     "output_type": "stream",
     "text": [
      "eval_listwise: 100%|██████████| 3334/3334 [00:01<00:00, 1981.77it/s]\n"
     ]
    },
    {
     "name": "stdout",
     "output_type": "stream",
     "text": [
      "\t eval recall@10: 0.0345\n",
      "\t eval precision@10: 0.0034\n",
      "\t eval ndcg@10: 0.0179\n",
      "\t eval map@10: 0.0128\n",
      "==============================\n"
     ]
    },
    {
     "name": "stderr",
     "output_type": "stream",
     "text": [
      "train: 100%|██████████| 305/305 [00:01<00:00, 229.59it/s]\n"
     ]
    },
    {
     "name": "stdout",
     "output_type": "stream",
     "text": [
      "Epoch 8 elapsed: 1.332s\n",
      "\t \u001b[32mtrain_loss: 0.6364\u001b[0m\n"
     ]
    },
    {
     "name": "stderr",
     "output_type": "stream",
     "text": [
      "eval_listwise: 100%|██████████| 3334/3334 [00:01<00:00, 1863.39it/s]\n"
     ]
    },
    {
     "name": "stdout",
     "output_type": "stream",
     "text": [
      "\t eval recall@10: 0.0361\n",
      "\t eval precision@10: 0.0036\n",
      "\t eval ndcg@10: 0.0189\n",
      "\t eval map@10: 0.0136\n",
      "==============================\n"
     ]
    },
    {
     "name": "stderr",
     "output_type": "stream",
     "text": [
      "train: 100%|██████████| 305/305 [00:01<00:00, 234.94it/s]\n"
     ]
    },
    {
     "name": "stdout",
     "output_type": "stream",
     "text": [
      "Epoch 9 elapsed: 1.302s\n",
      "\t \u001b[32mtrain_loss: 0.6298\u001b[0m\n"
     ]
    },
    {
     "name": "stderr",
     "output_type": "stream",
     "text": [
      "eval_listwise: 100%|██████████| 3334/3334 [00:01<00:00, 1963.63it/s]\n"
     ]
    },
    {
     "name": "stdout",
     "output_type": "stream",
     "text": [
      "\t eval recall@10: 0.0380\n",
      "\t eval precision@10: 0.0038\n",
      "\t eval ndcg@10: 0.0195\n",
      "\t eval map@10: 0.0139\n",
      "==============================\n"
     ]
    },
    {
     "name": "stderr",
     "output_type": "stream",
     "text": [
      "train: 100%|██████████| 305/305 [00:01<00:00, 242.38it/s]\n"
     ]
    },
    {
     "name": "stdout",
     "output_type": "stream",
     "text": [
      "Epoch 10 elapsed: 1.263s\n",
      "\t \u001b[32mtrain_loss: 0.6231\u001b[0m\n"
     ]
    },
    {
     "name": "stderr",
     "output_type": "stream",
     "text": [
      "eval_listwise: 100%|██████████| 3334/3334 [00:01<00:00, 1980.98it/s]\n"
     ]
    },
    {
     "name": "stdout",
     "output_type": "stream",
     "text": [
      "\t eval recall@10: 0.0395\n",
      "\t eval precision@10: 0.0040\n",
      "\t eval ndcg@10: 0.0200\n",
      "\t eval map@10: 0.0141\n",
      "==============================\n"
     ]
    },
    {
     "name": "stderr",
     "output_type": "stream",
     "text": [
      "train: 100%|██████████| 305/305 [00:01<00:00, 233.62it/s]\n"
     ]
    },
    {
     "name": "stdout",
     "output_type": "stream",
     "text": [
      "Epoch 11 elapsed: 1.309s\n",
      "\t \u001b[32mtrain_loss: 0.6166\u001b[0m\n"
     ]
    },
    {
     "name": "stderr",
     "output_type": "stream",
     "text": [
      "eval_listwise: 100%|██████████| 3334/3334 [00:01<00:00, 1964.03it/s]\n"
     ]
    },
    {
     "name": "stdout",
     "output_type": "stream",
     "text": [
      "\t eval recall@10: 0.0421\n",
      "\t eval precision@10: 0.0042\n",
      "\t eval ndcg@10: 0.0206\n",
      "\t eval map@10: 0.0141\n",
      "==============================\n"
     ]
    },
    {
     "name": "stderr",
     "output_type": "stream",
     "text": [
      "train: 100%|██████████| 305/305 [00:01<00:00, 210.71it/s]\n"
     ]
    },
    {
     "name": "stdout",
     "output_type": "stream",
     "text": [
      "Epoch 12 elapsed: 1.451s\n",
      "\t \u001b[32mtrain_loss: 0.6104\u001b[0m\n"
     ]
    },
    {
     "name": "stderr",
     "output_type": "stream",
     "text": [
      "eval_listwise: 100%|██████████| 3334/3334 [00:01<00:00, 1943.91it/s]\n"
     ]
    },
    {
     "name": "stdout",
     "output_type": "stream",
     "text": [
      "\t eval recall@10: 0.0443\n",
      "\t eval precision@10: 0.0044\n",
      "\t eval ndcg@10: 0.0213\n",
      "\t eval map@10: 0.0145\n",
      "==============================\n"
     ]
    },
    {
     "name": "stderr",
     "output_type": "stream",
     "text": [
      "train: 100%|██████████| 305/305 [00:01<00:00, 239.09it/s]\n"
     ]
    },
    {
     "name": "stdout",
     "output_type": "stream",
     "text": [
      "Epoch 13 elapsed: 1.280s\n",
      "\t \u001b[32mtrain_loss: 0.6041\u001b[0m\n"
     ]
    },
    {
     "name": "stderr",
     "output_type": "stream",
     "text": [
      "eval_listwise: 100%|██████████| 3334/3334 [00:01<00:00, 1872.06it/s]\n"
     ]
    },
    {
     "name": "stdout",
     "output_type": "stream",
     "text": [
      "\t eval recall@10: 0.0439\n",
      "\t eval precision@10: 0.0044\n",
      "\t eval ndcg@10: 0.0211\n",
      "\t eval map@10: 0.0143\n",
      "==============================\n"
     ]
    },
    {
     "name": "stderr",
     "output_type": "stream",
     "text": [
      "train: 100%|██████████| 305/305 [00:01<00:00, 239.01it/s]\n"
     ]
    },
    {
     "name": "stdout",
     "output_type": "stream",
     "text": [
      "Epoch 14 elapsed: 1.279s\n",
      "\t \u001b[32mtrain_loss: 0.5982\u001b[0m\n"
     ]
    },
    {
     "name": "stderr",
     "output_type": "stream",
     "text": [
      "eval_listwise: 100%|██████████| 3334/3334 [00:01<00:00, 1994.86it/s]\n"
     ]
    },
    {
     "name": "stdout",
     "output_type": "stream",
     "text": [
      "\t eval recall@10: 0.0439\n",
      "\t eval precision@10: 0.0044\n",
      "\t eval ndcg@10: 0.0211\n",
      "\t eval map@10: 0.0143\n",
      "==============================\n"
     ]
    },
    {
     "name": "stderr",
     "output_type": "stream",
     "text": [
      "train: 100%|██████████| 305/305 [00:01<00:00, 234.18it/s]\n"
     ]
    },
    {
     "name": "stdout",
     "output_type": "stream",
     "text": [
      "Epoch 15 elapsed: 1.307s\n",
      "\t \u001b[32mtrain_loss: 0.592\u001b[0m\n"
     ]
    },
    {
     "name": "stderr",
     "output_type": "stream",
     "text": [
      "eval_listwise: 100%|██████████| 3334/3334 [00:01<00:00, 1946.50it/s]\n"
     ]
    },
    {
     "name": "stdout",
     "output_type": "stream",
     "text": [
      "\t eval recall@10: 0.0442\n",
      "\t eval precision@10: 0.0044\n",
      "\t eval ndcg@10: 0.0212\n",
      "\t eval map@10: 0.0143\n",
      "==============================\n"
     ]
    },
    {
     "name": "stderr",
     "output_type": "stream",
     "text": [
      "train: 100%|██████████| 305/305 [00:01<00:00, 204.55it/s]\n"
     ]
    },
    {
     "name": "stdout",
     "output_type": "stream",
     "text": [
      "Epoch 16 elapsed: 1.495s\n",
      "\t \u001b[32mtrain_loss: 0.5861\u001b[0m\n"
     ]
    },
    {
     "name": "stderr",
     "output_type": "stream",
     "text": [
      "eval_listwise: 100%|██████████| 3334/3334 [00:01<00:00, 1750.75it/s]\n"
     ]
    },
    {
     "name": "stdout",
     "output_type": "stream",
     "text": [
      "\t eval recall@10: 0.0447\n",
      "\t eval precision@10: 0.0045\n",
      "\t eval ndcg@10: 0.0214\n",
      "\t eval map@10: 0.0144\n",
      "==============================\n"
     ]
    },
    {
     "name": "stderr",
     "output_type": "stream",
     "text": [
      "train: 100%|██████████| 305/305 [00:01<00:00, 165.04it/s]\n"
     ]
    },
    {
     "name": "stdout",
     "output_type": "stream",
     "text": [
      "Epoch 17 elapsed: 1.853s\n",
      "\t \u001b[32mtrain_loss: 0.5806\u001b[0m\n"
     ]
    },
    {
     "name": "stderr",
     "output_type": "stream",
     "text": [
      "eval_listwise: 100%|██████████| 3334/3334 [00:01<00:00, 1899.36it/s]\n"
     ]
    },
    {
     "name": "stdout",
     "output_type": "stream",
     "text": [
      "\t eval recall@10: 0.0454\n",
      "\t eval precision@10: 0.0045\n",
      "\t eval ndcg@10: 0.0216\n",
      "\t eval map@10: 0.0145\n",
      "==============================\n"
     ]
    },
    {
     "name": "stderr",
     "output_type": "stream",
     "text": [
      "train: 100%|██████████| 305/305 [00:01<00:00, 192.38it/s]\n"
     ]
    },
    {
     "name": "stdout",
     "output_type": "stream",
     "text": [
      "Epoch 18 elapsed: 1.592s\n",
      "\t \u001b[32mtrain_loss: 0.5747\u001b[0m\n"
     ]
    },
    {
     "name": "stderr",
     "output_type": "stream",
     "text": [
      "eval_listwise: 100%|██████████| 3334/3334 [00:01<00:00, 1924.64it/s]\n"
     ]
    },
    {
     "name": "stdout",
     "output_type": "stream",
     "text": [
      "\t eval recall@10: 0.0465\n",
      "\t eval precision@10: 0.0046\n",
      "\t eval ndcg@10: 0.0219\n",
      "\t eval map@10: 0.0146\n",
      "==============================\n"
     ]
    },
    {
     "name": "stderr",
     "output_type": "stream",
     "text": [
      "train: 100%|██████████| 305/305 [00:01<00:00, 216.45it/s]\n"
     ]
    },
    {
     "name": "stdout",
     "output_type": "stream",
     "text": [
      "Epoch 19 elapsed: 1.413s\n",
      "\t \u001b[32mtrain_loss: 0.5691\u001b[0m\n"
     ]
    },
    {
     "name": "stderr",
     "output_type": "stream",
     "text": [
      "eval_listwise: 100%|██████████| 3334/3334 [00:01<00:00, 1706.73it/s]\n"
     ]
    },
    {
     "name": "stdout",
     "output_type": "stream",
     "text": [
      "\t eval recall@10: 0.0473\n",
      "\t eval precision@10: 0.0047\n",
      "\t eval ndcg@10: 0.0221\n",
      "\t eval map@10: 0.0147\n",
      "==============================\n"
     ]
    },
    {
     "name": "stderr",
     "output_type": "stream",
     "text": [
      "train: 100%|██████████| 305/305 [00:01<00:00, 209.44it/s]\n"
     ]
    },
    {
     "name": "stdout",
     "output_type": "stream",
     "text": [
      "Epoch 20 elapsed: 1.460s\n",
      "\t \u001b[32mtrain_loss: 0.5635\u001b[0m\n"
     ]
    },
    {
     "name": "stderr",
     "output_type": "stream",
     "text": [
      "eval_listwise: 100%|██████████| 3334/3334 [00:01<00:00, 1853.90it/s]\n"
     ]
    },
    {
     "name": "stdout",
     "output_type": "stream",
     "text": [
      "\t eval recall@10: 0.0480\n",
      "\t eval precision@10: 0.0048\n",
      "\t eval ndcg@10: 0.0223\n",
      "\t eval map@10: 0.0147\n",
      "==============================\n"
     ]
    },
    {
     "name": "stderr",
     "output_type": "stream",
     "text": [
      "train: 100%|██████████| 305/305 [00:01<00:00, 216.37it/s]\n"
     ]
    },
    {
     "name": "stdout",
     "output_type": "stream",
     "text": [
      "Epoch 21 elapsed: 1.413s\n",
      "\t \u001b[32mtrain_loss: 0.5579\u001b[0m\n"
     ]
    },
    {
     "name": "stderr",
     "output_type": "stream",
     "text": [
      "eval_listwise: 100%|██████████| 3334/3334 [00:01<00:00, 1846.71it/s]\n"
     ]
    },
    {
     "name": "stdout",
     "output_type": "stream",
     "text": [
      "\t eval recall@10: 0.0481\n",
      "\t eval precision@10: 0.0048\n",
      "\t eval ndcg@10: 0.0224\n",
      "\t eval map@10: 0.0148\n",
      "==============================\n"
     ]
    },
    {
     "name": "stderr",
     "output_type": "stream",
     "text": [
      "train: 100%|██████████| 305/305 [00:01<00:00, 217.79it/s]\n"
     ]
    },
    {
     "name": "stdout",
     "output_type": "stream",
     "text": [
      "Epoch 22 elapsed: 1.404s\n",
      "\t \u001b[32mtrain_loss: 0.5524\u001b[0m\n"
     ]
    },
    {
     "name": "stderr",
     "output_type": "stream",
     "text": [
      "eval_listwise: 100%|██████████| 3334/3334 [00:01<00:00, 1903.25it/s]\n"
     ]
    },
    {
     "name": "stdout",
     "output_type": "stream",
     "text": [
      "\t eval recall@10: 0.0503\n",
      "\t eval precision@10: 0.0050\n",
      "\t eval ndcg@10: 0.0231\n",
      "\t eval map@10: 0.0151\n",
      "==============================\n"
     ]
    },
    {
     "name": "stderr",
     "output_type": "stream",
     "text": [
      "train: 100%|██████████| 305/305 [00:01<00:00, 226.73it/s]\n"
     ]
    },
    {
     "name": "stdout",
     "output_type": "stream",
     "text": [
      "Epoch 23 elapsed: 1.349s\n",
      "\t \u001b[32mtrain_loss: 0.5465\u001b[0m\n"
     ]
    },
    {
     "name": "stderr",
     "output_type": "stream",
     "text": [
      "eval_listwise: 100%|██████████| 3334/3334 [00:01<00:00, 1857.13it/s]\n"
     ]
    },
    {
     "name": "stdout",
     "output_type": "stream",
     "text": [
      "\t eval recall@10: 0.0532\n",
      "\t eval precision@10: 0.0053\n",
      "\t eval ndcg@10: 0.0239\n",
      "\t eval map@10: 0.0152\n",
      "==============================\n"
     ]
    },
    {
     "name": "stderr",
     "output_type": "stream",
     "text": [
      "train: 100%|██████████| 305/305 [00:01<00:00, 230.80it/s]\n"
     ]
    },
    {
     "name": "stdout",
     "output_type": "stream",
     "text": [
      "Epoch 24 elapsed: 1.327s\n",
      "\t \u001b[32mtrain_loss: 0.5411\u001b[0m\n"
     ]
    },
    {
     "name": "stderr",
     "output_type": "stream",
     "text": [
      "eval_listwise: 100%|██████████| 3334/3334 [00:01<00:00, 1831.02it/s]\n"
     ]
    },
    {
     "name": "stdout",
     "output_type": "stream",
     "text": [
      "\t eval recall@10: 0.0541\n",
      "\t eval precision@10: 0.0054\n",
      "\t eval ndcg@10: 0.0242\n",
      "\t eval map@10: 0.0155\n",
      "==============================\n"
     ]
    },
    {
     "name": "stderr",
     "output_type": "stream",
     "text": [
      "train: 100%|██████████| 305/305 [00:01<00:00, 191.66it/s]\n"
     ]
    },
    {
     "name": "stdout",
     "output_type": "stream",
     "text": [
      "Epoch 25 elapsed: 1.596s\n",
      "\t \u001b[32mtrain_loss: 0.5352\u001b[0m\n"
     ]
    },
    {
     "name": "stderr",
     "output_type": "stream",
     "text": [
      "eval_listwise: 100%|██████████| 3334/3334 [00:01<00:00, 1759.28it/s]\n"
     ]
    },
    {
     "name": "stdout",
     "output_type": "stream",
     "text": [
      "\t eval recall@10: 0.0536\n",
      "\t eval precision@10: 0.0054\n",
      "\t eval ndcg@10: 0.0241\n",
      "\t eval map@10: 0.0154\n",
      "==============================\n"
     ]
    },
    {
     "name": "stderr",
     "output_type": "stream",
     "text": [
      "train: 100%|██████████| 305/305 [00:01<00:00, 192.15it/s]\n"
     ]
    },
    {
     "name": "stdout",
     "output_type": "stream",
     "text": [
      "Epoch 26 elapsed: 1.590s\n",
      "\t \u001b[32mtrain_loss: 0.5295\u001b[0m\n"
     ]
    },
    {
     "name": "stderr",
     "output_type": "stream",
     "text": [
      "eval_listwise: 100%|██████████| 3334/3334 [00:01<00:00, 1970.19it/s]\n"
     ]
    },
    {
     "name": "stdout",
     "output_type": "stream",
     "text": [
      "\t eval recall@10: 0.0540\n",
      "\t eval precision@10: 0.0054\n",
      "\t eval ndcg@10: 0.0243\n",
      "\t eval map@10: 0.0155\n",
      "==============================\n"
     ]
    },
    {
     "name": "stderr",
     "output_type": "stream",
     "text": [
      "train: 100%|██████████| 305/305 [00:01<00:00, 234.19it/s]\n"
     ]
    },
    {
     "name": "stdout",
     "output_type": "stream",
     "text": [
      "Epoch 27 elapsed: 1.306s\n",
      "\t \u001b[32mtrain_loss: 0.5236\u001b[0m\n"
     ]
    },
    {
     "name": "stderr",
     "output_type": "stream",
     "text": [
      "eval_listwise: 100%|██████████| 3334/3334 [00:01<00:00, 1908.33it/s]\n"
     ]
    },
    {
     "name": "stdout",
     "output_type": "stream",
     "text": [
      "\t eval recall@10: 0.0547\n",
      "\t eval precision@10: 0.0055\n",
      "\t eval ndcg@10: 0.0245\n",
      "\t eval map@10: 0.0156\n",
      "==============================\n"
     ]
    },
    {
     "name": "stderr",
     "output_type": "stream",
     "text": [
      "train: 100%|██████████| 305/305 [00:01<00:00, 218.98it/s]\n"
     ]
    },
    {
     "name": "stdout",
     "output_type": "stream",
     "text": [
      "Epoch 28 elapsed: 1.397s\n",
      "\t \u001b[32mtrain_loss: 0.5179\u001b[0m\n"
     ]
    },
    {
     "name": "stderr",
     "output_type": "stream",
     "text": [
      "eval_listwise: 100%|██████████| 3334/3334 [00:01<00:00, 1951.30it/s]\n"
     ]
    },
    {
     "name": "stdout",
     "output_type": "stream",
     "text": [
      "\t eval recall@10: 0.0552\n",
      "\t eval precision@10: 0.0055\n",
      "\t eval ndcg@10: 0.0247\n",
      "\t eval map@10: 0.0157\n",
      "==============================\n"
     ]
    },
    {
     "name": "stderr",
     "output_type": "stream",
     "text": [
      "train: 100%|██████████| 305/305 [00:01<00:00, 232.15it/s]\n"
     ]
    },
    {
     "name": "stdout",
     "output_type": "stream",
     "text": [
      "Epoch 29 elapsed: 1.318s\n",
      "\t \u001b[32mtrain_loss: 0.5123\u001b[0m\n"
     ]
    },
    {
     "name": "stderr",
     "output_type": "stream",
     "text": [
      "eval_listwise: 100%|██████████| 3334/3334 [00:01<00:00, 1912.38it/s]\n"
     ]
    },
    {
     "name": "stdout",
     "output_type": "stream",
     "text": [
      "\t eval recall@10: 0.0559\n",
      "\t eval precision@10: 0.0056\n",
      "\t eval ndcg@10: 0.0250\n",
      "\t eval map@10: 0.0159\n",
      "==============================\n"
     ]
    },
    {
     "name": "stderr",
     "output_type": "stream",
     "text": [
      "train: 100%|██████████| 305/305 [00:01<00:00, 198.80it/s]\n"
     ]
    },
    {
     "name": "stdout",
     "output_type": "stream",
     "text": [
      "Epoch 30 elapsed: 1.540s\n",
      "\t \u001b[32mtrain_loss: 0.507\u001b[0m\n"
     ]
    },
    {
     "name": "stderr",
     "output_type": "stream",
     "text": [
      "eval_listwise: 100%|██████████| 3334/3334 [00:01<00:00, 1908.68it/s]\n"
     ]
    },
    {
     "name": "stdout",
     "output_type": "stream",
     "text": [
      "\t eval recall@10: 0.0573\n",
      "\t eval precision@10: 0.0057\n",
      "\t eval ndcg@10: 0.0254\n",
      "\t eval map@10: 0.0159\n",
      "==============================\n"
     ]
    },
    {
     "name": "stderr",
     "output_type": "stream",
     "text": [
      "train: 100%|██████████| 305/305 [00:01<00:00, 226.65it/s]\n"
     ]
    },
    {
     "name": "stdout",
     "output_type": "stream",
     "text": [
      "Epoch 31 elapsed: 1.349s\n",
      "\t \u001b[32mtrain_loss: 0.501\u001b[0m\n"
     ]
    },
    {
     "name": "stderr",
     "output_type": "stream",
     "text": [
      "eval_listwise: 100%|██████████| 3334/3334 [00:01<00:00, 1961.98it/s]\n"
     ]
    },
    {
     "name": "stdout",
     "output_type": "stream",
     "text": [
      "\t eval recall@10: 0.0582\n",
      "\t eval precision@10: 0.0058\n",
      "\t eval ndcg@10: 0.0257\n",
      "\t eval map@10: 0.0161\n",
      "==============================\n"
     ]
    },
    {
     "name": "stderr",
     "output_type": "stream",
     "text": [
      "train: 100%|██████████| 305/305 [00:01<00:00, 197.29it/s]\n"
     ]
    },
    {
     "name": "stdout",
     "output_type": "stream",
     "text": [
      "Epoch 32 elapsed: 1.551s\n",
      "\t \u001b[32mtrain_loss: 0.4957\u001b[0m\n"
     ]
    },
    {
     "name": "stderr",
     "output_type": "stream",
     "text": [
      "eval_listwise: 100%|██████████| 3334/3334 [00:01<00:00, 1928.98it/s]\n"
     ]
    },
    {
     "name": "stdout",
     "output_type": "stream",
     "text": [
      "\t eval recall@10: 0.0589\n",
      "\t eval precision@10: 0.0059\n",
      "\t eval ndcg@10: 0.0262\n",
      "\t eval map@10: 0.0165\n",
      "==============================\n"
     ]
    },
    {
     "name": "stderr",
     "output_type": "stream",
     "text": [
      "train: 100%|██████████| 305/305 [00:01<00:00, 233.65it/s]\n"
     ]
    },
    {
     "name": "stdout",
     "output_type": "stream",
     "text": [
      "Epoch 33 elapsed: 1.309s\n",
      "\t \u001b[32mtrain_loss: 0.4903\u001b[0m\n"
     ]
    },
    {
     "name": "stderr",
     "output_type": "stream",
     "text": [
      "eval_listwise: 100%|██████████| 3334/3334 [00:01<00:00, 1782.37it/s]\n"
     ]
    },
    {
     "name": "stdout",
     "output_type": "stream",
     "text": [
      "\t eval recall@10: 0.0600\n",
      "\t eval precision@10: 0.0060\n",
      "\t eval ndcg@10: 0.0267\n",
      "\t eval map@10: 0.0169\n",
      "==============================\n"
     ]
    },
    {
     "name": "stderr",
     "output_type": "stream",
     "text": [
      "train: 100%|██████████| 305/305 [00:01<00:00, 214.89it/s]\n"
     ]
    },
    {
     "name": "stdout",
     "output_type": "stream",
     "text": [
      "Epoch 34 elapsed: 1.423s\n",
      "\t \u001b[32mtrain_loss: 0.485\u001b[0m\n"
     ]
    },
    {
     "name": "stderr",
     "output_type": "stream",
     "text": [
      "eval_listwise: 100%|██████████| 3334/3334 [00:01<00:00, 1931.55it/s]\n"
     ]
    },
    {
     "name": "stdout",
     "output_type": "stream",
     "text": [
      "\t eval recall@10: 0.0603\n",
      "\t eval precision@10: 0.0060\n",
      "\t eval ndcg@10: 0.0269\n",
      "\t eval map@10: 0.0171\n",
      "==============================\n"
     ]
    },
    {
     "name": "stderr",
     "output_type": "stream",
     "text": [
      "train: 100%|██████████| 305/305 [00:01<00:00, 227.38it/s]\n"
     ]
    },
    {
     "name": "stdout",
     "output_type": "stream",
     "text": [
      "Epoch 35 elapsed: 1.345s\n",
      "\t \u001b[32mtrain_loss: 0.4802\u001b[0m\n"
     ]
    },
    {
     "name": "stderr",
     "output_type": "stream",
     "text": [
      "eval_listwise: 100%|██████████| 3334/3334 [00:01<00:00, 1929.50it/s]\n"
     ]
    },
    {
     "name": "stdout",
     "output_type": "stream",
     "text": [
      "\t eval recall@10: 0.0605\n",
      "\t eval precision@10: 0.0060\n",
      "\t eval ndcg@10: 0.0272\n",
      "\t eval map@10: 0.0173\n",
      "==============================\n"
     ]
    },
    {
     "name": "stderr",
     "output_type": "stream",
     "text": [
      "train: 100%|██████████| 305/305 [00:01<00:00, 231.04it/s]\n"
     ]
    },
    {
     "name": "stdout",
     "output_type": "stream",
     "text": [
      "Epoch 36 elapsed: 1.324s\n",
      "\t \u001b[32mtrain_loss: 0.475\u001b[0m\n"
     ]
    },
    {
     "name": "stderr",
     "output_type": "stream",
     "text": [
      "eval_listwise: 100%|██████████| 3334/3334 [00:01<00:00, 1892.48it/s]\n"
     ]
    },
    {
     "name": "stdout",
     "output_type": "stream",
     "text": [
      "\t eval recall@10: 0.0612\n",
      "\t eval precision@10: 0.0061\n",
      "\t eval ndcg@10: 0.0276\n",
      "\t eval map@10: 0.0176\n",
      "==============================\n"
     ]
    },
    {
     "name": "stderr",
     "output_type": "stream",
     "text": [
      "train: 100%|██████████| 305/305 [00:01<00:00, 234.31it/s]\n"
     ]
    },
    {
     "name": "stdout",
     "output_type": "stream",
     "text": [
      "Epoch 37 elapsed: 1.305s\n",
      "\t \u001b[32mtrain_loss: 0.4704\u001b[0m\n"
     ]
    },
    {
     "name": "stderr",
     "output_type": "stream",
     "text": [
      "eval_listwise: 100%|██████████| 3334/3334 [00:01<00:00, 1923.35it/s]\n"
     ]
    },
    {
     "name": "stdout",
     "output_type": "stream",
     "text": [
      "\t eval recall@10: 0.0616\n",
      "\t eval precision@10: 0.0062\n",
      "\t eval ndcg@10: 0.0279\n",
      "\t eval map@10: 0.0179\n",
      "==============================\n"
     ]
    },
    {
     "name": "stderr",
     "output_type": "stream",
     "text": [
      "train: 100%|██████████| 305/305 [00:01<00:00, 223.75it/s]\n"
     ]
    },
    {
     "name": "stdout",
     "output_type": "stream",
     "text": [
      "Epoch 38 elapsed: 1.367s\n",
      "\t \u001b[32mtrain_loss: 0.4659\u001b[0m\n"
     ]
    },
    {
     "name": "stderr",
     "output_type": "stream",
     "text": [
      "eval_listwise: 100%|██████████| 3334/3334 [00:01<00:00, 1892.85it/s]\n"
     ]
    },
    {
     "name": "stdout",
     "output_type": "stream",
     "text": [
      "\t eval recall@10: 0.0616\n",
      "\t eval precision@10: 0.0062\n",
      "\t eval ndcg@10: 0.0281\n",
      "\t eval map@10: 0.0181\n",
      "==============================\n"
     ]
    },
    {
     "name": "stderr",
     "output_type": "stream",
     "text": [
      "train: 100%|██████████| 305/305 [00:01<00:00, 196.66it/s]\n"
     ]
    },
    {
     "name": "stdout",
     "output_type": "stream",
     "text": [
      "Epoch 39 elapsed: 1.555s\n",
      "\t \u001b[32mtrain_loss: 0.4618\u001b[0m\n"
     ]
    },
    {
     "name": "stderr",
     "output_type": "stream",
     "text": [
      "eval_listwise: 100%|██████████| 3334/3334 [00:01<00:00, 1935.95it/s]\n"
     ]
    },
    {
     "name": "stdout",
     "output_type": "stream",
     "text": [
      "\t eval recall@10: 0.0621\n",
      "\t eval precision@10: 0.0062\n",
      "\t eval ndcg@10: 0.0285\n",
      "\t eval map@10: 0.0185\n",
      "==============================\n"
     ]
    },
    {
     "name": "stderr",
     "output_type": "stream",
     "text": [
      "train: 100%|██████████| 305/305 [00:01<00:00, 236.17it/s]\n"
     ]
    },
    {
     "name": "stdout",
     "output_type": "stream",
     "text": [
      "Epoch 40 elapsed: 1.295s\n",
      "\t \u001b[32mtrain_loss: 0.4568\u001b[0m\n"
     ]
    },
    {
     "name": "stderr",
     "output_type": "stream",
     "text": [
      "eval_listwise: 100%|██████████| 3334/3334 [00:01<00:00, 1807.77it/s]\n"
     ]
    },
    {
     "name": "stdout",
     "output_type": "stream",
     "text": [
      "\t eval recall@10: 0.0621\n",
      "\t eval precision@10: 0.0062\n",
      "\t eval ndcg@10: 0.0288\n",
      "\t eval map@10: 0.0189\n",
      "==============================\n"
     ]
    },
    {
     "name": "stderr",
     "output_type": "stream",
     "text": [
      "train: 100%|██████████| 305/305 [00:01<00:00, 241.97it/s]\n"
     ]
    },
    {
     "name": "stdout",
     "output_type": "stream",
     "text": [
      "Epoch 41 elapsed: 1.264s\n",
      "\t \u001b[32mtrain_loss: 0.4538\u001b[0m\n"
     ]
    },
    {
     "name": "stderr",
     "output_type": "stream",
     "text": [
      "eval_listwise: 100%|██████████| 3334/3334 [00:01<00:00, 1973.79it/s]\n"
     ]
    },
    {
     "name": "stdout",
     "output_type": "stream",
     "text": [
      "\t eval recall@10: 0.0619\n",
      "\t eval precision@10: 0.0062\n",
      "\t eval ndcg@10: 0.0289\n",
      "\t eval map@10: 0.0191\n",
      "==============================\n"
     ]
    },
    {
     "name": "stderr",
     "output_type": "stream",
     "text": [
      "train: 100%|██████████| 305/305 [00:01<00:00, 231.04it/s]\n"
     ]
    },
    {
     "name": "stdout",
     "output_type": "stream",
     "text": [
      "Epoch 42 elapsed: 1.324s\n",
      "\t \u001b[32mtrain_loss: 0.4496\u001b[0m\n"
     ]
    },
    {
     "name": "stderr",
     "output_type": "stream",
     "text": [
      "eval_listwise: 100%|██████████| 3334/3334 [00:01<00:00, 1914.20it/s]\n"
     ]
    },
    {
     "name": "stdout",
     "output_type": "stream",
     "text": [
      "\t eval recall@10: 0.0618\n",
      "\t eval precision@10: 0.0062\n",
      "\t eval ndcg@10: 0.0292\n",
      "\t eval map@10: 0.0195\n",
      "==============================\n"
     ]
    },
    {
     "name": "stderr",
     "output_type": "stream",
     "text": [
      "train: 100%|██████████| 305/305 [00:01<00:00, 202.41it/s]\n"
     ]
    },
    {
     "name": "stdout",
     "output_type": "stream",
     "text": [
      "Epoch 43 elapsed: 1.510s\n",
      "\t \u001b[32mtrain_loss: 0.4459\u001b[0m\n"
     ]
    },
    {
     "name": "stderr",
     "output_type": "stream",
     "text": [
      "eval_listwise: 100%|██████████| 3334/3334 [00:01<00:00, 1782.16it/s]\n"
     ]
    },
    {
     "name": "stdout",
     "output_type": "stream",
     "text": [
      "\t eval recall@10: 0.0616\n",
      "\t eval precision@10: 0.0062\n",
      "\t eval ndcg@10: 0.0294\n",
      "\t eval map@10: 0.0198\n",
      "==============================\n"
     ]
    },
    {
     "name": "stderr",
     "output_type": "stream",
     "text": [
      "train: 100%|██████████| 305/305 [00:01<00:00, 233.00it/s]\n"
     ]
    },
    {
     "name": "stdout",
     "output_type": "stream",
     "text": [
      "Epoch 44 elapsed: 1.313s\n",
      "\t \u001b[32mtrain_loss: 0.4425\u001b[0m\n"
     ]
    },
    {
     "name": "stderr",
     "output_type": "stream",
     "text": [
      "eval_listwise: 100%|██████████| 3334/3334 [00:01<00:00, 1915.45it/s]\n"
     ]
    },
    {
     "name": "stdout",
     "output_type": "stream",
     "text": [
      "\t eval recall@10: 0.0619\n",
      "\t eval precision@10: 0.0062\n",
      "\t eval ndcg@10: 0.0297\n",
      "\t eval map@10: 0.0201\n",
      "==============================\n"
     ]
    },
    {
     "name": "stderr",
     "output_type": "stream",
     "text": [
      "train: 100%|██████████| 305/305 [00:01<00:00, 237.75it/s]\n"
     ]
    },
    {
     "name": "stdout",
     "output_type": "stream",
     "text": [
      "Epoch 45 elapsed: 1.287s\n",
      "\t \u001b[32mtrain_loss: 0.4391\u001b[0m\n"
     ]
    },
    {
     "name": "stderr",
     "output_type": "stream",
     "text": [
      "eval_listwise: 100%|██████████| 3334/3334 [00:01<00:00, 1954.21it/s]\n"
     ]
    },
    {
     "name": "stdout",
     "output_type": "stream",
     "text": [
      "\t eval recall@10: 0.0616\n",
      "\t eval precision@10: 0.0062\n",
      "\t eval ndcg@10: 0.0299\n",
      "\t eval map@10: 0.0204\n",
      "==============================\n"
     ]
    },
    {
     "name": "stderr",
     "output_type": "stream",
     "text": [
      "train: 100%|██████████| 305/305 [00:01<00:00, 245.33it/s]\n"
     ]
    },
    {
     "name": "stdout",
     "output_type": "stream",
     "text": [
      "Epoch 46 elapsed: 1.246s\n",
      "\t \u001b[32mtrain_loss: 0.4362\u001b[0m\n"
     ]
    },
    {
     "name": "stderr",
     "output_type": "stream",
     "text": [
      "eval_listwise: 100%|██████████| 3334/3334 [00:01<00:00, 1978.98it/s]\n"
     ]
    },
    {
     "name": "stdout",
     "output_type": "stream",
     "text": [
      "\t eval recall@10: 0.0621\n",
      "\t eval precision@10: 0.0062\n",
      "\t eval ndcg@10: 0.0303\n",
      "\t eval map@10: 0.0208\n",
      "==============================\n"
     ]
    },
    {
     "name": "stderr",
     "output_type": "stream",
     "text": [
      "train: 100%|██████████| 305/305 [00:01<00:00, 207.33it/s]\n"
     ]
    },
    {
     "name": "stdout",
     "output_type": "stream",
     "text": [
      "Epoch 47 elapsed: 1.475s\n",
      "\t \u001b[32mtrain_loss: 0.4338\u001b[0m\n"
     ]
    },
    {
     "name": "stderr",
     "output_type": "stream",
     "text": [
      "eval_listwise: 100%|██████████| 3334/3334 [00:01<00:00, 1938.44it/s]\n"
     ]
    },
    {
     "name": "stdout",
     "output_type": "stream",
     "text": [
      "\t eval recall@10: 0.0619\n",
      "\t eval precision@10: 0.0062\n",
      "\t eval ndcg@10: 0.0303\n",
      "\t eval map@10: 0.0209\n",
      "==============================\n"
     ]
    },
    {
     "name": "stderr",
     "output_type": "stream",
     "text": [
      "train: 100%|██████████| 305/305 [00:01<00:00, 236.61it/s]\n"
     ]
    },
    {
     "name": "stdout",
     "output_type": "stream",
     "text": [
      "Epoch 48 elapsed: 1.293s\n",
      "\t \u001b[32mtrain_loss: 0.4304\u001b[0m\n"
     ]
    },
    {
     "name": "stderr",
     "output_type": "stream",
     "text": [
      "eval_listwise: 100%|██████████| 3334/3334 [00:01<00:00, 1945.11it/s]\n"
     ]
    },
    {
     "name": "stdout",
     "output_type": "stream",
     "text": [
      "\t eval recall@10: 0.0623\n",
      "\t eval precision@10: 0.0062\n",
      "\t eval ndcg@10: 0.0305\n",
      "\t eval map@10: 0.0210\n",
      "==============================\n"
     ]
    },
    {
     "name": "stderr",
     "output_type": "stream",
     "text": [
      "train: 100%|██████████| 305/305 [00:01<00:00, 224.02it/s]\n"
     ]
    },
    {
     "name": "stdout",
     "output_type": "stream",
     "text": [
      "Epoch 49 elapsed: 1.366s\n",
      "\t \u001b[32mtrain_loss: 0.4274\u001b[0m\n"
     ]
    },
    {
     "name": "stderr",
     "output_type": "stream",
     "text": [
      "eval_listwise: 100%|██████████| 3334/3334 [00:01<00:00, 1971.37it/s]\n"
     ]
    },
    {
     "name": "stdout",
     "output_type": "stream",
     "text": [
      "\t eval recall@10: 0.0627\n",
      "\t eval precision@10: 0.0063\n",
      "\t eval ndcg@10: 0.0308\n",
      "\t eval map@10: 0.0213\n",
      "==============================\n"
     ]
    },
    {
     "name": "stderr",
     "output_type": "stream",
     "text": [
      "train: 100%|██████████| 305/305 [00:01<00:00, 240.02it/s]\n"
     ]
    },
    {
     "name": "stdout",
     "output_type": "stream",
     "text": [
      "Epoch 50 elapsed: 1.275s\n",
      "\t \u001b[32mtrain_loss: 0.4241\u001b[0m\n"
     ]
    },
    {
     "name": "stderr",
     "output_type": "stream",
     "text": [
      "eval_listwise: 100%|██████████| 3334/3334 [00:01<00:00, 1960.62it/s]\n"
     ]
    },
    {
     "name": "stdout",
     "output_type": "stream",
     "text": [
      "\t eval recall@10: 0.0630\n",
      "\t eval precision@10: 0.0063\n",
      "\t eval ndcg@10: 0.0310\n",
      "\t eval map@10: 0.0215\n",
      "==============================\n"
     ]
    },
    {
     "name": "stderr",
     "output_type": "stream",
     "text": [
      "train: 100%|██████████| 305/305 [00:01<00:00, 230.76it/s]\n"
     ]
    },
    {
     "name": "stdout",
     "output_type": "stream",
     "text": [
      "Epoch 51 elapsed: 1.325s\n",
      "\t \u001b[32mtrain_loss: 0.4224\u001b[0m\n"
     ]
    },
    {
     "name": "stderr",
     "output_type": "stream",
     "text": [
      "eval_listwise: 100%|██████████| 3334/3334 [00:01<00:00, 2026.05it/s]\n"
     ]
    },
    {
     "name": "stdout",
     "output_type": "stream",
     "text": [
      "\t eval recall@10: 0.0636\n",
      "\t eval precision@10: 0.0064\n",
      "\t eval ndcg@10: 0.0313\n",
      "\t eval map@10: 0.0217\n",
      "==============================\n"
     ]
    },
    {
     "name": "stderr",
     "output_type": "stream",
     "text": [
      "train: 100%|██████████| 305/305 [00:01<00:00, 217.69it/s]\n"
     ]
    },
    {
     "name": "stdout",
     "output_type": "stream",
     "text": [
      "Epoch 52 elapsed: 1.404s\n",
      "\t \u001b[32mtrain_loss: 0.4202\u001b[0m\n"
     ]
    },
    {
     "name": "stderr",
     "output_type": "stream",
     "text": [
      "eval_listwise: 100%|██████████| 3334/3334 [00:02<00:00, 1416.89it/s]\n"
     ]
    },
    {
     "name": "stdout",
     "output_type": "stream",
     "text": [
      "\t eval recall@10: 0.0637\n",
      "\t eval precision@10: 0.0064\n",
      "\t eval ndcg@10: 0.0315\n",
      "\t eval map@10: 0.0219\n",
      "==============================\n"
     ]
    },
    {
     "name": "stderr",
     "output_type": "stream",
     "text": [
      "train: 100%|██████████| 305/305 [00:01<00:00, 241.02it/s]\n"
     ]
    },
    {
     "name": "stdout",
     "output_type": "stream",
     "text": [
      "Epoch 53 elapsed: 1.270s\n",
      "\t \u001b[32mtrain_loss: 0.4171\u001b[0m\n"
     ]
    },
    {
     "name": "stderr",
     "output_type": "stream",
     "text": [
      "eval_listwise: 100%|██████████| 3334/3334 [00:01<00:00, 1920.63it/s]\n"
     ]
    },
    {
     "name": "stdout",
     "output_type": "stream",
     "text": [
      "\t eval recall@10: 0.0639\n",
      "\t eval precision@10: 0.0064\n",
      "\t eval ndcg@10: 0.0317\n",
      "\t eval map@10: 0.0221\n",
      "==============================\n"
     ]
    },
    {
     "name": "stderr",
     "output_type": "stream",
     "text": [
      "train: 100%|██████████| 305/305 [00:01<00:00, 202.79it/s]\n"
     ]
    },
    {
     "name": "stdout",
     "output_type": "stream",
     "text": [
      "Epoch 54 elapsed: 1.509s\n",
      "\t \u001b[32mtrain_loss: 0.4148\u001b[0m\n"
     ]
    },
    {
     "name": "stderr",
     "output_type": "stream",
     "text": [
      "eval_listwise: 100%|██████████| 3334/3334 [00:01<00:00, 2022.24it/s]\n"
     ]
    },
    {
     "name": "stdout",
     "output_type": "stream",
     "text": [
      "\t eval recall@10: 0.0639\n",
      "\t eval precision@10: 0.0064\n",
      "\t eval ndcg@10: 0.0317\n",
      "\t eval map@10: 0.0222\n",
      "==============================\n"
     ]
    },
    {
     "name": "stderr",
     "output_type": "stream",
     "text": [
      "train: 100%|██████████| 305/305 [00:01<00:00, 235.89it/s]\n"
     ]
    },
    {
     "name": "stdout",
     "output_type": "stream",
     "text": [
      "Epoch 55 elapsed: 1.297s\n",
      "\t \u001b[32mtrain_loss: 0.4132\u001b[0m\n"
     ]
    },
    {
     "name": "stderr",
     "output_type": "stream",
     "text": [
      "eval_listwise: 100%|██████████| 3334/3334 [00:01<00:00, 1957.84it/s]\n"
     ]
    },
    {
     "name": "stdout",
     "output_type": "stream",
     "text": [
      "\t eval recall@10: 0.0639\n",
      "\t eval precision@10: 0.0064\n",
      "\t eval ndcg@10: 0.0318\n",
      "\t eval map@10: 0.0223\n",
      "==============================\n"
     ]
    },
    {
     "name": "stderr",
     "output_type": "stream",
     "text": [
      "train: 100%|██████████| 305/305 [00:01<00:00, 236.28it/s]\n"
     ]
    },
    {
     "name": "stdout",
     "output_type": "stream",
     "text": [
      "Epoch 56 elapsed: 1.295s\n",
      "\t \u001b[32mtrain_loss: 0.4112\u001b[0m\n"
     ]
    },
    {
     "name": "stderr",
     "output_type": "stream",
     "text": [
      "eval_listwise: 100%|██████████| 3334/3334 [00:01<00:00, 1953.35it/s]\n"
     ]
    },
    {
     "name": "stdout",
     "output_type": "stream",
     "text": [
      "\t eval recall@10: 0.0642\n",
      "\t eval precision@10: 0.0064\n",
      "\t eval ndcg@10: 0.0320\n",
      "\t eval map@10: 0.0224\n",
      "==============================\n"
     ]
    },
    {
     "name": "stderr",
     "output_type": "stream",
     "text": [
      "train: 100%|██████████| 305/305 [00:01<00:00, 237.43it/s]\n"
     ]
    },
    {
     "name": "stdout",
     "output_type": "stream",
     "text": [
      "Epoch 57 elapsed: 1.288s\n",
      "\t \u001b[32mtrain_loss: 0.4084\u001b[0m\n"
     ]
    },
    {
     "name": "stderr",
     "output_type": "stream",
     "text": [
      "eval_listwise: 100%|██████████| 3334/3334 [00:01<00:00, 1948.54it/s]\n"
     ]
    },
    {
     "name": "stdout",
     "output_type": "stream",
     "text": [
      "\t eval recall@10: 0.0646\n",
      "\t eval precision@10: 0.0065\n",
      "\t eval ndcg@10: 0.0321\n",
      "\t eval map@10: 0.0225\n",
      "==============================\n"
     ]
    },
    {
     "name": "stderr",
     "output_type": "stream",
     "text": [
      "train: 100%|██████████| 305/305 [00:01<00:00, 239.09it/s]\n"
     ]
    },
    {
     "name": "stdout",
     "output_type": "stream",
     "text": [
      "Epoch 58 elapsed: 1.279s\n",
      "\t \u001b[32mtrain_loss: 0.407\u001b[0m\n"
     ]
    },
    {
     "name": "stderr",
     "output_type": "stream",
     "text": [
      "eval_listwise: 100%|██████████| 3334/3334 [00:01<00:00, 1975.71it/s]\n"
     ]
    },
    {
     "name": "stdout",
     "output_type": "stream",
     "text": [
      "\t eval recall@10: 0.0646\n",
      "\t eval precision@10: 0.0065\n",
      "\t eval ndcg@10: 0.0322\n",
      "\t eval map@10: 0.0226\n",
      "==============================\n"
     ]
    },
    {
     "name": "stderr",
     "output_type": "stream",
     "text": [
      "train: 100%|██████████| 305/305 [00:01<00:00, 239.71it/s]\n"
     ]
    },
    {
     "name": "stdout",
     "output_type": "stream",
     "text": [
      "Epoch 59 elapsed: 1.277s\n",
      "\t \u001b[32mtrain_loss: 0.405\u001b[0m\n"
     ]
    },
    {
     "name": "stderr",
     "output_type": "stream",
     "text": [
      "eval_listwise: 100%|██████████| 3334/3334 [00:01<00:00, 1953.80it/s]\n"
     ]
    },
    {
     "name": "stdout",
     "output_type": "stream",
     "text": [
      "\t eval recall@10: 0.0646\n",
      "\t eval precision@10: 0.0065\n",
      "\t eval ndcg@10: 0.0322\n",
      "\t eval map@10: 0.0225\n",
      "==============================\n"
     ]
    },
    {
     "name": "stderr",
     "output_type": "stream",
     "text": [
      "train: 100%|██████████| 305/305 [00:01<00:00, 233.50it/s]\n"
     ]
    },
    {
     "name": "stdout",
     "output_type": "stream",
     "text": [
      "Epoch 60 elapsed: 1.310s\n",
      "\t \u001b[32mtrain_loss: 0.4031\u001b[0m\n"
     ]
    },
    {
     "name": "stderr",
     "output_type": "stream",
     "text": [
      "eval_listwise: 100%|██████████| 3334/3334 [00:01<00:00, 1968.52it/s]\n"
     ]
    },
    {
     "name": "stdout",
     "output_type": "stream",
     "text": [
      "\t eval recall@10: 0.0646\n",
      "\t eval precision@10: 0.0065\n",
      "\t eval ndcg@10: 0.0324\n",
      "\t eval map@10: 0.0228\n",
      "==============================\n"
     ]
    },
    {
     "name": "stderr",
     "output_type": "stream",
     "text": [
      "train: 100%|██████████| 305/305 [00:01<00:00, 204.50it/s]\n"
     ]
    },
    {
     "name": "stdout",
     "output_type": "stream",
     "text": [
      "Epoch 61 elapsed: 1.495s\n",
      "\t \u001b[32mtrain_loss: 0.4012\u001b[0m\n"
     ]
    },
    {
     "name": "stderr",
     "output_type": "stream",
     "text": [
      "eval_listwise: 100%|██████████| 3334/3334 [00:01<00:00, 1849.97it/s]\n"
     ]
    },
    {
     "name": "stdout",
     "output_type": "stream",
     "text": [
      "\t eval recall@10: 0.0649\n",
      "\t eval precision@10: 0.0065\n",
      "\t eval ndcg@10: 0.0325\n",
      "\t eval map@10: 0.0228\n",
      "==============================\n"
     ]
    },
    {
     "name": "stderr",
     "output_type": "stream",
     "text": [
      "train: 100%|██████████| 305/305 [00:01<00:00, 226.15it/s]\n"
     ]
    },
    {
     "name": "stdout",
     "output_type": "stream",
     "text": [
      "Epoch 62 elapsed: 1.355s\n",
      "\t \u001b[32mtrain_loss: 0.4001\u001b[0m\n"
     ]
    },
    {
     "name": "stderr",
     "output_type": "stream",
     "text": [
      "eval_listwise: 100%|██████████| 3334/3334 [00:01<00:00, 1956.69it/s]\n"
     ]
    },
    {
     "name": "stdout",
     "output_type": "stream",
     "text": [
      "\t eval recall@10: 0.0652\n",
      "\t eval precision@10: 0.0065\n",
      "\t eval ndcg@10: 0.0328\n",
      "\t eval map@10: 0.0231\n",
      "==============================\n"
     ]
    },
    {
     "name": "stderr",
     "output_type": "stream",
     "text": [
      "train: 100%|██████████| 305/305 [00:01<00:00, 207.55it/s]\n"
     ]
    },
    {
     "name": "stdout",
     "output_type": "stream",
     "text": [
      "Epoch 63 elapsed: 1.473s\n",
      "\t \u001b[32mtrain_loss: 0.3985\u001b[0m\n"
     ]
    },
    {
     "name": "stderr",
     "output_type": "stream",
     "text": [
      "eval_listwise: 100%|██████████| 3334/3334 [00:01<00:00, 1959.49it/s]\n"
     ]
    },
    {
     "name": "stdout",
     "output_type": "stream",
     "text": [
      "\t eval recall@10: 0.0655\n",
      "\t eval precision@10: 0.0066\n",
      "\t eval ndcg@10: 0.0329\n",
      "\t eval map@10: 0.0232\n",
      "==============================\n"
     ]
    },
    {
     "name": "stderr",
     "output_type": "stream",
     "text": [
      "train: 100%|██████████| 305/305 [00:01<00:00, 242.77it/s]\n"
     ]
    },
    {
     "name": "stdout",
     "output_type": "stream",
     "text": [
      "Epoch 64 elapsed: 1.259s\n",
      "\t \u001b[32mtrain_loss: 0.3972\u001b[0m\n"
     ]
    },
    {
     "name": "stderr",
     "output_type": "stream",
     "text": [
      "eval_listwise: 100%|██████████| 3334/3334 [00:01<00:00, 1944.59it/s]\n"
     ]
    },
    {
     "name": "stdout",
     "output_type": "stream",
     "text": [
      "\t eval recall@10: 0.0655\n",
      "\t eval precision@10: 0.0066\n",
      "\t eval ndcg@10: 0.0328\n",
      "\t eval map@10: 0.0230\n",
      "==============================\n"
     ]
    },
    {
     "name": "stderr",
     "output_type": "stream",
     "text": [
      "train: 100%|██████████| 305/305 [00:01<00:00, 235.13it/s]\n"
     ]
    },
    {
     "name": "stdout",
     "output_type": "stream",
     "text": [
      "Epoch 65 elapsed: 1.301s\n",
      "\t \u001b[32mtrain_loss: 0.3954\u001b[0m\n"
     ]
    },
    {
     "name": "stderr",
     "output_type": "stream",
     "text": [
      "eval_listwise: 100%|██████████| 3334/3334 [00:01<00:00, 1945.38it/s]\n"
     ]
    },
    {
     "name": "stdout",
     "output_type": "stream",
     "text": [
      "\t eval recall@10: 0.0659\n",
      "\t eval precision@10: 0.0066\n",
      "\t eval ndcg@10: 0.0331\n",
      "\t eval map@10: 0.0233\n",
      "==============================\n"
     ]
    },
    {
     "name": "stderr",
     "output_type": "stream",
     "text": [
      "train: 100%|██████████| 305/305 [00:01<00:00, 205.74it/s]\n"
     ]
    },
    {
     "name": "stdout",
     "output_type": "stream",
     "text": [
      "Epoch 66 elapsed: 1.486s\n",
      "\t \u001b[32mtrain_loss: 0.3937\u001b[0m\n"
     ]
    },
    {
     "name": "stderr",
     "output_type": "stream",
     "text": [
      "eval_listwise: 100%|██████████| 3334/3334 [00:01<00:00, 1941.66it/s]\n"
     ]
    },
    {
     "name": "stdout",
     "output_type": "stream",
     "text": [
      "\t eval recall@10: 0.0659\n",
      "\t eval precision@10: 0.0066\n",
      "\t eval ndcg@10: 0.0331\n",
      "\t eval map@10: 0.0233\n",
      "==============================\n"
     ]
    },
    {
     "name": "stderr",
     "output_type": "stream",
     "text": [
      "train: 100%|██████████| 305/305 [00:01<00:00, 237.30it/s]\n"
     ]
    },
    {
     "name": "stdout",
     "output_type": "stream",
     "text": [
      "Epoch 67 elapsed: 1.289s\n",
      "\t \u001b[32mtrain_loss: 0.3931\u001b[0m\n"
     ]
    },
    {
     "name": "stderr",
     "output_type": "stream",
     "text": [
      "eval_listwise: 100%|██████████| 3334/3334 [00:01<00:00, 1889.82it/s]\n"
     ]
    },
    {
     "name": "stdout",
     "output_type": "stream",
     "text": [
      "\t eval recall@10: 0.0660\n",
      "\t eval precision@10: 0.0066\n",
      "\t eval ndcg@10: 0.0333\n",
      "\t eval map@10: 0.0235\n",
      "==============================\n"
     ]
    },
    {
     "name": "stderr",
     "output_type": "stream",
     "text": [
      "train: 100%|██████████| 305/305 [00:01<00:00, 232.33it/s]\n"
     ]
    },
    {
     "name": "stdout",
     "output_type": "stream",
     "text": [
      "Epoch 68 elapsed: 1.316s\n",
      "\t \u001b[32mtrain_loss: 0.3904\u001b[0m\n"
     ]
    },
    {
     "name": "stderr",
     "output_type": "stream",
     "text": [
      "eval_listwise: 100%|██████████| 3334/3334 [00:01<00:00, 1866.16it/s]\n"
     ]
    },
    {
     "name": "stdout",
     "output_type": "stream",
     "text": [
      "\t eval recall@10: 0.0663\n",
      "\t eval precision@10: 0.0066\n",
      "\t eval ndcg@10: 0.0334\n",
      "\t eval map@10: 0.0235\n",
      "==============================\n"
     ]
    },
    {
     "name": "stderr",
     "output_type": "stream",
     "text": [
      "train: 100%|██████████| 305/305 [00:01<00:00, 232.17it/s]\n"
     ]
    },
    {
     "name": "stdout",
     "output_type": "stream",
     "text": [
      "Epoch 69 elapsed: 1.318s\n",
      "\t \u001b[32mtrain_loss: 0.3895\u001b[0m\n"
     ]
    },
    {
     "name": "stderr",
     "output_type": "stream",
     "text": [
      "eval_listwise: 100%|██████████| 3334/3334 [00:01<00:00, 1785.60it/s]\n"
     ]
    },
    {
     "name": "stdout",
     "output_type": "stream",
     "text": [
      "\t eval recall@10: 0.0663\n",
      "\t eval precision@10: 0.0066\n",
      "\t eval ndcg@10: 0.0335\n",
      "\t eval map@10: 0.0237\n",
      "==============================\n"
     ]
    },
    {
     "name": "stderr",
     "output_type": "stream",
     "text": [
      "train: 100%|██████████| 305/305 [00:01<00:00, 244.57it/s]\n"
     ]
    },
    {
     "name": "stdout",
     "output_type": "stream",
     "text": [
      "Epoch 70 elapsed: 1.251s\n",
      "\t \u001b[32mtrain_loss: 0.3884\u001b[0m\n"
     ]
    },
    {
     "name": "stderr",
     "output_type": "stream",
     "text": [
      "eval_listwise: 100%|██████████| 3334/3334 [00:01<00:00, 1949.77it/s]\n"
     ]
    },
    {
     "name": "stdout",
     "output_type": "stream",
     "text": [
      "\t eval recall@10: 0.0662\n",
      "\t eval precision@10: 0.0066\n",
      "\t eval ndcg@10: 0.0335\n",
      "\t eval map@10: 0.0237\n",
      "==============================\n"
     ]
    },
    {
     "name": "stderr",
     "output_type": "stream",
     "text": [
      "train: 100%|██████████| 305/305 [00:01<00:00, 210.58it/s]\n"
     ]
    },
    {
     "name": "stdout",
     "output_type": "stream",
     "text": [
      "Epoch 71 elapsed: 1.454s\n",
      "\t \u001b[32mtrain_loss: 0.3875\u001b[0m\n"
     ]
    },
    {
     "name": "stderr",
     "output_type": "stream",
     "text": [
      "eval_listwise: 100%|██████████| 3334/3334 [00:01<00:00, 1959.30it/s]\n"
     ]
    },
    {
     "name": "stdout",
     "output_type": "stream",
     "text": [
      "\t eval recall@10: 0.0668\n",
      "\t eval precision@10: 0.0067\n",
      "\t eval ndcg@10: 0.0338\n",
      "\t eval map@10: 0.0240\n",
      "==============================\n"
     ]
    },
    {
     "name": "stderr",
     "output_type": "stream",
     "text": [
      "train: 100%|██████████| 305/305 [00:01<00:00, 235.38it/s]\n"
     ]
    },
    {
     "name": "stdout",
     "output_type": "stream",
     "text": [
      "Epoch 72 elapsed: 1.299s\n",
      "\t \u001b[32mtrain_loss: 0.3853\u001b[0m\n"
     ]
    },
    {
     "name": "stderr",
     "output_type": "stream",
     "text": [
      "eval_listwise: 100%|██████████| 3334/3334 [00:01<00:00, 1901.24it/s]\n"
     ]
    },
    {
     "name": "stdout",
     "output_type": "stream",
     "text": [
      "\t eval recall@10: 0.0671\n",
      "\t eval precision@10: 0.0067\n",
      "\t eval ndcg@10: 0.0340\n",
      "\t eval map@10: 0.0240\n",
      "==============================\n"
     ]
    },
    {
     "name": "stderr",
     "output_type": "stream",
     "text": [
      "train: 100%|██████████| 305/305 [00:01<00:00, 231.37it/s]\n"
     ]
    },
    {
     "name": "stdout",
     "output_type": "stream",
     "text": [
      "Epoch 73 elapsed: 1.322s\n",
      "\t \u001b[32mtrain_loss: 0.3846\u001b[0m\n"
     ]
    },
    {
     "name": "stderr",
     "output_type": "stream",
     "text": [
      "eval_listwise: 100%|██████████| 3334/3334 [00:01<00:00, 1878.73it/s]\n"
     ]
    },
    {
     "name": "stdout",
     "output_type": "stream",
     "text": [
      "\t eval recall@10: 0.0672\n",
      "\t eval precision@10: 0.0067\n",
      "\t eval ndcg@10: 0.0340\n",
      "\t eval map@10: 0.0240\n",
      "==============================\n"
     ]
    },
    {
     "name": "stderr",
     "output_type": "stream",
     "text": [
      "train: 100%|██████████| 305/305 [00:01<00:00, 247.50it/s]\n"
     ]
    },
    {
     "name": "stdout",
     "output_type": "stream",
     "text": [
      "Epoch 74 elapsed: 1.236s\n",
      "\t \u001b[32mtrain_loss: 0.3837\u001b[0m\n"
     ]
    },
    {
     "name": "stderr",
     "output_type": "stream",
     "text": [
      "eval_listwise: 100%|██████████| 3334/3334 [00:01<00:00, 2008.75it/s]\n"
     ]
    },
    {
     "name": "stdout",
     "output_type": "stream",
     "text": [
      "\t eval recall@10: 0.0669\n",
      "\t eval precision@10: 0.0067\n",
      "\t eval ndcg@10: 0.0341\n",
      "\t eval map@10: 0.0242\n",
      "==============================\n"
     ]
    },
    {
     "name": "stderr",
     "output_type": "stream",
     "text": [
      "train: 100%|██████████| 305/305 [00:01<00:00, 237.44it/s]\n"
     ]
    },
    {
     "name": "stdout",
     "output_type": "stream",
     "text": [
      "Epoch 75 elapsed: 1.288s\n",
      "\t \u001b[32mtrain_loss: 0.3819\u001b[0m\n"
     ]
    },
    {
     "name": "stderr",
     "output_type": "stream",
     "text": [
      "eval_listwise: 100%|██████████| 3334/3334 [00:01<00:00, 1972.66it/s]\n"
     ]
    },
    {
     "name": "stdout",
     "output_type": "stream",
     "text": [
      "\t eval recall@10: 0.0668\n",
      "\t eval precision@10: 0.0067\n",
      "\t eval ndcg@10: 0.0341\n",
      "\t eval map@10: 0.0243\n",
      "==============================\n"
     ]
    },
    {
     "name": "stderr",
     "output_type": "stream",
     "text": [
      "train: 100%|██████████| 305/305 [00:01<00:00, 236.17it/s]\n"
     ]
    },
    {
     "name": "stdout",
     "output_type": "stream",
     "text": [
      "Epoch 76 elapsed: 1.296s\n",
      "\t \u001b[32mtrain_loss: 0.3805\u001b[0m\n"
     ]
    },
    {
     "name": "stderr",
     "output_type": "stream",
     "text": [
      "eval_listwise: 100%|██████████| 3334/3334 [00:01<00:00, 1907.85it/s]\n"
     ]
    },
    {
     "name": "stdout",
     "output_type": "stream",
     "text": [
      "\t eval recall@10: 0.0668\n",
      "\t eval precision@10: 0.0067\n",
      "\t eval ndcg@10: 0.0341\n",
      "\t eval map@10: 0.0243\n",
      "==============================\n"
     ]
    },
    {
     "name": "stderr",
     "output_type": "stream",
     "text": [
      "train: 100%|██████████| 305/305 [00:01<00:00, 198.03it/s]\n"
     ]
    },
    {
     "name": "stdout",
     "output_type": "stream",
     "text": [
      "Epoch 77 elapsed: 1.545s\n",
      "\t \u001b[32mtrain_loss: 0.3803\u001b[0m\n"
     ]
    },
    {
     "name": "stderr",
     "output_type": "stream",
     "text": [
      "eval_listwise: 100%|██████████| 3334/3334 [00:01<00:00, 1994.61it/s]\n"
     ]
    },
    {
     "name": "stdout",
     "output_type": "stream",
     "text": [
      "\t eval recall@10: 0.0670\n",
      "\t eval precision@10: 0.0067\n",
      "\t eval ndcg@10: 0.0342\n",
      "\t eval map@10: 0.0244\n",
      "==============================\n"
     ]
    },
    {
     "name": "stderr",
     "output_type": "stream",
     "text": [
      "train: 100%|██████████| 305/305 [00:01<00:00, 238.96it/s]\n"
     ]
    },
    {
     "name": "stdout",
     "output_type": "stream",
     "text": [
      "Epoch 78 elapsed: 1.281s\n",
      "\t \u001b[32mtrain_loss: 0.3785\u001b[0m\n"
     ]
    },
    {
     "name": "stderr",
     "output_type": "stream",
     "text": [
      "eval_listwise: 100%|██████████| 3334/3334 [00:01<00:00, 1926.02it/s]\n"
     ]
    },
    {
     "name": "stdout",
     "output_type": "stream",
     "text": [
      "\t eval recall@10: 0.0672\n",
      "\t eval precision@10: 0.0067\n",
      "\t eval ndcg@10: 0.0344\n",
      "\t eval map@10: 0.0245\n",
      "==============================\n"
     ]
    },
    {
     "name": "stderr",
     "output_type": "stream",
     "text": [
      "train: 100%|██████████| 305/305 [00:01<00:00, 235.90it/s]\n"
     ]
    },
    {
     "name": "stdout",
     "output_type": "stream",
     "text": [
      "Epoch 79 elapsed: 1.298s\n",
      "\t \u001b[32mtrain_loss: 0.3779\u001b[0m\n"
     ]
    },
    {
     "name": "stderr",
     "output_type": "stream",
     "text": [
      "eval_listwise: 100%|██████████| 3334/3334 [00:01<00:00, 1934.72it/s]\n"
     ]
    },
    {
     "name": "stdout",
     "output_type": "stream",
     "text": [
      "\t eval recall@10: 0.0679\n",
      "\t eval precision@10: 0.0068\n",
      "\t eval ndcg@10: 0.0346\n",
      "\t eval map@10: 0.0246\n",
      "==============================\n"
     ]
    },
    {
     "name": "stderr",
     "output_type": "stream",
     "text": [
      "train: 100%|██████████| 305/305 [00:01<00:00, 191.29it/s]\n"
     ]
    },
    {
     "name": "stdout",
     "output_type": "stream",
     "text": [
      "Epoch 80 elapsed: 1.600s\n",
      "\t \u001b[32mtrain_loss: 0.3765\u001b[0m\n"
     ]
    },
    {
     "name": "stderr",
     "output_type": "stream",
     "text": [
      "eval_listwise: 100%|██████████| 3334/3334 [00:01<00:00, 1820.59it/s]\n"
     ]
    },
    {
     "name": "stdout",
     "output_type": "stream",
     "text": [
      "\t eval recall@10: 0.0680\n",
      "\t eval precision@10: 0.0068\n",
      "\t eval ndcg@10: 0.0346\n",
      "\t eval map@10: 0.0246\n",
      "==============================\n"
     ]
    },
    {
     "name": "stderr",
     "output_type": "stream",
     "text": [
      "train: 100%|██████████| 305/305 [00:01<00:00, 242.58it/s]\n"
     ]
    },
    {
     "name": "stdout",
     "output_type": "stream",
     "text": [
      "Epoch 81 elapsed: 1.261s\n",
      "\t \u001b[32mtrain_loss: 0.375\u001b[0m\n"
     ]
    },
    {
     "name": "stderr",
     "output_type": "stream",
     "text": [
      "eval_listwise: 100%|██████████| 3334/3334 [00:01<00:00, 1980.15it/s]\n"
     ]
    },
    {
     "name": "stdout",
     "output_type": "stream",
     "text": [
      "\t eval recall@10: 0.0681\n",
      "\t eval precision@10: 0.0068\n",
      "\t eval ndcg@10: 0.0347\n",
      "\t eval map@10: 0.0246\n",
      "==============================\n"
     ]
    },
    {
     "name": "stderr",
     "output_type": "stream",
     "text": [
      "train: 100%|██████████| 305/305 [00:01<00:00, 201.83it/s]\n"
     ]
    },
    {
     "name": "stdout",
     "output_type": "stream",
     "text": [
      "Epoch 82 elapsed: 1.515s\n",
      "\t \u001b[32mtrain_loss: 0.3752\u001b[0m\n"
     ]
    },
    {
     "name": "stderr",
     "output_type": "stream",
     "text": [
      "eval_listwise: 100%|██████████| 3334/3334 [00:01<00:00, 1947.61it/s]\n"
     ]
    },
    {
     "name": "stdout",
     "output_type": "stream",
     "text": [
      "\t eval recall@10: 0.0685\n",
      "\t eval precision@10: 0.0069\n",
      "\t eval ndcg@10: 0.0349\n",
      "\t eval map@10: 0.0248\n",
      "==============================\n"
     ]
    },
    {
     "name": "stderr",
     "output_type": "stream",
     "text": [
      "train: 100%|██████████| 305/305 [00:01<00:00, 244.68it/s]\n"
     ]
    },
    {
     "name": "stdout",
     "output_type": "stream",
     "text": [
      "Epoch 83 elapsed: 1.250s\n",
      "\t \u001b[32mtrain_loss: 0.3734\u001b[0m\n"
     ]
    },
    {
     "name": "stderr",
     "output_type": "stream",
     "text": [
      "eval_listwise: 100%|██████████| 3334/3334 [00:01<00:00, 1994.37it/s]\n"
     ]
    },
    {
     "name": "stdout",
     "output_type": "stream",
     "text": [
      "\t eval recall@10: 0.0688\n",
      "\t eval precision@10: 0.0069\n",
      "\t eval ndcg@10: 0.0351\n",
      "\t eval map@10: 0.0250\n",
      "==============================\n"
     ]
    },
    {
     "name": "stderr",
     "output_type": "stream",
     "text": [
      "train: 100%|██████████| 305/305 [00:01<00:00, 233.09it/s]\n"
     ]
    },
    {
     "name": "stdout",
     "output_type": "stream",
     "text": [
      "Epoch 84 elapsed: 1.313s\n",
      "\t \u001b[32mtrain_loss: 0.3726\u001b[0m\n"
     ]
    },
    {
     "name": "stderr",
     "output_type": "stream",
     "text": [
      "eval_listwise: 100%|██████████| 3334/3334 [00:01<00:00, 1963.67it/s]\n"
     ]
    },
    {
     "name": "stdout",
     "output_type": "stream",
     "text": [
      "\t eval recall@10: 0.0684\n",
      "\t eval precision@10: 0.0068\n",
      "\t eval ndcg@10: 0.0351\n",
      "\t eval map@10: 0.0251\n",
      "==============================\n"
     ]
    },
    {
     "name": "stderr",
     "output_type": "stream",
     "text": [
      "train: 100%|██████████| 305/305 [00:01<00:00, 207.53it/s]\n"
     ]
    },
    {
     "name": "stdout",
     "output_type": "stream",
     "text": [
      "Epoch 85 elapsed: 1.474s\n",
      "\t \u001b[32mtrain_loss: 0.3716\u001b[0m\n"
     ]
    },
    {
     "name": "stderr",
     "output_type": "stream",
     "text": [
      "eval_listwise: 100%|██████████| 3334/3334 [00:01<00:00, 1893.60it/s]\n"
     ]
    },
    {
     "name": "stdout",
     "output_type": "stream",
     "text": [
      "\t eval recall@10: 0.0688\n",
      "\t eval precision@10: 0.0069\n",
      "\t eval ndcg@10: 0.0353\n",
      "\t eval map@10: 0.0252\n",
      "==============================\n"
     ]
    },
    {
     "name": "stderr",
     "output_type": "stream",
     "text": [
      "train: 100%|██████████| 305/305 [00:01<00:00, 237.73it/s]\n"
     ]
    },
    {
     "name": "stdout",
     "output_type": "stream",
     "text": [
      "Epoch 86 elapsed: 1.286s\n",
      "\t \u001b[32mtrain_loss: 0.3706\u001b[0m\n"
     ]
    },
    {
     "name": "stderr",
     "output_type": "stream",
     "text": [
      "eval_listwise: 100%|██████████| 3334/3334 [00:01<00:00, 1886.69it/s]\n"
     ]
    },
    {
     "name": "stdout",
     "output_type": "stream",
     "text": [
      "\t eval recall@10: 0.0688\n",
      "\t eval precision@10: 0.0069\n",
      "\t eval ndcg@10: 0.0353\n",
      "\t eval map@10: 0.0252\n",
      "==============================\n"
     ]
    },
    {
     "name": "stderr",
     "output_type": "stream",
     "text": [
      "train: 100%|██████████| 305/305 [00:01<00:00, 230.16it/s]\n"
     ]
    },
    {
     "name": "stdout",
     "output_type": "stream",
     "text": [
      "Epoch 87 elapsed: 1.328s\n",
      "\t \u001b[32mtrain_loss: 0.3704\u001b[0m\n"
     ]
    },
    {
     "name": "stderr",
     "output_type": "stream",
     "text": [
      "eval_listwise: 100%|██████████| 3334/3334 [00:01<00:00, 1779.31it/s]\n"
     ]
    },
    {
     "name": "stdout",
     "output_type": "stream",
     "text": [
      "\t eval recall@10: 0.0686\n",
      "\t eval precision@10: 0.0069\n",
      "\t eval ndcg@10: 0.0351\n",
      "\t eval map@10: 0.0251\n",
      "==============================\n"
     ]
    },
    {
     "name": "stderr",
     "output_type": "stream",
     "text": [
      "train: 100%|██████████| 305/305 [00:01<00:00, 235.09it/s]\n"
     ]
    },
    {
     "name": "stdout",
     "output_type": "stream",
     "text": [
      "Epoch 88 elapsed: 1.301s\n",
      "\t \u001b[32mtrain_loss: 0.3683\u001b[0m\n"
     ]
    },
    {
     "name": "stderr",
     "output_type": "stream",
     "text": [
      "eval_listwise: 100%|██████████| 3334/3334 [00:01<00:00, 1995.76it/s]\n"
     ]
    },
    {
     "name": "stdout",
     "output_type": "stream",
     "text": [
      "\t eval recall@10: 0.0688\n",
      "\t eval precision@10: 0.0069\n",
      "\t eval ndcg@10: 0.0352\n",
      "\t eval map@10: 0.0252\n",
      "==============================\n"
     ]
    },
    {
     "name": "stderr",
     "output_type": "stream",
     "text": [
      "train: 100%|██████████| 305/305 [00:01<00:00, 245.48it/s]\n"
     ]
    },
    {
     "name": "stdout",
     "output_type": "stream",
     "text": [
      "Epoch 89 elapsed: 1.246s\n",
      "\t \u001b[32mtrain_loss: 0.3682\u001b[0m\n"
     ]
    },
    {
     "name": "stderr",
     "output_type": "stream",
     "text": [
      "eval_listwise: 100%|██████████| 3334/3334 [00:02<00:00, 1520.38it/s]\n"
     ]
    },
    {
     "name": "stdout",
     "output_type": "stream",
     "text": [
      "\t eval recall@10: 0.0690\n",
      "\t eval precision@10: 0.0069\n",
      "\t eval ndcg@10: 0.0353\n",
      "\t eval map@10: 0.0252\n",
      "==============================\n"
     ]
    },
    {
     "name": "stderr",
     "output_type": "stream",
     "text": [
      "train: 100%|██████████| 305/305 [00:01<00:00, 240.83it/s]\n"
     ]
    },
    {
     "name": "stdout",
     "output_type": "stream",
     "text": [
      "Epoch 90 elapsed: 1.270s\n",
      "\t \u001b[32mtrain_loss: 0.3668\u001b[0m\n"
     ]
    },
    {
     "name": "stderr",
     "output_type": "stream",
     "text": [
      "eval_listwise: 100%|██████████| 3334/3334 [00:01<00:00, 2004.25it/s]\n"
     ]
    },
    {
     "name": "stdout",
     "output_type": "stream",
     "text": [
      "\t eval recall@10: 0.0690\n",
      "\t eval precision@10: 0.0069\n",
      "\t eval ndcg@10: 0.0353\n",
      "\t eval map@10: 0.0252\n",
      "==============================\n"
     ]
    },
    {
     "name": "stderr",
     "output_type": "stream",
     "text": [
      "train: 100%|██████████| 305/305 [00:01<00:00, 232.47it/s]\n"
     ]
    },
    {
     "name": "stdout",
     "output_type": "stream",
     "text": [
      "Epoch 91 elapsed: 1.316s\n",
      "\t \u001b[32mtrain_loss: 0.3669\u001b[0m\n"
     ]
    },
    {
     "name": "stderr",
     "output_type": "stream",
     "text": [
      "eval_listwise: 100%|██████████| 3334/3334 [00:01<00:00, 1925.64it/s]\n"
     ]
    },
    {
     "name": "stdout",
     "output_type": "stream",
     "text": [
      "\t eval recall@10: 0.0694\n",
      "\t eval precision@10: 0.0069\n",
      "\t eval ndcg@10: 0.0354\n",
      "\t eval map@10: 0.0252\n",
      "==============================\n"
     ]
    },
    {
     "name": "stderr",
     "output_type": "stream",
     "text": [
      "train: 100%|██████████| 305/305 [00:01<00:00, 246.47it/s]\n"
     ]
    },
    {
     "name": "stdout",
     "output_type": "stream",
     "text": [
      "Epoch 92 elapsed: 1.241s\n",
      "\t \u001b[32mtrain_loss: 0.3654\u001b[0m\n"
     ]
    },
    {
     "name": "stderr",
     "output_type": "stream",
     "text": [
      "eval_listwise: 100%|██████████| 3334/3334 [00:01<00:00, 1916.54it/s]\n"
     ]
    },
    {
     "name": "stdout",
     "output_type": "stream",
     "text": [
      "\t eval recall@10: 0.0697\n",
      "\t eval precision@10: 0.0070\n",
      "\t eval ndcg@10: 0.0356\n",
      "\t eval map@10: 0.0254\n",
      "==============================\n"
     ]
    },
    {
     "name": "stderr",
     "output_type": "stream",
     "text": [
      "train: 100%|██████████| 305/305 [00:01<00:00, 240.89it/s]\n"
     ]
    },
    {
     "name": "stdout",
     "output_type": "stream",
     "text": [
      "Epoch 93 elapsed: 1.270s\n",
      "\t \u001b[32mtrain_loss: 0.3646\u001b[0m\n"
     ]
    },
    {
     "name": "stderr",
     "output_type": "stream",
     "text": [
      "eval_listwise: 100%|██████████| 3334/3334 [00:01<00:00, 1970.97it/s]\n"
     ]
    },
    {
     "name": "stdout",
     "output_type": "stream",
     "text": [
      "\t eval recall@10: 0.0701\n",
      "\t eval precision@10: 0.0070\n",
      "\t eval ndcg@10: 0.0357\n",
      "\t eval map@10: 0.0254\n",
      "==============================\n"
     ]
    },
    {
     "name": "stderr",
     "output_type": "stream",
     "text": [
      "train: 100%|██████████| 305/305 [00:01<00:00, 238.39it/s]\n"
     ]
    },
    {
     "name": "stdout",
     "output_type": "stream",
     "text": [
      "Epoch 94 elapsed: 1.283s\n",
      "\t \u001b[32mtrain_loss: 0.3631\u001b[0m\n"
     ]
    },
    {
     "name": "stderr",
     "output_type": "stream",
     "text": [
      "eval_listwise: 100%|██████████| 3334/3334 [00:01<00:00, 1903.35it/s]\n"
     ]
    },
    {
     "name": "stdout",
     "output_type": "stream",
     "text": [
      "\t eval recall@10: 0.0708\n",
      "\t eval precision@10: 0.0071\n",
      "\t eval ndcg@10: 0.0359\n",
      "\t eval map@10: 0.0254\n",
      "==============================\n"
     ]
    },
    {
     "name": "stderr",
     "output_type": "stream",
     "text": [
      "train: 100%|██████████| 305/305 [00:01<00:00, 237.17it/s]\n"
     ]
    },
    {
     "name": "stdout",
     "output_type": "stream",
     "text": [
      "Epoch 95 elapsed: 1.290s\n",
      "\t \u001b[32mtrain_loss: 0.3625\u001b[0m\n"
     ]
    },
    {
     "name": "stderr",
     "output_type": "stream",
     "text": [
      "eval_listwise: 100%|██████████| 3334/3334 [00:01<00:00, 1944.89it/s]\n"
     ]
    },
    {
     "name": "stdout",
     "output_type": "stream",
     "text": [
      "\t eval recall@10: 0.0715\n",
      "\t eval precision@10: 0.0072\n",
      "\t eval ndcg@10: 0.0361\n",
      "\t eval map@10: 0.0255\n",
      "==============================\n"
     ]
    },
    {
     "name": "stderr",
     "output_type": "stream",
     "text": [
      "train: 100%|██████████| 305/305 [00:01<00:00, 242.09it/s]\n"
     ]
    },
    {
     "name": "stdout",
     "output_type": "stream",
     "text": [
      "Epoch 96 elapsed: 1.263s\n",
      "\t \u001b[32mtrain_loss: 0.3615\u001b[0m\n"
     ]
    },
    {
     "name": "stderr",
     "output_type": "stream",
     "text": [
      "eval_listwise: 100%|██████████| 3334/3334 [00:01<00:00, 1966.79it/s]\n"
     ]
    },
    {
     "name": "stdout",
     "output_type": "stream",
     "text": [
      "\t eval recall@10: 0.0720\n",
      "\t eval precision@10: 0.0072\n",
      "\t eval ndcg@10: 0.0362\n",
      "\t eval map@10: 0.0255\n",
      "==============================\n"
     ]
    },
    {
     "name": "stderr",
     "output_type": "stream",
     "text": [
      "train: 100%|██████████| 305/305 [00:01<00:00, 227.86it/s]\n"
     ]
    },
    {
     "name": "stdout",
     "output_type": "stream",
     "text": [
      "Epoch 97 elapsed: 1.343s\n",
      "\t \u001b[32mtrain_loss: 0.361\u001b[0m\n"
     ]
    },
    {
     "name": "stderr",
     "output_type": "stream",
     "text": [
      "eval_listwise: 100%|██████████| 3334/3334 [00:01<00:00, 1951.58it/s]\n"
     ]
    },
    {
     "name": "stdout",
     "output_type": "stream",
     "text": [
      "\t eval recall@10: 0.0722\n",
      "\t eval precision@10: 0.0072\n",
      "\t eval ndcg@10: 0.0363\n",
      "\t eval map@10: 0.0256\n",
      "==============================\n"
     ]
    },
    {
     "name": "stderr",
     "output_type": "stream",
     "text": [
      "train: 100%|██████████| 305/305 [00:01<00:00, 240.67it/s]\n"
     ]
    },
    {
     "name": "stdout",
     "output_type": "stream",
     "text": [
      "Epoch 98 elapsed: 1.271s\n",
      "\t \u001b[32mtrain_loss: 0.3607\u001b[0m\n"
     ]
    },
    {
     "name": "stderr",
     "output_type": "stream",
     "text": [
      "eval_listwise: 100%|██████████| 3334/3334 [00:01<00:00, 1895.05it/s]\n"
     ]
    },
    {
     "name": "stdout",
     "output_type": "stream",
     "text": [
      "\t eval recall@10: 0.0720\n",
      "\t eval precision@10: 0.0072\n",
      "\t eval ndcg@10: 0.0363\n",
      "\t eval map@10: 0.0256\n",
      "==============================\n"
     ]
    },
    {
     "name": "stderr",
     "output_type": "stream",
     "text": [
      "train: 100%|██████████| 305/305 [00:01<00:00, 220.24it/s]\n"
     ]
    },
    {
     "name": "stdout",
     "output_type": "stream",
     "text": [
      "Epoch 99 elapsed: 1.388s\n",
      "\t \u001b[32mtrain_loss: 0.3589\u001b[0m\n"
     ]
    },
    {
     "name": "stderr",
     "output_type": "stream",
     "text": [
      "eval_listwise: 100%|██████████| 3334/3334 [00:01<00:00, 1915.11it/s]\n"
     ]
    },
    {
     "name": "stdout",
     "output_type": "stream",
     "text": [
      "\t eval recall@10: 0.0722\n",
      "\t eval precision@10: 0.0072\n",
      "\t eval ndcg@10: 0.0363\n",
      "\t eval map@10: 0.0256\n",
      "==============================\n"
     ]
    },
    {
     "name": "stderr",
     "output_type": "stream",
     "text": [
      "train: 100%|██████████| 305/305 [00:01<00:00, 243.21it/s]\n"
     ]
    },
    {
     "name": "stdout",
     "output_type": "stream",
     "text": [
      "Epoch 100 elapsed: 1.258s\n",
      "\t \u001b[32mtrain_loss: 0.3581\u001b[0m\n"
     ]
    },
    {
     "name": "stderr",
     "output_type": "stream",
     "text": [
      "eval_listwise: 100%|██████████| 3334/3334 [00:01<00:00, 2019.75it/s]\n"
     ]
    },
    {
     "name": "stdout",
     "output_type": "stream",
     "text": [
      "\t eval recall@10: 0.0727\n",
      "\t eval precision@10: 0.0073\n",
      "\t eval ndcg@10: 0.0365\n",
      "\t eval map@10: 0.0257\n",
      "==============================\n"
     ]
    },
    {
     "name": "stderr",
     "output_type": "stream",
     "text": [
      "train: 100%|██████████| 305/305 [00:01<00:00, 246.00it/s]\n"
     ]
    },
    {
     "name": "stdout",
     "output_type": "stream",
     "text": [
      "Epoch 101 elapsed: 1.243s\n",
      "\t \u001b[32mtrain_loss: 0.3576\u001b[0m\n"
     ]
    },
    {
     "name": "stderr",
     "output_type": "stream",
     "text": [
      "eval_listwise: 100%|██████████| 3334/3334 [00:01<00:00, 1943.44it/s]\n"
     ]
    },
    {
     "name": "stdout",
     "output_type": "stream",
     "text": [
      "\t eval recall@10: 0.0732\n",
      "\t eval precision@10: 0.0073\n",
      "\t eval ndcg@10: 0.0367\n",
      "\t eval map@10: 0.0258\n",
      "==============================\n"
     ]
    },
    {
     "name": "stderr",
     "output_type": "stream",
     "text": [
      "train: 100%|██████████| 305/305 [00:01<00:00, 249.69it/s]\n"
     ]
    },
    {
     "name": "stdout",
     "output_type": "stream",
     "text": [
      "Epoch 102 elapsed: 1.225s\n",
      "\t \u001b[32mtrain_loss: 0.3569\u001b[0m\n"
     ]
    },
    {
     "name": "stderr",
     "output_type": "stream",
     "text": [
      "eval_listwise: 100%|██████████| 3334/3334 [00:01<00:00, 1970.11it/s]\n"
     ]
    },
    {
     "name": "stdout",
     "output_type": "stream",
     "text": [
      "\t eval recall@10: 0.0737\n",
      "\t eval precision@10: 0.0074\n",
      "\t eval ndcg@10: 0.0369\n",
      "\t eval map@10: 0.0259\n",
      "==============================\n"
     ]
    },
    {
     "name": "stderr",
     "output_type": "stream",
     "text": [
      "train: 100%|██████████| 305/305 [00:01<00:00, 240.70it/s]\n"
     ]
    },
    {
     "name": "stdout",
     "output_type": "stream",
     "text": [
      "Epoch 103 elapsed: 1.272s\n",
      "\t \u001b[32mtrain_loss: 0.3565\u001b[0m\n"
     ]
    },
    {
     "name": "stderr",
     "output_type": "stream",
     "text": [
      "eval_listwise: 100%|██████████| 3334/3334 [00:01<00:00, 1958.35it/s]\n"
     ]
    },
    {
     "name": "stdout",
     "output_type": "stream",
     "text": [
      "\t eval recall@10: 0.0739\n",
      "\t eval precision@10: 0.0074\n",
      "\t eval ndcg@10: 0.0370\n",
      "\t eval map@10: 0.0259\n",
      "==============================\n"
     ]
    },
    {
     "name": "stderr",
     "output_type": "stream",
     "text": [
      "train: 100%|██████████| 305/305 [00:01<00:00, 245.64it/s]\n"
     ]
    },
    {
     "name": "stdout",
     "output_type": "stream",
     "text": [
      "Epoch 104 elapsed: 1.246s\n",
      "\t \u001b[32mtrain_loss: 0.3556\u001b[0m\n"
     ]
    },
    {
     "name": "stderr",
     "output_type": "stream",
     "text": [
      "eval_listwise: 100%|██████████| 3334/3334 [00:01<00:00, 1911.25it/s]\n"
     ]
    },
    {
     "name": "stdout",
     "output_type": "stream",
     "text": [
      "\t eval recall@10: 0.0735\n",
      "\t eval precision@10: 0.0073\n",
      "\t eval ndcg@10: 0.0368\n",
      "\t eval map@10: 0.0259\n",
      "==============================\n"
     ]
    },
    {
     "name": "stderr",
     "output_type": "stream",
     "text": [
      "train: 100%|██████████| 305/305 [00:01<00:00, 239.62it/s]\n"
     ]
    },
    {
     "name": "stdout",
     "output_type": "stream",
     "text": [
      "Epoch 105 elapsed: 1.277s\n",
      "\t \u001b[32mtrain_loss: 0.3547\u001b[0m\n"
     ]
    },
    {
     "name": "stderr",
     "output_type": "stream",
     "text": [
      "eval_listwise: 100%|██████████| 3334/3334 [00:01<00:00, 1969.11it/s]\n"
     ]
    },
    {
     "name": "stdout",
     "output_type": "stream",
     "text": [
      "\t eval recall@10: 0.0734\n",
      "\t eval precision@10: 0.0073\n",
      "\t eval ndcg@10: 0.0368\n",
      "\t eval map@10: 0.0259\n",
      "==============================\n"
     ]
    },
    {
     "name": "stderr",
     "output_type": "stream",
     "text": [
      "train: 100%|██████████| 305/305 [00:01<00:00, 236.43it/s]\n"
     ]
    },
    {
     "name": "stdout",
     "output_type": "stream",
     "text": [
      "Epoch 106 elapsed: 1.295s\n",
      "\t \u001b[32mtrain_loss: 0.354\u001b[0m\n"
     ]
    },
    {
     "name": "stderr",
     "output_type": "stream",
     "text": [
      "eval_listwise: 100%|██████████| 3334/3334 [00:01<00:00, 1935.41it/s]\n"
     ]
    },
    {
     "name": "stdout",
     "output_type": "stream",
     "text": [
      "\t eval recall@10: 0.0732\n",
      "\t eval precision@10: 0.0073\n",
      "\t eval ndcg@10: 0.0367\n",
      "\t eval map@10: 0.0258\n",
      "==============================\n"
     ]
    },
    {
     "name": "stderr",
     "output_type": "stream",
     "text": [
      "train: 100%|██████████| 305/305 [00:01<00:00, 234.00it/s]\n"
     ]
    },
    {
     "name": "stdout",
     "output_type": "stream",
     "text": [
      "Epoch 107 elapsed: 1.307s\n",
      "\t \u001b[32mtrain_loss: 0.3534\u001b[0m\n"
     ]
    },
    {
     "name": "stderr",
     "output_type": "stream",
     "text": [
      "eval_listwise: 100%|██████████| 3334/3334 [00:01<00:00, 1888.94it/s]\n"
     ]
    },
    {
     "name": "stdout",
     "output_type": "stream",
     "text": [
      "\t eval recall@10: 0.0731\n",
      "\t eval precision@10: 0.0073\n",
      "\t eval ndcg@10: 0.0367\n",
      "\t eval map@10: 0.0258\n",
      "==============================\n"
     ]
    },
    {
     "name": "stderr",
     "output_type": "stream",
     "text": [
      "train: 100%|██████████| 305/305 [00:01<00:00, 237.15it/s]\n"
     ]
    },
    {
     "name": "stdout",
     "output_type": "stream",
     "text": [
      "Epoch 108 elapsed: 1.291s\n",
      "\t \u001b[32mtrain_loss: 0.3533\u001b[0m\n"
     ]
    },
    {
     "name": "stderr",
     "output_type": "stream",
     "text": [
      "eval_listwise: 100%|██████████| 3334/3334 [00:02<00:00, 1431.03it/s]\n"
     ]
    },
    {
     "name": "stdout",
     "output_type": "stream",
     "text": [
      "\t eval recall@10: 0.0732\n",
      "\t eval precision@10: 0.0073\n",
      "\t eval ndcg@10: 0.0367\n",
      "\t eval map@10: 0.0258\n",
      "==============================\n"
     ]
    },
    {
     "name": "stderr",
     "output_type": "stream",
     "text": [
      "train: 100%|██████████| 305/305 [00:01<00:00, 244.91it/s]\n"
     ]
    },
    {
     "name": "stdout",
     "output_type": "stream",
     "text": [
      "Epoch 109 elapsed: 1.249s\n",
      "\t \u001b[32mtrain_loss: 0.3518\u001b[0m\n"
     ]
    },
    {
     "name": "stderr",
     "output_type": "stream",
     "text": [
      "eval_listwise: 100%|██████████| 3334/3334 [00:01<00:00, 2036.38it/s]\n"
     ]
    },
    {
     "name": "stdout",
     "output_type": "stream",
     "text": [
      "\t eval recall@10: 0.0733\n",
      "\t eval precision@10: 0.0073\n",
      "\t eval ndcg@10: 0.0367\n",
      "\t eval map@10: 0.0257\n",
      "==============================\n"
     ]
    },
    {
     "name": "stderr",
     "output_type": "stream",
     "text": [
      "train: 100%|██████████| 305/305 [00:01<00:00, 227.58it/s]\n"
     ]
    },
    {
     "name": "stdout",
     "output_type": "stream",
     "text": [
      "Epoch 110 elapsed: 1.345s\n",
      "\t \u001b[32mtrain_loss: 0.3515\u001b[0m\n"
     ]
    },
    {
     "name": "stderr",
     "output_type": "stream",
     "text": [
      "eval_listwise: 100%|██████████| 3334/3334 [00:01<00:00, 1941.83it/s]\n"
     ]
    },
    {
     "name": "stdout",
     "output_type": "stream",
     "text": [
      "\t eval recall@10: 0.0737\n",
      "\t eval precision@10: 0.0074\n",
      "\t eval ndcg@10: 0.0368\n",
      "\t eval map@10: 0.0258\n",
      "==============================\n"
     ]
    },
    {
     "name": "stderr",
     "output_type": "stream",
     "text": [
      "train: 100%|██████████| 305/305 [00:01<00:00, 203.90it/s]\n"
     ]
    },
    {
     "name": "stdout",
     "output_type": "stream",
     "text": [
      "Epoch 111 elapsed: 1.500s\n",
      "\t \u001b[32mtrain_loss: 0.351\u001b[0m\n"
     ]
    },
    {
     "name": "stderr",
     "output_type": "stream",
     "text": [
      "eval_listwise: 100%|██████████| 3334/3334 [00:01<00:00, 1919.35it/s]\n"
     ]
    },
    {
     "name": "stdout",
     "output_type": "stream",
     "text": [
      "\t eval recall@10: 0.0736\n",
      "\t eval precision@10: 0.0074\n",
      "\t eval ndcg@10: 0.0368\n",
      "\t eval map@10: 0.0258\n",
      "==============================\n"
     ]
    },
    {
     "name": "stderr",
     "output_type": "stream",
     "text": [
      "train: 100%|██████████| 305/305 [00:01<00:00, 230.69it/s]\n"
     ]
    },
    {
     "name": "stdout",
     "output_type": "stream",
     "text": [
      "Epoch 112 elapsed: 1.326s\n",
      "\t \u001b[32mtrain_loss: 0.3496\u001b[0m\n"
     ]
    },
    {
     "name": "stderr",
     "output_type": "stream",
     "text": [
      "eval_listwise: 100%|██████████| 3334/3334 [00:01<00:00, 1992.68it/s]\n"
     ]
    },
    {
     "name": "stdout",
     "output_type": "stream",
     "text": [
      "\t eval recall@10: 0.0736\n",
      "\t eval precision@10: 0.0074\n",
      "\t eval ndcg@10: 0.0368\n",
      "\t eval map@10: 0.0258\n",
      "==============================\n"
     ]
    },
    {
     "name": "stderr",
     "output_type": "stream",
     "text": [
      "train: 100%|██████████| 305/305 [00:01<00:00, 232.09it/s]\n"
     ]
    },
    {
     "name": "stdout",
     "output_type": "stream",
     "text": [
      "Epoch 113 elapsed: 1.318s\n",
      "\t \u001b[32mtrain_loss: 0.3495\u001b[0m\n"
     ]
    },
    {
     "name": "stderr",
     "output_type": "stream",
     "text": [
      "eval_listwise: 100%|██████████| 3334/3334 [00:01<00:00, 1975.88it/s]\n"
     ]
    },
    {
     "name": "stdout",
     "output_type": "stream",
     "text": [
      "\t eval recall@10: 0.0736\n",
      "\t eval precision@10: 0.0074\n",
      "\t eval ndcg@10: 0.0368\n",
      "\t eval map@10: 0.0258\n",
      "==============================\n"
     ]
    },
    {
     "name": "stderr",
     "output_type": "stream",
     "text": [
      "train: 100%|██████████| 305/305 [00:01<00:00, 231.78it/s]\n"
     ]
    },
    {
     "name": "stdout",
     "output_type": "stream",
     "text": [
      "Epoch 114 elapsed: 1.320s\n",
      "\t \u001b[32mtrain_loss: 0.3491\u001b[0m\n"
     ]
    },
    {
     "name": "stderr",
     "output_type": "stream",
     "text": [
      "eval_listwise: 100%|██████████| 3334/3334 [00:01<00:00, 1913.82it/s]\n"
     ]
    },
    {
     "name": "stdout",
     "output_type": "stream",
     "text": [
      "\t eval recall@10: 0.0735\n",
      "\t eval precision@10: 0.0073\n",
      "\t eval ndcg@10: 0.0368\n",
      "\t eval map@10: 0.0258\n",
      "==============================\n"
     ]
    },
    {
     "name": "stderr",
     "output_type": "stream",
     "text": [
      "train: 100%|██████████| 305/305 [00:01<00:00, 246.56it/s]\n"
     ]
    },
    {
     "name": "stdout",
     "output_type": "stream",
     "text": [
      "Epoch 115 elapsed: 1.240s\n",
      "\t \u001b[32mtrain_loss: 0.3483\u001b[0m\n"
     ]
    },
    {
     "name": "stderr",
     "output_type": "stream",
     "text": [
      "eval_listwise: 100%|██████████| 3334/3334 [00:01<00:00, 1973.56it/s]\n"
     ]
    },
    {
     "name": "stdout",
     "output_type": "stream",
     "text": [
      "\t eval recall@10: 0.0738\n",
      "\t eval precision@10: 0.0074\n",
      "\t eval ndcg@10: 0.0369\n",
      "\t eval map@10: 0.0258\n",
      "==============================\n"
     ]
    },
    {
     "name": "stderr",
     "output_type": "stream",
     "text": [
      "train: 100%|██████████| 305/305 [00:01<00:00, 242.17it/s]\n"
     ]
    },
    {
     "name": "stdout",
     "output_type": "stream",
     "text": [
      "Epoch 116 elapsed: 1.263s\n",
      "\t \u001b[32mtrain_loss: 0.3481\u001b[0m\n"
     ]
    },
    {
     "name": "stderr",
     "output_type": "stream",
     "text": [
      "eval_listwise: 100%|██████████| 3334/3334 [00:01<00:00, 1970.63it/s]\n"
     ]
    },
    {
     "name": "stdout",
     "output_type": "stream",
     "text": [
      "\t eval recall@10: 0.0741\n",
      "\t eval precision@10: 0.0074\n",
      "\t eval ndcg@10: 0.0369\n",
      "\t eval map@10: 0.0258\n",
      "==============================\n"
     ]
    },
    {
     "name": "stderr",
     "output_type": "stream",
     "text": [
      "train: 100%|██████████| 305/305 [00:01<00:00, 205.69it/s]\n"
     ]
    },
    {
     "name": "stdout",
     "output_type": "stream",
     "text": [
      "Epoch 117 elapsed: 1.487s\n",
      "\t \u001b[32mtrain_loss: 0.3468\u001b[0m\n"
     ]
    },
    {
     "name": "stderr",
     "output_type": "stream",
     "text": [
      "eval_listwise: 100%|██████████| 3334/3334 [00:01<00:00, 1721.54it/s]\n"
     ]
    },
    {
     "name": "stdout",
     "output_type": "stream",
     "text": [
      "\t eval recall@10: 0.0740\n",
      "\t eval precision@10: 0.0074\n",
      "\t eval ndcg@10: 0.0369\n",
      "\t eval map@10: 0.0259\n",
      "==============================\n"
     ]
    },
    {
     "name": "stderr",
     "output_type": "stream",
     "text": [
      "train: 100%|██████████| 305/305 [00:01<00:00, 244.35it/s]\n"
     ]
    },
    {
     "name": "stdout",
     "output_type": "stream",
     "text": [
      "Epoch 118 elapsed: 1.253s\n",
      "\t \u001b[32mtrain_loss: 0.3468\u001b[0m\n"
     ]
    },
    {
     "name": "stderr",
     "output_type": "stream",
     "text": [
      "eval_listwise: 100%|██████████| 3334/3334 [00:01<00:00, 2003.68it/s]\n"
     ]
    },
    {
     "name": "stdout",
     "output_type": "stream",
     "text": [
      "\t eval recall@10: 0.0742\n",
      "\t eval precision@10: 0.0074\n",
      "\t eval ndcg@10: 0.0370\n",
      "\t eval map@10: 0.0259\n",
      "==============================\n"
     ]
    },
    {
     "name": "stderr",
     "output_type": "stream",
     "text": [
      "train: 100%|██████████| 305/305 [00:01<00:00, 204.02it/s]\n"
     ]
    },
    {
     "name": "stdout",
     "output_type": "stream",
     "text": [
      "Epoch 119 elapsed: 1.498s\n",
      "\t \u001b[32mtrain_loss: 0.3462\u001b[0m\n"
     ]
    },
    {
     "name": "stderr",
     "output_type": "stream",
     "text": [
      "eval_listwise: 100%|██████████| 3334/3334 [00:01<00:00, 1987.75it/s]\n"
     ]
    },
    {
     "name": "stdout",
     "output_type": "stream",
     "text": [
      "\t eval recall@10: 0.0738\n",
      "\t eval precision@10: 0.0074\n",
      "\t eval ndcg@10: 0.0369\n",
      "\t eval map@10: 0.0258\n",
      "==============================\n"
     ]
    },
    {
     "name": "stderr",
     "output_type": "stream",
     "text": [
      "train: 100%|██████████| 305/305 [00:01<00:00, 240.57it/s]\n"
     ]
    },
    {
     "name": "stdout",
     "output_type": "stream",
     "text": [
      "Epoch 120 elapsed: 1.271s\n",
      "\t \u001b[32mtrain_loss: 0.3457\u001b[0m\n"
     ]
    },
    {
     "name": "stderr",
     "output_type": "stream",
     "text": [
      "eval_listwise: 100%|██████████| 3334/3334 [00:01<00:00, 1956.39it/s]\n"
     ]
    },
    {
     "name": "stdout",
     "output_type": "stream",
     "text": [
      "\t eval recall@10: 0.0740\n",
      "\t eval precision@10: 0.0074\n",
      "\t eval ndcg@10: 0.0370\n",
      "\t eval map@10: 0.0259\n",
      "==============================\n",
      "Thời gian thực hiện: 417.566458 giây\n"
     ]
    }
   ],
   "source": [
    "from libreco.algorithms import BPR\n",
    "model = BPR(\n",
    "        \"ranking\",\n",
    "        data_info,\n",
    "        embed_size=32,\n",
    "        n_epochs=120,\n",
    "        lr=1e-4,\n",
    "        lr_decay=False,\n",
    "        reg=1e-5,\n",
    "        batch_size=1024,\n",
    "        num_neg=1,\n",
    "        sampler=\"random\"\n",
    ")\n",
    "start_time = time.time()\n",
    "model.fit(\n",
    "    train_data,\n",
    "    neg_sampling=True,\n",
    "    verbose=2,\n",
    "    shuffle=True,\n",
    "    eval_data=test_data,\n",
    "    metrics=[\"recall\",\"precision\",\"ndcg\",\"map\"],\n",
    "    eval_batch_size=10000,\n",
    "    k=10,\n",
    "    eval_user_num=10000,\n",
    ")\n",
    "end_time = time.time()  # Kết thúc đo thời gian\n",
    "\n",
    "print(f\"Thời gian thực hiện: {end_time - start_time:.6f} giây\")"
   ]
  },
  {
   "cell_type": "code",
   "execution_count": 35,
   "id": "2940439b",
   "metadata": {
    "execution": {
     "iopub.execute_input": "2025-07-26T00:25:31.338743Z",
     "iopub.status.busy": "2025-07-26T00:25:31.337823Z",
     "iopub.status.idle": "2025-07-26T00:25:31.344338Z",
     "shell.execute_reply": "2025-07-26T00:25:31.343260Z"
    },
    "papermill": {
     "duration": 0.268932,
     "end_time": "2025-07-26T00:25:31.346188",
     "exception": false,
     "start_time": "2025-07-26T00:25:31.077256",
     "status": "completed"
    },
    "tags": []
   },
   "outputs": [],
   "source": [
    "def recommend_courses(model, user_course , num_recommendations=5):\n",
    "    recommendations = {}\n",
    "\n",
    "    # Dự đoán cho tất cả người dùng trong test_user với thanh tiến trình\n",
    "    for user_id in tqdm(user_course['user'].unique(), desc=\"Khuyến nghị cho người dùng\", unit=\"user\"):\n",
    "        # Lấy danh sách khóa học mà người dùng đã thíc\n",
    "        # Dự đoán cho tất cả các khóa học của người dùng (tắt chi tiết trong dự đoán)\n",
    "        recommended_courses = model.recommend_user(user=user_id,n_rec = num_recommendations)\n",
    "        recommended_courses = {key: value.tolist() if isinstance(value, np.ndarray) else value for key, value in recommended_courses.items()}\n",
    "        # Lấy top k khóa học dựa trên dự đoán\n",
    "        recommendations = recommendations | recommended_courses\n",
    "    return recommendations"
   ]
  },
  {
   "cell_type": "code",
   "execution_count": 36,
   "id": "af0d83c2",
   "metadata": {
    "execution": {
     "iopub.execute_input": "2025-07-26T00:25:31.858906Z",
     "iopub.status.busy": "2025-07-26T00:25:31.858501Z",
     "iopub.status.idle": "2025-07-26T00:25:31.867346Z",
     "shell.execute_reply": "2025-07-26T00:25:31.865988Z"
    },
    "papermill": {
     "duration": 0.266272,
     "end_time": "2025-07-26T00:25:31.869044",
     "exception": false,
     "start_time": "2025-07-26T00:25:31.602772",
     "status": "completed"
    },
    "tags": []
   },
   "outputs": [],
   "source": [
    "def recommend_courses_with_negative_sampling(model, \n",
    "                                             user_course_train_df, \n",
    "                                             user_course_test_df, \n",
    "                                             all_course_ids, \n",
    "                                             num_negatives=100):\n",
    "    \"\"\"\n",
    "    Trả về recommendations dạng {user_id: [item_ids]} gồm 1 positive + N negative, sắp xếp theo điểm dự đoán.\n",
    "    \n",
    "    Params:\n",
    "        model: object có hàm predict(user_id, item_id)\n",
    "        user_course_train_df: DataFrame với cột ['user_id', 'course_id']\n",
    "        user_course_test_df: DataFrame với cột ['user_id', 'course_id'], mỗi user chỉ 1 dòng\n",
    "        all_course_ids: list hoặc Series chứa toàn bộ course_id\n",
    "        num_negatives: số lượng mẫu âm\n",
    "    \n",
    "    Returns:\n",
    "        recommendations: dict {user_id: list[item_id]}, sắp xếp theo điểm dự đoán\n",
    "    \"\"\"\n",
    "    from tqdm import tqdm\n",
    "    import numpy as np\n",
    "\n",
    "    # Tiền xử lý: gom user -> list[course_id]\n",
    "    user_train_dict = user_course_train_df.groupby(\"user\")[\"item\"].apply(set).to_dict()\n",
    "    user_test_dict = user_course_test_df.set_index(\"user\")[\"item\"].to_dict()\n",
    "    \n",
    "    recommendations = {}\n",
    "    \n",
    "    for i, (user_id, true_item) in enumerate(tqdm(user_test_dict.items(), \n",
    "                                                   desc=\"Khuyến nghị với negative sampling\", unit=\"user\")):\n",
    "        if i == 0:\n",
    "            print(\"Ví dụ user:\", user_id)\n",
    "\n",
    "        train_items = user_train_dict.get(user_id, set())\n",
    "        excluded_items = train_items.union({true_item})\n",
    "\n",
    "        # Lấy negative items chưa tương tác\n",
    "        negative_candidates = [item for item in all_course_ids if item not in excluded_items]\n",
    "\n",
    "        if len(negative_candidates) < num_negatives:\n",
    "            continue  # Bỏ qua user nếu không đủ negative samples\n",
    "\n",
    "        negative_samples = np.random.choice(negative_candidates, num_negatives, replace=False).tolist()\n",
    "        candidate_items = [true_item] + negative_samples\n",
    "\n",
    "        # Dự đoán điểm\n",
    "        user_ids = [user_id] * len(candidate_items)\n",
    "        scores = model.predict(user_ids, candidate_items)\n",
    "        ranked_items = [item for _, item in sorted(zip(scores, candidate_items), reverse=True)]\n",
    "\n",
    "        recommendations[user_id] = ranked_items\n",
    "\n",
    "    return recommendations"
   ]
  },
  {
   "cell_type": "code",
   "execution_count": 37,
   "id": "d2bfcbe5",
   "metadata": {
    "execution": {
     "iopub.execute_input": "2025-07-26T00:25:32.478668Z",
     "iopub.status.busy": "2025-07-26T00:25:32.478253Z",
     "iopub.status.idle": "2025-07-26T00:25:32.498874Z",
     "shell.execute_reply": "2025-07-26T00:25:32.497631Z"
    },
    "papermill": {
     "duration": 0.301361,
     "end_time": "2025-07-26T00:25:32.501312",
     "exception": false,
     "start_time": "2025-07-26T00:25:32.199951",
     "status": "completed"
    },
    "tags": []
   },
   "outputs": [],
   "source": [
    "import numpy as np\n",
    "\n",
    "# Precision@5\n",
    "def precision_at_k(y_true, recommendations, k=5):\n",
    "    precision_scores = []\n",
    "    for user, recommended_courses in recommendations.items():\n",
    "        true_courses = y_true.get(user, [])\n",
    "        if not true_courses:\n",
    "            continue\n",
    "        top_k_pred = recommended_courses[:k]\n",
    "        relevant = sum(1 for course in top_k_pred if course in true_courses)\n",
    "        precision_scores.append(relevant / k)\n",
    "    return np.mean(precision_scores) if precision_scores else 0.0\n",
    "\n",
    "# Recall@5\n",
    "def recall_at_k(y_true, recommendations, k=5):\n",
    "    recall_scores = []\n",
    "    for user, recommended_courses in recommendations.items():\n",
    "        true_courses = y_true.get(user, [])\n",
    "        if not true_courses:\n",
    "            continue\n",
    "        top_k_pred = recommended_courses[:k]\n",
    "        relevant = sum(1 for course in top_k_pred if course in true_courses)\n",
    "        recall_scores.append(relevant / len(true_courses))\n",
    "    return np.mean(recall_scores) if recall_scores else 0.0\n",
    "\n",
    "# Hit Rate@5\n",
    "def hit_rate_at_k(y_true, recommendations, k=5):\n",
    "    hit_rate_scores = []\n",
    "    for user, recommended_courses in recommendations.items():\n",
    "        true_courses = y_true.get(user, [])\n",
    "        if not true_courses:\n",
    "            continue\n",
    "        top_k_pred = recommended_courses[:k]\n",
    "        relevant = any(course in true_courses for course in top_k_pred)\n",
    "        hit_rate_scores.append(int(relevant))\n",
    "    return np.mean(hit_rate_scores) if hit_rate_scores else 0.0\n",
    "\n",
    "# NDCG@5\n",
    "def ndcg_at_k(y_true, recommendations, k=5):\n",
    "    dcg_scores = []\n",
    "    for user, recommended_courses in recommendations.items():\n",
    "        true_courses = y_true.get(user, [])\n",
    "        if not true_courses:\n",
    "            continue\n",
    "        top_k_pred = recommended_courses[:k]\n",
    "        dcg_score = sum(1 / np.log2(i + 2) for i, course in enumerate(top_k_pred) if course in true_courses)\n",
    "        idcg_score = sum(1 / np.log2(i + 2) for i in range(min(k, len(true_courses))))\n",
    "        dcg_scores.append(dcg_score / idcg_score if idcg_score > 0 else 0.0)\n",
    "    return np.mean(dcg_scores) if dcg_scores else 0.0\n",
    "\n",
    "# MAP@5\n",
    "def map_at_k(y_true, recommendations, k=5):\n",
    "    ap_scores = []\n",
    "    for user, recommended_courses in recommendations.items():\n",
    "        true_courses = y_true.get(user, [])\n",
    "        if not true_courses:\n",
    "            continue\n",
    "        top_k_pred = recommended_courses[:k]\n",
    "        relevant = [1 if course in true_courses else 0 for course in top_k_pred]\n",
    "        if sum(relevant) == 0:\n",
    "            ap_scores.append(0.0)\n",
    "            continue\n",
    "        precision_at_i = []\n",
    "        for i in range(min(k, len(top_k_pred))):\n",
    "            if relevant[i]:\n",
    "                precision_at_i.append(sum(relevant[:i+1]) / (i+1))\n",
    "        ap = sum(precision_at_i) / min(len(true_courses), k)\n",
    "        ap_scores.append(ap)\n",
    "    return np.mean(ap_scores) if ap_scores else 0.0\n",
    "\n",
    "# F1 Score@5\n",
    "def f1_at_k(y_true, recommendations, k=5):\n",
    "    f1_scores = []\n",
    "    for user, recommended_courses in recommendations.items():\n",
    "        true_courses = y_true.get(user, [])\n",
    "        if not true_courses:\n",
    "            continue\n",
    "        top_k_pred = recommended_courses[:k]\n",
    "        relevant = sum(1 for course in top_k_pred if course in true_courses)\n",
    "        precision = relevant / k\n",
    "        recall = relevant / len(true_courses)\n",
    "        if precision + recall > 0:\n",
    "            f1 = 2 * (precision * recall) / (precision + recall)\n",
    "        else:\n",
    "            f1 = 0.0\n",
    "        f1_scores.append(f1)\n",
    "    return np.mean(f1_scores) if f1_scores else 0.0\n",
    "\n",
    "# Hàm đánh giá mô hình\n",
    "def evaluate_model(y_true, recommendations, k=5):\n",
    "    \"\"\"\n",
    "    Đánh giá mô hình với Precision@5, Recall@5, Hit Rate@5, NDCG@5, MAP@5, F1 Score@5.\n",
    "\n",
    "    Parameters:\n",
    "    y_true: DataFrame hoặc dict chứa các khóa học thực tế trong tập TEST.\n",
    "    recommendations: dict chứa các khóa học khuyến nghị.\n",
    "    k: Số khóa học top cần xét (default là 5).\n",
    "\n",
    "    Returns:\n",
    "    dict: Các độ đo Precision@5, Recall@5, Hit Rate@5, NDCG@5, MAP@5, F1 Score@5.\n",
    "    \"\"\"\n",
    "    # Chuyển y_true thành dict\n",
    "    if hasattr(y_true, 'set_index'):\n",
    "        y_true_dict = {}\n",
    "        for user, item in y_true.set_index('user')['item'].items():\n",
    "            y_true_dict[user] = [item] if not isinstance(item, (list, set)) else list(item)\n",
    "        y_true = y_true_dict\n",
    "    else:\n",
    "        y_true = {k: [v] if not isinstance(v, (list, set)) else list(v) for k, v in y_true.items()}\n",
    "\n",
    "    precision = precision_at_k(y_true, recommendations, k)\n",
    "    recall = recall_at_k(y_true, recommendations, k)\n",
    "    hit_rate = hit_rate_at_k(y_true, recommendations, k)\n",
    "    ndcg = ndcg_at_k(y_true, recommendations, k)\n",
    "    map_k = map_at_k(y_true, recommendations, k)\n",
    "    f1 = f1_at_k(y_true, recommendations, k)\n",
    "\n",
    "    return {\n",
    "        f\"Baseline\": f\"V{i+1}-BPRMF@{k}\",\n",
    "        f\"Precision\": round(precision,4),\n",
    "        f\"Recall\": round(recall,4),\n",
    "        f\"HitRate\": round(hit_rate,4),\n",
    "        f\"NDCG\": round(ndcg,4),\n",
    "        f\"MAP\": round(map_k,4),\n",
    "        f\"F1-score\": round(f1,4)\n",
    "    }"
   ]
  },
  {
   "cell_type": "code",
   "execution_count": 38,
   "id": "3238f773",
   "metadata": {
    "execution": {
     "iopub.execute_input": "2025-07-26T00:25:33.039450Z",
     "iopub.status.busy": "2025-07-26T00:25:33.039062Z",
     "iopub.status.idle": "2025-07-26T00:26:05.557119Z",
     "shell.execute_reply": "2025-07-26T00:26:05.555921Z"
    },
    "papermill": {
     "duration": 32.788655,
     "end_time": "2025-07-26T00:26:05.559378",
     "exception": false,
     "start_time": "2025-07-26T00:25:32.770723",
     "status": "completed"
    },
    "tags": []
   },
   "outputs": [
    {
     "name": "stderr",
     "output_type": "stream",
     "text": [
      "Khuyến nghị cho người dùng: 100%|██████████| 24052/24052 [00:32<00:00, 740.44user/s]"
     ]
    },
    {
     "name": "stdout",
     "output_type": "stream",
     "text": [
      "Thời gian thực hiện: 32.512711 giây\n"
     ]
    },
    {
     "name": "stderr",
     "output_type": "stream",
     "text": [
      "\n"
     ]
    }
   ],
   "source": [
    "start_time = time.time()\n",
    "results1 = recommend_courses(model,test,10)\n",
    "end_time = time.time()  # Kết thúc đo thời gian\n",
    "\n",
    "print(f\"Thời gian thực hiện: {end_time - start_time:.6f} giây\")"
   ]
  },
  {
   "cell_type": "code",
   "execution_count": 39,
   "id": "c49d550a",
   "metadata": {
    "execution": {
     "iopub.execute_input": "2025-07-26T00:26:06.218305Z",
     "iopub.status.busy": "2025-07-26T00:26:06.217818Z",
     "iopub.status.idle": "2025-07-26T00:26:06.472462Z",
     "shell.execute_reply": "2025-07-26T00:26:06.470937Z"
    },
    "papermill": {
     "duration": 0.640054,
     "end_time": "2025-07-26T00:26:06.474832",
     "exception": false,
     "start_time": "2025-07-26T00:26:05.834778",
     "status": "completed"
    },
    "tags": []
   },
   "outputs": [],
   "source": [
    "user_course_train=train[['user','item']]\n",
    "user_course_test = test[['user','item']]\n",
    "all_course_ids = pd.concat([train,test],axis=0)['item'].drop_duplicates()"
   ]
  },
  {
   "cell_type": "code",
   "execution_count": 40,
   "id": "62f303f1",
   "metadata": {
    "execution": {
     "iopub.execute_input": "2025-07-26T00:26:07.032235Z",
     "iopub.status.busy": "2025-07-26T00:26:07.031751Z",
     "iopub.status.idle": "2025-07-26T00:26:46.800380Z",
     "shell.execute_reply": "2025-07-26T00:26:46.798789Z"
    },
    "papermill": {
     "duration": 40.049013,
     "end_time": "2025-07-26T00:26:46.802757",
     "exception": false,
     "start_time": "2025-07-26T00:26:06.753744",
     "status": "completed"
    },
    "tags": []
   },
   "outputs": [
    {
     "name": "stderr",
     "output_type": "stream",
     "text": [
      "Khuyến nghị với negative sampling:   1%|          | 124/24052 [00:00<00:40, 594.02user/s]"
     ]
    },
    {
     "name": "stdout",
     "output_type": "stream",
     "text": [
      "Ví dụ user: U_100090\n"
     ]
    },
    {
     "name": "stderr",
     "output_type": "stream",
     "text": [
      "Khuyến nghị với negative sampling: 100%|██████████| 24052/24052 [00:38<00:00, 619.93user/s]"
     ]
    },
    {
     "name": "stdout",
     "output_type": "stream",
     "text": [
      "Thời gian thực hiện: 39.761524 giây\n"
     ]
    },
    {
     "name": "stderr",
     "output_type": "stream",
     "text": [
      "\n"
     ]
    }
   ],
   "source": [
    "start_time = time.time()\n",
    "results2 = recommend_courses_with_negative_sampling(model, user_course_train, user_course_test, all_course_ids, num_negatives=100)\n",
    "end_time = time.time()  # Kết thúc đo thời gian\n",
    "\n",
    "print(f\"Thời gian thực hiện: {end_time - start_time:.6f} giây\")\n",
    "# print(results)"
   ]
  },
  {
   "cell_type": "code",
   "execution_count": 41,
   "id": "108404b1",
   "metadata": {
    "execution": {
     "iopub.execute_input": "2025-07-26T00:26:47.486278Z",
     "iopub.status.busy": "2025-07-26T00:26:47.485787Z",
     "iopub.status.idle": "2025-07-26T00:26:48.546931Z",
     "shell.execute_reply": "2025-07-26T00:26:48.545329Z"
    },
    "papermill": {
     "duration": 1.361409,
     "end_time": "2025-07-26T00:26:48.549369",
     "exception": false,
     "start_time": "2025-07-26T00:26:47.187960",
     "status": "completed"
    },
    "tags": []
   },
   "outputs": [],
   "source": [
    "eval_5 = evaluate_model(test[[\"user\",\"item\"]], results1,5)\n",
    "eval_10 = evaluate_model(test[[\"user\",\"item\"]], results1,10)"
   ]
  },
  {
   "cell_type": "code",
   "execution_count": 42,
   "id": "24cce092",
   "metadata": {
    "execution": {
     "iopub.execute_input": "2025-07-26T00:26:49.199032Z",
     "iopub.status.busy": "2025-07-26T00:26:49.198634Z",
     "iopub.status.idle": "2025-07-26T00:26:49.206075Z",
     "shell.execute_reply": "2025-07-26T00:26:49.204854Z"
    },
    "papermill": {
     "duration": 0.325867,
     "end_time": "2025-07-26T00:26:49.207839",
     "exception": false,
     "start_time": "2025-07-26T00:26:48.881972",
     "status": "completed"
    },
    "tags": []
   },
   "outputs": [
    {
     "data": {
      "text/plain": [
       "{'Baseline': ['V3-BPRMF@5', 'V3-BPRMF@10'],\n",
       " 'Precision': [0.0085, 0.0075],\n",
       " 'Recall': [0.0427, 0.0748],\n",
       " 'HitRate': [0.0427, 0.0748],\n",
       " 'NDCG': [0.0265, 0.0368],\n",
       " 'MAP': [0.0213, 0.0255],\n",
       " 'F1-score': [0.0142, 0.0136]}"
      ]
     },
     "execution_count": 42,
     "metadata": {},
     "output_type": "execute_result"
    }
   ],
   "source": [
    "{k: [eval_5[k], eval_10[k]] for k in eval_5}"
   ]
  },
  {
   "cell_type": "code",
   "execution_count": 43,
   "id": "ebde7bc1",
   "metadata": {
    "execution": {
     "iopub.execute_input": "2025-07-26T00:26:49.879789Z",
     "iopub.status.busy": "2025-07-26T00:26:49.879379Z",
     "iopub.status.idle": "2025-07-26T00:26:51.312023Z",
     "shell.execute_reply": "2025-07-26T00:26:51.310308Z"
    },
    "papermill": {
     "duration": 1.798159,
     "end_time": "2025-07-26T00:26:51.314191",
     "exception": false,
     "start_time": "2025-07-26T00:26:49.516032",
     "status": "completed"
    },
    "tags": []
   },
   "outputs": [
    {
     "data": {
      "text/plain": [
       "{'Baseline': ['V3-BPRMF@5', 'V3-BPRMF@10'],\n",
       " 'Precision': [0.0723, 0.0504],\n",
       " 'Recall': [0.3615, 0.5042],\n",
       " 'HitRate': [0.3615, 0.5042],\n",
       " 'NDCG': [0.2478, 0.2939],\n",
       " 'MAP': [0.2105, 0.2294],\n",
       " 'F1-score': [0.1205, 0.0917]}"
      ]
     },
     "execution_count": 43,
     "metadata": {},
     "output_type": "execute_result"
    }
   ],
   "source": [
    "eval_5 = evaluate_model(test[[\"user\",\"item\"]], results2,5)\n",
    "eval_10 = evaluate_model(test[[\"user\",\"item\"]], results2,10)\n",
    "{k: [eval_5[k], eval_10[k]] for k in eval_5}"
   ]
  }
 ],
 "metadata": {
  "kaggle": {
   "accelerator": "none",
   "dataSources": [
    {
     "datasetId": 7259858,
     "sourceId": 11578790,
     "sourceType": "datasetVersion"
    },
    {
     "sourceId": 226720178,
     "sourceType": "kernelVersion"
    },
    {
     "sourceId": 240478674,
     "sourceType": "kernelVersion"
    },
    {
     "sourceId": 244142845,
     "sourceType": "kernelVersion"
    },
    {
     "sourceId": 244308495,
     "sourceType": "kernelVersion"
    },
    {
     "sourceId": 244640082,
     "sourceType": "kernelVersion"
    },
    {
     "sourceId": 244677575,
     "sourceType": "kernelVersion"
    },
    {
     "sourceId": 244681510,
     "sourceType": "kernelVersion"
    },
    {
     "sourceId": 244703534,
     "sourceType": "kernelVersion"
    },
    {
     "sourceId": 245444354,
     "sourceType": "kernelVersion"
    }
   ],
   "dockerImageVersionId": 30919,
   "isGpuEnabled": false,
   "isInternetEnabled": true,
   "language": "python",
   "sourceType": "notebook"
  },
  "kernelspec": {
   "display_name": "Python 3",
   "language": "python",
   "name": "python3"
  },
  "language_info": {
   "codemirror_mode": {
    "name": "ipython",
    "version": 3
   },
   "file_extension": ".py",
   "mimetype": "text/x-python",
   "name": "python",
   "nbconvert_exporter": "python",
   "pygments_lexer": "ipython3",
   "version": "3.10.12"
  },
  "papermill": {
   "default_parameters": {},
   "duration": 789.299608,
   "end_time": "2025-07-26T00:26:54.641095",
   "environment_variables": {},
   "exception": null,
   "input_path": "__notebook__.ipynb",
   "output_path": "__notebook__.ipynb",
   "parameters": {},
   "start_time": "2025-07-26T00:13:45.341487",
   "version": "2.6.0"
  }
 },
 "nbformat": 4,
 "nbformat_minor": 5
}
