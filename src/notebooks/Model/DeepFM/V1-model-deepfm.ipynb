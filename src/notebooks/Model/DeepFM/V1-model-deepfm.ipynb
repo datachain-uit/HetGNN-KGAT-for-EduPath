{
 "cells": [
  {
   "cell_type": "code",
   "execution_count": 1,
   "id": "638980f5",
   "metadata": {
    "_cell_guid": "b1076dfc-b9ad-4769-8c92-a6c4dae69d19",
    "_uuid": "8f2839f25d086af736a60e9eeb907d3b93b6e0e5",
    "execution": {
     "iopub.execute_input": "2025-06-09T13:32:31.860345Z",
     "iopub.status.busy": "2025-06-09T13:32:31.859893Z",
     "iopub.status.idle": "2025-06-09T13:32:33.160355Z",
     "shell.execute_reply": "2025-06-09T13:32:33.159066Z"
    },
    "papermill": {
     "duration": 1.313524,
     "end_time": "2025-06-09T13:32:33.162170",
     "exception": false,
     "start_time": "2025-06-09T13:32:31.848646",
     "status": "completed"
    },
    "tags": []
   },
   "outputs": [
    {
     "name": "stdout",
     "output_type": "stream",
     "text": [
      "/kaggle/input/random-user/sample_user.csv\n",
      "/kaggle/input/random-user/__results__.html\n",
      "/kaggle/input/random-user/__notebook__.ipynb\n",
      "/kaggle/input/random-user/__output__.json\n",
      "/kaggle/input/random-user/custom.css\n",
      "/kaggle/input/dataset-version-3/dataver3.h5\n",
      "/kaggle/input/dataver3/dataver3.h5\n",
      "/kaggle/input/dataver3/__results__.html\n",
      "/kaggle/input/dataver3/__notebook__.ipynb\n",
      "/kaggle/input/dataver3/__output__.json\n",
      "/kaggle/input/dataver3/custom.css\n",
      "/kaggle/input/dataver2-train-test/__results__.html\n",
      "/kaggle/input/dataver2-train-test/data_ver2.h5\n",
      "/kaggle/input/dataver2-train-test/__notebook__.ipynb\n",
      "/kaggle/input/dataver2-train-test/__output__.json\n",
      "/kaggle/input/dataver2-train-test/custom.css\n",
      "/kaggle/input/combine-dataset/__results__.html\n",
      "/kaggle/input/combine-dataset/combine_data.h5\n",
      "/kaggle/input/combine-dataset/__notebook__.ipynb\n",
      "/kaggle/input/combine-dataset/__output__.json\n",
      "/kaggle/input/combine-dataset/custom.css\n",
      "/kaggle/input/dataver2/__results__.html\n",
      "/kaggle/input/dataver2/data_ver2.h5\n",
      "/kaggle/input/dataver2/__notebook__.ipynb\n",
      "/kaggle/input/dataver2/__output__.json\n",
      "/kaggle/input/dataver2/custom.css\n",
      "/kaggle/input/preprocessing-course-json/course.json\n",
      "/kaggle/input/preprocessing-course-json/__results__.html\n",
      "/kaggle/input/preprocessing-course-json/__notebook__.ipynb\n",
      "/kaggle/input/preprocessing-course-json/__output__.json\n",
      "/kaggle/input/preprocessing-course-json/custom.css\n",
      "/kaggle/input/preprocessing-user-json/user.csv\n",
      "/kaggle/input/preprocessing-user-json/__results__.html\n",
      "/kaggle/input/preprocessing-user-json/user-5-100.csv\n",
      "/kaggle/input/preprocessing-user-json/__notebook__.ipynb\n",
      "/kaggle/input/preprocessing-user-json/__output__.json\n",
      "/kaggle/input/preprocessing-user-json/user-course.csv\n",
      "/kaggle/input/preprocessing-user-json/custom.css\n"
     ]
    }
   ],
   "source": [
    "# This Python 3 environment comes with many helpful analytics libraries installed\n",
    "# It is defined by the kaggle/python Docker image: https://github.com/kaggle/docker-python\n",
    "# For example, here's several helpful packages to load\n",
    "\n",
    "import numpy as np # linear algebra\n",
    "import pandas as pd # data processing, CSV file I/O (e.g. pd.read_csv)\n",
    "import time\n",
    "from tqdm import tqdm\n",
    "# Input data files are available in the read-only \"../input/\" directory\n",
    "# For example, running this (by clicking run or pressing Shift+Enter) will list all files under the input directory\n",
    "\n",
    "import os\n",
    "for dirname, _, filenames in os.walk('/kaggle/input'):\n",
    "    for filename in filenames:\n",
    "        print(os.path.join(dirname, filename))\n",
    "\n",
    "# You can write up to 20GB to the current directory (/kaggle/working/) that gets preserved as output when you create a version using \"Save & Run All\" \n",
    "# You can also write temporary files to /kaggle/temp/, but they won't be saved outside of the current session"
   ]
  },
  {
   "cell_type": "code",
   "execution_count": 2,
   "id": "6b57cbbf",
   "metadata": {
    "execution": {
     "iopub.execute_input": "2025-06-09T13:32:33.181954Z",
     "iopub.status.busy": "2025-06-09T13:32:33.181436Z",
     "iopub.status.idle": "2025-06-09T13:32:33.186133Z",
     "shell.execute_reply": "2025-06-09T13:32:33.185112Z"
    },
    "papermill": {
     "duration": 0.016393,
     "end_time": "2025-06-09T13:32:33.187975",
     "exception": false,
     "start_time": "2025-06-09T13:32:33.171582",
     "status": "completed"
    },
    "tags": []
   },
   "outputs": [],
   "source": [
    "i=0\n",
    "path=[\n",
    "    \"/kaggle/input/combine-dataset/combine_data.h5\",\n",
    "    \"/kaggle/input/dataver2-train-test/data_ver2.h5\",\n",
    "    \"/kaggle/input/dataver3/dataver3.h5\"\n",
    "     ]"
   ]
  },
  {
   "cell_type": "code",
   "execution_count": 3,
   "id": "b6b621d9",
   "metadata": {
    "execution": {
     "iopub.execute_input": "2025-06-09T13:32:33.208122Z",
     "iopub.status.busy": "2025-06-09T13:32:33.207758Z",
     "iopub.status.idle": "2025-06-09T13:34:30.206361Z",
     "shell.execute_reply": "2025-06-09T13:34:30.202821Z"
    },
    "papermill": {
     "duration": 117.013781,
     "end_time": "2025-06-09T13:34:30.211231",
     "exception": false,
     "start_time": "2025-06-09T13:32:33.197450",
     "status": "completed"
    },
    "tags": []
   },
   "outputs": [],
   "source": [
    "%%capture\n",
    "! pip install tensorflow==2.12.0\n",
    "! pip install -U LibRecommender"
   ]
  },
  {
   "cell_type": "code",
   "execution_count": 4,
   "id": "5d12c512",
   "metadata": {
    "execution": {
     "iopub.execute_input": "2025-06-09T13:34:30.236693Z",
     "iopub.status.busy": "2025-06-09T13:34:30.236189Z",
     "iopub.status.idle": "2025-06-09T13:35:42.665176Z",
     "shell.execute_reply": "2025-06-09T13:35:42.663727Z"
    },
    "papermill": {
     "duration": 72.442539,
     "end_time": "2025-06-09T13:35:42.667627",
     "exception": false,
     "start_time": "2025-06-09T13:34:30.225088",
     "status": "completed"
    },
    "tags": []
   },
   "outputs": [],
   "source": [
    "import numpy as np\n",
    "import pandas as pd\n",
    "from libreco.data import split_by_num_chrono, DatasetFeat\n",
    "from libreco.algorithms import DeepFM \n",
    "\n",
    "item_data = pd.read_json(\"/kaggle/input/preprocessing-course-json/course.json\", lines=True)\n",
    "user_item_data = pd.read_csv(\"/kaggle/input/preprocessing-user-json/user-course.csv\")\n",
    "user_data = pd.read_csv(\"/kaggle/input/preprocessing-user-json/user-5-100.csv\")"
   ]
  },
  {
   "cell_type": "code",
   "execution_count": 5,
   "id": "cecaf226",
   "metadata": {
    "execution": {
     "iopub.execute_input": "2025-06-09T13:35:42.689255Z",
     "iopub.status.busy": "2025-06-09T13:35:42.688782Z",
     "iopub.status.idle": "2025-06-09T13:37:15.232430Z",
     "shell.execute_reply": "2025-06-09T13:37:15.231126Z"
    },
    "papermill": {
     "duration": 92.567246,
     "end_time": "2025-06-09T13:37:15.245816",
     "exception": false,
     "start_time": "2025-06-09T13:35:42.678570",
     "status": "completed"
    },
    "tags": []
   },
   "outputs": [
    {
     "data": {
      "text/html": [
       "<div>\n",
       "<style scoped>\n",
       "    .dataframe tbody tr th:only-of-type {\n",
       "        vertical-align: middle;\n",
       "    }\n",
       "\n",
       "    .dataframe tbody tr th {\n",
       "        vertical-align: top;\n",
       "    }\n",
       "\n",
       "    .dataframe thead th {\n",
       "        text-align: right;\n",
       "    }\n",
       "</style>\n",
       "<table border=\"1\" class=\"dataframe\">\n",
       "  <thead>\n",
       "    <tr style=\"text-align: right;\">\n",
       "      <th></th>\n",
       "      <th>user_id</th>\n",
       "      <th>course_id</th>\n",
       "      <th>enroll_time</th>\n",
       "      <th>course_name</th>\n",
       "      <th>course_prerequisites</th>\n",
       "      <th>course_about</th>\n",
       "      <th>course_field</th>\n",
       "      <th>school_id</th>\n",
       "      <th>school_name</th>\n",
       "      <th>school_about</th>\n",
       "      <th>...</th>\n",
       "      <th>exercise_num_problem</th>\n",
       "      <th>doing_exercise_id</th>\n",
       "      <th>doing_num_correct</th>\n",
       "      <th>concept_id</th>\n",
       "      <th>concept_prerequisite</th>\n",
       "      <th>concept_name</th>\n",
       "      <th>concept_field</th>\n",
       "      <th>course_total_comments</th>\n",
       "      <th>user_course_num_comment</th>\n",
       "      <th>user_course_num_replies</th>\n",
       "    </tr>\n",
       "  </thead>\n",
       "  <tbody>\n",
       "    <tr>\n",
       "      <th>0</th>\n",
       "      <td>U_24</td>\n",
       "      <td>C_597314</td>\n",
       "      <td>1560360127</td>\n",
       "      <td>university chinese—analysis of northern song d...</td>\n",
       "      <td></td>\n",
       "      <td>at present, the talent gap in data science and...</td>\n",
       "      <td>[chinese language and literature]</td>\n",
       "      <td>[S_1, S_14]</td>\n",
       "      <td>[tsinghua university, southeast university]</td>\n",
       "      <td>[referred tsinghua short directly ministry edu...</td>\n",
       "      <td>...</td>\n",
       "      <td>[1, 6, 4, 2, 4, 3, 2, 6, 3, 4, 5, 6, 4, 2, 2, ...</td>\n",
       "      <td>NaN</td>\n",
       "      <td>NaN</td>\n",
       "      <td>[K_D_中国语言文学, K_爱国豪情_中国语言文学, K_爱国将领_中国语言文学, K_爱...</td>\n",
       "      <td>[nan, nan, nan, nan, nan, nan, nan, nan, nan, ...</td>\n",
       "      <td>[d, patriotic pride, patriotic general, patrio...</td>\n",
       "      <td>[chinese language and literature, chinese lang...</td>\n",
       "      <td>0</td>\n",
       "      <td>0</td>\n",
       "      <td>0</td>\n",
       "    </tr>\n",
       "    <tr>\n",
       "      <th>1</th>\n",
       "      <td>U_24</td>\n",
       "      <td>C_597208</td>\n",
       "      <td>1560784961</td>\n",
       "      <td>data mining: theory and algorithm</td>\n",
       "      <td></td>\n",
       "      <td>the most interesting theory + the most useful ...</td>\n",
       "      <td>[computer science and technology]</td>\n",
       "      <td>[S_1]</td>\n",
       "      <td>[tsinghua university]</td>\n",
       "      <td>[referred tsinghua short directly ministry edu...</td>\n",
       "      <td>...</td>\n",
       "      <td>[5, 3, 5, 3, 5, 6, 3, 3, 5, 5, 4, 5, 5, 2, 5, ...</td>\n",
       "      <td>NaN</td>\n",
       "      <td>NaN</td>\n",
       "      <td>[K_0 part_计算机科学与技术, K_2 cities_计算机科学与技术, K_2d ...</td>\n",
       "      <td>[nan, nan, nan, nan, nan, nan, nan, nan, nan, ...</td>\n",
       "      <td>[part, cities, 2d space, matrix, + 2, 3d infor...</td>\n",
       "      <td>[computer science and technology, computer sci...</td>\n",
       "      <td>0</td>\n",
       "      <td>0</td>\n",
       "      <td>0</td>\n",
       "    </tr>\n",
       "    <tr>\n",
       "      <th>2</th>\n",
       "      <td>U_24</td>\n",
       "      <td>C_682129</td>\n",
       "      <td>1570379031</td>\n",
       "      <td>software theory basics</td>\n",
       "      <td></td>\n",
       "      <td>this course introduces formal language, automa...</td>\n",
       "      <td>NaN</td>\n",
       "      <td>[S_1]</td>\n",
       "      <td>[tsinghua university]</td>\n",
       "      <td>[referred tsinghua short directly ministry edu...</td>\n",
       "      <td>...</td>\n",
       "      <td>[4, 5, 5, 6, 6, 6, 7, 7, 6, 6, 6, 5, 7, 7, 6, 5]</td>\n",
       "      <td>NaN</td>\n",
       "      <td>NaN</td>\n",
       "      <td>[K_ASCII_计算机科学与技术, K_cfl的判定性质_计算机科学与技术, K_CYK算...</td>\n",
       "      <td>[nan, nan, nan, nan, nan, nan, nan, nan, nan, ...</td>\n",
       "      <td>[ascii, determination of the nature of cfl, cy...</td>\n",
       "      <td>[computer science and technology, computer sci...</td>\n",
       "      <td>13</td>\n",
       "      <td>0</td>\n",
       "      <td>0</td>\n",
       "    </tr>\n",
       "    <tr>\n",
       "      <th>3</th>\n",
       "      <td>U_24</td>\n",
       "      <td>C_674910</td>\n",
       "      <td>1570557064</td>\n",
       "      <td>pattern aesthetics and creation</td>\n",
       "      <td></td>\n",
       "      <td>[national premium course] this course provides...</td>\n",
       "      <td>NaN</td>\n",
       "      <td>[S_1]</td>\n",
       "      <td>[tsinghua university]</td>\n",
       "      <td>[referred tsinghua short directly ministry edu...</td>\n",
       "      <td>...</td>\n",
       "      <td>[1, 1, 2, 3, 1, 1, 3, 2, 2, 2, 3]</td>\n",
       "      <td>NaN</td>\n",
       "      <td>NaN</td>\n",
       "      <td>NaN</td>\n",
       "      <td>NaN</td>\n",
       "      <td>NaN</td>\n",
       "      <td>NaN</td>\n",
       "      <td>386</td>\n",
       "      <td>0</td>\n",
       "      <td>0</td>\n",
       "    </tr>\n",
       "    <tr>\n",
       "      <th>4</th>\n",
       "      <td>U_24</td>\n",
       "      <td>C_707038</td>\n",
       "      <td>1570971985</td>\n",
       "      <td>organic chemistry</td>\n",
       "      <td></td>\n",
       "      <td>the world's organic compounds are rich and col...</td>\n",
       "      <td>[chemical engineering and technology, chemical]</td>\n",
       "      <td>[S_1]</td>\n",
       "      <td>[tsinghua university]</td>\n",
       "      <td>[referred tsinghua short directly ministry edu...</td>\n",
       "      <td>...</td>\n",
       "      <td>[1, 6, 8, 1, 19, 8, 11, 7, 8, 9, 9, 1, 16, 5, ...</td>\n",
       "      <td>NaN</td>\n",
       "      <td>NaN</td>\n",
       "      <td>[K_1,4-加成_化学, K_1-溴戊烷_化学, K_1-丁醇_化学, K_1-丁烯_化学...</td>\n",
       "      <td>[nan, nan, nan, nan, nan, nan, nan, nan, nan, ...</td>\n",
       "      <td>[1,4-addition, 1-bromopentane, 1-butanol, 1-bu...</td>\n",
       "      <td>[chemical, chemical, chemical, chemical, chemi...</td>\n",
       "      <td>1876</td>\n",
       "      <td>0</td>\n",
       "      <td>0</td>\n",
       "    </tr>\n",
       "    <tr>\n",
       "      <th>...</th>\n",
       "      <td>...</td>\n",
       "      <td>...</td>\n",
       "      <td>...</td>\n",
       "      <td>...</td>\n",
       "      <td>...</td>\n",
       "      <td>...</td>\n",
       "      <td>...</td>\n",
       "      <td>...</td>\n",
       "      <td>...</td>\n",
       "      <td>...</td>\n",
       "      <td>...</td>\n",
       "      <td>...</td>\n",
       "      <td>...</td>\n",
       "      <td>...</td>\n",
       "      <td>...</td>\n",
       "      <td>...</td>\n",
       "      <td>...</td>\n",
       "      <td>...</td>\n",
       "      <td>...</td>\n",
       "      <td>...</td>\n",
       "      <td>...</td>\n",
       "    </tr>\n",
       "    <tr>\n",
       "      <th>7473119</th>\n",
       "      <td>U_34712115</td>\n",
       "      <td>C_770738</td>\n",
       "      <td>1602487061</td>\n",
       "      <td>data structure (part 2)</td>\n",
       "      <td></td>\n",
       "      <td>breeze plan 2021 [first term recruitment] is i...</td>\n",
       "      <td>NaN</td>\n",
       "      <td>[S_1]</td>\n",
       "      <td>[tsinghua university]</td>\n",
       "      <td>[referred tsinghua short directly ministry edu...</td>\n",
       "      <td>...</td>\n",
       "      <td>[2, 1, 1, 1, 1, 2, 1, 3, 1, 16, 1, 3, 3, 2, 1,...</td>\n",
       "      <td>NaN</td>\n",
       "      <td>NaN</td>\n",
       "      <td>[K_0号寄存器_计算机科学与技术, K_0号元素_计算机科学与技术, K_10进制_计算机...</td>\n",
       "      <td>[nan, nan, nan, nan, nan, nan, nan, nan, nan, ...</td>\n",
       "      <td>[register 0, element 0, decimal, register 1, 8...</td>\n",
       "      <td>[computer science and technology, computer sci...</td>\n",
       "      <td>339</td>\n",
       "      <td>0</td>\n",
       "      <td>0</td>\n",
       "    </tr>\n",
       "    <tr>\n",
       "      <th>7473120</th>\n",
       "      <td>U_34712115</td>\n",
       "      <td>C_676937</td>\n",
       "      <td>1603225930</td>\n",
       "      <td>advanced c++ language programming</td>\n",
       "      <td></td>\n",
       "      <td>breeze plan 2021 [first term recruitment] is i...</td>\n",
       "      <td>[computer science and technology]</td>\n",
       "      <td>[S_1]</td>\n",
       "      <td>[tsinghua university]</td>\n",
       "      <td>[referred tsinghua short directly ministry edu...</td>\n",
       "      <td>...</td>\n",
       "      <td>[1, 2, 2, 3, 1, 2, 4, 5, 1, 1, 1, 1, 4, 1, 1, ...</td>\n",
       "      <td>NaN</td>\n",
       "      <td>NaN</td>\n",
       "      <td>[K_abort_计算机科学与技术, K_area函数_计算机科学与技术, K_array对...</td>\n",
       "      <td>[nan, nan, nan, nan, nan, nan, nan, nan, nan, ...</td>\n",
       "      <td>[abort, area function, array object, begin fun...</td>\n",
       "      <td>[computer science and technology, computer sci...</td>\n",
       "      <td>370</td>\n",
       "      <td>0</td>\n",
       "      <td>0</td>\n",
       "    </tr>\n",
       "    <tr>\n",
       "      <th>7473121</th>\n",
       "      <td>U_34712115</td>\n",
       "      <td>C_694136</td>\n",
       "      <td>1603226018</td>\n",
       "      <td>data mining: theory and algorithm</td>\n",
       "      <td></td>\n",
       "      <td>the most interesting theory + the most useful ...</td>\n",
       "      <td>NaN</td>\n",
       "      <td>[S_1]</td>\n",
       "      <td>[tsinghua university]</td>\n",
       "      <td>[referred tsinghua short directly ministry edu...</td>\n",
       "      <td>...</td>\n",
       "      <td>[4, 1, 7, 4, 6, 5, 4, 5, 4, 7, 5, 5, 3, 6, 5, ...</td>\n",
       "      <td>NaN</td>\n",
       "      <td>NaN</td>\n",
       "      <td>[K_0 part_计算机科学与技术, K_2 cities_计算机科学与技术, K_2d ...</td>\n",
       "      <td>[nan, nan, nan, nan, nan, nan, nan, nan, nan, ...</td>\n",
       "      <td>[part, cities, 2d space, matrix, + 2, 3d infor...</td>\n",
       "      <td>[computer science and technology, computer sci...</td>\n",
       "      <td>1108</td>\n",
       "      <td>0</td>\n",
       "      <td>0</td>\n",
       "    </tr>\n",
       "    <tr>\n",
       "      <th>7473122</th>\n",
       "      <td>U_34712115</td>\n",
       "      <td>C_1738993</td>\n",
       "      <td>1603226118</td>\n",
       "      <td>game programming</td>\n",
       "      <td></td>\n",
       "      <td>this course is jointly produced by tsinghua un...</td>\n",
       "      <td>NaN</td>\n",
       "      <td>[S_1]</td>\n",
       "      <td>[tsinghua university]</td>\n",
       "      <td>[referred tsinghua short directly ministry edu...</td>\n",
       "      <td>...</td>\n",
       "      <td>[1, 1, 1, 1, 1, 1, 1, 1, 1, 1, 1, 2, 1, 1, 1, ...</td>\n",
       "      <td>NaN</td>\n",
       "      <td>NaN</td>\n",
       "      <td>NaN</td>\n",
       "      <td>NaN</td>\n",
       "      <td>NaN</td>\n",
       "      <td>NaN</td>\n",
       "      <td>77</td>\n",
       "      <td>0</td>\n",
       "      <td>0</td>\n",
       "    </tr>\n",
       "    <tr>\n",
       "      <th>7473123</th>\n",
       "      <td>U_34712115</td>\n",
       "      <td>C_697092</td>\n",
       "      <td>1603226187</td>\n",
       "      <td>3d game engine architecture design basics</td>\n",
       "      <td>c++ programming, computer graphics. it is best...</td>\n",
       "      <td>game engines are independent and complex compo...</td>\n",
       "      <td>NaN</td>\n",
       "      <td>[S_11]</td>\n",
       "      <td>[south china university technology]</td>\n",
       "      <td>[south china university technology referred hu...</td>\n",
       "      <td>...</td>\n",
       "      <td>[21, 10, 25, 12, 50, 20, 21, 16, 22, 24]</td>\n",
       "      <td>NaN</td>\n",
       "      <td>NaN</td>\n",
       "      <td>NaN</td>\n",
       "      <td>NaN</td>\n",
       "      <td>NaN</td>\n",
       "      <td>NaN</td>\n",
       "      <td>6</td>\n",
       "      <td>0</td>\n",
       "      <td>0</td>\n",
       "    </tr>\n",
       "  </tbody>\n",
       "</table>\n",
       "<p>7442932 rows × 34 columns</p>\n",
       "</div>"
      ],
      "text/plain": [
       "            user_id  course_id  enroll_time  \\\n",
       "0              U_24   C_597314   1560360127   \n",
       "1              U_24   C_597208   1560784961   \n",
       "2              U_24   C_682129   1570379031   \n",
       "3              U_24   C_674910   1570557064   \n",
       "4              U_24   C_707038   1570971985   \n",
       "...             ...        ...          ...   \n",
       "7473119  U_34712115   C_770738   1602487061   \n",
       "7473120  U_34712115   C_676937   1603225930   \n",
       "7473121  U_34712115   C_694136   1603226018   \n",
       "7473122  U_34712115  C_1738993   1603226118   \n",
       "7473123  U_34712115   C_697092   1603226187   \n",
       "\n",
       "                                               course_name  \\\n",
       "0        university chinese—analysis of northern song d...   \n",
       "1                        data mining: theory and algorithm   \n",
       "2                                   software theory basics   \n",
       "3                          pattern aesthetics and creation   \n",
       "4                                        organic chemistry   \n",
       "...                                                    ...   \n",
       "7473119                            data structure (part 2)   \n",
       "7473120                  advanced c++ language programming   \n",
       "7473121                  data mining: theory and algorithm   \n",
       "7473122                                   game programming   \n",
       "7473123          3d game engine architecture design basics   \n",
       "\n",
       "                                      course_prerequisites  \\\n",
       "0                                                            \n",
       "1                                                            \n",
       "2                                                            \n",
       "3                                                            \n",
       "4                                                            \n",
       "...                                                    ...   \n",
       "7473119                                                      \n",
       "7473120                                                      \n",
       "7473121                                                      \n",
       "7473122                                                      \n",
       "7473123  c++ programming, computer graphics. it is best...   \n",
       "\n",
       "                                              course_about  \\\n",
       "0        at present, the talent gap in data science and...   \n",
       "1        the most interesting theory + the most useful ...   \n",
       "2        this course introduces formal language, automa...   \n",
       "3        [national premium course] this course provides...   \n",
       "4        the world's organic compounds are rich and col...   \n",
       "...                                                    ...   \n",
       "7473119  breeze plan 2021 [first term recruitment] is i...   \n",
       "7473120  breeze plan 2021 [first term recruitment] is i...   \n",
       "7473121  the most interesting theory + the most useful ...   \n",
       "7473122  this course is jointly produced by tsinghua un...   \n",
       "7473123  game engines are independent and complex compo...   \n",
       "\n",
       "                                            course_field    school_id  \\\n",
       "0                      [chinese language and literature]  [S_1, S_14]   \n",
       "1                      [computer science and technology]        [S_1]   \n",
       "2                                                    NaN        [S_1]   \n",
       "3                                                    NaN        [S_1]   \n",
       "4        [chemical engineering and technology, chemical]        [S_1]   \n",
       "...                                                  ...          ...   \n",
       "7473119                                              NaN        [S_1]   \n",
       "7473120                [computer science and technology]        [S_1]   \n",
       "7473121                                              NaN        [S_1]   \n",
       "7473122                                              NaN        [S_1]   \n",
       "7473123                                              NaN       [S_11]   \n",
       "\n",
       "                                         school_name  \\\n",
       "0        [tsinghua university, southeast university]   \n",
       "1                              [tsinghua university]   \n",
       "2                              [tsinghua university]   \n",
       "3                              [tsinghua university]   \n",
       "4                              [tsinghua university]   \n",
       "...                                              ...   \n",
       "7473119                        [tsinghua university]   \n",
       "7473120                        [tsinghua university]   \n",
       "7473121                        [tsinghua university]   \n",
       "7473122                        [tsinghua university]   \n",
       "7473123          [south china university technology]   \n",
       "\n",
       "                                              school_about  ...  \\\n",
       "0        [referred tsinghua short directly ministry edu...  ...   \n",
       "1        [referred tsinghua short directly ministry edu...  ...   \n",
       "2        [referred tsinghua short directly ministry edu...  ...   \n",
       "3        [referred tsinghua short directly ministry edu...  ...   \n",
       "4        [referred tsinghua short directly ministry edu...  ...   \n",
       "...                                                    ...  ...   \n",
       "7473119  [referred tsinghua short directly ministry edu...  ...   \n",
       "7473120  [referred tsinghua short directly ministry edu...  ...   \n",
       "7473121  [referred tsinghua short directly ministry edu...  ...   \n",
       "7473122  [referred tsinghua short directly ministry edu...  ...   \n",
       "7473123  [south china university technology referred hu...  ...   \n",
       "\n",
       "                                      exercise_num_problem doing_exercise_id  \\\n",
       "0        [1, 6, 4, 2, 4, 3, 2, 6, 3, 4, 5, 6, 4, 2, 2, ...               NaN   \n",
       "1        [5, 3, 5, 3, 5, 6, 3, 3, 5, 5, 4, 5, 5, 2, 5, ...               NaN   \n",
       "2         [4, 5, 5, 6, 6, 6, 7, 7, 6, 6, 6, 5, 7, 7, 6, 5]               NaN   \n",
       "3                        [1, 1, 2, 3, 1, 1, 3, 2, 2, 2, 3]               NaN   \n",
       "4        [1, 6, 8, 1, 19, 8, 11, 7, 8, 9, 9, 1, 16, 5, ...               NaN   \n",
       "...                                                    ...               ...   \n",
       "7473119  [2, 1, 1, 1, 1, 2, 1, 3, 1, 16, 1, 3, 3, 2, 1,...               NaN   \n",
       "7473120  [1, 2, 2, 3, 1, 2, 4, 5, 1, 1, 1, 1, 4, 1, 1, ...               NaN   \n",
       "7473121  [4, 1, 7, 4, 6, 5, 4, 5, 4, 7, 5, 5, 3, 6, 5, ...               NaN   \n",
       "7473122  [1, 1, 1, 1, 1, 1, 1, 1, 1, 1, 1, 2, 1, 1, 1, ...               NaN   \n",
       "7473123           [21, 10, 25, 12, 50, 20, 21, 16, 22, 24]               NaN   \n",
       "\n",
       "        doing_num_correct                                         concept_id  \\\n",
       "0                     NaN  [K_D_中国语言文学, K_爱国豪情_中国语言文学, K_爱国将领_中国语言文学, K_爱...   \n",
       "1                     NaN  [K_0 part_计算机科学与技术, K_2 cities_计算机科学与技术, K_2d ...   \n",
       "2                     NaN  [K_ASCII_计算机科学与技术, K_cfl的判定性质_计算机科学与技术, K_CYK算...   \n",
       "3                     NaN                                                NaN   \n",
       "4                     NaN  [K_1,4-加成_化学, K_1-溴戊烷_化学, K_1-丁醇_化学, K_1-丁烯_化学...   \n",
       "...                   ...                                                ...   \n",
       "7473119               NaN  [K_0号寄存器_计算机科学与技术, K_0号元素_计算机科学与技术, K_10进制_计算机...   \n",
       "7473120               NaN  [K_abort_计算机科学与技术, K_area函数_计算机科学与技术, K_array对...   \n",
       "7473121               NaN  [K_0 part_计算机科学与技术, K_2 cities_计算机科学与技术, K_2d ...   \n",
       "7473122               NaN                                                NaN   \n",
       "7473123               NaN                                                NaN   \n",
       "\n",
       "                                      concept_prerequisite  \\\n",
       "0        [nan, nan, nan, nan, nan, nan, nan, nan, nan, ...   \n",
       "1        [nan, nan, nan, nan, nan, nan, nan, nan, nan, ...   \n",
       "2        [nan, nan, nan, nan, nan, nan, nan, nan, nan, ...   \n",
       "3                                                      NaN   \n",
       "4        [nan, nan, nan, nan, nan, nan, nan, nan, nan, ...   \n",
       "...                                                    ...   \n",
       "7473119  [nan, nan, nan, nan, nan, nan, nan, nan, nan, ...   \n",
       "7473120  [nan, nan, nan, nan, nan, nan, nan, nan, nan, ...   \n",
       "7473121  [nan, nan, nan, nan, nan, nan, nan, nan, nan, ...   \n",
       "7473122                                                NaN   \n",
       "7473123                                                NaN   \n",
       "\n",
       "                                              concept_name  \\\n",
       "0        [d, patriotic pride, patriotic general, patrio...   \n",
       "1        [part, cities, 2d space, matrix, + 2, 3d infor...   \n",
       "2        [ascii, determination of the nature of cfl, cy...   \n",
       "3                                                      NaN   \n",
       "4        [1,4-addition, 1-bromopentane, 1-butanol, 1-bu...   \n",
       "...                                                    ...   \n",
       "7473119  [register 0, element 0, decimal, register 1, 8...   \n",
       "7473120  [abort, area function, array object, begin fun...   \n",
       "7473121  [part, cities, 2d space, matrix, + 2, 3d infor...   \n",
       "7473122                                                NaN   \n",
       "7473123                                                NaN   \n",
       "\n",
       "                                             concept_field  \\\n",
       "0        [chinese language and literature, chinese lang...   \n",
       "1        [computer science and technology, computer sci...   \n",
       "2        [computer science and technology, computer sci...   \n",
       "3                                                      NaN   \n",
       "4        [chemical, chemical, chemical, chemical, chemi...   \n",
       "...                                                    ...   \n",
       "7473119  [computer science and technology, computer sci...   \n",
       "7473120  [computer science and technology, computer sci...   \n",
       "7473121  [computer science and technology, computer sci...   \n",
       "7473122                                                NaN   \n",
       "7473123                                                NaN   \n",
       "\n",
       "        course_total_comments user_course_num_comment  user_course_num_replies  \n",
       "0                           0                       0                        0  \n",
       "1                           0                       0                        0  \n",
       "2                          13                       0                        0  \n",
       "3                         386                       0                        0  \n",
       "4                        1876                       0                        0  \n",
       "...                       ...                     ...                      ...  \n",
       "7473119                   339                       0                        0  \n",
       "7473120                   370                       0                        0  \n",
       "7473121                  1108                       0                        0  \n",
       "7473122                    77                       0                        0  \n",
       "7473123                     6                       0                        0  \n",
       "\n",
       "[7442932 rows x 34 columns]"
      ]
     },
     "execution_count": 5,
     "metadata": {},
     "output_type": "execute_result"
    }
   ],
   "source": [
    "combine_data = pd.read_hdf(path[i], key='df')\n",
    "combine_data"
   ]
  },
  {
   "cell_type": "code",
   "execution_count": 6,
   "id": "c9e4b6df",
   "metadata": {
    "execution": {
     "iopub.execute_input": "2025-06-09T13:37:15.268021Z",
     "iopub.status.busy": "2025-06-09T13:37:15.267649Z",
     "iopub.status.idle": "2025-06-09T13:37:15.274577Z",
     "shell.execute_reply": "2025-06-09T13:37:15.273224Z"
    },
    "papermill": {
     "duration": 0.019918,
     "end_time": "2025-06-09T13:37:15.276487",
     "exception": false,
     "start_time": "2025-06-09T13:37:15.256569",
     "status": "completed"
    },
    "tags": []
   },
   "outputs": [],
   "source": [
    "def filter_user_item_interactions(df, user_col='user_id', item_col='course_id', min_interactions=5):\n",
    "    \"\"\"\n",
    "    Lọc bỏ các user và item có ít hơn `min_interactions` tương tác.\n",
    "\n",
    "    Args:\n",
    "        df (pd.DataFrame): DataFrame chứa tương tác user-item.\n",
    "        user_col (str): Tên cột user.\n",
    "        item_col (str): Tên cột item (course).\n",
    "        min_interactions (int): Số tương tác tối thiểu để giữ lại.\n",
    "\n",
    "    Returns:\n",
    "        pd.DataFrame: DataFrame đã được lọc.\n",
    "    \"\"\"\n",
    "    import pandas as pd\n",
    "\n",
    "    while True:\n",
    "        original_len = len(df)\n",
    "        \n",
    "        # Lọc user\n",
    "        user_counts = df[user_col].value_counts()\n",
    "        valid_users = user_counts[user_counts >= min_interactions].index\n",
    "        df = df[df[user_col].isin(valid_users)]\n",
    "\n",
    "        # Lọc item\n",
    "        item_counts = df[item_col].value_counts()\n",
    "        valid_items = item_counts[item_counts >= min_interactions].index\n",
    "        df = df[df[item_col].isin(valid_items)]\n",
    "\n",
    "        if len(df) == original_len:\n",
    "            break  # không còn gì để lọc nữa\n",
    "\n",
    "    return df.reset_index(drop=True)\n",
    "# filter_user_item_interactions"
   ]
  },
  {
   "cell_type": "code",
   "execution_count": 7,
   "id": "29adcb1e",
   "metadata": {
    "execution": {
     "iopub.execute_input": "2025-06-09T13:37:15.297022Z",
     "iopub.status.busy": "2025-06-09T13:37:15.296636Z",
     "iopub.status.idle": "2025-06-09T13:37:15.303329Z",
     "shell.execute_reply": "2025-06-09T13:37:15.302258Z"
    },
    "papermill": {
     "duration": 0.018878,
     "end_time": "2025-06-09T13:37:15.304980",
     "exception": false,
     "start_time": "2025-06-09T13:37:15.286102",
     "status": "completed"
    },
    "tags": []
   },
   "outputs": [
    {
     "data": {
      "text/plain": [
       "Index(['user_id', 'course_id', 'enroll_time', 'course_name',\n",
       "       'course_prerequisites', 'course_about', 'course_field', 'school_id',\n",
       "       'school_name', 'school_about', 'school_motto', 'teacher_id',\n",
       "       'teacher_name', 'teacher_about', 'teacher_job_title',\n",
       "       'teacher_org_name', 'video_id', 'video_ccid', 'video_duration',\n",
       "       'user_gender', 'watch_id', 'total_watch_time', 'actual_watch_time',\n",
       "       'exercise_id', 'exercise_num_problem', 'doing_exercise_id',\n",
       "       'doing_num_correct', 'concept_id', 'concept_prerequisite',\n",
       "       'concept_name', 'concept_field', 'course_total_comments',\n",
       "       'user_course_num_comment', 'user_course_num_replies'],\n",
       "      dtype='object')"
      ]
     },
     "execution_count": 7,
     "metadata": {},
     "output_type": "execute_result"
    }
   ],
   "source": [
    "combine_data.columns"
   ]
  },
  {
   "cell_type": "code",
   "execution_count": 8,
   "id": "b720c329",
   "metadata": {
    "execution": {
     "iopub.execute_input": "2025-06-09T13:37:15.325854Z",
     "iopub.status.busy": "2025-06-09T13:37:15.325475Z",
     "iopub.status.idle": "2025-06-09T13:37:21.939129Z",
     "shell.execute_reply": "2025-06-09T13:37:21.937454Z"
    },
    "papermill": {
     "duration": 6.62629,
     "end_time": "2025-06-09T13:37:21.941222",
     "exception": false,
     "start_time": "2025-06-09T13:37:15.314932",
     "status": "completed"
    },
    "tags": []
   },
   "outputs": [],
   "source": [
    "item_col_list=[\n",
    "    'course_id','course_name','course_prerequisites', 'course_about',\n",
    "    'school_id','teacher_id','video_duration','exercise_num_problem','course_total_comments']\n",
    "if i!=1:\n",
    "    item_col_list+=['course_field']\n",
    "\n",
    "item_data = combine_data[item_col_list]\n",
    "item_data=item_data.groupby('course_id').first().reset_index()"
   ]
  },
  {
   "cell_type": "code",
   "execution_count": null,
   "id": "217da486",
   "metadata": {
    "papermill": {
     "duration": 0.009517,
     "end_time": "2025-06-09T13:37:21.960914",
     "exception": false,
     "start_time": "2025-06-09T13:37:21.951397",
     "status": "completed"
    },
    "tags": []
   },
   "outputs": [],
   "source": []
  },
  {
   "cell_type": "code",
   "execution_count": 9,
   "id": "d94fb455",
   "metadata": {
    "execution": {
     "iopub.execute_input": "2025-06-09T13:37:21.982619Z",
     "iopub.status.busy": "2025-06-09T13:37:21.982155Z",
     "iopub.status.idle": "2025-06-09T13:37:22.009663Z",
     "shell.execute_reply": "2025-06-09T13:37:22.008364Z"
    },
    "papermill": {
     "duration": 0.040478,
     "end_time": "2025-06-09T13:37:22.011595",
     "exception": false,
     "start_time": "2025-06-09T13:37:21.971117",
     "status": "completed"
    },
    "tags": []
   },
   "outputs": [
    {
     "data": {
      "text/html": [
       "<div>\n",
       "<style scoped>\n",
       "    .dataframe tbody tr th:only-of-type {\n",
       "        vertical-align: middle;\n",
       "    }\n",
       "\n",
       "    .dataframe tbody tr th {\n",
       "        vertical-align: top;\n",
       "    }\n",
       "\n",
       "    .dataframe thead th {\n",
       "        text-align: right;\n",
       "    }\n",
       "</style>\n",
       "<table border=\"1\" class=\"dataframe\">\n",
       "  <thead>\n",
       "    <tr style=\"text-align: right;\">\n",
       "      <th></th>\n",
       "      <th>course_id</th>\n",
       "      <th>course_name</th>\n",
       "      <th>course_prerequisites</th>\n",
       "      <th>course_about</th>\n",
       "      <th>school_id</th>\n",
       "      <th>teacher_id</th>\n",
       "      <th>video_duration</th>\n",
       "      <th>exercise_num_problem</th>\n",
       "      <th>course_total_comments</th>\n",
       "      <th>course_field</th>\n",
       "    </tr>\n",
       "  </thead>\n",
       "  <tbody>\n",
       "    <tr>\n",
       "      <th>0</th>\n",
       "      <td>C_1017355</td>\n",
       "      <td>introduction to traditional chinese medicine e...</td>\n",
       "      <td>the main subjects are college students who hav...</td>\n",
       "      <td>traditional chinese medicine culture - the tre...</td>\n",
       "      <td>[S_33]</td>\n",
       "      <td>[T_7970, T_7971, T_5826, T_7978, T_7979]</td>\n",
       "      <td>None</td>\n",
       "      <td>[5, 5, 5, 5, 5, 5, 5, 5, 5, 5, 5, 5, 5, 5, 5, ...</td>\n",
       "      <td>39624</td>\n",
       "      <td>None</td>\n",
       "    </tr>\n",
       "    <tr>\n",
       "      <th>1</th>\n",
       "      <td>C_1017419</td>\n",
       "      <td>smart government talk</td>\n",
       "      <td></td>\n",
       "      <td>this course combines specific cases of traffic...</td>\n",
       "      <td>[S_52]</td>\n",
       "      <td>[T_7849, T_16199, T_16200, T_16201, T_16202, T...</td>\n",
       "      <td>None</td>\n",
       "      <td>[15, 15, 20, 15, 15, 15, 15, 16, 15]</td>\n",
       "      <td>609</td>\n",
       "      <td>None</td>\n",
       "    </tr>\n",
       "    <tr>\n",
       "      <th>2</th>\n",
       "      <td>C_1025064</td>\n",
       "      <td>principles of ideological and political education</td>\n",
       "      <td></td>\n",
       "      <td>hello, dear classmate! do you want to know how...</td>\n",
       "      <td>[S_13]</td>\n",
       "      <td>[T_3915, T_3911, T_5426, T_5427, T_5429]</td>\n",
       "      <td>[466.575, 402.325, 476.65, 1025.9, 755.075, 42...</td>\n",
       "      <td>[10, 10, 10, 10, 10, 10, 10, 10, 10, 10, 10, 1...</td>\n",
       "      <td>696</td>\n",
       "      <td>None</td>\n",
       "    </tr>\n",
       "    <tr>\n",
       "      <th>3</th>\n",
       "      <td>C_1025076</td>\n",
       "      <td>advanced roller skating tutorial</td>\n",
       "      <td></td>\n",
       "      <td>the true meaning of experiencing roller skatin...</td>\n",
       "      <td>[S_72]</td>\n",
       "      <td>[T_5394]</td>\n",
       "      <td>None</td>\n",
       "      <td>[1, 1, 15, 1]</td>\n",
       "      <td>2</td>\n",
       "      <td>None</td>\n",
       "    </tr>\n",
       "    <tr>\n",
       "      <th>4</th>\n",
       "      <td>C_1025079</td>\n",
       "      <td>scientific fitness method-silk-winding fitness...</td>\n",
       "      <td>none</td>\n",
       "      <td>silk wrapping skills are the chinese solution ...</td>\n",
       "      <td>[S_97]</td>\n",
       "      <td>[T_7939]</td>\n",
       "      <td>[671.97, 925.17, 748.11, 644.25, 543.93, 546.3...</td>\n",
       "      <td>[5, 5, 5, 5, 5]</td>\n",
       "      <td>125</td>\n",
       "      <td>None</td>\n",
       "    </tr>\n",
       "    <tr>\n",
       "      <th>...</th>\n",
       "      <td>...</td>\n",
       "      <td>...</td>\n",
       "      <td>...</td>\n",
       "      <td>...</td>\n",
       "      <td>...</td>\n",
       "      <td>...</td>\n",
       "      <td>...</td>\n",
       "      <td>...</td>\n",
       "      <td>...</td>\n",
       "      <td>...</td>\n",
       "    </tr>\n",
       "    <tr>\n",
       "      <th>3068</th>\n",
       "      <td>C_949542</td>\n",
       "      <td>thinking innovation and creativity development</td>\n",
       "      <td>none</td>\n",
       "      <td>if appearance is a letter of recommendation fo...</td>\n",
       "      <td>[S_749]</td>\n",
       "      <td>[T_7389, T_7390, T_10280, T_10281, T_7392, T_7...</td>\n",
       "      <td>[784.77, 713.7, 578.07, 689.01, 624.45, 658.17...</td>\n",
       "      <td>[7, 8, 6, 7, 8, 10, 7, 8, 8, 11, 10, 6, 6, 5, ...</td>\n",
       "      <td>839</td>\n",
       "      <td>None</td>\n",
       "    </tr>\n",
       "    <tr>\n",
       "      <th>3069</th>\n",
       "      <td>C_955163</td>\n",
       "      <td>learn to make mini programs - practical chapte...</td>\n",
       "      <td>computer basics, html, css, javascript, progra...</td>\n",
       "      <td>this course is a wechat mini program learning ...</td>\n",
       "      <td>[S_1]</td>\n",
       "      <td>[T_172, T_14907, T_14933, T_1286]</td>\n",
       "      <td>[515.893, 134.584, 2084.548, 1546.264, 38.356,...</td>\n",
       "      <td>[5, 1, 10, 10, 1, 30, 4]</td>\n",
       "      <td>305</td>\n",
       "      <td>None</td>\n",
       "    </tr>\n",
       "    <tr>\n",
       "      <th>3070</th>\n",
       "      <td>C_956128</td>\n",
       "      <td>interpretation of hot issues of portal hyperte...</td>\n",
       "      <td></td>\n",
       "      <td>interpretation of hot issues of portal hyperte...</td>\n",
       "      <td>[S_144]</td>\n",
       "      <td>[T_7005, T_7006, T_7007]</td>\n",
       "      <td>None</td>\n",
       "      <td>[15, 15, 15, 15, 15, 15, 15]</td>\n",
       "      <td>0</td>\n",
       "      <td>None</td>\n",
       "    </tr>\n",
       "    <tr>\n",
       "      <th>3071</th>\n",
       "      <td>C_956129</td>\n",
       "      <td>introduction to games and esports</td>\n",
       "      <td>none</td>\n",
       "      <td>the game industry has become a popular profess...</td>\n",
       "      <td>[S_492]</td>\n",
       "      <td>[T_4850, T_4852, T_4851, T_4854]</td>\n",
       "      <td>[463.65, 598.375, 354.68, 547.18, 289.23, 349....</td>\n",
       "      <td>[2, 3, 3, 8, 7, 6, 10, 9, 9, 6, 4, 1, 6, 7, 8,...</td>\n",
       "      <td>1597</td>\n",
       "      <td>None</td>\n",
       "    </tr>\n",
       "    <tr>\n",
       "      <th>3072</th>\n",
       "      <td>C_956130</td>\n",
       "      <td>multimedia technology and application</td>\n",
       "      <td>none</td>\n",
       "      <td>this course mainly learns the basic concepts o...</td>\n",
       "      <td>[S_11]</td>\n",
       "      <td>[T_7457, T_8331, T_8417]</td>\n",
       "      <td>None</td>\n",
       "      <td>[1, 5, 27, 8, 6, 19, 28, 6, 14, 16, 21, 6, 15,...</td>\n",
       "      <td>3</td>\n",
       "      <td>None</td>\n",
       "    </tr>\n",
       "  </tbody>\n",
       "</table>\n",
       "<p>3073 rows × 10 columns</p>\n",
       "</div>"
      ],
      "text/plain": [
       "      course_id                                        course_name  \\\n",
       "0     C_1017355  introduction to traditional chinese medicine e...   \n",
       "1     C_1017419                              smart government talk   \n",
       "2     C_1025064  principles of ideological and political education   \n",
       "3     C_1025076                   advanced roller skating tutorial   \n",
       "4     C_1025079  scientific fitness method-silk-winding fitness...   \n",
       "...         ...                                                ...   \n",
       "3068   C_949542     thinking innovation and creativity development   \n",
       "3069   C_955163  learn to make mini programs - practical chapte...   \n",
       "3070   C_956128  interpretation of hot issues of portal hyperte...   \n",
       "3071   C_956129                  introduction to games and esports   \n",
       "3072   C_956130              multimedia technology and application   \n",
       "\n",
       "                                   course_prerequisites  \\\n",
       "0     the main subjects are college students who hav...   \n",
       "1                                                         \n",
       "2                                                         \n",
       "3                                                         \n",
       "4                                                  none   \n",
       "...                                                 ...   \n",
       "3068                                               none   \n",
       "3069  computer basics, html, css, javascript, progra...   \n",
       "3070                                                      \n",
       "3071                                               none   \n",
       "3072                                               none   \n",
       "\n",
       "                                           course_about school_id  \\\n",
       "0     traditional chinese medicine culture - the tre...    [S_33]   \n",
       "1     this course combines specific cases of traffic...    [S_52]   \n",
       "2     hello, dear classmate! do you want to know how...    [S_13]   \n",
       "3     the true meaning of experiencing roller skatin...    [S_72]   \n",
       "4     silk wrapping skills are the chinese solution ...    [S_97]   \n",
       "...                                                 ...       ...   \n",
       "3068  if appearance is a letter of recommendation fo...   [S_749]   \n",
       "3069  this course is a wechat mini program learning ...     [S_1]   \n",
       "3070  interpretation of hot issues of portal hyperte...   [S_144]   \n",
       "3071  the game industry has become a popular profess...   [S_492]   \n",
       "3072  this course mainly learns the basic concepts o...    [S_11]   \n",
       "\n",
       "                                             teacher_id  \\\n",
       "0              [T_7970, T_7971, T_5826, T_7978, T_7979]   \n",
       "1     [T_7849, T_16199, T_16200, T_16201, T_16202, T...   \n",
       "2              [T_3915, T_3911, T_5426, T_5427, T_5429]   \n",
       "3                                              [T_5394]   \n",
       "4                                              [T_7939]   \n",
       "...                                                 ...   \n",
       "3068  [T_7389, T_7390, T_10280, T_10281, T_7392, T_7...   \n",
       "3069                  [T_172, T_14907, T_14933, T_1286]   \n",
       "3070                           [T_7005, T_7006, T_7007]   \n",
       "3071                   [T_4850, T_4852, T_4851, T_4854]   \n",
       "3072                           [T_7457, T_8331, T_8417]   \n",
       "\n",
       "                                         video_duration  \\\n",
       "0                                                  None   \n",
       "1                                                  None   \n",
       "2     [466.575, 402.325, 476.65, 1025.9, 755.075, 42...   \n",
       "3                                                  None   \n",
       "4     [671.97, 925.17, 748.11, 644.25, 543.93, 546.3...   \n",
       "...                                                 ...   \n",
       "3068  [784.77, 713.7, 578.07, 689.01, 624.45, 658.17...   \n",
       "3069  [515.893, 134.584, 2084.548, 1546.264, 38.356,...   \n",
       "3070                                               None   \n",
       "3071  [463.65, 598.375, 354.68, 547.18, 289.23, 349....   \n",
       "3072                                               None   \n",
       "\n",
       "                                   exercise_num_problem  \\\n",
       "0     [5, 5, 5, 5, 5, 5, 5, 5, 5, 5, 5, 5, 5, 5, 5, ...   \n",
       "1                  [15, 15, 20, 15, 15, 15, 15, 16, 15]   \n",
       "2     [10, 10, 10, 10, 10, 10, 10, 10, 10, 10, 10, 1...   \n",
       "3                                         [1, 1, 15, 1]   \n",
       "4                                       [5, 5, 5, 5, 5]   \n",
       "...                                                 ...   \n",
       "3068  [7, 8, 6, 7, 8, 10, 7, 8, 8, 11, 10, 6, 6, 5, ...   \n",
       "3069                           [5, 1, 10, 10, 1, 30, 4]   \n",
       "3070                       [15, 15, 15, 15, 15, 15, 15]   \n",
       "3071  [2, 3, 3, 8, 7, 6, 10, 9, 9, 6, 4, 1, 6, 7, 8,...   \n",
       "3072  [1, 5, 27, 8, 6, 19, 28, 6, 14, 16, 21, 6, 15,...   \n",
       "\n",
       "      course_total_comments course_field  \n",
       "0                     39624         None  \n",
       "1                       609         None  \n",
       "2                       696         None  \n",
       "3                         2         None  \n",
       "4                       125         None  \n",
       "...                     ...          ...  \n",
       "3068                    839         None  \n",
       "3069                    305         None  \n",
       "3070                      0         None  \n",
       "3071                   1597         None  \n",
       "3072                      3         None  \n",
       "\n",
       "[3073 rows x 10 columns]"
      ]
     },
     "execution_count": 9,
     "metadata": {},
     "output_type": "execute_result"
    }
   ],
   "source": [
    "item_data"
   ]
  },
  {
   "cell_type": "code",
   "execution_count": 10,
   "id": "4b820a72",
   "metadata": {
    "execution": {
     "iopub.execute_input": "2025-06-09T13:37:22.033833Z",
     "iopub.status.busy": "2025-06-09T13:37:22.033391Z",
     "iopub.status.idle": "2025-06-09T13:37:22.047033Z",
     "shell.execute_reply": "2025-06-09T13:37:22.044865Z"
    },
    "papermill": {
     "duration": 0.028173,
     "end_time": "2025-06-09T13:37:22.050195",
     "exception": false,
     "start_time": "2025-06-09T13:37:22.022022",
     "status": "completed"
    },
    "tags": []
   },
   "outputs": [],
   "source": [
    "def prepare_course_features(course_df):\n",
    "    course_df = course_df.copy()\n",
    "\n",
    "    # Đảm bảo các cột danh sách là thực sự danh sách\n",
    "    list_columns = ['school_id', 'teacher_id', 'video_duration', 'exercise_num_problem']\n",
    "    for col in list_columns:\n",
    "        course_df[col] = course_df[col].apply(lambda x: x if isinstance(x, list) else [])\n",
    "\n",
    "    # ===== Tính toán đặc trưng =====\n",
    "    course_df['total_video_duration'] = course_df['video_duration'].apply(\n",
    "        lambda x: np.nansum(x) if len(x) > 0 else 0\n",
    "    )\n",
    "    course_df['total_num_problem'] = course_df['exercise_num_problem'].apply(\n",
    "        lambda x: np.nansum(x) if len(x) > 0 else 0\n",
    "    )\n",
    "    course_df['num_videos'] = course_df['video_duration'].apply(len)\n",
    "    course_df['num_exercises'] = course_df['exercise_num_problem'].apply(len)\n",
    "    course_df['num_teachers'] = course_df['teacher_id'].apply(len)\n",
    "    course_df['num_schools'] = course_df['school_id'].apply(len)\n",
    "\n",
    "    # ===== Tách school_id_1 và school_id_2 =====\n",
    "    course_df['teacher_id'] = course_df['teacher_id'].apply(lambda x: x[0] if len(x) > 0 else None)\n",
    "    course_df['teacher_id'] = course_df['teacher_id'].fillna('missing')\n",
    "    course_df['school_id_1'] = course_df['school_id'].apply(lambda x: x[0] if len(x) > 0 else None)\n",
    "    course_df['school_id_2'] = course_df['school_id'].apply(lambda x: x[1] if len(x) > 1 else None)\n",
    "    course_df['school_id_1'] = course_df['school_id_1'].fillna('missing')\n",
    "    course_df['school_id_2'] = course_df['school_id_2'].fillna('missing')\n",
    "    # ===== Embed teacher_id list (tạm: dùng chỉ số trung bình để đại diện) =====\n",
    "    # Nếu muốn dùng embedding sau này thì giữ lại list hoặc dùng nhiều cột teacher_id_1, _2,...\n",
    "    if i==1:\n",
    "        course_df['course_text'] = course_df[\n",
    "            ['course_name', 'course_prerequisites', 'course_about']\n",
    "        ].fillna('').apply(lambda x: ' '.join(x), axis=1)\n",
    "    else:\n",
    "        course_df['course_field'] = course_df['course_field'].apply(\n",
    "            lambda x: ' '.join(x) if isinstance(x, list) else ''\n",
    "            )\n",
    "        course_df['course_text'] = course_df[\n",
    "            ['course_name', 'course_prerequisites', 'course_about','course_field']\n",
    "        ].fillna('').apply(lambda x: ' '.join(x), axis=1)\n",
    "    # ===== Output =====\n",
    "    course_features = course_df[[\n",
    "        'course_id',\n",
    "        'course_text',\n",
    "        'total_video_duration',\n",
    "        'total_num_problem',\n",
    "        'num_videos',\n",
    "        'num_exercises',\n",
    "        'num_teachers',\n",
    "        'teacher_id',\n",
    "        'num_schools',\n",
    "        'school_id_1',\n",
    "        'school_id_2',\n",
    "        'course_total_comments'\n",
    "    ]]\n",
    "\n",
    "    return course_features\n"
   ]
  },
  {
   "cell_type": "code",
   "execution_count": 11,
   "id": "21b9704f",
   "metadata": {
    "execution": {
     "iopub.execute_input": "2025-06-09T13:37:22.079929Z",
     "iopub.status.busy": "2025-06-09T13:37:22.079339Z",
     "iopub.status.idle": "2025-06-09T13:37:22.228158Z",
     "shell.execute_reply": "2025-06-09T13:37:22.226903Z"
    },
    "papermill": {
     "duration": 0.163616,
     "end_time": "2025-06-09T13:37:22.230191",
     "exception": false,
     "start_time": "2025-06-09T13:37:22.066575",
     "status": "completed"
    },
    "tags": []
   },
   "outputs": [],
   "source": [
    "item_data = prepare_course_features(item_data)"
   ]
  },
  {
   "cell_type": "code",
   "execution_count": 12,
   "id": "60a987e7",
   "metadata": {
    "execution": {
     "iopub.execute_input": "2025-06-09T13:37:22.252180Z",
     "iopub.status.busy": "2025-06-09T13:37:22.251806Z",
     "iopub.status.idle": "2025-06-09T13:37:22.263227Z",
     "shell.execute_reply": "2025-06-09T13:37:22.262058Z"
    },
    "papermill": {
     "duration": 0.02453,
     "end_time": "2025-06-09T13:37:22.265074",
     "exception": false,
     "start_time": "2025-06-09T13:37:22.240544",
     "status": "completed"
    },
    "tags": []
   },
   "outputs": [
    {
     "data": {
      "text/plain": [
       "course_id                0\n",
       "course_text              0\n",
       "total_video_duration     0\n",
       "total_num_problem        0\n",
       "num_videos               0\n",
       "num_exercises            0\n",
       "num_teachers             0\n",
       "teacher_id               0\n",
       "num_schools              0\n",
       "school_id_1              0\n",
       "school_id_2              0\n",
       "course_total_comments    0\n",
       "dtype: int64"
      ]
     },
     "execution_count": 12,
     "metadata": {},
     "output_type": "execute_result"
    }
   ],
   "source": [
    "item_data.isnull().sum()"
   ]
  },
  {
   "cell_type": "code",
   "execution_count": 13,
   "id": "00cd9929",
   "metadata": {
    "execution": {
     "iopub.execute_input": "2025-06-09T13:37:22.287166Z",
     "iopub.status.busy": "2025-06-09T13:37:22.286748Z",
     "iopub.status.idle": "2025-06-09T13:37:23.337213Z",
     "shell.execute_reply": "2025-06-09T13:37:23.336223Z"
    },
    "papermill": {
     "duration": 1.06413,
     "end_time": "2025-06-09T13:37:23.339564",
     "exception": false,
     "start_time": "2025-06-09T13:37:22.275434",
     "status": "completed"
    },
    "tags": []
   },
   "outputs": [],
   "source": [
    "user_data = combine_data[['user_id','user_gender']].drop_duplicates().reset_index()"
   ]
  },
  {
   "cell_type": "code",
   "execution_count": 14,
   "id": "15f0d195",
   "metadata": {
    "execution": {
     "iopub.execute_input": "2025-06-09T13:37:23.362360Z",
     "iopub.status.busy": "2025-06-09T13:37:23.361940Z",
     "iopub.status.idle": "2025-06-09T13:37:23.609625Z",
     "shell.execute_reply": "2025-06-09T13:37:23.608355Z"
    },
    "papermill": {
     "duration": 0.261152,
     "end_time": "2025-06-09T13:37:23.611774",
     "exception": false,
     "start_time": "2025-06-09T13:37:23.350622",
     "status": "completed"
    },
    "tags": []
   },
   "outputs": [],
   "source": [
    "user_item_data=combine_data[['user_id','course_id','enroll_time']]"
   ]
  },
  {
   "cell_type": "code",
   "execution_count": 15,
   "id": "9610112f",
   "metadata": {
    "execution": {
     "iopub.execute_input": "2025-06-09T13:37:23.636123Z",
     "iopub.status.busy": "2025-06-09T13:37:23.635703Z",
     "iopub.status.idle": "2025-06-09T13:37:23.762754Z",
     "shell.execute_reply": "2025-06-09T13:37:23.761434Z"
    },
    "papermill": {
     "duration": 0.141226,
     "end_time": "2025-06-09T13:37:23.764880",
     "exception": false,
     "start_time": "2025-06-09T13:37:23.623654",
     "status": "completed"
    },
    "tags": []
   },
   "outputs": [],
   "source": [
    "sp_user = pd.read_csv(\"/kaggle/input/random-user/sample_user.csv\")\n",
    "user_data = user_data[user_data['user_id'].isin(sp_user['user_id'])]"
   ]
  },
  {
   "cell_type": "code",
   "execution_count": 16,
   "id": "b25f886a",
   "metadata": {
    "execution": {
     "iopub.execute_input": "2025-06-09T13:37:23.787309Z",
     "iopub.status.busy": "2025-06-09T13:37:23.786841Z",
     "iopub.status.idle": "2025-06-09T13:37:23.791649Z",
     "shell.execute_reply": "2025-06-09T13:37:23.790071Z"
    },
    "papermill": {
     "duration": 0.018625,
     "end_time": "2025-06-09T13:37:23.794067",
     "exception": false,
     "start_time": "2025-06-09T13:37:23.775442",
     "status": "completed"
    },
    "tags": []
   },
   "outputs": [],
   "source": [
    "# user_data = user_data.sample(n=10000, random_state=42)"
   ]
  },
  {
   "cell_type": "code",
   "execution_count": 17,
   "id": "93c3d766",
   "metadata": {
    "execution": {
     "iopub.execute_input": "2025-06-09T13:37:23.817961Z",
     "iopub.status.busy": "2025-06-09T13:37:23.817524Z",
     "iopub.status.idle": "2025-06-09T13:37:24.735235Z",
     "shell.execute_reply": "2025-06-09T13:37:24.734067Z"
    },
    "papermill": {
     "duration": 0.932096,
     "end_time": "2025-06-09T13:37:24.737494",
     "exception": false,
     "start_time": "2025-06-09T13:37:23.805398",
     "status": "completed"
    },
    "tags": []
   },
   "outputs": [
    {
     "data": {
      "text/html": [
       "<div>\n",
       "<style scoped>\n",
       "    .dataframe tbody tr th:only-of-type {\n",
       "        vertical-align: middle;\n",
       "    }\n",
       "\n",
       "    .dataframe tbody tr th {\n",
       "        vertical-align: top;\n",
       "    }\n",
       "\n",
       "    .dataframe thead th {\n",
       "        text-align: right;\n",
       "    }\n",
       "</style>\n",
       "<table border=\"1\" class=\"dataframe\">\n",
       "  <thead>\n",
       "    <tr style=\"text-align: right;\">\n",
       "      <th></th>\n",
       "      <th>user_id</th>\n",
       "      <th>course_id</th>\n",
       "      <th>enroll_time</th>\n",
       "    </tr>\n",
       "  </thead>\n",
       "  <tbody>\n",
       "    <tr>\n",
       "      <th>46</th>\n",
       "      <td>U_54</td>\n",
       "      <td>C_682442</td>\n",
       "      <td>1570587469</td>\n",
       "    </tr>\n",
       "    <tr>\n",
       "      <th>47</th>\n",
       "      <td>U_54</td>\n",
       "      <td>C_682164</td>\n",
       "      <td>1573174143</td>\n",
       "    </tr>\n",
       "    <tr>\n",
       "      <th>48</th>\n",
       "      <td>U_54</td>\n",
       "      <td>C_1748240</td>\n",
       "      <td>1586941976</td>\n",
       "    </tr>\n",
       "    <tr>\n",
       "      <th>49</th>\n",
       "      <td>U_54</td>\n",
       "      <td>C_1794464</td>\n",
       "      <td>1591966731</td>\n",
       "    </tr>\n",
       "    <tr>\n",
       "      <th>50</th>\n",
       "      <td>U_54</td>\n",
       "      <td>C_697791</td>\n",
       "      <td>1592061292</td>\n",
       "    </tr>\n",
       "    <tr>\n",
       "      <th>...</th>\n",
       "      <td>...</td>\n",
       "      <td>...</td>\n",
       "      <td>...</td>\n",
       "    </tr>\n",
       "    <tr>\n",
       "      <th>7473113</th>\n",
       "      <td>U_34712103</td>\n",
       "      <td>C_1916220</td>\n",
       "      <td>1602473670</td>\n",
       "    </tr>\n",
       "    <tr>\n",
       "      <th>7473114</th>\n",
       "      <td>U_34712103</td>\n",
       "      <td>C_735296</td>\n",
       "      <td>1602590307</td>\n",
       "    </tr>\n",
       "    <tr>\n",
       "      <th>7473115</th>\n",
       "      <td>U_34712103</td>\n",
       "      <td>C_677093</td>\n",
       "      <td>1602594530</td>\n",
       "    </tr>\n",
       "    <tr>\n",
       "      <th>7473116</th>\n",
       "      <td>U_34712103</td>\n",
       "      <td>C_854843</td>\n",
       "      <td>1602709450</td>\n",
       "    </tr>\n",
       "    <tr>\n",
       "      <th>7473117</th>\n",
       "      <td>U_34712103</td>\n",
       "      <td>C_866769</td>\n",
       "      <td>1602805225</td>\n",
       "    </tr>\n",
       "  </tbody>\n",
       "</table>\n",
       "<p>347106 rows × 3 columns</p>\n",
       "</div>"
      ],
      "text/plain": [
       "            user_id  course_id  enroll_time\n",
       "46             U_54   C_682442   1570587469\n",
       "47             U_54   C_682164   1573174143\n",
       "48             U_54  C_1748240   1586941976\n",
       "49             U_54  C_1794464   1591966731\n",
       "50             U_54   C_697791   1592061292\n",
       "...             ...        ...          ...\n",
       "7473113  U_34712103  C_1916220   1602473670\n",
       "7473114  U_34712103   C_735296   1602590307\n",
       "7473115  U_34712103   C_677093   1602594530\n",
       "7473116  U_34712103   C_854843   1602709450\n",
       "7473117  U_34712103   C_866769   1602805225\n",
       "\n",
       "[347106 rows x 3 columns]"
      ]
     },
     "execution_count": 17,
     "metadata": {},
     "output_type": "execute_result"
    }
   ],
   "source": [
    "user_course_filtered = user_item_data[user_item_data[\"user_id\"].isin(user_data[\"user_id\"])]\n",
    "user_course_filtered = user_course_filtered[user_course_filtered[\"course_id\"].isin(item_data[\"course_id\"])]\n",
    "user_course_filtered"
   ]
  },
  {
   "cell_type": "code",
   "execution_count": 18,
   "id": "f80a6b30",
   "metadata": {
    "execution": {
     "iopub.execute_input": "2025-06-09T13:37:24.764218Z",
     "iopub.status.busy": "2025-06-09T13:37:24.763827Z",
     "iopub.status.idle": "2025-06-09T13:37:24.769269Z",
     "shell.execute_reply": "2025-06-09T13:37:24.768034Z"
    },
    "papermill": {
     "duration": 0.019706,
     "end_time": "2025-06-09T13:37:24.771546",
     "exception": false,
     "start_time": "2025-06-09T13:37:24.751840",
     "status": "completed"
    },
    "tags": []
   },
   "outputs": [],
   "source": [
    "def split_data(data):\n",
    "    data.rename(columns={\"course_id\": \"item\",\"user_id\":\"user\",\"enroll_time\":\"time\"}, inplace=True)\n",
    "    train_data, test_data = split_by_num_chrono(data, test_size=1)\n",
    "    return train_data,test_data"
   ]
  },
  {
   "cell_type": "code",
   "execution_count": 19,
   "id": "5758abbe",
   "metadata": {
    "execution": {
     "iopub.execute_input": "2025-06-09T13:37:24.794303Z",
     "iopub.status.busy": "2025-06-09T13:37:24.793875Z",
     "iopub.status.idle": "2025-06-09T13:37:24.880120Z",
     "shell.execute_reply": "2025-06-09T13:37:24.878801Z"
    },
    "papermill": {
     "duration": 0.099866,
     "end_time": "2025-06-09T13:37:24.882253",
     "exception": false,
     "start_time": "2025-06-09T13:37:24.782387",
     "status": "completed"
    },
    "tags": []
   },
   "outputs": [],
   "source": [
    "data = user_course_filtered.merge(user_data.rename(columns={\"id\":\"user_id\"}), on='user_id', how='inner')\n",
    "data['label'] = 1"
   ]
  },
  {
   "cell_type": "code",
   "execution_count": 20,
   "id": "9e18088d",
   "metadata": {
    "execution": {
     "iopub.execute_input": "2025-06-09T13:37:24.908476Z",
     "iopub.status.busy": "2025-06-09T13:37:24.907984Z",
     "iopub.status.idle": "2025-06-09T13:37:24.940246Z",
     "shell.execute_reply": "2025-06-09T13:37:24.937880Z"
    },
    "papermill": {
     "duration": 0.049322,
     "end_time": "2025-06-09T13:37:24.942383",
     "exception": false,
     "start_time": "2025-06-09T13:37:24.893061",
     "status": "completed"
    },
    "tags": []
   },
   "outputs": [
    {
     "data": {
      "text/html": [
       "<div>\n",
       "<style scoped>\n",
       "    .dataframe tbody tr th:only-of-type {\n",
       "        vertical-align: middle;\n",
       "    }\n",
       "\n",
       "    .dataframe tbody tr th {\n",
       "        vertical-align: top;\n",
       "    }\n",
       "\n",
       "    .dataframe thead th {\n",
       "        text-align: right;\n",
       "    }\n",
       "</style>\n",
       "<table border=\"1\" class=\"dataframe\">\n",
       "  <thead>\n",
       "    <tr style=\"text-align: right;\">\n",
       "      <th></th>\n",
       "      <th>user_id</th>\n",
       "      <th>course_id</th>\n",
       "      <th>enroll_time</th>\n",
       "      <th>user_gender</th>\n",
       "      <th>label</th>\n",
       "    </tr>\n",
       "  </thead>\n",
       "  <tbody>\n",
       "    <tr>\n",
       "      <th>0</th>\n",
       "      <td>U_54</td>\n",
       "      <td>C_682442</td>\n",
       "      <td>1570587469</td>\n",
       "      <td>2</td>\n",
       "      <td>1</td>\n",
       "    </tr>\n",
       "    <tr>\n",
       "      <th>1</th>\n",
       "      <td>U_54</td>\n",
       "      <td>C_682164</td>\n",
       "      <td>1573174143</td>\n",
       "      <td>2</td>\n",
       "      <td>1</td>\n",
       "    </tr>\n",
       "    <tr>\n",
       "      <th>2</th>\n",
       "      <td>U_54</td>\n",
       "      <td>C_1748240</td>\n",
       "      <td>1586941976</td>\n",
       "      <td>2</td>\n",
       "      <td>1</td>\n",
       "    </tr>\n",
       "    <tr>\n",
       "      <th>3</th>\n",
       "      <td>U_54</td>\n",
       "      <td>C_1794464</td>\n",
       "      <td>1591966731</td>\n",
       "      <td>2</td>\n",
       "      <td>1</td>\n",
       "    </tr>\n",
       "    <tr>\n",
       "      <th>4</th>\n",
       "      <td>U_54</td>\n",
       "      <td>C_697791</td>\n",
       "      <td>1592061292</td>\n",
       "      <td>2</td>\n",
       "      <td>1</td>\n",
       "    </tr>\n",
       "    <tr>\n",
       "      <th>...</th>\n",
       "      <td>...</td>\n",
       "      <td>...</td>\n",
       "      <td>...</td>\n",
       "      <td>...</td>\n",
       "      <td>...</td>\n",
       "    </tr>\n",
       "    <tr>\n",
       "      <th>347101</th>\n",
       "      <td>U_34712103</td>\n",
       "      <td>C_1916220</td>\n",
       "      <td>1602473670</td>\n",
       "      <td>1</td>\n",
       "      <td>1</td>\n",
       "    </tr>\n",
       "    <tr>\n",
       "      <th>347102</th>\n",
       "      <td>U_34712103</td>\n",
       "      <td>C_735296</td>\n",
       "      <td>1602590307</td>\n",
       "      <td>1</td>\n",
       "      <td>1</td>\n",
       "    </tr>\n",
       "    <tr>\n",
       "      <th>347103</th>\n",
       "      <td>U_34712103</td>\n",
       "      <td>C_677093</td>\n",
       "      <td>1602594530</td>\n",
       "      <td>1</td>\n",
       "      <td>1</td>\n",
       "    </tr>\n",
       "    <tr>\n",
       "      <th>347104</th>\n",
       "      <td>U_34712103</td>\n",
       "      <td>C_854843</td>\n",
       "      <td>1602709450</td>\n",
       "      <td>1</td>\n",
       "      <td>1</td>\n",
       "    </tr>\n",
       "    <tr>\n",
       "      <th>347105</th>\n",
       "      <td>U_34712103</td>\n",
       "      <td>C_866769</td>\n",
       "      <td>1602805225</td>\n",
       "      <td>1</td>\n",
       "      <td>1</td>\n",
       "    </tr>\n",
       "  </tbody>\n",
       "</table>\n",
       "<p>347106 rows × 5 columns</p>\n",
       "</div>"
      ],
      "text/plain": [
       "           user_id  course_id  enroll_time  user_gender  label\n",
       "0             U_54   C_682442   1570587469            2      1\n",
       "1             U_54   C_682164   1573174143            2      1\n",
       "2             U_54  C_1748240   1586941976            2      1\n",
       "3             U_54  C_1794464   1591966731            2      1\n",
       "4             U_54   C_697791   1592061292            2      1\n",
       "...            ...        ...          ...          ...    ...\n",
       "347101  U_34712103  C_1916220   1602473670            1      1\n",
       "347102  U_34712103   C_735296   1602590307            1      1\n",
       "347103  U_34712103   C_677093   1602594530            1      1\n",
       "347104  U_34712103   C_854843   1602709450            1      1\n",
       "347105  U_34712103   C_866769   1602805225            1      1\n",
       "\n",
       "[347106 rows x 5 columns]"
      ]
     },
     "execution_count": 20,
     "metadata": {},
     "output_type": "execute_result"
    }
   ],
   "source": [
    "data=data.drop('index',axis=1)\n",
    "data"
   ]
  },
  {
   "cell_type": "code",
   "execution_count": 21,
   "id": "b434f962",
   "metadata": {
    "execution": {
     "iopub.execute_input": "2025-06-09T13:37:24.966165Z",
     "iopub.status.busy": "2025-06-09T13:37:24.965783Z",
     "iopub.status.idle": "2025-06-09T13:37:24.983444Z",
     "shell.execute_reply": "2025-06-09T13:37:24.982207Z"
    },
    "papermill": {
     "duration": 0.032027,
     "end_time": "2025-06-09T13:37:24.985450",
     "exception": false,
     "start_time": "2025-06-09T13:37:24.953423",
     "status": "completed"
    },
    "tags": []
   },
   "outputs": [
    {
     "data": {
      "text/html": [
       "<div>\n",
       "<style scoped>\n",
       "    .dataframe tbody tr th:only-of-type {\n",
       "        vertical-align: middle;\n",
       "    }\n",
       "\n",
       "    .dataframe tbody tr th {\n",
       "        vertical-align: top;\n",
       "    }\n",
       "\n",
       "    .dataframe thead th {\n",
       "        text-align: right;\n",
       "    }\n",
       "</style>\n",
       "<table border=\"1\" class=\"dataframe\">\n",
       "  <thead>\n",
       "    <tr style=\"text-align: right;\">\n",
       "      <th></th>\n",
       "      <th>course_id</th>\n",
       "      <th>course_text</th>\n",
       "      <th>total_video_duration</th>\n",
       "      <th>total_num_problem</th>\n",
       "      <th>num_videos</th>\n",
       "      <th>num_exercises</th>\n",
       "      <th>num_teachers</th>\n",
       "      <th>teacher_id</th>\n",
       "      <th>num_schools</th>\n",
       "      <th>school_id_1</th>\n",
       "      <th>school_id_2</th>\n",
       "      <th>course_total_comments</th>\n",
       "    </tr>\n",
       "  </thead>\n",
       "  <tbody>\n",
       "    <tr>\n",
       "      <th>0</th>\n",
       "      <td>C_1017355</td>\n",
       "      <td>introduction to traditional chinese medicine e...</td>\n",
       "      <td>0.000</td>\n",
       "      <td>109</td>\n",
       "      <td>0</td>\n",
       "      <td>19</td>\n",
       "      <td>5</td>\n",
       "      <td>T_7970</td>\n",
       "      <td>1</td>\n",
       "      <td>S_33</td>\n",
       "      <td>missing</td>\n",
       "      <td>39624</td>\n",
       "    </tr>\n",
       "    <tr>\n",
       "      <th>1</th>\n",
       "      <td>C_1017419</td>\n",
       "      <td>smart government talk  this course combines sp...</td>\n",
       "      <td>0.000</td>\n",
       "      <td>141</td>\n",
       "      <td>0</td>\n",
       "      <td>9</td>\n",
       "      <td>8</td>\n",
       "      <td>T_7849</td>\n",
       "      <td>1</td>\n",
       "      <td>S_52</td>\n",
       "      <td>missing</td>\n",
       "      <td>609</td>\n",
       "    </tr>\n",
       "    <tr>\n",
       "      <th>2</th>\n",
       "      <td>C_1025064</td>\n",
       "      <td>principles of ideological and political educat...</td>\n",
       "      <td>55868.953</td>\n",
       "      <td>140</td>\n",
       "      <td>88</td>\n",
       "      <td>14</td>\n",
       "      <td>5</td>\n",
       "      <td>T_3915</td>\n",
       "      <td>1</td>\n",
       "      <td>S_13</td>\n",
       "      <td>missing</td>\n",
       "      <td>696</td>\n",
       "    </tr>\n",
       "    <tr>\n",
       "      <th>3</th>\n",
       "      <td>C_1025076</td>\n",
       "      <td>advanced roller skating tutorial  the true mea...</td>\n",
       "      <td>0.000</td>\n",
       "      <td>18</td>\n",
       "      <td>0</td>\n",
       "      <td>4</td>\n",
       "      <td>1</td>\n",
       "      <td>T_5394</td>\n",
       "      <td>1</td>\n",
       "      <td>S_72</td>\n",
       "      <td>missing</td>\n",
       "      <td>2</td>\n",
       "    </tr>\n",
       "    <tr>\n",
       "      <th>4</th>\n",
       "      <td>C_1025079</td>\n",
       "      <td>scientific fitness method-silk-winding fitness...</td>\n",
       "      <td>20714.190</td>\n",
       "      <td>25</td>\n",
       "      <td>28</td>\n",
       "      <td>5</td>\n",
       "      <td>1</td>\n",
       "      <td>T_7939</td>\n",
       "      <td>1</td>\n",
       "      <td>S_97</td>\n",
       "      <td>missing</td>\n",
       "      <td>125</td>\n",
       "    </tr>\n",
       "    <tr>\n",
       "      <th>...</th>\n",
       "      <td>...</td>\n",
       "      <td>...</td>\n",
       "      <td>...</td>\n",
       "      <td>...</td>\n",
       "      <td>...</td>\n",
       "      <td>...</td>\n",
       "      <td>...</td>\n",
       "      <td>...</td>\n",
       "      <td>...</td>\n",
       "      <td>...</td>\n",
       "      <td>...</td>\n",
       "      <td>...</td>\n",
       "    </tr>\n",
       "    <tr>\n",
       "      <th>3068</th>\n",
       "      <td>C_949542</td>\n",
       "      <td>thinking innovation and creativity development...</td>\n",
       "      <td>22184.031</td>\n",
       "      <td>247</td>\n",
       "      <td>33</td>\n",
       "      <td>31</td>\n",
       "      <td>10</td>\n",
       "      <td>T_7389</td>\n",
       "      <td>1</td>\n",
       "      <td>S_749</td>\n",
       "      <td>missing</td>\n",
       "      <td>839</td>\n",
       "    </tr>\n",
       "    <tr>\n",
       "      <th>3069</th>\n",
       "      <td>C_955163</td>\n",
       "      <td>learn to make mini programs - practical chapte...</td>\n",
       "      <td>56372.024</td>\n",
       "      <td>61</td>\n",
       "      <td>100</td>\n",
       "      <td>7</td>\n",
       "      <td>4</td>\n",
       "      <td>T_172</td>\n",
       "      <td>1</td>\n",
       "      <td>S_1</td>\n",
       "      <td>missing</td>\n",
       "      <td>305</td>\n",
       "    </tr>\n",
       "    <tr>\n",
       "      <th>3070</th>\n",
       "      <td>C_956128</td>\n",
       "      <td>interpretation of hot issues of portal hyperte...</td>\n",
       "      <td>0.000</td>\n",
       "      <td>105</td>\n",
       "      <td>0</td>\n",
       "      <td>7</td>\n",
       "      <td>3</td>\n",
       "      <td>T_7005</td>\n",
       "      <td>1</td>\n",
       "      <td>S_144</td>\n",
       "      <td>missing</td>\n",
       "      <td>0</td>\n",
       "    </tr>\n",
       "    <tr>\n",
       "      <th>3071</th>\n",
       "      <td>C_956129</td>\n",
       "      <td>introduction to games and esports none the gam...</td>\n",
       "      <td>34165.387</td>\n",
       "      <td>145</td>\n",
       "      <td>70</td>\n",
       "      <td>23</td>\n",
       "      <td>4</td>\n",
       "      <td>T_4850</td>\n",
       "      <td>1</td>\n",
       "      <td>S_492</td>\n",
       "      <td>missing</td>\n",
       "      <td>1597</td>\n",
       "    </tr>\n",
       "    <tr>\n",
       "      <th>3072</th>\n",
       "      <td>C_956130</td>\n",
       "      <td>multimedia technology and application none thi...</td>\n",
       "      <td>0.000</td>\n",
       "      <td>174</td>\n",
       "      <td>0</td>\n",
       "      <td>15</td>\n",
       "      <td>3</td>\n",
       "      <td>T_7457</td>\n",
       "      <td>1</td>\n",
       "      <td>S_11</td>\n",
       "      <td>missing</td>\n",
       "      <td>3</td>\n",
       "    </tr>\n",
       "  </tbody>\n",
       "</table>\n",
       "<p>3073 rows × 12 columns</p>\n",
       "</div>"
      ],
      "text/plain": [
       "      course_id                                        course_text  \\\n",
       "0     C_1017355  introduction to traditional chinese medicine e...   \n",
       "1     C_1017419  smart government talk  this course combines sp...   \n",
       "2     C_1025064  principles of ideological and political educat...   \n",
       "3     C_1025076  advanced roller skating tutorial  the true mea...   \n",
       "4     C_1025079  scientific fitness method-silk-winding fitness...   \n",
       "...         ...                                                ...   \n",
       "3068   C_949542  thinking innovation and creativity development...   \n",
       "3069   C_955163  learn to make mini programs - practical chapte...   \n",
       "3070   C_956128  interpretation of hot issues of portal hyperte...   \n",
       "3071   C_956129  introduction to games and esports none the gam...   \n",
       "3072   C_956130  multimedia technology and application none thi...   \n",
       "\n",
       "      total_video_duration  total_num_problem  num_videos  num_exercises  \\\n",
       "0                    0.000                109           0             19   \n",
       "1                    0.000                141           0              9   \n",
       "2                55868.953                140          88             14   \n",
       "3                    0.000                 18           0              4   \n",
       "4                20714.190                 25          28              5   \n",
       "...                    ...                ...         ...            ...   \n",
       "3068             22184.031                247          33             31   \n",
       "3069             56372.024                 61         100              7   \n",
       "3070                 0.000                105           0              7   \n",
       "3071             34165.387                145          70             23   \n",
       "3072                 0.000                174           0             15   \n",
       "\n",
       "      num_teachers teacher_id  num_schools school_id_1 school_id_2  \\\n",
       "0                5     T_7970            1        S_33     missing   \n",
       "1                8     T_7849            1        S_52     missing   \n",
       "2                5     T_3915            1        S_13     missing   \n",
       "3                1     T_5394            1        S_72     missing   \n",
       "4                1     T_7939            1        S_97     missing   \n",
       "...            ...        ...          ...         ...         ...   \n",
       "3068            10     T_7389            1       S_749     missing   \n",
       "3069             4      T_172            1         S_1     missing   \n",
       "3070             3     T_7005            1       S_144     missing   \n",
       "3071             4     T_4850            1       S_492     missing   \n",
       "3072             3     T_7457            1        S_11     missing   \n",
       "\n",
       "      course_total_comments  \n",
       "0                     39624  \n",
       "1                       609  \n",
       "2                       696  \n",
       "3                         2  \n",
       "4                       125  \n",
       "...                     ...  \n",
       "3068                    839  \n",
       "3069                    305  \n",
       "3070                      0  \n",
       "3071                   1597  \n",
       "3072                      3  \n",
       "\n",
       "[3073 rows x 12 columns]"
      ]
     },
     "execution_count": 21,
     "metadata": {},
     "output_type": "execute_result"
    }
   ],
   "source": [
    "item_data"
   ]
  },
  {
   "cell_type": "code",
   "execution_count": 22,
   "id": "b6001814",
   "metadata": {
    "execution": {
     "iopub.execute_input": "2025-06-09T13:37:25.011512Z",
     "iopub.status.busy": "2025-06-09T13:37:25.011104Z",
     "iopub.status.idle": "2025-06-09T13:37:25.661692Z",
     "shell.execute_reply": "2025-06-09T13:37:25.660135Z"
    },
    "papermill": {
     "duration": 0.666976,
     "end_time": "2025-06-09T13:37:25.664306",
     "exception": false,
     "start_time": "2025-06-09T13:37:24.997330",
     "status": "completed"
    },
    "tags": []
   },
   "outputs": [
    {
     "data": {
      "text/plain": [
       "Index(['course_id', 'course_text', 'total_video_duration', 'total_num_problem',\n",
       "       'num_videos', 'num_exercises', 'num_teachers', 'teacher_id',\n",
       "       'num_schools', 'school_id_1', 'school_id_2', 'course_total_comments',\n",
       "       'course_text_1', 'course_text_2', 'course_text_3', 'course_text_4',\n",
       "       'course_text_5', 'course_text_6', 'course_text_7', 'course_text_8',\n",
       "       'course_text_9', 'course_text_10', 'course_text_11', 'course_text_12',\n",
       "       'course_text_13', 'course_text_14', 'course_text_15', 'course_text_16',\n",
       "       'course_text_17', 'course_text_18', 'course_text_19', 'course_text_20',\n",
       "       'course_text_21', 'course_text_22', 'course_text_23', 'course_text_24',\n",
       "       'course_text_25', 'course_text_26', 'course_text_27', 'course_text_28',\n",
       "       'course_text_29', 'course_text_30'],\n",
       "      dtype='object')"
      ]
     },
     "execution_count": 22,
     "metadata": {},
     "output_type": "execute_result"
    }
   ],
   "source": [
    "from sklearn.feature_extraction.text import TfidfVectorizer\n",
    "import pandas as pd\n",
    "\n",
    "\n",
    "# Vectorizer\n",
    "vectorizer = TfidfVectorizer(            \n",
    "            max_features=30,\n",
    "            stop_words='english',\n",
    "            ngram_range=(1, 2))\n",
    "vectorized_data = vectorizer.fit_transform(item_data['course_text'])\n",
    "feature_names = [f'course_text_{i+1}' for i in range(len(vectorizer.get_feature_names_out()))]\n",
    "\n",
    "# Chuyển thành DataFrame\n",
    "tfidf_df = pd.DataFrame(vectorized_data.toarray(), columns=feature_names)\n",
    "\n",
    "# Gộp vào DataFrame gốc\n",
    "item_vec = item_data.join(tfidf_df)\n",
    "item_vec.columns"
   ]
  },
  {
   "cell_type": "code",
   "execution_count": 23,
   "id": "1b49d9bf",
   "metadata": {
    "execution": {
     "iopub.execute_input": "2025-06-09T13:37:25.688732Z",
     "iopub.status.busy": "2025-06-09T13:37:25.688335Z",
     "iopub.status.idle": "2025-06-09T13:37:25.693634Z",
     "shell.execute_reply": "2025-06-09T13:37:25.692418Z"
    },
    "papermill": {
     "duration": 0.01917,
     "end_time": "2025-06-09T13:37:25.695174",
     "exception": false,
     "start_time": "2025-06-09T13:37:25.676004",
     "status": "completed"
    },
    "tags": []
   },
   "outputs": [],
   "source": [
    "item_cols = list(item_vec.columns.drop(['course_id', 'course_text']))"
   ]
  },
  {
   "cell_type": "code",
   "execution_count": 24,
   "id": "97ddad96",
   "metadata": {
    "execution": {
     "iopub.execute_input": "2025-06-09T13:37:25.720670Z",
     "iopub.status.busy": "2025-06-09T13:37:25.720251Z",
     "iopub.status.idle": "2025-06-09T13:37:26.643447Z",
     "shell.execute_reply": "2025-06-09T13:37:26.642193Z"
    },
    "papermill": {
     "duration": 0.938478,
     "end_time": "2025-06-09T13:37:26.645584",
     "exception": false,
     "start_time": "2025-06-09T13:37:25.707106",
     "status": "completed"
    },
    "tags": []
   },
   "outputs": [],
   "source": [
    "train, test = split_data(data)"
   ]
  },
  {
   "cell_type": "code",
   "execution_count": 25,
   "id": "d06d3429",
   "metadata": {
    "execution": {
     "iopub.execute_input": "2025-06-09T13:37:26.670846Z",
     "iopub.status.busy": "2025-06-09T13:37:26.670413Z",
     "iopub.status.idle": "2025-06-09T13:37:26.683836Z",
     "shell.execute_reply": "2025-06-09T13:37:26.682342Z"
    },
    "papermill": {
     "duration": 0.029088,
     "end_time": "2025-06-09T13:37:26.686188",
     "exception": false,
     "start_time": "2025-06-09T13:37:26.657100",
     "status": "completed"
    },
    "tags": []
   },
   "outputs": [
    {
     "data": {
      "text/html": [
       "<div>\n",
       "<style scoped>\n",
       "    .dataframe tbody tr th:only-of-type {\n",
       "        vertical-align: middle;\n",
       "    }\n",
       "\n",
       "    .dataframe tbody tr th {\n",
       "        vertical-align: top;\n",
       "    }\n",
       "\n",
       "    .dataframe thead th {\n",
       "        text-align: right;\n",
       "    }\n",
       "</style>\n",
       "<table border=\"1\" class=\"dataframe\">\n",
       "  <thead>\n",
       "    <tr style=\"text-align: right;\">\n",
       "      <th></th>\n",
       "      <th>user</th>\n",
       "      <th>item</th>\n",
       "      <th>time</th>\n",
       "      <th>user_gender</th>\n",
       "      <th>label</th>\n",
       "    </tr>\n",
       "  </thead>\n",
       "  <tbody>\n",
       "    <tr>\n",
       "      <th>80372</th>\n",
       "      <td>U_100090</td>\n",
       "      <td>C_707022</td>\n",
       "      <td>1583235350</td>\n",
       "      <td>0</td>\n",
       "      <td>1</td>\n",
       "    </tr>\n",
       "    <tr>\n",
       "      <th>87074</th>\n",
       "      <td>U_100090</td>\n",
       "      <td>C_676687</td>\n",
       "      <td>1583752556</td>\n",
       "      <td>0</td>\n",
       "      <td>1</td>\n",
       "    </tr>\n",
       "    <tr>\n",
       "      <th>99387</th>\n",
       "      <td>U_100090</td>\n",
       "      <td>C_697073</td>\n",
       "      <td>1584917895</td>\n",
       "      <td>0</td>\n",
       "      <td>1</td>\n",
       "    </tr>\n",
       "    <tr>\n",
       "      <th>99392</th>\n",
       "      <td>U_100090</td>\n",
       "      <td>C_948038</td>\n",
       "      <td>1584918145</td>\n",
       "      <td>0</td>\n",
       "      <td>1</td>\n",
       "    </tr>\n",
       "    <tr>\n",
       "      <th>99396</th>\n",
       "      <td>U_100090</td>\n",
       "      <td>C_680716</td>\n",
       "      <td>1584918197</td>\n",
       "      <td>0</td>\n",
       "      <td>1</td>\n",
       "    </tr>\n",
       "    <tr>\n",
       "      <th>...</th>\n",
       "      <td>...</td>\n",
       "      <td>...</td>\n",
       "      <td>...</td>\n",
       "      <td>...</td>\n",
       "      <td>...</td>\n",
       "    </tr>\n",
       "    <tr>\n",
       "      <th>342777</th>\n",
       "      <td>U_997506</td>\n",
       "      <td>C_696673</td>\n",
       "      <td>1606727242</td>\n",
       "      <td>1</td>\n",
       "      <td>1</td>\n",
       "    </tr>\n",
       "    <tr>\n",
       "      <th>17803</th>\n",
       "      <td>U_99772</td>\n",
       "      <td>C_697032</td>\n",
       "      <td>1577444562</td>\n",
       "      <td>2</td>\n",
       "      <td>1</td>\n",
       "    </tr>\n",
       "    <tr>\n",
       "      <th>19231</th>\n",
       "      <td>U_99772</td>\n",
       "      <td>C_676701</td>\n",
       "      <td>1577871421</td>\n",
       "      <td>2</td>\n",
       "      <td>1</td>\n",
       "    </tr>\n",
       "    <tr>\n",
       "      <th>78125</th>\n",
       "      <td>U_99772</td>\n",
       "      <td>C_682485</td>\n",
       "      <td>1583079803</td>\n",
       "      <td>2</td>\n",
       "      <td>1</td>\n",
       "    </tr>\n",
       "    <tr>\n",
       "      <th>219723</th>\n",
       "      <td>U_99772</td>\n",
       "      <td>C_1903985</td>\n",
       "      <td>1596279658</td>\n",
       "      <td>2</td>\n",
       "      <td>1</td>\n",
       "    </tr>\n",
       "  </tbody>\n",
       "</table>\n",
       "<p>322525 rows × 5 columns</p>\n",
       "</div>"
      ],
      "text/plain": [
       "            user       item        time  user_gender  label\n",
       "80372   U_100090   C_707022  1583235350            0      1\n",
       "87074   U_100090   C_676687  1583752556            0      1\n",
       "99387   U_100090   C_697073  1584917895            0      1\n",
       "99392   U_100090   C_948038  1584918145            0      1\n",
       "99396   U_100090   C_680716  1584918197            0      1\n",
       "...          ...        ...         ...          ...    ...\n",
       "342777  U_997506   C_696673  1606727242            1      1\n",
       "17803    U_99772   C_697032  1577444562            2      1\n",
       "19231    U_99772   C_676701  1577871421            2      1\n",
       "78125    U_99772   C_682485  1583079803            2      1\n",
       "219723   U_99772  C_1903985  1596279658            2      1\n",
       "\n",
       "[322525 rows x 5 columns]"
      ]
     },
     "execution_count": 25,
     "metadata": {},
     "output_type": "execute_result"
    }
   ],
   "source": [
    "train"
   ]
  },
  {
   "cell_type": "code",
   "execution_count": 26,
   "id": "d77fb32b",
   "metadata": {
    "execution": {
     "iopub.execute_input": "2025-06-09T13:37:26.710799Z",
     "iopub.status.busy": "2025-06-09T13:37:26.710440Z",
     "iopub.status.idle": "2025-06-09T13:37:26.721624Z",
     "shell.execute_reply": "2025-06-09T13:37:26.720419Z"
    },
    "papermill": {
     "duration": 0.025195,
     "end_time": "2025-06-09T13:37:26.723307",
     "exception": false,
     "start_time": "2025-06-09T13:37:26.698112",
     "status": "completed"
    },
    "tags": []
   },
   "outputs": [
    {
     "data": {
      "text/html": [
       "<div>\n",
       "<style scoped>\n",
       "    .dataframe tbody tr th:only-of-type {\n",
       "        vertical-align: middle;\n",
       "    }\n",
       "\n",
       "    .dataframe tbody tr th {\n",
       "        vertical-align: top;\n",
       "    }\n",
       "\n",
       "    .dataframe thead th {\n",
       "        text-align: right;\n",
       "    }\n",
       "</style>\n",
       "<table border=\"1\" class=\"dataframe\">\n",
       "  <thead>\n",
       "    <tr style=\"text-align: right;\">\n",
       "      <th></th>\n",
       "      <th>user</th>\n",
       "      <th>item</th>\n",
       "      <th>time</th>\n",
       "      <th>user_gender</th>\n",
       "      <th>label</th>\n",
       "    </tr>\n",
       "  </thead>\n",
       "  <tbody>\n",
       "    <tr>\n",
       "      <th>286393</th>\n",
       "      <td>U_100090</td>\n",
       "      <td>C_1755921</td>\n",
       "      <td>1600725730</td>\n",
       "      <td>0</td>\n",
       "      <td>1</td>\n",
       "    </tr>\n",
       "    <tr>\n",
       "      <th>329448</th>\n",
       "      <td>U_1002476</td>\n",
       "      <td>C_682463</td>\n",
       "      <td>1604703719</td>\n",
       "      <td>1</td>\n",
       "      <td>1</td>\n",
       "    </tr>\n",
       "    <tr>\n",
       "      <th>324637</th>\n",
       "      <td>U_100281</td>\n",
       "      <td>C_948078</td>\n",
       "      <td>1604091834</td>\n",
       "      <td>0</td>\n",
       "      <td>1</td>\n",
       "    </tr>\n",
       "    <tr>\n",
       "      <th>250208</th>\n",
       "      <td>U_10033817</td>\n",
       "      <td>C_677049</td>\n",
       "      <td>1598352038</td>\n",
       "      <td>0</td>\n",
       "      <td>1</td>\n",
       "    </tr>\n",
       "    <tr>\n",
       "      <th>332831</th>\n",
       "      <td>U_10033948</td>\n",
       "      <td>C_1875518</td>\n",
       "      <td>1605192192</td>\n",
       "      <td>2</td>\n",
       "      <td>1</td>\n",
       "    </tr>\n",
       "    <tr>\n",
       "      <th>...</th>\n",
       "      <td>...</td>\n",
       "      <td>...</td>\n",
       "      <td>...</td>\n",
       "      <td>...</td>\n",
       "      <td>...</td>\n",
       "    </tr>\n",
       "    <tr>\n",
       "      <th>223327</th>\n",
       "      <td>U_9969645</td>\n",
       "      <td>C_1784322</td>\n",
       "      <td>1596479205</td>\n",
       "      <td>1</td>\n",
       "      <td>1</td>\n",
       "    </tr>\n",
       "    <tr>\n",
       "      <th>286159</th>\n",
       "      <td>U_99722</td>\n",
       "      <td>C_1944971</td>\n",
       "      <td>1600715669</td>\n",
       "      <td>0</td>\n",
       "      <td>1</td>\n",
       "    </tr>\n",
       "    <tr>\n",
       "      <th>305653</th>\n",
       "      <td>U_99746</td>\n",
       "      <td>C_735143</td>\n",
       "      <td>1602198978</td>\n",
       "      <td>0</td>\n",
       "      <td>1</td>\n",
       "    </tr>\n",
       "    <tr>\n",
       "      <th>342778</th>\n",
       "      <td>U_997506</td>\n",
       "      <td>C_680747</td>\n",
       "      <td>1606727332</td>\n",
       "      <td>1</td>\n",
       "      <td>1</td>\n",
       "    </tr>\n",
       "    <tr>\n",
       "      <th>260582</th>\n",
       "      <td>U_99772</td>\n",
       "      <td>C_697038</td>\n",
       "      <td>1598954070</td>\n",
       "      <td>2</td>\n",
       "      <td>1</td>\n",
       "    </tr>\n",
       "  </tbody>\n",
       "</table>\n",
       "<p>24540 rows × 5 columns</p>\n",
       "</div>"
      ],
      "text/plain": [
       "              user       item        time  user_gender  label\n",
       "286393    U_100090  C_1755921  1600725730            0      1\n",
       "329448   U_1002476   C_682463  1604703719            1      1\n",
       "324637    U_100281   C_948078  1604091834            0      1\n",
       "250208  U_10033817   C_677049  1598352038            0      1\n",
       "332831  U_10033948  C_1875518  1605192192            2      1\n",
       "...            ...        ...         ...          ...    ...\n",
       "223327   U_9969645  C_1784322  1596479205            1      1\n",
       "286159     U_99722  C_1944971  1600715669            0      1\n",
       "305653     U_99746   C_735143  1602198978            0      1\n",
       "342778    U_997506   C_680747  1606727332            1      1\n",
       "260582     U_99772   C_697038  1598954070            2      1\n",
       "\n",
       "[24540 rows x 5 columns]"
      ]
     },
     "execution_count": 26,
     "metadata": {},
     "output_type": "execute_result"
    }
   ],
   "source": [
    "test"
   ]
  },
  {
   "cell_type": "code",
   "execution_count": 27,
   "id": "53e82a30",
   "metadata": {
    "execution": {
     "iopub.execute_input": "2025-06-09T13:37:26.749054Z",
     "iopub.status.busy": "2025-06-09T13:37:26.748610Z",
     "iopub.status.idle": "2025-06-09T13:37:26.942444Z",
     "shell.execute_reply": "2025-06-09T13:37:26.941075Z"
    },
    "papermill": {
     "duration": 0.209499,
     "end_time": "2025-06-09T13:37:26.944995",
     "exception": false,
     "start_time": "2025-06-09T13:37:26.735496",
     "status": "completed"
    },
    "tags": []
   },
   "outputs": [],
   "source": [
    "train = train.merge(item_vec.rename(columns={\"course_id\":\"item\"}), on='item', how='inner')\n",
    "test = test.merge(item_vec.rename(columns={\"course_id\":\"item\"}), on='item', how='inner')"
   ]
  },
  {
   "cell_type": "code",
   "execution_count": 28,
   "id": "3b66dfcb",
   "metadata": {
    "execution": {
     "iopub.execute_input": "2025-06-09T13:37:26.972832Z",
     "iopub.status.busy": "2025-06-09T13:37:26.972413Z",
     "iopub.status.idle": "2025-06-09T13:37:26.978105Z",
     "shell.execute_reply": "2025-06-09T13:37:26.976406Z"
    },
    "papermill": {
     "duration": 0.021974,
     "end_time": "2025-06-09T13:37:26.980233",
     "exception": false,
     "start_time": "2025-06-09T13:37:26.958259",
     "status": "completed"
    },
    "tags": []
   },
   "outputs": [],
   "source": [
    "item_cols = [x for x in item_cols if x not in ['school_id_2',\n",
    "                                               'teacher_id',\n",
    "                                               'school_id_1',\n",
    "                                               'course_total_comments',\n",
    "                                               'num_videos',\n",
    "                                               'num_exercises',\n",
    "                                               'num_school'\n",
    "                                               'num_teachers',\n",
    "                                               'total_video_duration',\n",
    "                                               'total_num_problem',\n",
    "                                              ]]"
   ]
  },
  {
   "cell_type": "code",
   "execution_count": null,
   "id": "de4a473f",
   "metadata": {
    "papermill": {
     "duration": 0.01135,
     "end_time": "2025-06-09T13:37:27.003889",
     "exception": false,
     "start_time": "2025-06-09T13:37:26.992539",
     "status": "completed"
    },
    "tags": []
   },
   "outputs": [],
   "source": []
  },
  {
   "cell_type": "code",
   "execution_count": 29,
   "id": "1faa77cf",
   "metadata": {
    "execution": {
     "iopub.execute_input": "2025-06-09T13:37:27.029876Z",
     "iopub.status.busy": "2025-06-09T13:37:27.029487Z",
     "iopub.status.idle": "2025-06-09T13:37:28.235010Z",
     "shell.execute_reply": "2025-06-09T13:37:28.233588Z"
    },
    "papermill": {
     "duration": 1.22055,
     "end_time": "2025-06-09T13:37:28.236980",
     "exception": false,
     "start_time": "2025-06-09T13:37:27.016430",
     "status": "completed"
    },
    "tags": []
   },
   "outputs": [],
   "source": [
    "# specify complete columns information\n",
    "sparse_col = ['user_gender',\n",
    "              # 'school_id_1',\n",
    "              # 'teacher_id'\n",
    "             ]\n",
    "dense_col = [f for f in item_cols if f not in ['school_id_1','teacher_id']]\n",
    "user_col = [\"user_gender\"]\n",
    "item_col = item_cols\n",
    "\n",
    "train_data, data_info = DatasetFeat.build_trainset(train, user_col, item_col, sparse_col, dense_col,shuffle=False)\n",
    "test_data = DatasetFeat.build_testset(test,shuffle=False)"
   ]
  },
  {
   "cell_type": "code",
   "execution_count": 30,
   "id": "5cdacafe",
   "metadata": {
    "execution": {
     "iopub.execute_input": "2025-06-09T13:37:28.262497Z",
     "iopub.status.busy": "2025-06-09T13:37:28.262037Z",
     "iopub.status.idle": "2025-06-09T13:37:28.268139Z",
     "shell.execute_reply": "2025-06-09T13:37:28.266577Z"
    },
    "papermill": {
     "duration": 0.020663,
     "end_time": "2025-06-09T13:37:28.269974",
     "exception": false,
     "start_time": "2025-06-09T13:37:28.249311",
     "status": "completed"
    },
    "tags": []
   },
   "outputs": [
    {
     "name": "stdout",
     "output_type": "stream",
     "text": [
      "n_users: 24581, n_items: 2951, data density: 0.4446 %\n"
     ]
    }
   ],
   "source": [
    "print(data_info)"
   ]
  },
  {
   "cell_type": "code",
   "execution_count": 31,
   "id": "d321b55a",
   "metadata": {
    "execution": {
     "iopub.execute_input": "2025-06-09T13:37:28.295819Z",
     "iopub.status.busy": "2025-06-09T13:37:28.295405Z",
     "iopub.status.idle": "2025-06-09T13:37:28.300426Z",
     "shell.execute_reply": "2025-06-09T13:37:28.299024Z"
    },
    "papermill": {
     "duration": 0.020399,
     "end_time": "2025-06-09T13:37:28.302363",
     "exception": false,
     "start_time": "2025-06-09T13:37:28.281964",
     "status": "completed"
    },
    "tags": []
   },
   "outputs": [],
   "source": [
    "import tensorflow as tf\n",
    "tf.compat.v1.reset_default_graph() "
   ]
  },
  {
   "cell_type": "code",
   "execution_count": 32,
   "id": "1501e6f2",
   "metadata": {
    "execution": {
     "iopub.execute_input": "2025-06-09T13:37:28.327414Z",
     "iopub.status.busy": "2025-06-09T13:37:28.326959Z",
     "iopub.status.idle": "2025-06-09T14:56:41.468797Z",
     "shell.execute_reply": "2025-06-09T14:56:41.464744Z"
    },
    "papermill": {
     "duration": 4754.062907,
     "end_time": "2025-06-09T14:56:42.377136",
     "exception": false,
     "start_time": "2025-06-09T13:37:28.314229",
     "status": "completed"
    },
    "tags": []
   },
   "outputs": [
    {
     "name": "stdout",
     "output_type": "stream",
     "text": [
      "Training start time: \u001b[35m2025-06-09 13:37:28\u001b[0m\n",
      "total params: \u001b[33m550,920\u001b[0m | embedding params: \u001b[33m468,916\u001b[0m | network params: \u001b[33m82,004\u001b[0m\n"
     ]
    },
    {
     "name": "stderr",
     "output_type": "stream",
     "text": [
      "train: 100%|██████████| 315/315 [00:08<00:00, 37.58it/s]\n"
     ]
    },
    {
     "name": "stdout",
     "output_type": "stream",
     "text": [
      "Epoch 1 elapsed: 8.387s\n",
      "\t \u001b[32mtrain_loss: 0.6764\u001b[0m\n"
     ]
    },
    {
     "name": "stderr",
     "output_type": "stream",
     "text": [
      "eval_listwise: 100%|██████████| 4096/4096 [01:31<00:00, 44.79it/s]\n"
     ]
    },
    {
     "name": "stdout",
     "output_type": "stream",
     "text": [
      "\t eval recall@10: 0.0278\n",
      "\t eval precision@10: 0.0028\n",
      "\t eval ndcg@10: 0.0125\n",
      "\t eval map@10: 0.0080\n",
      "==============================\n"
     ]
    },
    {
     "name": "stderr",
     "output_type": "stream",
     "text": [
      "train: 100%|██████████| 315/315 [00:07<00:00, 39.53it/s]\n"
     ]
    },
    {
     "name": "stdout",
     "output_type": "stream",
     "text": [
      "Epoch 2 elapsed: 7.972s\n",
      "\t \u001b[32mtrain_loss: 0.5299\u001b[0m\n"
     ]
    },
    {
     "name": "stderr",
     "output_type": "stream",
     "text": [
      "eval_listwise: 100%|██████████| 4096/4096 [01:24<00:00, 48.20it/s]\n"
     ]
    },
    {
     "name": "stdout",
     "output_type": "stream",
     "text": [
      "\t eval recall@10: 0.0497\n",
      "\t eval precision@10: 0.0050\n",
      "\t eval ndcg@10: 0.0238\n",
      "\t eval map@10: 0.0162\n",
      "==============================\n"
     ]
    },
    {
     "name": "stderr",
     "output_type": "stream",
     "text": [
      "train: 100%|██████████| 315/315 [00:07<00:00, 40.20it/s]\n"
     ]
    },
    {
     "name": "stdout",
     "output_type": "stream",
     "text": [
      "Epoch 3 elapsed: 7.839s\n",
      "\t \u001b[32mtrain_loss: 0.4985\u001b[0m\n"
     ]
    },
    {
     "name": "stderr",
     "output_type": "stream",
     "text": [
      "eval_listwise: 100%|██████████| 4096/4096 [01:25<00:00, 47.88it/s]\n"
     ]
    },
    {
     "name": "stdout",
     "output_type": "stream",
     "text": [
      "\t eval recall@10: 0.0486\n",
      "\t eval precision@10: 0.0049\n",
      "\t eval ndcg@10: 0.0232\n",
      "\t eval map@10: 0.0158\n",
      "==============================\n"
     ]
    },
    {
     "name": "stderr",
     "output_type": "stream",
     "text": [
      "train: 100%|██████████| 315/315 [00:08<00:00, 37.86it/s]\n"
     ]
    },
    {
     "name": "stdout",
     "output_type": "stream",
     "text": [
      "Epoch 4 elapsed: 8.324s\n",
      "\t \u001b[32mtrain_loss: 0.4928\u001b[0m\n"
     ]
    },
    {
     "name": "stderr",
     "output_type": "stream",
     "text": [
      "eval_listwise: 100%|██████████| 4096/4096 [01:25<00:00, 48.14it/s]\n"
     ]
    },
    {
     "name": "stdout",
     "output_type": "stream",
     "text": [
      "\t eval recall@10: 0.0507\n",
      "\t eval precision@10: 0.0051\n",
      "\t eval ndcg@10: 0.0242\n",
      "\t eval map@10: 0.0163\n",
      "==============================\n"
     ]
    },
    {
     "name": "stderr",
     "output_type": "stream",
     "text": [
      "train: 100%|██████████| 315/315 [00:07<00:00, 39.90it/s]\n"
     ]
    },
    {
     "name": "stdout",
     "output_type": "stream",
     "text": [
      "Epoch 5 elapsed: 7.898s\n",
      "\t \u001b[32mtrain_loss: 0.4894\u001b[0m\n"
     ]
    },
    {
     "name": "stderr",
     "output_type": "stream",
     "text": [
      "eval_listwise: 100%|██████████| 4096/4096 [01:42<00:00, 40.10it/s]\n"
     ]
    },
    {
     "name": "stdout",
     "output_type": "stream",
     "text": [
      "\t eval recall@10: 0.0515\n",
      "\t eval precision@10: 0.0052\n",
      "\t eval ndcg@10: 0.0240\n",
      "\t eval map@10: 0.0159\n",
      "==============================\n"
     ]
    },
    {
     "name": "stderr",
     "output_type": "stream",
     "text": [
      "train: 100%|██████████| 315/315 [00:07<00:00, 39.92it/s]\n"
     ]
    },
    {
     "name": "stdout",
     "output_type": "stream",
     "text": [
      "Epoch 6 elapsed: 7.894s\n",
      "\t \u001b[32mtrain_loss: 0.4864\u001b[0m\n"
     ]
    },
    {
     "name": "stderr",
     "output_type": "stream",
     "text": [
      "eval_listwise: 100%|██████████| 4096/4096 [01:25<00:00, 48.12it/s]\n"
     ]
    },
    {
     "name": "stdout",
     "output_type": "stream",
     "text": [
      "\t eval recall@10: 0.0538\n",
      "\t eval precision@10: 0.0054\n",
      "\t eval ndcg@10: 0.0246\n",
      "\t eval map@10: 0.0159\n",
      "==============================\n"
     ]
    },
    {
     "name": "stderr",
     "output_type": "stream",
     "text": [
      "train: 100%|██████████| 315/315 [00:07<00:00, 40.30it/s]\n"
     ]
    },
    {
     "name": "stdout",
     "output_type": "stream",
     "text": [
      "Epoch 7 elapsed: 7.820s\n",
      "\t \u001b[32mtrain_loss: 0.4827\u001b[0m\n"
     ]
    },
    {
     "name": "stderr",
     "output_type": "stream",
     "text": [
      "eval_listwise: 100%|██████████| 4096/4096 [01:25<00:00, 47.79it/s]\n"
     ]
    },
    {
     "name": "stdout",
     "output_type": "stream",
     "text": [
      "\t eval recall@10: 0.0516\n",
      "\t eval precision@10: 0.0052\n",
      "\t eval ndcg@10: 0.0244\n",
      "\t eval map@10: 0.0162\n",
      "==============================\n"
     ]
    },
    {
     "name": "stderr",
     "output_type": "stream",
     "text": [
      "train: 100%|██████████| 315/315 [00:08<00:00, 37.43it/s]\n"
     ]
    },
    {
     "name": "stdout",
     "output_type": "stream",
     "text": [
      "Epoch 8 elapsed: 8.420s\n",
      "\t \u001b[32mtrain_loss: 0.478\u001b[0m\n"
     ]
    },
    {
     "name": "stderr",
     "output_type": "stream",
     "text": [
      "eval_listwise: 100%|██████████| 4096/4096 [01:26<00:00, 47.48it/s]\n"
     ]
    },
    {
     "name": "stdout",
     "output_type": "stream",
     "text": [
      "\t eval recall@10: 0.0497\n",
      "\t eval precision@10: 0.0050\n",
      "\t eval ndcg@10: 0.0235\n",
      "\t eval map@10: 0.0157\n",
      "==============================\n"
     ]
    },
    {
     "name": "stderr",
     "output_type": "stream",
     "text": [
      "train: 100%|██████████| 315/315 [00:07<00:00, 39.99it/s]\n"
     ]
    },
    {
     "name": "stdout",
     "output_type": "stream",
     "text": [
      "Epoch 9 elapsed: 7.880s\n",
      "\t \u001b[32mtrain_loss: 0.4725\u001b[0m\n"
     ]
    },
    {
     "name": "stderr",
     "output_type": "stream",
     "text": [
      "eval_listwise: 100%|██████████| 4096/4096 [01:25<00:00, 48.09it/s]\n"
     ]
    },
    {
     "name": "stdout",
     "output_type": "stream",
     "text": [
      "\t eval recall@10: 0.0498\n",
      "\t eval precision@10: 0.0050\n",
      "\t eval ndcg@10: 0.0224\n",
      "\t eval map@10: 0.0142\n",
      "==============================\n"
     ]
    },
    {
     "name": "stderr",
     "output_type": "stream",
     "text": [
      "train: 100%|██████████| 315/315 [00:08<00:00, 39.27it/s]\n"
     ]
    },
    {
     "name": "stdout",
     "output_type": "stream",
     "text": [
      "Epoch 10 elapsed: 8.024s\n",
      "\t \u001b[32mtrain_loss: 0.4664\u001b[0m\n"
     ]
    },
    {
     "name": "stderr",
     "output_type": "stream",
     "text": [
      "eval_listwise: 100%|██████████| 4096/4096 [01:32<00:00, 44.34it/s]\n"
     ]
    },
    {
     "name": "stdout",
     "output_type": "stream",
     "text": [
      "\t eval recall@10: 0.0503\n",
      "\t eval precision@10: 0.0050\n",
      "\t eval ndcg@10: 0.0229\n",
      "\t eval map@10: 0.0148\n",
      "==============================\n"
     ]
    },
    {
     "name": "stderr",
     "output_type": "stream",
     "text": [
      "train: 100%|██████████| 315/315 [00:08<00:00, 38.62it/s]\n"
     ]
    },
    {
     "name": "stdout",
     "output_type": "stream",
     "text": [
      "Epoch 11 elapsed: 8.161s\n",
      "\t \u001b[32mtrain_loss: 0.4607\u001b[0m\n"
     ]
    },
    {
     "name": "stderr",
     "output_type": "stream",
     "text": [
      "eval_listwise: 100%|██████████| 4096/4096 [01:38<00:00, 41.73it/s]\n"
     ]
    },
    {
     "name": "stdout",
     "output_type": "stream",
     "text": [
      "\t eval recall@10: 0.0527\n",
      "\t eval precision@10: 0.0053\n",
      "\t eval ndcg@10: 0.0235\n",
      "\t eval map@10: 0.0148\n",
      "==============================\n"
     ]
    },
    {
     "name": "stderr",
     "output_type": "stream",
     "text": [
      "train: 100%|██████████| 315/315 [00:08<00:00, 35.91it/s]\n"
     ]
    },
    {
     "name": "stdout",
     "output_type": "stream",
     "text": [
      "Epoch 12 elapsed: 8.777s\n",
      "\t \u001b[32mtrain_loss: 0.4547\u001b[0m\n"
     ]
    },
    {
     "name": "stderr",
     "output_type": "stream",
     "text": [
      "eval_listwise: 100%|██████████| 4096/4096 [01:34<00:00, 43.34it/s]\n"
     ]
    },
    {
     "name": "stdout",
     "output_type": "stream",
     "text": [
      "\t eval recall@10: 0.0524\n",
      "\t eval precision@10: 0.0052\n",
      "\t eval ndcg@10: 0.0231\n",
      "\t eval map@10: 0.0144\n",
      "==============================\n"
     ]
    },
    {
     "name": "stderr",
     "output_type": "stream",
     "text": [
      "train: 100%|██████████| 315/315 [00:08<00:00, 37.28it/s]\n"
     ]
    },
    {
     "name": "stdout",
     "output_type": "stream",
     "text": [
      "Epoch 13 elapsed: 8.454s\n",
      "\t \u001b[32mtrain_loss: 0.4519\u001b[0m\n"
     ]
    },
    {
     "name": "stderr",
     "output_type": "stream",
     "text": [
      "eval_listwise: 100%|██████████| 4096/4096 [01:29<00:00, 45.79it/s]\n"
     ]
    },
    {
     "name": "stdout",
     "output_type": "stream",
     "text": [
      "\t eval recall@10: 0.0524\n",
      "\t eval precision@10: 0.0052\n",
      "\t eval ndcg@10: 0.0245\n",
      "\t eval map@10: 0.0162\n",
      "==============================\n"
     ]
    },
    {
     "name": "stderr",
     "output_type": "stream",
     "text": [
      "train: 100%|██████████| 315/315 [00:08<00:00, 38.07it/s]\n"
     ]
    },
    {
     "name": "stdout",
     "output_type": "stream",
     "text": [
      "Epoch 14 elapsed: 8.279s\n",
      "\t \u001b[32mtrain_loss: 0.4479\u001b[0m\n"
     ]
    },
    {
     "name": "stderr",
     "output_type": "stream",
     "text": [
      "eval_listwise: 100%|██████████| 4096/4096 [01:24<00:00, 48.72it/s]\n"
     ]
    },
    {
     "name": "stdout",
     "output_type": "stream",
     "text": [
      "\t eval recall@10: 0.0515\n",
      "\t eval precision@10: 0.0052\n",
      "\t eval ndcg@10: 0.0240\n",
      "\t eval map@10: 0.0159\n",
      "==============================\n"
     ]
    },
    {
     "name": "stderr",
     "output_type": "stream",
     "text": [
      "train: 100%|██████████| 315/315 [00:08<00:00, 38.25it/s]\n"
     ]
    },
    {
     "name": "stdout",
     "output_type": "stream",
     "text": [
      "Epoch 15 elapsed: 8.240s\n",
      "\t \u001b[32mtrain_loss: 0.4443\u001b[0m\n"
     ]
    },
    {
     "name": "stderr",
     "output_type": "stream",
     "text": [
      "eval_listwise: 100%|██████████| 4096/4096 [01:22<00:00, 49.69it/s]\n"
     ]
    },
    {
     "name": "stdout",
     "output_type": "stream",
     "text": [
      "\t eval recall@10: 0.0526\n",
      "\t eval precision@10: 0.0053\n",
      "\t eval ndcg@10: 0.0248\n",
      "\t eval map@10: 0.0165\n",
      "==============================\n"
     ]
    },
    {
     "name": "stderr",
     "output_type": "stream",
     "text": [
      "train: 100%|██████████| 315/315 [00:08<00:00, 37.53it/s]\n"
     ]
    },
    {
     "name": "stdout",
     "output_type": "stream",
     "text": [
      "Epoch 16 elapsed: 8.398s\n",
      "\t \u001b[32mtrain_loss: 0.4411\u001b[0m\n"
     ]
    },
    {
     "name": "stderr",
     "output_type": "stream",
     "text": [
      "eval_listwise: 100%|██████████| 4096/4096 [01:23<00:00, 48.98it/s]\n"
     ]
    },
    {
     "name": "stdout",
     "output_type": "stream",
     "text": [
      "\t eval recall@10: 0.0532\n",
      "\t eval precision@10: 0.0053\n",
      "\t eval ndcg@10: 0.0245\n",
      "\t eval map@10: 0.0159\n",
      "==============================\n"
     ]
    },
    {
     "name": "stderr",
     "output_type": "stream",
     "text": [
      "train: 100%|██████████| 315/315 [00:08<00:00, 37.73it/s]\n"
     ]
    },
    {
     "name": "stdout",
     "output_type": "stream",
     "text": [
      "Epoch 17 elapsed: 8.355s\n",
      "\t \u001b[32mtrain_loss: 0.4372\u001b[0m\n"
     ]
    },
    {
     "name": "stderr",
     "output_type": "stream",
     "text": [
      "eval_listwise: 100%|██████████| 4096/4096 [01:22<00:00, 49.45it/s]\n"
     ]
    },
    {
     "name": "stdout",
     "output_type": "stream",
     "text": [
      "\t eval recall@10: 0.0511\n",
      "\t eval precision@10: 0.0051\n",
      "\t eval ndcg@10: 0.0243\n",
      "\t eval map@10: 0.0164\n",
      "==============================\n"
     ]
    },
    {
     "name": "stderr",
     "output_type": "stream",
     "text": [
      "train: 100%|██████████| 315/315 [00:08<00:00, 36.76it/s]\n"
     ]
    },
    {
     "name": "stdout",
     "output_type": "stream",
     "text": [
      "Epoch 18 elapsed: 8.574s\n",
      "\t \u001b[32mtrain_loss: 0.4347\u001b[0m\n"
     ]
    },
    {
     "name": "stderr",
     "output_type": "stream",
     "text": [
      "eval_listwise: 100%|██████████| 4096/4096 [01:23<00:00, 49.30it/s]\n"
     ]
    },
    {
     "name": "stdout",
     "output_type": "stream",
     "text": [
      "\t eval recall@10: 0.0535\n",
      "\t eval precision@10: 0.0053\n",
      "\t eval ndcg@10: 0.0251\n",
      "\t eval map@10: 0.0166\n",
      "==============================\n"
     ]
    },
    {
     "name": "stderr",
     "output_type": "stream",
     "text": [
      "train: 100%|██████████| 315/315 [00:08<00:00, 36.97it/s]\n"
     ]
    },
    {
     "name": "stdout",
     "output_type": "stream",
     "text": [
      "Epoch 19 elapsed: 8.526s\n",
      "\t \u001b[32mtrain_loss: 0.4302\u001b[0m\n"
     ]
    },
    {
     "name": "stderr",
     "output_type": "stream",
     "text": [
      "eval_listwise: 100%|██████████| 4096/4096 [01:22<00:00, 49.83it/s]\n"
     ]
    },
    {
     "name": "stdout",
     "output_type": "stream",
     "text": [
      "\t eval recall@10: 0.0522\n",
      "\t eval precision@10: 0.0052\n",
      "\t eval ndcg@10: 0.0253\n",
      "\t eval map@10: 0.0172\n",
      "==============================\n"
     ]
    },
    {
     "name": "stderr",
     "output_type": "stream",
     "text": [
      "train: 100%|██████████| 315/315 [00:08<00:00, 37.59it/s]\n"
     ]
    },
    {
     "name": "stdout",
     "output_type": "stream",
     "text": [
      "Epoch 20 elapsed: 8.384s\n",
      "\t \u001b[32mtrain_loss: 0.4254\u001b[0m\n"
     ]
    },
    {
     "name": "stderr",
     "output_type": "stream",
     "text": [
      "eval_listwise: 100%|██████████| 4096/4096 [01:20<00:00, 50.76it/s]\n"
     ]
    },
    {
     "name": "stdout",
     "output_type": "stream",
     "text": [
      "\t eval recall@10: 0.0551\n",
      "\t eval precision@10: 0.0055\n",
      "\t eval ndcg@10: 0.0272\n",
      "\t eval map@10: 0.0188\n",
      "==============================\n"
     ]
    },
    {
     "name": "stderr",
     "output_type": "stream",
     "text": [
      "train: 100%|██████████| 315/315 [00:08<00:00, 35.54it/s]\n"
     ]
    },
    {
     "name": "stdout",
     "output_type": "stream",
     "text": [
      "Epoch 21 elapsed: 8.865s\n",
      "\t \u001b[32mtrain_loss: 0.4197\u001b[0m\n"
     ]
    },
    {
     "name": "stderr",
     "output_type": "stream",
     "text": [
      "eval_listwise: 100%|██████████| 4096/4096 [01:22<00:00, 49.38it/s]\n"
     ]
    },
    {
     "name": "stdout",
     "output_type": "stream",
     "text": [
      "\t eval recall@10: 0.0555\n",
      "\t eval precision@10: 0.0056\n",
      "\t eval ndcg@10: 0.0270\n",
      "\t eval map@10: 0.0184\n",
      "==============================\n"
     ]
    },
    {
     "name": "stderr",
     "output_type": "stream",
     "text": [
      "train: 100%|██████████| 315/315 [00:08<00:00, 35.62it/s]\n"
     ]
    },
    {
     "name": "stdout",
     "output_type": "stream",
     "text": [
      "Epoch 22 elapsed: 8.848s\n",
      "\t \u001b[32mtrain_loss: 0.4129\u001b[0m\n"
     ]
    },
    {
     "name": "stderr",
     "output_type": "stream",
     "text": [
      "eval_listwise: 100%|██████████| 4096/4096 [01:27<00:00, 46.87it/s]\n"
     ]
    },
    {
     "name": "stdout",
     "output_type": "stream",
     "text": [
      "\t eval recall@10: 0.0585\n",
      "\t eval precision@10: 0.0058\n",
      "\t eval ndcg@10: 0.0290\n",
      "\t eval map@10: 0.0201\n",
      "==============================\n"
     ]
    },
    {
     "name": "stderr",
     "output_type": "stream",
     "text": [
      "train: 100%|██████████| 315/315 [00:08<00:00, 37.65it/s]\n"
     ]
    },
    {
     "name": "stdout",
     "output_type": "stream",
     "text": [
      "Epoch 23 elapsed: 8.370s\n",
      "\t \u001b[32mtrain_loss: 0.4052\u001b[0m\n"
     ]
    },
    {
     "name": "stderr",
     "output_type": "stream",
     "text": [
      "eval_listwise: 100%|██████████| 4096/4096 [01:22<00:00, 49.91it/s]\n"
     ]
    },
    {
     "name": "stdout",
     "output_type": "stream",
     "text": [
      "\t eval recall@10: 0.0601\n",
      "\t eval precision@10: 0.0060\n",
      "\t eval ndcg@10: 0.0300\n",
      "\t eval map@10: 0.0209\n",
      "==============================\n"
     ]
    },
    {
     "name": "stderr",
     "output_type": "stream",
     "text": [
      "train: 100%|██████████| 315/315 [00:08<00:00, 36.03it/s]\n"
     ]
    },
    {
     "name": "stdout",
     "output_type": "stream",
     "text": [
      "Epoch 24 elapsed: 8.746s\n",
      "\t \u001b[32mtrain_loss: 0.3969\u001b[0m\n"
     ]
    },
    {
     "name": "stderr",
     "output_type": "stream",
     "text": [
      "eval_listwise: 100%|██████████| 4096/4096 [01:22<00:00, 49.66it/s]\n"
     ]
    },
    {
     "name": "stdout",
     "output_type": "stream",
     "text": [
      "\t eval recall@10: 0.0608\n",
      "\t eval precision@10: 0.0061\n",
      "\t eval ndcg@10: 0.0311\n",
      "\t eval map@10: 0.0222\n",
      "==============================\n"
     ]
    },
    {
     "name": "stderr",
     "output_type": "stream",
     "text": [
      "train: 100%|██████████| 315/315 [00:08<00:00, 37.26it/s]\n"
     ]
    },
    {
     "name": "stdout",
     "output_type": "stream",
     "text": [
      "Epoch 25 elapsed: 8.459s\n",
      "\t \u001b[32mtrain_loss: 0.3913\u001b[0m\n"
     ]
    },
    {
     "name": "stderr",
     "output_type": "stream",
     "text": [
      "eval_listwise: 100%|██████████| 4096/4096 [01:22<00:00, 49.73it/s]\n"
     ]
    },
    {
     "name": "stdout",
     "output_type": "stream",
     "text": [
      "\t eval recall@10: 0.0616\n",
      "\t eval precision@10: 0.0062\n",
      "\t eval ndcg@10: 0.0311\n",
      "\t eval map@10: 0.0218\n",
      "==============================\n"
     ]
    },
    {
     "name": "stderr",
     "output_type": "stream",
     "text": [
      "train: 100%|██████████| 315/315 [00:08<00:00, 38.75it/s]\n"
     ]
    },
    {
     "name": "stdout",
     "output_type": "stream",
     "text": [
      "Epoch 26 elapsed: 8.135s\n",
      "\t \u001b[32mtrain_loss: 0.3854\u001b[0m\n"
     ]
    },
    {
     "name": "stderr",
     "output_type": "stream",
     "text": [
      "eval_listwise: 100%|██████████| 4096/4096 [01:22<00:00, 49.48it/s]\n"
     ]
    },
    {
     "name": "stdout",
     "output_type": "stream",
     "text": [
      "\t eval recall@10: 0.0638\n",
      "\t eval precision@10: 0.0064\n",
      "\t eval ndcg@10: 0.0317\n",
      "\t eval map@10: 0.0220\n",
      "==============================\n"
     ]
    },
    {
     "name": "stderr",
     "output_type": "stream",
     "text": [
      "train: 100%|██████████| 315/315 [00:08<00:00, 37.71it/s]\n"
     ]
    },
    {
     "name": "stdout",
     "output_type": "stream",
     "text": [
      "Epoch 27 elapsed: 8.357s\n",
      "\t \u001b[32mtrain_loss: 0.3801\u001b[0m\n"
     ]
    },
    {
     "name": "stderr",
     "output_type": "stream",
     "text": [
      "eval_listwise: 100%|██████████| 4096/4096 [01:22<00:00, 49.75it/s]\n"
     ]
    },
    {
     "name": "stdout",
     "output_type": "stream",
     "text": [
      "\t eval recall@10: 0.0682\n",
      "\t eval precision@10: 0.0068\n",
      "\t eval ndcg@10: 0.0339\n",
      "\t eval map@10: 0.0236\n",
      "==============================\n"
     ]
    },
    {
     "name": "stderr",
     "output_type": "stream",
     "text": [
      "train: 100%|██████████| 315/315 [00:08<00:00, 36.36it/s]\n"
     ]
    },
    {
     "name": "stdout",
     "output_type": "stream",
     "text": [
      "Epoch 28 elapsed: 8.669s\n",
      "\t \u001b[32mtrain_loss: 0.3733\u001b[0m\n"
     ]
    },
    {
     "name": "stderr",
     "output_type": "stream",
     "text": [
      "eval_listwise: 100%|██████████| 4096/4096 [01:22<00:00, 49.75it/s]\n"
     ]
    },
    {
     "name": "stdout",
     "output_type": "stream",
     "text": [
      "\t eval recall@10: 0.0680\n",
      "\t eval precision@10: 0.0068\n",
      "\t eval ndcg@10: 0.0339\n",
      "\t eval map@10: 0.0237\n",
      "==============================\n"
     ]
    },
    {
     "name": "stderr",
     "output_type": "stream",
     "text": [
      "train: 100%|██████████| 315/315 [00:08<00:00, 36.20it/s]\n"
     ]
    },
    {
     "name": "stdout",
     "output_type": "stream",
     "text": [
      "Epoch 29 elapsed: 8.707s\n",
      "\t \u001b[32mtrain_loss: 0.3688\u001b[0m\n"
     ]
    },
    {
     "name": "stderr",
     "output_type": "stream",
     "text": [
      "eval_listwise: 100%|██████████| 4096/4096 [01:21<00:00, 49.98it/s]\n"
     ]
    },
    {
     "name": "stdout",
     "output_type": "stream",
     "text": [
      "\t eval recall@10: 0.0686\n",
      "\t eval precision@10: 0.0069\n",
      "\t eval ndcg@10: 0.0342\n",
      "\t eval map@10: 0.0238\n",
      "==============================\n"
     ]
    },
    {
     "name": "stderr",
     "output_type": "stream",
     "text": [
      "train: 100%|██████████| 315/315 [00:08<00:00, 39.25it/s]\n"
     ]
    },
    {
     "name": "stdout",
     "output_type": "stream",
     "text": [
      "Epoch 30 elapsed: 8.032s\n",
      "\t \u001b[32mtrain_loss: 0.3639\u001b[0m\n"
     ]
    },
    {
     "name": "stderr",
     "output_type": "stream",
     "text": [
      "eval_listwise: 100%|██████████| 4096/4096 [01:22<00:00, 49.48it/s]\n"
     ]
    },
    {
     "name": "stdout",
     "output_type": "stream",
     "text": [
      "\t eval recall@10: 0.0735\n",
      "\t eval precision@10: 0.0073\n",
      "\t eval ndcg@10: 0.0356\n",
      "\t eval map@10: 0.0243\n",
      "==============================\n"
     ]
    },
    {
     "name": "stderr",
     "output_type": "stream",
     "text": [
      "train: 100%|██████████| 315/315 [00:08<00:00, 38.55it/s]\n"
     ]
    },
    {
     "name": "stdout",
     "output_type": "stream",
     "text": [
      "Epoch 31 elapsed: 8.175s\n",
      "\t \u001b[32mtrain_loss: 0.3594\u001b[0m\n"
     ]
    },
    {
     "name": "stderr",
     "output_type": "stream",
     "text": [
      "eval_listwise: 100%|██████████| 4096/4096 [01:28<00:00, 46.13it/s]\n"
     ]
    },
    {
     "name": "stdout",
     "output_type": "stream",
     "text": [
      "\t eval recall@10: 0.0754\n",
      "\t eval precision@10: 0.0075\n",
      "\t eval ndcg@10: 0.0375\n",
      "\t eval map@10: 0.0261\n",
      "==============================\n"
     ]
    },
    {
     "name": "stderr",
     "output_type": "stream",
     "text": [
      "train: 100%|██████████| 315/315 [00:08<00:00, 37.01it/s]\n"
     ]
    },
    {
     "name": "stdout",
     "output_type": "stream",
     "text": [
      "Epoch 32 elapsed: 8.516s\n",
      "\t \u001b[32mtrain_loss: 0.3561\u001b[0m\n"
     ]
    },
    {
     "name": "stderr",
     "output_type": "stream",
     "text": [
      "eval_listwise: 100%|██████████| 4096/4096 [01:27<00:00, 46.87it/s]\n"
     ]
    },
    {
     "name": "stdout",
     "output_type": "stream",
     "text": [
      "\t eval recall@10: 0.0745\n",
      "\t eval precision@10: 0.0074\n",
      "\t eval ndcg@10: 0.0367\n",
      "\t eval map@10: 0.0254\n",
      "==============================\n"
     ]
    },
    {
     "name": "stderr",
     "output_type": "stream",
     "text": [
      "train: 100%|██████████| 315/315 [00:08<00:00, 36.47it/s]\n"
     ]
    },
    {
     "name": "stdout",
     "output_type": "stream",
     "text": [
      "Epoch 33 elapsed: 8.643s\n",
      "\t \u001b[32mtrain_loss: 0.3528\u001b[0m\n"
     ]
    },
    {
     "name": "stderr",
     "output_type": "stream",
     "text": [
      "eval_listwise: 100%|██████████| 4096/4096 [01:25<00:00, 48.16it/s]\n"
     ]
    },
    {
     "name": "stdout",
     "output_type": "stream",
     "text": [
      "\t eval recall@10: 0.0776\n",
      "\t eval precision@10: 0.0078\n",
      "\t eval ndcg@10: 0.0384\n",
      "\t eval map@10: 0.0266\n",
      "==============================\n"
     ]
    },
    {
     "name": "stderr",
     "output_type": "stream",
     "text": [
      "train: 100%|██████████| 315/315 [00:09<00:00, 34.55it/s]\n"
     ]
    },
    {
     "name": "stdout",
     "output_type": "stream",
     "text": [
      "Epoch 34 elapsed: 9.122s\n",
      "\t \u001b[32mtrain_loss: 0.3495\u001b[0m\n"
     ]
    },
    {
     "name": "stderr",
     "output_type": "stream",
     "text": [
      "eval_listwise: 100%|██████████| 4096/4096 [01:31<00:00, 44.81it/s]\n"
     ]
    },
    {
     "name": "stdout",
     "output_type": "stream",
     "text": [
      "\t eval recall@10: 0.0826\n",
      "\t eval precision@10: 0.0083\n",
      "\t eval ndcg@10: 0.0396\n",
      "\t eval map@10: 0.0267\n",
      "==============================\n"
     ]
    },
    {
     "name": "stderr",
     "output_type": "stream",
     "text": [
      "train: 100%|██████████| 315/315 [00:09<00:00, 31.99it/s]\n"
     ]
    },
    {
     "name": "stdout",
     "output_type": "stream",
     "text": [
      "Epoch 35 elapsed: 9.852s\n",
      "\t \u001b[32mtrain_loss: 0.3465\u001b[0m\n"
     ]
    },
    {
     "name": "stderr",
     "output_type": "stream",
     "text": [
      "eval_listwise: 100%|██████████| 4096/4096 [01:28<00:00, 46.13it/s]\n"
     ]
    },
    {
     "name": "stdout",
     "output_type": "stream",
     "text": [
      "\t eval recall@10: 0.0852\n",
      "\t eval precision@10: 0.0085\n",
      "\t eval ndcg@10: 0.0422\n",
      "\t eval map@10: 0.0293\n",
      "==============================\n"
     ]
    },
    {
     "name": "stderr",
     "output_type": "stream",
     "text": [
      "train: 100%|██████████| 315/315 [00:09<00:00, 33.65it/s]\n"
     ]
    },
    {
     "name": "stdout",
     "output_type": "stream",
     "text": [
      "Epoch 36 elapsed: 9.365s\n",
      "\t \u001b[32mtrain_loss: 0.3433\u001b[0m\n"
     ]
    },
    {
     "name": "stderr",
     "output_type": "stream",
     "text": [
      "eval_listwise: 100%|██████████| 4096/4096 [01:28<00:00, 46.02it/s]\n"
     ]
    },
    {
     "name": "stdout",
     "output_type": "stream",
     "text": [
      "\t eval recall@10: 0.0895\n",
      "\t eval precision@10: 0.0089\n",
      "\t eval ndcg@10: 0.0429\n",
      "\t eval map@10: 0.0290\n",
      "==============================\n"
     ]
    },
    {
     "name": "stderr",
     "output_type": "stream",
     "text": [
      "train: 100%|██████████| 315/315 [00:09<00:00, 32.79it/s]\n"
     ]
    },
    {
     "name": "stdout",
     "output_type": "stream",
     "text": [
      "Epoch 37 elapsed: 9.610s\n",
      "\t \u001b[32mtrain_loss: 0.3408\u001b[0m\n"
     ]
    },
    {
     "name": "stderr",
     "output_type": "stream",
     "text": [
      "eval_listwise: 100%|██████████| 4096/4096 [01:28<00:00, 46.33it/s]\n"
     ]
    },
    {
     "name": "stdout",
     "output_type": "stream",
     "text": [
      "\t eval recall@10: 0.0914\n",
      "\t eval precision@10: 0.0091\n",
      "\t eval ndcg@10: 0.0439\n",
      "\t eval map@10: 0.0297\n",
      "==============================\n"
     ]
    },
    {
     "name": "stderr",
     "output_type": "stream",
     "text": [
      "train: 100%|██████████| 315/315 [00:10<00:00, 29.11it/s]\n"
     ]
    },
    {
     "name": "stdout",
     "output_type": "stream",
     "text": [
      "Epoch 38 elapsed: 10.825s\n",
      "\t \u001b[32mtrain_loss: 0.3379\u001b[0m\n"
     ]
    },
    {
     "name": "stderr",
     "output_type": "stream",
     "text": [
      "eval_listwise: 100%|██████████| 4096/4096 [01:25<00:00, 47.69it/s]\n"
     ]
    },
    {
     "name": "stdout",
     "output_type": "stream",
     "text": [
      "\t eval recall@10: 0.0919\n",
      "\t eval precision@10: 0.0092\n",
      "\t eval ndcg@10: 0.0443\n",
      "\t eval map@10: 0.0301\n",
      "==============================\n"
     ]
    },
    {
     "name": "stderr",
     "output_type": "stream",
     "text": [
      "train: 100%|██████████| 315/315 [00:08<00:00, 37.63it/s]\n"
     ]
    },
    {
     "name": "stdout",
     "output_type": "stream",
     "text": [
      "Epoch 39 elapsed: 8.376s\n",
      "\t \u001b[32mtrain_loss: 0.3358\u001b[0m\n"
     ]
    },
    {
     "name": "stderr",
     "output_type": "stream",
     "text": [
      "eval_listwise: 100%|██████████| 4096/4096 [01:23<00:00, 49.32it/s]\n"
     ]
    },
    {
     "name": "stdout",
     "output_type": "stream",
     "text": [
      "\t eval recall@10: 0.0920\n",
      "\t eval precision@10: 0.0092\n",
      "\t eval ndcg@10: 0.0443\n",
      "\t eval map@10: 0.0300\n",
      "==============================\n"
     ]
    },
    {
     "name": "stderr",
     "output_type": "stream",
     "text": [
      "train: 100%|██████████| 315/315 [00:08<00:00, 37.04it/s]\n"
     ]
    },
    {
     "name": "stdout",
     "output_type": "stream",
     "text": [
      "Epoch 40 elapsed: 8.509s\n",
      "\t \u001b[32mtrain_loss: 0.3331\u001b[0m\n"
     ]
    },
    {
     "name": "stderr",
     "output_type": "stream",
     "text": [
      "eval_listwise: 100%|██████████| 4096/4096 [01:24<00:00, 48.57it/s]\n"
     ]
    },
    {
     "name": "stdout",
     "output_type": "stream",
     "text": [
      "\t eval recall@10: 0.0955\n",
      "\t eval precision@10: 0.0095\n",
      "\t eval ndcg@10: 0.0466\n",
      "\t eval map@10: 0.0320\n",
      "==============================\n"
     ]
    },
    {
     "name": "stderr",
     "output_type": "stream",
     "text": [
      "train: 100%|██████████| 315/315 [00:08<00:00, 36.91it/s]\n"
     ]
    },
    {
     "name": "stdout",
     "output_type": "stream",
     "text": [
      "Epoch 41 elapsed: 8.537s\n",
      "\t \u001b[32mtrain_loss: 0.3305\u001b[0m\n"
     ]
    },
    {
     "name": "stderr",
     "output_type": "stream",
     "text": [
      "eval_listwise: 100%|██████████| 4096/4096 [01:25<00:00, 47.82it/s]\n"
     ]
    },
    {
     "name": "stdout",
     "output_type": "stream",
     "text": [
      "\t eval recall@10: 0.1001\n",
      "\t eval precision@10: 0.0100\n",
      "\t eval ndcg@10: 0.0485\n",
      "\t eval map@10: 0.0331\n",
      "==============================\n"
     ]
    },
    {
     "name": "stderr",
     "output_type": "stream",
     "text": [
      "train: 100%|██████████| 315/315 [00:09<00:00, 33.32it/s]\n"
     ]
    },
    {
     "name": "stdout",
     "output_type": "stream",
     "text": [
      "Epoch 42 elapsed: 9.459s\n",
      "\t \u001b[32mtrain_loss: 0.3282\u001b[0m\n"
     ]
    },
    {
     "name": "stderr",
     "output_type": "stream",
     "text": [
      "eval_listwise: 100%|██████████| 4096/4096 [01:23<00:00, 48.99it/s]\n"
     ]
    },
    {
     "name": "stdout",
     "output_type": "stream",
     "text": [
      "\t eval recall@10: 0.1025\n",
      "\t eval precision@10: 0.0103\n",
      "\t eval ndcg@10: 0.0499\n",
      "\t eval map@10: 0.0341\n",
      "==============================\n"
     ]
    },
    {
     "name": "stderr",
     "output_type": "stream",
     "text": [
      "train: 100%|██████████| 315/315 [00:09<00:00, 33.45it/s]\n"
     ]
    },
    {
     "name": "stdout",
     "output_type": "stream",
     "text": [
      "Epoch 43 elapsed: 9.421s\n",
      "\t \u001b[32mtrain_loss: 0.3244\u001b[0m\n"
     ]
    },
    {
     "name": "stderr",
     "output_type": "stream",
     "text": [
      "eval_listwise: 100%|██████████| 4096/4096 [01:25<00:00, 47.71it/s]\n"
     ]
    },
    {
     "name": "stdout",
     "output_type": "stream",
     "text": [
      "\t eval recall@10: 0.1025\n",
      "\t eval precision@10: 0.0103\n",
      "\t eval ndcg@10: 0.0502\n",
      "\t eval map@10: 0.0346\n",
      "==============================\n"
     ]
    },
    {
     "name": "stderr",
     "output_type": "stream",
     "text": [
      "train: 100%|██████████| 315/315 [00:08<00:00, 35.32it/s]\n"
     ]
    },
    {
     "name": "stdout",
     "output_type": "stream",
     "text": [
      "Epoch 44 elapsed: 8.923s\n",
      "\t \u001b[32mtrain_loss: 0.3219\u001b[0m\n"
     ]
    },
    {
     "name": "stderr",
     "output_type": "stream",
     "text": [
      "eval_listwise: 100%|██████████| 4096/4096 [01:30<00:00, 45.23it/s]\n"
     ]
    },
    {
     "name": "stdout",
     "output_type": "stream",
     "text": [
      "\t eval recall@10: 0.1067\n",
      "\t eval precision@10: 0.0107\n",
      "\t eval ndcg@10: 0.0526\n",
      "\t eval map@10: 0.0365\n",
      "==============================\n"
     ]
    },
    {
     "name": "stderr",
     "output_type": "stream",
     "text": [
      "train: 100%|██████████| 315/315 [00:09<00:00, 34.84it/s]\n"
     ]
    },
    {
     "name": "stdout",
     "output_type": "stream",
     "text": [
      "Epoch 45 elapsed: 9.045s\n",
      "\t \u001b[32mtrain_loss: 0.3195\u001b[0m\n"
     ]
    },
    {
     "name": "stderr",
     "output_type": "stream",
     "text": [
      "eval_listwise: 100%|██████████| 4096/4096 [01:24<00:00, 48.41it/s]\n"
     ]
    },
    {
     "name": "stdout",
     "output_type": "stream",
     "text": [
      "\t eval recall@10: 0.1089\n",
      "\t eval precision@10: 0.0109\n",
      "\t eval ndcg@10: 0.0535\n",
      "\t eval map@10: 0.0371\n",
      "==============================\n"
     ]
    },
    {
     "name": "stderr",
     "output_type": "stream",
     "text": [
      "train: 100%|██████████| 315/315 [00:08<00:00, 35.27it/s]\n"
     ]
    },
    {
     "name": "stdout",
     "output_type": "stream",
     "text": [
      "Epoch 46 elapsed: 8.935s\n",
      "\t \u001b[32mtrain_loss: 0.3163\u001b[0m\n"
     ]
    },
    {
     "name": "stderr",
     "output_type": "stream",
     "text": [
      "eval_listwise: 100%|██████████| 4096/4096 [01:27<00:00, 46.99it/s]\n"
     ]
    },
    {
     "name": "stdout",
     "output_type": "stream",
     "text": [
      "\t eval recall@10: 0.1095\n",
      "\t eval precision@10: 0.0109\n",
      "\t eval ndcg@10: 0.0549\n",
      "\t eval map@10: 0.0384\n",
      "==============================\n"
     ]
    },
    {
     "name": "stderr",
     "output_type": "stream",
     "text": [
      "train: 100%|██████████| 315/315 [00:08<00:00, 37.03it/s]\n"
     ]
    },
    {
     "name": "stdout",
     "output_type": "stream",
     "text": [
      "Epoch 47 elapsed: 8.510s\n",
      "\t \u001b[32mtrain_loss: 0.3144\u001b[0m\n"
     ]
    },
    {
     "name": "stderr",
     "output_type": "stream",
     "text": [
      "eval_listwise: 100%|██████████| 4096/4096 [01:24<00:00, 48.32it/s]\n"
     ]
    },
    {
     "name": "stdout",
     "output_type": "stream",
     "text": [
      "\t eval recall@10: 0.1113\n",
      "\t eval precision@10: 0.0111\n",
      "\t eval ndcg@10: 0.0554\n",
      "\t eval map@10: 0.0387\n",
      "==============================\n"
     ]
    },
    {
     "name": "stderr",
     "output_type": "stream",
     "text": [
      "train: 100%|██████████| 315/315 [00:09<00:00, 33.94it/s]\n"
     ]
    },
    {
     "name": "stdout",
     "output_type": "stream",
     "text": [
      "Epoch 48 elapsed: 9.287s\n",
      "\t \u001b[32mtrain_loss: 0.3112\u001b[0m\n"
     ]
    },
    {
     "name": "stderr",
     "output_type": "stream",
     "text": [
      "eval_listwise: 100%|██████████| 4096/4096 [01:26<00:00, 47.16it/s]\n"
     ]
    },
    {
     "name": "stdout",
     "output_type": "stream",
     "text": [
      "\t eval recall@10: 0.1147\n",
      "\t eval precision@10: 0.0115\n",
      "\t eval ndcg@10: 0.0572\n",
      "\t eval map@10: 0.0401\n",
      "==============================\n"
     ]
    },
    {
     "name": "stderr",
     "output_type": "stream",
     "text": [
      "train: 100%|██████████| 315/315 [00:08<00:00, 36.53it/s]\n"
     ]
    },
    {
     "name": "stdout",
     "output_type": "stream",
     "text": [
      "Epoch 49 elapsed: 8.627s\n",
      "\t \u001b[32mtrain_loss: 0.3097\u001b[0m\n"
     ]
    },
    {
     "name": "stderr",
     "output_type": "stream",
     "text": [
      "eval_listwise: 100%|██████████| 4096/4096 [01:24<00:00, 48.30it/s]\n"
     ]
    },
    {
     "name": "stdout",
     "output_type": "stream",
     "text": [
      "\t eval recall@10: 0.1118\n",
      "\t eval precision@10: 0.0112\n",
      "\t eval ndcg@10: 0.0572\n",
      "\t eval map@10: 0.0408\n",
      "==============================\n"
     ]
    },
    {
     "name": "stderr",
     "output_type": "stream",
     "text": [
      "train: 100%|██████████| 315/315 [00:08<00:00, 36.74it/s]\n"
     ]
    },
    {
     "name": "stdout",
     "output_type": "stream",
     "text": [
      "Epoch 50 elapsed: 8.577s\n",
      "\t \u001b[32mtrain_loss: 0.305\u001b[0m\n"
     ]
    },
    {
     "name": "stderr",
     "output_type": "stream",
     "text": [
      "eval_listwise: 100%|██████████| 4096/4096 [01:24<00:00, 48.54it/s]\n"
     ]
    },
    {
     "name": "stdout",
     "output_type": "stream",
     "text": [
      "\t eval recall@10: 0.1162\n",
      "\t eval precision@10: 0.0116\n",
      "\t eval ndcg@10: 0.0579\n",
      "\t eval map@10: 0.0405\n",
      "==============================\n",
      "Thời gian thực hiện: 4753.123451 giây\n"
     ]
    }
   ],
   "source": [
    "model = DeepFM(\n",
    "        \"ranking\",\n",
    "        data_info,\n",
    "        embed_size=16,\n",
    "        n_epochs=50,\n",
    "        lr=1e-4,\n",
    "        lr_decay=False,\n",
    "        reg=None,\n",
    "        batch_size=2048,\n",
    "        num_neg=1,\n",
    "        use_bn=False,\n",
    "        dropout_rate=None,\n",
    "        hidden_units=(128, 64, 32),\n",
    "        tf_sess_config=None,\n",
    "        sampler=\"random\"\n",
    ")\n",
    "start_time = time.time()\n",
    "model.fit(\n",
    "    train_data,\n",
    "    neg_sampling=True,\n",
    "    verbose=2,\n",
    "    shuffle=True,\n",
    "    eval_data=test_data,\n",
    "    metrics=[\"recall\", \"precision\", \"ndcg\", \"map\"],\n",
    "    eval_batch_size=8192,\n",
    "    k=10,\n",
    "    eval_user_num=8192,\n",
    ")\n",
    "end_time = time.time()  # Kết thúc đo thời gian\n",
    "\n",
    "print(f\"Thời gian thực hiện: {end_time - start_time:.6f} giây\")"
   ]
  },
  {
   "cell_type": "code",
   "execution_count": 33,
   "id": "0bd5c39d",
   "metadata": {
    "execution": {
     "iopub.execute_input": "2025-06-09T14:56:47.391031Z",
     "iopub.status.busy": "2025-06-09T14:56:47.390539Z",
     "iopub.status.idle": "2025-06-09T14:56:47.401047Z",
     "shell.execute_reply": "2025-06-09T14:56:47.399734Z"
    },
    "papermill": {
     "duration": 2.541928,
     "end_time": "2025-06-09T14:56:47.403422",
     "exception": false,
     "start_time": "2025-06-09T14:56:44.861494",
     "status": "completed"
    },
    "tags": []
   },
   "outputs": [],
   "source": [
    "def recommend_courses(model, user_course , num_recommendations=5):\n",
    "    recommendations = {}\n",
    "\n",
    "    # Dự đoán cho tất cả người dùng trong test_user với thanh tiến trình\n",
    "    for user_id in tqdm(user_course['user'].unique(), desc=\"Khuyến nghị cho người dùng\", unit=\"user\"):\n",
    "        # Dự đoán cho tất cả các khóa học của người dùng (tắt chi tiết trong dự đoán)\n",
    "        recommended_courses = model.recommend_user(user=user_id,n_rec = num_recommendations)\n",
    "        recommended_courses = {key: value.tolist() if isinstance(value, np.ndarray) else value for key, value in recommended_courses.items()}\n",
    "        # Lấy top k khóa học dựa trên dự đoán\n",
    "        recommendations = recommendations | recommended_courses\n",
    "    return recommendations"
   ]
  },
  {
   "cell_type": "code",
   "execution_count": 34,
   "id": "9c0ce6ef",
   "metadata": {
    "execution": {
     "iopub.execute_input": "2025-06-09T14:56:52.530261Z",
     "iopub.status.busy": "2025-06-09T14:56:52.529843Z",
     "iopub.status.idle": "2025-06-09T14:56:52.541926Z",
     "shell.execute_reply": "2025-06-09T14:56:52.540829Z"
    },
    "papermill": {
     "duration": 2.64863,
     "end_time": "2025-06-09T14:56:52.543930",
     "exception": false,
     "start_time": "2025-06-09T14:56:49.895300",
     "status": "completed"
    },
    "tags": []
   },
   "outputs": [],
   "source": [
    "def recommend_courses_with_negative_sampling(model, \n",
    "                                             user_course_train_df, \n",
    "                                             user_course_test_df, \n",
    "                                             all_course_ids, \n",
    "                                             num_negatives=100):\n",
    "    \"\"\"\n",
    "    Trả về recommendations dạng {user_id: [item_ids]} gồm 1 positive + N negative, sắp xếp theo điểm dự đoán.\n",
    "    \n",
    "    Params:\n",
    "        model: object có hàm predict(user_id, item_id)\n",
    "        user_course_train_df: DataFrame với cột ['user_id', 'course_id']\n",
    "        user_course_test_df: DataFrame với cột ['user_id', 'course_id'], mỗi user chỉ 1 dòng\n",
    "        all_course_ids: list hoặc Series chứa toàn bộ course_id\n",
    "        num_negatives: số lượng mẫu âm\n",
    "    \n",
    "    Returns:\n",
    "        recommendations: dict {user_id: list[item_id]}, sắp xếp theo điểm dự đoán\n",
    "    \"\"\"\n",
    "    from tqdm import tqdm\n",
    "    import numpy as np\n",
    "\n",
    "    # Tiền xử lý: gom user -> list[course_id]\n",
    "    user_train_dict = user_course_train_df.groupby(\"user\")[\"item\"].apply(set).to_dict()\n",
    "    user_test_dict = user_course_test_df.set_index(\"user\")[\"item\"].to_dict()\n",
    "    \n",
    "    recommendations = {}\n",
    "    \n",
    "    for i, (user_id, true_item) in enumerate(tqdm(user_test_dict.items(), \n",
    "                                                   desc=\"Khuyến nghị với negative sampling\", unit=\"user\")):\n",
    "\n",
    "        train_items = user_train_dict.get(user_id, set())\n",
    "        excluded_items = train_items.union({true_item})\n",
    "\n",
    "        # Lấy negative items chưa tương tác\n",
    "        negative_candidates = [item for item in all_course_ids if item not in excluded_items]\n",
    "\n",
    "        if len(negative_candidates) < num_negatives:\n",
    "            continue  # Bỏ qua user nếu không đủ negative samples\n",
    "\n",
    "        negative_samples = np.random.choice(negative_candidates, num_negatives, replace=False).tolist()\n",
    "        candidate_items = [true_item] + negative_samples\n",
    "\n",
    "        # Dự đoán điểm\n",
    "        user_ids = [user_id] * len(candidate_items)\n",
    "        scores = model.predict(user_ids, candidate_items)\n",
    "        ranked_items = [item for _, item in sorted(zip(scores, candidate_items), reverse=True)]\n",
    "\n",
    "        recommendations[user_id] = ranked_items\n",
    "\n",
    "    return recommendations\n"
   ]
  },
  {
   "cell_type": "code",
   "execution_count": 35,
   "id": "22079c1e",
   "metadata": {
    "execution": {
     "iopub.execute_input": "2025-06-09T14:56:57.655871Z",
     "iopub.status.busy": "2025-06-09T14:56:57.655059Z",
     "iopub.status.idle": "2025-06-09T14:56:57.683533Z",
     "shell.execute_reply": "2025-06-09T14:56:57.681119Z"
    },
    "jupyter": {
     "source_hidden": true
    },
    "papermill": {
     "duration": 2.650725,
     "end_time": "2025-06-09T14:56:57.685661",
     "exception": false,
     "start_time": "2025-06-09T14:56:55.034936",
     "status": "completed"
    },
    "tags": []
   },
   "outputs": [],
   "source": [
    "import numpy as np\n",
    "\n",
    "# Precision@5\n",
    "def precision_at_k(y_true, recommendations, k=5):\n",
    "    precision_scores = []\n",
    "    for user, recommended_courses in recommendations.items():\n",
    "        true_courses = y_true.get(user, [])\n",
    "        if not true_courses:\n",
    "            continue\n",
    "        top_k_pred = recommended_courses[:k]\n",
    "        relevant = sum(1 for course in top_k_pred if course in true_courses)\n",
    "        precision_scores.append(relevant / k)\n",
    "    return np.mean(precision_scores) if precision_scores else 0.0\n",
    "\n",
    "# Recall@5\n",
    "def recall_at_k(y_true, recommendations, k=5):\n",
    "    recall_scores = []\n",
    "    for user, recommended_courses in recommendations.items():\n",
    "        true_courses = y_true.get(user, [])\n",
    "        if not true_courses:\n",
    "            continue\n",
    "        top_k_pred = recommended_courses[:k]\n",
    "        relevant = sum(1 for course in top_k_pred if course in true_courses)\n",
    "        recall_scores.append(relevant / len(true_courses))\n",
    "    return np.mean(recall_scores) if recall_scores else 0.0\n",
    "\n",
    "# Hit Rate@5\n",
    "def hit_rate_at_k(y_true, recommendations, k=5):\n",
    "    hit_rate_scores = []\n",
    "    for user, recommended_courses in recommendations.items():\n",
    "        true_courses = y_true.get(user, [])\n",
    "        if not true_courses:\n",
    "            continue\n",
    "        top_k_pred = recommended_courses[:k]\n",
    "        relevant = any(course in true_courses for course in top_k_pred)\n",
    "        hit_rate_scores.append(int(relevant))\n",
    "    return np.mean(hit_rate_scores) if hit_rate_scores else 0.0\n",
    "\n",
    "# NDCG@5\n",
    "def ndcg_at_k(y_true, recommendations, k=5):\n",
    "    dcg_scores = []\n",
    "    for user, recommended_courses in recommendations.items():\n",
    "        true_courses = y_true.get(user, [])\n",
    "        if not true_courses:\n",
    "            continue\n",
    "        top_k_pred = recommended_courses[:k]\n",
    "        dcg_score = sum(1 / np.log2(i + 2) for i, course in enumerate(top_k_pred) if course in true_courses)\n",
    "        idcg_score = sum(1 / np.log2(i + 2) for i in range(min(k, len(true_courses))))\n",
    "        dcg_scores.append(dcg_score / idcg_score if idcg_score > 0 else 0.0)\n",
    "    return np.mean(dcg_scores) if dcg_scores else 0.0\n",
    "\n",
    "# MAP@5\n",
    "def map_at_k(y_true, recommendations, k=5):\n",
    "    ap_scores = []\n",
    "    for user, recommended_courses in recommendations.items():\n",
    "        true_courses = y_true.get(user, [])\n",
    "        if not true_courses:\n",
    "            continue\n",
    "        top_k_pred = recommended_courses[:k]\n",
    "        relevant = [1 if course in true_courses else 0 for course in top_k_pred]\n",
    "        if sum(relevant) == 0:\n",
    "            ap_scores.append(0.0)\n",
    "            continue\n",
    "        precision_at_i = []\n",
    "        for i in range(min(k, len(top_k_pred))):\n",
    "            if relevant[i]:\n",
    "                precision_at_i.append(sum(relevant[:i+1]) / (i+1))\n",
    "        ap = sum(precision_at_i) / min(len(true_courses), k)\n",
    "        ap_scores.append(ap)\n",
    "    return np.mean(ap_scores) if ap_scores else 0.0\n",
    "\n",
    "# F1 Score@5\n",
    "def f1_at_k(y_true, recommendations, k=5):\n",
    "    f1_scores = []\n",
    "    for user, recommended_courses in recommendations.items():\n",
    "        true_courses = y_true.get(user, [])\n",
    "        if not true_courses:\n",
    "            continue\n",
    "        top_k_pred = recommended_courses[:k]\n",
    "        relevant = sum(1 for course in top_k_pred if course in true_courses)\n",
    "        precision = relevant / k\n",
    "        recall = relevant / len(true_courses)\n",
    "        if precision + recall > 0:\n",
    "            f1 = 2 * (precision * recall) / (precision + recall)\n",
    "        else:\n",
    "            f1 = 0.0\n",
    "        f1_scores.append(f1)\n",
    "    return np.mean(f1_scores) if f1_scores else 0.0\n",
    "\n",
    "# Hàm đánh giá mô hình\n",
    "def evaluate_model(y_true, recommendations, k=5):\n",
    "    \"\"\"\n",
    "    Đánh giá mô hình với Precision@5, Recall@5, Hit Rate@5, NDCG@5, MAP@5, F1 Score@5.\n",
    "\n",
    "    Parameters:\n",
    "    y_true: DataFrame hoặc dict chứa các khóa học thực tế trong tập TEST.\n",
    "    recommendations: dict chứa các khóa học khuyến nghị.\n",
    "    k: Số khóa học top cần xét (default là 5).\n",
    "\n",
    "    Returns:\n",
    "    dict: Các độ đo Precision@5, Recall@5, Hit Rate@5, NDCG@5, MAP@5, F1 Score@5.\n",
    "    \"\"\"\n",
    "    # Chuyển y_true thành dict\n",
    "    if hasattr(y_true, 'set_index'):\n",
    "        y_true_dict = {}\n",
    "        for user, item in y_true.set_index('user')['item'].items():\n",
    "            y_true_dict[user] = [item] if not isinstance(item, (list, set)) else list(item)\n",
    "        y_true = y_true_dict\n",
    "    else:\n",
    "        y_true = {k: [v] if not isinstance(v, (list, set)) else list(v) for k, v in y_true.items()}\n",
    "\n",
    "    precision = precision_at_k(y_true, recommendations, k)\n",
    "    recall = recall_at_k(y_true, recommendations, k)\n",
    "    hit_rate = hit_rate_at_k(y_true, recommendations, k)\n",
    "    ndcg = ndcg_at_k(y_true, recommendations, k)\n",
    "    map_k = map_at_k(y_true, recommendations, k)\n",
    "    f1 = f1_at_k(y_true, recommendations, k)\n",
    "\n",
    "    return {\n",
    "        f\"Baseline\": f\"V{i+1}-DeepFM@{k}\",\n",
    "        f\"Precision\": round(precision,4),\n",
    "        f\"Recall\": round(recall,4),\n",
    "        f\"HitRate\": round(hit_rate,4),\n",
    "        f\"NDCG\": round(ndcg,4),\n",
    "        f\"MAP\": round(map_k,4),\n",
    "        f\"F1-score\": round(f1,4)\n",
    "    }"
   ]
  },
  {
   "cell_type": "code",
   "execution_count": 36,
   "id": "39b79b1d",
   "metadata": {
    "execution": {
     "iopub.execute_input": "2025-06-09T14:57:02.657452Z",
     "iopub.status.busy": "2025-06-09T14:57:02.657013Z",
     "iopub.status.idle": "2025-06-09T15:02:28.291133Z",
     "shell.execute_reply": "2025-06-09T15:02:28.290061Z"
    },
    "papermill": {
     "duration": 328.151482,
     "end_time": "2025-06-09T15:02:28.293663",
     "exception": false,
     "start_time": "2025-06-09T14:57:00.142181",
     "status": "completed"
    },
    "tags": []
   },
   "outputs": [
    {
     "name": "stderr",
     "output_type": "stream",
     "text": [
      "Khuyến nghị cho người dùng: 100%|██████████| 24540/24540 [05:25<00:00, 75.38user/s]"
     ]
    },
    {
     "name": "stdout",
     "output_type": "stream",
     "text": [
      "Thời gian thực hiện: 325.627659 giây\n"
     ]
    },
    {
     "name": "stderr",
     "output_type": "stream",
     "text": [
      "\n"
     ]
    }
   ],
   "source": [
    "\n",
    "start_time = time.time()\n",
    "results1 = recommend_courses(model,test,10)\n",
    "end_time = time.time()  # Kết thúc đo thời gian\n",
    "\n",
    "print(f\"Thời gian thực hiện: {end_time - start_time:.6f} giây\")\n"
   ]
  },
  {
   "cell_type": "code",
   "execution_count": 37,
   "id": "f13ae2bb",
   "metadata": {
    "execution": {
     "iopub.execute_input": "2025-06-09T15:02:33.663697Z",
     "iopub.status.busy": "2025-06-09T15:02:33.663242Z",
     "iopub.status.idle": "2025-06-09T15:02:33.726078Z",
     "shell.execute_reply": "2025-06-09T15:02:33.724301Z"
    },
    "papermill": {
     "duration": 2.751588,
     "end_time": "2025-06-09T15:02:33.728013",
     "exception": false,
     "start_time": "2025-06-09T15:02:30.976425",
     "status": "completed"
    },
    "tags": []
   },
   "outputs": [
    {
     "data": {
      "text/html": [
       "<div>\n",
       "<style scoped>\n",
       "    .dataframe tbody tr th:only-of-type {\n",
       "        vertical-align: middle;\n",
       "    }\n",
       "\n",
       "    .dataframe tbody tr th {\n",
       "        vertical-align: top;\n",
       "    }\n",
       "\n",
       "    .dataframe thead th {\n",
       "        text-align: right;\n",
       "    }\n",
       "</style>\n",
       "<table border=\"1\" class=\"dataframe\">\n",
       "  <thead>\n",
       "    <tr style=\"text-align: right;\">\n",
       "      <th></th>\n",
       "      <th>user</th>\n",
       "      <th>item</th>\n",
       "    </tr>\n",
       "  </thead>\n",
       "  <tbody>\n",
       "    <tr>\n",
       "      <th>0</th>\n",
       "      <td>U_100090</td>\n",
       "      <td>C_707022</td>\n",
       "    </tr>\n",
       "    <tr>\n",
       "      <th>1</th>\n",
       "      <td>U_100090</td>\n",
       "      <td>C_676687</td>\n",
       "    </tr>\n",
       "    <tr>\n",
       "      <th>2</th>\n",
       "      <td>U_100090</td>\n",
       "      <td>C_697073</td>\n",
       "    </tr>\n",
       "    <tr>\n",
       "      <th>3</th>\n",
       "      <td>U_100090</td>\n",
       "      <td>C_948038</td>\n",
       "    </tr>\n",
       "    <tr>\n",
       "      <th>4</th>\n",
       "      <td>U_100090</td>\n",
       "      <td>C_680716</td>\n",
       "    </tr>\n",
       "    <tr>\n",
       "      <th>...</th>\n",
       "      <td>...</td>\n",
       "      <td>...</td>\n",
       "    </tr>\n",
       "    <tr>\n",
       "      <th>322520</th>\n",
       "      <td>U_997506</td>\n",
       "      <td>C_696673</td>\n",
       "    </tr>\n",
       "    <tr>\n",
       "      <th>322521</th>\n",
       "      <td>U_99772</td>\n",
       "      <td>C_697032</td>\n",
       "    </tr>\n",
       "    <tr>\n",
       "      <th>322522</th>\n",
       "      <td>U_99772</td>\n",
       "      <td>C_676701</td>\n",
       "    </tr>\n",
       "    <tr>\n",
       "      <th>322523</th>\n",
       "      <td>U_99772</td>\n",
       "      <td>C_682485</td>\n",
       "    </tr>\n",
       "    <tr>\n",
       "      <th>322524</th>\n",
       "      <td>U_99772</td>\n",
       "      <td>C_1903985</td>\n",
       "    </tr>\n",
       "  </tbody>\n",
       "</table>\n",
       "<p>322525 rows × 2 columns</p>\n",
       "</div>"
      ],
      "text/plain": [
       "            user       item\n",
       "0       U_100090   C_707022\n",
       "1       U_100090   C_676687\n",
       "2       U_100090   C_697073\n",
       "3       U_100090   C_948038\n",
       "4       U_100090   C_680716\n",
       "...          ...        ...\n",
       "322520  U_997506   C_696673\n",
       "322521   U_99772   C_697032\n",
       "322522   U_99772   C_676701\n",
       "322523   U_99772   C_682485\n",
       "322524   U_99772  C_1903985\n",
       "\n",
       "[322525 rows x 2 columns]"
      ]
     },
     "execution_count": 37,
     "metadata": {},
     "output_type": "execute_result"
    }
   ],
   "source": [
    "train[['user','item']]"
   ]
  },
  {
   "cell_type": "code",
   "execution_count": 38,
   "id": "74365f41",
   "metadata": {
    "execution": {
     "iopub.execute_input": "2025-06-09T15:02:39.214406Z",
     "iopub.status.busy": "2025-06-09T15:02:39.213826Z",
     "iopub.status.idle": "2025-06-09T15:02:39.433903Z",
     "shell.execute_reply": "2025-06-09T15:02:39.432646Z"
    },
    "papermill": {
     "duration": 2.895662,
     "end_time": "2025-06-09T15:02:39.436172",
     "exception": false,
     "start_time": "2025-06-09T15:02:36.540510",
     "status": "completed"
    },
    "tags": []
   },
   "outputs": [],
   "source": [
    "user_course_train=train[['user','item']]\n",
    "# \n",
    "user_course_test = test[['user','item']]\n",
    "all_course_ids = pd.concat([train,test],axis=0)['item'].drop_duplicates()"
   ]
  },
  {
   "cell_type": "code",
   "execution_count": 39,
   "id": "73c400c7",
   "metadata": {
    "execution": {
     "iopub.execute_input": "2025-06-09T15:02:44.904036Z",
     "iopub.status.busy": "2025-06-09T15:02:44.903610Z",
     "iopub.status.idle": "2025-06-09T15:04:41.903435Z",
     "shell.execute_reply": "2025-06-09T15:04:41.901981Z"
    },
    "papermill": {
     "duration": 119.667941,
     "end_time": "2025-06-09T15:04:41.906403",
     "exception": false,
     "start_time": "2025-06-09T15:02:42.238462",
     "status": "completed"
    },
    "tags": []
   },
   "outputs": [
    {
     "name": "stderr",
     "output_type": "stream",
     "text": [
      "Khuyến nghị với negative sampling: 100%|██████████| 24540/24540 [01:56<00:00, 211.51user/s]"
     ]
    },
    {
     "name": "stdout",
     "output_type": "stream",
     "text": [
      "Thời gian thực hiện: 116.992971 giây\n"
     ]
    },
    {
     "name": "stderr",
     "output_type": "stream",
     "text": [
      "\n"
     ]
    }
   ],
   "source": [
    "start_time = time.time()\n",
    "results2 = recommend_courses_with_negative_sampling(model, user_course_train, user_course_test, all_course_ids, num_negatives=100)\n",
    "end_time = time.time()  # Kết thúc đo thời gian\n",
    "\n",
    "print(f\"Thời gian thực hiện: {end_time - start_time:.6f} giây\")\n",
    "# print(results)"
   ]
  },
  {
   "cell_type": "code",
   "execution_count": 40,
   "id": "acba914f",
   "metadata": {
    "execution": {
     "iopub.execute_input": "2025-06-09T15:04:47.528134Z",
     "iopub.status.busy": "2025-06-09T15:04:47.527712Z",
     "iopub.status.idle": "2025-06-09T15:04:48.391577Z",
     "shell.execute_reply": "2025-06-09T15:04:48.390206Z"
    },
    "papermill": {
     "duration": 3.707876,
     "end_time": "2025-06-09T15:04:48.393817",
     "exception": false,
     "start_time": "2025-06-09T15:04:44.685941",
     "status": "completed"
    },
    "tags": []
   },
   "outputs": [],
   "source": [
    "eval_5 = evaluate_model(test[[\"user\",\"item\"]], results1,5)\n",
    "eval_10 = evaluate_model(test[[\"user\",\"item\"]], results1,10)"
   ]
  },
  {
   "cell_type": "code",
   "execution_count": 41,
   "id": "a778f5ae",
   "metadata": {
    "execution": {
     "iopub.execute_input": "2025-06-09T15:04:53.972605Z",
     "iopub.status.busy": "2025-06-09T15:04:53.971988Z",
     "iopub.status.idle": "2025-06-09T15:04:53.981174Z",
     "shell.execute_reply": "2025-06-09T15:04:53.979942Z"
    },
    "papermill": {
     "duration": 2.765485,
     "end_time": "2025-06-09T15:04:53.983209",
     "exception": false,
     "start_time": "2025-06-09T15:04:51.217724",
     "status": "completed"
    },
    "tags": []
   },
   "outputs": [
    {
     "data": {
      "text/plain": [
       "{'Baseline': ['V1-DeepFM@5', 'V1-DeepFM@10'],\n",
       " 'Precision': [0.0128, 0.011],\n",
       " 'Recall': [0.0639, 0.1105],\n",
       " 'HitRate': [0.0639, 0.1105],\n",
       " 'NDCG': [0.0399, 0.0548],\n",
       " 'MAP': [0.0321, 0.0382],\n",
       " 'F1-score': [0.0213, 0.0201]}"
      ]
     },
     "execution_count": 41,
     "metadata": {},
     "output_type": "execute_result"
    }
   ],
   "source": [
    "{k: [eval_5[k], eval_10[k]] for k in eval_5}"
   ]
  },
  {
   "cell_type": "code",
   "execution_count": 42,
   "id": "310df69b",
   "metadata": {
    "execution": {
     "iopub.execute_input": "2025-06-09T15:04:59.564027Z",
     "iopub.status.busy": "2025-06-09T15:04:59.563523Z",
     "iopub.status.idle": "2025-06-09T15:05:00.712651Z",
     "shell.execute_reply": "2025-06-09T15:05:00.711352Z"
    },
    "papermill": {
     "duration": 3.880416,
     "end_time": "2025-06-09T15:05:00.714735",
     "exception": false,
     "start_time": "2025-06-09T15:04:56.834319",
     "status": "completed"
    },
    "tags": []
   },
   "outputs": [
    {
     "data": {
      "text/plain": [
       "{'Baseline': ['V1-DeepFM@5', 'V1-DeepFM@10'],\n",
       " 'Precision': [0.0923, 0.0615],\n",
       " 'Recall': [0.4615, 0.6147],\n",
       " 'HitRate': [0.4615, 0.6147],\n",
       " 'NDCG': [0.3291, 0.3787],\n",
       " 'MAP': [0.2853, 0.3059],\n",
       " 'F1-score': [0.1538, 0.1118]}"
      ]
     },
     "execution_count": 42,
     "metadata": {},
     "output_type": "execute_result"
    }
   ],
   "source": [
    "eval_5 = evaluate_model(test[[\"user\",\"item\"]], results2,5)\n",
    "eval_10 = evaluate_model(test[[\"user\",\"item\"]], results2,10)\n",
    "{k: [eval_5[k], eval_10[k]] for k in eval_5}"
   ]
  }
 ],
 "metadata": {
  "kaggle": {
   "accelerator": "none",
   "dataSources": [
    {
     "datasetId": 7259858,
     "sourceId": 11578790,
     "sourceType": "datasetVersion"
    },
    {
     "sourceId": 226720178,
     "sourceType": "kernelVersion"
    },
    {
     "sourceId": 240478674,
     "sourceType": "kernelVersion"
    },
    {
     "sourceId": 244142845,
     "sourceType": "kernelVersion"
    },
    {
     "sourceId": 244308495,
     "sourceType": "kernelVersion"
    },
    {
     "sourceId": 244327544,
     "sourceType": "kernelVersion"
    },
    {
     "sourceId": 244350711,
     "sourceType": "kernelVersion"
    },
    {
     "sourceId": 244484368,
     "sourceType": "kernelVersion"
    }
   ],
   "dockerImageVersionId": 30918,
   "isGpuEnabled": false,
   "isInternetEnabled": true,
   "language": "python",
   "sourceType": "notebook"
  },
  "kernelspec": {
   "display_name": "Python 3",
   "language": "python",
   "name": "python3"
  },
  "language_info": {
   "codemirror_mode": {
    "name": "ipython",
    "version": 3
   },
   "file_extension": ".py",
   "mimetype": "text/x-python",
   "name": "python",
   "nbconvert_exporter": "python",
   "pygments_lexer": "ipython3",
   "version": "3.10.12"
  },
  "papermill": {
   "default_parameters": {},
   "duration": 5558.708482,
   "end_time": "2025-06-09T15:05:06.681180",
   "environment_variables": {},
   "exception": null,
   "input_path": "__notebook__.ipynb",
   "output_path": "__notebook__.ipynb",
   "parameters": {},
   "start_time": "2025-06-09T13:32:27.972698",
   "version": "2.6.0"
  }
 },
 "nbformat": 4,
 "nbformat_minor": 5
}
