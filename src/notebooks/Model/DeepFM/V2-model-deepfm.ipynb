{
 "cells": [
  {
   "cell_type": "code",
   "execution_count": 1,
   "id": "a800cc90",
   "metadata": {
    "_cell_guid": "b1076dfc-b9ad-4769-8c92-a6c4dae69d19",
    "_uuid": "8f2839f25d086af736a60e9eeb907d3b93b6e0e5",
    "execution": {
     "iopub.execute_input": "2025-07-13T07:13:52.877264Z",
     "iopub.status.busy": "2025-07-13T07:13:52.876929Z",
     "iopub.status.idle": "2025-07-13T07:13:53.930473Z",
     "shell.execute_reply": "2025-07-13T07:13:53.929034Z"
    },
    "papermill": {
     "duration": 1.066516,
     "end_time": "2025-07-13T07:13:53.932308",
     "exception": false,
     "start_time": "2025-07-13T07:13:52.865792",
     "status": "completed"
    },
    "tags": []
   },
   "outputs": [
    {
     "name": "stdout",
     "output_type": "stream",
     "text": [
      "/kaggle/input/preprocessing-course-json/course.json\n",
      "/kaggle/input/preprocessing-course-json/__results__.html\n",
      "/kaggle/input/preprocessing-course-json/__notebook__.ipynb\n",
      "/kaggle/input/preprocessing-course-json/__output__.json\n",
      "/kaggle/input/preprocessing-course-json/custom.css\n",
      "/kaggle/input/random-user/sample_user.csv\n",
      "/kaggle/input/random-user/__results__.html\n",
      "/kaggle/input/random-user/__notebook__.ipynb\n",
      "/kaggle/input/random-user/__output__.json\n",
      "/kaggle/input/random-user/custom.css\n",
      "/kaggle/input/preprocessing-user-json/user.csv\n",
      "/kaggle/input/preprocessing-user-json/__results__.html\n",
      "/kaggle/input/preprocessing-user-json/user-5-100.csv\n",
      "/kaggle/input/preprocessing-user-json/__notebook__.ipynb\n",
      "/kaggle/input/preprocessing-user-json/__output__.json\n",
      "/kaggle/input/preprocessing-user-json/user-course.csv\n",
      "/kaggle/input/preprocessing-user-json/custom.css\n",
      "/kaggle/input/dataver4/__results__.html\n",
      "/kaggle/input/dataver4/__huggingface_repos__.json\n",
      "/kaggle/input/dataver4/dataver4.h5\n",
      "/kaggle/input/dataver4/__notebook__.ipynb\n",
      "/kaggle/input/dataver4/__output__.json\n",
      "/kaggle/input/dataver4/custom.css\n",
      "/kaggle/input/dataver2/__results__.html\n",
      "/kaggle/input/dataver2/data_ver2.h5\n",
      "/kaggle/input/dataver2/__notebook__.ipynb\n",
      "/kaggle/input/dataver2/__output__.json\n",
      "/kaggle/input/dataver2/custom.css\n",
      "/kaggle/input/dataset-version-3/dataver3.h5\n",
      "/kaggle/input/dataver5/__results__.html\n",
      "/kaggle/input/dataver5/__huggingface_repos__.json\n",
      "/kaggle/input/dataver5/__notebook__.ipynb\n",
      "/kaggle/input/dataver5/data_ver5.h5\n",
      "/kaggle/input/dataver5/__output__.json\n",
      "/kaggle/input/dataver5/custom.css\n",
      "/kaggle/input/dataver2-train-test/__results__.html\n",
      "/kaggle/input/dataver2-train-test/data_ver2.h5\n",
      "/kaggle/input/dataver2-train-test/__notebook__.ipynb\n",
      "/kaggle/input/dataver2-train-test/__output__.json\n",
      "/kaggle/input/dataver2-train-test/custom.css\n",
      "/kaggle/input/dataver3/dataver3.h5\n",
      "/kaggle/input/dataver3/__results__.html\n",
      "/kaggle/input/dataver3/__notebook__.ipynb\n",
      "/kaggle/input/dataver3/__output__.json\n",
      "/kaggle/input/dataver3/custom.css\n",
      "/kaggle/input/combine-dataset/__results__.html\n",
      "/kaggle/input/combine-dataset/combine_data.h5\n",
      "/kaggle/input/combine-dataset/__notebook__.ipynb\n",
      "/kaggle/input/combine-dataset/__output__.json\n",
      "/kaggle/input/combine-dataset/custom.css\n"
     ]
    }
   ],
   "source": [
    "# This Python 3 environment comes with many helpful analytics libraries installed\n",
    "# It is defined by the kaggle/python Docker image: https://github.com/kaggle/docker-python\n",
    "# For example, here's several helpful packages to load\n",
    "\n",
    "import numpy as np # linear algebra\n",
    "import pandas as pd # data processing, CSV file I/O (e.g. pd.read_csv)\n",
    "import time\n",
    "from tqdm import tqdm\n",
    "# Input data files are available in the read-only \"../input/\" directory\n",
    "# For example, running this (by clicking run or pressing Shift+Enter) will list all files under the input directory\n",
    "\n",
    "import os\n",
    "for dirname, _, filenames in os.walk('/kaggle/input'):\n",
    "    for filename in filenames:\n",
    "        print(os.path.join(dirname, filename))\n",
    "\n",
    "# You can write up to 20GB to the current directory (/kaggle/working/) that gets preserved as output when you create a version using \"Save & Run All\" \n",
    "# You can also write temporary files to /kaggle/temp/, but they won't be saved outside of the current session"
   ]
  },
  {
   "cell_type": "code",
   "execution_count": 2,
   "id": "cd87eea4",
   "metadata": {
    "execution": {
     "iopub.execute_input": "2025-07-13T07:13:53.952094Z",
     "iopub.status.busy": "2025-07-13T07:13:53.951557Z",
     "iopub.status.idle": "2025-07-13T07:13:53.956058Z",
     "shell.execute_reply": "2025-07-13T07:13:53.955045Z"
    },
    "papermill": {
     "duration": 0.015913,
     "end_time": "2025-07-13T07:13:53.957780",
     "exception": false,
     "start_time": "2025-07-13T07:13:53.941867",
     "status": "completed"
    },
    "tags": []
   },
   "outputs": [],
   "source": [
    "i=1\n",
    "path=[\n",
    "    \"/kaggle/input/combine-dataset/combine_data.h5\",\n",
    "    \"/kaggle/input/dataver2-train-test/data_ver2.h5\",\n",
    "    \"/kaggle/input/dataver3/dataver3.h5\",\n",
    "    \"/kaggle/input/dataver4/dataver4.h5\",\n",
    "    \"/kaggle/input/dataver5/data_ver5.h5\"\n",
    "     ]"
   ]
  },
  {
   "cell_type": "code",
   "execution_count": 3,
   "id": "6ddf3aa5",
   "metadata": {
    "execution": {
     "iopub.execute_input": "2025-07-13T07:13:53.976709Z",
     "iopub.status.busy": "2025-07-13T07:13:53.976317Z",
     "iopub.status.idle": "2025-07-13T07:16:17.078839Z",
     "shell.execute_reply": "2025-07-13T07:16:17.077316Z"
    },
    "papermill": {
     "duration": 143.114298,
     "end_time": "2025-07-13T07:16:17.081097",
     "exception": false,
     "start_time": "2025-07-13T07:13:53.966799",
     "status": "completed"
    },
    "tags": []
   },
   "outputs": [],
   "source": [
    "%%capture\n",
    "! pip install tensorflow==2.12.0\n",
    "! pip install -U LibRecommender"
   ]
  },
  {
   "cell_type": "code",
   "execution_count": 4,
   "id": "7397144e",
   "metadata": {
    "execution": {
     "iopub.execute_input": "2025-07-13T07:16:17.100851Z",
     "iopub.status.busy": "2025-07-13T07:16:17.100429Z",
     "iopub.status.idle": "2025-07-13T07:17:14.614399Z",
     "shell.execute_reply": "2025-07-13T07:17:14.613379Z"
    },
    "papermill": {
     "duration": 57.526129,
     "end_time": "2025-07-13T07:17:14.616559",
     "exception": false,
     "start_time": "2025-07-13T07:16:17.090430",
     "status": "completed"
    },
    "tags": []
   },
   "outputs": [],
   "source": [
    "import numpy as np\n",
    "import pandas as pd\n",
    "from libreco.data import split_by_num_chrono, DatasetFeat\n",
    "from libreco.algorithms import DeepFM \n",
    "\n",
    "item_data = pd.read_json(\"/kaggle/input/preprocessing-course-json/course.json\", lines=True)\n",
    "user_item_data = pd.read_csv(\"/kaggle/input/preprocessing-user-json/user-course.csv\")\n",
    "user_data = pd.read_csv(\"/kaggle/input/preprocessing-user-json/user-5-100.csv\")"
   ]
  },
  {
   "cell_type": "code",
   "execution_count": 5,
   "id": "d5dc2b75",
   "metadata": {
    "execution": {
     "iopub.execute_input": "2025-07-13T07:17:14.636759Z",
     "iopub.status.busy": "2025-07-13T07:17:14.636350Z",
     "iopub.status.idle": "2025-07-13T07:18:50.909799Z",
     "shell.execute_reply": "2025-07-13T07:18:50.908712Z"
    },
    "papermill": {
     "duration": 96.294907,
     "end_time": "2025-07-13T07:18:50.921354",
     "exception": false,
     "start_time": "2025-07-13T07:17:14.626447",
     "status": "completed"
    },
    "tags": []
   },
   "outputs": [
    {
     "data": {
      "text/html": [
       "<div>\n",
       "<style scoped>\n",
       "    .dataframe tbody tr th:only-of-type {\n",
       "        vertical-align: middle;\n",
       "    }\n",
       "\n",
       "    .dataframe tbody tr th {\n",
       "        vertical-align: top;\n",
       "    }\n",
       "\n",
       "    .dataframe thead th {\n",
       "        text-align: right;\n",
       "    }\n",
       "</style>\n",
       "<table border=\"1\" class=\"dataframe\">\n",
       "  <thead>\n",
       "    <tr style=\"text-align: right;\">\n",
       "      <th></th>\n",
       "      <th>user_id</th>\n",
       "      <th>course_id</th>\n",
       "      <th>enroll_time</th>\n",
       "      <th>course_name</th>\n",
       "      <th>course_prerequisites</th>\n",
       "      <th>course_about</th>\n",
       "      <th>school_id</th>\n",
       "      <th>school_name</th>\n",
       "      <th>school_about</th>\n",
       "      <th>school_motto</th>\n",
       "      <th>...</th>\n",
       "      <th>teacher_org_name</th>\n",
       "      <th>user_gender</th>\n",
       "      <th>exercise_id</th>\n",
       "      <th>exercise_num_problem</th>\n",
       "      <th>course_total_comments</th>\n",
       "      <th>user_course_num_comment</th>\n",
       "      <th>user_course_num_replies</th>\n",
       "      <th>video_id</th>\n",
       "      <th>video_ccid</th>\n",
       "      <th>video_duration</th>\n",
       "    </tr>\n",
       "  </thead>\n",
       "  <tbody>\n",
       "    <tr>\n",
       "      <th>0</th>\n",
       "      <td>U_1000129</td>\n",
       "      <td>C_735210</td>\n",
       "      <td>1599328511</td>\n",
       "      <td>university physics-electromagnetism (teaching ...</td>\n",
       "      <td>calculus newtonian mechanics</td>\n",
       "      <td>physics, explore the laws of nature, and pursu...</td>\n",
       "      <td>[S_148]</td>\n",
       "      <td>[yunnan university]</td>\n",
       "      <td>[yunnan university abbreviated yunnan universi...</td>\n",
       "      <td>[unknown]</td>\n",
       "      <td>...</td>\n",
       "      <td>[yunnan university]</td>\n",
       "      <td>0</td>\n",
       "      <td>[Ex_635488, Ex_635480, Ex_635544, Ex_635491, E...</td>\n",
       "      <td>[5, 4, 2, 4, 7, 5, 5, 1, 6, 2, 5, 2, 1, 7, 3, ...</td>\n",
       "      <td>461</td>\n",
       "      <td>0</td>\n",
       "      <td>0</td>\n",
       "      <td>[V_635512, V_635472, V_635516, V_635495, V_635...</td>\n",
       "      <td>[196B00DFA5515EB09C33DC5901307461, 1974570A080...</td>\n",
       "      <td>[889.363, 578.897, 404.653, 686.529, 429.572, ...</td>\n",
       "    </tr>\n",
       "    <tr>\n",
       "      <th>1</th>\n",
       "      <td>U_1000129</td>\n",
       "      <td>C_799796</td>\n",
       "      <td>1599328642</td>\n",
       "      <td>university physics 1 (mechanics, thermal)</td>\n",
       "      <td>no prerequisite</td>\n",
       "      <td>university physics is a basic physics course f...</td>\n",
       "      <td>[S_1]</td>\n",
       "      <td>[tsinghua university]</td>\n",
       "      <td>[referred tsinghua short directly ministry edu...</td>\n",
       "      <td>[selfimprovement virtue carry thing]</td>\n",
       "      <td>...</td>\n",
       "      <td>[tsinghua university, tsinghua university, tsi...</td>\n",
       "      <td>0</td>\n",
       "      <td>[Ex_822309, Ex_822340, Ex_822311, Ex_822327, E...</td>\n",
       "      <td>[4, 23, 7, 4, 5, 6, 10, 1, 8, 3, 5, 4, 4, 4, 1...</td>\n",
       "      <td>448</td>\n",
       "      <td>0</td>\n",
       "      <td>0</td>\n",
       "      <td>[V_822227, V_822159, V_822282, V_822255, V_822...</td>\n",
       "      <td>[009035DB2BED87229C33DC5901307461, 015AC6C3159...</td>\n",
       "      <td>[237.67, 582.588, 405.612, 157.22, 392.304, 45...</td>\n",
       "    </tr>\n",
       "    <tr>\n",
       "      <th>2</th>\n",
       "      <td>U_1000129</td>\n",
       "      <td>C_1925903</td>\n",
       "      <td>1599403037</td>\n",
       "      <td>mathematical analysis ii</td>\n",
       "      <td>mathematical analysis i</td>\n",
       "      <td>the mooc course in mathematical analysis ii ma...</td>\n",
       "      <td>[S_76]</td>\n",
       "      <td>[beijing jiaotong university]</td>\n",
       "      <td>[beijing jiaotong university national key univ...</td>\n",
       "      <td>[unknown]</td>\n",
       "      <td>...</td>\n",
       "      <td>[beijing jiaotong university]</td>\n",
       "      <td>0</td>\n",
       "      <td>[Ex_6731684, Ex_6729452, Ex_6729437, Ex_672939...</td>\n",
       "      <td>[4, 1, 10, 5, 3, 7, 5, 1, 1, 7, 7, 7, 1, 6, 2,...</td>\n",
       "      <td>1</td>\n",
       "      <td>0</td>\n",
       "      <td>0</td>\n",
       "      <td>NaN</td>\n",
       "      <td>NaN</td>\n",
       "      <td>NaN</td>\n",
       "    </tr>\n",
       "    <tr>\n",
       "      <th>3</th>\n",
       "      <td>U_1000129</td>\n",
       "      <td>C_1992970</td>\n",
       "      <td>1599403537</td>\n",
       "      <td>mathematical analysis iii</td>\n",
       "      <td>no prerequisite</td>\n",
       "      <td>the mooc course of mathematical analysis iii c...</td>\n",
       "      <td>[S_76]</td>\n",
       "      <td>[beijing jiaotong university]</td>\n",
       "      <td>[beijing jiaotong university national key univ...</td>\n",
       "      <td>[unknown]</td>\n",
       "      <td>...</td>\n",
       "      <td>[beijing jiaotong university]</td>\n",
       "      <td>0</td>\n",
       "      <td>[Ex_6882416, Ex_6882349, Ex_6882375, Ex_688239...</td>\n",
       "      <td>[8, 4, 6, 4, 6, 5, 6, 5, 5, 5, 6, 6, 6, 6, 6, ...</td>\n",
       "      <td>4</td>\n",
       "      <td>0</td>\n",
       "      <td>0</td>\n",
       "      <td>NaN</td>\n",
       "      <td>NaN</td>\n",
       "      <td>NaN</td>\n",
       "    </tr>\n",
       "    <tr>\n",
       "      <th>4</th>\n",
       "      <td>U_1000129</td>\n",
       "      <td>C_680884</td>\n",
       "      <td>1602844869</td>\n",
       "      <td>complex function</td>\n",
       "      <td>no prerequisite</td>\n",
       "      <td>let students master the mathematical theoretic...</td>\n",
       "      <td>[S_31]</td>\n",
       "      <td>[xian jiaotong university]</td>\n",
       "      <td>[xian jiaotong university referred xian jiaoto...</td>\n",
       "      <td>[diligent study righteous inspiring perseveran...</td>\n",
       "      <td>...</td>\n",
       "      <td>[xian jiaotong university, xian jiaotong unive...</td>\n",
       "      <td>0</td>\n",
       "      <td>[Ex_136594, Ex_136559, Ex_136574, Ex_136545, E...</td>\n",
       "      <td>[13, 15, 14, 15, 14, 16]</td>\n",
       "      <td>42</td>\n",
       "      <td>0</td>\n",
       "      <td>0</td>\n",
       "      <td>NaN</td>\n",
       "      <td>NaN</td>\n",
       "      <td>NaN</td>\n",
       "    </tr>\n",
       "    <tr>\n",
       "      <th>...</th>\n",
       "      <td>...</td>\n",
       "      <td>...</td>\n",
       "      <td>...</td>\n",
       "      <td>...</td>\n",
       "      <td>...</td>\n",
       "      <td>...</td>\n",
       "      <td>...</td>\n",
       "      <td>...</td>\n",
       "      <td>...</td>\n",
       "      <td>...</td>\n",
       "      <td>...</td>\n",
       "      <td>...</td>\n",
       "      <td>...</td>\n",
       "      <td>...</td>\n",
       "      <td>...</td>\n",
       "      <td>...</td>\n",
       "      <td>...</td>\n",
       "      <td>...</td>\n",
       "      <td>...</td>\n",
       "      <td>...</td>\n",
       "      <td>...</td>\n",
       "    </tr>\n",
       "    <tr>\n",
       "      <th>7267285</th>\n",
       "      <td>U_999500</td>\n",
       "      <td>C_680931</td>\n",
       "      <td>1586572793</td>\n",
       "      <td>social statistics analysis based on r language</td>\n",
       "      <td>no prerequisite</td>\n",
       "      <td>suffering from mathematical phobia? feeling at...</td>\n",
       "      <td>[S_1]</td>\n",
       "      <td>[tsinghua university]</td>\n",
       "      <td>[referred tsinghua short directly ministry edu...</td>\n",
       "      <td>[selfimprovement virtue carry thing]</td>\n",
       "      <td>...</td>\n",
       "      <td>[tsinghua university]</td>\n",
       "      <td>2</td>\n",
       "      <td>[Ex_141819, Ex_141825, Ex_141814, Ex_141831, E...</td>\n",
       "      <td>[5, 5, 4, 5, 5, 5, 5, 5, 5, 5]</td>\n",
       "      <td>29</td>\n",
       "      <td>0</td>\n",
       "      <td>0</td>\n",
       "      <td>[V_141823, V_141811, V_141833, V_141815, V_141...</td>\n",
       "      <td>[026313D8EC07E23D9C33DC5901307461, 05C92A6D2B8...</td>\n",
       "      <td>[824.16, 530.24, 1343.9, 275.76, 883.82, 593.6...</td>\n",
       "    </tr>\n",
       "    <tr>\n",
       "      <th>7267286</th>\n",
       "      <td>U_999821</td>\n",
       "      <td>C_1774965</td>\n",
       "      <td>1588442049</td>\n",
       "      <td>financial english</td>\n",
       "      <td>no prerequisite</td>\n",
       "      <td>the  course is aimed to help senior or graduat...</td>\n",
       "      <td>[S_144]</td>\n",
       "      <td>[shandong university]</td>\n",
       "      <td>[shandong university directly ministry educati...</td>\n",
       "      <td>[unknown]</td>\n",
       "      <td>...</td>\n",
       "      <td>[shandong university]</td>\n",
       "      <td>0</td>\n",
       "      <td>[Ex_4884886, Ex_4884913, Ex_4884876, Ex_4884922]</td>\n",
       "      <td>[15, 15, 15, 10]</td>\n",
       "      <td>4</td>\n",
       "      <td>0</td>\n",
       "      <td>0</td>\n",
       "      <td>NaN</td>\n",
       "      <td>NaN</td>\n",
       "      <td>NaN</td>\n",
       "    </tr>\n",
       "    <tr>\n",
       "      <th>7267287</th>\n",
       "      <td>U_999845</td>\n",
       "      <td>C_682759</td>\n",
       "      <td>1573404727</td>\n",
       "      <td>advanced java programming</td>\n",
       "      <td>this course requires a basic java programming</td>\n",
       "      <td>the content of this course mainly includes jav...</td>\n",
       "      <td>[S_1]</td>\n",
       "      <td>[tsinghua university]</td>\n",
       "      <td>[referred tsinghua short directly ministry edu...</td>\n",
       "      <td>[selfimprovement virtue carry thing]</td>\n",
       "      <td>...</td>\n",
       "      <td>[tsinghua university]</td>\n",
       "      <td>1</td>\n",
       "      <td>[Ex_394597, Ex_394599, Ex_394598, Ex_394600]</td>\n",
       "      <td>[5, 1, 3, 1]</td>\n",
       "      <td>41</td>\n",
       "      <td>0</td>\n",
       "      <td>0</td>\n",
       "      <td>[V_394606, V_394594, V_394641, V_394613, V_394...</td>\n",
       "      <td>[05308C819BD8DF5B9C33DC5901307461, 085ED554A55...</td>\n",
       "      <td>[976.653, 293.433, 1624.946, 524.186, 55.034, ...</td>\n",
       "    </tr>\n",
       "    <tr>\n",
       "      <th>7267288</th>\n",
       "      <td>U_999856</td>\n",
       "      <td>C_948468</td>\n",
       "      <td>1583083695</td>\n",
       "      <td>python big data analysis</td>\n",
       "      <td>no prerequisite</td>\n",
       "      <td>python is a basic language that computer major...</td>\n",
       "      <td>[S_144]</td>\n",
       "      <td>[shandong university]</td>\n",
       "      <td>[shandong university directly ministry educati...</td>\n",
       "      <td>[unknown]</td>\n",
       "      <td>...</td>\n",
       "      <td>[shandong university, shandong university, sha...</td>\n",
       "      <td>0</td>\n",
       "      <td>[Ex_3881163, Ex_3881157, Ex_3498339, Ex_388116...</td>\n",
       "      <td>[6, 9, 5, 4, 10, 6, 26, 19, 13, 9, 14, 15]</td>\n",
       "      <td>879</td>\n",
       "      <td>0</td>\n",
       "      <td>0</td>\n",
       "      <td>NaN</td>\n",
       "      <td>NaN</td>\n",
       "      <td>NaN</td>\n",
       "    </tr>\n",
       "    <tr>\n",
       "      <th>7267289</th>\n",
       "      <td>U_99996</td>\n",
       "      <td>C_948432</td>\n",
       "      <td>1578692384</td>\n",
       "      <td>advanced power system analysis</td>\n",
       "      <td>no prerequisite</td>\n",
       "      <td>this course explains in detail network equatio...</td>\n",
       "      <td>[S_117]</td>\n",
       "      <td>[north china electric power university]</td>\n",
       "      <td>[north china electric power university nationa...</td>\n",
       "      <td>[unity diligence practicality innovation]</td>\n",
       "      <td>...</td>\n",
       "      <td>[north china electric power university]</td>\n",
       "      <td>1</td>\n",
       "      <td>[Ex_1484783, Ex_1484777, Ex_1484756, Ex_148479...</td>\n",
       "      <td>[19, 21, 25, 14, 18, 16, 16, 26, 18, 14, 48]</td>\n",
       "      <td>29</td>\n",
       "      <td>0</td>\n",
       "      <td>0</td>\n",
       "      <td>NaN</td>\n",
       "      <td>NaN</td>\n",
       "      <td>NaN</td>\n",
       "    </tr>\n",
       "  </tbody>\n",
       "</table>\n",
       "<p>7267290 rows × 24 columns</p>\n",
       "</div>"
      ],
      "text/plain": [
       "           user_id  course_id  enroll_time  \\\n",
       "0        U_1000129   C_735210   1599328511   \n",
       "1        U_1000129   C_799796   1599328642   \n",
       "2        U_1000129  C_1925903   1599403037   \n",
       "3        U_1000129  C_1992970   1599403537   \n",
       "4        U_1000129   C_680884   1602844869   \n",
       "...            ...        ...          ...   \n",
       "7267285   U_999500   C_680931   1586572793   \n",
       "7267286   U_999821  C_1774965   1588442049   \n",
       "7267287   U_999845   C_682759   1573404727   \n",
       "7267288   U_999856   C_948468   1583083695   \n",
       "7267289    U_99996   C_948432   1578692384   \n",
       "\n",
       "                                               course_name  \\\n",
       "0        university physics-electromagnetism (teaching ...   \n",
       "1                university physics 1 (mechanics, thermal)   \n",
       "2                                 mathematical analysis ii   \n",
       "3                                mathematical analysis iii   \n",
       "4                                         complex function   \n",
       "...                                                    ...   \n",
       "7267285     social statistics analysis based on r language   \n",
       "7267286                                  financial english   \n",
       "7267287                          advanced java programming   \n",
       "7267288                           python big data analysis   \n",
       "7267289                     advanced power system analysis   \n",
       "\n",
       "                                  course_prerequisites  \\\n",
       "0                         calculus newtonian mechanics   \n",
       "1                                      no prerequisite   \n",
       "2                              mathematical analysis i   \n",
       "3                                      no prerequisite   \n",
       "4                                      no prerequisite   \n",
       "...                                                ...   \n",
       "7267285                                no prerequisite   \n",
       "7267286                                no prerequisite   \n",
       "7267287  this course requires a basic java programming   \n",
       "7267288                                no prerequisite   \n",
       "7267289                                no prerequisite   \n",
       "\n",
       "                                              course_about school_id  \\\n",
       "0        physics, explore the laws of nature, and pursu...   [S_148]   \n",
       "1        university physics is a basic physics course f...     [S_1]   \n",
       "2        the mooc course in mathematical analysis ii ma...    [S_76]   \n",
       "3        the mooc course of mathematical analysis iii c...    [S_76]   \n",
       "4        let students master the mathematical theoretic...    [S_31]   \n",
       "...                                                    ...       ...   \n",
       "7267285  suffering from mathematical phobia? feeling at...     [S_1]   \n",
       "7267286  the  course is aimed to help senior or graduat...   [S_144]   \n",
       "7267287  the content of this course mainly includes jav...     [S_1]   \n",
       "7267288  python is a basic language that computer major...   [S_144]   \n",
       "7267289  this course explains in detail network equatio...   [S_117]   \n",
       "\n",
       "                                     school_name  \\\n",
       "0                            [yunnan university]   \n",
       "1                          [tsinghua university]   \n",
       "2                  [beijing jiaotong university]   \n",
       "3                  [beijing jiaotong university]   \n",
       "4                     [xian jiaotong university]   \n",
       "...                                          ...   \n",
       "7267285                    [tsinghua university]   \n",
       "7267286                    [shandong university]   \n",
       "7267287                    [tsinghua university]   \n",
       "7267288                    [shandong university]   \n",
       "7267289  [north china electric power university]   \n",
       "\n",
       "                                              school_about  \\\n",
       "0        [yunnan university abbreviated yunnan universi...   \n",
       "1        [referred tsinghua short directly ministry edu...   \n",
       "2        [beijing jiaotong university national key univ...   \n",
       "3        [beijing jiaotong university national key univ...   \n",
       "4        [xian jiaotong university referred xian jiaoto...   \n",
       "...                                                    ...   \n",
       "7267285  [referred tsinghua short directly ministry edu...   \n",
       "7267286  [shandong university directly ministry educati...   \n",
       "7267287  [referred tsinghua short directly ministry edu...   \n",
       "7267288  [shandong university directly ministry educati...   \n",
       "7267289  [north china electric power university nationa...   \n",
       "\n",
       "                                              school_motto  ...  \\\n",
       "0                                                [unknown]  ...   \n",
       "1                     [selfimprovement virtue carry thing]  ...   \n",
       "2                                                [unknown]  ...   \n",
       "3                                                [unknown]  ...   \n",
       "4        [diligent study righteous inspiring perseveran...  ...   \n",
       "...                                                    ...  ...   \n",
       "7267285               [selfimprovement virtue carry thing]  ...   \n",
       "7267286                                          [unknown]  ...   \n",
       "7267287               [selfimprovement virtue carry thing]  ...   \n",
       "7267288                                          [unknown]  ...   \n",
       "7267289          [unity diligence practicality innovation]  ...   \n",
       "\n",
       "                                          teacher_org_name user_gender  \\\n",
       "0                                      [yunnan university]           0   \n",
       "1        [tsinghua university, tsinghua university, tsi...           0   \n",
       "2                            [beijing jiaotong university]           0   \n",
       "3                            [beijing jiaotong university]           0   \n",
       "4        [xian jiaotong university, xian jiaotong unive...           0   \n",
       "...                                                    ...         ...   \n",
       "7267285                              [tsinghua university]           2   \n",
       "7267286                              [shandong university]           0   \n",
       "7267287                              [tsinghua university]           1   \n",
       "7267288  [shandong university, shandong university, sha...           0   \n",
       "7267289            [north china electric power university]           1   \n",
       "\n",
       "                                               exercise_id  \\\n",
       "0        [Ex_635488, Ex_635480, Ex_635544, Ex_635491, E...   \n",
       "1        [Ex_822309, Ex_822340, Ex_822311, Ex_822327, E...   \n",
       "2        [Ex_6731684, Ex_6729452, Ex_6729437, Ex_672939...   \n",
       "3        [Ex_6882416, Ex_6882349, Ex_6882375, Ex_688239...   \n",
       "4        [Ex_136594, Ex_136559, Ex_136574, Ex_136545, E...   \n",
       "...                                                    ...   \n",
       "7267285  [Ex_141819, Ex_141825, Ex_141814, Ex_141831, E...   \n",
       "7267286   [Ex_4884886, Ex_4884913, Ex_4884876, Ex_4884922]   \n",
       "7267287       [Ex_394597, Ex_394599, Ex_394598, Ex_394600]   \n",
       "7267288  [Ex_3881163, Ex_3881157, Ex_3498339, Ex_388116...   \n",
       "7267289  [Ex_1484783, Ex_1484777, Ex_1484756, Ex_148479...   \n",
       "\n",
       "                                      exercise_num_problem  \\\n",
       "0        [5, 4, 2, 4, 7, 5, 5, 1, 6, 2, 5, 2, 1, 7, 3, ...   \n",
       "1        [4, 23, 7, 4, 5, 6, 10, 1, 8, 3, 5, 4, 4, 4, 1...   \n",
       "2        [4, 1, 10, 5, 3, 7, 5, 1, 1, 7, 7, 7, 1, 6, 2,...   \n",
       "3        [8, 4, 6, 4, 6, 5, 6, 5, 5, 5, 6, 6, 6, 6, 6, ...   \n",
       "4                                 [13, 15, 14, 15, 14, 16]   \n",
       "...                                                    ...   \n",
       "7267285                     [5, 5, 4, 5, 5, 5, 5, 5, 5, 5]   \n",
       "7267286                                   [15, 15, 15, 10]   \n",
       "7267287                                       [5, 1, 3, 1]   \n",
       "7267288         [6, 9, 5, 4, 10, 6, 26, 19, 13, 9, 14, 15]   \n",
       "7267289       [19, 21, 25, 14, 18, 16, 16, 26, 18, 14, 48]   \n",
       "\n",
       "        course_total_comments  user_course_num_comment  \\\n",
       "0                         461                        0   \n",
       "1                         448                        0   \n",
       "2                           1                        0   \n",
       "3                           4                        0   \n",
       "4                          42                        0   \n",
       "...                       ...                      ...   \n",
       "7267285                    29                        0   \n",
       "7267286                     4                        0   \n",
       "7267287                    41                        0   \n",
       "7267288                   879                        0   \n",
       "7267289                    29                        0   \n",
       "\n",
       "        user_course_num_replies  \\\n",
       "0                             0   \n",
       "1                             0   \n",
       "2                             0   \n",
       "3                             0   \n",
       "4                             0   \n",
       "...                         ...   \n",
       "7267285                       0   \n",
       "7267286                       0   \n",
       "7267287                       0   \n",
       "7267288                       0   \n",
       "7267289                       0   \n",
       "\n",
       "                                                  video_id  \\\n",
       "0        [V_635512, V_635472, V_635516, V_635495, V_635...   \n",
       "1        [V_822227, V_822159, V_822282, V_822255, V_822...   \n",
       "2                                                      NaN   \n",
       "3                                                      NaN   \n",
       "4                                                      NaN   \n",
       "...                                                    ...   \n",
       "7267285  [V_141823, V_141811, V_141833, V_141815, V_141...   \n",
       "7267286                                                NaN   \n",
       "7267287  [V_394606, V_394594, V_394641, V_394613, V_394...   \n",
       "7267288                                                NaN   \n",
       "7267289                                                NaN   \n",
       "\n",
       "                                                video_ccid  \\\n",
       "0        [196B00DFA5515EB09C33DC5901307461, 1974570A080...   \n",
       "1        [009035DB2BED87229C33DC5901307461, 015AC6C3159...   \n",
       "2                                                      NaN   \n",
       "3                                                      NaN   \n",
       "4                                                      NaN   \n",
       "...                                                    ...   \n",
       "7267285  [026313D8EC07E23D9C33DC5901307461, 05C92A6D2B8...   \n",
       "7267286                                                NaN   \n",
       "7267287  [05308C819BD8DF5B9C33DC5901307461, 085ED554A55...   \n",
       "7267288                                                NaN   \n",
       "7267289                                                NaN   \n",
       "\n",
       "                                            video_duration  \n",
       "0        [889.363, 578.897, 404.653, 686.529, 429.572, ...  \n",
       "1        [237.67, 582.588, 405.612, 157.22, 392.304, 45...  \n",
       "2                                                      NaN  \n",
       "3                                                      NaN  \n",
       "4                                                      NaN  \n",
       "...                                                    ...  \n",
       "7267285  [824.16, 530.24, 1343.9, 275.76, 883.82, 593.6...  \n",
       "7267286                                                NaN  \n",
       "7267287  [976.653, 293.433, 1624.946, 524.186, 55.034, ...  \n",
       "7267288                                                NaN  \n",
       "7267289                                                NaN  \n",
       "\n",
       "[7267290 rows x 24 columns]"
      ]
     },
     "execution_count": 5,
     "metadata": {},
     "output_type": "execute_result"
    }
   ],
   "source": [
    "combine_data = pd.read_hdf(path[i], key='df')\n",
    "combine_data"
   ]
  },
  {
   "cell_type": "code",
   "execution_count": 6,
   "id": "0e779f7d",
   "metadata": {
    "execution": {
     "iopub.execute_input": "2025-07-13T07:18:50.941409Z",
     "iopub.status.busy": "2025-07-13T07:18:50.941040Z",
     "iopub.status.idle": "2025-07-13T07:18:50.947138Z",
     "shell.execute_reply": "2025-07-13T07:18:50.946046Z"
    },
    "papermill": {
     "duration": 0.017921,
     "end_time": "2025-07-13T07:18:50.948731",
     "exception": false,
     "start_time": "2025-07-13T07:18:50.930810",
     "status": "completed"
    },
    "tags": []
   },
   "outputs": [],
   "source": [
    "def filter_user_item_interactions(df, user_col='user_id', item_col='course_id', min_interactions=5):\n",
    "    \"\"\"\n",
    "    Lọc bỏ các user và item có ít hơn `min_interactions` tương tác.\n",
    "\n",
    "    Args:\n",
    "        df (pd.DataFrame): DataFrame chứa tương tác user-item.\n",
    "        user_col (str): Tên cột user.\n",
    "        item_col (str): Tên cột item (course).\n",
    "        min_interactions (int): Số tương tác tối thiểu để giữ lại.\n",
    "\n",
    "    Returns:\n",
    "        pd.DataFrame: DataFrame đã được lọc.\n",
    "    \"\"\"\n",
    "    import pandas as pd\n",
    "\n",
    "    while True:\n",
    "        original_len = len(df)\n",
    "        \n",
    "        # Lọc user\n",
    "        user_counts = df[user_col].value_counts()\n",
    "        valid_users = user_counts[user_counts >= min_interactions].index\n",
    "        df = df[df[user_col].isin(valid_users)]\n",
    "\n",
    "        # Lọc item\n",
    "        item_counts = df[item_col].value_counts()\n",
    "        valid_items = item_counts[item_counts >= min_interactions].index\n",
    "        df = df[df[item_col].isin(valid_items)]\n",
    "\n",
    "        if len(df) == original_len:\n",
    "            break  # không còn gì để lọc nữa\n",
    "\n",
    "    return df.reset_index(drop=True)\n",
    "# filter_user_item_interactions"
   ]
  },
  {
   "cell_type": "code",
   "execution_count": 7,
   "id": "0e8dc1e6",
   "metadata": {
    "execution": {
     "iopub.execute_input": "2025-07-13T07:18:50.969239Z",
     "iopub.status.busy": "2025-07-13T07:18:50.968880Z",
     "iopub.status.idle": "2025-07-13T07:18:50.974780Z",
     "shell.execute_reply": "2025-07-13T07:18:50.973767Z"
    },
    "papermill": {
     "duration": 0.018065,
     "end_time": "2025-07-13T07:18:50.976329",
     "exception": false,
     "start_time": "2025-07-13T07:18:50.958264",
     "status": "completed"
    },
    "tags": []
   },
   "outputs": [
    {
     "data": {
      "text/plain": [
       "Index(['user_id', 'course_id', 'enroll_time', 'course_name',\n",
       "       'course_prerequisites', 'course_about', 'school_id', 'school_name',\n",
       "       'school_about', 'school_motto', 'teacher_id', 'teacher_name',\n",
       "       'teacher_about', 'teacher_job_title', 'teacher_org_name', 'user_gender',\n",
       "       'exercise_id', 'exercise_num_problem', 'course_total_comments',\n",
       "       'user_course_num_comment', 'user_course_num_replies', 'video_id',\n",
       "       'video_ccid', 'video_duration'],\n",
       "      dtype='object')"
      ]
     },
     "execution_count": 7,
     "metadata": {},
     "output_type": "execute_result"
    }
   ],
   "source": [
    "combine_data.columns"
   ]
  },
  {
   "cell_type": "code",
   "execution_count": 8,
   "id": "ffd282a4",
   "metadata": {
    "execution": {
     "iopub.execute_input": "2025-07-13T07:18:50.997029Z",
     "iopub.status.busy": "2025-07-13T07:18:50.996647Z",
     "iopub.status.idle": "2025-07-13T07:18:56.052673Z",
     "shell.execute_reply": "2025-07-13T07:18:56.051582Z"
    },
    "papermill": {
     "duration": 5.068831,
     "end_time": "2025-07-13T07:18:56.054963",
     "exception": false,
     "start_time": "2025-07-13T07:18:50.986132",
     "status": "completed"
    },
    "tags": []
   },
   "outputs": [],
   "source": [
    "item_col_list=[\n",
    "    'course_id','course_name','course_prerequisites', 'course_about',\n",
    "    'school_id','teacher_id','video_duration','exercise_num_problem','course_total_comments']\n",
    "if i!=1:\n",
    "    item_col_list+=['course_field']\n",
    "\n",
    "item_data = combine_data[item_col_list]\n",
    "item_data=item_data.groupby('course_id').first().reset_index()"
   ]
  },
  {
   "cell_type": "code",
   "execution_count": null,
   "id": "6f8e0bde",
   "metadata": {
    "papermill": {
     "duration": 0.00956,
     "end_time": "2025-07-13T07:18:56.075268",
     "exception": false,
     "start_time": "2025-07-13T07:18:56.065708",
     "status": "completed"
    },
    "tags": []
   },
   "outputs": [],
   "source": []
  },
  {
   "cell_type": "code",
   "execution_count": 9,
   "id": "dd34e328",
   "metadata": {
    "execution": {
     "iopub.execute_input": "2025-07-13T07:18:56.096141Z",
     "iopub.status.busy": "2025-07-13T07:18:56.095753Z",
     "iopub.status.idle": "2025-07-13T07:18:56.120830Z",
     "shell.execute_reply": "2025-07-13T07:18:56.119760Z"
    },
    "papermill": {
     "duration": 0.037524,
     "end_time": "2025-07-13T07:18:56.122647",
     "exception": false,
     "start_time": "2025-07-13T07:18:56.085123",
     "status": "completed"
    },
    "tags": []
   },
   "outputs": [
    {
     "data": {
      "text/html": [
       "<div>\n",
       "<style scoped>\n",
       "    .dataframe tbody tr th:only-of-type {\n",
       "        vertical-align: middle;\n",
       "    }\n",
       "\n",
       "    .dataframe tbody tr th {\n",
       "        vertical-align: top;\n",
       "    }\n",
       "\n",
       "    .dataframe thead th {\n",
       "        text-align: right;\n",
       "    }\n",
       "</style>\n",
       "<table border=\"1\" class=\"dataframe\">\n",
       "  <thead>\n",
       "    <tr style=\"text-align: right;\">\n",
       "      <th></th>\n",
       "      <th>course_id</th>\n",
       "      <th>course_name</th>\n",
       "      <th>course_prerequisites</th>\n",
       "      <th>course_about</th>\n",
       "      <th>school_id</th>\n",
       "      <th>teacher_id</th>\n",
       "      <th>video_duration</th>\n",
       "      <th>exercise_num_problem</th>\n",
       "      <th>course_total_comments</th>\n",
       "    </tr>\n",
       "  </thead>\n",
       "  <tbody>\n",
       "    <tr>\n",
       "      <th>0</th>\n",
       "      <td>C_1017355</td>\n",
       "      <td>introduction to traditional chinese medicine e...</td>\n",
       "      <td>the main subjects are college students who hav...</td>\n",
       "      <td>traditional chinese medicine culture - the tre...</td>\n",
       "      <td>[S_33]</td>\n",
       "      <td>[T_7970, T_7971, T_5826, T_7978, T_7979]</td>\n",
       "      <td>None</td>\n",
       "      <td>[5, 5, 5, 5, 5, 5, 5, 5, 5, 5, 5, 5, 5, 5, 5, ...</td>\n",
       "      <td>39624</td>\n",
       "    </tr>\n",
       "    <tr>\n",
       "      <th>1</th>\n",
       "      <td>C_1017419</td>\n",
       "      <td>smart government talk</td>\n",
       "      <td>no prerequisite</td>\n",
       "      <td>this course combines specific cases of traffic...</td>\n",
       "      <td>[S_52]</td>\n",
       "      <td>[T_7849, T_16199, T_16200, T_16201, T_16202, T...</td>\n",
       "      <td>None</td>\n",
       "      <td>[15, 15, 20, 15, 15, 15, 15, 16, 15]</td>\n",
       "      <td>609</td>\n",
       "    </tr>\n",
       "    <tr>\n",
       "      <th>2</th>\n",
       "      <td>C_1025064</td>\n",
       "      <td>principles of ideological and political education</td>\n",
       "      <td>no prerequisite</td>\n",
       "      <td>hello, dear classmate! do you want to know how...</td>\n",
       "      <td>[S_13]</td>\n",
       "      <td>[T_3915, T_3911, T_5426, T_5427, T_5429]</td>\n",
       "      <td>[466.575, 402.325, 476.65, 1025.9, 755.075, 42...</td>\n",
       "      <td>[10, 10, 10, 10, 10, 10, 10, 10, 10, 10, 10, 1...</td>\n",
       "      <td>696</td>\n",
       "    </tr>\n",
       "    <tr>\n",
       "      <th>3</th>\n",
       "      <td>C_1025076</td>\n",
       "      <td>advanced roller skating tutorial</td>\n",
       "      <td>no prerequisite</td>\n",
       "      <td>the true meaning of experiencing roller skatin...</td>\n",
       "      <td>[S_72]</td>\n",
       "      <td>[T_5394]</td>\n",
       "      <td>None</td>\n",
       "      <td>[1, 1, 15, 1]</td>\n",
       "      <td>2</td>\n",
       "    </tr>\n",
       "    <tr>\n",
       "      <th>4</th>\n",
       "      <td>C_1025079</td>\n",
       "      <td>scientific fitness method-silk-winding fitness...</td>\n",
       "      <td>no prerequisite</td>\n",
       "      <td>silk wrapping skills are the chinese solution ...</td>\n",
       "      <td>[S_97]</td>\n",
       "      <td>[T_7939]</td>\n",
       "      <td>[671.97, 925.17, 748.11, 644.25, 543.93, 546.3...</td>\n",
       "      <td>[5, 5, 5, 5, 5]</td>\n",
       "      <td>125</td>\n",
       "    </tr>\n",
       "    <tr>\n",
       "      <th>...</th>\n",
       "      <td>...</td>\n",
       "      <td>...</td>\n",
       "      <td>...</td>\n",
       "      <td>...</td>\n",
       "      <td>...</td>\n",
       "      <td>...</td>\n",
       "      <td>...</td>\n",
       "      <td>...</td>\n",
       "      <td>...</td>\n",
       "    </tr>\n",
       "    <tr>\n",
       "      <th>2750</th>\n",
       "      <td>C_949542</td>\n",
       "      <td>thinking innovation and creativity development</td>\n",
       "      <td>no prerequisite</td>\n",
       "      <td>if appearance is a letter of recommendation fo...</td>\n",
       "      <td>[S_749]</td>\n",
       "      <td>[T_7389, T_7390, T_10280, T_10281, T_7392, T_7...</td>\n",
       "      <td>[784.77, 713.7, 578.07, 689.01, 624.45, 658.17...</td>\n",
       "      <td>[7, 8, 6, 7, 8, 10, 7, 8, 8, 11, 10, 6, 6, 5, ...</td>\n",
       "      <td>839</td>\n",
       "    </tr>\n",
       "    <tr>\n",
       "      <th>2751</th>\n",
       "      <td>C_955163</td>\n",
       "      <td>learn to make mini programs - practical chapte...</td>\n",
       "      <td>computer basics, html, css, javascript, progra...</td>\n",
       "      <td>this course is a wechat mini program learning ...</td>\n",
       "      <td>[S_1]</td>\n",
       "      <td>[T_172, T_14907, T_14933, T_1286]</td>\n",
       "      <td>[515.893, 134.584, 2084.548, 1546.264, 38.356,...</td>\n",
       "      <td>[5, 1, 10, 10, 1, 30, 4]</td>\n",
       "      <td>305</td>\n",
       "    </tr>\n",
       "    <tr>\n",
       "      <th>2752</th>\n",
       "      <td>C_956128</td>\n",
       "      <td>interpretation of hot issues of portal hyperte...</td>\n",
       "      <td>no prerequisite</td>\n",
       "      <td>interpretation of hot issues of portal hyperte...</td>\n",
       "      <td>[S_144]</td>\n",
       "      <td>[T_7005, T_7006, T_7007]</td>\n",
       "      <td>None</td>\n",
       "      <td>[15, 15, 15, 15, 15, 15, 15]</td>\n",
       "      <td>0</td>\n",
       "    </tr>\n",
       "    <tr>\n",
       "      <th>2753</th>\n",
       "      <td>C_956129</td>\n",
       "      <td>introduction to games and esports</td>\n",
       "      <td>no prerequisite</td>\n",
       "      <td>the game industry has become a popular profess...</td>\n",
       "      <td>[S_492]</td>\n",
       "      <td>[T_4850, T_4852, T_4851, T_4854]</td>\n",
       "      <td>[463.65, 598.375, 354.68, 547.18, 289.23, 349....</td>\n",
       "      <td>[2, 3, 3, 8, 7, 6, 10, 9, 9, 6, 4, 1, 6, 7, 8,...</td>\n",
       "      <td>1597</td>\n",
       "    </tr>\n",
       "    <tr>\n",
       "      <th>2754</th>\n",
       "      <td>C_956130</td>\n",
       "      <td>multimedia technology and application</td>\n",
       "      <td>no prerequisite</td>\n",
       "      <td>this course mainly learns the basic concepts o...</td>\n",
       "      <td>[S_11]</td>\n",
       "      <td>[T_7457, T_8331, T_8417]</td>\n",
       "      <td>None</td>\n",
       "      <td>[1, 5, 27, 8, 6, 19, 28, 6, 14, 16, 21, 6, 15,...</td>\n",
       "      <td>3</td>\n",
       "    </tr>\n",
       "  </tbody>\n",
       "</table>\n",
       "<p>2755 rows × 9 columns</p>\n",
       "</div>"
      ],
      "text/plain": [
       "      course_id                                        course_name  \\\n",
       "0     C_1017355  introduction to traditional chinese medicine e...   \n",
       "1     C_1017419                              smart government talk   \n",
       "2     C_1025064  principles of ideological and political education   \n",
       "3     C_1025076                   advanced roller skating tutorial   \n",
       "4     C_1025079  scientific fitness method-silk-winding fitness...   \n",
       "...         ...                                                ...   \n",
       "2750   C_949542     thinking innovation and creativity development   \n",
       "2751   C_955163  learn to make mini programs - practical chapte...   \n",
       "2752   C_956128  interpretation of hot issues of portal hyperte...   \n",
       "2753   C_956129                  introduction to games and esports   \n",
       "2754   C_956130              multimedia technology and application   \n",
       "\n",
       "                                   course_prerequisites  \\\n",
       "0     the main subjects are college students who hav...   \n",
       "1                                       no prerequisite   \n",
       "2                                       no prerequisite   \n",
       "3                                       no prerequisite   \n",
       "4                                       no prerequisite   \n",
       "...                                                 ...   \n",
       "2750                                    no prerequisite   \n",
       "2751  computer basics, html, css, javascript, progra...   \n",
       "2752                                    no prerequisite   \n",
       "2753                                    no prerequisite   \n",
       "2754                                    no prerequisite   \n",
       "\n",
       "                                           course_about school_id  \\\n",
       "0     traditional chinese medicine culture - the tre...    [S_33]   \n",
       "1     this course combines specific cases of traffic...    [S_52]   \n",
       "2     hello, dear classmate! do you want to know how...    [S_13]   \n",
       "3     the true meaning of experiencing roller skatin...    [S_72]   \n",
       "4     silk wrapping skills are the chinese solution ...    [S_97]   \n",
       "...                                                 ...       ...   \n",
       "2750  if appearance is a letter of recommendation fo...   [S_749]   \n",
       "2751  this course is a wechat mini program learning ...     [S_1]   \n",
       "2752  interpretation of hot issues of portal hyperte...   [S_144]   \n",
       "2753  the game industry has become a popular profess...   [S_492]   \n",
       "2754  this course mainly learns the basic concepts o...    [S_11]   \n",
       "\n",
       "                                             teacher_id  \\\n",
       "0              [T_7970, T_7971, T_5826, T_7978, T_7979]   \n",
       "1     [T_7849, T_16199, T_16200, T_16201, T_16202, T...   \n",
       "2              [T_3915, T_3911, T_5426, T_5427, T_5429]   \n",
       "3                                              [T_5394]   \n",
       "4                                              [T_7939]   \n",
       "...                                                 ...   \n",
       "2750  [T_7389, T_7390, T_10280, T_10281, T_7392, T_7...   \n",
       "2751                  [T_172, T_14907, T_14933, T_1286]   \n",
       "2752                           [T_7005, T_7006, T_7007]   \n",
       "2753                   [T_4850, T_4852, T_4851, T_4854]   \n",
       "2754                           [T_7457, T_8331, T_8417]   \n",
       "\n",
       "                                         video_duration  \\\n",
       "0                                                  None   \n",
       "1                                                  None   \n",
       "2     [466.575, 402.325, 476.65, 1025.9, 755.075, 42...   \n",
       "3                                                  None   \n",
       "4     [671.97, 925.17, 748.11, 644.25, 543.93, 546.3...   \n",
       "...                                                 ...   \n",
       "2750  [784.77, 713.7, 578.07, 689.01, 624.45, 658.17...   \n",
       "2751  [515.893, 134.584, 2084.548, 1546.264, 38.356,...   \n",
       "2752                                               None   \n",
       "2753  [463.65, 598.375, 354.68, 547.18, 289.23, 349....   \n",
       "2754                                               None   \n",
       "\n",
       "                                   exercise_num_problem  course_total_comments  \n",
       "0     [5, 5, 5, 5, 5, 5, 5, 5, 5, 5, 5, 5, 5, 5, 5, ...                  39624  \n",
       "1                  [15, 15, 20, 15, 15, 15, 15, 16, 15]                    609  \n",
       "2     [10, 10, 10, 10, 10, 10, 10, 10, 10, 10, 10, 1...                    696  \n",
       "3                                         [1, 1, 15, 1]                      2  \n",
       "4                                       [5, 5, 5, 5, 5]                    125  \n",
       "...                                                 ...                    ...  \n",
       "2750  [7, 8, 6, 7, 8, 10, 7, 8, 8, 11, 10, 6, 6, 5, ...                    839  \n",
       "2751                           [5, 1, 10, 10, 1, 30, 4]                    305  \n",
       "2752                       [15, 15, 15, 15, 15, 15, 15]                      0  \n",
       "2753  [2, 3, 3, 8, 7, 6, 10, 9, 9, 6, 4, 1, 6, 7, 8,...                   1597  \n",
       "2754  [1, 5, 27, 8, 6, 19, 28, 6, 14, 16, 21, 6, 15,...                      3  \n",
       "\n",
       "[2755 rows x 9 columns]"
      ]
     },
     "execution_count": 9,
     "metadata": {},
     "output_type": "execute_result"
    }
   ],
   "source": [
    "item_data"
   ]
  },
  {
   "cell_type": "code",
   "execution_count": 10,
   "id": "37424706",
   "metadata": {
    "execution": {
     "iopub.execute_input": "2025-07-13T07:18:56.144318Z",
     "iopub.status.busy": "2025-07-13T07:18:56.143924Z",
     "iopub.status.idle": "2025-07-13T07:18:56.154845Z",
     "shell.execute_reply": "2025-07-13T07:18:56.153376Z"
    },
    "papermill": {
     "duration": 0.0238,
     "end_time": "2025-07-13T07:18:56.156669",
     "exception": false,
     "start_time": "2025-07-13T07:18:56.132869",
     "status": "completed"
    },
    "tags": []
   },
   "outputs": [],
   "source": [
    "def prepare_course_features(course_df):\n",
    "    course_df = course_df.copy()\n",
    "\n",
    "    # Đảm bảo các cột danh sách là thực sự danh sách\n",
    "    list_columns = ['school_id', 'teacher_id', 'video_duration', 'exercise_num_problem']\n",
    "    for col in list_columns:\n",
    "        course_df[col] = course_df[col].apply(lambda x: x if isinstance(x, list) else [])\n",
    "\n",
    "    # ===== Tính toán đặc trưng =====\n",
    "    course_df['total_video_duration'] = course_df['video_duration'].apply(\n",
    "        lambda x: np.nansum(x) if len(x) > 0 else 0\n",
    "    )\n",
    "    course_df['total_num_problem'] = course_df['exercise_num_problem'].apply(\n",
    "        lambda x: np.nansum(x) if len(x) > 0 else 0\n",
    "    )\n",
    "    course_df['num_videos'] = course_df['video_duration'].apply(len)\n",
    "    course_df['num_exercises'] = course_df['exercise_num_problem'].apply(len)\n",
    "    course_df['num_teachers'] = course_df['teacher_id'].apply(len)\n",
    "    course_df['num_schools'] = course_df['school_id'].apply(len)\n",
    "\n",
    "    # ===== Tách school_id_1 và school_id_2 =====\n",
    "    course_df['teacher_id'] = course_df['teacher_id'].apply(lambda x: x[0] if len(x) > 0 else None)\n",
    "    course_df['teacher_id'] = course_df['teacher_id'].fillna('missing')\n",
    "    course_df['school_id_1'] = course_df['school_id'].apply(lambda x: x[0] if len(x) > 0 else None)\n",
    "    course_df['school_id_2'] = course_df['school_id'].apply(lambda x: x[1] if len(x) > 1 else None)\n",
    "    course_df['school_id_1'] = course_df['school_id_1'].fillna('missing')\n",
    "    course_df['school_id_2'] = course_df['school_id_2'].fillna('missing')\n",
    "    # ===== Embed teacher_id list (tạm: dùng chỉ số trung bình để đại diện) =====\n",
    "    # Nếu muốn dùng embedding sau này thì giữ lại list hoặc dùng nhiều cột teacher_id_1, _2,...\n",
    "    if i==1:\n",
    "        course_df['course_text'] = course_df[\n",
    "            ['course_name', 'course_prerequisites', 'course_about']\n",
    "        ].fillna('').apply(lambda x: ' '.join(x), axis=1)\n",
    "    else:\n",
    "        course_df['course_field'] = course_df['course_field'].apply(\n",
    "            lambda x: ' '.join(x) if isinstance(x, list) else ''\n",
    "            )\n",
    "        course_df['course_text'] = course_df[\n",
    "            ['course_name', 'course_prerequisites', 'course_about','course_field']\n",
    "        ].fillna('').apply(lambda x: ' '.join(x), axis=1)\n",
    "    # ===== Output =====\n",
    "    course_features = course_df[[\n",
    "        'course_id',\n",
    "        'course_text',\n",
    "        'total_video_duration',\n",
    "        'total_num_problem',\n",
    "        'num_videos',\n",
    "        'num_exercises',\n",
    "        'num_teachers',\n",
    "        'teacher_id',\n",
    "        'num_schools',\n",
    "        'school_id_1',\n",
    "        'school_id_2',\n",
    "        'course_total_comments'\n",
    "    ]]\n",
    "\n",
    "    return course_features\n"
   ]
  },
  {
   "cell_type": "code",
   "execution_count": 11,
   "id": "223e2684",
   "metadata": {
    "execution": {
     "iopub.execute_input": "2025-07-13T07:18:56.178599Z",
     "iopub.status.busy": "2025-07-13T07:18:56.178185Z",
     "iopub.status.idle": "2025-07-13T07:18:56.308858Z",
     "shell.execute_reply": "2025-07-13T07:18:56.307699Z"
    },
    "papermill": {
     "duration": 0.14368,
     "end_time": "2025-07-13T07:18:56.310980",
     "exception": false,
     "start_time": "2025-07-13T07:18:56.167300",
     "status": "completed"
    },
    "tags": []
   },
   "outputs": [],
   "source": [
    "item_data = prepare_course_features(item_data)"
   ]
  },
  {
   "cell_type": "code",
   "execution_count": 12,
   "id": "f434778e",
   "metadata": {
    "execution": {
     "iopub.execute_input": "2025-07-13T07:18:56.332714Z",
     "iopub.status.busy": "2025-07-13T07:18:56.332334Z",
     "iopub.status.idle": "2025-07-13T07:18:56.342840Z",
     "shell.execute_reply": "2025-07-13T07:18:56.341861Z"
    },
    "papermill": {
     "duration": 0.023298,
     "end_time": "2025-07-13T07:18:56.344607",
     "exception": false,
     "start_time": "2025-07-13T07:18:56.321309",
     "status": "completed"
    },
    "tags": []
   },
   "outputs": [
    {
     "data": {
      "text/plain": [
       "course_id                0\n",
       "course_text              0\n",
       "total_video_duration     0\n",
       "total_num_problem        0\n",
       "num_videos               0\n",
       "num_exercises            0\n",
       "num_teachers             0\n",
       "teacher_id               0\n",
       "num_schools              0\n",
       "school_id_1              0\n",
       "school_id_2              0\n",
       "course_total_comments    0\n",
       "dtype: int64"
      ]
     },
     "execution_count": 12,
     "metadata": {},
     "output_type": "execute_result"
    }
   ],
   "source": [
    "item_data.isnull().sum()"
   ]
  },
  {
   "cell_type": "code",
   "execution_count": 13,
   "id": "5e69be0d",
   "metadata": {
    "execution": {
     "iopub.execute_input": "2025-07-13T07:18:56.366628Z",
     "iopub.status.busy": "2025-07-13T07:18:56.366160Z",
     "iopub.status.idle": "2025-07-13T07:18:59.117156Z",
     "shell.execute_reply": "2025-07-13T07:18:59.110141Z"
    },
    "papermill": {
     "duration": 2.77503,
     "end_time": "2025-07-13T07:18:59.130093",
     "exception": false,
     "start_time": "2025-07-13T07:18:56.355063",
     "status": "completed"
    },
    "tags": []
   },
   "outputs": [],
   "source": [
    "user_data = combine_data[['user_id','user_gender']].drop_duplicates().reset_index()"
   ]
  },
  {
   "cell_type": "code",
   "execution_count": 14,
   "id": "753d0e05",
   "metadata": {
    "execution": {
     "iopub.execute_input": "2025-07-13T07:18:59.171246Z",
     "iopub.status.busy": "2025-07-13T07:18:59.170790Z",
     "iopub.status.idle": "2025-07-13T07:18:59.889519Z",
     "shell.execute_reply": "2025-07-13T07:18:59.887719Z"
    },
    "papermill": {
     "duration": 0.735921,
     "end_time": "2025-07-13T07:18:59.893702",
     "exception": false,
     "start_time": "2025-07-13T07:18:59.157781",
     "status": "completed"
    },
    "tags": []
   },
   "outputs": [],
   "source": [
    "user_item_data=combine_data[['user_id','course_id','enroll_time']]"
   ]
  },
  {
   "cell_type": "code",
   "execution_count": 15,
   "id": "bf18e211",
   "metadata": {
    "execution": {
     "iopub.execute_input": "2025-07-13T07:18:59.944374Z",
     "iopub.status.busy": "2025-07-13T07:18:59.943562Z",
     "iopub.status.idle": "2025-07-13T07:19:00.227126Z",
     "shell.execute_reply": "2025-07-13T07:19:00.225723Z"
    },
    "papermill": {
     "duration": 0.31281,
     "end_time": "2025-07-13T07:19:00.229268",
     "exception": false,
     "start_time": "2025-07-13T07:18:59.916458",
     "status": "completed"
    },
    "tags": []
   },
   "outputs": [],
   "source": [
    "sp_user = pd.read_csv(\"/kaggle/input/random-user/sample_user.csv\")\n",
    "user_data = user_data[user_data['user_id'].isin(sp_user['user_id'])]"
   ]
  },
  {
   "cell_type": "code",
   "execution_count": 16,
   "id": "b2dc049c",
   "metadata": {
    "execution": {
     "iopub.execute_input": "2025-07-13T07:19:00.256063Z",
     "iopub.status.busy": "2025-07-13T07:19:00.255704Z",
     "iopub.status.idle": "2025-07-13T07:19:00.260101Z",
     "shell.execute_reply": "2025-07-13T07:19:00.258956Z"
    },
    "papermill": {
     "duration": 0.019688,
     "end_time": "2025-07-13T07:19:00.261814",
     "exception": false,
     "start_time": "2025-07-13T07:19:00.242126",
     "status": "completed"
    },
    "tags": []
   },
   "outputs": [],
   "source": [
    "# user_data = user_data.sample(n=10000, random_state=42)"
   ]
  },
  {
   "cell_type": "code",
   "execution_count": 17,
   "id": "7ede3eca",
   "metadata": {
    "execution": {
     "iopub.execute_input": "2025-07-13T07:19:00.284052Z",
     "iopub.status.busy": "2025-07-13T07:19:00.283560Z",
     "iopub.status.idle": "2025-07-13T07:19:01.586934Z",
     "shell.execute_reply": "2025-07-13T07:19:01.585725Z"
    },
    "papermill": {
     "duration": 1.317835,
     "end_time": "2025-07-13T07:19:01.590023",
     "exception": false,
     "start_time": "2025-07-13T07:19:00.272188",
     "status": "completed"
    },
    "tags": []
   },
   "outputs": [
    {
     "data": {
      "text/html": [
       "<div>\n",
       "<style scoped>\n",
       "    .dataframe tbody tr th:only-of-type {\n",
       "        vertical-align: middle;\n",
       "    }\n",
       "\n",
       "    .dataframe tbody tr th {\n",
       "        vertical-align: top;\n",
       "    }\n",
       "\n",
       "    .dataframe thead th {\n",
       "        text-align: right;\n",
       "    }\n",
       "</style>\n",
       "<table border=\"1\" class=\"dataframe\">\n",
       "  <thead>\n",
       "    <tr style=\"text-align: right;\">\n",
       "      <th></th>\n",
       "      <th>user_id</th>\n",
       "      <th>course_id</th>\n",
       "      <th>enroll_time</th>\n",
       "    </tr>\n",
       "  </thead>\n",
       "  <tbody>\n",
       "    <tr>\n",
       "      <th>19</th>\n",
       "      <td>U_100090</td>\n",
       "      <td>C_707022</td>\n",
       "      <td>1583235350</td>\n",
       "    </tr>\n",
       "    <tr>\n",
       "      <th>20</th>\n",
       "      <td>U_100090</td>\n",
       "      <td>C_676687</td>\n",
       "      <td>1583752556</td>\n",
       "    </tr>\n",
       "    <tr>\n",
       "      <th>21</th>\n",
       "      <td>U_100090</td>\n",
       "      <td>C_697073</td>\n",
       "      <td>1584917895</td>\n",
       "    </tr>\n",
       "    <tr>\n",
       "      <th>22</th>\n",
       "      <td>U_100090</td>\n",
       "      <td>C_948038</td>\n",
       "      <td>1584918145</td>\n",
       "    </tr>\n",
       "    <tr>\n",
       "      <th>23</th>\n",
       "      <td>U_100090</td>\n",
       "      <td>C_680716</td>\n",
       "      <td>1584918197</td>\n",
       "    </tr>\n",
       "    <tr>\n",
       "      <th>...</th>\n",
       "      <td>...</td>\n",
       "      <td>...</td>\n",
       "      <td>...</td>\n",
       "    </tr>\n",
       "    <tr>\n",
       "      <th>7267248</th>\n",
       "      <td>U_9968019</td>\n",
       "      <td>C_677097</td>\n",
       "      <td>1600788653</td>\n",
       "    </tr>\n",
       "    <tr>\n",
       "      <th>7267257</th>\n",
       "      <td>U_9969645</td>\n",
       "      <td>C_677010</td>\n",
       "      <td>1589927593</td>\n",
       "    </tr>\n",
       "    <tr>\n",
       "      <th>7267267</th>\n",
       "      <td>U_99722</td>\n",
       "      <td>C_1944971</td>\n",
       "      <td>1600715669</td>\n",
       "    </tr>\n",
       "    <tr>\n",
       "      <th>7267275</th>\n",
       "      <td>U_99746</td>\n",
       "      <td>C_735143</td>\n",
       "      <td>1602198978</td>\n",
       "    </tr>\n",
       "    <tr>\n",
       "      <th>7267277</th>\n",
       "      <td>U_997506</td>\n",
       "      <td>C_680747</td>\n",
       "      <td>1606727332</td>\n",
       "    </tr>\n",
       "  </tbody>\n",
       "</table>\n",
       "<p>334857 rows × 3 columns</p>\n",
       "</div>"
      ],
      "text/plain": [
       "           user_id  course_id  enroll_time\n",
       "19        U_100090   C_707022   1583235350\n",
       "20        U_100090   C_676687   1583752556\n",
       "21        U_100090   C_697073   1584917895\n",
       "22        U_100090   C_948038   1584918145\n",
       "23        U_100090   C_680716   1584918197\n",
       "...            ...        ...          ...\n",
       "7267248  U_9968019   C_677097   1600788653\n",
       "7267257  U_9969645   C_677010   1589927593\n",
       "7267267    U_99722  C_1944971   1600715669\n",
       "7267275    U_99746   C_735143   1602198978\n",
       "7267277   U_997506   C_680747   1606727332\n",
       "\n",
       "[334857 rows x 3 columns]"
      ]
     },
     "execution_count": 17,
     "metadata": {},
     "output_type": "execute_result"
    }
   ],
   "source": [
    "user_course_filtered = user_item_data[user_item_data[\"user_id\"].isin(user_data[\"user_id\"])]\n",
    "user_course_filtered = user_course_filtered[user_course_filtered[\"course_id\"].isin(item_data[\"course_id\"])]\n",
    "user_course_filtered"
   ]
  },
  {
   "cell_type": "code",
   "execution_count": 18,
   "id": "b160c473",
   "metadata": {
    "execution": {
     "iopub.execute_input": "2025-07-13T07:19:01.613709Z",
     "iopub.status.busy": "2025-07-13T07:19:01.613277Z",
     "iopub.status.idle": "2025-07-13T07:19:01.618984Z",
     "shell.execute_reply": "2025-07-13T07:19:01.617743Z"
    },
    "papermill": {
     "duration": 0.019149,
     "end_time": "2025-07-13T07:19:01.620702",
     "exception": false,
     "start_time": "2025-07-13T07:19:01.601553",
     "status": "completed"
    },
    "tags": []
   },
   "outputs": [],
   "source": [
    "def split_data(data):\n",
    "    data.rename(columns={\"course_id\": \"item\",\"user_id\":\"user\",\"enroll_time\":\"time\"}, inplace=True)\n",
    "    train_data, test_data = split_by_num_chrono(data, test_size=1)\n",
    "    return train_data,test_data"
   ]
  },
  {
   "cell_type": "code",
   "execution_count": 19,
   "id": "4c240a14",
   "metadata": {
    "execution": {
     "iopub.execute_input": "2025-07-13T07:19:01.648440Z",
     "iopub.status.busy": "2025-07-13T07:19:01.648044Z",
     "iopub.status.idle": "2025-07-13T07:19:01.778948Z",
     "shell.execute_reply": "2025-07-13T07:19:01.777667Z"
    },
    "papermill": {
     "duration": 0.146844,
     "end_time": "2025-07-13T07:19:01.781016",
     "exception": false,
     "start_time": "2025-07-13T07:19:01.634172",
     "status": "completed"
    },
    "tags": []
   },
   "outputs": [],
   "source": [
    "data = user_course_filtered.merge(user_data.rename(columns={\"id\":\"user_id\"}), on='user_id', how='inner')\n",
    "data['label'] = 1"
   ]
  },
  {
   "cell_type": "code",
   "execution_count": 20,
   "id": "792e9d9e",
   "metadata": {
    "execution": {
     "iopub.execute_input": "2025-07-13T07:19:01.804568Z",
     "iopub.status.busy": "2025-07-13T07:19:01.804128Z",
     "iopub.status.idle": "2025-07-13T07:19:01.838947Z",
     "shell.execute_reply": "2025-07-13T07:19:01.837712Z"
    },
    "papermill": {
     "duration": 0.049304,
     "end_time": "2025-07-13T07:19:01.841053",
     "exception": false,
     "start_time": "2025-07-13T07:19:01.791749",
     "status": "completed"
    },
    "tags": []
   },
   "outputs": [
    {
     "data": {
      "text/html": [
       "<div>\n",
       "<style scoped>\n",
       "    .dataframe tbody tr th:only-of-type {\n",
       "        vertical-align: middle;\n",
       "    }\n",
       "\n",
       "    .dataframe tbody tr th {\n",
       "        vertical-align: top;\n",
       "    }\n",
       "\n",
       "    .dataframe thead th {\n",
       "        text-align: right;\n",
       "    }\n",
       "</style>\n",
       "<table border=\"1\" class=\"dataframe\">\n",
       "  <thead>\n",
       "    <tr style=\"text-align: right;\">\n",
       "      <th></th>\n",
       "      <th>user_id</th>\n",
       "      <th>course_id</th>\n",
       "      <th>enroll_time</th>\n",
       "      <th>user_gender</th>\n",
       "      <th>label</th>\n",
       "    </tr>\n",
       "  </thead>\n",
       "  <tbody>\n",
       "    <tr>\n",
       "      <th>0</th>\n",
       "      <td>U_100090</td>\n",
       "      <td>C_707022</td>\n",
       "      <td>1583235350</td>\n",
       "      <td>0</td>\n",
       "      <td>1</td>\n",
       "    </tr>\n",
       "    <tr>\n",
       "      <th>1</th>\n",
       "      <td>U_100090</td>\n",
       "      <td>C_676687</td>\n",
       "      <td>1583752556</td>\n",
       "      <td>0</td>\n",
       "      <td>1</td>\n",
       "    </tr>\n",
       "    <tr>\n",
       "      <th>2</th>\n",
       "      <td>U_100090</td>\n",
       "      <td>C_697073</td>\n",
       "      <td>1584917895</td>\n",
       "      <td>0</td>\n",
       "      <td>1</td>\n",
       "    </tr>\n",
       "    <tr>\n",
       "      <th>3</th>\n",
       "      <td>U_100090</td>\n",
       "      <td>C_948038</td>\n",
       "      <td>1584918145</td>\n",
       "      <td>0</td>\n",
       "      <td>1</td>\n",
       "    </tr>\n",
       "    <tr>\n",
       "      <th>4</th>\n",
       "      <td>U_100090</td>\n",
       "      <td>C_680716</td>\n",
       "      <td>1584918197</td>\n",
       "      <td>0</td>\n",
       "      <td>1</td>\n",
       "    </tr>\n",
       "    <tr>\n",
       "      <th>...</th>\n",
       "      <td>...</td>\n",
       "      <td>...</td>\n",
       "      <td>...</td>\n",
       "      <td>...</td>\n",
       "      <td>...</td>\n",
       "    </tr>\n",
       "    <tr>\n",
       "      <th>334852</th>\n",
       "      <td>U_9968019</td>\n",
       "      <td>C_677097</td>\n",
       "      <td>1600788653</td>\n",
       "      <td>0</td>\n",
       "      <td>1</td>\n",
       "    </tr>\n",
       "    <tr>\n",
       "      <th>334853</th>\n",
       "      <td>U_9969645</td>\n",
       "      <td>C_677010</td>\n",
       "      <td>1589927593</td>\n",
       "      <td>1</td>\n",
       "      <td>1</td>\n",
       "    </tr>\n",
       "    <tr>\n",
       "      <th>334854</th>\n",
       "      <td>U_99722</td>\n",
       "      <td>C_1944971</td>\n",
       "      <td>1600715669</td>\n",
       "      <td>0</td>\n",
       "      <td>1</td>\n",
       "    </tr>\n",
       "    <tr>\n",
       "      <th>334855</th>\n",
       "      <td>U_99746</td>\n",
       "      <td>C_735143</td>\n",
       "      <td>1602198978</td>\n",
       "      <td>0</td>\n",
       "      <td>1</td>\n",
       "    </tr>\n",
       "    <tr>\n",
       "      <th>334856</th>\n",
       "      <td>U_997506</td>\n",
       "      <td>C_680747</td>\n",
       "      <td>1606727332</td>\n",
       "      <td>1</td>\n",
       "      <td>1</td>\n",
       "    </tr>\n",
       "  </tbody>\n",
       "</table>\n",
       "<p>334857 rows × 5 columns</p>\n",
       "</div>"
      ],
      "text/plain": [
       "          user_id  course_id  enroll_time  user_gender  label\n",
       "0        U_100090   C_707022   1583235350            0      1\n",
       "1        U_100090   C_676687   1583752556            0      1\n",
       "2        U_100090   C_697073   1584917895            0      1\n",
       "3        U_100090   C_948038   1584918145            0      1\n",
       "4        U_100090   C_680716   1584918197            0      1\n",
       "...           ...        ...          ...          ...    ...\n",
       "334852  U_9968019   C_677097   1600788653            0      1\n",
       "334853  U_9969645   C_677010   1589927593            1      1\n",
       "334854    U_99722  C_1944971   1600715669            0      1\n",
       "334855    U_99746   C_735143   1602198978            0      1\n",
       "334856   U_997506   C_680747   1606727332            1      1\n",
       "\n",
       "[334857 rows x 5 columns]"
      ]
     },
     "execution_count": 20,
     "metadata": {},
     "output_type": "execute_result"
    }
   ],
   "source": [
    "data=data.drop('index',axis=1)\n",
    "data"
   ]
  },
  {
   "cell_type": "code",
   "execution_count": 21,
   "id": "ee5af646",
   "metadata": {
    "execution": {
     "iopub.execute_input": "2025-07-13T07:19:01.867405Z",
     "iopub.status.busy": "2025-07-13T07:19:01.867056Z",
     "iopub.status.idle": "2025-07-13T07:19:01.886572Z",
     "shell.execute_reply": "2025-07-13T07:19:01.885474Z"
    },
    "papermill": {
     "duration": 0.034625,
     "end_time": "2025-07-13T07:19:01.888420",
     "exception": false,
     "start_time": "2025-07-13T07:19:01.853795",
     "status": "completed"
    },
    "tags": []
   },
   "outputs": [
    {
     "data": {
      "text/html": [
       "<div>\n",
       "<style scoped>\n",
       "    .dataframe tbody tr th:only-of-type {\n",
       "        vertical-align: middle;\n",
       "    }\n",
       "\n",
       "    .dataframe tbody tr th {\n",
       "        vertical-align: top;\n",
       "    }\n",
       "\n",
       "    .dataframe thead th {\n",
       "        text-align: right;\n",
       "    }\n",
       "</style>\n",
       "<table border=\"1\" class=\"dataframe\">\n",
       "  <thead>\n",
       "    <tr style=\"text-align: right;\">\n",
       "      <th></th>\n",
       "      <th>course_id</th>\n",
       "      <th>course_text</th>\n",
       "      <th>total_video_duration</th>\n",
       "      <th>total_num_problem</th>\n",
       "      <th>num_videos</th>\n",
       "      <th>num_exercises</th>\n",
       "      <th>num_teachers</th>\n",
       "      <th>teacher_id</th>\n",
       "      <th>num_schools</th>\n",
       "      <th>school_id_1</th>\n",
       "      <th>school_id_2</th>\n",
       "      <th>course_total_comments</th>\n",
       "    </tr>\n",
       "  </thead>\n",
       "  <tbody>\n",
       "    <tr>\n",
       "      <th>0</th>\n",
       "      <td>C_1017355</td>\n",
       "      <td>introduction to traditional chinese medicine e...</td>\n",
       "      <td>0.000</td>\n",
       "      <td>109</td>\n",
       "      <td>0</td>\n",
       "      <td>19</td>\n",
       "      <td>5</td>\n",
       "      <td>T_7970</td>\n",
       "      <td>1</td>\n",
       "      <td>S_33</td>\n",
       "      <td>missing</td>\n",
       "      <td>39624</td>\n",
       "    </tr>\n",
       "    <tr>\n",
       "      <th>1</th>\n",
       "      <td>C_1017419</td>\n",
       "      <td>smart government talk no prerequisite this cou...</td>\n",
       "      <td>0.000</td>\n",
       "      <td>141</td>\n",
       "      <td>0</td>\n",
       "      <td>9</td>\n",
       "      <td>8</td>\n",
       "      <td>T_7849</td>\n",
       "      <td>1</td>\n",
       "      <td>S_52</td>\n",
       "      <td>missing</td>\n",
       "      <td>609</td>\n",
       "    </tr>\n",
       "    <tr>\n",
       "      <th>2</th>\n",
       "      <td>C_1025064</td>\n",
       "      <td>principles of ideological and political educat...</td>\n",
       "      <td>55868.953</td>\n",
       "      <td>140</td>\n",
       "      <td>88</td>\n",
       "      <td>14</td>\n",
       "      <td>5</td>\n",
       "      <td>T_3915</td>\n",
       "      <td>1</td>\n",
       "      <td>S_13</td>\n",
       "      <td>missing</td>\n",
       "      <td>696</td>\n",
       "    </tr>\n",
       "    <tr>\n",
       "      <th>3</th>\n",
       "      <td>C_1025076</td>\n",
       "      <td>advanced roller skating tutorial no prerequisi...</td>\n",
       "      <td>0.000</td>\n",
       "      <td>18</td>\n",
       "      <td>0</td>\n",
       "      <td>4</td>\n",
       "      <td>1</td>\n",
       "      <td>T_5394</td>\n",
       "      <td>1</td>\n",
       "      <td>S_72</td>\n",
       "      <td>missing</td>\n",
       "      <td>2</td>\n",
       "    </tr>\n",
       "    <tr>\n",
       "      <th>4</th>\n",
       "      <td>C_1025079</td>\n",
       "      <td>scientific fitness method-silk-winding fitness...</td>\n",
       "      <td>20714.190</td>\n",
       "      <td>25</td>\n",
       "      <td>28</td>\n",
       "      <td>5</td>\n",
       "      <td>1</td>\n",
       "      <td>T_7939</td>\n",
       "      <td>1</td>\n",
       "      <td>S_97</td>\n",
       "      <td>missing</td>\n",
       "      <td>125</td>\n",
       "    </tr>\n",
       "    <tr>\n",
       "      <th>...</th>\n",
       "      <td>...</td>\n",
       "      <td>...</td>\n",
       "      <td>...</td>\n",
       "      <td>...</td>\n",
       "      <td>...</td>\n",
       "      <td>...</td>\n",
       "      <td>...</td>\n",
       "      <td>...</td>\n",
       "      <td>...</td>\n",
       "      <td>...</td>\n",
       "      <td>...</td>\n",
       "      <td>...</td>\n",
       "    </tr>\n",
       "    <tr>\n",
       "      <th>2750</th>\n",
       "      <td>C_949542</td>\n",
       "      <td>thinking innovation and creativity development...</td>\n",
       "      <td>22184.031</td>\n",
       "      <td>247</td>\n",
       "      <td>33</td>\n",
       "      <td>31</td>\n",
       "      <td>10</td>\n",
       "      <td>T_7389</td>\n",
       "      <td>1</td>\n",
       "      <td>S_749</td>\n",
       "      <td>missing</td>\n",
       "      <td>839</td>\n",
       "    </tr>\n",
       "    <tr>\n",
       "      <th>2751</th>\n",
       "      <td>C_955163</td>\n",
       "      <td>learn to make mini programs - practical chapte...</td>\n",
       "      <td>56372.024</td>\n",
       "      <td>61</td>\n",
       "      <td>100</td>\n",
       "      <td>7</td>\n",
       "      <td>4</td>\n",
       "      <td>T_172</td>\n",
       "      <td>1</td>\n",
       "      <td>S_1</td>\n",
       "      <td>missing</td>\n",
       "      <td>305</td>\n",
       "    </tr>\n",
       "    <tr>\n",
       "      <th>2752</th>\n",
       "      <td>C_956128</td>\n",
       "      <td>interpretation of hot issues of portal hyperte...</td>\n",
       "      <td>0.000</td>\n",
       "      <td>105</td>\n",
       "      <td>0</td>\n",
       "      <td>7</td>\n",
       "      <td>3</td>\n",
       "      <td>T_7005</td>\n",
       "      <td>1</td>\n",
       "      <td>S_144</td>\n",
       "      <td>missing</td>\n",
       "      <td>0</td>\n",
       "    </tr>\n",
       "    <tr>\n",
       "      <th>2753</th>\n",
       "      <td>C_956129</td>\n",
       "      <td>introduction to games and esports no prerequis...</td>\n",
       "      <td>34165.387</td>\n",
       "      <td>145</td>\n",
       "      <td>70</td>\n",
       "      <td>23</td>\n",
       "      <td>4</td>\n",
       "      <td>T_4850</td>\n",
       "      <td>1</td>\n",
       "      <td>S_492</td>\n",
       "      <td>missing</td>\n",
       "      <td>1597</td>\n",
       "    </tr>\n",
       "    <tr>\n",
       "      <th>2754</th>\n",
       "      <td>C_956130</td>\n",
       "      <td>multimedia technology and application no prere...</td>\n",
       "      <td>0.000</td>\n",
       "      <td>174</td>\n",
       "      <td>0</td>\n",
       "      <td>15</td>\n",
       "      <td>3</td>\n",
       "      <td>T_7457</td>\n",
       "      <td>1</td>\n",
       "      <td>S_11</td>\n",
       "      <td>missing</td>\n",
       "      <td>3</td>\n",
       "    </tr>\n",
       "  </tbody>\n",
       "</table>\n",
       "<p>2755 rows × 12 columns</p>\n",
       "</div>"
      ],
      "text/plain": [
       "      course_id                                        course_text  \\\n",
       "0     C_1017355  introduction to traditional chinese medicine e...   \n",
       "1     C_1017419  smart government talk no prerequisite this cou...   \n",
       "2     C_1025064  principles of ideological and political educat...   \n",
       "3     C_1025076  advanced roller skating tutorial no prerequisi...   \n",
       "4     C_1025079  scientific fitness method-silk-winding fitness...   \n",
       "...         ...                                                ...   \n",
       "2750   C_949542  thinking innovation and creativity development...   \n",
       "2751   C_955163  learn to make mini programs - practical chapte...   \n",
       "2752   C_956128  interpretation of hot issues of portal hyperte...   \n",
       "2753   C_956129  introduction to games and esports no prerequis...   \n",
       "2754   C_956130  multimedia technology and application no prere...   \n",
       "\n",
       "      total_video_duration  total_num_problem  num_videos  num_exercises  \\\n",
       "0                    0.000                109           0             19   \n",
       "1                    0.000                141           0              9   \n",
       "2                55868.953                140          88             14   \n",
       "3                    0.000                 18           0              4   \n",
       "4                20714.190                 25          28              5   \n",
       "...                    ...                ...         ...            ...   \n",
       "2750             22184.031                247          33             31   \n",
       "2751             56372.024                 61         100              7   \n",
       "2752                 0.000                105           0              7   \n",
       "2753             34165.387                145          70             23   \n",
       "2754                 0.000                174           0             15   \n",
       "\n",
       "      num_teachers teacher_id  num_schools school_id_1 school_id_2  \\\n",
       "0                5     T_7970            1        S_33     missing   \n",
       "1                8     T_7849            1        S_52     missing   \n",
       "2                5     T_3915            1        S_13     missing   \n",
       "3                1     T_5394            1        S_72     missing   \n",
       "4                1     T_7939            1        S_97     missing   \n",
       "...            ...        ...          ...         ...         ...   \n",
       "2750            10     T_7389            1       S_749     missing   \n",
       "2751             4      T_172            1         S_1     missing   \n",
       "2752             3     T_7005            1       S_144     missing   \n",
       "2753             4     T_4850            1       S_492     missing   \n",
       "2754             3     T_7457            1        S_11     missing   \n",
       "\n",
       "      course_total_comments  \n",
       "0                     39624  \n",
       "1                       609  \n",
       "2                       696  \n",
       "3                         2  \n",
       "4                       125  \n",
       "...                     ...  \n",
       "2750                    839  \n",
       "2751                    305  \n",
       "2752                      0  \n",
       "2753                   1597  \n",
       "2754                      3  \n",
       "\n",
       "[2755 rows x 12 columns]"
      ]
     },
     "execution_count": 21,
     "metadata": {},
     "output_type": "execute_result"
    }
   ],
   "source": [
    "item_data"
   ]
  },
  {
   "cell_type": "code",
   "execution_count": 22,
   "id": "e9ec195e",
   "metadata": {
    "execution": {
     "iopub.execute_input": "2025-07-13T07:19:01.917204Z",
     "iopub.status.busy": "2025-07-13T07:19:01.916809Z",
     "iopub.status.idle": "2025-07-13T07:19:02.546961Z",
     "shell.execute_reply": "2025-07-13T07:19:02.545532Z"
    },
    "papermill": {
     "duration": 0.647004,
     "end_time": "2025-07-13T07:19:02.549101",
     "exception": false,
     "start_time": "2025-07-13T07:19:01.902097",
     "status": "completed"
    },
    "tags": []
   },
   "outputs": [
    {
     "data": {
      "text/plain": [
       "Index(['course_id', 'course_text', 'total_video_duration', 'total_num_problem',\n",
       "       'num_videos', 'num_exercises', 'num_teachers', 'teacher_id',\n",
       "       'num_schools', 'school_id_1', 'school_id_2', 'course_total_comments',\n",
       "       'course_text_1', 'course_text_2', 'course_text_3', 'course_text_4',\n",
       "       'course_text_5', 'course_text_6', 'course_text_7', 'course_text_8',\n",
       "       'course_text_9', 'course_text_10', 'course_text_11', 'course_text_12',\n",
       "       'course_text_13', 'course_text_14', 'course_text_15', 'course_text_16',\n",
       "       'course_text_17', 'course_text_18', 'course_text_19', 'course_text_20',\n",
       "       'course_text_21', 'course_text_22', 'course_text_23', 'course_text_24',\n",
       "       'course_text_25', 'course_text_26', 'course_text_27', 'course_text_28',\n",
       "       'course_text_29', 'course_text_30'],\n",
       "      dtype='object')"
      ]
     },
     "execution_count": 22,
     "metadata": {},
     "output_type": "execute_result"
    }
   ],
   "source": [
    "from sklearn.feature_extraction.text import TfidfVectorizer\n",
    "import pandas as pd\n",
    "\n",
    "\n",
    "# Vectorizer\n",
    "vectorizer = TfidfVectorizer(            \n",
    "            max_features=30,\n",
    "            stop_words='english',\n",
    "            ngram_range=(1, 2))\n",
    "vectorized_data = vectorizer.fit_transform(item_data['course_text'])\n",
    "feature_names = [f'course_text_{i+1}' for i in range(len(vectorizer.get_feature_names_out()))]\n",
    "\n",
    "# Chuyển thành DataFrame\n",
    "tfidf_df = pd.DataFrame(vectorized_data.toarray(), columns=feature_names)\n",
    "\n",
    "# Gộp vào DataFrame gốc\n",
    "item_vec = item_data.join(tfidf_df)\n",
    "item_vec.columns"
   ]
  },
  {
   "cell_type": "code",
   "execution_count": 23,
   "id": "3855eb82",
   "metadata": {
    "execution": {
     "iopub.execute_input": "2025-07-13T07:19:02.576791Z",
     "iopub.status.busy": "2025-07-13T07:19:02.576337Z",
     "iopub.status.idle": "2025-07-13T07:19:02.581410Z",
     "shell.execute_reply": "2025-07-13T07:19:02.580355Z"
    },
    "papermill": {
     "duration": 0.0211,
     "end_time": "2025-07-13T07:19:02.583402",
     "exception": false,
     "start_time": "2025-07-13T07:19:02.562302",
     "status": "completed"
    },
    "tags": []
   },
   "outputs": [],
   "source": [
    "item_cols = list(item_vec.columns.drop(['course_id', 'course_text']))"
   ]
  },
  {
   "cell_type": "code",
   "execution_count": 24,
   "id": "afa8871b",
   "metadata": {
    "execution": {
     "iopub.execute_input": "2025-07-13T07:19:02.611267Z",
     "iopub.status.busy": "2025-07-13T07:19:02.610873Z",
     "iopub.status.idle": "2025-07-13T07:19:03.637249Z",
     "shell.execute_reply": "2025-07-13T07:19:03.636093Z"
    },
    "papermill": {
     "duration": 1.042869,
     "end_time": "2025-07-13T07:19:03.639319",
     "exception": false,
     "start_time": "2025-07-13T07:19:02.596450",
     "status": "completed"
    },
    "tags": []
   },
   "outputs": [],
   "source": [
    "train, test = split_data(data)"
   ]
  },
  {
   "cell_type": "code",
   "execution_count": 25,
   "id": "b68f6aa1",
   "metadata": {
    "execution": {
     "iopub.execute_input": "2025-07-13T07:19:03.664486Z",
     "iopub.status.busy": "2025-07-13T07:19:03.664111Z",
     "iopub.status.idle": "2025-07-13T07:19:03.675767Z",
     "shell.execute_reply": "2025-07-13T07:19:03.674454Z"
    },
    "papermill": {
     "duration": 0.026481,
     "end_time": "2025-07-13T07:19:03.677905",
     "exception": false,
     "start_time": "2025-07-13T07:19:03.651424",
     "status": "completed"
    },
    "tags": []
   },
   "outputs": [
    {
     "data": {
      "text/html": [
       "<div>\n",
       "<style scoped>\n",
       "    .dataframe tbody tr th:only-of-type {\n",
       "        vertical-align: middle;\n",
       "    }\n",
       "\n",
       "    .dataframe tbody tr th {\n",
       "        vertical-align: top;\n",
       "    }\n",
       "\n",
       "    .dataframe thead th {\n",
       "        text-align: right;\n",
       "    }\n",
       "</style>\n",
       "<table border=\"1\" class=\"dataframe\">\n",
       "  <thead>\n",
       "    <tr style=\"text-align: right;\">\n",
       "      <th></th>\n",
       "      <th>user</th>\n",
       "      <th>item</th>\n",
       "      <th>time</th>\n",
       "      <th>user_gender</th>\n",
       "      <th>label</th>\n",
       "    </tr>\n",
       "  </thead>\n",
       "  <tbody>\n",
       "    <tr>\n",
       "      <th>78598</th>\n",
       "      <td>U_100090</td>\n",
       "      <td>C_707022</td>\n",
       "      <td>1583235350</td>\n",
       "      <td>0</td>\n",
       "      <td>1</td>\n",
       "    </tr>\n",
       "    <tr>\n",
       "      <th>85071</th>\n",
       "      <td>U_100090</td>\n",
       "      <td>C_676687</td>\n",
       "      <td>1583752556</td>\n",
       "      <td>0</td>\n",
       "      <td>1</td>\n",
       "    </tr>\n",
       "    <tr>\n",
       "      <th>97032</th>\n",
       "      <td>U_100090</td>\n",
       "      <td>C_697073</td>\n",
       "      <td>1584917895</td>\n",
       "      <td>0</td>\n",
       "      <td>1</td>\n",
       "    </tr>\n",
       "    <tr>\n",
       "      <th>97037</th>\n",
       "      <td>U_100090</td>\n",
       "      <td>C_948038</td>\n",
       "      <td>1584918145</td>\n",
       "      <td>0</td>\n",
       "      <td>1</td>\n",
       "    </tr>\n",
       "    <tr>\n",
       "      <th>97041</th>\n",
       "      <td>U_100090</td>\n",
       "      <td>C_680716</td>\n",
       "      <td>1584918197</td>\n",
       "      <td>0</td>\n",
       "      <td>1</td>\n",
       "    </tr>\n",
       "    <tr>\n",
       "      <th>...</th>\n",
       "      <td>...</td>\n",
       "      <td>...</td>\n",
       "      <td>...</td>\n",
       "      <td>...</td>\n",
       "      <td>...</td>\n",
       "    </tr>\n",
       "    <tr>\n",
       "      <th>304842</th>\n",
       "      <td>U_997506</td>\n",
       "      <td>C_735239</td>\n",
       "      <td>1603116374</td>\n",
       "      <td>1</td>\n",
       "      <td>1</td>\n",
       "    </tr>\n",
       "    <tr>\n",
       "      <th>321970</th>\n",
       "      <td>U_997506</td>\n",
       "      <td>C_2095102</td>\n",
       "      <td>1605299197</td>\n",
       "      <td>1</td>\n",
       "      <td>1</td>\n",
       "    </tr>\n",
       "    <tr>\n",
       "      <th>330633</th>\n",
       "      <td>U_997506</td>\n",
       "      <td>C_682379</td>\n",
       "      <td>1606690104</td>\n",
       "      <td>1</td>\n",
       "      <td>1</td>\n",
       "    </tr>\n",
       "    <tr>\n",
       "      <th>330634</th>\n",
       "      <td>U_997506</td>\n",
       "      <td>C_696554</td>\n",
       "      <td>1606690121</td>\n",
       "      <td>1</td>\n",
       "      <td>1</td>\n",
       "    </tr>\n",
       "    <tr>\n",
       "      <th>330769</th>\n",
       "      <td>U_997506</td>\n",
       "      <td>C_696673</td>\n",
       "      <td>1606727242</td>\n",
       "      <td>1</td>\n",
       "      <td>1</td>\n",
       "    </tr>\n",
       "  </tbody>\n",
       "</table>\n",
       "<p>310799 rows × 5 columns</p>\n",
       "</div>"
      ],
      "text/plain": [
       "            user       item        time  user_gender  label\n",
       "78598   U_100090   C_707022  1583235350            0      1\n",
       "85071   U_100090   C_676687  1583752556            0      1\n",
       "97032   U_100090   C_697073  1584917895            0      1\n",
       "97037   U_100090   C_948038  1584918145            0      1\n",
       "97041   U_100090   C_680716  1584918197            0      1\n",
       "...          ...        ...         ...          ...    ...\n",
       "304842  U_997506   C_735239  1603116374            1      1\n",
       "321970  U_997506  C_2095102  1605299197            1      1\n",
       "330633  U_997506   C_682379  1606690104            1      1\n",
       "330634  U_997506   C_696554  1606690121            1      1\n",
       "330769  U_997506   C_696673  1606727242            1      1\n",
       "\n",
       "[310799 rows x 5 columns]"
      ]
     },
     "execution_count": 25,
     "metadata": {},
     "output_type": "execute_result"
    }
   ],
   "source": [
    "train"
   ]
  },
  {
   "cell_type": "code",
   "execution_count": 26,
   "id": "01e57f1f",
   "metadata": {
    "execution": {
     "iopub.execute_input": "2025-07-13T07:19:03.705747Z",
     "iopub.status.busy": "2025-07-13T07:19:03.705262Z",
     "iopub.status.idle": "2025-07-13T07:19:03.717078Z",
     "shell.execute_reply": "2025-07-13T07:19:03.715962Z"
    },
    "papermill": {
     "duration": 0.027729,
     "end_time": "2025-07-13T07:19:03.719084",
     "exception": false,
     "start_time": "2025-07-13T07:19:03.691355",
     "status": "completed"
    },
    "tags": []
   },
   "outputs": [
    {
     "data": {
      "text/html": [
       "<div>\n",
       "<style scoped>\n",
       "    .dataframe tbody tr th:only-of-type {\n",
       "        vertical-align: middle;\n",
       "    }\n",
       "\n",
       "    .dataframe tbody tr th {\n",
       "        vertical-align: top;\n",
       "    }\n",
       "\n",
       "    .dataframe thead th {\n",
       "        text-align: right;\n",
       "    }\n",
       "</style>\n",
       "<table border=\"1\" class=\"dataframe\">\n",
       "  <thead>\n",
       "    <tr style=\"text-align: right;\">\n",
       "      <th></th>\n",
       "      <th>user</th>\n",
       "      <th>item</th>\n",
       "      <th>time</th>\n",
       "      <th>user_gender</th>\n",
       "      <th>label</th>\n",
       "    </tr>\n",
       "  </thead>\n",
       "  <tbody>\n",
       "    <tr>\n",
       "      <th>276984</th>\n",
       "      <td>U_100090</td>\n",
       "      <td>C_1755921</td>\n",
       "      <td>1600725730</td>\n",
       "      <td>0</td>\n",
       "      <td>1</td>\n",
       "    </tr>\n",
       "    <tr>\n",
       "      <th>318051</th>\n",
       "      <td>U_1002476</td>\n",
       "      <td>C_682463</td>\n",
       "      <td>1604703719</td>\n",
       "      <td>1</td>\n",
       "      <td>1</td>\n",
       "    </tr>\n",
       "    <tr>\n",
       "      <th>313485</th>\n",
       "      <td>U_100281</td>\n",
       "      <td>C_948078</td>\n",
       "      <td>1604091834</td>\n",
       "      <td>0</td>\n",
       "      <td>1</td>\n",
       "    </tr>\n",
       "    <tr>\n",
       "      <th>242541</th>\n",
       "      <td>U_10033817</td>\n",
       "      <td>C_677049</td>\n",
       "      <td>1598352038</td>\n",
       "      <td>0</td>\n",
       "      <td>1</td>\n",
       "    </tr>\n",
       "    <tr>\n",
       "      <th>203437</th>\n",
       "      <td>U_10033948</td>\n",
       "      <td>C_1822804</td>\n",
       "      <td>1595283089</td>\n",
       "      <td>2</td>\n",
       "      <td>1</td>\n",
       "    </tr>\n",
       "    <tr>\n",
       "      <th>...</th>\n",
       "      <td>...</td>\n",
       "      <td>...</td>\n",
       "      <td>...</td>\n",
       "      <td>...</td>\n",
       "      <td>...</td>\n",
       "    </tr>\n",
       "    <tr>\n",
       "      <th>183062</th>\n",
       "      <td>U_99567</td>\n",
       "      <td>C_696911</td>\n",
       "      <td>1593298758</td>\n",
       "      <td>1</td>\n",
       "      <td>1</td>\n",
       "    </tr>\n",
       "    <tr>\n",
       "      <th>277860</th>\n",
       "      <td>U_9968019</td>\n",
       "      <td>C_677097</td>\n",
       "      <td>1600788653</td>\n",
       "      <td>0</td>\n",
       "      <td>1</td>\n",
       "    </tr>\n",
       "    <tr>\n",
       "      <th>148098</th>\n",
       "      <td>U_9969645</td>\n",
       "      <td>C_677010</td>\n",
       "      <td>1589927593</td>\n",
       "      <td>1</td>\n",
       "      <td>1</td>\n",
       "    </tr>\n",
       "    <tr>\n",
       "      <th>295372</th>\n",
       "      <td>U_99746</td>\n",
       "      <td>C_735143</td>\n",
       "      <td>1602198978</td>\n",
       "      <td>0</td>\n",
       "      <td>1</td>\n",
       "    </tr>\n",
       "    <tr>\n",
       "      <th>330770</th>\n",
       "      <td>U_997506</td>\n",
       "      <td>C_680747</td>\n",
       "      <td>1606727332</td>\n",
       "      <td>1</td>\n",
       "      <td>1</td>\n",
       "    </tr>\n",
       "  </tbody>\n",
       "</table>\n",
       "<p>23905 rows × 5 columns</p>\n",
       "</div>"
      ],
      "text/plain": [
       "              user       item        time  user_gender  label\n",
       "276984    U_100090  C_1755921  1600725730            0      1\n",
       "318051   U_1002476   C_682463  1604703719            1      1\n",
       "313485    U_100281   C_948078  1604091834            0      1\n",
       "242541  U_10033817   C_677049  1598352038            0      1\n",
       "203437  U_10033948  C_1822804  1595283089            2      1\n",
       "...            ...        ...         ...          ...    ...\n",
       "183062     U_99567   C_696911  1593298758            1      1\n",
       "277860   U_9968019   C_677097  1600788653            0      1\n",
       "148098   U_9969645   C_677010  1589927593            1      1\n",
       "295372     U_99746   C_735143  1602198978            0      1\n",
       "330770    U_997506   C_680747  1606727332            1      1\n",
       "\n",
       "[23905 rows x 5 columns]"
      ]
     },
     "execution_count": 26,
     "metadata": {},
     "output_type": "execute_result"
    }
   ],
   "source": [
    "test"
   ]
  },
  {
   "cell_type": "code",
   "execution_count": 27,
   "id": "9f84c5bc",
   "metadata": {
    "execution": {
     "iopub.execute_input": "2025-07-13T07:19:03.747323Z",
     "iopub.status.busy": "2025-07-13T07:19:03.746961Z",
     "iopub.status.idle": "2025-07-13T07:19:03.962259Z",
     "shell.execute_reply": "2025-07-13T07:19:03.961053Z"
    },
    "papermill": {
     "duration": 0.231642,
     "end_time": "2025-07-13T07:19:03.964427",
     "exception": false,
     "start_time": "2025-07-13T07:19:03.732785",
     "status": "completed"
    },
    "tags": []
   },
   "outputs": [],
   "source": [
    "train = train.merge(item_vec.rename(columns={\"course_id\":\"item\"}), on='item', how='inner')\n",
    "test = test.merge(item_vec.rename(columns={\"course_id\":\"item\"}), on='item', how='inner')"
   ]
  },
  {
   "cell_type": "code",
   "execution_count": 28,
   "id": "be3ed2d9",
   "metadata": {
    "execution": {
     "iopub.execute_input": "2025-07-13T07:19:03.994268Z",
     "iopub.status.busy": "2025-07-13T07:19:03.993882Z",
     "iopub.status.idle": "2025-07-13T07:19:03.998681Z",
     "shell.execute_reply": "2025-07-13T07:19:03.997598Z"
    },
    "papermill": {
     "duration": 0.022428,
     "end_time": "2025-07-13T07:19:04.000527",
     "exception": false,
     "start_time": "2025-07-13T07:19:03.978099",
     "status": "completed"
    },
    "tags": []
   },
   "outputs": [],
   "source": [
    "item_cols = [x for x in item_cols if x not in ['school_id_2',\n",
    "                                               'teacher_id',\n",
    "                                               'school_id_1',\n",
    "                                               'course_total_comments',\n",
    "                                               'num_videos',\n",
    "                                               'num_exercises',\n",
    "                                               'num_school'\n",
    "                                               'num_teachers',\n",
    "                                               'total_video_duration',\n",
    "                                               'total_num_problem',\n",
    "                                              ]]"
   ]
  },
  {
   "cell_type": "code",
   "execution_count": null,
   "id": "d9487d8f",
   "metadata": {
    "papermill": {
     "duration": 0.013017,
     "end_time": "2025-07-13T07:19:04.027688",
     "exception": false,
     "start_time": "2025-07-13T07:19:04.014671",
     "status": "completed"
    },
    "tags": []
   },
   "outputs": [],
   "source": []
  },
  {
   "cell_type": "code",
   "execution_count": 29,
   "id": "d02e07fa",
   "metadata": {
    "execution": {
     "iopub.execute_input": "2025-07-13T07:19:04.056156Z",
     "iopub.status.busy": "2025-07-13T07:19:04.055760Z",
     "iopub.status.idle": "2025-07-13T07:19:05.581430Z",
     "shell.execute_reply": "2025-07-13T07:19:05.580090Z"
    },
    "papermill": {
     "duration": 1.542866,
     "end_time": "2025-07-13T07:19:05.584163",
     "exception": false,
     "start_time": "2025-07-13T07:19:04.041297",
     "status": "completed"
    },
    "tags": []
   },
   "outputs": [],
   "source": [
    "# specify complete columns information\n",
    "sparse_col = ['user_gender',\n",
    "              # 'school_id_1',\n",
    "              # 'teacher_id'\n",
    "             ]\n",
    "dense_col = [f for f in item_cols if f not in ['school_id_1','teacher_id']]\n",
    "user_col = [\"user_gender\"]\n",
    "item_col = item_cols\n",
    "\n",
    "train_data, data_info = DatasetFeat.build_trainset(train, user_col, item_col, sparse_col, dense_col,shuffle=False)\n",
    "test_data = DatasetFeat.build_testset(test,shuffle=False)"
   ]
  },
  {
   "cell_type": "code",
   "execution_count": 30,
   "id": "071af714",
   "metadata": {
    "execution": {
     "iopub.execute_input": "2025-07-13T07:19:05.619095Z",
     "iopub.status.busy": "2025-07-13T07:19:05.617986Z",
     "iopub.status.idle": "2025-07-13T07:19:05.633159Z",
     "shell.execute_reply": "2025-07-13T07:19:05.627549Z"
    },
    "papermill": {
     "duration": 0.041307,
     "end_time": "2025-07-13T07:19:05.639331",
     "exception": false,
     "start_time": "2025-07-13T07:19:05.598024",
     "status": "completed"
    },
    "tags": []
   },
   "outputs": [
    {
     "name": "stdout",
     "output_type": "stream",
     "text": [
      "n_users: 24088, n_items: 2672, data density: 0.4829 %\n"
     ]
    }
   ],
   "source": [
    "print(data_info)"
   ]
  },
  {
   "cell_type": "code",
   "execution_count": 31,
   "id": "11e2c213",
   "metadata": {
    "execution": {
     "iopub.execute_input": "2025-07-13T07:19:05.680218Z",
     "iopub.status.busy": "2025-07-13T07:19:05.679885Z",
     "iopub.status.idle": "2025-07-13T07:19:05.684973Z",
     "shell.execute_reply": "2025-07-13T07:19:05.683898Z"
    },
    "papermill": {
     "duration": 0.021517,
     "end_time": "2025-07-13T07:19:05.686806",
     "exception": false,
     "start_time": "2025-07-13T07:19:05.665289",
     "status": "completed"
    },
    "tags": []
   },
   "outputs": [],
   "source": [
    "import tensorflow as tf\n",
    "tf.compat.v1.reset_default_graph() "
   ]
  },
  {
   "cell_type": "code",
   "execution_count": 32,
   "id": "7de04b4e",
   "metadata": {
    "execution": {
     "iopub.execute_input": "2025-07-13T07:19:05.717713Z",
     "iopub.status.busy": "2025-07-13T07:19:05.717205Z",
     "iopub.status.idle": "2025-07-13T08:25:47.977425Z",
     "shell.execute_reply": "2025-07-13T08:25:47.975906Z"
    },
    "papermill": {
     "duration": 4002.280779,
     "end_time": "2025-07-13T08:25:47.979451",
     "exception": false,
     "start_time": "2025-07-13T07:19:05.698672",
     "status": "completed"
    },
    "tags": []
   },
   "outputs": [
    {
     "name": "stdout",
     "output_type": "stream",
     "text": [
      "Training start time: \u001b[35m2025-07-13 07:19:05\u001b[0m\n",
      "total params: \u001b[33m537,796\u001b[0m | embedding params: \u001b[33m455,792\u001b[0m | network params: \u001b[33m82,004\u001b[0m\n"
     ]
    },
    {
     "name": "stderr",
     "output_type": "stream",
     "text": [
      "train: 100%|██████████| 304/304 [00:08<00:00, 37.21it/s]\n"
     ]
    },
    {
     "name": "stdout",
     "output_type": "stream",
     "text": [
      "Epoch 1 elapsed: 8.174s\n",
      "\t \u001b[32mtrain_loss: 0.6756\u001b[0m\n"
     ]
    },
    {
     "name": "stderr",
     "output_type": "stream",
     "text": [
      "eval_listwise: 100%|██████████| 2731/2731 [01:14<00:00, 36.59it/s]\n"
     ]
    },
    {
     "name": "stdout",
     "output_type": "stream",
     "text": [
      "\t eval recall@10: 0.0312\n",
      "\t eval precision@10: 0.0031\n",
      "\t eval ndcg@10: 0.0132\n",
      "\t eval map@10: 0.0079\n",
      "==============================\n"
     ]
    },
    {
     "name": "stderr",
     "output_type": "stream",
     "text": [
      "train: 100%|██████████| 304/304 [00:07<00:00, 42.42it/s]\n"
     ]
    },
    {
     "name": "stdout",
     "output_type": "stream",
     "text": [
      "Epoch 2 elapsed: 7.169s\n",
      "\t \u001b[32mtrain_loss: 0.5393\u001b[0m\n"
     ]
    },
    {
     "name": "stderr",
     "output_type": "stream",
     "text": [
      "eval_listwise: 100%|██████████| 2731/2731 [01:12<00:00, 37.50it/s]\n"
     ]
    },
    {
     "name": "stdout",
     "output_type": "stream",
     "text": [
      "\t eval recall@10: 0.0479\n",
      "\t eval precision@10: 0.0048\n",
      "\t eval ndcg@10: 0.0218\n",
      "\t eval map@10: 0.0141\n",
      "==============================\n"
     ]
    },
    {
     "name": "stderr",
     "output_type": "stream",
     "text": [
      "train: 100%|██████████| 304/304 [00:07<00:00, 41.94it/s]\n"
     ]
    },
    {
     "name": "stdout",
     "output_type": "stream",
     "text": [
      "Epoch 3 elapsed: 7.252s\n",
      "\t \u001b[32mtrain_loss: 0.5068\u001b[0m\n"
     ]
    },
    {
     "name": "stderr",
     "output_type": "stream",
     "text": [
      "eval_listwise: 100%|██████████| 2731/2731 [01:13<00:00, 37.13it/s]\n"
     ]
    },
    {
     "name": "stdout",
     "output_type": "stream",
     "text": [
      "\t eval recall@10: 0.0494\n",
      "\t eval precision@10: 0.0049\n",
      "\t eval ndcg@10: 0.0226\n",
      "\t eval map@10: 0.0146\n",
      "==============================\n"
     ]
    },
    {
     "name": "stderr",
     "output_type": "stream",
     "text": [
      "train: 100%|██████████| 304/304 [00:07<00:00, 42.25it/s]\n"
     ]
    },
    {
     "name": "stdout",
     "output_type": "stream",
     "text": [
      "Epoch 4 elapsed: 7.200s\n",
      "\t \u001b[32mtrain_loss: 0.5011\u001b[0m\n"
     ]
    },
    {
     "name": "stderr",
     "output_type": "stream",
     "text": [
      "eval_listwise: 100%|██████████| 2731/2731 [01:11<00:00, 38.03it/s]\n"
     ]
    },
    {
     "name": "stdout",
     "output_type": "stream",
     "text": [
      "\t eval recall@10: 0.0490\n",
      "\t eval precision@10: 0.0049\n",
      "\t eval ndcg@10: 0.0223\n",
      "\t eval map@10: 0.0144\n",
      "==============================\n"
     ]
    },
    {
     "name": "stderr",
     "output_type": "stream",
     "text": [
      "train: 100%|██████████| 304/304 [00:07<00:00, 42.37it/s]\n"
     ]
    },
    {
     "name": "stdout",
     "output_type": "stream",
     "text": [
      "Epoch 5 elapsed: 7.179s\n",
      "\t \u001b[32mtrain_loss: 0.4978\u001b[0m\n"
     ]
    },
    {
     "name": "stderr",
     "output_type": "stream",
     "text": [
      "eval_listwise: 100%|██████████| 2731/2731 [01:11<00:00, 38.06it/s]\n"
     ]
    },
    {
     "name": "stdout",
     "output_type": "stream",
     "text": [
      "\t eval recall@10: 0.0510\n",
      "\t eval precision@10: 0.0051\n",
      "\t eval ndcg@10: 0.0232\n",
      "\t eval map@10: 0.0150\n",
      "==============================\n"
     ]
    },
    {
     "name": "stderr",
     "output_type": "stream",
     "text": [
      "train: 100%|██████████| 304/304 [00:07<00:00, 39.42it/s]\n"
     ]
    },
    {
     "name": "stdout",
     "output_type": "stream",
     "text": [
      "Epoch 6 elapsed: 7.716s\n",
      "\t \u001b[32mtrain_loss: 0.4943\u001b[0m\n"
     ]
    },
    {
     "name": "stderr",
     "output_type": "stream",
     "text": [
      "eval_listwise: 100%|██████████| 2731/2731 [01:11<00:00, 38.11it/s]\n"
     ]
    },
    {
     "name": "stdout",
     "output_type": "stream",
     "text": [
      "\t eval recall@10: 0.0518\n",
      "\t eval precision@10: 0.0052\n",
      "\t eval ndcg@10: 0.0235\n",
      "\t eval map@10: 0.0151\n",
      "==============================\n"
     ]
    },
    {
     "name": "stderr",
     "output_type": "stream",
     "text": [
      "train: 100%|██████████| 304/304 [00:07<00:00, 41.80it/s]\n"
     ]
    },
    {
     "name": "stdout",
     "output_type": "stream",
     "text": [
      "Epoch 7 elapsed: 7.276s\n",
      "\t \u001b[32mtrain_loss: 0.4902\u001b[0m\n"
     ]
    },
    {
     "name": "stderr",
     "output_type": "stream",
     "text": [
      "eval_listwise: 100%|██████████| 2731/2731 [01:09<00:00, 39.16it/s]\n"
     ]
    },
    {
     "name": "stdout",
     "output_type": "stream",
     "text": [
      "\t eval recall@10: 0.0482\n",
      "\t eval precision@10: 0.0048\n",
      "\t eval ndcg@10: 0.0218\n",
      "\t eval map@10: 0.0139\n",
      "==============================\n"
     ]
    },
    {
     "name": "stderr",
     "output_type": "stream",
     "text": [
      "train: 100%|██████████| 304/304 [00:07<00:00, 42.74it/s]\n"
     ]
    },
    {
     "name": "stdout",
     "output_type": "stream",
     "text": [
      "Epoch 8 elapsed: 7.116s\n",
      "\t \u001b[32mtrain_loss: 0.4843\u001b[0m\n"
     ]
    },
    {
     "name": "stderr",
     "output_type": "stream",
     "text": [
      "eval_listwise: 100%|██████████| 2731/2731 [01:12<00:00, 37.83it/s]\n"
     ]
    },
    {
     "name": "stdout",
     "output_type": "stream",
     "text": [
      "\t eval recall@10: 0.0492\n",
      "\t eval precision@10: 0.0049\n",
      "\t eval ndcg@10: 0.0218\n",
      "\t eval map@10: 0.0137\n",
      "==============================\n"
     ]
    },
    {
     "name": "stderr",
     "output_type": "stream",
     "text": [
      "train: 100%|██████████| 304/304 [00:07<00:00, 42.53it/s]\n"
     ]
    },
    {
     "name": "stdout",
     "output_type": "stream",
     "text": [
      "Epoch 9 elapsed: 7.151s\n",
      "\t \u001b[32mtrain_loss: 0.4775\u001b[0m\n"
     ]
    },
    {
     "name": "stderr",
     "output_type": "stream",
     "text": [
      "eval_listwise: 100%|██████████| 2731/2731 [01:10<00:00, 38.58it/s]\n"
     ]
    },
    {
     "name": "stdout",
     "output_type": "stream",
     "text": [
      "\t eval recall@10: 0.0498\n",
      "\t eval precision@10: 0.0050\n",
      "\t eval ndcg@10: 0.0215\n",
      "\t eval map@10: 0.0132\n",
      "==============================\n"
     ]
    },
    {
     "name": "stderr",
     "output_type": "stream",
     "text": [
      "train: 100%|██████████| 304/304 [00:07<00:00, 42.56it/s]\n"
     ]
    },
    {
     "name": "stdout",
     "output_type": "stream",
     "text": [
      "Epoch 10 elapsed: 7.145s\n",
      "\t \u001b[32mtrain_loss: 0.4712\u001b[0m\n"
     ]
    },
    {
     "name": "stderr",
     "output_type": "stream",
     "text": [
      "eval_listwise: 100%|██████████| 2731/2731 [01:12<00:00, 37.74it/s]\n"
     ]
    },
    {
     "name": "stdout",
     "output_type": "stream",
     "text": [
      "\t eval recall@10: 0.0510\n",
      "\t eval precision@10: 0.0051\n",
      "\t eval ndcg@10: 0.0225\n",
      "\t eval map@10: 0.0140\n",
      "==============================\n"
     ]
    },
    {
     "name": "stderr",
     "output_type": "stream",
     "text": [
      "train: 100%|██████████| 304/304 [00:07<00:00, 39.98it/s]\n"
     ]
    },
    {
     "name": "stdout",
     "output_type": "stream",
     "text": [
      "Epoch 11 elapsed: 7.610s\n",
      "\t \u001b[32mtrain_loss: 0.4658\u001b[0m\n"
     ]
    },
    {
     "name": "stderr",
     "output_type": "stream",
     "text": [
      "eval_listwise: 100%|██████████| 2731/2731 [01:09<00:00, 39.04it/s]\n"
     ]
    },
    {
     "name": "stdout",
     "output_type": "stream",
     "text": [
      "\t eval recall@10: 0.0527\n",
      "\t eval precision@10: 0.0053\n",
      "\t eval ndcg@10: 0.0232\n",
      "\t eval map@10: 0.0144\n",
      "==============================\n"
     ]
    },
    {
     "name": "stderr",
     "output_type": "stream",
     "text": [
      "train: 100%|██████████| 304/304 [00:07<00:00, 41.74it/s]\n"
     ]
    },
    {
     "name": "stdout",
     "output_type": "stream",
     "text": [
      "Epoch 12 elapsed: 7.288s\n",
      "\t \u001b[32mtrain_loss: 0.462\u001b[0m\n"
     ]
    },
    {
     "name": "stderr",
     "output_type": "stream",
     "text": [
      "eval_listwise: 100%|██████████| 2731/2731 [01:10<00:00, 38.92it/s]\n"
     ]
    },
    {
     "name": "stdout",
     "output_type": "stream",
     "text": [
      "\t eval recall@10: 0.0488\n",
      "\t eval precision@10: 0.0049\n",
      "\t eval ndcg@10: 0.0219\n",
      "\t eval map@10: 0.0139\n",
      "==============================\n"
     ]
    },
    {
     "name": "stderr",
     "output_type": "stream",
     "text": [
      "train: 100%|██████████| 304/304 [00:07<00:00, 42.79it/s]\n"
     ]
    },
    {
     "name": "stdout",
     "output_type": "stream",
     "text": [
      "Epoch 13 elapsed: 7.108s\n",
      "\t \u001b[32mtrain_loss: 0.4573\u001b[0m\n"
     ]
    },
    {
     "name": "stderr",
     "output_type": "stream",
     "text": [
      "eval_listwise: 100%|██████████| 2731/2731 [01:11<00:00, 38.06it/s]\n"
     ]
    },
    {
     "name": "stdout",
     "output_type": "stream",
     "text": [
      "\t eval recall@10: 0.0522\n",
      "\t eval precision@10: 0.0052\n",
      "\t eval ndcg@10: 0.0228\n",
      "\t eval map@10: 0.0141\n",
      "==============================\n"
     ]
    },
    {
     "name": "stderr",
     "output_type": "stream",
     "text": [
      "train: 100%|██████████| 304/304 [00:07<00:00, 41.24it/s]\n"
     ]
    },
    {
     "name": "stdout",
     "output_type": "stream",
     "text": [
      "Epoch 14 elapsed: 7.376s\n",
      "\t \u001b[32mtrain_loss: 0.454\u001b[0m\n"
     ]
    },
    {
     "name": "stderr",
     "output_type": "stream",
     "text": [
      "eval_listwise: 100%|██████████| 2731/2731 [01:09<00:00, 39.10it/s]\n"
     ]
    },
    {
     "name": "stdout",
     "output_type": "stream",
     "text": [
      "\t eval recall@10: 0.0519\n",
      "\t eval precision@10: 0.0052\n",
      "\t eval ndcg@10: 0.0226\n",
      "\t eval map@10: 0.0139\n",
      "==============================\n"
     ]
    },
    {
     "name": "stderr",
     "output_type": "stream",
     "text": [
      "train: 100%|██████████| 304/304 [00:07<00:00, 42.61it/s]\n"
     ]
    },
    {
     "name": "stdout",
     "output_type": "stream",
     "text": [
      "Epoch 15 elapsed: 7.141s\n",
      "\t \u001b[32mtrain_loss: 0.4514\u001b[0m\n"
     ]
    },
    {
     "name": "stderr",
     "output_type": "stream",
     "text": [
      "eval_listwise: 100%|██████████| 2731/2731 [01:11<00:00, 38.25it/s]\n"
     ]
    },
    {
     "name": "stdout",
     "output_type": "stream",
     "text": [
      "\t eval recall@10: 0.0531\n",
      "\t eval precision@10: 0.0053\n",
      "\t eval ndcg@10: 0.0230\n",
      "\t eval map@10: 0.0141\n",
      "==============================\n"
     ]
    },
    {
     "name": "stderr",
     "output_type": "stream",
     "text": [
      "train: 100%|██████████| 304/304 [00:07<00:00, 39.31it/s]\n"
     ]
    },
    {
     "name": "stdout",
     "output_type": "stream",
     "text": [
      "Epoch 16 elapsed: 7.739s\n",
      "\t \u001b[32mtrain_loss: 0.4487\u001b[0m\n"
     ]
    },
    {
     "name": "stderr",
     "output_type": "stream",
     "text": [
      "eval_listwise: 100%|██████████| 2731/2731 [01:11<00:00, 38.10it/s]\n"
     ]
    },
    {
     "name": "stdout",
     "output_type": "stream",
     "text": [
      "\t eval recall@10: 0.0508\n",
      "\t eval precision@10: 0.0051\n",
      "\t eval ndcg@10: 0.0225\n",
      "\t eval map@10: 0.0141\n",
      "==============================\n"
     ]
    },
    {
     "name": "stderr",
     "output_type": "stream",
     "text": [
      "train: 100%|██████████| 304/304 [00:07<00:00, 42.61it/s]\n"
     ]
    },
    {
     "name": "stdout",
     "output_type": "stream",
     "text": [
      "Epoch 17 elapsed: 7.138s\n",
      "\t \u001b[32mtrain_loss: 0.4464\u001b[0m\n"
     ]
    },
    {
     "name": "stderr",
     "output_type": "stream",
     "text": [
      "eval_listwise: 100%|██████████| 2731/2731 [01:11<00:00, 38.20it/s]\n"
     ]
    },
    {
     "name": "stdout",
     "output_type": "stream",
     "text": [
      "\t eval recall@10: 0.0533\n",
      "\t eval precision@10: 0.0053\n",
      "\t eval ndcg@10: 0.0238\n",
      "\t eval map@10: 0.0151\n",
      "==============================\n"
     ]
    },
    {
     "name": "stderr",
     "output_type": "stream",
     "text": [
      "train: 100%|██████████| 304/304 [00:07<00:00, 39.29it/s]\n"
     ]
    },
    {
     "name": "stdout",
     "output_type": "stream",
     "text": [
      "Epoch 18 elapsed: 7.743s\n",
      "\t \u001b[32mtrain_loss: 0.4426\u001b[0m\n"
     ]
    },
    {
     "name": "stderr",
     "output_type": "stream",
     "text": [
      "eval_listwise: 100%|██████████| 2731/2731 [01:10<00:00, 38.83it/s]\n"
     ]
    },
    {
     "name": "stdout",
     "output_type": "stream",
     "text": [
      "\t eval recall@10: 0.0518\n",
      "\t eval precision@10: 0.0052\n",
      "\t eval ndcg@10: 0.0233\n",
      "\t eval map@10: 0.0149\n",
      "==============================\n"
     ]
    },
    {
     "name": "stderr",
     "output_type": "stream",
     "text": [
      "train: 100%|██████████| 304/304 [00:07<00:00, 42.64it/s]\n"
     ]
    },
    {
     "name": "stdout",
     "output_type": "stream",
     "text": [
      "Epoch 19 elapsed: 7.133s\n",
      "\t \u001b[32mtrain_loss: 0.4399\u001b[0m\n"
     ]
    },
    {
     "name": "stderr",
     "output_type": "stream",
     "text": [
      "eval_listwise: 100%|██████████| 2731/2731 [01:12<00:00, 37.64it/s]\n"
     ]
    },
    {
     "name": "stdout",
     "output_type": "stream",
     "text": [
      "\t eval recall@10: 0.0531\n",
      "\t eval precision@10: 0.0053\n",
      "\t eval ndcg@10: 0.0244\n",
      "\t eval map@10: 0.0158\n",
      "==============================\n"
     ]
    },
    {
     "name": "stderr",
     "output_type": "stream",
     "text": [
      "train: 100%|██████████| 304/304 [00:07<00:00, 42.62it/s]\n"
     ]
    },
    {
     "name": "stdout",
     "output_type": "stream",
     "text": [
      "Epoch 20 elapsed: 7.136s\n",
      "\t \u001b[32mtrain_loss: 0.4362\u001b[0m\n"
     ]
    },
    {
     "name": "stderr",
     "output_type": "stream",
     "text": [
      "eval_listwise: 100%|██████████| 2731/2731 [01:10<00:00, 38.88it/s]\n"
     ]
    },
    {
     "name": "stdout",
     "output_type": "stream",
     "text": [
      "\t eval recall@10: 0.0552\n",
      "\t eval precision@10: 0.0055\n",
      "\t eval ndcg@10: 0.0261\n",
      "\t eval map@10: 0.0175\n",
      "==============================\n"
     ]
    },
    {
     "name": "stderr",
     "output_type": "stream",
     "text": [
      "train: 100%|██████████| 304/304 [00:07<00:00, 42.85it/s]\n"
     ]
    },
    {
     "name": "stdout",
     "output_type": "stream",
     "text": [
      "Epoch 21 elapsed: 7.098s\n",
      "\t \u001b[32mtrain_loss: 0.4325\u001b[0m\n"
     ]
    },
    {
     "name": "stderr",
     "output_type": "stream",
     "text": [
      "eval_listwise: 100%|██████████| 2731/2731 [01:11<00:00, 38.33it/s]\n"
     ]
    },
    {
     "name": "stdout",
     "output_type": "stream",
     "text": [
      "\t eval recall@10: 0.0553\n",
      "\t eval precision@10: 0.0055\n",
      "\t eval ndcg@10: 0.0262\n",
      "\t eval map@10: 0.0175\n",
      "==============================\n"
     ]
    },
    {
     "name": "stderr",
     "output_type": "stream",
     "text": [
      "train: 100%|██████████| 304/304 [00:07<00:00, 42.70it/s]\n"
     ]
    },
    {
     "name": "stdout",
     "output_type": "stream",
     "text": [
      "Epoch 22 elapsed: 7.123s\n",
      "\t \u001b[32mtrain_loss: 0.4282\u001b[0m\n"
     ]
    },
    {
     "name": "stderr",
     "output_type": "stream",
     "text": [
      "eval_listwise: 100%|██████████| 2731/2731 [01:11<00:00, 38.10it/s]\n"
     ]
    },
    {
     "name": "stdout",
     "output_type": "stream",
     "text": [
      "\t eval recall@10: 0.0510\n",
      "\t eval precision@10: 0.0051\n",
      "\t eval ndcg@10: 0.0248\n",
      "\t eval map@10: 0.0169\n",
      "==============================\n"
     ]
    },
    {
     "name": "stderr",
     "output_type": "stream",
     "text": [
      "train: 100%|██████████| 304/304 [00:07<00:00, 40.69it/s]\n"
     ]
    },
    {
     "name": "stdout",
     "output_type": "stream",
     "text": [
      "Epoch 23 elapsed: 7.476s\n",
      "\t \u001b[32mtrain_loss: 0.4226\u001b[0m\n"
     ]
    },
    {
     "name": "stderr",
     "output_type": "stream",
     "text": [
      "eval_listwise: 100%|██████████| 2731/2731 [01:11<00:00, 38.09it/s]\n"
     ]
    },
    {
     "name": "stdout",
     "output_type": "stream",
     "text": [
      "\t eval recall@10: 0.0529\n",
      "\t eval precision@10: 0.0053\n",
      "\t eval ndcg@10: 0.0260\n",
      "\t eval map@10: 0.0180\n",
      "==============================\n"
     ]
    },
    {
     "name": "stderr",
     "output_type": "stream",
     "text": [
      "train: 100%|██████████| 304/304 [00:07<00:00, 43.02it/s]\n"
     ]
    },
    {
     "name": "stdout",
     "output_type": "stream",
     "text": [
      "Epoch 24 elapsed: 7.070s\n",
      "\t \u001b[32mtrain_loss: 0.4173\u001b[0m\n"
     ]
    },
    {
     "name": "stderr",
     "output_type": "stream",
     "text": [
      "eval_listwise: 100%|██████████| 2731/2731 [01:10<00:00, 38.74it/s]\n"
     ]
    },
    {
     "name": "stdout",
     "output_type": "stream",
     "text": [
      "\t eval recall@10: 0.0577\n",
      "\t eval precision@10: 0.0058\n",
      "\t eval ndcg@10: 0.0280\n",
      "\t eval map@10: 0.0191\n",
      "==============================\n"
     ]
    },
    {
     "name": "stderr",
     "output_type": "stream",
     "text": [
      "train: 100%|██████████| 304/304 [00:07<00:00, 43.13it/s]\n"
     ]
    },
    {
     "name": "stdout",
     "output_type": "stream",
     "text": [
      "Epoch 25 elapsed: 7.052s\n",
      "\t \u001b[32mtrain_loss: 0.4111\u001b[0m\n"
     ]
    },
    {
     "name": "stderr",
     "output_type": "stream",
     "text": [
      "eval_listwise: 100%|██████████| 2731/2731 [01:10<00:00, 38.47it/s]\n"
     ]
    },
    {
     "name": "stdout",
     "output_type": "stream",
     "text": [
      "\t eval recall@10: 0.0562\n",
      "\t eval precision@10: 0.0056\n",
      "\t eval ndcg@10: 0.0272\n",
      "\t eval map@10: 0.0185\n",
      "==============================\n"
     ]
    },
    {
     "name": "stderr",
     "output_type": "stream",
     "text": [
      "train: 100%|██████████| 304/304 [00:07<00:00, 40.74it/s]\n"
     ]
    },
    {
     "name": "stdout",
     "output_type": "stream",
     "text": [
      "Epoch 26 elapsed: 7.467s\n",
      "\t \u001b[32mtrain_loss: 0.4064\u001b[0m\n"
     ]
    },
    {
     "name": "stderr",
     "output_type": "stream",
     "text": [
      "eval_listwise: 100%|██████████| 2731/2731 [01:10<00:00, 38.49it/s]\n"
     ]
    },
    {
     "name": "stdout",
     "output_type": "stream",
     "text": [
      "\t eval recall@10: 0.0597\n",
      "\t eval precision@10: 0.0060\n",
      "\t eval ndcg@10: 0.0290\n",
      "\t eval map@10: 0.0198\n",
      "==============================\n"
     ]
    },
    {
     "name": "stderr",
     "output_type": "stream",
     "text": [
      "train: 100%|██████████| 304/304 [00:07<00:00, 42.66it/s]\n"
     ]
    },
    {
     "name": "stdout",
     "output_type": "stream",
     "text": [
      "Epoch 27 elapsed: 7.129s\n",
      "\t \u001b[32mtrain_loss: 0.4007\u001b[0m\n"
     ]
    },
    {
     "name": "stderr",
     "output_type": "stream",
     "text": [
      "eval_listwise: 100%|██████████| 2731/2731 [01:10<00:00, 38.58it/s]\n"
     ]
    },
    {
     "name": "stdout",
     "output_type": "stream",
     "text": [
      "\t eval recall@10: 0.0612\n",
      "\t eval precision@10: 0.0061\n",
      "\t eval ndcg@10: 0.0294\n",
      "\t eval map@10: 0.0199\n",
      "==============================\n"
     ]
    },
    {
     "name": "stderr",
     "output_type": "stream",
     "text": [
      "train: 100%|██████████| 304/304 [00:07<00:00, 38.13it/s]\n"
     ]
    },
    {
     "name": "stdout",
     "output_type": "stream",
     "text": [
      "Epoch 28 elapsed: 7.976s\n",
      "\t \u001b[32mtrain_loss: 0.3955\u001b[0m\n"
     ]
    },
    {
     "name": "stderr",
     "output_type": "stream",
     "text": [
      "eval_listwise: 100%|██████████| 2731/2731 [01:11<00:00, 38.37it/s]\n"
     ]
    },
    {
     "name": "stdout",
     "output_type": "stream",
     "text": [
      "\t eval recall@10: 0.0632\n",
      "\t eval precision@10: 0.0063\n",
      "\t eval ndcg@10: 0.0311\n",
      "\t eval map@10: 0.0215\n",
      "==============================\n"
     ]
    },
    {
     "name": "stderr",
     "output_type": "stream",
     "text": [
      "train: 100%|██████████| 304/304 [00:07<00:00, 42.66it/s]\n"
     ]
    },
    {
     "name": "stdout",
     "output_type": "stream",
     "text": [
      "Epoch 29 elapsed: 7.129s\n",
      "\t \u001b[32mtrain_loss: 0.3909\u001b[0m\n"
     ]
    },
    {
     "name": "stderr",
     "output_type": "stream",
     "text": [
      "eval_listwise: 100%|██████████| 2731/2731 [01:11<00:00, 37.97it/s]\n"
     ]
    },
    {
     "name": "stdout",
     "output_type": "stream",
     "text": [
      "\t eval recall@10: 0.0630\n",
      "\t eval precision@10: 0.0063\n",
      "\t eval ndcg@10: 0.0307\n",
      "\t eval map@10: 0.0211\n",
      "==============================\n"
     ]
    },
    {
     "name": "stderr",
     "output_type": "stream",
     "text": [
      "train: 100%|██████████| 304/304 [00:07<00:00, 40.27it/s]\n"
     ]
    },
    {
     "name": "stdout",
     "output_type": "stream",
     "text": [
      "Epoch 30 elapsed: 7.552s\n",
      "\t \u001b[32mtrain_loss: 0.3861\u001b[0m\n"
     ]
    },
    {
     "name": "stderr",
     "output_type": "stream",
     "text": [
      "eval_listwise: 100%|██████████| 2731/2731 [01:12<00:00, 37.78it/s]\n"
     ]
    },
    {
     "name": "stdout",
     "output_type": "stream",
     "text": [
      "\t eval recall@10: 0.0643\n",
      "\t eval precision@10: 0.0064\n",
      "\t eval ndcg@10: 0.0318\n",
      "\t eval map@10: 0.0222\n",
      "==============================\n"
     ]
    },
    {
     "name": "stderr",
     "output_type": "stream",
     "text": [
      "train: 100%|██████████| 304/304 [00:07<00:00, 42.51it/s]\n"
     ]
    },
    {
     "name": "stdout",
     "output_type": "stream",
     "text": [
      "Epoch 31 elapsed: 7.154s\n",
      "\t \u001b[32mtrain_loss: 0.3806\u001b[0m\n"
     ]
    },
    {
     "name": "stderr",
     "output_type": "stream",
     "text": [
      "eval_listwise: 100%|██████████| 2731/2731 [01:12<00:00, 37.68it/s]\n"
     ]
    },
    {
     "name": "stdout",
     "output_type": "stream",
     "text": [
      "\t eval recall@10: 0.0648\n",
      "\t eval precision@10: 0.0065\n",
      "\t eval ndcg@10: 0.0309\n",
      "\t eval map@10: 0.0208\n",
      "==============================\n"
     ]
    },
    {
     "name": "stderr",
     "output_type": "stream",
     "text": [
      "train: 100%|██████████| 304/304 [00:07<00:00, 39.72it/s]\n"
     ]
    },
    {
     "name": "stdout",
     "output_type": "stream",
     "text": [
      "Epoch 32 elapsed: 7.658s\n",
      "\t \u001b[32mtrain_loss: 0.3752\u001b[0m\n"
     ]
    },
    {
     "name": "stderr",
     "output_type": "stream",
     "text": [
      "eval_listwise: 100%|██████████| 2731/2731 [01:11<00:00, 37.99it/s]\n"
     ]
    },
    {
     "name": "stdout",
     "output_type": "stream",
     "text": [
      "\t eval recall@10: 0.0680\n",
      "\t eval precision@10: 0.0068\n",
      "\t eval ndcg@10: 0.0334\n",
      "\t eval map@10: 0.0230\n",
      "==============================\n"
     ]
    },
    {
     "name": "stderr",
     "output_type": "stream",
     "text": [
      "train: 100%|██████████| 304/304 [00:07<00:00, 42.51it/s]\n"
     ]
    },
    {
     "name": "stdout",
     "output_type": "stream",
     "text": [
      "Epoch 33 elapsed: 7.155s\n",
      "\t \u001b[32mtrain_loss: 0.3695\u001b[0m\n"
     ]
    },
    {
     "name": "stderr",
     "output_type": "stream",
     "text": [
      "eval_listwise: 100%|██████████| 2731/2731 [01:12<00:00, 37.74it/s]\n"
     ]
    },
    {
     "name": "stdout",
     "output_type": "stream",
     "text": [
      "\t eval recall@10: 0.0721\n",
      "\t eval precision@10: 0.0072\n",
      "\t eval ndcg@10: 0.0347\n",
      "\t eval map@10: 0.0236\n",
      "==============================\n"
     ]
    },
    {
     "name": "stderr",
     "output_type": "stream",
     "text": [
      "train: 100%|██████████| 304/304 [00:07<00:00, 42.09it/s]\n"
     ]
    },
    {
     "name": "stdout",
     "output_type": "stream",
     "text": [
      "Epoch 34 elapsed: 7.226s\n",
      "\t \u001b[32mtrain_loss: 0.3651\u001b[0m\n"
     ]
    },
    {
     "name": "stderr",
     "output_type": "stream",
     "text": [
      "eval_listwise: 100%|██████████| 2731/2731 [01:16<00:00, 35.93it/s]\n"
     ]
    },
    {
     "name": "stdout",
     "output_type": "stream",
     "text": [
      "\t eval recall@10: 0.0746\n",
      "\t eval precision@10: 0.0075\n",
      "\t eval ndcg@10: 0.0355\n",
      "\t eval map@10: 0.0239\n",
      "==============================\n"
     ]
    },
    {
     "name": "stderr",
     "output_type": "stream",
     "text": [
      "train: 100%|██████████| 304/304 [00:07<00:00, 42.56it/s]\n"
     ]
    },
    {
     "name": "stdout",
     "output_type": "stream",
     "text": [
      "Epoch 35 elapsed: 7.146s\n",
      "\t \u001b[32mtrain_loss: 0.3595\u001b[0m\n"
     ]
    },
    {
     "name": "stderr",
     "output_type": "stream",
     "text": [
      "eval_listwise: 100%|██████████| 2731/2731 [01:14<00:00, 36.46it/s]\n"
     ]
    },
    {
     "name": "stdout",
     "output_type": "stream",
     "text": [
      "\t eval recall@10: 0.0762\n",
      "\t eval precision@10: 0.0076\n",
      "\t eval ndcg@10: 0.0369\n",
      "\t eval map@10: 0.0253\n",
      "==============================\n"
     ]
    },
    {
     "name": "stderr",
     "output_type": "stream",
     "text": [
      "train: 100%|██████████| 304/304 [00:07<00:00, 39.95it/s]\n"
     ]
    },
    {
     "name": "stdout",
     "output_type": "stream",
     "text": [
      "Epoch 36 elapsed: 7.613s\n",
      "\t \u001b[32mtrain_loss: 0.356\u001b[0m\n"
     ]
    },
    {
     "name": "stderr",
     "output_type": "stream",
     "text": [
      "eval_listwise: 100%|██████████| 2731/2731 [01:15<00:00, 36.29it/s]\n"
     ]
    },
    {
     "name": "stdout",
     "output_type": "stream",
     "text": [
      "\t eval recall@10: 0.0824\n",
      "\t eval precision@10: 0.0082\n",
      "\t eval ndcg@10: 0.0400\n",
      "\t eval map@10: 0.0274\n",
      "==============================\n"
     ]
    },
    {
     "name": "stderr",
     "output_type": "stream",
     "text": [
      "train: 100%|██████████| 304/304 [00:07<00:00, 43.08it/s]\n"
     ]
    },
    {
     "name": "stdout",
     "output_type": "stream",
     "text": [
      "Epoch 37 elapsed: 7.060s\n",
      "\t \u001b[32mtrain_loss: 0.3527\u001b[0m\n"
     ]
    },
    {
     "name": "stderr",
     "output_type": "stream",
     "text": [
      "eval_listwise: 100%|██████████| 2731/2731 [01:14<00:00, 36.80it/s]\n"
     ]
    },
    {
     "name": "stdout",
     "output_type": "stream",
     "text": [
      "\t eval recall@10: 0.0854\n",
      "\t eval precision@10: 0.0085\n",
      "\t eval ndcg@10: 0.0412\n",
      "\t eval map@10: 0.0281\n",
      "==============================\n"
     ]
    },
    {
     "name": "stderr",
     "output_type": "stream",
     "text": [
      "train: 100%|██████████| 304/304 [00:07<00:00, 40.07it/s]\n"
     ]
    },
    {
     "name": "stdout",
     "output_type": "stream",
     "text": [
      "Epoch 38 elapsed: 7.590s\n",
      "\t \u001b[32mtrain_loss: 0.3483\u001b[0m\n"
     ]
    },
    {
     "name": "stderr",
     "output_type": "stream",
     "text": [
      "eval_listwise: 100%|██████████| 2731/2731 [01:12<00:00, 37.51it/s]\n"
     ]
    },
    {
     "name": "stdout",
     "output_type": "stream",
     "text": [
      "\t eval recall@10: 0.0863\n",
      "\t eval precision@10: 0.0086\n",
      "\t eval ndcg@10: 0.0422\n",
      "\t eval map@10: 0.0290\n",
      "==============================\n"
     ]
    },
    {
     "name": "stderr",
     "output_type": "stream",
     "text": [
      "train: 100%|██████████| 304/304 [00:07<00:00, 42.80it/s]\n"
     ]
    },
    {
     "name": "stdout",
     "output_type": "stream",
     "text": [
      "Epoch 39 elapsed: 7.106s\n",
      "\t \u001b[32mtrain_loss: 0.3447\u001b[0m\n"
     ]
    },
    {
     "name": "stderr",
     "output_type": "stream",
     "text": [
      "eval_listwise: 100%|██████████| 2731/2731 [01:13<00:00, 36.99it/s]\n"
     ]
    },
    {
     "name": "stdout",
     "output_type": "stream",
     "text": [
      "\t eval recall@10: 0.0887\n",
      "\t eval precision@10: 0.0089\n",
      "\t eval ndcg@10: 0.0435\n",
      "\t eval map@10: 0.0301\n",
      "==============================\n"
     ]
    },
    {
     "name": "stderr",
     "output_type": "stream",
     "text": [
      "train: 100%|██████████| 304/304 [00:07<00:00, 39.64it/s]\n"
     ]
    },
    {
     "name": "stdout",
     "output_type": "stream",
     "text": [
      "Epoch 40 elapsed: 7.673s\n",
      "\t \u001b[32mtrain_loss: 0.3411\u001b[0m\n"
     ]
    },
    {
     "name": "stderr",
     "output_type": "stream",
     "text": [
      "eval_listwise: 100%|██████████| 2731/2731 [01:13<00:00, 37.27it/s]\n"
     ]
    },
    {
     "name": "stdout",
     "output_type": "stream",
     "text": [
      "\t eval recall@10: 0.0941\n",
      "\t eval precision@10: 0.0094\n",
      "\t eval ndcg@10: 0.0459\n",
      "\t eval map@10: 0.0316\n",
      "==============================\n"
     ]
    },
    {
     "name": "stderr",
     "output_type": "stream",
     "text": [
      "train: 100%|██████████| 304/304 [00:07<00:00, 43.20it/s]\n"
     ]
    },
    {
     "name": "stdout",
     "output_type": "stream",
     "text": [
      "Epoch 41 elapsed: 7.041s\n",
      "\t \u001b[32mtrain_loss: 0.3382\u001b[0m\n"
     ]
    },
    {
     "name": "stderr",
     "output_type": "stream",
     "text": [
      "eval_listwise: 100%|██████████| 2731/2731 [01:11<00:00, 38.23it/s]\n"
     ]
    },
    {
     "name": "stdout",
     "output_type": "stream",
     "text": [
      "\t eval recall@10: 0.0941\n",
      "\t eval precision@10: 0.0094\n",
      "\t eval ndcg@10: 0.0470\n",
      "\t eval map@10: 0.0329\n",
      "==============================\n"
     ]
    },
    {
     "name": "stderr",
     "output_type": "stream",
     "text": [
      "train: 100%|██████████| 304/304 [00:07<00:00, 43.22it/s]\n"
     ]
    },
    {
     "name": "stdout",
     "output_type": "stream",
     "text": [
      "Epoch 42 elapsed: 7.037s\n",
      "\t \u001b[32mtrain_loss: 0.3343\u001b[0m\n"
     ]
    },
    {
     "name": "stderr",
     "output_type": "stream",
     "text": [
      "eval_listwise: 100%|██████████| 2731/2731 [01:14<00:00, 36.50it/s]\n"
     ]
    },
    {
     "name": "stdout",
     "output_type": "stream",
     "text": [
      "\t eval recall@10: 0.0983\n",
      "\t eval precision@10: 0.0098\n",
      "\t eval ndcg@10: 0.0487\n",
      "\t eval map@10: 0.0339\n",
      "==============================\n"
     ]
    },
    {
     "name": "stderr",
     "output_type": "stream",
     "text": [
      "train: 100%|██████████| 304/304 [00:07<00:00, 41.63it/s]\n"
     ]
    },
    {
     "name": "stdout",
     "output_type": "stream",
     "text": [
      "Epoch 43 elapsed: 7.307s\n",
      "\t \u001b[32mtrain_loss: 0.3317\u001b[0m\n"
     ]
    },
    {
     "name": "stderr",
     "output_type": "stream",
     "text": [
      "eval_listwise: 100%|██████████| 2731/2731 [01:14<00:00, 36.86it/s]\n"
     ]
    },
    {
     "name": "stdout",
     "output_type": "stream",
     "text": [
      "\t eval recall@10: 0.1003\n",
      "\t eval precision@10: 0.0100\n",
      "\t eval ndcg@10: 0.0498\n",
      "\t eval map@10: 0.0348\n",
      "==============================\n"
     ]
    },
    {
     "name": "stderr",
     "output_type": "stream",
     "text": [
      "train: 100%|██████████| 304/304 [00:07<00:00, 43.00it/s]\n"
     ]
    },
    {
     "name": "stdout",
     "output_type": "stream",
     "text": [
      "Epoch 44 elapsed: 7.074s\n",
      "\t \u001b[32mtrain_loss: 0.3285\u001b[0m\n"
     ]
    },
    {
     "name": "stderr",
     "output_type": "stream",
     "text": [
      "eval_listwise: 100%|██████████| 2731/2731 [01:14<00:00, 36.68it/s]\n"
     ]
    },
    {
     "name": "stdout",
     "output_type": "stream",
     "text": [
      "\t eval recall@10: 0.1011\n",
      "\t eval precision@10: 0.0101\n",
      "\t eval ndcg@10: 0.0502\n",
      "\t eval map@10: 0.0351\n",
      "==============================\n"
     ]
    },
    {
     "name": "stderr",
     "output_type": "stream",
     "text": [
      "train: 100%|██████████| 304/304 [00:07<00:00, 41.93it/s]\n"
     ]
    },
    {
     "name": "stdout",
     "output_type": "stream",
     "text": [
      "Epoch 45 elapsed: 7.255s\n",
      "\t \u001b[32mtrain_loss: 0.3267\u001b[0m\n"
     ]
    },
    {
     "name": "stderr",
     "output_type": "stream",
     "text": [
      "eval_listwise: 100%|██████████| 2731/2731 [01:14<00:00, 36.56it/s]\n"
     ]
    },
    {
     "name": "stdout",
     "output_type": "stream",
     "text": [
      "\t eval recall@10: 0.1034\n",
      "\t eval precision@10: 0.0103\n",
      "\t eval ndcg@10: 0.0517\n",
      "\t eval map@10: 0.0364\n",
      "==============================\n"
     ]
    },
    {
     "name": "stderr",
     "output_type": "stream",
     "text": [
      "train: 100%|██████████| 304/304 [00:07<00:00, 42.65it/s]\n"
     ]
    },
    {
     "name": "stdout",
     "output_type": "stream",
     "text": [
      "Epoch 46 elapsed: 7.133s\n",
      "\t \u001b[32mtrain_loss: 0.3234\u001b[0m\n"
     ]
    },
    {
     "name": "stderr",
     "output_type": "stream",
     "text": [
      "eval_listwise: 100%|██████████| 2731/2731 [01:16<00:00, 35.89it/s]\n"
     ]
    },
    {
     "name": "stdout",
     "output_type": "stream",
     "text": [
      "\t eval recall@10: 0.1029\n",
      "\t eval precision@10: 0.0103\n",
      "\t eval ndcg@10: 0.0520\n",
      "\t eval map@10: 0.0368\n",
      "==============================\n"
     ]
    },
    {
     "name": "stderr",
     "output_type": "stream",
     "text": [
      "train: 100%|██████████| 304/304 [00:07<00:00, 42.66it/s]\n"
     ]
    },
    {
     "name": "stdout",
     "output_type": "stream",
     "text": [
      "Epoch 47 elapsed: 7.129s\n",
      "\t \u001b[32mtrain_loss: 0.3215\u001b[0m\n"
     ]
    },
    {
     "name": "stderr",
     "output_type": "stream",
     "text": [
      "eval_listwise: 100%|██████████| 2731/2731 [01:14<00:00, 36.53it/s]\n"
     ]
    },
    {
     "name": "stdout",
     "output_type": "stream",
     "text": [
      "\t eval recall@10: 0.1064\n",
      "\t eval precision@10: 0.0106\n",
      "\t eval ndcg@10: 0.0525\n",
      "\t eval map@10: 0.0366\n",
      "==============================\n"
     ]
    },
    {
     "name": "stderr",
     "output_type": "stream",
     "text": [
      "train: 100%|██████████| 304/304 [00:07<00:00, 43.12it/s]\n"
     ]
    },
    {
     "name": "stdout",
     "output_type": "stream",
     "text": [
      "Epoch 48 elapsed: 7.055s\n",
      "\t \u001b[32mtrain_loss: 0.3175\u001b[0m\n"
     ]
    },
    {
     "name": "stderr",
     "output_type": "stream",
     "text": [
      "eval_listwise: 100%|██████████| 2731/2731 [01:14<00:00, 36.89it/s]\n"
     ]
    },
    {
     "name": "stdout",
     "output_type": "stream",
     "text": [
      "\t eval recall@10: 0.1102\n",
      "\t eval precision@10: 0.0110\n",
      "\t eval ndcg@10: 0.0557\n",
      "\t eval map@10: 0.0394\n",
      "==============================\n"
     ]
    },
    {
     "name": "stderr",
     "output_type": "stream",
     "text": [
      "train: 100%|██████████| 304/304 [00:07<00:00, 42.35it/s]\n"
     ]
    },
    {
     "name": "stdout",
     "output_type": "stream",
     "text": [
      "Epoch 49 elapsed: 7.182s\n",
      "\t \u001b[32mtrain_loss: 0.3154\u001b[0m\n"
     ]
    },
    {
     "name": "stderr",
     "output_type": "stream",
     "text": [
      "eval_listwise: 100%|██████████| 2731/2731 [01:13<00:00, 37.35it/s]\n"
     ]
    },
    {
     "name": "stdout",
     "output_type": "stream",
     "text": [
      "\t eval recall@10: 0.1091\n",
      "\t eval precision@10: 0.0109\n",
      "\t eval ndcg@10: 0.0555\n",
      "\t eval map@10: 0.0396\n",
      "==============================\n"
     ]
    },
    {
     "name": "stderr",
     "output_type": "stream",
     "text": [
      "train: 100%|██████████| 304/304 [00:07<00:00, 43.01it/s]\n"
     ]
    },
    {
     "name": "stdout",
     "output_type": "stream",
     "text": [
      "Epoch 50 elapsed: 7.072s\n",
      "\t \u001b[32mtrain_loss: 0.314\u001b[0m\n"
     ]
    },
    {
     "name": "stderr",
     "output_type": "stream",
     "text": [
      "eval_listwise: 100%|██████████| 2731/2731 [01:12<00:00, 37.43it/s]\n"
     ]
    },
    {
     "name": "stdout",
     "output_type": "stream",
     "text": [
      "\t eval recall@10: 0.1134\n",
      "\t eval precision@10: 0.0113\n",
      "\t eval ndcg@10: 0.0565\n",
      "\t eval map@10: 0.0396\n",
      "==============================\n",
      "Thời gian thực hiện: 4002.244384 giây\n"
     ]
    }
   ],
   "source": [
    "model = DeepFM(\n",
    "        \"ranking\",\n",
    "        data_info,\n",
    "        embed_size=16,\n",
    "        n_epochs=50,\n",
    "        lr=1e-4,\n",
    "        lr_decay=False,\n",
    "        reg=None,\n",
    "        batch_size=2048,\n",
    "        num_neg=1,\n",
    "        use_bn=False,\n",
    "        dropout_rate=None,\n",
    "        hidden_units=(128, 64, 32),\n",
    "        tf_sess_config=None,\n",
    "        sampler=\"random\"\n",
    ")\n",
    "start_time = time.time()\n",
    "model.fit(\n",
    "    train_data,\n",
    "    neg_sampling=True,\n",
    "    verbose=2,\n",
    "    shuffle=True,\n",
    "    eval_data=test_data,\n",
    "    metrics=[\"recall\", \"precision\", \"ndcg\", \"map\"],\n",
    "    eval_batch_size=8192,\n",
    "    k=10,\n",
    "    eval_user_num=8192,\n",
    ")\n",
    "end_time = time.time()  # Kết thúc đo thời gian\n",
    "\n",
    "print(f\"Thời gian thực hiện: {end_time - start_time:.6f} giây\")"
   ]
  },
  {
   "cell_type": "code",
   "execution_count": 33,
   "id": "609ecdee",
   "metadata": {
    "execution": {
     "iopub.execute_input": "2025-07-13T08:25:52.197710Z",
     "iopub.status.busy": "2025-07-13T08:25:52.197263Z",
     "iopub.status.idle": "2025-07-13T08:25:52.204490Z",
     "shell.execute_reply": "2025-07-13T08:25:52.203437Z"
    },
    "papermill": {
     "duration": 2.144286,
     "end_time": "2025-07-13T08:25:52.206158",
     "exception": false,
     "start_time": "2025-07-13T08:25:50.061872",
     "status": "completed"
    },
    "tags": []
   },
   "outputs": [],
   "source": [
    "def recommend_courses(model, user_course , num_recommendations=5):\n",
    "    recommendations = {}\n",
    "\n",
    "    # Dự đoán cho tất cả người dùng trong test_user với thanh tiến trình\n",
    "    for user_id in tqdm(user_course['user'].unique(), desc=\"Khuyến nghị cho người dùng\", unit=\"user\"):\n",
    "        # Dự đoán cho tất cả các khóa học của người dùng (tắt chi tiết trong dự đoán)\n",
    "        recommended_courses = model.recommend_user(user=user_id,n_rec = num_recommendations)\n",
    "        recommended_courses = {key: value.tolist() if isinstance(value, np.ndarray) else value for key, value in recommended_courses.items()}\n",
    "        # Lấy top k khóa học dựa trên dự đoán\n",
    "        recommendations = recommendations | recommended_courses\n",
    "    return recommendations"
   ]
  },
  {
   "cell_type": "code",
   "execution_count": 34,
   "id": "6e6482e0",
   "metadata": {
    "execution": {
     "iopub.execute_input": "2025-07-13T08:25:56.288647Z",
     "iopub.status.busy": "2025-07-13T08:25:56.288234Z",
     "iopub.status.idle": "2025-07-13T08:25:56.297885Z",
     "shell.execute_reply": "2025-07-13T08:25:56.296559Z"
    },
    "papermill": {
     "duration": 2.083228,
     "end_time": "2025-07-13T08:25:56.299802",
     "exception": false,
     "start_time": "2025-07-13T08:25:54.216574",
     "status": "completed"
    },
    "tags": []
   },
   "outputs": [],
   "source": [
    "def recommend_courses_with_negative_sampling(model, \n",
    "                                             user_course_train_df, \n",
    "                                             user_course_test_df, \n",
    "                                             all_course_ids, \n",
    "                                             num_negatives=100):\n",
    "    \"\"\"\n",
    "    Trả về recommendations dạng {user_id: [item_ids]} gồm 1 positive + N negative, sắp xếp theo điểm dự đoán.\n",
    "    \n",
    "    Params:\n",
    "        model: object có hàm predict(user_id, item_id)\n",
    "        user_course_train_df: DataFrame với cột ['user_id', 'course_id']\n",
    "        user_course_test_df: DataFrame với cột ['user_id', 'course_id'], mỗi user chỉ 1 dòng\n",
    "        all_course_ids: list hoặc Series chứa toàn bộ course_id\n",
    "        num_negatives: số lượng mẫu âm\n",
    "    \n",
    "    Returns:\n",
    "        recommendations: dict {user_id: list[item_id]}, sắp xếp theo điểm dự đoán\n",
    "    \"\"\"\n",
    "    from tqdm import tqdm\n",
    "    import numpy as np\n",
    "\n",
    "    # Tiền xử lý: gom user -> list[course_id]\n",
    "    user_train_dict = user_course_train_df.groupby(\"user\")[\"item\"].apply(set).to_dict()\n",
    "    user_test_dict = user_course_test_df.set_index(\"user\")[\"item\"].to_dict()\n",
    "    \n",
    "    recommendations = {}\n",
    "    \n",
    "    for i, (user_id, true_item) in enumerate(tqdm(user_test_dict.items(), \n",
    "                                                   desc=\"Khuyến nghị với negative sampling\", unit=\"user\")):\n",
    "\n",
    "        train_items = user_train_dict.get(user_id, set())\n",
    "        excluded_items = train_items.union({true_item})\n",
    "\n",
    "        # Lấy negative items chưa tương tác\n",
    "        negative_candidates = [item for item in all_course_ids if item not in excluded_items]\n",
    "\n",
    "        if len(negative_candidates) < num_negatives:\n",
    "            continue  # Bỏ qua user nếu không đủ negative samples\n",
    "\n",
    "        negative_samples = np.random.choice(negative_candidates, num_negatives, replace=False).tolist()\n",
    "        candidate_items = [true_item] + negative_samples\n",
    "\n",
    "        # Dự đoán điểm\n",
    "        user_ids = [user_id] * len(candidate_items)\n",
    "        scores = model.predict(user_ids, candidate_items)\n",
    "        ranked_items = [item for _, item in sorted(zip(scores, candidate_items), reverse=True)]\n",
    "\n",
    "        recommendations[user_id] = ranked_items\n",
    "\n",
    "    return recommendations\n"
   ]
  },
  {
   "cell_type": "code",
   "execution_count": 35,
   "id": "20a5930a",
   "metadata": {
    "execution": {
     "iopub.execute_input": "2025-07-13T08:26:00.304590Z",
     "iopub.status.busy": "2025-07-13T08:26:00.304189Z",
     "iopub.status.idle": "2025-07-13T08:26:00.325196Z",
     "shell.execute_reply": "2025-07-13T08:26:00.324021Z"
    },
    "jupyter": {
     "source_hidden": true
    },
    "papermill": {
     "duration": 2.132052,
     "end_time": "2025-07-13T08:26:00.326972",
     "exception": false,
     "start_time": "2025-07-13T08:25:58.194920",
     "status": "completed"
    },
    "tags": []
   },
   "outputs": [],
   "source": [
    "import numpy as np\n",
    "\n",
    "# Precision@5\n",
    "def precision_at_k(y_true, recommendations, k=5):\n",
    "    precision_scores = []\n",
    "    for user, recommended_courses in recommendations.items():\n",
    "        true_courses = y_true.get(user, [])\n",
    "        if not true_courses:\n",
    "            continue\n",
    "        top_k_pred = recommended_courses[:k]\n",
    "        relevant = sum(1 for course in top_k_pred if course in true_courses)\n",
    "        precision_scores.append(relevant / k)\n",
    "    return np.mean(precision_scores) if precision_scores else 0.0\n",
    "\n",
    "# Recall@5\n",
    "def recall_at_k(y_true, recommendations, k=5):\n",
    "    recall_scores = []\n",
    "    for user, recommended_courses in recommendations.items():\n",
    "        true_courses = y_true.get(user, [])\n",
    "        if not true_courses:\n",
    "            continue\n",
    "        top_k_pred = recommended_courses[:k]\n",
    "        relevant = sum(1 for course in top_k_pred if course in true_courses)\n",
    "        recall_scores.append(relevant / len(true_courses))\n",
    "    return np.mean(recall_scores) if recall_scores else 0.0\n",
    "\n",
    "# Hit Rate@5\n",
    "def hit_rate_at_k(y_true, recommendations, k=5):\n",
    "    hit_rate_scores = []\n",
    "    for user, recommended_courses in recommendations.items():\n",
    "        true_courses = y_true.get(user, [])\n",
    "        if not true_courses:\n",
    "            continue\n",
    "        top_k_pred = recommended_courses[:k]\n",
    "        relevant = any(course in true_courses for course in top_k_pred)\n",
    "        hit_rate_scores.append(int(relevant))\n",
    "    return np.mean(hit_rate_scores) if hit_rate_scores else 0.0\n",
    "\n",
    "# NDCG@5\n",
    "def ndcg_at_k(y_true, recommendations, k=5):\n",
    "    dcg_scores = []\n",
    "    for user, recommended_courses in recommendations.items():\n",
    "        true_courses = y_true.get(user, [])\n",
    "        if not true_courses:\n",
    "            continue\n",
    "        top_k_pred = recommended_courses[:k]\n",
    "        dcg_score = sum(1 / np.log2(i + 2) for i, course in enumerate(top_k_pred) if course in true_courses)\n",
    "        idcg_score = sum(1 / np.log2(i + 2) for i in range(min(k, len(true_courses))))\n",
    "        dcg_scores.append(dcg_score / idcg_score if idcg_score > 0 else 0.0)\n",
    "    return np.mean(dcg_scores) if dcg_scores else 0.0\n",
    "\n",
    "# MAP@5\n",
    "def map_at_k(y_true, recommendations, k=5):\n",
    "    ap_scores = []\n",
    "    for user, recommended_courses in recommendations.items():\n",
    "        true_courses = y_true.get(user, [])\n",
    "        if not true_courses:\n",
    "            continue\n",
    "        top_k_pred = recommended_courses[:k]\n",
    "        relevant = [1 if course in true_courses else 0 for course in top_k_pred]\n",
    "        if sum(relevant) == 0:\n",
    "            ap_scores.append(0.0)\n",
    "            continue\n",
    "        precision_at_i = []\n",
    "        for i in range(min(k, len(top_k_pred))):\n",
    "            if relevant[i]:\n",
    "                precision_at_i.append(sum(relevant[:i+1]) / (i+1))\n",
    "        ap = sum(precision_at_i) / min(len(true_courses), k)\n",
    "        ap_scores.append(ap)\n",
    "    return np.mean(ap_scores) if ap_scores else 0.0\n",
    "\n",
    "# F1 Score@5\n",
    "def f1_at_k(y_true, recommendations, k=5):\n",
    "    f1_scores = []\n",
    "    for user, recommended_courses in recommendations.items():\n",
    "        true_courses = y_true.get(user, [])\n",
    "        if not true_courses:\n",
    "            continue\n",
    "        top_k_pred = recommended_courses[:k]\n",
    "        relevant = sum(1 for course in top_k_pred if course in true_courses)\n",
    "        precision = relevant / k\n",
    "        recall = relevant / len(true_courses)\n",
    "        if precision + recall > 0:\n",
    "            f1 = 2 * (precision * recall) / (precision + recall)\n",
    "        else:\n",
    "            f1 = 0.0\n",
    "        f1_scores.append(f1)\n",
    "    return np.mean(f1_scores) if f1_scores else 0.0\n",
    "\n",
    "# Hàm đánh giá mô hình\n",
    "def evaluate_model(y_true, recommendations, k=5):\n",
    "    \"\"\"\n",
    "    Đánh giá mô hình với Precision@5, Recall@5, Hit Rate@5, NDCG@5, MAP@5, F1 Score@5.\n",
    "\n",
    "    Parameters:\n",
    "    y_true: DataFrame hoặc dict chứa các khóa học thực tế trong tập TEST.\n",
    "    recommendations: dict chứa các khóa học khuyến nghị.\n",
    "    k: Số khóa học top cần xét (default là 5).\n",
    "\n",
    "    Returns:\n",
    "    dict: Các độ đo Precision@5, Recall@5, Hit Rate@5, NDCG@5, MAP@5, F1 Score@5.\n",
    "    \"\"\"\n",
    "    # Chuyển y_true thành dict\n",
    "    if hasattr(y_true, 'set_index'):\n",
    "        y_true_dict = {}\n",
    "        for user, item in y_true.set_index('user')['item'].items():\n",
    "            y_true_dict[user] = [item] if not isinstance(item, (list, set)) else list(item)\n",
    "        y_true = y_true_dict\n",
    "    else:\n",
    "        y_true = {k: [v] if not isinstance(v, (list, set)) else list(v) for k, v in y_true.items()}\n",
    "\n",
    "    precision = precision_at_k(y_true, recommendations, k)\n",
    "    recall = recall_at_k(y_true, recommendations, k)\n",
    "    hit_rate = hit_rate_at_k(y_true, recommendations, k)\n",
    "    ndcg = ndcg_at_k(y_true, recommendations, k)\n",
    "    map_k = map_at_k(y_true, recommendations, k)\n",
    "    f1 = f1_at_k(y_true, recommendations, k)\n",
    "\n",
    "    return {\n",
    "        f\"Baseline\": f\"V{i+1}-DeepFM@{k}\",\n",
    "        f\"Precision\": round(precision,4),\n",
    "        f\"Recall\": round(recall,4),\n",
    "        f\"HitRate\": round(hit_rate,4),\n",
    "        f\"NDCG\": round(ndcg,4),\n",
    "        f\"MAP\": round(map_k,4),\n",
    "        f\"F1-score\": round(f1,4)\n",
    "    }"
   ]
  },
  {
   "cell_type": "code",
   "execution_count": 36,
   "id": "592d3047",
   "metadata": {
    "execution": {
     "iopub.execute_input": "2025-07-13T08:26:04.347835Z",
     "iopub.status.busy": "2025-07-13T08:26:04.347424Z",
     "iopub.status.idle": "2025-07-13T08:30:45.570149Z",
     "shell.execute_reply": "2025-07-13T08:30:45.568916Z"
    },
    "papermill": {
     "duration": 283.248977,
     "end_time": "2025-07-13T08:30:45.572811",
     "exception": false,
     "start_time": "2025-07-13T08:26:02.323834",
     "status": "completed"
    },
    "tags": []
   },
   "outputs": [
    {
     "name": "stderr",
     "output_type": "stream",
     "text": [
      "Khuyến nghị cho người dùng: 100%|██████████| 23905/23905 [04:41<00:00, 85.01user/s]"
     ]
    },
    {
     "name": "stdout",
     "output_type": "stream",
     "text": [
      "Thời gian thực hiện: 281.216616 giây\n"
     ]
    },
    {
     "name": "stderr",
     "output_type": "stream",
     "text": [
      "\n"
     ]
    }
   ],
   "source": [
    "\n",
    "start_time = time.time()\n",
    "results1 = recommend_courses(model,test,10)\n",
    "end_time = time.time()  # Kết thúc đo thời gian\n",
    "\n",
    "print(f\"Thời gian thực hiện: {end_time - start_time:.6f} giây\")\n"
   ]
  },
  {
   "cell_type": "code",
   "execution_count": 37,
   "id": "6fa4d77f",
   "metadata": {
    "execution": {
     "iopub.execute_input": "2025-07-13T08:30:49.943565Z",
     "iopub.status.busy": "2025-07-13T08:30:49.943211Z",
     "iopub.status.idle": "2025-07-13T08:30:49.989205Z",
     "shell.execute_reply": "2025-07-13T08:30:49.987962Z"
    },
    "papermill": {
     "duration": 2.213503,
     "end_time": "2025-07-13T08:30:49.991131",
     "exception": false,
     "start_time": "2025-07-13T08:30:47.777628",
     "status": "completed"
    },
    "tags": []
   },
   "outputs": [
    {
     "data": {
      "text/html": [
       "<div>\n",
       "<style scoped>\n",
       "    .dataframe tbody tr th:only-of-type {\n",
       "        vertical-align: middle;\n",
       "    }\n",
       "\n",
       "    .dataframe tbody tr th {\n",
       "        vertical-align: top;\n",
       "    }\n",
       "\n",
       "    .dataframe thead th {\n",
       "        text-align: right;\n",
       "    }\n",
       "</style>\n",
       "<table border=\"1\" class=\"dataframe\">\n",
       "  <thead>\n",
       "    <tr style=\"text-align: right;\">\n",
       "      <th></th>\n",
       "      <th>user</th>\n",
       "      <th>item</th>\n",
       "    </tr>\n",
       "  </thead>\n",
       "  <tbody>\n",
       "    <tr>\n",
       "      <th>0</th>\n",
       "      <td>U_100090</td>\n",
       "      <td>C_707022</td>\n",
       "    </tr>\n",
       "    <tr>\n",
       "      <th>1</th>\n",
       "      <td>U_100090</td>\n",
       "      <td>C_676687</td>\n",
       "    </tr>\n",
       "    <tr>\n",
       "      <th>2</th>\n",
       "      <td>U_100090</td>\n",
       "      <td>C_697073</td>\n",
       "    </tr>\n",
       "    <tr>\n",
       "      <th>3</th>\n",
       "      <td>U_100090</td>\n",
       "      <td>C_948038</td>\n",
       "    </tr>\n",
       "    <tr>\n",
       "      <th>4</th>\n",
       "      <td>U_100090</td>\n",
       "      <td>C_680716</td>\n",
       "    </tr>\n",
       "    <tr>\n",
       "      <th>...</th>\n",
       "      <td>...</td>\n",
       "      <td>...</td>\n",
       "    </tr>\n",
       "    <tr>\n",
       "      <th>310794</th>\n",
       "      <td>U_997506</td>\n",
       "      <td>C_735239</td>\n",
       "    </tr>\n",
       "    <tr>\n",
       "      <th>310795</th>\n",
       "      <td>U_997506</td>\n",
       "      <td>C_2095102</td>\n",
       "    </tr>\n",
       "    <tr>\n",
       "      <th>310796</th>\n",
       "      <td>U_997506</td>\n",
       "      <td>C_682379</td>\n",
       "    </tr>\n",
       "    <tr>\n",
       "      <th>310797</th>\n",
       "      <td>U_997506</td>\n",
       "      <td>C_696554</td>\n",
       "    </tr>\n",
       "    <tr>\n",
       "      <th>310798</th>\n",
       "      <td>U_997506</td>\n",
       "      <td>C_696673</td>\n",
       "    </tr>\n",
       "  </tbody>\n",
       "</table>\n",
       "<p>310799 rows × 2 columns</p>\n",
       "</div>"
      ],
      "text/plain": [
       "            user       item\n",
       "0       U_100090   C_707022\n",
       "1       U_100090   C_676687\n",
       "2       U_100090   C_697073\n",
       "3       U_100090   C_948038\n",
       "4       U_100090   C_680716\n",
       "...          ...        ...\n",
       "310794  U_997506   C_735239\n",
       "310795  U_997506  C_2095102\n",
       "310796  U_997506   C_682379\n",
       "310797  U_997506   C_696554\n",
       "310798  U_997506   C_696673\n",
       "\n",
       "[310799 rows x 2 columns]"
      ]
     },
     "execution_count": 37,
     "metadata": {},
     "output_type": "execute_result"
    }
   ],
   "source": [
    "train[['user','item']]"
   ]
  },
  {
   "cell_type": "code",
   "execution_count": 38,
   "id": "c4c249b8",
   "metadata": {
    "execution": {
     "iopub.execute_input": "2025-07-13T08:30:54.327600Z",
     "iopub.status.busy": "2025-07-13T08:30:54.327249Z",
     "iopub.status.idle": "2025-07-13T08:30:54.521146Z",
     "shell.execute_reply": "2025-07-13T08:30:54.520171Z"
    },
    "papermill": {
     "duration": 2.372377,
     "end_time": "2025-07-13T08:30:54.523169",
     "exception": false,
     "start_time": "2025-07-13T08:30:52.150792",
     "status": "completed"
    },
    "tags": []
   },
   "outputs": [],
   "source": [
    "user_course_train=train[['user','item']]\n",
    "# \n",
    "user_course_test = test[['user','item']]\n",
    "all_course_ids = pd.concat([train,test],axis=0)['item'].drop_duplicates()"
   ]
  },
  {
   "cell_type": "code",
   "execution_count": 39,
   "id": "c70ce23f",
   "metadata": {
    "execution": {
     "iopub.execute_input": "2025-07-13T08:30:58.899313Z",
     "iopub.status.busy": "2025-07-13T08:30:58.898912Z",
     "iopub.status.idle": "2025-07-13T08:32:26.117060Z",
     "shell.execute_reply": "2025-07-13T08:32:26.115828Z"
    },
    "papermill": {
     "duration": 89.395336,
     "end_time": "2025-07-13T08:32:26.119030",
     "exception": false,
     "start_time": "2025-07-13T08:30:56.723694",
     "status": "completed"
    },
    "tags": []
   },
   "outputs": [
    {
     "name": "stderr",
     "output_type": "stream",
     "text": [
      "Khuyến nghị với negative sampling: 100%|██████████| 23905/23905 [01:26<00:00, 276.69user/s]"
     ]
    },
    {
     "name": "stdout",
     "output_type": "stream",
     "text": [
      "Thời gian thực hiện: 87.212190 giây\n"
     ]
    },
    {
     "name": "stderr",
     "output_type": "stream",
     "text": [
      "\n"
     ]
    }
   ],
   "source": [
    "start_time = time.time()\n",
    "results2 = recommend_courses_with_negative_sampling(model, user_course_train, user_course_test, all_course_ids, num_negatives=100)\n",
    "end_time = time.time()  # Kết thúc đo thời gian\n",
    "\n",
    "print(f\"Thời gian thực hiện: {end_time - start_time:.6f} giây\")\n",
    "# print(results)"
   ]
  },
  {
   "cell_type": "code",
   "execution_count": 40,
   "id": "11960193",
   "metadata": {
    "execution": {
     "iopub.execute_input": "2025-07-13T08:32:30.596891Z",
     "iopub.status.busy": "2025-07-13T08:32:30.596486Z",
     "iopub.status.idle": "2025-07-13T08:32:31.490206Z",
     "shell.execute_reply": "2025-07-13T08:32:31.489035Z"
    },
    "papermill": {
     "duration": 3.138303,
     "end_time": "2025-07-13T08:32:31.492241",
     "exception": false,
     "start_time": "2025-07-13T08:32:28.353938",
     "status": "completed"
    },
    "tags": []
   },
   "outputs": [],
   "source": [
    "eval_5 = evaluate_model(test[[\"user\",\"item\"]], results1,5)\n",
    "eval_10 = evaluate_model(test[[\"user\",\"item\"]], results1,10)"
   ]
  },
  {
   "cell_type": "code",
   "execution_count": 41,
   "id": "fc929a17",
   "metadata": {
    "execution": {
     "iopub.execute_input": "2025-07-13T08:32:35.943787Z",
     "iopub.status.busy": "2025-07-13T08:32:35.943233Z",
     "iopub.status.idle": "2025-07-13T08:32:35.950878Z",
     "shell.execute_reply": "2025-07-13T08:32:35.949783Z"
    },
    "papermill": {
     "duration": 2.251708,
     "end_time": "2025-07-13T08:32:35.952715",
     "exception": false,
     "start_time": "2025-07-13T08:32:33.701007",
     "status": "completed"
    },
    "tags": []
   },
   "outputs": [
    {
     "data": {
      "text/plain": [
       "{'Baseline': ['V2-DeepFM@5', 'V2-DeepFM@10'],\n",
       " 'Precision': [0.0126, 0.0112],\n",
       " 'Recall': [0.0631, 0.1116],\n",
       " 'HitRate': [0.0631, 0.1116],\n",
       " 'NDCG': [0.0407, 0.0562],\n",
       " 'MAP': [0.0333, 0.0397],\n",
       " 'F1-score': [0.021, 0.0203]}"
      ]
     },
     "execution_count": 41,
     "metadata": {},
     "output_type": "execute_result"
    }
   ],
   "source": [
    "{k: [eval_5[k], eval_10[k]] for k in eval_5}"
   ]
  },
  {
   "cell_type": "code",
   "execution_count": 42,
   "id": "e5f03af3",
   "metadata": {
    "execution": {
     "iopub.execute_input": "2025-07-13T08:32:40.491367Z",
     "iopub.status.busy": "2025-07-13T08:32:40.491033Z",
     "iopub.status.idle": "2025-07-13T08:32:41.535222Z",
     "shell.execute_reply": "2025-07-13T08:32:41.534139Z"
    },
    "papermill": {
     "duration": 3.274855,
     "end_time": "2025-07-13T08:32:41.537153",
     "exception": false,
     "start_time": "2025-07-13T08:32:38.262298",
     "status": "completed"
    },
    "tags": []
   },
   "outputs": [
    {
     "data": {
      "text/plain": [
       "{'Baseline': ['V2-DeepFM@5', 'V2-DeepFM@10'],\n",
       " 'Precision': [0.0923, 0.0611],\n",
       " 'Recall': [0.4617, 0.6106],\n",
       " 'HitRate': [0.4617, 0.6106],\n",
       " 'NDCG': [0.3248, 0.3731],\n",
       " 'MAP': [0.2797, 0.2996],\n",
       " 'F1-score': [0.1539, 0.111]}"
      ]
     },
     "execution_count": 42,
     "metadata": {},
     "output_type": "execute_result"
    }
   ],
   "source": [
    "eval_5 = evaluate_model(test[[\"user\",\"item\"]], results2,5)\n",
    "eval_10 = evaluate_model(test[[\"user\",\"item\"]], results2,10)\n",
    "{k: [eval_5[k], eval_10[k]] for k in eval_5}"
   ]
  }
 ],
 "metadata": {
  "kaggle": {
   "accelerator": "none",
   "dataSources": [
    {
     "datasetId": 7259858,
     "sourceId": 11578790,
     "sourceType": "datasetVersion"
    },
    {
     "sourceId": 226720178,
     "sourceType": "kernelVersion"
    },
    {
     "sourceId": 240478674,
     "sourceType": "kernelVersion"
    },
    {
     "sourceId": 244142845,
     "sourceType": "kernelVersion"
    },
    {
     "sourceId": 244308495,
     "sourceType": "kernelVersion"
    },
    {
     "sourceId": 244327544,
     "sourceType": "kernelVersion"
    },
    {
     "sourceId": 244350711,
     "sourceType": "kernelVersion"
    },
    {
     "sourceId": 244484368,
     "sourceType": "kernelVersion"
    },
    {
     "sourceId": 244671932,
     "sourceType": "kernelVersion"
    },
    {
     "sourceId": 245444354,
     "sourceType": "kernelVersion"
    }
   ],
   "dockerImageVersionId": 30918,
   "isGpuEnabled": false,
   "isInternetEnabled": true,
   "language": "python",
   "sourceType": "notebook"
  },
  "kernelspec": {
   "display_name": "Python 3",
   "language": "python",
   "name": "python3"
  },
  "language_info": {
   "codemirror_mode": {
    "name": "ipython",
    "version": 3
   },
   "file_extension": ".py",
   "mimetype": "text/x-python",
   "name": "python",
   "nbconvert_exporter": "python",
   "pygments_lexer": "ipython3",
   "version": "3.10.12"
  },
  "papermill": {
   "default_parameters": {},
   "duration": 4737.671353,
   "end_time": "2025-07-13T08:32:47.068559",
   "environment_variables": {},
   "exception": null,
   "input_path": "__notebook__.ipynb",
   "output_path": "__notebook__.ipynb",
   "parameters": {},
   "start_time": "2025-07-13T07:13:49.397206",
   "version": "2.6.0"
  }
 },
 "nbformat": 4,
 "nbformat_minor": 5
}
