{
 "cells": [
  {
   "cell_type": "code",
   "execution_count": 1,
   "id": "34d870dc",
   "metadata": {
    "_cell_guid": "b1076dfc-b9ad-4769-8c92-a6c4dae69d19",
    "_uuid": "8f2839f25d086af736a60e9eeb907d3b93b6e0e5",
    "execution": {
     "iopub.execute_input": "2025-07-13T04:55:17.654535Z",
     "iopub.status.busy": "2025-07-13T04:55:17.654064Z",
     "iopub.status.idle": "2025-07-13T04:55:18.715409Z",
     "shell.execute_reply": "2025-07-13T04:55:18.714365Z"
    },
    "papermill": {
     "duration": 1.073819,
     "end_time": "2025-07-13T04:55:18.717224",
     "exception": false,
     "start_time": "2025-07-13T04:55:17.643405",
     "status": "completed"
    },
    "tags": []
   },
   "outputs": [
    {
     "name": "stdout",
     "output_type": "stream",
     "text": [
      "/kaggle/input/dataver5/__results__.html\n",
      "/kaggle/input/dataver5/__huggingface_repos__.json\n",
      "/kaggle/input/dataver5/__notebook__.ipynb\n",
      "/kaggle/input/dataver5/data_ver5.h5\n",
      "/kaggle/input/dataver5/__output__.json\n",
      "/kaggle/input/dataver5/custom.css\n",
      "/kaggle/input/dataver2-train-test/__results__.html\n",
      "/kaggle/input/dataver2-train-test/data_ver2.h5\n",
      "/kaggle/input/dataver2-train-test/__notebook__.ipynb\n",
      "/kaggle/input/dataver2-train-test/__output__.json\n",
      "/kaggle/input/dataver2-train-test/custom.css\n",
      "/kaggle/input/preprocessing-user-json/user.csv\n",
      "/kaggle/input/preprocessing-user-json/__results__.html\n",
      "/kaggle/input/preprocessing-user-json/user-5-100.csv\n",
      "/kaggle/input/preprocessing-user-json/__notebook__.ipynb\n",
      "/kaggle/input/preprocessing-user-json/__output__.json\n",
      "/kaggle/input/preprocessing-user-json/user-course.csv\n",
      "/kaggle/input/preprocessing-user-json/custom.css\n",
      "/kaggle/input/combine-dataset/__results__.html\n",
      "/kaggle/input/combine-dataset/combine_data.h5\n",
      "/kaggle/input/combine-dataset/__notebook__.ipynb\n",
      "/kaggle/input/combine-dataset/__output__.json\n",
      "/kaggle/input/combine-dataset/custom.css\n",
      "/kaggle/input/preprocessing-course-json/course.json\n",
      "/kaggle/input/preprocessing-course-json/__results__.html\n",
      "/kaggle/input/preprocessing-course-json/__notebook__.ipynb\n",
      "/kaggle/input/preprocessing-course-json/__output__.json\n",
      "/kaggle/input/preprocessing-course-json/custom.css\n",
      "/kaggle/input/dataver4/__results__.html\n",
      "/kaggle/input/dataver4/__huggingface_repos__.json\n",
      "/kaggle/input/dataver4/dataver4.h5\n",
      "/kaggle/input/dataver4/__notebook__.ipynb\n",
      "/kaggle/input/dataver4/__output__.json\n",
      "/kaggle/input/dataver4/custom.css\n",
      "/kaggle/input/dataset-version-3/dataver3.h5\n",
      "/kaggle/input/random-user/sample_user.csv\n",
      "/kaggle/input/random-user/__results__.html\n",
      "/kaggle/input/random-user/__notebook__.ipynb\n",
      "/kaggle/input/random-user/__output__.json\n",
      "/kaggle/input/random-user/custom.css\n",
      "/kaggle/input/dataver2/__results__.html\n",
      "/kaggle/input/dataver2/data_ver2.h5\n",
      "/kaggle/input/dataver2/__notebook__.ipynb\n",
      "/kaggle/input/dataver2/__output__.json\n",
      "/kaggle/input/dataver2/custom.css\n",
      "/kaggle/input/dataver3/dataver3.h5\n",
      "/kaggle/input/dataver3/__results__.html\n",
      "/kaggle/input/dataver3/__notebook__.ipynb\n",
      "/kaggle/input/dataver3/__output__.json\n",
      "/kaggle/input/dataver3/custom.css\n"
     ]
    }
   ],
   "source": [
    "# This Python 3 environment comes with many helpful analytics libraries installed\n",
    "# It is defined by the kaggle/python Docker image: https://github.com/kaggle/docker-python\n",
    "# For example, here's several helpful packages to load\n",
    "\n",
    "import numpy as np # linear algebra\n",
    "import pandas as pd # data processing, CSV file I/O (e.g. pd.read_csv)\n",
    "import time\n",
    "from tqdm import tqdm\n",
    "# Input data files are available in the read-only \"../input/\" directory\n",
    "# For example, running this (by clicking run or pressing Shift+Enter) will list all files under the input directory\n",
    "\n",
    "import os\n",
    "for dirname, _, filenames in os.walk('/kaggle/input'):\n",
    "    for filename in filenames:\n",
    "        print(os.path.join(dirname, filename))\n",
    "\n",
    "# You can write up to 20GB to the current directory (/kaggle/working/) that gets preserved as output when you create a version using \"Save & Run All\" \n",
    "# You can also write temporary files to /kaggle/temp/, but they won't be saved outside of the current session"
   ]
  },
  {
   "cell_type": "code",
   "execution_count": 2,
   "id": "52846fb4",
   "metadata": {
    "execution": {
     "iopub.execute_input": "2025-07-13T04:55:18.736849Z",
     "iopub.status.busy": "2025-07-13T04:55:18.736347Z",
     "iopub.status.idle": "2025-07-13T04:55:18.740500Z",
     "shell.execute_reply": "2025-07-13T04:55:18.739500Z"
    },
    "papermill": {
     "duration": 0.015668,
     "end_time": "2025-07-13T04:55:18.742100",
     "exception": false,
     "start_time": "2025-07-13T04:55:18.726432",
     "status": "completed"
    },
    "tags": []
   },
   "outputs": [],
   "source": [
    "i=3\n",
    "path=[\n",
    "    \"/kaggle/input/combine-dataset/combine_data.h5\",\n",
    "    \"/kaggle/input/dataver2-train-test/data_ver2.h5\",\n",
    "    \"/kaggle/input/dataver3/dataver3.h5\",\n",
    "    \"/kaggle/input/dataver4/dataver4.h5\",\n",
    "    \"/kaggle/input/dataver5/data_ver5.h5\"\n",
    "     ]"
   ]
  },
  {
   "cell_type": "code",
   "execution_count": 3,
   "id": "e402eb2f",
   "metadata": {
    "execution": {
     "iopub.execute_input": "2025-07-13T04:55:18.760762Z",
     "iopub.status.busy": "2025-07-13T04:55:18.760333Z",
     "iopub.status.idle": "2025-07-13T04:57:02.984841Z",
     "shell.execute_reply": "2025-07-13T04:57:02.982950Z"
    },
    "papermill": {
     "duration": 104.238154,
     "end_time": "2025-07-13T04:57:02.989171",
     "exception": false,
     "start_time": "2025-07-13T04:55:18.751017",
     "status": "completed"
    },
    "tags": []
   },
   "outputs": [],
   "source": [
    "%%capture\n",
    "! pip install tensorflow==2.12.0\n",
    "! pip install -U LibRecommender"
   ]
  },
  {
   "cell_type": "code",
   "execution_count": 4,
   "id": "c293ed8f",
   "metadata": {
    "execution": {
     "iopub.execute_input": "2025-07-13T04:57:03.012155Z",
     "iopub.status.busy": "2025-07-13T04:57:03.011715Z",
     "iopub.status.idle": "2025-07-13T04:58:07.385510Z",
     "shell.execute_reply": "2025-07-13T04:58:07.384340Z"
    },
    "papermill": {
     "duration": 64.386397,
     "end_time": "2025-07-13T04:58:07.387508",
     "exception": false,
     "start_time": "2025-07-13T04:57:03.001111",
     "status": "completed"
    },
    "tags": []
   },
   "outputs": [],
   "source": [
    "import numpy as np\n",
    "import pandas as pd\n",
    "from libreco.data import split_by_num_chrono, DatasetFeat\n",
    "from libreco.algorithms import DeepFM \n",
    "\n",
    "item_data = pd.read_json(\"/kaggle/input/preprocessing-course-json/course.json\", lines=True)\n",
    "user_item_data = pd.read_csv(\"/kaggle/input/preprocessing-user-json/user-course.csv\")\n",
    "user_data = pd.read_csv(\"/kaggle/input/preprocessing-user-json/user-5-100.csv\")"
   ]
  },
  {
   "cell_type": "code",
   "execution_count": 5,
   "id": "256b9d02",
   "metadata": {
    "execution": {
     "iopub.execute_input": "2025-07-13T04:58:07.406199Z",
     "iopub.status.busy": "2025-07-13T04:58:07.405767Z",
     "iopub.status.idle": "2025-07-13T04:59:10.458496Z",
     "shell.execute_reply": "2025-07-13T04:59:10.457497Z"
    },
    "papermill": {
     "duration": 63.07449,
     "end_time": "2025-07-13T04:59:10.470934",
     "exception": false,
     "start_time": "2025-07-13T04:58:07.396444",
     "status": "completed"
    },
    "tags": []
   },
   "outputs": [
    {
     "data": {
      "text/html": [
       "<div>\n",
       "<style scoped>\n",
       "    .dataframe tbody tr th:only-of-type {\n",
       "        vertical-align: middle;\n",
       "    }\n",
       "\n",
       "    .dataframe tbody tr th {\n",
       "        vertical-align: top;\n",
       "    }\n",
       "\n",
       "    .dataframe thead th {\n",
       "        text-align: right;\n",
       "    }\n",
       "</style>\n",
       "<table border=\"1\" class=\"dataframe\">\n",
       "  <thead>\n",
       "    <tr style=\"text-align: right;\">\n",
       "      <th></th>\n",
       "      <th>user_id</th>\n",
       "      <th>course_id</th>\n",
       "      <th>course_name</th>\n",
       "      <th>course_prerequisites</th>\n",
       "      <th>course_about</th>\n",
       "      <th>video_id</th>\n",
       "      <th>video_ccid</th>\n",
       "      <th>video_duration</th>\n",
       "      <th>exercise_id</th>\n",
       "      <th>exercise_num_problem</th>\n",
       "      <th>...</th>\n",
       "      <th>teacher_org_name</th>\n",
       "      <th>enroll_time</th>\n",
       "      <th>user_gender</th>\n",
       "      <th>watch_id</th>\n",
       "      <th>total_watch_time</th>\n",
       "      <th>actual_watch_time</th>\n",
       "      <th>doing_exercise_id</th>\n",
       "      <th>doing_num_correct</th>\n",
       "      <th>user_course_num_comment</th>\n",
       "      <th>user_course_num_replies</th>\n",
       "    </tr>\n",
       "  </thead>\n",
       "  <tbody>\n",
       "    <tr>\n",
       "      <th>0</th>\n",
       "      <td>U_24</td>\n",
       "      <td>C_597314</td>\n",
       "      <td>university chinese—analysis of northern song d...</td>\n",
       "      <td></td>\n",
       "      <td>at present, the talent gap in data science and...</td>\n",
       "      <td>[V_10741, V_10729, V_10669, V_10636, V_10583, ...</td>\n",
       "      <td>[059F9E3D0C61EC3A9C33DC5901307461, 05BA5BEC636...</td>\n",
       "      <td>[678.88, 1861.28, 280.63, 1488.369, 1192.15, 6...</td>\n",
       "      <td>[Ex_10607, Ex_10647, Ex_10628, Ex_10711, Ex_10...</td>\n",
       "      <td>[1, 6, 4, 2, 4, 3, 2, 6, 3, 4, 5, 6, 4, 2, 2, ...</td>\n",
       "      <td>...</td>\n",
       "      <td>[tsinghua university]</td>\n",
       "      <td>1560360127</td>\n",
       "      <td>1</td>\n",
       "      <td>NaN</td>\n",
       "      <td>NaN</td>\n",
       "      <td>NaN</td>\n",
       "      <td>NaN</td>\n",
       "      <td>NaN</td>\n",
       "      <td>0</td>\n",
       "      <td>0</td>\n",
       "    </tr>\n",
       "    <tr>\n",
       "      <th>1</th>\n",
       "      <td>U_24</td>\n",
       "      <td>C_597208</td>\n",
       "      <td>data mining: theory and algorithm</td>\n",
       "      <td></td>\n",
       "      <td>the most interesting theory + the most useful ...</td>\n",
       "      <td>[V_3025, V_2985, V_2964, V_3074, V_3082, V_306...</td>\n",
       "      <td>[03D205A6AEB0B16F9C33DC5901307461, 03F5AF209FA...</td>\n",
       "      <td>[1003.9, 773.66, 886.35, 505.57, 889.61, 930.6...</td>\n",
       "      <td>[Ex_2994, Ex_3099, Ex_3066, Ex_3021, Ex_3006, ...</td>\n",
       "      <td>[5, 3, 5, 3, 5, 6, 3, 3, 5, 5, 4, 5, 5, 2, 5, ...</td>\n",
       "      <td>...</td>\n",
       "      <td>[tsinghua university]</td>\n",
       "      <td>1560784961</td>\n",
       "      <td>1</td>\n",
       "      <td>NaN</td>\n",
       "      <td>NaN</td>\n",
       "      <td>NaN</td>\n",
       "      <td>NaN</td>\n",
       "      <td>NaN</td>\n",
       "      <td>0</td>\n",
       "      <td>0</td>\n",
       "    </tr>\n",
       "    <tr>\n",
       "      <th>2</th>\n",
       "      <td>U_24</td>\n",
       "      <td>C_682129</td>\n",
       "      <td>software theory basics</td>\n",
       "      <td></td>\n",
       "      <td>this course introduces formal language, automa...</td>\n",
       "      <td>[V_265396, V_265411, V_265404, V_265442, V_265...</td>\n",
       "      <td>[00784179599D8C659C33DC5901307461, 036F26D5314...</td>\n",
       "      <td>[1236.79, 1212.67, 1584.55, 1574.35, 376.79, 5...</td>\n",
       "      <td>[Ex_265490, Ex_265468, Ex_265398, Ex_265475, E...</td>\n",
       "      <td>[4, 5, 5, 6, 6, 6, 7, 7, 6, 6, 6, 5, 7, 7, 6, 5]</td>\n",
       "      <td>...</td>\n",
       "      <td>[tsinghua university]</td>\n",
       "      <td>1570379031</td>\n",
       "      <td>1</td>\n",
       "      <td>NaN</td>\n",
       "      <td>NaN</td>\n",
       "      <td>NaN</td>\n",
       "      <td>NaN</td>\n",
       "      <td>NaN</td>\n",
       "      <td>0</td>\n",
       "      <td>0</td>\n",
       "    </tr>\n",
       "    <tr>\n",
       "      <th>3</th>\n",
       "      <td>U_24</td>\n",
       "      <td>C_674910</td>\n",
       "      <td>pattern aesthetics and creation</td>\n",
       "      <td></td>\n",
       "      <td>[national premium course] this course provides...</td>\n",
       "      <td>None</td>\n",
       "      <td>None</td>\n",
       "      <td>None</td>\n",
       "      <td>[Ex_35603, Ex_35595, Ex_35599, Ex_35583, Ex_35...</td>\n",
       "      <td>[1, 1, 2, 3, 1, 1, 3, 2, 2, 2, 3]</td>\n",
       "      <td>...</td>\n",
       "      <td>[tsinghua university]</td>\n",
       "      <td>1570557064</td>\n",
       "      <td>1</td>\n",
       "      <td>NaN</td>\n",
       "      <td>NaN</td>\n",
       "      <td>NaN</td>\n",
       "      <td>NaN</td>\n",
       "      <td>NaN</td>\n",
       "      <td>0</td>\n",
       "      <td>0</td>\n",
       "    </tr>\n",
       "    <tr>\n",
       "      <th>4</th>\n",
       "      <td>U_24</td>\n",
       "      <td>C_707038</td>\n",
       "      <td>organic chemistry</td>\n",
       "      <td></td>\n",
       "      <td>the world's organic compounds are rich and col...</td>\n",
       "      <td>[V_566855, V_567087, V_566826, V_567004, V_566...</td>\n",
       "      <td>[001EF0F9EA519E1B9C33DC5901307461, 003EB4E2CD2...</td>\n",
       "      <td>[194.2, 295.6, 423.465, 270.269, 529.6, 183.69...</td>\n",
       "      <td>[Ex_567007, Ex_566841, Ex_566866, Ex_567006, E...</td>\n",
       "      <td>[1, 6, 8, 1, 19, 8, 11, 7, 8, 9, 9, 1, 16, 5, ...</td>\n",
       "      <td>...</td>\n",
       "      <td>[tsinghua university, tsinghua university, tsi...</td>\n",
       "      <td>1570971985</td>\n",
       "      <td>1</td>\n",
       "      <td>NaN</td>\n",
       "      <td>NaN</td>\n",
       "      <td>NaN</td>\n",
       "      <td>NaN</td>\n",
       "      <td>NaN</td>\n",
       "      <td>0</td>\n",
       "      <td>0</td>\n",
       "    </tr>\n",
       "    <tr>\n",
       "      <th>...</th>\n",
       "      <td>...</td>\n",
       "      <td>...</td>\n",
       "      <td>...</td>\n",
       "      <td>...</td>\n",
       "      <td>...</td>\n",
       "      <td>...</td>\n",
       "      <td>...</td>\n",
       "      <td>...</td>\n",
       "      <td>...</td>\n",
       "      <td>...</td>\n",
       "      <td>...</td>\n",
       "      <td>...</td>\n",
       "      <td>...</td>\n",
       "      <td>...</td>\n",
       "      <td>...</td>\n",
       "      <td>...</td>\n",
       "      <td>...</td>\n",
       "      <td>...</td>\n",
       "      <td>...</td>\n",
       "      <td>...</td>\n",
       "      <td>...</td>\n",
       "    </tr>\n",
       "    <tr>\n",
       "      <th>7284495</th>\n",
       "      <td>U_34712115</td>\n",
       "      <td>C_770738</td>\n",
       "      <td>data structure (part 2)</td>\n",
       "      <td></td>\n",
       "      <td>breeze plan 2021 [first term recruitment] is i...</td>\n",
       "      <td>[V_784218, V_784314, V_784095, V_784020, V_784...</td>\n",
       "      <td>[00CE59849A6B87B29C33DC5901307461, 00DDC85FD9E...</td>\n",
       "      <td>[173.09, 312.0, 333.86, 446.9, 93.46, 142.56, ...</td>\n",
       "      <td>[Ex_1004448, Ex_1011216, Ex_1004394, Ex_784166...</td>\n",
       "      <td>[2, 1, 1, 1, 1, 2, 1, 3, 1, 16, 1, 3, 3, 2, 1,...</td>\n",
       "      <td>...</td>\n",
       "      <td>[tsinghua university]</td>\n",
       "      <td>1602487061</td>\n",
       "      <td>1</td>\n",
       "      <td>NaN</td>\n",
       "      <td>NaN</td>\n",
       "      <td>NaN</td>\n",
       "      <td>NaN</td>\n",
       "      <td>NaN</td>\n",
       "      <td>0</td>\n",
       "      <td>0</td>\n",
       "    </tr>\n",
       "    <tr>\n",
       "      <th>7284496</th>\n",
       "      <td>U_34712115</td>\n",
       "      <td>C_676937</td>\n",
       "      <td>advanced c++ language programming</td>\n",
       "      <td></td>\n",
       "      <td>breeze plan 2021 [first term recruitment] is i...</td>\n",
       "      <td>[V_69237, V_69353, V_69285, V_69228, V_69217, ...</td>\n",
       "      <td>[0086579E5E48FC179C33DC5901307461, 0814FA18F28...</td>\n",
       "      <td>[649.72, 193.64, 493.92, 372.2, 468.04, 230.24...</td>\n",
       "      <td>[Ex_69254, Ex_69224, Ex_69293, Ex_69253, Ex_69...</td>\n",
       "      <td>[1, 2, 2, 3, 1, 2, 4, 5, 1, 1, 1, 1, 4, 1, 1, ...</td>\n",
       "      <td>...</td>\n",
       "      <td>[tsinghua university, tsinghua university, tsi...</td>\n",
       "      <td>1603225930</td>\n",
       "      <td>1</td>\n",
       "      <td>NaN</td>\n",
       "      <td>NaN</td>\n",
       "      <td>NaN</td>\n",
       "      <td>NaN</td>\n",
       "      <td>NaN</td>\n",
       "      <td>0</td>\n",
       "      <td>0</td>\n",
       "    </tr>\n",
       "    <tr>\n",
       "      <th>7284497</th>\n",
       "      <td>U_34712115</td>\n",
       "      <td>C_694136</td>\n",
       "      <td>data mining: theory and algorithm</td>\n",
       "      <td></td>\n",
       "      <td>the most interesting theory + the most useful ...</td>\n",
       "      <td>[V_434820, V_434780, V_434759, V_434869, V_434...</td>\n",
       "      <td>[03D205A6AEB0B16F9C33DC5901307461, 03F5AF209FA...</td>\n",
       "      <td>[1003.9, 773.66, 886.35, 505.57, 889.61, 930.6...</td>\n",
       "      <td>[Ex_434826, Ex_743296, Ex_434785, Ex_434853, E...</td>\n",
       "      <td>[4, 1, 7, 4, 6, 5, 4, 5, 4, 7, 5, 5, 3, 6, 5, ...</td>\n",
       "      <td>...</td>\n",
       "      <td>[tsinghua university]</td>\n",
       "      <td>1603226018</td>\n",
       "      <td>1</td>\n",
       "      <td>NaN</td>\n",
       "      <td>NaN</td>\n",
       "      <td>NaN</td>\n",
       "      <td>NaN</td>\n",
       "      <td>NaN</td>\n",
       "      <td>0</td>\n",
       "      <td>0</td>\n",
       "    </tr>\n",
       "    <tr>\n",
       "      <th>7284498</th>\n",
       "      <td>U_34712115</td>\n",
       "      <td>C_1738993</td>\n",
       "      <td>game programming</td>\n",
       "      <td></td>\n",
       "      <td>this course is jointly produced by tsinghua un...</td>\n",
       "      <td>[V_4067820, V_4067793, V_4067819, V_4067861, V...</td>\n",
       "      <td>[01F30259BD4076869C33DC5901307461, 043477B78DF...</td>\n",
       "      <td>[267.21, 216.3, 951.63, 492.66, 1171.085, 381....</td>\n",
       "      <td>[Ex_4067784, Ex_4067718, Ex_4067824, Ex_406780...</td>\n",
       "      <td>[1, 1, 1, 1, 1, 1, 1, 1, 1, 1, 1, 2, 1, 1, 1, ...</td>\n",
       "      <td>...</td>\n",
       "      <td>[tencent game academy, tencent game academy, t...</td>\n",
       "      <td>1603226118</td>\n",
       "      <td>1</td>\n",
       "      <td>NaN</td>\n",
       "      <td>NaN</td>\n",
       "      <td>NaN</td>\n",
       "      <td>NaN</td>\n",
       "      <td>NaN</td>\n",
       "      <td>0</td>\n",
       "      <td>0</td>\n",
       "    </tr>\n",
       "    <tr>\n",
       "      <th>7284499</th>\n",
       "      <td>U_34712115</td>\n",
       "      <td>C_697092</td>\n",
       "      <td>3d game engine architecture design basics</td>\n",
       "      <td>c++ programming, computer graphics. it is best...</td>\n",
       "      <td>game engines are independent and complex compo...</td>\n",
       "      <td>None</td>\n",
       "      <td>None</td>\n",
       "      <td>None</td>\n",
       "      <td>[Ex_510835, Ex_510808, Ex_510829, Ex_510843, E...</td>\n",
       "      <td>[21, 10, 25, 12, 50, 20, 21, 16, 22, 24]</td>\n",
       "      <td>...</td>\n",
       "      <td>[south china university technology]</td>\n",
       "      <td>1603226187</td>\n",
       "      <td>1</td>\n",
       "      <td>NaN</td>\n",
       "      <td>NaN</td>\n",
       "      <td>NaN</td>\n",
       "      <td>NaN</td>\n",
       "      <td>NaN</td>\n",
       "      <td>0</td>\n",
       "      <td>0</td>\n",
       "    </tr>\n",
       "  </tbody>\n",
       "</table>\n",
       "<p>7284500 rows × 34 columns</p>\n",
       "</div>"
      ],
      "text/plain": [
       "            user_id  course_id  \\\n",
       "0              U_24   C_597314   \n",
       "1              U_24   C_597208   \n",
       "2              U_24   C_682129   \n",
       "3              U_24   C_674910   \n",
       "4              U_24   C_707038   \n",
       "...             ...        ...   \n",
       "7284495  U_34712115   C_770738   \n",
       "7284496  U_34712115   C_676937   \n",
       "7284497  U_34712115   C_694136   \n",
       "7284498  U_34712115  C_1738993   \n",
       "7284499  U_34712115   C_697092   \n",
       "\n",
       "                                               course_name  \\\n",
       "0        university chinese—analysis of northern song d...   \n",
       "1                        data mining: theory and algorithm   \n",
       "2                                   software theory basics   \n",
       "3                          pattern aesthetics and creation   \n",
       "4                                        organic chemistry   \n",
       "...                                                    ...   \n",
       "7284495                            data structure (part 2)   \n",
       "7284496                  advanced c++ language programming   \n",
       "7284497                  data mining: theory and algorithm   \n",
       "7284498                                   game programming   \n",
       "7284499          3d game engine architecture design basics   \n",
       "\n",
       "                                      course_prerequisites  \\\n",
       "0                                                            \n",
       "1                                                            \n",
       "2                                                            \n",
       "3                                                            \n",
       "4                                                            \n",
       "...                                                    ...   \n",
       "7284495                                                      \n",
       "7284496                                                      \n",
       "7284497                                                      \n",
       "7284498                                                      \n",
       "7284499  c++ programming, computer graphics. it is best...   \n",
       "\n",
       "                                              course_about  \\\n",
       "0        at present, the talent gap in data science and...   \n",
       "1        the most interesting theory + the most useful ...   \n",
       "2        this course introduces formal language, automa...   \n",
       "3        [national premium course] this course provides...   \n",
       "4        the world's organic compounds are rich and col...   \n",
       "...                                                    ...   \n",
       "7284495  breeze plan 2021 [first term recruitment] is i...   \n",
       "7284496  breeze plan 2021 [first term recruitment] is i...   \n",
       "7284497  the most interesting theory + the most useful ...   \n",
       "7284498  this course is jointly produced by tsinghua un...   \n",
       "7284499  game engines are independent and complex compo...   \n",
       "\n",
       "                                                  video_id  \\\n",
       "0        [V_10741, V_10729, V_10669, V_10636, V_10583, ...   \n",
       "1        [V_3025, V_2985, V_2964, V_3074, V_3082, V_306...   \n",
       "2        [V_265396, V_265411, V_265404, V_265442, V_265...   \n",
       "3                                                     None   \n",
       "4        [V_566855, V_567087, V_566826, V_567004, V_566...   \n",
       "...                                                    ...   \n",
       "7284495  [V_784218, V_784314, V_784095, V_784020, V_784...   \n",
       "7284496  [V_69237, V_69353, V_69285, V_69228, V_69217, ...   \n",
       "7284497  [V_434820, V_434780, V_434759, V_434869, V_434...   \n",
       "7284498  [V_4067820, V_4067793, V_4067819, V_4067861, V...   \n",
       "7284499                                               None   \n",
       "\n",
       "                                                video_ccid  \\\n",
       "0        [059F9E3D0C61EC3A9C33DC5901307461, 05BA5BEC636...   \n",
       "1        [03D205A6AEB0B16F9C33DC5901307461, 03F5AF209FA...   \n",
       "2        [00784179599D8C659C33DC5901307461, 036F26D5314...   \n",
       "3                                                     None   \n",
       "4        [001EF0F9EA519E1B9C33DC5901307461, 003EB4E2CD2...   \n",
       "...                                                    ...   \n",
       "7284495  [00CE59849A6B87B29C33DC5901307461, 00DDC85FD9E...   \n",
       "7284496  [0086579E5E48FC179C33DC5901307461, 0814FA18F28...   \n",
       "7284497  [03D205A6AEB0B16F9C33DC5901307461, 03F5AF209FA...   \n",
       "7284498  [01F30259BD4076869C33DC5901307461, 043477B78DF...   \n",
       "7284499                                               None   \n",
       "\n",
       "                                            video_duration  \\\n",
       "0        [678.88, 1861.28, 280.63, 1488.369, 1192.15, 6...   \n",
       "1        [1003.9, 773.66, 886.35, 505.57, 889.61, 930.6...   \n",
       "2        [1236.79, 1212.67, 1584.55, 1574.35, 376.79, 5...   \n",
       "3                                                     None   \n",
       "4        [194.2, 295.6, 423.465, 270.269, 529.6, 183.69...   \n",
       "...                                                    ...   \n",
       "7284495  [173.09, 312.0, 333.86, 446.9, 93.46, 142.56, ...   \n",
       "7284496  [649.72, 193.64, 493.92, 372.2, 468.04, 230.24...   \n",
       "7284497  [1003.9, 773.66, 886.35, 505.57, 889.61, 930.6...   \n",
       "7284498  [267.21, 216.3, 951.63, 492.66, 1171.085, 381....   \n",
       "7284499                                               None   \n",
       "\n",
       "                                               exercise_id  \\\n",
       "0        [Ex_10607, Ex_10647, Ex_10628, Ex_10711, Ex_10...   \n",
       "1        [Ex_2994, Ex_3099, Ex_3066, Ex_3021, Ex_3006, ...   \n",
       "2        [Ex_265490, Ex_265468, Ex_265398, Ex_265475, E...   \n",
       "3        [Ex_35603, Ex_35595, Ex_35599, Ex_35583, Ex_35...   \n",
       "4        [Ex_567007, Ex_566841, Ex_566866, Ex_567006, E...   \n",
       "...                                                    ...   \n",
       "7284495  [Ex_1004448, Ex_1011216, Ex_1004394, Ex_784166...   \n",
       "7284496  [Ex_69254, Ex_69224, Ex_69293, Ex_69253, Ex_69...   \n",
       "7284497  [Ex_434826, Ex_743296, Ex_434785, Ex_434853, E...   \n",
       "7284498  [Ex_4067784, Ex_4067718, Ex_4067824, Ex_406780...   \n",
       "7284499  [Ex_510835, Ex_510808, Ex_510829, Ex_510843, E...   \n",
       "\n",
       "                                      exercise_num_problem  ...  \\\n",
       "0        [1, 6, 4, 2, 4, 3, 2, 6, 3, 4, 5, 6, 4, 2, 2, ...  ...   \n",
       "1        [5, 3, 5, 3, 5, 6, 3, 3, 5, 5, 4, 5, 5, 2, 5, ...  ...   \n",
       "2         [4, 5, 5, 6, 6, 6, 7, 7, 6, 6, 6, 5, 7, 7, 6, 5]  ...   \n",
       "3                        [1, 1, 2, 3, 1, 1, 3, 2, 2, 2, 3]  ...   \n",
       "4        [1, 6, 8, 1, 19, 8, 11, 7, 8, 9, 9, 1, 16, 5, ...  ...   \n",
       "...                                                    ...  ...   \n",
       "7284495  [2, 1, 1, 1, 1, 2, 1, 3, 1, 16, 1, 3, 3, 2, 1,...  ...   \n",
       "7284496  [1, 2, 2, 3, 1, 2, 4, 5, 1, 1, 1, 1, 4, 1, 1, ...  ...   \n",
       "7284497  [4, 1, 7, 4, 6, 5, 4, 5, 4, 7, 5, 5, 3, 6, 5, ...  ...   \n",
       "7284498  [1, 1, 1, 1, 1, 1, 1, 1, 1, 1, 1, 2, 1, 1, 1, ...  ...   \n",
       "7284499           [21, 10, 25, 12, 50, 20, 21, 16, 22, 24]  ...   \n",
       "\n",
       "                                          teacher_org_name enroll_time  \\\n",
       "0                                    [tsinghua university]  1560360127   \n",
       "1                                    [tsinghua university]  1560784961   \n",
       "2                                    [tsinghua university]  1570379031   \n",
       "3                                    [tsinghua university]  1570557064   \n",
       "4        [tsinghua university, tsinghua university, tsi...  1570971985   \n",
       "...                                                    ...         ...   \n",
       "7284495                              [tsinghua university]  1602487061   \n",
       "7284496  [tsinghua university, tsinghua university, tsi...  1603225930   \n",
       "7284497                              [tsinghua university]  1603226018   \n",
       "7284498  [tencent game academy, tencent game academy, t...  1603226118   \n",
       "7284499                [south china university technology]  1603226187   \n",
       "\n",
       "        user_gender watch_id  total_watch_time actual_watch_time  \\\n",
       "0                 1      NaN               NaN               NaN   \n",
       "1                 1      NaN               NaN               NaN   \n",
       "2                 1      NaN               NaN               NaN   \n",
       "3                 1      NaN               NaN               NaN   \n",
       "4                 1      NaN               NaN               NaN   \n",
       "...             ...      ...               ...               ...   \n",
       "7284495           1      NaN               NaN               NaN   \n",
       "7284496           1      NaN               NaN               NaN   \n",
       "7284497           1      NaN               NaN               NaN   \n",
       "7284498           1      NaN               NaN               NaN   \n",
       "7284499           1      NaN               NaN               NaN   \n",
       "\n",
       "        doing_exercise_id doing_num_correct user_course_num_comment  \\\n",
       "0                     NaN               NaN                       0   \n",
       "1                     NaN               NaN                       0   \n",
       "2                     NaN               NaN                       0   \n",
       "3                     NaN               NaN                       0   \n",
       "4                     NaN               NaN                       0   \n",
       "...                   ...               ...                     ...   \n",
       "7284495               NaN               NaN                       0   \n",
       "7284496               NaN               NaN                       0   \n",
       "7284497               NaN               NaN                       0   \n",
       "7284498               NaN               NaN                       0   \n",
       "7284499               NaN               NaN                       0   \n",
       "\n",
       "        user_course_num_replies  \n",
       "0                             0  \n",
       "1                             0  \n",
       "2                             0  \n",
       "3                             0  \n",
       "4                             0  \n",
       "...                         ...  \n",
       "7284495                       0  \n",
       "7284496                       0  \n",
       "7284497                       0  \n",
       "7284498                       0  \n",
       "7284499                       0  \n",
       "\n",
       "[7284500 rows x 34 columns]"
      ]
     },
     "execution_count": 5,
     "metadata": {},
     "output_type": "execute_result"
    }
   ],
   "source": [
    "combine_data = pd.read_hdf(path[i], key='df')\n",
    "combine_data"
   ]
  },
  {
   "cell_type": "code",
   "execution_count": 6,
   "id": "bb75dc6c",
   "metadata": {
    "execution": {
     "iopub.execute_input": "2025-07-13T04:59:10.492044Z",
     "iopub.status.busy": "2025-07-13T04:59:10.491663Z",
     "iopub.status.idle": "2025-07-13T04:59:10.497709Z",
     "shell.execute_reply": "2025-07-13T04:59:10.496860Z"
    },
    "papermill": {
     "duration": 0.018646,
     "end_time": "2025-07-13T04:59:10.499277",
     "exception": false,
     "start_time": "2025-07-13T04:59:10.480631",
     "status": "completed"
    },
    "tags": []
   },
   "outputs": [],
   "source": [
    "def filter_user_item_interactions(df, user_col='user_id', item_col='course_id', min_interactions=5):\n",
    "    \"\"\"\n",
    "    Lọc bỏ các user và item có ít hơn `min_interactions` tương tác.\n",
    "\n",
    "    Args:\n",
    "        df (pd.DataFrame): DataFrame chứa tương tác user-item.\n",
    "        user_col (str): Tên cột user.\n",
    "        item_col (str): Tên cột item (course).\n",
    "        min_interactions (int): Số tương tác tối thiểu để giữ lại.\n",
    "\n",
    "    Returns:\n",
    "        pd.DataFrame: DataFrame đã được lọc.\n",
    "    \"\"\"\n",
    "    import pandas as pd\n",
    "\n",
    "    while True:\n",
    "        original_len = len(df)\n",
    "        \n",
    "        # Lọc user\n",
    "        user_counts = df[user_col].value_counts()\n",
    "        valid_users = user_counts[user_counts >= min_interactions].index\n",
    "        df = df[df[user_col].isin(valid_users)]\n",
    "\n",
    "        # Lọc item\n",
    "        item_counts = df[item_col].value_counts()\n",
    "        valid_items = item_counts[item_counts >= min_interactions].index\n",
    "        df = df[df[item_col].isin(valid_items)]\n",
    "\n",
    "        if len(df) == original_len:\n",
    "            break  # không còn gì để lọc nữa\n",
    "\n",
    "    return df.reset_index(drop=True)\n",
    "# filter_user_item_interactions"
   ]
  },
  {
   "cell_type": "code",
   "execution_count": 7,
   "id": "04724004",
   "metadata": {
    "execution": {
     "iopub.execute_input": "2025-07-13T04:59:10.518745Z",
     "iopub.status.busy": "2025-07-13T04:59:10.518413Z",
     "iopub.status.idle": "2025-07-13T04:59:10.524107Z",
     "shell.execute_reply": "2025-07-13T04:59:10.523136Z"
    },
    "papermill": {
     "duration": 0.016976,
     "end_time": "2025-07-13T04:59:10.525477",
     "exception": false,
     "start_time": "2025-07-13T04:59:10.508501",
     "status": "completed"
    },
    "tags": []
   },
   "outputs": [
    {
     "data": {
      "text/plain": [
       "Index(['user_id', 'course_id', 'course_name', 'course_prerequisites',\n",
       "       'course_about', 'video_id', 'video_ccid', 'video_duration',\n",
       "       'exercise_id', 'exercise_num_problem', 'concept_id',\n",
       "       'concept_prerequisite', 'concept_name', 'concept_field',\n",
       "       'course_total_comments', 'course_field', 'school_id', 'school_name',\n",
       "       'school_about', 'school_motto', 'teacher_id', 'teacher_name',\n",
       "       'teacher_about', 'teacher_job_title', 'teacher_org_name', 'enroll_time',\n",
       "       'user_gender', 'watch_id', 'total_watch_time', 'actual_watch_time',\n",
       "       'doing_exercise_id', 'doing_num_correct', 'user_course_num_comment',\n",
       "       'user_course_num_replies'],\n",
       "      dtype='object')"
      ]
     },
     "execution_count": 7,
     "metadata": {},
     "output_type": "execute_result"
    }
   ],
   "source": [
    "combine_data.columns"
   ]
  },
  {
   "cell_type": "code",
   "execution_count": 8,
   "id": "453eec95",
   "metadata": {
    "execution": {
     "iopub.execute_input": "2025-07-13T04:59:10.545948Z",
     "iopub.status.busy": "2025-07-13T04:59:10.545553Z",
     "iopub.status.idle": "2025-07-13T04:59:15.539355Z",
     "shell.execute_reply": "2025-07-13T04:59:15.538312Z"
    },
    "papermill": {
     "duration": 5.005865,
     "end_time": "2025-07-13T04:59:15.541376",
     "exception": false,
     "start_time": "2025-07-13T04:59:10.535511",
     "status": "completed"
    },
    "tags": []
   },
   "outputs": [],
   "source": [
    "item_col_list=[\n",
    "    'course_id','course_name','course_prerequisites', 'course_about',\n",
    "    'school_id','teacher_id','video_duration','exercise_num_problem','course_total_comments']\n",
    "if i!=1:\n",
    "    item_col_list+=['course_field']\n",
    "\n",
    "item_data = combine_data[item_col_list]\n",
    "item_data=item_data.groupby('course_id').first().reset_index()"
   ]
  },
  {
   "cell_type": "code",
   "execution_count": null,
   "id": "a6cbb3ad",
   "metadata": {
    "papermill": {
     "duration": 0.009229,
     "end_time": "2025-07-13T04:59:15.560282",
     "exception": false,
     "start_time": "2025-07-13T04:59:15.551053",
     "status": "completed"
    },
    "tags": []
   },
   "outputs": [],
   "source": []
  },
  {
   "cell_type": "code",
   "execution_count": 9,
   "id": "0da48c57",
   "metadata": {
    "execution": {
     "iopub.execute_input": "2025-07-13T04:59:15.580332Z",
     "iopub.status.busy": "2025-07-13T04:59:15.579952Z",
     "iopub.status.idle": "2025-07-13T04:59:15.607271Z",
     "shell.execute_reply": "2025-07-13T04:59:15.606259Z"
    },
    "papermill": {
     "duration": 0.039352,
     "end_time": "2025-07-13T04:59:15.608954",
     "exception": false,
     "start_time": "2025-07-13T04:59:15.569602",
     "status": "completed"
    },
    "tags": []
   },
   "outputs": [
    {
     "data": {
      "text/html": [
       "<div>\n",
       "<style scoped>\n",
       "    .dataframe tbody tr th:only-of-type {\n",
       "        vertical-align: middle;\n",
       "    }\n",
       "\n",
       "    .dataframe tbody tr th {\n",
       "        vertical-align: top;\n",
       "    }\n",
       "\n",
       "    .dataframe thead th {\n",
       "        text-align: right;\n",
       "    }\n",
       "</style>\n",
       "<table border=\"1\" class=\"dataframe\">\n",
       "  <thead>\n",
       "    <tr style=\"text-align: right;\">\n",
       "      <th></th>\n",
       "      <th>course_id</th>\n",
       "      <th>course_name</th>\n",
       "      <th>course_prerequisites</th>\n",
       "      <th>course_about</th>\n",
       "      <th>school_id</th>\n",
       "      <th>teacher_id</th>\n",
       "      <th>video_duration</th>\n",
       "      <th>exercise_num_problem</th>\n",
       "      <th>course_total_comments</th>\n",
       "      <th>course_field</th>\n",
       "    </tr>\n",
       "  </thead>\n",
       "  <tbody>\n",
       "    <tr>\n",
       "      <th>0</th>\n",
       "      <td>C_1017355</td>\n",
       "      <td>introduction to traditional chinese medicine e...</td>\n",
       "      <td>the main subjects are college students who hav...</td>\n",
       "      <td>traditional chinese medicine culture - the tre...</td>\n",
       "      <td>[S_33]</td>\n",
       "      <td>[T_7970, T_7971, T_5826, T_7978, T_7979]</td>\n",
       "      <td>None</td>\n",
       "      <td>[5, 5, 5, 5, 5, 5, 5, 5, 5, 5, 5, 5, 5, 5, 5, ...</td>\n",
       "      <td>39624</td>\n",
       "      <td>[sociology, clinical chinese medicine, basic m...</td>\n",
       "    </tr>\n",
       "    <tr>\n",
       "      <th>1</th>\n",
       "      <td>C_1017419</td>\n",
       "      <td>smart government talk</td>\n",
       "      <td></td>\n",
       "      <td>this course combines specific cases of traffic...</td>\n",
       "      <td>[S_52]</td>\n",
       "      <td>[T_7849, T_16199, T_16200, T_16201, T_16202, T...</td>\n",
       "      <td>None</td>\n",
       "      <td>[15, 15, 20, 15, 15, 15, 15, 16, 15]</td>\n",
       "      <td>609</td>\n",
       "      <td>[public health and preventive medicine, comput...</td>\n",
       "    </tr>\n",
       "    <tr>\n",
       "      <th>2</th>\n",
       "      <td>C_1025064</td>\n",
       "      <td>principles of ideological and political education</td>\n",
       "      <td></td>\n",
       "      <td>hello, dear classmate! do you want to know how...</td>\n",
       "      <td>[S_13]</td>\n",
       "      <td>[T_3915, T_3911, T_5426, T_5427, T_5429]</td>\n",
       "      <td>[466.575, 402.325, 476.65, 1025.9, 755.075, 42...</td>\n",
       "      <td>[10, 10, 10, 10, 10, 10, 10, 10, 10, 10, 10, 1...</td>\n",
       "      <td>696</td>\n",
       "      <td>[political science, military political work]</td>\n",
       "    </tr>\n",
       "    <tr>\n",
       "      <th>3</th>\n",
       "      <td>C_1025076</td>\n",
       "      <td>advanced roller skating tutorial</td>\n",
       "      <td></td>\n",
       "      <td>the true meaning of experiencing roller skatin...</td>\n",
       "      <td>[S_72]</td>\n",
       "      <td>[T_5394]</td>\n",
       "      <td>None</td>\n",
       "      <td>[1, 1, 15, 1]</td>\n",
       "      <td>2</td>\n",
       "      <td>[art studies, math, physical education]</td>\n",
       "    </tr>\n",
       "    <tr>\n",
       "      <th>4</th>\n",
       "      <td>C_1025079</td>\n",
       "      <td>scientific fitness method-silk-winding fitness...</td>\n",
       "      <td>none</td>\n",
       "      <td>silk wrapping skills are the chinese solution ...</td>\n",
       "      <td>[S_97]</td>\n",
       "      <td>[T_7939]</td>\n",
       "      <td>[671.97, 925.17, 748.11, 644.25, 543.93, 546.3...</td>\n",
       "      <td>[5, 5, 5, 5, 5]</td>\n",
       "      <td>125</td>\n",
       "      <td>[physical education, tactical science]</td>\n",
       "    </tr>\n",
       "    <tr>\n",
       "      <th>...</th>\n",
       "      <td>...</td>\n",
       "      <td>...</td>\n",
       "      <td>...</td>\n",
       "      <td>...</td>\n",
       "      <td>...</td>\n",
       "      <td>...</td>\n",
       "      <td>...</td>\n",
       "      <td>...</td>\n",
       "      <td>...</td>\n",
       "      <td>...</td>\n",
       "    </tr>\n",
       "    <tr>\n",
       "      <th>2761</th>\n",
       "      <td>C_949542</td>\n",
       "      <td>thinking innovation and creativity development</td>\n",
       "      <td>none</td>\n",
       "      <td>if appearance is a letter of recommendation fo...</td>\n",
       "      <td>[S_749]</td>\n",
       "      <td>[T_7389, T_7390, T_10280, T_10281, T_7392, T_7...</td>\n",
       "      <td>[784.77, 713.7, 578.07, 689.01, 624.45, 658.17...</td>\n",
       "      <td>[7, 8, 6, 7, 8, 10, 7, 8, 8, 11, 10, 6, 6, 5, ...</td>\n",
       "      <td>839</td>\n",
       "      <td>[psychology, business administration, applied ...</td>\n",
       "    </tr>\n",
       "    <tr>\n",
       "      <th>2762</th>\n",
       "      <td>C_955163</td>\n",
       "      <td>learn to make mini programs - practical chapte...</td>\n",
       "      <td>computer basics, html, css, javascript, progra...</td>\n",
       "      <td>this course is a wechat mini program learning ...</td>\n",
       "      <td>[S_1]</td>\n",
       "      <td>[T_172, T_14907, T_14933, T_1286]</td>\n",
       "      <td>[515.893, 134.584, 2084.548, 1546.264, 38.356,...</td>\n",
       "      <td>[5, 1, 10, 10, 1, 30, 4]</td>\n",
       "      <td>305</td>\n",
       "      <td>[computer science and technology]</td>\n",
       "    </tr>\n",
       "    <tr>\n",
       "      <th>2763</th>\n",
       "      <td>C_956128</td>\n",
       "      <td>interpretation of hot issues of portal hyperte...</td>\n",
       "      <td></td>\n",
       "      <td>interpretation of hot issues of portal hyperte...</td>\n",
       "      <td>[S_144]</td>\n",
       "      <td>[T_7005, T_7006, T_7007]</td>\n",
       "      <td>None</td>\n",
       "      <td>[15, 15, 15, 15, 15, 15, 15]</td>\n",
       "      <td>0</td>\n",
       "      <td>[clinical medicine]</td>\n",
       "    </tr>\n",
       "    <tr>\n",
       "      <th>2764</th>\n",
       "      <td>C_956129</td>\n",
       "      <td>introduction to games and esports</td>\n",
       "      <td>none</td>\n",
       "      <td>the game industry has become a popular profess...</td>\n",
       "      <td>[S_492]</td>\n",
       "      <td>[T_4850, T_4852, T_4851, T_4854]</td>\n",
       "      <td>[463.65, 598.375, 354.68, 547.18, 289.23, 349....</td>\n",
       "      <td>[2, 3, 3, 8, 7, 6, 10, 9, 9, 6, 4, 1, 6, 7, 8,...</td>\n",
       "      <td>1597</td>\n",
       "      <td>[physical education, electronic science and te...</td>\n",
       "    </tr>\n",
       "    <tr>\n",
       "      <th>2765</th>\n",
       "      <td>C_956130</td>\n",
       "      <td>multimedia technology and application</td>\n",
       "      <td>none</td>\n",
       "      <td>this course mainly learns the basic concepts o...</td>\n",
       "      <td>[S_11]</td>\n",
       "      <td>[T_7457, T_8331, T_8417]</td>\n",
       "      <td>None</td>\n",
       "      <td>[1, 5, 27, 8, 6, 19, 28, 6, 14, 16, 21, 6, 15,...</td>\n",
       "      <td>3</td>\n",
       "      <td>[computer science and technology, electronic s...</td>\n",
       "    </tr>\n",
       "  </tbody>\n",
       "</table>\n",
       "<p>2766 rows × 10 columns</p>\n",
       "</div>"
      ],
      "text/plain": [
       "      course_id                                        course_name  \\\n",
       "0     C_1017355  introduction to traditional chinese medicine e...   \n",
       "1     C_1017419                              smart government talk   \n",
       "2     C_1025064  principles of ideological and political education   \n",
       "3     C_1025076                   advanced roller skating tutorial   \n",
       "4     C_1025079  scientific fitness method-silk-winding fitness...   \n",
       "...         ...                                                ...   \n",
       "2761   C_949542     thinking innovation and creativity development   \n",
       "2762   C_955163  learn to make mini programs - practical chapte...   \n",
       "2763   C_956128  interpretation of hot issues of portal hyperte...   \n",
       "2764   C_956129                  introduction to games and esports   \n",
       "2765   C_956130              multimedia technology and application   \n",
       "\n",
       "                                   course_prerequisites  \\\n",
       "0     the main subjects are college students who hav...   \n",
       "1                                                         \n",
       "2                                                         \n",
       "3                                                         \n",
       "4                                                  none   \n",
       "...                                                 ...   \n",
       "2761                                               none   \n",
       "2762  computer basics, html, css, javascript, progra...   \n",
       "2763                                                      \n",
       "2764                                               none   \n",
       "2765                                               none   \n",
       "\n",
       "                                           course_about school_id  \\\n",
       "0     traditional chinese medicine culture - the tre...    [S_33]   \n",
       "1     this course combines specific cases of traffic...    [S_52]   \n",
       "2     hello, dear classmate! do you want to know how...    [S_13]   \n",
       "3     the true meaning of experiencing roller skatin...    [S_72]   \n",
       "4     silk wrapping skills are the chinese solution ...    [S_97]   \n",
       "...                                                 ...       ...   \n",
       "2761  if appearance is a letter of recommendation fo...   [S_749]   \n",
       "2762  this course is a wechat mini program learning ...     [S_1]   \n",
       "2763  interpretation of hot issues of portal hyperte...   [S_144]   \n",
       "2764  the game industry has become a popular profess...   [S_492]   \n",
       "2765  this course mainly learns the basic concepts o...    [S_11]   \n",
       "\n",
       "                                             teacher_id  \\\n",
       "0              [T_7970, T_7971, T_5826, T_7978, T_7979]   \n",
       "1     [T_7849, T_16199, T_16200, T_16201, T_16202, T...   \n",
       "2              [T_3915, T_3911, T_5426, T_5427, T_5429]   \n",
       "3                                              [T_5394]   \n",
       "4                                              [T_7939]   \n",
       "...                                                 ...   \n",
       "2761  [T_7389, T_7390, T_10280, T_10281, T_7392, T_7...   \n",
       "2762                  [T_172, T_14907, T_14933, T_1286]   \n",
       "2763                           [T_7005, T_7006, T_7007]   \n",
       "2764                   [T_4850, T_4852, T_4851, T_4854]   \n",
       "2765                           [T_7457, T_8331, T_8417]   \n",
       "\n",
       "                                         video_duration  \\\n",
       "0                                                  None   \n",
       "1                                                  None   \n",
       "2     [466.575, 402.325, 476.65, 1025.9, 755.075, 42...   \n",
       "3                                                  None   \n",
       "4     [671.97, 925.17, 748.11, 644.25, 543.93, 546.3...   \n",
       "...                                                 ...   \n",
       "2761  [784.77, 713.7, 578.07, 689.01, 624.45, 658.17...   \n",
       "2762  [515.893, 134.584, 2084.548, 1546.264, 38.356,...   \n",
       "2763                                               None   \n",
       "2764  [463.65, 598.375, 354.68, 547.18, 289.23, 349....   \n",
       "2765                                               None   \n",
       "\n",
       "                                   exercise_num_problem  \\\n",
       "0     [5, 5, 5, 5, 5, 5, 5, 5, 5, 5, 5, 5, 5, 5, 5, ...   \n",
       "1                  [15, 15, 20, 15, 15, 15, 15, 16, 15]   \n",
       "2     [10, 10, 10, 10, 10, 10, 10, 10, 10, 10, 10, 1...   \n",
       "3                                         [1, 1, 15, 1]   \n",
       "4                                       [5, 5, 5, 5, 5]   \n",
       "...                                                 ...   \n",
       "2761  [7, 8, 6, 7, 8, 10, 7, 8, 8, 11, 10, 6, 6, 5, ...   \n",
       "2762                           [5, 1, 10, 10, 1, 30, 4]   \n",
       "2763                       [15, 15, 15, 15, 15, 15, 15]   \n",
       "2764  [2, 3, 3, 8, 7, 6, 10, 9, 9, 6, 4, 1, 6, 7, 8,...   \n",
       "2765  [1, 5, 27, 8, 6, 19, 28, 6, 14, 16, 21, 6, 15,...   \n",
       "\n",
       "      course_total_comments                                       course_field  \n",
       "0                     39624  [sociology, clinical chinese medicine, basic m...  \n",
       "1                       609  [public health and preventive medicine, comput...  \n",
       "2                       696       [political science, military political work]  \n",
       "3                         2            [art studies, math, physical education]  \n",
       "4                       125             [physical education, tactical science]  \n",
       "...                     ...                                                ...  \n",
       "2761                    839  [psychology, business administration, applied ...  \n",
       "2762                    305                  [computer science and technology]  \n",
       "2763                      0                                [clinical medicine]  \n",
       "2764                   1597  [physical education, electronic science and te...  \n",
       "2765                      3  [computer science and technology, electronic s...  \n",
       "\n",
       "[2766 rows x 10 columns]"
      ]
     },
     "execution_count": 9,
     "metadata": {},
     "output_type": "execute_result"
    }
   ],
   "source": [
    "item_data"
   ]
  },
  {
   "cell_type": "code",
   "execution_count": 10,
   "id": "3994e2b2",
   "metadata": {
    "execution": {
     "iopub.execute_input": "2025-07-13T04:59:15.630228Z",
     "iopub.status.busy": "2025-07-13T04:59:15.629873Z",
     "iopub.status.idle": "2025-07-13T04:59:15.639367Z",
     "shell.execute_reply": "2025-07-13T04:59:15.638469Z"
    },
    "papermill": {
     "duration": 0.021652,
     "end_time": "2025-07-13T04:59:15.640935",
     "exception": false,
     "start_time": "2025-07-13T04:59:15.619283",
     "status": "completed"
    },
    "tags": []
   },
   "outputs": [],
   "source": [
    "def prepare_course_features(course_df):\n",
    "    course_df = course_df.copy()\n",
    "\n",
    "    # Đảm bảo các cột danh sách là thực sự danh sách\n",
    "    list_columns = ['school_id', 'teacher_id', 'video_duration', 'exercise_num_problem']\n",
    "    for col in list_columns:\n",
    "        course_df[col] = course_df[col].apply(lambda x: x if isinstance(x, list) else [])\n",
    "\n",
    "    # ===== Tính toán đặc trưng =====\n",
    "    course_df['total_video_duration'] = course_df['video_duration'].apply(\n",
    "        lambda x: np.nansum(x) if len(x) > 0 else 0\n",
    "    )\n",
    "    course_df['total_num_problem'] = course_df['exercise_num_problem'].apply(\n",
    "        lambda x: np.nansum(x) if len(x) > 0 else 0\n",
    "    )\n",
    "    course_df['num_videos'] = course_df['video_duration'].apply(len)\n",
    "    course_df['num_exercises'] = course_df['exercise_num_problem'].apply(len)\n",
    "    course_df['num_teachers'] = course_df['teacher_id'].apply(len)\n",
    "    course_df['num_schools'] = course_df['school_id'].apply(len)\n",
    "\n",
    "    # ===== Tách school_id_1 và school_id_2 =====\n",
    "    course_df['teacher_id'] = course_df['teacher_id'].apply(lambda x: x[0] if len(x) > 0 else None)\n",
    "    course_df['teacher_id'] = course_df['teacher_id'].fillna('missing')\n",
    "    course_df['school_id_1'] = course_df['school_id'].apply(lambda x: x[0] if len(x) > 0 else None)\n",
    "    course_df['school_id_2'] = course_df['school_id'].apply(lambda x: x[1] if len(x) > 1 else None)\n",
    "    course_df['school_id_1'] = course_df['school_id_1'].fillna('missing')\n",
    "    course_df['school_id_2'] = course_df['school_id_2'].fillna('missing')\n",
    "    # ===== Embed teacher_id list (tạm: dùng chỉ số trung bình để đại diện) =====\n",
    "    # Nếu muốn dùng embedding sau này thì giữ lại list hoặc dùng nhiều cột teacher_id_1, _2,...\n",
    "    if i==1:\n",
    "        course_df['course_text'] = course_df[\n",
    "            ['course_name', 'course_prerequisites', 'course_about']\n",
    "        ].fillna('').apply(lambda x: ' '.join(x), axis=1)\n",
    "    else:\n",
    "        course_df['course_field'] = course_df['course_field'].apply(\n",
    "            lambda x: ' '.join(x) if isinstance(x, list) else ''\n",
    "            )\n",
    "        course_df['course_text'] = course_df[\n",
    "            ['course_name', 'course_prerequisites', 'course_about','course_field']\n",
    "        ].fillna('').apply(lambda x: ' '.join(x), axis=1)\n",
    "    # ===== Output =====\n",
    "    course_features = course_df[[\n",
    "        'course_id',\n",
    "        'course_text',\n",
    "        'total_video_duration',\n",
    "        'total_num_problem',\n",
    "        'num_videos',\n",
    "        'num_exercises',\n",
    "        'num_teachers',\n",
    "        'teacher_id',\n",
    "        'num_schools',\n",
    "        'school_id_1',\n",
    "        'school_id_2',\n",
    "        'course_total_comments'\n",
    "    ]]\n",
    "\n",
    "    return course_features\n"
   ]
  },
  {
   "cell_type": "code",
   "execution_count": 11,
   "id": "5b3aa4ee",
   "metadata": {
    "execution": {
     "iopub.execute_input": "2025-07-13T04:59:15.662075Z",
     "iopub.status.busy": "2025-07-13T04:59:15.661688Z",
     "iopub.status.idle": "2025-07-13T04:59:15.781981Z",
     "shell.execute_reply": "2025-07-13T04:59:15.780877Z"
    },
    "papermill": {
     "duration": 0.133111,
     "end_time": "2025-07-13T04:59:15.783940",
     "exception": false,
     "start_time": "2025-07-13T04:59:15.650829",
     "status": "completed"
    },
    "tags": []
   },
   "outputs": [],
   "source": [
    "item_data = prepare_course_features(item_data)"
   ]
  },
  {
   "cell_type": "code",
   "execution_count": 12,
   "id": "8dd7786f",
   "metadata": {
    "execution": {
     "iopub.execute_input": "2025-07-13T04:59:15.804786Z",
     "iopub.status.busy": "2025-07-13T04:59:15.804402Z",
     "iopub.status.idle": "2025-07-13T04:59:15.814308Z",
     "shell.execute_reply": "2025-07-13T04:59:15.813348Z"
    },
    "papermill": {
     "duration": 0.022175,
     "end_time": "2025-07-13T04:59:15.815921",
     "exception": false,
     "start_time": "2025-07-13T04:59:15.793746",
     "status": "completed"
    },
    "tags": []
   },
   "outputs": [
    {
     "data": {
      "text/plain": [
       "course_id                0\n",
       "course_text              0\n",
       "total_video_duration     0\n",
       "total_num_problem        0\n",
       "num_videos               0\n",
       "num_exercises            0\n",
       "num_teachers             0\n",
       "teacher_id               0\n",
       "num_schools              0\n",
       "school_id_1              0\n",
       "school_id_2              0\n",
       "course_total_comments    0\n",
       "dtype: int64"
      ]
     },
     "execution_count": 12,
     "metadata": {},
     "output_type": "execute_result"
    }
   ],
   "source": [
    "item_data.isnull().sum()"
   ]
  },
  {
   "cell_type": "code",
   "execution_count": 13,
   "id": "9c525fa2",
   "metadata": {
    "execution": {
     "iopub.execute_input": "2025-07-13T04:59:15.836941Z",
     "iopub.status.busy": "2025-07-13T04:59:15.836529Z",
     "iopub.status.idle": "2025-07-13T04:59:16.788912Z",
     "shell.execute_reply": "2025-07-13T04:59:16.787668Z"
    },
    "papermill": {
     "duration": 0.965131,
     "end_time": "2025-07-13T04:59:16.790891",
     "exception": false,
     "start_time": "2025-07-13T04:59:15.825760",
     "status": "completed"
    },
    "tags": []
   },
   "outputs": [],
   "source": [
    "user_data = combine_data[['user_id','user_gender']].drop_duplicates().reset_index()"
   ]
  },
  {
   "cell_type": "code",
   "execution_count": 14,
   "id": "2b979c9e",
   "metadata": {
    "execution": {
     "iopub.execute_input": "2025-07-13T04:59:16.812079Z",
     "iopub.status.busy": "2025-07-13T04:59:16.811677Z",
     "iopub.status.idle": "2025-07-13T04:59:17.049450Z",
     "shell.execute_reply": "2025-07-13T04:59:17.048315Z"
    },
    "papermill": {
     "duration": 0.250682,
     "end_time": "2025-07-13T04:59:17.051632",
     "exception": false,
     "start_time": "2025-07-13T04:59:16.800950",
     "status": "completed"
    },
    "tags": []
   },
   "outputs": [],
   "source": [
    "user_item_data=combine_data[['user_id','course_id','enroll_time']]"
   ]
  },
  {
   "cell_type": "code",
   "execution_count": 15,
   "id": "34e306da",
   "metadata": {
    "execution": {
     "iopub.execute_input": "2025-07-13T04:59:17.072631Z",
     "iopub.status.busy": "2025-07-13T04:59:17.072254Z",
     "iopub.status.idle": "2025-07-13T04:59:17.175774Z",
     "shell.execute_reply": "2025-07-13T04:59:17.174826Z"
    },
    "papermill": {
     "duration": 0.116211,
     "end_time": "2025-07-13T04:59:17.177701",
     "exception": false,
     "start_time": "2025-07-13T04:59:17.061490",
     "status": "completed"
    },
    "tags": []
   },
   "outputs": [],
   "source": [
    "sp_user = pd.read_csv(\"/kaggle/input/random-user/sample_user.csv\")\n",
    "user_data = user_data[user_data['user_id'].isin(sp_user['user_id'])]"
   ]
  },
  {
   "cell_type": "code",
   "execution_count": 16,
   "id": "b7f0c60c",
   "metadata": {
    "execution": {
     "iopub.execute_input": "2025-07-13T04:59:17.199841Z",
     "iopub.status.busy": "2025-07-13T04:59:17.199467Z",
     "iopub.status.idle": "2025-07-13T04:59:17.203392Z",
     "shell.execute_reply": "2025-07-13T04:59:17.202346Z"
    },
    "papermill": {
     "duration": 0.016979,
     "end_time": "2025-07-13T04:59:17.205116",
     "exception": false,
     "start_time": "2025-07-13T04:59:17.188137",
     "status": "completed"
    },
    "tags": []
   },
   "outputs": [],
   "source": [
    "# user_data = user_data.sample(n=10000, random_state=42)"
   ]
  },
  {
   "cell_type": "code",
   "execution_count": 17,
   "id": "fe536c3b",
   "metadata": {
    "execution": {
     "iopub.execute_input": "2025-07-13T04:59:17.226142Z",
     "iopub.status.busy": "2025-07-13T04:59:17.225741Z",
     "iopub.status.idle": "2025-07-13T04:59:18.023472Z",
     "shell.execute_reply": "2025-07-13T04:59:18.022383Z"
    },
    "papermill": {
     "duration": 0.810384,
     "end_time": "2025-07-13T04:59:18.025449",
     "exception": false,
     "start_time": "2025-07-13T04:59:17.215065",
     "status": "completed"
    },
    "tags": []
   },
   "outputs": [
    {
     "data": {
      "text/html": [
       "<div>\n",
       "<style scoped>\n",
       "    .dataframe tbody tr th:only-of-type {\n",
       "        vertical-align: middle;\n",
       "    }\n",
       "\n",
       "    .dataframe tbody tr th {\n",
       "        vertical-align: top;\n",
       "    }\n",
       "\n",
       "    .dataframe thead th {\n",
       "        text-align: right;\n",
       "    }\n",
       "</style>\n",
       "<table border=\"1\" class=\"dataframe\">\n",
       "  <thead>\n",
       "    <tr style=\"text-align: right;\">\n",
       "      <th></th>\n",
       "      <th>user_id</th>\n",
       "      <th>course_id</th>\n",
       "      <th>enroll_time</th>\n",
       "    </tr>\n",
       "  </thead>\n",
       "  <tbody>\n",
       "    <tr>\n",
       "      <th>37</th>\n",
       "      <td>U_54</td>\n",
       "      <td>C_682442</td>\n",
       "      <td>1570587469</td>\n",
       "    </tr>\n",
       "    <tr>\n",
       "      <th>38</th>\n",
       "      <td>U_54</td>\n",
       "      <td>C_1748240</td>\n",
       "      <td>1586941976</td>\n",
       "    </tr>\n",
       "    <tr>\n",
       "      <th>39</th>\n",
       "      <td>U_54</td>\n",
       "      <td>C_1794464</td>\n",
       "      <td>1591966731</td>\n",
       "    </tr>\n",
       "    <tr>\n",
       "      <th>40</th>\n",
       "      <td>U_54</td>\n",
       "      <td>C_697791</td>\n",
       "      <td>1592061292</td>\n",
       "    </tr>\n",
       "    <tr>\n",
       "      <th>41</th>\n",
       "      <td>U_54</td>\n",
       "      <td>C_1793742</td>\n",
       "      <td>1592062158</td>\n",
       "    </tr>\n",
       "    <tr>\n",
       "      <th>...</th>\n",
       "      <td>...</td>\n",
       "      <td>...</td>\n",
       "      <td>...</td>\n",
       "    </tr>\n",
       "    <tr>\n",
       "      <th>7284489</th>\n",
       "      <td>U_34712103</td>\n",
       "      <td>C_680991</td>\n",
       "      <td>1602473442</td>\n",
       "    </tr>\n",
       "    <tr>\n",
       "      <th>7284490</th>\n",
       "      <td>U_34712103</td>\n",
       "      <td>C_735296</td>\n",
       "      <td>1602590307</td>\n",
       "    </tr>\n",
       "    <tr>\n",
       "      <th>7284491</th>\n",
       "      <td>U_34712103</td>\n",
       "      <td>C_677093</td>\n",
       "      <td>1602594530</td>\n",
       "    </tr>\n",
       "    <tr>\n",
       "      <th>7284492</th>\n",
       "      <td>U_34712103</td>\n",
       "      <td>C_854843</td>\n",
       "      <td>1602709450</td>\n",
       "    </tr>\n",
       "    <tr>\n",
       "      <th>7284493</th>\n",
       "      <td>U_34712103</td>\n",
       "      <td>C_866769</td>\n",
       "      <td>1602805225</td>\n",
       "    </tr>\n",
       "  </tbody>\n",
       "</table>\n",
       "<p>335586 rows × 3 columns</p>\n",
       "</div>"
      ],
      "text/plain": [
       "            user_id  course_id  enroll_time\n",
       "37             U_54   C_682442   1570587469\n",
       "38             U_54  C_1748240   1586941976\n",
       "39             U_54  C_1794464   1591966731\n",
       "40             U_54   C_697791   1592061292\n",
       "41             U_54  C_1793742   1592062158\n",
       "...             ...        ...          ...\n",
       "7284489  U_34712103   C_680991   1602473442\n",
       "7284490  U_34712103   C_735296   1602590307\n",
       "7284491  U_34712103   C_677093   1602594530\n",
       "7284492  U_34712103   C_854843   1602709450\n",
       "7284493  U_34712103   C_866769   1602805225\n",
       "\n",
       "[335586 rows x 3 columns]"
      ]
     },
     "execution_count": 17,
     "metadata": {},
     "output_type": "execute_result"
    }
   ],
   "source": [
    "user_course_filtered = user_item_data[user_item_data[\"user_id\"].isin(user_data[\"user_id\"])]\n",
    "user_course_filtered = user_course_filtered[user_course_filtered[\"course_id\"].isin(item_data[\"course_id\"])]\n",
    "user_course_filtered"
   ]
  },
  {
   "cell_type": "code",
   "execution_count": 18,
   "id": "eb9fb274",
   "metadata": {
    "execution": {
     "iopub.execute_input": "2025-07-13T04:59:18.046979Z",
     "iopub.status.busy": "2025-07-13T04:59:18.046604Z",
     "iopub.status.idle": "2025-07-13T04:59:18.051311Z",
     "shell.execute_reply": "2025-07-13T04:59:18.050382Z"
    },
    "papermill": {
     "duration": 0.016909,
     "end_time": "2025-07-13T04:59:18.052741",
     "exception": false,
     "start_time": "2025-07-13T04:59:18.035832",
     "status": "completed"
    },
    "tags": []
   },
   "outputs": [],
   "source": [
    "def split_data(data):\n",
    "    data.rename(columns={\"course_id\": \"item\",\"user_id\":\"user\",\"enroll_time\":\"time\"}, inplace=True)\n",
    "    train_data, test_data = split_by_num_chrono(data, test_size=1)\n",
    "    return train_data,test_data"
   ]
  },
  {
   "cell_type": "code",
   "execution_count": 19,
   "id": "7777f11f",
   "metadata": {
    "execution": {
     "iopub.execute_input": "2025-07-13T04:59:18.073988Z",
     "iopub.status.busy": "2025-07-13T04:59:18.073569Z",
     "iopub.status.idle": "2025-07-13T04:59:18.148611Z",
     "shell.execute_reply": "2025-07-13T04:59:18.147615Z"
    },
    "papermill": {
     "duration": 0.087812,
     "end_time": "2025-07-13T04:59:18.150646",
     "exception": false,
     "start_time": "2025-07-13T04:59:18.062834",
     "status": "completed"
    },
    "tags": []
   },
   "outputs": [],
   "source": [
    "data = user_course_filtered.merge(user_data.rename(columns={\"id\":\"user_id\"}), on='user_id', how='inner')\n",
    "data['label'] = 1"
   ]
  },
  {
   "cell_type": "code",
   "execution_count": 20,
   "id": "16cbe309",
   "metadata": {
    "execution": {
     "iopub.execute_input": "2025-07-13T04:59:18.172136Z",
     "iopub.status.busy": "2025-07-13T04:59:18.171747Z",
     "iopub.status.idle": "2025-07-13T04:59:18.197793Z",
     "shell.execute_reply": "2025-07-13T04:59:18.196783Z"
    },
    "papermill": {
     "duration": 0.038588,
     "end_time": "2025-07-13T04:59:18.199390",
     "exception": false,
     "start_time": "2025-07-13T04:59:18.160802",
     "status": "completed"
    },
    "tags": []
   },
   "outputs": [
    {
     "data": {
      "text/html": [
       "<div>\n",
       "<style scoped>\n",
       "    .dataframe tbody tr th:only-of-type {\n",
       "        vertical-align: middle;\n",
       "    }\n",
       "\n",
       "    .dataframe tbody tr th {\n",
       "        vertical-align: top;\n",
       "    }\n",
       "\n",
       "    .dataframe thead th {\n",
       "        text-align: right;\n",
       "    }\n",
       "</style>\n",
       "<table border=\"1\" class=\"dataframe\">\n",
       "  <thead>\n",
       "    <tr style=\"text-align: right;\">\n",
       "      <th></th>\n",
       "      <th>user_id</th>\n",
       "      <th>course_id</th>\n",
       "      <th>enroll_time</th>\n",
       "      <th>user_gender</th>\n",
       "      <th>label</th>\n",
       "    </tr>\n",
       "  </thead>\n",
       "  <tbody>\n",
       "    <tr>\n",
       "      <th>0</th>\n",
       "      <td>U_54</td>\n",
       "      <td>C_682442</td>\n",
       "      <td>1570587469</td>\n",
       "      <td>2</td>\n",
       "      <td>1</td>\n",
       "    </tr>\n",
       "    <tr>\n",
       "      <th>1</th>\n",
       "      <td>U_54</td>\n",
       "      <td>C_1748240</td>\n",
       "      <td>1586941976</td>\n",
       "      <td>2</td>\n",
       "      <td>1</td>\n",
       "    </tr>\n",
       "    <tr>\n",
       "      <th>2</th>\n",
       "      <td>U_54</td>\n",
       "      <td>C_1794464</td>\n",
       "      <td>1591966731</td>\n",
       "      <td>2</td>\n",
       "      <td>1</td>\n",
       "    </tr>\n",
       "    <tr>\n",
       "      <th>3</th>\n",
       "      <td>U_54</td>\n",
       "      <td>C_697791</td>\n",
       "      <td>1592061292</td>\n",
       "      <td>2</td>\n",
       "      <td>1</td>\n",
       "    </tr>\n",
       "    <tr>\n",
       "      <th>4</th>\n",
       "      <td>U_54</td>\n",
       "      <td>C_1793742</td>\n",
       "      <td>1592062158</td>\n",
       "      <td>2</td>\n",
       "      <td>1</td>\n",
       "    </tr>\n",
       "    <tr>\n",
       "      <th>...</th>\n",
       "      <td>...</td>\n",
       "      <td>...</td>\n",
       "      <td>...</td>\n",
       "      <td>...</td>\n",
       "      <td>...</td>\n",
       "    </tr>\n",
       "    <tr>\n",
       "      <th>335581</th>\n",
       "      <td>U_34712103</td>\n",
       "      <td>C_680991</td>\n",
       "      <td>1602473442</td>\n",
       "      <td>1</td>\n",
       "      <td>1</td>\n",
       "    </tr>\n",
       "    <tr>\n",
       "      <th>335582</th>\n",
       "      <td>U_34712103</td>\n",
       "      <td>C_735296</td>\n",
       "      <td>1602590307</td>\n",
       "      <td>1</td>\n",
       "      <td>1</td>\n",
       "    </tr>\n",
       "    <tr>\n",
       "      <th>335583</th>\n",
       "      <td>U_34712103</td>\n",
       "      <td>C_677093</td>\n",
       "      <td>1602594530</td>\n",
       "      <td>1</td>\n",
       "      <td>1</td>\n",
       "    </tr>\n",
       "    <tr>\n",
       "      <th>335584</th>\n",
       "      <td>U_34712103</td>\n",
       "      <td>C_854843</td>\n",
       "      <td>1602709450</td>\n",
       "      <td>1</td>\n",
       "      <td>1</td>\n",
       "    </tr>\n",
       "    <tr>\n",
       "      <th>335585</th>\n",
       "      <td>U_34712103</td>\n",
       "      <td>C_866769</td>\n",
       "      <td>1602805225</td>\n",
       "      <td>1</td>\n",
       "      <td>1</td>\n",
       "    </tr>\n",
       "  </tbody>\n",
       "</table>\n",
       "<p>335586 rows × 5 columns</p>\n",
       "</div>"
      ],
      "text/plain": [
       "           user_id  course_id  enroll_time  user_gender  label\n",
       "0             U_54   C_682442   1570587469            2      1\n",
       "1             U_54  C_1748240   1586941976            2      1\n",
       "2             U_54  C_1794464   1591966731            2      1\n",
       "3             U_54   C_697791   1592061292            2      1\n",
       "4             U_54  C_1793742   1592062158            2      1\n",
       "...            ...        ...          ...          ...    ...\n",
       "335581  U_34712103   C_680991   1602473442            1      1\n",
       "335582  U_34712103   C_735296   1602590307            1      1\n",
       "335583  U_34712103   C_677093   1602594530            1      1\n",
       "335584  U_34712103   C_854843   1602709450            1      1\n",
       "335585  U_34712103   C_866769   1602805225            1      1\n",
       "\n",
       "[335586 rows x 5 columns]"
      ]
     },
     "execution_count": 20,
     "metadata": {},
     "output_type": "execute_result"
    }
   ],
   "source": [
    "data=data.drop('index',axis=1)\n",
    "data"
   ]
  },
  {
   "cell_type": "code",
   "execution_count": 21,
   "id": "1cf633fd",
   "metadata": {
    "execution": {
     "iopub.execute_input": "2025-07-13T04:59:18.221465Z",
     "iopub.status.busy": "2025-07-13T04:59:18.221097Z",
     "iopub.status.idle": "2025-07-13T04:59:18.240405Z",
     "shell.execute_reply": "2025-07-13T04:59:18.239372Z"
    },
    "papermill": {
     "duration": 0.032349,
     "end_time": "2025-07-13T04:59:18.242144",
     "exception": false,
     "start_time": "2025-07-13T04:59:18.209795",
     "status": "completed"
    },
    "tags": []
   },
   "outputs": [
    {
     "data": {
      "text/html": [
       "<div>\n",
       "<style scoped>\n",
       "    .dataframe tbody tr th:only-of-type {\n",
       "        vertical-align: middle;\n",
       "    }\n",
       "\n",
       "    .dataframe tbody tr th {\n",
       "        vertical-align: top;\n",
       "    }\n",
       "\n",
       "    .dataframe thead th {\n",
       "        text-align: right;\n",
       "    }\n",
       "</style>\n",
       "<table border=\"1\" class=\"dataframe\">\n",
       "  <thead>\n",
       "    <tr style=\"text-align: right;\">\n",
       "      <th></th>\n",
       "      <th>course_id</th>\n",
       "      <th>course_text</th>\n",
       "      <th>total_video_duration</th>\n",
       "      <th>total_num_problem</th>\n",
       "      <th>num_videos</th>\n",
       "      <th>num_exercises</th>\n",
       "      <th>num_teachers</th>\n",
       "      <th>teacher_id</th>\n",
       "      <th>num_schools</th>\n",
       "      <th>school_id_1</th>\n",
       "      <th>school_id_2</th>\n",
       "      <th>course_total_comments</th>\n",
       "    </tr>\n",
       "  </thead>\n",
       "  <tbody>\n",
       "    <tr>\n",
       "      <th>0</th>\n",
       "      <td>C_1017355</td>\n",
       "      <td>introduction to traditional chinese medicine e...</td>\n",
       "      <td>0.000</td>\n",
       "      <td>109</td>\n",
       "      <td>0</td>\n",
       "      <td>19</td>\n",
       "      <td>5</td>\n",
       "      <td>T_7970</td>\n",
       "      <td>1</td>\n",
       "      <td>S_33</td>\n",
       "      <td>missing</td>\n",
       "      <td>39624</td>\n",
       "    </tr>\n",
       "    <tr>\n",
       "      <th>1</th>\n",
       "      <td>C_1017419</td>\n",
       "      <td>smart government talk  this course combines sp...</td>\n",
       "      <td>0.000</td>\n",
       "      <td>141</td>\n",
       "      <td>0</td>\n",
       "      <td>9</td>\n",
       "      <td>8</td>\n",
       "      <td>T_7849</td>\n",
       "      <td>1</td>\n",
       "      <td>S_52</td>\n",
       "      <td>missing</td>\n",
       "      <td>609</td>\n",
       "    </tr>\n",
       "    <tr>\n",
       "      <th>2</th>\n",
       "      <td>C_1025064</td>\n",
       "      <td>principles of ideological and political educat...</td>\n",
       "      <td>55868.953</td>\n",
       "      <td>140</td>\n",
       "      <td>88</td>\n",
       "      <td>14</td>\n",
       "      <td>5</td>\n",
       "      <td>T_3915</td>\n",
       "      <td>1</td>\n",
       "      <td>S_13</td>\n",
       "      <td>missing</td>\n",
       "      <td>696</td>\n",
       "    </tr>\n",
       "    <tr>\n",
       "      <th>3</th>\n",
       "      <td>C_1025076</td>\n",
       "      <td>advanced roller skating tutorial  the true mea...</td>\n",
       "      <td>0.000</td>\n",
       "      <td>18</td>\n",
       "      <td>0</td>\n",
       "      <td>4</td>\n",
       "      <td>1</td>\n",
       "      <td>T_5394</td>\n",
       "      <td>1</td>\n",
       "      <td>S_72</td>\n",
       "      <td>missing</td>\n",
       "      <td>2</td>\n",
       "    </tr>\n",
       "    <tr>\n",
       "      <th>4</th>\n",
       "      <td>C_1025079</td>\n",
       "      <td>scientific fitness method-silk-winding fitness...</td>\n",
       "      <td>20714.190</td>\n",
       "      <td>25</td>\n",
       "      <td>28</td>\n",
       "      <td>5</td>\n",
       "      <td>1</td>\n",
       "      <td>T_7939</td>\n",
       "      <td>1</td>\n",
       "      <td>S_97</td>\n",
       "      <td>missing</td>\n",
       "      <td>125</td>\n",
       "    </tr>\n",
       "    <tr>\n",
       "      <th>...</th>\n",
       "      <td>...</td>\n",
       "      <td>...</td>\n",
       "      <td>...</td>\n",
       "      <td>...</td>\n",
       "      <td>...</td>\n",
       "      <td>...</td>\n",
       "      <td>...</td>\n",
       "      <td>...</td>\n",
       "      <td>...</td>\n",
       "      <td>...</td>\n",
       "      <td>...</td>\n",
       "      <td>...</td>\n",
       "    </tr>\n",
       "    <tr>\n",
       "      <th>2761</th>\n",
       "      <td>C_949542</td>\n",
       "      <td>thinking innovation and creativity development...</td>\n",
       "      <td>22184.031</td>\n",
       "      <td>247</td>\n",
       "      <td>33</td>\n",
       "      <td>31</td>\n",
       "      <td>10</td>\n",
       "      <td>T_7389</td>\n",
       "      <td>1</td>\n",
       "      <td>S_749</td>\n",
       "      <td>missing</td>\n",
       "      <td>839</td>\n",
       "    </tr>\n",
       "    <tr>\n",
       "      <th>2762</th>\n",
       "      <td>C_955163</td>\n",
       "      <td>learn to make mini programs - practical chapte...</td>\n",
       "      <td>56372.024</td>\n",
       "      <td>61</td>\n",
       "      <td>100</td>\n",
       "      <td>7</td>\n",
       "      <td>4</td>\n",
       "      <td>T_172</td>\n",
       "      <td>1</td>\n",
       "      <td>S_1</td>\n",
       "      <td>missing</td>\n",
       "      <td>305</td>\n",
       "    </tr>\n",
       "    <tr>\n",
       "      <th>2763</th>\n",
       "      <td>C_956128</td>\n",
       "      <td>interpretation of hot issues of portal hyperte...</td>\n",
       "      <td>0.000</td>\n",
       "      <td>105</td>\n",
       "      <td>0</td>\n",
       "      <td>7</td>\n",
       "      <td>3</td>\n",
       "      <td>T_7005</td>\n",
       "      <td>1</td>\n",
       "      <td>S_144</td>\n",
       "      <td>missing</td>\n",
       "      <td>0</td>\n",
       "    </tr>\n",
       "    <tr>\n",
       "      <th>2764</th>\n",
       "      <td>C_956129</td>\n",
       "      <td>introduction to games and esports none the gam...</td>\n",
       "      <td>34165.387</td>\n",
       "      <td>145</td>\n",
       "      <td>70</td>\n",
       "      <td>23</td>\n",
       "      <td>4</td>\n",
       "      <td>T_4850</td>\n",
       "      <td>1</td>\n",
       "      <td>S_492</td>\n",
       "      <td>missing</td>\n",
       "      <td>1597</td>\n",
       "    </tr>\n",
       "    <tr>\n",
       "      <th>2765</th>\n",
       "      <td>C_956130</td>\n",
       "      <td>multimedia technology and application none thi...</td>\n",
       "      <td>0.000</td>\n",
       "      <td>174</td>\n",
       "      <td>0</td>\n",
       "      <td>15</td>\n",
       "      <td>3</td>\n",
       "      <td>T_7457</td>\n",
       "      <td>1</td>\n",
       "      <td>S_11</td>\n",
       "      <td>missing</td>\n",
       "      <td>3</td>\n",
       "    </tr>\n",
       "  </tbody>\n",
       "</table>\n",
       "<p>2766 rows × 12 columns</p>\n",
       "</div>"
      ],
      "text/plain": [
       "      course_id                                        course_text  \\\n",
       "0     C_1017355  introduction to traditional chinese medicine e...   \n",
       "1     C_1017419  smart government talk  this course combines sp...   \n",
       "2     C_1025064  principles of ideological and political educat...   \n",
       "3     C_1025076  advanced roller skating tutorial  the true mea...   \n",
       "4     C_1025079  scientific fitness method-silk-winding fitness...   \n",
       "...         ...                                                ...   \n",
       "2761   C_949542  thinking innovation and creativity development...   \n",
       "2762   C_955163  learn to make mini programs - practical chapte...   \n",
       "2763   C_956128  interpretation of hot issues of portal hyperte...   \n",
       "2764   C_956129  introduction to games and esports none the gam...   \n",
       "2765   C_956130  multimedia technology and application none thi...   \n",
       "\n",
       "      total_video_duration  total_num_problem  num_videos  num_exercises  \\\n",
       "0                    0.000                109           0             19   \n",
       "1                    0.000                141           0              9   \n",
       "2                55868.953                140          88             14   \n",
       "3                    0.000                 18           0              4   \n",
       "4                20714.190                 25          28              5   \n",
       "...                    ...                ...         ...            ...   \n",
       "2761             22184.031                247          33             31   \n",
       "2762             56372.024                 61         100              7   \n",
       "2763                 0.000                105           0              7   \n",
       "2764             34165.387                145          70             23   \n",
       "2765                 0.000                174           0             15   \n",
       "\n",
       "      num_teachers teacher_id  num_schools school_id_1 school_id_2  \\\n",
       "0                5     T_7970            1        S_33     missing   \n",
       "1                8     T_7849            1        S_52     missing   \n",
       "2                5     T_3915            1        S_13     missing   \n",
       "3                1     T_5394            1        S_72     missing   \n",
       "4                1     T_7939            1        S_97     missing   \n",
       "...            ...        ...          ...         ...         ...   \n",
       "2761            10     T_7389            1       S_749     missing   \n",
       "2762             4      T_172            1         S_1     missing   \n",
       "2763             3     T_7005            1       S_144     missing   \n",
       "2764             4     T_4850            1       S_492     missing   \n",
       "2765             3     T_7457            1        S_11     missing   \n",
       "\n",
       "      course_total_comments  \n",
       "0                     39624  \n",
       "1                       609  \n",
       "2                       696  \n",
       "3                         2  \n",
       "4                       125  \n",
       "...                     ...  \n",
       "2761                    839  \n",
       "2762                    305  \n",
       "2763                      0  \n",
       "2764                   1597  \n",
       "2765                      3  \n",
       "\n",
       "[2766 rows x 12 columns]"
      ]
     },
     "execution_count": 21,
     "metadata": {},
     "output_type": "execute_result"
    }
   ],
   "source": [
    "item_data"
   ]
  },
  {
   "cell_type": "code",
   "execution_count": 22,
   "id": "bffaa15e",
   "metadata": {
    "execution": {
     "iopub.execute_input": "2025-07-13T04:59:18.264836Z",
     "iopub.status.busy": "2025-07-13T04:59:18.264459Z",
     "iopub.status.idle": "2025-07-13T04:59:18.852756Z",
     "shell.execute_reply": "2025-07-13T04:59:18.851599Z"
    },
    "papermill": {
     "duration": 0.601534,
     "end_time": "2025-07-13T04:59:18.854606",
     "exception": false,
     "start_time": "2025-07-13T04:59:18.253072",
     "status": "completed"
    },
    "tags": []
   },
   "outputs": [
    {
     "data": {
      "text/plain": [
       "Index(['course_id', 'course_text', 'total_video_duration', 'total_num_problem',\n",
       "       'num_videos', 'num_exercises', 'num_teachers', 'teacher_id',\n",
       "       'num_schools', 'school_id_1', 'school_id_2', 'course_total_comments',\n",
       "       'course_text_1', 'course_text_2', 'course_text_3', 'course_text_4',\n",
       "       'course_text_5', 'course_text_6', 'course_text_7', 'course_text_8',\n",
       "       'course_text_9', 'course_text_10', 'course_text_11', 'course_text_12',\n",
       "       'course_text_13', 'course_text_14', 'course_text_15', 'course_text_16',\n",
       "       'course_text_17', 'course_text_18', 'course_text_19', 'course_text_20',\n",
       "       'course_text_21', 'course_text_22', 'course_text_23', 'course_text_24',\n",
       "       'course_text_25', 'course_text_26', 'course_text_27', 'course_text_28',\n",
       "       'course_text_29', 'course_text_30'],\n",
       "      dtype='object')"
      ]
     },
     "execution_count": 22,
     "metadata": {},
     "output_type": "execute_result"
    }
   ],
   "source": [
    "from sklearn.feature_extraction.text import TfidfVectorizer\n",
    "import pandas as pd\n",
    "\n",
    "\n",
    "# Vectorizer\n",
    "vectorizer = TfidfVectorizer(            \n",
    "            max_features=30,\n",
    "            stop_words='english',\n",
    "            ngram_range=(1, 2))\n",
    "vectorized_data = vectorizer.fit_transform(item_data['course_text'])\n",
    "feature_names = [f'course_text_{i+1}' for i in range(len(vectorizer.get_feature_names_out()))]\n",
    "\n",
    "# Chuyển thành DataFrame\n",
    "tfidf_df = pd.DataFrame(vectorized_data.toarray(), columns=feature_names)\n",
    "\n",
    "# Gộp vào DataFrame gốc\n",
    "item_vec = item_data.join(tfidf_df)\n",
    "item_vec.columns"
   ]
  },
  {
   "cell_type": "code",
   "execution_count": 23,
   "id": "bc31393b",
   "metadata": {
    "execution": {
     "iopub.execute_input": "2025-07-13T04:59:18.877911Z",
     "iopub.status.busy": "2025-07-13T04:59:18.877507Z",
     "iopub.status.idle": "2025-07-13T04:59:18.882327Z",
     "shell.execute_reply": "2025-07-13T04:59:18.881274Z"
    },
    "papermill": {
     "duration": 0.018158,
     "end_time": "2025-07-13T04:59:18.883984",
     "exception": false,
     "start_time": "2025-07-13T04:59:18.865826",
     "status": "completed"
    },
    "tags": []
   },
   "outputs": [],
   "source": [
    "item_cols = list(item_vec.columns.drop(['course_id', 'course_text']))"
   ]
  },
  {
   "cell_type": "code",
   "execution_count": 24,
   "id": "d2448c20",
   "metadata": {
    "execution": {
     "iopub.execute_input": "2025-07-13T04:59:18.906561Z",
     "iopub.status.busy": "2025-07-13T04:59:18.906221Z",
     "iopub.status.idle": "2025-07-13T04:59:19.680625Z",
     "shell.execute_reply": "2025-07-13T04:59:19.679684Z"
    },
    "papermill": {
     "duration": 0.787666,
     "end_time": "2025-07-13T04:59:19.682460",
     "exception": false,
     "start_time": "2025-07-13T04:59:18.894794",
     "status": "completed"
    },
    "tags": []
   },
   "outputs": [],
   "source": [
    "train, test = split_data(data)"
   ]
  },
  {
   "cell_type": "code",
   "execution_count": 25,
   "id": "4cb075b4",
   "metadata": {
    "execution": {
     "iopub.execute_input": "2025-07-13T04:59:19.706205Z",
     "iopub.status.busy": "2025-07-13T04:59:19.705870Z",
     "iopub.status.idle": "2025-07-13T04:59:19.716674Z",
     "shell.execute_reply": "2025-07-13T04:59:19.715786Z"
    },
    "papermill": {
     "duration": 0.024697,
     "end_time": "2025-07-13T04:59:19.718377",
     "exception": false,
     "start_time": "2025-07-13T04:59:19.693680",
     "status": "completed"
    },
    "tags": []
   },
   "outputs": [
    {
     "data": {
      "text/html": [
       "<div>\n",
       "<style scoped>\n",
       "    .dataframe tbody tr th:only-of-type {\n",
       "        vertical-align: middle;\n",
       "    }\n",
       "\n",
       "    .dataframe tbody tr th {\n",
       "        vertical-align: top;\n",
       "    }\n",
       "\n",
       "    .dataframe thead th {\n",
       "        text-align: right;\n",
       "    }\n",
       "</style>\n",
       "<table border=\"1\" class=\"dataframe\">\n",
       "  <thead>\n",
       "    <tr style=\"text-align: right;\">\n",
       "      <th></th>\n",
       "      <th>user</th>\n",
       "      <th>item</th>\n",
       "      <th>time</th>\n",
       "      <th>user_gender</th>\n",
       "      <th>label</th>\n",
       "    </tr>\n",
       "  </thead>\n",
       "  <tbody>\n",
       "    <tr>\n",
       "      <th>78810</th>\n",
       "      <td>U_100090</td>\n",
       "      <td>C_707022</td>\n",
       "      <td>1583235350</td>\n",
       "      <td>0</td>\n",
       "      <td>1</td>\n",
       "    </tr>\n",
       "    <tr>\n",
       "      <th>85316</th>\n",
       "      <td>U_100090</td>\n",
       "      <td>C_676687</td>\n",
       "      <td>1583752556</td>\n",
       "      <td>0</td>\n",
       "      <td>1</td>\n",
       "    </tr>\n",
       "    <tr>\n",
       "      <th>97314</th>\n",
       "      <td>U_100090</td>\n",
       "      <td>C_697073</td>\n",
       "      <td>1584917895</td>\n",
       "      <td>0</td>\n",
       "      <td>1</td>\n",
       "    </tr>\n",
       "    <tr>\n",
       "      <th>97319</th>\n",
       "      <td>U_100090</td>\n",
       "      <td>C_948038</td>\n",
       "      <td>1584918145</td>\n",
       "      <td>0</td>\n",
       "      <td>1</td>\n",
       "    </tr>\n",
       "    <tr>\n",
       "      <th>97323</th>\n",
       "      <td>U_100090</td>\n",
       "      <td>C_680716</td>\n",
       "      <td>1584918197</td>\n",
       "      <td>0</td>\n",
       "      <td>1</td>\n",
       "    </tr>\n",
       "    <tr>\n",
       "      <th>...</th>\n",
       "      <td>...</td>\n",
       "      <td>...</td>\n",
       "      <td>...</td>\n",
       "      <td>...</td>\n",
       "      <td>...</td>\n",
       "    </tr>\n",
       "    <tr>\n",
       "      <th>305487</th>\n",
       "      <td>U_997506</td>\n",
       "      <td>C_735239</td>\n",
       "      <td>1603116374</td>\n",
       "      <td>1</td>\n",
       "      <td>1</td>\n",
       "    </tr>\n",
       "    <tr>\n",
       "      <th>322637</th>\n",
       "      <td>U_997506</td>\n",
       "      <td>C_2095102</td>\n",
       "      <td>1605299197</td>\n",
       "      <td>1</td>\n",
       "      <td>1</td>\n",
       "    </tr>\n",
       "    <tr>\n",
       "      <th>331301</th>\n",
       "      <td>U_997506</td>\n",
       "      <td>C_682379</td>\n",
       "      <td>1606690104</td>\n",
       "      <td>1</td>\n",
       "      <td>1</td>\n",
       "    </tr>\n",
       "    <tr>\n",
       "      <th>331302</th>\n",
       "      <td>U_997506</td>\n",
       "      <td>C_696554</td>\n",
       "      <td>1606690121</td>\n",
       "      <td>1</td>\n",
       "      <td>1</td>\n",
       "    </tr>\n",
       "    <tr>\n",
       "      <th>331437</th>\n",
       "      <td>U_997506</td>\n",
       "      <td>C_696673</td>\n",
       "      <td>1606727242</td>\n",
       "      <td>1</td>\n",
       "      <td>1</td>\n",
       "    </tr>\n",
       "  </tbody>\n",
       "</table>\n",
       "<p>311496 rows × 5 columns</p>\n",
       "</div>"
      ],
      "text/plain": [
       "            user       item        time  user_gender  label\n",
       "78810   U_100090   C_707022  1583235350            0      1\n",
       "85316   U_100090   C_676687  1583752556            0      1\n",
       "97314   U_100090   C_697073  1584917895            0      1\n",
       "97319   U_100090   C_948038  1584918145            0      1\n",
       "97323   U_100090   C_680716  1584918197            0      1\n",
       "...          ...        ...         ...          ...    ...\n",
       "305487  U_997506   C_735239  1603116374            1      1\n",
       "322637  U_997506  C_2095102  1605299197            1      1\n",
       "331301  U_997506   C_682379  1606690104            1      1\n",
       "331302  U_997506   C_696554  1606690121            1      1\n",
       "331437  U_997506   C_696673  1606727242            1      1\n",
       "\n",
       "[311496 rows x 5 columns]"
      ]
     },
     "execution_count": 25,
     "metadata": {},
     "output_type": "execute_result"
    }
   ],
   "source": [
    "train"
   ]
  },
  {
   "cell_type": "code",
   "execution_count": 26,
   "id": "a38783d0",
   "metadata": {
    "execution": {
     "iopub.execute_input": "2025-07-13T04:59:19.741234Z",
     "iopub.status.busy": "2025-07-13T04:59:19.740899Z",
     "iopub.status.idle": "2025-07-13T04:59:19.751540Z",
     "shell.execute_reply": "2025-07-13T04:59:19.750693Z"
    },
    "papermill": {
     "duration": 0.023634,
     "end_time": "2025-07-13T04:59:19.752918",
     "exception": false,
     "start_time": "2025-07-13T04:59:19.729284",
     "status": "completed"
    },
    "tags": []
   },
   "outputs": [
    {
     "data": {
      "text/html": [
       "<div>\n",
       "<style scoped>\n",
       "    .dataframe tbody tr th:only-of-type {\n",
       "        vertical-align: middle;\n",
       "    }\n",
       "\n",
       "    .dataframe tbody tr th {\n",
       "        vertical-align: top;\n",
       "    }\n",
       "\n",
       "    .dataframe thead th {\n",
       "        text-align: right;\n",
       "    }\n",
       "</style>\n",
       "<table border=\"1\" class=\"dataframe\">\n",
       "  <thead>\n",
       "    <tr style=\"text-align: right;\">\n",
       "      <th></th>\n",
       "      <th>user</th>\n",
       "      <th>item</th>\n",
       "      <th>time</th>\n",
       "      <th>user_gender</th>\n",
       "      <th>label</th>\n",
       "    </tr>\n",
       "  </thead>\n",
       "  <tbody>\n",
       "    <tr>\n",
       "      <th>277567</th>\n",
       "      <td>U_100090</td>\n",
       "      <td>C_1755921</td>\n",
       "      <td>1600725730</td>\n",
       "      <td>0</td>\n",
       "      <td>1</td>\n",
       "    </tr>\n",
       "    <tr>\n",
       "      <th>318717</th>\n",
       "      <td>U_1002476</td>\n",
       "      <td>C_682463</td>\n",
       "      <td>1604703719</td>\n",
       "      <td>1</td>\n",
       "      <td>1</td>\n",
       "    </tr>\n",
       "    <tr>\n",
       "      <th>314147</th>\n",
       "      <td>U_100281</td>\n",
       "      <td>C_948078</td>\n",
       "      <td>1604091834</td>\n",
       "      <td>0</td>\n",
       "      <td>1</td>\n",
       "    </tr>\n",
       "    <tr>\n",
       "      <th>243074</th>\n",
       "      <td>U_10033817</td>\n",
       "      <td>C_677049</td>\n",
       "      <td>1598352038</td>\n",
       "      <td>0</td>\n",
       "      <td>1</td>\n",
       "    </tr>\n",
       "    <tr>\n",
       "      <th>203928</th>\n",
       "      <td>U_10033948</td>\n",
       "      <td>C_1822804</td>\n",
       "      <td>1595283089</td>\n",
       "      <td>2</td>\n",
       "      <td>1</td>\n",
       "    </tr>\n",
       "    <tr>\n",
       "      <th>...</th>\n",
       "      <td>...</td>\n",
       "      <td>...</td>\n",
       "      <td>...</td>\n",
       "      <td>...</td>\n",
       "      <td>...</td>\n",
       "    </tr>\n",
       "    <tr>\n",
       "      <th>278445</th>\n",
       "      <td>U_9968019</td>\n",
       "      <td>C_677097</td>\n",
       "      <td>1600788653</td>\n",
       "      <td>0</td>\n",
       "      <td>1</td>\n",
       "    </tr>\n",
       "    <tr>\n",
       "      <th>148469</th>\n",
       "      <td>U_9969645</td>\n",
       "      <td>C_677010</td>\n",
       "      <td>1589927593</td>\n",
       "      <td>1</td>\n",
       "      <td>1</td>\n",
       "    </tr>\n",
       "    <tr>\n",
       "      <th>277343</th>\n",
       "      <td>U_99722</td>\n",
       "      <td>C_1944971</td>\n",
       "      <td>1600715669</td>\n",
       "      <td>0</td>\n",
       "      <td>1</td>\n",
       "    </tr>\n",
       "    <tr>\n",
       "      <th>295989</th>\n",
       "      <td>U_99746</td>\n",
       "      <td>C_735143</td>\n",
       "      <td>1602198978</td>\n",
       "      <td>0</td>\n",
       "      <td>1</td>\n",
       "    </tr>\n",
       "    <tr>\n",
       "      <th>331438</th>\n",
       "      <td>U_997506</td>\n",
       "      <td>C_680747</td>\n",
       "      <td>1606727332</td>\n",
       "      <td>1</td>\n",
       "      <td>1</td>\n",
       "    </tr>\n",
       "  </tbody>\n",
       "</table>\n",
       "<p>24052 rows × 5 columns</p>\n",
       "</div>"
      ],
      "text/plain": [
       "              user       item        time  user_gender  label\n",
       "277567    U_100090  C_1755921  1600725730            0      1\n",
       "318717   U_1002476   C_682463  1604703719            1      1\n",
       "314147    U_100281   C_948078  1604091834            0      1\n",
       "243074  U_10033817   C_677049  1598352038            0      1\n",
       "203928  U_10033948  C_1822804  1595283089            2      1\n",
       "...            ...        ...         ...          ...    ...\n",
       "278445   U_9968019   C_677097  1600788653            0      1\n",
       "148469   U_9969645   C_677010  1589927593            1      1\n",
       "277343     U_99722  C_1944971  1600715669            0      1\n",
       "295989     U_99746   C_735143  1602198978            0      1\n",
       "331438    U_997506   C_680747  1606727332            1      1\n",
       "\n",
       "[24052 rows x 5 columns]"
      ]
     },
     "execution_count": 26,
     "metadata": {},
     "output_type": "execute_result"
    }
   ],
   "source": [
    "test"
   ]
  },
  {
   "cell_type": "code",
   "execution_count": 27,
   "id": "49523d06",
   "metadata": {
    "execution": {
     "iopub.execute_input": "2025-07-13T04:59:19.776774Z",
     "iopub.status.busy": "2025-07-13T04:59:19.776439Z",
     "iopub.status.idle": "2025-07-13T04:59:19.953486Z",
     "shell.execute_reply": "2025-07-13T04:59:19.952386Z"
    },
    "papermill": {
     "duration": 0.191212,
     "end_time": "2025-07-13T04:59:19.955575",
     "exception": false,
     "start_time": "2025-07-13T04:59:19.764363",
     "status": "completed"
    },
    "tags": []
   },
   "outputs": [],
   "source": [
    "train = train.merge(item_vec.rename(columns={\"course_id\":\"item\"}), on='item', how='inner')\n",
    "test = test.merge(item_vec.rename(columns={\"course_id\":\"item\"}), on='item', how='inner')"
   ]
  },
  {
   "cell_type": "code",
   "execution_count": 28,
   "id": "0da6847f",
   "metadata": {
    "execution": {
     "iopub.execute_input": "2025-07-13T04:59:19.980139Z",
     "iopub.status.busy": "2025-07-13T04:59:19.979747Z",
     "iopub.status.idle": "2025-07-13T04:59:19.984137Z",
     "shell.execute_reply": "2025-07-13T04:59:19.983225Z"
    },
    "papermill": {
     "duration": 0.018208,
     "end_time": "2025-07-13T04:59:19.985656",
     "exception": false,
     "start_time": "2025-07-13T04:59:19.967448",
     "status": "completed"
    },
    "tags": []
   },
   "outputs": [],
   "source": [
    "item_cols = [x for x in item_cols if x not in ['school_id_2',\n",
    "                                               'teacher_id',\n",
    "                                               'school_id_1',\n",
    "                                               'course_total_comments',\n",
    "                                               'num_videos',\n",
    "                                               'num_exercises',\n",
    "                                               'num_school'\n",
    "                                               'num_teachers',\n",
    "                                               'total_video_duration',\n",
    "                                               'total_num_problem',\n",
    "                                              ]]"
   ]
  },
  {
   "cell_type": "code",
   "execution_count": null,
   "id": "162e3770",
   "metadata": {
    "papermill": {
     "duration": 0.010933,
     "end_time": "2025-07-13T04:59:20.009433",
     "exception": false,
     "start_time": "2025-07-13T04:59:19.998500",
     "status": "completed"
    },
    "tags": []
   },
   "outputs": [],
   "source": []
  },
  {
   "cell_type": "code",
   "execution_count": 29,
   "id": "cca919c4",
   "metadata": {
    "execution": {
     "iopub.execute_input": "2025-07-13T04:59:20.033620Z",
     "iopub.status.busy": "2025-07-13T04:59:20.033278Z",
     "iopub.status.idle": "2025-07-13T04:59:21.081802Z",
     "shell.execute_reply": "2025-07-13T04:59:21.080905Z"
    },
    "papermill": {
     "duration": 1.062618,
     "end_time": "2025-07-13T04:59:21.083743",
     "exception": false,
     "start_time": "2025-07-13T04:59:20.021125",
     "status": "completed"
    },
    "tags": []
   },
   "outputs": [],
   "source": [
    "# specify complete columns information\n",
    "sparse_col = ['user_gender',\n",
    "              # 'school_id_1',\n",
    "              # 'teacher_id'\n",
    "             ]\n",
    "dense_col = [f for f in item_cols if f not in ['school_id_1','teacher_id']]\n",
    "user_col = [\"user_gender\"]\n",
    "item_col = item_cols\n",
    "\n",
    "train_data, data_info = DatasetFeat.build_trainset(train, user_col, item_col, sparse_col, dense_col,shuffle=False)\n",
    "test_data = DatasetFeat.build_testset(test,shuffle=False)"
   ]
  },
  {
   "cell_type": "code",
   "execution_count": 30,
   "id": "34b8a51e",
   "metadata": {
    "execution": {
     "iopub.execute_input": "2025-07-13T04:59:21.107724Z",
     "iopub.status.busy": "2025-07-13T04:59:21.107350Z",
     "iopub.status.idle": "2025-07-13T04:59:21.111955Z",
     "shell.execute_reply": "2025-07-13T04:59:21.110894Z"
    },
    "papermill": {
     "duration": 0.018368,
     "end_time": "2025-07-13T04:59:21.113642",
     "exception": false,
     "start_time": "2025-07-13T04:59:21.095274",
     "status": "completed"
    },
    "tags": []
   },
   "outputs": [
    {
     "name": "stdout",
     "output_type": "stream",
     "text": [
      "n_users: 24090, n_items: 2698, data density: 0.4793 %\n"
     ]
    }
   ],
   "source": [
    "print(data_info)"
   ]
  },
  {
   "cell_type": "code",
   "execution_count": 31,
   "id": "3ce53986",
   "metadata": {
    "execution": {
     "iopub.execute_input": "2025-07-13T04:59:21.137312Z",
     "iopub.status.busy": "2025-07-13T04:59:21.136937Z",
     "iopub.status.idle": "2025-07-13T04:59:21.141163Z",
     "shell.execute_reply": "2025-07-13T04:59:21.140086Z"
    },
    "papermill": {
     "duration": 0.017925,
     "end_time": "2025-07-13T04:59:21.142899",
     "exception": false,
     "start_time": "2025-07-13T04:59:21.124974",
     "status": "completed"
    },
    "tags": []
   },
   "outputs": [],
   "source": [
    "import tensorflow as tf\n",
    "tf.compat.v1.reset_default_graph() "
   ]
  },
  {
   "cell_type": "code",
   "execution_count": 32,
   "id": "d2e16576",
   "metadata": {
    "execution": {
     "iopub.execute_input": "2025-07-13T04:59:21.166930Z",
     "iopub.status.busy": "2025-07-13T04:59:21.166540Z",
     "iopub.status.idle": "2025-07-13T06:09:54.423379Z",
     "shell.execute_reply": "2025-07-13T06:09:54.420942Z"
    },
    "papermill": {
     "duration": 4233.271564,
     "end_time": "2025-07-13T06:09:54.425694",
     "exception": false,
     "start_time": "2025-07-13T04:59:21.154130",
     "status": "completed"
    },
    "tags": []
   },
   "outputs": [
    {
     "name": "stdout",
     "output_type": "stream",
     "text": [
      "Training start time: \u001b[35m2025-07-13 04:59:21\u001b[0m\n",
      "total params: \u001b[33m538,272\u001b[0m | embedding params: \u001b[33m456,268\u001b[0m | network params: \u001b[33m82,004\u001b[0m\n"
     ]
    },
    {
     "name": "stderr",
     "output_type": "stream",
     "text": [
      "train: 100%|██████████| 305/305 [00:07<00:00, 41.44it/s]\n"
     ]
    },
    {
     "name": "stdout",
     "output_type": "stream",
     "text": [
      "Epoch 1 elapsed: 7.364s\n",
      "\t \u001b[32mtrain_loss: 0.672\u001b[0m\n"
     ]
    },
    {
     "name": "stderr",
     "output_type": "stream",
     "text": [
      "eval_listwise: 100%|██████████| 2731/2731 [01:19<00:00, 34.37it/s]\n"
     ]
    },
    {
     "name": "stdout",
     "output_type": "stream",
     "text": [
      "\t eval recall@10: 0.0201\n",
      "\t eval precision@10: 0.0020\n",
      "\t eval ndcg@10: 0.0086\n",
      "\t eval map@10: 0.0052\n",
      "==============================\n"
     ]
    },
    {
     "name": "stderr",
     "output_type": "stream",
     "text": [
      "train: 100%|██████████| 305/305 [00:07<00:00, 42.89it/s]\n"
     ]
    },
    {
     "name": "stdout",
     "output_type": "stream",
     "text": [
      "Epoch 2 elapsed: 7.114s\n",
      "\t \u001b[32mtrain_loss: 0.5395\u001b[0m\n"
     ]
    },
    {
     "name": "stderr",
     "output_type": "stream",
     "text": [
      "eval_listwise: 100%|██████████| 2731/2731 [01:19<00:00, 34.46it/s]\n"
     ]
    },
    {
     "name": "stdout",
     "output_type": "stream",
     "text": [
      "\t eval recall@10: 0.0488\n",
      "\t eval precision@10: 0.0049\n",
      "\t eval ndcg@10: 0.0228\n",
      "\t eval map@10: 0.0152\n",
      "==============================\n"
     ]
    },
    {
     "name": "stderr",
     "output_type": "stream",
     "text": [
      "train: 100%|██████████| 305/305 [00:07<00:00, 40.37it/s]\n"
     ]
    },
    {
     "name": "stdout",
     "output_type": "stream",
     "text": [
      "Epoch 3 elapsed: 7.558s\n",
      "\t \u001b[32mtrain_loss: 0.5046\u001b[0m\n"
     ]
    },
    {
     "name": "stderr",
     "output_type": "stream",
     "text": [
      "eval_listwise: 100%|██████████| 2731/2731 [01:18<00:00, 34.98it/s]\n"
     ]
    },
    {
     "name": "stdout",
     "output_type": "stream",
     "text": [
      "\t eval recall@10: 0.0474\n",
      "\t eval precision@10: 0.0047\n",
      "\t eval ndcg@10: 0.0215\n",
      "\t eval map@10: 0.0138\n",
      "==============================\n"
     ]
    },
    {
     "name": "stderr",
     "output_type": "stream",
     "text": [
      "train: 100%|██████████| 305/305 [00:07<00:00, 42.49it/s]\n"
     ]
    },
    {
     "name": "stdout",
     "output_type": "stream",
     "text": [
      "Epoch 4 elapsed: 7.180s\n",
      "\t \u001b[32mtrain_loss: 0.4982\u001b[0m\n"
     ]
    },
    {
     "name": "stderr",
     "output_type": "stream",
     "text": [
      "eval_listwise: 100%|██████████| 2731/2731 [01:15<00:00, 35.96it/s]\n"
     ]
    },
    {
     "name": "stdout",
     "output_type": "stream",
     "text": [
      "\t eval recall@10: 0.0526\n",
      "\t eval precision@10: 0.0053\n",
      "\t eval ndcg@10: 0.0230\n",
      "\t eval map@10: 0.0143\n",
      "==============================\n"
     ]
    },
    {
     "name": "stderr",
     "output_type": "stream",
     "text": [
      "train: 100%|██████████| 305/305 [00:07<00:00, 43.30it/s]\n"
     ]
    },
    {
     "name": "stdout",
     "output_type": "stream",
     "text": [
      "Epoch 5 elapsed: 7.047s\n",
      "\t \u001b[32mtrain_loss: 0.4945\u001b[0m\n"
     ]
    },
    {
     "name": "stderr",
     "output_type": "stream",
     "text": [
      "eval_listwise: 100%|██████████| 2731/2731 [01:14<00:00, 36.42it/s]\n"
     ]
    },
    {
     "name": "stdout",
     "output_type": "stream",
     "text": [
      "\t eval recall@10: 0.0524\n",
      "\t eval precision@10: 0.0052\n",
      "\t eval ndcg@10: 0.0241\n",
      "\t eval map@10: 0.0159\n",
      "==============================\n"
     ]
    },
    {
     "name": "stderr",
     "output_type": "stream",
     "text": [
      "train: 100%|██████████| 305/305 [00:07<00:00, 43.31it/s]\n"
     ]
    },
    {
     "name": "stdout",
     "output_type": "stream",
     "text": [
      "Epoch 6 elapsed: 7.045s\n",
      "\t \u001b[32mtrain_loss: 0.4907\u001b[0m\n"
     ]
    },
    {
     "name": "stderr",
     "output_type": "stream",
     "text": [
      "eval_listwise: 100%|██████████| 2731/2731 [01:29<00:00, 30.35it/s]\n"
     ]
    },
    {
     "name": "stdout",
     "output_type": "stream",
     "text": [
      "\t eval recall@10: 0.0516\n",
      "\t eval precision@10: 0.0052\n",
      "\t eval ndcg@10: 0.0235\n",
      "\t eval map@10: 0.0153\n",
      "==============================\n"
     ]
    },
    {
     "name": "stderr",
     "output_type": "stream",
     "text": [
      "train: 100%|██████████| 305/305 [00:07<00:00, 42.90it/s]\n"
     ]
    },
    {
     "name": "stdout",
     "output_type": "stream",
     "text": [
      "Epoch 7 elapsed: 7.113s\n",
      "\t \u001b[32mtrain_loss: 0.4853\u001b[0m\n"
     ]
    },
    {
     "name": "stderr",
     "output_type": "stream",
     "text": [
      "eval_listwise: 100%|██████████| 2731/2731 [01:15<00:00, 36.22it/s]\n"
     ]
    },
    {
     "name": "stdout",
     "output_type": "stream",
     "text": [
      "\t eval recall@10: 0.0525\n",
      "\t eval precision@10: 0.0052\n",
      "\t eval ndcg@10: 0.0242\n",
      "\t eval map@10: 0.0159\n",
      "==============================\n"
     ]
    },
    {
     "name": "stderr",
     "output_type": "stream",
     "text": [
      "train: 100%|██████████| 305/305 [00:07<00:00, 42.44it/s]\n"
     ]
    },
    {
     "name": "stdout",
     "output_type": "stream",
     "text": [
      "Epoch 8 elapsed: 7.192s\n",
      "\t \u001b[32mtrain_loss: 0.4765\u001b[0m\n"
     ]
    },
    {
     "name": "stderr",
     "output_type": "stream",
     "text": [
      "eval_listwise: 100%|██████████| 2731/2731 [01:14<00:00, 36.47it/s]\n"
     ]
    },
    {
     "name": "stdout",
     "output_type": "stream",
     "text": [
      "\t eval recall@10: 0.0511\n",
      "\t eval precision@10: 0.0051\n",
      "\t eval ndcg@10: 0.0232\n",
      "\t eval map@10: 0.0149\n",
      "==============================\n"
     ]
    },
    {
     "name": "stderr",
     "output_type": "stream",
     "text": [
      "train: 100%|██████████| 305/305 [00:07<00:00, 43.45it/s]\n"
     ]
    },
    {
     "name": "stdout",
     "output_type": "stream",
     "text": [
      "Epoch 9 elapsed: 7.023s\n",
      "\t \u001b[32mtrain_loss: 0.4692\u001b[0m\n"
     ]
    },
    {
     "name": "stderr",
     "output_type": "stream",
     "text": [
      "eval_listwise: 100%|██████████| 2731/2731 [01:15<00:00, 36.13it/s]\n"
     ]
    },
    {
     "name": "stdout",
     "output_type": "stream",
     "text": [
      "\t eval recall@10: 0.0507\n",
      "\t eval precision@10: 0.0051\n",
      "\t eval ndcg@10: 0.0234\n",
      "\t eval map@10: 0.0153\n",
      "==============================\n"
     ]
    },
    {
     "name": "stderr",
     "output_type": "stream",
     "text": [
      "train: 100%|██████████| 305/305 [00:07<00:00, 43.51it/s]\n"
     ]
    },
    {
     "name": "stdout",
     "output_type": "stream",
     "text": [
      "Epoch 10 elapsed: 7.013s\n",
      "\t \u001b[32mtrain_loss: 0.4586\u001b[0m\n"
     ]
    },
    {
     "name": "stderr",
     "output_type": "stream",
     "text": [
      "eval_listwise: 100%|██████████| 2731/2731 [01:14<00:00, 36.85it/s]\n"
     ]
    },
    {
     "name": "stdout",
     "output_type": "stream",
     "text": [
      "\t eval recall@10: 0.0532\n",
      "\t eval precision@10: 0.0053\n",
      "\t eval ndcg@10: 0.0240\n",
      "\t eval map@10: 0.0153\n",
      "==============================\n"
     ]
    },
    {
     "name": "stderr",
     "output_type": "stream",
     "text": [
      "train: 100%|██████████| 305/305 [00:07<00:00, 41.37it/s]\n"
     ]
    },
    {
     "name": "stdout",
     "output_type": "stream",
     "text": [
      "Epoch 11 elapsed: 7.377s\n",
      "\t \u001b[32mtrain_loss: 0.4481\u001b[0m\n"
     ]
    },
    {
     "name": "stderr",
     "output_type": "stream",
     "text": [
      "eval_listwise: 100%|██████████| 2731/2731 [01:15<00:00, 36.17it/s]\n"
     ]
    },
    {
     "name": "stdout",
     "output_type": "stream",
     "text": [
      "\t eval recall@10: 0.0541\n",
      "\t eval precision@10: 0.0054\n",
      "\t eval ndcg@10: 0.0240\n",
      "\t eval map@10: 0.0152\n",
      "==============================\n"
     ]
    },
    {
     "name": "stderr",
     "output_type": "stream",
     "text": [
      "train: 100%|██████████| 305/305 [00:07<00:00, 43.21it/s]\n"
     ]
    },
    {
     "name": "stdout",
     "output_type": "stream",
     "text": [
      "Epoch 12 elapsed: 7.063s\n",
      "\t \u001b[32mtrain_loss: 0.4371\u001b[0m\n"
     ]
    },
    {
     "name": "stderr",
     "output_type": "stream",
     "text": [
      "eval_listwise: 100%|██████████| 2731/2731 [01:14<00:00, 36.61it/s]\n"
     ]
    },
    {
     "name": "stdout",
     "output_type": "stream",
     "text": [
      "\t eval recall@10: 0.0535\n",
      "\t eval precision@10: 0.0053\n",
      "\t eval ndcg@10: 0.0235\n",
      "\t eval map@10: 0.0146\n",
      "==============================\n"
     ]
    },
    {
     "name": "stderr",
     "output_type": "stream",
     "text": [
      "train: 100%|██████████| 305/305 [00:07<00:00, 41.02it/s]\n"
     ]
    },
    {
     "name": "stdout",
     "output_type": "stream",
     "text": [
      "Epoch 13 elapsed: 7.439s\n",
      "\t \u001b[32mtrain_loss: 0.4258\u001b[0m\n"
     ]
    },
    {
     "name": "stderr",
     "output_type": "stream",
     "text": [
      "eval_listwise: 100%|██████████| 2731/2731 [01:26<00:00, 31.46it/s]\n"
     ]
    },
    {
     "name": "stdout",
     "output_type": "stream",
     "text": [
      "\t eval recall@10: 0.0551\n",
      "\t eval precision@10: 0.0055\n",
      "\t eval ndcg@10: 0.0250\n",
      "\t eval map@10: 0.0160\n",
      "==============================\n"
     ]
    },
    {
     "name": "stderr",
     "output_type": "stream",
     "text": [
      "train: 100%|██████████| 305/305 [00:07<00:00, 43.28it/s]\n"
     ]
    },
    {
     "name": "stdout",
     "output_type": "stream",
     "text": [
      "Epoch 14 elapsed: 7.051s\n",
      "\t \u001b[32mtrain_loss: 0.4165\u001b[0m\n"
     ]
    },
    {
     "name": "stderr",
     "output_type": "stream",
     "text": [
      "eval_listwise: 100%|██████████| 2731/2731 [01:14<00:00, 36.44it/s]\n"
     ]
    },
    {
     "name": "stdout",
     "output_type": "stream",
     "text": [
      "\t eval recall@10: 0.0571\n",
      "\t eval precision@10: 0.0057\n",
      "\t eval ndcg@10: 0.0258\n",
      "\t eval map@10: 0.0165\n",
      "==============================\n"
     ]
    },
    {
     "name": "stderr",
     "output_type": "stream",
     "text": [
      "train: 100%|██████████| 305/305 [00:06<00:00, 43.77it/s]\n"
     ]
    },
    {
     "name": "stdout",
     "output_type": "stream",
     "text": [
      "Epoch 15 elapsed: 6.972s\n",
      "\t \u001b[32mtrain_loss: 0.4079\u001b[0m\n"
     ]
    },
    {
     "name": "stderr",
     "output_type": "stream",
     "text": [
      "eval_listwise: 100%|██████████| 2731/2731 [01:14<00:00, 36.58it/s]\n"
     ]
    },
    {
     "name": "stdout",
     "output_type": "stream",
     "text": [
      "\t eval recall@10: 0.0604\n",
      "\t eval precision@10: 0.0060\n",
      "\t eval ndcg@10: 0.0278\n",
      "\t eval map@10: 0.0182\n",
      "==============================\n"
     ]
    },
    {
     "name": "stderr",
     "output_type": "stream",
     "text": [
      "train: 100%|██████████| 305/305 [00:07<00:00, 41.01it/s]\n"
     ]
    },
    {
     "name": "stdout",
     "output_type": "stream",
     "text": [
      "Epoch 16 elapsed: 7.441s\n",
      "\t \u001b[32mtrain_loss: 0.4012\u001b[0m\n"
     ]
    },
    {
     "name": "stderr",
     "output_type": "stream",
     "text": [
      "eval_listwise: 100%|██████████| 2731/2731 [01:15<00:00, 36.40it/s]\n"
     ]
    },
    {
     "name": "stdout",
     "output_type": "stream",
     "text": [
      "\t eval recall@10: 0.0598\n",
      "\t eval precision@10: 0.0060\n",
      "\t eval ndcg@10: 0.0276\n",
      "\t eval map@10: 0.0180\n",
      "==============================\n"
     ]
    },
    {
     "name": "stderr",
     "output_type": "stream",
     "text": [
      "train: 100%|██████████| 305/305 [00:06<00:00, 43.58it/s]\n"
     ]
    },
    {
     "name": "stdout",
     "output_type": "stream",
     "text": [
      "Epoch 17 elapsed: 7.003s\n",
      "\t \u001b[32mtrain_loss: 0.3971\u001b[0m\n"
     ]
    },
    {
     "name": "stderr",
     "output_type": "stream",
     "text": [
      "eval_listwise: 100%|██████████| 2731/2731 [01:15<00:00, 36.40it/s]\n"
     ]
    },
    {
     "name": "stdout",
     "output_type": "stream",
     "text": [
      "\t eval recall@10: 0.0604\n",
      "\t eval precision@10: 0.0060\n",
      "\t eval ndcg@10: 0.0286\n",
      "\t eval map@10: 0.0191\n",
      "==============================\n"
     ]
    },
    {
     "name": "stderr",
     "output_type": "stream",
     "text": [
      "train: 100%|██████████| 305/305 [00:07<00:00, 39.26it/s]\n"
     ]
    },
    {
     "name": "stdout",
     "output_type": "stream",
     "text": [
      "Epoch 18 elapsed: 7.772s\n",
      "\t \u001b[32mtrain_loss: 0.3909\u001b[0m\n"
     ]
    },
    {
     "name": "stderr",
     "output_type": "stream",
     "text": [
      "eval_listwise: 100%|██████████| 2731/2731 [01:14<00:00, 36.48it/s]\n"
     ]
    },
    {
     "name": "stdout",
     "output_type": "stream",
     "text": [
      "\t eval recall@10: 0.0623\n",
      "\t eval precision@10: 0.0062\n",
      "\t eval ndcg@10: 0.0295\n",
      "\t eval map@10: 0.0197\n",
      "==============================\n"
     ]
    },
    {
     "name": "stderr",
     "output_type": "stream",
     "text": [
      "train: 100%|██████████| 305/305 [00:07<00:00, 43.44it/s]\n"
     ]
    },
    {
     "name": "stdout",
     "output_type": "stream",
     "text": [
      "Epoch 19 elapsed: 7.024s\n",
      "\t \u001b[32mtrain_loss: 0.3867\u001b[0m\n"
     ]
    },
    {
     "name": "stderr",
     "output_type": "stream",
     "text": [
      "eval_listwise: 100%|██████████| 2731/2731 [01:15<00:00, 36.29it/s]\n"
     ]
    },
    {
     "name": "stdout",
     "output_type": "stream",
     "text": [
      "\t eval recall@10: 0.0630\n",
      "\t eval precision@10: 0.0063\n",
      "\t eval ndcg@10: 0.0300\n",
      "\t eval map@10: 0.0202\n",
      "==============================\n"
     ]
    },
    {
     "name": "stderr",
     "output_type": "stream",
     "text": [
      "train: 100%|██████████| 305/305 [00:07<00:00, 43.18it/s]\n"
     ]
    },
    {
     "name": "stdout",
     "output_type": "stream",
     "text": [
      "Epoch 20 elapsed: 7.068s\n",
      "\t \u001b[32mtrain_loss: 0.3833\u001b[0m\n"
     ]
    },
    {
     "name": "stderr",
     "output_type": "stream",
     "text": [
      "eval_listwise: 100%|██████████| 2731/2731 [01:15<00:00, 36.16it/s]\n"
     ]
    },
    {
     "name": "stdout",
     "output_type": "stream",
     "text": [
      "\t eval recall@10: 0.0649\n",
      "\t eval precision@10: 0.0065\n",
      "\t eval ndcg@10: 0.0314\n",
      "\t eval map@10: 0.0215\n",
      "==============================\n"
     ]
    },
    {
     "name": "stderr",
     "output_type": "stream",
     "text": [
      "train: 100%|██████████| 305/305 [00:07<00:00, 42.10it/s]\n"
     ]
    },
    {
     "name": "stdout",
     "output_type": "stream",
     "text": [
      "Epoch 21 elapsed: 7.248s\n",
      "\t \u001b[32mtrain_loss: 0.3778\u001b[0m\n"
     ]
    },
    {
     "name": "stderr",
     "output_type": "stream",
     "text": [
      "eval_listwise: 100%|██████████| 2731/2731 [01:15<00:00, 36.03it/s]\n"
     ]
    },
    {
     "name": "stdout",
     "output_type": "stream",
     "text": [
      "\t eval recall@10: 0.0653\n",
      "\t eval precision@10: 0.0065\n",
      "\t eval ndcg@10: 0.0315\n",
      "\t eval map@10: 0.0214\n",
      "==============================\n"
     ]
    },
    {
     "name": "stderr",
     "output_type": "stream",
     "text": [
      "train: 100%|██████████| 305/305 [00:07<00:00, 43.08it/s]\n"
     ]
    },
    {
     "name": "stdout",
     "output_type": "stream",
     "text": [
      "Epoch 22 elapsed: 7.083s\n",
      "\t \u001b[32mtrain_loss: 0.3753\u001b[0m\n"
     ]
    },
    {
     "name": "stderr",
     "output_type": "stream",
     "text": [
      "eval_listwise: 100%|██████████| 2731/2731 [01:15<00:00, 36.18it/s]\n"
     ]
    },
    {
     "name": "stdout",
     "output_type": "stream",
     "text": [
      "\t eval recall@10: 0.0663\n",
      "\t eval precision@10: 0.0066\n",
      "\t eval ndcg@10: 0.0318\n",
      "\t eval map@10: 0.0214\n",
      "==============================\n"
     ]
    },
    {
     "name": "stderr",
     "output_type": "stream",
     "text": [
      "train: 100%|██████████| 305/305 [00:06<00:00, 43.73it/s]\n"
     ]
    },
    {
     "name": "stdout",
     "output_type": "stream",
     "text": [
      "Epoch 23 elapsed: 6.979s\n",
      "\t \u001b[32mtrain_loss: 0.37\u001b[0m\n"
     ]
    },
    {
     "name": "stderr",
     "output_type": "stream",
     "text": [
      "eval_listwise: 100%|██████████| 2731/2731 [01:15<00:00, 36.05it/s]\n"
     ]
    },
    {
     "name": "stdout",
     "output_type": "stream",
     "text": [
      "\t eval recall@10: 0.0704\n",
      "\t eval precision@10: 0.0070\n",
      "\t eval ndcg@10: 0.0341\n",
      "\t eval map@10: 0.0232\n",
      "==============================\n"
     ]
    },
    {
     "name": "stderr",
     "output_type": "stream",
     "text": [
      "train: 100%|██████████| 305/305 [00:07<00:00, 43.29it/s]\n"
     ]
    },
    {
     "name": "stdout",
     "output_type": "stream",
     "text": [
      "Epoch 24 elapsed: 7.050s\n",
      "\t \u001b[32mtrain_loss: 0.3678\u001b[0m\n"
     ]
    },
    {
     "name": "stderr",
     "output_type": "stream",
     "text": [
      "eval_listwise: 100%|██████████| 2731/2731 [01:16<00:00, 35.79it/s]\n"
     ]
    },
    {
     "name": "stdout",
     "output_type": "stream",
     "text": [
      "\t eval recall@10: 0.0731\n",
      "\t eval precision@10: 0.0073\n",
      "\t eval ndcg@10: 0.0354\n",
      "\t eval map@10: 0.0242\n",
      "==============================\n"
     ]
    },
    {
     "name": "stderr",
     "output_type": "stream",
     "text": [
      "train: 100%|██████████| 305/305 [00:07<00:00, 40.23it/s]\n"
     ]
    },
    {
     "name": "stdout",
     "output_type": "stream",
     "text": [
      "Epoch 25 elapsed: 7.586s\n",
      "\t \u001b[32mtrain_loss: 0.3632\u001b[0m\n"
     ]
    },
    {
     "name": "stderr",
     "output_type": "stream",
     "text": [
      "eval_listwise: 100%|██████████| 2731/2731 [01:16<00:00, 35.58it/s]\n"
     ]
    },
    {
     "name": "stdout",
     "output_type": "stream",
     "text": [
      "\t eval recall@10: 0.0728\n",
      "\t eval precision@10: 0.0073\n",
      "\t eval ndcg@10: 0.0361\n",
      "\t eval map@10: 0.0252\n",
      "==============================\n"
     ]
    },
    {
     "name": "stderr",
     "output_type": "stream",
     "text": [
      "train: 100%|██████████| 305/305 [00:07<00:00, 42.16it/s]\n"
     ]
    },
    {
     "name": "stdout",
     "output_type": "stream",
     "text": [
      "Epoch 26 elapsed: 7.237s\n",
      "\t \u001b[32mtrain_loss: 0.3603\u001b[0m\n"
     ]
    },
    {
     "name": "stderr",
     "output_type": "stream",
     "text": [
      "eval_listwise: 100%|██████████| 2731/2731 [01:16<00:00, 35.70it/s]\n"
     ]
    },
    {
     "name": "stdout",
     "output_type": "stream",
     "text": [
      "\t eval recall@10: 0.0740\n",
      "\t eval precision@10: 0.0074\n",
      "\t eval ndcg@10: 0.0359\n",
      "\t eval map@10: 0.0246\n",
      "==============================\n"
     ]
    },
    {
     "name": "stderr",
     "output_type": "stream",
     "text": [
      "train: 100%|██████████| 305/305 [00:07<00:00, 42.58it/s]\n"
     ]
    },
    {
     "name": "stdout",
     "output_type": "stream",
     "text": [
      "Epoch 27 elapsed: 7.166s\n",
      "\t \u001b[32mtrain_loss: 0.3555\u001b[0m\n"
     ]
    },
    {
     "name": "stderr",
     "output_type": "stream",
     "text": [
      "eval_listwise: 100%|██████████| 2731/2731 [01:16<00:00, 35.49it/s]\n"
     ]
    },
    {
     "name": "stdout",
     "output_type": "stream",
     "text": [
      "\t eval recall@10: 0.0773\n",
      "\t eval precision@10: 0.0077\n",
      "\t eval ndcg@10: 0.0382\n",
      "\t eval map@10: 0.0265\n",
      "==============================\n"
     ]
    },
    {
     "name": "stderr",
     "output_type": "stream",
     "text": [
      "train: 100%|██████████| 305/305 [00:07<00:00, 42.60it/s]\n"
     ]
    },
    {
     "name": "stdout",
     "output_type": "stream",
     "text": [
      "Epoch 28 elapsed: 7.163s\n",
      "\t \u001b[32mtrain_loss: 0.3527\u001b[0m\n"
     ]
    },
    {
     "name": "stderr",
     "output_type": "stream",
     "text": [
      "eval_listwise: 100%|██████████| 2731/2731 [01:17<00:00, 35.32it/s]\n"
     ]
    },
    {
     "name": "stdout",
     "output_type": "stream",
     "text": [
      "\t eval recall@10: 0.0796\n",
      "\t eval precision@10: 0.0080\n",
      "\t eval ndcg@10: 0.0388\n",
      "\t eval map@10: 0.0266\n",
      "==============================\n"
     ]
    },
    {
     "name": "stderr",
     "output_type": "stream",
     "text": [
      "train: 100%|██████████| 305/305 [00:07<00:00, 40.98it/s]\n"
     ]
    },
    {
     "name": "stdout",
     "output_type": "stream",
     "text": [
      "Epoch 29 elapsed: 7.446s\n",
      "\t \u001b[32mtrain_loss: 0.3491\u001b[0m\n"
     ]
    },
    {
     "name": "stderr",
     "output_type": "stream",
     "text": [
      "eval_listwise: 100%|██████████| 2731/2731 [01:15<00:00, 36.08it/s]\n"
     ]
    },
    {
     "name": "stdout",
     "output_type": "stream",
     "text": [
      "\t eval recall@10: 0.0797\n",
      "\t eval precision@10: 0.0080\n",
      "\t eval ndcg@10: 0.0385\n",
      "\t eval map@10: 0.0261\n",
      "==============================\n"
     ]
    },
    {
     "name": "stderr",
     "output_type": "stream",
     "text": [
      "train: 100%|██████████| 305/305 [00:07<00:00, 40.38it/s]\n"
     ]
    },
    {
     "name": "stdout",
     "output_type": "stream",
     "text": [
      "Epoch 30 elapsed: 7.557s\n",
      "\t \u001b[32mtrain_loss: 0.3473\u001b[0m\n"
     ]
    },
    {
     "name": "stderr",
     "output_type": "stream",
     "text": [
      "eval_listwise: 100%|██████████| 2731/2731 [01:15<00:00, 36.04it/s]\n"
     ]
    },
    {
     "name": "stdout",
     "output_type": "stream",
     "text": [
      "\t eval recall@10: 0.0819\n",
      "\t eval precision@10: 0.0082\n",
      "\t eval ndcg@10: 0.0395\n",
      "\t eval map@10: 0.0268\n",
      "==============================\n"
     ]
    },
    {
     "name": "stderr",
     "output_type": "stream",
     "text": [
      "train: 100%|██████████| 305/305 [00:07<00:00, 43.41it/s]\n"
     ]
    },
    {
     "name": "stdout",
     "output_type": "stream",
     "text": [
      "Epoch 31 elapsed: 7.030s\n",
      "\t \u001b[32mtrain_loss: 0.3429\u001b[0m\n"
     ]
    },
    {
     "name": "stderr",
     "output_type": "stream",
     "text": [
      "eval_listwise: 100%|██████████| 2731/2731 [01:17<00:00, 35.37it/s]\n"
     ]
    },
    {
     "name": "stdout",
     "output_type": "stream",
     "text": [
      "\t eval recall@10: 0.0797\n",
      "\t eval precision@10: 0.0080\n",
      "\t eval ndcg@10: 0.0384\n",
      "\t eval map@10: 0.0259\n",
      "==============================\n"
     ]
    },
    {
     "name": "stderr",
     "output_type": "stream",
     "text": [
      "train: 100%|██████████| 305/305 [00:07<00:00, 43.04it/s]\n"
     ]
    },
    {
     "name": "stdout",
     "output_type": "stream",
     "text": [
      "Epoch 32 elapsed: 7.090s\n",
      "\t \u001b[32mtrain_loss: 0.3406\u001b[0m\n"
     ]
    },
    {
     "name": "stderr",
     "output_type": "stream",
     "text": [
      "eval_listwise: 100%|██████████| 2731/2731 [01:16<00:00, 35.70it/s]\n"
     ]
    },
    {
     "name": "stdout",
     "output_type": "stream",
     "text": [
      "\t eval recall@10: 0.0844\n",
      "\t eval precision@10: 0.0084\n",
      "\t eval ndcg@10: 0.0404\n",
      "\t eval map@10: 0.0271\n",
      "==============================\n"
     ]
    },
    {
     "name": "stderr",
     "output_type": "stream",
     "text": [
      "train: 100%|██████████| 305/305 [00:07<00:00, 43.33it/s]\n"
     ]
    },
    {
     "name": "stdout",
     "output_type": "stream",
     "text": [
      "Epoch 33 elapsed: 7.043s\n",
      "\t \u001b[32mtrain_loss: 0.3373\u001b[0m\n"
     ]
    },
    {
     "name": "stderr",
     "output_type": "stream",
     "text": [
      "eval_listwise: 100%|██████████| 2731/2731 [01:16<00:00, 35.86it/s]\n"
     ]
    },
    {
     "name": "stdout",
     "output_type": "stream",
     "text": [
      "\t eval recall@10: 0.0868\n",
      "\t eval precision@10: 0.0087\n",
      "\t eval ndcg@10: 0.0415\n",
      "\t eval map@10: 0.0279\n",
      "==============================\n"
     ]
    },
    {
     "name": "stderr",
     "output_type": "stream",
     "text": [
      "train: 100%|██████████| 305/305 [00:07<00:00, 40.64it/s]\n"
     ]
    },
    {
     "name": "stdout",
     "output_type": "stream",
     "text": [
      "Epoch 34 elapsed: 7.509s\n",
      "\t \u001b[32mtrain_loss: 0.3348\u001b[0m\n"
     ]
    },
    {
     "name": "stderr",
     "output_type": "stream",
     "text": [
      "eval_listwise: 100%|██████████| 2731/2731 [01:16<00:00, 35.83it/s]\n"
     ]
    },
    {
     "name": "stdout",
     "output_type": "stream",
     "text": [
      "\t eval recall@10: 0.0863\n",
      "\t eval precision@10: 0.0086\n",
      "\t eval ndcg@10: 0.0409\n",
      "\t eval map@10: 0.0272\n",
      "==============================\n"
     ]
    },
    {
     "name": "stderr",
     "output_type": "stream",
     "text": [
      "train: 100%|██████████| 305/305 [00:07<00:00, 40.74it/s]\n"
     ]
    },
    {
     "name": "stdout",
     "output_type": "stream",
     "text": [
      "Epoch 35 elapsed: 7.490s\n",
      "\t \u001b[32mtrain_loss: 0.3321\u001b[0m\n"
     ]
    },
    {
     "name": "stderr",
     "output_type": "stream",
     "text": [
      "eval_listwise: 100%|██████████| 2731/2731 [01:16<00:00, 35.59it/s]\n"
     ]
    },
    {
     "name": "stdout",
     "output_type": "stream",
     "text": [
      "\t eval recall@10: 0.0923\n",
      "\t eval precision@10: 0.0092\n",
      "\t eval ndcg@10: 0.0443\n",
      "\t eval map@10: 0.0298\n",
      "==============================\n"
     ]
    },
    {
     "name": "stderr",
     "output_type": "stream",
     "text": [
      "train: 100%|██████████| 305/305 [00:07<00:00, 43.55it/s]\n"
     ]
    },
    {
     "name": "stdout",
     "output_type": "stream",
     "text": [
      "Epoch 36 elapsed: 7.007s\n",
      "\t \u001b[32mtrain_loss: 0.3286\u001b[0m\n"
     ]
    },
    {
     "name": "stderr",
     "output_type": "stream",
     "text": [
      "eval_listwise: 100%|██████████| 2731/2731 [01:16<00:00, 35.62it/s]\n"
     ]
    },
    {
     "name": "stdout",
     "output_type": "stream",
     "text": [
      "\t eval recall@10: 0.0923\n",
      "\t eval precision@10: 0.0092\n",
      "\t eval ndcg@10: 0.0440\n",
      "\t eval map@10: 0.0295\n",
      "==============================\n"
     ]
    },
    {
     "name": "stderr",
     "output_type": "stream",
     "text": [
      "train: 100%|██████████| 305/305 [00:07<00:00, 42.83it/s]\n"
     ]
    },
    {
     "name": "stdout",
     "output_type": "stream",
     "text": [
      "Epoch 37 elapsed: 7.125s\n",
      "\t \u001b[32mtrain_loss: 0.326\u001b[0m\n"
     ]
    },
    {
     "name": "stderr",
     "output_type": "stream",
     "text": [
      "eval_listwise: 100%|██████████| 2731/2731 [01:17<00:00, 35.28it/s]\n"
     ]
    },
    {
     "name": "stdout",
     "output_type": "stream",
     "text": [
      "\t eval recall@10: 0.0933\n",
      "\t eval precision@10: 0.0093\n",
      "\t eval ndcg@10: 0.0451\n",
      "\t eval map@10: 0.0307\n",
      "==============================\n"
     ]
    },
    {
     "name": "stderr",
     "output_type": "stream",
     "text": [
      "train: 100%|██████████| 305/305 [00:07<00:00, 43.41it/s]\n"
     ]
    },
    {
     "name": "stdout",
     "output_type": "stream",
     "text": [
      "Epoch 38 elapsed: 7.031s\n",
      "\t \u001b[32mtrain_loss: 0.3232\u001b[0m\n"
     ]
    },
    {
     "name": "stderr",
     "output_type": "stream",
     "text": [
      "eval_listwise: 100%|██████████| 2731/2731 [01:16<00:00, 35.60it/s]\n"
     ]
    },
    {
     "name": "stdout",
     "output_type": "stream",
     "text": [
      "\t eval recall@10: 0.0951\n",
      "\t eval precision@10: 0.0095\n",
      "\t eval ndcg@10: 0.0458\n",
      "\t eval map@10: 0.0310\n",
      "==============================\n"
     ]
    },
    {
     "name": "stderr",
     "output_type": "stream",
     "text": [
      "train: 100%|██████████| 305/305 [00:07<00:00, 39.72it/s]\n"
     ]
    },
    {
     "name": "stdout",
     "output_type": "stream",
     "text": [
      "Epoch 39 elapsed: 7.685s\n",
      "\t \u001b[32mtrain_loss: 0.3211\u001b[0m\n"
     ]
    },
    {
     "name": "stderr",
     "output_type": "stream",
     "text": [
      "eval_listwise: 100%|██████████| 2731/2731 [01:16<00:00, 35.80it/s]\n"
     ]
    },
    {
     "name": "stdout",
     "output_type": "stream",
     "text": [
      "\t eval recall@10: 0.0984\n",
      "\t eval precision@10: 0.0098\n",
      "\t eval ndcg@10: 0.0477\n",
      "\t eval map@10: 0.0324\n",
      "==============================\n"
     ]
    },
    {
     "name": "stderr",
     "output_type": "stream",
     "text": [
      "train: 100%|██████████| 305/305 [00:07<00:00, 40.65it/s]\n"
     ]
    },
    {
     "name": "stdout",
     "output_type": "stream",
     "text": [
      "Epoch 40 elapsed: 7.506s\n",
      "\t \u001b[32mtrain_loss: 0.3171\u001b[0m\n"
     ]
    },
    {
     "name": "stderr",
     "output_type": "stream",
     "text": [
      "eval_listwise: 100%|██████████| 2731/2731 [01:16<00:00, 35.88it/s]\n"
     ]
    },
    {
     "name": "stdout",
     "output_type": "stream",
     "text": [
      "\t eval recall@10: 0.1014\n",
      "\t eval precision@10: 0.0101\n",
      "\t eval ndcg@10: 0.0480\n",
      "\t eval map@10: 0.0320\n",
      "==============================\n"
     ]
    },
    {
     "name": "stderr",
     "output_type": "stream",
     "text": [
      "train: 100%|██████████| 305/305 [00:07<00:00, 40.23it/s]\n"
     ]
    },
    {
     "name": "stdout",
     "output_type": "stream",
     "text": [
      "Epoch 41 elapsed: 7.585s\n",
      "\t \u001b[32mtrain_loss: 0.3159\u001b[0m\n"
     ]
    },
    {
     "name": "stderr",
     "output_type": "stream",
     "text": [
      "eval_listwise: 100%|██████████| 2731/2731 [01:16<00:00, 35.71it/s]\n"
     ]
    },
    {
     "name": "stdout",
     "output_type": "stream",
     "text": [
      "\t eval recall@10: 0.1038\n",
      "\t eval precision@10: 0.0104\n",
      "\t eval ndcg@10: 0.0489\n",
      "\t eval map@10: 0.0326\n",
      "==============================\n"
     ]
    },
    {
     "name": "stderr",
     "output_type": "stream",
     "text": [
      "train: 100%|██████████| 305/305 [00:06<00:00, 43.58it/s]\n"
     ]
    },
    {
     "name": "stdout",
     "output_type": "stream",
     "text": [
      "Epoch 42 elapsed: 7.003s\n",
      "\t \u001b[32mtrain_loss: 0.3122\u001b[0m\n"
     ]
    },
    {
     "name": "stderr",
     "output_type": "stream",
     "text": [
      "eval_listwise: 100%|██████████| 2731/2731 [01:15<00:00, 36.04it/s]\n"
     ]
    },
    {
     "name": "stdout",
     "output_type": "stream",
     "text": [
      "\t eval recall@10: 0.1017\n",
      "\t eval precision@10: 0.0102\n",
      "\t eval ndcg@10: 0.0489\n",
      "\t eval map@10: 0.0331\n",
      "==============================\n"
     ]
    },
    {
     "name": "stderr",
     "output_type": "stream",
     "text": [
      "train: 100%|██████████| 305/305 [00:07<00:00, 42.13it/s]\n"
     ]
    },
    {
     "name": "stdout",
     "output_type": "stream",
     "text": [
      "Epoch 43 elapsed: 7.245s\n",
      "\t \u001b[32mtrain_loss: 0.3093\u001b[0m\n"
     ]
    },
    {
     "name": "stderr",
     "output_type": "stream",
     "text": [
      "eval_listwise: 100%|██████████| 2731/2731 [01:16<00:00, 35.48it/s]\n"
     ]
    },
    {
     "name": "stdout",
     "output_type": "stream",
     "text": [
      "\t eval recall@10: 0.1060\n",
      "\t eval precision@10: 0.0106\n",
      "\t eval ndcg@10: 0.0506\n",
      "\t eval map@10: 0.0340\n",
      "==============================\n"
     ]
    },
    {
     "name": "stderr",
     "output_type": "stream",
     "text": [
      "train: 100%|██████████| 305/305 [00:07<00:00, 43.32it/s]\n"
     ]
    },
    {
     "name": "stdout",
     "output_type": "stream",
     "text": [
      "Epoch 44 elapsed: 7.044s\n",
      "\t \u001b[32mtrain_loss: 0.3067\u001b[0m\n"
     ]
    },
    {
     "name": "stderr",
     "output_type": "stream",
     "text": [
      "eval_listwise: 100%|██████████| 2731/2731 [01:17<00:00, 35.42it/s]\n"
     ]
    },
    {
     "name": "stdout",
     "output_type": "stream",
     "text": [
      "\t eval recall@10: 0.1099\n",
      "\t eval precision@10: 0.0110\n",
      "\t eval ndcg@10: 0.0520\n",
      "\t eval map@10: 0.0347\n",
      "==============================\n"
     ]
    },
    {
     "name": "stderr",
     "output_type": "stream",
     "text": [
      "train: 100%|██████████| 305/305 [00:07<00:00, 40.40it/s]\n"
     ]
    },
    {
     "name": "stdout",
     "output_type": "stream",
     "text": [
      "Epoch 45 elapsed: 7.554s\n",
      "\t \u001b[32mtrain_loss: 0.3036\u001b[0m\n"
     ]
    },
    {
     "name": "stderr",
     "output_type": "stream",
     "text": [
      "eval_listwise: 100%|██████████| 2731/2731 [01:16<00:00, 35.51it/s]\n"
     ]
    },
    {
     "name": "stdout",
     "output_type": "stream",
     "text": [
      "\t eval recall@10: 0.1085\n",
      "\t eval precision@10: 0.0109\n",
      "\t eval ndcg@10: 0.0515\n",
      "\t eval map@10: 0.0346\n",
      "==============================\n"
     ]
    },
    {
     "name": "stderr",
     "output_type": "stream",
     "text": [
      "train: 100%|██████████| 305/305 [00:07<00:00, 43.43it/s]\n"
     ]
    },
    {
     "name": "stdout",
     "output_type": "stream",
     "text": [
      "Epoch 46 elapsed: 7.028s\n",
      "\t \u001b[32mtrain_loss: 0.3017\u001b[0m\n"
     ]
    },
    {
     "name": "stderr",
     "output_type": "stream",
     "text": [
      "eval_listwise: 100%|██████████| 2731/2731 [01:17<00:00, 35.07it/s]\n"
     ]
    },
    {
     "name": "stdout",
     "output_type": "stream",
     "text": [
      "\t eval recall@10: 0.1127\n",
      "\t eval precision@10: 0.0113\n",
      "\t eval ndcg@10: 0.0541\n",
      "\t eval map@10: 0.0367\n",
      "==============================\n"
     ]
    },
    {
     "name": "stderr",
     "output_type": "stream",
     "text": [
      "train: 100%|██████████| 305/305 [00:07<00:00, 42.25it/s]\n"
     ]
    },
    {
     "name": "stdout",
     "output_type": "stream",
     "text": [
      "Epoch 47 elapsed: 7.224s\n",
      "\t \u001b[32mtrain_loss: 0.299\u001b[0m\n"
     ]
    },
    {
     "name": "stderr",
     "output_type": "stream",
     "text": [
      "eval_listwise: 100%|██████████| 2731/2731 [01:18<00:00, 34.63it/s]\n"
     ]
    },
    {
     "name": "stdout",
     "output_type": "stream",
     "text": [
      "\t eval recall@10: 0.1127\n",
      "\t eval precision@10: 0.0113\n",
      "\t eval ndcg@10: 0.0541\n",
      "\t eval map@10: 0.0367\n",
      "==============================\n"
     ]
    },
    {
     "name": "stderr",
     "output_type": "stream",
     "text": [
      "train: 100%|██████████| 305/305 [00:08<00:00, 36.86it/s]\n"
     ]
    },
    {
     "name": "stdout",
     "output_type": "stream",
     "text": [
      "Epoch 48 elapsed: 8.278s\n",
      "\t \u001b[32mtrain_loss: 0.2963\u001b[0m\n"
     ]
    },
    {
     "name": "stderr",
     "output_type": "stream",
     "text": [
      "eval_listwise: 100%|██████████| 2731/2731 [01:20<00:00, 34.08it/s]\n"
     ]
    },
    {
     "name": "stdout",
     "output_type": "stream",
     "text": [
      "\t eval recall@10: 0.1139\n",
      "\t eval precision@10: 0.0114\n",
      "\t eval ndcg@10: 0.0554\n",
      "\t eval map@10: 0.0378\n",
      "==============================\n"
     ]
    },
    {
     "name": "stderr",
     "output_type": "stream",
     "text": [
      "train: 100%|██████████| 305/305 [00:09<00:00, 32.49it/s]\n"
     ]
    },
    {
     "name": "stdout",
     "output_type": "stream",
     "text": [
      "Epoch 49 elapsed: 9.391s\n",
      "\t \u001b[32mtrain_loss: 0.2941\u001b[0m\n"
     ]
    },
    {
     "name": "stderr",
     "output_type": "stream",
     "text": [
      "eval_listwise: 100%|██████████| 2731/2731 [01:23<00:00, 32.61it/s]\n"
     ]
    },
    {
     "name": "stdout",
     "output_type": "stream",
     "text": [
      "\t eval recall@10: 0.1152\n",
      "\t eval precision@10: 0.0115\n",
      "\t eval ndcg@10: 0.0568\n",
      "\t eval map@10: 0.0394\n",
      "==============================\n"
     ]
    },
    {
     "name": "stderr",
     "output_type": "stream",
     "text": [
      "train: 100%|██████████| 305/305 [00:07<00:00, 41.63it/s]\n"
     ]
    },
    {
     "name": "stdout",
     "output_type": "stream",
     "text": [
      "Epoch 50 elapsed: 7.330s\n",
      "\t \u001b[32mtrain_loss: 0.2908\u001b[0m\n"
     ]
    },
    {
     "name": "stderr",
     "output_type": "stream",
     "text": [
      "eval_listwise: 100%|██████████| 2731/2731 [01:20<00:00, 34.08it/s]\n"
     ]
    },
    {
     "name": "stdout",
     "output_type": "stream",
     "text": [
      "\t eval recall@10: 0.1129\n",
      "\t eval precision@10: 0.0113\n",
      "\t eval ndcg@10: 0.0552\n",
      "\t eval map@10: 0.0379\n",
      "==============================\n",
      "Thời gian thực hiện: 4233.243571 giây\n"
     ]
    }
   ],
   "source": [
    "model = DeepFM(\n",
    "        \"ranking\",\n",
    "        data_info,\n",
    "        embed_size=16,\n",
    "        n_epochs=50,\n",
    "        lr=1e-4,\n",
    "        lr_decay=False,\n",
    "        reg=None,\n",
    "        batch_size=2048,\n",
    "        num_neg=1,\n",
    "        use_bn=False,\n",
    "        dropout_rate=None,\n",
    "        hidden_units=(128, 64, 32),\n",
    "        tf_sess_config=None,\n",
    "        sampler=\"random\"\n",
    ")\n",
    "start_time = time.time()\n",
    "model.fit(\n",
    "    train_data,\n",
    "    neg_sampling=True,\n",
    "    verbose=2,\n",
    "    shuffle=True,\n",
    "    eval_data=test_data,\n",
    "    metrics=[\"recall\", \"precision\", \"ndcg\", \"map\"],\n",
    "    eval_batch_size=8192,\n",
    "    k=10,\n",
    "    eval_user_num=8192,\n",
    ")\n",
    "end_time = time.time()  # Kết thúc đo thời gian\n",
    "\n",
    "print(f\"Thời gian thực hiện: {end_time - start_time:.6f} giây\")"
   ]
  },
  {
   "cell_type": "code",
   "execution_count": 33,
   "id": "fbf804ce",
   "metadata": {
    "execution": {
     "iopub.execute_input": "2025-07-13T06:09:58.801385Z",
     "iopub.status.busy": "2025-07-13T06:09:58.800835Z",
     "iopub.status.idle": "2025-07-13T06:09:58.809170Z",
     "shell.execute_reply": "2025-07-13T06:09:58.807942Z"
    },
    "papermill": {
     "duration": 2.153756,
     "end_time": "2025-07-13T06:09:58.811219",
     "exception": false,
     "start_time": "2025-07-13T06:09:56.657463",
     "status": "completed"
    },
    "tags": []
   },
   "outputs": [],
   "source": [
    "def recommend_courses(model, user_course , num_recommendations=5):\n",
    "    recommendations = {}\n",
    "\n",
    "    # Dự đoán cho tất cả người dùng trong test_user với thanh tiến trình\n",
    "    for user_id in tqdm(user_course['user'].unique(), desc=\"Khuyến nghị cho người dùng\", unit=\"user\"):\n",
    "        # Dự đoán cho tất cả các khóa học của người dùng (tắt chi tiết trong dự đoán)\n",
    "        recommended_courses = model.recommend_user(user=user_id,n_rec = num_recommendations)\n",
    "        recommended_courses = {key: value.tolist() if isinstance(value, np.ndarray) else value for key, value in recommended_courses.items()}\n",
    "        # Lấy top k khóa học dựa trên dự đoán\n",
    "        recommendations = recommendations | recommended_courses\n",
    "    return recommendations"
   ]
  },
  {
   "cell_type": "code",
   "execution_count": 34,
   "id": "49f1833e",
   "metadata": {
    "execution": {
     "iopub.execute_input": "2025-07-13T06:10:03.323045Z",
     "iopub.status.busy": "2025-07-13T06:10:03.322634Z",
     "iopub.status.idle": "2025-07-13T06:10:03.332701Z",
     "shell.execute_reply": "2025-07-13T06:10:03.330938Z"
    },
    "papermill": {
     "duration": 2.216915,
     "end_time": "2025-07-13T06:10:03.334954",
     "exception": false,
     "start_time": "2025-07-13T06:10:01.118039",
     "status": "completed"
    },
    "tags": []
   },
   "outputs": [],
   "source": [
    "def recommend_courses_with_negative_sampling(model, \n",
    "                                             user_course_train_df, \n",
    "                                             user_course_test_df, \n",
    "                                             all_course_ids, \n",
    "                                             num_negatives=100):\n",
    "    \"\"\"\n",
    "    Trả về recommendations dạng {user_id: [item_ids]} gồm 1 positive + N negative, sắp xếp theo điểm dự đoán.\n",
    "    \n",
    "    Params:\n",
    "        model: object có hàm predict(user_id, item_id)\n",
    "        user_course_train_df: DataFrame với cột ['user_id', 'course_id']\n",
    "        user_course_test_df: DataFrame với cột ['user_id', 'course_id'], mỗi user chỉ 1 dòng\n",
    "        all_course_ids: list hoặc Series chứa toàn bộ course_id\n",
    "        num_negatives: số lượng mẫu âm\n",
    "    \n",
    "    Returns:\n",
    "        recommendations: dict {user_id: list[item_id]}, sắp xếp theo điểm dự đoán\n",
    "    \"\"\"\n",
    "    from tqdm import tqdm\n",
    "    import numpy as np\n",
    "\n",
    "    # Tiền xử lý: gom user -> list[course_id]\n",
    "    user_train_dict = user_course_train_df.groupby(\"user\")[\"item\"].apply(set).to_dict()\n",
    "    user_test_dict = user_course_test_df.set_index(\"user\")[\"item\"].to_dict()\n",
    "    \n",
    "    recommendations = {}\n",
    "    \n",
    "    for i, (user_id, true_item) in enumerate(tqdm(user_test_dict.items(), \n",
    "                                                   desc=\"Khuyến nghị với negative sampling\", unit=\"user\")):\n",
    "\n",
    "        train_items = user_train_dict.get(user_id, set())\n",
    "        excluded_items = train_items.union({true_item})\n",
    "\n",
    "        # Lấy negative items chưa tương tác\n",
    "        negative_candidates = [item for item in all_course_ids if item not in excluded_items]\n",
    "\n",
    "        if len(negative_candidates) < num_negatives:\n",
    "            continue  # Bỏ qua user nếu không đủ negative samples\n",
    "\n",
    "        negative_samples = np.random.choice(negative_candidates, num_negatives, replace=False).tolist()\n",
    "        candidate_items = [true_item] + negative_samples\n",
    "\n",
    "        # Dự đoán điểm\n",
    "        user_ids = [user_id] * len(candidate_items)\n",
    "        scores = model.predict(user_ids, candidate_items)\n",
    "        ranked_items = [item for _, item in sorted(zip(scores, candidate_items), reverse=True)]\n",
    "\n",
    "        recommendations[user_id] = ranked_items\n",
    "\n",
    "    return recommendations\n"
   ]
  },
  {
   "cell_type": "code",
   "execution_count": 35,
   "id": "85098b41",
   "metadata": {
    "execution": {
     "iopub.execute_input": "2025-07-13T06:10:07.619788Z",
     "iopub.status.busy": "2025-07-13T06:10:07.619398Z",
     "iopub.status.idle": "2025-07-13T06:10:07.640532Z",
     "shell.execute_reply": "2025-07-13T06:10:07.639262Z"
    },
    "jupyter": {
     "source_hidden": true
    },
    "papermill": {
     "duration": 2.158378,
     "end_time": "2025-07-13T06:10:07.642447",
     "exception": false,
     "start_time": "2025-07-13T06:10:05.484069",
     "status": "completed"
    },
    "tags": []
   },
   "outputs": [],
   "source": [
    "import numpy as np\n",
    "\n",
    "# Precision@5\n",
    "def precision_at_k(y_true, recommendations, k=5):\n",
    "    precision_scores = []\n",
    "    for user, recommended_courses in recommendations.items():\n",
    "        true_courses = y_true.get(user, [])\n",
    "        if not true_courses:\n",
    "            continue\n",
    "        top_k_pred = recommended_courses[:k]\n",
    "        relevant = sum(1 for course in top_k_pred if course in true_courses)\n",
    "        precision_scores.append(relevant / k)\n",
    "    return np.mean(precision_scores) if precision_scores else 0.0\n",
    "\n",
    "# Recall@5\n",
    "def recall_at_k(y_true, recommendations, k=5):\n",
    "    recall_scores = []\n",
    "    for user, recommended_courses in recommendations.items():\n",
    "        true_courses = y_true.get(user, [])\n",
    "        if not true_courses:\n",
    "            continue\n",
    "        top_k_pred = recommended_courses[:k]\n",
    "        relevant = sum(1 for course in top_k_pred if course in true_courses)\n",
    "        recall_scores.append(relevant / len(true_courses))\n",
    "    return np.mean(recall_scores) if recall_scores else 0.0\n",
    "\n",
    "# Hit Rate@5\n",
    "def hit_rate_at_k(y_true, recommendations, k=5):\n",
    "    hit_rate_scores = []\n",
    "    for user, recommended_courses in recommendations.items():\n",
    "        true_courses = y_true.get(user, [])\n",
    "        if not true_courses:\n",
    "            continue\n",
    "        top_k_pred = recommended_courses[:k]\n",
    "        relevant = any(course in true_courses for course in top_k_pred)\n",
    "        hit_rate_scores.append(int(relevant))\n",
    "    return np.mean(hit_rate_scores) if hit_rate_scores else 0.0\n",
    "\n",
    "# NDCG@5\n",
    "def ndcg_at_k(y_true, recommendations, k=5):\n",
    "    dcg_scores = []\n",
    "    for user, recommended_courses in recommendations.items():\n",
    "        true_courses = y_true.get(user, [])\n",
    "        if not true_courses:\n",
    "            continue\n",
    "        top_k_pred = recommended_courses[:k]\n",
    "        dcg_score = sum(1 / np.log2(i + 2) for i, course in enumerate(top_k_pred) if course in true_courses)\n",
    "        idcg_score = sum(1 / np.log2(i + 2) for i in range(min(k, len(true_courses))))\n",
    "        dcg_scores.append(dcg_score / idcg_score if idcg_score > 0 else 0.0)\n",
    "    return np.mean(dcg_scores) if dcg_scores else 0.0\n",
    "\n",
    "# MAP@5\n",
    "def map_at_k(y_true, recommendations, k=5):\n",
    "    ap_scores = []\n",
    "    for user, recommended_courses in recommendations.items():\n",
    "        true_courses = y_true.get(user, [])\n",
    "        if not true_courses:\n",
    "            continue\n",
    "        top_k_pred = recommended_courses[:k]\n",
    "        relevant = [1 if course in true_courses else 0 for course in top_k_pred]\n",
    "        if sum(relevant) == 0:\n",
    "            ap_scores.append(0.0)\n",
    "            continue\n",
    "        precision_at_i = []\n",
    "        for i in range(min(k, len(top_k_pred))):\n",
    "            if relevant[i]:\n",
    "                precision_at_i.append(sum(relevant[:i+1]) / (i+1))\n",
    "        ap = sum(precision_at_i) / min(len(true_courses), k)\n",
    "        ap_scores.append(ap)\n",
    "    return np.mean(ap_scores) if ap_scores else 0.0\n",
    "\n",
    "# F1 Score@5\n",
    "def f1_at_k(y_true, recommendations, k=5):\n",
    "    f1_scores = []\n",
    "    for user, recommended_courses in recommendations.items():\n",
    "        true_courses = y_true.get(user, [])\n",
    "        if not true_courses:\n",
    "            continue\n",
    "        top_k_pred = recommended_courses[:k]\n",
    "        relevant = sum(1 for course in top_k_pred if course in true_courses)\n",
    "        precision = relevant / k\n",
    "        recall = relevant / len(true_courses)\n",
    "        if precision + recall > 0:\n",
    "            f1 = 2 * (precision * recall) / (precision + recall)\n",
    "        else:\n",
    "            f1 = 0.0\n",
    "        f1_scores.append(f1)\n",
    "    return np.mean(f1_scores) if f1_scores else 0.0\n",
    "\n",
    "# Hàm đánh giá mô hình\n",
    "def evaluate_model(y_true, recommendations, k=5):\n",
    "    \"\"\"\n",
    "    Đánh giá mô hình với Precision@5, Recall@5, Hit Rate@5, NDCG@5, MAP@5, F1 Score@5.\n",
    "\n",
    "    Parameters:\n",
    "    y_true: DataFrame hoặc dict chứa các khóa học thực tế trong tập TEST.\n",
    "    recommendations: dict chứa các khóa học khuyến nghị.\n",
    "    k: Số khóa học top cần xét (default là 5).\n",
    "\n",
    "    Returns:\n",
    "    dict: Các độ đo Precision@5, Recall@5, Hit Rate@5, NDCG@5, MAP@5, F1 Score@5.\n",
    "    \"\"\"\n",
    "    # Chuyển y_true thành dict\n",
    "    if hasattr(y_true, 'set_index'):\n",
    "        y_true_dict = {}\n",
    "        for user, item in y_true.set_index('user')['item'].items():\n",
    "            y_true_dict[user] = [item] if not isinstance(item, (list, set)) else list(item)\n",
    "        y_true = y_true_dict\n",
    "    else:\n",
    "        y_true = {k: [v] if not isinstance(v, (list, set)) else list(v) for k, v in y_true.items()}\n",
    "\n",
    "    precision = precision_at_k(y_true, recommendations, k)\n",
    "    recall = recall_at_k(y_true, recommendations, k)\n",
    "    hit_rate = hit_rate_at_k(y_true, recommendations, k)\n",
    "    ndcg = ndcg_at_k(y_true, recommendations, k)\n",
    "    map_k = map_at_k(y_true, recommendations, k)\n",
    "    f1 = f1_at_k(y_true, recommendations, k)\n",
    "\n",
    "    return {\n",
    "        f\"Baseline\": f\"V{i+1}-DeepFM@{k}\",\n",
    "        f\"Precision\": round(precision,4),\n",
    "        f\"Recall\": round(recall,4),\n",
    "        f\"HitRate\": round(hit_rate,4),\n",
    "        f\"NDCG\": round(ndcg,4),\n",
    "        f\"MAP\": round(map_k,4),\n",
    "        f\"F1-score\": round(f1,4)\n",
    "    }"
   ]
  },
  {
   "cell_type": "code",
   "execution_count": 36,
   "id": "3f5a3005",
   "metadata": {
    "execution": {
     "iopub.execute_input": "2025-07-13T06:10:12.048932Z",
     "iopub.status.busy": "2025-07-13T06:10:12.048510Z",
     "iopub.status.idle": "2025-07-13T06:14:42.515542Z",
     "shell.execute_reply": "2025-07-13T06:14:42.514166Z"
    },
    "papermill": {
     "duration": 272.609623,
     "end_time": "2025-07-13T06:14:42.517705",
     "exception": false,
     "start_time": "2025-07-13T06:10:09.908082",
     "status": "completed"
    },
    "tags": []
   },
   "outputs": [
    {
     "name": "stderr",
     "output_type": "stream",
     "text": [
      "Khuyến nghị cho người dùng: 100%|██████████| 24052/24052 [04:30<00:00, 88.95user/s]"
     ]
    },
    {
     "name": "stdout",
     "output_type": "stream",
     "text": [
      "Thời gian thực hiện: 270.459890 giây\n"
     ]
    },
    {
     "name": "stderr",
     "output_type": "stream",
     "text": [
      "\n"
     ]
    }
   ],
   "source": [
    "\n",
    "start_time = time.time()\n",
    "results1 = recommend_courses(model,test,10)\n",
    "end_time = time.time()  # Kết thúc đo thời gian\n",
    "\n",
    "print(f\"Thời gian thực hiện: {end_time - start_time:.6f} giây\")\n"
   ]
  },
  {
   "cell_type": "code",
   "execution_count": 37,
   "id": "8ca7b4e1",
   "metadata": {
    "execution": {
     "iopub.execute_input": "2025-07-13T06:14:47.037567Z",
     "iopub.status.busy": "2025-07-13T06:14:47.037193Z",
     "iopub.status.idle": "2025-07-13T06:14:47.096882Z",
     "shell.execute_reply": "2025-07-13T06:14:47.095722Z"
    },
    "papermill": {
     "duration": 2.329758,
     "end_time": "2025-07-13T06:14:47.099098",
     "exception": false,
     "start_time": "2025-07-13T06:14:44.769340",
     "status": "completed"
    },
    "tags": []
   },
   "outputs": [
    {
     "data": {
      "text/html": [
       "<div>\n",
       "<style scoped>\n",
       "    .dataframe tbody tr th:only-of-type {\n",
       "        vertical-align: middle;\n",
       "    }\n",
       "\n",
       "    .dataframe tbody tr th {\n",
       "        vertical-align: top;\n",
       "    }\n",
       "\n",
       "    .dataframe thead th {\n",
       "        text-align: right;\n",
       "    }\n",
       "</style>\n",
       "<table border=\"1\" class=\"dataframe\">\n",
       "  <thead>\n",
       "    <tr style=\"text-align: right;\">\n",
       "      <th></th>\n",
       "      <th>user</th>\n",
       "      <th>item</th>\n",
       "    </tr>\n",
       "  </thead>\n",
       "  <tbody>\n",
       "    <tr>\n",
       "      <th>0</th>\n",
       "      <td>U_100090</td>\n",
       "      <td>C_707022</td>\n",
       "    </tr>\n",
       "    <tr>\n",
       "      <th>1</th>\n",
       "      <td>U_100090</td>\n",
       "      <td>C_676687</td>\n",
       "    </tr>\n",
       "    <tr>\n",
       "      <th>2</th>\n",
       "      <td>U_100090</td>\n",
       "      <td>C_697073</td>\n",
       "    </tr>\n",
       "    <tr>\n",
       "      <th>3</th>\n",
       "      <td>U_100090</td>\n",
       "      <td>C_948038</td>\n",
       "    </tr>\n",
       "    <tr>\n",
       "      <th>4</th>\n",
       "      <td>U_100090</td>\n",
       "      <td>C_680716</td>\n",
       "    </tr>\n",
       "    <tr>\n",
       "      <th>...</th>\n",
       "      <td>...</td>\n",
       "      <td>...</td>\n",
       "    </tr>\n",
       "    <tr>\n",
       "      <th>311491</th>\n",
       "      <td>U_997506</td>\n",
       "      <td>C_735239</td>\n",
       "    </tr>\n",
       "    <tr>\n",
       "      <th>311492</th>\n",
       "      <td>U_997506</td>\n",
       "      <td>C_2095102</td>\n",
       "    </tr>\n",
       "    <tr>\n",
       "      <th>311493</th>\n",
       "      <td>U_997506</td>\n",
       "      <td>C_682379</td>\n",
       "    </tr>\n",
       "    <tr>\n",
       "      <th>311494</th>\n",
       "      <td>U_997506</td>\n",
       "      <td>C_696554</td>\n",
       "    </tr>\n",
       "    <tr>\n",
       "      <th>311495</th>\n",
       "      <td>U_997506</td>\n",
       "      <td>C_696673</td>\n",
       "    </tr>\n",
       "  </tbody>\n",
       "</table>\n",
       "<p>311496 rows × 2 columns</p>\n",
       "</div>"
      ],
      "text/plain": [
       "            user       item\n",
       "0       U_100090   C_707022\n",
       "1       U_100090   C_676687\n",
       "2       U_100090   C_697073\n",
       "3       U_100090   C_948038\n",
       "4       U_100090   C_680716\n",
       "...          ...        ...\n",
       "311491  U_997506   C_735239\n",
       "311492  U_997506  C_2095102\n",
       "311493  U_997506   C_682379\n",
       "311494  U_997506   C_696554\n",
       "311495  U_997506   C_696673\n",
       "\n",
       "[311496 rows x 2 columns]"
      ]
     },
     "execution_count": 37,
     "metadata": {},
     "output_type": "execute_result"
    }
   ],
   "source": [
    "train[['user','item']]"
   ]
  },
  {
   "cell_type": "code",
   "execution_count": 38,
   "id": "183d4ed3",
   "metadata": {
    "execution": {
     "iopub.execute_input": "2025-07-13T06:14:51.726457Z",
     "iopub.status.busy": "2025-07-13T06:14:51.726072Z",
     "iopub.status.idle": "2025-07-13T06:14:51.977178Z",
     "shell.execute_reply": "2025-07-13T06:14:51.975967Z"
    },
    "papermill": {
     "duration": 2.51461,
     "end_time": "2025-07-13T06:14:51.979290",
     "exception": false,
     "start_time": "2025-07-13T06:14:49.464680",
     "status": "completed"
    },
    "tags": []
   },
   "outputs": [],
   "source": [
    "user_course_train=train[['user','item']]\n",
    "# \n",
    "user_course_test = test[['user','item']]\n",
    "all_course_ids = pd.concat([train,test],axis=0)['item'].drop_duplicates()"
   ]
  },
  {
   "cell_type": "code",
   "execution_count": 39,
   "id": "5849a932",
   "metadata": {
    "execution": {
     "iopub.execute_input": "2025-07-13T06:14:56.467974Z",
     "iopub.status.busy": "2025-07-13T06:14:56.467591Z",
     "iopub.status.idle": "2025-07-13T06:16:25.707480Z",
     "shell.execute_reply": "2025-07-13T06:16:25.706309Z"
    },
    "papermill": {
     "duration": 91.494777,
     "end_time": "2025-07-13T06:16:25.709249",
     "exception": false,
     "start_time": "2025-07-13T06:14:54.214472",
     "status": "completed"
    },
    "tags": []
   },
   "outputs": [
    {
     "name": "stderr",
     "output_type": "stream",
     "text": [
      "Khuyến nghị với negative sampling: 100%|██████████| 24052/24052 [01:28<00:00, 271.59user/s]"
     ]
    },
    {
     "name": "stdout",
     "output_type": "stream",
     "text": [
      "Thời gian thực hiện: 89.234248 giây\n"
     ]
    },
    {
     "name": "stderr",
     "output_type": "stream",
     "text": [
      "\n"
     ]
    }
   ],
   "source": [
    "start_time = time.time()\n",
    "results2 = recommend_courses_with_negative_sampling(model, user_course_train, user_course_test, all_course_ids, num_negatives=100)\n",
    "end_time = time.time()  # Kết thúc đo thời gian\n",
    "\n",
    "print(f\"Thời gian thực hiện: {end_time - start_time:.6f} giây\")\n",
    "# print(results)"
   ]
  },
  {
   "cell_type": "code",
   "execution_count": 40,
   "id": "cdb6a02a",
   "metadata": {
    "execution": {
     "iopub.execute_input": "2025-07-13T06:16:30.471145Z",
     "iopub.status.busy": "2025-07-13T06:16:30.470649Z",
     "iopub.status.idle": "2025-07-13T06:16:31.277846Z",
     "shell.execute_reply": "2025-07-13T06:16:31.276663Z"
    },
    "papermill": {
     "duration": 3.233428,
     "end_time": "2025-07-13T06:16:31.279856",
     "exception": false,
     "start_time": "2025-07-13T06:16:28.046428",
     "status": "completed"
    },
    "tags": []
   },
   "outputs": [],
   "source": [
    "eval_5 = evaluate_model(test[[\"user\",\"item\"]], results1,5)\n",
    "eval_10 = evaluate_model(test[[\"user\",\"item\"]], results1,10)"
   ]
  },
  {
   "cell_type": "code",
   "execution_count": 41,
   "id": "939e629e",
   "metadata": {
    "execution": {
     "iopub.execute_input": "2025-07-13T06:16:35.859636Z",
     "iopub.status.busy": "2025-07-13T06:16:35.859263Z",
     "iopub.status.idle": "2025-07-13T06:16:35.866084Z",
     "shell.execute_reply": "2025-07-13T06:16:35.864896Z"
    },
    "papermill": {
     "duration": 2.291993,
     "end_time": "2025-07-13T06:16:35.867656",
     "exception": false,
     "start_time": "2025-07-13T06:16:33.575663",
     "status": "completed"
    },
    "tags": []
   },
   "outputs": [
    {
     "data": {
      "text/plain": [
       "{'Baseline': ['V4-DeepFM@5', 'V4-DeepFM@10'],\n",
       " 'Precision': [0.0126, 0.0111],\n",
       " 'Recall': [0.0631, 0.1111],\n",
       " 'HitRate': [0.0631, 0.1111],\n",
       " 'NDCG': [0.0384, 0.0538],\n",
       " 'MAP': [0.0304, 0.0366],\n",
       " 'F1-score': [0.021, 0.0202]}"
      ]
     },
     "execution_count": 41,
     "metadata": {},
     "output_type": "execute_result"
    }
   ],
   "source": [
    "{k: [eval_5[k], eval_10[k]] for k in eval_5}"
   ]
  },
  {
   "cell_type": "code",
   "execution_count": 42,
   "id": "3c0e8702",
   "metadata": {
    "execution": {
     "iopub.execute_input": "2025-07-13T06:16:40.481022Z",
     "iopub.status.busy": "2025-07-13T06:16:40.480614Z",
     "iopub.status.idle": "2025-07-13T06:16:41.509620Z",
     "shell.execute_reply": "2025-07-13T06:16:41.508527Z"
    },
    "papermill": {
     "duration": 3.349228,
     "end_time": "2025-07-13T06:16:41.511466",
     "exception": false,
     "start_time": "2025-07-13T06:16:38.162238",
     "status": "completed"
    },
    "tags": []
   },
   "outputs": [
    {
     "data": {
      "text/plain": [
       "{'Baseline': ['V4-DeepFM@5', 'V4-DeepFM@10'],\n",
       " 'Precision': [0.0954, 0.0635],\n",
       " 'Recall': [0.4768, 0.6351],\n",
       " 'HitRate': [0.4768, 0.6351],\n",
       " 'NDCG': [0.3354, 0.3865],\n",
       " 'MAP': [0.2888, 0.3098],\n",
       " 'F1-score': [0.1589, 0.1155]}"
      ]
     },
     "execution_count": 42,
     "metadata": {},
     "output_type": "execute_result"
    }
   ],
   "source": [
    "eval_5 = evaluate_model(test[[\"user\",\"item\"]], results2,5)\n",
    "eval_10 = evaluate_model(test[[\"user\",\"item\"]], results2,10)\n",
    "{k: [eval_5[k], eval_10[k]] for k in eval_5}"
   ]
  }
 ],
 "metadata": {
  "kaggle": {
   "accelerator": "none",
   "dataSources": [
    {
     "datasetId": 7259858,
     "sourceId": 11578790,
     "sourceType": "datasetVersion"
    },
    {
     "sourceId": 226720178,
     "sourceType": "kernelVersion"
    },
    {
     "sourceId": 240478674,
     "sourceType": "kernelVersion"
    },
    {
     "sourceId": 244142845,
     "sourceType": "kernelVersion"
    },
    {
     "sourceId": 244308495,
     "sourceType": "kernelVersion"
    },
    {
     "sourceId": 244327544,
     "sourceType": "kernelVersion"
    },
    {
     "sourceId": 244350711,
     "sourceType": "kernelVersion"
    },
    {
     "sourceId": 244484368,
     "sourceType": "kernelVersion"
    },
    {
     "sourceId": 244671932,
     "sourceType": "kernelVersion"
    },
    {
     "sourceId": 245444354,
     "sourceType": "kernelVersion"
    }
   ],
   "dockerImageVersionId": 30918,
   "isGpuEnabled": false,
   "isInternetEnabled": true,
   "language": "python",
   "sourceType": "notebook"
  },
  "kernelspec": {
   "display_name": "Python 3",
   "language": "python",
   "name": "python3"
  },
  "language_info": {
   "codemirror_mode": {
    "name": "ipython",
    "version": 3
   },
   "file_extension": ".py",
   "mimetype": "text/x-python",
   "name": "python",
   "nbconvert_exporter": "python",
   "pygments_lexer": "ipython3",
   "version": "3.10.12"
  },
  "papermill": {
   "default_parameters": {},
   "duration": 4892.405623,
   "end_time": "2025-07-13T06:16:46.859476",
   "environment_variables": {},
   "exception": null,
   "input_path": "__notebook__.ipynb",
   "output_path": "__notebook__.ipynb",
   "parameters": {},
   "start_time": "2025-07-13T04:55:14.453853",
   "version": "2.6.0"
  }
 },
 "nbformat": 4,
 "nbformat_minor": 5
}
