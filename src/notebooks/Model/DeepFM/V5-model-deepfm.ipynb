{
 "cells": [
  {
   "cell_type": "code",
   "execution_count": 1,
   "id": "2c2252a9",
   "metadata": {
    "_cell_guid": "b1076dfc-b9ad-4769-8c92-a6c4dae69d19",
    "_uuid": "8f2839f25d086af736a60e9eeb907d3b93b6e0e5",
    "execution": {
     "iopub.execute_input": "2025-07-13T04:55:01.314962Z",
     "iopub.status.busy": "2025-07-13T04:55:01.314455Z",
     "iopub.status.idle": "2025-07-13T04:55:02.273019Z",
     "shell.execute_reply": "2025-07-13T04:55:02.271848Z"
    },
    "papermill": {
     "duration": 0.970805,
     "end_time": "2025-07-13T04:55:02.274612",
     "exception": false,
     "start_time": "2025-07-13T04:55:01.303807",
     "status": "completed"
    },
    "tags": []
   },
   "outputs": [
    {
     "name": "stdout",
     "output_type": "stream",
     "text": [
      "/kaggle/input/dataver4/__results__.html\n",
      "/kaggle/input/dataver4/__huggingface_repos__.json\n",
      "/kaggle/input/dataver4/dataver4.h5\n",
      "/kaggle/input/dataver4/__notebook__.ipynb\n",
      "/kaggle/input/dataver4/__output__.json\n",
      "/kaggle/input/dataver4/custom.css\n",
      "/kaggle/input/dataset-version-3/dataver3.h5\n",
      "/kaggle/input/random-user/sample_user.csv\n",
      "/kaggle/input/random-user/__results__.html\n",
      "/kaggle/input/random-user/__notebook__.ipynb\n",
      "/kaggle/input/random-user/__output__.json\n",
      "/kaggle/input/random-user/custom.css\n",
      "/kaggle/input/preprocessing-course-json/course.json\n",
      "/kaggle/input/preprocessing-course-json/__results__.html\n",
      "/kaggle/input/preprocessing-course-json/__notebook__.ipynb\n",
      "/kaggle/input/preprocessing-course-json/__output__.json\n",
      "/kaggle/input/preprocessing-course-json/custom.css\n",
      "/kaggle/input/combine-dataset/__results__.html\n",
      "/kaggle/input/combine-dataset/combine_data.h5\n",
      "/kaggle/input/combine-dataset/__notebook__.ipynb\n",
      "/kaggle/input/combine-dataset/__output__.json\n",
      "/kaggle/input/combine-dataset/custom.css\n",
      "/kaggle/input/dataver5/__results__.html\n",
      "/kaggle/input/dataver5/__huggingface_repos__.json\n",
      "/kaggle/input/dataver5/__notebook__.ipynb\n",
      "/kaggle/input/dataver5/data_ver5.h5\n",
      "/kaggle/input/dataver5/__output__.json\n",
      "/kaggle/input/dataver5/custom.css\n",
      "/kaggle/input/dataver2/__results__.html\n",
      "/kaggle/input/dataver2/data_ver2.h5\n",
      "/kaggle/input/dataver2/__notebook__.ipynb\n",
      "/kaggle/input/dataver2/__output__.json\n",
      "/kaggle/input/dataver2/custom.css\n",
      "/kaggle/input/dataver3/dataver3.h5\n",
      "/kaggle/input/dataver3/__results__.html\n",
      "/kaggle/input/dataver3/__notebook__.ipynb\n",
      "/kaggle/input/dataver3/__output__.json\n",
      "/kaggle/input/dataver3/custom.css\n",
      "/kaggle/input/preprocessing-user-json/user.csv\n",
      "/kaggle/input/preprocessing-user-json/__results__.html\n",
      "/kaggle/input/preprocessing-user-json/user-5-100.csv\n",
      "/kaggle/input/preprocessing-user-json/__notebook__.ipynb\n",
      "/kaggle/input/preprocessing-user-json/__output__.json\n",
      "/kaggle/input/preprocessing-user-json/user-course.csv\n",
      "/kaggle/input/preprocessing-user-json/custom.css\n",
      "/kaggle/input/dataver2-train-test/__results__.html\n",
      "/kaggle/input/dataver2-train-test/data_ver2.h5\n",
      "/kaggle/input/dataver2-train-test/__notebook__.ipynb\n",
      "/kaggle/input/dataver2-train-test/__output__.json\n",
      "/kaggle/input/dataver2-train-test/custom.css\n"
     ]
    }
   ],
   "source": [
    "# This Python 3 environment comes with many helpful analytics libraries installed\n",
    "# It is defined by the kaggle/python Docker image: https://github.com/kaggle/docker-python\n",
    "# For example, here's several helpful packages to load\n",
    "\n",
    "import numpy as np # linear algebra\n",
    "import pandas as pd # data processing, CSV file I/O (e.g. pd.read_csv)\n",
    "import time\n",
    "from tqdm import tqdm\n",
    "# Input data files are available in the read-only \"../input/\" directory\n",
    "# For example, running this (by clicking run or pressing Shift+Enter) will list all files under the input directory\n",
    "\n",
    "import os\n",
    "for dirname, _, filenames in os.walk('/kaggle/input'):\n",
    "    for filename in filenames:\n",
    "        print(os.path.join(dirname, filename))\n",
    "\n",
    "# You can write up to 20GB to the current directory (/kaggle/working/) that gets preserved as output when you create a version using \"Save & Run All\" \n",
    "# You can also write temporary files to /kaggle/temp/, but they won't be saved outside of the current session"
   ]
  },
  {
   "cell_type": "code",
   "execution_count": 2,
   "id": "140574c5",
   "metadata": {
    "execution": {
     "iopub.execute_input": "2025-07-13T04:55:02.293497Z",
     "iopub.status.busy": "2025-07-13T04:55:02.293033Z",
     "iopub.status.idle": "2025-07-13T04:55:02.297016Z",
     "shell.execute_reply": "2025-07-13T04:55:02.296110Z"
    },
    "papermill": {
     "duration": 0.014948,
     "end_time": "2025-07-13T04:55:02.298534",
     "exception": false,
     "start_time": "2025-07-13T04:55:02.283586",
     "status": "completed"
    },
    "tags": []
   },
   "outputs": [],
   "source": [
    "i=4\n",
    "path=[\n",
    "    \"/kaggle/input/combine-dataset/combine_data.h5\",\n",
    "    \"/kaggle/input/dataver2-train-test/data_ver2.h5\",\n",
    "    \"/kaggle/input/dataver3/dataver3.h5\",\n",
    "    \"/kaggle/input/dataver4/dataver4.h5\",\n",
    "    \"/kaggle/input/dataver5/data_ver5.h5\"\n",
    "     ]"
   ]
  },
  {
   "cell_type": "code",
   "execution_count": 3,
   "id": "27a130ef",
   "metadata": {
    "execution": {
     "iopub.execute_input": "2025-07-13T04:55:02.317224Z",
     "iopub.status.busy": "2025-07-13T04:55:02.316886Z",
     "iopub.status.idle": "2025-07-13T04:56:45.327372Z",
     "shell.execute_reply": "2025-07-13T04:56:45.325420Z"
    },
    "papermill": {
     "duration": 103.02394,
     "end_time": "2025-07-13T04:56:45.331230",
     "exception": false,
     "start_time": "2025-07-13T04:55:02.307290",
     "status": "completed"
    },
    "tags": []
   },
   "outputs": [],
   "source": [
    "%%capture\n",
    "! pip install tensorflow==2.12.0\n",
    "! pip install -U LibRecommender"
   ]
  },
  {
   "cell_type": "code",
   "execution_count": 4,
   "id": "e6e0421d",
   "metadata": {
    "execution": {
     "iopub.execute_input": "2025-07-13T04:56:45.353281Z",
     "iopub.status.busy": "2025-07-13T04:56:45.352802Z",
     "iopub.status.idle": "2025-07-13T04:57:44.122298Z",
     "shell.execute_reply": "2025-07-13T04:57:44.121047Z"
    },
    "papermill": {
     "duration": 58.78183,
     "end_time": "2025-07-13T04:57:44.124565",
     "exception": false,
     "start_time": "2025-07-13T04:56:45.342735",
     "status": "completed"
    },
    "tags": []
   },
   "outputs": [],
   "source": [
    "import numpy as np\n",
    "import pandas as pd\n",
    "from libreco.data import split_by_num_chrono, DatasetFeat\n",
    "from libreco.algorithms import DeepFM \n",
    "\n",
    "item_data = pd.read_json(\"/kaggle/input/preprocessing-course-json/course.json\", lines=True)\n",
    "user_item_data = pd.read_csv(\"/kaggle/input/preprocessing-user-json/user-course.csv\")\n",
    "user_data = pd.read_csv(\"/kaggle/input/preprocessing-user-json/user-5-100.csv\")"
   ]
  },
  {
   "cell_type": "code",
   "execution_count": 5,
   "id": "55792fa3",
   "metadata": {
    "execution": {
     "iopub.execute_input": "2025-07-13T04:57:44.144127Z",
     "iopub.status.busy": "2025-07-13T04:57:44.143601Z",
     "iopub.status.idle": "2025-07-13T04:58:43.119401Z",
     "shell.execute_reply": "2025-07-13T04:58:43.118294Z"
    },
    "papermill": {
     "duration": 58.99789,
     "end_time": "2025-07-13T04:58:43.131711",
     "exception": false,
     "start_time": "2025-07-13T04:57:44.133821",
     "status": "completed"
    },
    "tags": []
   },
   "outputs": [
    {
     "data": {
      "text/html": [
       "<div>\n",
       "<style scoped>\n",
       "    .dataframe tbody tr th:only-of-type {\n",
       "        vertical-align: middle;\n",
       "    }\n",
       "\n",
       "    .dataframe tbody tr th {\n",
       "        vertical-align: top;\n",
       "    }\n",
       "\n",
       "    .dataframe thead th {\n",
       "        text-align: right;\n",
       "    }\n",
       "</style>\n",
       "<table border=\"1\" class=\"dataframe\">\n",
       "  <thead>\n",
       "    <tr style=\"text-align: right;\">\n",
       "      <th></th>\n",
       "      <th>user_id</th>\n",
       "      <th>course_id</th>\n",
       "      <th>course_name</th>\n",
       "      <th>course_prerequisites</th>\n",
       "      <th>course_about</th>\n",
       "      <th>course_field</th>\n",
       "      <th>video_id</th>\n",
       "      <th>video_ccid</th>\n",
       "      <th>video_duration</th>\n",
       "      <th>exercise_id</th>\n",
       "      <th>...</th>\n",
       "      <th>teacher_org_name</th>\n",
       "      <th>enroll_time</th>\n",
       "      <th>user_gender</th>\n",
       "      <th>watch_id</th>\n",
       "      <th>total_watch_time</th>\n",
       "      <th>actual_watch_time</th>\n",
       "      <th>doing_exercise_id</th>\n",
       "      <th>doing_num_correct</th>\n",
       "      <th>user_course_num_comment</th>\n",
       "      <th>user_course_num_replies</th>\n",
       "    </tr>\n",
       "  </thead>\n",
       "  <tbody>\n",
       "    <tr>\n",
       "      <th>0</th>\n",
       "      <td>U_24</td>\n",
       "      <td>C_597314</td>\n",
       "      <td>university chinese—analysis of northern song d...</td>\n",
       "      <td></td>\n",
       "      <td>at present, the talent gap in data science and...</td>\n",
       "      <td>[chinese language and literature]</td>\n",
       "      <td>[V_10741, V_10729, V_10669, V_10636, V_10583, ...</td>\n",
       "      <td>[059F9E3D0C61EC3A9C33DC5901307461, 05BA5BEC636...</td>\n",
       "      <td>[678.88, 1861.28, 280.63, 1488.369, 1192.15, 6...</td>\n",
       "      <td>[Ex_10607, Ex_10647, Ex_10628, Ex_10711, Ex_10...</td>\n",
       "      <td>...</td>\n",
       "      <td>[tsinghua university]</td>\n",
       "      <td>1560360127</td>\n",
       "      <td>1</td>\n",
       "      <td>NaN</td>\n",
       "      <td>NaN</td>\n",
       "      <td>NaN</td>\n",
       "      <td>NaN</td>\n",
       "      <td>NaN</td>\n",
       "      <td>0</td>\n",
       "      <td>0</td>\n",
       "    </tr>\n",
       "    <tr>\n",
       "      <th>1</th>\n",
       "      <td>U_24</td>\n",
       "      <td>C_597208</td>\n",
       "      <td>data mining: theory and algorithm</td>\n",
       "      <td></td>\n",
       "      <td>the most interesting theory + the most useful ...</td>\n",
       "      <td>[computer science and technology]</td>\n",
       "      <td>[V_3025, V_2985, V_2964, V_3074, V_3082, V_306...</td>\n",
       "      <td>[03D205A6AEB0B16F9C33DC5901307461, 03F5AF209FA...</td>\n",
       "      <td>[1003.9, 773.66, 886.35, 505.57, 889.61, 930.6...</td>\n",
       "      <td>[Ex_2994, Ex_3099, Ex_3066, Ex_3021, Ex_3006, ...</td>\n",
       "      <td>...</td>\n",
       "      <td>[tsinghua university]</td>\n",
       "      <td>1560784961</td>\n",
       "      <td>1</td>\n",
       "      <td>NaN</td>\n",
       "      <td>NaN</td>\n",
       "      <td>NaN</td>\n",
       "      <td>NaN</td>\n",
       "      <td>NaN</td>\n",
       "      <td>0</td>\n",
       "      <td>0</td>\n",
       "    </tr>\n",
       "    <tr>\n",
       "      <th>2</th>\n",
       "      <td>U_24</td>\n",
       "      <td>C_682129</td>\n",
       "      <td>software theory basics</td>\n",
       "      <td></td>\n",
       "      <td>this course introduces formal language, automa...</td>\n",
       "      <td>[pharmacy, control science and engineering, pu...</td>\n",
       "      <td>[V_265396, V_265411, V_265404, V_265442, V_265...</td>\n",
       "      <td>[00784179599D8C659C33DC5901307461, 036F26D5314...</td>\n",
       "      <td>[1236.79, 1212.67, 1584.55, 1574.35, 376.79, 5...</td>\n",
       "      <td>[Ex_265490, Ex_265468, Ex_265398, Ex_265475, E...</td>\n",
       "      <td>...</td>\n",
       "      <td>[tsinghua university]</td>\n",
       "      <td>1570379031</td>\n",
       "      <td>1</td>\n",
       "      <td>NaN</td>\n",
       "      <td>NaN</td>\n",
       "      <td>NaN</td>\n",
       "      <td>NaN</td>\n",
       "      <td>NaN</td>\n",
       "      <td>0</td>\n",
       "      <td>0</td>\n",
       "    </tr>\n",
       "    <tr>\n",
       "      <th>3</th>\n",
       "      <td>U_24</td>\n",
       "      <td>C_674910</td>\n",
       "      <td>pattern aesthetics and creation</td>\n",
       "      <td></td>\n",
       "      <td>[national premium course] this course provides...</td>\n",
       "      <td>[mining engineering, geological resources and ...</td>\n",
       "      <td>None</td>\n",
       "      <td>None</td>\n",
       "      <td>None</td>\n",
       "      <td>[Ex_35603, Ex_35595, Ex_35599, Ex_35583, Ex_35...</td>\n",
       "      <td>...</td>\n",
       "      <td>[tsinghua university]</td>\n",
       "      <td>1570557064</td>\n",
       "      <td>1</td>\n",
       "      <td>NaN</td>\n",
       "      <td>NaN</td>\n",
       "      <td>NaN</td>\n",
       "      <td>NaN</td>\n",
       "      <td>NaN</td>\n",
       "      <td>0</td>\n",
       "      <td>0</td>\n",
       "    </tr>\n",
       "    <tr>\n",
       "      <th>4</th>\n",
       "      <td>U_24</td>\n",
       "      <td>C_707038</td>\n",
       "      <td>organic chemistry</td>\n",
       "      <td></td>\n",
       "      <td>the world's organic compounds are rich and col...</td>\n",
       "      <td>[chemical engineering and technology, chemical]</td>\n",
       "      <td>[V_566855, V_567087, V_566826, V_567004, V_566...</td>\n",
       "      <td>[001EF0F9EA519E1B9C33DC5901307461, 003EB4E2CD2...</td>\n",
       "      <td>[194.2, 295.6, 423.465, 270.269, 529.6, 183.69...</td>\n",
       "      <td>[Ex_567007, Ex_566841, Ex_566866, Ex_567006, E...</td>\n",
       "      <td>...</td>\n",
       "      <td>[tsinghua university, tsinghua university, tsi...</td>\n",
       "      <td>1570971985</td>\n",
       "      <td>1</td>\n",
       "      <td>NaN</td>\n",
       "      <td>NaN</td>\n",
       "      <td>NaN</td>\n",
       "      <td>NaN</td>\n",
       "      <td>NaN</td>\n",
       "      <td>0</td>\n",
       "      <td>0</td>\n",
       "    </tr>\n",
       "    <tr>\n",
       "      <th>...</th>\n",
       "      <td>...</td>\n",
       "      <td>...</td>\n",
       "      <td>...</td>\n",
       "      <td>...</td>\n",
       "      <td>...</td>\n",
       "      <td>...</td>\n",
       "      <td>...</td>\n",
       "      <td>...</td>\n",
       "      <td>...</td>\n",
       "      <td>...</td>\n",
       "      <td>...</td>\n",
       "      <td>...</td>\n",
       "      <td>...</td>\n",
       "      <td>...</td>\n",
       "      <td>...</td>\n",
       "      <td>...</td>\n",
       "      <td>...</td>\n",
       "      <td>...</td>\n",
       "      <td>...</td>\n",
       "      <td>...</td>\n",
       "      <td>...</td>\n",
       "    </tr>\n",
       "    <tr>\n",
       "      <th>7284495</th>\n",
       "      <td>U_34712115</td>\n",
       "      <td>C_770738</td>\n",
       "      <td>data structure (part 2)</td>\n",
       "      <td></td>\n",
       "      <td>breeze plan 2021 [first term recruitment] is i...</td>\n",
       "      <td>[history of science and technology, ethnology]</td>\n",
       "      <td>[V_784218, V_784314, V_784095, V_784020, V_784...</td>\n",
       "      <td>[00CE59849A6B87B29C33DC5901307461, 00DDC85FD9E...</td>\n",
       "      <td>[173.09, 312.0, 333.86, 446.9, 93.46, 142.56, ...</td>\n",
       "      <td>[Ex_1004448, Ex_1011216, Ex_1004394, Ex_784166...</td>\n",
       "      <td>...</td>\n",
       "      <td>[tsinghua university]</td>\n",
       "      <td>1602487061</td>\n",
       "      <td>1</td>\n",
       "      <td>NaN</td>\n",
       "      <td>NaN</td>\n",
       "      <td>NaN</td>\n",
       "      <td>NaN</td>\n",
       "      <td>NaN</td>\n",
       "      <td>0</td>\n",
       "      <td>0</td>\n",
       "    </tr>\n",
       "    <tr>\n",
       "      <th>7284496</th>\n",
       "      <td>U_34712115</td>\n",
       "      <td>C_676937</td>\n",
       "      <td>advanced c++ language programming</td>\n",
       "      <td></td>\n",
       "      <td>breeze plan 2021 [first term recruitment] is i...</td>\n",
       "      <td>[computer science and technology]</td>\n",
       "      <td>[V_69237, V_69353, V_69285, V_69228, V_69217, ...</td>\n",
       "      <td>[0086579E5E48FC179C33DC5901307461, 0814FA18F28...</td>\n",
       "      <td>[649.72, 193.64, 493.92, 372.2, 468.04, 230.24...</td>\n",
       "      <td>[Ex_69254, Ex_69224, Ex_69293, Ex_69253, Ex_69...</td>\n",
       "      <td>...</td>\n",
       "      <td>[tsinghua university, tsinghua university, tsi...</td>\n",
       "      <td>1603225930</td>\n",
       "      <td>1</td>\n",
       "      <td>NaN</td>\n",
       "      <td>NaN</td>\n",
       "      <td>NaN</td>\n",
       "      <td>NaN</td>\n",
       "      <td>NaN</td>\n",
       "      <td>0</td>\n",
       "      <td>0</td>\n",
       "    </tr>\n",
       "    <tr>\n",
       "      <th>7284497</th>\n",
       "      <td>U_34712115</td>\n",
       "      <td>C_694136</td>\n",
       "      <td>data mining: theory and algorithm</td>\n",
       "      <td></td>\n",
       "      <td>the most interesting theory + the most useful ...</td>\n",
       "      <td>[public administration, journalism communicati...</td>\n",
       "      <td>[V_434820, V_434780, V_434759, V_434869, V_434...</td>\n",
       "      <td>[03D205A6AEB0B16F9C33DC5901307461, 03F5AF209FA...</td>\n",
       "      <td>[1003.9, 773.66, 886.35, 505.57, 889.61, 930.6...</td>\n",
       "      <td>[Ex_434826, Ex_743296, Ex_434785, Ex_434853, E...</td>\n",
       "      <td>...</td>\n",
       "      <td>[tsinghua university]</td>\n",
       "      <td>1603226018</td>\n",
       "      <td>1</td>\n",
       "      <td>NaN</td>\n",
       "      <td>NaN</td>\n",
       "      <td>NaN</td>\n",
       "      <td>NaN</td>\n",
       "      <td>NaN</td>\n",
       "      <td>0</td>\n",
       "      <td>0</td>\n",
       "    </tr>\n",
       "    <tr>\n",
       "      <th>7284498</th>\n",
       "      <td>U_34712115</td>\n",
       "      <td>C_1738993</td>\n",
       "      <td>game programming</td>\n",
       "      <td></td>\n",
       "      <td>this course is jointly produced by tsinghua un...</td>\n",
       "      <td>[journalism communication, animal husbandry, t...</td>\n",
       "      <td>[V_4067820, V_4067793, V_4067819, V_4067861, V...</td>\n",
       "      <td>[01F30259BD4076869C33DC5901307461, 043477B78DF...</td>\n",
       "      <td>[267.21, 216.3, 951.63, 492.66, 1171.085, 381....</td>\n",
       "      <td>[Ex_4067784, Ex_4067718, Ex_4067824, Ex_406780...</td>\n",
       "      <td>...</td>\n",
       "      <td>[tencent game academy, tencent game academy, t...</td>\n",
       "      <td>1603226118</td>\n",
       "      <td>1</td>\n",
       "      <td>NaN</td>\n",
       "      <td>NaN</td>\n",
       "      <td>NaN</td>\n",
       "      <td>NaN</td>\n",
       "      <td>NaN</td>\n",
       "      <td>0</td>\n",
       "      <td>0</td>\n",
       "    </tr>\n",
       "    <tr>\n",
       "      <th>7284499</th>\n",
       "      <td>U_34712115</td>\n",
       "      <td>C_697092</td>\n",
       "      <td>3d game engine architecture design basics</td>\n",
       "      <td>c++ programming, computer graphics. it is best...</td>\n",
       "      <td>game engines are independent and complex compo...</td>\n",
       "      <td>[agricultural and forestry economic management...</td>\n",
       "      <td>None</td>\n",
       "      <td>None</td>\n",
       "      <td>None</td>\n",
       "      <td>[Ex_510835, Ex_510808, Ex_510829, Ex_510843, E...</td>\n",
       "      <td>...</td>\n",
       "      <td>[south china university technology]</td>\n",
       "      <td>1603226187</td>\n",
       "      <td>1</td>\n",
       "      <td>NaN</td>\n",
       "      <td>NaN</td>\n",
       "      <td>NaN</td>\n",
       "      <td>NaN</td>\n",
       "      <td>NaN</td>\n",
       "      <td>0</td>\n",
       "      <td>0</td>\n",
       "    </tr>\n",
       "  </tbody>\n",
       "</table>\n",
       "<p>7284500 rows × 34 columns</p>\n",
       "</div>"
      ],
      "text/plain": [
       "            user_id  course_id  \\\n",
       "0              U_24   C_597314   \n",
       "1              U_24   C_597208   \n",
       "2              U_24   C_682129   \n",
       "3              U_24   C_674910   \n",
       "4              U_24   C_707038   \n",
       "...             ...        ...   \n",
       "7284495  U_34712115   C_770738   \n",
       "7284496  U_34712115   C_676937   \n",
       "7284497  U_34712115   C_694136   \n",
       "7284498  U_34712115  C_1738993   \n",
       "7284499  U_34712115   C_697092   \n",
       "\n",
       "                                               course_name  \\\n",
       "0        university chinese—analysis of northern song d...   \n",
       "1                        data mining: theory and algorithm   \n",
       "2                                   software theory basics   \n",
       "3                          pattern aesthetics and creation   \n",
       "4                                        organic chemistry   \n",
       "...                                                    ...   \n",
       "7284495                            data structure (part 2)   \n",
       "7284496                  advanced c++ language programming   \n",
       "7284497                  data mining: theory and algorithm   \n",
       "7284498                                   game programming   \n",
       "7284499          3d game engine architecture design basics   \n",
       "\n",
       "                                      course_prerequisites  \\\n",
       "0                                                            \n",
       "1                                                            \n",
       "2                                                            \n",
       "3                                                            \n",
       "4                                                            \n",
       "...                                                    ...   \n",
       "7284495                                                      \n",
       "7284496                                                      \n",
       "7284497                                                      \n",
       "7284498                                                      \n",
       "7284499  c++ programming, computer graphics. it is best...   \n",
       "\n",
       "                                              course_about  \\\n",
       "0        at present, the talent gap in data science and...   \n",
       "1        the most interesting theory + the most useful ...   \n",
       "2        this course introduces formal language, automa...   \n",
       "3        [national premium course] this course provides...   \n",
       "4        the world's organic compounds are rich and col...   \n",
       "...                                                    ...   \n",
       "7284495  breeze plan 2021 [first term recruitment] is i...   \n",
       "7284496  breeze plan 2021 [first term recruitment] is i...   \n",
       "7284497  the most interesting theory + the most useful ...   \n",
       "7284498  this course is jointly produced by tsinghua un...   \n",
       "7284499  game engines are independent and complex compo...   \n",
       "\n",
       "                                              course_field  \\\n",
       "0                        [chinese language and literature]   \n",
       "1                        [computer science and technology]   \n",
       "2        [pharmacy, control science and engineering, pu...   \n",
       "3        [mining engineering, geological resources and ...   \n",
       "4          [chemical engineering and technology, chemical]   \n",
       "...                                                    ...   \n",
       "7284495     [history of science and technology, ethnology]   \n",
       "7284496                  [computer science and technology]   \n",
       "7284497  [public administration, journalism communicati...   \n",
       "7284498  [journalism communication, animal husbandry, t...   \n",
       "7284499  [agricultural and forestry economic management...   \n",
       "\n",
       "                                                  video_id  \\\n",
       "0        [V_10741, V_10729, V_10669, V_10636, V_10583, ...   \n",
       "1        [V_3025, V_2985, V_2964, V_3074, V_3082, V_306...   \n",
       "2        [V_265396, V_265411, V_265404, V_265442, V_265...   \n",
       "3                                                     None   \n",
       "4        [V_566855, V_567087, V_566826, V_567004, V_566...   \n",
       "...                                                    ...   \n",
       "7284495  [V_784218, V_784314, V_784095, V_784020, V_784...   \n",
       "7284496  [V_69237, V_69353, V_69285, V_69228, V_69217, ...   \n",
       "7284497  [V_434820, V_434780, V_434759, V_434869, V_434...   \n",
       "7284498  [V_4067820, V_4067793, V_4067819, V_4067861, V...   \n",
       "7284499                                               None   \n",
       "\n",
       "                                                video_ccid  \\\n",
       "0        [059F9E3D0C61EC3A9C33DC5901307461, 05BA5BEC636...   \n",
       "1        [03D205A6AEB0B16F9C33DC5901307461, 03F5AF209FA...   \n",
       "2        [00784179599D8C659C33DC5901307461, 036F26D5314...   \n",
       "3                                                     None   \n",
       "4        [001EF0F9EA519E1B9C33DC5901307461, 003EB4E2CD2...   \n",
       "...                                                    ...   \n",
       "7284495  [00CE59849A6B87B29C33DC5901307461, 00DDC85FD9E...   \n",
       "7284496  [0086579E5E48FC179C33DC5901307461, 0814FA18F28...   \n",
       "7284497  [03D205A6AEB0B16F9C33DC5901307461, 03F5AF209FA...   \n",
       "7284498  [01F30259BD4076869C33DC5901307461, 043477B78DF...   \n",
       "7284499                                               None   \n",
       "\n",
       "                                            video_duration  \\\n",
       "0        [678.88, 1861.28, 280.63, 1488.369, 1192.15, 6...   \n",
       "1        [1003.9, 773.66, 886.35, 505.57, 889.61, 930.6...   \n",
       "2        [1236.79, 1212.67, 1584.55, 1574.35, 376.79, 5...   \n",
       "3                                                     None   \n",
       "4        [194.2, 295.6, 423.465, 270.269, 529.6, 183.69...   \n",
       "...                                                    ...   \n",
       "7284495  [173.09, 312.0, 333.86, 446.9, 93.46, 142.56, ...   \n",
       "7284496  [649.72, 193.64, 493.92, 372.2, 468.04, 230.24...   \n",
       "7284497  [1003.9, 773.66, 886.35, 505.57, 889.61, 930.6...   \n",
       "7284498  [267.21, 216.3, 951.63, 492.66, 1171.085, 381....   \n",
       "7284499                                               None   \n",
       "\n",
       "                                               exercise_id  ...  \\\n",
       "0        [Ex_10607, Ex_10647, Ex_10628, Ex_10711, Ex_10...  ...   \n",
       "1        [Ex_2994, Ex_3099, Ex_3066, Ex_3021, Ex_3006, ...  ...   \n",
       "2        [Ex_265490, Ex_265468, Ex_265398, Ex_265475, E...  ...   \n",
       "3        [Ex_35603, Ex_35595, Ex_35599, Ex_35583, Ex_35...  ...   \n",
       "4        [Ex_567007, Ex_566841, Ex_566866, Ex_567006, E...  ...   \n",
       "...                                                    ...  ...   \n",
       "7284495  [Ex_1004448, Ex_1011216, Ex_1004394, Ex_784166...  ...   \n",
       "7284496  [Ex_69254, Ex_69224, Ex_69293, Ex_69253, Ex_69...  ...   \n",
       "7284497  [Ex_434826, Ex_743296, Ex_434785, Ex_434853, E...  ...   \n",
       "7284498  [Ex_4067784, Ex_4067718, Ex_4067824, Ex_406780...  ...   \n",
       "7284499  [Ex_510835, Ex_510808, Ex_510829, Ex_510843, E...  ...   \n",
       "\n",
       "                                          teacher_org_name enroll_time  \\\n",
       "0                                    [tsinghua university]  1560360127   \n",
       "1                                    [tsinghua university]  1560784961   \n",
       "2                                    [tsinghua university]  1570379031   \n",
       "3                                    [tsinghua university]  1570557064   \n",
       "4        [tsinghua university, tsinghua university, tsi...  1570971985   \n",
       "...                                                    ...         ...   \n",
       "7284495                              [tsinghua university]  1602487061   \n",
       "7284496  [tsinghua university, tsinghua university, tsi...  1603225930   \n",
       "7284497                              [tsinghua university]  1603226018   \n",
       "7284498  [tencent game academy, tencent game academy, t...  1603226118   \n",
       "7284499                [south china university technology]  1603226187   \n",
       "\n",
       "        user_gender watch_id total_watch_time  actual_watch_time  \\\n",
       "0                 1      NaN              NaN                NaN   \n",
       "1                 1      NaN              NaN                NaN   \n",
       "2                 1      NaN              NaN                NaN   \n",
       "3                 1      NaN              NaN                NaN   \n",
       "4                 1      NaN              NaN                NaN   \n",
       "...             ...      ...              ...                ...   \n",
       "7284495           1      NaN              NaN                NaN   \n",
       "7284496           1      NaN              NaN                NaN   \n",
       "7284497           1      NaN              NaN                NaN   \n",
       "7284498           1      NaN              NaN                NaN   \n",
       "7284499           1      NaN              NaN                NaN   \n",
       "\n",
       "        doing_exercise_id doing_num_correct user_course_num_comment  \\\n",
       "0                     NaN               NaN                       0   \n",
       "1                     NaN               NaN                       0   \n",
       "2                     NaN               NaN                       0   \n",
       "3                     NaN               NaN                       0   \n",
       "4                     NaN               NaN                       0   \n",
       "...                   ...               ...                     ...   \n",
       "7284495               NaN               NaN                       0   \n",
       "7284496               NaN               NaN                       0   \n",
       "7284497               NaN               NaN                       0   \n",
       "7284498               NaN               NaN                       0   \n",
       "7284499               NaN               NaN                       0   \n",
       "\n",
       "        user_course_num_replies  \n",
       "0                             0  \n",
       "1                             0  \n",
       "2                             0  \n",
       "3                             0  \n",
       "4                             0  \n",
       "...                         ...  \n",
       "7284495                       0  \n",
       "7284496                       0  \n",
       "7284497                       0  \n",
       "7284498                       0  \n",
       "7284499                       0  \n",
       "\n",
       "[7284500 rows x 34 columns]"
      ]
     },
     "execution_count": 5,
     "metadata": {},
     "output_type": "execute_result"
    }
   ],
   "source": [
    "combine_data = pd.read_hdf(path[i], key='df')\n",
    "combine_data"
   ]
  },
  {
   "cell_type": "code",
   "execution_count": 6,
   "id": "2e4e2784",
   "metadata": {
    "execution": {
     "iopub.execute_input": "2025-07-13T04:58:43.152658Z",
     "iopub.status.busy": "2025-07-13T04:58:43.152290Z",
     "iopub.status.idle": "2025-07-13T04:58:43.158431Z",
     "shell.execute_reply": "2025-07-13T04:58:43.157351Z"
    },
    "papermill": {
     "duration": 0.019038,
     "end_time": "2025-07-13T04:58:43.160243",
     "exception": false,
     "start_time": "2025-07-13T04:58:43.141205",
     "status": "completed"
    },
    "tags": []
   },
   "outputs": [],
   "source": [
    "def filter_user_item_interactions(df, user_col='user_id', item_col='course_id', min_interactions=5):\n",
    "    \"\"\"\n",
    "    Lọc bỏ các user và item có ít hơn `min_interactions` tương tác.\n",
    "\n",
    "    Args:\n",
    "        df (pd.DataFrame): DataFrame chứa tương tác user-item.\n",
    "        user_col (str): Tên cột user.\n",
    "        item_col (str): Tên cột item (course).\n",
    "        min_interactions (int): Số tương tác tối thiểu để giữ lại.\n",
    "\n",
    "    Returns:\n",
    "        pd.DataFrame: DataFrame đã được lọc.\n",
    "    \"\"\"\n",
    "    import pandas as pd\n",
    "\n",
    "    while True:\n",
    "        original_len = len(df)\n",
    "        \n",
    "        # Lọc user\n",
    "        user_counts = df[user_col].value_counts()\n",
    "        valid_users = user_counts[user_counts >= min_interactions].index\n",
    "        df = df[df[user_col].isin(valid_users)]\n",
    "\n",
    "        # Lọc item\n",
    "        item_counts = df[item_col].value_counts()\n",
    "        valid_items = item_counts[item_counts >= min_interactions].index\n",
    "        df = df[df[item_col].isin(valid_items)]\n",
    "\n",
    "        if len(df) == original_len:\n",
    "            break  # không còn gì để lọc nữa\n",
    "\n",
    "    return df.reset_index(drop=True)\n",
    "# filter_user_item_interactions"
   ]
  },
  {
   "cell_type": "code",
   "execution_count": 7,
   "id": "71e9defb",
   "metadata": {
    "execution": {
     "iopub.execute_input": "2025-07-13T04:58:43.180525Z",
     "iopub.status.busy": "2025-07-13T04:58:43.180195Z",
     "iopub.status.idle": "2025-07-13T04:58:43.186461Z",
     "shell.execute_reply": "2025-07-13T04:58:43.185395Z"
    },
    "papermill": {
     "duration": 0.018186,
     "end_time": "2025-07-13T04:58:43.188037",
     "exception": false,
     "start_time": "2025-07-13T04:58:43.169851",
     "status": "completed"
    },
    "tags": []
   },
   "outputs": [
    {
     "data": {
      "text/plain": [
       "Index(['user_id', 'course_id', 'course_name', 'course_prerequisites',\n",
       "       'course_about', 'course_field', 'video_id', 'video_ccid',\n",
       "       'video_duration', 'exercise_id', 'exercise_num_problem', 'concept_id',\n",
       "       'concept_prerequisite', 'concept_name', 'concept_field',\n",
       "       'course_total_comments', 'school_id', 'school_name', 'school_about',\n",
       "       'school_motto', 'teacher_id', 'teacher_name', 'teacher_about',\n",
       "       'teacher_job_title', 'teacher_org_name', 'enroll_time', 'user_gender',\n",
       "       'watch_id', 'total_watch_time', 'actual_watch_time',\n",
       "       'doing_exercise_id', 'doing_num_correct', 'user_course_num_comment',\n",
       "       'user_course_num_replies'],\n",
       "      dtype='object')"
      ]
     },
     "execution_count": 7,
     "metadata": {},
     "output_type": "execute_result"
    }
   ],
   "source": [
    "combine_data.columns"
   ]
  },
  {
   "cell_type": "code",
   "execution_count": 8,
   "id": "8fff0b8f",
   "metadata": {
    "execution": {
     "iopub.execute_input": "2025-07-13T04:58:43.208123Z",
     "iopub.status.busy": "2025-07-13T04:58:43.207705Z",
     "iopub.status.idle": "2025-07-13T04:58:48.549570Z",
     "shell.execute_reply": "2025-07-13T04:58:48.548462Z"
    },
    "papermill": {
     "duration": 5.354343,
     "end_time": "2025-07-13T04:58:48.551804",
     "exception": false,
     "start_time": "2025-07-13T04:58:43.197461",
     "status": "completed"
    },
    "tags": []
   },
   "outputs": [],
   "source": [
    "item_col_list=[\n",
    "    'course_id','course_name','course_prerequisites', 'course_about',\n",
    "    'school_id','teacher_id','video_duration','exercise_num_problem','course_total_comments']\n",
    "if i!=1:\n",
    "    item_col_list+=['course_field']\n",
    "\n",
    "item_data = combine_data[item_col_list]\n",
    "item_data=item_data.groupby('course_id').first().reset_index()"
   ]
  },
  {
   "cell_type": "code",
   "execution_count": null,
   "id": "a58461b1",
   "metadata": {
    "papermill": {
     "duration": 0.015357,
     "end_time": "2025-07-13T04:58:48.585970",
     "exception": false,
     "start_time": "2025-07-13T04:58:48.570613",
     "status": "completed"
    },
    "tags": []
   },
   "outputs": [],
   "source": []
  },
  {
   "cell_type": "code",
   "execution_count": 9,
   "id": "8a5dc9c5",
   "metadata": {
    "execution": {
     "iopub.execute_input": "2025-07-13T04:58:48.606383Z",
     "iopub.status.busy": "2025-07-13T04:58:48.606005Z",
     "iopub.status.idle": "2025-07-13T04:58:48.634480Z",
     "shell.execute_reply": "2025-07-13T04:58:48.633403Z"
    },
    "papermill": {
     "duration": 0.04089,
     "end_time": "2025-07-13T04:58:48.636398",
     "exception": false,
     "start_time": "2025-07-13T04:58:48.595508",
     "status": "completed"
    },
    "tags": []
   },
   "outputs": [
    {
     "data": {
      "text/html": [
       "<div>\n",
       "<style scoped>\n",
       "    .dataframe tbody tr th:only-of-type {\n",
       "        vertical-align: middle;\n",
       "    }\n",
       "\n",
       "    .dataframe tbody tr th {\n",
       "        vertical-align: top;\n",
       "    }\n",
       "\n",
       "    .dataframe thead th {\n",
       "        text-align: right;\n",
       "    }\n",
       "</style>\n",
       "<table border=\"1\" class=\"dataframe\">\n",
       "  <thead>\n",
       "    <tr style=\"text-align: right;\">\n",
       "      <th></th>\n",
       "      <th>course_id</th>\n",
       "      <th>course_name</th>\n",
       "      <th>course_prerequisites</th>\n",
       "      <th>course_about</th>\n",
       "      <th>school_id</th>\n",
       "      <th>teacher_id</th>\n",
       "      <th>video_duration</th>\n",
       "      <th>exercise_num_problem</th>\n",
       "      <th>course_total_comments</th>\n",
       "      <th>course_field</th>\n",
       "    </tr>\n",
       "  </thead>\n",
       "  <tbody>\n",
       "    <tr>\n",
       "      <th>0</th>\n",
       "      <td>C_1017355</td>\n",
       "      <td>introduction to traditional chinese medicine e...</td>\n",
       "      <td>the main subjects are college students who hav...</td>\n",
       "      <td>traditional chinese medicine culture - the tre...</td>\n",
       "      <td>[S_33]</td>\n",
       "      <td>[T_7970, T_7971, T_5826, T_7978, T_7979]</td>\n",
       "      <td>None</td>\n",
       "      <td>[5, 5, 5, 5, 5, 5, 5, 5, 5, 5, 5, 5, 5, 5, 5, ...</td>\n",
       "      <td>39624</td>\n",
       "      <td>[battle studies, weapon science and technology...</td>\n",
       "    </tr>\n",
       "    <tr>\n",
       "      <th>1</th>\n",
       "      <td>C_1017419</td>\n",
       "      <td>smart government talk</td>\n",
       "      <td></td>\n",
       "      <td>this course combines specific cases of traffic...</td>\n",
       "      <td>[S_52]</td>\n",
       "      <td>[T_7849, T_16199, T_16200, T_16201, T_16202, T...</td>\n",
       "      <td>None</td>\n",
       "      <td>[15, 15, 20, 15, 15, 15, 15, 16, 15]</td>\n",
       "      <td>609</td>\n",
       "      <td>[ship and marine engineering]</td>\n",
       "    </tr>\n",
       "    <tr>\n",
       "      <th>2</th>\n",
       "      <td>C_1025064</td>\n",
       "      <td>principles of ideological and political education</td>\n",
       "      <td></td>\n",
       "      <td>hello, dear classmate! do you want to know how...</td>\n",
       "      <td>[S_13]</td>\n",
       "      <td>[T_3915, T_3911, T_5426, T_5427, T_5429]</td>\n",
       "      <td>[466.575, 402.325, 476.65, 1025.9, 755.075, 42...</td>\n",
       "      <td>[10, 10, 10, 10, 10, 10, 10, 10, 10, 10, 10, 1...</td>\n",
       "      <td>696</td>\n",
       "      <td>[geological resources and geological engineering]</td>\n",
       "    </tr>\n",
       "    <tr>\n",
       "      <th>3</th>\n",
       "      <td>C_1025076</td>\n",
       "      <td>advanced roller skating tutorial</td>\n",
       "      <td></td>\n",
       "      <td>the true meaning of experiencing roller skatin...</td>\n",
       "      <td>[S_72]</td>\n",
       "      <td>[T_5394]</td>\n",
       "      <td>None</td>\n",
       "      <td>[1, 1, 15, 1]</td>\n",
       "      <td>2</td>\n",
       "      <td>[pharmacy, public administration, psychology, ...</td>\n",
       "    </tr>\n",
       "    <tr>\n",
       "      <th>4</th>\n",
       "      <td>C_1025079</td>\n",
       "      <td>scientific fitness method-silk-winding fitness...</td>\n",
       "      <td>none</td>\n",
       "      <td>silk wrapping skills are the chinese solution ...</td>\n",
       "      <td>[S_97]</td>\n",
       "      <td>[T_7939]</td>\n",
       "      <td>[671.97, 925.17, 748.11, 644.25, 543.93, 546.3...</td>\n",
       "      <td>[5, 5, 5, 5, 5]</td>\n",
       "      <td>125</td>\n",
       "      <td>[pharmacy, basic chinese medicine, intelligenc...</td>\n",
       "    </tr>\n",
       "    <tr>\n",
       "      <th>...</th>\n",
       "      <td>...</td>\n",
       "      <td>...</td>\n",
       "      <td>...</td>\n",
       "      <td>...</td>\n",
       "      <td>...</td>\n",
       "      <td>...</td>\n",
       "      <td>...</td>\n",
       "      <td>...</td>\n",
       "      <td>...</td>\n",
       "      <td>...</td>\n",
       "    </tr>\n",
       "    <tr>\n",
       "      <th>2761</th>\n",
       "      <td>C_949542</td>\n",
       "      <td>thinking innovation and creativity development</td>\n",
       "      <td>none</td>\n",
       "      <td>if appearance is a letter of recommendation fo...</td>\n",
       "      <td>[S_749]</td>\n",
       "      <td>[T_7389, T_7390, T_10280, T_10281, T_7392, T_7...</td>\n",
       "      <td>[784.77, 713.7, 578.07, 689.01, 624.45, 658.17...</td>\n",
       "      <td>[7, 8, 6, 7, 8, 10, 7, 8, 8, 11, 10, 6, 6, 5, ...</td>\n",
       "      <td>839</td>\n",
       "      <td>[light industry technology and engineering]</td>\n",
       "    </tr>\n",
       "    <tr>\n",
       "      <th>2762</th>\n",
       "      <td>C_955163</td>\n",
       "      <td>learn to make mini programs - practical chapte...</td>\n",
       "      <td>computer basics, html, css, javascript, progra...</td>\n",
       "      <td>this course is a wechat mini program learning ...</td>\n",
       "      <td>[S_1]</td>\n",
       "      <td>[T_172, T_14907, T_14933, T_1286]</td>\n",
       "      <td>[515.893, 134.584, 2084.548, 1546.264, 38.356,...</td>\n",
       "      <td>[5, 1, 10, 10, 1, 30, 4]</td>\n",
       "      <td>305</td>\n",
       "      <td>[weapon science and technology, instrument sci...</td>\n",
       "    </tr>\n",
       "    <tr>\n",
       "      <th>2763</th>\n",
       "      <td>C_956128</td>\n",
       "      <td>interpretation of hot issues of portal hyperte...</td>\n",
       "      <td></td>\n",
       "      <td>interpretation of hot issues of portal hyperte...</td>\n",
       "      <td>[S_144]</td>\n",
       "      <td>[T_7005, T_7006, T_7007]</td>\n",
       "      <td>None</td>\n",
       "      <td>[15, 15, 15, 15, 15, 15, 15]</td>\n",
       "      <td>0</td>\n",
       "      <td>[weapon science and technology]</td>\n",
       "    </tr>\n",
       "    <tr>\n",
       "      <th>2764</th>\n",
       "      <td>C_956129</td>\n",
       "      <td>introduction to games and esports</td>\n",
       "      <td>none</td>\n",
       "      <td>the game industry has become a popular profess...</td>\n",
       "      <td>[S_492]</td>\n",
       "      <td>[T_4850, T_4852, T_4851, T_4854]</td>\n",
       "      <td>[463.65, 598.375, 354.68, 547.18, 289.23, 349....</td>\n",
       "      <td>[2, 3, 3, 8, 7, 6, 10, 9, 9, 6, 4, 1, 6, 7, 8,...</td>\n",
       "      <td>1597</td>\n",
       "      <td>[weapon science and technology, light industry...</td>\n",
       "    </tr>\n",
       "    <tr>\n",
       "      <th>2765</th>\n",
       "      <td>C_956130</td>\n",
       "      <td>multimedia technology and application</td>\n",
       "      <td>none</td>\n",
       "      <td>this course mainly learns the basic concepts o...</td>\n",
       "      <td>[S_11]</td>\n",
       "      <td>[T_7457, T_8331, T_8417]</td>\n",
       "      <td>None</td>\n",
       "      <td>[1, 5, 27, 8, 6, 19, 28, 6, 14, 16, 21, 6, 15,...</td>\n",
       "      <td>3</td>\n",
       "      <td>[pharmacy, journalism communication, weapon sc...</td>\n",
       "    </tr>\n",
       "  </tbody>\n",
       "</table>\n",
       "<p>2766 rows × 10 columns</p>\n",
       "</div>"
      ],
      "text/plain": [
       "      course_id                                        course_name  \\\n",
       "0     C_1017355  introduction to traditional chinese medicine e...   \n",
       "1     C_1017419                              smart government talk   \n",
       "2     C_1025064  principles of ideological and political education   \n",
       "3     C_1025076                   advanced roller skating tutorial   \n",
       "4     C_1025079  scientific fitness method-silk-winding fitness...   \n",
       "...         ...                                                ...   \n",
       "2761   C_949542     thinking innovation and creativity development   \n",
       "2762   C_955163  learn to make mini programs - practical chapte...   \n",
       "2763   C_956128  interpretation of hot issues of portal hyperte...   \n",
       "2764   C_956129                  introduction to games and esports   \n",
       "2765   C_956130              multimedia technology and application   \n",
       "\n",
       "                                   course_prerequisites  \\\n",
       "0     the main subjects are college students who hav...   \n",
       "1                                                         \n",
       "2                                                         \n",
       "3                                                         \n",
       "4                                                  none   \n",
       "...                                                 ...   \n",
       "2761                                               none   \n",
       "2762  computer basics, html, css, javascript, progra...   \n",
       "2763                                                      \n",
       "2764                                               none   \n",
       "2765                                               none   \n",
       "\n",
       "                                           course_about school_id  \\\n",
       "0     traditional chinese medicine culture - the tre...    [S_33]   \n",
       "1     this course combines specific cases of traffic...    [S_52]   \n",
       "2     hello, dear classmate! do you want to know how...    [S_13]   \n",
       "3     the true meaning of experiencing roller skatin...    [S_72]   \n",
       "4     silk wrapping skills are the chinese solution ...    [S_97]   \n",
       "...                                                 ...       ...   \n",
       "2761  if appearance is a letter of recommendation fo...   [S_749]   \n",
       "2762  this course is a wechat mini program learning ...     [S_1]   \n",
       "2763  interpretation of hot issues of portal hyperte...   [S_144]   \n",
       "2764  the game industry has become a popular profess...   [S_492]   \n",
       "2765  this course mainly learns the basic concepts o...    [S_11]   \n",
       "\n",
       "                                             teacher_id  \\\n",
       "0              [T_7970, T_7971, T_5826, T_7978, T_7979]   \n",
       "1     [T_7849, T_16199, T_16200, T_16201, T_16202, T...   \n",
       "2              [T_3915, T_3911, T_5426, T_5427, T_5429]   \n",
       "3                                              [T_5394]   \n",
       "4                                              [T_7939]   \n",
       "...                                                 ...   \n",
       "2761  [T_7389, T_7390, T_10280, T_10281, T_7392, T_7...   \n",
       "2762                  [T_172, T_14907, T_14933, T_1286]   \n",
       "2763                           [T_7005, T_7006, T_7007]   \n",
       "2764                   [T_4850, T_4852, T_4851, T_4854]   \n",
       "2765                           [T_7457, T_8331, T_8417]   \n",
       "\n",
       "                                         video_duration  \\\n",
       "0                                                  None   \n",
       "1                                                  None   \n",
       "2     [466.575, 402.325, 476.65, 1025.9, 755.075, 42...   \n",
       "3                                                  None   \n",
       "4     [671.97, 925.17, 748.11, 644.25, 543.93, 546.3...   \n",
       "...                                                 ...   \n",
       "2761  [784.77, 713.7, 578.07, 689.01, 624.45, 658.17...   \n",
       "2762  [515.893, 134.584, 2084.548, 1546.264, 38.356,...   \n",
       "2763                                               None   \n",
       "2764  [463.65, 598.375, 354.68, 547.18, 289.23, 349....   \n",
       "2765                                               None   \n",
       "\n",
       "                                   exercise_num_problem  \\\n",
       "0     [5, 5, 5, 5, 5, 5, 5, 5, 5, 5, 5, 5, 5, 5, 5, ...   \n",
       "1                  [15, 15, 20, 15, 15, 15, 15, 16, 15]   \n",
       "2     [10, 10, 10, 10, 10, 10, 10, 10, 10, 10, 10, 1...   \n",
       "3                                         [1, 1, 15, 1]   \n",
       "4                                       [5, 5, 5, 5, 5]   \n",
       "...                                                 ...   \n",
       "2761  [7, 8, 6, 7, 8, 10, 7, 8, 8, 11, 10, 6, 6, 5, ...   \n",
       "2762                           [5, 1, 10, 10, 1, 30, 4]   \n",
       "2763                       [15, 15, 15, 15, 15, 15, 15]   \n",
       "2764  [2, 3, 3, 8, 7, 6, 10, 9, 9, 6, 4, 1, 6, 7, 8,...   \n",
       "2765  [1, 5, 27, 8, 6, 19, 28, 6, 14, 16, 21, 6, 15,...   \n",
       "\n",
       "      course_total_comments                                       course_field  \n",
       "0                     39624  [battle studies, weapon science and technology...  \n",
       "1                       609                      [ship and marine engineering]  \n",
       "2                       696  [geological resources and geological engineering]  \n",
       "3                         2  [pharmacy, public administration, psychology, ...  \n",
       "4                       125  [pharmacy, basic chinese medicine, intelligenc...  \n",
       "...                     ...                                                ...  \n",
       "2761                    839        [light industry technology and engineering]  \n",
       "2762                    305  [weapon science and technology, instrument sci...  \n",
       "2763                      0                    [weapon science and technology]  \n",
       "2764                   1597  [weapon science and technology, light industry...  \n",
       "2765                      3  [pharmacy, journalism communication, weapon sc...  \n",
       "\n",
       "[2766 rows x 10 columns]"
      ]
     },
     "execution_count": 9,
     "metadata": {},
     "output_type": "execute_result"
    }
   ],
   "source": [
    "item_data"
   ]
  },
  {
   "cell_type": "code",
   "execution_count": 10,
   "id": "b06243b7",
   "metadata": {
    "execution": {
     "iopub.execute_input": "2025-07-13T04:58:48.663721Z",
     "iopub.status.busy": "2025-07-13T04:58:48.663346Z",
     "iopub.status.idle": "2025-07-13T04:58:48.673722Z",
     "shell.execute_reply": "2025-07-13T04:58:48.672612Z"
    },
    "papermill": {
     "duration": 0.023181,
     "end_time": "2025-07-13T04:58:48.675376",
     "exception": false,
     "start_time": "2025-07-13T04:58:48.652195",
     "status": "completed"
    },
    "tags": []
   },
   "outputs": [],
   "source": [
    "def prepare_course_features(course_df):\n",
    "    course_df = course_df.copy()\n",
    "\n",
    "    # Đảm bảo các cột danh sách là thực sự danh sách\n",
    "    list_columns = ['school_id', 'teacher_id', 'video_duration', 'exercise_num_problem']\n",
    "    for col in list_columns:\n",
    "        course_df[col] = course_df[col].apply(lambda x: x if isinstance(x, list) else [])\n",
    "\n",
    "    # ===== Tính toán đặc trưng =====\n",
    "    course_df['total_video_duration'] = course_df['video_duration'].apply(\n",
    "        lambda x: np.nansum(x) if len(x) > 0 else 0\n",
    "    )\n",
    "    course_df['total_num_problem'] = course_df['exercise_num_problem'].apply(\n",
    "        lambda x: np.nansum(x) if len(x) > 0 else 0\n",
    "    )\n",
    "    course_df['num_videos'] = course_df['video_duration'].apply(len)\n",
    "    course_df['num_exercises'] = course_df['exercise_num_problem'].apply(len)\n",
    "    course_df['num_teachers'] = course_df['teacher_id'].apply(len)\n",
    "    course_df['num_schools'] = course_df['school_id'].apply(len)\n",
    "\n",
    "    # ===== Tách school_id_1 và school_id_2 =====\n",
    "    course_df['teacher_id'] = course_df['teacher_id'].apply(lambda x: x[0] if len(x) > 0 else None)\n",
    "    course_df['teacher_id'] = course_df['teacher_id'].fillna('missing')\n",
    "    course_df['school_id_1'] = course_df['school_id'].apply(lambda x: x[0] if len(x) > 0 else None)\n",
    "    course_df['school_id_2'] = course_df['school_id'].apply(lambda x: x[1] if len(x) > 1 else None)\n",
    "    course_df['school_id_1'] = course_df['school_id_1'].fillna('missing')\n",
    "    course_df['school_id_2'] = course_df['school_id_2'].fillna('missing')\n",
    "    # ===== Embed teacher_id list (tạm: dùng chỉ số trung bình để đại diện) =====\n",
    "    # Nếu muốn dùng embedding sau này thì giữ lại list hoặc dùng nhiều cột teacher_id_1, _2,...\n",
    "    if i==1:\n",
    "        course_df['course_text'] = course_df[\n",
    "            ['course_name', 'course_prerequisites', 'course_about']\n",
    "        ].fillna('').apply(lambda x: ' '.join(x), axis=1)\n",
    "    else:\n",
    "        course_df['course_field'] = course_df['course_field'].apply(\n",
    "            lambda x: ' '.join(x) if isinstance(x, list) else ''\n",
    "            )\n",
    "        course_df['course_text'] = course_df[\n",
    "            ['course_name', 'course_prerequisites', 'course_about','course_field']\n",
    "        ].fillna('').apply(lambda x: ' '.join(x), axis=1)\n",
    "    # ===== Output =====\n",
    "    course_features = course_df[[\n",
    "        'course_id',\n",
    "        'course_text',\n",
    "        'total_video_duration',\n",
    "        'total_num_problem',\n",
    "        'num_videos',\n",
    "        'num_exercises',\n",
    "        'num_teachers',\n",
    "        'teacher_id',\n",
    "        'num_schools',\n",
    "        'school_id_1',\n",
    "        'school_id_2',\n",
    "        'course_total_comments'\n",
    "    ]]\n",
    "\n",
    "    return course_features\n"
   ]
  },
  {
   "cell_type": "code",
   "execution_count": 11,
   "id": "4a81dddc",
   "metadata": {
    "execution": {
     "iopub.execute_input": "2025-07-13T04:58:48.697383Z",
     "iopub.status.busy": "2025-07-13T04:58:48.697032Z",
     "iopub.status.idle": "2025-07-13T04:58:48.801284Z",
     "shell.execute_reply": "2025-07-13T04:58:48.800260Z"
    },
    "papermill": {
     "duration": 0.117716,
     "end_time": "2025-07-13T04:58:48.803207",
     "exception": false,
     "start_time": "2025-07-13T04:58:48.685491",
     "status": "completed"
    },
    "tags": []
   },
   "outputs": [],
   "source": [
    "item_data = prepare_course_features(item_data)"
   ]
  },
  {
   "cell_type": "code",
   "execution_count": 12,
   "id": "79442a9c",
   "metadata": {
    "execution": {
     "iopub.execute_input": "2025-07-13T04:58:48.824613Z",
     "iopub.status.busy": "2025-07-13T04:58:48.824268Z",
     "iopub.status.idle": "2025-07-13T04:58:48.835834Z",
     "shell.execute_reply": "2025-07-13T04:58:48.834529Z"
    },
    "papermill": {
     "duration": 0.024002,
     "end_time": "2025-07-13T04:58:48.837420",
     "exception": false,
     "start_time": "2025-07-13T04:58:48.813418",
     "status": "completed"
    },
    "tags": []
   },
   "outputs": [
    {
     "data": {
      "text/plain": [
       "course_id                0\n",
       "course_text              0\n",
       "total_video_duration     0\n",
       "total_num_problem        0\n",
       "num_videos               0\n",
       "num_exercises            0\n",
       "num_teachers             0\n",
       "teacher_id               0\n",
       "num_schools              0\n",
       "school_id_1              0\n",
       "school_id_2              0\n",
       "course_total_comments    0\n",
       "dtype: int64"
      ]
     },
     "execution_count": 12,
     "metadata": {},
     "output_type": "execute_result"
    }
   ],
   "source": [
    "item_data.isnull().sum()"
   ]
  },
  {
   "cell_type": "code",
   "execution_count": 13,
   "id": "cab21b0d",
   "metadata": {
    "execution": {
     "iopub.execute_input": "2025-07-13T04:58:48.859319Z",
     "iopub.status.busy": "2025-07-13T04:58:48.858902Z",
     "iopub.status.idle": "2025-07-13T04:58:49.857893Z",
     "shell.execute_reply": "2025-07-13T04:58:49.856737Z"
    },
    "papermill": {
     "duration": 1.011979,
     "end_time": "2025-07-13T04:58:49.859983",
     "exception": false,
     "start_time": "2025-07-13T04:58:48.848004",
     "status": "completed"
    },
    "tags": []
   },
   "outputs": [],
   "source": [
    "user_data = combine_data[['user_id','user_gender']].drop_duplicates().reset_index()"
   ]
  },
  {
   "cell_type": "code",
   "execution_count": 14,
   "id": "7edcccc5",
   "metadata": {
    "execution": {
     "iopub.execute_input": "2025-07-13T04:58:49.881600Z",
     "iopub.status.busy": "2025-07-13T04:58:49.881184Z",
     "iopub.status.idle": "2025-07-13T04:58:50.130583Z",
     "shell.execute_reply": "2025-07-13T04:58:50.129211Z"
    },
    "papermill": {
     "duration": 0.262458,
     "end_time": "2025-07-13T04:58:50.132568",
     "exception": false,
     "start_time": "2025-07-13T04:58:49.870110",
     "status": "completed"
    },
    "tags": []
   },
   "outputs": [],
   "source": [
    "user_item_data=combine_data[['user_id','course_id','enroll_time']]"
   ]
  },
  {
   "cell_type": "code",
   "execution_count": 15,
   "id": "4e0ca46c",
   "metadata": {
    "execution": {
     "iopub.execute_input": "2025-07-13T04:58:50.154638Z",
     "iopub.status.busy": "2025-07-13T04:58:50.154262Z",
     "iopub.status.idle": "2025-07-13T04:58:50.259999Z",
     "shell.execute_reply": "2025-07-13T04:58:50.258704Z"
    },
    "papermill": {
     "duration": 0.11866,
     "end_time": "2025-07-13T04:58:50.261975",
     "exception": false,
     "start_time": "2025-07-13T04:58:50.143315",
     "status": "completed"
    },
    "tags": []
   },
   "outputs": [],
   "source": [
    "sp_user = pd.read_csv(\"/kaggle/input/random-user/sample_user.csv\")\n",
    "user_data = user_data[user_data['user_id'].isin(sp_user['user_id'])]"
   ]
  },
  {
   "cell_type": "code",
   "execution_count": 16,
   "id": "44f241e1",
   "metadata": {
    "execution": {
     "iopub.execute_input": "2025-07-13T04:58:50.284091Z",
     "iopub.status.busy": "2025-07-13T04:58:50.283492Z",
     "iopub.status.idle": "2025-07-13T04:58:50.288289Z",
     "shell.execute_reply": "2025-07-13T04:58:50.287175Z"
    },
    "papermill": {
     "duration": 0.017805,
     "end_time": "2025-07-13T04:58:50.289991",
     "exception": false,
     "start_time": "2025-07-13T04:58:50.272186",
     "status": "completed"
    },
    "tags": []
   },
   "outputs": [],
   "source": [
    "# user_data = user_data.sample(n=10000, random_state=42)"
   ]
  },
  {
   "cell_type": "code",
   "execution_count": 17,
   "id": "f2eb6c7f",
   "metadata": {
    "execution": {
     "iopub.execute_input": "2025-07-13T04:58:50.311898Z",
     "iopub.status.busy": "2025-07-13T04:58:50.311487Z",
     "iopub.status.idle": "2025-07-13T04:58:51.112220Z",
     "shell.execute_reply": "2025-07-13T04:58:51.111033Z"
    },
    "papermill": {
     "duration": 0.813609,
     "end_time": "2025-07-13T04:58:51.113878",
     "exception": false,
     "start_time": "2025-07-13T04:58:50.300269",
     "status": "completed"
    },
    "tags": []
   },
   "outputs": [
    {
     "data": {
      "text/html": [
       "<div>\n",
       "<style scoped>\n",
       "    .dataframe tbody tr th:only-of-type {\n",
       "        vertical-align: middle;\n",
       "    }\n",
       "\n",
       "    .dataframe tbody tr th {\n",
       "        vertical-align: top;\n",
       "    }\n",
       "\n",
       "    .dataframe thead th {\n",
       "        text-align: right;\n",
       "    }\n",
       "</style>\n",
       "<table border=\"1\" class=\"dataframe\">\n",
       "  <thead>\n",
       "    <tr style=\"text-align: right;\">\n",
       "      <th></th>\n",
       "      <th>user_id</th>\n",
       "      <th>course_id</th>\n",
       "      <th>enroll_time</th>\n",
       "    </tr>\n",
       "  </thead>\n",
       "  <tbody>\n",
       "    <tr>\n",
       "      <th>37</th>\n",
       "      <td>U_54</td>\n",
       "      <td>C_682442</td>\n",
       "      <td>1570587469</td>\n",
       "    </tr>\n",
       "    <tr>\n",
       "      <th>38</th>\n",
       "      <td>U_54</td>\n",
       "      <td>C_1748240</td>\n",
       "      <td>1586941976</td>\n",
       "    </tr>\n",
       "    <tr>\n",
       "      <th>39</th>\n",
       "      <td>U_54</td>\n",
       "      <td>C_1794464</td>\n",
       "      <td>1591966731</td>\n",
       "    </tr>\n",
       "    <tr>\n",
       "      <th>40</th>\n",
       "      <td>U_54</td>\n",
       "      <td>C_697791</td>\n",
       "      <td>1592061292</td>\n",
       "    </tr>\n",
       "    <tr>\n",
       "      <th>41</th>\n",
       "      <td>U_54</td>\n",
       "      <td>C_1793742</td>\n",
       "      <td>1592062158</td>\n",
       "    </tr>\n",
       "    <tr>\n",
       "      <th>...</th>\n",
       "      <td>...</td>\n",
       "      <td>...</td>\n",
       "      <td>...</td>\n",
       "    </tr>\n",
       "    <tr>\n",
       "      <th>7284489</th>\n",
       "      <td>U_34712103</td>\n",
       "      <td>C_680991</td>\n",
       "      <td>1602473442</td>\n",
       "    </tr>\n",
       "    <tr>\n",
       "      <th>7284490</th>\n",
       "      <td>U_34712103</td>\n",
       "      <td>C_735296</td>\n",
       "      <td>1602590307</td>\n",
       "    </tr>\n",
       "    <tr>\n",
       "      <th>7284491</th>\n",
       "      <td>U_34712103</td>\n",
       "      <td>C_677093</td>\n",
       "      <td>1602594530</td>\n",
       "    </tr>\n",
       "    <tr>\n",
       "      <th>7284492</th>\n",
       "      <td>U_34712103</td>\n",
       "      <td>C_854843</td>\n",
       "      <td>1602709450</td>\n",
       "    </tr>\n",
       "    <tr>\n",
       "      <th>7284493</th>\n",
       "      <td>U_34712103</td>\n",
       "      <td>C_866769</td>\n",
       "      <td>1602805225</td>\n",
       "    </tr>\n",
       "  </tbody>\n",
       "</table>\n",
       "<p>335586 rows × 3 columns</p>\n",
       "</div>"
      ],
      "text/plain": [
       "            user_id  course_id  enroll_time\n",
       "37             U_54   C_682442   1570587469\n",
       "38             U_54  C_1748240   1586941976\n",
       "39             U_54  C_1794464   1591966731\n",
       "40             U_54   C_697791   1592061292\n",
       "41             U_54  C_1793742   1592062158\n",
       "...             ...        ...          ...\n",
       "7284489  U_34712103   C_680991   1602473442\n",
       "7284490  U_34712103   C_735296   1602590307\n",
       "7284491  U_34712103   C_677093   1602594530\n",
       "7284492  U_34712103   C_854843   1602709450\n",
       "7284493  U_34712103   C_866769   1602805225\n",
       "\n",
       "[335586 rows x 3 columns]"
      ]
     },
     "execution_count": 17,
     "metadata": {},
     "output_type": "execute_result"
    }
   ],
   "source": [
    "user_course_filtered = user_item_data[user_item_data[\"user_id\"].isin(user_data[\"user_id\"])]\n",
    "user_course_filtered = user_course_filtered[user_course_filtered[\"course_id\"].isin(item_data[\"course_id\"])]\n",
    "user_course_filtered"
   ]
  },
  {
   "cell_type": "code",
   "execution_count": 18,
   "id": "4735dbf8",
   "metadata": {
    "execution": {
     "iopub.execute_input": "2025-07-13T04:58:51.135827Z",
     "iopub.status.busy": "2025-07-13T04:58:51.135409Z",
     "iopub.status.idle": "2025-07-13T04:58:51.140776Z",
     "shell.execute_reply": "2025-07-13T04:58:51.139610Z"
    },
    "papermill": {
     "duration": 0.018208,
     "end_time": "2025-07-13T04:58:51.142515",
     "exception": false,
     "start_time": "2025-07-13T04:58:51.124307",
     "status": "completed"
    },
    "tags": []
   },
   "outputs": [],
   "source": [
    "def split_data(data):\n",
    "    data.rename(columns={\"course_id\": \"item\",\"user_id\":\"user\",\"enroll_time\":\"time\"}, inplace=True)\n",
    "    train_data, test_data = split_by_num_chrono(data, test_size=1)\n",
    "    return train_data,test_data"
   ]
  },
  {
   "cell_type": "code",
   "execution_count": 19,
   "id": "684e24fe",
   "metadata": {
    "execution": {
     "iopub.execute_input": "2025-07-13T04:58:51.165834Z",
     "iopub.status.busy": "2025-07-13T04:58:51.165389Z",
     "iopub.status.idle": "2025-07-13T04:58:51.239604Z",
     "shell.execute_reply": "2025-07-13T04:58:51.238702Z"
    },
    "papermill": {
     "duration": 0.087681,
     "end_time": "2025-07-13T04:58:51.241509",
     "exception": false,
     "start_time": "2025-07-13T04:58:51.153828",
     "status": "completed"
    },
    "tags": []
   },
   "outputs": [],
   "source": [
    "data = user_course_filtered.merge(user_data.rename(columns={\"id\":\"user_id\"}), on='user_id', how='inner')\n",
    "data['label'] = 1"
   ]
  },
  {
   "cell_type": "code",
   "execution_count": 20,
   "id": "093a6fd3",
   "metadata": {
    "execution": {
     "iopub.execute_input": "2025-07-13T04:58:51.263337Z",
     "iopub.status.busy": "2025-07-13T04:58:51.262985Z",
     "iopub.status.idle": "2025-07-13T04:58:51.290129Z",
     "shell.execute_reply": "2025-07-13T04:58:51.289052Z"
    },
    "papermill": {
     "duration": 0.040026,
     "end_time": "2025-07-13T04:58:51.291874",
     "exception": false,
     "start_time": "2025-07-13T04:58:51.251848",
     "status": "completed"
    },
    "tags": []
   },
   "outputs": [
    {
     "data": {
      "text/html": [
       "<div>\n",
       "<style scoped>\n",
       "    .dataframe tbody tr th:only-of-type {\n",
       "        vertical-align: middle;\n",
       "    }\n",
       "\n",
       "    .dataframe tbody tr th {\n",
       "        vertical-align: top;\n",
       "    }\n",
       "\n",
       "    .dataframe thead th {\n",
       "        text-align: right;\n",
       "    }\n",
       "</style>\n",
       "<table border=\"1\" class=\"dataframe\">\n",
       "  <thead>\n",
       "    <tr style=\"text-align: right;\">\n",
       "      <th></th>\n",
       "      <th>user_id</th>\n",
       "      <th>course_id</th>\n",
       "      <th>enroll_time</th>\n",
       "      <th>user_gender</th>\n",
       "      <th>label</th>\n",
       "    </tr>\n",
       "  </thead>\n",
       "  <tbody>\n",
       "    <tr>\n",
       "      <th>0</th>\n",
       "      <td>U_54</td>\n",
       "      <td>C_682442</td>\n",
       "      <td>1570587469</td>\n",
       "      <td>2</td>\n",
       "      <td>1</td>\n",
       "    </tr>\n",
       "    <tr>\n",
       "      <th>1</th>\n",
       "      <td>U_54</td>\n",
       "      <td>C_1748240</td>\n",
       "      <td>1586941976</td>\n",
       "      <td>2</td>\n",
       "      <td>1</td>\n",
       "    </tr>\n",
       "    <tr>\n",
       "      <th>2</th>\n",
       "      <td>U_54</td>\n",
       "      <td>C_1794464</td>\n",
       "      <td>1591966731</td>\n",
       "      <td>2</td>\n",
       "      <td>1</td>\n",
       "    </tr>\n",
       "    <tr>\n",
       "      <th>3</th>\n",
       "      <td>U_54</td>\n",
       "      <td>C_697791</td>\n",
       "      <td>1592061292</td>\n",
       "      <td>2</td>\n",
       "      <td>1</td>\n",
       "    </tr>\n",
       "    <tr>\n",
       "      <th>4</th>\n",
       "      <td>U_54</td>\n",
       "      <td>C_1793742</td>\n",
       "      <td>1592062158</td>\n",
       "      <td>2</td>\n",
       "      <td>1</td>\n",
       "    </tr>\n",
       "    <tr>\n",
       "      <th>...</th>\n",
       "      <td>...</td>\n",
       "      <td>...</td>\n",
       "      <td>...</td>\n",
       "      <td>...</td>\n",
       "      <td>...</td>\n",
       "    </tr>\n",
       "    <tr>\n",
       "      <th>335581</th>\n",
       "      <td>U_34712103</td>\n",
       "      <td>C_680991</td>\n",
       "      <td>1602473442</td>\n",
       "      <td>1</td>\n",
       "      <td>1</td>\n",
       "    </tr>\n",
       "    <tr>\n",
       "      <th>335582</th>\n",
       "      <td>U_34712103</td>\n",
       "      <td>C_735296</td>\n",
       "      <td>1602590307</td>\n",
       "      <td>1</td>\n",
       "      <td>1</td>\n",
       "    </tr>\n",
       "    <tr>\n",
       "      <th>335583</th>\n",
       "      <td>U_34712103</td>\n",
       "      <td>C_677093</td>\n",
       "      <td>1602594530</td>\n",
       "      <td>1</td>\n",
       "      <td>1</td>\n",
       "    </tr>\n",
       "    <tr>\n",
       "      <th>335584</th>\n",
       "      <td>U_34712103</td>\n",
       "      <td>C_854843</td>\n",
       "      <td>1602709450</td>\n",
       "      <td>1</td>\n",
       "      <td>1</td>\n",
       "    </tr>\n",
       "    <tr>\n",
       "      <th>335585</th>\n",
       "      <td>U_34712103</td>\n",
       "      <td>C_866769</td>\n",
       "      <td>1602805225</td>\n",
       "      <td>1</td>\n",
       "      <td>1</td>\n",
       "    </tr>\n",
       "  </tbody>\n",
       "</table>\n",
       "<p>335586 rows × 5 columns</p>\n",
       "</div>"
      ],
      "text/plain": [
       "           user_id  course_id  enroll_time  user_gender  label\n",
       "0             U_54   C_682442   1570587469            2      1\n",
       "1             U_54  C_1748240   1586941976            2      1\n",
       "2             U_54  C_1794464   1591966731            2      1\n",
       "3             U_54   C_697791   1592061292            2      1\n",
       "4             U_54  C_1793742   1592062158            2      1\n",
       "...            ...        ...          ...          ...    ...\n",
       "335581  U_34712103   C_680991   1602473442            1      1\n",
       "335582  U_34712103   C_735296   1602590307            1      1\n",
       "335583  U_34712103   C_677093   1602594530            1      1\n",
       "335584  U_34712103   C_854843   1602709450            1      1\n",
       "335585  U_34712103   C_866769   1602805225            1      1\n",
       "\n",
       "[335586 rows x 5 columns]"
      ]
     },
     "execution_count": 20,
     "metadata": {},
     "output_type": "execute_result"
    }
   ],
   "source": [
    "data=data.drop('index',axis=1)\n",
    "data"
   ]
  },
  {
   "cell_type": "code",
   "execution_count": 21,
   "id": "6c631c11",
   "metadata": {
    "execution": {
     "iopub.execute_input": "2025-07-13T04:58:51.314817Z",
     "iopub.status.busy": "2025-07-13T04:58:51.314407Z",
     "iopub.status.idle": "2025-07-13T04:58:51.332995Z",
     "shell.execute_reply": "2025-07-13T04:58:51.331952Z"
    },
    "papermill": {
     "duration": 0.031742,
     "end_time": "2025-07-13T04:58:51.334663",
     "exception": false,
     "start_time": "2025-07-13T04:58:51.302921",
     "status": "completed"
    },
    "tags": []
   },
   "outputs": [
    {
     "data": {
      "text/html": [
       "<div>\n",
       "<style scoped>\n",
       "    .dataframe tbody tr th:only-of-type {\n",
       "        vertical-align: middle;\n",
       "    }\n",
       "\n",
       "    .dataframe tbody tr th {\n",
       "        vertical-align: top;\n",
       "    }\n",
       "\n",
       "    .dataframe thead th {\n",
       "        text-align: right;\n",
       "    }\n",
       "</style>\n",
       "<table border=\"1\" class=\"dataframe\">\n",
       "  <thead>\n",
       "    <tr style=\"text-align: right;\">\n",
       "      <th></th>\n",
       "      <th>course_id</th>\n",
       "      <th>course_text</th>\n",
       "      <th>total_video_duration</th>\n",
       "      <th>total_num_problem</th>\n",
       "      <th>num_videos</th>\n",
       "      <th>num_exercises</th>\n",
       "      <th>num_teachers</th>\n",
       "      <th>teacher_id</th>\n",
       "      <th>num_schools</th>\n",
       "      <th>school_id_1</th>\n",
       "      <th>school_id_2</th>\n",
       "      <th>course_total_comments</th>\n",
       "    </tr>\n",
       "  </thead>\n",
       "  <tbody>\n",
       "    <tr>\n",
       "      <th>0</th>\n",
       "      <td>C_1017355</td>\n",
       "      <td>introduction to traditional chinese medicine e...</td>\n",
       "      <td>0.000</td>\n",
       "      <td>109</td>\n",
       "      <td>0</td>\n",
       "      <td>19</td>\n",
       "      <td>5</td>\n",
       "      <td>T_7970</td>\n",
       "      <td>1</td>\n",
       "      <td>S_33</td>\n",
       "      <td>missing</td>\n",
       "      <td>39624</td>\n",
       "    </tr>\n",
       "    <tr>\n",
       "      <th>1</th>\n",
       "      <td>C_1017419</td>\n",
       "      <td>smart government talk  this course combines sp...</td>\n",
       "      <td>0.000</td>\n",
       "      <td>141</td>\n",
       "      <td>0</td>\n",
       "      <td>9</td>\n",
       "      <td>8</td>\n",
       "      <td>T_7849</td>\n",
       "      <td>1</td>\n",
       "      <td>S_52</td>\n",
       "      <td>missing</td>\n",
       "      <td>609</td>\n",
       "    </tr>\n",
       "    <tr>\n",
       "      <th>2</th>\n",
       "      <td>C_1025064</td>\n",
       "      <td>principles of ideological and political educat...</td>\n",
       "      <td>55868.953</td>\n",
       "      <td>140</td>\n",
       "      <td>88</td>\n",
       "      <td>14</td>\n",
       "      <td>5</td>\n",
       "      <td>T_3915</td>\n",
       "      <td>1</td>\n",
       "      <td>S_13</td>\n",
       "      <td>missing</td>\n",
       "      <td>696</td>\n",
       "    </tr>\n",
       "    <tr>\n",
       "      <th>3</th>\n",
       "      <td>C_1025076</td>\n",
       "      <td>advanced roller skating tutorial  the true mea...</td>\n",
       "      <td>0.000</td>\n",
       "      <td>18</td>\n",
       "      <td>0</td>\n",
       "      <td>4</td>\n",
       "      <td>1</td>\n",
       "      <td>T_5394</td>\n",
       "      <td>1</td>\n",
       "      <td>S_72</td>\n",
       "      <td>missing</td>\n",
       "      <td>2</td>\n",
       "    </tr>\n",
       "    <tr>\n",
       "      <th>4</th>\n",
       "      <td>C_1025079</td>\n",
       "      <td>scientific fitness method-silk-winding fitness...</td>\n",
       "      <td>20714.190</td>\n",
       "      <td>25</td>\n",
       "      <td>28</td>\n",
       "      <td>5</td>\n",
       "      <td>1</td>\n",
       "      <td>T_7939</td>\n",
       "      <td>1</td>\n",
       "      <td>S_97</td>\n",
       "      <td>missing</td>\n",
       "      <td>125</td>\n",
       "    </tr>\n",
       "    <tr>\n",
       "      <th>...</th>\n",
       "      <td>...</td>\n",
       "      <td>...</td>\n",
       "      <td>...</td>\n",
       "      <td>...</td>\n",
       "      <td>...</td>\n",
       "      <td>...</td>\n",
       "      <td>...</td>\n",
       "      <td>...</td>\n",
       "      <td>...</td>\n",
       "      <td>...</td>\n",
       "      <td>...</td>\n",
       "      <td>...</td>\n",
       "    </tr>\n",
       "    <tr>\n",
       "      <th>2761</th>\n",
       "      <td>C_949542</td>\n",
       "      <td>thinking innovation and creativity development...</td>\n",
       "      <td>22184.031</td>\n",
       "      <td>247</td>\n",
       "      <td>33</td>\n",
       "      <td>31</td>\n",
       "      <td>10</td>\n",
       "      <td>T_7389</td>\n",
       "      <td>1</td>\n",
       "      <td>S_749</td>\n",
       "      <td>missing</td>\n",
       "      <td>839</td>\n",
       "    </tr>\n",
       "    <tr>\n",
       "      <th>2762</th>\n",
       "      <td>C_955163</td>\n",
       "      <td>learn to make mini programs - practical chapte...</td>\n",
       "      <td>56372.024</td>\n",
       "      <td>61</td>\n",
       "      <td>100</td>\n",
       "      <td>7</td>\n",
       "      <td>4</td>\n",
       "      <td>T_172</td>\n",
       "      <td>1</td>\n",
       "      <td>S_1</td>\n",
       "      <td>missing</td>\n",
       "      <td>305</td>\n",
       "    </tr>\n",
       "    <tr>\n",
       "      <th>2763</th>\n",
       "      <td>C_956128</td>\n",
       "      <td>interpretation of hot issues of portal hyperte...</td>\n",
       "      <td>0.000</td>\n",
       "      <td>105</td>\n",
       "      <td>0</td>\n",
       "      <td>7</td>\n",
       "      <td>3</td>\n",
       "      <td>T_7005</td>\n",
       "      <td>1</td>\n",
       "      <td>S_144</td>\n",
       "      <td>missing</td>\n",
       "      <td>0</td>\n",
       "    </tr>\n",
       "    <tr>\n",
       "      <th>2764</th>\n",
       "      <td>C_956129</td>\n",
       "      <td>introduction to games and esports none the gam...</td>\n",
       "      <td>34165.387</td>\n",
       "      <td>145</td>\n",
       "      <td>70</td>\n",
       "      <td>23</td>\n",
       "      <td>4</td>\n",
       "      <td>T_4850</td>\n",
       "      <td>1</td>\n",
       "      <td>S_492</td>\n",
       "      <td>missing</td>\n",
       "      <td>1597</td>\n",
       "    </tr>\n",
       "    <tr>\n",
       "      <th>2765</th>\n",
       "      <td>C_956130</td>\n",
       "      <td>multimedia technology and application none thi...</td>\n",
       "      <td>0.000</td>\n",
       "      <td>174</td>\n",
       "      <td>0</td>\n",
       "      <td>15</td>\n",
       "      <td>3</td>\n",
       "      <td>T_7457</td>\n",
       "      <td>1</td>\n",
       "      <td>S_11</td>\n",
       "      <td>missing</td>\n",
       "      <td>3</td>\n",
       "    </tr>\n",
       "  </tbody>\n",
       "</table>\n",
       "<p>2766 rows × 12 columns</p>\n",
       "</div>"
      ],
      "text/plain": [
       "      course_id                                        course_text  \\\n",
       "0     C_1017355  introduction to traditional chinese medicine e...   \n",
       "1     C_1017419  smart government talk  this course combines sp...   \n",
       "2     C_1025064  principles of ideological and political educat...   \n",
       "3     C_1025076  advanced roller skating tutorial  the true mea...   \n",
       "4     C_1025079  scientific fitness method-silk-winding fitness...   \n",
       "...         ...                                                ...   \n",
       "2761   C_949542  thinking innovation and creativity development...   \n",
       "2762   C_955163  learn to make mini programs - practical chapte...   \n",
       "2763   C_956128  interpretation of hot issues of portal hyperte...   \n",
       "2764   C_956129  introduction to games and esports none the gam...   \n",
       "2765   C_956130  multimedia technology and application none thi...   \n",
       "\n",
       "      total_video_duration  total_num_problem  num_videos  num_exercises  \\\n",
       "0                    0.000                109           0             19   \n",
       "1                    0.000                141           0              9   \n",
       "2                55868.953                140          88             14   \n",
       "3                    0.000                 18           0              4   \n",
       "4                20714.190                 25          28              5   \n",
       "...                    ...                ...         ...            ...   \n",
       "2761             22184.031                247          33             31   \n",
       "2762             56372.024                 61         100              7   \n",
       "2763                 0.000                105           0              7   \n",
       "2764             34165.387                145          70             23   \n",
       "2765                 0.000                174           0             15   \n",
       "\n",
       "      num_teachers teacher_id  num_schools school_id_1 school_id_2  \\\n",
       "0                5     T_7970            1        S_33     missing   \n",
       "1                8     T_7849            1        S_52     missing   \n",
       "2                5     T_3915            1        S_13     missing   \n",
       "3                1     T_5394            1        S_72     missing   \n",
       "4                1     T_7939            1        S_97     missing   \n",
       "...            ...        ...          ...         ...         ...   \n",
       "2761            10     T_7389            1       S_749     missing   \n",
       "2762             4      T_172            1         S_1     missing   \n",
       "2763             3     T_7005            1       S_144     missing   \n",
       "2764             4     T_4850            1       S_492     missing   \n",
       "2765             3     T_7457            1        S_11     missing   \n",
       "\n",
       "      course_total_comments  \n",
       "0                     39624  \n",
       "1                       609  \n",
       "2                       696  \n",
       "3                         2  \n",
       "4                       125  \n",
       "...                     ...  \n",
       "2761                    839  \n",
       "2762                    305  \n",
       "2763                      0  \n",
       "2764                   1597  \n",
       "2765                      3  \n",
       "\n",
       "[2766 rows x 12 columns]"
      ]
     },
     "execution_count": 21,
     "metadata": {},
     "output_type": "execute_result"
    }
   ],
   "source": [
    "item_data"
   ]
  },
  {
   "cell_type": "code",
   "execution_count": 22,
   "id": "266d573c",
   "metadata": {
    "execution": {
     "iopub.execute_input": "2025-07-13T04:58:51.357716Z",
     "iopub.status.busy": "2025-07-13T04:58:51.357344Z",
     "iopub.status.idle": "2025-07-13T04:58:51.977850Z",
     "shell.execute_reply": "2025-07-13T04:58:51.976886Z"
    },
    "papermill": {
     "duration": 0.633938,
     "end_time": "2025-07-13T04:58:51.979547",
     "exception": false,
     "start_time": "2025-07-13T04:58:51.345609",
     "status": "completed"
    },
    "tags": []
   },
   "outputs": [
    {
     "data": {
      "text/plain": [
       "Index(['course_id', 'course_text', 'total_video_duration', 'total_num_problem',\n",
       "       'num_videos', 'num_exercises', 'num_teachers', 'teacher_id',\n",
       "       'num_schools', 'school_id_1', 'school_id_2', 'course_total_comments',\n",
       "       'course_text_1', 'course_text_2', 'course_text_3', 'course_text_4',\n",
       "       'course_text_5', 'course_text_6', 'course_text_7', 'course_text_8',\n",
       "       'course_text_9', 'course_text_10', 'course_text_11', 'course_text_12',\n",
       "       'course_text_13', 'course_text_14', 'course_text_15', 'course_text_16',\n",
       "       'course_text_17', 'course_text_18', 'course_text_19', 'course_text_20',\n",
       "       'course_text_21', 'course_text_22', 'course_text_23', 'course_text_24',\n",
       "       'course_text_25', 'course_text_26', 'course_text_27', 'course_text_28',\n",
       "       'course_text_29', 'course_text_30'],\n",
       "      dtype='object')"
      ]
     },
     "execution_count": 22,
     "metadata": {},
     "output_type": "execute_result"
    }
   ],
   "source": [
    "from sklearn.feature_extraction.text import TfidfVectorizer\n",
    "import pandas as pd\n",
    "\n",
    "\n",
    "# Vectorizer\n",
    "vectorizer = TfidfVectorizer(            \n",
    "            max_features=30,\n",
    "            stop_words='english',\n",
    "            ngram_range=(1, 2))\n",
    "vectorized_data = vectorizer.fit_transform(item_data['course_text'])\n",
    "feature_names = [f'course_text_{i+1}' for i in range(len(vectorizer.get_feature_names_out()))]\n",
    "\n",
    "# Chuyển thành DataFrame\n",
    "tfidf_df = pd.DataFrame(vectorized_data.toarray(), columns=feature_names)\n",
    "\n",
    "# Gộp vào DataFrame gốc\n",
    "item_vec = item_data.join(tfidf_df)\n",
    "item_vec.columns"
   ]
  },
  {
   "cell_type": "code",
   "execution_count": 23,
   "id": "a1102998",
   "metadata": {
    "execution": {
     "iopub.execute_input": "2025-07-13T04:58:52.002864Z",
     "iopub.status.busy": "2025-07-13T04:58:52.002448Z",
     "iopub.status.idle": "2025-07-13T04:58:52.007396Z",
     "shell.execute_reply": "2025-07-13T04:58:52.006348Z"
    },
    "papermill": {
     "duration": 0.018625,
     "end_time": "2025-07-13T04:58:52.009174",
     "exception": false,
     "start_time": "2025-07-13T04:58:51.990549",
     "status": "completed"
    },
    "tags": []
   },
   "outputs": [],
   "source": [
    "item_cols = list(item_vec.columns.drop(['course_id', 'course_text']))"
   ]
  },
  {
   "cell_type": "code",
   "execution_count": 24,
   "id": "e444902f",
   "metadata": {
    "execution": {
     "iopub.execute_input": "2025-07-13T04:58:52.033136Z",
     "iopub.status.busy": "2025-07-13T04:58:52.032718Z",
     "iopub.status.idle": "2025-07-13T04:58:52.800375Z",
     "shell.execute_reply": "2025-07-13T04:58:52.799383Z"
    },
    "papermill": {
     "duration": 0.782107,
     "end_time": "2025-07-13T04:58:52.802381",
     "exception": false,
     "start_time": "2025-07-13T04:58:52.020274",
     "status": "completed"
    },
    "tags": []
   },
   "outputs": [],
   "source": [
    "train, test = split_data(data)"
   ]
  },
  {
   "cell_type": "code",
   "execution_count": 25,
   "id": "5da6d2ab",
   "metadata": {
    "execution": {
     "iopub.execute_input": "2025-07-13T04:58:52.825479Z",
     "iopub.status.busy": "2025-07-13T04:58:52.825142Z",
     "iopub.status.idle": "2025-07-13T04:58:52.836113Z",
     "shell.execute_reply": "2025-07-13T04:58:52.835203Z"
    },
    "papermill": {
     "duration": 0.024434,
     "end_time": "2025-07-13T04:58:52.837791",
     "exception": false,
     "start_time": "2025-07-13T04:58:52.813357",
     "status": "completed"
    },
    "tags": []
   },
   "outputs": [
    {
     "data": {
      "text/html": [
       "<div>\n",
       "<style scoped>\n",
       "    .dataframe tbody tr th:only-of-type {\n",
       "        vertical-align: middle;\n",
       "    }\n",
       "\n",
       "    .dataframe tbody tr th {\n",
       "        vertical-align: top;\n",
       "    }\n",
       "\n",
       "    .dataframe thead th {\n",
       "        text-align: right;\n",
       "    }\n",
       "</style>\n",
       "<table border=\"1\" class=\"dataframe\">\n",
       "  <thead>\n",
       "    <tr style=\"text-align: right;\">\n",
       "      <th></th>\n",
       "      <th>user</th>\n",
       "      <th>item</th>\n",
       "      <th>time</th>\n",
       "      <th>user_gender</th>\n",
       "      <th>label</th>\n",
       "    </tr>\n",
       "  </thead>\n",
       "  <tbody>\n",
       "    <tr>\n",
       "      <th>78810</th>\n",
       "      <td>U_100090</td>\n",
       "      <td>C_707022</td>\n",
       "      <td>1583235350</td>\n",
       "      <td>0</td>\n",
       "      <td>1</td>\n",
       "    </tr>\n",
       "    <tr>\n",
       "      <th>85316</th>\n",
       "      <td>U_100090</td>\n",
       "      <td>C_676687</td>\n",
       "      <td>1583752556</td>\n",
       "      <td>0</td>\n",
       "      <td>1</td>\n",
       "    </tr>\n",
       "    <tr>\n",
       "      <th>97314</th>\n",
       "      <td>U_100090</td>\n",
       "      <td>C_697073</td>\n",
       "      <td>1584917895</td>\n",
       "      <td>0</td>\n",
       "      <td>1</td>\n",
       "    </tr>\n",
       "    <tr>\n",
       "      <th>97319</th>\n",
       "      <td>U_100090</td>\n",
       "      <td>C_948038</td>\n",
       "      <td>1584918145</td>\n",
       "      <td>0</td>\n",
       "      <td>1</td>\n",
       "    </tr>\n",
       "    <tr>\n",
       "      <th>97323</th>\n",
       "      <td>U_100090</td>\n",
       "      <td>C_680716</td>\n",
       "      <td>1584918197</td>\n",
       "      <td>0</td>\n",
       "      <td>1</td>\n",
       "    </tr>\n",
       "    <tr>\n",
       "      <th>...</th>\n",
       "      <td>...</td>\n",
       "      <td>...</td>\n",
       "      <td>...</td>\n",
       "      <td>...</td>\n",
       "      <td>...</td>\n",
       "    </tr>\n",
       "    <tr>\n",
       "      <th>305487</th>\n",
       "      <td>U_997506</td>\n",
       "      <td>C_735239</td>\n",
       "      <td>1603116374</td>\n",
       "      <td>1</td>\n",
       "      <td>1</td>\n",
       "    </tr>\n",
       "    <tr>\n",
       "      <th>322637</th>\n",
       "      <td>U_997506</td>\n",
       "      <td>C_2095102</td>\n",
       "      <td>1605299197</td>\n",
       "      <td>1</td>\n",
       "      <td>1</td>\n",
       "    </tr>\n",
       "    <tr>\n",
       "      <th>331301</th>\n",
       "      <td>U_997506</td>\n",
       "      <td>C_682379</td>\n",
       "      <td>1606690104</td>\n",
       "      <td>1</td>\n",
       "      <td>1</td>\n",
       "    </tr>\n",
       "    <tr>\n",
       "      <th>331302</th>\n",
       "      <td>U_997506</td>\n",
       "      <td>C_696554</td>\n",
       "      <td>1606690121</td>\n",
       "      <td>1</td>\n",
       "      <td>1</td>\n",
       "    </tr>\n",
       "    <tr>\n",
       "      <th>331437</th>\n",
       "      <td>U_997506</td>\n",
       "      <td>C_696673</td>\n",
       "      <td>1606727242</td>\n",
       "      <td>1</td>\n",
       "      <td>1</td>\n",
       "    </tr>\n",
       "  </tbody>\n",
       "</table>\n",
       "<p>311496 rows × 5 columns</p>\n",
       "</div>"
      ],
      "text/plain": [
       "            user       item        time  user_gender  label\n",
       "78810   U_100090   C_707022  1583235350            0      1\n",
       "85316   U_100090   C_676687  1583752556            0      1\n",
       "97314   U_100090   C_697073  1584917895            0      1\n",
       "97319   U_100090   C_948038  1584918145            0      1\n",
       "97323   U_100090   C_680716  1584918197            0      1\n",
       "...          ...        ...         ...          ...    ...\n",
       "305487  U_997506   C_735239  1603116374            1      1\n",
       "322637  U_997506  C_2095102  1605299197            1      1\n",
       "331301  U_997506   C_682379  1606690104            1      1\n",
       "331302  U_997506   C_696554  1606690121            1      1\n",
       "331437  U_997506   C_696673  1606727242            1      1\n",
       "\n",
       "[311496 rows x 5 columns]"
      ]
     },
     "execution_count": 25,
     "metadata": {},
     "output_type": "execute_result"
    }
   ],
   "source": [
    "train"
   ]
  },
  {
   "cell_type": "code",
   "execution_count": 26,
   "id": "921eef99",
   "metadata": {
    "execution": {
     "iopub.execute_input": "2025-07-13T04:58:52.861766Z",
     "iopub.status.busy": "2025-07-13T04:58:52.861309Z",
     "iopub.status.idle": "2025-07-13T04:58:52.873049Z",
     "shell.execute_reply": "2025-07-13T04:58:52.871900Z"
    },
    "papermill": {
     "duration": 0.025562,
     "end_time": "2025-07-13T04:58:52.874811",
     "exception": false,
     "start_time": "2025-07-13T04:58:52.849249",
     "status": "completed"
    },
    "tags": []
   },
   "outputs": [
    {
     "data": {
      "text/html": [
       "<div>\n",
       "<style scoped>\n",
       "    .dataframe tbody tr th:only-of-type {\n",
       "        vertical-align: middle;\n",
       "    }\n",
       "\n",
       "    .dataframe tbody tr th {\n",
       "        vertical-align: top;\n",
       "    }\n",
       "\n",
       "    .dataframe thead th {\n",
       "        text-align: right;\n",
       "    }\n",
       "</style>\n",
       "<table border=\"1\" class=\"dataframe\">\n",
       "  <thead>\n",
       "    <tr style=\"text-align: right;\">\n",
       "      <th></th>\n",
       "      <th>user</th>\n",
       "      <th>item</th>\n",
       "      <th>time</th>\n",
       "      <th>user_gender</th>\n",
       "      <th>label</th>\n",
       "    </tr>\n",
       "  </thead>\n",
       "  <tbody>\n",
       "    <tr>\n",
       "      <th>277567</th>\n",
       "      <td>U_100090</td>\n",
       "      <td>C_1755921</td>\n",
       "      <td>1600725730</td>\n",
       "      <td>0</td>\n",
       "      <td>1</td>\n",
       "    </tr>\n",
       "    <tr>\n",
       "      <th>318717</th>\n",
       "      <td>U_1002476</td>\n",
       "      <td>C_682463</td>\n",
       "      <td>1604703719</td>\n",
       "      <td>1</td>\n",
       "      <td>1</td>\n",
       "    </tr>\n",
       "    <tr>\n",
       "      <th>314147</th>\n",
       "      <td>U_100281</td>\n",
       "      <td>C_948078</td>\n",
       "      <td>1604091834</td>\n",
       "      <td>0</td>\n",
       "      <td>1</td>\n",
       "    </tr>\n",
       "    <tr>\n",
       "      <th>243074</th>\n",
       "      <td>U_10033817</td>\n",
       "      <td>C_677049</td>\n",
       "      <td>1598352038</td>\n",
       "      <td>0</td>\n",
       "      <td>1</td>\n",
       "    </tr>\n",
       "    <tr>\n",
       "      <th>203928</th>\n",
       "      <td>U_10033948</td>\n",
       "      <td>C_1822804</td>\n",
       "      <td>1595283089</td>\n",
       "      <td>2</td>\n",
       "      <td>1</td>\n",
       "    </tr>\n",
       "    <tr>\n",
       "      <th>...</th>\n",
       "      <td>...</td>\n",
       "      <td>...</td>\n",
       "      <td>...</td>\n",
       "      <td>...</td>\n",
       "      <td>...</td>\n",
       "    </tr>\n",
       "    <tr>\n",
       "      <th>278445</th>\n",
       "      <td>U_9968019</td>\n",
       "      <td>C_677097</td>\n",
       "      <td>1600788653</td>\n",
       "      <td>0</td>\n",
       "      <td>1</td>\n",
       "    </tr>\n",
       "    <tr>\n",
       "      <th>148469</th>\n",
       "      <td>U_9969645</td>\n",
       "      <td>C_677010</td>\n",
       "      <td>1589927593</td>\n",
       "      <td>1</td>\n",
       "      <td>1</td>\n",
       "    </tr>\n",
       "    <tr>\n",
       "      <th>277343</th>\n",
       "      <td>U_99722</td>\n",
       "      <td>C_1944971</td>\n",
       "      <td>1600715669</td>\n",
       "      <td>0</td>\n",
       "      <td>1</td>\n",
       "    </tr>\n",
       "    <tr>\n",
       "      <th>295989</th>\n",
       "      <td>U_99746</td>\n",
       "      <td>C_735143</td>\n",
       "      <td>1602198978</td>\n",
       "      <td>0</td>\n",
       "      <td>1</td>\n",
       "    </tr>\n",
       "    <tr>\n",
       "      <th>331438</th>\n",
       "      <td>U_997506</td>\n",
       "      <td>C_680747</td>\n",
       "      <td>1606727332</td>\n",
       "      <td>1</td>\n",
       "      <td>1</td>\n",
       "    </tr>\n",
       "  </tbody>\n",
       "</table>\n",
       "<p>24052 rows × 5 columns</p>\n",
       "</div>"
      ],
      "text/plain": [
       "              user       item        time  user_gender  label\n",
       "277567    U_100090  C_1755921  1600725730            0      1\n",
       "318717   U_1002476   C_682463  1604703719            1      1\n",
       "314147    U_100281   C_948078  1604091834            0      1\n",
       "243074  U_10033817   C_677049  1598352038            0      1\n",
       "203928  U_10033948  C_1822804  1595283089            2      1\n",
       "...            ...        ...         ...          ...    ...\n",
       "278445   U_9968019   C_677097  1600788653            0      1\n",
       "148469   U_9969645   C_677010  1589927593            1      1\n",
       "277343     U_99722  C_1944971  1600715669            0      1\n",
       "295989     U_99746   C_735143  1602198978            0      1\n",
       "331438    U_997506   C_680747  1606727332            1      1\n",
       "\n",
       "[24052 rows x 5 columns]"
      ]
     },
     "execution_count": 26,
     "metadata": {},
     "output_type": "execute_result"
    }
   ],
   "source": [
    "test"
   ]
  },
  {
   "cell_type": "code",
   "execution_count": 27,
   "id": "b6e7d616",
   "metadata": {
    "execution": {
     "iopub.execute_input": "2025-07-13T04:58:52.899888Z",
     "iopub.status.busy": "2025-07-13T04:58:52.899447Z",
     "iopub.status.idle": "2025-07-13T04:58:53.077642Z",
     "shell.execute_reply": "2025-07-13T04:58:53.076498Z"
    },
    "papermill": {
     "duration": 0.193215,
     "end_time": "2025-07-13T04:58:53.079766",
     "exception": false,
     "start_time": "2025-07-13T04:58:52.886551",
     "status": "completed"
    },
    "tags": []
   },
   "outputs": [],
   "source": [
    "train = train.merge(item_vec.rename(columns={\"course_id\":\"item\"}), on='item', how='inner')\n",
    "test = test.merge(item_vec.rename(columns={\"course_id\":\"item\"}), on='item', how='inner')"
   ]
  },
  {
   "cell_type": "code",
   "execution_count": 28,
   "id": "44fe9454",
   "metadata": {
    "execution": {
     "iopub.execute_input": "2025-07-13T04:58:53.103549Z",
     "iopub.status.busy": "2025-07-13T04:58:53.103212Z",
     "iopub.status.idle": "2025-07-13T04:58:53.107987Z",
     "shell.execute_reply": "2025-07-13T04:58:53.106824Z"
    },
    "papermill": {
     "duration": 0.018608,
     "end_time": "2025-07-13T04:58:53.109635",
     "exception": false,
     "start_time": "2025-07-13T04:58:53.091027",
     "status": "completed"
    },
    "tags": []
   },
   "outputs": [],
   "source": [
    "item_cols = [x for x in item_cols if x not in ['school_id_2',\n",
    "                                               'teacher_id',\n",
    "                                               'school_id_1',\n",
    "                                               'course_total_comments',\n",
    "                                               'num_videos',\n",
    "                                               'num_exercises',\n",
    "                                               'num_school'\n",
    "                                               'num_teachers',\n",
    "                                               'total_video_duration',\n",
    "                                               'total_num_problem',\n",
    "                                              ]]"
   ]
  },
  {
   "cell_type": "code",
   "execution_count": null,
   "id": "f0a4b8e3",
   "metadata": {
    "papermill": {
     "duration": 0.011084,
     "end_time": "2025-07-13T04:58:53.132586",
     "exception": false,
     "start_time": "2025-07-13T04:58:53.121502",
     "status": "completed"
    },
    "tags": []
   },
   "outputs": [],
   "source": []
  },
  {
   "cell_type": "code",
   "execution_count": 29,
   "id": "defa26a6",
   "metadata": {
    "execution": {
     "iopub.execute_input": "2025-07-13T04:58:53.157437Z",
     "iopub.status.busy": "2025-07-13T04:58:53.157053Z",
     "iopub.status.idle": "2025-07-13T04:58:54.232063Z",
     "shell.execute_reply": "2025-07-13T04:58:54.231172Z"
    },
    "papermill": {
     "duration": 1.089703,
     "end_time": "2025-07-13T04:58:54.233977",
     "exception": false,
     "start_time": "2025-07-13T04:58:53.144274",
     "status": "completed"
    },
    "tags": []
   },
   "outputs": [],
   "source": [
    "# specify complete columns information\n",
    "sparse_col = ['user_gender',\n",
    "              # 'school_id_1',\n",
    "              # 'teacher_id'\n",
    "             ]\n",
    "dense_col = [f for f in item_cols if f not in ['school_id_1','teacher_id']]\n",
    "user_col = [\"user_gender\"]\n",
    "item_col = item_cols\n",
    "\n",
    "train_data, data_info = DatasetFeat.build_trainset(train, user_col, item_col, sparse_col, dense_col,shuffle=False)\n",
    "test_data = DatasetFeat.build_testset(test,shuffle=False)"
   ]
  },
  {
   "cell_type": "code",
   "execution_count": 30,
   "id": "d155d283",
   "metadata": {
    "execution": {
     "iopub.execute_input": "2025-07-13T04:58:54.257784Z",
     "iopub.status.busy": "2025-07-13T04:58:54.257379Z",
     "iopub.status.idle": "2025-07-13T04:58:54.262752Z",
     "shell.execute_reply": "2025-07-13T04:58:54.261562Z"
    },
    "papermill": {
     "duration": 0.019083,
     "end_time": "2025-07-13T04:58:54.264337",
     "exception": false,
     "start_time": "2025-07-13T04:58:54.245254",
     "status": "completed"
    },
    "tags": []
   },
   "outputs": [
    {
     "name": "stdout",
     "output_type": "stream",
     "text": [
      "n_users: 24090, n_items: 2698, data density: 0.4793 %\n"
     ]
    }
   ],
   "source": [
    "print(data_info)"
   ]
  },
  {
   "cell_type": "code",
   "execution_count": 31,
   "id": "9299ab66",
   "metadata": {
    "execution": {
     "iopub.execute_input": "2025-07-13T04:58:54.288446Z",
     "iopub.status.busy": "2025-07-13T04:58:54.288062Z",
     "iopub.status.idle": "2025-07-13T04:58:54.292599Z",
     "shell.execute_reply": "2025-07-13T04:58:54.291512Z"
    },
    "papermill": {
     "duration": 0.018802,
     "end_time": "2025-07-13T04:58:54.294654",
     "exception": false,
     "start_time": "2025-07-13T04:58:54.275852",
     "status": "completed"
    },
    "tags": []
   },
   "outputs": [],
   "source": [
    "import tensorflow as tf\n",
    "tf.compat.v1.reset_default_graph() "
   ]
  },
  {
   "cell_type": "code",
   "execution_count": 32,
   "id": "fa002ca0",
   "metadata": {
    "execution": {
     "iopub.execute_input": "2025-07-13T04:58:54.320854Z",
     "iopub.status.busy": "2025-07-13T04:58:54.320417Z",
     "iopub.status.idle": "2025-07-13T06:09:56.292488Z",
     "shell.execute_reply": "2025-07-13T06:09:56.290736Z"
    },
    "papermill": {
     "duration": 4261.986432,
     "end_time": "2025-07-13T06:09:56.294300",
     "exception": false,
     "start_time": "2025-07-13T04:58:54.307868",
     "status": "completed"
    },
    "tags": []
   },
   "outputs": [
    {
     "name": "stdout",
     "output_type": "stream",
     "text": [
      "Training start time: \u001b[35m2025-07-13 04:58:54\u001b[0m\n",
      "total params: \u001b[33m538,272\u001b[0m | embedding params: \u001b[33m456,268\u001b[0m | network params: \u001b[33m82,004\u001b[0m\n"
     ]
    },
    {
     "name": "stderr",
     "output_type": "stream",
     "text": [
      "train: 100%|██████████| 305/305 [00:07<00:00, 39.52it/s]\n"
     ]
    },
    {
     "name": "stdout",
     "output_type": "stream",
     "text": [
      "Epoch 1 elapsed: 7.722s\n",
      "\t \u001b[32mtrain_loss: 0.671\u001b[0m\n"
     ]
    },
    {
     "name": "stderr",
     "output_type": "stream",
     "text": [
      "eval_listwise: 100%|██████████| 2731/2731 [01:15<00:00, 36.04it/s]\n"
     ]
    },
    {
     "name": "stdout",
     "output_type": "stream",
     "text": [
      "\t eval recall@10: 0.0228\n",
      "\t eval precision@10: 0.0023\n",
      "\t eval ndcg@10: 0.0096\n",
      "\t eval map@10: 0.0058\n",
      "==============================\n"
     ]
    },
    {
     "name": "stderr",
     "output_type": "stream",
     "text": [
      "train: 100%|██████████| 305/305 [00:07<00:00, 38.46it/s]\n"
     ]
    },
    {
     "name": "stdout",
     "output_type": "stream",
     "text": [
      "Epoch 2 elapsed: 7.934s\n",
      "\t \u001b[32mtrain_loss: 0.5397\u001b[0m\n"
     ]
    },
    {
     "name": "stderr",
     "output_type": "stream",
     "text": [
      "eval_listwise: 100%|██████████| 2731/2731 [01:14<00:00, 36.83it/s]\n"
     ]
    },
    {
     "name": "stdout",
     "output_type": "stream",
     "text": [
      "\t eval recall@10: 0.0477\n",
      "\t eval precision@10: 0.0048\n",
      "\t eval ndcg@10: 0.0217\n",
      "\t eval map@10: 0.0139\n",
      "==============================\n"
     ]
    },
    {
     "name": "stderr",
     "output_type": "stream",
     "text": [
      "train: 100%|██████████| 305/305 [00:07<00:00, 41.07it/s]\n"
     ]
    },
    {
     "name": "stdout",
     "output_type": "stream",
     "text": [
      "Epoch 3 elapsed: 7.429s\n",
      "\t \u001b[32mtrain_loss: 0.507\u001b[0m\n"
     ]
    },
    {
     "name": "stderr",
     "output_type": "stream",
     "text": [
      "eval_listwise: 100%|██████████| 2731/2731 [01:14<00:00, 36.74it/s]\n"
     ]
    },
    {
     "name": "stdout",
     "output_type": "stream",
     "text": [
      "\t eval recall@10: 0.0483\n",
      "\t eval precision@10: 0.0048\n",
      "\t eval ndcg@10: 0.0219\n",
      "\t eval map@10: 0.0140\n",
      "==============================\n"
     ]
    },
    {
     "name": "stderr",
     "output_type": "stream",
     "text": [
      "train: 100%|██████████| 305/305 [00:07<00:00, 38.95it/s]\n"
     ]
    },
    {
     "name": "stdout",
     "output_type": "stream",
     "text": [
      "Epoch 4 elapsed: 7.835s\n",
      "\t \u001b[32mtrain_loss: 0.5009\u001b[0m\n"
     ]
    },
    {
     "name": "stderr",
     "output_type": "stream",
     "text": [
      "eval_listwise: 100%|██████████| 2731/2731 [01:14<00:00, 36.55it/s]\n"
     ]
    },
    {
     "name": "stdout",
     "output_type": "stream",
     "text": [
      "\t eval recall@10: 0.0490\n",
      "\t eval precision@10: 0.0049\n",
      "\t eval ndcg@10: 0.0218\n",
      "\t eval map@10: 0.0137\n",
      "==============================\n"
     ]
    },
    {
     "name": "stderr",
     "output_type": "stream",
     "text": [
      "train: 100%|██████████| 305/305 [00:07<00:00, 40.83it/s]\n"
     ]
    },
    {
     "name": "stdout",
     "output_type": "stream",
     "text": [
      "Epoch 5 elapsed: 7.473s\n",
      "\t \u001b[32mtrain_loss: 0.4983\u001b[0m\n"
     ]
    },
    {
     "name": "stderr",
     "output_type": "stream",
     "text": [
      "eval_listwise: 100%|██████████| 2731/2731 [01:14<00:00, 36.82it/s]\n"
     ]
    },
    {
     "name": "stdout",
     "output_type": "stream",
     "text": [
      "\t eval recall@10: 0.0487\n",
      "\t eval precision@10: 0.0049\n",
      "\t eval ndcg@10: 0.0231\n",
      "\t eval map@10: 0.0156\n",
      "==============================\n"
     ]
    },
    {
     "name": "stderr",
     "output_type": "stream",
     "text": [
      "train: 100%|██████████| 305/305 [00:07<00:00, 38.68it/s]\n"
     ]
    },
    {
     "name": "stdout",
     "output_type": "stream",
     "text": [
      "Epoch 6 elapsed: 7.889s\n",
      "\t \u001b[32mtrain_loss: 0.4959\u001b[0m\n"
     ]
    },
    {
     "name": "stderr",
     "output_type": "stream",
     "text": [
      "eval_listwise: 100%|██████████| 2731/2731 [01:29<00:00, 30.45it/s]\n"
     ]
    },
    {
     "name": "stdout",
     "output_type": "stream",
     "text": [
      "\t eval recall@10: 0.0468\n",
      "\t eval precision@10: 0.0047\n",
      "\t eval ndcg@10: 0.0214\n",
      "\t eval map@10: 0.0140\n",
      "==============================\n"
     ]
    },
    {
     "name": "stderr",
     "output_type": "stream",
     "text": [
      "train: 100%|██████████| 305/305 [00:07<00:00, 38.19it/s]\n"
     ]
    },
    {
     "name": "stdout",
     "output_type": "stream",
     "text": [
      "Epoch 7 elapsed: 7.992s\n",
      "\t \u001b[32mtrain_loss: 0.4918\u001b[0m\n"
     ]
    },
    {
     "name": "stderr",
     "output_type": "stream",
     "text": [
      "eval_listwise: 100%|██████████| 2731/2731 [01:14<00:00, 36.67it/s]\n"
     ]
    },
    {
     "name": "stdout",
     "output_type": "stream",
     "text": [
      "\t eval recall@10: 0.0519\n",
      "\t eval precision@10: 0.0052\n",
      "\t eval ndcg@10: 0.0236\n",
      "\t eval map@10: 0.0152\n",
      "==============================\n"
     ]
    },
    {
     "name": "stderr",
     "output_type": "stream",
     "text": [
      "train: 100%|██████████| 305/305 [00:07<00:00, 41.06it/s]\n"
     ]
    },
    {
     "name": "stdout",
     "output_type": "stream",
     "text": [
      "Epoch 8 elapsed: 7.431s\n",
      "\t \u001b[32mtrain_loss: 0.4852\u001b[0m\n"
     ]
    },
    {
     "name": "stderr",
     "output_type": "stream",
     "text": [
      "eval_listwise: 100%|██████████| 2731/2731 [01:14<00:00, 36.63it/s]\n"
     ]
    },
    {
     "name": "stdout",
     "output_type": "stream",
     "text": [
      "\t eval recall@10: 0.0493\n",
      "\t eval precision@10: 0.0049\n",
      "\t eval ndcg@10: 0.0224\n",
      "\t eval map@10: 0.0144\n",
      "==============================\n"
     ]
    },
    {
     "name": "stderr",
     "output_type": "stream",
     "text": [
      "train: 100%|██████████| 305/305 [00:07<00:00, 38.67it/s]\n"
     ]
    },
    {
     "name": "stdout",
     "output_type": "stream",
     "text": [
      "Epoch 9 elapsed: 7.890s\n",
      "\t \u001b[32mtrain_loss: 0.4803\u001b[0m\n"
     ]
    },
    {
     "name": "stderr",
     "output_type": "stream",
     "text": [
      "eval_listwise: 100%|██████████| 2731/2731 [01:15<00:00, 36.41it/s]\n"
     ]
    },
    {
     "name": "stdout",
     "output_type": "stream",
     "text": [
      "\t eval recall@10: 0.0492\n",
      "\t eval precision@10: 0.0049\n",
      "\t eval ndcg@10: 0.0222\n",
      "\t eval map@10: 0.0142\n",
      "==============================\n"
     ]
    },
    {
     "name": "stderr",
     "output_type": "stream",
     "text": [
      "train: 100%|██████████| 305/305 [00:07<00:00, 40.76it/s]\n"
     ]
    },
    {
     "name": "stdout",
     "output_type": "stream",
     "text": [
      "Epoch 10 elapsed: 7.487s\n",
      "\t \u001b[32mtrain_loss: 0.4729\u001b[0m\n"
     ]
    },
    {
     "name": "stderr",
     "output_type": "stream",
     "text": [
      "eval_listwise: 100%|██████████| 2731/2731 [01:15<00:00, 35.98it/s]\n"
     ]
    },
    {
     "name": "stdout",
     "output_type": "stream",
     "text": [
      "\t eval recall@10: 0.0496\n",
      "\t eval precision@10: 0.0050\n",
      "\t eval ndcg@10: 0.0221\n",
      "\t eval map@10: 0.0139\n",
      "==============================\n"
     ]
    },
    {
     "name": "stderr",
     "output_type": "stream",
     "text": [
      "train: 100%|██████████| 305/305 [00:07<00:00, 41.29it/s]\n"
     ]
    },
    {
     "name": "stdout",
     "output_type": "stream",
     "text": [
      "Epoch 11 elapsed: 7.390s\n",
      "\t \u001b[32mtrain_loss: 0.4675\u001b[0m\n"
     ]
    },
    {
     "name": "stderr",
     "output_type": "stream",
     "text": [
      "eval_listwise: 100%|██████████| 2731/2731 [01:15<00:00, 36.40it/s]\n"
     ]
    },
    {
     "name": "stdout",
     "output_type": "stream",
     "text": [
      "\t eval recall@10: 0.0498\n",
      "\t eval precision@10: 0.0050\n",
      "\t eval ndcg@10: 0.0221\n",
      "\t eval map@10: 0.0139\n",
      "==============================\n"
     ]
    },
    {
     "name": "stderr",
     "output_type": "stream",
     "text": [
      "train: 100%|██████████| 305/305 [00:07<00:00, 41.47it/s]\n"
     ]
    },
    {
     "name": "stdout",
     "output_type": "stream",
     "text": [
      "Epoch 12 elapsed: 7.359s\n",
      "\t \u001b[32mtrain_loss: 0.4633\u001b[0m\n"
     ]
    },
    {
     "name": "stderr",
     "output_type": "stream",
     "text": [
      "eval_listwise: 100%|██████████| 2731/2731 [01:14<00:00, 36.44it/s]\n"
     ]
    },
    {
     "name": "stdout",
     "output_type": "stream",
     "text": [
      "\t eval recall@10: 0.0527\n",
      "\t eval precision@10: 0.0053\n",
      "\t eval ndcg@10: 0.0231\n",
      "\t eval map@10: 0.0144\n",
      "==============================\n"
     ]
    },
    {
     "name": "stderr",
     "output_type": "stream",
     "text": [
      "train: 100%|██████████| 305/305 [00:07<00:00, 41.90it/s]\n"
     ]
    },
    {
     "name": "stdout",
     "output_type": "stream",
     "text": [
      "Epoch 13 elapsed: 7.284s\n",
      "\t \u001b[32mtrain_loss: 0.4591\u001b[0m\n"
     ]
    },
    {
     "name": "stderr",
     "output_type": "stream",
     "text": [
      "eval_listwise: 100%|██████████| 2731/2731 [01:14<00:00, 36.63it/s]\n"
     ]
    },
    {
     "name": "stdout",
     "output_type": "stream",
     "text": [
      "\t eval recall@10: 0.0453\n",
      "\t eval precision@10: 0.0045\n",
      "\t eval ndcg@10: 0.0210\n",
      "\t eval map@10: 0.0137\n",
      "==============================\n"
     ]
    },
    {
     "name": "stderr",
     "output_type": "stream",
     "text": [
      "train: 100%|██████████| 305/305 [00:07<00:00, 38.41it/s]\n"
     ]
    },
    {
     "name": "stdout",
     "output_type": "stream",
     "text": [
      "Epoch 14 elapsed: 7.943s\n",
      "\t \u001b[32mtrain_loss: 0.4565\u001b[0m\n"
     ]
    },
    {
     "name": "stderr",
     "output_type": "stream",
     "text": [
      "eval_listwise: 100%|██████████| 2731/2731 [01:22<00:00, 33.11it/s]\n"
     ]
    },
    {
     "name": "stdout",
     "output_type": "stream",
     "text": [
      "\t eval recall@10: 0.0514\n",
      "\t eval precision@10: 0.0051\n",
      "\t eval ndcg@10: 0.0233\n",
      "\t eval map@10: 0.0150\n",
      "==============================\n"
     ]
    },
    {
     "name": "stderr",
     "output_type": "stream",
     "text": [
      "train: 100%|██████████| 305/305 [00:07<00:00, 41.45it/s]\n"
     ]
    },
    {
     "name": "stdout",
     "output_type": "stream",
     "text": [
      "Epoch 15 elapsed: 7.363s\n",
      "\t \u001b[32mtrain_loss: 0.4525\u001b[0m\n"
     ]
    },
    {
     "name": "stderr",
     "output_type": "stream",
     "text": [
      "eval_listwise: 100%|██████████| 2731/2731 [01:15<00:00, 36.36it/s]\n"
     ]
    },
    {
     "name": "stdout",
     "output_type": "stream",
     "text": [
      "\t eval recall@10: 0.0520\n",
      "\t eval precision@10: 0.0052\n",
      "\t eval ndcg@10: 0.0238\n",
      "\t eval map@10: 0.0155\n",
      "==============================\n"
     ]
    },
    {
     "name": "stderr",
     "output_type": "stream",
     "text": [
      "train: 100%|██████████| 305/305 [00:07<00:00, 38.78it/s]\n"
     ]
    },
    {
     "name": "stdout",
     "output_type": "stream",
     "text": [
      "Epoch 16 elapsed: 7.870s\n",
      "\t \u001b[32mtrain_loss: 0.4493\u001b[0m\n"
     ]
    },
    {
     "name": "stderr",
     "output_type": "stream",
     "text": [
      "eval_listwise: 100%|██████████| 2731/2731 [01:15<00:00, 36.34it/s]\n"
     ]
    },
    {
     "name": "stdout",
     "output_type": "stream",
     "text": [
      "\t eval recall@10: 0.0490\n",
      "\t eval precision@10: 0.0049\n",
      "\t eval ndcg@10: 0.0228\n",
      "\t eval map@10: 0.0151\n",
      "==============================\n"
     ]
    },
    {
     "name": "stderr",
     "output_type": "stream",
     "text": [
      "train: 100%|██████████| 305/305 [00:07<00:00, 39.80it/s]\n"
     ]
    },
    {
     "name": "stdout",
     "output_type": "stream",
     "text": [
      "Epoch 17 elapsed: 7.669s\n",
      "\t \u001b[32mtrain_loss: 0.4478\u001b[0m\n"
     ]
    },
    {
     "name": "stderr",
     "output_type": "stream",
     "text": [
      "eval_listwise: 100%|██████████| 2731/2731 [01:15<00:00, 36.29it/s]\n"
     ]
    },
    {
     "name": "stdout",
     "output_type": "stream",
     "text": [
      "\t eval recall@10: 0.0498\n",
      "\t eval precision@10: 0.0050\n",
      "\t eval ndcg@10: 0.0234\n",
      "\t eval map@10: 0.0155\n",
      "==============================\n"
     ]
    },
    {
     "name": "stderr",
     "output_type": "stream",
     "text": [
      "train: 100%|██████████| 305/305 [00:07<00:00, 40.41it/s]\n"
     ]
    },
    {
     "name": "stdout",
     "output_type": "stream",
     "text": [
      "Epoch 18 elapsed: 7.552s\n",
      "\t \u001b[32mtrain_loss: 0.444\u001b[0m\n"
     ]
    },
    {
     "name": "stderr",
     "output_type": "stream",
     "text": [
      "eval_listwise: 100%|██████████| 2731/2731 [01:14<00:00, 36.49it/s]\n"
     ]
    },
    {
     "name": "stdout",
     "output_type": "stream",
     "text": [
      "\t eval recall@10: 0.0499\n",
      "\t eval precision@10: 0.0050\n",
      "\t eval ndcg@10: 0.0232\n",
      "\t eval map@10: 0.0153\n",
      "==============================\n"
     ]
    },
    {
     "name": "stderr",
     "output_type": "stream",
     "text": [
      "train: 100%|██████████| 305/305 [00:08<00:00, 35.98it/s]\n"
     ]
    },
    {
     "name": "stdout",
     "output_type": "stream",
     "text": [
      "Epoch 19 elapsed: 8.482s\n",
      "\t \u001b[32mtrain_loss: 0.442\u001b[0m\n"
     ]
    },
    {
     "name": "stderr",
     "output_type": "stream",
     "text": [
      "eval_listwise: 100%|██████████| 2731/2731 [01:15<00:00, 36.20it/s]\n"
     ]
    },
    {
     "name": "stdout",
     "output_type": "stream",
     "text": [
      "\t eval recall@10: 0.0463\n",
      "\t eval precision@10: 0.0046\n",
      "\t eval ndcg@10: 0.0225\n",
      "\t eval map@10: 0.0154\n",
      "==============================\n"
     ]
    },
    {
     "name": "stderr",
     "output_type": "stream",
     "text": [
      "train: 100%|██████████| 305/305 [00:07<00:00, 39.81it/s]\n"
     ]
    },
    {
     "name": "stdout",
     "output_type": "stream",
     "text": [
      "Epoch 20 elapsed: 7.664s\n",
      "\t \u001b[32mtrain_loss: 0.4391\u001b[0m\n"
     ]
    },
    {
     "name": "stderr",
     "output_type": "stream",
     "text": [
      "eval_listwise: 100%|██████████| 2731/2731 [01:14<00:00, 36.54it/s]\n"
     ]
    },
    {
     "name": "stdout",
     "output_type": "stream",
     "text": [
      "\t eval recall@10: 0.0488\n",
      "\t eval precision@10: 0.0049\n",
      "\t eval ndcg@10: 0.0236\n",
      "\t eval map@10: 0.0160\n",
      "==============================\n"
     ]
    },
    {
     "name": "stderr",
     "output_type": "stream",
     "text": [
      "train: 100%|██████████| 305/305 [00:07<00:00, 41.78it/s]\n"
     ]
    },
    {
     "name": "stdout",
     "output_type": "stream",
     "text": [
      "Epoch 21 elapsed: 7.304s\n",
      "\t \u001b[32mtrain_loss: 0.4361\u001b[0m\n"
     ]
    },
    {
     "name": "stderr",
     "output_type": "stream",
     "text": [
      "eval_listwise: 100%|██████████| 2731/2731 [01:16<00:00, 35.86it/s]\n"
     ]
    },
    {
     "name": "stdout",
     "output_type": "stream",
     "text": [
      "\t eval recall@10: 0.0499\n",
      "\t eval precision@10: 0.0050\n",
      "\t eval ndcg@10: 0.0245\n",
      "\t eval map@10: 0.0168\n",
      "==============================\n"
     ]
    },
    {
     "name": "stderr",
     "output_type": "stream",
     "text": [
      "train: 100%|██████████| 305/305 [00:07<00:00, 41.44it/s]\n"
     ]
    },
    {
     "name": "stdout",
     "output_type": "stream",
     "text": [
      "Epoch 22 elapsed: 7.364s\n",
      "\t \u001b[32mtrain_loss: 0.4342\u001b[0m\n"
     ]
    },
    {
     "name": "stderr",
     "output_type": "stream",
     "text": [
      "eval_listwise: 100%|██████████| 2731/2731 [01:14<00:00, 36.58it/s]\n"
     ]
    },
    {
     "name": "stdout",
     "output_type": "stream",
     "text": [
      "\t eval recall@10: 0.0488\n",
      "\t eval precision@10: 0.0049\n",
      "\t eval ndcg@10: 0.0239\n",
      "\t eval map@10: 0.0164\n",
      "==============================\n"
     ]
    },
    {
     "name": "stderr",
     "output_type": "stream",
     "text": [
      "train: 100%|██████████| 305/305 [00:07<00:00, 41.33it/s]\n"
     ]
    },
    {
     "name": "stdout",
     "output_type": "stream",
     "text": [
      "Epoch 23 elapsed: 7.383s\n",
      "\t \u001b[32mtrain_loss: 0.4306\u001b[0m\n"
     ]
    },
    {
     "name": "stderr",
     "output_type": "stream",
     "text": [
      "eval_listwise: 100%|██████████| 2731/2731 [01:17<00:00, 35.33it/s]\n"
     ]
    },
    {
     "name": "stdout",
     "output_type": "stream",
     "text": [
      "\t eval recall@10: 0.0519\n",
      "\t eval precision@10: 0.0052\n",
      "\t eval ndcg@10: 0.0247\n",
      "\t eval map@10: 0.0166\n",
      "==============================\n"
     ]
    },
    {
     "name": "stderr",
     "output_type": "stream",
     "text": [
      "train: 100%|██████████| 305/305 [00:07<00:00, 41.34it/s]\n"
     ]
    },
    {
     "name": "stdout",
     "output_type": "stream",
     "text": [
      "Epoch 24 elapsed: 7.383s\n",
      "\t \u001b[32mtrain_loss: 0.4286\u001b[0m\n"
     ]
    },
    {
     "name": "stderr",
     "output_type": "stream",
     "text": [
      "eval_listwise: 100%|██████████| 2731/2731 [01:16<00:00, 35.92it/s]\n"
     ]
    },
    {
     "name": "stdout",
     "output_type": "stream",
     "text": [
      "\t eval recall@10: 0.0530\n",
      "\t eval precision@10: 0.0053\n",
      "\t eval ndcg@10: 0.0258\n",
      "\t eval map@10: 0.0176\n",
      "==============================\n"
     ]
    },
    {
     "name": "stderr",
     "output_type": "stream",
     "text": [
      "train: 100%|██████████| 305/305 [00:08<00:00, 37.27it/s]\n"
     ]
    },
    {
     "name": "stdout",
     "output_type": "stream",
     "text": [
      "Epoch 25 elapsed: 8.187s\n",
      "\t \u001b[32mtrain_loss: 0.4257\u001b[0m\n"
     ]
    },
    {
     "name": "stderr",
     "output_type": "stream",
     "text": [
      "eval_listwise: 100%|██████████| 2731/2731 [01:15<00:00, 35.98it/s]\n"
     ]
    },
    {
     "name": "stdout",
     "output_type": "stream",
     "text": [
      "\t eval recall@10: 0.0526\n",
      "\t eval precision@10: 0.0053\n",
      "\t eval ndcg@10: 0.0259\n",
      "\t eval map@10: 0.0179\n",
      "==============================\n"
     ]
    },
    {
     "name": "stderr",
     "output_type": "stream",
     "text": [
      "train: 100%|██████████| 305/305 [00:07<00:00, 41.53it/s]\n"
     ]
    },
    {
     "name": "stdout",
     "output_type": "stream",
     "text": [
      "Epoch 26 elapsed: 7.347s\n",
      "\t \u001b[32mtrain_loss: 0.4222\u001b[0m\n"
     ]
    },
    {
     "name": "stderr",
     "output_type": "stream",
     "text": [
      "eval_listwise: 100%|██████████| 2731/2731 [01:17<00:00, 35.37it/s]\n"
     ]
    },
    {
     "name": "stdout",
     "output_type": "stream",
     "text": [
      "\t eval recall@10: 0.0522\n",
      "\t eval precision@10: 0.0052\n",
      "\t eval ndcg@10: 0.0257\n",
      "\t eval map@10: 0.0178\n",
      "==============================\n"
     ]
    },
    {
     "name": "stderr",
     "output_type": "stream",
     "text": [
      "train: 100%|██████████| 305/305 [00:07<00:00, 41.50it/s]\n"
     ]
    },
    {
     "name": "stdout",
     "output_type": "stream",
     "text": [
      "Epoch 27 elapsed: 7.353s\n",
      "\t \u001b[32mtrain_loss: 0.4186\u001b[0m\n"
     ]
    },
    {
     "name": "stderr",
     "output_type": "stream",
     "text": [
      "eval_listwise: 100%|██████████| 2731/2731 [01:15<00:00, 36.32it/s]\n"
     ]
    },
    {
     "name": "stdout",
     "output_type": "stream",
     "text": [
      "\t eval recall@10: 0.0538\n",
      "\t eval precision@10: 0.0054\n",
      "\t eval ndcg@10: 0.0268\n",
      "\t eval map@10: 0.0187\n",
      "==============================\n"
     ]
    },
    {
     "name": "stderr",
     "output_type": "stream",
     "text": [
      "train: 100%|██████████| 305/305 [00:07<00:00, 39.31it/s]\n"
     ]
    },
    {
     "name": "stdout",
     "output_type": "stream",
     "text": [
      "Epoch 28 elapsed: 7.763s\n",
      "\t \u001b[32mtrain_loss: 0.4146\u001b[0m\n"
     ]
    },
    {
     "name": "stderr",
     "output_type": "stream",
     "text": [
      "eval_listwise: 100%|██████████| 2731/2731 [01:15<00:00, 36.20it/s]\n"
     ]
    },
    {
     "name": "stdout",
     "output_type": "stream",
     "text": [
      "\t eval recall@10: 0.0557\n",
      "\t eval precision@10: 0.0056\n",
      "\t eval ndcg@10: 0.0276\n",
      "\t eval map@10: 0.0192\n",
      "==============================\n"
     ]
    },
    {
     "name": "stderr",
     "output_type": "stream",
     "text": [
      "train: 100%|██████████| 305/305 [00:07<00:00, 41.52it/s]\n"
     ]
    },
    {
     "name": "stdout",
     "output_type": "stream",
     "text": [
      "Epoch 29 elapsed: 7.350s\n",
      "\t \u001b[32mtrain_loss: 0.4099\u001b[0m\n"
     ]
    },
    {
     "name": "stderr",
     "output_type": "stream",
     "text": [
      "eval_listwise: 100%|██████████| 2731/2731 [01:15<00:00, 36.24it/s]\n"
     ]
    },
    {
     "name": "stdout",
     "output_type": "stream",
     "text": [
      "\t eval recall@10: 0.0571\n",
      "\t eval precision@10: 0.0057\n",
      "\t eval ndcg@10: 0.0278\n",
      "\t eval map@10: 0.0190\n",
      "==============================\n"
     ]
    },
    {
     "name": "stderr",
     "output_type": "stream",
     "text": [
      "train: 100%|██████████| 305/305 [00:07<00:00, 38.87it/s]\n"
     ]
    },
    {
     "name": "stdout",
     "output_type": "stream",
     "text": [
      "Epoch 30 elapsed: 7.849s\n",
      "\t \u001b[32mtrain_loss: 0.4058\u001b[0m\n"
     ]
    },
    {
     "name": "stderr",
     "output_type": "stream",
     "text": [
      "eval_listwise: 100%|██████████| 2731/2731 [01:17<00:00, 35.35it/s]\n"
     ]
    },
    {
     "name": "stdout",
     "output_type": "stream",
     "text": [
      "\t eval recall@10: 0.0594\n",
      "\t eval precision@10: 0.0059\n",
      "\t eval ndcg@10: 0.0291\n",
      "\t eval map@10: 0.0200\n",
      "==============================\n"
     ]
    },
    {
     "name": "stderr",
     "output_type": "stream",
     "text": [
      "train: 100%|██████████| 305/305 [00:07<00:00, 41.31it/s]\n"
     ]
    },
    {
     "name": "stdout",
     "output_type": "stream",
     "text": [
      "Epoch 31 elapsed: 7.388s\n",
      "\t \u001b[32mtrain_loss: 0.3986\u001b[0m\n"
     ]
    },
    {
     "name": "stderr",
     "output_type": "stream",
     "text": [
      "eval_listwise: 100%|██████████| 2731/2731 [01:16<00:00, 35.50it/s]\n"
     ]
    },
    {
     "name": "stdout",
     "output_type": "stream",
     "text": [
      "\t eval recall@10: 0.0590\n",
      "\t eval precision@10: 0.0059\n",
      "\t eval ndcg@10: 0.0286\n",
      "\t eval map@10: 0.0195\n",
      "==============================\n"
     ]
    },
    {
     "name": "stderr",
     "output_type": "stream",
     "text": [
      "train: 100%|██████████| 305/305 [00:07<00:00, 39.11it/s]\n"
     ]
    },
    {
     "name": "stdout",
     "output_type": "stream",
     "text": [
      "Epoch 32 elapsed: 7.802s\n",
      "\t \u001b[32mtrain_loss: 0.393\u001b[0m\n"
     ]
    },
    {
     "name": "stderr",
     "output_type": "stream",
     "text": [
      "eval_listwise: 100%|██████████| 2731/2731 [01:17<00:00, 35.24it/s]\n"
     ]
    },
    {
     "name": "stdout",
     "output_type": "stream",
     "text": [
      "\t eval recall@10: 0.0592\n",
      "\t eval precision@10: 0.0059\n",
      "\t eval ndcg@10: 0.0294\n",
      "\t eval map@10: 0.0205\n",
      "==============================\n"
     ]
    },
    {
     "name": "stderr",
     "output_type": "stream",
     "text": [
      "train: 100%|██████████| 305/305 [00:07<00:00, 39.29it/s]\n"
     ]
    },
    {
     "name": "stdout",
     "output_type": "stream",
     "text": [
      "Epoch 33 elapsed: 7.765s\n",
      "\t \u001b[32mtrain_loss: 0.3863\u001b[0m\n"
     ]
    },
    {
     "name": "stderr",
     "output_type": "stream",
     "text": [
      "eval_listwise: 100%|██████████| 2731/2731 [01:18<00:00, 34.67it/s]\n"
     ]
    },
    {
     "name": "stdout",
     "output_type": "stream",
     "text": [
      "\t eval recall@10: 0.0621\n",
      "\t eval precision@10: 0.0062\n",
      "\t eval ndcg@10: 0.0306\n",
      "\t eval map@10: 0.0212\n",
      "==============================\n"
     ]
    },
    {
     "name": "stderr",
     "output_type": "stream",
     "text": [
      "train: 100%|██████████| 305/305 [00:07<00:00, 41.42it/s]\n"
     ]
    },
    {
     "name": "stdout",
     "output_type": "stream",
     "text": [
      "Epoch 34 elapsed: 7.368s\n",
      "\t \u001b[32mtrain_loss: 0.3804\u001b[0m\n"
     ]
    },
    {
     "name": "stderr",
     "output_type": "stream",
     "text": [
      "eval_listwise: 100%|██████████| 2731/2731 [01:18<00:00, 34.74it/s]\n"
     ]
    },
    {
     "name": "stdout",
     "output_type": "stream",
     "text": [
      "\t eval recall@10: 0.0654\n",
      "\t eval precision@10: 0.0065\n",
      "\t eval ndcg@10: 0.0321\n",
      "\t eval map@10: 0.0221\n",
      "==============================\n"
     ]
    },
    {
     "name": "stderr",
     "output_type": "stream",
     "text": [
      "train: 100%|██████████| 305/305 [00:07<00:00, 38.72it/s]\n"
     ]
    },
    {
     "name": "stdout",
     "output_type": "stream",
     "text": [
      "Epoch 35 elapsed: 7.881s\n",
      "\t \u001b[32mtrain_loss: 0.3747\u001b[0m\n"
     ]
    },
    {
     "name": "stderr",
     "output_type": "stream",
     "text": [
      "eval_listwise: 100%|██████████| 2731/2731 [01:18<00:00, 34.75it/s]\n"
     ]
    },
    {
     "name": "stdout",
     "output_type": "stream",
     "text": [
      "\t eval recall@10: 0.0665\n",
      "\t eval precision@10: 0.0067\n",
      "\t eval ndcg@10: 0.0342\n",
      "\t eval map@10: 0.0244\n",
      "==============================\n"
     ]
    },
    {
     "name": "stderr",
     "output_type": "stream",
     "text": [
      "train: 100%|██████████| 305/305 [00:07<00:00, 41.64it/s]\n"
     ]
    },
    {
     "name": "stdout",
     "output_type": "stream",
     "text": [
      "Epoch 36 elapsed: 7.329s\n",
      "\t \u001b[32mtrain_loss: 0.3685\u001b[0m\n"
     ]
    },
    {
     "name": "stderr",
     "output_type": "stream",
     "text": [
      "eval_listwise: 100%|██████████| 2731/2731 [01:19<00:00, 34.36it/s]\n"
     ]
    },
    {
     "name": "stdout",
     "output_type": "stream",
     "text": [
      "\t eval recall@10: 0.0702\n",
      "\t eval precision@10: 0.0070\n",
      "\t eval ndcg@10: 0.0347\n",
      "\t eval map@10: 0.0241\n",
      "==============================\n"
     ]
    },
    {
     "name": "stderr",
     "output_type": "stream",
     "text": [
      "train: 100%|██████████| 305/305 [00:07<00:00, 41.51it/s]\n"
     ]
    },
    {
     "name": "stdout",
     "output_type": "stream",
     "text": [
      "Epoch 37 elapsed: 7.351s\n",
      "\t \u001b[32mtrain_loss: 0.3644\u001b[0m\n"
     ]
    },
    {
     "name": "stderr",
     "output_type": "stream",
     "text": [
      "eval_listwise: 100%|██████████| 2731/2731 [01:18<00:00, 34.72it/s]\n"
     ]
    },
    {
     "name": "stdout",
     "output_type": "stream",
     "text": [
      "\t eval recall@10: 0.0748\n",
      "\t eval precision@10: 0.0075\n",
      "\t eval ndcg@10: 0.0368\n",
      "\t eval map@10: 0.0255\n",
      "==============================\n"
     ]
    },
    {
     "name": "stderr",
     "output_type": "stream",
     "text": [
      "train: 100%|██████████| 305/305 [00:08<00:00, 36.53it/s]\n"
     ]
    },
    {
     "name": "stdout",
     "output_type": "stream",
     "text": [
      "Epoch 38 elapsed: 8.354s\n",
      "\t \u001b[32mtrain_loss: 0.3596\u001b[0m\n"
     ]
    },
    {
     "name": "stderr",
     "output_type": "stream",
     "text": [
      "eval_listwise: 100%|██████████| 2731/2731 [01:19<00:00, 34.23it/s]\n"
     ]
    },
    {
     "name": "stdout",
     "output_type": "stream",
     "text": [
      "\t eval recall@10: 0.0756\n",
      "\t eval precision@10: 0.0076\n",
      "\t eval ndcg@10: 0.0378\n",
      "\t eval map@10: 0.0265\n",
      "==============================\n"
     ]
    },
    {
     "name": "stderr",
     "output_type": "stream",
     "text": [
      "train: 100%|██████████| 305/305 [00:07<00:00, 41.25it/s]\n"
     ]
    },
    {
     "name": "stdout",
     "output_type": "stream",
     "text": [
      "Epoch 39 elapsed: 7.397s\n",
      "\t \u001b[32mtrain_loss: 0.3558\u001b[0m\n"
     ]
    },
    {
     "name": "stderr",
     "output_type": "stream",
     "text": [
      "eval_listwise: 100%|██████████| 2731/2731 [01:20<00:00, 34.13it/s]\n"
     ]
    },
    {
     "name": "stdout",
     "output_type": "stream",
     "text": [
      "\t eval recall@10: 0.0795\n",
      "\t eval precision@10: 0.0079\n",
      "\t eval ndcg@10: 0.0398\n",
      "\t eval map@10: 0.0279\n",
      "==============================\n"
     ]
    },
    {
     "name": "stderr",
     "output_type": "stream",
     "text": [
      "train: 100%|██████████| 305/305 [00:07<00:00, 41.17it/s]\n"
     ]
    },
    {
     "name": "stdout",
     "output_type": "stream",
     "text": [
      "Epoch 40 elapsed: 7.412s\n",
      "\t \u001b[32mtrain_loss: 0.3513\u001b[0m\n"
     ]
    },
    {
     "name": "stderr",
     "output_type": "stream",
     "text": [
      "eval_listwise: 100%|██████████| 2731/2731 [01:19<00:00, 34.50it/s]\n"
     ]
    },
    {
     "name": "stdout",
     "output_type": "stream",
     "text": [
      "\t eval recall@10: 0.0820\n",
      "\t eval precision@10: 0.0082\n",
      "\t eval ndcg@10: 0.0404\n",
      "\t eval map@10: 0.0279\n",
      "==============================\n"
     ]
    },
    {
     "name": "stderr",
     "output_type": "stream",
     "text": [
      "train: 100%|██████████| 305/305 [00:08<00:00, 35.27it/s]\n"
     ]
    },
    {
     "name": "stdout",
     "output_type": "stream",
     "text": [
      "Epoch 41 elapsed: 8.652s\n",
      "\t \u001b[32mtrain_loss: 0.3486\u001b[0m\n"
     ]
    },
    {
     "name": "stderr",
     "output_type": "stream",
     "text": [
      "eval_listwise: 100%|██████████| 2731/2731 [01:18<00:00, 34.69it/s]\n"
     ]
    },
    {
     "name": "stdout",
     "output_type": "stream",
     "text": [
      "\t eval recall@10: 0.0853\n",
      "\t eval precision@10: 0.0085\n",
      "\t eval ndcg@10: 0.0416\n",
      "\t eval map@10: 0.0285\n",
      "==============================\n"
     ]
    },
    {
     "name": "stderr",
     "output_type": "stream",
     "text": [
      "train: 100%|██████████| 305/305 [00:07<00:00, 41.11it/s]\n"
     ]
    },
    {
     "name": "stdout",
     "output_type": "stream",
     "text": [
      "Epoch 42 elapsed: 7.423s\n",
      "\t \u001b[32mtrain_loss: 0.3442\u001b[0m\n"
     ]
    },
    {
     "name": "stderr",
     "output_type": "stream",
     "text": [
      "eval_listwise: 100%|██████████| 2731/2731 [01:19<00:00, 34.18it/s]\n"
     ]
    },
    {
     "name": "stdout",
     "output_type": "stream",
     "text": [
      "\t eval recall@10: 0.0862\n",
      "\t eval precision@10: 0.0086\n",
      "\t eval ndcg@10: 0.0427\n",
      "\t eval map@10: 0.0297\n",
      "==============================\n"
     ]
    },
    {
     "name": "stderr",
     "output_type": "stream",
     "text": [
      "train: 100%|██████████| 305/305 [00:07<00:00, 41.28it/s]\n"
     ]
    },
    {
     "name": "stdout",
     "output_type": "stream",
     "text": [
      "Epoch 43 elapsed: 7.394s\n",
      "\t \u001b[32mtrain_loss: 0.3407\u001b[0m\n"
     ]
    },
    {
     "name": "stderr",
     "output_type": "stream",
     "text": [
      "eval_listwise: 100%|██████████| 2731/2731 [01:19<00:00, 34.36it/s]\n"
     ]
    },
    {
     "name": "stdout",
     "output_type": "stream",
     "text": [
      "\t eval recall@10: 0.0890\n",
      "\t eval precision@10: 0.0089\n",
      "\t eval ndcg@10: 0.0432\n",
      "\t eval map@10: 0.0295\n",
      "==============================\n"
     ]
    },
    {
     "name": "stderr",
     "output_type": "stream",
     "text": [
      "train: 100%|██████████| 305/305 [00:07<00:00, 38.53it/s]\n"
     ]
    },
    {
     "name": "stdout",
     "output_type": "stream",
     "text": [
      "Epoch 44 elapsed: 7.919s\n",
      "\t \u001b[32mtrain_loss: 0.3377\u001b[0m\n"
     ]
    },
    {
     "name": "stderr",
     "output_type": "stream",
     "text": [
      "eval_listwise: 100%|██████████| 2731/2731 [01:19<00:00, 34.21it/s]\n"
     ]
    },
    {
     "name": "stdout",
     "output_type": "stream",
     "text": [
      "\t eval recall@10: 0.0905\n",
      "\t eval precision@10: 0.0090\n",
      "\t eval ndcg@10: 0.0441\n",
      "\t eval map@10: 0.0302\n",
      "==============================\n"
     ]
    },
    {
     "name": "stderr",
     "output_type": "stream",
     "text": [
      "train: 100%|██████████| 305/305 [00:07<00:00, 41.13it/s]\n"
     ]
    },
    {
     "name": "stdout",
     "output_type": "stream",
     "text": [
      "Epoch 45 elapsed: 7.419s\n",
      "\t \u001b[32mtrain_loss: 0.3338\u001b[0m\n"
     ]
    },
    {
     "name": "stderr",
     "output_type": "stream",
     "text": [
      "eval_listwise: 100%|██████████| 2731/2731 [01:19<00:00, 34.39it/s]\n"
     ]
    },
    {
     "name": "stdout",
     "output_type": "stream",
     "text": [
      "\t eval recall@10: 0.0922\n",
      "\t eval precision@10: 0.0092\n",
      "\t eval ndcg@10: 0.0446\n",
      "\t eval map@10: 0.0304\n",
      "==============================\n"
     ]
    },
    {
     "name": "stderr",
     "output_type": "stream",
     "text": [
      "train: 100%|██████████| 305/305 [00:08<00:00, 37.37it/s]\n"
     ]
    },
    {
     "name": "stdout",
     "output_type": "stream",
     "text": [
      "Epoch 46 elapsed: 8.164s\n",
      "\t \u001b[32mtrain_loss: 0.3313\u001b[0m\n"
     ]
    },
    {
     "name": "stderr",
     "output_type": "stream",
     "text": [
      "eval_listwise: 100%|██████████| 2731/2731 [01:18<00:00, 34.69it/s]\n"
     ]
    },
    {
     "name": "stdout",
     "output_type": "stream",
     "text": [
      "\t eval recall@10: 0.0908\n",
      "\t eval precision@10: 0.0091\n",
      "\t eval ndcg@10: 0.0449\n",
      "\t eval map@10: 0.0311\n",
      "==============================\n"
     ]
    },
    {
     "name": "stderr",
     "output_type": "stream",
     "text": [
      "train: 100%|██████████| 305/305 [00:07<00:00, 38.95it/s]\n"
     ]
    },
    {
     "name": "stdout",
     "output_type": "stream",
     "text": [
      "Epoch 47 elapsed: 7.835s\n",
      "\t \u001b[32mtrain_loss: 0.3282\u001b[0m\n"
     ]
    },
    {
     "name": "stderr",
     "output_type": "stream",
     "text": [
      "eval_listwise: 100%|██████████| 2731/2731 [01:20<00:00, 33.99it/s]\n"
     ]
    },
    {
     "name": "stdout",
     "output_type": "stream",
     "text": [
      "\t eval recall@10: 0.0980\n",
      "\t eval precision@10: 0.0098\n",
      "\t eval ndcg@10: 0.0479\n",
      "\t eval map@10: 0.0329\n",
      "==============================\n"
     ]
    },
    {
     "name": "stderr",
     "output_type": "stream",
     "text": [
      "train: 100%|██████████| 305/305 [00:07<00:00, 41.08it/s]\n"
     ]
    },
    {
     "name": "stdout",
     "output_type": "stream",
     "text": [
      "Epoch 48 elapsed: 7.427s\n",
      "\t \u001b[32mtrain_loss: 0.3248\u001b[0m\n"
     ]
    },
    {
     "name": "stderr",
     "output_type": "stream",
     "text": [
      "eval_listwise: 100%|██████████| 2731/2731 [01:19<00:00, 34.36it/s]\n"
     ]
    },
    {
     "name": "stdout",
     "output_type": "stream",
     "text": [
      "\t eval recall@10: 0.0981\n",
      "\t eval precision@10: 0.0098\n",
      "\t eval ndcg@10: 0.0486\n",
      "\t eval map@10: 0.0338\n",
      "==============================\n"
     ]
    },
    {
     "name": "stderr",
     "output_type": "stream",
     "text": [
      "train: 100%|██████████| 305/305 [00:07<00:00, 41.07it/s]\n"
     ]
    },
    {
     "name": "stdout",
     "output_type": "stream",
     "text": [
      "Epoch 49 elapsed: 7.429s\n",
      "\t \u001b[32mtrain_loss: 0.3218\u001b[0m\n"
     ]
    },
    {
     "name": "stderr",
     "output_type": "stream",
     "text": [
      "eval_listwise: 100%|██████████| 2731/2731 [01:19<00:00, 34.20it/s]\n"
     ]
    },
    {
     "name": "stdout",
     "output_type": "stream",
     "text": [
      "\t eval recall@10: 0.1024\n",
      "\t eval precision@10: 0.0102\n",
      "\t eval ndcg@10: 0.0497\n",
      "\t eval map@10: 0.0339\n",
      "==============================\n"
     ]
    },
    {
     "name": "stderr",
     "output_type": "stream",
     "text": [
      "train: 100%|██████████| 305/305 [00:07<00:00, 38.81it/s]\n"
     ]
    },
    {
     "name": "stdout",
     "output_type": "stream",
     "text": [
      "Epoch 50 elapsed: 7.864s\n",
      "\t \u001b[32mtrain_loss: 0.3183\u001b[0m\n"
     ]
    },
    {
     "name": "stderr",
     "output_type": "stream",
     "text": [
      "eval_listwise: 100%|██████████| 2731/2731 [01:18<00:00, 34.60it/s]\n"
     ]
    },
    {
     "name": "stdout",
     "output_type": "stream",
     "text": [
      "\t eval recall@10: 0.1023\n",
      "\t eval precision@10: 0.0102\n",
      "\t eval ndcg@10: 0.0503\n",
      "\t eval map@10: 0.0347\n",
      "==============================\n",
      "Thời gian thực hiện: 4261.959961 giây\n"
     ]
    }
   ],
   "source": [
    "model = DeepFM(\n",
    "        \"ranking\",\n",
    "        data_info,\n",
    "        embed_size=16,\n",
    "        n_epochs=50,\n",
    "        lr=1e-4,\n",
    "        lr_decay=False,\n",
    "        reg=None,\n",
    "        batch_size=2048,\n",
    "        num_neg=1,\n",
    "        use_bn=False,\n",
    "        dropout_rate=None,\n",
    "        hidden_units=(128, 64, 32),\n",
    "        tf_sess_config=None,\n",
    "        sampler=\"random\"\n",
    ")\n",
    "start_time = time.time()\n",
    "model.fit(\n",
    "    train_data,\n",
    "    neg_sampling=True,\n",
    "    verbose=2,\n",
    "    shuffle=True,\n",
    "    eval_data=test_data,\n",
    "    metrics=[\"recall\", \"precision\", \"ndcg\", \"map\"],\n",
    "    eval_batch_size=8192,\n",
    "    k=10,\n",
    "    eval_user_num=8192,\n",
    ")\n",
    "end_time = time.time()  # Kết thúc đo thời gian\n",
    "\n",
    "print(f\"Thời gian thực hiện: {end_time - start_time:.6f} giây\")"
   ]
  },
  {
   "cell_type": "code",
   "execution_count": 33,
   "id": "31158550",
   "metadata": {
    "execution": {
     "iopub.execute_input": "2025-07-13T06:10:00.721359Z",
     "iopub.status.busy": "2025-07-13T06:10:00.720854Z",
     "iopub.status.idle": "2025-07-13T06:10:00.728302Z",
     "shell.execute_reply": "2025-07-13T06:10:00.727100Z"
    },
    "papermill": {
     "duration": 2.174045,
     "end_time": "2025-07-13T06:10:00.730073",
     "exception": false,
     "start_time": "2025-07-13T06:09:58.556028",
     "status": "completed"
    },
    "tags": []
   },
   "outputs": [],
   "source": [
    "def recommend_courses(model, user_course , num_recommendations=5):\n",
    "    recommendations = {}\n",
    "\n",
    "    # Dự đoán cho tất cả người dùng trong test_user với thanh tiến trình\n",
    "    for user_id in tqdm(user_course['user'].unique(), desc=\"Khuyến nghị cho người dùng\", unit=\"user\"):\n",
    "        # Dự đoán cho tất cả các khóa học của người dùng (tắt chi tiết trong dự đoán)\n",
    "        recommended_courses = model.recommend_user(user=user_id,n_rec = num_recommendations)\n",
    "        recommended_courses = {key: value.tolist() if isinstance(value, np.ndarray) else value for key, value in recommended_courses.items()}\n",
    "        # Lấy top k khóa học dựa trên dự đoán\n",
    "        recommendations = recommendations | recommended_courses\n",
    "    return recommendations"
   ]
  },
  {
   "cell_type": "code",
   "execution_count": 34,
   "id": "3344abc8",
   "metadata": {
    "execution": {
     "iopub.execute_input": "2025-07-13T06:10:05.040702Z",
     "iopub.status.busy": "2025-07-13T06:10:05.040340Z",
     "iopub.status.idle": "2025-07-13T06:10:05.048953Z",
     "shell.execute_reply": "2025-07-13T06:10:05.047804Z"
    },
    "papermill": {
     "duration": 2.181448,
     "end_time": "2025-07-13T06:10:05.050571",
     "exception": false,
     "start_time": "2025-07-13T06:10:02.869123",
     "status": "completed"
    },
    "tags": []
   },
   "outputs": [],
   "source": [
    "def recommend_courses_with_negative_sampling(model, \n",
    "                                             user_course_train_df, \n",
    "                                             user_course_test_df, \n",
    "                                             all_course_ids, \n",
    "                                             num_negatives=100):\n",
    "    \"\"\"\n",
    "    Trả về recommendations dạng {user_id: [item_ids]} gồm 1 positive + N negative, sắp xếp theo điểm dự đoán.\n",
    "    \n",
    "    Params:\n",
    "        model: object có hàm predict(user_id, item_id)\n",
    "        user_course_train_df: DataFrame với cột ['user_id', 'course_id']\n",
    "        user_course_test_df: DataFrame với cột ['user_id', 'course_id'], mỗi user chỉ 1 dòng\n",
    "        all_course_ids: list hoặc Series chứa toàn bộ course_id\n",
    "        num_negatives: số lượng mẫu âm\n",
    "    \n",
    "    Returns:\n",
    "        recommendations: dict {user_id: list[item_id]}, sắp xếp theo điểm dự đoán\n",
    "    \"\"\"\n",
    "    from tqdm import tqdm\n",
    "    import numpy as np\n",
    "\n",
    "    # Tiền xử lý: gom user -> list[course_id]\n",
    "    user_train_dict = user_course_train_df.groupby(\"user\")[\"item\"].apply(set).to_dict()\n",
    "    user_test_dict = user_course_test_df.set_index(\"user\")[\"item\"].to_dict()\n",
    "    \n",
    "    recommendations = {}\n",
    "    \n",
    "    for i, (user_id, true_item) in enumerate(tqdm(user_test_dict.items(), \n",
    "                                                   desc=\"Khuyến nghị với negative sampling\", unit=\"user\")):\n",
    "\n",
    "        train_items = user_train_dict.get(user_id, set())\n",
    "        excluded_items = train_items.union({true_item})\n",
    "\n",
    "        # Lấy negative items chưa tương tác\n",
    "        negative_candidates = [item for item in all_course_ids if item not in excluded_items]\n",
    "\n",
    "        if len(negative_candidates) < num_negatives:\n",
    "            continue  # Bỏ qua user nếu không đủ negative samples\n",
    "\n",
    "        negative_samples = np.random.choice(negative_candidates, num_negatives, replace=False).tolist()\n",
    "        candidate_items = [true_item] + negative_samples\n",
    "\n",
    "        # Dự đoán điểm\n",
    "        user_ids = [user_id] * len(candidate_items)\n",
    "        scores = model.predict(user_ids, candidate_items)\n",
    "        ranked_items = [item for _, item in sorted(zip(scores, candidate_items), reverse=True)]\n",
    "\n",
    "        recommendations[user_id] = ranked_items\n",
    "\n",
    "    return recommendations\n"
   ]
  },
  {
   "cell_type": "code",
   "execution_count": 35,
   "id": "f6690379",
   "metadata": {
    "execution": {
     "iopub.execute_input": "2025-07-13T06:10:09.394306Z",
     "iopub.status.busy": "2025-07-13T06:10:09.393902Z",
     "iopub.status.idle": "2025-07-13T06:10:09.413514Z",
     "shell.execute_reply": "2025-07-13T06:10:09.412385Z"
    },
    "jupyter": {
     "source_hidden": true
    },
    "papermill": {
     "duration": 2.241262,
     "end_time": "2025-07-13T06:10:09.415712",
     "exception": false,
     "start_time": "2025-07-13T06:10:07.174450",
     "status": "completed"
    },
    "tags": []
   },
   "outputs": [],
   "source": [
    "import numpy as np\n",
    "\n",
    "# Precision@5\n",
    "def precision_at_k(y_true, recommendations, k=5):\n",
    "    precision_scores = []\n",
    "    for user, recommended_courses in recommendations.items():\n",
    "        true_courses = y_true.get(user, [])\n",
    "        if not true_courses:\n",
    "            continue\n",
    "        top_k_pred = recommended_courses[:k]\n",
    "        relevant = sum(1 for course in top_k_pred if course in true_courses)\n",
    "        precision_scores.append(relevant / k)\n",
    "    return np.mean(precision_scores) if precision_scores else 0.0\n",
    "\n",
    "# Recall@5\n",
    "def recall_at_k(y_true, recommendations, k=5):\n",
    "    recall_scores = []\n",
    "    for user, recommended_courses in recommendations.items():\n",
    "        true_courses = y_true.get(user, [])\n",
    "        if not true_courses:\n",
    "            continue\n",
    "        top_k_pred = recommended_courses[:k]\n",
    "        relevant = sum(1 for course in top_k_pred if course in true_courses)\n",
    "        recall_scores.append(relevant / len(true_courses))\n",
    "    return np.mean(recall_scores) if recall_scores else 0.0\n",
    "\n",
    "# Hit Rate@5\n",
    "def hit_rate_at_k(y_true, recommendations, k=5):\n",
    "    hit_rate_scores = []\n",
    "    for user, recommended_courses in recommendations.items():\n",
    "        true_courses = y_true.get(user, [])\n",
    "        if not true_courses:\n",
    "            continue\n",
    "        top_k_pred = recommended_courses[:k]\n",
    "        relevant = any(course in true_courses for course in top_k_pred)\n",
    "        hit_rate_scores.append(int(relevant))\n",
    "    return np.mean(hit_rate_scores) if hit_rate_scores else 0.0\n",
    "\n",
    "# NDCG@5\n",
    "def ndcg_at_k(y_true, recommendations, k=5):\n",
    "    dcg_scores = []\n",
    "    for user, recommended_courses in recommendations.items():\n",
    "        true_courses = y_true.get(user, [])\n",
    "        if not true_courses:\n",
    "            continue\n",
    "        top_k_pred = recommended_courses[:k]\n",
    "        dcg_score = sum(1 / np.log2(i + 2) for i, course in enumerate(top_k_pred) if course in true_courses)\n",
    "        idcg_score = sum(1 / np.log2(i + 2) for i in range(min(k, len(true_courses))))\n",
    "        dcg_scores.append(dcg_score / idcg_score if idcg_score > 0 else 0.0)\n",
    "    return np.mean(dcg_scores) if dcg_scores else 0.0\n",
    "\n",
    "# MAP@5\n",
    "def map_at_k(y_true, recommendations, k=5):\n",
    "    ap_scores = []\n",
    "    for user, recommended_courses in recommendations.items():\n",
    "        true_courses = y_true.get(user, [])\n",
    "        if not true_courses:\n",
    "            continue\n",
    "        top_k_pred = recommended_courses[:k]\n",
    "        relevant = [1 if course in true_courses else 0 for course in top_k_pred]\n",
    "        if sum(relevant) == 0:\n",
    "            ap_scores.append(0.0)\n",
    "            continue\n",
    "        precision_at_i = []\n",
    "        for i in range(min(k, len(top_k_pred))):\n",
    "            if relevant[i]:\n",
    "                precision_at_i.append(sum(relevant[:i+1]) / (i+1))\n",
    "        ap = sum(precision_at_i) / min(len(true_courses), k)\n",
    "        ap_scores.append(ap)\n",
    "    return np.mean(ap_scores) if ap_scores else 0.0\n",
    "\n",
    "# F1 Score@5\n",
    "def f1_at_k(y_true, recommendations, k=5):\n",
    "    f1_scores = []\n",
    "    for user, recommended_courses in recommendations.items():\n",
    "        true_courses = y_true.get(user, [])\n",
    "        if not true_courses:\n",
    "            continue\n",
    "        top_k_pred = recommended_courses[:k]\n",
    "        relevant = sum(1 for course in top_k_pred if course in true_courses)\n",
    "        precision = relevant / k\n",
    "        recall = relevant / len(true_courses)\n",
    "        if precision + recall > 0:\n",
    "            f1 = 2 * (precision * recall) / (precision + recall)\n",
    "        else:\n",
    "            f1 = 0.0\n",
    "        f1_scores.append(f1)\n",
    "    return np.mean(f1_scores) if f1_scores else 0.0\n",
    "\n",
    "# Hàm đánh giá mô hình\n",
    "def evaluate_model(y_true, recommendations, k=5):\n",
    "    \"\"\"\n",
    "    Đánh giá mô hình với Precision@5, Recall@5, Hit Rate@5, NDCG@5, MAP@5, F1 Score@5.\n",
    "\n",
    "    Parameters:\n",
    "    y_true: DataFrame hoặc dict chứa các khóa học thực tế trong tập TEST.\n",
    "    recommendations: dict chứa các khóa học khuyến nghị.\n",
    "    k: Số khóa học top cần xét (default là 5).\n",
    "\n",
    "    Returns:\n",
    "    dict: Các độ đo Precision@5, Recall@5, Hit Rate@5, NDCG@5, MAP@5, F1 Score@5.\n",
    "    \"\"\"\n",
    "    # Chuyển y_true thành dict\n",
    "    if hasattr(y_true, 'set_index'):\n",
    "        y_true_dict = {}\n",
    "        for user, item in y_true.set_index('user')['item'].items():\n",
    "            y_true_dict[user] = [item] if not isinstance(item, (list, set)) else list(item)\n",
    "        y_true = y_true_dict\n",
    "    else:\n",
    "        y_true = {k: [v] if not isinstance(v, (list, set)) else list(v) for k, v in y_true.items()}\n",
    "\n",
    "    precision = precision_at_k(y_true, recommendations, k)\n",
    "    recall = recall_at_k(y_true, recommendations, k)\n",
    "    hit_rate = hit_rate_at_k(y_true, recommendations, k)\n",
    "    ndcg = ndcg_at_k(y_true, recommendations, k)\n",
    "    map_k = map_at_k(y_true, recommendations, k)\n",
    "    f1 = f1_at_k(y_true, recommendations, k)\n",
    "\n",
    "    return {\n",
    "        f\"Baseline\": f\"V{i+1}-DeepFM@{k}\",\n",
    "        f\"Precision\": round(precision,4),\n",
    "        f\"Recall\": round(recall,4),\n",
    "        f\"HitRate\": round(hit_rate,4),\n",
    "        f\"NDCG\": round(ndcg,4),\n",
    "        f\"MAP\": round(map_k,4),\n",
    "        f\"F1-score\": round(f1,4)\n",
    "    }"
   ]
  },
  {
   "cell_type": "code",
   "execution_count": 36,
   "id": "99059c46",
   "metadata": {
    "execution": {
     "iopub.execute_input": "2025-07-13T06:10:13.699773Z",
     "iopub.status.busy": "2025-07-13T06:10:13.699389Z",
     "iopub.status.idle": "2025-07-13T06:14:50.061582Z",
     "shell.execute_reply": "2025-07-13T06:14:50.060389Z"
    },
    "papermill": {
     "duration": 278.515576,
     "end_time": "2025-07-13T06:14:50.063381",
     "exception": false,
     "start_time": "2025-07-13T06:10:11.547805",
     "status": "completed"
    },
    "tags": []
   },
   "outputs": [
    {
     "name": "stderr",
     "output_type": "stream",
     "text": [
      "Khuyến nghị cho người dùng: 100%|██████████| 24052/24052 [04:36<00:00, 87.04user/s]"
     ]
    },
    {
     "name": "stdout",
     "output_type": "stream",
     "text": [
      "Thời gian thực hiện: 276.355418 giây\n"
     ]
    },
    {
     "name": "stderr",
     "output_type": "stream",
     "text": [
      "\n"
     ]
    }
   ],
   "source": [
    "\n",
    "start_time = time.time()\n",
    "results1 = recommend_courses(model,test,10)\n",
    "end_time = time.time()  # Kết thúc đo thời gian\n",
    "\n",
    "print(f\"Thời gian thực hiện: {end_time - start_time:.6f} giây\")\n"
   ]
  },
  {
   "cell_type": "code",
   "execution_count": 37,
   "id": "18f8e660",
   "metadata": {
    "execution": {
     "iopub.execute_input": "2025-07-13T06:14:54.704189Z",
     "iopub.status.busy": "2025-07-13T06:14:54.703793Z",
     "iopub.status.idle": "2025-07-13T06:14:54.736338Z",
     "shell.execute_reply": "2025-07-13T06:14:54.735248Z"
    },
    "papermill": {
     "duration": 2.381071,
     "end_time": "2025-07-13T06:14:54.738108",
     "exception": false,
     "start_time": "2025-07-13T06:14:52.357037",
     "status": "completed"
    },
    "tags": []
   },
   "outputs": [
    {
     "data": {
      "text/html": [
       "<div>\n",
       "<style scoped>\n",
       "    .dataframe tbody tr th:only-of-type {\n",
       "        vertical-align: middle;\n",
       "    }\n",
       "\n",
       "    .dataframe tbody tr th {\n",
       "        vertical-align: top;\n",
       "    }\n",
       "\n",
       "    .dataframe thead th {\n",
       "        text-align: right;\n",
       "    }\n",
       "</style>\n",
       "<table border=\"1\" class=\"dataframe\">\n",
       "  <thead>\n",
       "    <tr style=\"text-align: right;\">\n",
       "      <th></th>\n",
       "      <th>user</th>\n",
       "      <th>item</th>\n",
       "    </tr>\n",
       "  </thead>\n",
       "  <tbody>\n",
       "    <tr>\n",
       "      <th>0</th>\n",
       "      <td>U_100090</td>\n",
       "      <td>C_707022</td>\n",
       "    </tr>\n",
       "    <tr>\n",
       "      <th>1</th>\n",
       "      <td>U_100090</td>\n",
       "      <td>C_676687</td>\n",
       "    </tr>\n",
       "    <tr>\n",
       "      <th>2</th>\n",
       "      <td>U_100090</td>\n",
       "      <td>C_697073</td>\n",
       "    </tr>\n",
       "    <tr>\n",
       "      <th>3</th>\n",
       "      <td>U_100090</td>\n",
       "      <td>C_948038</td>\n",
       "    </tr>\n",
       "    <tr>\n",
       "      <th>4</th>\n",
       "      <td>U_100090</td>\n",
       "      <td>C_680716</td>\n",
       "    </tr>\n",
       "    <tr>\n",
       "      <th>...</th>\n",
       "      <td>...</td>\n",
       "      <td>...</td>\n",
       "    </tr>\n",
       "    <tr>\n",
       "      <th>311491</th>\n",
       "      <td>U_997506</td>\n",
       "      <td>C_735239</td>\n",
       "    </tr>\n",
       "    <tr>\n",
       "      <th>311492</th>\n",
       "      <td>U_997506</td>\n",
       "      <td>C_2095102</td>\n",
       "    </tr>\n",
       "    <tr>\n",
       "      <th>311493</th>\n",
       "      <td>U_997506</td>\n",
       "      <td>C_682379</td>\n",
       "    </tr>\n",
       "    <tr>\n",
       "      <th>311494</th>\n",
       "      <td>U_997506</td>\n",
       "      <td>C_696554</td>\n",
       "    </tr>\n",
       "    <tr>\n",
       "      <th>311495</th>\n",
       "      <td>U_997506</td>\n",
       "      <td>C_696673</td>\n",
       "    </tr>\n",
       "  </tbody>\n",
       "</table>\n",
       "<p>311496 rows × 2 columns</p>\n",
       "</div>"
      ],
      "text/plain": [
       "            user       item\n",
       "0       U_100090   C_707022\n",
       "1       U_100090   C_676687\n",
       "2       U_100090   C_697073\n",
       "3       U_100090   C_948038\n",
       "4       U_100090   C_680716\n",
       "...          ...        ...\n",
       "311491  U_997506   C_735239\n",
       "311492  U_997506  C_2095102\n",
       "311493  U_997506   C_682379\n",
       "311494  U_997506   C_696554\n",
       "311495  U_997506   C_696673\n",
       "\n",
       "[311496 rows x 2 columns]"
      ]
     },
     "execution_count": 37,
     "metadata": {},
     "output_type": "execute_result"
    }
   ],
   "source": [
    "train[['user','item']]"
   ]
  },
  {
   "cell_type": "code",
   "execution_count": 38,
   "id": "5ed61d52",
   "metadata": {
    "execution": {
     "iopub.execute_input": "2025-07-13T06:14:59.415754Z",
     "iopub.status.busy": "2025-07-13T06:14:59.415373Z",
     "iopub.status.idle": "2025-07-13T06:14:59.731061Z",
     "shell.execute_reply": "2025-07-13T06:14:59.729801Z"
    },
    "papermill": {
     "duration": 2.695572,
     "end_time": "2025-07-13T06:14:59.733128",
     "exception": false,
     "start_time": "2025-07-13T06:14:57.037556",
     "status": "completed"
    },
    "tags": []
   },
   "outputs": [],
   "source": [
    "user_course_train=train[['user','item']]\n",
    "# \n",
    "user_course_test = test[['user','item']]\n",
    "all_course_ids = pd.concat([train,test],axis=0)['item'].drop_duplicates()"
   ]
  },
  {
   "cell_type": "code",
   "execution_count": 39,
   "id": "cf790fb3",
   "metadata": {
    "execution": {
     "iopub.execute_input": "2025-07-13T06:15:04.541330Z",
     "iopub.status.busy": "2025-07-13T06:15:04.540981Z",
     "iopub.status.idle": "2025-07-13T06:16:20.168529Z",
     "shell.execute_reply": "2025-07-13T06:16:20.167408Z"
    },
    "papermill": {
     "duration": 78.053229,
     "end_time": "2025-07-13T06:16:20.170312",
     "exception": false,
     "start_time": "2025-07-13T06:15:02.117083",
     "status": "completed"
    },
    "tags": []
   },
   "outputs": [
    {
     "name": "stderr",
     "output_type": "stream",
     "text": [
      "Khuyến nghị với negative sampling: 100%|██████████| 24052/24052 [01:14<00:00, 320.83user/s]"
     ]
    },
    {
     "name": "stdout",
     "output_type": "stream",
     "text": [
      "Thời gian thực hiện: 75.622084 giây\n"
     ]
    },
    {
     "name": "stderr",
     "output_type": "stream",
     "text": [
      "\n"
     ]
    }
   ],
   "source": [
    "start_time = time.time()\n",
    "results2 = recommend_courses_with_negative_sampling(model, user_course_train, user_course_test, all_course_ids, num_negatives=100)\n",
    "end_time = time.time()  # Kết thúc đo thời gian\n",
    "\n",
    "print(f\"Thời gian thực hiện: {end_time - start_time:.6f} giây\")\n",
    "# print(results)"
   ]
  },
  {
   "cell_type": "code",
   "execution_count": 40,
   "id": "10819ea8",
   "metadata": {
    "execution": {
     "iopub.execute_input": "2025-07-13T06:16:24.838049Z",
     "iopub.status.busy": "2025-07-13T06:16:24.837641Z",
     "iopub.status.idle": "2025-07-13T06:16:25.652763Z",
     "shell.execute_reply": "2025-07-13T06:16:25.651568Z"
    },
    "papermill": {
     "duration": 3.173062,
     "end_time": "2025-07-13T06:16:25.654833",
     "exception": false,
     "start_time": "2025-07-13T06:16:22.481771",
     "status": "completed"
    },
    "tags": []
   },
   "outputs": [],
   "source": [
    "eval_5 = evaluate_model(test[[\"user\",\"item\"]], results1,5)\n",
    "eval_10 = evaluate_model(test[[\"user\",\"item\"]], results1,10)"
   ]
  },
  {
   "cell_type": "code",
   "execution_count": 41,
   "id": "1ddb1a66",
   "metadata": {
    "execution": {
     "iopub.execute_input": "2025-07-13T06:16:30.394616Z",
     "iopub.status.busy": "2025-07-13T06:16:30.394278Z",
     "iopub.status.idle": "2025-07-13T06:16:30.400578Z",
     "shell.execute_reply": "2025-07-13T06:16:30.399574Z"
    },
    "papermill": {
     "duration": 2.439166,
     "end_time": "2025-07-13T06:16:30.402307",
     "exception": false,
     "start_time": "2025-07-13T06:16:27.963141",
     "status": "completed"
    },
    "tags": []
   },
   "outputs": [
    {
     "data": {
      "text/plain": [
       "{'Baseline': ['V5-DeepFM@5', 'V5-DeepFM@10'],\n",
       " 'Precision': [0.0114, 0.01],\n",
       " 'Recall': [0.057, 0.1],\n",
       " 'HitRate': [0.057, 0.1],\n",
       " 'NDCG': [0.0352, 0.049],\n",
       " 'MAP': [0.0281, 0.0337],\n",
       " 'F1-score': [0.019, 0.0182]}"
      ]
     },
     "execution_count": 41,
     "metadata": {},
     "output_type": "execute_result"
    }
   ],
   "source": [
    "{k: [eval_5[k], eval_10[k]] for k in eval_5}"
   ]
  },
  {
   "cell_type": "code",
   "execution_count": 42,
   "id": "d2dd0273",
   "metadata": {
    "execution": {
     "iopub.execute_input": "2025-07-13T06:16:35.096387Z",
     "iopub.status.busy": "2025-07-13T06:16:35.095999Z",
     "iopub.status.idle": "2025-07-13T06:16:36.137383Z",
     "shell.execute_reply": "2025-07-13T06:16:36.136325Z"
    },
    "papermill": {
     "duration": 3.419201,
     "end_time": "2025-07-13T06:16:36.139222",
     "exception": false,
     "start_time": "2025-07-13T06:16:32.720021",
     "status": "completed"
    },
    "tags": []
   },
   "outputs": [
    {
     "data": {
      "text/plain": [
       "{'Baseline': ['V5-DeepFM@5', 'V5-DeepFM@10'],\n",
       " 'Precision': [0.0907, 0.0608],\n",
       " 'Recall': [0.4536, 0.6075],\n",
       " 'HitRate': [0.4536, 0.6075],\n",
       " 'NDCG': [0.3169, 0.3667],\n",
       " 'MAP': [0.2719, 0.2924],\n",
       " 'F1-score': [0.1512, 0.1105]}"
      ]
     },
     "execution_count": 42,
     "metadata": {},
     "output_type": "execute_result"
    }
   ],
   "source": [
    "eval_5 = evaluate_model(test[[\"user\",\"item\"]], results2,5)\n",
    "eval_10 = evaluate_model(test[[\"user\",\"item\"]], results2,10)\n",
    "{k: [eval_5[k], eval_10[k]] for k in eval_5}"
   ]
  }
 ],
 "metadata": {
  "kaggle": {
   "accelerator": "none",
   "dataSources": [
    {
     "datasetId": 7259858,
     "sourceId": 11578790,
     "sourceType": "datasetVersion"
    },
    {
     "sourceId": 226720178,
     "sourceType": "kernelVersion"
    },
    {
     "sourceId": 240478674,
     "sourceType": "kernelVersion"
    },
    {
     "sourceId": 244142845,
     "sourceType": "kernelVersion"
    },
    {
     "sourceId": 244308495,
     "sourceType": "kernelVersion"
    },
    {
     "sourceId": 244327544,
     "sourceType": "kernelVersion"
    },
    {
     "sourceId": 244350711,
     "sourceType": "kernelVersion"
    },
    {
     "sourceId": 244484368,
     "sourceType": "kernelVersion"
    },
    {
     "sourceId": 244671932,
     "sourceType": "kernelVersion"
    },
    {
     "sourceId": 245444354,
     "sourceType": "kernelVersion"
    }
   ],
   "dockerImageVersionId": 30918,
   "isGpuEnabled": false,
   "isInternetEnabled": true,
   "language": "python",
   "sourceType": "notebook"
  },
  "kernelspec": {
   "display_name": "Python 3",
   "language": "python",
   "name": "python3"
  },
  "language_info": {
   "codemirror_mode": {
    "name": "ipython",
    "version": 3
   },
   "file_extension": ".py",
   "mimetype": "text/x-python",
   "name": "python",
   "nbconvert_exporter": "python",
   "pygments_lexer": "ipython3",
   "version": "3.10.12"
  },
  "papermill": {
   "default_parameters": {},
   "duration": 4903.772807,
   "end_time": "2025-07-13T06:16:41.765596",
   "environment_variables": {},
   "exception": null,
   "input_path": "__notebook__.ipynb",
   "output_path": "__notebook__.ipynb",
   "parameters": {},
   "start_time": "2025-07-13T04:54:57.992789",
   "version": "2.6.0"
  }
 },
 "nbformat": 4,
 "nbformat_minor": 5
}
