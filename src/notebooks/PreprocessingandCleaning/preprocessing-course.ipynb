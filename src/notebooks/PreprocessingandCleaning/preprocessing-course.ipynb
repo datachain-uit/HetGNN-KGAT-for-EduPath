{
 "cells": [
  {
   "cell_type": "code",
   "execution_count": 1,
   "id": "048ddf5a",
   "metadata": {
    "_cell_guid": "b1076dfc-b9ad-4769-8c92-a6c4dae69d19",
    "_uuid": "8f2839f25d086af736a60e9eeb907d3b93b6e0e5",
    "execution": {
     "iopub.execute_input": "2025-03-10T03:13:05.764603Z",
     "iopub.status.busy": "2025-03-10T03:13:05.764222Z",
     "iopub.status.idle": "2025-03-10T03:13:07.337412Z",
     "shell.execute_reply": "2025-03-10T03:13:07.335975Z"
    },
    "papermill": {
     "duration": 1.581367,
     "end_time": "2025-03-10T03:13:07.339694",
     "exception": false,
     "start_time": "2025-03-10T03:13:05.758327",
     "status": "completed"
    },
    "tags": []
   },
   "outputs": [
    {
     "name": "stdout",
     "output_type": "stream",
     "text": [
      "/kaggle/input/mooccubex-entities/comment.json\n",
      "/kaggle/input/mooccubex-entities/course.json\n",
      "/kaggle/input/mooccubex-entities/paper.json\n",
      "/kaggle/input/mooccubex-entities/reply.json\n",
      "/kaggle/input/mooccubex-entities/school.json\n",
      "/kaggle/input/mooccubex-entities/video.json\n",
      "/kaggle/input/mooccubex-entities/other.json\n",
      "/kaggle/input/mooccubex-entities/problem.json\n",
      "/kaggle/input/mooccubex-entities/user.json\n",
      "/kaggle/input/mooccubex-entities/concept.json\n",
      "/kaggle/input/mooccubex-entities/teacher.json\n",
      "/kaggle/input/preprocessing-user-json/__results__.html\n",
      "/kaggle/input/preprocessing-user-json/user-5-100.csv\n",
      "/kaggle/input/preprocessing-user-json/__notebook__.ipynb\n",
      "/kaggle/input/preprocessing-user-json/__output__.json\n",
      "/kaggle/input/preprocessing-user-json/user-course.csv\n",
      "/kaggle/input/preprocessing-user-json/custom.css\n"
     ]
    }
   ],
   "source": [
    "# This Python 3 environment comes with many helpful analytics libraries installed\n",
    "# It is defined by the kaggle/python Docker image: https://github.com/kaggle/docker-python\n",
    "# For example, here's several helpful packages to load\n",
    "import time\n",
    "import numpy as np # linear algebra\n",
    "import pandas as pd # data processing, CSV file I/O (e.g. pd.read_csv)\n",
    "import polars as pl\n",
    "# Input data files are available in the read-only \"../input/\" directory\n",
    "# For example, running this (by clicking run or pressing Shift+Enter) will list all files under the input directory\n",
    "\n",
    "import os\n",
    "for dirname, _, filenames in os.walk('/kaggle/input'):\n",
    "    for filename in filenames:\n",
    "        print(os.path.join(dirname, filename))\n",
    "\n",
    "# You can write up to 20GB to the current directory (/kaggle/working/) that gets preserved as output when you create a version using \"Save & Run All\" \n",
    "# You can also write temporary files to /kaggle/temp/, but they won't be saved outside of the current session"
   ]
  },
  {
   "cell_type": "code",
   "execution_count": 2,
   "id": "bcd98345",
   "metadata": {
    "execution": {
     "iopub.execute_input": "2025-03-10T03:13:07.351592Z",
     "iopub.status.busy": "2025-03-10T03:13:07.351022Z",
     "iopub.status.idle": "2025-03-10T03:13:07.356722Z",
     "shell.execute_reply": "2025-03-10T03:13:07.355567Z"
    },
    "papermill": {
     "duration": 0.013825,
     "end_time": "2025-03-10T03:13:07.358544",
     "exception": false,
     "start_time": "2025-03-10T03:13:07.344719",
     "status": "completed"
    },
    "tags": []
   },
   "outputs": [],
   "source": [
    "def pl_read_file(file_path):\n",
    "    file_extension = os.path.splitext(file_path)[1]\n",
    "    if file_extension == '.json':\n",
    "        return pl.read_ndjson(file_path)\n",
    "    elif file_extension == '.csv':\n",
    "        return pl.read_csv(file_path)\n",
    "    elif file_extension == '.txt':\n",
    "        return pl.read_csv(file_path,separator='\\t',has_header=False)\n",
    "    else:\n",
    "        raise ValueError(f\"Unsupported file extension: {file_extension}\")"
   ]
  },
  {
   "cell_type": "code",
   "execution_count": 3,
   "id": "c1ade8de",
   "metadata": {
    "execution": {
     "iopub.execute_input": "2025-03-10T03:13:07.368419Z",
     "iopub.status.busy": "2025-03-10T03:13:07.368015Z",
     "iopub.status.idle": "2025-03-10T03:13:08.216852Z",
     "shell.execute_reply": "2025-03-10T03:13:08.215496Z"
    },
    "papermill": {
     "duration": 0.85613,
     "end_time": "2025-03-10T03:13:08.218977",
     "exception": false,
     "start_time": "2025-03-10T03:13:07.362847",
     "status": "completed"
    },
    "tags": []
   },
   "outputs": [],
   "source": [
    "course_df = pl_read_file(\"/kaggle/input/mooccubex-entities/course.json\")"
   ]
  },
  {
   "cell_type": "code",
   "execution_count": 4,
   "id": "c5a45116",
   "metadata": {
    "execution": {
     "iopub.execute_input": "2025-03-10T03:13:08.228812Z",
     "iopub.status.busy": "2025-03-10T03:13:08.228430Z",
     "iopub.status.idle": "2025-03-10T03:13:08.250350Z",
     "shell.execute_reply": "2025-03-10T03:13:08.248833Z"
    },
    "papermill": {
     "duration": 0.02942,
     "end_time": "2025-03-10T03:13:08.252642",
     "exception": false,
     "start_time": "2025-03-10T03:13:08.223222",
     "status": "completed"
    },
    "tags": []
   },
   "outputs": [
    {
     "data": {
      "text/html": [
       "<div><style>\n",
       ".dataframe > thead > tr,\n",
       ".dataframe > tbody > tr {\n",
       "  text-align: right;\n",
       "  white-space: pre-wrap;\n",
       "}\n",
       "</style>\n",
       "<small>shape: (5, 6)</small><table border=\"1\" class=\"dataframe\"><thead><tr><th>id</th><th>name</th><th>field</th><th>prerequisites</th><th>about</th><th>resource</th></tr><tr><td>str</td><td>str</td><td>list[str]</td><td>str</td><td>str</td><td>list[struct[3]]</td></tr></thead><tbody><tr><td>&quot;C_584313&quot;</td><td>&quot;《资治通鉴》导读&quot;</td><td>[&quot;历史学&quot;, &quot;中国语言文学&quot;]</td><td>&quot;&quot;</td><td>&quot;通过老师导读，同学们可深入这一经典文本内部，得以纵览千年历史…</td><td>[{[&quot;第一课 导论与三家分晋&quot;, &quot;导论&quot;, &quot;导论&quot;],&quot;V_849&quot;,&quot;1.1.1&quot;}, {[&quot;第一课 导论与三家分晋&quot;, &quot;智伯的覆亡&quot;, &quot;智伯的覆亡&quot;],&quot;V_850&quot;,&quot;1.2.1&quot;}, … {[&quot;第十五课 隋唐霸业&quot;, null, &quot;第十五课 隋唐霸业--习题&quot;],&quot;Ex_957&quot;,&quot;15.8&quot;}]</td></tr><tr><td>&quot;C_584329&quot;</td><td>&quot;微积分——极限理论与一元函数&quot;</td><td>[&quot;应用经济学&quot;, &quot;数学&quot;, … &quot;理论经济学&quot;]</td><td>&quot;&quot;</td><td>&quot;本课程是理工科的一门数学基础课，系统、全面地介绍了一元函数微…</td><td>[{[&quot;序言&quot;, &quot;序言&quot;, &quot;序言&quot;],&quot;V_1350&quot;,&quot;1.1.1&quot;}, {[&quot;第一章 实数与函数&quot;, &quot;第一节 实数集的界与确界&quot;, &quot;实数集的界&quot;],&quot;V_1351&quot;,&quot;2.1.1&quot;}, … {[&quot;第八章 级数&quot;, null, &quot;第八章 级数--第六节思考与练习&quot;],&quot;Ex_1545&quot;,&quot;9.9&quot;}]</td></tr><tr><td>&quot;C_584381&quot;</td><td>&quot;新闻摄影&quot;</td><td>[&quot;艺术学&quot;, &quot;新闻传播学&quot;]</td><td>&quot;&quot;</td><td>&quot;掌握基本的摄影技能，了解图片新闻的工作方式，训练对生活的观察…</td><td>[{[&quot;第一章 绪论&quot;, &quot;第一讲 引言1&quot;, &quot;引言1&quot;],&quot;V_1800&quot;,&quot;1.1.1&quot;}, {[&quot;第一章 绪论&quot;, &quot;第二讲 引言2&quot;, &quot;引言2&quot;],&quot;V_1801&quot;,&quot;1.2.1&quot;}, … {[&quot;大作业提交&quot;, null, &quot;《大作业》提交--小节&quot;],&quot;Ex_1926&quot;,&quot;20.4&quot;}]</td></tr><tr><td>&quot;C_597208&quot;</td><td>&quot;数据挖掘：理论与算法&quot;</td><td>[&quot;计算机科学与技术&quot;]</td><td>&quot;&quot;</td><td>&quot;最有趣的理论+最有用的算法=不得不学的数据科学。&quot;</td><td>[{[&quot;走进数据科学：博大精深，美不胜收&quot;, &quot;整装待发&quot;, &quot;Video&quot;],&quot;V_2961&quot;,&quot;1.1.1&quot;}, {[&quot;走进数据科学：博大精深，美不胜收&quot;, &quot;学而不思则罔&quot;, &quot;Video&quot;],&quot;V_2962&quot;,&quot;1.3.1&quot;}, … {[&quot;美丽数据说：阆苑仙葩，美玉无瑕&quot;, null, &quot;第十一章第一节测试题&quot;],&quot;Ex_3104&quot;,&quot;11.1&quot;}]</td></tr><tr><td>&quot;C_597225&quot;</td><td>&quot;大学计算机&quot;</td><td>[]</td><td>&quot;&quot;</td><td>&quot;大学计算机课程将以计算思维为导向，以计算机原理、概念为基础，…</td><td>[{[&quot;第1周： 基于计算机的问题求解&quot;, &quot;课程介绍&quot;, &quot;开篇&quot;],&quot;V_4596&quot;,&quot;1.1.1&quot;}, {[&quot;第1周： 基于计算机的问题求解&quot;, &quot;1.0 本章导学&quot;, &quot;1.0 本章导学&quot;],&quot;V_4597&quot;,&quot;1.2.1&quot;}, … {[&quot;第9周：算法与程序设计&quot;, null, &quot;第九周测验&quot;],&quot;Ex_4827&quot;,&quot;10.12&quot;}]</td></tr></tbody></table></div>"
      ],
      "text/plain": [
       "shape: (5, 6)\n",
       "┌──────────┬─────────────────┬─────────────────┬───────────────┬─────────────────┬─────────────────┐\n",
       "│ id       ┆ name            ┆ field           ┆ prerequisites ┆ about           ┆ resource        │\n",
       "│ ---      ┆ ---             ┆ ---             ┆ ---           ┆ ---             ┆ ---             │\n",
       "│ str      ┆ str             ┆ list[str]       ┆ str           ┆ str             ┆ list[struct[3]] │\n",
       "╞══════════╪═════════════════╪═════════════════╪═══════════════╪═════════════════╪═════════════════╡\n",
       "│ C_584313 ┆ 《资治通鉴》导  ┆ [\"历史学\",      ┆               ┆ 通过老师导读，  ┆ [{[\"第一课 导论 │\n",
       "│          ┆ 读              ┆ \"中国语言文学\"] ┆               ┆ 同学们可深入这  ┆ 与三家分晋\",    │\n",
       "│          ┆                 ┆                 ┆               ┆ 一经典文本内部  ┆ \"导论\",         │\n",
       "│          ┆                 ┆                 ┆               ┆ ，得以纵览千年  ┆ \"导论\"],…       │\n",
       "│          ┆                 ┆                 ┆               ┆ 历史…           ┆                 │\n",
       "│ C_584329 ┆ 微积分——极限理  ┆ [\"应用经济学\",  ┆               ┆ 本课程是理工科  ┆ [{[\"序言\",      │\n",
       "│          ┆ 论与一元函数    ┆ \"数学\", …       ┆               ┆ 的一门数学基础  ┆ \"序言\", \"序言\"] │\n",
       "│          ┆                 ┆ \"理论经济学\"]   ┆               ┆ 课，系统、全面  ┆ ,\"V_1350\",…     │\n",
       "│          ┆                 ┆                 ┆               ┆ 地介绍了一元函  ┆                 │\n",
       "│          ┆                 ┆                 ┆               ┆ 数微…           ┆                 │\n",
       "│ C_584381 ┆ 新闻摄影        ┆ [\"艺术学\",      ┆               ┆ 掌握基本的摄影  ┆ [{[\"第一章      │\n",
       "│          ┆                 ┆ \"新闻传播学\"]   ┆               ┆ 技能，了解图片  ┆ 绪论\", \"第一讲  │\n",
       "│          ┆                 ┆                 ┆               ┆ 新闻的工作方式  ┆ 引言1\",         │\n",
       "│          ┆                 ┆                 ┆               ┆ ，训练对生活的  ┆ \"引言1\"]…       │\n",
       "│          ┆                 ┆                 ┆               ┆ 观察…           ┆                 │\n",
       "│ C_597208 ┆ 数据挖掘：理论  ┆ [\"计算机科学与  ┆               ┆ 最有趣的理论+最 ┆ [{[\"走进数据科  │\n",
       "│          ┆ 与算法          ┆ 技术\"]          ┆               ┆ 有用的算法=不得 ┆ 学：博大精深，  │\n",
       "│          ┆                 ┆                 ┆               ┆ 不学的数据科学  ┆ 美不胜收\",      │\n",
       "│          ┆                 ┆                 ┆               ┆ 。              ┆ \"整装待发\",…    │\n",
       "│ C_597225 ┆ 大学计算机      ┆ []              ┆               ┆ 大学计算机课程  ┆ [{[\"第1周： 基  │\n",
       "│          ┆                 ┆                 ┆               ┆ 将以计算思维为  ┆ 于计算机的问题  │\n",
       "│          ┆                 ┆                 ┆               ┆ 导向，以计算机  ┆ 求解\",          │\n",
       "│          ┆                 ┆                 ┆               ┆ 原理、概念为基  ┆ \"课程介绍\", …   │\n",
       "│          ┆                 ┆                 ┆               ┆ 础，…           ┆                 │\n",
       "└──────────┴─────────────────┴─────────────────┴───────────────┴─────────────────┴─────────────────┘"
      ]
     },
     "execution_count": 4,
     "metadata": {},
     "output_type": "execute_result"
    }
   ],
   "source": [
    "course_df.head()"
   ]
  },
  {
   "cell_type": "code",
   "execution_count": 5,
   "id": "7000cec3",
   "metadata": {
    "execution": {
     "iopub.execute_input": "2025-03-10T03:13:08.265468Z",
     "iopub.status.busy": "2025-03-10T03:13:08.264941Z",
     "iopub.status.idle": "2025-03-10T03:13:08.310649Z",
     "shell.execute_reply": "2025-03-10T03:13:08.309302Z"
    },
    "papermill": {
     "duration": 0.054245,
     "end_time": "2025-03-10T03:13:08.312697",
     "exception": false,
     "start_time": "2025-03-10T03:13:08.258452",
     "status": "completed"
    },
    "tags": []
   },
   "outputs": [
    {
     "data": {
      "text/html": [
       "<div><style>\n",
       ".dataframe > thead > tr,\n",
       ".dataframe > tbody > tr {\n",
       "  text-align: right;\n",
       "  white-space: pre-wrap;\n",
       "}\n",
       "</style>\n",
       "<small>shape: (9, 7)</small><table border=\"1\" class=\"dataframe\"><thead><tr><th>statistic</th><th>id</th><th>name</th><th>field</th><th>prerequisites</th><th>about</th><th>resource</th></tr><tr><td>str</td><td>str</td><td>str</td><td>f64</td><td>str</td><td>str</td><td>f64</td></tr></thead><tbody><tr><td>&quot;count&quot;</td><td>&quot;3781&quot;</td><td>&quot;3781&quot;</td><td>3781.0</td><td>&quot;3779&quot;</td><td>&quot;3779&quot;</td><td>3781.0</td></tr><tr><td>&quot;null_count&quot;</td><td>&quot;0&quot;</td><td>&quot;0&quot;</td><td>0.0</td><td>&quot;2&quot;</td><td>&quot;2&quot;</td><td>0.0</td></tr><tr><td>&quot;mean&quot;</td><td>null</td><td>null</td><td>null</td><td>null</td><td>null</td><td>null</td></tr><tr><td>&quot;std&quot;</td><td>null</td><td>null</td><td>null</td><td>null</td><td>null</td><td>null</td></tr><tr><td>&quot;min&quot;</td><td>&quot;C_1017355&quot;</td><td>&quot; Food Chemistry &quot;</td><td>null</td><td>&quot;&quot;</td><td>&quot;&quot;</td><td>null</td></tr><tr><td>&quot;25%&quot;</td><td>null</td><td>null</td><td>null</td><td>null</td><td>null</td><td>null</td></tr><tr><td>&quot;50%&quot;</td><td>null</td><td>null</td><td>null</td><td>null</td><td>null</td><td>null</td></tr><tr><td>&quot;75%&quot;</td><td>null</td><td>null</td><td>null</td><td>null</td><td>null</td><td>null</td></tr><tr><td>&quot;max&quot;</td><td>&quot;C_956450&quot;</td><td>&quot;（疾风计划）面向对象程序设计（C++）&quot;</td><td>null</td><td>&quot;高级语言程序设计、数据结构&quot;</td><td>&quot;（1）特色：课程资源建设，充分体现优质资源的共享。老师从繁杂…</td><td>null</td></tr></tbody></table></div>"
      ],
      "text/plain": [
       "shape: (9, 7)\n",
       "┌────────────┬───────────┬─────────────────┬────────┬─────────────────┬─────────────────┬──────────┐\n",
       "│ statistic  ┆ id        ┆ name            ┆ field  ┆ prerequisites   ┆ about           ┆ resource │\n",
       "│ ---        ┆ ---       ┆ ---             ┆ ---    ┆ ---             ┆ ---             ┆ ---      │\n",
       "│ str        ┆ str       ┆ str             ┆ f64    ┆ str             ┆ str             ┆ f64      │\n",
       "╞════════════╪═══════════╪═════════════════╪════════╪═════════════════╪═════════════════╪══════════╡\n",
       "│ count      ┆ 3781      ┆ 3781            ┆ 3781.0 ┆ 3779            ┆ 3779            ┆ 3781.0   │\n",
       "│ null_count ┆ 0         ┆ 0               ┆ 0.0    ┆ 2               ┆ 2               ┆ 0.0      │\n",
       "│ mean       ┆ null      ┆ null            ┆ null   ┆ null            ┆ null            ┆ null     │\n",
       "│ std        ┆ null      ┆ null            ┆ null   ┆ null            ┆ null            ┆ null     │\n",
       "│ min        ┆ C_1017355 ┆ Food Chemistry  ┆ null   ┆                 ┆                 ┆ null     │\n",
       "│ 25%        ┆ null      ┆ null            ┆ null   ┆ null            ┆ null            ┆ null     │\n",
       "│ 50%        ┆ null      ┆ null            ┆ null   ┆ null            ┆ null            ┆ null     │\n",
       "│ 75%        ┆ null      ┆ null            ┆ null   ┆ null            ┆ null            ┆ null     │\n",
       "│ max        ┆ C_956450  ┆ （疾风计划）面  ┆ null   ┆ 高级语言程序设  ┆ （1）特色：课程 ┆ null     │\n",
       "│            ┆           ┆ 向对象程序设计  ┆        ┆ 计、数据结构    ┆ 资源建设，充分  ┆          │\n",
       "│            ┆           ┆ （C++）         ┆        ┆                 ┆ 体现优质资源的  ┆          │\n",
       "│            ┆           ┆                 ┆        ┆                 ┆ 共享。老师从繁  ┆          │\n",
       "│            ┆           ┆                 ┆        ┆                 ┆ 杂…             ┆          │\n",
       "└────────────┴───────────┴─────────────────┴────────┴─────────────────┴─────────────────┴──────────┘"
      ]
     },
     "execution_count": 5,
     "metadata": {},
     "output_type": "execute_result"
    }
   ],
   "source": [
    "course_df.describe()"
   ]
  },
  {
   "cell_type": "code",
   "execution_count": 6,
   "id": "532c985a",
   "metadata": {
    "execution": {
     "iopub.execute_input": "2025-03-10T03:13:08.323856Z",
     "iopub.status.busy": "2025-03-10T03:13:08.323383Z",
     "iopub.status.idle": "2025-03-10T03:13:08.412992Z",
     "shell.execute_reply": "2025-03-10T03:13:08.411593Z"
    },
    "papermill": {
     "duration": 0.097589,
     "end_time": "2025-03-10T03:13:08.415111",
     "exception": false,
     "start_time": "2025-03-10T03:13:08.317522",
     "status": "completed"
    },
    "tags": []
   },
   "outputs": [],
   "source": [
    "course_resource = course_df.select(pl.col(['id','resource'])).explode('resource')"
   ]
  },
  {
   "cell_type": "code",
   "execution_count": 7,
   "id": "95d21642",
   "metadata": {
    "execution": {
     "iopub.execute_input": "2025-03-10T03:13:08.426333Z",
     "iopub.status.busy": "2025-03-10T03:13:08.425748Z",
     "iopub.status.idle": "2025-03-10T03:13:08.433879Z",
     "shell.execute_reply": "2025-03-10T03:13:08.432599Z"
    },
    "papermill": {
     "duration": 0.015961,
     "end_time": "2025-03-10T03:13:08.435683",
     "exception": false,
     "start_time": "2025-03-10T03:13:08.419722",
     "status": "completed"
    },
    "tags": []
   },
   "outputs": [
    {
     "data": {
      "text/html": [
       "<div><style>\n",
       ".dataframe > thead > tr,\n",
       ".dataframe > tbody > tr {\n",
       "  text-align: right;\n",
       "  white-space: pre-wrap;\n",
       "}\n",
       "</style>\n",
       "<small>shape: (271_043, 2)</small><table border=\"1\" class=\"dataframe\"><thead><tr><th>id</th><th>resource</th></tr><tr><td>str</td><td>struct[3]</td></tr></thead><tbody><tr><td>&quot;C_584313&quot;</td><td>{[&quot;第一课 导论与三家分晋&quot;, &quot;导论&quot;, &quot;导论&quot;],&quot;V_849&quot;,&quot;1.1.1&quot;}</td></tr><tr><td>&quot;C_584313&quot;</td><td>{[&quot;第一课 导论与三家分晋&quot;, &quot;智伯的覆亡&quot;, &quot;智伯的覆亡&quot;],&quot;V_850&quot;,&quot;1.2.1&quot;}</td></tr><tr><td>&quot;C_584313&quot;</td><td>{[&quot;第一课 导论与三家分晋&quot;, &quot;智伯悲剧的反思&quot;, &quot;智伯的覆亡讨论&quot;],&quot;V_851&quot;,&quot;1.3.1&quot;}</td></tr><tr><td>&quot;C_584313&quot;</td><td>{[&quot;第一课 导论与三家分晋&quot;, null, &quot;第一课 导论与三家分晋--习题&quot;],&quot;Ex_856&quot;,&quot;1.4&quot;}</td></tr><tr><td>&quot;C_584313&quot;</td><td>{[&quot;第二课 战国前期的政治&quot;, &quot;魏文侯治国&quot;, &quot;魏文侯治国&quot;],&quot;V_857&quot;,&quot;2.1.1&quot;}</td></tr><tr><td>&hellip;</td><td>&hellip;</td></tr><tr><td>&quot;C_2329163&quot;</td><td>{[&quot;第四章  红色之旅实践写作&quot;, &quot;4.16  求职简历&quot;, &quot;4.16  求职简历&quot;],&quot;V_8630134&quot;,&quot;3.15&quot;}</td></tr><tr><td>&quot;C_2329163&quot;</td><td>{[&quot;第四章  红色之旅实践写作&quot;, &quot;4.16  求职简历&quot;, &quot;求职简历作业&quot;],&quot;Ex_8638642&quot;,&quot;3.15.1&quot;}</td></tr><tr><td>&quot;C_2329163&quot;</td><td>{[&quot;第四章  红色之旅实践写作&quot;, &quot;4.17  实践—演讲稿&quot;, &quot;4.17  实践—演讲稿&quot;],&quot;V_8630135&quot;,&quot;3.16&quot;}</td></tr><tr><td>&quot;C_2329163&quot;</td><td>{[&quot;第四章  红色之旅实践写作&quot;, &quot;4.18  延安保育院观后感&quot;, &quot;4.18  延安保育院观后感&quot;],&quot;V_8630136&quot;,&quot;3.17&quot;}</td></tr><tr><td>&quot;C_2329163&quot;</td><td>{[&quot;第四章  红色之旅实践写作&quot;, &quot;4.19  杂文随笔&quot;, &quot;4.19  杂文随笔&quot;],&quot;V_8630137&quot;,&quot;3.18&quot;}</td></tr></tbody></table></div>"
      ],
      "text/plain": [
       "shape: (271_043, 2)\n",
       "┌───────────┬─────────────────────────────────┐\n",
       "│ id        ┆ resource                        │\n",
       "│ ---       ┆ ---                             │\n",
       "│ str       ┆ struct[3]                       │\n",
       "╞═══════════╪═════════════════════════════════╡\n",
       "│ C_584313  ┆ {[\"第一课 导论与三家分晋\",      │\n",
       "│           ┆ \"导论\", \"导论\"],\"…              │\n",
       "│ C_584313  ┆ {[\"第一课 导论与三家分晋\",      │\n",
       "│           ┆ \"智伯的覆亡\", \"智伯的…          │\n",
       "│ C_584313  ┆ {[\"第一课 导论与三家分晋\",      │\n",
       "│           ┆ \"智伯悲剧的反思\", \"智…          │\n",
       "│ C_584313  ┆ {[\"第一课 导论与三家分晋\",      │\n",
       "│           ┆ null, \"第一课 导论…             │\n",
       "│ C_584313  ┆ {[\"第二课 战国前期的政治\",      │\n",
       "│           ┆ \"魏文侯治国\", \"魏文侯…          │\n",
       "│ …         ┆ …                               │\n",
       "│ C_2329163 ┆ {[\"第四章  红色之旅实践写作\",   │\n",
       "│           ┆ \"4.16  求职简历…                │\n",
       "│ C_2329163 ┆ {[\"第四章  红色之旅实践写作\",   │\n",
       "│           ┆ \"4.16  求职简历…                │\n",
       "│ C_2329163 ┆ {[\"第四章  红色之旅实践写作\",   │\n",
       "│           ┆ \"4.17  实践—演…                 │\n",
       "│ C_2329163 ┆ {[\"第四章  红色之旅实践写作\",   │\n",
       "│           ┆ \"4.18  延安保育…                │\n",
       "│ C_2329163 ┆ {[\"第四章  红色之旅实践写作\",   │\n",
       "│           ┆ \"4.19  杂文随笔…                │\n",
       "└───────────┴─────────────────────────────────┘"
      ]
     },
     "execution_count": 7,
     "metadata": {},
     "output_type": "execute_result"
    }
   ],
   "source": [
    "course_resource"
   ]
  },
  {
   "cell_type": "code",
   "execution_count": 8,
   "id": "6151a715",
   "metadata": {
    "execution": {
     "iopub.execute_input": "2025-03-10T03:13:08.446917Z",
     "iopub.status.busy": "2025-03-10T03:13:08.446524Z",
     "iopub.status.idle": "2025-03-10T03:13:08.451732Z",
     "shell.execute_reply": "2025-03-10T03:13:08.450439Z"
    },
    "papermill": {
     "duration": 0.013199,
     "end_time": "2025-03-10T03:13:08.453762",
     "exception": false,
     "start_time": "2025-03-10T03:13:08.440563",
     "status": "completed"
    },
    "tags": []
   },
   "outputs": [],
   "source": [
    "course_resource=course_resource.unnest(\"resource\")"
   ]
  },
  {
   "cell_type": "code",
   "execution_count": 9,
   "id": "28f06b7c",
   "metadata": {
    "execution": {
     "iopub.execute_input": "2025-03-10T03:13:08.465740Z",
     "iopub.status.busy": "2025-03-10T03:13:08.465405Z",
     "iopub.status.idle": "2025-03-10T03:13:08.501505Z",
     "shell.execute_reply": "2025-03-10T03:13:08.500427Z"
    },
    "papermill": {
     "duration": 0.044546,
     "end_time": "2025-03-10T03:13:08.503612",
     "exception": false,
     "start_time": "2025-03-10T03:13:08.459066",
     "status": "completed"
    },
    "tags": []
   },
   "outputs": [],
   "source": [
    "course_video = course_resource.filter(pl.col(\"resource_id\").str.starts_with(\"V\"))\n",
    "course_exercise = course_resource.filter(pl.col(\"resource_id\").str.starts_with(\"Ex\"))"
   ]
  },
  {
   "cell_type": "code",
   "execution_count": 10,
   "id": "7c931510",
   "metadata": {
    "execution": {
     "iopub.execute_input": "2025-03-10T03:13:08.514763Z",
     "iopub.status.busy": "2025-03-10T03:13:08.514438Z",
     "iopub.status.idle": "2025-03-10T03:13:08.521182Z",
     "shell.execute_reply": "2025-03-10T03:13:08.520214Z"
    },
    "papermill": {
     "duration": 0.013991,
     "end_time": "2025-03-10T03:13:08.522631",
     "exception": false,
     "start_time": "2025-03-10T03:13:08.508640",
     "status": "completed"
    },
    "tags": []
   },
   "outputs": [
    {
     "data": {
      "text/html": [
       "<div><style>\n",
       ".dataframe > thead > tr,\n",
       ".dataframe > tbody > tr {\n",
       "  text-align: right;\n",
       "  white-space: pre-wrap;\n",
       "}\n",
       "</style>\n",
       "<small>shape: (203_718, 4)</small><table border=\"1\" class=\"dataframe\"><thead><tr><th>id</th><th>titles</th><th>resource_id</th><th>chapter</th></tr><tr><td>str</td><td>list[str]</td><td>str</td><td>str</td></tr></thead><tbody><tr><td>&quot;C_584313&quot;</td><td>[&quot;第一课 导论与三家分晋&quot;, &quot;导论&quot;, &quot;导论&quot;]</td><td>&quot;V_849&quot;</td><td>&quot;1.1.1&quot;</td></tr><tr><td>&quot;C_584313&quot;</td><td>[&quot;第一课 导论与三家分晋&quot;, &quot;智伯的覆亡&quot;, &quot;智伯的覆亡&quot;]</td><td>&quot;V_850&quot;</td><td>&quot;1.2.1&quot;</td></tr><tr><td>&quot;C_584313&quot;</td><td>[&quot;第一课 导论与三家分晋&quot;, &quot;智伯悲剧的反思&quot;, &quot;智伯的覆亡讨论&quot;]</td><td>&quot;V_851&quot;</td><td>&quot;1.3.1&quot;</td></tr><tr><td>&quot;C_584313&quot;</td><td>[&quot;第二课 战国前期的政治&quot;, &quot;魏文侯治国&quot;, &quot;魏文侯治国&quot;]</td><td>&quot;V_857&quot;</td><td>&quot;2.1.1&quot;</td></tr><tr><td>&quot;C_584313&quot;</td><td>[&quot;第二课 战国前期的政治&quot;, &quot;吴起的悲剧&quot;, &quot;吴起的悲剧&quot;]</td><td>&quot;V_859&quot;</td><td>&quot;2.2.1&quot;</td></tr><tr><td>&hellip;</td><td>&hellip;</td><td>&hellip;</td><td>&hellip;</td></tr><tr><td>&quot;C_2329163&quot;</td><td>[&quot;第四章  红色之旅实践写作&quot;, &quot;4.15  论文写作规范&quot;, &quot;4.15  论文写作规范&quot;]</td><td>&quot;V_8630133&quot;</td><td>&quot;3.14&quot;</td></tr><tr><td>&quot;C_2329163&quot;</td><td>[&quot;第四章  红色之旅实践写作&quot;, &quot;4.16  求职简历&quot;, &quot;4.16  求职简历&quot;]</td><td>&quot;V_8630134&quot;</td><td>&quot;3.15&quot;</td></tr><tr><td>&quot;C_2329163&quot;</td><td>[&quot;第四章  红色之旅实践写作&quot;, &quot;4.17  实践—演讲稿&quot;, &quot;4.17  实践—演讲稿&quot;]</td><td>&quot;V_8630135&quot;</td><td>&quot;3.16&quot;</td></tr><tr><td>&quot;C_2329163&quot;</td><td>[&quot;第四章  红色之旅实践写作&quot;, &quot;4.18  延安保育院观后感&quot;, &quot;4.18  延安保育院观后感&quot;]</td><td>&quot;V_8630136&quot;</td><td>&quot;3.17&quot;</td></tr><tr><td>&quot;C_2329163&quot;</td><td>[&quot;第四章  红色之旅实践写作&quot;, &quot;4.19  杂文随笔&quot;, &quot;4.19  杂文随笔&quot;]</td><td>&quot;V_8630137&quot;</td><td>&quot;3.18&quot;</td></tr></tbody></table></div>"
      ],
      "text/plain": [
       "shape: (203_718, 4)\n",
       "┌───────────┬─────────────────────────────────┬─────────────┬─────────┐\n",
       "│ id        ┆ titles                          ┆ resource_id ┆ chapter │\n",
       "│ ---       ┆ ---                             ┆ ---         ┆ ---     │\n",
       "│ str       ┆ list[str]                       ┆ str         ┆ str     │\n",
       "╞═══════════╪═════════════════════════════════╪═════════════╪═════════╡\n",
       "│ C_584313  ┆ [\"第一课 导论与三家分晋\",       ┆ V_849       ┆ 1.1.1   │\n",
       "│           ┆ \"导论\", \"导论\"]                 ┆             ┆         │\n",
       "│ C_584313  ┆ [\"第一课 导论与三家分晋\",       ┆ V_850       ┆ 1.2.1   │\n",
       "│           ┆ \"智伯的覆亡\", \"智伯的覆…        ┆             ┆         │\n",
       "│ C_584313  ┆ [\"第一课 导论与三家分晋\",       ┆ V_851       ┆ 1.3.1   │\n",
       "│           ┆ \"智伯悲剧的反思\", \"智伯…        ┆             ┆         │\n",
       "│ C_584313  ┆ [\"第二课 战国前期的政治\",       ┆ V_857       ┆ 2.1.1   │\n",
       "│           ┆ \"魏文侯治国\", \"魏文侯治…        ┆             ┆         │\n",
       "│ C_584313  ┆ [\"第二课 战国前期的政治\",       ┆ V_859       ┆ 2.2.1   │\n",
       "│           ┆ \"吴起的悲剧\", \"吴起的悲…        ┆             ┆         │\n",
       "│ …         ┆ …                               ┆ …           ┆ …       │\n",
       "│ C_2329163 ┆ [\"第四章  红色之旅实践写作\",    ┆ V_8630133   ┆ 3.14    │\n",
       "│           ┆ \"4.15  论文写作规…              ┆             ┆         │\n",
       "│ C_2329163 ┆ [\"第四章  红色之旅实践写作\",    ┆ V_8630134   ┆ 3.15    │\n",
       "│           ┆ \"4.16  求职简历\"…               ┆             ┆         │\n",
       "│ C_2329163 ┆ [\"第四章  红色之旅实践写作\",    ┆ V_8630135   ┆ 3.16    │\n",
       "│           ┆ \"4.17  实践—演讲…               ┆             ┆         │\n",
       "│ C_2329163 ┆ [\"第四章  红色之旅实践写作\",    ┆ V_8630136   ┆ 3.17    │\n",
       "│           ┆ \"4.18  延安保育院…              ┆             ┆         │\n",
       "│ C_2329163 ┆ [\"第四章  红色之旅实践写作\",    ┆ V_8630137   ┆ 3.18    │\n",
       "│           ┆ \"4.19  杂文随笔\"…               ┆             ┆         │\n",
       "└───────────┴─────────────────────────────────┴─────────────┴─────────┘"
      ]
     },
     "execution_count": 10,
     "metadata": {},
     "output_type": "execute_result"
    }
   ],
   "source": [
    "course_video"
   ]
  },
  {
   "cell_type": "code",
   "execution_count": 11,
   "id": "5624526a",
   "metadata": {
    "execution": {
     "iopub.execute_input": "2025-03-10T03:13:08.533862Z",
     "iopub.status.busy": "2025-03-10T03:13:08.533528Z",
     "iopub.status.idle": "2025-03-10T03:13:08.538256Z",
     "shell.execute_reply": "2025-03-10T03:13:08.537332Z"
    },
    "papermill": {
     "duration": 0.011812,
     "end_time": "2025-03-10T03:13:08.539616",
     "exception": false,
     "start_time": "2025-03-10T03:13:08.527804",
     "status": "completed"
    },
    "tags": []
   },
   "outputs": [],
   "source": [
    "course_video = course_video.rename({\n",
    "    \"id\": \"course_id\",\n",
    "    \"titles\": \"titles\",\n",
    "    \"resource_id\": \"video_id\",\n",
    "    \"chapter\": \"chapter\",\n",
    "})\n",
    "course_exercise = course_exercise.rename({\n",
    "    \"id\": \"course_id\",\n",
    "    \"titles\": \"titles\",\n",
    "    \"resource_id\": \"exercise_id\",\n",
    "    \"chapter\": \"chapter\",\n",
    "})"
   ]
  },
  {
   "cell_type": "code",
   "execution_count": 12,
   "id": "eb554e98",
   "metadata": {
    "execution": {
     "iopub.execute_input": "2025-03-10T03:13:08.550588Z",
     "iopub.status.busy": "2025-03-10T03:13:08.550262Z",
     "iopub.status.idle": "2025-03-10T03:13:10.137857Z",
     "shell.execute_reply": "2025-03-10T03:13:10.136971Z"
    },
    "papermill": {
     "duration": 1.595091,
     "end_time": "2025-03-10T03:13:10.139589",
     "exception": false,
     "start_time": "2025-03-10T03:13:08.544498",
     "status": "completed"
    },
    "tags": []
   },
   "outputs": [],
   "source": [
    "user_course = pl_read_file(\"/kaggle/input/preprocessing-user-json/user-course.csv\")"
   ]
  },
  {
   "cell_type": "code",
   "execution_count": 13,
   "id": "4d263790",
   "metadata": {
    "execution": {
     "iopub.execute_input": "2025-03-10T03:13:10.150655Z",
     "iopub.status.busy": "2025-03-10T03:13:10.150317Z",
     "iopub.status.idle": "2025-03-10T03:13:11.061578Z",
     "shell.execute_reply": "2025-03-10T03:13:11.060453Z"
    },
    "papermill": {
     "duration": 0.919217,
     "end_time": "2025-03-10T03:13:11.063702",
     "exception": false,
     "start_time": "2025-03-10T03:13:10.144485",
     "status": "completed"
    },
    "tags": []
   },
   "outputs": [
    {
     "data": {
      "text/html": [
       "<div><style>\n",
       ".dataframe > thead > tr,\n",
       ".dataframe > tbody > tr {\n",
       "  text-align: right;\n",
       "  white-space: pre-wrap;\n",
       "}\n",
       "</style>\n",
       "<small>shape: (9, 7)</small><table border=\"1\" class=\"dataframe\"><thead><tr><th>statistic</th><th>id</th><th>name</th><th>field</th><th>prerequisites</th><th>about</th><th>resource</th></tr><tr><td>str</td><td>str</td><td>str</td><td>f64</td><td>str</td><td>str</td><td>f64</td></tr></thead><tbody><tr><td>&quot;count&quot;</td><td>&quot;3781&quot;</td><td>&quot;3781&quot;</td><td>3781.0</td><td>&quot;3779&quot;</td><td>&quot;3779&quot;</td><td>3781.0</td></tr><tr><td>&quot;null_count&quot;</td><td>&quot;0&quot;</td><td>&quot;0&quot;</td><td>0.0</td><td>&quot;2&quot;</td><td>&quot;2&quot;</td><td>0.0</td></tr><tr><td>&quot;mean&quot;</td><td>null</td><td>null</td><td>null</td><td>null</td><td>null</td><td>null</td></tr><tr><td>&quot;std&quot;</td><td>null</td><td>null</td><td>null</td><td>null</td><td>null</td><td>null</td></tr><tr><td>&quot;min&quot;</td><td>&quot;C_1017355&quot;</td><td>&quot; Food Chemistry &quot;</td><td>null</td><td>&quot;&quot;</td><td>&quot;&quot;</td><td>null</td></tr><tr><td>&quot;25%&quot;</td><td>null</td><td>null</td><td>null</td><td>null</td><td>null</td><td>null</td></tr><tr><td>&quot;50%&quot;</td><td>null</td><td>null</td><td>null</td><td>null</td><td>null</td><td>null</td></tr><tr><td>&quot;75%&quot;</td><td>null</td><td>null</td><td>null</td><td>null</td><td>null</td><td>null</td></tr><tr><td>&quot;max&quot;</td><td>&quot;C_956450&quot;</td><td>&quot;（疾风计划）面向对象程序设计（C++）&quot;</td><td>null</td><td>&quot;高级语言程序设计、数据结构&quot;</td><td>&quot;（1）特色：课程资源建设，充分体现优质资源的共享。老师从繁杂…</td><td>null</td></tr></tbody></table></div>"
      ],
      "text/plain": [
       "shape: (9, 7)\n",
       "┌────────────┬───────────┬─────────────────┬────────┬─────────────────┬─────────────────┬──────────┐\n",
       "│ statistic  ┆ id        ┆ name            ┆ field  ┆ prerequisites   ┆ about           ┆ resource │\n",
       "│ ---        ┆ ---       ┆ ---             ┆ ---    ┆ ---             ┆ ---             ┆ ---      │\n",
       "│ str        ┆ str       ┆ str             ┆ f64    ┆ str             ┆ str             ┆ f64      │\n",
       "╞════════════╪═══════════╪═════════════════╪════════╪═════════════════╪═════════════════╪══════════╡\n",
       "│ count      ┆ 3781      ┆ 3781            ┆ 3781.0 ┆ 3779            ┆ 3779            ┆ 3781.0   │\n",
       "│ null_count ┆ 0         ┆ 0               ┆ 0.0    ┆ 2               ┆ 2               ┆ 0.0      │\n",
       "│ mean       ┆ null      ┆ null            ┆ null   ┆ null            ┆ null            ┆ null     │\n",
       "│ std        ┆ null      ┆ null            ┆ null   ┆ null            ┆ null            ┆ null     │\n",
       "│ min        ┆ C_1017355 ┆ Food Chemistry  ┆ null   ┆                 ┆                 ┆ null     │\n",
       "│ 25%        ┆ null      ┆ null            ┆ null   ┆ null            ┆ null            ┆ null     │\n",
       "│ 50%        ┆ null      ┆ null            ┆ null   ┆ null            ┆ null            ┆ null     │\n",
       "│ 75%        ┆ null      ┆ null            ┆ null   ┆ null            ┆ null            ┆ null     │\n",
       "│ max        ┆ C_956450  ┆ （疾风计划）面  ┆ null   ┆ 高级语言程序设  ┆ （1）特色：课程 ┆ null     │\n",
       "│            ┆           ┆ 向对象程序设计  ┆        ┆ 计、数据结构    ┆ 资源建设，充分  ┆          │\n",
       "│            ┆           ┆ （C++）         ┆        ┆                 ┆ 体现优质资源的  ┆          │\n",
       "│            ┆           ┆                 ┆        ┆                 ┆ 共享。老师从繁  ┆          │\n",
       "│            ┆           ┆                 ┆        ┆                 ┆ 杂…             ┆          │\n",
       "└────────────┴───────────┴─────────────────┴────────┴─────────────────┴─────────────────┴──────────┘"
      ]
     },
     "execution_count": 13,
     "metadata": {},
     "output_type": "execute_result"
    }
   ],
   "source": [
    "common_courses = course_df.filter(pl.col('id').is_in(user_course['course_id']))\n",
    "\n",
    "common_courses.describe()"
   ]
  },
  {
   "cell_type": "code",
   "execution_count": 14,
   "id": "cfd65934",
   "metadata": {
    "execution": {
     "iopub.execute_input": "2025-03-10T03:13:11.078660Z",
     "iopub.status.busy": "2025-03-10T03:13:11.078164Z",
     "iopub.status.idle": "2025-03-10T03:13:22.669709Z",
     "shell.execute_reply": "2025-03-10T03:13:22.668455Z"
    },
    "papermill": {
     "duration": 11.602062,
     "end_time": "2025-03-10T03:13:22.671772",
     "exception": false,
     "start_time": "2025-03-10T03:13:11.069710",
     "status": "completed"
    },
    "tags": []
   },
   "outputs": [
    {
     "name": "stdout",
     "output_type": "stream",
     "text": [
      "Collecting googletrans==3.1.0a0\r\n",
      "  Downloading googletrans-3.1.0a0.tar.gz (19 kB)\r\n",
      "  Preparing metadata (setup.py) ... \u001b[?25l\u001b[?25hdone\r\n",
      "Collecting httpx==0.13.3 (from googletrans==3.1.0a0)\r\n",
      "  Downloading httpx-0.13.3-py3-none-any.whl.metadata (25 kB)\r\n",
      "Requirement already satisfied: certifi in /usr/local/lib/python3.10/dist-packages (from httpx==0.13.3->googletrans==3.1.0a0) (2025.1.31)\r\n",
      "Collecting hstspreload (from httpx==0.13.3->googletrans==3.1.0a0)\r\n",
      "  Downloading hstspreload-2025.1.1-py3-none-any.whl.metadata (2.1 kB)\r\n",
      "Requirement already satisfied: sniffio in /usr/local/lib/python3.10/dist-packages (from httpx==0.13.3->googletrans==3.1.0a0) (1.3.1)\r\n",
      "Collecting chardet==3.* (from httpx==0.13.3->googletrans==3.1.0a0)\r\n",
      "  Downloading chardet-3.0.4-py2.py3-none-any.whl.metadata (3.2 kB)\r\n",
      "Collecting idna==2.* (from httpx==0.13.3->googletrans==3.1.0a0)\r\n",
      "  Downloading idna-2.10-py2.py3-none-any.whl.metadata (9.1 kB)\r\n",
      "Collecting rfc3986<2,>=1.3 (from httpx==0.13.3->googletrans==3.1.0a0)\r\n",
      "  Downloading rfc3986-1.5.0-py2.py3-none-any.whl.metadata (6.5 kB)\r\n",
      "Collecting httpcore==0.9.* (from httpx==0.13.3->googletrans==3.1.0a0)\r\n",
      "  Downloading httpcore-0.9.1-py3-none-any.whl.metadata (4.6 kB)\r\n",
      "Collecting h11<0.10,>=0.8 (from httpcore==0.9.*->httpx==0.13.3->googletrans==3.1.0a0)\r\n",
      "  Downloading h11-0.9.0-py2.py3-none-any.whl.metadata (8.1 kB)\r\n",
      "Collecting h2==3.* (from httpcore==0.9.*->httpx==0.13.3->googletrans==3.1.0a0)\r\n",
      "  Downloading h2-3.2.0-py2.py3-none-any.whl.metadata (32 kB)\r\n",
      "Collecting hyperframe<6,>=5.2.0 (from h2==3.*->httpcore==0.9.*->httpx==0.13.3->googletrans==3.1.0a0)\r\n",
      "  Downloading hyperframe-5.2.0-py2.py3-none-any.whl.metadata (7.2 kB)\r\n",
      "Collecting hpack<4,>=3.0 (from h2==3.*->httpcore==0.9.*->httpx==0.13.3->googletrans==3.1.0a0)\r\n",
      "  Downloading hpack-3.0.0-py2.py3-none-any.whl.metadata (7.0 kB)\r\n",
      "Downloading httpx-0.13.3-py3-none-any.whl (55 kB)\r\n",
      "\u001b[2K   \u001b[90m━━━━━━━━━━━━━━━━━━━━━━━━━━━━━━━━━━━━━━━━\u001b[0m \u001b[32m55.1/55.1 kB\u001b[0m \u001b[31m2.8 MB/s\u001b[0m eta \u001b[36m0:00:00\u001b[0m\r\n",
      "\u001b[?25hDownloading chardet-3.0.4-py2.py3-none-any.whl (133 kB)\r\n",
      "\u001b[2K   \u001b[90m━━━━━━━━━━━━━━━━━━━━━━━━━━━━━━━━━━━━━━━━\u001b[0m \u001b[32m133.4/133.4 kB\u001b[0m \u001b[31m7.1 MB/s\u001b[0m eta \u001b[36m0:00:00\u001b[0m\r\n",
      "\u001b[?25hDownloading httpcore-0.9.1-py3-none-any.whl (42 kB)\r\n",
      "\u001b[2K   \u001b[90m━━━━━━━━━━━━━━━━━━━━━━━━━━━━━━━━━━━━━━━━\u001b[0m \u001b[32m42.6/42.6 kB\u001b[0m \u001b[31m2.1 MB/s\u001b[0m eta \u001b[36m0:00:00\u001b[0m\r\n",
      "\u001b[?25hDownloading idna-2.10-py2.py3-none-any.whl (58 kB)\r\n",
      "\u001b[2K   \u001b[90m━━━━━━━━━━━━━━━━━━━━━━━━━━━━━━━━━━━━━━━━\u001b[0m \u001b[32m58.8/58.8 kB\u001b[0m \u001b[31m2.7 MB/s\u001b[0m eta \u001b[36m0:00:00\u001b[0m\r\n",
      "\u001b[?25hDownloading h2-3.2.0-py2.py3-none-any.whl (65 kB)\r\n",
      "\u001b[2K   \u001b[90m━━━━━━━━━━━━━━━━━━━━━━━━━━━━━━━━━━━━━━━━\u001b[0m \u001b[32m65.0/65.0 kB\u001b[0m \u001b[31m2.9 MB/s\u001b[0m eta \u001b[36m0:00:00\u001b[0m\r\n",
      "\u001b[?25hDownloading rfc3986-1.5.0-py2.py3-none-any.whl (31 kB)\r\n",
      "Downloading hstspreload-2025.1.1-py3-none-any.whl (1.3 MB)\r\n",
      "\u001b[2K   \u001b[90m━━━━━━━━━━━━━━━━━━━━━━━━━━━━━━━━━━━━━━━━\u001b[0m \u001b[32m1.3/1.3 MB\u001b[0m \u001b[31m46.6 MB/s\u001b[0m eta \u001b[36m0:00:00\u001b[0m\r\n",
      "\u001b[?25hDownloading h11-0.9.0-py2.py3-none-any.whl (53 kB)\r\n",
      "\u001b[2K   \u001b[90m━━━━━━━━━━━━━━━━━━━━━━━━━━━━━━━━━━━━━━━━\u001b[0m \u001b[32m53.6/53.6 kB\u001b[0m \u001b[31m2.5 MB/s\u001b[0m eta \u001b[36m0:00:00\u001b[0m\r\n",
      "\u001b[?25hDownloading hpack-3.0.0-py2.py3-none-any.whl (38 kB)\r\n",
      "Downloading hyperframe-5.2.0-py2.py3-none-any.whl (12 kB)\r\n",
      "Building wheels for collected packages: googletrans\r\n",
      "  Building wheel for googletrans (setup.py) ... \u001b[?25l\u001b[?25hdone\r\n",
      "  Created wheel for googletrans: filename=googletrans-3.1.0a0-py3-none-any.whl size=16352 sha256=15a0eaf0d6200e8cb40b111c3d59aa7af05df8dd773427c51ae2f9ebd0625c6b\r\n",
      "  Stored in directory: /root/.cache/pip/wheels/50/5d/3c/8477d0af4ca2b8b1308812c09f1930863caeebc762fe265a95\r\n",
      "Successfully built googletrans\r\n",
      "Installing collected packages: rfc3986, hyperframe, hpack, h11, chardet, idna, hstspreload, h2, httpcore, httpx, googletrans\r\n",
      "  Attempting uninstall: hyperframe\r\n",
      "    Found existing installation: hyperframe 6.1.0\r\n",
      "    Uninstalling hyperframe-6.1.0:\r\n",
      "      Successfully uninstalled hyperframe-6.1.0\r\n",
      "  Attempting uninstall: hpack\r\n",
      "    Found existing installation: hpack 4.1.0\r\n",
      "    Uninstalling hpack-4.1.0:\r\n",
      "      Successfully uninstalled hpack-4.1.0\r\n",
      "  Attempting uninstall: h11\r\n",
      "    Found existing installation: h11 0.14.0\r\n",
      "    Uninstalling h11-0.14.0:\r\n",
      "      Successfully uninstalled h11-0.14.0\r\n",
      "  Attempting uninstall: chardet\r\n",
      "    Found existing installation: chardet 5.2.0\r\n",
      "    Uninstalling chardet-5.2.0:\r\n",
      "      Successfully uninstalled chardet-5.2.0\r\n",
      "  Attempting uninstall: idna\r\n",
      "    Found existing installation: idna 3.10\r\n",
      "    Uninstalling idna-3.10:\r\n",
      "      Successfully uninstalled idna-3.10\r\n",
      "  Attempting uninstall: h2\r\n",
      "    Found existing installation: h2 4.2.0\r\n",
      "    Uninstalling h2-4.2.0:\r\n",
      "      Successfully uninstalled h2-4.2.0\r\n",
      "  Attempting uninstall: httpcore\r\n",
      "    Found existing installation: httpcore 1.0.7\r\n",
      "    Uninstalling httpcore-1.0.7:\r\n",
      "      Successfully uninstalled httpcore-1.0.7\r\n",
      "  Attempting uninstall: httpx\r\n",
      "    Found existing installation: httpx 0.28.1\r\n",
      "    Uninstalling httpx-0.28.1:\r\n",
      "      Successfully uninstalled httpx-0.28.1\r\n",
      "\u001b[31mERROR: pip's dependency resolver does not currently take into account all the packages that are installed. This behaviour is the source of the following dependency conflicts.\r\n",
      "langsmith 0.2.3 requires httpx<1,>=0.23.0, but you have httpx 0.13.3 which is incompatible.\r\n",
      "openai 1.57.4 requires httpx<1,>=0.23.0, but you have httpx 0.13.3 which is incompatible.\r\n",
      "tensorflow-decision-forests 1.10.0 requires tensorflow==2.17.0, but you have tensorflow 2.17.1 which is incompatible.\u001b[0m\u001b[31m\r\n",
      "\u001b[0mSuccessfully installed chardet-3.0.4 googletrans-3.1.0a0 h11-0.9.0 h2-3.2.0 hpack-3.0.0 hstspreload-2025.1.1 httpcore-0.9.1 httpx-0.13.3 hyperframe-5.2.0 idna-2.10 rfc3986-1.5.0\r\n"
     ]
    }
   ],
   "source": [
    "!pip install googletrans==3.1.0a0\n",
    "from googletrans import Translator\n",
    "translator = Translator()"
   ]
  },
  {
   "cell_type": "code",
   "execution_count": 15,
   "id": "2b040103",
   "metadata": {
    "execution": {
     "iopub.execute_input": "2025-03-10T03:13:22.688017Z",
     "iopub.status.busy": "2025-03-10T03:13:22.687666Z",
     "iopub.status.idle": "2025-03-10T03:16:26.812023Z",
     "shell.execute_reply": "2025-03-10T03:16:26.810815Z"
    },
    "papermill": {
     "duration": 184.134372,
     "end_time": "2025-03-10T03:16:26.813814",
     "exception": false,
     "start_time": "2025-03-10T03:13:22.679442",
     "status": "completed"
    },
    "tags": []
   },
   "outputs": [
    {
     "name": "stderr",
     "output_type": "stream",
     "text": [
      "100%|██████████| 19/19 [03:04<00:00,  9.68s/it]\n"
     ]
    }
   ],
   "source": [
    "import polars as pl\n",
    "from tqdm import tqdm\n",
    "from googletrans import Translator\n",
    "\n",
    "translator = Translator()\n",
    "\n",
    "def translate_str_column(df, col, batch_size=200):\n",
    "    texts = df[col].to_list()  # Ensure conversion to list\n",
    "    trans_texts = []\n",
    "\n",
    "    for i in tqdm(range(0, len(texts), batch_size)):\n",
    "        texts_batch = [text if text else \"\" for text in texts[i: i + batch_size]]  # Handle NaNs\n",
    "        trans_batch = translator.translate(texts_batch, dest='en')\n",
    "\n",
    "        # Ensure translation was successful\n",
    "        trans_batch = [trans.text.lower() if trans else \"\" for trans in trans_batch]\n",
    "        trans_texts.extend(trans_batch)\n",
    "        time.sleep(1) \n",
    "    assert len(trans_texts) == len(texts)\n",
    "\n",
    "    return df.with_columns(pl.Series(name=f\"{col}_trans\", values=trans_texts))\n",
    "\n",
    "# Example usage:\n",
    "course_df = translate_str_column(course_df, 'about')\n"
   ]
  },
  {
   "cell_type": "code",
   "execution_count": 16,
   "id": "c56ad00e",
   "metadata": {
    "execution": {
     "iopub.execute_input": "2025-03-10T03:16:26.834718Z",
     "iopub.status.busy": "2025-03-10T03:16:26.834322Z",
     "iopub.status.idle": "2025-03-10T03:21:28.537298Z",
     "shell.execute_reply": "2025-03-10T03:21:28.535604Z"
    },
    "papermill": {
     "duration": 301.715876,
     "end_time": "2025-03-10T03:21:28.539555",
     "exception": false,
     "start_time": "2025-03-10T03:16:26.823679",
     "status": "completed"
    },
    "tags": []
   },
   "outputs": [
    {
     "name": "stderr",
     "output_type": "stream",
     "text": [
      "100%|██████████| 19/19 [02:05<00:00,  6.62s/it]\n",
      "100%|██████████| 19/19 [02:55<00:00,  9.26s/it]\n"
     ]
    }
   ],
   "source": [
    "course_df = translate_str_column(course_df, 'prerequisites')\n",
    "course_df = translate_str_column(course_df, 'name')"
   ]
  },
  {
   "cell_type": "code",
   "execution_count": 17,
   "id": "225a00fd",
   "metadata": {
    "execution": {
     "iopub.execute_input": "2025-03-10T03:21:28.564380Z",
     "iopub.status.busy": "2025-03-10T03:21:28.563909Z",
     "iopub.status.idle": "2025-03-10T03:21:28.880353Z",
     "shell.execute_reply": "2025-03-10T03:21:28.879019Z"
    },
    "papermill": {
     "duration": 0.3311,
     "end_time": "2025-03-10T03:21:28.882344",
     "exception": false,
     "start_time": "2025-03-10T03:21:28.551244",
     "status": "completed"
    },
    "tags": []
   },
   "outputs": [],
   "source": [
    "course_df.write_ndjson(\"course.json\")"
   ]
  }
 ],
 "metadata": {
  "kaggle": {
   "accelerator": "none",
   "dataSources": [
    {
     "datasetId": 6626446,
     "sourceId": 10719224,
     "sourceType": "datasetVersion"
    },
    {
     "sourceId": 225448147,
     "sourceType": "kernelVersion"
    }
   ],
   "dockerImageVersionId": 30918,
   "isGpuEnabled": false,
   "isInternetEnabled": true,
   "language": "python",
   "sourceType": "notebook"
  },
  "kernelspec": {
   "display_name": "Python 3",
   "language": "python",
   "name": "python3"
  },
  "language_info": {
   "codemirror_mode": {
    "name": "ipython",
    "version": 3
   },
   "file_extension": ".py",
   "mimetype": "text/x-python",
   "name": "python",
   "nbconvert_exporter": "python",
   "pygments_lexer": "ipython3",
   "version": "3.10.12"
  },
  "papermill": {
   "default_parameters": {},
   "duration": 507.507029,
   "end_time": "2025-03-10T03:21:29.817729",
   "environment_variables": {},
   "exception": null,
   "input_path": "__notebook__.ipynb",
   "output_path": "__notebook__.ipynb",
   "parameters": {},
   "start_time": "2025-03-10T03:13:02.310700",
   "version": "2.6.0"
  }
 },
 "nbformat": 4,
 "nbformat_minor": 5
}
