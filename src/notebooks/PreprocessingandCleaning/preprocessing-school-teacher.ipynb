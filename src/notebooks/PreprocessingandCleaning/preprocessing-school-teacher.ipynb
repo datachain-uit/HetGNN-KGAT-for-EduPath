{
 "cells": [
  {
   "cell_type": "code",
   "execution_count": 1,
   "id": "593540ba",
   "metadata": {
    "_cell_guid": "b1076dfc-b9ad-4769-8c92-a6c4dae69d19",
    "_uuid": "8f2839f25d086af736a60e9eeb907d3b93b6e0e5",
    "execution": {
     "iopub.execute_input": "2025-04-04T00:53:48.945527Z",
     "iopub.status.busy": "2025-04-04T00:53:48.945099Z",
     "iopub.status.idle": "2025-04-04T00:53:49.974930Z",
     "shell.execute_reply": "2025-04-04T00:53:49.973761Z"
    },
    "papermill": {
     "duration": 1.038485,
     "end_time": "2025-04-04T00:53:49.976625",
     "exception": false,
     "start_time": "2025-04-04T00:53:48.938140",
     "status": "completed"
    },
    "tags": []
   },
   "outputs": [
    {
     "name": "stdout",
     "output_type": "stream",
     "text": [
      "/kaggle/input/translate-school-json-teacher-json/__results__.html\n",
      "/kaggle/input/translate-school-json-teacher-json/en-teacher.csv\n",
      "/kaggle/input/translate-school-json-teacher-json/__notebook__.ipynb\n",
      "/kaggle/input/translate-school-json-teacher-json/en-school.csv\n",
      "/kaggle/input/translate-school-json-teacher-json/__output__.json\n",
      "/kaggle/input/translate-school-json-teacher-json/custom.css\n"
     ]
    }
   ],
   "source": [
    "# This Python 3 environment comes with many helpful analytics libraries installed\n",
    "# It is defined by the kaggle/python Docker image: https://github.com/kaggle/docker-python\n",
    "# For example, here's several helpful packages to load\n",
    "\n",
    "import numpy as np # linear algebra\n",
    "import pandas as pd # data processing, CSV file I/O (e.g. pd.read_csv)\n",
    "\n",
    "# Input data files are available in the read-only \"../input/\" directory\n",
    "# For example, running this (by clicking run or pressing Shift+Enter) will list all files under the input directory\n",
    "\n",
    "import os\n",
    "for dirname, _, filenames in os.walk('/kaggle/input'):\n",
    "    for filename in filenames:\n",
    "        print(os.path.join(dirname, filename))\n",
    "\n",
    "# You can write up to 20GB to the current directory (/kaggle/working/) that gets preserved as output when you create a version using \"Save & Run All\" \n",
    "# You can also write temporary files to /kaggle/temp/, but they won't be saved outside of the current session"
   ]
  },
  {
   "cell_type": "markdown",
   "id": "1ac3dda5",
   "metadata": {
    "papermill": {
     "duration": 0.003651,
     "end_time": "2025-04-04T00:53:49.984653",
     "exception": false,
     "start_time": "2025-04-04T00:53:49.981002",
     "status": "completed"
    },
    "tags": []
   },
   "source": [
    "# 1. Download data:"
   ]
  },
  {
   "cell_type": "code",
   "execution_count": 2,
   "id": "c8f3f072",
   "metadata": {
    "execution": {
     "iopub.execute_input": "2025-04-04T00:53:49.993672Z",
     "iopub.status.busy": "2025-04-04T00:53:49.993172Z",
     "iopub.status.idle": "2025-04-04T00:53:50.415153Z",
     "shell.execute_reply": "2025-04-04T00:53:50.414015Z"
    },
    "papermill": {
     "duration": 0.428431,
     "end_time": "2025-04-04T00:53:50.416989",
     "exception": false,
     "start_time": "2025-04-04T00:53:49.988558",
     "status": "completed"
    },
    "tags": []
   },
   "outputs": [
    {
     "data": {
      "text/html": [
       "<div>\n",
       "<style scoped>\n",
       "    .dataframe tbody tr th:only-of-type {\n",
       "        vertical-align: middle;\n",
       "    }\n",
       "\n",
       "    .dataframe tbody tr th {\n",
       "        vertical-align: top;\n",
       "    }\n",
       "\n",
       "    .dataframe thead th {\n",
       "        text-align: right;\n",
       "    }\n",
       "</style>\n",
       "<table border=\"1\" class=\"dataframe\">\n",
       "  <thead>\n",
       "    <tr style=\"text-align: right;\">\n",
       "      <th></th>\n",
       "      <th>Unnamed: 0</th>\n",
       "      <th>id</th>\n",
       "      <th>name_translated</th>\n",
       "      <th>about_translated</th>\n",
       "      <th>motto_translated</th>\n",
       "    </tr>\n",
       "  </thead>\n",
       "  <tbody>\n",
       "    <tr>\n",
       "      <th>0</th>\n",
       "      <td>0</td>\n",
       "      <td>S_1</td>\n",
       "      <td>Tsinghua University</td>\n",
       "      <td>It is referred to as \"Tsinghua\" for short. It ...</td>\n",
       "      <td>Self-improvement and virtue carry things</td>\n",
       "    </tr>\n",
       "    <tr>\n",
       "      <th>1</th>\n",
       "      <td>1</td>\n",
       "      <td>S_2</td>\n",
       "      <td>Beijing University</td>\n",
       "      <td>Peking University, referred to as \"Peking Univ...</td>\n",
       "      <td>Learn, interrogate, think carefully, and disti...</td>\n",
       "    </tr>\n",
       "    <tr>\n",
       "      <th>2</th>\n",
       "      <td>2</td>\n",
       "      <td>S_3</td>\n",
       "      <td>Wuhan University</td>\n",
       "      <td>Wuhan University (Wuhan University, abbreviate...</td>\n",
       "      <td>Self-reliance, Hongyi, Seek truth, and expand new</td>\n",
       "    </tr>\n",
       "    <tr>\n",
       "      <th>3</th>\n",
       "      <td>3</td>\n",
       "      <td>S_4</td>\n",
       "      <td>Suzhou University</td>\n",
       "      <td>Soochow University is located in Suzhou, a fam...</td>\n",
       "      <td>To nourish the righteousness of heaven and ear...</td>\n",
       "    </tr>\n",
       "    <tr>\n",
       "      <th>4</th>\n",
       "      <td>4</td>\n",
       "      <td>S_5</td>\n",
       "      <td>Sichuan University</td>\n",
       "      <td>Sichuan University (Sichuan University), refer...</td>\n",
       "      <td>NaN</td>\n",
       "    </tr>\n",
       "  </tbody>\n",
       "</table>\n",
       "</div>"
      ],
      "text/plain": [
       "   Unnamed: 0   id      name_translated  \\\n",
       "0           0  S_1  Tsinghua University   \n",
       "1           1  S_2   Beijing University   \n",
       "2           2  S_3     Wuhan University   \n",
       "3           3  S_4    Suzhou University   \n",
       "4           4  S_5   Sichuan University   \n",
       "\n",
       "                                    about_translated  \\\n",
       "0  It is referred to as \"Tsinghua\" for short. It ...   \n",
       "1  Peking University, referred to as \"Peking Univ...   \n",
       "2  Wuhan University (Wuhan University, abbreviate...   \n",
       "3  Soochow University is located in Suzhou, a fam...   \n",
       "4  Sichuan University (Sichuan University), refer...   \n",
       "\n",
       "                                    motto_translated  \n",
       "0           Self-improvement and virtue carry things  \n",
       "1  Learn, interrogate, think carefully, and disti...  \n",
       "2  Self-reliance, Hongyi, Seek truth, and expand new  \n",
       "3  To nourish the righteousness of heaven and ear...  \n",
       "4                                                NaN  "
      ]
     },
     "metadata": {},
     "output_type": "display_data"
    },
    {
     "data": {
      "text/html": [
       "<div>\n",
       "<style scoped>\n",
       "    .dataframe tbody tr th:only-of-type {\n",
       "        vertical-align: middle;\n",
       "    }\n",
       "\n",
       "    .dataframe tbody tr th {\n",
       "        vertical-align: top;\n",
       "    }\n",
       "\n",
       "    .dataframe thead th {\n",
       "        text-align: right;\n",
       "    }\n",
       "</style>\n",
       "<table border=\"1\" class=\"dataframe\">\n",
       "  <thead>\n",
       "    <tr style=\"text-align: right;\">\n",
       "      <th></th>\n",
       "      <th>Unnamed: 0</th>\n",
       "    </tr>\n",
       "  </thead>\n",
       "  <tbody>\n",
       "    <tr>\n",
       "      <th>count</th>\n",
       "      <td>429.000000</td>\n",
       "    </tr>\n",
       "    <tr>\n",
       "      <th>mean</th>\n",
       "      <td>214.000000</td>\n",
       "    </tr>\n",
       "    <tr>\n",
       "      <th>std</th>\n",
       "      <td>123.985886</td>\n",
       "    </tr>\n",
       "    <tr>\n",
       "      <th>min</th>\n",
       "      <td>0.000000</td>\n",
       "    </tr>\n",
       "    <tr>\n",
       "      <th>25%</th>\n",
       "      <td>107.000000</td>\n",
       "    </tr>\n",
       "    <tr>\n",
       "      <th>50%</th>\n",
       "      <td>214.000000</td>\n",
       "    </tr>\n",
       "    <tr>\n",
       "      <th>75%</th>\n",
       "      <td>321.000000</td>\n",
       "    </tr>\n",
       "    <tr>\n",
       "      <th>max</th>\n",
       "      <td>428.000000</td>\n",
       "    </tr>\n",
       "  </tbody>\n",
       "</table>\n",
       "</div>"
      ],
      "text/plain": [
       "       Unnamed: 0\n",
       "count  429.000000\n",
       "mean   214.000000\n",
       "std    123.985886\n",
       "min      0.000000\n",
       "25%    107.000000\n",
       "50%    214.000000\n",
       "75%    321.000000\n",
       "max    428.000000"
      ]
     },
     "metadata": {},
     "output_type": "display_data"
    },
    {
     "data": {
      "text/html": [
       "<div>\n",
       "<style scoped>\n",
       "    .dataframe tbody tr th:only-of-type {\n",
       "        vertical-align: middle;\n",
       "    }\n",
       "\n",
       "    .dataframe tbody tr th {\n",
       "        vertical-align: top;\n",
       "    }\n",
       "\n",
       "    .dataframe thead th {\n",
       "        text-align: right;\n",
       "    }\n",
       "</style>\n",
       "<table border=\"1\" class=\"dataframe\">\n",
       "  <thead>\n",
       "    <tr style=\"text-align: right;\">\n",
       "      <th></th>\n",
       "      <th>Unnamed: 0</th>\n",
       "      <th>id</th>\n",
       "      <th>name_translated</th>\n",
       "      <th>about_translated</th>\n",
       "      <th>job_title_translated</th>\n",
       "      <th>org_name_translated</th>\n",
       "    </tr>\n",
       "  </thead>\n",
       "  <tbody>\n",
       "    <tr>\n",
       "      <th>0</th>\n",
       "      <td>0</td>\n",
       "      <td>T_1</td>\n",
       "      <td>Liu Yanni</td>\n",
       "      <td>Graduated from the Department of Philosophy at...</td>\n",
       "      <td>lecturer</td>\n",
       "      <td>Tsinghua University</td>\n",
       "    </tr>\n",
       "    <tr>\n",
       "      <th>1</th>\n",
       "      <td>1</td>\n",
       "      <td>T_2</td>\n",
       "      <td>Chen Yi</td>\n",
       "      <td>Born in Chongqing in 1945, he graduated from t...</td>\n",
       "      <td>professor</td>\n",
       "      <td>Tsinghua University</td>\n",
       "    </tr>\n",
       "    <tr>\n",
       "      <th>2</th>\n",
       "      <td>2</td>\n",
       "      <td>T_3</td>\n",
       "      <td>Cheng Gang</td>\n",
       "      <td>Cheng Gang, the director of the course \"Introd...</td>\n",
       "      <td>Associate Professor</td>\n",
       "      <td>Tsinghua University</td>\n",
       "    </tr>\n",
       "    <tr>\n",
       "      <th>3</th>\n",
       "      <td>3</td>\n",
       "      <td>T_4</td>\n",
       "      <td>Xie Weihe</td>\n",
       "      <td>Xie Weihe is a doctor, professor, doctoral sup...</td>\n",
       "      <td>professor</td>\n",
       "      <td>Tsinghua University</td>\n",
       "    </tr>\n",
       "    <tr>\n",
       "      <th>4</th>\n",
       "      <td>4</td>\n",
       "      <td>T_5</td>\n",
       "      <td>Shi Jinghuan</td>\n",
       "      <td>Shi Jinghuan, female, professor and doctoral s...</td>\n",
       "      <td>professor</td>\n",
       "      <td>Tsinghua University</td>\n",
       "    </tr>\n",
       "  </tbody>\n",
       "</table>\n",
       "</div>"
      ],
      "text/plain": [
       "   Unnamed: 0   id name_translated  \\\n",
       "0           0  T_1       Liu Yanni   \n",
       "1           1  T_2         Chen Yi   \n",
       "2           2  T_3      Cheng Gang   \n",
       "3           3  T_4       Xie Weihe   \n",
       "4           4  T_5    Shi Jinghuan   \n",
       "\n",
       "                                    about_translated job_title_translated  \\\n",
       "0  Graduated from the Department of Philosophy at...             lecturer   \n",
       "1  Born in Chongqing in 1945, he graduated from t...            professor   \n",
       "2  Cheng Gang, the director of the course \"Introd...  Associate Professor   \n",
       "3  Xie Weihe is a doctor, professor, doctoral sup...            professor   \n",
       "4  Shi Jinghuan, female, professor and doctoral s...            professor   \n",
       "\n",
       "   org_name_translated  \n",
       "0  Tsinghua University  \n",
       "1  Tsinghua University  \n",
       "2  Tsinghua University  \n",
       "3  Tsinghua University  \n",
       "4  Tsinghua University  "
      ]
     },
     "metadata": {},
     "output_type": "display_data"
    },
    {
     "data": {
      "text/html": [
       "<div>\n",
       "<style scoped>\n",
       "    .dataframe tbody tr th:only-of-type {\n",
       "        vertical-align: middle;\n",
       "    }\n",
       "\n",
       "    .dataframe tbody tr th {\n",
       "        vertical-align: top;\n",
       "    }\n",
       "\n",
       "    .dataframe thead th {\n",
       "        text-align: right;\n",
       "    }\n",
       "</style>\n",
       "<table border=\"1\" class=\"dataframe\">\n",
       "  <thead>\n",
       "    <tr style=\"text-align: right;\">\n",
       "      <th></th>\n",
       "      <th>Unnamed: 0</th>\n",
       "    </tr>\n",
       "  </thead>\n",
       "  <tbody>\n",
       "    <tr>\n",
       "      <th>count</th>\n",
       "      <td>17018.000000</td>\n",
       "    </tr>\n",
       "    <tr>\n",
       "      <th>mean</th>\n",
       "      <td>8508.500000</td>\n",
       "    </tr>\n",
       "    <tr>\n",
       "      <th>std</th>\n",
       "      <td>4912.817776</td>\n",
       "    </tr>\n",
       "    <tr>\n",
       "      <th>min</th>\n",
       "      <td>0.000000</td>\n",
       "    </tr>\n",
       "    <tr>\n",
       "      <th>25%</th>\n",
       "      <td>4254.250000</td>\n",
       "    </tr>\n",
       "    <tr>\n",
       "      <th>50%</th>\n",
       "      <td>8508.500000</td>\n",
       "    </tr>\n",
       "    <tr>\n",
       "      <th>75%</th>\n",
       "      <td>12762.750000</td>\n",
       "    </tr>\n",
       "    <tr>\n",
       "      <th>max</th>\n",
       "      <td>17017.000000</td>\n",
       "    </tr>\n",
       "  </tbody>\n",
       "</table>\n",
       "</div>"
      ],
      "text/plain": [
       "         Unnamed: 0\n",
       "count  17018.000000\n",
       "mean    8508.500000\n",
       "std     4912.817776\n",
       "min        0.000000\n",
       "25%     4254.250000\n",
       "50%     8508.500000\n",
       "75%    12762.750000\n",
       "max    17017.000000"
      ]
     },
     "metadata": {},
     "output_type": "display_data"
    }
   ],
   "source": [
    "school = pd.read_csv('/kaggle/input/translate-school-json-teacher-json/en-school.csv')\n",
    "display(school.head())\n",
    "display(school.describe())\n",
    "teacher = pd.read_csv('/kaggle/input/translate-school-json-teacher-json/en-teacher.csv')\n",
    "display(teacher.head())\n",
    "display(teacher.describe())"
   ]
  },
  {
   "cell_type": "markdown",
   "id": "f962c6fc",
   "metadata": {
    "papermill": {
     "duration": 0.004931,
     "end_time": "2025-04-04T00:53:50.426896",
     "exception": false,
     "start_time": "2025-04-04T00:53:50.421965",
     "status": "completed"
    },
    "tags": []
   },
   "source": [
    "# 2. Preprocessing:\n",
    "- Translate\n",
    "- Clean text"
   ]
  },
  {
   "cell_type": "markdown",
   "id": "ec659cc5",
   "metadata": {
    "papermill": {
     "duration": 0.004328,
     "end_time": "2025-04-04T00:53:50.435957",
     "exception": false,
     "start_time": "2025-04-04T00:53:50.431629",
     "status": "completed"
    },
    "tags": []
   },
   "source": [
    "## Functions"
   ]
  },
  {
   "cell_type": "code",
   "execution_count": 3,
   "id": "fcd59ea0",
   "metadata": {
    "execution": {
     "iopub.execute_input": "2025-04-04T00:53:50.446846Z",
     "iopub.status.busy": "2025-04-04T00:53:50.446500Z",
     "iopub.status.idle": "2025-04-04T00:53:56.491429Z",
     "shell.execute_reply": "2025-04-04T00:53:56.490127Z"
    },
    "papermill": {
     "duration": 6.052863,
     "end_time": "2025-04-04T00:53:56.493461",
     "exception": false,
     "start_time": "2025-04-04T00:53:50.440598",
     "status": "completed"
    },
    "tags": []
   },
   "outputs": [
    {
     "name": "stdout",
     "output_type": "stream",
     "text": [
      "Collecting deep-translator\r\n",
      "  Downloading deep_translator-1.11.4-py3-none-any.whl.metadata (30 kB)\r\n",
      "Requirement already satisfied: beautifulsoup4<5.0.0,>=4.9.1 in /usr/local/lib/python3.10/dist-packages (from deep-translator) (4.12.3)\r\n",
      "Requirement already satisfied: requests<3.0.0,>=2.23.0 in /usr/local/lib/python3.10/dist-packages (from deep-translator) (2.32.3)\r\n",
      "Requirement already satisfied: soupsieve>1.2 in /usr/local/lib/python3.10/dist-packages (from beautifulsoup4<5.0.0,>=4.9.1->deep-translator) (2.6)\r\n",
      "Requirement already satisfied: charset-normalizer<4,>=2 in /usr/local/lib/python3.10/dist-packages (from requests<3.0.0,>=2.23.0->deep-translator) (3.4.1)\r\n",
      "Requirement already satisfied: idna<4,>=2.5 in /usr/local/lib/python3.10/dist-packages (from requests<3.0.0,>=2.23.0->deep-translator) (3.10)\r\n",
      "Requirement already satisfied: urllib3<3,>=1.21.1 in /usr/local/lib/python3.10/dist-packages (from requests<3.0.0,>=2.23.0->deep-translator) (2.3.0)\r\n",
      "Requirement already satisfied: certifi>=2017.4.17 in /usr/local/lib/python3.10/dist-packages (from requests<3.0.0,>=2.23.0->deep-translator) (2025.1.31)\r\n",
      "Downloading deep_translator-1.11.4-py3-none-any.whl (42 kB)\r\n",
      "\u001b[2K   \u001b[90m━━━━━━━━━━━━━━━━━━━━━━━━━━━━━━━━━━━━━━━━\u001b[0m \u001b[32m42.3/42.3 kB\u001b[0m \u001b[31m1.7 MB/s\u001b[0m eta \u001b[36m0:00:00\u001b[0m\r\n",
      "\u001b[?25hInstalling collected packages: deep-translator\r\n",
      "Successfully installed deep-translator-1.11.4\r\n"
     ]
    }
   ],
   "source": [
    "!pip install deep-translator"
   ]
  },
  {
   "cell_type": "code",
   "execution_count": 4,
   "id": "9704fe45",
   "metadata": {
    "execution": {
     "iopub.execute_input": "2025-04-04T00:53:56.505437Z",
     "iopub.status.busy": "2025-04-04T00:53:56.505057Z",
     "iopub.status.idle": "2025-04-04T00:54:02.689944Z",
     "shell.execute_reply": "2025-04-04T00:54:02.688738Z"
    },
    "papermill": {
     "duration": 6.193118,
     "end_time": "2025-04-04T00:54:02.691917",
     "exception": false,
     "start_time": "2025-04-04T00:53:56.498799",
     "status": "completed"
    },
    "tags": []
   },
   "outputs": [
    {
     "name": "stdout",
     "output_type": "stream",
     "text": [
      "Collecting nltk==3.9b1\r\n",
      "  Downloading nltk-3.9b1-py3-none-any.whl.metadata (2.9 kB)\r\n",
      "Requirement already satisfied: click in /usr/local/lib/python3.10/dist-packages (from nltk==3.9b1) (8.1.7)\r\n",
      "Requirement already satisfied: joblib in /usr/local/lib/python3.10/dist-packages (from nltk==3.9b1) (1.4.2)\r\n",
      "Requirement already satisfied: regex>=2021.8.3 in /usr/local/lib/python3.10/dist-packages (from nltk==3.9b1) (2024.11.6)\r\n",
      "Requirement already satisfied: tqdm in /usr/local/lib/python3.10/dist-packages (from nltk==3.9b1) (4.67.1)\r\n",
      "Downloading nltk-3.9b1-py3-none-any.whl (1.5 MB)\r\n",
      "\u001b[2K   \u001b[90m━━━━━━━━━━━━━━━━━━━━━━━━━━━━━━━━━━━━━━━━\u001b[0m \u001b[32m1.5/1.5 MB\u001b[0m \u001b[31m33.8 MB/s\u001b[0m eta \u001b[36m0:00:00\u001b[0m\r\n",
      "\u001b[?25hInstalling collected packages: nltk\r\n",
      "  Attempting uninstall: nltk\r\n",
      "    Found existing installation: nltk 3.2.4\r\n",
      "    Uninstalling nltk-3.2.4:\r\n",
      "      Successfully uninstalled nltk-3.2.4\r\n",
      "\u001b[31mERROR: pip's dependency resolver does not currently take into account all the packages that are installed. This behaviour is the source of the following dependency conflicts.\r\n",
      "preprocessing 0.1.13 requires nltk==3.2.4, but you have nltk 3.9b1 which is incompatible.\u001b[0m\u001b[31m\r\n",
      "\u001b[0mSuccessfully installed nltk-3.9b1\r\n"
     ]
    }
   ],
   "source": [
    "!pip install nltk==3.9b1"
   ]
  },
  {
   "cell_type": "code",
   "execution_count": 5,
   "id": "c644ee67",
   "metadata": {
    "execution": {
     "iopub.execute_input": "2025-04-04T00:54:02.704583Z",
     "iopub.status.busy": "2025-04-04T00:54:02.704121Z",
     "iopub.status.idle": "2025-04-04T00:54:05.906810Z",
     "shell.execute_reply": "2025-04-04T00:54:05.905672Z"
    },
    "papermill": {
     "duration": 3.211078,
     "end_time": "2025-04-04T00:54:05.908721",
     "exception": false,
     "start_time": "2025-04-04T00:54:02.697643",
     "status": "completed"
    },
    "tags": []
   },
   "outputs": [
    {
     "name": "stderr",
     "output_type": "stream",
     "text": [
      "[nltk_data] Downloading package punkt to /usr/share/nltk_data...\n",
      "[nltk_data]   Package punkt is already up-to-date!\n",
      "[nltk_data] Downloading package punkt_tab to /usr/share/nltk_data...\n",
      "[nltk_data]   Unzipping tokenizers/punkt_tab.zip.\n",
      "[nltk_data] Downloading package stopwords to /usr/share/nltk_data...\n",
      "[nltk_data]   Unzipping corpora/stopwords.zip.\n",
      "[nltk_data] Downloading package wordnet to /usr/share/nltk_data...\n",
      "[nltk_data]   Package wordnet is already up-to-date!\n"
     ]
    }
   ],
   "source": [
    "import re\n",
    "import unicodedata\n",
    "import time\n",
    "import nltk\n",
    "from nltk.corpus import stopwords\n",
    "from nltk.tokenize import word_tokenize\n",
    "from nltk.stem import WordNetLemmatizer\n",
    "import zipfile\n",
    "nltk.download('punkt')\n",
    "nltk.download('punkt_tab')\n",
    "nltk.download('stopwords')\n",
    "nltk.download('wordnet')\n",
    "zip_file_path = '/usr/share/nltk_data/corpora/wordnet.zip'\n",
    "extract_to_path = '/usr/share/nltk_data/corpora/'\n",
    "with zipfile.ZipFile(zip_file_path, 'r') as zip_ref:\n",
    "    zip_ref.extractall(extract_to_path)\n",
    "lemmatizer = WordNetLemmatizer()\n",
    "\n",
    "# \n",
    "from deep_translator import GoogleTranslator\n",
    "\n",
    "def contains_chinese(text):\n",
    "    return bool(re.search(r'[\\u4e00-\\u9fff]', str(text)))\n",
    "    \n",
    "def translate_if_chinese(text):\n",
    "    if contains_chinese(text):\n",
    "        try:\n",
    "            time.sleep(1)\n",
    "            return GoogleTranslator(source='zh-CN', target='en').translate(text)\n",
    "        except Exception as e:\n",
    "            print(f\"Lỗi dịch: {e}\")\n",
    "            return text\n",
    "    return text\n",
    "\n",
    "def clean_text(text):\n",
    "    if not isinstance(text, str):\n",
    "        return \"\"\n",
    "    # 1. Chuyển về chữ thường\n",
    "    text = text.lower().strip()\n",
    "\n",
    "    # 2. Chuẩn hóa Unicode\n",
    "    text = unicodedata.normalize(\"NFKC\", text)\n",
    "\n",
    "    # 3. Loại bỏ số, dấu câu, ký tự đặc biệt (chỉ giữ lại chữ cái và khoảng trắng)\n",
    "    text = re.sub(r\"[^\\w\\s]\", \"\", text)  # Xóa dấu câu\n",
    "    text = re.sub(r\"\\d+\", \"\", text)  # Xóa số\n",
    "\n",
    "    # 4. Tokenization (Tách từ)\n",
    "    words = word_tokenize(text)\n",
    "\n",
    "    # 5. Loại bỏ stopwords\n",
    "    stop_words = set(stopwords.words(\"english\"))\n",
    "    words = [word for word in words if word not in stop_words]\n",
    "\n",
    "    # 6. Lemmatization (Chuyển về dạng gốc)\n",
    "    words = [lemmatizer.lemmatize(word) for word in words]\n",
    "\n",
    "    # 7. Gộp lại thành câu\n",
    "    return \" \".join(words)\n",
    "    \n",
    "def preprocess_text_column(df, column_name):  # Đảm bảo dữ liệu là chuỗi\n",
    "    df[column_name] = df[column_name].apply(clean_text)  # Áp dụng hàm xử lý\n",
    "    return df"
   ]
  },
  {
   "cell_type": "code",
   "execution_count": 6,
   "id": "9fcceab5",
   "metadata": {
    "execution": {
     "iopub.execute_input": "2025-04-04T00:54:05.922068Z",
     "iopub.status.busy": "2025-04-04T00:54:05.921535Z",
     "iopub.status.idle": "2025-04-04T00:54:05.927607Z",
     "shell.execute_reply": "2025-04-04T00:54:05.926573Z"
    },
    "papermill": {
     "duration": 0.014437,
     "end_time": "2025-04-04T00:54:05.929268",
     "exception": false,
     "start_time": "2025-04-04T00:54:05.914831",
     "status": "completed"
    },
    "tags": []
   },
   "outputs": [],
   "source": [
    "def checklang(df):\n",
    "    cols = df.columns.tolist()\n",
    "    cols.remove('id')\n",
    "    cols.remove('Unnamed: 0')\n",
    "    for col in cols:\n",
    "        display(df[col][df[col].apply(contains_chinese)])\n",
    "def preprocessing(df):\n",
    "    cols = df.columns.tolist()\n",
    "    cols.remove('id')\n",
    "    cols.remove('Unnamed: 0')\n",
    "    for col in cols:\n",
    "        df = preprocess_text_column(df,col)\n",
    "    return df"
   ]
  },
  {
   "cell_type": "markdown",
   "id": "b6b14c72",
   "metadata": {
    "papermill": {
     "duration": 0.005206,
     "end_time": "2025-04-04T00:54:05.940123",
     "exception": false,
     "start_time": "2025-04-04T00:54:05.934917",
     "status": "completed"
    },
    "tags": []
   },
   "source": [
    "## Translate"
   ]
  },
  {
   "cell_type": "code",
   "execution_count": 7,
   "id": "ee450661",
   "metadata": {
    "execution": {
     "iopub.execute_input": "2025-04-04T00:54:05.952967Z",
     "iopub.status.busy": "2025-04-04T00:54:05.952598Z",
     "iopub.status.idle": "2025-04-04T00:54:11.066908Z",
     "shell.execute_reply": "2025-04-04T00:54:11.065846Z"
    },
    "papermill": {
     "duration": 5.122614,
     "end_time": "2025-04-04T00:54:11.068758",
     "exception": false,
     "start_time": "2025-04-04T00:54:05.946144",
     "status": "completed"
    },
    "tags": []
   },
   "outputs": [],
   "source": [
    "school['name_translated'] = school['name_translated'].apply(translate_if_chinese)\n",
    "school['about_translated'] = school['about_translated'].apply(translate_if_chinese)\n",
    "school['motto_translated'] = school['motto_translated'].apply(translate_if_chinese)"
   ]
  },
  {
   "cell_type": "code",
   "execution_count": 8,
   "id": "87a89007",
   "metadata": {
    "execution": {
     "iopub.execute_input": "2025-04-04T00:54:11.081720Z",
     "iopub.status.busy": "2025-04-04T00:54:11.081281Z",
     "iopub.status.idle": "2025-04-04T00:55:19.866803Z",
     "shell.execute_reply": "2025-04-04T00:55:19.865681Z"
    },
    "papermill": {
     "duration": 68.794249,
     "end_time": "2025-04-04T00:55:19.868829",
     "exception": false,
     "start_time": "2025-04-04T00:54:11.074580",
     "status": "completed"
    },
    "tags": []
   },
   "outputs": [
    {
     "name": "stdout",
     "output_type": "stream",
     "text": [
      "Lỗi dịch: Request exception can happen due to an api connection error. Please check your connection and try again\n",
      "Lỗi dịch: Request exception can happen due to an api connection error. Please check your connection and try again\n",
      "Lỗi dịch: Request exception can happen due to an api connection error. Please check your connection and try again\n",
      "Lỗi dịch: Request exception can happen due to an api connection error. Please check your connection and try again\n"
     ]
    }
   ],
   "source": [
    "teacher['name_translated'] = teacher['name_translated'].apply(translate_if_chinese)\n",
    "teacher['about_translated'] = teacher['about_translated'].apply(translate_if_chinese)\n",
    "teacher['job_title_translated'] = teacher['job_title_translated'].apply(translate_if_chinese)\n",
    "teacher['org_name_translated'] = teacher['org_name_translated'].apply(translate_if_chinese)"
   ]
  },
  {
   "cell_type": "code",
   "execution_count": 9,
   "id": "1e02e6e3",
   "metadata": {
    "execution": {
     "iopub.execute_input": "2025-04-04T00:55:19.882366Z",
     "iopub.status.busy": "2025-04-04T00:55:19.881957Z",
     "iopub.status.idle": "2025-04-04T00:55:19.903488Z",
     "shell.execute_reply": "2025-04-04T00:55:19.902532Z"
    },
    "papermill": {
     "duration": 0.030189,
     "end_time": "2025-04-04T00:55:19.905136",
     "exception": false,
     "start_time": "2025-04-04T00:55:19.874947",
     "status": "completed"
    },
    "tags": []
   },
   "outputs": [
    {
     "data": {
      "text/plain": [
       "Series([], Name: name_translated, dtype: object)"
      ]
     },
     "metadata": {},
     "output_type": "display_data"
    },
    {
     "data": {
      "text/plain": [
       "Series([], Name: about_translated, dtype: object)"
      ]
     },
     "metadata": {},
     "output_type": "display_data"
    },
    {
     "data": {
      "text/plain": [
       "Series([], Name: motto_translated, dtype: object)"
      ]
     },
     "metadata": {},
     "output_type": "display_data"
    }
   ],
   "source": [
    "checklang(school)"
   ]
  },
  {
   "cell_type": "code",
   "execution_count": 10,
   "id": "9de0d98e",
   "metadata": {
    "execution": {
     "iopub.execute_input": "2025-04-04T00:55:19.918922Z",
     "iopub.status.busy": "2025-04-04T00:55:19.918537Z",
     "iopub.status.idle": "2025-04-04T00:55:20.068574Z",
     "shell.execute_reply": "2025-04-04T00:55:20.067506Z"
    },
    "papermill": {
     "duration": 0.158879,
     "end_time": "2025-04-04T00:55:20.070350",
     "exception": false,
     "start_time": "2025-04-04T00:55:19.911471",
     "status": "completed"
    },
    "tags": []
   },
   "outputs": [
    {
     "data": {
      "text/plain": [
       "2342    Danny丨Guest Tutor\n",
       "2343    Henry丨Guest Tutor\n",
       "Name: name_translated, dtype: object"
      ]
     },
     "metadata": {},
     "output_type": "display_data"
    },
    {
     "data": {
      "text/plain": [
       "4583     学历： 2016/02-2016/04  Toronto General Hospital,...\n",
       "14264    巩如英\\n电话：13513366770;  0335-7815919\\nE-mail: ry...\n",
       "14655    一、个人简介：\\n    张怀钊，男，汉族，1973年9月生，宁夏西吉县人，1998年7月参...\n",
       "15178            杨银科，男，副教授，博士，硕士研究生导师，中共党员，长安大学水利与环境学院水...\n",
       "Name: about_translated, dtype: object"
      ]
     },
     "metadata": {},
     "output_type": "display_data"
    },
    {
     "data": {
      "text/plain": [
       "Series([], Name: job_title_translated, dtype: object)"
      ]
     },
     "metadata": {},
     "output_type": "display_data"
    },
    {
     "data": {
      "text/plain": [
       "Series([], Name: org_name_translated, dtype: object)"
      ]
     },
     "metadata": {},
     "output_type": "display_data"
    }
   ],
   "source": [
    "checklang(teacher)"
   ]
  },
  {
   "cell_type": "markdown",
   "id": "93f43f50",
   "metadata": {
    "papermill": {
     "duration": 0.006388,
     "end_time": "2025-04-04T00:55:20.083487",
     "exception": false,
     "start_time": "2025-04-04T00:55:20.077099",
     "status": "completed"
    },
    "tags": []
   },
   "source": [
    "## Clean text"
   ]
  },
  {
   "cell_type": "code",
   "execution_count": 11,
   "id": "1a4ad569",
   "metadata": {
    "execution": {
     "iopub.execute_input": "2025-04-04T00:55:20.097549Z",
     "iopub.status.busy": "2025-04-04T00:55:20.097113Z",
     "iopub.status.idle": "2025-04-04T00:55:51.733088Z",
     "shell.execute_reply": "2025-04-04T00:55:51.732069Z"
    },
    "papermill": {
     "duration": 31.645155,
     "end_time": "2025-04-04T00:55:51.735075",
     "exception": false,
     "start_time": "2025-04-04T00:55:20.089920",
     "status": "completed"
    },
    "tags": []
   },
   "outputs": [],
   "source": [
    "preprocess_school = preprocessing(school)"
   ]
  },
  {
   "cell_type": "code",
   "execution_count": 12,
   "id": "54c97b7c",
   "metadata": {
    "execution": {
     "iopub.execute_input": "2025-04-04T00:55:51.750334Z",
     "iopub.status.busy": "2025-04-04T00:55:51.749890Z",
     "iopub.status.idle": "2025-04-04T01:22:57.086709Z",
     "shell.execute_reply": "2025-04-04T01:22:57.085380Z"
    },
    "papermill": {
     "duration": 1625.346462,
     "end_time": "2025-04-04T01:22:57.088719",
     "exception": false,
     "start_time": "2025-04-04T00:55:51.742257",
     "status": "completed"
    },
    "tags": []
   },
   "outputs": [],
   "source": [
    "preprocess_teacher = preprocessing(teacher)"
   ]
  },
  {
   "cell_type": "markdown",
   "id": "aff146fc",
   "metadata": {
    "papermill": {
     "duration": 0.006725,
     "end_time": "2025-04-04T01:22:57.102800",
     "exception": false,
     "start_time": "2025-04-04T01:22:57.096075",
     "status": "completed"
    },
    "tags": []
   },
   "source": [
    "# Save file"
   ]
  },
  {
   "cell_type": "code",
   "execution_count": 13,
   "id": "0c6a704a",
   "metadata": {
    "execution": {
     "iopub.execute_input": "2025-04-04T01:22:57.117630Z",
     "iopub.status.busy": "2025-04-04T01:22:57.117233Z",
     "iopub.status.idle": "2025-04-04T01:22:57.375659Z",
     "shell.execute_reply": "2025-04-04T01:22:57.374579Z"
    },
    "papermill": {
     "duration": 0.268381,
     "end_time": "2025-04-04T01:22:57.378085",
     "exception": false,
     "start_time": "2025-04-04T01:22:57.109704",
     "status": "completed"
    },
    "tags": []
   },
   "outputs": [],
   "source": [
    "preprocess_school.to_csv('school.csv')\n",
    "preprocess_teacher.to_csv('teacher.csv')"
   ]
  }
 ],
 "metadata": {
  "kaggle": {
   "accelerator": "none",
   "dataSources": [
    {
     "sourceId": 231266209,
     "sourceType": "kernelVersion"
    }
   ],
   "dockerImageVersionId": 30918,
   "isGpuEnabled": false,
   "isInternetEnabled": true,
   "language": "python",
   "sourceType": "notebook"
  },
  "kernelspec": {
   "display_name": "Python 3",
   "language": "python",
   "name": "python3"
  },
  "language_info": {
   "codemirror_mode": {
    "name": "ipython",
    "version": 3
   },
   "file_extension": ".py",
   "mimetype": "text/x-python",
   "name": "python",
   "nbconvert_exporter": "python",
   "pygments_lexer": "ipython3",
   "version": "3.10.12"
  },
  "papermill": {
   "default_parameters": {},
   "duration": 1752.372051,
   "end_time": "2025-04-04T01:22:58.410258",
   "environment_variables": {},
   "exception": null,
   "input_path": "__notebook__.ipynb",
   "output_path": "__notebook__.ipynb",
   "parameters": {},
   "start_time": "2025-04-04T00:53:46.038207",
   "version": "2.6.0"
  }
 },
 "nbformat": 4,
 "nbformat_minor": 5
}
