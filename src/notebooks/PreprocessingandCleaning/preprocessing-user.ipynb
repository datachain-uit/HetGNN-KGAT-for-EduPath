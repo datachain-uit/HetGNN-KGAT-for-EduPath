{
 "cells": [
  {
   "cell_type": "code",
   "execution_count": 1,
   "id": "5d4240f7",
   "metadata": {
    "_cell_guid": "b1076dfc-b9ad-4769-8c92-a6c4dae69d19",
    "_uuid": "8f2839f25d086af736a60e9eeb907d3b93b6e0e5",
    "execution": {
     "iopub.execute_input": "2025-06-08T04:09:58.874479Z",
     "iopub.status.busy": "2025-06-08T04:09:58.873939Z",
     "iopub.status.idle": "2025-06-08T04:09:59.831786Z",
     "shell.execute_reply": "2025-06-08T04:09:59.830266Z"
    },
    "papermill": {
     "duration": 0.968467,
     "end_time": "2025-06-08T04:09:59.834253",
     "exception": false,
     "start_time": "2025-06-08T04:09:58.865786",
     "status": "completed"
    },
    "tags": []
   },
   "outputs": [
    {
     "name": "stdout",
     "output_type": "stream",
     "text": [
      "/kaggle/input/mooccubex-entities/comment.json\n",
      "/kaggle/input/mooccubex-entities/course.json\n",
      "/kaggle/input/mooccubex-entities/paper.json\n",
      "/kaggle/input/mooccubex-entities/reply.json\n",
      "/kaggle/input/mooccubex-entities/school.json\n",
      "/kaggle/input/mooccubex-entities/video.json\n",
      "/kaggle/input/mooccubex-entities/other.json\n",
      "/kaggle/input/mooccubex-entities/problem.json\n",
      "/kaggle/input/mooccubex-entities/user.json\n",
      "/kaggle/input/mooccubex-entities/concept.json\n",
      "/kaggle/input/mooccubex-entities/teacher.json\n"
     ]
    }
   ],
   "source": [
    "# This Python 3 environment comes with many helpful analytics libraries installed\n",
    "# It is defined by the kaggle/python Docker image: https://github.com/kaggle/docker-python\n",
    "# For example, here's several helpful packages to load\n",
    "\n",
    "import numpy as np # linear algebra\n",
    "import pandas as pd # data processing, CSV file I/O (e.g. pd.read_csv)\n",
    "\n",
    "# Input data files are available in the read-only \"../input/\" directory\n",
    "# For example, running this (by clicking run or pressing Shift+Enter) will list all files under the input directory\n",
    "\n",
    "import os\n",
    "for dirname, _, filenames in os.walk('/kaggle/input'):\n",
    "    for filename in filenames:\n",
    "        print(os.path.join(dirname, filename))\n",
    "\n",
    "# You can write up to 20GB to the current directory (/kaggle/working/) that gets preserved as output when you create a version using \"Save & Run All\" \n",
    "# You can also write temporary files to /kaggle/temp/, but they won't be saved outside of the current session"
   ]
  },
  {
   "cell_type": "code",
   "execution_count": 2,
   "id": "797d6ce3",
   "metadata": {
    "execution": {
     "iopub.execute_input": "2025-06-08T04:09:59.848722Z",
     "iopub.status.busy": "2025-06-08T04:09:59.848209Z",
     "iopub.status.idle": "2025-06-08T04:10:00.414869Z",
     "shell.execute_reply": "2025-06-08T04:10:00.413788Z"
    },
    "papermill": {
     "duration": 0.576135,
     "end_time": "2025-06-08T04:10:00.417124",
     "exception": false,
     "start_time": "2025-06-08T04:09:59.840989",
     "status": "completed"
    },
    "tags": []
   },
   "outputs": [],
   "source": [
    "import polars as pl\n",
    "import os"
   ]
  },
  {
   "cell_type": "code",
   "execution_count": 3,
   "id": "cb9b1f4f",
   "metadata": {
    "execution": {
     "iopub.execute_input": "2025-06-08T04:10:00.430514Z",
     "iopub.status.busy": "2025-06-08T04:10:00.430133Z",
     "iopub.status.idle": "2025-06-08T04:10:00.435533Z",
     "shell.execute_reply": "2025-06-08T04:10:00.434318Z"
    },
    "papermill": {
     "duration": 0.014049,
     "end_time": "2025-06-08T04:10:00.437350",
     "exception": false,
     "start_time": "2025-06-08T04:10:00.423301",
     "status": "completed"
    },
    "tags": []
   },
   "outputs": [],
   "source": [
    "def pl_read_file(file_path):\n",
    "    file_extension = os.path.splitext(file_path)[1]\n",
    "    if file_extension == '.json':\n",
    "        return pl.read_ndjson(file_path)\n",
    "    elif file_extension == '.csv':\n",
    "        return pl.read_csv(file_path)\n",
    "    elif file_extension == '.txt':\n",
    "        return pl.read_csv(file_path,separator='\\t',has_header=False)\n",
    "    else:\n",
    "        raise ValueError(f\"Unsupported file extension: {file_extension}\")"
   ]
  },
  {
   "cell_type": "code",
   "execution_count": 4,
   "id": "6ef47b9b",
   "metadata": {
    "execution": {
     "iopub.execute_input": "2025-06-08T04:10:00.451120Z",
     "iopub.status.busy": "2025-06-08T04:10:00.450695Z",
     "iopub.status.idle": "2025-06-08T04:10:20.518654Z",
     "shell.execute_reply": "2025-06-08T04:10:20.517221Z"
    },
    "papermill": {
     "duration": 20.077628,
     "end_time": "2025-06-08T04:10:20.521201",
     "exception": false,
     "start_time": "2025-06-08T04:10:00.443573",
     "status": "completed"
    },
    "tags": []
   },
   "outputs": [],
   "source": [
    "user_df = pl_read_file(\"/kaggle/input/mooccubex-entities/user.json\")"
   ]
  },
  {
   "cell_type": "code",
   "execution_count": 5,
   "id": "d7bb29fd",
   "metadata": {
    "execution": {
     "iopub.execute_input": "2025-06-08T04:10:20.541292Z",
     "iopub.status.busy": "2025-06-08T04:10:20.540750Z",
     "iopub.status.idle": "2025-06-08T04:10:20.565231Z",
     "shell.execute_reply": "2025-06-08T04:10:20.563683Z"
    },
    "papermill": {
     "duration": 0.035542,
     "end_time": "2025-06-08T04:10:20.567376",
     "exception": false,
     "start_time": "2025-06-08T04:10:20.531834",
     "status": "completed"
    },
    "tags": []
   },
   "outputs": [
    {
     "data": {
      "text/html": [
       "<div><style>\n",
       ".dataframe > thead > tr,\n",
       ".dataframe > tbody > tr {\n",
       "  text-align: right;\n",
       "  white-space: pre-wrap;\n",
       "}\n",
       "</style>\n",
       "<small>shape: (5, 7)</small><table border=\"1\" class=\"dataframe\"><thead><tr><th>id</th><th>name</th><th>gender</th><th>school</th><th>year_of_birth</th><th>course_order</th><th>enroll_time</th></tr><tr><td>str</td><td>str</td><td>i64</td><td>str</td><td>i64</td><td>list[i64]</td><td>list[str]</td></tr></thead><tbody><tr><td>&quot;U_22&quot;</td><td>&quot;我&quot;</td><td>0</td><td>&quot;&quot;</td><td>2015</td><td>[682129, 2294668]</td><td>[&quot;2019-10-12 10:28:02&quot;, &quot;2020-11-21 14:03:28&quot;]</td></tr><tr><td>&quot;U_24&quot;</td><td>&quot;王帅国&quot;</td><td>1</td><td>&quot;清华大学&quot;</td><td>6558</td><td>[597214, 605512, … 2229905]</td><td>[&quot;2019-05-20 16:06:48&quot;, &quot;2019-05-24 19:34:43&quot;, … &quot;2020-11-21 11:38:57&quot;]</td></tr><tr><td>&quot;U_25&quot;</td><td>&quot;王帅国&quot;</td><td>0</td><td>&quot;清华大学&quot;</td><td>null</td><td>[1903985]</td><td>[&quot;2020-08-07 18:59:13&quot;]</td></tr><tr><td>&quot;U_53&quot;</td><td>&quot;于歆杰&quot;</td><td>1</td><td>&quot;清华大学&quot;</td><td>1973</td><td>[696679, 1704639, … 1794464]</td><td>[&quot;2020-03-01 21:24:30&quot;, &quot;2020-03-12 16:17:02&quot;, … &quot;2020-06-18 18:47:15&quot;]</td></tr><tr><td>&quot;U_54&quot;</td><td>&quot;马昱春&quot;</td><td>2</td><td>&quot;清华大学&quot;</td><td>null</td><td>[682442, 682164, … 1906706]</td><td>[&quot;2019-10-09 02:17:49&quot;, &quot;2019-11-08 00:49:03&quot;, … &quot;2020-07-20 11:27:28&quot;]</td></tr></tbody></table></div>"
      ],
      "text/plain": [
       "shape: (5, 7)\n",
       "┌──────┬────────┬────────┬──────────┬───────────────┬───────────────────────┬──────────────────────┐\n",
       "│ id   ┆ name   ┆ gender ┆ school   ┆ year_of_birth ┆ course_order          ┆ enroll_time          │\n",
       "│ ---  ┆ ---    ┆ ---    ┆ ---      ┆ ---           ┆ ---                   ┆ ---                  │\n",
       "│ str  ┆ str    ┆ i64    ┆ str      ┆ i64           ┆ list[i64]             ┆ list[str]            │\n",
       "╞══════╪════════╪════════╪══════════╪═══════════════╪═══════════════════════╪══════════════════════╡\n",
       "│ U_22 ┆ 我     ┆ 0      ┆          ┆ 2015          ┆ [682129, 2294668]     ┆ [\"2019-10-12         │\n",
       "│      ┆        ┆        ┆          ┆               ┆                       ┆ 10:28:02\", \"2020-…   │\n",
       "│ U_24 ┆ 王帅国 ┆ 1      ┆ 清华大学 ┆ 6558          ┆ [597214, 605512, …    ┆ [\"2019-05-20         │\n",
       "│      ┆        ┆        ┆          ┆               ┆ 2229905]              ┆ 16:06:48\", \"2019-…   │\n",
       "│ U_25 ┆ 王帅国 ┆ 0      ┆ 清华大学 ┆ null          ┆ [1903985]             ┆ [\"2020-08-07         │\n",
       "│      ┆        ┆        ┆          ┆               ┆                       ┆ 18:59:13\"]           │\n",
       "│ U_53 ┆ 于歆杰 ┆ 1      ┆ 清华大学 ┆ 1973          ┆ [696679, 1704639, …   ┆ [\"2020-03-01         │\n",
       "│      ┆        ┆        ┆          ┆               ┆ 1794464]              ┆ 21:24:30\", \"2020-…   │\n",
       "│ U_54 ┆ 马昱春 ┆ 2      ┆ 清华大学 ┆ null          ┆ [682442, 682164, …    ┆ [\"2019-10-09         │\n",
       "│      ┆        ┆        ┆          ┆               ┆ 1906706]              ┆ 02:17:49\", \"2019-…   │\n",
       "└──────┴────────┴────────┴──────────┴───────────────┴───────────────────────┴──────────────────────┘"
      ]
     },
     "execution_count": 5,
     "metadata": {},
     "output_type": "execute_result"
    }
   ],
   "source": [
    "user_df.head()"
   ]
  },
  {
   "cell_type": "code",
   "execution_count": 6,
   "id": "bf42c263",
   "metadata": {
    "execution": {
     "iopub.execute_input": "2025-06-08T04:10:20.582352Z",
     "iopub.status.busy": "2025-06-08T04:10:20.581857Z",
     "iopub.status.idle": "2025-06-08T04:10:20.802736Z",
     "shell.execute_reply": "2025-06-08T04:10:20.801529Z"
    },
    "papermill": {
     "duration": 0.230638,
     "end_time": "2025-06-08T04:10:20.804588",
     "exception": false,
     "start_time": "2025-06-08T04:10:20.573950",
     "status": "completed"
    },
    "tags": []
   },
   "outputs": [
    {
     "data": {
      "text/html": [
       "<div><style>\n",
       ".dataframe > thead > tr,\n",
       ".dataframe > tbody > tr {\n",
       "  text-align: right;\n",
       "  white-space: pre-wrap;\n",
       "}\n",
       "</style>\n",
       "<small>shape: (9, 8)</small><table border=\"1\" class=\"dataframe\"><thead><tr><th>statistic</th><th>id</th><th>name</th><th>gender</th><th>school</th><th>year_of_birth</th><th>course_order</th><th>enroll_time</th></tr><tr><td>str</td><td>str</td><td>str</td><td>f64</td><td>str</td><td>f64</td><td>f64</td><td>f64</td></tr></thead><tbody><tr><td>&quot;count&quot;</td><td>&quot;3330294&quot;</td><td>&quot;3330240&quot;</td><td>3.33024e6</td><td>&quot;3330240&quot;</td><td>48530.0</td><td>3.330294e6</td><td>3.330294e6</td></tr><tr><td>&quot;null_count&quot;</td><td>&quot;0&quot;</td><td>&quot;54&quot;</td><td>54.0</td><td>&quot;54&quot;</td><td>3.281764e6</td><td>0.0</td><td>0.0</td></tr><tr><td>&quot;mean&quot;</td><td>null</td><td>null</td><td>0.945575</td><td>null</td><td>2039.016299</td><td>null</td><td>null</td></tr><tr><td>&quot;std&quot;</td><td>null</td><td>null</td><td>0.83211</td><td>null</td><td>358.674303</td><td>null</td><td>null</td></tr><tr><td>&quot;min&quot;</td><td>&quot;U_10000&quot;</td><td>&quot;&quot;</td><td>0.0</td><td>&quot;&quot;</td><td>1111.0</td><td>null</td><td>null</td></tr><tr><td>&quot;25%&quot;</td><td>null</td><td>null</td><td>0.0</td><td>null</td><td>2020.0</td><td>null</td><td>null</td></tr><tr><td>&quot;50%&quot;</td><td>null</td><td>null</td><td>1.0</td><td>null</td><td>2020.0</td><td>null</td><td>null</td></tr><tr><td>&quot;75%&quot;</td><td>null</td><td>null</td><td>2.0</td><td>null</td><td>2020.0</td><td>null</td><td>null</td></tr><tr><td>&quot;max&quot;</td><td>&quot;U_999999&quot;</td><td>&quot;􏿰&quot;</td><td>232.0</td><td>&quot;🚀 工程大学&quot;</td><td>9989.0</td><td>null</td><td>null</td></tr></tbody></table></div>"
      ],
      "text/plain": [
       "shape: (9, 8)\n",
       "┌────────────┬──────────┬─────────┬───────────┬─────────────┬────────────┬────────────┬────────────┐\n",
       "│ statistic  ┆ id       ┆ name    ┆ gender    ┆ school      ┆ year_of_bi ┆ course_ord ┆ enroll_tim │\n",
       "│ ---        ┆ ---      ┆ ---     ┆ ---       ┆ ---         ┆ rth        ┆ er         ┆ e          │\n",
       "│ str        ┆ str      ┆ str     ┆ f64       ┆ str         ┆ ---        ┆ ---        ┆ ---        │\n",
       "│            ┆          ┆         ┆           ┆             ┆ f64        ┆ f64        ┆ f64        │\n",
       "╞════════════╪══════════╪═════════╪═══════════╪═════════════╪════════════╪════════════╪════════════╡\n",
       "│ count      ┆ 3330294  ┆ 3330240 ┆ 3.33024e6 ┆ 3330240     ┆ 48530.0    ┆ 3.330294e6 ┆ 3.330294e6 │\n",
       "│ null_count ┆ 0        ┆ 54      ┆ 54.0      ┆ 54          ┆ 3.281764e6 ┆ 0.0        ┆ 0.0        │\n",
       "│ mean       ┆ null     ┆ null    ┆ 0.945575  ┆ null        ┆ 2039.01629 ┆ null       ┆ null       │\n",
       "│            ┆          ┆         ┆           ┆             ┆ 9          ┆            ┆            │\n",
       "│ std        ┆ null     ┆ null    ┆ 0.83211   ┆ null        ┆ 358.674303 ┆ null       ┆ null       │\n",
       "│ min        ┆ U_10000  ┆         ┆ 0.0       ┆             ┆ 1111.0     ┆ null       ┆ null       │\n",
       "│ 25%        ┆ null     ┆ null    ┆ 0.0       ┆ null        ┆ 2020.0     ┆ null       ┆ null       │\n",
       "│ 50%        ┆ null     ┆ null    ┆ 1.0       ┆ null        ┆ 2020.0     ┆ null       ┆ null       │\n",
       "│ 75%        ┆ null     ┆ null    ┆ 2.0       ┆ null        ┆ 2020.0     ┆ null       ┆ null       │\n",
       "│ max        ┆ U_999999 ┆ 􏿰       ┆ 232.0     ┆ 🚀 工程大学 ┆ 9989.0     ┆ null       ┆ null       │\n",
       "└────────────┴──────────┴─────────┴───────────┴─────────────┴────────────┴────────────┴────────────┘"
      ]
     },
     "execution_count": 6,
     "metadata": {},
     "output_type": "execute_result"
    }
   ],
   "source": [
    "user_df.describe()"
   ]
  },
  {
   "cell_type": "code",
   "execution_count": 7,
   "id": "37999eb9",
   "metadata": {
    "execution": {
     "iopub.execute_input": "2025-06-08T04:10:20.819872Z",
     "iopub.status.busy": "2025-06-08T04:10:20.819264Z",
     "iopub.status.idle": "2025-06-08T04:10:20.828565Z",
     "shell.execute_reply": "2025-06-08T04:10:20.827049Z"
    },
    "papermill": {
     "duration": 0.019758,
     "end_time": "2025-06-08T04:10:20.831109",
     "exception": false,
     "start_time": "2025-06-08T04:10:20.811351",
     "status": "completed"
    },
    "tags": []
   },
   "outputs": [],
   "source": [
    "def replace_null(df,cols_name):\n",
    "    for col_name in cols_name:\n",
    "        col_name=str(col_name)\n",
    "        df = df.with_columns(\n",
    "        pl.when(pl.col(col_name) == \"\")\n",
    "        .then(None)\n",
    "        .otherwise(pl.col(col_name))\n",
    "        .alias(col_name)\n",
    "        )\n",
    "    return df\n",
    "def count_course(df):\n",
    "    df = df.with_columns([\n",
    "    pl.Series(\"num_course\", [len(x) for x in df[\"course_order\"]])\n",
    "])\n",
    "    return df"
   ]
  },
  {
   "cell_type": "code",
   "execution_count": 8,
   "id": "b1a63523",
   "metadata": {
    "execution": {
     "iopub.execute_input": "2025-06-08T04:10:20.853071Z",
     "iopub.status.busy": "2025-06-08T04:10:20.852341Z",
     "iopub.status.idle": "2025-06-08T04:10:20.881050Z",
     "shell.execute_reply": "2025-06-08T04:10:20.879527Z"
    },
    "papermill": {
     "duration": 0.04142,
     "end_time": "2025-06-08T04:10:20.883784",
     "exception": false,
     "start_time": "2025-06-08T04:10:20.842364",
     "status": "completed"
    },
    "tags": []
   },
   "outputs": [],
   "source": [
    "cols_name=[\"school\",\"name\"]\n",
    "user_df = replace_null(user_df,cols_name)\n"
   ]
  },
  {
   "cell_type": "code",
   "execution_count": 9,
   "id": "c20a9656",
   "metadata": {
    "execution": {
     "iopub.execute_input": "2025-06-08T04:10:20.905373Z",
     "iopub.status.busy": "2025-06-08T04:10:20.904634Z",
     "iopub.status.idle": "2025-06-08T04:10:26.888339Z",
     "shell.execute_reply": "2025-06-08T04:10:26.887221Z"
    },
    "papermill": {
     "duration": 5.994663,
     "end_time": "2025-06-08T04:10:26.890253",
     "exception": false,
     "start_time": "2025-06-08T04:10:20.895590",
     "status": "completed"
    },
    "tags": []
   },
   "outputs": [
    {
     "data": {
      "text/html": [
       "<div><style>\n",
       ".dataframe > thead > tr,\n",
       ".dataframe > tbody > tr {\n",
       "  text-align: right;\n",
       "  white-space: pre-wrap;\n",
       "}\n",
       "</style>\n",
       "<small>shape: (3_330_294, 8)</small><table border=\"1\" class=\"dataframe\"><thead><tr><th>id</th><th>name</th><th>gender</th><th>school</th><th>year_of_birth</th><th>course_order</th><th>enroll_time</th><th>num_course</th></tr><tr><td>str</td><td>str</td><td>i64</td><td>str</td><td>i64</td><td>list[i64]</td><td>list[str]</td><td>i64</td></tr></thead><tbody><tr><td>&quot;U_22&quot;</td><td>&quot;我&quot;</td><td>0</td><td>null</td><td>2015</td><td>[682129, 2294668]</td><td>[&quot;2019-10-12 10:28:02&quot;, &quot;2020-11-21 14:03:28&quot;]</td><td>2</td></tr><tr><td>&quot;U_24&quot;</td><td>&quot;王帅国&quot;</td><td>1</td><td>&quot;清华大学&quot;</td><td>6558</td><td>[597214, 605512, … 2229905]</td><td>[&quot;2019-05-20 16:06:48&quot;, &quot;2019-05-24 19:34:43&quot;, … &quot;2020-11-21 11:38:57&quot;]</td><td>65</td></tr><tr><td>&quot;U_25&quot;</td><td>&quot;王帅国&quot;</td><td>0</td><td>&quot;清华大学&quot;</td><td>null</td><td>[1903985]</td><td>[&quot;2020-08-07 18:59:13&quot;]</td><td>1</td></tr><tr><td>&quot;U_53&quot;</td><td>&quot;于歆杰&quot;</td><td>1</td><td>&quot;清华大学&quot;</td><td>1973</td><td>[696679, 1704639, … 1794464]</td><td>[&quot;2020-03-01 21:24:30&quot;, &quot;2020-03-12 16:17:02&quot;, … &quot;2020-06-18 18:47:15&quot;]</td><td>8</td></tr><tr><td>&quot;U_54&quot;</td><td>&quot;马昱春&quot;</td><td>2</td><td>&quot;清华大学&quot;</td><td>null</td><td>[682442, 682164, … 1906706]</td><td>[&quot;2019-10-09 02:17:49&quot;, &quot;2019-11-08 00:49:03&quot;, … &quot;2020-07-20 11:27:28&quot;]</td><td>9</td></tr><tr><td>&hellip;</td><td>&hellip;</td><td>&hellip;</td><td>&hellip;</td><td>&hellip;</td><td>&hellip;</td><td>&hellip;</td><td>&hellip;</td></tr><tr><td>&quot;U_34712108&quot;</td><td>null</td><td>0</td><td>null</td><td>null</td><td>[697791, 782490, 799796]</td><td>[&quot;2020-10-12 03:39:14&quot;, &quot;2020-10-12 03:41:00&quot;, &quot;2020-10-12 03:41:23&quot;]</td><td>3</td></tr><tr><td>&quot;U_34712111&quot;</td><td>null</td><td>2</td><td>null</td><td>null</td><td>[2199449]</td><td>[&quot;2020-10-12 03:46:08&quot;]</td><td>1</td></tr><tr><td>&quot;U_34712112&quot;</td><td>null</td><td>1</td><td>null</td><td>null</td><td>[916828]</td><td>[&quot;2020-10-12 03:51:36&quot;]</td><td>1</td></tr><tr><td>&quot;U_34712114&quot;</td><td>null</td><td>1</td><td>null</td><td>null</td><td>[735405]</td><td>[&quot;2020-10-12 03:57:05&quot;]</td><td>1</td></tr><tr><td>&quot;U_34712115&quot;</td><td>null</td><td>1</td><td>null</td><td>null</td><td>[883345, 770738, … 697092]</td><td>[&quot;2020-10-12 04:01:29&quot;, &quot;2020-10-12 07:17:41&quot;, … &quot;2020-10-20 20:36:27&quot;]</td><td>6</td></tr></tbody></table></div>"
      ],
      "text/plain": [
       "shape: (3_330_294, 8)\n",
       "┌────────────┬────────┬────────┬──────────┬──────────────┬──────────────┬─────────────┬────────────┐\n",
       "│ id         ┆ name   ┆ gender ┆ school   ┆ year_of_birt ┆ course_order ┆ enroll_time ┆ num_course │\n",
       "│ ---        ┆ ---    ┆ ---    ┆ ---      ┆ h            ┆ ---          ┆ ---         ┆ ---        │\n",
       "│ str        ┆ str    ┆ i64    ┆ str      ┆ ---          ┆ list[i64]    ┆ list[str]   ┆ i64        │\n",
       "│            ┆        ┆        ┆          ┆ i64          ┆              ┆             ┆            │\n",
       "╞════════════╪════════╪════════╪══════════╪══════════════╪══════════════╪═════════════╪════════════╡\n",
       "│ U_22       ┆ 我     ┆ 0      ┆ null     ┆ 2015         ┆ [682129,     ┆ [\"2019-10-1 ┆ 2          │\n",
       "│            ┆        ┆        ┆          ┆              ┆ 2294668]     ┆ 2           ┆            │\n",
       "│            ┆        ┆        ┆          ┆              ┆              ┆ 10:28:02\",  ┆            │\n",
       "│            ┆        ┆        ┆          ┆              ┆              ┆ \"2020-…     ┆            │\n",
       "│ U_24       ┆ 王帅国 ┆ 1      ┆ 清华大学 ┆ 6558         ┆ [597214,     ┆ [\"2019-05-2 ┆ 65         │\n",
       "│            ┆        ┆        ┆          ┆              ┆ 605512, …    ┆ 0           ┆            │\n",
       "│            ┆        ┆        ┆          ┆              ┆ 2229905]     ┆ 16:06:48\",  ┆            │\n",
       "│            ┆        ┆        ┆          ┆              ┆              ┆ \"2019-…     ┆            │\n",
       "│ U_25       ┆ 王帅国 ┆ 0      ┆ 清华大学 ┆ null         ┆ [1903985]    ┆ [\"2020-08-0 ┆ 1          │\n",
       "│            ┆        ┆        ┆          ┆              ┆              ┆ 7           ┆            │\n",
       "│            ┆        ┆        ┆          ┆              ┆              ┆ 18:59:13\"]  ┆            │\n",
       "│ U_53       ┆ 于歆杰 ┆ 1      ┆ 清华大学 ┆ 1973         ┆ [696679,     ┆ [\"2020-03-0 ┆ 8          │\n",
       "│            ┆        ┆        ┆          ┆              ┆ 1704639, …   ┆ 1           ┆            │\n",
       "│            ┆        ┆        ┆          ┆              ┆ 1794464]     ┆ 21:24:30\",  ┆            │\n",
       "│            ┆        ┆        ┆          ┆              ┆              ┆ \"2020-…     ┆            │\n",
       "│ U_54       ┆ 马昱春 ┆ 2      ┆ 清华大学 ┆ null         ┆ [682442,     ┆ [\"2019-10-0 ┆ 9          │\n",
       "│            ┆        ┆        ┆          ┆              ┆ 682164, …    ┆ 9           ┆            │\n",
       "│            ┆        ┆        ┆          ┆              ┆ 1906706]     ┆ 02:17:49\",  ┆            │\n",
       "│            ┆        ┆        ┆          ┆              ┆              ┆ \"2019-…     ┆            │\n",
       "│ …          ┆ …      ┆ …      ┆ …        ┆ …            ┆ …            ┆ …           ┆ …          │\n",
       "│ U_34712108 ┆ null   ┆ 0      ┆ null     ┆ null         ┆ [697791,     ┆ [\"2020-10-1 ┆ 3          │\n",
       "│            ┆        ┆        ┆          ┆              ┆ 782490,      ┆ 2           ┆            │\n",
       "│            ┆        ┆        ┆          ┆              ┆ 799796]      ┆ 03:39:14\",  ┆            │\n",
       "│            ┆        ┆        ┆          ┆              ┆              ┆ \"2020-…     ┆            │\n",
       "│ U_34712111 ┆ null   ┆ 2      ┆ null     ┆ null         ┆ [2199449]    ┆ [\"2020-10-1 ┆ 1          │\n",
       "│            ┆        ┆        ┆          ┆              ┆              ┆ 2           ┆            │\n",
       "│            ┆        ┆        ┆          ┆              ┆              ┆ 03:46:08\"]  ┆            │\n",
       "│ U_34712112 ┆ null   ┆ 1      ┆ null     ┆ null         ┆ [916828]     ┆ [\"2020-10-1 ┆ 1          │\n",
       "│            ┆        ┆        ┆          ┆              ┆              ┆ 2           ┆            │\n",
       "│            ┆        ┆        ┆          ┆              ┆              ┆ 03:51:36\"]  ┆            │\n",
       "│ U_34712114 ┆ null   ┆ 1      ┆ null     ┆ null         ┆ [735405]     ┆ [\"2020-10-1 ┆ 1          │\n",
       "│            ┆        ┆        ┆          ┆              ┆              ┆ 2           ┆            │\n",
       "│            ┆        ┆        ┆          ┆              ┆              ┆ 03:57:05\"]  ┆            │\n",
       "│ U_34712115 ┆ null   ┆ 1      ┆ null     ┆ null         ┆ [883345,     ┆ [\"2020-10-1 ┆ 6          │\n",
       "│            ┆        ┆        ┆          ┆              ┆ 770738, …    ┆ 2           ┆            │\n",
       "│            ┆        ┆        ┆          ┆              ┆ 697092]      ┆ 04:01:29\",  ┆            │\n",
       "│            ┆        ┆        ┆          ┆              ┆              ┆ \"2020-…     ┆            │\n",
       "└────────────┴────────┴────────┴──────────┴──────────────┴──────────────┴─────────────┴────────────┘"
      ]
     },
     "execution_count": 9,
     "metadata": {},
     "output_type": "execute_result"
    }
   ],
   "source": [
    "count_course(user_df)"
   ]
  },
  {
   "cell_type": "code",
   "execution_count": 10,
   "id": "7cc618b5",
   "metadata": {
    "execution": {
     "iopub.execute_input": "2025-06-08T04:10:26.905849Z",
     "iopub.status.busy": "2025-06-08T04:10:26.905460Z",
     "iopub.status.idle": "2025-06-08T04:10:26.910892Z",
     "shell.execute_reply": "2025-06-08T04:10:26.909705Z"
    },
    "papermill": {
     "duration": 0.015352,
     "end_time": "2025-06-08T04:10:26.912493",
     "exception": false,
     "start_time": "2025-06-08T04:10:26.897141",
     "status": "completed"
    },
    "tags": []
   },
   "outputs": [],
   "source": [
    "def calculate_missing_percentage(df):\n",
    "    return df.select([\n",
    "        ((pl.col(col).is_null().mean()) * 100).alias(col)\n",
    "        for col in df.columns\n",
    "    ])\n",
    "def count_values(df,cols_names):\n",
    "    return df.select([\n",
    "        pl.col(col).n_unique().alias(col + \"_unique_count\")\n",
    "        for col in cols_name\n",
    "    ])"
   ]
  },
  {
   "cell_type": "code",
   "execution_count": 11,
   "id": "c762ebf9",
   "metadata": {
    "execution": {
     "iopub.execute_input": "2025-06-08T04:10:26.927019Z",
     "iopub.status.busy": "2025-06-08T04:10:26.926634Z",
     "iopub.status.idle": "2025-06-08T04:10:27.460766Z",
     "shell.execute_reply": "2025-06-08T04:10:27.459623Z"
    },
    "papermill": {
     "duration": 0.543661,
     "end_time": "2025-06-08T04:10:27.462869",
     "exception": false,
     "start_time": "2025-06-08T04:10:26.919208",
     "status": "completed"
    },
    "tags": []
   },
   "outputs": [
    {
     "data": {
      "text/html": [
       "<div><style>\n",
       ".dataframe > thead > tr,\n",
       ".dataframe > tbody > tr {\n",
       "  text-align: right;\n",
       "  white-space: pre-wrap;\n",
       "}\n",
       "</style>\n",
       "<small>shape: (1, 7)</small><table border=\"1\" class=\"dataframe\"><thead><tr><th>id</th><th>name</th><th>gender</th><th>school</th><th>year_of_birth</th><th>course_order</th><th>enroll_time</th></tr><tr><td>f64</td><td>f64</td><td>f64</td><td>f64</td><td>f64</td><td>f64</td><td>f64</td></tr></thead><tbody><tr><td>0.0</td><td>32.192683</td><td>0.001621</td><td>66.117136</td><td>98.542771</td><td>0.0</td><td>0.0</td></tr></tbody></table></div>"
      ],
      "text/plain": [
       "shape: (1, 7)\n",
       "┌─────┬───────────┬──────────┬───────────┬───────────────┬──────────────┬─────────────┐\n",
       "│ id  ┆ name      ┆ gender   ┆ school    ┆ year_of_birth ┆ course_order ┆ enroll_time │\n",
       "│ --- ┆ ---       ┆ ---      ┆ ---       ┆ ---           ┆ ---          ┆ ---         │\n",
       "│ f64 ┆ f64       ┆ f64      ┆ f64       ┆ f64           ┆ f64          ┆ f64         │\n",
       "╞═════╪═══════════╪══════════╪═══════════╪═══════════════╪══════════════╪═════════════╡\n",
       "│ 0.0 ┆ 32.192683 ┆ 0.001621 ┆ 66.117136 ┆ 98.542771     ┆ 0.0          ┆ 0.0         │\n",
       "└─────┴───────────┴──────────┴───────────┴───────────────┴──────────────┴─────────────┘"
      ]
     },
     "metadata": {},
     "output_type": "display_data"
    },
    {
     "data": {
      "text/html": [
       "<div><style>\n",
       ".dataframe > thead > tr,\n",
       ".dataframe > tbody > tr {\n",
       "  text-align: right;\n",
       "  white-space: pre-wrap;\n",
       "}\n",
       "</style>\n",
       "<small>shape: (1, 4)</small><table border=\"1\" class=\"dataframe\"><thead><tr><th>school_unique_count</th><th>name_unique_count</th><th>gender_unique_count</th><th>year_of_birth_unique_count</th></tr><tr><td>u32</td><td>u32</td><td>u32</td><td>u32</td></tr></thead><tbody><tr><td>24973</td><td>1612505</td><td>6</td><td>253</td></tr></tbody></table></div>"
      ],
      "text/plain": [
       "shape: (1, 4)\n",
       "┌─────────────────────┬───────────────────┬─────────────────────┬────────────────────────────┐\n",
       "│ school_unique_count ┆ name_unique_count ┆ gender_unique_count ┆ year_of_birth_unique_count │\n",
       "│ ---                 ┆ ---               ┆ ---                 ┆ ---                        │\n",
       "│ u32                 ┆ u32               ┆ u32                 ┆ u32                        │\n",
       "╞═════════════════════╪═══════════════════╪═════════════════════╪════════════════════════════╡\n",
       "│ 24973               ┆ 1612505           ┆ 6                   ┆ 253                        │\n",
       "└─────────────────────┴───────────────────┴─────────────────────┴────────────────────────────┘"
      ]
     },
     "metadata": {},
     "output_type": "display_data"
    }
   ],
   "source": [
    "cols_name=[\"school\",\"name\",\"gender\",\"year_of_birth\"]\n",
    "display(calculate_missing_percentage(user_df))\n",
    "display(count_values(user_df,cols_name))"
   ]
  },
  {
   "cell_type": "code",
   "execution_count": 12,
   "id": "f2652aa4",
   "metadata": {
    "execution": {
     "iopub.execute_input": "2025-06-08T04:10:27.478679Z",
     "iopub.status.busy": "2025-06-08T04:10:27.478326Z",
     "iopub.status.idle": "2025-06-08T04:10:27.586854Z",
     "shell.execute_reply": "2025-06-08T04:10:27.585653Z"
    },
    "papermill": {
     "duration": 0.118218,
     "end_time": "2025-06-08T04:10:27.588637",
     "exception": false,
     "start_time": "2025-06-08T04:10:27.470419",
     "status": "completed"
    },
    "tags": []
   },
   "outputs": [
    {
     "data": {
      "text/html": [
       "<div><style>\n",
       ".dataframe > thead > tr,\n",
       ".dataframe > tbody > tr {\n",
       "  text-align: right;\n",
       "  white-space: pre-wrap;\n",
       "}\n",
       "</style>\n",
       "<small>shape: (6, 1)</small><table border=\"1\" class=\"dataframe\"><thead><tr><th>gender</th></tr><tr><td>struct[2]</td></tr></thead><tbody><tr><td>{3,1}</td></tr><tr><td>{0,1221931}</td></tr><tr><td>{null,54}</td></tr><tr><td>{1,1067858}</td></tr><tr><td>{2,1040449}</td></tr><tr><td>{232,1}</td></tr></tbody></table></div>"
      ],
      "text/plain": [
       "shape: (6, 1)\n",
       "┌─────────────┐\n",
       "│ gender      │\n",
       "│ ---         │\n",
       "│ struct[2]   │\n",
       "╞═════════════╡\n",
       "│ {3,1}       │\n",
       "│ {0,1221931} │\n",
       "│ {null,54}   │\n",
       "│ {1,1067858} │\n",
       "│ {2,1040449} │\n",
       "│ {232,1}     │\n",
       "└─────────────┘"
      ]
     },
     "execution_count": 12,
     "metadata": {},
     "output_type": "execute_result"
    }
   ],
   "source": [
    "user_df.select(pl.col(\"gender\").value_counts())"
   ]
  },
  {
   "cell_type": "code",
   "execution_count": 13,
   "id": "90f2db0a",
   "metadata": {
    "execution": {
     "iopub.execute_input": "2025-06-08T04:10:27.604766Z",
     "iopub.status.busy": "2025-06-08T04:10:27.604410Z",
     "iopub.status.idle": "2025-06-08T04:10:27.699191Z",
     "shell.execute_reply": "2025-06-08T04:10:27.698158Z"
    },
    "papermill": {
     "duration": 0.105384,
     "end_time": "2025-06-08T04:10:27.701445",
     "exception": false,
     "start_time": "2025-06-08T04:10:27.596061",
     "status": "completed"
    },
    "tags": []
   },
   "outputs": [],
   "source": [
    "# Tính giá trị xuất hiện nhiều nhất trong cột \"column1\"\n",
    "most_frequent_value = user_df.select(pl.col(\"gender\").mode()).to_series()[0]\n",
    "\n",
    "# Thay thế các giá trị null, 3, và 232 bằng giá trị xuất hiện nhiều nhất\n",
    "user_df = user_df.with_columns(\n",
    "    pl.when(pl.col(\"gender\").is_null() | (pl.col(\"gender\") == 3) | (pl.col(\"gender\") == 232))\n",
    "    .then(most_frequent_value)\n",
    "    .otherwise(pl.col(\"gender\"))\n",
    "    .alias(\"gender\")\n",
    ")"
   ]
  },
  {
   "cell_type": "code",
   "execution_count": 14,
   "id": "f4bdb0ce",
   "metadata": {
    "execution": {
     "iopub.execute_input": "2025-06-08T04:10:27.717770Z",
     "iopub.status.busy": "2025-06-08T04:10:27.717346Z",
     "iopub.status.idle": "2025-06-08T04:10:27.722355Z",
     "shell.execute_reply": "2025-06-08T04:10:27.721145Z"
    },
    "papermill": {
     "duration": 0.015277,
     "end_time": "2025-06-08T04:10:27.724044",
     "exception": false,
     "start_time": "2025-06-08T04:10:27.708767",
     "status": "completed"
    },
    "tags": []
   },
   "outputs": [],
   "source": [
    "def fill_user(df, min_courses = 5, max_courses = 1000):\n",
    "    df = count_course(df)\n",
    "    df = df.filter(\n",
    "        (pl.col(\"num_course\") >= min_courses) & (pl.col(\"num_course\") <= max_courses)\n",
    "    )\n",
    "    return df"
   ]
  },
  {
   "cell_type": "code",
   "execution_count": 15,
   "id": "b17fd007",
   "metadata": {
    "execution": {
     "iopub.execute_input": "2025-06-08T04:10:27.740240Z",
     "iopub.status.busy": "2025-06-08T04:10:27.739854Z",
     "iopub.status.idle": "2025-06-08T04:10:35.636978Z",
     "shell.execute_reply": "2025-06-08T04:10:35.636033Z"
    },
    "papermill": {
     "duration": 7.907397,
     "end_time": "2025-06-08T04:10:35.638935",
     "exception": false,
     "start_time": "2025-06-08T04:10:27.731538",
     "status": "completed"
    },
    "tags": []
   },
   "outputs": [],
   "source": [
    "c_5_user_df = fill_user(user_df)"
   ]
  },
  {
   "cell_type": "code",
   "execution_count": 16,
   "id": "2899272f",
   "metadata": {
    "execution": {
     "iopub.execute_input": "2025-06-08T04:10:35.655059Z",
     "iopub.status.busy": "2025-06-08T04:10:35.654712Z",
     "iopub.status.idle": "2025-06-08T04:10:35.678866Z",
     "shell.execute_reply": "2025-06-08T04:10:35.677672Z"
    },
    "papermill": {
     "duration": 0.03459,
     "end_time": "2025-06-08T04:10:35.680758",
     "exception": false,
     "start_time": "2025-06-08T04:10:35.646168",
     "status": "completed"
    },
    "tags": []
   },
   "outputs": [
    {
     "data": {
      "text/html": [
       "<div><style>\n",
       ".dataframe > thead > tr,\n",
       ".dataframe > tbody > tr {\n",
       "  text-align: right;\n",
       "  white-space: pre-wrap;\n",
       "}\n",
       "</style>\n",
       "<small>shape: (9, 9)</small><table border=\"1\" class=\"dataframe\"><thead><tr><th>statistic</th><th>id</th><th>name</th><th>gender</th><th>school</th><th>year_of_birth</th><th>course_order</th><th>enroll_time</th><th>num_course</th></tr><tr><td>str</td><td>str</td><td>str</td><td>f64</td><td>str</td><td>f64</td><td>f64</td><td>f64</td><td>f64</td></tr></thead><tbody><tr><td>&quot;count&quot;</td><td>&quot;381883&quot;</td><td>&quot;258873&quot;</td><td>381883.0</td><td>&quot;81004&quot;</td><td>3449.0</td><td>381883.0</td><td>381883.0</td><td>381883.0</td></tr><tr><td>&quot;null_count&quot;</td><td>&quot;0&quot;</td><td>&quot;123010&quot;</td><td>0.0</td><td>&quot;300879&quot;</td><td>378434.0</td><td>0.0</td><td>0.0</td><td>0.0</td></tr><tr><td>&quot;mean&quot;</td><td>null</td><td>null</td><td>0.831042</td><td>null</td><td>2101.988692</td><td>null</td><td>null</td><td>19.879845</td></tr><tr><td>&quot;std&quot;</td><td>null</td><td>null</td><td>0.804622</td><td>null</td><td>737.524353</td><td>null</td><td>null</td><td>22.60361</td></tr><tr><td>&quot;min&quot;</td><td>&quot;U_1000129&quot;</td><td>&quot; &quot;</td><td>0.0</td><td>&quot;\b Queen&#x27;s University&quot;</td><td>1276.0</td><td>null</td><td>null</td><td>5.0</td></tr><tr><td>&quot;25%&quot;</td><td>null</td><td>null</td><td>0.0</td><td>null</td><td>2020.0</td><td>null</td><td>null</td><td>6.0</td></tr><tr><td>&quot;50%&quot;</td><td>null</td><td>null</td><td>1.0</td><td>null</td><td>2020.0</td><td>null</td><td>null</td><td>9.0</td></tr><tr><td>&quot;75%&quot;</td><td>null</td><td>null</td><td>2.0</td><td>null</td><td>2020.0</td><td>null</td><td>null</td><td>25.0</td></tr><tr><td>&quot;max&quot;</td><td>&quot;U_99996&quot;</td><td>&quot;󾓭&quot;</td><td>2.0</td><td>&quot;，，，&quot;</td><td>9928.0</td><td>null</td><td>null</td><td>955.0</td></tr></tbody></table></div>"
      ],
      "text/plain": [
       "shape: (9, 9)\n",
       "┌────────────┬───────────┬────────┬──────────┬───┬────────────┬────────────┬───────────┬───────────┐\n",
       "│ statistic  ┆ id        ┆ name   ┆ gender   ┆ … ┆ year_of_bi ┆ course_ord ┆ enroll_ti ┆ num_cours │\n",
       "│ ---        ┆ ---       ┆ ---    ┆ ---      ┆   ┆ rth        ┆ er         ┆ me        ┆ e         │\n",
       "│ str        ┆ str       ┆ str    ┆ f64      ┆   ┆ ---        ┆ ---        ┆ ---       ┆ ---       │\n",
       "│            ┆           ┆        ┆          ┆   ┆ f64        ┆ f64        ┆ f64       ┆ f64       │\n",
       "╞════════════╪═══════════╪════════╪══════════╪═══╪════════════╪════════════╪═══════════╪═══════════╡\n",
       "│ count      ┆ 381883    ┆ 258873 ┆ 381883.0 ┆ … ┆ 3449.0     ┆ 381883.0   ┆ 381883.0  ┆ 381883.0  │\n",
       "│ null_count ┆ 0         ┆ 123010 ┆ 0.0      ┆ … ┆ 378434.0   ┆ 0.0        ┆ 0.0       ┆ 0.0       │\n",
       "│ mean       ┆ null      ┆ null   ┆ 0.831042 ┆ … ┆ 2101.98869 ┆ null       ┆ null      ┆ 19.879845 │\n",
       "│            ┆           ┆        ┆          ┆   ┆ 2          ┆            ┆           ┆           │\n",
       "│ std        ┆ null      ┆ null   ┆ 0.804622 ┆ … ┆ 737.524353 ┆ null       ┆ null      ┆ 22.60361  │\n",
       "│ min        ┆ U_1000129 ┆        ┆ 0.0      ┆ … ┆ 1276.0     ┆ null       ┆ null      ┆ 5.0       │\n",
       "│ 25%        ┆ null      ┆ null   ┆ 0.0      ┆ … ┆ 2020.0     ┆ null       ┆ null      ┆ 6.0       │\n",
       "│ 50%        ┆ null      ┆ null   ┆ 1.0      ┆ … ┆ 2020.0     ┆ null       ┆ null      ┆ 9.0       │\n",
       "│ 75%        ┆ null      ┆ null   ┆ 2.0      ┆ … ┆ 2020.0     ┆ null       ┆ null      ┆ 25.0      │\n",
       "│ max        ┆ U_99996   ┆ 󾓭      ┆ 2.0      ┆ … ┆ 9928.0     ┆ null       ┆ null      ┆ 955.0     │\n",
       "└────────────┴───────────┴────────┴──────────┴───┴────────────┴────────────┴───────────┴───────────┘"
      ]
     },
     "execution_count": 16,
     "metadata": {},
     "output_type": "execute_result"
    }
   ],
   "source": [
    "c_5_user_df.describe()"
   ]
  },
  {
   "cell_type": "code",
   "execution_count": 17,
   "id": "c4254deb",
   "metadata": {
    "execution": {
     "iopub.execute_input": "2025-06-08T04:10:35.697852Z",
     "iopub.status.busy": "2025-06-08T04:10:35.697496Z",
     "iopub.status.idle": "2025-06-08T04:10:35.703299Z",
     "shell.execute_reply": "2025-06-08T04:10:35.702234Z"
    },
    "papermill": {
     "duration": 0.016352,
     "end_time": "2025-06-08T04:10:35.705424",
     "exception": false,
     "start_time": "2025-06-08T04:10:35.689072",
     "status": "completed"
    },
    "tags": []
   },
   "outputs": [],
   "source": [
    "c_5_user_df_csv = c_5_user_df.select(pl.col(['id','gender']))"
   ]
  },
  {
   "cell_type": "code",
   "execution_count": 18,
   "id": "42c8d08f",
   "metadata": {
    "execution": {
     "iopub.execute_input": "2025-06-08T04:10:35.721536Z",
     "iopub.status.busy": "2025-06-08T04:10:35.721188Z",
     "iopub.status.idle": "2025-06-08T04:10:36.617132Z",
     "shell.execute_reply": "2025-06-08T04:10:36.616211Z"
    },
    "papermill": {
     "duration": 0.905805,
     "end_time": "2025-06-08T04:10:36.618935",
     "exception": false,
     "start_time": "2025-06-08T04:10:35.713130",
     "status": "completed"
    },
    "tags": []
   },
   "outputs": [],
   "source": [
    "uc_df = user_df.select(pl.col(['id','course_order','enroll_time'])).explode(['course_order','enroll_time'])"
   ]
  },
  {
   "cell_type": "code",
   "execution_count": 19,
   "id": "dc811dec",
   "metadata": {
    "execution": {
     "iopub.execute_input": "2025-06-08T04:10:36.634856Z",
     "iopub.status.busy": "2025-06-08T04:10:36.634466Z",
     "iopub.status.idle": "2025-06-08T04:10:36.852431Z",
     "shell.execute_reply": "2025-06-08T04:10:36.851407Z"
    },
    "papermill": {
     "duration": 0.228181,
     "end_time": "2025-06-08T04:10:36.854365",
     "exception": false,
     "start_time": "2025-06-08T04:10:36.626184",
     "status": "completed"
    },
    "tags": []
   },
   "outputs": [],
   "source": [
    "user_df = user_df.select(pl.col(['id','gender']))\n",
    "user_df.write_csv('user.csv')"
   ]
  },
  {
   "cell_type": "code",
   "execution_count": 20,
   "id": "17ddac0f",
   "metadata": {
    "execution": {
     "iopub.execute_input": "2025-06-08T04:10:36.870366Z",
     "iopub.status.busy": "2025-06-08T04:10:36.869997Z",
     "iopub.status.idle": "2025-06-08T04:10:36.899366Z",
     "shell.execute_reply": "2025-06-08T04:10:36.898216Z"
    },
    "papermill": {
     "duration": 0.039915,
     "end_time": "2025-06-08T04:10:36.901703",
     "exception": false,
     "start_time": "2025-06-08T04:10:36.861788",
     "status": "completed"
    },
    "tags": []
   },
   "outputs": [],
   "source": [
    "c_5_user_df_csv.write_csv(\"user-5-100.csv\")"
   ]
  },
  {
   "cell_type": "code",
   "execution_count": 21,
   "id": "e854e5d3",
   "metadata": {
    "execution": {
     "iopub.execute_input": "2025-06-08T04:10:36.917842Z",
     "iopub.status.busy": "2025-06-08T04:10:36.917432Z",
     "iopub.status.idle": "2025-06-08T04:10:37.238780Z",
     "shell.execute_reply": "2025-06-08T04:10:37.237469Z"
    },
    "papermill": {
     "duration": 0.33145,
     "end_time": "2025-06-08T04:10:37.240668",
     "exception": false,
     "start_time": "2025-06-08T04:10:36.909218",
     "status": "completed"
    },
    "tags": []
   },
   "outputs": [
    {
     "data": {
      "text/html": [
       "<div><style>\n",
       ".dataframe > thead > tr,\n",
       ".dataframe > tbody > tr {\n",
       "  text-align: right;\n",
       "  white-space: pre-wrap;\n",
       "}\n",
       "</style>\n",
       "<small>shape: (5, 3)</small><table border=\"1\" class=\"dataframe\"><thead><tr><th>id</th><th>course_order</th><th>enroll_time</th></tr><tr><td>str</td><td>i64</td><td>str</td></tr></thead><tbody><tr><td>&quot;U_24&quot;</td><td>597214</td><td>&quot;2019-05-20 16:06:48&quot;</td></tr><tr><td>&quot;U_24&quot;</td><td>605512</td><td>&quot;2019-05-24 19:34:43&quot;</td></tr><tr><td>&quot;U_24&quot;</td><td>597211</td><td>&quot;2019-06-11 02:50:04&quot;</td></tr><tr><td>&quot;U_24&quot;</td><td>597314</td><td>&quot;2019-06-12 17:22:07&quot;</td></tr><tr><td>&quot;U_24&quot;</td><td>597208</td><td>&quot;2019-06-17 15:22:41&quot;</td></tr></tbody></table></div>"
      ],
      "text/plain": [
       "shape: (5, 3)\n",
       "┌──────┬──────────────┬─────────────────────┐\n",
       "│ id   ┆ course_order ┆ enroll_time         │\n",
       "│ ---  ┆ ---          ┆ ---                 │\n",
       "│ str  ┆ i64          ┆ str                 │\n",
       "╞══════╪══════════════╪═════════════════════╡\n",
       "│ U_24 ┆ 597214       ┆ 2019-05-20 16:06:48 │\n",
       "│ U_24 ┆ 605512       ┆ 2019-05-24 19:34:43 │\n",
       "│ U_24 ┆ 597211       ┆ 2019-06-11 02:50:04 │\n",
       "│ U_24 ┆ 597314       ┆ 2019-06-12 17:22:07 │\n",
       "│ U_24 ┆ 597208       ┆ 2019-06-17 15:22:41 │\n",
       "└──────┴──────────────┴─────────────────────┘"
      ]
     },
     "execution_count": 21,
     "metadata": {},
     "output_type": "execute_result"
    }
   ],
   "source": [
    "user_course = c_5_user_df.select(pl.col(['id','course_order','enroll_time'])).explode(['course_order','enroll_time'])\n",
    "user_course.head()"
   ]
  },
  {
   "cell_type": "code",
   "execution_count": 22,
   "id": "5406bac6",
   "metadata": {
    "execution": {
     "iopub.execute_input": "2025-06-08T04:10:37.257314Z",
     "iopub.status.busy": "2025-06-08T04:10:37.256908Z",
     "iopub.status.idle": "2025-06-08T04:10:37.261835Z",
     "shell.execute_reply": "2025-06-08T04:10:37.260787Z"
    },
    "papermill": {
     "duration": 0.015129,
     "end_time": "2025-06-08T04:10:37.263540",
     "exception": false,
     "start_time": "2025-06-08T04:10:37.248411",
     "status": "completed"
    },
    "tags": []
   },
   "outputs": [],
   "source": [
    "from datetime import datetime\n",
    "def datetime_to_int(datetime_str):\n",
    "    dt = datetime.strptime(datetime_str, '%Y-%m-%d %H:%M:%S')\n",
    "    timestamp = int(dt.timestamp())\n",
    "    return timestamp"
   ]
  },
  {
   "cell_type": "code",
   "execution_count": 23,
   "id": "6e495362",
   "metadata": {
    "execution": {
     "iopub.execute_input": "2025-06-08T04:10:37.280532Z",
     "iopub.status.busy": "2025-06-08T04:10:37.280188Z",
     "iopub.status.idle": "2025-06-08T04:12:43.069234Z",
     "shell.execute_reply": "2025-06-08T04:12:43.067150Z"
    },
    "papermill": {
     "duration": 125.813474,
     "end_time": "2025-06-08T04:12:43.084697",
     "exception": false,
     "start_time": "2025-06-08T04:10:37.271223",
     "status": "completed"
    },
    "tags": []
   },
   "outputs": [
    {
     "name": "stdout",
     "output_type": "stream",
     "text": [
      "Start time (datetime): 2019-01-24 16:34:19\n",
      "End time (datetime): 2020-12-08 03:38:19\n"
     ]
    }
   ],
   "source": [
    "uc_df = uc_df.with_columns([\n",
    "    pl.Series(\"enroll_time\", [datetime_to_int(x) for x in uc_df[\"enroll_time\"]])\n",
    "])\n",
    "start_time = uc_df.select(pl.col(\"enroll_time\").min()).item()\n",
    "end_time = uc_df.select(pl.col(\"enroll_time\").max()).item()\n",
    "\n",
    "start_datetime = datetime.fromtimestamp(start_time)\n",
    "end_datetime = datetime.fromtimestamp(end_time)\n",
    "\n",
    "print(\"Start time (datetime):\", start_datetime)\n",
    "print(\"End time (datetime):\", end_datetime)"
   ]
  },
  {
   "cell_type": "code",
   "execution_count": 24,
   "id": "59107ce6",
   "metadata": {
    "execution": {
     "iopub.execute_input": "2025-06-08T04:12:43.104010Z",
     "iopub.status.busy": "2025-06-08T04:12:43.103495Z",
     "iopub.status.idle": "2025-06-08T04:12:43.111285Z",
     "shell.execute_reply": "2025-06-08T04:12:43.110198Z"
    },
    "papermill": {
     "duration": 0.019833,
     "end_time": "2025-06-08T04:12:43.112838",
     "exception": false,
     "start_time": "2025-06-08T04:12:43.093005",
     "status": "completed"
    },
    "tags": []
   },
   "outputs": [
    {
     "data": {
      "text/plain": [
       "(11807090, 3)"
      ]
     },
     "execution_count": 24,
     "metadata": {},
     "output_type": "execute_result"
    }
   ],
   "source": [
    "uc_df.shape"
   ]
  },
  {
   "cell_type": "code",
   "execution_count": 25,
   "id": "b3fb6e6d",
   "metadata": {
    "execution": {
     "iopub.execute_input": "2025-06-08T04:12:43.129901Z",
     "iopub.status.busy": "2025-06-08T04:12:43.129484Z",
     "iopub.status.idle": "2025-06-08T04:14:01.165717Z",
     "shell.execute_reply": "2025-06-08T04:14:01.164259Z"
    },
    "papermill": {
     "duration": 78.047616,
     "end_time": "2025-06-08T04:14:01.168233",
     "exception": false,
     "start_time": "2025-06-08T04:12:43.120617",
     "status": "completed"
    },
    "tags": []
   },
   "outputs": [],
   "source": [
    "user_course = user_course.rename({\n",
    "    \"id\": \"user_id\",\n",
    "    \"course_order\": \"course_id\",\n",
    "    \"enroll_time\": \"enroll_time\"\n",
    "})\n",
    "# Chuẩn hóa dữ liệu cột course_id từ <số> thành <C_số>\n",
    "user_course = user_course.with_columns([\n",
    "    pl.Series(\"course_id\", [f'C_{x}' for x in user_course[\"course_id\"]]),\n",
    "    pl.Series(\"enroll_time\", [datetime_to_int(x) for x in user_course[\"enroll_time\"]])\n",
    "])"
   ]
  },
  {
   "cell_type": "code",
   "execution_count": 26,
   "id": "b0f5e167",
   "metadata": {
    "execution": {
     "iopub.execute_input": "2025-06-08T04:14:01.187881Z",
     "iopub.status.busy": "2025-06-08T04:14:01.187513Z",
     "iopub.status.idle": "2025-06-08T04:14:01.211889Z",
     "shell.execute_reply": "2025-06-08T04:14:01.210460Z"
    },
    "papermill": {
     "duration": 0.035494,
     "end_time": "2025-06-08T04:14:01.213894",
     "exception": false,
     "start_time": "2025-06-08T04:14:01.178400",
     "status": "completed"
    },
    "tags": []
   },
   "outputs": [
    {
     "name": "stdout",
     "output_type": "stream",
     "text": [
      "Start time (datetime): 2019-01-24 16:34:19\n",
      "End time (datetime): 2020-12-08 03:38:19\n"
     ]
    }
   ],
   "source": [
    "start_time = user_course.select(pl.col(\"enroll_time\").min()).item()\n",
    "end_time = user_course.select(pl.col(\"enroll_time\").max()).item()\n",
    "\n",
    "start_datetime = datetime.fromtimestamp(start_time)\n",
    "end_datetime = datetime.fromtimestamp(end_time)\n",
    "\n",
    "print(\"Start time (datetime):\", start_datetime)\n",
    "print(\"End time (datetime):\", end_datetime)"
   ]
  },
  {
   "cell_type": "code",
   "execution_count": null,
   "id": "2eeeba20",
   "metadata": {
    "papermill": {
     "duration": 0.011456,
     "end_time": "2025-06-08T04:14:01.234263",
     "exception": false,
     "start_time": "2025-06-08T04:14:01.222807",
     "status": "completed"
    },
    "tags": []
   },
   "outputs": [],
   "source": []
  },
  {
   "cell_type": "code",
   "execution_count": 27,
   "id": "2dc495f2",
   "metadata": {
    "execution": {
     "iopub.execute_input": "2025-06-08T04:14:01.256956Z",
     "iopub.status.busy": "2025-06-08T04:14:01.256588Z",
     "iopub.status.idle": "2025-06-08T04:14:01.264569Z",
     "shell.execute_reply": "2025-06-08T04:14:01.263467Z"
    },
    "papermill": {
     "duration": 0.021383,
     "end_time": "2025-06-08T04:14:01.266835",
     "exception": false,
     "start_time": "2025-06-08T04:14:01.245452",
     "status": "completed"
    },
    "tags": []
   },
   "outputs": [
    {
     "data": {
      "text/html": [
       "<div><style>\n",
       ".dataframe > thead > tr,\n",
       ".dataframe > tbody > tr {\n",
       "  text-align: right;\n",
       "  white-space: pre-wrap;\n",
       "}\n",
       "</style>\n",
       "<small>shape: (5, 3)</small><table border=\"1\" class=\"dataframe\"><thead><tr><th>user_id</th><th>course_id</th><th>enroll_time</th></tr><tr><td>str</td><td>str</td><td>i64</td></tr></thead><tbody><tr><td>&quot;U_24&quot;</td><td>&quot;C_597214&quot;</td><td>1558368408</td></tr><tr><td>&quot;U_24&quot;</td><td>&quot;C_605512&quot;</td><td>1558726483</td></tr><tr><td>&quot;U_24&quot;</td><td>&quot;C_597211&quot;</td><td>1560221404</td></tr><tr><td>&quot;U_24&quot;</td><td>&quot;C_597314&quot;</td><td>1560360127</td></tr><tr><td>&quot;U_24&quot;</td><td>&quot;C_597208&quot;</td><td>1560784961</td></tr></tbody></table></div>"
      ],
      "text/plain": [
       "shape: (5, 3)\n",
       "┌─────────┬───────────┬─────────────┐\n",
       "│ user_id ┆ course_id ┆ enroll_time │\n",
       "│ ---     ┆ ---       ┆ ---         │\n",
       "│ str     ┆ str       ┆ i64         │\n",
       "╞═════════╪═══════════╪═════════════╡\n",
       "│ U_24    ┆ C_597214  ┆ 1558368408  │\n",
       "│ U_24    ┆ C_605512  ┆ 1558726483  │\n",
       "│ U_24    ┆ C_597211  ┆ 1560221404  │\n",
       "│ U_24    ┆ C_597314  ┆ 1560360127  │\n",
       "│ U_24    ┆ C_597208  ┆ 1560784961  │\n",
       "└─────────┴───────────┴─────────────┘"
      ]
     },
     "execution_count": 27,
     "metadata": {},
     "output_type": "execute_result"
    }
   ],
   "source": [
    "user_course.head()"
   ]
  },
  {
   "cell_type": "code",
   "execution_count": 28,
   "id": "4dac76d9",
   "metadata": {
    "execution": {
     "iopub.execute_input": "2025-06-08T04:14:01.284959Z",
     "iopub.status.busy": "2025-06-08T04:14:01.284606Z",
     "iopub.status.idle": "2025-06-08T04:14:02.172962Z",
     "shell.execute_reply": "2025-06-08T04:14:02.171698Z"
    },
    "papermill": {
     "duration": 0.900146,
     "end_time": "2025-06-08T04:14:02.175311",
     "exception": false,
     "start_time": "2025-06-08T04:14:01.275165",
     "status": "completed"
    },
    "tags": []
   },
   "outputs": [],
   "source": [
    "user_course.write_csv(\"user-course.csv\")"
   ]
  }
 ],
 "metadata": {
  "kaggle": {
   "accelerator": "none",
   "dataSources": [
    {
     "datasetId": 6626446,
     "sourceId": 10719224,
     "sourceType": "datasetVersion"
    }
   ],
   "dockerImageVersionId": 30886,
   "isGpuEnabled": false,
   "isInternetEnabled": true,
   "language": "python",
   "sourceType": "notebook"
  },
  "kernelspec": {
   "display_name": "Python 3",
   "language": "python",
   "name": "python3"
  },
  "language_info": {
   "codemirror_mode": {
    "name": "ipython",
    "version": 3
   },
   "file_extension": ".py",
   "mimetype": "text/x-python",
   "name": "python",
   "nbconvert_exporter": "python",
   "pygments_lexer": "ipython3",
   "version": "3.10.12"
  },
  "papermill": {
   "default_parameters": {},
   "duration": 249.185342,
   "end_time": "2025-06-08T04:14:04.412685",
   "environment_variables": {},
   "exception": null,
   "input_path": "__notebook__.ipynb",
   "output_path": "__notebook__.ipynb",
   "parameters": {},
   "start_time": "2025-06-08T04:09:55.227343",
   "version": "2.6.0"
  }
 },
 "nbformat": 4,
 "nbformat_minor": 5
}
