{
 "cells": [
  {
   "cell_type": "code",
   "execution_count": 1,
   "id": "db441579",
   "metadata": {
    "_cell_guid": "b1076dfc-b9ad-4769-8c92-a6c4dae69d19",
    "_uuid": "8f2839f25d086af736a60e9eeb907d3b93b6e0e5",
    "execution": {
     "iopub.execute_input": "2025-06-08T06:38:11.136281Z",
     "iopub.status.busy": "2025-06-08T06:38:11.135863Z",
     "iopub.status.idle": "2025-06-08T06:38:12.205661Z",
     "shell.execute_reply": "2025-06-08T06:38:12.204546Z"
    },
    "papermill": {
     "duration": 1.080997,
     "end_time": "2025-06-08T06:38:12.208252",
     "exception": false,
     "start_time": "2025-06-08T06:38:11.127255",
     "status": "completed"
    },
    "tags": []
   },
   "outputs": [
    {
     "name": "stdout",
     "output_type": "stream",
     "text": [
      "/kaggle/input/preprocessing-course-json/course.json\n",
      "/kaggle/input/preprocessing-course-json/__results__.html\n",
      "/kaggle/input/preprocessing-course-json/__notebook__.ipynb\n",
      "/kaggle/input/preprocessing-course-json/__output__.json\n",
      "/kaggle/input/preprocessing-course-json/custom.css\n",
      "/kaggle/input/mooccubex-entities/comment.json\n",
      "/kaggle/input/mooccubex-entities/course.json\n",
      "/kaggle/input/mooccubex-entities/paper.json\n",
      "/kaggle/input/mooccubex-entities/reply.json\n",
      "/kaggle/input/mooccubex-entities/school.json\n",
      "/kaggle/input/mooccubex-entities/video.json\n",
      "/kaggle/input/mooccubex-entities/other.json\n",
      "/kaggle/input/mooccubex-entities/problem.json\n",
      "/kaggle/input/mooccubex-entities/user.json\n",
      "/kaggle/input/mooccubex-entities/concept.json\n",
      "/kaggle/input/mooccubex-entities/teacher.json\n",
      "/kaggle/input/mooccubex-relations/course-teacher.txt\n",
      "/kaggle/input/mooccubex-relations/concept-comment.txt\n",
      "/kaggle/input/mooccubex-relations/user-video.json\n",
      "/kaggle/input/mooccubex-relations/course-comment.txt\n",
      "/kaggle/input/mooccubex-relations/concept-problem.txt\n",
      "/kaggle/input/mooccubex-relations/user-reply.txt\n",
      "/kaggle/input/mooccubex-relations/concept-video.txt\n",
      "/kaggle/input/mooccubex-relations/course-school.txt\n",
      "/kaggle/input/mooccubex-relations/user-comment.txt\n",
      "/kaggle/input/mooccubex-relations/exercise-problem.txt\n",
      "/kaggle/input/mooccubex-relations/concept-paper.txt\n",
      "/kaggle/input/mooccubex-relations/reply-reply.txt\n",
      "/kaggle/input/mooccubex-relations/course-field.json\n",
      "/kaggle/input/mooccubex-relations/video_id-ccid.txt\n",
      "/kaggle/input/mooccubex-relations/user-xiaomu.json\n",
      "/kaggle/input/mooccubex-relations/user-problem.json\n",
      "/kaggle/input/mooccubex-relations/comment-reply.txt\n",
      "/kaggle/input/mooccubex-relations/concept-other.txt\n"
     ]
    }
   ],
   "source": [
    "# This Python 3 environment comes with many helpful analytics libraries installed\n",
    "# It is defined by the kaggle/python Docker image: https://github.com/kaggle/docker-python\n",
    "# For example, here's several helpful packages to load\n",
    "\n",
    "import numpy as np # linear algebra\n",
    "import pandas as pd # data processing, CSV file I/O (e.g. pd.read_csv)\n",
    "\n",
    "# Input data files are available in the read-only \"../input/\" directory\n",
    "# For example, running this (by clicking run or pressing Shift+Enter) will list all files under the input directory\n",
    "\n",
    "import os\n",
    "for dirname, _, filenames in os.walk('/kaggle/input'):\n",
    "    for filename in filenames:\n",
    "        print(os.path.join(dirname, filename))\n",
    "\n",
    "# You can write up to 20GB to the current directory (/kaggle/working/) that gets preserved as output when you create a version using \"Save & Run All\" \n",
    "# You can also write temporary files to /kaggle/temp/, but they won't be saved outside of the current session"
   ]
  },
  {
   "cell_type": "markdown",
   "id": "1af1230e",
   "metadata": {
    "papermill": {
     "duration": 0.010374,
     "end_time": "2025-06-08T06:38:12.228468",
     "exception": false,
     "start_time": "2025-06-08T06:38:12.218094",
     "status": "completed"
    },
    "tags": []
   },
   "source": [
    "# Read file"
   ]
  },
  {
   "cell_type": "code",
   "execution_count": 2,
   "id": "0bdeb7f0",
   "metadata": {
    "execution": {
     "iopub.execute_input": "2025-06-08T06:38:12.250676Z",
     "iopub.status.busy": "2025-06-08T06:38:12.249991Z",
     "iopub.status.idle": "2025-06-08T06:38:17.738660Z",
     "shell.execute_reply": "2025-06-08T06:38:17.737608Z"
    },
    "papermill": {
     "duration": 5.500853,
     "end_time": "2025-06-08T06:38:17.740564",
     "exception": false,
     "start_time": "2025-06-08T06:38:12.239711",
     "status": "completed"
    },
    "tags": []
   },
   "outputs": [],
   "source": [
    "import polars as pl\n",
    "course = pl.read_ndjson('/kaggle/input/preprocessing-course-json/course.json')\n",
    "video = pl.read_ndjson('/kaggle/input/mooccubex-entities/video.json')"
   ]
  },
  {
   "cell_type": "code",
   "execution_count": 3,
   "id": "46eee100",
   "metadata": {
    "execution": {
     "iopub.execute_input": "2025-06-08T06:38:17.755066Z",
     "iopub.status.busy": "2025-06-08T06:38:17.754686Z",
     "iopub.status.idle": "2025-06-08T06:38:17.904095Z",
     "shell.execute_reply": "2025-06-08T06:38:17.902426Z"
    },
    "papermill": {
     "duration": 0.159111,
     "end_time": "2025-06-08T06:38:17.906452",
     "exception": false,
     "start_time": "2025-06-08T06:38:17.747341",
     "status": "completed"
    },
    "tags": []
   },
   "outputs": [],
   "source": [
    "course_resource = course.select(pl.col(['id','resource','name_trans'])).explode('resource')\n",
    "course_resource = course_resource.unnest(\"resource\")\n",
    "course_video = course_resource.filter(pl.col(\"resource_id\").str.starts_with(\"V\"))\n",
    "course_exercise = course_resource.filter(pl.col(\"resource_id\").str.starts_with(\"Ex\"))"
   ]
  },
  {
   "cell_type": "code",
   "execution_count": 4,
   "id": "0d460ef6",
   "metadata": {
    "execution": {
     "iopub.execute_input": "2025-06-08T06:38:17.922562Z",
     "iopub.status.busy": "2025-06-08T06:38:17.922004Z",
     "iopub.status.idle": "2025-06-08T06:38:17.941116Z",
     "shell.execute_reply": "2025-06-08T06:38:17.940062Z"
    },
    "papermill": {
     "duration": 0.029389,
     "end_time": "2025-06-08T06:38:17.942932",
     "exception": false,
     "start_time": "2025-06-08T06:38:17.913543",
     "status": "completed"
    },
    "tags": []
   },
   "outputs": [
    {
     "data": {
      "text/html": [
       "<div><style>\n",
       ".dataframe > thead > tr,\n",
       ".dataframe > tbody > tr {\n",
       "  text-align: right;\n",
       "  white-space: pre-wrap;\n",
       "}\n",
       "</style>\n",
       "<small>shape: (5, 5)</small><table border=\"1\" class=\"dataframe\"><thead><tr><th>id</th><th>titles</th><th>resource_id</th><th>chapter</th><th>name_trans</th></tr><tr><td>str</td><td>list[str]</td><td>str</td><td>str</td><td>str</td></tr></thead><tbody><tr><td>&quot;C_584313&quot;</td><td>[&quot;第一课 导论与三家分晋&quot;, &quot;导论&quot;, &quot;导论&quot;]</td><td>&quot;V_849&quot;</td><td>&quot;1.1.1&quot;</td><td>&quot;introduction to &quot;zizhi tongjia…</td></tr><tr><td>&quot;C_584313&quot;</td><td>[&quot;第一课 导论与三家分晋&quot;, &quot;智伯的覆亡&quot;, &quot;智伯的覆亡&quot;]</td><td>&quot;V_850&quot;</td><td>&quot;1.2.1&quot;</td><td>&quot;introduction to &quot;zizhi tongjia…</td></tr><tr><td>&quot;C_584313&quot;</td><td>[&quot;第一课 导论与三家分晋&quot;, &quot;智伯悲剧的反思&quot;, &quot;智伯的覆亡讨论&quot;]</td><td>&quot;V_851&quot;</td><td>&quot;1.3.1&quot;</td><td>&quot;introduction to &quot;zizhi tongjia…</td></tr><tr><td>&quot;C_584313&quot;</td><td>[&quot;第二课 战国前期的政治&quot;, &quot;魏文侯治国&quot;, &quot;魏文侯治国&quot;]</td><td>&quot;V_857&quot;</td><td>&quot;2.1.1&quot;</td><td>&quot;introduction to &quot;zizhi tongjia…</td></tr><tr><td>&quot;C_584313&quot;</td><td>[&quot;第二课 战国前期的政治&quot;, &quot;吴起的悲剧&quot;, &quot;吴起的悲剧&quot;]</td><td>&quot;V_859&quot;</td><td>&quot;2.2.1&quot;</td><td>&quot;introduction to &quot;zizhi tongjia…</td></tr></tbody></table></div>"
      ],
      "text/plain": [
       "shape: (5, 5)\n",
       "┌──────────┬───────────────────────────┬─────────────┬─────────┬───────────────────────────────────┐\n",
       "│ id       ┆ titles                    ┆ resource_id ┆ chapter ┆ name_trans                        │\n",
       "│ ---      ┆ ---                       ┆ ---         ┆ ---     ┆ ---                               │\n",
       "│ str      ┆ list[str]                 ┆ str         ┆ str     ┆ str                               │\n",
       "╞══════════╪═══════════════════════════╪═════════════╪═════════╪═══════════════════════════════════╡\n",
       "│ C_584313 ┆ [\"第一课 导论与三家分晋\", ┆ V_849       ┆ 1.1.1   ┆ introduction to \"zizhi tongjia…   │\n",
       "│          ┆ \"导论\", \"导论\"]           ┆             ┆         ┆                                   │\n",
       "│ C_584313 ┆ [\"第一课 导论与三家分晋\", ┆ V_850       ┆ 1.2.1   ┆ introduction to \"zizhi tongjia…   │\n",
       "│          ┆ \"智伯的覆亡\", \"智伯的覆…  ┆             ┆         ┆                                   │\n",
       "│ C_584313 ┆ [\"第一课 导论与三家分晋\", ┆ V_851       ┆ 1.3.1   ┆ introduction to \"zizhi tongjia…   │\n",
       "│          ┆ \"智伯悲剧的反思\", \"智伯…  ┆             ┆         ┆                                   │\n",
       "│ C_584313 ┆ [\"第二课 战国前期的政治\", ┆ V_857       ┆ 2.1.1   ┆ introduction to \"zizhi tongjia…   │\n",
       "│          ┆ \"魏文侯治国\", \"魏文侯治…  ┆             ┆         ┆                                   │\n",
       "│ C_584313 ┆ [\"第二课 战国前期的政治\", ┆ V_859       ┆ 2.2.1   ┆ introduction to \"zizhi tongjia…   │\n",
       "│          ┆ \"吴起的悲剧\", \"吴起的悲…  ┆             ┆         ┆                                   │\n",
       "└──────────┴───────────────────────────┴─────────────┴─────────┴───────────────────────────────────┘"
      ]
     },
     "execution_count": 4,
     "metadata": {},
     "output_type": "execute_result"
    }
   ],
   "source": [
    "course_video.head()"
   ]
  },
  {
   "cell_type": "code",
   "execution_count": 5,
   "id": "abe5116c",
   "metadata": {
    "execution": {
     "iopub.execute_input": "2025-06-08T06:38:17.957891Z",
     "iopub.status.busy": "2025-06-08T06:38:17.957512Z",
     "iopub.status.idle": "2025-06-08T06:38:17.962208Z",
     "shell.execute_reply": "2025-06-08T06:38:17.961124Z"
    },
    "papermill": {
     "duration": 0.014122,
     "end_time": "2025-06-08T06:38:17.964019",
     "exception": false,
     "start_time": "2025-06-08T06:38:17.949897",
     "status": "completed"
    },
    "tags": []
   },
   "outputs": [],
   "source": [
    "course_video = course_video.rename({\n",
    "    \"id\": \"course_id\",\n",
    "    \"titles\": \"titles\",\n",
    "    \"resource_id\": \"video_id\",\n",
    "    \"chapter\": \"chapter\",\n",
    "})"
   ]
  },
  {
   "cell_type": "code",
   "execution_count": 6,
   "id": "6badaf08",
   "metadata": {
    "execution": {
     "iopub.execute_input": "2025-06-08T06:38:17.980695Z",
     "iopub.status.busy": "2025-06-08T06:38:17.980367Z",
     "iopub.status.idle": "2025-06-08T06:38:17.987919Z",
     "shell.execute_reply": "2025-06-08T06:38:17.986373Z"
    },
    "papermill": {
     "duration": 0.019302,
     "end_time": "2025-06-08T06:38:17.990262",
     "exception": false,
     "start_time": "2025-06-08T06:38:17.970960",
     "status": "completed"
    },
    "tags": []
   },
   "outputs": [
    {
     "data": {
      "text/html": [
       "<div><style>\n",
       ".dataframe > thead > tr,\n",
       ".dataframe > tbody > tr {\n",
       "  text-align: right;\n",
       "  white-space: pre-wrap;\n",
       "}\n",
       "</style>\n",
       "<small>shape: (5, 5)</small><table border=\"1\" class=\"dataframe\"><thead><tr><th>id</th><th>titles</th><th>resource_id</th><th>chapter</th><th>name_trans</th></tr><tr><td>str</td><td>list[str]</td><td>str</td><td>str</td><td>str</td></tr></thead><tbody><tr><td>&quot;C_584313&quot;</td><td>[&quot;第一课 导论与三家分晋&quot;, null, &quot;第一课 导论与三家分晋--习题&quot;]</td><td>&quot;Ex_856&quot;</td><td>&quot;1.4&quot;</td><td>&quot;introduction to &quot;zizhi tongjia…</td></tr><tr><td>&quot;C_584313&quot;</td><td>[&quot;第二课 战国前期的政治&quot;, null, &quot;第二课 战国前期的政治--习题&quot;]</td><td>&quot;Ex_866&quot;</td><td>&quot;2.5&quot;</td><td>&quot;introduction to &quot;zizhi tongjia…</td></tr><tr><td>&quot;C_584313&quot;</td><td>[&quot;第三课 商鞅变法&quot;, null, &quot;第三课 商鞅变法--习题&quot;]</td><td>&quot;Ex_876&quot;</td><td>&quot;3.6&quot;</td><td>&quot;introduction to &quot;zizhi tongjia…</td></tr><tr><td>&quot;C_584313&quot;</td><td>[&quot;第四课 秦国的外交&quot;, null, &quot;第四课 秦国的外交--习题&quot;]</td><td>&quot;Ex_882&quot;</td><td>&quot;4.6&quot;</td><td>&quot;introduction to &quot;zizhi tongjia…</td></tr><tr><td>&quot;C_584313&quot;</td><td>[&quot;第五课 千古一帝&quot;, null, &quot;第五课 千古一帝--习题&quot;]</td><td>&quot;Ex_890&quot;</td><td>&quot;5.8&quot;</td><td>&quot;introduction to &quot;zizhi tongjia…</td></tr></tbody></table></div>"
      ],
      "text/plain": [
       "shape: (5, 5)\n",
       "┌──────────┬──────────────────────────────────────┬─────────────┬─────────┬────────────────────────┐\n",
       "│ id       ┆ titles                               ┆ resource_id ┆ chapter ┆ name_trans             │\n",
       "│ ---      ┆ ---                                  ┆ ---         ┆ ---     ┆ ---                    │\n",
       "│ str      ┆ list[str]                            ┆ str         ┆ str     ┆ str                    │\n",
       "╞══════════╪══════════════════════════════════════╪═════════════╪═════════╪════════════════════════╡\n",
       "│ C_584313 ┆ [\"第一课 导论与三家分晋\", null,      ┆ Ex_856      ┆ 1.4     ┆ introduction to \"zizhi │\n",
       "│          ┆ \"第一课 导论与…                      ┆             ┆         ┆ tongjia…               │\n",
       "│ C_584313 ┆ [\"第二课 战国前期的政治\", null,      ┆ Ex_866      ┆ 2.5     ┆ introduction to \"zizhi │\n",
       "│          ┆ \"第二课 战国前…                      ┆             ┆         ┆ tongjia…               │\n",
       "│ C_584313 ┆ [\"第三课 商鞅变法\", null, \"第三课    ┆ Ex_876      ┆ 3.6     ┆ introduction to \"zizhi │\n",
       "│          ┆ 商鞅变法--…                          ┆             ┆         ┆ tongjia…               │\n",
       "│ C_584313 ┆ [\"第四课 秦国的外交\", null, \"第四课  ┆ Ex_882      ┆ 4.6     ┆ introduction to \"zizhi │\n",
       "│          ┆ 秦国的外交…                          ┆             ┆         ┆ tongjia…               │\n",
       "│ C_584313 ┆ [\"第五课 千古一帝\", null, \"第五课    ┆ Ex_890      ┆ 5.8     ┆ introduction to \"zizhi │\n",
       "│          ┆ 千古一帝--…                          ┆             ┆         ┆ tongjia…               │\n",
       "└──────────┴──────────────────────────────────────┴─────────────┴─────────┴────────────────────────┘"
      ]
     },
     "execution_count": 6,
     "metadata": {},
     "output_type": "execute_result"
    }
   ],
   "source": [
    "course_exercise.head()"
   ]
  },
  {
   "cell_type": "code",
   "execution_count": 7,
   "id": "dce0baa1",
   "metadata": {
    "execution": {
     "iopub.execute_input": "2025-06-08T06:38:18.013069Z",
     "iopub.status.busy": "2025-06-08T06:38:18.012171Z",
     "iopub.status.idle": "2025-06-08T06:38:18.022057Z",
     "shell.execute_reply": "2025-06-08T06:38:18.019192Z"
    },
    "papermill": {
     "duration": 0.026956,
     "end_time": "2025-06-08T06:38:18.026172",
     "exception": false,
     "start_time": "2025-06-08T06:38:17.999216",
     "status": "completed"
    },
    "tags": []
   },
   "outputs": [],
   "source": [
    "course_exercise = course_exercise.rename({\n",
    "    \"id\": \"course_id\",\n",
    "    \"titles\": \"titles\",\n",
    "    \"resource_id\": \"exercise_id\",\n",
    "    \"chapter\": \"chapter\",\n",
    "})"
   ]
  },
  {
   "cell_type": "code",
   "execution_count": 8,
   "id": "d04c26f2",
   "metadata": {
    "execution": {
     "iopub.execute_input": "2025-06-08T06:38:18.049635Z",
     "iopub.status.busy": "2025-06-08T06:38:18.048972Z",
     "iopub.status.idle": "2025-06-08T06:40:38.659381Z",
     "shell.execute_reply": "2025-06-08T06:40:38.657123Z"
    },
    "papermill": {
     "duration": 140.626772,
     "end_time": "2025-06-08T06:40:38.664129",
     "exception": false,
     "start_time": "2025-06-08T06:38:18.037357",
     "status": "completed"
    },
    "tags": []
   },
   "outputs": [],
   "source": [
    "user_video = pl.read_ndjson('/kaggle/input/mooccubex-relations/user-video.json')"
   ]
  },
  {
   "cell_type": "code",
   "execution_count": 9,
   "id": "3539081e",
   "metadata": {
    "execution": {
     "iopub.execute_input": "2025-06-08T06:40:38.685190Z",
     "iopub.status.busy": "2025-06-08T06:40:38.684728Z",
     "iopub.status.idle": "2025-06-08T06:40:38.696539Z",
     "shell.execute_reply": "2025-06-08T06:40:38.695371Z"
    },
    "papermill": {
     "duration": 0.022615,
     "end_time": "2025-06-08T06:40:38.698393",
     "exception": false,
     "start_time": "2025-06-08T06:40:38.675778",
     "status": "completed"
    },
    "tags": []
   },
   "outputs": [
    {
     "data": {
      "text/html": [
       "<div><style>\n",
       ".dataframe > thead > tr,\n",
       ".dataframe > tbody > tr {\n",
       "  text-align: right;\n",
       "  white-space: pre-wrap;\n",
       "}\n",
       "</style>\n",
       "<small>shape: (5, 2)</small><table border=\"1\" class=\"dataframe\"><thead><tr><th>seq</th><th>user_id</th></tr><tr><td>list[struct[2]]</td><td>str</td></tr></thead><tbody><tr><td>[{&quot;V_1395633&quot;,[{130.0,190.0,1.0,1588431144}, {220.0,250.0,1.0,1588431234}, … {655.1,692.55,1.25,1588437514}]}, {&quot;V_1395635&quot;,[{135.0,170.0,1.0,1588438045}]}, … {&quot;V_6210800&quot;,[{6.0,13.5,1.5,1601012899}]}]</td><td>&quot;U_112&quot;</td></tr><tr><td>[{&quot;V_6224262&quot;,[{286.0,506.0,2.0,1604061626}]}]</td><td>&quot;U_150&quot;</td></tr><tr><td>[{&quot;V_6432959&quot;,[{4552.1,4556.8,1.0,1598192594}]}]</td><td>&quot;U_172&quot;</td></tr><tr><td>[{&quot;V_6334508&quot;,[{4.0,109.0,1.0,1598832781}, {119.0,254.0,1.0,1598832896}]}, {&quot;V_6334516&quot;,[{593.0,598.0,1.0,1598834837}]}, … {&quot;V_6254676&quot;,[{5.0,105.0,1.0,1603849805}]}]</td><td>&quot;U_189&quot;</td></tr><tr><td>[{&quot;V_1358540&quot;,[{59.747,64.747,1.0,1582184174}, {69.795,74.795,1.0,1582184184}, … {584.751,589.751,1.0,1582186212}]}, {&quot;V_1358542&quot;,[{124.588,129.588,1.0,1582186455}, {194.608,199.608,1.0,1582186525}, … {579.763,584.763,1.0,1582186910}]}, … {&quot;V_1358782&quot;,[{350.2,395.3,1.5,1587530324}, {492.6,95.4,1.5,1587530419}]}]</td><td>&quot;U_197&quot;</td></tr></tbody></table></div>"
      ],
      "text/plain": [
       "shape: (5, 2)\n",
       "┌─────────────────────────────────┬─────────┐\n",
       "│ seq                             ┆ user_id │\n",
       "│ ---                             ┆ ---     │\n",
       "│ list[struct[2]]                 ┆ str     │\n",
       "╞═════════════════════════════════╪═════════╡\n",
       "│ [{\"V_1395633\",[{130.0,190.0,1.… ┆ U_112   │\n",
       "│ [{\"V_6224262\",[{286.0,506.0,2.… ┆ U_150   │\n",
       "│ [{\"V_6432959\",[{4552.1,4556.8,… ┆ U_172   │\n",
       "│ [{\"V_6334508\",[{4.0,109.0,1.0,… ┆ U_189   │\n",
       "│ [{\"V_1358540\",[{59.747,64.747,… ┆ U_197   │\n",
       "└─────────────────────────────────┴─────────┘"
      ]
     },
     "execution_count": 9,
     "metadata": {},
     "output_type": "execute_result"
    }
   ],
   "source": [
    "user_video.head()"
   ]
  },
  {
   "cell_type": "code",
   "execution_count": 10,
   "id": "e97651ac",
   "metadata": {
    "execution": {
     "iopub.execute_input": "2025-06-08T06:40:38.714108Z",
     "iopub.status.busy": "2025-06-08T06:40:38.713624Z",
     "iopub.status.idle": "2025-06-08T06:40:45.892455Z",
     "shell.execute_reply": "2025-06-08T06:40:45.891283Z"
    },
    "papermill": {
     "duration": 7.189096,
     "end_time": "2025-06-08T06:40:45.894643",
     "exception": false,
     "start_time": "2025-06-08T06:40:38.705547",
     "status": "completed"
    },
    "tags": []
   },
   "outputs": [],
   "source": [
    "user_video = user_video.select(pl.col(['user_id','seq'])).explode('seq')\n",
    "user_video = user_video.unnest(\"seq\")\n",
    "user_video = user_video.explode('segment')\n",
    "user_video = user_video.unnest(\"segment\")"
   ]
  },
  {
   "cell_type": "code",
   "execution_count": 11,
   "id": "a47a4f7d",
   "metadata": {
    "execution": {
     "iopub.execute_input": "2025-06-08T06:40:45.911986Z",
     "iopub.status.busy": "2025-06-08T06:40:45.911551Z",
     "iopub.status.idle": "2025-06-08T06:40:45.919455Z",
     "shell.execute_reply": "2025-06-08T06:40:45.918271Z"
    },
    "papermill": {
     "duration": 0.018485,
     "end_time": "2025-06-08T06:40:45.921422",
     "exception": false,
     "start_time": "2025-06-08T06:40:45.902937",
     "status": "completed"
    },
    "tags": []
   },
   "outputs": [
    {
     "data": {
      "text/html": [
       "<div><style>\n",
       ".dataframe > thead > tr,\n",
       ".dataframe > tbody > tr {\n",
       "  text-align: right;\n",
       "  white-space: pre-wrap;\n",
       "}\n",
       "</style>\n",
       "<small>shape: (25_748_664, 6)</small><table border=\"1\" class=\"dataframe\"><thead><tr><th>user_id</th><th>video_id</th><th>start_point</th><th>end_point</th><th>speed</th><th>local_start_time</th></tr><tr><td>str</td><td>str</td><td>f64</td><td>f64</td><td>f64</td><td>i64</td></tr></thead><tbody><tr><td>&quot;U_112&quot;</td><td>&quot;V_1395633&quot;</td><td>130.0</td><td>190.0</td><td>1.0</td><td>1588431144</td></tr><tr><td>&quot;U_112&quot;</td><td>&quot;V_1395633&quot;</td><td>220.0</td><td>250.0</td><td>1.0</td><td>1588431234</td></tr><tr><td>&quot;U_112&quot;</td><td>&quot;V_1395633&quot;</td><td>478.8</td><td>508.8</td><td>1.0</td><td>1588437359</td></tr><tr><td>&quot;U_112&quot;</td><td>&quot;V_1395633&quot;</td><td>655.1</td><td>692.55</td><td>1.25</td><td>1588437514</td></tr><tr><td>&quot;U_112&quot;</td><td>&quot;V_1395635&quot;</td><td>135.0</td><td>170.0</td><td>1.0</td><td>1588438045</td></tr><tr><td>&hellip;</td><td>&hellip;</td><td>&hellip;</td><td>&hellip;</td><td>&hellip;</td><td>&hellip;</td></tr><tr><td>&quot;U_36053952&quot;</td><td>&quot;V_8244595&quot;</td><td>428.2</td><td>443.2</td><td>1.0</td><td>1604148171</td></tr><tr><td>&quot;U_36053952&quot;</td><td>&quot;V_8244595&quot;</td><td>1170.2</td><td>1180.2</td><td>1.0</td><td>1604148186</td></tr><tr><td>&quot;U_36053952&quot;</td><td>&quot;V_8244595&quot;</td><td>1876.0</td><td>1881.0</td><td>1.0</td><td>1604148196</td></tr><tr><td>&quot;U_36053959&quot;</td><td>&quot;V_6106087&quot;</td><td>4.9</td><td>9.9</td><td>1.0</td><td>1604148201</td></tr><tr><td>&quot;U_36053959&quot;</td><td>&quot;V_6106087&quot;</td><td>17.4</td><td>67.4</td><td>2.0</td><td>1604148237</td></tr></tbody></table></div>"
      ],
      "text/plain": [
       "shape: (25_748_664, 6)\n",
       "┌────────────┬───────────┬─────────────┬───────────┬───────┬──────────────────┐\n",
       "│ user_id    ┆ video_id  ┆ start_point ┆ end_point ┆ speed ┆ local_start_time │\n",
       "│ ---        ┆ ---       ┆ ---         ┆ ---       ┆ ---   ┆ ---              │\n",
       "│ str        ┆ str       ┆ f64         ┆ f64       ┆ f64   ┆ i64              │\n",
       "╞════════════╪═══════════╪═════════════╪═══════════╪═══════╪══════════════════╡\n",
       "│ U_112      ┆ V_1395633 ┆ 130.0       ┆ 190.0     ┆ 1.0   ┆ 1588431144       │\n",
       "│ U_112      ┆ V_1395633 ┆ 220.0       ┆ 250.0     ┆ 1.0   ┆ 1588431234       │\n",
       "│ U_112      ┆ V_1395633 ┆ 478.8       ┆ 508.8     ┆ 1.0   ┆ 1588437359       │\n",
       "│ U_112      ┆ V_1395633 ┆ 655.1       ┆ 692.55    ┆ 1.25  ┆ 1588437514       │\n",
       "│ U_112      ┆ V_1395635 ┆ 135.0       ┆ 170.0     ┆ 1.0   ┆ 1588438045       │\n",
       "│ …          ┆ …         ┆ …           ┆ …         ┆ …     ┆ …                │\n",
       "│ U_36053952 ┆ V_8244595 ┆ 428.2       ┆ 443.2     ┆ 1.0   ┆ 1604148171       │\n",
       "│ U_36053952 ┆ V_8244595 ┆ 1170.2      ┆ 1180.2    ┆ 1.0   ┆ 1604148186       │\n",
       "│ U_36053952 ┆ V_8244595 ┆ 1876.0      ┆ 1881.0    ┆ 1.0   ┆ 1604148196       │\n",
       "│ U_36053959 ┆ V_6106087 ┆ 4.9         ┆ 9.9       ┆ 1.0   ┆ 1604148201       │\n",
       "│ U_36053959 ┆ V_6106087 ┆ 17.4        ┆ 67.4      ┆ 2.0   ┆ 1604148237       │\n",
       "└────────────┴───────────┴─────────────┴───────────┴───────┴──────────────────┘"
      ]
     },
     "execution_count": 11,
     "metadata": {},
     "output_type": "execute_result"
    }
   ],
   "source": [
    "user_video"
   ]
  },
  {
   "cell_type": "code",
   "execution_count": 12,
   "id": "e3a5934c",
   "metadata": {
    "execution": {
     "iopub.execute_input": "2025-06-08T06:40:45.938441Z",
     "iopub.status.busy": "2025-06-08T06:40:45.938085Z",
     "iopub.status.idle": "2025-06-08T06:40:48.380588Z",
     "shell.execute_reply": "2025-06-08T06:40:48.379304Z"
    },
    "papermill": {
     "duration": 2.454045,
     "end_time": "2025-06-08T06:40:48.383331",
     "exception": false,
     "start_time": "2025-06-08T06:40:45.929286",
     "status": "completed"
    },
    "tags": []
   },
   "outputs": [],
   "source": [
    "user_video = user_video.group_by([\"user_id\", \"video_id\"]).agg([\n",
    "    pl.col(\"start_point\").alias(\"start_list\"),\n",
    "    pl.col(\"end_point\").alias(\"end_list\"),\n",
    "    pl.col(\"speed\"),\n",
    "    pl.col(\"local_start_time\"),\n",
    "])"
   ]
  },
  {
   "cell_type": "code",
   "execution_count": 13,
   "id": "d4caeb9d",
   "metadata": {
    "execution": {
     "iopub.execute_input": "2025-06-08T06:40:48.403680Z",
     "iopub.status.busy": "2025-06-08T06:40:48.403195Z",
     "iopub.status.idle": "2025-06-08T06:41:25.294691Z",
     "shell.execute_reply": "2025-06-08T06:41:25.293489Z"
    },
    "papermill": {
     "duration": 36.902587,
     "end_time": "2025-06-08T06:41:25.297133",
     "exception": false,
     "start_time": "2025-06-08T06:40:48.394546",
     "status": "completed"
    },
    "tags": []
   },
   "outputs": [],
   "source": [
    "def merge_intervals_polars(df):\n",
    "    \"\"\" Gộp khoảng thời gian bị trùng và tính tổng thời lượng đã xem thực tế \"\"\"\n",
    "    results = []\n",
    "    \n",
    "    for start_list, end_list in zip(df[\"start_list\"], df[\"end_list\"]):\n",
    "        if start_list.is_empty() or end_list.is_empty():  # Tránh lỗi danh sách rỗng\n",
    "            results.append(0.0)\n",
    "            continue\n",
    "        \n",
    "        intervals = sorted(zip(start_list, end_list))  # Sắp xếp theo start\n",
    "        merged = []\n",
    "        current_start, current_end = intervals[0]\n",
    "\n",
    "        for start, end in intervals[1:]:\n",
    "            if start <= current_end:  # Nếu trùng nhau, mở rộng khoảng\n",
    "                current_end = max(current_end, end)\n",
    "            else:  # Nếu không trùng, lưu khoảng trước đó và bắt đầu mới\n",
    "                merged.append((current_start, current_end))\n",
    "                current_start, current_end = start, end\n",
    "\n",
    "        merged.append((current_start, current_end))  # Thêm khoảng cuối\n",
    "        actual_watch_time = sum(end - start for start, end in merged)\n",
    "        results.append(actual_watch_time)\n",
    "\n",
    "    return results\n",
    "\n",
    "# Tính thời lượng đã xem\n",
    "user_video = user_video.with_columns([\n",
    "    (pl.col(\"end_list\") - pl.col(\"start_list\")).list.sum().alias(\"total_watch_time\"),  # Tổng thời gian (có trùng)\n",
    "    pl.Series(\"actual_watch_time\", merge_intervals_polars(user_video))  # Gọi hàm xử lý toàn bộ dataframe\n",
    "])"
   ]
  },
  {
   "cell_type": "code",
   "execution_count": 14,
   "id": "e8c15f7d",
   "metadata": {
    "execution": {
     "iopub.execute_input": "2025-06-08T06:41:25.313896Z",
     "iopub.status.busy": "2025-06-08T06:41:25.313483Z",
     "iopub.status.idle": "2025-06-08T06:41:25.406082Z",
     "shell.execute_reply": "2025-06-08T06:41:25.404710Z"
    },
    "papermill": {
     "duration": 0.103153,
     "end_time": "2025-06-08T06:41:25.408105",
     "exception": false,
     "start_time": "2025-06-08T06:41:25.304952",
     "status": "completed"
    },
    "tags": []
   },
   "outputs": [],
   "source": [
    "user_video.head()\n",
    "user_video = user_video[['user_id','video_id','total_watch_time','actual_watch_time']]\n"
   ]
  },
  {
   "cell_type": "code",
   "execution_count": 15,
   "id": "54fecf71",
   "metadata": {
    "execution": {
     "iopub.execute_input": "2025-06-08T06:41:25.424231Z",
     "iopub.status.busy": "2025-06-08T06:41:25.423772Z",
     "iopub.status.idle": "2025-06-08T06:41:25.497903Z",
     "shell.execute_reply": "2025-06-08T06:41:25.496706Z"
    },
    "papermill": {
     "duration": 0.084488,
     "end_time": "2025-06-08T06:41:25.499982",
     "exception": false,
     "start_time": "2025-06-08T06:41:25.415494",
     "status": "completed"
    },
    "tags": []
   },
   "outputs": [
    {
     "data": {
      "text/html": [
       "<div><style>\n",
       ".dataframe > thead > tr,\n",
       ".dataframe > tbody > tr {\n",
       "  text-align: right;\n",
       "  white-space: pre-wrap;\n",
       "}\n",
       "</style>\n",
       "<small>shape: (5, 6)</small><table border=\"1\" class=\"dataframe\"><thead><tr><th>ccid</th><th>name</th><th>start</th><th>end</th><th>text</th><th>video_duration</th></tr><tr><td>str</td><td>str</td><td>list[f64]</td><td>list[f64]</td><td>list[str]</td><td>f64</td></tr></thead><tbody><tr><td>&quot;0001603F826A3DDA9C33DC59013074…</td><td>&quot;Video&quot;</td><td>[1.031, 7.095, … 504.247]</td><td>[4.255, 8.119, … 509.095]</td><td>[&quot;第二个就是短助记符在生成上面。有一个规定&quot;, &quot;短助记符是这样说&quot;, … &quot;那么它的要求在它都会在那个命令集的定义的时候把它明确的说出来。&quot;]</td><td>509.095</td></tr><tr><td>&quot;0003DB14A14A53279C33DC59013074…</td><td>&quot;Video&quot;</td><td>[11.799, 12.581, … 365.129]</td><td>[12.581, 17.38, … 367.336]</td><td>[&quot;大家好&quot;, &quot;今天我们讨论一维系统辐射传递一般近似解&quot;, … &quot;多维系统下的通用问题&quot;]</td><td>367.336</td></tr><tr><td>&quot;0004A5C6F07E369D9C33DC59013074…</td><td>&quot;家禽的消化系统&quot;</td><td>[19.2, 20.84, … 491.277]</td><td>[20.83, 23.39, … 492.315]</td><td>[&quot;各位同学 大家好&quot;, &quot;我是来自中国农业大学的曹静&quot;, … &quot;是胰腺&quot;]</td><td>492.315</td></tr><tr><td>&quot;00059EBD1371A6959C33DC59013074…</td><td>&quot;1.2 计算机硬件系统&quot;</td><td>[19.372, 190.522, … 626.853]</td><td>[23.14, 194.458, … 630.757]</td><td>[&quot;大家好 本视频介绍计算机硬件系统&quot;, &quot;总线就其类别来说 在计算机系统当中包括&quot;, … &quot;待数据交换结束之后  再中断CPU善后&quot;]</td><td>630.757</td></tr><tr><td>&quot;0005D1DC01B4EF8F9C33DC59013074…</td><td>&quot;什么是供应链网络&quot;</td><td>[24.33, 25.081, … 408.031]</td><td>[25.08, 26.775, … 408.75]</td><td>[&quot;大家好&quot;, &quot;今天我们学习的知识点&quot;, … &quot;谢谢大家&quot;]</td><td>408.75</td></tr></tbody></table></div>"
      ],
      "text/plain": [
       "shape: (5, 6)\n",
       "┌─────────────────┬────────────────┬────────────────┬────────────┬────────────────┬────────────────┐\n",
       "│ ccid            ┆ name           ┆ start          ┆ end        ┆ text           ┆ video_duration │\n",
       "│ ---             ┆ ---            ┆ ---            ┆ ---        ┆ ---            ┆ ---            │\n",
       "│ str             ┆ str            ┆ list[f64]      ┆ list[f64]  ┆ list[str]      ┆ f64            │\n",
       "╞═════════════════╪════════════════╪════════════════╪════════════╪════════════════╪════════════════╡\n",
       "│ 0001603F826A3DD ┆ Video          ┆ [1.031, 7.095, ┆ [4.255,    ┆ [\"第二个就是短 ┆ 509.095        │\n",
       "│ A9C33DC59013074 ┆                ┆ … 504.247]     ┆ 8.119, …   ┆ 助记符在生成上 ┆                │\n",
       "│ …               ┆                ┆                ┆ 509.095]   ┆ 面。有一个规定 ┆                │\n",
       "│                 ┆                ┆                ┆            ┆ \", \"短助记符…  ┆                │\n",
       "│ 0003DB14A14A532 ┆ Video          ┆ [11.799,       ┆ [12.581,   ┆ [\"大家好\", \"今 ┆ 367.336        │\n",
       "│ 79C33DC59013074 ┆                ┆ 12.581, …      ┆ 17.38, …   ┆ 天我们讨论一维 ┆                │\n",
       "│ …               ┆                ┆ 365.129]       ┆ 367.336]   ┆ 系统辐射传递一 ┆                │\n",
       "│                 ┆                ┆                ┆            ┆ 般近似解\",…    ┆                │\n",
       "│ 0004A5C6F07E369 ┆ 家禽的消化系统 ┆ [19.2, 20.84,  ┆ [20.83,    ┆ [\"各位同学     ┆ 492.315        │\n",
       "│ D9C33DC59013074 ┆                ┆ … 491.277]     ┆ 23.39, …   ┆ 大家好\", \"我是 ┆                │\n",
       "│ …               ┆                ┆                ┆ 492.315]   ┆ 来自中国农业大 ┆                │\n",
       "│                 ┆                ┆                ┆            ┆ 学的曹静\", …   ┆                │\n",
       "│ 00059EBD1371A69 ┆ 1.2            ┆ [19.372,       ┆ [23.14,    ┆ [\"大家好 本视  ┆ 630.757        │\n",
       "│ 59C33DC59013074 ┆ 计算机硬件系统 ┆ 190.522, …     ┆ 194.458, … ┆ 频介绍计算机硬 ┆                │\n",
       "│ …               ┆                ┆ 626.853]       ┆ 630.757]   ┆ 件系统\", \"总线 ┆                │\n",
       "│                 ┆                ┆                ┆            ┆ 就其类别来说…  ┆                │\n",
       "│ 0005D1DC01B4EF8 ┆ 什么是供应链网 ┆ [24.33,        ┆ [25.08,    ┆ [\"大家好\", \"今 ┆ 408.75         │\n",
       "│ F9C33DC59013074 ┆ 络             ┆ 25.081, …      ┆ 26.775, …  ┆ 天我们学习的知 ┆                │\n",
       "│ …               ┆                ┆ 408.031]       ┆ 408.75]    ┆ 识点\", …       ┆                │\n",
       "│                 ┆                ┆                ┆            ┆ \"谢谢大家\"…    ┆                │\n",
       "└─────────────────┴────────────────┴────────────────┴────────────┴────────────────┴────────────────┘"
      ]
     },
     "metadata": {},
     "output_type": "display_data"
    }
   ],
   "source": [
    "video = video.with_columns(\n",
    "    pl.col(\"end\").list.last().alias(\"video_duration\")\n",
    ")\n",
    "display(video.head())\n",
    "video = video[['ccid','video_duration']]"
   ]
  },
  {
   "cell_type": "code",
   "execution_count": 16,
   "id": "fe7f0bf2",
   "metadata": {
    "execution": {
     "iopub.execute_input": "2025-06-08T06:41:25.516451Z",
     "iopub.status.busy": "2025-06-08T06:41:25.516064Z",
     "iopub.status.idle": "2025-06-08T06:41:25.523407Z",
     "shell.execute_reply": "2025-06-08T06:41:25.522181Z"
    },
    "papermill": {
     "duration": 0.017885,
     "end_time": "2025-06-08T06:41:25.525530",
     "exception": false,
     "start_time": "2025-06-08T06:41:25.507645",
     "status": "completed"
    },
    "tags": []
   },
   "outputs": [
    {
     "data": {
      "text/html": [
       "<div><style>\n",
       ".dataframe > thead > tr,\n",
       ".dataframe > tbody > tr {\n",
       "  text-align: right;\n",
       "  white-space: pre-wrap;\n",
       "}\n",
       "</style>\n",
       "<small>shape: (5, 4)</small><table border=\"1\" class=\"dataframe\"><thead><tr><th>user_id</th><th>video_id</th><th>total_watch_time</th><th>actual_watch_time</th></tr><tr><td>str</td><td>str</td><td>f64</td><td>f64</td></tr></thead><tbody><tr><td>&quot;U_15767679&quot;</td><td>&quot;V_6340530&quot;</td><td>388.174</td><td>388.174</td></tr><tr><td>&quot;U_16097788&quot;</td><td>&quot;V_1395635&quot;</td><td>59.7</td><td>59.7</td></tr><tr><td>&quot;U_33771074&quot;</td><td>&quot;V_7592810&quot;</td><td>645.0</td><td>645.0</td></tr><tr><td>&quot;U_32440729&quot;</td><td>&quot;V_7472597&quot;</td><td>340.0</td><td>340.0</td></tr><tr><td>&quot;U_19842780&quot;</td><td>&quot;V_1358727&quot;</td><td>25.0</td><td>25.0</td></tr></tbody></table></div>"
      ],
      "text/plain": [
       "shape: (5, 4)\n",
       "┌────────────┬───────────┬──────────────────┬───────────────────┐\n",
       "│ user_id    ┆ video_id  ┆ total_watch_time ┆ actual_watch_time │\n",
       "│ ---        ┆ ---       ┆ ---              ┆ ---               │\n",
       "│ str        ┆ str       ┆ f64              ┆ f64               │\n",
       "╞════════════╪═══════════╪══════════════════╪═══════════════════╡\n",
       "│ U_15767679 ┆ V_6340530 ┆ 388.174          ┆ 388.174           │\n",
       "│ U_16097788 ┆ V_1395635 ┆ 59.7             ┆ 59.7              │\n",
       "│ U_33771074 ┆ V_7592810 ┆ 645.0            ┆ 645.0             │\n",
       "│ U_32440729 ┆ V_7472597 ┆ 340.0            ┆ 340.0             │\n",
       "│ U_19842780 ┆ V_1358727 ┆ 25.0             ┆ 25.0              │\n",
       "└────────────┴───────────┴──────────────────┴───────────────────┘"
      ]
     },
     "execution_count": 16,
     "metadata": {},
     "output_type": "execute_result"
    }
   ],
   "source": [
    "user_video.head()"
   ]
  },
  {
   "cell_type": "code",
   "execution_count": 17,
   "id": "d77dcdbe",
   "metadata": {
    "execution": {
     "iopub.execute_input": "2025-06-08T06:41:25.542904Z",
     "iopub.status.busy": "2025-06-08T06:41:25.542513Z",
     "iopub.status.idle": "2025-06-08T06:41:30.309767Z",
     "shell.execute_reply": "2025-06-08T06:41:30.308393Z"
    },
    "papermill": {
     "duration": 4.778545,
     "end_time": "2025-06-08T06:41:30.311978",
     "exception": false,
     "start_time": "2025-06-08T06:41:25.533433",
     "status": "completed"
    },
    "tags": []
   },
   "outputs": [
    {
     "data": {
      "text/html": [
       "<div><style>\n",
       ".dataframe > thead > tr,\n",
       ".dataframe > tbody > tr {\n",
       "  text-align: right;\n",
       "  white-space: pre-wrap;\n",
       "}\n",
       "</style>\n",
       "<small>shape: (5, 2)</small><table border=\"1\" class=\"dataframe\"><thead><tr><th>video_id</th><th>ccid</th></tr><tr><td>str</td><td>str</td></tr></thead><tbody><tr><td>&quot;V_234845&quot;</td><td>&quot;0000363DB5B6E0869C33DC59013074…</td></tr><tr><td>&quot;V_234876&quot;</td><td>&quot;0000363DB5B6E0869C33DC59013074…</td></tr><tr><td>&quot;V_234907&quot;</td><td>&quot;0000363DB5B6E0869C33DC59013074…</td></tr><tr><td>&quot;V_293392&quot;</td><td>&quot;0000363DB5B6E0869C33DC59013074…</td></tr><tr><td>&quot;V_293445&quot;</td><td>&quot;0000363DB5B6E0869C33DC59013074…</td></tr></tbody></table></div>"
      ],
      "text/plain": [
       "shape: (5, 2)\n",
       "┌──────────┬─────────────────────────────────┐\n",
       "│ video_id ┆ ccid                            │\n",
       "│ ---      ┆ ---                             │\n",
       "│ str      ┆ str                             │\n",
       "╞══════════╪═════════════════════════════════╡\n",
       "│ V_234845 ┆ 0000363DB5B6E0869C33DC59013074… │\n",
       "│ V_234876 ┆ 0000363DB5B6E0869C33DC59013074… │\n",
       "│ V_234907 ┆ 0000363DB5B6E0869C33DC59013074… │\n",
       "│ V_293392 ┆ 0000363DB5B6E0869C33DC59013074… │\n",
       "│ V_293445 ┆ 0000363DB5B6E0869C33DC59013074… │\n",
       "└──────────┴─────────────────────────────────┘"
      ]
     },
     "metadata": {},
     "output_type": "display_data"
    },
    {
     "data": {
      "text/html": [
       "<div><style>\n",
       ".dataframe > thead > tr,\n",
       ".dataframe > tbody > tr {\n",
       "  text-align: right;\n",
       "  white-space: pre-wrap;\n",
       "}\n",
       "</style>\n",
       "<small>shape: (9, 3)</small><table border=\"1\" class=\"dataframe\"><thead><tr><th>statistic</th><th>video_id</th><th>ccid</th></tr><tr><td>str</td><td>str</td><td>str</td></tr></thead><tbody><tr><td>&quot;count&quot;</td><td>&quot;2798892&quot;</td><td>&quot;2798892&quot;</td></tr><tr><td>&quot;null_count&quot;</td><td>&quot;0&quot;</td><td>&quot;0&quot;</td></tr><tr><td>&quot;mean&quot;</td><td>null</td><td>null</td></tr><tr><td>&quot;std&quot;</td><td>null</td><td>null</td></tr><tr><td>&quot;min&quot;</td><td>&quot;V_1&quot;</td><td>&quot;0000363DB5B6E0869C33DC59013074…</td></tr><tr><td>&quot;25%&quot;</td><td>null</td><td>null</td></tr><tr><td>&quot;50%&quot;</td><td>null</td><td>null</td></tr><tr><td>&quot;75%&quot;</td><td>null</td><td>null</td></tr><tr><td>&quot;max&quot;</td><td>&quot;V_999997&quot;</td><td>&quot;FFFFD001230958A39C33DC59013074…</td></tr></tbody></table></div>"
      ],
      "text/plain": [
       "shape: (9, 3)\n",
       "┌────────────┬──────────┬─────────────────────────────────┐\n",
       "│ statistic  ┆ video_id ┆ ccid                            │\n",
       "│ ---        ┆ ---      ┆ ---                             │\n",
       "│ str        ┆ str      ┆ str                             │\n",
       "╞════════════╪══════════╪═════════════════════════════════╡\n",
       "│ count      ┆ 2798892  ┆ 2798892                         │\n",
       "│ null_count ┆ 0        ┆ 0                               │\n",
       "│ mean       ┆ null     ┆ null                            │\n",
       "│ std        ┆ null     ┆ null                            │\n",
       "│ min        ┆ V_1      ┆ 0000363DB5B6E0869C33DC59013074… │\n",
       "│ 25%        ┆ null     ┆ null                            │\n",
       "│ 50%        ┆ null     ┆ null                            │\n",
       "│ 75%        ┆ null     ┆ null                            │\n",
       "│ max        ┆ V_999997 ┆ FFFFD001230958A39C33DC59013074… │\n",
       "└────────────┴──────────┴─────────────────────────────────┘"
      ]
     },
     "metadata": {},
     "output_type": "display_data"
    }
   ],
   "source": [
    "# Define your column names\n",
    "column_names = ['video_id', 'ccid']\n",
    "\n",
    "video_ccid = pd.read_csv('/kaggle/input/mooccubex-relations/video_id-ccid.txt', header=None, names=column_names, sep='\\t')\n",
    "video_ccid = pl.from_pandas(video_ccid)\n",
    "display(video_ccid.head())\n",
    "display(video_ccid.describe())"
   ]
  },
  {
   "cell_type": "code",
   "execution_count": 18,
   "id": "ca3e80b9",
   "metadata": {
    "execution": {
     "iopub.execute_input": "2025-06-08T06:41:30.331565Z",
     "iopub.status.busy": "2025-06-08T06:41:30.331196Z",
     "iopub.status.idle": "2025-06-08T06:41:30.908970Z",
     "shell.execute_reply": "2025-06-08T06:41:30.907599Z"
    },
    "papermill": {
     "duration": 0.589828,
     "end_time": "2025-06-08T06:41:30.911340",
     "exception": false,
     "start_time": "2025-06-08T06:41:30.321512",
     "status": "completed"
    },
    "tags": []
   },
   "outputs": [
    {
     "data": {
      "text/html": [
       "<div><style>\n",
       ".dataframe > thead > tr,\n",
       ".dataframe > tbody > tr {\n",
       "  text-align: right;\n",
       "  white-space: pre-wrap;\n",
       "}\n",
       "</style>\n",
       "<small>shape: (2_798_892, 2)</small><table border=\"1\" class=\"dataframe\"><thead><tr><th>video_id</th><th>ccid</th></tr><tr><td>str</td><td>str</td></tr></thead><tbody><tr><td>&quot;V_3599048&quot;</td><td>&quot;F6B72F55B936F6729C33DC59013074…</td></tr><tr><td>&quot;V_3939509&quot;</td><td>&quot;1E2E28C764400BD99C33DC59013074…</td></tr><tr><td>&quot;V_1137279&quot;</td><td>&quot;71B02DDBCABB64229C33DC59013074…</td></tr><tr><td>&quot;V_8196393&quot;</td><td>&quot;9E90771E62B504F19C33DC59013074…</td></tr><tr><td>&quot;V_6888492&quot;</td><td>&quot;1AADB63D87343DAC9C33DC59013074…</td></tr><tr><td>&hellip;</td><td>&hellip;</td></tr><tr><td>&quot;V_7168785&quot;</td><td>&quot;0D55B16A6E841CBD9C33DC59013074…</td></tr><tr><td>&quot;V_7639583&quot;</td><td>&quot;DFA0BAF0D15339D89C33DC59013074…</td></tr><tr><td>&quot;V_4515580&quot;</td><td>&quot;F396B59281D2A4C19C33DC59013074…</td></tr><tr><td>&quot;V_4013480&quot;</td><td>&quot;70439BD933CFD6629C33DC59013074…</td></tr><tr><td>&quot;V_454490&quot;</td><td>&quot;8AC61D75569C37BE9C33DC59013074…</td></tr></tbody></table></div>"
      ],
      "text/plain": [
       "shape: (2_798_892, 2)\n",
       "┌───────────┬─────────────────────────────────┐\n",
       "│ video_id  ┆ ccid                            │\n",
       "│ ---       ┆ ---                             │\n",
       "│ str       ┆ str                             │\n",
       "╞═══════════╪═════════════════════════════════╡\n",
       "│ V_3599048 ┆ F6B72F55B936F6729C33DC59013074… │\n",
       "│ V_3939509 ┆ 1E2E28C764400BD99C33DC59013074… │\n",
       "│ V_1137279 ┆ 71B02DDBCABB64229C33DC59013074… │\n",
       "│ V_8196393 ┆ 9E90771E62B504F19C33DC59013074… │\n",
       "│ V_6888492 ┆ 1AADB63D87343DAC9C33DC59013074… │\n",
       "│ …         ┆ …                               │\n",
       "│ V_7168785 ┆ 0D55B16A6E841CBD9C33DC59013074… │\n",
       "│ V_7639583 ┆ DFA0BAF0D15339D89C33DC59013074… │\n",
       "│ V_4515580 ┆ F396B59281D2A4C19C33DC59013074… │\n",
       "│ V_4013480 ┆ 70439BD933CFD6629C33DC59013074… │\n",
       "│ V_454490  ┆ 8AC61D75569C37BE9C33DC59013074… │\n",
       "└───────────┴─────────────────────────────────┘"
      ]
     },
     "execution_count": 18,
     "metadata": {},
     "output_type": "execute_result"
    }
   ],
   "source": [
    "video_ccid.unique()"
   ]
  },
  {
   "cell_type": "code",
   "execution_count": 19,
   "id": "60934da6",
   "metadata": {
    "execution": {
     "iopub.execute_input": "2025-06-08T06:41:30.929582Z",
     "iopub.status.busy": "2025-06-08T06:41:30.929200Z",
     "iopub.status.idle": "2025-06-08T06:41:31.146677Z",
     "shell.execute_reply": "2025-06-08T06:41:31.145464Z"
    },
    "papermill": {
     "duration": 0.228897,
     "end_time": "2025-06-08T06:41:31.148959",
     "exception": false,
     "start_time": "2025-06-08T06:41:30.920062",
     "status": "completed"
    },
    "tags": []
   },
   "outputs": [
    {
     "data": {
      "text/plain": [
       "7.192882040464584"
      ]
     },
     "execution_count": 19,
     "metadata": {},
     "output_type": "execute_result"
    }
   ],
   "source": [
    "# Perform an inner join on the 'video_id' column\n",
    "common_videos = course_video.join(video_ccid, on='video_id', how='inner')\n",
    "\n",
    "# Calculate the percentage of common video_id values\n",
    "percentage_common = (len(common_videos) / len(video_ccid)) * 100\n",
    "percentage_common"
   ]
  },
  {
   "cell_type": "code",
   "execution_count": 20,
   "id": "56b13539",
   "metadata": {
    "execution": {
     "iopub.execute_input": "2025-06-08T06:41:31.166750Z",
     "iopub.status.busy": "2025-06-08T06:41:31.166362Z",
     "iopub.status.idle": "2025-06-08T06:41:31.706643Z",
     "shell.execute_reply": "2025-06-08T06:41:31.705462Z"
    },
    "papermill": {
     "duration": 0.551375,
     "end_time": "2025-06-08T06:41:31.708542",
     "exception": false,
     "start_time": "2025-06-08T06:41:31.157167",
     "status": "completed"
    },
    "tags": []
   },
   "outputs": [
    {
     "data": {
      "text/plain": [
       "70.77804359725206"
      ]
     },
     "execution_count": 20,
     "metadata": {},
     "output_type": "execute_result"
    }
   ],
   "source": [
    "# Perform an inner join on the 'video_id' column\n",
    "common_videos = user_video.join(video_ccid, on='video_id', how='left')\n",
    "\n",
    "# Calculate the percentage of common video_id values\n",
    "percentage_common = (len(common_videos) / len(video_ccid)) * 100\n",
    "percentage_common"
   ]
  },
  {
   "cell_type": "code",
   "execution_count": 21,
   "id": "a88f5880",
   "metadata": {
    "execution": {
     "iopub.execute_input": "2025-06-08T06:41:31.726597Z",
     "iopub.status.busy": "2025-06-08T06:41:31.726265Z",
     "iopub.status.idle": "2025-06-08T06:41:31.733996Z",
     "shell.execute_reply": "2025-06-08T06:41:31.732671Z"
    },
    "papermill": {
     "duration": 0.018617,
     "end_time": "2025-06-08T06:41:31.735674",
     "exception": false,
     "start_time": "2025-06-08T06:41:31.717057",
     "status": "completed"
    },
    "tags": []
   },
   "outputs": [
    {
     "data": {
      "text/html": [
       "<div><style>\n",
       ".dataframe > thead > tr,\n",
       ".dataframe > tbody > tr {\n",
       "  text-align: right;\n",
       "  white-space: pre-wrap;\n",
       "}\n",
       "</style>\n",
       "<small>shape: (1_981_001, 4)</small><table border=\"1\" class=\"dataframe\"><thead><tr><th>user_id</th><th>video_id</th><th>total_watch_time</th><th>actual_watch_time</th></tr><tr><td>str</td><td>str</td><td>f64</td><td>f64</td></tr></thead><tbody><tr><td>&quot;U_15767679&quot;</td><td>&quot;V_6340530&quot;</td><td>388.174</td><td>388.174</td></tr><tr><td>&quot;U_16097788&quot;</td><td>&quot;V_1395635&quot;</td><td>59.7</td><td>59.7</td></tr><tr><td>&quot;U_33771074&quot;</td><td>&quot;V_7592810&quot;</td><td>645.0</td><td>645.0</td></tr><tr><td>&quot;U_32440729&quot;</td><td>&quot;V_7472597&quot;</td><td>340.0</td><td>340.0</td></tr><tr><td>&quot;U_19842780&quot;</td><td>&quot;V_1358727&quot;</td><td>25.0</td><td>25.0</td></tr><tr><td>&hellip;</td><td>&hellip;</td><td>&hellip;</td><td>&hellip;</td></tr><tr><td>&quot;U_30211589&quot;</td><td>&quot;V_5558657&quot;</td><td>245.0</td><td>245.0</td></tr><tr><td>&quot;U_30310046&quot;</td><td>&quot;V_5149580&quot;</td><td>218.4</td><td>216.8</td></tr><tr><td>&quot;U_9582167&quot;</td><td>&quot;V_7857876&quot;</td><td>189.9</td><td>189.9</td></tr><tr><td>&quot;U_15285678&quot;</td><td>&quot;V_6021330&quot;</td><td>384.3</td><td>384.3</td></tr><tr><td>&quot;U_10012257&quot;</td><td>&quot;V_7386531&quot;</td><td>1915.0</td><td>1915.0</td></tr></tbody></table></div>"
      ],
      "text/plain": [
       "shape: (1_981_001, 4)\n",
       "┌────────────┬───────────┬──────────────────┬───────────────────┐\n",
       "│ user_id    ┆ video_id  ┆ total_watch_time ┆ actual_watch_time │\n",
       "│ ---        ┆ ---       ┆ ---              ┆ ---               │\n",
       "│ str        ┆ str       ┆ f64              ┆ f64               │\n",
       "╞════════════╪═══════════╪══════════════════╪═══════════════════╡\n",
       "│ U_15767679 ┆ V_6340530 ┆ 388.174          ┆ 388.174           │\n",
       "│ U_16097788 ┆ V_1395635 ┆ 59.7             ┆ 59.7              │\n",
       "│ U_33771074 ┆ V_7592810 ┆ 645.0            ┆ 645.0             │\n",
       "│ U_32440729 ┆ V_7472597 ┆ 340.0            ┆ 340.0             │\n",
       "│ U_19842780 ┆ V_1358727 ┆ 25.0             ┆ 25.0              │\n",
       "│ …          ┆ …         ┆ …                ┆ …                 │\n",
       "│ U_30211589 ┆ V_5558657 ┆ 245.0            ┆ 245.0             │\n",
       "│ U_30310046 ┆ V_5149580 ┆ 218.4            ┆ 216.8             │\n",
       "│ U_9582167  ┆ V_7857876 ┆ 189.9            ┆ 189.9             │\n",
       "│ U_15285678 ┆ V_6021330 ┆ 384.3            ┆ 384.3             │\n",
       "│ U_10012257 ┆ V_7386531 ┆ 1915.0           ┆ 1915.0            │\n",
       "└────────────┴───────────┴──────────────────┴───────────────────┘"
      ]
     },
     "execution_count": 21,
     "metadata": {},
     "output_type": "execute_result"
    }
   ],
   "source": [
    "user_video"
   ]
  },
  {
   "cell_type": "code",
   "execution_count": 22,
   "id": "43ea9111",
   "metadata": {
    "execution": {
     "iopub.execute_input": "2025-06-08T06:41:31.754342Z",
     "iopub.status.busy": "2025-06-08T06:41:31.753988Z",
     "iopub.status.idle": "2025-06-08T06:41:31.770976Z",
     "shell.execute_reply": "2025-06-08T06:41:31.769864Z"
    },
    "papermill": {
     "duration": 0.028552,
     "end_time": "2025-06-08T06:41:31.773008",
     "exception": false,
     "start_time": "2025-06-08T06:41:31.744456",
     "status": "completed"
    },
    "tags": []
   },
   "outputs": [
    {
     "data": {
      "text/html": [
       "<div><style>\n",
       ".dataframe > thead > tr,\n",
       ".dataframe > tbody > tr {\n",
       "  text-align: right;\n",
       "  white-space: pre-wrap;\n",
       "}\n",
       "</style>\n",
       "<small>shape: (9, 3)</small><table border=\"1\" class=\"dataframe\"><thead><tr><th>statistic</th><th>ccid</th><th>video_duration</th></tr><tr><td>str</td><td>str</td><td>f64</td></tr></thead><tbody><tr><td>&quot;count&quot;</td><td>&quot;59581&quot;</td><td>59581.0</td></tr><tr><td>&quot;null_count&quot;</td><td>&quot;0&quot;</td><td>0.0</td></tr><tr><td>&quot;mean&quot;</td><td>null</td><td>652.764479</td></tr><tr><td>&quot;std&quot;</td><td>null</td><td>4162.08718</td></tr><tr><td>&quot;min&quot;</td><td>&quot;0001603F826A3DDA9C33DC59013074…</td><td>1.12</td></tr><tr><td>&quot;25%&quot;</td><td>null</td><td>367.739</td></tr><tr><td>&quot;50%&quot;</td><td>null</td><td>545.3</td></tr><tr><td>&quot;75%&quot;</td><td>null</td><td>759.32</td></tr><tr><td>&quot;max&quot;</td><td>&quot;FFFF3CC4C6F66F849C33DC59013074…</td><td>359999.0</td></tr></tbody></table></div>"
      ],
      "text/plain": [
       "shape: (9, 3)\n",
       "┌────────────┬─────────────────────────────────┬────────────────┐\n",
       "│ statistic  ┆ ccid                            ┆ video_duration │\n",
       "│ ---        ┆ ---                             ┆ ---            │\n",
       "│ str        ┆ str                             ┆ f64            │\n",
       "╞════════════╪═════════════════════════════════╪════════════════╡\n",
       "│ count      ┆ 59581                           ┆ 59581.0        │\n",
       "│ null_count ┆ 0                               ┆ 0.0            │\n",
       "│ mean       ┆ null                            ┆ 652.764479     │\n",
       "│ std        ┆ null                            ┆ 4162.08718     │\n",
       "│ min        ┆ 0001603F826A3DDA9C33DC59013074… ┆ 1.12           │\n",
       "│ 25%        ┆ null                            ┆ 367.739        │\n",
       "│ 50%        ┆ null                            ┆ 545.3          │\n",
       "│ 75%        ┆ null                            ┆ 759.32         │\n",
       "│ max        ┆ FFFF3CC4C6F66F849C33DC59013074… ┆ 359999.0       │\n",
       "└────────────┴─────────────────────────────────┴────────────────┘"
      ]
     },
     "execution_count": 22,
     "metadata": {},
     "output_type": "execute_result"
    }
   ],
   "source": [
    "video.describe()"
   ]
  },
  {
   "cell_type": "code",
   "execution_count": 23,
   "id": "1f701c15",
   "metadata": {
    "execution": {
     "iopub.execute_input": "2025-06-08T06:41:31.791690Z",
     "iopub.status.busy": "2025-06-08T06:41:31.791311Z",
     "iopub.status.idle": "2025-06-08T06:41:31.976500Z",
     "shell.execute_reply": "2025-06-08T06:41:31.975156Z"
    },
    "papermill": {
     "duration": 0.196765,
     "end_time": "2025-06-08T06:41:31.978595",
     "exception": false,
     "start_time": "2025-06-08T06:41:31.781830",
     "status": "completed"
    },
    "tags": []
   },
   "outputs": [
    {
     "data": {
      "text/html": [
       "<div><style>\n",
       ".dataframe > thead > tr,\n",
       ".dataframe > tbody > tr {\n",
       "  text-align: right;\n",
       "  white-space: pre-wrap;\n",
       "}\n",
       "</style>\n",
       "<small>shape: (9, 6)</small><table border=\"1\" class=\"dataframe\"><thead><tr><th>statistic</th><th>user_id</th><th>video_id</th><th>total_watch_time</th><th>actual_watch_time</th><th>ccid</th></tr><tr><td>str</td><td>str</td><td>str</td><td>f64</td><td>f64</td><td>str</td></tr></thead><tbody><tr><td>&quot;count&quot;</td><td>&quot;1981001&quot;</td><td>&quot;1981001&quot;</td><td>1.981001e6</td><td>1.981001e6</td><td>&quot;1980125&quot;</td></tr><tr><td>&quot;null_count&quot;</td><td>&quot;0&quot;</td><td>&quot;0&quot;</td><td>0.0</td><td>0.0</td><td>&quot;876&quot;</td></tr><tr><td>&quot;mean&quot;</td><td>null</td><td>null</td><td>244.273693</td><td>210.913333</td><td>null</td></tr><tr><td>&quot;std&quot;</td><td>null</td><td>null</td><td>43346.664789</td><td>43345.154883</td><td>null</td></tr><tr><td>&quot;min&quot;</td><td>&quot;U_10001181&quot;</td><td>&quot;V_1000004&quot;</td><td>-5.9312e7</td><td>-5.9312e7</td><td>&quot;0000363DB5B6E0869C33DC59013074…</td></tr><tr><td>&quot;25%&quot;</td><td>null</td><td>null</td><td>44.9</td><td>44.7</td><td>null</td></tr><tr><td>&quot;50%&quot;</td><td>null</td><td>null</td><td>180.0</td><td>177.0</td><td>null</td></tr><tr><td>&quot;75%&quot;</td><td>null</td><td>null</td><td>429.5</td><td>418.0</td><td>null</td></tr><tr><td>&quot;max&quot;</td><td>&quot;U_9999820&quot;</td><td>&quot;V_999993&quot;</td><td>32670.0</td><td>10867.9</td><td>&quot;FFFF3CC4C6F66F849C33DC59013074…</td></tr></tbody></table></div>"
      ],
      "text/plain": [
       "shape: (9, 6)\n",
       "┌────────────┬────────────┬───────────┬──────────────────┬───────────────────┬─────────────────────┐\n",
       "│ statistic  ┆ user_id    ┆ video_id  ┆ total_watch_time ┆ actual_watch_time ┆ ccid                │\n",
       "│ ---        ┆ ---        ┆ ---       ┆ ---              ┆ ---               ┆ ---                 │\n",
       "│ str        ┆ str        ┆ str       ┆ f64              ┆ f64               ┆ str                 │\n",
       "╞════════════╪════════════╪═══════════╪══════════════════╪═══════════════════╪═════════════════════╡\n",
       "│ count      ┆ 1981001    ┆ 1981001   ┆ 1.981001e6       ┆ 1.981001e6        ┆ 1980125             │\n",
       "│ null_count ┆ 0          ┆ 0         ┆ 0.0              ┆ 0.0               ┆ 876                 │\n",
       "│ mean       ┆ null       ┆ null      ┆ 244.273693       ┆ 210.913333        ┆ null                │\n",
       "│ std        ┆ null       ┆ null      ┆ 43346.664789     ┆ 43345.154883      ┆ null                │\n",
       "│ min        ┆ U_10001181 ┆ V_1000004 ┆ -5.9312e7        ┆ -5.9312e7         ┆ 0000363DB5B6E0869C3 │\n",
       "│            ┆            ┆           ┆                  ┆                   ┆ 3DC59013074…        │\n",
       "│ 25%        ┆ null       ┆ null      ┆ 44.9             ┆ 44.7              ┆ null                │\n",
       "│ 50%        ┆ null       ┆ null      ┆ 180.0            ┆ 177.0             ┆ null                │\n",
       "│ 75%        ┆ null       ┆ null      ┆ 429.5            ┆ 418.0             ┆ null                │\n",
       "│ max        ┆ U_9999820  ┆ V_999993  ┆ 32670.0          ┆ 10867.9           ┆ FFFF3CC4C6F66F849C3 │\n",
       "│            ┆            ┆           ┆                  ┆                   ┆ 3DC59013074…        │\n",
       "└────────────┴────────────┴───────────┴──────────────────┴───────────────────┴─────────────────────┘"
      ]
     },
     "execution_count": 23,
     "metadata": {},
     "output_type": "execute_result"
    }
   ],
   "source": [
    "common_videos.describe()"
   ]
  },
  {
   "cell_type": "code",
   "execution_count": 24,
   "id": "239c298e",
   "metadata": {
    "execution": {
     "iopub.execute_input": "2025-06-08T06:41:31.997553Z",
     "iopub.status.busy": "2025-06-08T06:41:31.997227Z",
     "iopub.status.idle": "2025-06-08T06:41:32.168352Z",
     "shell.execute_reply": "2025-06-08T06:41:32.167061Z"
    },
    "papermill": {
     "duration": 0.182857,
     "end_time": "2025-06-08T06:41:32.170533",
     "exception": false,
     "start_time": "2025-06-08T06:41:31.987676",
     "status": "completed"
    },
    "tags": []
   },
   "outputs": [
    {
     "data": {
      "text/plain": [
       "2263.4917171581546"
      ]
     },
     "execution_count": 24,
     "metadata": {},
     "output_type": "execute_result"
    }
   ],
   "source": [
    "# Perform an inner join on the 'video_id' column\n",
    "common_cc = video.join(common_videos, on='ccid', how='inner')\n",
    "\n",
    "# Calculate the percentage of common video_id values\n",
    "percentage_common = (len(common_cc) / len(video)) * 100\n",
    "percentage_common"
   ]
  },
  {
   "cell_type": "code",
   "execution_count": 25,
   "id": "76abddac",
   "metadata": {
    "execution": {
     "iopub.execute_input": "2025-06-08T06:41:32.189620Z",
     "iopub.status.busy": "2025-06-08T06:41:32.189258Z",
     "iopub.status.idle": "2025-06-08T06:41:32.203496Z",
     "shell.execute_reply": "2025-06-08T06:41:32.202238Z"
    },
    "papermill": {
     "duration": 0.025953,
     "end_time": "2025-06-08T06:41:32.205467",
     "exception": false,
     "start_time": "2025-06-08T06:41:32.179514",
     "status": "completed"
    },
    "tags": []
   },
   "outputs": [
    {
     "data": {
      "text/html": [
       "<div><style>\n",
       ".dataframe > thead > tr,\n",
       ".dataframe > tbody > tr {\n",
       "  text-align: right;\n",
       "  white-space: pre-wrap;\n",
       "}\n",
       "</style>\n",
       "<small>shape: (5, 5)</small><table border=\"1\" class=\"dataframe\"><thead><tr><th>course_id</th><th>titles</th><th>video_id</th><th>chapter</th><th>name_trans</th></tr><tr><td>str</td><td>list[str]</td><td>str</td><td>str</td><td>str</td></tr></thead><tbody><tr><td>&quot;C_584313&quot;</td><td>[&quot;第一课 导论与三家分晋&quot;, &quot;导论&quot;, &quot;导论&quot;]</td><td>&quot;V_849&quot;</td><td>&quot;1.1.1&quot;</td><td>&quot;introduction to &quot;zizhi tongjia…</td></tr><tr><td>&quot;C_584313&quot;</td><td>[&quot;第一课 导论与三家分晋&quot;, &quot;智伯的覆亡&quot;, &quot;智伯的覆亡&quot;]</td><td>&quot;V_850&quot;</td><td>&quot;1.2.1&quot;</td><td>&quot;introduction to &quot;zizhi tongjia…</td></tr><tr><td>&quot;C_584313&quot;</td><td>[&quot;第一课 导论与三家分晋&quot;, &quot;智伯悲剧的反思&quot;, &quot;智伯的覆亡讨论&quot;]</td><td>&quot;V_851&quot;</td><td>&quot;1.3.1&quot;</td><td>&quot;introduction to &quot;zizhi tongjia…</td></tr><tr><td>&quot;C_584313&quot;</td><td>[&quot;第二课 战国前期的政治&quot;, &quot;魏文侯治国&quot;, &quot;魏文侯治国&quot;]</td><td>&quot;V_857&quot;</td><td>&quot;2.1.1&quot;</td><td>&quot;introduction to &quot;zizhi tongjia…</td></tr><tr><td>&quot;C_584313&quot;</td><td>[&quot;第二课 战国前期的政治&quot;, &quot;吴起的悲剧&quot;, &quot;吴起的悲剧&quot;]</td><td>&quot;V_859&quot;</td><td>&quot;2.2.1&quot;</td><td>&quot;introduction to &quot;zizhi tongjia…</td></tr></tbody></table></div>"
      ],
      "text/plain": [
       "shape: (5, 5)\n",
       "┌───────────┬───────────────────────────┬──────────┬─────────┬─────────────────────────────────┐\n",
       "│ course_id ┆ titles                    ┆ video_id ┆ chapter ┆ name_trans                      │\n",
       "│ ---       ┆ ---                       ┆ ---      ┆ ---     ┆ ---                             │\n",
       "│ str       ┆ list[str]                 ┆ str      ┆ str     ┆ str                             │\n",
       "╞═══════════╪═══════════════════════════╪══════════╪═════════╪═════════════════════════════════╡\n",
       "│ C_584313  ┆ [\"第一课 导论与三家分晋\", ┆ V_849    ┆ 1.1.1   ┆ introduction to \"zizhi tongjia… │\n",
       "│           ┆ \"导论\", \"导论\"]           ┆          ┆         ┆                                 │\n",
       "│ C_584313  ┆ [\"第一课 导论与三家分晋\", ┆ V_850    ┆ 1.2.1   ┆ introduction to \"zizhi tongjia… │\n",
       "│           ┆ \"智伯的覆亡\", \"智伯的覆…  ┆          ┆         ┆                                 │\n",
       "│ C_584313  ┆ [\"第一课 导论与三家分晋\", ┆ V_851    ┆ 1.3.1   ┆ introduction to \"zizhi tongjia… │\n",
       "│           ┆ \"智伯悲剧的反思\", \"智伯…  ┆          ┆         ┆                                 │\n",
       "│ C_584313  ┆ [\"第二课 战国前期的政治\", ┆ V_857    ┆ 2.1.1   ┆ introduction to \"zizhi tongjia… │\n",
       "│           ┆ \"魏文侯治国\", \"魏文侯治…  ┆          ┆         ┆                                 │\n",
       "│ C_584313  ┆ [\"第二课 战国前期的政治\", ┆ V_859    ┆ 2.2.1   ┆ introduction to \"zizhi tongjia… │\n",
       "│           ┆ \"吴起的悲剧\", \"吴起的悲…  ┆          ┆         ┆                                 │\n",
       "└───────────┴───────────────────────────┴──────────┴─────────┴─────────────────────────────────┘"
      ]
     },
     "metadata": {},
     "output_type": "display_data"
    },
    {
     "data": {
      "text/html": [
       "<div><style>\n",
       ".dataframe > thead > tr,\n",
       ".dataframe > tbody > tr {\n",
       "  text-align: right;\n",
       "  white-space: pre-wrap;\n",
       "}\n",
       "</style>\n",
       "<small>shape: (5, 4)</small><table border=\"1\" class=\"dataframe\"><thead><tr><th>user_id</th><th>video_id</th><th>total_watch_time</th><th>actual_watch_time</th></tr><tr><td>str</td><td>str</td><td>f64</td><td>f64</td></tr></thead><tbody><tr><td>&quot;U_15767679&quot;</td><td>&quot;V_6340530&quot;</td><td>388.174</td><td>388.174</td></tr><tr><td>&quot;U_16097788&quot;</td><td>&quot;V_1395635&quot;</td><td>59.7</td><td>59.7</td></tr><tr><td>&quot;U_33771074&quot;</td><td>&quot;V_7592810&quot;</td><td>645.0</td><td>645.0</td></tr><tr><td>&quot;U_32440729&quot;</td><td>&quot;V_7472597&quot;</td><td>340.0</td><td>340.0</td></tr><tr><td>&quot;U_19842780&quot;</td><td>&quot;V_1358727&quot;</td><td>25.0</td><td>25.0</td></tr></tbody></table></div>"
      ],
      "text/plain": [
       "shape: (5, 4)\n",
       "┌────────────┬───────────┬──────────────────┬───────────────────┐\n",
       "│ user_id    ┆ video_id  ┆ total_watch_time ┆ actual_watch_time │\n",
       "│ ---        ┆ ---       ┆ ---              ┆ ---               │\n",
       "│ str        ┆ str       ┆ f64              ┆ f64               │\n",
       "╞════════════╪═══════════╪══════════════════╪═══════════════════╡\n",
       "│ U_15767679 ┆ V_6340530 ┆ 388.174          ┆ 388.174           │\n",
       "│ U_16097788 ┆ V_1395635 ┆ 59.7             ┆ 59.7              │\n",
       "│ U_33771074 ┆ V_7592810 ┆ 645.0            ┆ 645.0             │\n",
       "│ U_32440729 ┆ V_7472597 ┆ 340.0            ┆ 340.0             │\n",
       "│ U_19842780 ┆ V_1358727 ┆ 25.0             ┆ 25.0              │\n",
       "└────────────┴───────────┴──────────────────┴───────────────────┘"
      ]
     },
     "metadata": {},
     "output_type": "display_data"
    },
    {
     "data": {
      "text/html": [
       "<div><style>\n",
       ".dataframe > thead > tr,\n",
       ".dataframe > tbody > tr {\n",
       "  text-align: right;\n",
       "  white-space: pre-wrap;\n",
       "}\n",
       "</style>\n",
       "<small>shape: (5, 2)</small><table border=\"1\" class=\"dataframe\"><thead><tr><th>ccid</th><th>video_duration</th></tr><tr><td>str</td><td>f64</td></tr></thead><tbody><tr><td>&quot;0001603F826A3DDA9C33DC59013074…</td><td>509.095</td></tr><tr><td>&quot;0003DB14A14A53279C33DC59013074…</td><td>367.336</td></tr><tr><td>&quot;0004A5C6F07E369D9C33DC59013074…</td><td>492.315</td></tr><tr><td>&quot;00059EBD1371A6959C33DC59013074…</td><td>630.757</td></tr><tr><td>&quot;0005D1DC01B4EF8F9C33DC59013074…</td><td>408.75</td></tr></tbody></table></div>"
      ],
      "text/plain": [
       "shape: (5, 2)\n",
       "┌─────────────────────────────────┬────────────────┐\n",
       "│ ccid                            ┆ video_duration │\n",
       "│ ---                             ┆ ---            │\n",
       "│ str                             ┆ f64            │\n",
       "╞═════════════════════════════════╪════════════════╡\n",
       "│ 0001603F826A3DDA9C33DC59013074… ┆ 509.095        │\n",
       "│ 0003DB14A14A53279C33DC59013074… ┆ 367.336        │\n",
       "│ 0004A5C6F07E369D9C33DC59013074… ┆ 492.315        │\n",
       "│ 00059EBD1371A6959C33DC59013074… ┆ 630.757        │\n",
       "│ 0005D1DC01B4EF8F9C33DC59013074… ┆ 408.75         │\n",
       "└─────────────────────────────────┴────────────────┘"
      ]
     },
     "metadata": {},
     "output_type": "display_data"
    },
    {
     "data": {
      "text/html": [
       "<div><style>\n",
       ".dataframe > thead > tr,\n",
       ".dataframe > tbody > tr {\n",
       "  text-align: right;\n",
       "  white-space: pre-wrap;\n",
       "}\n",
       "</style>\n",
       "<small>shape: (5, 2)</small><table border=\"1\" class=\"dataframe\"><thead><tr><th>video_id</th><th>ccid</th></tr><tr><td>str</td><td>str</td></tr></thead><tbody><tr><td>&quot;V_234845&quot;</td><td>&quot;0000363DB5B6E0869C33DC59013074…</td></tr><tr><td>&quot;V_234876&quot;</td><td>&quot;0000363DB5B6E0869C33DC59013074…</td></tr><tr><td>&quot;V_234907&quot;</td><td>&quot;0000363DB5B6E0869C33DC59013074…</td></tr><tr><td>&quot;V_293392&quot;</td><td>&quot;0000363DB5B6E0869C33DC59013074…</td></tr><tr><td>&quot;V_293445&quot;</td><td>&quot;0000363DB5B6E0869C33DC59013074…</td></tr></tbody></table></div>"
      ],
      "text/plain": [
       "shape: (5, 2)\n",
       "┌──────────┬─────────────────────────────────┐\n",
       "│ video_id ┆ ccid                            │\n",
       "│ ---      ┆ ---                             │\n",
       "│ str      ┆ str                             │\n",
       "╞══════════╪═════════════════════════════════╡\n",
       "│ V_234845 ┆ 0000363DB5B6E0869C33DC59013074… │\n",
       "│ V_234876 ┆ 0000363DB5B6E0869C33DC59013074… │\n",
       "│ V_234907 ┆ 0000363DB5B6E0869C33DC59013074… │\n",
       "│ V_293392 ┆ 0000363DB5B6E0869C33DC59013074… │\n",
       "│ V_293445 ┆ 0000363DB5B6E0869C33DC59013074… │\n",
       "└──────────┴─────────────────────────────────┘"
      ]
     },
     "metadata": {},
     "output_type": "display_data"
    }
   ],
   "source": [
    "display(course_video.head())\n",
    "display(user_video.head())\n",
    "display(video.head())\n",
    "display(video_ccid.head())"
   ]
  },
  {
   "cell_type": "code",
   "execution_count": 26,
   "id": "1ee7509d",
   "metadata": {
    "execution": {
     "iopub.execute_input": "2025-06-08T06:41:32.226120Z",
     "iopub.status.busy": "2025-06-08T06:41:32.225683Z",
     "iopub.status.idle": "2025-06-08T06:41:32.327405Z",
     "shell.execute_reply": "2025-06-08T06:41:32.326430Z"
    },
    "papermill": {
     "duration": 0.11398,
     "end_time": "2025-06-08T06:41:32.329262",
     "exception": false,
     "start_time": "2025-06-08T06:41:32.215282",
     "status": "completed"
    },
    "tags": []
   },
   "outputs": [],
   "source": [
    "video = video_ccid.join(video,on=\"ccid\",how=\"inner\")"
   ]
  },
  {
   "cell_type": "code",
   "execution_count": 27,
   "id": "a29508f9",
   "metadata": {
    "execution": {
     "iopub.execute_input": "2025-06-08T06:41:32.349305Z",
     "iopub.status.busy": "2025-06-08T06:41:32.348916Z",
     "iopub.status.idle": "2025-06-08T06:41:32.422001Z",
     "shell.execute_reply": "2025-06-08T06:41:32.420981Z"
    },
    "papermill": {
     "duration": 0.085176,
     "end_time": "2025-06-08T06:41:32.424030",
     "exception": false,
     "start_time": "2025-06-08T06:41:32.338854",
     "status": "completed"
    },
    "tags": []
   },
   "outputs": [],
   "source": [
    "course_video = course_video.join(video,on=\"video_id\",how=\"inner\")"
   ]
  },
  {
   "cell_type": "code",
   "execution_count": 28,
   "id": "57ebcbb9",
   "metadata": {
    "execution": {
     "iopub.execute_input": "2025-06-08T06:41:32.444586Z",
     "iopub.status.busy": "2025-06-08T06:41:32.444204Z",
     "iopub.status.idle": "2025-06-08T06:41:32.521958Z",
     "shell.execute_reply": "2025-06-08T06:41:32.520678Z"
    },
    "papermill": {
     "duration": 0.090611,
     "end_time": "2025-06-08T06:41:32.524132",
     "exception": false,
     "start_time": "2025-06-08T06:41:32.433521",
     "status": "completed"
    },
    "tags": []
   },
   "outputs": [
    {
     "data": {
      "text/html": [
       "<div><style>\n",
       ".dataframe > thead > tr,\n",
       ".dataframe > tbody > tr {\n",
       "  text-align: right;\n",
       "  white-space: pre-wrap;\n",
       "}\n",
       "</style>\n",
       "<small>shape: (9, 4)</small><table border=\"1\" class=\"dataframe\"><thead><tr><th>statistic</th><th>video_id</th><th>ccid</th><th>video_duration</th></tr><tr><td>str</td><td>str</td><td>str</td><td>f64</td></tr></thead><tbody><tr><td>&quot;count&quot;</td><td>&quot;1316090&quot;</td><td>&quot;1316090&quot;</td><td>1.31609e6</td></tr><tr><td>&quot;null_count&quot;</td><td>&quot;0&quot;</td><td>&quot;0&quot;</td><td>0.0</td></tr><tr><td>&quot;mean&quot;</td><td>null</td><td>null</td><td>603.448667</td></tr><tr><td>&quot;std&quot;</td><td>null</td><td>null</td><td>3077.32539</td></tr><tr><td>&quot;min&quot;</td><td>&quot;V_1&quot;</td><td>&quot;0001603F826A3DDA9C33DC59013074…</td><td>1.12</td></tr><tr><td>&quot;25%&quot;</td><td>null</td><td>null</td><td>336.76</td></tr><tr><td>&quot;50%&quot;</td><td>null</td><td>null</td><td>516.637</td></tr><tr><td>&quot;75%&quot;</td><td>null</td><td>null</td><td>742.57</td></tr><tr><td>&quot;max&quot;</td><td>&quot;V_999997&quot;</td><td>&quot;FFFF3CC4C6F66F849C33DC59013074…</td><td>359999.0</td></tr></tbody></table></div>"
      ],
      "text/plain": [
       "shape: (9, 4)\n",
       "┌────────────┬──────────┬─────────────────────────────────┬────────────────┐\n",
       "│ statistic  ┆ video_id ┆ ccid                            ┆ video_duration │\n",
       "│ ---        ┆ ---      ┆ ---                             ┆ ---            │\n",
       "│ str        ┆ str      ┆ str                             ┆ f64            │\n",
       "╞════════════╪══════════╪═════════════════════════════════╪════════════════╡\n",
       "│ count      ┆ 1316090  ┆ 1316090                         ┆ 1.31609e6      │\n",
       "│ null_count ┆ 0        ┆ 0                               ┆ 0.0            │\n",
       "│ mean       ┆ null     ┆ null                            ┆ 603.448667     │\n",
       "│ std        ┆ null     ┆ null                            ┆ 3077.32539     │\n",
       "│ min        ┆ V_1      ┆ 0001603F826A3DDA9C33DC59013074… ┆ 1.12           │\n",
       "│ 25%        ┆ null     ┆ null                            ┆ 336.76         │\n",
       "│ 50%        ┆ null     ┆ null                            ┆ 516.637        │\n",
       "│ 75%        ┆ null     ┆ null                            ┆ 742.57         │\n",
       "│ max        ┆ V_999997 ┆ FFFF3CC4C6F66F849C33DC59013074… ┆ 359999.0       │\n",
       "└────────────┴──────────┴─────────────────────────────────┴────────────────┘"
      ]
     },
     "metadata": {},
     "output_type": "display_data"
    },
    {
     "data": {
      "text/html": [
       "<div><style>\n",
       ".dataframe > thead > tr,\n",
       ".dataframe > tbody > tr {\n",
       "  text-align: right;\n",
       "  white-space: pre-wrap;\n",
       "}\n",
       "</style>\n",
       "<small>shape: (9, 8)</small><table border=\"1\" class=\"dataframe\"><thead><tr><th>statistic</th><th>course_id</th><th>titles</th><th>video_id</th><th>chapter</th><th>name_trans</th><th>ccid</th><th>video_duration</th></tr><tr><td>str</td><td>str</td><td>f64</td><td>str</td><td>str</td><td>str</td><td>str</td><td>f64</td></tr></thead><tbody><tr><td>&quot;count&quot;</td><td>&quot;85787&quot;</td><td>85787.0</td><td>&quot;85787&quot;</td><td>&quot;85787&quot;</td><td>&quot;85787&quot;</td><td>&quot;85787&quot;</td><td>85787.0</td></tr><tr><td>&quot;null_count&quot;</td><td>&quot;0&quot;</td><td>0.0</td><td>&quot;0&quot;</td><td>&quot;0&quot;</td><td>&quot;0&quot;</td><td>&quot;0&quot;</td><td>0.0</td></tr><tr><td>&quot;mean&quot;</td><td>null</td><td>null</td><td>null</td><td>null</td><td>null</td><td>null</td><td>623.343358</td></tr><tr><td>&quot;std&quot;</td><td>null</td><td>null</td><td>null</td><td>null</td><td>null</td><td>null</td><td>3474.963701</td></tr><tr><td>&quot;min&quot;</td><td>&quot;C_1025064&quot;</td><td>null</td><td>&quot;V_1000000&quot;</td><td>&quot;0&quot;</td><td>&quot;&quot;chinese style&quot; clothing and c…</td><td>&quot;0001603F826A3DDA9C33DC59013074…</td><td>1.12</td></tr><tr><td>&quot;25%&quot;</td><td>null</td><td>null</td><td>null</td><td>null</td><td>null</td><td>null</td><td>346.174</td></tr><tr><td>&quot;50%&quot;</td><td>null</td><td>null</td><td>null</td><td>null</td><td>null</td><td>null</td><td>528.4</td></tr><tr><td>&quot;75%&quot;</td><td>null</td><td>null</td><td>null</td><td>null</td><td>null</td><td>null</td><td>751.426</td></tr><tr><td>&quot;max&quot;</td><td>&quot;C_956129&quot;</td><td>null</td><td>&quot;V_999997&quot;</td><td>&quot;9.9.9&quot;</td><td>&quot;“past and present” of urban de…</td><td>&quot;FFFF3CC4C6F66F849C33DC59013074…</td><td>359999.0</td></tr></tbody></table></div>"
      ],
      "text/plain": [
       "shape: (9, 8)\n",
       "┌────────────┬───────────┬─────────┬───────────┬─────────┬─────────────┬─────────────┬─────────────┐\n",
       "│ statistic  ┆ course_id ┆ titles  ┆ video_id  ┆ chapter ┆ name_trans  ┆ ccid        ┆ video_durat │\n",
       "│ ---        ┆ ---       ┆ ---     ┆ ---       ┆ ---     ┆ ---         ┆ ---         ┆ ion         │\n",
       "│ str        ┆ str       ┆ f64     ┆ str       ┆ str     ┆ str         ┆ str         ┆ ---         │\n",
       "│            ┆           ┆         ┆           ┆         ┆             ┆             ┆ f64         │\n",
       "╞════════════╪═══════════╪═════════╪═══════════╪═════════╪═════════════╪═════════════╪═════════════╡\n",
       "│ count      ┆ 85787     ┆ 85787.0 ┆ 85787     ┆ 85787   ┆ 85787       ┆ 85787       ┆ 85787.0     │\n",
       "│ null_count ┆ 0         ┆ 0.0     ┆ 0         ┆ 0       ┆ 0           ┆ 0           ┆ 0.0         │\n",
       "│ mean       ┆ null      ┆ null    ┆ null      ┆ null    ┆ null        ┆ null        ┆ 623.343358  │\n",
       "│ std        ┆ null      ┆ null    ┆ null      ┆ null    ┆ null        ┆ null        ┆ 3474.963701 │\n",
       "│ min        ┆ C_1025064 ┆ null    ┆ V_1000000 ┆ 0       ┆ \"chinese    ┆ 0001603F826 ┆ 1.12        │\n",
       "│            ┆           ┆         ┆           ┆         ┆ style\"      ┆ A3DDA9C33DC ┆             │\n",
       "│            ┆           ┆         ┆           ┆         ┆ clothing    ┆ 59013074…   ┆             │\n",
       "│            ┆           ┆         ┆           ┆         ┆ and c…      ┆             ┆             │\n",
       "│ 25%        ┆ null      ┆ null    ┆ null      ┆ null    ┆ null        ┆ null        ┆ 346.174     │\n",
       "│ 50%        ┆ null      ┆ null    ┆ null      ┆ null    ┆ null        ┆ null        ┆ 528.4       │\n",
       "│ 75%        ┆ null      ┆ null    ┆ null      ┆ null    ┆ null        ┆ null        ┆ 751.426     │\n",
       "│ max        ┆ C_956129  ┆ null    ┆ V_999997  ┆ 9.9.9   ┆ “past and   ┆ FFFF3CC4C6F ┆ 359999.0    │\n",
       "│            ┆           ┆         ┆           ┆         ┆ present” of ┆ 66F849C33DC ┆             │\n",
       "│            ┆           ┆         ┆           ┆         ┆ urban de…   ┆ 59013074…   ┆             │\n",
       "└────────────┴───────────┴─────────┴───────────┴─────────┴─────────────┴─────────────┴─────────────┘"
      ]
     },
     "metadata": {},
     "output_type": "display_data"
    }
   ],
   "source": [
    "display(video.describe())\n",
    "display(course_video.describe())"
   ]
  },
  {
   "cell_type": "code",
   "execution_count": 29,
   "id": "d7d4641b",
   "metadata": {
    "execution": {
     "iopub.execute_input": "2025-06-08T06:41:32.544749Z",
     "iopub.status.busy": "2025-06-08T06:41:32.544389Z",
     "iopub.status.idle": "2025-06-08T06:41:32.551725Z",
     "shell.execute_reply": "2025-06-08T06:41:32.550720Z"
    },
    "papermill": {
     "duration": 0.019386,
     "end_time": "2025-06-08T06:41:32.553491",
     "exception": false,
     "start_time": "2025-06-08T06:41:32.534105",
     "status": "completed"
    },
    "tags": []
   },
   "outputs": [
    {
     "data": {
      "text/html": [
       "<div><style>\n",
       ".dataframe > thead > tr,\n",
       ".dataframe > tbody > tr {\n",
       "  text-align: right;\n",
       "  white-space: pre-wrap;\n",
       "}\n",
       "</style>\n",
       "<small>shape: (5, 7)</small><table border=\"1\" class=\"dataframe\"><thead><tr><th>course_id</th><th>titles</th><th>video_id</th><th>chapter</th><th>name_trans</th><th>ccid</th><th>video_duration</th></tr><tr><td>str</td><td>list[str]</td><td>str</td><td>str</td><td>str</td><td>str</td><td>f64</td></tr></thead><tbody><tr><td>&quot;C_677105&quot;</td><td>[&quot;第四章：可程控仪器标准命令&quot;, &quot;4.1：SCPI的目标及主要内容&quot;, &quot;Video&quot;]</td><td>&quot;V_93474&quot;</td><td>&quot;4.1.3&quot;</td><td>&quot;test system integration techno…</td><td>&quot;0001603F826A3DDA9C33DC59013074…</td><td>509.095</td></tr><tr><td>&quot;C_696877&quot;</td><td>[&quot;第五章 一维系统辐射传递一般近似解&quot;, &quot;第1节 一般近似解的意义&quot;, &quot;Video&quot;]</td><td>&quot;V_472954&quot;</td><td>&quot;5.1.1&quot;</td><td>&quot;dielectric radiation heat tran…</td><td>&quot;0003DB14A14A53279C33DC59013074…</td><td>367.336</td></tr><tr><td>&quot;C_696659&quot;</td><td>[&quot;第十四章 家禽的解剖特征&quot;, &quot;第二节 消化系统&quot;, &quot;家禽的消化系统&quot;]</td><td>&quot;V_448757&quot;</td><td>&quot;13.2&quot;</td><td>&quot;animal anatomy&quot;</td><td>&quot;0004A5C6F07E369D9C33DC59013074…</td><td>492.315</td></tr><tr><td>&quot;C_1784725&quot;</td><td>[&quot;Chapter 14 The Anatomical Characteristics Of Avian&quot;, &quot;Section 2  Digestive System&quot;, &quot;Digestive System of Avian-Video&quot;]</td><td>&quot;V_5080653&quot;</td><td>&quot;13.2&quot;</td><td>&quot;animal anatomy&quot;</td><td>&quot;0004A5C6F07E369D9C33DC59013074…</td><td>492.315</td></tr><tr><td>&quot;C_697721&quot;</td><td>[&quot;1 计算机操作系统概述&quot;, &quot;1.2 计算机硬件系统&quot;, &quot;1.2 计算机硬件系统&quot;]</td><td>&quot;V_555489&quot;</td><td>&quot;1.2.1&quot;</td><td>&quot;computer operating system&quot;</td><td>&quot;00059EBD1371A6959C33DC59013074…</td><td>630.757</td></tr></tbody></table></div>"
      ],
      "text/plain": [
       "shape: (5, 7)\n",
       "┌───────────┬────────────────┬───────────┬─────────┬───────────────┬───────────────┬───────────────┐\n",
       "│ course_id ┆ titles         ┆ video_id  ┆ chapter ┆ name_trans    ┆ ccid          ┆ video_duratio │\n",
       "│ ---       ┆ ---            ┆ ---       ┆ ---     ┆ ---           ┆ ---           ┆ n             │\n",
       "│ str       ┆ list[str]      ┆ str       ┆ str     ┆ str           ┆ str           ┆ ---           │\n",
       "│           ┆                ┆           ┆         ┆               ┆               ┆ f64           │\n",
       "╞═══════════╪════════════════╪═══════════╪═════════╪═══════════════╪═══════════════╪═══════════════╡\n",
       "│ C_677105  ┆ [\"第四章：可程 ┆ V_93474   ┆ 4.1.3   ┆ test system   ┆ 0001603F826A3 ┆ 509.095       │\n",
       "│           ┆ 控仪器标准命令 ┆           ┆         ┆ integration   ┆ DDA9C33DC5901 ┆               │\n",
       "│           ┆ \", \"4.1：SCPI  ┆           ┆         ┆ techno…       ┆ 3074…         ┆               │\n",
       "│           ┆ 的目标…        ┆           ┆         ┆               ┆               ┆               │\n",
       "│ C_696877  ┆ [\"第五章 一维  ┆ V_472954  ┆ 5.1.1   ┆ dielectric    ┆ 0003DB14A14A5 ┆ 367.336       │\n",
       "│           ┆ 系统辐射传递一 ┆           ┆         ┆ radiation     ┆ 3279C33DC5901 ┆               │\n",
       "│           ┆ 般近似解\",     ┆           ┆         ┆ heat tran…    ┆ 3074…         ┆               │\n",
       "│           ┆ \"第1节 一般近… ┆           ┆         ┆               ┆               ┆               │\n",
       "│ C_696659  ┆ [\"第十四章 家  ┆ V_448757  ┆ 13.2    ┆ animal        ┆ 0004A5C6F07E3 ┆ 492.315       │\n",
       "│           ┆ 禽的解剖特征\", ┆           ┆         ┆ anatomy       ┆ 69D9C33DC5901 ┆               │\n",
       "│           ┆ \"第二节        ┆           ┆         ┆               ┆ 3074…         ┆               │\n",
       "│           ┆ 消化系统\", \"…  ┆           ┆         ┆               ┆               ┆               │\n",
       "│ C_1784725 ┆ [\"Chapter 14   ┆ V_5080653 ┆ 13.2    ┆ animal        ┆ 0004A5C6F07E3 ┆ 492.315       │\n",
       "│           ┆ The Anatomical ┆           ┆         ┆ anatomy       ┆ 69D9C33DC5901 ┆               │\n",
       "│           ┆ Ch…            ┆           ┆         ┆               ┆ 3074…         ┆               │\n",
       "│ C_697721  ┆ [\"1 计算机操作 ┆ V_555489  ┆ 1.2.1   ┆ computer      ┆ 00059EBD1371A ┆ 630.757       │\n",
       "│           ┆ 系统概述\",     ┆           ┆         ┆ operating     ┆ 6959C33DC5901 ┆               │\n",
       "│           ┆ \"1.2 计算机硬  ┆           ┆         ┆ system        ┆ 3074…         ┆               │\n",
       "│           ┆ 件系统\",…      ┆           ┆         ┆               ┆               ┆               │\n",
       "└───────────┴────────────────┴───────────┴─────────┴───────────────┴───────────────┴───────────────┘"
      ]
     },
     "execution_count": 29,
     "metadata": {},
     "output_type": "execute_result"
    }
   ],
   "source": [
    "course_video.head()"
   ]
  },
  {
   "cell_type": "code",
   "execution_count": 30,
   "id": "b37aaf36",
   "metadata": {
    "execution": {
     "iopub.execute_input": "2025-06-08T06:41:32.574757Z",
     "iopub.status.busy": "2025-06-08T06:41:32.574400Z",
     "iopub.status.idle": "2025-06-08T06:41:33.273875Z",
     "shell.execute_reply": "2025-06-08T06:41:33.272608Z"
    },
    "papermill": {
     "duration": 0.712723,
     "end_time": "2025-06-08T06:41:33.276210",
     "exception": false,
     "start_time": "2025-06-08T06:41:32.563487",
     "status": "completed"
    },
    "tags": []
   },
   "outputs": [],
   "source": [
    "course_video = course_video[['course_id','video_id']]\n",
    "user_video.write_csv(\"user_video.csv\")\n",
    "course_video.write_csv(\"course_video.csv\")\n",
    "video.write_csv(\"video.csv\")"
   ]
  }
 ],
 "metadata": {
  "kaggle": {
   "accelerator": "none",
   "dataSources": [
    {
     "datasetId": 6626668,
     "sourceId": 10694353,
     "sourceType": "datasetVersion"
    },
    {
     "datasetId": 6626446,
     "sourceId": 10719224,
     "sourceType": "datasetVersion"
    },
    {
     "sourceId": 226720178,
     "sourceType": "kernelVersion"
    }
   ],
   "dockerImageVersionId": 30918,
   "isGpuEnabled": false,
   "isInternetEnabled": true,
   "language": "python",
   "sourceType": "notebook"
  },
  "kernelspec": {
   "display_name": "Python 3",
   "language": "python",
   "name": "python3"
  },
  "language_info": {
   "codemirror_mode": {
    "name": "ipython",
    "version": 3
   },
   "file_extension": ".py",
   "mimetype": "text/x-python",
   "name": "python",
   "nbconvert_exporter": "python",
   "pygments_lexer": "ipython3",
   "version": "3.10.12"
  },
  "papermill": {
   "default_parameters": {},
   "duration": 207.293066,
   "end_time": "2025-06-08T06:41:34.712278",
   "environment_variables": {},
   "exception": null,
   "input_path": "__notebook__.ipynb",
   "output_path": "__notebook__.ipynb",
   "parameters": {},
   "start_time": "2025-06-08T06:38:07.419212",
   "version": "2.6.0"
  }
 },
 "nbformat": 4,
 "nbformat_minor": 5
}
